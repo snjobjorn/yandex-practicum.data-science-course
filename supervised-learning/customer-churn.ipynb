{
 "cells": [
  {
   "cell_type": "markdown",
   "metadata": {
    "toc": true
   },
   "source": [
    "<h1>Содержание<span class=\"tocSkip\"></span></h1>\n",
    "<div class=\"toc\"><ul class=\"toc-item\"><li><ul class=\"toc-item\"><li><span><a href=\"#Общее-впечатление\" data-toc-modified-id=\"Общее-впечатление-0.1\"><span class=\"toc-item-num\">0.1&nbsp;&nbsp;</span><font color=\"orange\">Общее впечатление</font></a></span></li><li><span><a href=\"#Общее-впечатление-(ревью-2)\" data-toc-modified-id=\"Общее-впечатление-(ревью-2)-0.2\"><span class=\"toc-item-num\">0.2&nbsp;&nbsp;</span><font color=\"orange\">Общее впечатление (ревью 2)</font></a></span></li><li><span><a href=\"#Общее-впечатление-(ревью-3)\" data-toc-modified-id=\"Общее-впечатление-(ревью-3)-0.3\"><span class=\"toc-item-num\">0.3&nbsp;&nbsp;</span><font color=\"orange\">Общее впечатление (ревью 3)</font></a></span></li></ul></li><li><span><a href=\"#Подготовка-данных\" data-toc-modified-id=\"Подготовка-данных-1\"><span class=\"toc-item-num\">1&nbsp;&nbsp;</span>Подготовка данных</a></span></li><li><span><a href=\"#Исследование-задачи\" data-toc-modified-id=\"Исследование-задачи-2\"><span class=\"toc-item-num\">2&nbsp;&nbsp;</span>Исследование задачи</a></span><ul class=\"toc-item\"><li><span><a href=\"#LogisticRegression\" data-toc-modified-id=\"LogisticRegression-2.1\"><span class=\"toc-item-num\">2.1&nbsp;&nbsp;</span>LogisticRegression</a></span></li><li><span><a href=\"#RandomForestClassifier\" data-toc-modified-id=\"RandomForestClassifier-2.2\"><span class=\"toc-item-num\">2.2&nbsp;&nbsp;</span>RandomForestClassifier</a></span></li></ul></li><li><span><a href=\"#Борьба-с-дисбалансом\" data-toc-modified-id=\"Борьба-с-дисбалансом-3\"><span class=\"toc-item-num\">3&nbsp;&nbsp;</span>Борьба с дисбалансом</a></span></li><li><span><a href=\"#Тестирование-модели\" data-toc-modified-id=\"Тестирование-модели-4\"><span class=\"toc-item-num\">4&nbsp;&nbsp;</span>Тестирование модели</a></span></li><li><span><a href=\"#Чек-лист-готовности-проекта\" data-toc-modified-id=\"Чек-лист-готовности-проекта-5\"><span class=\"toc-item-num\">5&nbsp;&nbsp;</span>Чек-лист готовности проекта</a></span></li></ul></div>"
   ]
  },
  {
   "cell_type": "markdown",
   "metadata": {},
   "source": [
    "# Отток клиентов"
   ]
  },
  {
   "cell_type": "markdown",
   "metadata": {},
   "source": [
    "Из «Бета-Банка» стали уходить клиенты. Каждый месяц. Немного, но заметно. Банковские маркетологи посчитали: сохранять текущих клиентов дешевле, чем привлекать новых.\n",
    "\n",
    "Нужно спрогнозировать, уйдёт клиент из банка в ближайшее время или нет. Вам предоставлены исторические данные о поведении клиентов и расторжении договоров с банком. \n",
    "\n",
    "Постройте модель с предельно большим значением *F1*-меры. Чтобы сдать проект успешно, нужно довести метрику до 0.59. Проверьте *F1*-меру на тестовой выборке самостоятельно.\n",
    "\n",
    "Дополнительно измеряйте *AUC-ROC*, сравнивайте её значение с *F1*-мерой.\n",
    "\n",
    "Источник данных: [https://www.kaggle.com/barelydedicated/bank-customer-churn-modeling](https://www.kaggle.com/barelydedicated/bank-customer-churn-modeling)"
   ]
  },
  {
   "cell_type": "code",
   "execution_count": 1,
   "metadata": {},
   "outputs": [],
   "source": [
    "import numpy as np\n",
    "import pandas as pd\n",
    "import matplotlib.pyplot as plt\n",
    "\n",
    "from sklearn.tree import DecisionTreeRegressor\n",
    "from sklearn.ensemble import RandomForestRegressor\n",
    "from sklearn.ensemble import RandomForestClassifier\n",
    "from sklearn.linear_model import LogisticRegression\n",
    "from sklearn.metrics import confusion_matrix\n",
    "from sklearn.utils import shuffle\n",
    "\n",
    "from sklearn.metrics import recall_score\n",
    "from sklearn.metrics import precision_score\n",
    "from sklearn.metrics import f1_score\n",
    "from sklearn.metrics import roc_auc_score, roc_curve\n",
    "\n",
    "from sklearn.model_selection import train_test_split\n",
    "from sklearn.preprocessing import StandardScaler"
   ]
  },
  {
   "cell_type": "markdown",
   "metadata": {},
   "source": [
    "## Подготовка данных"
   ]
  },
  {
   "cell_type": "code",
   "execution_count": 2,
   "metadata": {},
   "outputs": [],
   "source": [
    "df = pd.read_csv('/datasets/Churn.csv')"
   ]
  },
  {
   "cell_type": "code",
   "execution_count": 3,
   "metadata": {
    "scrolled": true
   },
   "outputs": [
    {
     "data": {
      "text/html": [
       "<div>\n",
       "<style scoped>\n",
       "    .dataframe tbody tr th:only-of-type {\n",
       "        vertical-align: middle;\n",
       "    }\n",
       "\n",
       "    .dataframe tbody tr th {\n",
       "        vertical-align: top;\n",
       "    }\n",
       "\n",
       "    .dataframe thead th {\n",
       "        text-align: right;\n",
       "    }\n",
       "</style>\n",
       "<table border=\"1\" class=\"dataframe\">\n",
       "  <thead>\n",
       "    <tr style=\"text-align: right;\">\n",
       "      <th></th>\n",
       "      <th>RowNumber</th>\n",
       "      <th>CustomerId</th>\n",
       "      <th>Surname</th>\n",
       "      <th>CreditScore</th>\n",
       "      <th>Geography</th>\n",
       "      <th>Gender</th>\n",
       "      <th>Age</th>\n",
       "      <th>Tenure</th>\n",
       "      <th>Balance</th>\n",
       "      <th>NumOfProducts</th>\n",
       "      <th>HasCrCard</th>\n",
       "      <th>IsActiveMember</th>\n",
       "      <th>EstimatedSalary</th>\n",
       "      <th>Exited</th>\n",
       "    </tr>\n",
       "  </thead>\n",
       "  <tbody>\n",
       "    <tr>\n",
       "      <td>0</td>\n",
       "      <td>1</td>\n",
       "      <td>15634602</td>\n",
       "      <td>Hargrave</td>\n",
       "      <td>619</td>\n",
       "      <td>France</td>\n",
       "      <td>Female</td>\n",
       "      <td>42</td>\n",
       "      <td>2.0</td>\n",
       "      <td>0.00</td>\n",
       "      <td>1</td>\n",
       "      <td>1</td>\n",
       "      <td>1</td>\n",
       "      <td>101348.88</td>\n",
       "      <td>1</td>\n",
       "    </tr>\n",
       "    <tr>\n",
       "      <td>1</td>\n",
       "      <td>2</td>\n",
       "      <td>15647311</td>\n",
       "      <td>Hill</td>\n",
       "      <td>608</td>\n",
       "      <td>Spain</td>\n",
       "      <td>Female</td>\n",
       "      <td>41</td>\n",
       "      <td>1.0</td>\n",
       "      <td>83807.86</td>\n",
       "      <td>1</td>\n",
       "      <td>0</td>\n",
       "      <td>1</td>\n",
       "      <td>112542.58</td>\n",
       "      <td>0</td>\n",
       "    </tr>\n",
       "    <tr>\n",
       "      <td>2</td>\n",
       "      <td>3</td>\n",
       "      <td>15619304</td>\n",
       "      <td>Onio</td>\n",
       "      <td>502</td>\n",
       "      <td>France</td>\n",
       "      <td>Female</td>\n",
       "      <td>42</td>\n",
       "      <td>8.0</td>\n",
       "      <td>159660.80</td>\n",
       "      <td>3</td>\n",
       "      <td>1</td>\n",
       "      <td>0</td>\n",
       "      <td>113931.57</td>\n",
       "      <td>1</td>\n",
       "    </tr>\n",
       "    <tr>\n",
       "      <td>3</td>\n",
       "      <td>4</td>\n",
       "      <td>15701354</td>\n",
       "      <td>Boni</td>\n",
       "      <td>699</td>\n",
       "      <td>France</td>\n",
       "      <td>Female</td>\n",
       "      <td>39</td>\n",
       "      <td>1.0</td>\n",
       "      <td>0.00</td>\n",
       "      <td>2</td>\n",
       "      <td>0</td>\n",
       "      <td>0</td>\n",
       "      <td>93826.63</td>\n",
       "      <td>0</td>\n",
       "    </tr>\n",
       "    <tr>\n",
       "      <td>4</td>\n",
       "      <td>5</td>\n",
       "      <td>15737888</td>\n",
       "      <td>Mitchell</td>\n",
       "      <td>850</td>\n",
       "      <td>Spain</td>\n",
       "      <td>Female</td>\n",
       "      <td>43</td>\n",
       "      <td>2.0</td>\n",
       "      <td>125510.82</td>\n",
       "      <td>1</td>\n",
       "      <td>1</td>\n",
       "      <td>1</td>\n",
       "      <td>79084.10</td>\n",
       "      <td>0</td>\n",
       "    </tr>\n",
       "  </tbody>\n",
       "</table>\n",
       "</div>"
      ],
      "text/plain": [
       "   RowNumber  CustomerId   Surname  CreditScore Geography  Gender  Age  \\\n",
       "0          1    15634602  Hargrave          619    France  Female   42   \n",
       "1          2    15647311      Hill          608     Spain  Female   41   \n",
       "2          3    15619304      Onio          502    France  Female   42   \n",
       "3          4    15701354      Boni          699    France  Female   39   \n",
       "4          5    15737888  Mitchell          850     Spain  Female   43   \n",
       "\n",
       "   Tenure    Balance  NumOfProducts  HasCrCard  IsActiveMember  \\\n",
       "0     2.0       0.00              1          1               1   \n",
       "1     1.0   83807.86              1          0               1   \n",
       "2     8.0  159660.80              3          1               0   \n",
       "3     1.0       0.00              2          0               0   \n",
       "4     2.0  125510.82              1          1               1   \n",
       "\n",
       "   EstimatedSalary  Exited  \n",
       "0        101348.88       1  \n",
       "1        112542.58       0  \n",
       "2        113931.57       1  \n",
       "3         93826.63       0  \n",
       "4         79084.10       0  "
      ]
     },
     "execution_count": 3,
     "metadata": {},
     "output_type": "execute_result"
    }
   ],
   "source": [
    "df.head()"
   ]
  },
  {
   "cell_type": "code",
   "execution_count": 4,
   "metadata": {},
   "outputs": [
    {
     "name": "stdout",
     "output_type": "stream",
     "text": [
      "<class 'pandas.core.frame.DataFrame'>\n",
      "RangeIndex: 10000 entries, 0 to 9999\n",
      "Data columns (total 14 columns):\n",
      "RowNumber          10000 non-null int64\n",
      "CustomerId         10000 non-null int64\n",
      "Surname            10000 non-null object\n",
      "CreditScore        10000 non-null int64\n",
      "Geography          10000 non-null object\n",
      "Gender             10000 non-null object\n",
      "Age                10000 non-null int64\n",
      "Tenure             9091 non-null float64\n",
      "Balance            10000 non-null float64\n",
      "NumOfProducts      10000 non-null int64\n",
      "HasCrCard          10000 non-null int64\n",
      "IsActiveMember     10000 non-null int64\n",
      "EstimatedSalary    10000 non-null float64\n",
      "Exited             10000 non-null int64\n",
      "dtypes: float64(3), int64(8), object(3)\n",
      "memory usage: 1.1+ MB\n"
     ]
    }
   ],
   "source": [
    "df.info()"
   ]
  },
  {
   "cell_type": "markdown",
   "metadata": {},
   "source": [
    "Есть пропуски в столбце 'Tenure', предлагаю убрать данные с пропусками, дабы не \"вставлять палки\" при обучении модели, или же заменить средним значением / медианой.\n",
    "\n",
    "Думаю второй вариант погуманнее.\n",
    "\n",
    "Также не помешало бы перевести значения данного столбца в формат int64."
   ]
  },
  {
   "cell_type": "code",
   "execution_count": 5,
   "metadata": {},
   "outputs": [
    {
     "name": "stdout",
     "output_type": "stream",
     "text": [
      "Медиана датасета по столбцу Tenure: 5.0\n",
      "Среднее датасета по столбцу Tenure: 4.997690023099769\n"
     ]
    }
   ],
   "source": [
    "print('Медиана датасета по столбцу Tenure:', df['Tenure'].median())\n",
    "print('Среднее датасета по столбцу Tenure:', df['Tenure'].mean())"
   ]
  },
  {
   "cell_type": "code",
   "execution_count": 6,
   "metadata": {},
   "outputs": [],
   "source": [
    "df['Tenure'] = df['Tenure'].fillna(df['Tenure'].median())\n",
    "df['Tenure'] = df['Tenure'].astype('int64')"
   ]
  },
  {
   "cell_type": "markdown",
   "metadata": {},
   "source": [
    "Переведем все столбцы, где есть тип данных float64 в int64."
   ]
  },
  {
   "cell_type": "code",
   "execution_count": 7,
   "metadata": {},
   "outputs": [],
   "source": [
    "df['RowNumber'] = df['RowNumber'].astype('int64')\n",
    "df['CustomerId'] = df['CustomerId'].astype('int64')\n",
    "df['CreditScore'] = df['CreditScore'].astype('int64')\n",
    "df['Age'] = df['Age'].astype('int64')\n",
    "df['NumOfProducts'] = df['NumOfProducts'].astype('int64')\n",
    "df['HasCrCard'] = df['HasCrCard'].astype('int64')\n",
    "df['IsActiveMember'] = df['IsActiveMember'].astype('int64')\n",
    "df['Exited'] = df['Exited'].astype('int64')"
   ]
  },
  {
   "cell_type": "markdown",
   "metadata": {},
   "source": [
    "Предобработка данных завершена!"
   ]
  },
  {
   "cell_type": "markdown",
   "metadata": {},
   "source": [
    "Какие столбики нам не нужны?\n",
    "\n",
    "Столбик с индексом, фамилия, местоположение, айди клиента...\n",
    "\n",
    "Какая разница как кого зовут и где находится, если есть остальные данные, на основе которых и надо обучать модель"
   ]
  },
  {
   "cell_type": "code",
   "execution_count": 8,
   "metadata": {},
   "outputs": [],
   "source": [
    "numeric = ['CreditScore', 'Gender', 'Age', 'Tenure', 'Balance', 'NumOfProducts', 'HasCrCard', 'IsActiveMember', 'EstimatedSalary']"
   ]
  },
  {
   "cell_type": "code",
   "execution_count": 9,
   "metadata": {
    "scrolled": true
   },
   "outputs": [
    {
     "data": {
      "text/html": [
       "<div>\n",
       "<style scoped>\n",
       "    .dataframe tbody tr th:only-of-type {\n",
       "        vertical-align: middle;\n",
       "    }\n",
       "\n",
       "    .dataframe tbody tr th {\n",
       "        vertical-align: top;\n",
       "    }\n",
       "\n",
       "    .dataframe thead th {\n",
       "        text-align: right;\n",
       "    }\n",
       "</style>\n",
       "<table border=\"1\" class=\"dataframe\">\n",
       "  <thead>\n",
       "    <tr style=\"text-align: right;\">\n",
       "      <th></th>\n",
       "      <th>RowNumber</th>\n",
       "      <th>CustomerId</th>\n",
       "      <th>Surname</th>\n",
       "      <th>CreditScore</th>\n",
       "      <th>Geography</th>\n",
       "      <th>Gender</th>\n",
       "      <th>Age</th>\n",
       "      <th>Tenure</th>\n",
       "      <th>Balance</th>\n",
       "      <th>NumOfProducts</th>\n",
       "      <th>HasCrCard</th>\n",
       "      <th>IsActiveMember</th>\n",
       "      <th>EstimatedSalary</th>\n",
       "      <th>Exited</th>\n",
       "    </tr>\n",
       "  </thead>\n",
       "  <tbody>\n",
       "    <tr>\n",
       "      <td>0</td>\n",
       "      <td>1</td>\n",
       "      <td>15634602</td>\n",
       "      <td>Hargrave</td>\n",
       "      <td>619</td>\n",
       "      <td>France</td>\n",
       "      <td>Female</td>\n",
       "      <td>42</td>\n",
       "      <td>2</td>\n",
       "      <td>0.00</td>\n",
       "      <td>1</td>\n",
       "      <td>1</td>\n",
       "      <td>1</td>\n",
       "      <td>101348.88</td>\n",
       "      <td>1</td>\n",
       "    </tr>\n",
       "    <tr>\n",
       "      <td>1</td>\n",
       "      <td>2</td>\n",
       "      <td>15647311</td>\n",
       "      <td>Hill</td>\n",
       "      <td>608</td>\n",
       "      <td>Spain</td>\n",
       "      <td>Female</td>\n",
       "      <td>41</td>\n",
       "      <td>1</td>\n",
       "      <td>83807.86</td>\n",
       "      <td>1</td>\n",
       "      <td>0</td>\n",
       "      <td>1</td>\n",
       "      <td>112542.58</td>\n",
       "      <td>0</td>\n",
       "    </tr>\n",
       "    <tr>\n",
       "      <td>2</td>\n",
       "      <td>3</td>\n",
       "      <td>15619304</td>\n",
       "      <td>Onio</td>\n",
       "      <td>502</td>\n",
       "      <td>France</td>\n",
       "      <td>Female</td>\n",
       "      <td>42</td>\n",
       "      <td>8</td>\n",
       "      <td>159660.80</td>\n",
       "      <td>3</td>\n",
       "      <td>1</td>\n",
       "      <td>0</td>\n",
       "      <td>113931.57</td>\n",
       "      <td>1</td>\n",
       "    </tr>\n",
       "    <tr>\n",
       "      <td>3</td>\n",
       "      <td>4</td>\n",
       "      <td>15701354</td>\n",
       "      <td>Boni</td>\n",
       "      <td>699</td>\n",
       "      <td>France</td>\n",
       "      <td>Female</td>\n",
       "      <td>39</td>\n",
       "      <td>1</td>\n",
       "      <td>0.00</td>\n",
       "      <td>2</td>\n",
       "      <td>0</td>\n",
       "      <td>0</td>\n",
       "      <td>93826.63</td>\n",
       "      <td>0</td>\n",
       "    </tr>\n",
       "    <tr>\n",
       "      <td>4</td>\n",
       "      <td>5</td>\n",
       "      <td>15737888</td>\n",
       "      <td>Mitchell</td>\n",
       "      <td>850</td>\n",
       "      <td>Spain</td>\n",
       "      <td>Female</td>\n",
       "      <td>43</td>\n",
       "      <td>2</td>\n",
       "      <td>125510.82</td>\n",
       "      <td>1</td>\n",
       "      <td>1</td>\n",
       "      <td>1</td>\n",
       "      <td>79084.10</td>\n",
       "      <td>0</td>\n",
       "    </tr>\n",
       "  </tbody>\n",
       "</table>\n",
       "</div>"
      ],
      "text/plain": [
       "   RowNumber  CustomerId   Surname  CreditScore Geography  Gender  Age  \\\n",
       "0          1    15634602  Hargrave          619    France  Female   42   \n",
       "1          2    15647311      Hill          608     Spain  Female   41   \n",
       "2          3    15619304      Onio          502    France  Female   42   \n",
       "3          4    15701354      Boni          699    France  Female   39   \n",
       "4          5    15737888  Mitchell          850     Spain  Female   43   \n",
       "\n",
       "   Tenure    Balance  NumOfProducts  HasCrCard  IsActiveMember  \\\n",
       "0       2       0.00              1          1               1   \n",
       "1       1   83807.86              1          0               1   \n",
       "2       8  159660.80              3          1               0   \n",
       "3       1       0.00              2          0               0   \n",
       "4       2  125510.82              1          1               1   \n",
       "\n",
       "   EstimatedSalary  Exited  \n",
       "0        101348.88       1  \n",
       "1        112542.58       0  \n",
       "2        113931.57       1  \n",
       "3         93826.63       0  \n",
       "4         79084.10       0  "
      ]
     },
     "execution_count": 9,
     "metadata": {},
     "output_type": "execute_result"
    }
   ],
   "source": [
    "df.head()"
   ]
  },
  {
   "cell_type": "markdown",
   "metadata": {},
   "source": [
    "Gender надо перевести в численный вид, используем метод прямого кодирования."
   ]
  },
  {
   "cell_type": "code",
   "execution_count": 10,
   "metadata": {
    "scrolled": true
   },
   "outputs": [],
   "source": [
    "df['Gender'] = pd.get_dummies(df['Gender'], drop_first=True)"
   ]
  },
  {
   "cell_type": "code",
   "execution_count": 11,
   "metadata": {
    "scrolled": true
   },
   "outputs": [
    {
     "data": {
      "text/html": [
       "<div>\n",
       "<style scoped>\n",
       "    .dataframe tbody tr th:only-of-type {\n",
       "        vertical-align: middle;\n",
       "    }\n",
       "\n",
       "    .dataframe tbody tr th {\n",
       "        vertical-align: top;\n",
       "    }\n",
       "\n",
       "    .dataframe thead th {\n",
       "        text-align: right;\n",
       "    }\n",
       "</style>\n",
       "<table border=\"1\" class=\"dataframe\">\n",
       "  <thead>\n",
       "    <tr style=\"text-align: right;\">\n",
       "      <th></th>\n",
       "      <th>RowNumber</th>\n",
       "      <th>CustomerId</th>\n",
       "      <th>Surname</th>\n",
       "      <th>CreditScore</th>\n",
       "      <th>Geography</th>\n",
       "      <th>Gender</th>\n",
       "      <th>Age</th>\n",
       "      <th>Tenure</th>\n",
       "      <th>Balance</th>\n",
       "      <th>NumOfProducts</th>\n",
       "      <th>HasCrCard</th>\n",
       "      <th>IsActiveMember</th>\n",
       "      <th>EstimatedSalary</th>\n",
       "      <th>Exited</th>\n",
       "    </tr>\n",
       "  </thead>\n",
       "  <tbody>\n",
       "    <tr>\n",
       "      <td>0</td>\n",
       "      <td>1</td>\n",
       "      <td>15634602</td>\n",
       "      <td>Hargrave</td>\n",
       "      <td>619</td>\n",
       "      <td>France</td>\n",
       "      <td>0</td>\n",
       "      <td>42</td>\n",
       "      <td>2</td>\n",
       "      <td>0.00</td>\n",
       "      <td>1</td>\n",
       "      <td>1</td>\n",
       "      <td>1</td>\n",
       "      <td>101348.88</td>\n",
       "      <td>1</td>\n",
       "    </tr>\n",
       "    <tr>\n",
       "      <td>1</td>\n",
       "      <td>2</td>\n",
       "      <td>15647311</td>\n",
       "      <td>Hill</td>\n",
       "      <td>608</td>\n",
       "      <td>Spain</td>\n",
       "      <td>0</td>\n",
       "      <td>41</td>\n",
       "      <td>1</td>\n",
       "      <td>83807.86</td>\n",
       "      <td>1</td>\n",
       "      <td>0</td>\n",
       "      <td>1</td>\n",
       "      <td>112542.58</td>\n",
       "      <td>0</td>\n",
       "    </tr>\n",
       "    <tr>\n",
       "      <td>2</td>\n",
       "      <td>3</td>\n",
       "      <td>15619304</td>\n",
       "      <td>Onio</td>\n",
       "      <td>502</td>\n",
       "      <td>France</td>\n",
       "      <td>0</td>\n",
       "      <td>42</td>\n",
       "      <td>8</td>\n",
       "      <td>159660.80</td>\n",
       "      <td>3</td>\n",
       "      <td>1</td>\n",
       "      <td>0</td>\n",
       "      <td>113931.57</td>\n",
       "      <td>1</td>\n",
       "    </tr>\n",
       "    <tr>\n",
       "      <td>3</td>\n",
       "      <td>4</td>\n",
       "      <td>15701354</td>\n",
       "      <td>Boni</td>\n",
       "      <td>699</td>\n",
       "      <td>France</td>\n",
       "      <td>0</td>\n",
       "      <td>39</td>\n",
       "      <td>1</td>\n",
       "      <td>0.00</td>\n",
       "      <td>2</td>\n",
       "      <td>0</td>\n",
       "      <td>0</td>\n",
       "      <td>93826.63</td>\n",
       "      <td>0</td>\n",
       "    </tr>\n",
       "    <tr>\n",
       "      <td>4</td>\n",
       "      <td>5</td>\n",
       "      <td>15737888</td>\n",
       "      <td>Mitchell</td>\n",
       "      <td>850</td>\n",
       "      <td>Spain</td>\n",
       "      <td>0</td>\n",
       "      <td>43</td>\n",
       "      <td>2</td>\n",
       "      <td>125510.82</td>\n",
       "      <td>1</td>\n",
       "      <td>1</td>\n",
       "      <td>1</td>\n",
       "      <td>79084.10</td>\n",
       "      <td>0</td>\n",
       "    </tr>\n",
       "    <tr>\n",
       "      <td>...</td>\n",
       "      <td>...</td>\n",
       "      <td>...</td>\n",
       "      <td>...</td>\n",
       "      <td>...</td>\n",
       "      <td>...</td>\n",
       "      <td>...</td>\n",
       "      <td>...</td>\n",
       "      <td>...</td>\n",
       "      <td>...</td>\n",
       "      <td>...</td>\n",
       "      <td>...</td>\n",
       "      <td>...</td>\n",
       "      <td>...</td>\n",
       "      <td>...</td>\n",
       "    </tr>\n",
       "    <tr>\n",
       "      <td>9995</td>\n",
       "      <td>9996</td>\n",
       "      <td>15606229</td>\n",
       "      <td>Obijiaku</td>\n",
       "      <td>771</td>\n",
       "      <td>France</td>\n",
       "      <td>1</td>\n",
       "      <td>39</td>\n",
       "      <td>5</td>\n",
       "      <td>0.00</td>\n",
       "      <td>2</td>\n",
       "      <td>1</td>\n",
       "      <td>0</td>\n",
       "      <td>96270.64</td>\n",
       "      <td>0</td>\n",
       "    </tr>\n",
       "    <tr>\n",
       "      <td>9996</td>\n",
       "      <td>9997</td>\n",
       "      <td>15569892</td>\n",
       "      <td>Johnstone</td>\n",
       "      <td>516</td>\n",
       "      <td>France</td>\n",
       "      <td>1</td>\n",
       "      <td>35</td>\n",
       "      <td>10</td>\n",
       "      <td>57369.61</td>\n",
       "      <td>1</td>\n",
       "      <td>1</td>\n",
       "      <td>1</td>\n",
       "      <td>101699.77</td>\n",
       "      <td>0</td>\n",
       "    </tr>\n",
       "    <tr>\n",
       "      <td>9997</td>\n",
       "      <td>9998</td>\n",
       "      <td>15584532</td>\n",
       "      <td>Liu</td>\n",
       "      <td>709</td>\n",
       "      <td>France</td>\n",
       "      <td>0</td>\n",
       "      <td>36</td>\n",
       "      <td>7</td>\n",
       "      <td>0.00</td>\n",
       "      <td>1</td>\n",
       "      <td>0</td>\n",
       "      <td>1</td>\n",
       "      <td>42085.58</td>\n",
       "      <td>1</td>\n",
       "    </tr>\n",
       "    <tr>\n",
       "      <td>9998</td>\n",
       "      <td>9999</td>\n",
       "      <td>15682355</td>\n",
       "      <td>Sabbatini</td>\n",
       "      <td>772</td>\n",
       "      <td>Germany</td>\n",
       "      <td>1</td>\n",
       "      <td>42</td>\n",
       "      <td>3</td>\n",
       "      <td>75075.31</td>\n",
       "      <td>2</td>\n",
       "      <td>1</td>\n",
       "      <td>0</td>\n",
       "      <td>92888.52</td>\n",
       "      <td>1</td>\n",
       "    </tr>\n",
       "    <tr>\n",
       "      <td>9999</td>\n",
       "      <td>10000</td>\n",
       "      <td>15628319</td>\n",
       "      <td>Walker</td>\n",
       "      <td>792</td>\n",
       "      <td>France</td>\n",
       "      <td>0</td>\n",
       "      <td>28</td>\n",
       "      <td>5</td>\n",
       "      <td>130142.79</td>\n",
       "      <td>1</td>\n",
       "      <td>1</td>\n",
       "      <td>0</td>\n",
       "      <td>38190.78</td>\n",
       "      <td>0</td>\n",
       "    </tr>\n",
       "  </tbody>\n",
       "</table>\n",
       "<p>10000 rows × 14 columns</p>\n",
       "</div>"
      ],
      "text/plain": [
       "      RowNumber  CustomerId    Surname  CreditScore Geography  Gender  Age  \\\n",
       "0             1    15634602   Hargrave          619    France       0   42   \n",
       "1             2    15647311       Hill          608     Spain       0   41   \n",
       "2             3    15619304       Onio          502    France       0   42   \n",
       "3             4    15701354       Boni          699    France       0   39   \n",
       "4             5    15737888   Mitchell          850     Spain       0   43   \n",
       "...         ...         ...        ...          ...       ...     ...  ...   \n",
       "9995       9996    15606229   Obijiaku          771    France       1   39   \n",
       "9996       9997    15569892  Johnstone          516    France       1   35   \n",
       "9997       9998    15584532        Liu          709    France       0   36   \n",
       "9998       9999    15682355  Sabbatini          772   Germany       1   42   \n",
       "9999      10000    15628319     Walker          792    France       0   28   \n",
       "\n",
       "      Tenure    Balance  NumOfProducts  HasCrCard  IsActiveMember  \\\n",
       "0          2       0.00              1          1               1   \n",
       "1          1   83807.86              1          0               1   \n",
       "2          8  159660.80              3          1               0   \n",
       "3          1       0.00              2          0               0   \n",
       "4          2  125510.82              1          1               1   \n",
       "...      ...        ...            ...        ...             ...   \n",
       "9995       5       0.00              2          1               0   \n",
       "9996      10   57369.61              1          1               1   \n",
       "9997       7       0.00              1          0               1   \n",
       "9998       3   75075.31              2          1               0   \n",
       "9999       5  130142.79              1          1               0   \n",
       "\n",
       "      EstimatedSalary  Exited  \n",
       "0           101348.88       1  \n",
       "1           112542.58       0  \n",
       "2           113931.57       1  \n",
       "3            93826.63       0  \n",
       "4            79084.10       0  \n",
       "...               ...     ...  \n",
       "9995         96270.64       0  \n",
       "9996        101699.77       0  \n",
       "9997         42085.58       1  \n",
       "9998         92888.52       1  \n",
       "9999         38190.78       0  \n",
       "\n",
       "[10000 rows x 14 columns]"
      ]
     },
     "execution_count": 11,
     "metadata": {},
     "output_type": "execute_result"
    }
   ],
   "source": [
    "df"
   ]
  },
  {
   "cell_type": "markdown",
   "metadata": {},
   "source": [
    "Теперь у нас столбик с Gender количественное значение (male - 1, female - 0)\n",
    "\n",
    "Необходимо масштабирование признаков, дабы сделать так, чтобы все признаки были равнозначны.\n",
    "\n",
    "Так как мы уже удалили все неколичественные признаки, которые, по сути, нам не нужны, нет смысла создавать отдельно колонку numeric, ибо у нас все numeric."
   ]
  },
  {
   "cell_type": "code",
   "execution_count": 12,
   "metadata": {},
   "outputs": [],
   "source": [
    "df = df.drop(['CustomerId', 'Surname', 'RowNumber', 'Geography'], axis = 1)"
   ]
  },
  {
   "cell_type": "code",
   "execution_count": 13,
   "metadata": {},
   "outputs": [],
   "source": [
    "target = df['Exited']\n",
    "features = df.drop(['Exited'] , axis=1)\n",
    "features_train, features_temp, target_train, target_temp = train_test_split(features, target, test_size=0.5, random_state = 12345)\n",
    "features_valid, features_test, target_valid, target_test = train_test_split(features_temp, target_temp, test_size=0.5, random_state = 12345)"
   ]
  },
  {
   "cell_type": "code",
   "execution_count": 14,
   "metadata": {},
   "outputs": [
    {
     "name": "stderr",
     "output_type": "stream",
     "text": [
      "/opt/conda/lib/python3.7/site-packages/ipykernel_launcher.py:3: SettingWithCopyWarning: \n",
      "A value is trying to be set on a copy of a slice from a DataFrame.\n",
      "Try using .loc[row_indexer,col_indexer] = value instead\n",
      "\n",
      "See the caveats in the documentation: http://pandas.pydata.org/pandas-docs/stable/user_guide/indexing.html#returning-a-view-versus-a-copy\n",
      "  This is separate from the ipykernel package so we can avoid doing imports until\n",
      "/opt/conda/lib/python3.7/site-packages/pandas/core/indexing.py:494: SettingWithCopyWarning: \n",
      "A value is trying to be set on a copy of a slice from a DataFrame.\n",
      "Try using .loc[row_indexer,col_indexer] = value instead\n",
      "\n",
      "See the caveats in the documentation: http://pandas.pydata.org/pandas-docs/stable/user_guide/indexing.html#returning-a-view-versus-a-copy\n",
      "  self.obj[item] = s\n",
      "/opt/conda/lib/python3.7/site-packages/ipykernel_launcher.py:4: SettingWithCopyWarning: \n",
      "A value is trying to be set on a copy of a slice from a DataFrame.\n",
      "Try using .loc[row_indexer,col_indexer] = value instead\n",
      "\n",
      "See the caveats in the documentation: http://pandas.pydata.org/pandas-docs/stable/user_guide/indexing.html#returning-a-view-versus-a-copy\n",
      "  after removing the cwd from sys.path.\n",
      "/opt/conda/lib/python3.7/site-packages/pandas/core/indexing.py:494: SettingWithCopyWarning: \n",
      "A value is trying to be set on a copy of a slice from a DataFrame.\n",
      "Try using .loc[row_indexer,col_indexer] = value instead\n",
      "\n",
      "See the caveats in the documentation: http://pandas.pydata.org/pandas-docs/stable/user_guide/indexing.html#returning-a-view-versus-a-copy\n",
      "  self.obj[item] = s\n",
      "/opt/conda/lib/python3.7/site-packages/ipykernel_launcher.py:5: SettingWithCopyWarning: \n",
      "A value is trying to be set on a copy of a slice from a DataFrame.\n",
      "Try using .loc[row_indexer,col_indexer] = value instead\n",
      "\n",
      "See the caveats in the documentation: http://pandas.pydata.org/pandas-docs/stable/user_guide/indexing.html#returning-a-view-versus-a-copy\n",
      "  \"\"\"\n",
      "/opt/conda/lib/python3.7/site-packages/pandas/core/indexing.py:494: SettingWithCopyWarning: \n",
      "A value is trying to be set on a copy of a slice from a DataFrame.\n",
      "Try using .loc[row_indexer,col_indexer] = value instead\n",
      "\n",
      "See the caveats in the documentation: http://pandas.pydata.org/pandas-docs/stable/user_guide/indexing.html#returning-a-view-versus-a-copy\n",
      "  self.obj[item] = s\n"
     ]
    }
   ],
   "source": [
    "scaler = StandardScaler()\n",
    "\n",
    "features_train[numeric] = scaler.fit_transform(features_train[numeric])\n",
    "features_valid[numeric] = scaler.transform(features_valid[numeric])\n",
    "features_test[numeric] = scaler.transform(features_test[numeric])\n"
   ]
  },
  {
   "cell_type": "code",
   "execution_count": 15,
   "metadata": {},
   "outputs": [
    {
     "name": "stdout",
     "output_type": "stream",
     "text": [
      "(5000, 9)\n",
      "(2500, 9)\n",
      "(2500, 9)\n"
     ]
    }
   ],
   "source": [
    "print(features_train[numeric].shape)\n",
    "print(features_valid[numeric].shape)\n",
    "print(features_test[numeric].shape)"
   ]
  },
  {
   "cell_type": "markdown",
   "metadata": {},
   "source": [
    "Далее уже будем использовать масштабированный df"
   ]
  },
  {
   "cell_type": "markdown",
   "metadata": {},
   "source": [
    "## Исследование задачи"
   ]
  },
  {
   "cell_type": "markdown",
   "metadata": {},
   "source": [
    "### LogisticRegression"
   ]
  },
  {
   "cell_type": "markdown",
   "metadata": {},
   "source": [
    "Построим и исследуем матрицу ошибок на основе LogisticRegression\n",
    "\n"
   ]
  },
  {
   "cell_type": "code",
   "execution_count": 16,
   "metadata": {},
   "outputs": [
    {
     "name": "stdout",
     "output_type": "stream",
     "text": [
      "Матрица ошибок:\n",
      "[[1908   84]\n",
      " [ 416   92]]\n",
      "\n",
      "Полнота: 0.18110236220472442\n",
      "Точность: 0.5227272727272727\n",
      "F1 0.26900584795321636\n"
     ]
    }
   ],
   "source": [
    "model = LogisticRegression(random_state=12345, solver='liblinear')\n",
    "model.fit(features_train, target_train)\n",
    "predicted_valid = model.predict(features_valid)\n",
    "\n",
    "print('Матрица ошибок:')\n",
    "print(confusion_matrix(target_valid, predicted_valid))\n",
    "print()\n",
    "print('Полнота:', recall_score(target_valid, predicted_valid))\n",
    "print('Точность:', precision_score(target_valid, predicted_valid))\n",
    "print('F1', f1_score(target_valid, predicted_valid))"
   ]
  },
  {
   "cell_type": "code",
   "execution_count": 17,
   "metadata": {},
   "outputs": [
    {
     "name": "stdout",
     "output_type": "stream",
     "text": [
      "F1 после взвешивания классов: 0.45647703906785464\n"
     ]
    }
   ],
   "source": [
    "model = LogisticRegression(random_state=12345, solver='liblinear', class_weight='balanced')\n",
    "model.fit(features_train, target_train)\n",
    "predicted_valid = model.predict(features_valid)\n",
    "print(\"F1 после взвешивания классов:\", f1_score(target_valid, predicted_valid))"
   ]
  },
  {
   "cell_type": "code",
   "execution_count": 18,
   "metadata": {},
   "outputs": [
    {
     "name": "stdout",
     "output_type": "stream",
     "text": [
      "F1 лучшая после оптимизации выборки (увеличения): 0.45647703906785464\n"
     ]
    }
   ],
   "source": [
    "def upsample(features, target, repeat):\n",
    "    features_zeros = features[target == 0]\n",
    "    features_ones = features[target == 1]\n",
    "    target_zeros = target[target == 0]\n",
    "    target_ones = target[target == 1]\n",
    "\n",
    "    features_upsampled = pd.concat([features_zeros] + [features_ones] * repeat)\n",
    "    target_upsampled = pd.concat([target_zeros] + [target_ones] * repeat)\n",
    "    \n",
    "    features_upsampled, target_upsampled = shuffle(features_upsampled, target_upsampled, random_state=12345)\n",
    "    \n",
    "    return features_upsampled, target_upsampled\n",
    "\n",
    "k = 0\n",
    "for i in range(1, 40):\n",
    "    features_upsampled, target_upsampled = upsample(features_train, target_train, i)\n",
    "\n",
    "    model = LogisticRegression(solver='liblinear', random_state = 12345, class_weight='balanced')\n",
    "    model.fit(features_upsampled, target_upsampled)\n",
    "\n",
    "    predicted_valid = model.predict(features_valid)\n",
    "    \n",
    "    zxc = f1_score(target_valid, predicted_valid)\n",
    "    if k < zxc:\n",
    "        k = zxc\n",
    "\n",
    "\n",
    "print(\"F1 лучшая после оптимизации выборки (увеличения):\", k)"
   ]
  },
  {
   "cell_type": "code",
   "execution_count": 19,
   "metadata": {},
   "outputs": [
    {
     "name": "stdout",
     "output_type": "stream",
     "text": [
      "F1 лучшая после оптимизации выборки (уменьшения): 0.3965217391304347\n"
     ]
    }
   ],
   "source": [
    "def downsample(features, target, fraction):\n",
    "    features_zeros = features[target == 0]\n",
    "    features_ones = features[target == 1]\n",
    "    target_zeros = target[target == 0]\n",
    "    target_ones = target[target == 1]\n",
    "\n",
    "    features_downsampled = pd.concat(\n",
    "        [features_zeros.sample(frac=fraction, random_state=12345)] + [features_ones])\n",
    "    target_downsampled = pd.concat(\n",
    "        [target_zeros.sample(frac=fraction, random_state=12345)] + [target_ones])\n",
    "    \n",
    "    features_downsampled, target_downsampled = shuffle(\n",
    "        features_downsampled, target_downsampled, random_state=12345)\n",
    "    \n",
    "    return features_downsampled, target_downsampled\n",
    "\n",
    "features_downsampled, target_downsampled = downsample(features_train, target_train, 0.1)\n",
    "\n",
    "model = LogisticRegression(solver='liblinear', random_state = 12345)\n",
    "model.fit(features_downsampled, target_downsampled)\n",
    "predicted_valid = model.predict(features_valid)\n",
    "\n",
    "print(\"F1 лучшая после оптимизации выборки (уменьшения):\", f1_score(target_valid, predicted_valid))"
   ]
  },
  {
   "cell_type": "markdown",
   "metadata": {},
   "source": [
    "### RandomForestClassifier"
   ]
  },
  {
   "cell_type": "markdown",
   "metadata": {},
   "source": [
    "Построим и исследуем матрицу ошибок на основе RandomForestClassifier\n"
   ]
  },
  {
   "cell_type": "code",
   "execution_count": 20,
   "metadata": {},
   "outputs": [
    {
     "name": "stdout",
     "output_type": "stream",
     "text": [
      "Матрица ошибок:\n",
      "[[1906   86]\n",
      " [ 308  200]]\n",
      "\n",
      "Полнота: 0.3937007874015748\n",
      "Точность: 0.6993006993006993\n",
      "F1 0.5037783375314862\n"
     ]
    },
    {
     "name": "stderr",
     "output_type": "stream",
     "text": [
      "/opt/conda/lib/python3.7/site-packages/sklearn/ensemble/forest.py:245: FutureWarning: The default value of n_estimators will change from 10 in version 0.20 to 100 in 0.22.\n",
      "  \"10 in version 0.20 to 100 in 0.22.\", FutureWarning)\n"
     ]
    }
   ],
   "source": [
    "model = RandomForestClassifier(random_state=12345)\n",
    "model.fit(features_train, target_train)\n",
    "predicted_valid = model.predict(features_valid)\n",
    "\n",
    "print('Матрица ошибок:')\n",
    "print(confusion_matrix(target_valid, predicted_valid))\n",
    "print()\n",
    "print('Полнота:', recall_score(target_valid, predicted_valid))\n",
    "print('Точность:', precision_score(target_valid, predicted_valid))\n",
    "print('F1', f1_score(target_valid, predicted_valid))"
   ]
  },
  {
   "cell_type": "code",
   "execution_count": 21,
   "metadata": {
    "scrolled": true
   },
   "outputs": [
    {
     "name": "stderr",
     "output_type": "stream",
     "text": [
      "/opt/conda/lib/python3.7/site-packages/sklearn/ensemble/forest.py:245: FutureWarning: The default value of n_estimators will change from 10 in version 0.20 to 100 in 0.22.\n",
      "  \"10 in version 0.20 to 100 in 0.22.\", FutureWarning)\n"
     ]
    },
    {
     "name": "stdout",
     "output_type": "stream",
     "text": [
      "F1 после взвешивания классов: 0.49489795918367346\n"
     ]
    }
   ],
   "source": [
    "model = RandomForestClassifier(random_state=12345, class_weight='balanced')\n",
    "model.fit(features_train, target_train)\n",
    "predicted_valid = model.predict(features_valid)\n",
    "print(\"F1 после взвешивания классов:\", f1_score(target_valid, predicted_valid))"
   ]
  },
  {
   "cell_type": "markdown",
   "metadata": {},
   "source": [
    "Уточняем наиболее оптимальные параметры для данной модели... (с учетом оптимизации выборки)"
   ]
  },
  {
   "cell_type": "code",
   "execution_count": 22,
   "metadata": {},
   "outputs": [
    {
     "name": "stdout",
     "output_type": "stream",
     "text": [
      "Во сколько раз увеличение: 2\n",
      "Количество деревьев в лесу: 10\n",
      "Максимальная глубина дерева: 7\n",
      "F1 лучшая после оптимизации выборки (увеличения): 0.5831842576028622\n"
     ]
    }
   ],
   "source": [
    "def upsample(features, target, repeat):\n",
    "    features_zeros = features[target == 0]\n",
    "    features_ones = features[target == 1]\n",
    "    target_zeros = target[target == 0]\n",
    "    target_ones = target[target == 1]\n",
    "\n",
    "    features_upsampled = pd.concat([features_zeros] + [features_ones] * repeat)\n",
    "    target_upsampled = pd.concat([target_zeros] + [target_ones] * repeat)\n",
    "    \n",
    "    features_upsampled, target_upsampled = shuffle(features_upsampled, target_upsampled, random_state=12345)\n",
    "    \n",
    "    return features_upsampled, target_upsampled\n",
    "\n",
    "k = 0\n",
    "for krat in range(1, 11):\n",
    "    for kol in range(1, 11):\n",
    "        for glub in range(1, 11):\n",
    "            features_upsampled, target_upsampled = upsample(features_train, target_train, krat)\n",
    "\n",
    "            model = RandomForestClassifier(n_estimators = kol, max_depth = glub, random_state = 12345, class_weight='balanced')\n",
    "            model.fit(features_upsampled, target_upsampled)\n",
    "            predicted_valid = model.predict(features_valid)\n",
    "            zxc = f1_score(target_valid, predicted_valid)\n",
    "            if zxc > k:\n",
    "                kolich = kol\n",
    "                glubina = glub\n",
    "                kratnost = krat\n",
    "                k = zxc\n",
    "\n",
    "print('Во сколько раз увеличение:', kratnost)\n",
    "print('Количество деревьев в лесу:', kolich)\n",
    "print('Максимальная глубина дерева:', glubina)\n",
    "print(\"F1 лучшая после оптимизации выборки (увеличения):\", k)"
   ]
  },
  {
   "cell_type": "markdown",
   "metadata": {},
   "source": [
    "## Борьба с дисбалансом"
   ]
  },
  {
   "cell_type": "markdown",
   "metadata": {},
   "source": [
    "Для борьбы с дисбалансом мы использовали скаляризацию и параметр class_weight='balanced'."
   ]
  },
  {
   "cell_type": "markdown",
   "metadata": {},
   "source": [
    "## Тестирование модели"
   ]
  },
  {
   "cell_type": "markdown",
   "metadata": {},
   "source": [
    "Итого, так выглядит модель и такой результат F1..."
   ]
  },
  {
   "cell_type": "code",
   "execution_count": 23,
   "metadata": {},
   "outputs": [
    {
     "name": "stdout",
     "output_type": "stream",
     "text": [
      "F1 полученной модели: 0.6024518388791594\n"
     ]
    }
   ],
   "source": [
    "features_upsampled, target_upsampled = upsample(features_train, target_train, 4)\n",
    "model = RandomForestClassifier(n_estimators = 5, max_depth = 5, random_state = 12345, class_weight='balanced')\n",
    "model.fit(features_upsampled, target_upsampled)\n",
    "predicted_test = model.predict(features_test)\n",
    "print('F1 полученной модели:', f1_score(target_test, predicted_test))"
   ]
  },
  {
   "cell_type": "markdown",
   "metadata": {},
   "source": [
    "AUC-ROC"
   ]
  },
  {
   "cell_type": "code",
   "execution_count": 24,
   "metadata": {},
   "outputs": [
    {
     "name": "stdout",
     "output_type": "stream",
     "text": [
      "AUC-ROC 0.8454721773398435\n",
      "Метрика F1 0.6024518388791594\n"
     ]
    },
    {
     "data": {
      "image/png": "[encoded data removed]",
      "text/plain": [
       "<Figure size 432x288 with 1 Axes>"
      ]
     },
     "metadata": {
      "needs_background": "light"
     },
     "output_type": "display_data"
    }
   ],
   "source": [
    "probabilities_test = model.predict_proba(features_test)\n",
    "probabilities_one_test = probabilities_test[:, 1]\n",
    "fpr, tpr, thresholds = roc_curve(target_test, probabilities_one_test)\n",
    "\n",
    "print('AUC-ROC', roc_auc_score(target_test, probabilities_one_test))\n",
    "print('Метрика F1', f1_score(target_test, predicted_test))\n",
    "\n",
    "plt.figure()\n",
    "plt.plot(fpr, tpr)\n",
    "plt.plot([0, 1], [0, 1], linestyle = '--')\n",
    "plt.xlim([0.0, 1.0])\n",
    "plt.ylim([0.0, 1.0])\n",
    "plt.xlabel('False Positive Rate')\n",
    "plt.ylabel('True Positive Rate')\n",
    "plt.title('ROC-кривая')\n",
    "plt.show()"
   ]
  },
  {
   "cell_type": "markdown",
   "metadata": {},
   "source": [
    "**ОБЩИЙ ВЫВОД**\n",
    "\n",
    "Получена модель, AUC-ROC которой больше 0.5, а значит больше, чем у случайной выборки.\n",
    "\n",
    "Визуально ROC-кривая находится выше кривой 0.5, тем самым мы получили рабочую модель."
   ]
  },
  {
   "cell_type": "markdown",
   "metadata": {},
   "source": [
    "## Чек-лист готовности проекта"
   ]
  },
  {
   "cell_type": "markdown",
   "metadata": {},
   "source": [
    "Поставьте 'x' в выполненных пунктах. Далее нажмите Shift+Enter."
   ]
  },
  {
   "cell_type": "markdown",
   "metadata": {},
   "source": [
    "- [x]  Jupyter Notebook открыт\n",
    "- [ ]  Весь код выполняется без ошибок\n",
    "- [ ]  Ячейки с кодом расположены в порядке исполнения\n",
    "- [ ]  Выполнен шаг 1: данные подготовлены\n",
    "- [ ]  Выполнен шаг 2: задача исследована\n",
    "    - [ ]  Исследован баланс классов\n",
    "    - [ ]  Изучены модели без учёта дисбаланса\n",
    "    - [ ]  Написаны выводы по результатам исследования\n",
    "- [ ]  Выполнен шаг 3: учтён дисбаланс\n",
    "    - [ ]  Применено несколько способов борьбы с дисбалансом\n",
    "    - [ ]  Написаны выводы по результатам исследования\n",
    "- [ ]  Выполнен шаг 4: проведено тестирование\n",
    "- [ ]  Удалось достичь *F1*-меры не менее 0.59\n",
    "- [ ]  Исследована метрика *AUC-ROC*"
   ]
  }
 ],
 "metadata": {
  "ExecuteTimeLog": [
   {
    "duration": 319,
    "start_time": "2021-09-04T15:06:47.562Z"
   },
   {
    "duration": 627,
    "start_time": "2021-09-04T15:07:12.970Z"
   },
   {
    "duration": 31,
    "start_time": "2021-09-04T15:07:15.295Z"
   },
   {
    "duration": 20,
    "start_time": "2021-09-04T15:07:30.931Z"
   },
   {
    "duration": 10,
    "start_time": "2021-09-04T15:07:47.539Z"
   },
   {
    "duration": 7,
    "start_time": "2021-09-04T15:12:01.267Z"
   },
   {
    "duration": 5,
    "start_time": "2021-09-04T15:12:10.659Z"
   },
   {
    "duration": 6,
    "start_time": "2021-09-04T15:13:29.052Z"
   },
   {
    "duration": 9,
    "start_time": "2021-09-04T15:14:27.544Z"
   },
   {
    "duration": 9,
    "start_time": "2021-09-04T15:14:46.378Z"
   },
   {
    "duration": 23,
    "start_time": "2021-09-04T15:15:00.201Z"
   },
   {
    "duration": 7,
    "start_time": "2021-09-04T15:16:10.068Z"
   },
   {
    "duration": 14,
    "start_time": "2021-09-04T15:17:41.186Z"
   },
   {
    "duration": 11,
    "start_time": "2021-09-04T15:17:47.694Z"
   },
   {
    "duration": 10,
    "start_time": "2021-09-04T15:26:35.880Z"
   },
   {
    "duration": 9,
    "start_time": "2021-09-04T15:26:39.185Z"
   },
   {
    "duration": 362,
    "start_time": "2021-09-04T20:37:54.743Z"
   },
   {
    "duration": 627,
    "start_time": "2021-09-04T20:38:03.874Z"
   },
   {
    "duration": 33,
    "start_time": "2021-09-04T20:38:04.503Z"
   },
   {
    "duration": 21,
    "start_time": "2021-09-04T20:38:04.538Z"
   },
   {
    "duration": 9,
    "start_time": "2021-09-04T20:38:04.561Z"
   },
   {
    "duration": 7,
    "start_time": "2021-09-04T20:38:04.572Z"
   },
   {
    "duration": 13,
    "start_time": "2021-09-04T20:38:04.581Z"
   },
   {
    "duration": 9,
    "start_time": "2021-09-04T20:38:04.596Z"
   },
   {
    "duration": 7,
    "start_time": "2021-09-04T20:38:04.641Z"
   },
   {
    "duration": 612,
    "start_time": "2021-09-04T20:38:36.605Z"
   },
   {
    "duration": 38,
    "start_time": "2021-09-04T20:38:37.219Z"
   },
   {
    "duration": 20,
    "start_time": "2021-09-04T20:38:37.262Z"
   },
   {
    "duration": 10,
    "start_time": "2021-09-04T20:38:37.284Z"
   },
   {
    "duration": 6,
    "start_time": "2021-09-04T20:38:37.296Z"
   },
   {
    "duration": 457,
    "start_time": "2021-09-04T20:38:37.304Z"
   },
   {
    "duration": 557,
    "start_time": "2021-09-04T20:38:37.206Z"
   },
   {
    "duration": 557,
    "start_time": "2021-09-04T20:38:37.207Z"
   },
   {
    "duration": 9,
    "start_time": "2021-09-04T20:39:11.228Z"
   },
   {
    "duration": 8,
    "start_time": "2021-09-04T20:39:23.797Z"
   },
   {
    "duration": 274,
    "start_time": "2021-09-04T20:39:34.031Z"
   },
   {
    "duration": 8,
    "start_time": "2021-09-04T20:39:50.756Z"
   },
   {
    "duration": 320,
    "start_time": "2021-09-04T20:40:17.209Z"
   },
   {
    "duration": 8,
    "start_time": "2021-09-04T20:40:25.763Z"
   },
   {
    "duration": 6,
    "start_time": "2021-09-04T20:40:55.388Z"
   },
   {
    "duration": 5,
    "start_time": "2021-09-04T20:42:59.149Z"
   },
   {
    "duration": 9,
    "start_time": "2021-09-04T20:43:06.235Z"
   },
   {
    "duration": 605,
    "start_time": "2021-09-04T20:43:33.181Z"
   },
   {
    "duration": 33,
    "start_time": "2021-09-04T20:43:33.789Z"
   },
   {
    "duration": 20,
    "start_time": "2021-09-04T20:43:33.824Z"
   },
   {
    "duration": 17,
    "start_time": "2021-09-04T20:43:33.846Z"
   },
   {
    "duration": 7,
    "start_time": "2021-09-04T20:43:33.865Z"
   },
   {
    "duration": 8,
    "start_time": "2021-09-04T20:43:33.874Z"
   },
   {
    "duration": 9,
    "start_time": "2021-09-04T20:43:33.884Z"
   },
   {
    "duration": 9,
    "start_time": "2021-09-04T20:43:33.896Z"
   },
   {
    "duration": 328,
    "start_time": "2021-09-04T20:46:41.915Z"
   },
   {
    "duration": 6,
    "start_time": "2021-09-04T20:46:58.938Z"
   },
   {
    "duration": 12,
    "start_time": "2021-09-04T20:47:11.180Z"
   },
   {
    "duration": 276,
    "start_time": "2021-09-04T20:48:23.636Z"
   },
   {
    "duration": 728,
    "start_time": "2021-09-04T20:48:29.413Z"
   },
   {
    "duration": 33,
    "start_time": "2021-09-04T20:48:30.144Z"
   },
   {
    "duration": 20,
    "start_time": "2021-09-04T20:48:30.179Z"
   },
   {
    "duration": 19,
    "start_time": "2021-09-04T20:48:30.201Z"
   },
   {
    "duration": 19,
    "start_time": "2021-09-04T20:48:30.222Z"
   },
   {
    "duration": 6,
    "start_time": "2021-09-04T20:48:30.243Z"
   },
   {
    "duration": 10,
    "start_time": "2021-09-04T20:48:30.250Z"
   },
   {
    "duration": 6,
    "start_time": "2021-09-04T20:48:30.263Z"
   },
   {
    "duration": 25,
    "start_time": "2021-09-04T20:48:30.271Z"
   },
   {
    "duration": 11,
    "start_time": "2021-09-04T20:55:40.017Z"
   },
   {
    "duration": 13,
    "start_time": "2021-09-04T20:55:55.957Z"
   },
   {
    "duration": 5,
    "start_time": "2021-09-04T20:57:40.182Z"
   },
   {
    "duration": 9,
    "start_time": "2021-09-04T20:57:44.815Z"
   },
   {
    "duration": 590,
    "start_time": "2021-09-04T20:57:58.469Z"
   },
   {
    "duration": 33,
    "start_time": "2021-09-04T20:57:59.061Z"
   },
   {
    "duration": 19,
    "start_time": "2021-09-04T20:57:59.098Z"
   },
   {
    "duration": 22,
    "start_time": "2021-09-04T20:57:59.119Z"
   },
   {
    "duration": 5,
    "start_time": "2021-09-04T20:57:59.143Z"
   },
   {
    "duration": 10,
    "start_time": "2021-09-04T20:57:59.149Z"
   },
   {
    "duration": 8,
    "start_time": "2021-09-04T20:57:59.161Z"
   },
   {
    "duration": 7,
    "start_time": "2021-09-04T20:57:59.171Z"
   },
   {
    "duration": 12,
    "start_time": "2021-09-04T20:57:59.179Z"
   },
   {
    "duration": 12,
    "start_time": "2021-09-04T20:57:59.192Z"
   },
   {
    "duration": 9,
    "start_time": "2021-09-04T20:58:16.991Z"
   },
   {
    "duration": 17,
    "start_time": "2021-09-04T20:58:26.917Z"
   },
   {
    "duration": 5,
    "start_time": "2021-09-04T20:58:49.912Z"
   },
   {
    "duration": 17,
    "start_time": "2021-09-04T20:58:55.198Z"
   },
   {
    "duration": 575,
    "start_time": "2021-09-04T21:02:43.813Z"
   },
   {
    "duration": 9,
    "start_time": "2021-09-04T21:03:15.797Z"
   },
   {
    "duration": 402,
    "start_time": "2021-09-05T11:27:48.999Z"
   },
   {
    "duration": 1172,
    "start_time": "2021-09-05T11:28:02.728Z"
   },
   {
    "duration": 80,
    "start_time": "2021-09-05T11:28:06.311Z"
   },
   {
    "duration": 28,
    "start_time": "2021-09-05T11:28:11.737Z"
   },
   {
    "duration": 12,
    "start_time": "2021-09-05T11:28:12.580Z"
   },
   {
    "duration": 7,
    "start_time": "2021-09-05T11:28:20.486Z"
   },
   {
    "duration": 8,
    "start_time": "2021-09-05T11:28:21.838Z"
   },
   {
    "duration": 10,
    "start_time": "2021-09-05T11:28:23.683Z"
   },
   {
    "duration": 8,
    "start_time": "2021-09-05T11:28:32.919Z"
   },
   {
    "duration": 14,
    "start_time": "2021-09-05T11:28:33.408Z"
   },
   {
    "duration": 17,
    "start_time": "2021-09-05T11:28:53.551Z"
   },
   {
    "duration": 25,
    "start_time": "2021-09-05T11:29:13.099Z"
   },
   {
    "duration": 1262,
    "start_time": "2021-09-05T11:34:01.741Z"
   },
   {
    "duration": 80,
    "start_time": "2021-09-05T11:34:03.005Z"
   },
   {
    "duration": 28,
    "start_time": "2021-09-05T11:34:03.088Z"
   },
   {
    "duration": 12,
    "start_time": "2021-09-05T11:34:03.119Z"
   },
   {
    "duration": 10,
    "start_time": "2021-09-05T11:34:03.134Z"
   },
   {
    "duration": 39,
    "start_time": "2021-09-05T11:34:03.147Z"
   },
   {
    "duration": 11,
    "start_time": "2021-09-05T11:34:03.189Z"
   },
   {
    "duration": 6,
    "start_time": "2021-09-05T11:34:03.203Z"
   },
   {
    "duration": 17,
    "start_time": "2021-09-05T11:34:03.212Z"
   },
   {
    "duration": 9,
    "start_time": "2021-09-05T11:34:03.232Z"
   },
   {
    "duration": 60,
    "start_time": "2021-09-05T11:34:03.243Z"
   },
   {
    "duration": 436,
    "start_time": "2021-09-05T11:43:31.060Z"
   },
   {
    "duration": 16,
    "start_time": "2021-09-05T11:43:53.378Z"
   },
   {
    "duration": 11,
    "start_time": "2021-09-05T11:44:13.761Z"
   },
   {
    "duration": 10,
    "start_time": "2021-09-05T11:44:15.179Z"
   },
   {
    "duration": 4,
    "start_time": "2021-09-05T11:44:16.335Z"
   },
   {
    "duration": 38,
    "start_time": "2021-09-05T12:24:57.439Z"
   },
   {
    "duration": 53,
    "start_time": "2021-09-05T12:25:25.698Z"
   },
   {
    "duration": 375,
    "start_time": "2021-09-05T12:29:06.352Z"
   },
   {
    "duration": 4,
    "start_time": "2021-09-05T12:30:02.419Z"
   },
   {
    "duration": 8,
    "start_time": "2021-09-05T12:30:32.079Z"
   },
   {
    "duration": 7,
    "start_time": "2021-09-05T12:30:34.900Z"
   },
   {
    "duration": 7,
    "start_time": "2021-09-05T12:30:37.284Z"
   },
   {
    "duration": 7,
    "start_time": "2021-09-05T12:44:50.624Z"
   },
   {
    "duration": 29,
    "start_time": "2021-09-05T12:47:06.957Z"
   },
   {
    "duration": 7,
    "start_time": "2021-09-05T12:47:26.890Z"
   },
   {
    "duration": 7,
    "start_time": "2021-09-05T12:47:31.775Z"
   },
   {
    "duration": 7,
    "start_time": "2021-09-05T12:47:34.760Z"
   },
   {
    "duration": 27,
    "start_time": "2021-09-05T12:51:28.113Z"
   },
   {
    "duration": 615,
    "start_time": "2021-09-05T12:58:00.108Z"
   },
   {
    "duration": 594,
    "start_time": "2021-09-05T12:58:31.565Z"
   },
   {
    "duration": 695,
    "start_time": "2021-09-05T13:01:36.064Z"
   },
   {
    "duration": 615,
    "start_time": "2021-09-05T13:13:07.944Z"
   },
   {
    "duration": 572,
    "start_time": "2021-09-05T13:13:58.849Z"
   },
   {
    "duration": 528,
    "start_time": "2021-09-05T13:14:51.177Z"
   },
   {
    "duration": 1280,
    "start_time": "2021-09-05T13:15:40.616Z"
   },
   {
    "duration": 34,
    "start_time": "2021-09-05T13:15:41.899Z"
   },
   {
    "duration": 27,
    "start_time": "2021-09-05T13:15:41.936Z"
   },
   {
    "duration": 27,
    "start_time": "2021-09-05T13:15:41.966Z"
   },
   {
    "duration": 7,
    "start_time": "2021-09-05T13:15:41.996Z"
   },
   {
    "duration": 8,
    "start_time": "2021-09-05T13:15:42.006Z"
   },
   {
    "duration": 12,
    "start_time": "2021-09-05T13:15:42.017Z"
   },
   {
    "duration": 56,
    "start_time": "2021-09-05T13:15:42.032Z"
   },
   {
    "duration": 23,
    "start_time": "2021-09-05T13:15:42.092Z"
   },
   {
    "duration": 11,
    "start_time": "2021-09-05T13:15:42.118Z"
   },
   {
    "duration": 23,
    "start_time": "2021-09-05T13:15:42.132Z"
   },
   {
    "duration": 30,
    "start_time": "2021-09-05T13:15:42.158Z"
   },
   {
    "duration": 10,
    "start_time": "2021-09-05T13:15:42.190Z"
   },
   {
    "duration": 4,
    "start_time": "2021-09-05T13:15:42.203Z"
   },
   {
    "duration": 82,
    "start_time": "2021-09-05T13:15:42.209Z"
   },
   {
    "duration": 8,
    "start_time": "2021-09-05T13:15:42.383Z"
   },
   {
    "duration": 7,
    "start_time": "2021-09-05T13:15:42.393Z"
   },
   {
    "duration": 7,
    "start_time": "2021-09-05T13:15:42.402Z"
   },
   {
    "duration": 77,
    "start_time": "2021-09-05T13:15:42.412Z"
   },
   {
    "duration": 835,
    "start_time": "2021-09-05T13:15:42.492Z"
   },
   {
    "duration": 311,
    "start_time": "2021-09-05T13:16:49.790Z"
   },
   {
    "duration": 373,
    "start_time": "2021-09-05T13:17:13.245Z"
   },
   {
    "duration": 320,
    "start_time": "2021-09-05T13:18:06.886Z"
   },
   {
    "duration": 1432,
    "start_time": "2021-09-05T13:18:36.752Z"
   },
   {
    "duration": 34,
    "start_time": "2021-09-05T13:18:38.186Z"
   },
   {
    "duration": 27,
    "start_time": "2021-09-05T13:18:38.223Z"
   },
   {
    "duration": 29,
    "start_time": "2021-09-05T13:18:38.253Z"
   },
   {
    "duration": 7,
    "start_time": "2021-09-05T13:18:38.284Z"
   },
   {
    "duration": 6,
    "start_time": "2021-09-05T13:18:38.294Z"
   },
   {
    "duration": 11,
    "start_time": "2021-09-05T13:18:38.303Z"
   },
   {
    "duration": 7,
    "start_time": "2021-09-05T13:18:38.317Z"
   },
   {
    "duration": 57,
    "start_time": "2021-09-05T13:18:38.326Z"
   },
   {
    "duration": 6,
    "start_time": "2021-09-05T13:18:38.386Z"
   },
   {
    "duration": 23,
    "start_time": "2021-09-05T13:18:38.394Z"
   },
   {
    "duration": 10,
    "start_time": "2021-09-05T13:18:38.419Z"
   },
   {
    "duration": 8,
    "start_time": "2021-09-05T13:18:38.431Z"
   },
   {
    "duration": 41,
    "start_time": "2021-09-05T13:18:38.442Z"
   },
   {
    "duration": 196,
    "start_time": "2021-09-05T13:18:38.486Z"
   },
   {
    "duration": 8,
    "start_time": "2021-09-05T13:18:38.685Z"
   },
   {
    "duration": 7,
    "start_time": "2021-09-05T13:18:38.695Z"
   },
   {
    "duration": 7,
    "start_time": "2021-09-05T13:18:38.705Z"
   },
   {
    "duration": 172,
    "start_time": "2021-09-05T13:18:38.714Z"
   },
   {
    "duration": 872,
    "start_time": "2021-09-05T13:18:38.889Z"
   },
   {
    "duration": 5,
    "start_time": "2021-09-05T13:19:18.399Z"
   },
   {
    "duration": 157,
    "start_time": "2021-09-05T13:19:23.327Z"
   },
   {
    "duration": 63,
    "start_time": "2021-09-05T13:19:30.335Z"
   },
   {
    "duration": 1499,
    "start_time": "2021-09-05T13:19:36.249Z"
   },
   {
    "duration": 42,
    "start_time": "2021-09-05T13:19:37.751Z"
   },
   {
    "duration": 29,
    "start_time": "2021-09-05T13:19:37.799Z"
   },
   {
    "duration": 11,
    "start_time": "2021-09-05T13:19:37.831Z"
   },
   {
    "duration": 40,
    "start_time": "2021-09-05T13:19:37.845Z"
   },
   {
    "duration": 8,
    "start_time": "2021-09-05T13:19:37.888Z"
   },
   {
    "duration": 41,
    "start_time": "2021-09-05T13:19:37.899Z"
   },
   {
    "duration": 9,
    "start_time": "2021-09-05T13:19:37.945Z"
   },
   {
    "duration": 24,
    "start_time": "2021-09-05T13:19:37.957Z"
   },
   {
    "duration": 14,
    "start_time": "2021-09-05T13:19:37.983Z"
   },
   {
    "duration": 83,
    "start_time": "2021-09-05T13:19:38.001Z"
   },
   {
    "duration": 14,
    "start_time": "2021-09-05T13:19:38.087Z"
   },
   {
    "duration": 12,
    "start_time": "2021-09-05T13:19:38.104Z"
   },
   {
    "duration": 5,
    "start_time": "2021-09-05T13:19:38.119Z"
   },
   {
    "duration": 257,
    "start_time": "2021-09-05T13:19:38.126Z"
   },
   {
    "duration": 7,
    "start_time": "2021-09-05T13:19:38.386Z"
   },
   {
    "duration": 8,
    "start_time": "2021-09-05T13:19:38.396Z"
   },
   {
    "duration": 9,
    "start_time": "2021-09-05T13:19:38.406Z"
   },
   {
    "duration": 168,
    "start_time": "2021-09-05T13:19:38.418Z"
   },
   {
    "duration": 297,
    "start_time": "2021-09-05T13:19:38.589Z"
   },
   {
    "duration": 103,
    "start_time": "2021-09-05T13:20:42.407Z"
   },
   {
    "duration": 96,
    "start_time": "2021-09-05T13:20:49.610Z"
   },
   {
    "duration": 90,
    "start_time": "2021-09-05T13:20:56.110Z"
   },
   {
    "duration": 170,
    "start_time": "2021-09-05T13:21:00.216Z"
   },
   {
    "duration": 178,
    "start_time": "2021-09-05T13:21:03.705Z"
   },
   {
    "duration": 225,
    "start_time": "2021-09-05T13:21:09.761Z"
   },
   {
    "duration": 376,
    "start_time": "2021-09-05T13:21:18.108Z"
   },
   {
    "duration": 99,
    "start_time": "2021-09-05T13:21:23.483Z"
   },
   {
    "duration": 90,
    "start_time": "2021-09-05T13:21:27.531Z"
   },
   {
    "duration": 97,
    "start_time": "2021-09-05T13:21:32.087Z"
   },
   {
    "duration": 94,
    "start_time": "2021-09-05T13:21:37.901Z"
   },
   {
    "duration": 116,
    "start_time": "2021-09-05T13:21:43.268Z"
   },
   {
    "duration": 42,
    "start_time": "2021-09-05T13:22:14.522Z"
   },
   {
    "duration": 81,
    "start_time": "2021-09-05T13:22:24.404Z"
   },
   {
    "duration": 55,
    "start_time": "2021-09-05T13:22:28.544Z"
   },
   {
    "duration": 59,
    "start_time": "2021-09-05T13:22:34.124Z"
   },
   {
    "duration": 105,
    "start_time": "2021-09-05T13:22:36.978Z"
   },
   {
    "duration": 99,
    "start_time": "2021-09-05T13:22:40.187Z"
   },
   {
    "duration": 95,
    "start_time": "2021-09-05T13:22:43.389Z"
   },
   {
    "duration": 114,
    "start_time": "2021-09-05T13:23:16.170Z"
   },
   {
    "duration": 124,
    "start_time": "2021-09-05T13:23:20.458Z"
   },
   {
    "duration": 106,
    "start_time": "2021-09-05T13:23:30.887Z"
   },
   {
    "duration": 92,
    "start_time": "2021-09-05T13:23:37.811Z"
   },
   {
    "duration": 129,
    "start_time": "2021-09-05T13:23:41.854Z"
   },
   {
    "duration": 155,
    "start_time": "2021-09-05T13:23:45.528Z"
   },
   {
    "duration": 147,
    "start_time": "2021-09-05T13:23:50.143Z"
   },
   {
    "duration": 124,
    "start_time": "2021-09-05T13:23:56.065Z"
   },
   {
    "duration": 102,
    "start_time": "2021-09-05T13:24:03.682Z"
   },
   {
    "duration": 462,
    "start_time": "2021-09-05T13:26:51.800Z"
   },
   {
    "duration": 84,
    "start_time": "2021-09-05T13:27:11.928Z"
   },
   {
    "duration": 324,
    "start_time": "2021-09-05T13:27:54.637Z"
   },
   {
    "duration": 6302,
    "start_time": "2021-09-05T13:29:13.182Z"
   },
   {
    "duration": 21356,
    "start_time": "2021-09-05T13:29:26.638Z"
   },
   {
    "duration": 57,
    "start_time": "2021-09-05T13:31:13.126Z"
   },
   {
    "duration": 49,
    "start_time": "2021-09-05T13:31:21.951Z"
   },
   {
    "duration": 78,
    "start_time": "2021-09-05T13:31:30.505Z"
   },
   {
    "duration": 51,
    "start_time": "2021-09-05T13:31:38.550Z"
   },
   {
    "duration": 127,
    "start_time": "2021-09-05T13:32:32.514Z"
   },
   {
    "duration": 342,
    "start_time": "2021-09-05T13:32:36.874Z"
   },
   {
    "duration": 371,
    "start_time": "2021-09-05T13:34:56.705Z"
   },
   {
    "duration": 307,
    "start_time": "2021-09-05T13:35:41.228Z"
   },
   {
    "duration": 128,
    "start_time": "2021-09-05T13:40:51.956Z"
   },
   {
    "duration": 95,
    "start_time": "2021-09-05T13:41:12.697Z"
   },
   {
    "duration": 204,
    "start_time": "2021-09-05T13:41:38.179Z"
   },
   {
    "duration": 104,
    "start_time": "2021-09-05T13:41:46.987Z"
   },
   {
    "duration": 139,
    "start_time": "2021-09-05T13:43:13.150Z"
   },
   {
    "duration": 216,
    "start_time": "2021-09-05T13:43:43.569Z"
   },
   {
    "duration": 113,
    "start_time": "2021-09-05T13:44:54.570Z"
   },
   {
    "duration": 21719,
    "start_time": "2021-09-05T13:46:42.685Z"
   },
   {
    "duration": 57,
    "start_time": "2021-09-05T13:48:01.321Z"
   },
   {
    "duration": 64,
    "start_time": "2021-09-05T13:48:18.000Z"
   },
   {
    "duration": 65,
    "start_time": "2021-09-05T13:51:13.168Z"
   },
   {
    "duration": 21220,
    "start_time": "2021-09-05T13:51:33.070Z"
   },
   {
    "duration": 7212,
    "start_time": "2021-09-05T13:52:48.779Z"
   },
   {
    "duration": 351,
    "start_time": "2021-09-05T13:58:34.638Z"
   },
   {
    "duration": 63,
    "start_time": "2021-09-05T13:58:50.917Z"
   },
   {
    "duration": 591,
    "start_time": "2021-09-05T13:59:16.929Z"
   },
   {
    "duration": 14,
    "start_time": "2021-09-05T13:59:49.136Z"
   },
   {
    "duration": 144,
    "start_time": "2021-09-05T13:59:57.212Z"
   },
   {
    "duration": 19071,
    "start_time": "2021-09-05T14:00:34.283Z"
   },
   {
    "duration": 313,
    "start_time": "2021-09-05T14:02:19.457Z"
   },
   {
    "duration": 370,
    "start_time": "2021-09-05T14:03:32.981Z"
   },
   {
    "duration": 355,
    "start_time": "2021-09-05T14:04:11.744Z"
   },
   {
    "duration": 367,
    "start_time": "2021-09-05T14:06:06.260Z"
   },
   {
    "duration": 385,
    "start_time": "2021-09-05T14:06:56.178Z"
   },
   {
    "duration": 295,
    "start_time": "2021-09-05T14:07:06.656Z"
   },
   {
    "duration": 205,
    "start_time": "2021-09-05T14:07:15.921Z"
   },
   {
    "duration": 2359,
    "start_time": "2021-09-05T14:07:49.205Z"
   },
   {
    "duration": 358,
    "start_time": "2021-09-05T14:11:02.394Z"
   },
   {
    "duration": 43649,
    "start_time": "2021-09-05T14:11:37.807Z"
   },
   {
    "duration": 43778,
    "start_time": "2021-09-05T14:15:40.659Z"
   },
   {
    "duration": 5,
    "start_time": "2021-09-05T14:18:23.945Z"
   },
   {
    "duration": 358,
    "start_time": "2021-09-05T14:18:39.886Z"
   },
   {
    "duration": 65,
    "start_time": "2021-09-05T14:18:50.803Z"
   },
   {
    "duration": 207,
    "start_time": "2021-09-05T14:18:55.829Z"
   },
   {
    "duration": 2426,
    "start_time": "2021-09-05T14:18:58.256Z"
   },
   {
    "duration": 550,
    "start_time": "2021-09-05T14:19:32.319Z"
   },
   {
    "duration": 578,
    "start_time": "2021-09-05T14:19:40.704Z"
   },
   {
    "duration": 225,
    "start_time": "2021-09-05T14:20:53.292Z"
   },
   {
    "duration": 567,
    "start_time": "2021-09-05T14:21:01.520Z"
   },
   {
    "duration": 585,
    "start_time": "2021-09-05T14:21:27.117Z"
   },
   {
    "duration": 598,
    "start_time": "2021-09-05T14:21:45.176Z"
   },
   {
    "duration": 373,
    "start_time": "2021-09-05T14:23:16.238Z"
   },
   {
    "duration": 233,
    "start_time": "2021-09-05T14:23:54.459Z"
   },
   {
    "duration": 1120,
    "start_time": "2021-09-05T14:26:36.232Z"
   },
   {
    "duration": 1082,
    "start_time": "2021-09-05T14:26:48.700Z"
   },
   {
    "duration": 1278,
    "start_time": "2021-09-05T14:27:15.068Z"
   },
   {
    "duration": 2041,
    "start_time": "2021-09-05T14:29:36.045Z"
   },
   {
    "duration": 1650,
    "start_time": "2021-09-05T14:30:00.322Z"
   },
   {
    "duration": 2556,
    "start_time": "2021-09-05T14:32:25.728Z"
   },
   {
    "duration": 101,
    "start_time": "2021-09-05T14:33:12.883Z"
   },
   {
    "duration": 33,
    "start_time": "2021-09-05T14:33:39.810Z"
   },
   {
    "duration": 38,
    "start_time": "2021-09-05T14:33:46.977Z"
   },
   {
    "duration": 42,
    "start_time": "2021-09-05T14:33:51.308Z"
   },
   {
    "duration": 44,
    "start_time": "2021-09-05T14:33:54.483Z"
   },
   {
    "duration": 49,
    "start_time": "2021-09-05T14:33:59.272Z"
   },
   {
    "duration": 52,
    "start_time": "2021-09-05T14:34:02.274Z"
   },
   {
    "duration": 55,
    "start_time": "2021-09-05T14:34:05.186Z"
   },
   {
    "duration": 62,
    "start_time": "2021-09-05T14:34:08.078Z"
   },
   {
    "duration": 65,
    "start_time": "2021-09-05T14:34:10.967Z"
   },
   {
    "duration": 43,
    "start_time": "2021-09-05T14:34:19.741Z"
   },
   {
    "duration": 48,
    "start_time": "2021-09-05T14:34:23.294Z"
   },
   {
    "duration": 21,
    "start_time": "2021-09-05T14:38:40.834Z"
   },
   {
    "duration": 20,
    "start_time": "2021-09-05T14:38:45.543Z"
   },
   {
    "duration": 18,
    "start_time": "2021-09-05T14:38:50.260Z"
   },
   {
    "duration": 23,
    "start_time": "2021-09-05T14:38:55.111Z"
   },
   {
    "duration": 29,
    "start_time": "2021-09-05T14:38:58.848Z"
   },
   {
    "duration": 30,
    "start_time": "2021-09-05T14:39:01.867Z"
   },
   {
    "duration": 33,
    "start_time": "2021-09-05T14:39:45.614Z"
   },
   {
    "duration": 304,
    "start_time": "2021-09-05T14:39:56.912Z"
   },
   {
    "duration": 28,
    "start_time": "2021-09-05T14:40:04.921Z"
   },
   {
    "duration": 180,
    "start_time": "2021-09-05T14:40:22.277Z"
   },
   {
    "duration": 353,
    "start_time": "2021-09-05T14:41:27.864Z"
   },
   {
    "duration": 1102,
    "start_time": "2021-09-05T14:41:35.905Z"
   },
   {
    "duration": 75,
    "start_time": "2021-09-05T14:43:11.206Z"
   },
   {
    "duration": 52,
    "start_time": "2021-09-05T14:43:25.341Z"
   },
   {
    "duration": 54,
    "start_time": "2021-09-05T14:43:29.850Z"
   },
   {
    "duration": 120,
    "start_time": "2021-09-05T14:43:34.063Z"
   },
   {
    "duration": 72,
    "start_time": "2021-09-05T14:43:40.611Z"
   },
   {
    "duration": 74,
    "start_time": "2021-09-05T14:43:44.310Z"
   },
   {
    "duration": 61,
    "start_time": "2021-09-05T14:44:14.922Z"
   },
   {
    "duration": 344,
    "start_time": "2021-09-05T14:56:00.553Z"
   },
   {
    "duration": 153,
    "start_time": "2021-09-05T14:56:08.099Z"
   },
   {
    "duration": 379,
    "start_time": "2021-09-05T14:57:22.415Z"
   },
   {
    "duration": 135,
    "start_time": "2021-09-05T14:57:28.903Z"
   },
   {
    "duration": 382,
    "start_time": "2021-09-05T14:58:25.960Z"
   },
   {
    "duration": 19790,
    "start_time": "2021-09-05T14:58:32.953Z"
   },
   {
    "duration": 20041,
    "start_time": "2021-09-05T14:59:13.152Z"
   },
   {
    "duration": 19294,
    "start_time": "2021-09-05T15:00:21.374Z"
   },
   {
    "duration": 19896,
    "start_time": "2021-09-05T15:01:52.890Z"
   },
   {
    "duration": 19120,
    "start_time": "2021-09-05T15:02:32.465Z"
   },
   {
    "duration": 885,
    "start_time": "2021-09-05T15:08:15.428Z"
   },
   {
    "duration": 44676,
    "start_time": "2021-09-05T15:08:25.192Z"
   },
   {
    "duration": 45329,
    "start_time": "2021-09-05T15:10:46.378Z"
   },
   {
    "duration": 91836,
    "start_time": "2021-09-05T15:11:53.967Z"
   },
   {
    "duration": 3268,
    "start_time": "2021-09-05T15:14:39.764Z"
   },
   {
    "duration": 4660,
    "start_time": "2021-09-05T15:15:07.876Z"
   },
   {
    "duration": 6324,
    "start_time": "2021-09-05T15:15:18.408Z"
   },
   {
    "duration": 9231,
    "start_time": "2021-09-05T15:17:17.203Z"
   },
   {
    "duration": 7339,
    "start_time": "2021-09-05T15:18:02.073Z"
   },
   {
    "duration": 2104,
    "start_time": "2021-09-05T15:18:22.373Z"
   },
   {
    "duration": 20206,
    "start_time": "2021-09-05T15:28:02.962Z"
   },
   {
    "duration": 47568,
    "start_time": "2021-09-05T15:28:50.314Z"
   },
   {
    "duration": 45623,
    "start_time": "2021-09-05T15:30:16.135Z"
   },
   {
    "duration": 14163,
    "start_time": "2021-09-05T15:33:24.374Z"
   },
   {
    "duration": 834,
    "start_time": "2021-09-05T15:36:14.080Z"
   },
   {
    "duration": 198,
    "start_time": "2021-09-05T15:36:26.860Z"
   },
   {
    "duration": 323,
    "start_time": "2021-09-05T15:36:30.844Z"
   },
   {
    "duration": 709,
    "start_time": "2021-09-05T15:36:35.738Z"
   },
   {
    "duration": 1118,
    "start_time": "2021-09-05T15:36:41.456Z"
   },
   {
    "duration": 1491,
    "start_time": "2021-09-05T15:36:47.362Z"
   },
   {
    "duration": 199,
    "start_time": "2021-09-05T15:36:54.324Z"
   },
   {
    "duration": 134,
    "start_time": "2021-09-05T15:37:20.781Z"
   },
   {
    "duration": 111,
    "start_time": "2021-09-05T15:37:33.421Z"
   },
   {
    "duration": 114,
    "start_time": "2021-09-05T15:37:38.130Z"
   },
   {
    "duration": 124,
    "start_time": "2021-09-05T15:37:42.833Z"
   },
   {
    "duration": 131,
    "start_time": "2021-09-05T15:37:46.393Z"
   },
   {
    "duration": 174,
    "start_time": "2021-09-05T15:37:49.475Z"
   },
   {
    "duration": 5470,
    "start_time": "2021-09-05T15:39:09.668Z"
   },
   {
    "duration": 49,
    "start_time": "2021-09-05T15:39:38.174Z"
   },
   {
    "duration": 39,
    "start_time": "2021-09-05T15:39:43.662Z"
   },
   {
    "duration": 72,
    "start_time": "2021-09-05T15:39:48.137Z"
   },
   {
    "duration": 100,
    "start_time": "2021-09-05T15:39:52.014Z"
   },
   {
    "duration": 6052,
    "start_time": "2021-09-05T15:40:13.987Z"
   },
   {
    "duration": 8903,
    "start_time": "2021-09-05T15:40:28.135Z"
   },
   {
    "duration": 2039,
    "start_time": "2021-09-05T15:41:30.345Z"
   },
   {
    "duration": 3105,
    "start_time": "2021-09-05T15:41:43.148Z"
   },
   {
    "duration": 2825,
    "start_time": "2021-09-05T15:42:05.423Z"
   },
   {
    "duration": 2038,
    "start_time": "2021-09-05T15:42:17.215Z"
   },
   {
    "duration": 1991,
    "start_time": "2021-09-05T15:42:28.749Z"
   },
   {
    "duration": 54669,
    "start_time": "2021-09-05T15:44:04.750Z"
   },
   {
    "duration": 54259,
    "start_time": "2021-09-05T15:46:21.548Z"
   },
   {
    "duration": 4702,
    "start_time": "2021-09-05T15:47:35.274Z"
   },
   {
    "duration": 4527,
    "start_time": "2021-09-05T15:50:22.673Z"
   },
   {
    "duration": 4728,
    "start_time": "2021-09-05T15:50:53.028Z"
   },
   {
    "duration": 4599,
    "start_time": "2021-09-05T15:51:19.012Z"
   },
   {
    "duration": 4571,
    "start_time": "2021-09-05T15:51:28.549Z"
   },
   {
    "duration": 88504,
    "start_time": "2021-09-05T15:51:38.188Z"
   },
   {
    "duration": 6172,
    "start_time": "2021-09-05T15:54:02.449Z"
   },
   {
    "duration": 12599,
    "start_time": "2021-09-05T15:54:50.207Z"
   },
   {
    "duration": 87122,
    "start_time": "2021-09-05T15:55:17.356Z"
   },
   {
    "duration": 4722,
    "start_time": "2021-09-05T15:56:44.484Z"
   },
   {
    "duration": 4384,
    "start_time": "2021-09-05T15:56:58.762Z"
   },
   {
    "duration": 87904,
    "start_time": "2021-09-05T15:57:13.293Z"
   },
   {
    "duration": 80,
    "start_time": "2021-09-05T16:02:42.810Z"
   },
   {
    "duration": 74,
    "start_time": "2021-09-05T16:03:58.073Z"
   },
   {
    "duration": 6,
    "start_time": "2021-09-05T16:05:17.095Z"
   },
   {
    "duration": 11,
    "start_time": "2021-09-05T16:07:13.700Z"
   },
   {
    "duration": 11,
    "start_time": "2021-09-05T16:07:26.976Z"
   },
   {
    "duration": 1362,
    "start_time": "2021-09-06T16:16:43.734Z"
   },
   {
    "duration": 36,
    "start_time": "2021-09-06T16:16:45.099Z"
   },
   {
    "duration": 32,
    "start_time": "2021-09-06T16:16:45.141Z"
   },
   {
    "duration": 12,
    "start_time": "2021-09-06T16:16:45.175Z"
   },
   {
    "duration": 12,
    "start_time": "2021-09-06T16:16:45.189Z"
   },
   {
    "duration": 13,
    "start_time": "2021-09-06T16:16:45.203Z"
   },
   {
    "duration": 41,
    "start_time": "2021-09-06T16:16:45.219Z"
   },
   {
    "duration": 9,
    "start_time": "2021-09-06T16:16:45.263Z"
   },
   {
    "duration": 15,
    "start_time": "2021-09-06T16:16:45.275Z"
   },
   {
    "duration": 17,
    "start_time": "2021-09-06T16:16:45.292Z"
   },
   {
    "duration": 44,
    "start_time": "2021-09-06T16:16:45.312Z"
   },
   {
    "duration": 11,
    "start_time": "2021-09-06T16:16:45.358Z"
   },
   {
    "duration": 14,
    "start_time": "2021-09-06T16:16:45.371Z"
   },
   {
    "duration": 12,
    "start_time": "2021-09-06T16:16:45.387Z"
   },
   {
    "duration": 255,
    "start_time": "2021-09-06T16:16:45.402Z"
   },
   {
    "duration": 95,
    "start_time": "2021-09-06T16:16:45.659Z"
   },
   {
    "duration": 699,
    "start_time": "2021-09-06T16:16:45.758Z"
   },
   {
    "duration": -113,
    "start_time": "2021-09-06T16:16:46.573Z"
   },
   {
    "duration": -117,
    "start_time": "2021-09-06T16:16:46.578Z"
   },
   {
    "duration": -117,
    "start_time": "2021-09-06T16:16:46.580Z"
   },
   {
    "duration": -117,
    "start_time": "2021-09-06T16:16:46.581Z"
   },
   {
    "duration": -120,
    "start_time": "2021-09-06T16:16:46.585Z"
   },
   {
    "duration": -120,
    "start_time": "2021-09-06T16:16:46.587Z"
   },
   {
    "duration": 13,
    "start_time": "2021-09-06T16:28:29.829Z"
   },
   {
    "duration": 12,
    "start_time": "2021-09-06T16:28:54.073Z"
   },
   {
    "duration": 4,
    "start_time": "2021-09-06T16:29:09.383Z"
   },
   {
    "duration": 1384,
    "start_time": "2021-09-06T16:29:20.215Z"
   },
   {
    "duration": 38,
    "start_time": "2021-09-06T16:29:21.602Z"
   },
   {
    "duration": 27,
    "start_time": "2021-09-06T16:29:21.643Z"
   },
   {
    "duration": 20,
    "start_time": "2021-09-06T16:29:21.673Z"
   },
   {
    "duration": 19,
    "start_time": "2021-09-06T16:29:21.696Z"
   },
   {
    "duration": 19,
    "start_time": "2021-09-06T16:29:21.717Z"
   },
   {
    "duration": 21,
    "start_time": "2021-09-06T16:29:21.739Z"
   },
   {
    "duration": 15,
    "start_time": "2021-09-06T16:29:21.764Z"
   },
   {
    "duration": 27,
    "start_time": "2021-09-06T16:29:21.782Z"
   },
   {
    "duration": 16,
    "start_time": "2021-09-06T16:29:21.811Z"
   },
   {
    "duration": 34,
    "start_time": "2021-09-06T16:29:21.829Z"
   },
   {
    "duration": 15,
    "start_time": "2021-09-06T16:29:21.866Z"
   },
   {
    "duration": 11,
    "start_time": "2021-09-06T16:29:21.884Z"
   },
   {
    "duration": 7,
    "start_time": "2021-09-06T16:29:21.898Z"
   },
   {
    "duration": 248,
    "start_time": "2021-09-06T16:29:21.907Z"
   },
   {
    "duration": 25,
    "start_time": "2021-09-06T16:29:22.158Z"
   },
   {
    "duration": 764,
    "start_time": "2021-09-06T16:29:22.256Z"
   },
   {
    "duration": -140,
    "start_time": "2021-09-06T16:29:23.163Z"
   },
   {
    "duration": -145,
    "start_time": "2021-09-06T16:29:23.169Z"
   },
   {
    "duration": -146,
    "start_time": "2021-09-06T16:29:23.171Z"
   },
   {
    "duration": -151,
    "start_time": "2021-09-06T16:29:23.177Z"
   },
   {
    "duration": -155,
    "start_time": "2021-09-06T16:29:23.183Z"
   },
   {
    "duration": -155,
    "start_time": "2021-09-06T16:29:23.184Z"
   },
   {
    "duration": 429,
    "start_time": "2021-09-06T16:37:33.831Z"
   },
   {
    "duration": 441,
    "start_time": "2021-09-06T16:38:20.086Z"
   },
   {
    "duration": 104,
    "start_time": "2021-09-06T16:38:41.194Z"
   },
   {
    "duration": 6,
    "start_time": "2021-09-06T16:38:44.628Z"
   },
   {
    "duration": 452,
    "start_time": "2021-09-06T16:38:48.880Z"
   },
   {
    "duration": 9,
    "start_time": "2021-09-06T16:39:02.983Z"
   },
   {
    "duration": 526,
    "start_time": "2021-09-06T16:42:50.937Z"
   },
   {
    "duration": 548,
    "start_time": "2021-09-06T16:43:44.198Z"
   },
   {
    "duration": 284,
    "start_time": "2021-09-06T16:44:36.409Z"
   },
   {
    "duration": 8,
    "start_time": "2021-09-06T16:44:47.452Z"
   },
   {
    "duration": 4,
    "start_time": "2021-09-06T16:44:50.866Z"
   },
   {
    "duration": 526,
    "start_time": "2021-09-06T16:59:09.431Z"
   },
   {
    "duration": 255,
    "start_time": "2021-09-06T16:59:47.116Z"
   },
   {
    "duration": 11,
    "start_time": "2021-09-06T17:00:06.906Z"
   },
   {
    "duration": 1289,
    "start_time": "2021-09-06T17:00:14.202Z"
   },
   {
    "duration": 36,
    "start_time": "2021-09-06T17:00:15.494Z"
   },
   {
    "duration": 32,
    "start_time": "2021-09-06T17:00:15.534Z"
   },
   {
    "duration": 28,
    "start_time": "2021-09-06T17:00:15.569Z"
   },
   {
    "duration": 24,
    "start_time": "2021-09-06T17:00:15.600Z"
   },
   {
    "duration": 8,
    "start_time": "2021-09-06T17:00:15.627Z"
   },
   {
    "duration": 17,
    "start_time": "2021-09-06T17:00:15.637Z"
   },
   {
    "duration": 19,
    "start_time": "2021-09-06T17:00:15.658Z"
   },
   {
    "duration": 29,
    "start_time": "2021-09-06T17:00:15.680Z"
   },
   {
    "duration": 23,
    "start_time": "2021-09-06T17:00:15.711Z"
   },
   {
    "duration": 42,
    "start_time": "2021-09-06T17:00:15.737Z"
   },
   {
    "duration": 41,
    "start_time": "2021-09-06T17:00:15.781Z"
   },
   {
    "duration": 15,
    "start_time": "2021-09-06T17:00:15.825Z"
   },
   {
    "duration": 29,
    "start_time": "2021-09-06T17:00:15.843Z"
   },
   {
    "duration": 181,
    "start_time": "2021-09-06T17:00:15.874Z"
   },
   {
    "duration": 23,
    "start_time": "2021-09-06T17:00:16.058Z"
   },
   {
    "duration": 670,
    "start_time": "2021-09-06T17:00:16.156Z"
   },
   {
    "duration": -156,
    "start_time": "2021-09-06T17:00:16.985Z"
   },
   {
    "duration": -163,
    "start_time": "2021-09-06T17:00:16.993Z"
   },
   {
    "duration": -164,
    "start_time": "2021-09-06T17:00:16.996Z"
   },
   {
    "duration": -164,
    "start_time": "2021-09-06T17:00:16.997Z"
   },
   {
    "duration": -165,
    "start_time": "2021-09-06T17:00:16.999Z"
   },
   {
    "duration": -166,
    "start_time": "2021-09-06T17:00:17.002Z"
   },
   {
    "duration": 281,
    "start_time": "2021-09-06T17:20:44.223Z"
   },
   {
    "duration": 1356,
    "start_time": "2021-09-06T17:20:57.524Z"
   },
   {
    "duration": 37,
    "start_time": "2021-09-06T17:20:58.883Z"
   },
   {
    "duration": 32,
    "start_time": "2021-09-06T17:20:58.923Z"
   },
   {
    "duration": 39,
    "start_time": "2021-09-06T17:20:58.958Z"
   },
   {
    "duration": 15,
    "start_time": "2021-09-06T17:20:58.999Z"
   },
   {
    "duration": 27,
    "start_time": "2021-09-06T17:20:59.017Z"
   },
   {
    "duration": 37,
    "start_time": "2021-09-06T17:20:59.046Z"
   },
   {
    "duration": 21,
    "start_time": "2021-09-06T17:20:59.087Z"
   },
   {
    "duration": 47,
    "start_time": "2021-09-06T17:20:59.111Z"
   },
   {
    "duration": 31,
    "start_time": "2021-09-06T17:20:59.160Z"
   },
   {
    "duration": 54,
    "start_time": "2021-09-06T17:20:59.194Z"
   },
   {
    "duration": 17,
    "start_time": "2021-09-06T17:20:59.251Z"
   },
   {
    "duration": 416,
    "start_time": "2021-09-06T17:20:59.270Z"
   },
   {
    "duration": -175,
    "start_time": "2021-09-06T17:20:59.864Z"
   },
   {
    "duration": -176,
    "start_time": "2021-09-06T17:20:59.867Z"
   },
   {
    "duration": -180,
    "start_time": "2021-09-06T17:20:59.872Z"
   },
   {
    "duration": -184,
    "start_time": "2021-09-06T17:20:59.878Z"
   },
   {
    "duration": -186,
    "start_time": "2021-09-06T17:20:59.881Z"
   },
   {
    "duration": -189,
    "start_time": "2021-09-06T17:20:59.886Z"
   },
   {
    "duration": -192,
    "start_time": "2021-09-06T17:20:59.891Z"
   },
   {
    "duration": -193,
    "start_time": "2021-09-06T17:20:59.893Z"
   },
   {
    "duration": -197,
    "start_time": "2021-09-06T17:20:59.899Z"
   },
   {
    "duration": -199,
    "start_time": "2021-09-06T17:20:59.902Z"
   },
   {
    "duration": 48,
    "start_time": "2021-09-06T17:21:29.011Z"
   },
   {
    "duration": 1412,
    "start_time": "2021-09-06T17:21:38.476Z"
   },
   {
    "duration": 49,
    "start_time": "2021-09-06T17:21:39.891Z"
   },
   {
    "duration": 46,
    "start_time": "2021-09-06T17:21:39.948Z"
   },
   {
    "duration": 20,
    "start_time": "2021-09-06T17:21:39.998Z"
   },
   {
    "duration": 35,
    "start_time": "2021-09-06T17:21:40.021Z"
   },
   {
    "duration": 26,
    "start_time": "2021-09-06T17:21:40.059Z"
   },
   {
    "duration": 25,
    "start_time": "2021-09-06T17:21:40.089Z"
   },
   {
    "duration": 17,
    "start_time": "2021-09-06T17:21:40.118Z"
   },
   {
    "duration": 37,
    "start_time": "2021-09-06T17:21:40.137Z"
   },
   {
    "duration": 22,
    "start_time": "2021-09-06T17:21:40.176Z"
   },
   {
    "duration": 46,
    "start_time": "2021-09-06T17:21:40.200Z"
   },
   {
    "duration": 21,
    "start_time": "2021-09-06T17:21:40.248Z"
   },
   {
    "duration": 56,
    "start_time": "2021-09-06T17:21:40.271Z"
   },
   {
    "duration": 5,
    "start_time": "2021-09-06T17:21:40.329Z"
   },
   {
    "duration": 423,
    "start_time": "2021-09-06T17:21:40.336Z"
   },
   {
    "duration": -170,
    "start_time": "2021-09-06T17:21:40.932Z"
   },
   {
    "duration": -171,
    "start_time": "2021-09-06T17:21:40.934Z"
   },
   {
    "duration": -176,
    "start_time": "2021-09-06T17:21:40.941Z"
   },
   {
    "duration": -181,
    "start_time": "2021-09-06T17:21:40.947Z"
   },
   {
    "duration": -187,
    "start_time": "2021-09-06T17:21:40.954Z"
   },
   {
    "duration": -190,
    "start_time": "2021-09-06T17:21:40.959Z"
   },
   {
    "duration": -191,
    "start_time": "2021-09-06T17:21:40.961Z"
   },
   {
    "duration": -195,
    "start_time": "2021-09-06T17:21:40.966Z"
   },
   {
    "duration": 10,
    "start_time": "2021-09-06T17:22:16.375Z"
   },
   {
    "duration": 620,
    "start_time": "2021-09-06T17:22:45.905Z"
   },
   {
    "duration": 293,
    "start_time": "2021-09-06T17:24:04.062Z"
   },
   {
    "duration": 338,
    "start_time": "2021-09-06T17:31:28.803Z"
   },
   {
    "duration": 292,
    "start_time": "2021-09-06T17:31:42.156Z"
   },
   {
    "duration": 276,
    "start_time": "2021-09-06T17:34:06.736Z"
   },
   {
    "duration": 6,
    "start_time": "2021-09-06T17:34:17.118Z"
   },
   {
    "duration": 1439,
    "start_time": "2021-09-06T17:34:23.138Z"
   },
   {
    "duration": 36,
    "start_time": "2021-09-06T17:34:24.580Z"
   },
   {
    "duration": 35,
    "start_time": "2021-09-06T17:34:24.619Z"
   },
   {
    "duration": 10,
    "start_time": "2021-09-06T17:34:24.657Z"
   },
   {
    "duration": 10,
    "start_time": "2021-09-06T17:34:24.669Z"
   },
   {
    "duration": 12,
    "start_time": "2021-09-06T17:34:24.681Z"
   },
   {
    "duration": 20,
    "start_time": "2021-09-06T17:34:24.695Z"
   },
   {
    "duration": 18,
    "start_time": "2021-09-06T17:34:24.718Z"
   },
   {
    "duration": 28,
    "start_time": "2021-09-06T17:34:24.740Z"
   },
   {
    "duration": 8,
    "start_time": "2021-09-06T17:34:24.770Z"
   },
   {
    "duration": 34,
    "start_time": "2021-09-06T17:34:24.780Z"
   },
   {
    "duration": 7,
    "start_time": "2021-09-06T17:34:24.816Z"
   },
   {
    "duration": 40,
    "start_time": "2021-09-06T17:34:24.825Z"
   },
   {
    "duration": 48,
    "start_time": "2021-09-06T17:34:24.868Z"
   },
   {
    "duration": 11,
    "start_time": "2021-09-06T17:34:24.919Z"
   },
   {
    "duration": 105,
    "start_time": "2021-09-06T17:34:24.956Z"
   },
   {
    "duration": 113,
    "start_time": "2021-09-06T17:34:25.065Z"
   },
   {
    "duration": 8402,
    "start_time": "2021-09-06T17:34:25.257Z"
   },
   {
    "duration": 197,
    "start_time": "2021-09-06T17:34:33.662Z"
   },
   {
    "duration": 495,
    "start_time": "2021-09-06T17:34:33.863Z"
   },
   {
    "duration": -178,
    "start_time": "2021-09-06T17:34:34.538Z"
   },
   {
    "duration": -184,
    "start_time": "2021-09-06T17:34:34.546Z"
   },
   {
    "duration": -185,
    "start_time": "2021-09-06T17:34:34.548Z"
   },
   {
    "duration": -192,
    "start_time": "2021-09-06T17:34:34.556Z"
   },
   {
    "duration": 1269,
    "start_time": "2021-09-06T17:35:16.709Z"
   },
   {
    "duration": 37,
    "start_time": "2021-09-06T17:35:17.980Z"
   },
   {
    "duration": 37,
    "start_time": "2021-09-06T17:35:18.020Z"
   },
   {
    "duration": 39,
    "start_time": "2021-09-06T17:35:18.061Z"
   },
   {
    "duration": 7,
    "start_time": "2021-09-06T17:35:18.103Z"
   },
   {
    "duration": 7,
    "start_time": "2021-09-06T17:35:18.113Z"
   },
   {
    "duration": 10,
    "start_time": "2021-09-06T17:35:18.122Z"
   },
   {
    "duration": 4,
    "start_time": "2021-09-06T17:35:18.135Z"
   },
   {
    "duration": 18,
    "start_time": "2021-09-06T17:35:18.155Z"
   },
   {
    "duration": 13,
    "start_time": "2021-09-06T17:35:18.175Z"
   },
   {
    "duration": 30,
    "start_time": "2021-09-06T17:35:18.190Z"
   },
   {
    "duration": 31,
    "start_time": "2021-09-06T17:35:18.223Z"
   },
   {
    "duration": 22,
    "start_time": "2021-09-06T17:35:18.257Z"
   },
   {
    "duration": 43,
    "start_time": "2021-09-06T17:35:18.281Z"
   },
   {
    "duration": 30,
    "start_time": "2021-09-06T17:35:18.326Z"
   },
   {
    "duration": 199,
    "start_time": "2021-09-06T17:35:18.359Z"
   },
   {
    "duration": 95,
    "start_time": "2021-09-06T17:35:18.560Z"
   },
   {
    "duration": 8397,
    "start_time": "2021-09-06T17:35:18.659Z"
   },
   {
    "duration": 210,
    "start_time": "2021-09-06T17:35:27.060Z"
   },
   {
    "duration": 291,
    "start_time": "2021-09-06T17:35:27.273Z"
   },
   {
    "duration": 111,
    "start_time": "2021-09-06T17:35:27.566Z"
   },
   {
    "duration": 62431,
    "start_time": "2021-09-06T17:35:27.679Z"
   },
   {
    "duration": -197,
    "start_time": "2021-09-06T17:36:30.310Z"
   },
   {
    "duration": -215,
    "start_time": "2021-09-06T17:36:30.329Z"
   },
   {
    "duration": 61969,
    "start_time": "2021-09-06T17:36:49.528Z"
   },
   {
    "duration": 56,
    "start_time": "2021-09-06T17:38:34.617Z"
   },
   {
    "duration": 10,
    "start_time": "2021-09-06T17:38:36.788Z"
   },
   {
    "duration": 65,
    "start_time": "2021-09-06T17:43:18.523Z"
   },
   {
    "duration": 68,
    "start_time": "2021-09-06T17:43:44.884Z"
   },
   {
    "duration": 43,
    "start_time": "2021-09-06T17:44:03.793Z"
   },
   {
    "duration": 1377,
    "start_time": "2021-09-06T17:45:11.857Z"
   },
   {
    "duration": 37,
    "start_time": "2021-09-06T17:45:13.236Z"
   },
   {
    "duration": 28,
    "start_time": "2021-09-06T17:45:13.276Z"
   },
   {
    "duration": 17,
    "start_time": "2021-09-06T17:45:13.307Z"
   },
   {
    "duration": 8,
    "start_time": "2021-09-06T17:45:13.354Z"
   },
   {
    "duration": 9,
    "start_time": "2021-09-06T17:45:13.365Z"
   },
   {
    "duration": 12,
    "start_time": "2021-09-06T17:45:13.376Z"
   },
   {
    "duration": 5,
    "start_time": "2021-09-06T17:45:13.391Z"
   },
   {
    "duration": 61,
    "start_time": "2021-09-06T17:45:13.400Z"
   },
   {
    "duration": 14,
    "start_time": "2021-09-06T17:45:13.464Z"
   },
   {
    "duration": 37,
    "start_time": "2021-09-06T17:45:13.480Z"
   },
   {
    "duration": 7,
    "start_time": "2021-09-06T17:45:13.519Z"
   },
   {
    "duration": 16,
    "start_time": "2021-09-06T17:45:13.556Z"
   },
   {
    "duration": 4,
    "start_time": "2021-09-06T17:45:13.575Z"
   },
   {
    "duration": 25,
    "start_time": "2021-09-06T17:45:13.582Z"
   },
   {
    "duration": 244,
    "start_time": "2021-09-06T17:45:13.610Z"
   },
   {
    "duration": 48,
    "start_time": "2021-09-06T17:45:13.857Z"
   },
   {
    "duration": 17299,
    "start_time": "2021-09-06T17:45:13.956Z"
   },
   {
    "duration": 197,
    "start_time": "2021-09-06T17:45:31.258Z"
   },
   {
    "duration": 211,
    "start_time": "2021-09-06T17:45:31.459Z"
   },
   {
    "duration": 122,
    "start_time": "2021-09-06T17:45:31.673Z"
   },
   {
    "duration": 68611,
    "start_time": "2021-09-06T17:45:31.798Z"
   },
   {
    "duration": 69,
    "start_time": "2021-09-06T17:46:40.412Z"
   },
   {
    "duration": 10,
    "start_time": "2021-09-06T17:46:40.484Z"
   },
   {
    "duration": 11,
    "start_time": "2021-09-06T17:47:15.420Z"
   },
   {
    "duration": 413,
    "start_time": "2021-09-06T17:51:48.274Z"
   },
   {
    "duration": 6,
    "start_time": "2021-09-06T17:52:20.071Z"
   },
   {
    "duration": 284,
    "start_time": "2021-09-06T17:52:27.355Z"
   },
   {
    "duration": 16,
    "start_time": "2021-09-06T17:52:58.562Z"
   },
   {
    "duration": 352,
    "start_time": "2021-09-06T17:56:11.389Z"
   },
   {
    "duration": 113,
    "start_time": "2021-09-06T17:56:34.610Z"
   },
   {
    "duration": 270,
    "start_time": "2021-09-06T17:56:40.172Z"
   },
   {
    "duration": 87,
    "start_time": "2021-09-06T18:00:19.440Z"
   },
   {
    "duration": 12,
    "start_time": "2021-09-06T18:02:35.519Z"
   },
   {
    "duration": 1412,
    "start_time": "2021-09-06T18:02:42.268Z"
   },
   {
    "duration": 36,
    "start_time": "2021-09-06T18:02:43.683Z"
   },
   {
    "duration": 22,
    "start_time": "2021-09-06T18:02:43.723Z"
   },
   {
    "duration": 12,
    "start_time": "2021-09-06T18:02:43.754Z"
   },
   {
    "duration": 23,
    "start_time": "2021-09-06T18:02:43.769Z"
   },
   {
    "duration": 24,
    "start_time": "2021-09-06T18:02:43.794Z"
   },
   {
    "duration": 26,
    "start_time": "2021-09-06T18:02:43.821Z"
   },
   {
    "duration": 18,
    "start_time": "2021-09-06T18:02:43.849Z"
   },
   {
    "duration": 31,
    "start_time": "2021-09-06T18:02:43.872Z"
   },
   {
    "duration": 20,
    "start_time": "2021-09-06T18:02:43.907Z"
   },
   {
    "duration": 47,
    "start_time": "2021-09-06T18:02:43.929Z"
   },
   {
    "duration": 8,
    "start_time": "2021-09-06T18:02:43.979Z"
   },
   {
    "duration": 31,
    "start_time": "2021-09-06T18:02:43.990Z"
   },
   {
    "duration": 14,
    "start_time": "2021-09-06T18:02:44.024Z"
   },
   {
    "duration": 417,
    "start_time": "2021-09-06T18:02:44.040Z"
   },
   {
    "duration": -215,
    "start_time": "2021-09-06T18:02:44.676Z"
   },
   {
    "duration": -219,
    "start_time": "2021-09-06T18:02:44.682Z"
   },
   {
    "duration": -222,
    "start_time": "2021-09-06T18:02:44.687Z"
   },
   {
    "duration": -226,
    "start_time": "2021-09-06T18:02:44.693Z"
   },
   {
    "duration": -227,
    "start_time": "2021-09-06T18:02:44.697Z"
   },
   {
    "duration": -231,
    "start_time": "2021-09-06T18:02:44.703Z"
   },
   {
    "duration": -238,
    "start_time": "2021-09-06T18:02:44.712Z"
   },
   {
    "duration": -246,
    "start_time": "2021-09-06T18:02:44.722Z"
   },
   {
    "duration": -250,
    "start_time": "2021-09-06T18:02:44.729Z"
   },
   {
    "duration": 5,
    "start_time": "2021-09-06T18:03:05.217Z"
   },
   {
    "duration": 1518,
    "start_time": "2021-09-06T18:03:10.175Z"
   },
   {
    "duration": 37,
    "start_time": "2021-09-06T18:03:11.695Z"
   },
   {
    "duration": 22,
    "start_time": "2021-09-06T18:03:11.735Z"
   },
   {
    "duration": 14,
    "start_time": "2021-09-06T18:03:11.759Z"
   },
   {
    "duration": 6,
    "start_time": "2021-09-06T18:03:11.776Z"
   },
   {
    "duration": 8,
    "start_time": "2021-09-06T18:03:11.784Z"
   },
   {
    "duration": 11,
    "start_time": "2021-09-06T18:03:11.795Z"
   },
   {
    "duration": 4,
    "start_time": "2021-09-06T18:03:11.810Z"
   },
   {
    "duration": 21,
    "start_time": "2021-09-06T18:03:11.858Z"
   },
   {
    "duration": 15,
    "start_time": "2021-09-06T18:03:11.882Z"
   },
   {
    "duration": 61,
    "start_time": "2021-09-06T18:03:11.900Z"
   },
   {
    "duration": 10,
    "start_time": "2021-09-06T18:03:11.964Z"
   },
   {
    "duration": 16,
    "start_time": "2021-09-06T18:03:11.977Z"
   },
   {
    "duration": 14,
    "start_time": "2021-09-06T18:03:11.996Z"
   },
   {
    "duration": 45,
    "start_time": "2021-09-06T18:03:12.012Z"
   },
   {
    "duration": 101,
    "start_time": "2021-09-06T18:03:12.060Z"
   },
   {
    "duration": 190,
    "start_time": "2021-09-06T18:03:12.164Z"
   },
   {
    "duration": 674,
    "start_time": "2021-09-06T18:03:12.358Z"
   },
   {
    "duration": -225,
    "start_time": "2021-09-06T18:03:13.259Z"
   },
   {
    "duration": -229,
    "start_time": "2021-09-06T18:03:13.265Z"
   },
   {
    "duration": -234,
    "start_time": "2021-09-06T18:03:13.271Z"
   },
   {
    "duration": -235,
    "start_time": "2021-09-06T18:03:13.274Z"
   },
   {
    "duration": -239,
    "start_time": "2021-09-06T18:03:13.279Z"
   },
   {
    "duration": -245,
    "start_time": "2021-09-06T18:03:13.287Z"
   },
   {
    "duration": 1452,
    "start_time": "2021-09-06T18:04:03.514Z"
   },
   {
    "duration": 38,
    "start_time": "2021-09-06T18:04:04.969Z"
   },
   {
    "duration": 23,
    "start_time": "2021-09-06T18:04:05.009Z"
   },
   {
    "duration": 30,
    "start_time": "2021-09-06T18:04:05.034Z"
   },
   {
    "duration": 18,
    "start_time": "2021-09-06T18:04:05.067Z"
   },
   {
    "duration": 18,
    "start_time": "2021-09-06T18:04:05.088Z"
   },
   {
    "duration": 20,
    "start_time": "2021-09-06T18:04:05.110Z"
   },
   {
    "duration": 18,
    "start_time": "2021-09-06T18:04:05.133Z"
   },
   {
    "duration": 31,
    "start_time": "2021-09-06T18:04:05.154Z"
   },
   {
    "duration": 31,
    "start_time": "2021-09-06T18:04:05.187Z"
   },
   {
    "duration": 60,
    "start_time": "2021-09-06T18:04:05.220Z"
   },
   {
    "duration": 12,
    "start_time": "2021-09-06T18:04:05.283Z"
   },
   {
    "duration": 33,
    "start_time": "2021-09-06T18:04:05.298Z"
   },
   {
    "duration": 56,
    "start_time": "2021-09-06T18:04:05.334Z"
   },
   {
    "duration": 10,
    "start_time": "2021-09-06T18:04:05.393Z"
   },
   {
    "duration": 59,
    "start_time": "2021-09-06T18:04:05.405Z"
   },
   {
    "duration": 198,
    "start_time": "2021-09-06T18:04:05.555Z"
   },
   {
    "duration": 8499,
    "start_time": "2021-09-06T18:04:05.757Z"
   },
   {
    "duration": 214,
    "start_time": "2021-09-06T18:04:14.260Z"
   },
   {
    "duration": 287,
    "start_time": "2021-09-06T18:04:14.478Z"
   },
   {
    "duration": 112,
    "start_time": "2021-09-06T18:04:14.768Z"
   },
   {
    "duration": 60814,
    "start_time": "2021-09-06T18:04:14.885Z"
   },
   {
    "duration": 74,
    "start_time": "2021-09-06T18:05:15.701Z"
   },
   {
    "duration": 294,
    "start_time": "2021-09-06T18:05:15.777Z"
   },
   {
    "duration": 672,
    "start_time": "2021-09-06T18:06:10.661Z"
   },
   {
    "duration": 276,
    "start_time": "2021-09-06T18:06:39.027Z"
   },
   {
    "duration": 428,
    "start_time": "2021-09-06T18:06:45.851Z"
   },
   {
    "duration": 116,
    "start_time": "2021-09-06T18:06:57.578Z"
   },
   {
    "duration": 99,
    "start_time": "2021-09-06T18:06:59.289Z"
   },
   {
    "duration": 26,
    "start_time": "2021-09-06T18:38:31.919Z"
   },
   {
    "duration": 1430,
    "start_time": "2021-09-06T18:39:02.462Z"
   },
   {
    "duration": 37,
    "start_time": "2021-09-06T18:39:03.895Z"
   },
   {
    "duration": 26,
    "start_time": "2021-09-06T18:39:03.936Z"
   },
   {
    "duration": 17,
    "start_time": "2021-09-06T18:39:03.965Z"
   },
   {
    "duration": 13,
    "start_time": "2021-09-06T18:39:03.984Z"
   },
   {
    "duration": 24,
    "start_time": "2021-09-06T18:39:04.000Z"
   },
   {
    "duration": 26,
    "start_time": "2021-09-06T18:39:04.026Z"
   },
   {
    "duration": 8,
    "start_time": "2021-09-06T18:39:04.056Z"
   },
   {
    "duration": 37,
    "start_time": "2021-09-06T18:39:04.067Z"
   },
   {
    "duration": 7,
    "start_time": "2021-09-06T18:39:04.106Z"
   },
   {
    "duration": 46,
    "start_time": "2021-09-06T18:39:04.115Z"
   },
   {
    "duration": 6,
    "start_time": "2021-09-06T18:39:04.163Z"
   },
   {
    "duration": 25,
    "start_time": "2021-09-06T18:39:04.172Z"
   },
   {
    "duration": 62,
    "start_time": "2021-09-06T18:39:04.199Z"
   },
   {
    "duration": 11,
    "start_time": "2021-09-06T18:39:04.263Z"
   },
   {
    "duration": 185,
    "start_time": "2021-09-06T18:39:04.277Z"
   },
   {
    "duration": 91,
    "start_time": "2021-09-06T18:39:04.466Z"
   },
   {
    "duration": 8594,
    "start_time": "2021-09-06T18:39:04.560Z"
   },
   {
    "duration": 196,
    "start_time": "2021-09-06T18:39:13.158Z"
   },
   {
    "duration": 220,
    "start_time": "2021-09-06T18:39:13.359Z"
   },
   {
    "duration": 110,
    "start_time": "2021-09-06T18:39:13.581Z"
   },
   {
    "duration": 61761,
    "start_time": "2021-09-06T18:39:13.694Z"
   },
   {
    "duration": 57,
    "start_time": "2021-09-06T18:40:15.459Z"
   },
   {
    "duration": 303,
    "start_time": "2021-09-06T18:40:15.519Z"
   }
  ],
  "kernelspec": {
   "display_name": "Python 3",
   "language": "python",
   "name": "python3"
  },
  "language_info": {
   "codemirror_mode": {
    "name": "ipython",
    "version": 3
   },
   "file_extension": ".py",
   "mimetype": "text/x-python",
   "name": "python",
   "nbconvert_exporter": "python",
   "pygments_lexer": "ipython3",
   "version": "3.8.8"
  },
  "toc": {
   "base_numbering": 1,
   "nav_menu": {},
   "number_sections": true,
   "sideBar": true,
   "skip_h1_title": true,
   "title_cell": "Содержание",
   "title_sidebar": "Contents",
   "toc_cell": true,
   "toc_position": {
    "height": "calc(100% - 180px)",
    "left": "10px",
    "top": "150px",
    "width": "230.4px"
   },
   "toc_section_display": true,
   "toc_window_display": false
  }
 },
 "nbformat": 4,
 "nbformat_minor": 2
}
