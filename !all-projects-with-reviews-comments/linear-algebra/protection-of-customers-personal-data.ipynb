{
 "cells": [
  {
   "cell_type": "markdown",
   "metadata": {},
   "source": [
    "<div style=\"background: #cceeaa; padding: 5px; border: 1px solid green; border-radius: 5px;\">\n",
    "    <font color='green'> <b><u>КОММЕНТАРИЙ РЕВЬЮЕРА</u></b>\n",
    "\n",
    "Александр, доброго дня! рад приветствовать тебя вновь) <br />\n",
    "(А дальше - шаблонная часть, как ты заметил по другим спринтам)<br>\n",
    "<br />\n",
    "Меня зовут Николай Шавлюго. <br />И на этом этапе твоего движения к новой профессии от меня будут комментарии по написанному коду. <br />Чтобы меньше \"мусорить эфир\" и чтобы максимально наглядно отделяться от основного кода, есть предложение условиться в некоторых обозначениях:<br /> <br />\n",
    "<u><b>ТАКОЙ ШРИФТ</b></u> - всегда начало комментария <br />\n",
    "<font color='green'>такой шрифт</font> - комментарии о том, что всё ОК <br/>\n",
    "<font color='orange'>такой шрифт</font> - комментарии о том, что всё ОК по результату,<br> однако есть на что обратить внимание в плане применения техник, или есть способы сделать более короткий или быстрый код <br/>\n",
    "<font color='red'>такой шрифт</font> - комментарии о том, что есть критичный момент, влияющий на бизнес-результат проекта.<br/>\n",
    "</font><br /><br />\n",
    "<font color='green'>Моей целью является не \"уличить\" в не знании, а просто высказать сверху твоих знаний - свой опыт, что бы ты мог использовать его для своего дальнейшего успеха) И очень здорово будет, если тебе удастся задавать вопросы, да и вообще - всячески доставать меня, если я по каким-то причинам не приму проект:) При этом, из своего опыта скажу, хорошо и важно, когда переписка ревьюера и студента - сохраняется на следующие проекты и даже на будущую практическую деятельность.<br>\n",
    "<BR> В ПУТЬ!<br>"
   ]
  },
  {
   "cell_type": "markdown",
   "metadata": {},
   "source": [
    "<div style=\"background: #cceeaa; padding: 5px; border: 1px solid green; border-radius: 5px;\">\n",
    "    <font color='green'> <b><u>КОММЕНТАРИЙ СТУДЕНТА</u></b>\n",
    "</font>\n",
    "<font color='blue'><br>\n",
    "    \n",
    "И снова здравствуйте, Николай :))\n",
    "    \n",
    "Взаимно!"
   ]
  },
  {
   "cell_type": "markdown",
   "metadata": {},
   "source": [
    "<div style=\"background: #cceeaa; padding: 5px; border: 1px solid green; border-radius: 5px;\">\n",
    "    <font color='green'> <b><u>КОММЕНТАРИЙ РЕВЬЮЕРА 2</u></b>\n",
    "</font>\n",
    "<font color='green'><br>Доброго времени суток)"
   ]
  },
  {
   "cell_type": "markdown",
   "metadata": {
    "toc": true
   },
   "source": [
    "<h1>Содержание<span class=\"tocSkip\"></span></h1>\n",
    "<div class=\"toc\"><ul class=\"toc-item\"><li><span><a href=\"#Загрузка-данных\" data-toc-modified-id=\"Загрузка-данных-1\"><span class=\"toc-item-num\">1&nbsp;&nbsp;</span>Загрузка данных</a></span></li><li><span><a href=\"#Умножение-матриц\" data-toc-modified-id=\"Умножение-матриц-2\"><span class=\"toc-item-num\">2&nbsp;&nbsp;</span>Умножение матриц</a></span></li><li><span><a href=\"#Алгоритм-преобразования\" data-toc-modified-id=\"Алгоритм-преобразования-3\"><span class=\"toc-item-num\">3&nbsp;&nbsp;</span>Алгоритм преобразования</a></span></li><li><span><a href=\"#Проверка-алгоритма\" data-toc-modified-id=\"Проверка-алгоритма-4\"><span class=\"toc-item-num\">4&nbsp;&nbsp;</span>Проверка алгоритма</a></span></li><li><span><a href=\"#Чек-лист-проверки\" data-toc-modified-id=\"Чек-лист-проверки-5\"><span class=\"toc-item-num\">5&nbsp;&nbsp;</span>Чек-лист проверки</a></span></li></ul></div>"
   ]
  },
  {
   "cell_type": "markdown",
   "metadata": {},
   "source": [
    "# Защита персональных данных клиентов"
   ]
  },
  {
   "cell_type": "markdown",
   "metadata": {},
   "source": [
    "Вам нужно защитить данные клиентов страховой компании «Хоть потоп». Разработайте такой метод преобразования данных, чтобы по ним было сложно восстановить персональную информацию. Обоснуйте корректность его работы.\n",
    "\n",
    "Нужно защитить данные, чтобы при преобразовании качество моделей машинного обучения не ухудшилось. Подбирать наилучшую модель не требуется."
   ]
  },
  {
   "cell_type": "markdown",
   "metadata": {},
   "source": [
    "***Импорты***"
   ]
  },
  {
   "cell_type": "code",
   "execution_count": 1,
   "metadata": {},
   "outputs": [],
   "source": [
    "import pandas as pd\n",
    "import numpy as np\n",
    "\n",
    "from sklearn.model_selection import train_test_split\n",
    "from sklearn.linear_model import LinearRegression\n",
    "from sklearn.metrics import mean_squared_error\n",
    "from sklearn.metrics import r2_score\n",
    "\n",
    "from sklearn.preprocessing import StandardScaler"
   ]
  },
  {
   "cell_type": "markdown",
   "metadata": {},
   "source": [
    "## Загрузка данных"
   ]
  },
  {
   "cell_type": "code",
   "execution_count": 2,
   "metadata": {},
   "outputs": [],
   "source": [
    "df = pd.read_csv('/datasets/insurance.csv')"
   ]
  },
  {
   "cell_type": "code",
   "execution_count": 3,
   "metadata": {},
   "outputs": [
    {
     "data": {
      "text/html": [
       "<div>\n",
       "<style scoped>\n",
       "    .dataframe tbody tr th:only-of-type {\n",
       "        vertical-align: middle;\n",
       "    }\n",
       "\n",
       "    .dataframe tbody tr th {\n",
       "        vertical-align: top;\n",
       "    }\n",
       "\n",
       "    .dataframe thead th {\n",
       "        text-align: right;\n",
       "    }\n",
       "</style>\n",
       "<table border=\"1\" class=\"dataframe\">\n",
       "  <thead>\n",
       "    <tr style=\"text-align: right;\">\n",
       "      <th></th>\n",
       "      <th>Пол</th>\n",
       "      <th>Возраст</th>\n",
       "      <th>Зарплата</th>\n",
       "      <th>Члены семьи</th>\n",
       "      <th>Страховые выплаты</th>\n",
       "    </tr>\n",
       "  </thead>\n",
       "  <tbody>\n",
       "    <tr>\n",
       "      <td>0</td>\n",
       "      <td>1</td>\n",
       "      <td>41.0</td>\n",
       "      <td>49600.0</td>\n",
       "      <td>1</td>\n",
       "      <td>0</td>\n",
       "    </tr>\n",
       "    <tr>\n",
       "      <td>1</td>\n",
       "      <td>0</td>\n",
       "      <td>46.0</td>\n",
       "      <td>38000.0</td>\n",
       "      <td>1</td>\n",
       "      <td>1</td>\n",
       "    </tr>\n",
       "    <tr>\n",
       "      <td>2</td>\n",
       "      <td>0</td>\n",
       "      <td>29.0</td>\n",
       "      <td>21000.0</td>\n",
       "      <td>0</td>\n",
       "      <td>0</td>\n",
       "    </tr>\n",
       "    <tr>\n",
       "      <td>3</td>\n",
       "      <td>0</td>\n",
       "      <td>21.0</td>\n",
       "      <td>41700.0</td>\n",
       "      <td>2</td>\n",
       "      <td>0</td>\n",
       "    </tr>\n",
       "    <tr>\n",
       "      <td>4</td>\n",
       "      <td>1</td>\n",
       "      <td>28.0</td>\n",
       "      <td>26100.0</td>\n",
       "      <td>0</td>\n",
       "      <td>0</td>\n",
       "    </tr>\n",
       "    <tr>\n",
       "      <td>5</td>\n",
       "      <td>1</td>\n",
       "      <td>43.0</td>\n",
       "      <td>41000.0</td>\n",
       "      <td>2</td>\n",
       "      <td>1</td>\n",
       "    </tr>\n",
       "    <tr>\n",
       "      <td>6</td>\n",
       "      <td>1</td>\n",
       "      <td>39.0</td>\n",
       "      <td>39700.0</td>\n",
       "      <td>2</td>\n",
       "      <td>0</td>\n",
       "    </tr>\n",
       "    <tr>\n",
       "      <td>7</td>\n",
       "      <td>1</td>\n",
       "      <td>25.0</td>\n",
       "      <td>38600.0</td>\n",
       "      <td>4</td>\n",
       "      <td>0</td>\n",
       "    </tr>\n",
       "    <tr>\n",
       "      <td>8</td>\n",
       "      <td>1</td>\n",
       "      <td>36.0</td>\n",
       "      <td>49700.0</td>\n",
       "      <td>1</td>\n",
       "      <td>0</td>\n",
       "    </tr>\n",
       "    <tr>\n",
       "      <td>9</td>\n",
       "      <td>1</td>\n",
       "      <td>32.0</td>\n",
       "      <td>51700.0</td>\n",
       "      <td>1</td>\n",
       "      <td>0</td>\n",
       "    </tr>\n",
       "  </tbody>\n",
       "</table>\n",
       "</div>"
      ],
      "text/plain": [
       "   Пол  Возраст  Зарплата  Члены семьи  Страховые выплаты\n",
       "0    1     41.0   49600.0            1                  0\n",
       "1    0     46.0   38000.0            1                  1\n",
       "2    0     29.0   21000.0            0                  0\n",
       "3    0     21.0   41700.0            2                  0\n",
       "4    1     28.0   26100.0            0                  0\n",
       "5    1     43.0   41000.0            2                  1\n",
       "6    1     39.0   39700.0            2                  0\n",
       "7    1     25.0   38600.0            4                  0\n",
       "8    1     36.0   49700.0            1                  0\n",
       "9    1     32.0   51700.0            1                  0"
      ]
     },
     "execution_count": 3,
     "metadata": {},
     "output_type": "execute_result"
    }
   ],
   "source": [
    "df.head(10)"
   ]
  },
  {
   "cell_type": "code",
   "execution_count": 4,
   "metadata": {
    "scrolled": true
   },
   "outputs": [
    {
     "name": "stdout",
     "output_type": "stream",
     "text": [
      "<class 'pandas.core.frame.DataFrame'>\n",
      "RangeIndex: 5000 entries, 0 to 4999\n",
      "Data columns (total 5 columns):\n",
      "Пол                  5000 non-null int64\n",
      "Возраст              5000 non-null float64\n",
      "Зарплата             5000 non-null float64\n",
      "Члены семьи          5000 non-null int64\n",
      "Страховые выплаты    5000 non-null int64\n",
      "dtypes: float64(2), int64(3)\n",
      "memory usage: 195.4 KB\n"
     ]
    }
   ],
   "source": [
    "df.info()"
   ]
  },
  {
   "cell_type": "markdown",
   "metadata": {},
   "source": [
    "Данные не содержат пропусков, состоят из соответствующих столбцов с числовыми значениями."
   ]
  },
  {
   "cell_type": "markdown",
   "metadata": {},
   "source": [
    "<div style=\"background: #cceeaa; padding: 5px; border: 1px solid green; border-radius: 5px;\">\n",
    "    <font color='green'> <b><u>КОММЕНТАРИЙ РЕВЬЮЕРА</u></b>\n",
    "</font>\n",
    "<font color='green'><br>ОК, данные на базе)"
   ]
  },
  {
   "cell_type": "markdown",
   "metadata": {},
   "source": [
    "## Умножение матриц"
   ]
  },
  {
   "cell_type": "markdown",
   "metadata": {},
   "source": [
    "В этом задании вы можете записывать формулы в *Jupyter Notebook.*\n",
    "\n",
    "Чтобы записать формулу внутри текста, окружите её символами доллара \\\\$; если снаружи —  двойными символами \\\\$\\\\$. Эти формулы записываются на языке вёрстки *LaTeX.* \n",
    "\n",
    "Для примера мы записали формулы линейной регрессии. Можете их скопировать и отредактировать, чтобы решить задачу.\n",
    "\n",
    "Работать в *LaTeX* необязательно."
   ]
  },
  {
   "cell_type": "markdown",
   "metadata": {},
   "source": [
    "Обозначения:\n",
    "\n",
    "- $X$ — матрица признаков (нулевой столбец состоит из единиц)\n",
    "\n",
    "- $y$ — вектор целевого признака\n",
    "\n",
    "- $P$ — матрица, на которую умножаются признаки\n",
    "\n",
    "- $w$ — вектор весов линейной регрессии (нулевой элемент равен сдвигу)"
   ]
  },
  {
   "cell_type": "markdown",
   "metadata": {},
   "source": [
    "Предсказания:\n",
    "\n",
    "$$\n",
    "a = Xw\n",
    "$$\n",
    "\n",
    "Задача обучения:\n",
    "\n",
    "$$\n",
    "w = \\arg\\min_w MSE(Xw, y)\n",
    "$$\n",
    "\n",
    "Формула обучения:\n",
    "\n",
    "$$\n",
    "w = (X^T X)^{-1} X^T y\n",
    "$$"
   ]
  },
  {
   "cell_type": "markdown",
   "metadata": {},
   "source": [
    "**Вопрос:**\n",
    "\n",
    "Признаки умножают на обратимую матрицу. Изменится ли качество линейной регрессии? (Её можно обучить заново.)\n",
    "\n",
    "a. Изменится. Приведите примеры матриц.\n",
    "\n",
    "b. Не изменится. Укажите, как связаны параметры линейной регрессии в исходной задаче и в преобразованной."
   ]
  },
  {
   "cell_type": "markdown",
   "metadata": {},
   "source": [
    "**Ответ:** b. Не изменится.\n",
    "\n",
    "**Обоснование:**\n",
    "\n",
    "Обратимая матрица: квадратная матрица А порядка n называется обратимой, если существует квадратная матрица A^-1 порядка n такая, что: \n",
    "\n",
    "$\n",
    "AA^{-1} = A^{-1}A = E\n",
    "$\n",
    "\n",
    "Е - единичная матрица, состоящая из нулей и единиц по диалогонали слева-направо\n",
    "\n",
    "\n",
    "Формула весов машинного обучения методом линейной регрессии..."
   ]
  },
  {
   "attachments": {
    "image.png": {
     "image/png": "[encoded data removed]"
    }
   },
   "cell_type": "markdown",
   "metadata": {},
   "source": [
    "![image.png](attachment:image.png)"
   ]
  },
  {
   "cell_type": "markdown",
   "metadata": {},
   "source": [
    "Мы утверждаем, что:\n",
    "\n",
    "$\n",
    "a = Xw = X’w’ = a’\n",
    "$"
   ]
  },
  {
   "cell_type": "markdown",
   "metadata": {},
   "source": [
    "w - весы, X - признаки\n",
    "\n",
    "Если V - обратимая матрица, на которую домножают признаки, тогда w1 это весы для модели с признаками, домноженными на обратимую матрицу V\n",
    "\n",
    "Если:\n",
    "\n",
    "$\n",
    "w = (X^{T}X)^{-1}X^{T}y\n",
    "$\n",
    "\n",
    "Тогда:\n",
    "\n",
    "$\n",
    "w1 = ((X*V)^{T}*(X*V))^{-1}*(X*V)^{T}*y\n",
    "$\n",
    "\n",
    "У матриц есть такие свойства<br>\n",
    "- ($A(BC) = (AB)C$); это свойство ассоциативности (сочетательности) матриц<br>\n",
    "- $(P^T)^{-1} = (P^{-1})^T$; то есть: транспортированная оратная матрица есть обратная матрица транспортированная <br>\n",
    "- $(AB)^T = B^T A^T$; то есть: транспонированное произведение матриц равно произведению транспонированных матриц <br>\n",
    "- $(AB)^{-1} = B^{-1} A^{-1}$,то есть: обратная матрица от произведения двух матриц равна обратной матрицы B(второй) к обратной матрице А(первой)<br>\n",
    "- $P P^{-1} = E$ ; умножение матрицы на свою обратную - есть единичная матрица.<br>\n",
    "\n",
    "\n",
    "И принимая во внимание, что\n",
    "$\n",
    "AA^{-1} = A^{-1}A = E\n",
    "$\n",
    "\n",
    "Получаем:\n",
    "\n",
    "$\n",
    "w1 = (X^{T}*V^{T}*X*V)^{-1}*X^{T}*V^{T}*y\n",
    "$\n",
    "\n",
    "$ X^{-T}*X^{T} = E $  и  $ V^{-T}*V^{T} = E $\n",
    "\n",
    "Тогда:\n",
    "\n",
    "При $\n",
    "AA^{-1} = A^{-1}A = E\n",
    "$, =>  $A^{-1}*E = A$\n",
    "\n",
    "$\n",
    "w1 = (X^{T}*V^{T}*X*V)^{-1}*X^{T}*V^{T}*y = V^{-T}*(X^{T}*X*V)^{-1}*X^{T}*V^{T}*y\n",
    "$\n",
    "\n",
    "$\n",
    "w1 = E*(X^{T}*X*V)^{-1}*X^{T}*y = E*V^{-1}*(X^{T}*X)^{-1}*X^{T}*y\n",
    "$\n",
    "\n",
    "$\n",
    "w = (X^{T}*X)^{-1}*X^{T}*y\n",
    "$\n",
    "\n",
    "$\n",
    "w1 = E*V^{-1}*w*y$, где \n",
    "$\n",
    "w = (X^{T}*X)^{-1}*X^{T}\n",
    "$\n",
    "\n",
    "<font color='blue'><br>\n",
    "Исходя из того, что вы написали и писали в обсуждениях в слаке, я понял взаимосвязь, напишите в комментариях, куда девается Е из последей формулы w1, чтобы все пришло к виду $w' = P^{-1}w$.\n",
    "\n",
    "Думаю, это мой единственный вопрос по этому проекту.<br>\n",
    "    \n",
    "Или на ночь глядя я опять туплю и из-за невнимательности где-то забыл минус или еще че, если да, то скажите где?  :-)"
   ]
  },
  {
   "cell_type": "markdown",
   "metadata": {},
   "source": [
    "<div style=\"background: #cceeaa; padding: 5px; border: 1px solid green; border-radius: 5px;\">\n",
    "    <font color='green'> <b><u>КОММЕНТАРИЙ РЕВЬЮЕРА</u></b>\n",
    "</font>\n",
    "<font color='red'><br>\n",
    "У матриц есть такие свойста<br>\n",
    "- ($A(BC) = (AB)C$); это свойство ассоциативности (сочетательности) матриц<br>\n",
    "- $(P^T)^{-1} = (P^{-1})^T$; то есть: транспортированная оратная матрица есть обратная матрица транспортированная <br>\n",
    "- $(AB)^T = B^T A^T$; то есть: транспонированное произведение матриц равно произведению транспонированных матриц <br>\n",
    "- $(AB)^{-1} = B^{-1} A^{-1}$,то есть: обратная матрица от произведения двух матриц равна обратной матрицы B(второй) к обратной матрице А(первой)<br>\n",
    "- $P P^{-1} = E$ ; умножение матрицы на свою обратную - есть единичная матрица.<br>\n",
    "    \n",
    "Есть ощущение, что не все свойства матриц соблюдаются.<br>\n",
    "    \n",
    "А идейно - ОК: Через выражение (при подстановке $w' = ((XP)^T XP)^{-1} (XP)^T y$) надо дойти до $w' = P^{-1}w$ , где $w = (X^T X)^{-1} X^T y$ Это и будет доказательством. При этом $ (X^T X)^{-1}$ - не надо раскрывать, так как для неквадратных матриц ($X$ и $X^T$) обратных матриц не существует"
   ]
  },
  {
   "cell_type": "markdown",
   "metadata": {},
   "source": [
    "<div style=\"background: #cceeaa; padding: 5px; border: 1px solid green; border-radius: 5px;\">\n",
    "    <font color='green'> <b><u>КОММЕНТАРИЙ СТУДЕНТА</u></b>\n",
    "</font>\n",
    "<font color='blue'><br>\n",
    "    \n",
    "В целом, я разобрался, что алгебраическое доказательство ожидалось через выражение w, а не как я все сократил и получил простыню из букв, но что делать с E я не особо понял... Является ли это своеобразным аналогом нуля, который можно отбросить и получить $w1 = V^{-1}*w*y$  или нет?"
   ]
  },
  {
   "cell_type": "markdown",
   "metadata": {},
   "source": [
    "<div style=\"background: #cceeaa; padding: 5px; border: 1px solid green; border-radius: 5px;\">\n",
    "    <font color='green'> <b><u>КОММЕНТАРИЙ РЕВЬЮЕРА 2</u></b>\n",
    "</font>\n",
    "<font color='green'><br>\n",
    "ОК, Александр, всё верно, вроде, прошло)<br>\n",
    "E - это единичная матрица - она как умножение на 1 (аналог 1). Т.е. можно опустить, всё верно.<br>"
   ]
  },
  {
   "cell_type": "code",
   "execution_count": null,
   "metadata": {},
   "outputs": [],
   "source": []
  },
  {
   "cell_type": "code",
   "execution_count": null,
   "metadata": {},
   "outputs": [],
   "source": []
  },
  {
   "cell_type": "markdown",
   "metadata": {},
   "source": [
    "**Создадим модель линейной регрессии для нахождения количества страховых выплат**"
   ]
  },
  {
   "cell_type": "code",
   "execution_count": 5,
   "metadata": {},
   "outputs": [],
   "source": [
    "features = df.drop(['Страховые выплаты'], axis = 1)\n",
    "target = df['Страховые выплаты']"
   ]
  },
  {
   "cell_type": "code",
   "execution_count": 6,
   "metadata": {},
   "outputs": [],
   "source": [
    "features_train, features_valid, target_train, target_valid = train_test_split(features, target, test_size = 0.25, random_state = 12345)"
   ]
  },
  {
   "cell_type": "code",
   "execution_count": 7,
   "metadata": {},
   "outputs": [
    {
     "name": "stdout",
     "output_type": "stream",
     "text": [
      "Размеры тренировочной выборки:\n",
      "(3750, 4)\n",
      "(3750,)\n",
      "Размеры валидационной выборки:\n",
      "(1250, 4)\n",
      "(1250,)\n"
     ]
    }
   ],
   "source": [
    "print('Размеры тренировочной выборки:')\n",
    "print(features_train.shape)\n",
    "print(target_train.shape)\n",
    "\n",
    "print('Размеры валидационной выборки:')\n",
    "print(features_valid.shape)\n",
    "print(target_valid.shape)"
   ]
  },
  {
   "cell_type": "code",
   "execution_count": 8,
   "metadata": {},
   "outputs": [
    {
     "name": "stdout",
     "output_type": "stream",
     "text": [
      "Скаляризация - уравновешивание признаков...\n"
     ]
    }
   ],
   "source": [
    "print('Скаляризация - уравновешивание признаков...')\n",
    "\n",
    "scaler = StandardScaler()\n",
    "\n",
    "features_train = scaler.fit_transform(features_train)\n",
    "features_valid = scaler.transform(features_valid)"
   ]
  },
  {
   "cell_type": "markdown",
   "metadata": {},
   "source": [
    "**Обучим модель и определим RMSE и R2**"
   ]
  },
  {
   "cell_type": "code",
   "execution_count": 9,
   "metadata": {},
   "outputs": [],
   "source": [
    "model = LinearRegression()\n",
    "model.fit(features_train, target_train)\n",
    "predictions_train = model.predict(features_train)\n",
    "predictions_valid = model.predict(features_valid)"
   ]
  },
  {
   "cell_type": "code",
   "execution_count": 10,
   "metadata": {},
   "outputs": [
    {
     "name": "stdout",
     "output_type": "stream",
     "text": [
      "RMSE модели на обучающей выборке: 0.35447723232889156\n",
      "Коэффициент детерминации на обучающей выборке: 0.4213920242579372\n"
     ]
    }
   ],
   "source": [
    "print('RMSE модели на обучающей выборке:', mean_squared_error(target_train, predictions_train)**0.5)\n",
    "print('Коэффициент детерминации на обучающей выборке:', r2_score(target_train, predictions_train))"
   ]
  },
  {
   "cell_type": "code",
   "execution_count": 11,
   "metadata": {},
   "outputs": [
    {
     "name": "stdout",
     "output_type": "stream",
     "text": [
      "RMSE модели на валидационной выборке: 0.3414749986825619\n",
      "Коэффициент детерминации на валидационной выборке: 0.43522757127026657\n"
     ]
    }
   ],
   "source": [
    "print('RMSE модели на валидационной выборке:', mean_squared_error(target_valid, predictions_valid)**0.5)\n",
    "print('Коэффициент детерминации на валидационной выборке:', r2_score(target_valid, predictions_valid))"
   ]
  },
  {
   "cell_type": "markdown",
   "metadata": {},
   "source": [
    "**Создание рандомной матрицы соответствующего размера**"
   ]
  },
  {
   "cell_type": "code",
   "execution_count": 12,
   "metadata": {},
   "outputs": [
    {
     "data": {
      "text/plain": [
       "array([[ 0.34950095, -0.23043985, -0.04723958, -0.15422967],\n",
       "       [-0.26819863,  0.07950807,  0.49996441,  0.33431357],\n",
       "       [ 0.21876245, -0.42889048, -0.99914092,  0.55858455],\n",
       "       [-0.0022644 , -0.71491627, -0.69381073, -0.02703181]])"
      ]
     },
     "execution_count": 12,
     "metadata": {},
     "output_type": "execute_result"
    }
   ],
   "source": [
    "matrix = np.random.normal(size = (4, 4))\n",
    "\n",
    "np.linalg.inv(matrix)"
   ]
  },
  {
   "cell_type": "markdown",
   "metadata": {},
   "source": [
    "<div style=\"background: #cceeaa; padding: 5px; border: 1px solid green; border-radius: 5px;\">\n",
    "    <font color='green'> <b><u>КОММЕНТАРИЙ РЕВЬЮЕРА</u></b>\n",
    "</font>\n",
    "<font color='red'><br>\n",
    "вот здесь бы провреить её обратимость)"
   ]
  },
  {
   "cell_type": "markdown",
   "metadata": {},
   "source": [
    "<div style=\"background: #cceeaa; padding: 5px; border: 1px solid green; border-radius: 5px;\">\n",
    "    <font color='green'> <b><u>КОММЕНТАРИЙ СТУДЕНТА</u></b>\n",
    "</font>\n",
    "<font color='blue'><br>\n",
    "Обратимость проверил, как был сказано в тренажере \"Необратимые матрицы встречаются редко. Если сгенерировать случайную матрицу функцией numpy.random.normal() (англ. «нормальное распределение»), вероятность получить необратимую матрицу близка к нулю.\". Поэтому подумал, что нет смысла проверять обратимость))\n",
    "    \n",
    "Команда np.linalg.inv(matrix) не выдала ошибок, значит сгенерировалась обратимая матрица."
   ]
  },
  {
   "cell_type": "markdown",
   "metadata": {},
   "source": [
    "<div style=\"background: #cceeaa; padding: 5px; border: 1px solid green; border-radius: 5px;\">\n",
    "    <font color='green'> <b><u>КОММЕНТАРИЙ РЕВЬЮЕРА 2</u></b>\n",
    "</font>\n",
    "<font color='green'><br>\n",
    "просто для порядка) маловероятно, но всё же, ОК."
   ]
  },
  {
   "cell_type": "code",
   "execution_count": 13,
   "metadata": {},
   "outputs": [
    {
     "data": {
      "text/plain": [
       "(4, 4)"
      ]
     },
     "execution_count": 13,
     "metadata": {},
     "output_type": "execute_result"
    }
   ],
   "source": [
    "matrix.shape"
   ]
  },
  {
   "cell_type": "code",
   "execution_count": 14,
   "metadata": {},
   "outputs": [
    {
     "data": {
      "text/plain": [
       "(5000, 4)"
      ]
     },
     "execution_count": 14,
     "metadata": {},
     "output_type": "execute_result"
    }
   ],
   "source": [
    "np.array(features).shape"
   ]
  },
  {
   "cell_type": "markdown",
   "metadata": {},
   "source": [
    "**Умножение features на рандомную матрицу**"
   ]
  },
  {
   "cell_type": "code",
   "execution_count": 15,
   "metadata": {},
   "outputs": [],
   "source": [
    "features_new = np.array(features).dot(matrix.T)"
   ]
  },
  {
   "cell_type": "markdown",
   "metadata": {},
   "source": [
    "**Определение новых RMSE и R2**"
   ]
  },
  {
   "cell_type": "code",
   "execution_count": 16,
   "metadata": {},
   "outputs": [],
   "source": [
    "features1_train, features1_valid, target1_train, target1_valid = train_test_split(features_new, target, test_size = 0.25, random_state = 12345)"
   ]
  },
  {
   "cell_type": "code",
   "execution_count": 17,
   "metadata": {},
   "outputs": [
    {
     "name": "stdout",
     "output_type": "stream",
     "text": [
      "Скаляризация - уравновешивание признаков...\n"
     ]
    }
   ],
   "source": [
    "print('Скаляризация - уравновешивание признаков...')\n",
    "\n",
    "scaler = StandardScaler()\n",
    "\n",
    "features1_train = scaler.fit_transform(features1_train)\n",
    "features1_valid = scaler.transform(features1_valid)"
   ]
  },
  {
   "cell_type": "code",
   "execution_count": 18,
   "metadata": {},
   "outputs": [],
   "source": [
    "model = LinearRegression()\n",
    "model.fit(features1_train, target1_train)\n",
    "predictions1_train = model.predict(features1_train)\n",
    "predictions1_valid = model.predict(features1_valid)"
   ]
  },
  {
   "cell_type": "code",
   "execution_count": 19,
   "metadata": {},
   "outputs": [
    {
     "name": "stdout",
     "output_type": "stream",
     "text": [
      "Матрица признаков до преобразования и уменьшения на обратную матрицу\n"
     ]
    },
    {
     "data": {
      "text/plain": [
       "array([[ 0.97941189,  1.41413254, -0.37826615, -0.16408134],\n",
       "       [ 0.97941189,  0.34955873,  1.78951395, -1.0783533 ],\n",
       "       [-1.02102089,  0.11298677,  0.11809472, -0.16408134],\n",
       "       ...,\n",
       "       [ 0.97941189,  1.17756058,  0.482768  , -0.16408134],\n",
       "       [-1.02102089, -1.06987302,  1.02977793,  2.57873455],\n",
       "       [-1.02102089, -1.42473096,  0.08770528, -1.0783533 ]])"
      ]
     },
     "execution_count": 19,
     "metadata": {},
     "output_type": "execute_result"
    }
   ],
   "source": [
    "print('Матрица признаков до преобразования и уменьшения на обратную матрицу')\n",
    "features_train"
   ]
  },
  {
   "cell_type": "code",
   "execution_count": 20,
   "metadata": {},
   "outputs": [
    {
     "name": "stdout",
     "output_type": "stream",
     "text": [
      "Матрица признаков после преобразования и уменьшения на обратную матрицу\n"
     ]
    },
    {
     "data": {
      "text/plain": [
       "array([[-0.37821577, -0.38260942,  0.38207427, -0.37673691],\n",
       "       [ 1.7898435 ,  1.78865902, -1.78841157,  1.78998341],\n",
       "       [ 0.11792436,  0.11799008, -0.11795067,  0.11820943],\n",
       "       ...,\n",
       "       [ 0.48283533,  0.47909798, -0.47955158,  0.48405185],\n",
       "       [ 1.02919271,  1.03205758, -1.0326854 ,  1.028468  ],\n",
       "       [ 0.08789823,  0.09261699, -0.09155272,  0.08623983]])"
      ]
     },
     "execution_count": 20,
     "metadata": {},
     "output_type": "execute_result"
    }
   ],
   "source": [
    "print('Матрица признаков после преобразования и уменьшения на обратную матрицу')\n",
    "features1_train"
   ]
  },
  {
   "cell_type": "code",
   "execution_count": 21,
   "metadata": {},
   "outputs": [
    {
     "name": "stdout",
     "output_type": "stream",
     "text": [
      "RMSE модели на обучающей выборке: 0.35447723232889117\n",
      "Коэффициент детерминации на обучающей выборке: 0.42139202425793854\n"
     ]
    }
   ],
   "source": [
    "print('RMSE модели на обучающей выборке:', mean_squared_error(target1_train, predictions1_train)**0.5)\n",
    "print('Коэффициент детерминации на обучающей выборке:', r2_score(target1_train, predictions1_train))"
   ]
  },
  {
   "cell_type": "code",
   "execution_count": 22,
   "metadata": {
    "scrolled": true
   },
   "outputs": [
    {
     "name": "stdout",
     "output_type": "stream",
     "text": [
      "RMSE модели на валидационной выборке: 0.34147499868256026\n",
      "Коэффициент детерминации на валидационной выборке: 0.4352275712702721\n"
     ]
    }
   ],
   "source": [
    "print('RMSE модели на валидационной выборке:', mean_squared_error(target1_valid, predictions1_valid)**0.5)\n",
    "print('Коэффициент детерминации на валидационной выборке:', r2_score(target1_valid, predictions1_valid))"
   ]
  },
  {
   "cell_type": "markdown",
   "metadata": {},
   "source": [
    "## Алгоритм преобразования"
   ]
  },
  {
   "cell_type": "markdown",
   "metadata": {},
   "source": [
    "**Алгоритм**\n",
    "\n",
    "Умножение признаков на обратимую матрицу."
   ]
  },
  {
   "cell_type": "markdown",
   "metadata": {},
   "source": [
    "**Обоснование**\n",
    "\n",
    "Исходя из пункта №2, что описан и обоснован выше, при умножении признаков на обратимую матрицу значения RMSE и R2, которые являются метриками качества линейной регрессии не меняются, но сами значения признаков изменяются.\n",
    "\n",
    "Это делает данный алгоритм удобным и подходящим для защиты персональных данных клиентов страховой компании, ведь зная матрицу-ключ можно получить исходные данные, а по зашифорванным данным, используя модель линейной регрессии, получить целевой признак."
   ]
  },
  {
   "cell_type": "markdown",
   "metadata": {},
   "source": [
    "<div style=\"background: #cceeaa; padding: 5px; border: 1px solid green; border-radius: 5px;\">\n",
    "    <font color='green'> <b><u>КОММЕНТАРИЙ РЕВЬЮЕРА</u></b>\n",
    "</font>\n",
    "<font color='green'><br>\n",
    "ок, тут ещё нужен план действий для пункта 4) Делай раз, делай два, делай три...Например, так<br>\n",
    "1) создаём рандомную матрицу<br>\n",
    "2) проверяем её на обратимость (создаём единичную матрицу)<br>\n",
    "3) Создаём новую матрицу данных<br>\n",
    "4) Ищем метрики качества на исходных данных и на преобразованных<br>\n",
    "5) делаем вывод"
   ]
  },
  {
   "cell_type": "markdown",
   "metadata": {},
   "source": [
    "<div style=\"background: #cceeaa; padding: 5px; border: 1px solid green; border-radius: 5px;\">\n",
    "    <font color='green'> <b><u>КОММЕНТАРИЙ СТУДЕНТА</u></b>\n",
    "</font>\n",
    "<font color='blue'><br>\n",
    "    \n",
    "Понял, значит алгоритм в данном контексте есть последовательность действий...\n",
    "    \n",
    "Спасибо! В целом, +\\- я в пункте 2 жирными заголовками указал то, что я делаю, так что мой план действий будет состоять из пронумерованных жирных текстов, но вы описали это еще лучше, так что...\n",
    "    \n",
    "План действий:\n",
    "1) создаём рандомную матрицу<br>\n",
    "2) проверяем её на обратимость (создаём единичную матрицу)<br>\n",
    "3) Создаём новую матрицу данных<br>\n",
    "4) Ищем метрики качества на исходных данных и на преобразованных<br>\n",
    "5) делаем вывод<br> \n",
    "    \n",
    ":)\n",
    "    "
   ]
  },
  {
   "cell_type": "markdown",
   "metadata": {},
   "source": [
    "👍 👍"
   ]
  },
  {
   "cell_type": "markdown",
   "metadata": {},
   "source": [
    "## Проверка алгоритма"
   ]
  },
  {
   "cell_type": "markdown",
   "metadata": {},
   "source": [
    "***См. пункт №2...***\n",
    "\n",
    "P.S. Прошу прощения, что скучковал реализацию модели защиты данных пользователей в одном месте. Я подумал, что помимо вывода формулы это также может являться наглядным примером ответа на вопрос \"изменяется ли качество линейной регрессии при умножении на данных на обратимую матрицу или нет\"."
   ]
  },
  {
   "cell_type": "code",
   "execution_count": 23,
   "metadata": {},
   "outputs": [
    {
     "data": {
      "text/html": [
       "<div>\n",
       "<style scoped>\n",
       "    .dataframe tbody tr th:only-of-type {\n",
       "        vertical-align: middle;\n",
       "    }\n",
       "\n",
       "    .dataframe tbody tr th {\n",
       "        vertical-align: top;\n",
       "    }\n",
       "\n",
       "    .dataframe thead th {\n",
       "        text-align: right;\n",
       "    }\n",
       "</style>\n",
       "<table border=\"1\" class=\"dataframe\">\n",
       "  <thead>\n",
       "    <tr style=\"text-align: right;\">\n",
       "      <th></th>\n",
       "      <th>До преобразования</th>\n",
       "      <th>После преобразования</th>\n",
       "    </tr>\n",
       "  </thead>\n",
       "  <tbody>\n",
       "    <tr>\n",
       "      <td>RMSE train</td>\n",
       "      <td>0.354477</td>\n",
       "      <td>0.354477</td>\n",
       "    </tr>\n",
       "    <tr>\n",
       "      <td>RMSE valid</td>\n",
       "      <td>0.341475</td>\n",
       "      <td>0.341475</td>\n",
       "    </tr>\n",
       "    <tr>\n",
       "      <td>R2 train</td>\n",
       "      <td>0.421392</td>\n",
       "      <td>0.421392</td>\n",
       "    </tr>\n",
       "    <tr>\n",
       "      <td>R2 valid</td>\n",
       "      <td>0.435228</td>\n",
       "      <td>0.435228</td>\n",
       "    </tr>\n",
       "  </tbody>\n",
       "</table>\n",
       "</div>"
      ],
      "text/plain": [
       "            До преобразования  После преобразования\n",
       "RMSE train           0.354477              0.354477\n",
       "RMSE valid           0.341475              0.341475\n",
       "R2 train             0.421392              0.421392\n",
       "R2 valid             0.435228              0.435228"
      ]
     },
     "metadata": {},
     "output_type": "display_data"
    }
   ],
   "source": [
    "display(pd.DataFrame(np.array([[mean_squared_error(target_train, predictions_train)**0.5,  mean_squared_error(target1_train, predictions1_train)**0.5],\n",
    "                           [mean_squared_error(target_valid, predictions_valid)**0.5, mean_squared_error(target1_valid, predictions1_valid)**0.5],\n",
    "                           [r2_score(target_train, predictions_train), r2_score(target1_train, predictions1_train)],\n",
    "                           [r2_score(target_valid, predictions_valid), r2_score(target1_valid, predictions1_valid)]]),\n",
    "                    columns = ['До преобразования', 'После преобразования'], index = ['RMSE train', 'RMSE valid', 'R2 train', 'R2 valid']))"
   ]
  },
  {
   "cell_type": "markdown",
   "metadata": {},
   "source": [
    "<div style=\"background: #cceeaa; padding: 5px; border: 1px solid green; border-radius: 5px;\">\n",
    "    <font color='green'> <b><u>КОММЕНТАРИЙ РЕВЬЮЕРА</u></b>\n",
    "</font>\n",
    "<font color='green'><br>\n",
    "да! в таблице всё хорошо видно здорово."
   ]
  },
  {
   "cell_type": "markdown",
   "metadata": {},
   "source": [
    "**Вывод**\n",
    "\n",
    "Метрики качества моделей практически не изменились, качество модели линейной регрессии осталось прежним."
   ]
  },
  {
   "cell_type": "markdown",
   "metadata": {},
   "source": [
    "<div style=\"background: #cceeaa; padding: 5px; border: 1px solid green; border-radius: 5px;\">\n",
    "    <font color='green'> <b><u>КОММЕНТАРИЙ РЕВЬЮЕРА</u></b>\n",
    "</font>\n",
    "<font color='green'><br>\n",
    "ОК, Александр, отличная работа! Сама практическая цель достигнута.<br>\n",
    "Тут всё верно. Есть пару моментов для дополнений:<br>\n",
    "    \n",
    "1)В разделе \"Умножение матриц\" ожидается алгебраическое доказательство чуть иначе. В тексте постарался описать проблематику.   \n",
    "2)При создании рандомной матрицы, надо, всё-таки, проверить её обратимость. Т.е. убеждаться в получении единичной матрицы)<br>\n",
    "Вопрос кажется праздным, но он важен. Если каким-то образом матрица оказалась не обратимой, дешифровку мы произвести не сможем)<br>\n",
    "<font color='red'><br>\n",
    "Посмотри, пожалуйста)<br><font color='green'><font color='green'>\n",
    "Спасибо) Буду ждать."
   ]
  },
  {
   "cell_type": "markdown",
   "metadata": {},
   "source": [
    "<div style=\"background: #cceeaa; padding: 5px; border: 1px solid green; border-radius: 5px;\">\n",
    "    <font color='green'> <b><u>КОММЕНТАРИЙ СТУДЕНТА</u></b>\n",
    "</font>\n",
    "<font color='blue'><br>\n",
    "    \n",
    "Спасибо! С доказательством перемудрил, а в остальном все понятно и сложностей не возникло, спасибо!))"
   ]
  },
  {
   "cell_type": "markdown",
   "metadata": {},
   "source": [
    "<div style=\"background: #cceeaa; padding: 5px; border: 1px solid green; border-radius: 5px;\">\n",
    "    <font color='green'> <b><u>КОММЕНТАРИЙ РЕВЬЮЕРА 2</u></b>\n",
    "</font>\n",
    "<font color='green'><br>\n",
    "ОК, Александр, теперь всё в точку)<br>\n",
    "    \n",
    "Если рассматривать передачу данных третьим лицам, то к преимуществам данного подхода можно отнести, в первую очередь, ощутимую экономию ресурсов по сравнению с некоторыми известными алгоритмами шифрования, в особенности это касается ассиметричных алгоритмов с достаточно длинными ключами (AES, RSA), которые требуют много процессорного времени.<br><br>\n",
    "    \n",
    "К главному недостатку подхода можно отнести увеличение сложности проверки на вырожденность преобразования с ростом количества признаков в выборке. В рассмотренном случае необходимо подобрать подходящую матрицу размера  4×4 . Однако, если признаки будут исчисляться тысячами, что в теории всегда надо положить, то расчет соответствующих определителей может быть крайне ресурсозатратным. Но и эту проблему можно будет решить)<br><br>\n",
    "    \n",
    "Если есть время и желание, то можно воту этот маткриал просмотреть:<br>\n",
    "Обзоры по применению криптографии в машинном обучении: https://arxiv.org/pdf/1902.04109.pdf, https://www.researchgate.net/publication/342746786_Some_Applications_of_Machine_Learning_in_Cryptography\n",
    "Подробнее про аналогичный алгоритм: https://www.cs.cmu.edu/~rjhall/JOS_revised_May_31a.pdf<br><br>\n",
    "<font color='green'><font color='green'>\n",
    "Спасибо) Успешного дальнейшего обучения"
   ]
  },
  {
   "cell_type": "markdown",
   "metadata": {},
   "source": [
    "## Чек-лист проверки"
   ]
  },
  {
   "cell_type": "markdown",
   "metadata": {},
   "source": [
    "Поставьте 'x' в выполненных пунктах. Далее нажмите Shift+Enter."
   ]
  },
  {
   "cell_type": "markdown",
   "metadata": {},
   "source": [
    "- [x]  Jupyter Notebook открыт\n",
    "- [ ]  Весь код выполняется без ошибок\n",
    "- [ ]  Ячейки с кодом расположены в порядке исполнения\n",
    "- [ ]  Выполнен шаг 1: данные загружены\n",
    "- [ ]  Выполнен шаг 2: получен ответ на вопрос об умножении матриц\n",
    "    - [ ]  Указан правильный вариант ответа\n",
    "    - [ ]  Вариант обоснован\n",
    "- [ ]  Выполнен шаг 3: предложен алгоритм преобразования\n",
    "    - [ ]  Алгоритм описан\n",
    "    - [ ]  Алгоритм обоснован\n",
    "- [ ]  Выполнен шаг 4: алгоритм проверен\n",
    "    - [ ]  Алгоритм реализован\n",
    "    - [ ]  Проведено сравнение качества моделей до и после преобразования"
   ]
  }
 ],
 "metadata": {
  "ExecuteTimeLog": [
   {
    "duration": 3,
    "start_time": "2021-11-14T16:45:54.769Z"
   },
   {
    "duration": 19,
    "start_time": "2021-11-14T16:46:08.625Z"
   },
   {
    "duration": 13,
    "start_time": "2021-11-14T16:46:18.067Z"
   },
   {
    "duration": 8,
    "start_time": "2021-11-14T16:46:30.408Z"
   },
   {
    "duration": 635,
    "start_time": "2021-11-17T14:37:07.412Z"
   },
   {
    "duration": 18,
    "start_time": "2021-11-17T14:37:08.049Z"
   },
   {
    "duration": 18,
    "start_time": "2021-11-17T14:37:08.072Z"
   },
   {
    "duration": 22,
    "start_time": "2021-11-17T14:37:08.091Z"
   },
   {
    "duration": 486,
    "start_time": "2021-11-17T14:46:39.557Z"
   },
   {
    "duration": 3,
    "start_time": "2021-11-17T14:46:55.839Z"
   },
   {
    "duration": 4,
    "start_time": "2021-11-17T14:52:17.028Z"
   },
   {
    "duration": 12,
    "start_time": "2021-11-17T14:52:39.137Z"
   },
   {
    "duration": 7,
    "start_time": "2021-11-17T14:55:19.115Z"
   },
   {
    "duration": 4,
    "start_time": "2021-11-17T14:57:59.754Z"
   },
   {
    "duration": 7,
    "start_time": "2021-11-17T14:58:25.818Z"
   },
   {
    "duration": 14,
    "start_time": "2021-11-17T15:01:41.958Z"
   },
   {
    "duration": 8,
    "start_time": "2021-11-17T15:01:42.678Z"
   },
   {
    "duration": 5,
    "start_time": "2021-11-17T15:01:45.124Z"
   },
   {
    "duration": 4,
    "start_time": "2021-11-17T15:02:39.968Z"
   },
   {
    "duration": 1136,
    "start_time": "2021-11-17T15:03:58.789Z"
   },
   {
    "duration": 17,
    "start_time": "2021-11-17T15:03:59.927Z"
   },
   {
    "duration": 19,
    "start_time": "2021-11-17T15:03:59.949Z"
   },
   {
    "duration": 23,
    "start_time": "2021-11-17T15:03:59.970Z"
   },
   {
    "duration": 17,
    "start_time": "2021-11-17T15:03:59.995Z"
   },
   {
    "duration": 24,
    "start_time": "2021-11-17T15:04:00.014Z"
   },
   {
    "duration": 20,
    "start_time": "2021-11-17T15:04:00.039Z"
   },
   {
    "duration": 54,
    "start_time": "2021-11-17T15:04:00.061Z"
   },
   {
    "duration": 42,
    "start_time": "2021-11-17T15:04:00.117Z"
   },
   {
    "duration": 149,
    "start_time": "2021-11-17T15:04:00.161Z"
   },
   {
    "duration": 48,
    "start_time": "2021-11-17T15:04:00.312Z"
   },
   {
    "duration": 500,
    "start_time": "2021-11-17T15:18:29.809Z"
   },
   {
    "duration": 3,
    "start_time": "2021-11-17T15:18:37.075Z"
   },
   {
    "duration": 5,
    "start_time": "2021-11-17T15:18:46.366Z"
   },
   {
    "duration": 5,
    "start_time": "2021-11-17T15:21:01.494Z"
   },
   {
    "duration": 11,
    "start_time": "2021-11-17T15:21:22.218Z"
   },
   {
    "duration": 423,
    "start_time": "2021-11-17T15:22:52.672Z"
   },
   {
    "duration": 15,
    "start_time": "2021-11-17T15:23:16.213Z"
   },
   {
    "duration": 5,
    "start_time": "2021-11-17T15:23:27.056Z"
   },
   {
    "duration": 4,
    "start_time": "2021-11-17T15:23:40.313Z"
   },
   {
    "duration": 4,
    "start_time": "2021-11-17T15:23:46.393Z"
   },
   {
    "duration": 173,
    "start_time": "2021-11-17T15:24:06.735Z"
   },
   {
    "duration": 4,
    "start_time": "2021-11-17T15:24:17.108Z"
   },
   {
    "duration": 3,
    "start_time": "2021-11-17T15:24:43.315Z"
   },
   {
    "duration": 1405,
    "start_time": "2021-11-17T17:41:08.741Z"
   },
   {
    "duration": 17,
    "start_time": "2021-11-17T17:41:10.149Z"
   },
   {
    "duration": 22,
    "start_time": "2021-11-17T17:41:10.171Z"
   },
   {
    "duration": 34,
    "start_time": "2021-11-17T17:41:10.195Z"
   },
   {
    "duration": 5,
    "start_time": "2021-11-17T17:41:10.231Z"
   },
   {
    "duration": 13,
    "start_time": "2021-11-17T17:41:10.239Z"
   },
   {
    "duration": 5,
    "start_time": "2021-11-17T17:41:10.255Z"
   },
   {
    "duration": 68,
    "start_time": "2021-11-17T17:41:10.264Z"
   },
   {
    "duration": 98,
    "start_time": "2021-11-17T17:41:10.334Z"
   },
   {
    "duration": 96,
    "start_time": "2021-11-17T17:41:10.436Z"
   },
   {
    "duration": 13,
    "start_time": "2021-11-17T17:41:10.534Z"
   },
   {
    "duration": 6,
    "start_time": "2021-11-17T17:41:10.549Z"
   },
   {
    "duration": 5,
    "start_time": "2021-11-17T17:41:10.557Z"
   },
   {
    "duration": 12,
    "start_time": "2021-11-17T17:41:10.565Z"
   },
   {
    "duration": 300,
    "start_time": "2021-11-17T17:41:10.630Z"
   },
   {
    "duration": 177,
    "start_time": "2021-11-17T17:41:10.933Z"
   },
   {
    "duration": 702,
    "start_time": "2021-11-17T17:41:11.129Z"
   },
   {
    "duration": 162719,
    "start_time": "2021-11-17T17:42:52.415Z"
   },
   {
    "duration": 7,
    "start_time": "2021-11-17T17:47:26.810Z"
   },
   {
    "duration": 6,
    "start_time": "2021-11-17T17:47:28.210Z"
   },
   {
    "duration": 5,
    "start_time": "2021-11-17T17:50:10.204Z"
   },
   {
    "duration": 8,
    "start_time": "2021-11-17T17:50:25.535Z"
   },
   {
    "duration": 6,
    "start_time": "2021-11-17T17:51:11.515Z"
   },
   {
    "duration": 8,
    "start_time": "2021-11-17T17:51:21.212Z"
   },
   {
    "duration": 666,
    "start_time": "2021-11-17T18:02:37.542Z"
   },
   {
    "duration": 378,
    "start_time": "2021-11-17T18:03:04.696Z"
   },
   {
    "duration": 15,
    "start_time": "2021-11-17T18:03:32.828Z"
   },
   {
    "duration": 16,
    "start_time": "2021-11-17T18:04:39.974Z"
   },
   {
    "duration": 17,
    "start_time": "2021-11-17T18:04:49.692Z"
   },
   {
    "duration": 19,
    "start_time": "2021-11-17T18:05:19.413Z"
   },
   {
    "duration": 1503,
    "start_time": "2021-11-17T19:10:03.125Z"
   },
   {
    "duration": 21,
    "start_time": "2021-11-17T19:10:04.631Z"
   },
   {
    "duration": 24,
    "start_time": "2021-11-17T19:10:04.655Z"
   },
   {
    "duration": 10,
    "start_time": "2021-11-17T19:10:04.682Z"
   },
   {
    "duration": 43,
    "start_time": "2021-11-17T19:10:04.694Z"
   },
   {
    "duration": 13,
    "start_time": "2021-11-17T19:10:04.741Z"
   },
   {
    "duration": 12,
    "start_time": "2021-11-17T19:10:04.756Z"
   },
   {
    "duration": 23,
    "start_time": "2021-11-17T19:10:04.770Z"
   },
   {
    "duration": 110,
    "start_time": "2021-11-17T19:10:04.831Z"
   },
   {
    "duration": 101,
    "start_time": "2021-11-17T19:10:04.944Z"
   },
   {
    "duration": 7,
    "start_time": "2021-11-17T19:10:05.051Z"
   },
   {
    "duration": 6,
    "start_time": "2021-11-17T19:10:05.061Z"
   },
   {
    "duration": 15,
    "start_time": "2021-11-17T19:10:05.070Z"
   },
   {
    "duration": 59,
    "start_time": "2021-11-17T19:10:05.088Z"
   },
   {
    "duration": 278,
    "start_time": "2021-11-17T19:10:05.151Z"
   },
   {
    "duration": 183,
    "start_time": "2021-11-17T19:10:05.432Z"
   },
   {
    "duration": 708,
    "start_time": "2021-11-17T19:10:05.617Z"
   },
   {
    "duration": 1563,
    "start_time": "2021-11-17T19:16:16.891Z"
   },
   {
    "duration": 23,
    "start_time": "2021-11-17T19:16:18.457Z"
   },
   {
    "duration": 40,
    "start_time": "2021-11-17T19:16:18.482Z"
   },
   {
    "duration": 20,
    "start_time": "2021-11-17T19:16:18.524Z"
   },
   {
    "duration": 9,
    "start_time": "2021-11-17T19:16:18.549Z"
   },
   {
    "duration": 10,
    "start_time": "2021-11-17T19:16:18.561Z"
   },
   {
    "duration": 10,
    "start_time": "2021-11-17T19:16:18.576Z"
   },
   {
    "duration": 12,
    "start_time": "2021-11-17T19:16:18.590Z"
   },
   {
    "duration": 100,
    "start_time": "2021-11-17T19:16:18.629Z"
   },
   {
    "duration": 96,
    "start_time": "2021-11-17T19:16:18.732Z"
   },
   {
    "duration": 10,
    "start_time": "2021-11-17T19:16:18.831Z"
   },
   {
    "duration": 9,
    "start_time": "2021-11-17T19:16:18.845Z"
   },
   {
    "duration": 7,
    "start_time": "2021-11-17T19:16:18.857Z"
   },
   {
    "duration": 14,
    "start_time": "2021-11-17T19:16:18.866Z"
   },
   {
    "duration": 262,
    "start_time": "2021-11-17T19:16:18.882Z"
   },
   {
    "duration": 262,
    "start_time": "2021-11-17T19:16:19.146Z"
   },
   {
    "duration": 740,
    "start_time": "2021-11-17T19:16:19.410Z"
   },
   {
    "duration": 426692,
    "start_time": "2021-11-17T19:16:20.153Z"
   },
   {
    "duration": 81,
    "start_time": "2021-11-17T19:23:26.851Z"
   },
   {
    "duration": 94,
    "start_time": "2021-11-17T19:23:26.938Z"
   },
   {
    "duration": 13,
    "start_time": "2021-11-17T19:23:27.036Z"
   },
   {
    "duration": 7,
    "start_time": "2021-11-17T19:23:27.054Z"
   },
   {
    "duration": 20,
    "start_time": "2021-11-17T19:23:27.063Z"
   },
   {
    "duration": 1348,
    "start_time": "2021-11-17T21:23:58.887Z"
   },
   {
    "duration": 20,
    "start_time": "2021-11-17T21:24:00.237Z"
   },
   {
    "duration": 37,
    "start_time": "2021-11-17T21:24:00.260Z"
   },
   {
    "duration": 9,
    "start_time": "2021-11-17T21:24:00.437Z"
   },
   {
    "duration": 6,
    "start_time": "2021-11-17T21:30:54.924Z"
   },
   {
    "duration": 9,
    "start_time": "2021-11-17T21:30:55.485Z"
   },
   {
    "duration": 6,
    "start_time": "2021-11-17T21:30:55.674Z"
   },
   {
    "duration": 11,
    "start_time": "2021-11-17T21:30:55.831Z"
   },
   {
    "duration": 12,
    "start_time": "2021-11-17T21:30:56.153Z"
   },
   {
    "duration": 7,
    "start_time": "2021-11-17T21:30:56.317Z"
   },
   {
    "duration": 7,
    "start_time": "2021-11-17T21:30:56.469Z"
   },
   {
    "duration": 4,
    "start_time": "2021-11-17T21:30:56.782Z"
   },
   {
    "duration": 5,
    "start_time": "2021-11-17T21:30:56.955Z"
   },
   {
    "duration": 6,
    "start_time": "2021-11-17T21:30:57.112Z"
   },
   {
    "duration": 239,
    "start_time": "2021-11-17T21:30:57.563Z"
   },
   {
    "duration": 183,
    "start_time": "2021-11-17T21:30:57.903Z"
   },
   {
    "duration": 719,
    "start_time": "2021-11-17T21:30:58.089Z"
   },
   {
    "duration": 156396,
    "start_time": "2021-11-17T21:30:58.811Z"
   },
   {
    "duration": 93,
    "start_time": "2021-11-17T21:33:35.211Z"
   },
   {
    "duration": 106,
    "start_time": "2021-11-17T21:33:35.308Z"
   },
   {
    "duration": 11,
    "start_time": "2021-11-17T21:33:35.417Z"
   },
   {
    "duration": 7,
    "start_time": "2021-11-17T21:33:35.432Z"
   },
   {
    "duration": 717,
    "start_time": "2021-11-17T21:48:42.757Z"
   },
   {
    "duration": 551,
    "start_time": "2021-11-17T21:48:49.568Z"
   },
   {
    "duration": 533,
    "start_time": "2021-11-17T21:49:34.429Z"
   },
   {
    "duration": 309,
    "start_time": "2021-11-17T21:49:44.177Z"
   },
   {
    "duration": 4,
    "start_time": "2021-11-17T21:53:14.116Z"
   },
   {
    "duration": 4,
    "start_time": "2021-11-17T21:53:37.583Z"
   },
   {
    "duration": 5,
    "start_time": "2021-11-17T21:53:46.199Z"
   },
   {
    "duration": 520,
    "start_time": "2021-11-17T21:55:45.649Z"
   },
   {
    "duration": 8,
    "start_time": "2021-11-17T21:56:04.205Z"
   },
   {
    "duration": 6,
    "start_time": "2021-11-17T21:56:10.479Z"
   },
   {
    "duration": 1282,
    "start_time": "2021-11-17T21:56:41.553Z"
   },
   {
    "duration": 18,
    "start_time": "2021-11-17T21:56:42.837Z"
   },
   {
    "duration": 23,
    "start_time": "2021-11-17T21:56:42.858Z"
   },
   {
    "duration": 14,
    "start_time": "2021-11-17T21:56:42.883Z"
   },
   {
    "duration": 29,
    "start_time": "2021-11-17T21:56:42.900Z"
   },
   {
    "duration": 8,
    "start_time": "2021-11-17T21:56:42.931Z"
   },
   {
    "duration": 9,
    "start_time": "2021-11-17T21:56:42.942Z"
   },
   {
    "duration": 13,
    "start_time": "2021-11-17T21:56:42.953Z"
   },
   {
    "duration": 6,
    "start_time": "2021-11-17T21:56:42.971Z"
   },
   {
    "duration": 9,
    "start_time": "2021-11-17T21:56:43.031Z"
   },
   {
    "duration": 92,
    "start_time": "2021-11-17T21:56:43.043Z"
   },
   {
    "duration": 20,
    "start_time": "2021-11-17T21:56:43.137Z"
   },
   {
    "duration": 70,
    "start_time": "2021-11-17T21:56:43.161Z"
   },
   {
    "duration": 10,
    "start_time": "2021-11-17T21:56:43.235Z"
   },
   {
    "duration": 5,
    "start_time": "2021-11-17T21:56:43.328Z"
   },
   {
    "duration": 8,
    "start_time": "2021-11-17T21:56:43.336Z"
   },
   {
    "duration": 8,
    "start_time": "2021-11-17T21:56:43.346Z"
   },
   {
    "duration": 73,
    "start_time": "2021-11-17T21:56:43.356Z"
   },
   {
    "duration": 99,
    "start_time": "2021-11-17T21:56:43.434Z"
   },
   {
    "duration": 9,
    "start_time": "2021-11-17T21:56:43.536Z"
   },
   {
    "duration": 8,
    "start_time": "2021-11-17T21:56:43.547Z"
   },
   {
    "duration": 8,
    "start_time": "2021-11-17T21:56:43.557Z"
   },
   {
    "duration": 66,
    "start_time": "2021-11-17T21:56:43.567Z"
   },
   {
    "duration": 1357,
    "start_time": "2021-11-17T21:56:56.577Z"
   },
   {
    "duration": 18,
    "start_time": "2021-11-17T21:56:57.937Z"
   },
   {
    "duration": 23,
    "start_time": "2021-11-17T21:56:57.958Z"
   },
   {
    "duration": 11,
    "start_time": "2021-11-17T21:56:57.983Z"
   },
   {
    "duration": 4,
    "start_time": "2021-11-17T21:56:57.997Z"
   },
   {
    "duration": 29,
    "start_time": "2021-11-17T21:56:58.004Z"
   },
   {
    "duration": 5,
    "start_time": "2021-11-17T21:56:58.036Z"
   },
   {
    "duration": 10,
    "start_time": "2021-11-17T21:56:58.045Z"
   },
   {
    "duration": 75,
    "start_time": "2021-11-17T21:56:58.058Z"
   },
   {
    "duration": 95,
    "start_time": "2021-11-17T21:56:58.136Z"
   },
   {
    "duration": 17,
    "start_time": "2021-11-17T21:56:58.233Z"
   },
   {
    "duration": 8,
    "start_time": "2021-11-17T21:56:58.253Z"
   },
   {
    "duration": 68,
    "start_time": "2021-11-17T21:56:58.263Z"
   },
   {
    "duration": 7,
    "start_time": "2021-11-17T21:56:58.335Z"
   },
   {
    "duration": 85,
    "start_time": "2021-11-17T21:56:58.344Z"
   },
   {
    "duration": 10,
    "start_time": "2021-11-17T21:56:58.432Z"
   },
   {
    "duration": 12,
    "start_time": "2021-11-17T21:56:58.445Z"
   },
   {
    "duration": 8,
    "start_time": "2021-11-17T21:56:58.460Z"
   },
   {
    "duration": 67,
    "start_time": "2021-11-17T21:56:58.471Z"
   },
   {
    "duration": 7,
    "start_time": "2021-11-17T21:56:58.630Z"
   },
   {
    "duration": 7,
    "start_time": "2021-11-17T21:56:58.640Z"
   },
   {
    "duration": 9,
    "start_time": "2021-11-17T21:56:58.650Z"
   },
   {
    "duration": 19,
    "start_time": "2021-11-17T21:56:58.664Z"
   }
  ],
  "kernelspec": {
   "display_name": "Python 3",
   "language": "python",
   "name": "python3"
  },
  "language_info": {
   "codemirror_mode": {
    "name": "ipython",
    "version": 3
   },
   "file_extension": ".py",
   "mimetype": "text/x-python",
   "name": "python",
   "nbconvert_exporter": "python",
   "pygments_lexer": "ipython3",
   "version": "3.8.8"
  },
  "toc": {
   "base_numbering": 1,
   "nav_menu": {},
   "number_sections": true,
   "sideBar": true,
   "skip_h1_title": true,
   "title_cell": "Содержание",
   "title_sidebar": "Contents",
   "toc_cell": true,
   "toc_position": {},
   "toc_section_display": true,
   "toc_window_display": true
  }
 },
 "nbformat": 4,
 "nbformat_minor": 2
}
