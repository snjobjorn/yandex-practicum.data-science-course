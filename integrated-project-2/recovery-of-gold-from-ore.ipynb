{
 "cells": [
  {
   "cell_type": "markdown",
   "metadata": {
    "toc": true
   },
   "source": [
    "<h1>Содержание<span class=\"tocSkip\"></span></h1>\n",
    "<div class=\"toc\"><ul class=\"toc-item\"><li><span><a href=\"#Подготовка-данных\" data-toc-modified-id=\"Подготовка-данных-1\"><span class=\"toc-item-num\">1&nbsp;&nbsp;</span>Подготовка данных</a></span><ul class=\"toc-item\"><li><span><a href=\"#Откройте-файлы-и-изучите-их.\" data-toc-modified-id=\"Откройте-файлы-и-изучите-их.-1.1\"><span class=\"toc-item-num\">1.1&nbsp;&nbsp;</span>Откройте файлы и изучите их.</a></span></li><li><span><a href=\"#Проверьте,-что-эффективность-обогащения-рассчитана-правильно.-Вычислите-её-на-обучающей-выборке-для-признака-rougher.output.recovery.-Найдите-MAE-между-вашими-расчётами-и-значением-признака.-Опишите-выводы.\" data-toc-modified-id=\"Проверьте,-что-эффективность-обогащения-рассчитана-правильно.-Вычислите-её-на-обучающей-выборке-для-признака-rougher.output.recovery.-Найдите-MAE-между-вашими-расчётами-и-значением-признака.-Опишите-выводы.-1.2\"><span class=\"toc-item-num\">1.2&nbsp;&nbsp;</span>Проверьте, что эффективность обогащения рассчитана правильно. Вычислите её на обучающей выборке для признака rougher.output.recovery. Найдите MAE между вашими расчётами и значением признака. Опишите выводы.</a></span></li><li><span><a href=\"#Проанализируйте-признаки,-недоступные-в-тестовой-выборке.-Что-это-за-параметры?-К-какому-типу-относятся?\" data-toc-modified-id=\"Проанализируйте-признаки,-недоступные-в-тестовой-выборке.-Что-это-за-параметры?-К-какому-типу-относятся?-1.3\"><span class=\"toc-item-num\">1.3&nbsp;&nbsp;</span>Проанализируйте признаки, недоступные в тестовой выборке. Что это за параметры? К какому типу относятся?</a></span></li><li><span><a href=\"#Проведите-предобработку-данных.\" data-toc-modified-id=\"Проведите-предобработку-данных.-1.4\"><span class=\"toc-item-num\">1.4&nbsp;&nbsp;</span>Проведите предобработку данных.</a></span></li></ul></li><li><span><a href=\"#Анализ-данных\" data-toc-modified-id=\"Анализ-данных-2\"><span class=\"toc-item-num\">2&nbsp;&nbsp;</span>Анализ данных</a></span><ul class=\"toc-item\"><li><span><a href=\"#Посмотрите,-как-меняется-концентрация-металлов-(Au,-Ag,-Pb)-на-различных-этапах-очистки.-Опишите-выводы.\" data-toc-modified-id=\"Посмотрите,-как-меняется-концентрация-металлов-(Au,-Ag,-Pb)-на-различных-этапах-очистки.-Опишите-выводы.-2.1\"><span class=\"toc-item-num\">2.1&nbsp;&nbsp;</span>Посмотрите, как меняется концентрация металлов (Au, Ag, Pb) на различных этапах очистки. Опишите выводы.</a></span></li><li><span><a href=\"#Сравните-распределения-размеров-гранул-сырья-на-обучающей-и-тестовой-выборках.-Если-распределения-сильно-отличаются-друг-от-друга,-оценка-модели-будет-неправильной.\" data-toc-modified-id=\"Сравните-распределения-размеров-гранул-сырья-на-обучающей-и-тестовой-выборках.-Если-распределения-сильно-отличаются-друг-от-друга,-оценка-модели-будет-неправильной.-2.2\"><span class=\"toc-item-num\">2.2&nbsp;&nbsp;</span>Сравните распределения размеров гранул сырья на обучающей и тестовой выборках. Если распределения сильно отличаются друг от друга, оценка модели будет неправильной.</a></span></li><li><span><a href=\"#Исследуйте-суммарную-концентрацию-всех-веществ-на-разных-стадиях:-в-сырье,-в-черновом-и-финальном-концентратах.\" data-toc-modified-id=\"Исследуйте-суммарную-концентрацию-всех-веществ-на-разных-стадиях:-в-сырье,-в-черновом-и-финальном-концентратах.-2.3\"><span class=\"toc-item-num\">2.3&nbsp;&nbsp;</span>Исследуйте суммарную концентрацию всех веществ на разных стадиях: в сырье, в черновом и финальном концентратах.</a></span></li></ul></li><li><span><a href=\"#Модель\" data-toc-modified-id=\"Модель-3\"><span class=\"toc-item-num\">3&nbsp;&nbsp;</span>Модель</a></span><ul class=\"toc-item\"><li><span><a href=\"#Напишите-функцию-для-вычисления-итоговой-sMAPE.\" data-toc-modified-id=\"Напишите-функцию-для-вычисления-итоговой-sMAPE.-3.1\"><span class=\"toc-item-num\">3.1&nbsp;&nbsp;</span>Напишите функцию для вычисления итоговой sMAPE.</a></span></li><li><span><a href=\"#Обучите-разные-модели-и-оцените-их-качество-кросс-валидацией.-Выберите-лучшую-модель-и-проверьте-её-на-тестовой-выборке.-Опишите-выводы.\" data-toc-modified-id=\"Обучите-разные-модели-и-оцените-их-качество-кросс-валидацией.-Выберите-лучшую-модель-и-проверьте-её-на-тестовой-выборке.-Опишите-выводы.-3.2\"><span class=\"toc-item-num\">3.2&nbsp;&nbsp;</span>Обучите разные модели и оцените их качество кросс-валидацией. Выберите лучшую модель и проверьте её на тестовой выборке. Опишите выводы.</a></span></li></ul></li><li><span><a href=\"#Чек-лист-готовности-проекта\" data-toc-modified-id=\"Чек-лист-готовности-проекта-4\"><span class=\"toc-item-num\">4&nbsp;&nbsp;</span>Чек-лист готовности проекта</a></span></li></ul></div>"
   ]
  },
  {
   "cell_type": "markdown",
   "metadata": {},
   "source": [
    "# Восстановление золота из руды"
   ]
  },
  {
   "cell_type": "markdown",
   "metadata": {},
   "source": [
    "Подготовьте прототип модели машинного обучения для «Цифры». Компания разрабатывает решения для эффективной работы промышленных предприятий.\n",
    "\n",
    "Модель должна предсказать коэффициент восстановления золота из золотосодержащей руды. Используйте данные с параметрами добычи и очистки. \n",
    "\n",
    "Модель поможет оптимизировать производство, чтобы не запускать предприятие с убыточными характеристиками.\n",
    "\n",
    "Вам нужно:\n",
    "\n",
    "1. Подготовить данные;\n",
    "2. Провести исследовательский анализ данных;\n",
    "3. Построить и обучить модель.\n",
    "\n",
    "Чтобы выполнить проект, обращайтесь к библиотекам *pandas*, *matplotlib* и *sklearn.* Вам поможет их документация."
   ]
  },
  {
   "cell_type": "markdown",
   "metadata": {},
   "source": [
    "***import необходимых библиотек***"
   ]
  },
  {
   "cell_type": "code",
   "execution_count": 1,
   "metadata": {},
   "outputs": [],
   "source": [
    "import numpy as np\n",
    "import pandas as pd\n",
    "import matplotlib as mpl\n",
    "import matplotlib.pyplot as plt\n",
    "import scipy.stats as stats\n",
    "\n",
    "from sklearn.model_selection import train_test_split\n",
    "from sklearn.linear_model import LinearRegression\n",
    "from sklearn.tree import DecisionTreeRegressor\n",
    "from sklearn.linear_model import LogisticRegression\n",
    "\n",
    "from sklearn.metrics import mean_squared_error\n",
    "from sklearn.metrics import r2_score\n",
    "from sklearn.metrics import make_scorer\n",
    "from sklearn.model_selection import cross_val_score\n",
    "\n",
    "from sklearn.metrics import confusion_matrix\n",
    "from sklearn.metrics import recall_score\n",
    "from sklearn.metrics import precision_score\n",
    "from sklearn.metrics import f1_score\n",
    "from sklearn.metrics import roc_auc_score, roc_curve\n",
    "\n",
    "from sklearn.ensemble import RandomForestClassifier\n",
    "from sklearn.ensemble import RandomForestRegressor\n",
    "from sklearn.model_selection import GridSearchCV\n",
    "\n",
    "from sklearn.preprocessing import StandardScaler"
   ]
  },
  {
   "cell_type": "code",
   "execution_count": 2,
   "metadata": {},
   "outputs": [],
   "source": [
    "import warnings\n",
    "warnings.filterwarnings('ignore')"
   ]
  },
  {
   "cell_type": "markdown",
   "metadata": {},
   "source": [
    "## Подготовка данных"
   ]
  },
  {
   "cell_type": "markdown",
   "metadata": {},
   "source": [
    "### Откройте файлы и изучите их."
   ]
  },
  {
   "cell_type": "code",
   "execution_count": 3,
   "metadata": {},
   "outputs": [],
   "source": [
    "gold_recovery_train = pd.read_csv('/datasets/gold_recovery_train_new.csv')\n",
    "gold_recovery_test = pd.read_csv('/datasets/gold_recovery_test_new.csv')\n",
    "gold_recovery_full = pd.read_csv('/datasets/gold_recovery_full_new.csv')"
   ]
  },
  {
   "cell_type": "markdown",
   "metadata": {},
   "source": [
    "***Первый датасет - train***"
   ]
  },
  {
   "cell_type": "code",
   "execution_count": 4,
   "metadata": {
    "scrolled": true
   },
   "outputs": [
    {
     "data": {
      "text/html": [
       "<div>\n",
       "<style scoped>\n",
       "    .dataframe tbody tr th:only-of-type {\n",
       "        vertical-align: middle;\n",
       "    }\n",
       "\n",
       "    .dataframe tbody tr th {\n",
       "        vertical-align: top;\n",
       "    }\n",
       "\n",
       "    .dataframe thead th {\n",
       "        text-align: right;\n",
       "    }\n",
       "</style>\n",
       "<table border=\"1\" class=\"dataframe\">\n",
       "  <thead>\n",
       "    <tr style=\"text-align: right;\">\n",
       "      <th></th>\n",
       "      <th>date</th>\n",
       "      <th>final.output.concentrate_ag</th>\n",
       "      <th>final.output.concentrate_pb</th>\n",
       "      <th>final.output.concentrate_sol</th>\n",
       "      <th>final.output.concentrate_au</th>\n",
       "      <th>final.output.recovery</th>\n",
       "      <th>final.output.tail_ag</th>\n",
       "      <th>final.output.tail_pb</th>\n",
       "      <th>final.output.tail_sol</th>\n",
       "      <th>final.output.tail_au</th>\n",
       "      <th>...</th>\n",
       "      <th>secondary_cleaner.state.floatbank4_a_air</th>\n",
       "      <th>secondary_cleaner.state.floatbank4_a_level</th>\n",
       "      <th>secondary_cleaner.state.floatbank4_b_air</th>\n",
       "      <th>secondary_cleaner.state.floatbank4_b_level</th>\n",
       "      <th>secondary_cleaner.state.floatbank5_a_air</th>\n",
       "      <th>secondary_cleaner.state.floatbank5_a_level</th>\n",
       "      <th>secondary_cleaner.state.floatbank5_b_air</th>\n",
       "      <th>secondary_cleaner.state.floatbank5_b_level</th>\n",
       "      <th>secondary_cleaner.state.floatbank6_a_air</th>\n",
       "      <th>secondary_cleaner.state.floatbank6_a_level</th>\n",
       "    </tr>\n",
       "  </thead>\n",
       "  <tbody>\n",
       "    <tr>\n",
       "      <td>0</td>\n",
       "      <td>2016-01-15 00:00:00</td>\n",
       "      <td>6.055403</td>\n",
       "      <td>9.889648</td>\n",
       "      <td>5.507324</td>\n",
       "      <td>42.192020</td>\n",
       "      <td>70.541216</td>\n",
       "      <td>10.411962</td>\n",
       "      <td>0.895447</td>\n",
       "      <td>16.904297</td>\n",
       "      <td>2.143149</td>\n",
       "      <td>...</td>\n",
       "      <td>14.016835</td>\n",
       "      <td>-502.488007</td>\n",
       "      <td>12.099931</td>\n",
       "      <td>-504.715942</td>\n",
       "      <td>9.925633</td>\n",
       "      <td>-498.310211</td>\n",
       "      <td>8.079666</td>\n",
       "      <td>-500.470978</td>\n",
       "      <td>14.151341</td>\n",
       "      <td>-605.841980</td>\n",
       "    </tr>\n",
       "    <tr>\n",
       "      <td>1</td>\n",
       "      <td>2016-01-15 01:00:00</td>\n",
       "      <td>6.029369</td>\n",
       "      <td>9.968944</td>\n",
       "      <td>5.257781</td>\n",
       "      <td>42.701629</td>\n",
       "      <td>69.266198</td>\n",
       "      <td>10.462676</td>\n",
       "      <td>0.927452</td>\n",
       "      <td>16.634514</td>\n",
       "      <td>2.224930</td>\n",
       "      <td>...</td>\n",
       "      <td>13.992281</td>\n",
       "      <td>-505.503262</td>\n",
       "      <td>11.950531</td>\n",
       "      <td>-501.331529</td>\n",
       "      <td>10.039245</td>\n",
       "      <td>-500.169983</td>\n",
       "      <td>7.984757</td>\n",
       "      <td>-500.582168</td>\n",
       "      <td>13.998353</td>\n",
       "      <td>-599.787184</td>\n",
       "    </tr>\n",
       "    <tr>\n",
       "      <td>2</td>\n",
       "      <td>2016-01-15 02:00:00</td>\n",
       "      <td>6.055926</td>\n",
       "      <td>10.213995</td>\n",
       "      <td>5.383759</td>\n",
       "      <td>42.657501</td>\n",
       "      <td>68.116445</td>\n",
       "      <td>10.507046</td>\n",
       "      <td>0.953716</td>\n",
       "      <td>16.208849</td>\n",
       "      <td>2.257889</td>\n",
       "      <td>...</td>\n",
       "      <td>14.015015</td>\n",
       "      <td>-502.520901</td>\n",
       "      <td>11.912783</td>\n",
       "      <td>-501.133383</td>\n",
       "      <td>10.070913</td>\n",
       "      <td>-500.129135</td>\n",
       "      <td>8.013877</td>\n",
       "      <td>-500.517572</td>\n",
       "      <td>14.028663</td>\n",
       "      <td>-601.427363</td>\n",
       "    </tr>\n",
       "    <tr>\n",
       "      <td>3</td>\n",
       "      <td>2016-01-15 03:00:00</td>\n",
       "      <td>6.047977</td>\n",
       "      <td>9.977019</td>\n",
       "      <td>4.858634</td>\n",
       "      <td>42.689819</td>\n",
       "      <td>68.347543</td>\n",
       "      <td>10.422762</td>\n",
       "      <td>0.883763</td>\n",
       "      <td>16.532835</td>\n",
       "      <td>2.146849</td>\n",
       "      <td>...</td>\n",
       "      <td>14.036510</td>\n",
       "      <td>-500.857308</td>\n",
       "      <td>11.999550</td>\n",
       "      <td>-501.193686</td>\n",
       "      <td>9.970366</td>\n",
       "      <td>-499.201640</td>\n",
       "      <td>7.977324</td>\n",
       "      <td>-500.255908</td>\n",
       "      <td>14.005551</td>\n",
       "      <td>-599.996129</td>\n",
       "    </tr>\n",
       "    <tr>\n",
       "      <td>4</td>\n",
       "      <td>2016-01-15 04:00:00</td>\n",
       "      <td>6.148599</td>\n",
       "      <td>10.142511</td>\n",
       "      <td>4.939416</td>\n",
       "      <td>42.774141</td>\n",
       "      <td>66.927016</td>\n",
       "      <td>10.360302</td>\n",
       "      <td>0.792826</td>\n",
       "      <td>16.525686</td>\n",
       "      <td>2.055292</td>\n",
       "      <td>...</td>\n",
       "      <td>14.027298</td>\n",
       "      <td>-499.838632</td>\n",
       "      <td>11.953070</td>\n",
       "      <td>-501.053894</td>\n",
       "      <td>9.925709</td>\n",
       "      <td>-501.686727</td>\n",
       "      <td>7.894242</td>\n",
       "      <td>-500.356035</td>\n",
       "      <td>13.996647</td>\n",
       "      <td>-601.496691</td>\n",
       "    </tr>\n",
       "  </tbody>\n",
       "</table>\n",
       "<p>5 rows × 87 columns</p>\n",
       "</div>"
      ],
      "text/plain": [
       "                  date  final.output.concentrate_ag  \\\n",
       "0  2016-01-15 00:00:00                     6.055403   \n",
       "1  2016-01-15 01:00:00                     6.029369   \n",
       "2  2016-01-15 02:00:00                     6.055926   \n",
       "3  2016-01-15 03:00:00                     6.047977   \n",
       "4  2016-01-15 04:00:00                     6.148599   \n",
       "\n",
       "   final.output.concentrate_pb  final.output.concentrate_sol  \\\n",
       "0                     9.889648                      5.507324   \n",
       "1                     9.968944                      5.257781   \n",
       "2                    10.213995                      5.383759   \n",
       "3                     9.977019                      4.858634   \n",
       "4                    10.142511                      4.939416   \n",
       "\n",
       "   final.output.concentrate_au  final.output.recovery  final.output.tail_ag  \\\n",
       "0                    42.192020              70.541216             10.411962   \n",
       "1                    42.701629              69.266198             10.462676   \n",
       "2                    42.657501              68.116445             10.507046   \n",
       "3                    42.689819              68.347543             10.422762   \n",
       "4                    42.774141              66.927016             10.360302   \n",
       "\n",
       "   final.output.tail_pb  final.output.tail_sol  final.output.tail_au  ...  \\\n",
       "0              0.895447              16.904297              2.143149  ...   \n",
       "1              0.927452              16.634514              2.224930  ...   \n",
       "2              0.953716              16.208849              2.257889  ...   \n",
       "3              0.883763              16.532835              2.146849  ...   \n",
       "4              0.792826              16.525686              2.055292  ...   \n",
       "\n",
       "   secondary_cleaner.state.floatbank4_a_air  \\\n",
       "0                                 14.016835   \n",
       "1                                 13.992281   \n",
       "2                                 14.015015   \n",
       "3                                 14.036510   \n",
       "4                                 14.027298   \n",
       "\n",
       "   secondary_cleaner.state.floatbank4_a_level  \\\n",
       "0                                 -502.488007   \n",
       "1                                 -505.503262   \n",
       "2                                 -502.520901   \n",
       "3                                 -500.857308   \n",
       "4                                 -499.838632   \n",
       "\n",
       "   secondary_cleaner.state.floatbank4_b_air  \\\n",
       "0                                 12.099931   \n",
       "1                                 11.950531   \n",
       "2                                 11.912783   \n",
       "3                                 11.999550   \n",
       "4                                 11.953070   \n",
       "\n",
       "   secondary_cleaner.state.floatbank4_b_level  \\\n",
       "0                                 -504.715942   \n",
       "1                                 -501.331529   \n",
       "2                                 -501.133383   \n",
       "3                                 -501.193686   \n",
       "4                                 -501.053894   \n",
       "\n",
       "   secondary_cleaner.state.floatbank5_a_air  \\\n",
       "0                                  9.925633   \n",
       "1                                 10.039245   \n",
       "2                                 10.070913   \n",
       "3                                  9.970366   \n",
       "4                                  9.925709   \n",
       "\n",
       "   secondary_cleaner.state.floatbank5_a_level  \\\n",
       "0                                 -498.310211   \n",
       "1                                 -500.169983   \n",
       "2                                 -500.129135   \n",
       "3                                 -499.201640   \n",
       "4                                 -501.686727   \n",
       "\n",
       "   secondary_cleaner.state.floatbank5_b_air  \\\n",
       "0                                  8.079666   \n",
       "1                                  7.984757   \n",
       "2                                  8.013877   \n",
       "3                                  7.977324   \n",
       "4                                  7.894242   \n",
       "\n",
       "   secondary_cleaner.state.floatbank5_b_level  \\\n",
       "0                                 -500.470978   \n",
       "1                                 -500.582168   \n",
       "2                                 -500.517572   \n",
       "3                                 -500.255908   \n",
       "4                                 -500.356035   \n",
       "\n",
       "   secondary_cleaner.state.floatbank6_a_air  \\\n",
       "0                                 14.151341   \n",
       "1                                 13.998353   \n",
       "2                                 14.028663   \n",
       "3                                 14.005551   \n",
       "4                                 13.996647   \n",
       "\n",
       "   secondary_cleaner.state.floatbank6_a_level  \n",
       "0                                 -605.841980  \n",
       "1                                 -599.787184  \n",
       "2                                 -601.427363  \n",
       "3                                 -599.996129  \n",
       "4                                 -601.496691  \n",
       "\n",
       "[5 rows x 87 columns]"
      ]
     },
     "execution_count": 4,
     "metadata": {},
     "output_type": "execute_result"
    }
   ],
   "source": [
    "gold_recovery_train.head(5)"
   ]
  },
  {
   "cell_type": "code",
   "execution_count": 5,
   "metadata": {
    "scrolled": true
   },
   "outputs": [
    {
     "name": "stdout",
     "output_type": "stream",
     "text": [
      "<class 'pandas.core.frame.DataFrame'>\n",
      "RangeIndex: 14149 entries, 0 to 14148\n",
      "Data columns (total 87 columns):\n",
      "date                                                  14149 non-null object\n",
      "final.output.concentrate_ag                           14148 non-null float64\n",
      "final.output.concentrate_pb                           14148 non-null float64\n",
      "final.output.concentrate_sol                          13938 non-null float64\n",
      "final.output.concentrate_au                           14149 non-null float64\n",
      "final.output.recovery                                 14149 non-null float64\n",
      "final.output.tail_ag                                  14149 non-null float64\n",
      "final.output.tail_pb                                  14049 non-null float64\n",
      "final.output.tail_sol                                 14144 non-null float64\n",
      "final.output.tail_au                                  14149 non-null float64\n",
      "primary_cleaner.input.sulfate                         14129 non-null float64\n",
      "primary_cleaner.input.depressant                      14117 non-null float64\n",
      "primary_cleaner.input.feed_size                       14149 non-null float64\n",
      "primary_cleaner.input.xanthate                        14049 non-null float64\n",
      "primary_cleaner.output.concentrate_ag                 14149 non-null float64\n",
      "primary_cleaner.output.concentrate_pb                 14063 non-null float64\n",
      "primary_cleaner.output.concentrate_sol                13863 non-null float64\n",
      "primary_cleaner.output.concentrate_au                 14149 non-null float64\n",
      "primary_cleaner.output.tail_ag                        14148 non-null float64\n",
      "primary_cleaner.output.tail_pb                        14134 non-null float64\n",
      "primary_cleaner.output.tail_sol                       14103 non-null float64\n",
      "primary_cleaner.output.tail_au                        14149 non-null float64\n",
      "primary_cleaner.state.floatbank8_a_air                14145 non-null float64\n",
      "primary_cleaner.state.floatbank8_a_level              14148 non-null float64\n",
      "primary_cleaner.state.floatbank8_b_air                14145 non-null float64\n",
      "primary_cleaner.state.floatbank8_b_level              14148 non-null float64\n",
      "primary_cleaner.state.floatbank8_c_air                14147 non-null float64\n",
      "primary_cleaner.state.floatbank8_c_level              14148 non-null float64\n",
      "primary_cleaner.state.floatbank8_d_air                14146 non-null float64\n",
      "primary_cleaner.state.floatbank8_d_level              14148 non-null float64\n",
      "rougher.calculation.sulfate_to_au_concentrate         14148 non-null float64\n",
      "rougher.calculation.floatbank10_sulfate_to_au_feed    14148 non-null float64\n",
      "rougher.calculation.floatbank11_sulfate_to_au_feed    14148 non-null float64\n",
      "rougher.calculation.au_pb_ratio                       14149 non-null float64\n",
      "rougher.input.feed_ag                                 14149 non-null float64\n",
      "rougher.input.feed_pb                                 14049 non-null float64\n",
      "rougher.input.feed_rate                               14141 non-null float64\n",
      "rougher.input.feed_size                               14005 non-null float64\n",
      "rougher.input.feed_sol                                14071 non-null float64\n",
      "rougher.input.feed_au                                 14149 non-null float64\n",
      "rougher.input.floatbank10_sulfate                     14120 non-null float64\n",
      "rougher.input.floatbank10_xanthate                    14141 non-null float64\n",
      "rougher.input.floatbank11_sulfate                     14113 non-null float64\n",
      "rougher.input.floatbank11_xanthate                    13721 non-null float64\n",
      "rougher.output.concentrate_ag                         14149 non-null float64\n",
      "rougher.output.concentrate_pb                         14149 non-null float64\n",
      "rougher.output.concentrate_sol                        14127 non-null float64\n",
      "rougher.output.concentrate_au                         14149 non-null float64\n",
      "rougher.output.recovery                               14149 non-null float64\n",
      "rougher.output.tail_ag                                14148 non-null float64\n",
      "rougher.output.tail_pb                                14149 non-null float64\n",
      "rougher.output.tail_sol                               14149 non-null float64\n",
      "rougher.output.tail_au                                14149 non-null float64\n",
      "rougher.state.floatbank10_a_air                       14148 non-null float64\n",
      "rougher.state.floatbank10_a_level                     14148 non-null float64\n",
      "rougher.state.floatbank10_b_air                       14148 non-null float64\n",
      "rougher.state.floatbank10_b_level                     14148 non-null float64\n",
      "rougher.state.floatbank10_c_air                       14148 non-null float64\n",
      "rougher.state.floatbank10_c_level                     14148 non-null float64\n",
      "rougher.state.floatbank10_d_air                       14149 non-null float64\n",
      "rougher.state.floatbank10_d_level                     14149 non-null float64\n",
      "rougher.state.floatbank10_e_air                       13713 non-null float64\n",
      "rougher.state.floatbank10_e_level                     14149 non-null float64\n",
      "rougher.state.floatbank10_f_air                       14149 non-null float64\n",
      "rougher.state.floatbank10_f_level                     14149 non-null float64\n",
      "secondary_cleaner.output.tail_ag                      14147 non-null float64\n",
      "secondary_cleaner.output.tail_pb                      14139 non-null float64\n",
      "secondary_cleaner.output.tail_sol                     12544 non-null float64\n",
      "secondary_cleaner.output.tail_au                      14149 non-null float64\n",
      "secondary_cleaner.state.floatbank2_a_air              13932 non-null float64\n",
      "secondary_cleaner.state.floatbank2_a_level            14148 non-null float64\n",
      "secondary_cleaner.state.floatbank2_b_air              14128 non-null float64\n",
      "secondary_cleaner.state.floatbank2_b_level            14148 non-null float64\n",
      "secondary_cleaner.state.floatbank3_a_air              14145 non-null float64\n",
      "secondary_cleaner.state.floatbank3_a_level            14148 non-null float64\n",
      "secondary_cleaner.state.floatbank3_b_air              14148 non-null float64\n",
      "secondary_cleaner.state.floatbank3_b_level            14148 non-null float64\n",
      "secondary_cleaner.state.floatbank4_a_air              14143 non-null float64\n",
      "secondary_cleaner.state.floatbank4_a_level            14148 non-null float64\n",
      "secondary_cleaner.state.floatbank4_b_air              14148 non-null float64\n",
      "secondary_cleaner.state.floatbank4_b_level            14148 non-null float64\n",
      "secondary_cleaner.state.floatbank5_a_air              14148 non-null float64\n",
      "secondary_cleaner.state.floatbank5_a_level            14148 non-null float64\n",
      "secondary_cleaner.state.floatbank5_b_air              14148 non-null float64\n",
      "secondary_cleaner.state.floatbank5_b_level            14148 non-null float64\n",
      "secondary_cleaner.state.floatbank6_a_air              14147 non-null float64\n",
      "secondary_cleaner.state.floatbank6_a_level            14148 non-null float64\n",
      "dtypes: float64(86), object(1)\n",
      "memory usage: 9.4+ MB\n"
     ]
    }
   ],
   "source": [
    "gold_recovery_train.info()"
   ]
  },
  {
   "cell_type": "markdown",
   "metadata": {},
   "source": [
    "***Второй датасет - test***"
   ]
  },
  {
   "cell_type": "code",
   "execution_count": 6,
   "metadata": {
    "scrolled": true
   },
   "outputs": [
    {
     "data": {
      "text/html": [
       "<div>\n",
       "<style scoped>\n",
       "    .dataframe tbody tr th:only-of-type {\n",
       "        vertical-align: middle;\n",
       "    }\n",
       "\n",
       "    .dataframe tbody tr th {\n",
       "        vertical-align: top;\n",
       "    }\n",
       "\n",
       "    .dataframe thead th {\n",
       "        text-align: right;\n",
       "    }\n",
       "</style>\n",
       "<table border=\"1\" class=\"dataframe\">\n",
       "  <thead>\n",
       "    <tr style=\"text-align: right;\">\n",
       "      <th></th>\n",
       "      <th>date</th>\n",
       "      <th>primary_cleaner.input.sulfate</th>\n",
       "      <th>primary_cleaner.input.depressant</th>\n",
       "      <th>primary_cleaner.input.feed_size</th>\n",
       "      <th>primary_cleaner.input.xanthate</th>\n",
       "      <th>primary_cleaner.state.floatbank8_a_air</th>\n",
       "      <th>primary_cleaner.state.floatbank8_a_level</th>\n",
       "      <th>primary_cleaner.state.floatbank8_b_air</th>\n",
       "      <th>primary_cleaner.state.floatbank8_b_level</th>\n",
       "      <th>primary_cleaner.state.floatbank8_c_air</th>\n",
       "      <th>...</th>\n",
       "      <th>secondary_cleaner.state.floatbank4_a_air</th>\n",
       "      <th>secondary_cleaner.state.floatbank4_a_level</th>\n",
       "      <th>secondary_cleaner.state.floatbank4_b_air</th>\n",
       "      <th>secondary_cleaner.state.floatbank4_b_level</th>\n",
       "      <th>secondary_cleaner.state.floatbank5_a_air</th>\n",
       "      <th>secondary_cleaner.state.floatbank5_a_level</th>\n",
       "      <th>secondary_cleaner.state.floatbank5_b_air</th>\n",
       "      <th>secondary_cleaner.state.floatbank5_b_level</th>\n",
       "      <th>secondary_cleaner.state.floatbank6_a_air</th>\n",
       "      <th>secondary_cleaner.state.floatbank6_a_level</th>\n",
       "    </tr>\n",
       "  </thead>\n",
       "  <tbody>\n",
       "    <tr>\n",
       "      <td>0</td>\n",
       "      <td>2016-09-01 00:59:59</td>\n",
       "      <td>210.800909</td>\n",
       "      <td>14.993118</td>\n",
       "      <td>8.080000</td>\n",
       "      <td>1.005021</td>\n",
       "      <td>1398.981301</td>\n",
       "      <td>-500.225577</td>\n",
       "      <td>1399.144926</td>\n",
       "      <td>-499.919735</td>\n",
       "      <td>1400.102998</td>\n",
       "      <td>...</td>\n",
       "      <td>12.023554</td>\n",
       "      <td>-497.795834</td>\n",
       "      <td>8.016656</td>\n",
       "      <td>-501.289139</td>\n",
       "      <td>7.946562</td>\n",
       "      <td>-432.317850</td>\n",
       "      <td>4.872511</td>\n",
       "      <td>-500.037437</td>\n",
       "      <td>26.705889</td>\n",
       "      <td>-499.709414</td>\n",
       "    </tr>\n",
       "    <tr>\n",
       "      <td>1</td>\n",
       "      <td>2016-09-01 01:59:59</td>\n",
       "      <td>215.392455</td>\n",
       "      <td>14.987471</td>\n",
       "      <td>8.080000</td>\n",
       "      <td>0.990469</td>\n",
       "      <td>1398.777912</td>\n",
       "      <td>-500.057435</td>\n",
       "      <td>1398.055362</td>\n",
       "      <td>-499.778182</td>\n",
       "      <td>1396.151033</td>\n",
       "      <td>...</td>\n",
       "      <td>12.058140</td>\n",
       "      <td>-498.695773</td>\n",
       "      <td>8.130979</td>\n",
       "      <td>-499.634209</td>\n",
       "      <td>7.958270</td>\n",
       "      <td>-525.839648</td>\n",
       "      <td>4.878850</td>\n",
       "      <td>-500.162375</td>\n",
       "      <td>25.019940</td>\n",
       "      <td>-499.819438</td>\n",
       "    </tr>\n",
       "    <tr>\n",
       "      <td>2</td>\n",
       "      <td>2016-09-01 02:59:59</td>\n",
       "      <td>215.259946</td>\n",
       "      <td>12.884934</td>\n",
       "      <td>7.786667</td>\n",
       "      <td>0.996043</td>\n",
       "      <td>1398.493666</td>\n",
       "      <td>-500.868360</td>\n",
       "      <td>1398.860436</td>\n",
       "      <td>-499.764529</td>\n",
       "      <td>1398.075709</td>\n",
       "      <td>...</td>\n",
       "      <td>11.962366</td>\n",
       "      <td>-498.767484</td>\n",
       "      <td>8.096893</td>\n",
       "      <td>-500.827423</td>\n",
       "      <td>8.071056</td>\n",
       "      <td>-500.801673</td>\n",
       "      <td>4.905125</td>\n",
       "      <td>-499.828510</td>\n",
       "      <td>24.994862</td>\n",
       "      <td>-500.622559</td>\n",
       "    </tr>\n",
       "    <tr>\n",
       "      <td>3</td>\n",
       "      <td>2016-09-01 03:59:59</td>\n",
       "      <td>215.336236</td>\n",
       "      <td>12.006805</td>\n",
       "      <td>7.640000</td>\n",
       "      <td>0.863514</td>\n",
       "      <td>1399.618111</td>\n",
       "      <td>-498.863574</td>\n",
       "      <td>1397.440120</td>\n",
       "      <td>-499.211024</td>\n",
       "      <td>1400.129303</td>\n",
       "      <td>...</td>\n",
       "      <td>12.033091</td>\n",
       "      <td>-498.350935</td>\n",
       "      <td>8.074946</td>\n",
       "      <td>-499.474407</td>\n",
       "      <td>7.897085</td>\n",
       "      <td>-500.868509</td>\n",
       "      <td>4.931400</td>\n",
       "      <td>-499.963623</td>\n",
       "      <td>24.948919</td>\n",
       "      <td>-498.709987</td>\n",
       "    </tr>\n",
       "    <tr>\n",
       "      <td>4</td>\n",
       "      <td>2016-09-01 04:59:59</td>\n",
       "      <td>199.099327</td>\n",
       "      <td>10.682530</td>\n",
       "      <td>7.530000</td>\n",
       "      <td>0.805575</td>\n",
       "      <td>1401.268123</td>\n",
       "      <td>-500.808305</td>\n",
       "      <td>1398.128818</td>\n",
       "      <td>-499.504543</td>\n",
       "      <td>1402.172226</td>\n",
       "      <td>...</td>\n",
       "      <td>12.025367</td>\n",
       "      <td>-500.786497</td>\n",
       "      <td>8.054678</td>\n",
       "      <td>-500.397500</td>\n",
       "      <td>8.107890</td>\n",
       "      <td>-509.526725</td>\n",
       "      <td>4.957674</td>\n",
       "      <td>-500.360026</td>\n",
       "      <td>25.003331</td>\n",
       "      <td>-500.856333</td>\n",
       "    </tr>\n",
       "  </tbody>\n",
       "</table>\n",
       "<p>5 rows × 53 columns</p>\n",
       "</div>"
      ],
      "text/plain": [
       "                  date  primary_cleaner.input.sulfate  \\\n",
       "0  2016-09-01 00:59:59                     210.800909   \n",
       "1  2016-09-01 01:59:59                     215.392455   \n",
       "2  2016-09-01 02:59:59                     215.259946   \n",
       "3  2016-09-01 03:59:59                     215.336236   \n",
       "4  2016-09-01 04:59:59                     199.099327   \n",
       "\n",
       "   primary_cleaner.input.depressant  primary_cleaner.input.feed_size  \\\n",
       "0                         14.993118                         8.080000   \n",
       "1                         14.987471                         8.080000   \n",
       "2                         12.884934                         7.786667   \n",
       "3                         12.006805                         7.640000   \n",
       "4                         10.682530                         7.530000   \n",
       "\n",
       "   primary_cleaner.input.xanthate  primary_cleaner.state.floatbank8_a_air  \\\n",
       "0                        1.005021                             1398.981301   \n",
       "1                        0.990469                             1398.777912   \n",
       "2                        0.996043                             1398.493666   \n",
       "3                        0.863514                             1399.618111   \n",
       "4                        0.805575                             1401.268123   \n",
       "\n",
       "   primary_cleaner.state.floatbank8_a_level  \\\n",
       "0                               -500.225577   \n",
       "1                               -500.057435   \n",
       "2                               -500.868360   \n",
       "3                               -498.863574   \n",
       "4                               -500.808305   \n",
       "\n",
       "   primary_cleaner.state.floatbank8_b_air  \\\n",
       "0                             1399.144926   \n",
       "1                             1398.055362   \n",
       "2                             1398.860436   \n",
       "3                             1397.440120   \n",
       "4                             1398.128818   \n",
       "\n",
       "   primary_cleaner.state.floatbank8_b_level  \\\n",
       "0                               -499.919735   \n",
       "1                               -499.778182   \n",
       "2                               -499.764529   \n",
       "3                               -499.211024   \n",
       "4                               -499.504543   \n",
       "\n",
       "   primary_cleaner.state.floatbank8_c_air  ...  \\\n",
       "0                             1400.102998  ...   \n",
       "1                             1396.151033  ...   \n",
       "2                             1398.075709  ...   \n",
       "3                             1400.129303  ...   \n",
       "4                             1402.172226  ...   \n",
       "\n",
       "   secondary_cleaner.state.floatbank4_a_air  \\\n",
       "0                                 12.023554   \n",
       "1                                 12.058140   \n",
       "2                                 11.962366   \n",
       "3                                 12.033091   \n",
       "4                                 12.025367   \n",
       "\n",
       "   secondary_cleaner.state.floatbank4_a_level  \\\n",
       "0                                 -497.795834   \n",
       "1                                 -498.695773   \n",
       "2                                 -498.767484   \n",
       "3                                 -498.350935   \n",
       "4                                 -500.786497   \n",
       "\n",
       "   secondary_cleaner.state.floatbank4_b_air  \\\n",
       "0                                  8.016656   \n",
       "1                                  8.130979   \n",
       "2                                  8.096893   \n",
       "3                                  8.074946   \n",
       "4                                  8.054678   \n",
       "\n",
       "   secondary_cleaner.state.floatbank4_b_level  \\\n",
       "0                                 -501.289139   \n",
       "1                                 -499.634209   \n",
       "2                                 -500.827423   \n",
       "3                                 -499.474407   \n",
       "4                                 -500.397500   \n",
       "\n",
       "   secondary_cleaner.state.floatbank5_a_air  \\\n",
       "0                                  7.946562   \n",
       "1                                  7.958270   \n",
       "2                                  8.071056   \n",
       "3                                  7.897085   \n",
       "4                                  8.107890   \n",
       "\n",
       "   secondary_cleaner.state.floatbank5_a_level  \\\n",
       "0                                 -432.317850   \n",
       "1                                 -525.839648   \n",
       "2                                 -500.801673   \n",
       "3                                 -500.868509   \n",
       "4                                 -509.526725   \n",
       "\n",
       "   secondary_cleaner.state.floatbank5_b_air  \\\n",
       "0                                  4.872511   \n",
       "1                                  4.878850   \n",
       "2                                  4.905125   \n",
       "3                                  4.931400   \n",
       "4                                  4.957674   \n",
       "\n",
       "   secondary_cleaner.state.floatbank5_b_level  \\\n",
       "0                                 -500.037437   \n",
       "1                                 -500.162375   \n",
       "2                                 -499.828510   \n",
       "3                                 -499.963623   \n",
       "4                                 -500.360026   \n",
       "\n",
       "   secondary_cleaner.state.floatbank6_a_air  \\\n",
       "0                                 26.705889   \n",
       "1                                 25.019940   \n",
       "2                                 24.994862   \n",
       "3                                 24.948919   \n",
       "4                                 25.003331   \n",
       "\n",
       "   secondary_cleaner.state.floatbank6_a_level  \n",
       "0                                 -499.709414  \n",
       "1                                 -499.819438  \n",
       "2                                 -500.622559  \n",
       "3                                 -498.709987  \n",
       "4                                 -500.856333  \n",
       "\n",
       "[5 rows x 53 columns]"
      ]
     },
     "execution_count": 6,
     "metadata": {},
     "output_type": "execute_result"
    }
   ],
   "source": [
    "gold_recovery_test.head(5)"
   ]
  },
  {
   "cell_type": "code",
   "execution_count": 7,
   "metadata": {
    "scrolled": true
   },
   "outputs": [
    {
     "name": "stdout",
     "output_type": "stream",
     "text": [
      "<class 'pandas.core.frame.DataFrame'>\n",
      "RangeIndex: 5290 entries, 0 to 5289\n",
      "Data columns (total 53 columns):\n",
      "date                                          5290 non-null object\n",
      "primary_cleaner.input.sulfate                 5286 non-null float64\n",
      "primary_cleaner.input.depressant              5285 non-null float64\n",
      "primary_cleaner.input.feed_size               5290 non-null float64\n",
      "primary_cleaner.input.xanthate                5286 non-null float64\n",
      "primary_cleaner.state.floatbank8_a_air        5290 non-null float64\n",
      "primary_cleaner.state.floatbank8_a_level      5290 non-null float64\n",
      "primary_cleaner.state.floatbank8_b_air        5290 non-null float64\n",
      "primary_cleaner.state.floatbank8_b_level      5290 non-null float64\n",
      "primary_cleaner.state.floatbank8_c_air        5290 non-null float64\n",
      "primary_cleaner.state.floatbank8_c_level      5290 non-null float64\n",
      "primary_cleaner.state.floatbank8_d_air        5290 non-null float64\n",
      "primary_cleaner.state.floatbank8_d_level      5290 non-null float64\n",
      "rougher.input.feed_ag                         5290 non-null float64\n",
      "rougher.input.feed_pb                         5290 non-null float64\n",
      "rougher.input.feed_rate                       5287 non-null float64\n",
      "rougher.input.feed_size                       5289 non-null float64\n",
      "rougher.input.feed_sol                        5269 non-null float64\n",
      "rougher.input.feed_au                         5290 non-null float64\n",
      "rougher.input.floatbank10_sulfate             5285 non-null float64\n",
      "rougher.input.floatbank10_xanthate            5290 non-null float64\n",
      "rougher.input.floatbank11_sulfate             5282 non-null float64\n",
      "rougher.input.floatbank11_xanthate            5265 non-null float64\n",
      "rougher.state.floatbank10_a_air               5290 non-null float64\n",
      "rougher.state.floatbank10_a_level             5290 non-null float64\n",
      "rougher.state.floatbank10_b_air               5290 non-null float64\n",
      "rougher.state.floatbank10_b_level             5290 non-null float64\n",
      "rougher.state.floatbank10_c_air               5290 non-null float64\n",
      "rougher.state.floatbank10_c_level             5290 non-null float64\n",
      "rougher.state.floatbank10_d_air               5290 non-null float64\n",
      "rougher.state.floatbank10_d_level             5290 non-null float64\n",
      "rougher.state.floatbank10_e_air               5290 non-null float64\n",
      "rougher.state.floatbank10_e_level             5290 non-null float64\n",
      "rougher.state.floatbank10_f_air               5290 non-null float64\n",
      "rougher.state.floatbank10_f_level             5290 non-null float64\n",
      "secondary_cleaner.state.floatbank2_a_air      5287 non-null float64\n",
      "secondary_cleaner.state.floatbank2_a_level    5290 non-null float64\n",
      "secondary_cleaner.state.floatbank2_b_air      5288 non-null float64\n",
      "secondary_cleaner.state.floatbank2_b_level    5290 non-null float64\n",
      "secondary_cleaner.state.floatbank3_a_air      5281 non-null float64\n",
      "secondary_cleaner.state.floatbank3_a_level    5290 non-null float64\n",
      "secondary_cleaner.state.floatbank3_b_air      5290 non-null float64\n",
      "secondary_cleaner.state.floatbank3_b_level    5290 non-null float64\n",
      "secondary_cleaner.state.floatbank4_a_air      5290 non-null float64\n",
      "secondary_cleaner.state.floatbank4_a_level    5290 non-null float64\n",
      "secondary_cleaner.state.floatbank4_b_air      5290 non-null float64\n",
      "secondary_cleaner.state.floatbank4_b_level    5290 non-null float64\n",
      "secondary_cleaner.state.floatbank5_a_air      5290 non-null float64\n",
      "secondary_cleaner.state.floatbank5_a_level    5290 non-null float64\n",
      "secondary_cleaner.state.floatbank5_b_air      5290 non-null float64\n",
      "secondary_cleaner.state.floatbank5_b_level    5290 non-null float64\n",
      "secondary_cleaner.state.floatbank6_a_air      5290 non-null float64\n",
      "secondary_cleaner.state.floatbank6_a_level    5290 non-null float64\n",
      "dtypes: float64(52), object(1)\n",
      "memory usage: 2.1+ MB\n"
     ]
    }
   ],
   "source": [
    "gold_recovery_test.info()"
   ]
  },
  {
   "cell_type": "markdown",
   "metadata": {},
   "source": [
    "***Третий датасет - full***"
   ]
  },
  {
   "cell_type": "code",
   "execution_count": 8,
   "metadata": {
    "scrolled": true
   },
   "outputs": [
    {
     "data": {
      "text/html": [
       "<div>\n",
       "<style scoped>\n",
       "    .dataframe tbody tr th:only-of-type {\n",
       "        vertical-align: middle;\n",
       "    }\n",
       "\n",
       "    .dataframe tbody tr th {\n",
       "        vertical-align: top;\n",
       "    }\n",
       "\n",
       "    .dataframe thead th {\n",
       "        text-align: right;\n",
       "    }\n",
       "</style>\n",
       "<table border=\"1\" class=\"dataframe\">\n",
       "  <thead>\n",
       "    <tr style=\"text-align: right;\">\n",
       "      <th></th>\n",
       "      <th>date</th>\n",
       "      <th>final.output.concentrate_ag</th>\n",
       "      <th>final.output.concentrate_pb</th>\n",
       "      <th>final.output.concentrate_sol</th>\n",
       "      <th>final.output.concentrate_au</th>\n",
       "      <th>final.output.recovery</th>\n",
       "      <th>final.output.tail_ag</th>\n",
       "      <th>final.output.tail_pb</th>\n",
       "      <th>final.output.tail_sol</th>\n",
       "      <th>final.output.tail_au</th>\n",
       "      <th>...</th>\n",
       "      <th>secondary_cleaner.state.floatbank4_a_air</th>\n",
       "      <th>secondary_cleaner.state.floatbank4_a_level</th>\n",
       "      <th>secondary_cleaner.state.floatbank4_b_air</th>\n",
       "      <th>secondary_cleaner.state.floatbank4_b_level</th>\n",
       "      <th>secondary_cleaner.state.floatbank5_a_air</th>\n",
       "      <th>secondary_cleaner.state.floatbank5_a_level</th>\n",
       "      <th>secondary_cleaner.state.floatbank5_b_air</th>\n",
       "      <th>secondary_cleaner.state.floatbank5_b_level</th>\n",
       "      <th>secondary_cleaner.state.floatbank6_a_air</th>\n",
       "      <th>secondary_cleaner.state.floatbank6_a_level</th>\n",
       "    </tr>\n",
       "  </thead>\n",
       "  <tbody>\n",
       "    <tr>\n",
       "      <td>0</td>\n",
       "      <td>2016-01-15 00:00:00</td>\n",
       "      <td>6.055403</td>\n",
       "      <td>9.889648</td>\n",
       "      <td>5.507324</td>\n",
       "      <td>42.192020</td>\n",
       "      <td>70.541216</td>\n",
       "      <td>10.411962</td>\n",
       "      <td>0.895447</td>\n",
       "      <td>16.904297</td>\n",
       "      <td>2.143149</td>\n",
       "      <td>...</td>\n",
       "      <td>14.016835</td>\n",
       "      <td>-502.488007</td>\n",
       "      <td>12.099931</td>\n",
       "      <td>-504.715942</td>\n",
       "      <td>9.925633</td>\n",
       "      <td>-498.310211</td>\n",
       "      <td>8.079666</td>\n",
       "      <td>-500.470978</td>\n",
       "      <td>14.151341</td>\n",
       "      <td>-605.841980</td>\n",
       "    </tr>\n",
       "    <tr>\n",
       "      <td>1</td>\n",
       "      <td>2016-01-15 01:00:00</td>\n",
       "      <td>6.029369</td>\n",
       "      <td>9.968944</td>\n",
       "      <td>5.257781</td>\n",
       "      <td>42.701629</td>\n",
       "      <td>69.266198</td>\n",
       "      <td>10.462676</td>\n",
       "      <td>0.927452</td>\n",
       "      <td>16.634514</td>\n",
       "      <td>2.224930</td>\n",
       "      <td>...</td>\n",
       "      <td>13.992281</td>\n",
       "      <td>-505.503262</td>\n",
       "      <td>11.950531</td>\n",
       "      <td>-501.331529</td>\n",
       "      <td>10.039245</td>\n",
       "      <td>-500.169983</td>\n",
       "      <td>7.984757</td>\n",
       "      <td>-500.582168</td>\n",
       "      <td>13.998353</td>\n",
       "      <td>-599.787184</td>\n",
       "    </tr>\n",
       "    <tr>\n",
       "      <td>2</td>\n",
       "      <td>2016-01-15 02:00:00</td>\n",
       "      <td>6.055926</td>\n",
       "      <td>10.213995</td>\n",
       "      <td>5.383759</td>\n",
       "      <td>42.657501</td>\n",
       "      <td>68.116445</td>\n",
       "      <td>10.507046</td>\n",
       "      <td>0.953716</td>\n",
       "      <td>16.208849</td>\n",
       "      <td>2.257889</td>\n",
       "      <td>...</td>\n",
       "      <td>14.015015</td>\n",
       "      <td>-502.520901</td>\n",
       "      <td>11.912783</td>\n",
       "      <td>-501.133383</td>\n",
       "      <td>10.070913</td>\n",
       "      <td>-500.129135</td>\n",
       "      <td>8.013877</td>\n",
       "      <td>-500.517572</td>\n",
       "      <td>14.028663</td>\n",
       "      <td>-601.427363</td>\n",
       "    </tr>\n",
       "    <tr>\n",
       "      <td>3</td>\n",
       "      <td>2016-01-15 03:00:00</td>\n",
       "      <td>6.047977</td>\n",
       "      <td>9.977019</td>\n",
       "      <td>4.858634</td>\n",
       "      <td>42.689819</td>\n",
       "      <td>68.347543</td>\n",
       "      <td>10.422762</td>\n",
       "      <td>0.883763</td>\n",
       "      <td>16.532835</td>\n",
       "      <td>2.146849</td>\n",
       "      <td>...</td>\n",
       "      <td>14.036510</td>\n",
       "      <td>-500.857308</td>\n",
       "      <td>11.999550</td>\n",
       "      <td>-501.193686</td>\n",
       "      <td>9.970366</td>\n",
       "      <td>-499.201640</td>\n",
       "      <td>7.977324</td>\n",
       "      <td>-500.255908</td>\n",
       "      <td>14.005551</td>\n",
       "      <td>-599.996129</td>\n",
       "    </tr>\n",
       "    <tr>\n",
       "      <td>4</td>\n",
       "      <td>2016-01-15 04:00:00</td>\n",
       "      <td>6.148599</td>\n",
       "      <td>10.142511</td>\n",
       "      <td>4.939416</td>\n",
       "      <td>42.774141</td>\n",
       "      <td>66.927016</td>\n",
       "      <td>10.360302</td>\n",
       "      <td>0.792826</td>\n",
       "      <td>16.525686</td>\n",
       "      <td>2.055292</td>\n",
       "      <td>...</td>\n",
       "      <td>14.027298</td>\n",
       "      <td>-499.838632</td>\n",
       "      <td>11.953070</td>\n",
       "      <td>-501.053894</td>\n",
       "      <td>9.925709</td>\n",
       "      <td>-501.686727</td>\n",
       "      <td>7.894242</td>\n",
       "      <td>-500.356035</td>\n",
       "      <td>13.996647</td>\n",
       "      <td>-601.496691</td>\n",
       "    </tr>\n",
       "  </tbody>\n",
       "</table>\n",
       "<p>5 rows × 87 columns</p>\n",
       "</div>"
      ],
      "text/plain": [
       "                  date  final.output.concentrate_ag  \\\n",
       "0  2016-01-15 00:00:00                     6.055403   \n",
       "1  2016-01-15 01:00:00                     6.029369   \n",
       "2  2016-01-15 02:00:00                     6.055926   \n",
       "3  2016-01-15 03:00:00                     6.047977   \n",
       "4  2016-01-15 04:00:00                     6.148599   \n",
       "\n",
       "   final.output.concentrate_pb  final.output.concentrate_sol  \\\n",
       "0                     9.889648                      5.507324   \n",
       "1                     9.968944                      5.257781   \n",
       "2                    10.213995                      5.383759   \n",
       "3                     9.977019                      4.858634   \n",
       "4                    10.142511                      4.939416   \n",
       "\n",
       "   final.output.concentrate_au  final.output.recovery  final.output.tail_ag  \\\n",
       "0                    42.192020              70.541216             10.411962   \n",
       "1                    42.701629              69.266198             10.462676   \n",
       "2                    42.657501              68.116445             10.507046   \n",
       "3                    42.689819              68.347543             10.422762   \n",
       "4                    42.774141              66.927016             10.360302   \n",
       "\n",
       "   final.output.tail_pb  final.output.tail_sol  final.output.tail_au  ...  \\\n",
       "0              0.895447              16.904297              2.143149  ...   \n",
       "1              0.927452              16.634514              2.224930  ...   \n",
       "2              0.953716              16.208849              2.257889  ...   \n",
       "3              0.883763              16.532835              2.146849  ...   \n",
       "4              0.792826              16.525686              2.055292  ...   \n",
       "\n",
       "   secondary_cleaner.state.floatbank4_a_air  \\\n",
       "0                                 14.016835   \n",
       "1                                 13.992281   \n",
       "2                                 14.015015   \n",
       "3                                 14.036510   \n",
       "4                                 14.027298   \n",
       "\n",
       "   secondary_cleaner.state.floatbank4_a_level  \\\n",
       "0                                 -502.488007   \n",
       "1                                 -505.503262   \n",
       "2                                 -502.520901   \n",
       "3                                 -500.857308   \n",
       "4                                 -499.838632   \n",
       "\n",
       "   secondary_cleaner.state.floatbank4_b_air  \\\n",
       "0                                 12.099931   \n",
       "1                                 11.950531   \n",
       "2                                 11.912783   \n",
       "3                                 11.999550   \n",
       "4                                 11.953070   \n",
       "\n",
       "   secondary_cleaner.state.floatbank4_b_level  \\\n",
       "0                                 -504.715942   \n",
       "1                                 -501.331529   \n",
       "2                                 -501.133383   \n",
       "3                                 -501.193686   \n",
       "4                                 -501.053894   \n",
       "\n",
       "   secondary_cleaner.state.floatbank5_a_air  \\\n",
       "0                                  9.925633   \n",
       "1                                 10.039245   \n",
       "2                                 10.070913   \n",
       "3                                  9.970366   \n",
       "4                                  9.925709   \n",
       "\n",
       "   secondary_cleaner.state.floatbank5_a_level  \\\n",
       "0                                 -498.310211   \n",
       "1                                 -500.169983   \n",
       "2                                 -500.129135   \n",
       "3                                 -499.201640   \n",
       "4                                 -501.686727   \n",
       "\n",
       "   secondary_cleaner.state.floatbank5_b_air  \\\n",
       "0                                  8.079666   \n",
       "1                                  7.984757   \n",
       "2                                  8.013877   \n",
       "3                                  7.977324   \n",
       "4                                  7.894242   \n",
       "\n",
       "   secondary_cleaner.state.floatbank5_b_level  \\\n",
       "0                                 -500.470978   \n",
       "1                                 -500.582168   \n",
       "2                                 -500.517572   \n",
       "3                                 -500.255908   \n",
       "4                                 -500.356035   \n",
       "\n",
       "   secondary_cleaner.state.floatbank6_a_air  \\\n",
       "0                                 14.151341   \n",
       "1                                 13.998353   \n",
       "2                                 14.028663   \n",
       "3                                 14.005551   \n",
       "4                                 13.996647   \n",
       "\n",
       "   secondary_cleaner.state.floatbank6_a_level  \n",
       "0                                 -605.841980  \n",
       "1                                 -599.787184  \n",
       "2                                 -601.427363  \n",
       "3                                 -599.996129  \n",
       "4                                 -601.496691  \n",
       "\n",
       "[5 rows x 87 columns]"
      ]
     },
     "execution_count": 8,
     "metadata": {},
     "output_type": "execute_result"
    }
   ],
   "source": [
    "gold_recovery_full.head(5)"
   ]
  },
  {
   "cell_type": "code",
   "execution_count": 9,
   "metadata": {
    "scrolled": true
   },
   "outputs": [
    {
     "name": "stdout",
     "output_type": "stream",
     "text": [
      "<class 'pandas.core.frame.DataFrame'>\n",
      "RangeIndex: 19439 entries, 0 to 19438\n",
      "Data columns (total 87 columns):\n",
      "date                                                  19439 non-null object\n",
      "final.output.concentrate_ag                           19438 non-null float64\n",
      "final.output.concentrate_pb                           19438 non-null float64\n",
      "final.output.concentrate_sol                          19228 non-null float64\n",
      "final.output.concentrate_au                           19439 non-null float64\n",
      "final.output.recovery                                 19439 non-null float64\n",
      "final.output.tail_ag                                  19438 non-null float64\n",
      "final.output.tail_pb                                  19338 non-null float64\n",
      "final.output.tail_sol                                 19433 non-null float64\n",
      "final.output.tail_au                                  19439 non-null float64\n",
      "primary_cleaner.input.sulfate                         19415 non-null float64\n",
      "primary_cleaner.input.depressant                      19402 non-null float64\n",
      "primary_cleaner.input.feed_size                       19439 non-null float64\n",
      "primary_cleaner.input.xanthate                        19335 non-null float64\n",
      "primary_cleaner.output.concentrate_ag                 19439 non-null float64\n",
      "primary_cleaner.output.concentrate_pb                 19323 non-null float64\n",
      "primary_cleaner.output.concentrate_sol                19069 non-null float64\n",
      "primary_cleaner.output.concentrate_au                 19439 non-null float64\n",
      "primary_cleaner.output.tail_ag                        19435 non-null float64\n",
      "primary_cleaner.output.tail_pb                        19418 non-null float64\n",
      "primary_cleaner.output.tail_sol                       19377 non-null float64\n",
      "primary_cleaner.output.tail_au                        19439 non-null float64\n",
      "primary_cleaner.state.floatbank8_a_air                19435 non-null float64\n",
      "primary_cleaner.state.floatbank8_a_level              19438 non-null float64\n",
      "primary_cleaner.state.floatbank8_b_air                19435 non-null float64\n",
      "primary_cleaner.state.floatbank8_b_level              19438 non-null float64\n",
      "primary_cleaner.state.floatbank8_c_air                19437 non-null float64\n",
      "primary_cleaner.state.floatbank8_c_level              19438 non-null float64\n",
      "primary_cleaner.state.floatbank8_d_air                19436 non-null float64\n",
      "primary_cleaner.state.floatbank8_d_level              19438 non-null float64\n",
      "rougher.calculation.sulfate_to_au_concentrate         19437 non-null float64\n",
      "rougher.calculation.floatbank10_sulfate_to_au_feed    19437 non-null float64\n",
      "rougher.calculation.floatbank11_sulfate_to_au_feed    19437 non-null float64\n",
      "rougher.calculation.au_pb_ratio                       19439 non-null float64\n",
      "rougher.input.feed_ag                                 19439 non-null float64\n",
      "rougher.input.feed_pb                                 19339 non-null float64\n",
      "rougher.input.feed_rate                               19428 non-null float64\n",
      "rougher.input.feed_size                               19294 non-null float64\n",
      "rougher.input.feed_sol                                19340 non-null float64\n",
      "rougher.input.feed_au                                 19439 non-null float64\n",
      "rougher.input.floatbank10_sulfate                     19405 non-null float64\n",
      "rougher.input.floatbank10_xanthate                    19431 non-null float64\n",
      "rougher.input.floatbank11_sulfate                     19395 non-null float64\n",
      "rougher.input.floatbank11_xanthate                    18986 non-null float64\n",
      "rougher.output.concentrate_ag                         19439 non-null float64\n",
      "rougher.output.concentrate_pb                         19439 non-null float64\n",
      "rougher.output.concentrate_sol                        19416 non-null float64\n",
      "rougher.output.concentrate_au                         19439 non-null float64\n",
      "rougher.output.recovery                               19439 non-null float64\n",
      "rougher.output.tail_ag                                19438 non-null float64\n",
      "rougher.output.tail_pb                                19439 non-null float64\n",
      "rougher.output.tail_sol                               19439 non-null float64\n",
      "rougher.output.tail_au                                19439 non-null float64\n",
      "rougher.state.floatbank10_a_air                       19438 non-null float64\n",
      "rougher.state.floatbank10_a_level                     19438 non-null float64\n",
      "rougher.state.floatbank10_b_air                       19438 non-null float64\n",
      "rougher.state.floatbank10_b_level                     19438 non-null float64\n",
      "rougher.state.floatbank10_c_air                       19438 non-null float64\n",
      "rougher.state.floatbank10_c_level                     19438 non-null float64\n",
      "rougher.state.floatbank10_d_air                       19439 non-null float64\n",
      "rougher.state.floatbank10_d_level                     19439 non-null float64\n",
      "rougher.state.floatbank10_e_air                       19003 non-null float64\n",
      "rougher.state.floatbank10_e_level                     19439 non-null float64\n",
      "rougher.state.floatbank10_f_air                       19439 non-null float64\n",
      "rougher.state.floatbank10_f_level                     19439 non-null float64\n",
      "secondary_cleaner.output.tail_ag                      19437 non-null float64\n",
      "secondary_cleaner.output.tail_pb                      19427 non-null float64\n",
      "secondary_cleaner.output.tail_sol                     17691 non-null float64\n",
      "secondary_cleaner.output.tail_au                      19439 non-null float64\n",
      "secondary_cleaner.state.floatbank2_a_air              19219 non-null float64\n",
      "secondary_cleaner.state.floatbank2_a_level            19438 non-null float64\n",
      "secondary_cleaner.state.floatbank2_b_air              19416 non-null float64\n",
      "secondary_cleaner.state.floatbank2_b_level            19438 non-null float64\n",
      "secondary_cleaner.state.floatbank3_a_air              19426 non-null float64\n",
      "secondary_cleaner.state.floatbank3_a_level            19438 non-null float64\n",
      "secondary_cleaner.state.floatbank3_b_air              19438 non-null float64\n",
      "secondary_cleaner.state.floatbank3_b_level            19438 non-null float64\n",
      "secondary_cleaner.state.floatbank4_a_air              19433 non-null float64\n",
      "secondary_cleaner.state.floatbank4_a_level            19438 non-null float64\n",
      "secondary_cleaner.state.floatbank4_b_air              19438 non-null float64\n",
      "secondary_cleaner.state.floatbank4_b_level            19438 non-null float64\n",
      "secondary_cleaner.state.floatbank5_a_air              19438 non-null float64\n",
      "secondary_cleaner.state.floatbank5_a_level            19438 non-null float64\n",
      "secondary_cleaner.state.floatbank5_b_air              19438 non-null float64\n",
      "secondary_cleaner.state.floatbank5_b_level            19438 non-null float64\n",
      "secondary_cleaner.state.floatbank6_a_air              19437 non-null float64\n",
      "secondary_cleaner.state.floatbank6_a_level            19438 non-null float64\n",
      "dtypes: float64(86), object(1)\n",
      "memory usage: 12.9+ MB\n"
     ]
    }
   ],
   "source": [
    "gold_recovery_full.info()"
   ]
  },
  {
   "cell_type": "markdown",
   "metadata": {},
   "source": [
    "### Проверьте, что эффективность обогащения рассчитана правильно. Вычислите её на обучающей выборке для признака rougher.output.recovery. Найдите MAE между вашими расчётами и значением признака. Опишите выводы."
   ]
  },
  {
   "attachments": {
    "image.png": {
     "image/png": "[encoded data removed]"
    }
   },
   "cell_type": "markdown",
   "metadata": {},
   "source": [
    "Формула рассчета эффективности обогащения\n",
    "\n",
    "\n",
    "![image.png](attachment:image.png)\n",
    "\n",
    "где:\n",
    "\n",
    "Recovery - эффективность обогащения для признака rougher.output.recovery;\n",
    "\n",
    "C — доля золота в концентрате после флотации/очистки (rougher.output.concentrate_au);\n",
    "\n",
    "F — доля золота в сырье/концентрате до флотации/очистки (rougher.input.feed_au);\n",
    "\n",
    "T — доля золота в отвальных хвостах после флотации/очистки (rougher.output.tail_au).\n"
   ]
  },
  {
   "cell_type": "code",
   "execution_count": 10,
   "metadata": {
    "scrolled": true
   },
   "outputs": [
    {
     "data": {
      "text/plain": [
       "0        87.107763\n",
       "1        86.843261\n",
       "2        86.842308\n",
       "3        87.226430\n",
       "4        86.688794\n",
       "           ...    \n",
       "14144    89.574376\n",
       "14145    87.724007\n",
       "14146    88.890579\n",
       "14147    89.858126\n",
       "14148    89.514960\n",
       "Name: rougher.output.recovery, Length: 14149, dtype: float64"
      ]
     },
     "execution_count": 10,
     "metadata": {},
     "output_type": "execute_result"
    }
   ],
   "source": [
    "gold_recovery_train['rougher.output.recovery']"
   ]
  },
  {
   "cell_type": "markdown",
   "metadata": {},
   "source": [
    "***Вычисление эффективности***"
   ]
  },
  {
   "cell_type": "code",
   "execution_count": 11,
   "metadata": {},
   "outputs": [],
   "source": [
    "recovery_calculated = list()\n",
    "\n",
    "len(gold_recovery_train)\n",
    "for i in range(len(gold_recovery_train)):\n",
    "    rec_calc = ((gold_recovery_train['rougher.output.concentrate_au'][i] * (gold_recovery_train['rougher.input.feed_au'][i] - gold_recovery_train['rougher.output.tail_au'][i])) / (gold_recovery_train['rougher.input.feed_au'][i] * (gold_recovery_train['rougher.output.concentrate_au'][i] - gold_recovery_train['rougher.output.tail_au'][i]))) * 100\n",
    "    recovery_calculated.append(round(rec_calc, 6))\n",
    "#     print(round(rec_calc, 6))"
   ]
  },
  {
   "cell_type": "markdown",
   "metadata": {},
   "source": [
    "***Вычисление MAE***"
   ]
  },
  {
   "cell_type": "code",
   "execution_count": 12,
   "metadata": {
    "scrolled": true
   },
   "outputs": [
    {
     "name": "stdout",
     "output_type": "stream",
     "text": [
      "5.498056301624642e-10\n"
     ]
    }
   ],
   "source": [
    "error = 0\n",
    "for i in range(len(recovery_calculated)):\n",
    "    er = recovery_calculated[i] - gold_recovery_train['rougher.output.recovery'][i]\n",
    "    error += er\n",
    "MAE = error / len(recovery_calculated)\n",
    "print(MAE)"
   ]
  },
  {
   "cell_type": "markdown",
   "metadata": {},
   "source": [
    "***Вывод***"
   ]
  },
  {
   "cell_type": "markdown",
   "metadata": {},
   "source": [
    "MAE – максимальное неблагоприятное отклонение. В данной ситуации, MAE между нашими расчетами и значением признака примерно равняется 5.5e-10, следовательно, эффективность обогащения рассчитана правильно."
   ]
  },
  {
   "cell_type": "markdown",
   "metadata": {},
   "source": [
    "### Проанализируйте признаки, недоступные в тестовой выборке. Что это за параметры? К какому типу относятся?"
   ]
  },
  {
   "cell_type": "code",
   "execution_count": 13,
   "metadata": {
    "scrolled": true
   },
   "outputs": [
    {
     "name": "stdout",
     "output_type": "stream",
     "text": [
      "final.output.concentrate_ag\n",
      "final.output.concentrate_pb\n",
      "final.output.concentrate_sol\n",
      "final.output.concentrate_au\n",
      "final.output.recovery\n",
      "final.output.tail_ag\n",
      "final.output.tail_pb\n",
      "final.output.tail_sol\n",
      "final.output.tail_au\n",
      "primary_cleaner.output.concentrate_ag\n",
      "primary_cleaner.output.concentrate_pb\n",
      "primary_cleaner.output.concentrate_sol\n",
      "primary_cleaner.output.concentrate_au\n",
      "primary_cleaner.output.tail_ag\n",
      "primary_cleaner.output.tail_pb\n",
      "primary_cleaner.output.tail_sol\n",
      "primary_cleaner.output.tail_au\n",
      "rougher.calculation.sulfate_to_au_concentrate\n",
      "rougher.calculation.floatbank10_sulfate_to_au_feed\n",
      "rougher.calculation.floatbank11_sulfate_to_au_feed\n",
      "rougher.calculation.au_pb_ratio\n",
      "rougher.output.concentrate_ag\n",
      "rougher.output.concentrate_pb\n",
      "rougher.output.concentrate_sol\n",
      "rougher.output.concentrate_au\n",
      "rougher.output.recovery\n",
      "rougher.output.tail_ag\n",
      "rougher.output.tail_pb\n",
      "rougher.output.tail_sol\n",
      "rougher.output.tail_au\n",
      "secondary_cleaner.output.tail_ag\n",
      "secondary_cleaner.output.tail_pb\n",
      "secondary_cleaner.output.tail_sol\n",
      "secondary_cleaner.output.tail_au\n"
     ]
    }
   ],
   "source": [
    "nedostupnie = list()\n",
    "\n",
    "for i in range(len(list(gold_recovery_full.columns))):\n",
    "    if list(gold_recovery_full.columns)[i] not in list(gold_recovery_test.columns):\n",
    "        nedostupnie.append(list(gold_recovery_full.columns)[i])\n",
    "        print(list(gold_recovery_full.columns)[i])\n",
    "        \n",
    "# print(nedostupnie)"
   ]
  },
  {
   "cell_type": "markdown",
   "metadata": {},
   "source": [
    "Все данные параметры относятся к типу output — параметры продукта, то есть то, что на выходе после проведения той или иной процедуры с сырьем."
   ]
  },
  {
   "cell_type": "raw",
   "metadata": {},
   "source": [
    "sorted(list(set(data_train.columns.values) - set(data_test.columns.values))) # проверка\n",
    "\n",
    "# ИЛИ\n",
    "list1 = list(data_train)\n",
    "list2 = list(data_test)\n",
    "result=list(set(list1) ^ set(list2))"
   ]
  },
  {
   "cell_type": "markdown",
   "metadata": {},
   "source": [
    "### Проведите предобработку данных."
   ]
  },
  {
   "cell_type": "markdown",
   "metadata": {},
   "source": [
    "***Исходя из задания:***\n",
    "\n",
    "Перед нами сырые данные, которые просто выгрузили из хранилища.\n",
    "\n",
    "Данные индексируются датой и временем получения информации (признак date). Соседние по времени параметры часто похожи.\n",
    "Некоторые параметры недоступны, потому что замеряются и/или рассчитываются значительно позже. Из-за этого в тестовой выборке отсутствуют некоторые признаки, которые могут быть в обучающей. Также в тестовом наборе нет целевых признаков.\n",
    "\n",
    "***Следовательно:***\n",
    "\n",
    "1) Сырые данные имеют пропуски и некоторые недоступные параметры, которые замеряются и/или рассчитываются значительно позже. Исходя из этого, некоторые данные, которые заполняются на основе замеров и измерений, а не на основе расчетов, мы заполнить логическими или расчетными эквивалентами не можем.\n",
    "\n",
    "2) Соседние по времени параметры данные и параметры могут быть похожи, из-за чего мы можем исключить данные с пропусками, так как соответствующие им по дате соседние значения, при дальнейшем построении модели, могут нивелировать их отсутствия и значительно не повлиять на процесс обучения модели и ее конечные результаты."
   ]
  },
  {
   "cell_type": "code",
   "execution_count": 14,
   "metadata": {},
   "outputs": [],
   "source": [
    "pd.set_option('display.max_columns', None)"
   ]
  },
  {
   "cell_type": "code",
   "execution_count": 15,
   "metadata": {},
   "outputs": [],
   "source": [
    "gold_recovery_train = gold_recovery_train.loc[gold_recovery_train.notnull().all(axis=1)]\n",
    "gold_recovery_train = gold_recovery_train.loc[(gold_recovery_train[gold_recovery_train.columns] != 0).any(axis=1)]\n",
    "\n",
    "gold_recovery_test = gold_recovery_test.loc[gold_recovery_test.notnull().all(axis=1)]\n",
    "gold_recovery_test = gold_recovery_test.loc[(gold_recovery_test[gold_recovery_test.columns] != 0).any(axis=1)]\n",
    "\n",
    "gold_recovery_full = gold_recovery_full.loc[gold_recovery_full.notnull().all(axis=1)]\n",
    "gold_recovery_full = gold_recovery_full.loc[(gold_recovery_full[gold_recovery_full.columns] != 0).any(axis=1)]"
   ]
  },
  {
   "cell_type": "code",
   "execution_count": 16,
   "metadata": {},
   "outputs": [
    {
     "data": {
      "text/plain": [
       "(11017, 87)"
      ]
     },
     "execution_count": 16,
     "metadata": {},
     "output_type": "execute_result"
    }
   ],
   "source": [
    "gold_recovery_train.shape"
   ]
  },
  {
   "cell_type": "markdown",
   "metadata": {},
   "source": [
    "## Анализ данных"
   ]
  },
  {
   "cell_type": "markdown",
   "metadata": {},
   "source": [
    "### Посмотрите, как меняется концентрация металлов (Au, Ag, Pb) на различных этапах очистки. Опишите выводы."
   ]
  },
  {
   "cell_type": "code",
   "execution_count": 17,
   "metadata": {},
   "outputs": [
    {
     "data": {
      "text/html": [
       "<div>\n",
       "<style scoped>\n",
       "    .dataframe tbody tr th:only-of-type {\n",
       "        vertical-align: middle;\n",
       "    }\n",
       "\n",
       "    .dataframe tbody tr th {\n",
       "        vertical-align: top;\n",
       "    }\n",
       "\n",
       "    .dataframe thead th {\n",
       "        text-align: right;\n",
       "    }\n",
       "</style>\n",
       "<table border=\"1\" class=\"dataframe\">\n",
       "  <thead>\n",
       "    <tr style=\"text-align: right;\">\n",
       "      <th></th>\n",
       "      <th>rougher.input.feed_ag</th>\n",
       "      <th>rougher.input.feed_pb</th>\n",
       "      <th>rougher.input.feed_au</th>\n",
       "      <th>rougher.input.feed_sol</th>\n",
       "      <th>sum</th>\n",
       "    </tr>\n",
       "  </thead>\n",
       "  <tbody>\n",
       "    <tr>\n",
       "      <td>16226</td>\n",
       "      <td>0.01</td>\n",
       "      <td>0.01</td>\n",
       "      <td>0.01</td>\n",
       "      <td>0.01</td>\n",
       "      <td>0.04</td>\n",
       "    </tr>\n",
       "    <tr>\n",
       "      <td>16227</td>\n",
       "      <td>0.01</td>\n",
       "      <td>0.01</td>\n",
       "      <td>0.01</td>\n",
       "      <td>0.01</td>\n",
       "      <td>0.04</td>\n",
       "    </tr>\n",
       "    <tr>\n",
       "      <td>16228</td>\n",
       "      <td>0.01</td>\n",
       "      <td>0.01</td>\n",
       "      <td>0.01</td>\n",
       "      <td>0.01</td>\n",
       "      <td>0.04</td>\n",
       "    </tr>\n",
       "    <tr>\n",
       "      <td>16229</td>\n",
       "      <td>0.01</td>\n",
       "      <td>0.01</td>\n",
       "      <td>0.01</td>\n",
       "      <td>0.01</td>\n",
       "      <td>0.04</td>\n",
       "    </tr>\n",
       "    <tr>\n",
       "      <td>16230</td>\n",
       "      <td>0.01</td>\n",
       "      <td>0.01</td>\n",
       "      <td>0.01</td>\n",
       "      <td>0.01</td>\n",
       "      <td>0.04</td>\n",
       "    </tr>\n",
       "  </tbody>\n",
       "</table>\n",
       "</div>"
      ],
      "text/plain": [
       "       rougher.input.feed_ag  rougher.input.feed_pb  rougher.input.feed_au  \\\n",
       "16226                   0.01                   0.01                   0.01   \n",
       "16227                   0.01                   0.01                   0.01   \n",
       "16228                   0.01                   0.01                   0.01   \n",
       "16229                   0.01                   0.01                   0.01   \n",
       "16230                   0.01                   0.01                   0.01   \n",
       "\n",
       "       rougher.input.feed_sol   sum  \n",
       "16226                    0.01  0.04  \n",
       "16227                    0.01  0.04  \n",
       "16228                    0.01  0.04  \n",
       "16229                    0.01  0.04  \n",
       "16230                    0.01  0.04  "
      ]
     },
     "metadata": {},
     "output_type": "display_data"
    }
   ],
   "source": [
    "rougherinput_conc = gold_recovery_full[['rougher.input.feed_ag', 'rougher.input.feed_pb', 'rougher.input.feed_au', 'rougher.input.feed_sol']]\n",
    "rougherinput_conc['sum'] = rougherinput_conc['rougher.input.feed_ag'] + rougherinput_conc['rougher.input.feed_pb'] + rougherinput_conc['rougher.input.feed_au'] + rougherinput_conc['rougher.input.feed_sol']\n",
    "display(rougherinput_conc[rougherinput_conc['sum'] <= 1])"
   ]
  },
  {
   "cell_type": "code",
   "execution_count": 18,
   "metadata": {},
   "outputs": [],
   "source": [
    "rougherinput_conc = rougherinput_conc[rougherinput_conc['sum'] >= 1]\n",
    "desc1 = rougherinput_conc.describe(include='all').loc['mean']"
   ]
  },
  {
   "cell_type": "code",
   "execution_count": 19,
   "metadata": {
    "scrolled": true
   },
   "outputs": [
    {
     "data": {
      "text/html": [
       "<div>\n",
       "<style scoped>\n",
       "    .dataframe tbody tr th:only-of-type {\n",
       "        vertical-align: middle;\n",
       "    }\n",
       "\n",
       "    .dataframe tbody tr th {\n",
       "        vertical-align: top;\n",
       "    }\n",
       "\n",
       "    .dataframe thead th {\n",
       "        text-align: right;\n",
       "    }\n",
       "</style>\n",
       "<table border=\"1\" class=\"dataframe\">\n",
       "  <thead>\n",
       "    <tr style=\"text-align: right;\">\n",
       "      <th></th>\n",
       "      <th>rougher.output.concentrate_ag</th>\n",
       "      <th>rougher.output.concentrate_pb</th>\n",
       "      <th>rougher.output.concentrate_au</th>\n",
       "      <th>rougher.output.concentrate_sol</th>\n",
       "      <th>sum</th>\n",
       "    </tr>\n",
       "  </thead>\n",
       "  <tbody>\n",
       "    <tr>\n",
       "      <td>45</td>\n",
       "      <td>0.00</td>\n",
       "      <td>0.00</td>\n",
       "      <td>0.00</td>\n",
       "      <td>0.00</td>\n",
       "      <td>0.00</td>\n",
       "    </tr>\n",
       "    <tr>\n",
       "      <td>46</td>\n",
       "      <td>0.00</td>\n",
       "      <td>0.00</td>\n",
       "      <td>0.00</td>\n",
       "      <td>0.00</td>\n",
       "      <td>0.00</td>\n",
       "    </tr>\n",
       "    <tr>\n",
       "      <td>50</td>\n",
       "      <td>0.00</td>\n",
       "      <td>0.00</td>\n",
       "      <td>0.00</td>\n",
       "      <td>0.00</td>\n",
       "      <td>0.00</td>\n",
       "    </tr>\n",
       "    <tr>\n",
       "      <td>51</td>\n",
       "      <td>0.00</td>\n",
       "      <td>0.00</td>\n",
       "      <td>0.00</td>\n",
       "      <td>0.00</td>\n",
       "      <td>0.00</td>\n",
       "    </tr>\n",
       "    <tr>\n",
       "      <td>759</td>\n",
       "      <td>0.00</td>\n",
       "      <td>0.00</td>\n",
       "      <td>0.00</td>\n",
       "      <td>0.00</td>\n",
       "      <td>0.00</td>\n",
       "    </tr>\n",
       "    <tr>\n",
       "      <td>...</td>\n",
       "      <td>...</td>\n",
       "      <td>...</td>\n",
       "      <td>...</td>\n",
       "      <td>...</td>\n",
       "      <td>...</td>\n",
       "    </tr>\n",
       "    <tr>\n",
       "      <td>16226</td>\n",
       "      <td>0.01</td>\n",
       "      <td>0.01</td>\n",
       "      <td>0.01</td>\n",
       "      <td>0.01</td>\n",
       "      <td>0.04</td>\n",
       "    </tr>\n",
       "    <tr>\n",
       "      <td>16227</td>\n",
       "      <td>0.01</td>\n",
       "      <td>0.01</td>\n",
       "      <td>0.01</td>\n",
       "      <td>0.01</td>\n",
       "      <td>0.04</td>\n",
       "    </tr>\n",
       "    <tr>\n",
       "      <td>16228</td>\n",
       "      <td>0.01</td>\n",
       "      <td>0.01</td>\n",
       "      <td>0.01</td>\n",
       "      <td>0.01</td>\n",
       "      <td>0.04</td>\n",
       "    </tr>\n",
       "    <tr>\n",
       "      <td>16229</td>\n",
       "      <td>0.01</td>\n",
       "      <td>0.01</td>\n",
       "      <td>0.01</td>\n",
       "      <td>0.01</td>\n",
       "      <td>0.04</td>\n",
       "    </tr>\n",
       "    <tr>\n",
       "      <td>16230</td>\n",
       "      <td>0.01</td>\n",
       "      <td>0.01</td>\n",
       "      <td>0.01</td>\n",
       "      <td>0.01</td>\n",
       "      <td>0.04</td>\n",
       "    </tr>\n",
       "  </tbody>\n",
       "</table>\n",
       "<p>306 rows × 5 columns</p>\n",
       "</div>"
      ],
      "text/plain": [
       "       rougher.output.concentrate_ag  rougher.output.concentrate_pb  \\\n",
       "45                              0.00                           0.00   \n",
       "46                              0.00                           0.00   \n",
       "50                              0.00                           0.00   \n",
       "51                              0.00                           0.00   \n",
       "759                             0.00                           0.00   \n",
       "...                              ...                            ...   \n",
       "16226                           0.01                           0.01   \n",
       "16227                           0.01                           0.01   \n",
       "16228                           0.01                           0.01   \n",
       "16229                           0.01                           0.01   \n",
       "16230                           0.01                           0.01   \n",
       "\n",
       "       rougher.output.concentrate_au  rougher.output.concentrate_sol   sum  \n",
       "45                              0.00                            0.00  0.00  \n",
       "46                              0.00                            0.00  0.00  \n",
       "50                              0.00                            0.00  0.00  \n",
       "51                              0.00                            0.00  0.00  \n",
       "759                             0.00                            0.00  0.00  \n",
       "...                              ...                             ...   ...  \n",
       "16226                           0.01                            0.01  0.04  \n",
       "16227                           0.01                            0.01  0.04  \n",
       "16228                           0.01                            0.01  0.04  \n",
       "16229                           0.01                            0.01  0.04  \n",
       "16230                           0.01                            0.01  0.04  \n",
       "\n",
       "[306 rows x 5 columns]"
      ]
     },
     "metadata": {},
     "output_type": "display_data"
    }
   ],
   "source": [
    "rougheroutput_conc = gold_recovery_full[['rougher.output.concentrate_ag', 'rougher.output.concentrate_pb', 'rougher.output.concentrate_au', 'rougher.output.concentrate_sol']]\n",
    "rougheroutput_conc['sum'] = rougheroutput_conc['rougher.output.concentrate_ag'] + rougheroutput_conc['rougher.output.concentrate_pb'] + rougheroutput_conc['rougher.output.concentrate_au'] + rougheroutput_conc['rougher.output.concentrate_sol']\n",
    "display(rougheroutput_conc[rougheroutput_conc['sum'] <= 1])"
   ]
  },
  {
   "cell_type": "code",
   "execution_count": 20,
   "metadata": {},
   "outputs": [],
   "source": [
    "rougheroutput_conc = rougheroutput_conc[rougheroutput_conc['sum'] >= 1]\n",
    "desc2 = rougheroutput_conc.describe(include='all').loc['mean']"
   ]
  },
  {
   "cell_type": "code",
   "execution_count": 21,
   "metadata": {
    "scrolled": true
   },
   "outputs": [
    {
     "data": {
      "text/html": [
       "<div>\n",
       "<style scoped>\n",
       "    .dataframe tbody tr th:only-of-type {\n",
       "        vertical-align: middle;\n",
       "    }\n",
       "\n",
       "    .dataframe tbody tr th {\n",
       "        vertical-align: top;\n",
       "    }\n",
       "\n",
       "    .dataframe thead th {\n",
       "        text-align: right;\n",
       "    }\n",
       "</style>\n",
       "<table border=\"1\" class=\"dataframe\">\n",
       "  <thead>\n",
       "    <tr style=\"text-align: right;\">\n",
       "      <th></th>\n",
       "      <th>primary_cleaner.output.concentrate_ag</th>\n",
       "      <th>primary_cleaner.output.concentrate_pb</th>\n",
       "      <th>primary_cleaner.output.concentrate_au</th>\n",
       "      <th>primary_cleaner.output.concentrate_sol</th>\n",
       "      <th>sum</th>\n",
       "    </tr>\n",
       "  </thead>\n",
       "  <tbody>\n",
       "    <tr>\n",
       "      <td>19</td>\n",
       "      <td>0.00</td>\n",
       "      <td>0.00</td>\n",
       "      <td>0.00</td>\n",
       "      <td>0.00</td>\n",
       "      <td>0.00</td>\n",
       "    </tr>\n",
       "    <tr>\n",
       "      <td>22</td>\n",
       "      <td>0.00</td>\n",
       "      <td>0.00</td>\n",
       "      <td>0.00</td>\n",
       "      <td>0.00</td>\n",
       "      <td>0.00</td>\n",
       "    </tr>\n",
       "    <tr>\n",
       "      <td>30</td>\n",
       "      <td>0.00</td>\n",
       "      <td>0.00</td>\n",
       "      <td>0.00</td>\n",
       "      <td>0.00</td>\n",
       "      <td>0.00</td>\n",
       "    </tr>\n",
       "    <tr>\n",
       "      <td>71</td>\n",
       "      <td>0.00</td>\n",
       "      <td>0.00</td>\n",
       "      <td>0.00</td>\n",
       "      <td>0.00</td>\n",
       "      <td>0.00</td>\n",
       "    </tr>\n",
       "    <tr>\n",
       "      <td>74</td>\n",
       "      <td>0.00</td>\n",
       "      <td>0.00</td>\n",
       "      <td>0.00</td>\n",
       "      <td>0.00</td>\n",
       "      <td>0.00</td>\n",
       "    </tr>\n",
       "    <tr>\n",
       "      <td>...</td>\n",
       "      <td>...</td>\n",
       "      <td>...</td>\n",
       "      <td>...</td>\n",
       "      <td>...</td>\n",
       "      <td>...</td>\n",
       "    </tr>\n",
       "    <tr>\n",
       "      <td>19253</td>\n",
       "      <td>0.01</td>\n",
       "      <td>0.01</td>\n",
       "      <td>0.01</td>\n",
       "      <td>0.01</td>\n",
       "      <td>0.04</td>\n",
       "    </tr>\n",
       "    <tr>\n",
       "      <td>19254</td>\n",
       "      <td>0.01</td>\n",
       "      <td>0.01</td>\n",
       "      <td>0.01</td>\n",
       "      <td>0.01</td>\n",
       "      <td>0.04</td>\n",
       "    </tr>\n",
       "    <tr>\n",
       "      <td>19255</td>\n",
       "      <td>0.01</td>\n",
       "      <td>0.01</td>\n",
       "      <td>0.01</td>\n",
       "      <td>0.01</td>\n",
       "      <td>0.04</td>\n",
       "    </tr>\n",
       "    <tr>\n",
       "      <td>19256</td>\n",
       "      <td>0.01</td>\n",
       "      <td>0.01</td>\n",
       "      <td>0.01</td>\n",
       "      <td>0.01</td>\n",
       "      <td>0.04</td>\n",
       "    </tr>\n",
       "    <tr>\n",
       "      <td>19257</td>\n",
       "      <td>0.01</td>\n",
       "      <td>0.01</td>\n",
       "      <td>0.01</td>\n",
       "      <td>0.01</td>\n",
       "      <td>0.04</td>\n",
       "    </tr>\n",
       "  </tbody>\n",
       "</table>\n",
       "<p>137 rows × 5 columns</p>\n",
       "</div>"
      ],
      "text/plain": [
       "       primary_cleaner.output.concentrate_ag  \\\n",
       "19                                      0.00   \n",
       "22                                      0.00   \n",
       "30                                      0.00   \n",
       "71                                      0.00   \n",
       "74                                      0.00   \n",
       "...                                      ...   \n",
       "19253                                   0.01   \n",
       "19254                                   0.01   \n",
       "19255                                   0.01   \n",
       "19256                                   0.01   \n",
       "19257                                   0.01   \n",
       "\n",
       "       primary_cleaner.output.concentrate_pb  \\\n",
       "19                                      0.00   \n",
       "22                                      0.00   \n",
       "30                                      0.00   \n",
       "71                                      0.00   \n",
       "74                                      0.00   \n",
       "...                                      ...   \n",
       "19253                                   0.01   \n",
       "19254                                   0.01   \n",
       "19255                                   0.01   \n",
       "19256                                   0.01   \n",
       "19257                                   0.01   \n",
       "\n",
       "       primary_cleaner.output.concentrate_au  \\\n",
       "19                                      0.00   \n",
       "22                                      0.00   \n",
       "30                                      0.00   \n",
       "71                                      0.00   \n",
       "74                                      0.00   \n",
       "...                                      ...   \n",
       "19253                                   0.01   \n",
       "19254                                   0.01   \n",
       "19255                                   0.01   \n",
       "19256                                   0.01   \n",
       "19257                                   0.01   \n",
       "\n",
       "       primary_cleaner.output.concentrate_sol   sum  \n",
       "19                                       0.00  0.00  \n",
       "22                                       0.00  0.00  \n",
       "30                                       0.00  0.00  \n",
       "71                                       0.00  0.00  \n",
       "74                                       0.00  0.00  \n",
       "...                                       ...   ...  \n",
       "19253                                    0.01  0.04  \n",
       "19254                                    0.01  0.04  \n",
       "19255                                    0.01  0.04  \n",
       "19256                                    0.01  0.04  \n",
       "19257                                    0.01  0.04  \n",
       "\n",
       "[137 rows x 5 columns]"
      ]
     },
     "metadata": {},
     "output_type": "display_data"
    }
   ],
   "source": [
    "primary_cleaner_conc = gold_recovery_full[['primary_cleaner.output.concentrate_ag', 'primary_cleaner.output.concentrate_pb', 'primary_cleaner.output.concentrate_au', 'primary_cleaner.output.concentrate_sol']]\n",
    "primary_cleaner_conc['sum'] = primary_cleaner_conc['primary_cleaner.output.concentrate_ag'] + primary_cleaner_conc['primary_cleaner.output.concentrate_pb'] + primary_cleaner_conc['primary_cleaner.output.concentrate_au'] + primary_cleaner_conc['primary_cleaner.output.concentrate_sol']\n",
    "display(primary_cleaner_conc[primary_cleaner_conc['sum'] <= 1])"
   ]
  },
  {
   "cell_type": "code",
   "execution_count": 22,
   "metadata": {
    "scrolled": true
   },
   "outputs": [],
   "source": [
    "primary_cleaner_conc = primary_cleaner_conc[primary_cleaner_conc['sum'] >= 1]\n",
    "desc3 = primary_cleaner_conc.describe(include='all').loc['mean']"
   ]
  },
  {
   "cell_type": "code",
   "execution_count": 23,
   "metadata": {
    "scrolled": true
   },
   "outputs": [
    {
     "data": {
      "text/html": [
       "<div>\n",
       "<style scoped>\n",
       "    .dataframe tbody tr th:only-of-type {\n",
       "        vertical-align: middle;\n",
       "    }\n",
       "\n",
       "    .dataframe tbody tr th {\n",
       "        vertical-align: top;\n",
       "    }\n",
       "\n",
       "    .dataframe thead th {\n",
       "        text-align: right;\n",
       "    }\n",
       "</style>\n",
       "<table border=\"1\" class=\"dataframe\">\n",
       "  <thead>\n",
       "    <tr style=\"text-align: right;\">\n",
       "      <th></th>\n",
       "      <th>final.output.concentrate_ag</th>\n",
       "      <th>final.output.concentrate_pb</th>\n",
       "      <th>final.output.concentrate_au</th>\n",
       "      <th>final.output.concentrate_sol</th>\n",
       "      <th>sum</th>\n",
       "    </tr>\n",
       "  </thead>\n",
       "  <tbody>\n",
       "    <tr>\n",
       "      <td>644</td>\n",
       "      <td>0.0</td>\n",
       "      <td>0.0</td>\n",
       "      <td>0.0</td>\n",
       "      <td>0.0</td>\n",
       "      <td>0.0</td>\n",
       "    </tr>\n",
       "    <tr>\n",
       "      <td>1193</td>\n",
       "      <td>0.0</td>\n",
       "      <td>0.0</td>\n",
       "      <td>0.0</td>\n",
       "      <td>0.0</td>\n",
       "      <td>0.0</td>\n",
       "    </tr>\n",
       "    <tr>\n",
       "      <td>1194</td>\n",
       "      <td>0.0</td>\n",
       "      <td>0.0</td>\n",
       "      <td>0.0</td>\n",
       "      <td>0.0</td>\n",
       "      <td>0.0</td>\n",
       "    </tr>\n",
       "    <tr>\n",
       "      <td>1195</td>\n",
       "      <td>0.0</td>\n",
       "      <td>0.0</td>\n",
       "      <td>0.0</td>\n",
       "      <td>0.0</td>\n",
       "      <td>0.0</td>\n",
       "    </tr>\n",
       "    <tr>\n",
       "      <td>1196</td>\n",
       "      <td>0.0</td>\n",
       "      <td>0.0</td>\n",
       "      <td>0.0</td>\n",
       "      <td>0.0</td>\n",
       "      <td>0.0</td>\n",
       "    </tr>\n",
       "    <tr>\n",
       "      <td>1682</td>\n",
       "      <td>0.0</td>\n",
       "      <td>0.0</td>\n",
       "      <td>0.0</td>\n",
       "      <td>0.0</td>\n",
       "      <td>0.0</td>\n",
       "    </tr>\n",
       "    <tr>\n",
       "      <td>2019</td>\n",
       "      <td>0.0</td>\n",
       "      <td>0.0</td>\n",
       "      <td>0.0</td>\n",
       "      <td>0.0</td>\n",
       "      <td>0.0</td>\n",
       "    </tr>\n",
       "    <tr>\n",
       "      <td>2020</td>\n",
       "      <td>0.0</td>\n",
       "      <td>0.0</td>\n",
       "      <td>0.0</td>\n",
       "      <td>0.0</td>\n",
       "      <td>0.0</td>\n",
       "    </tr>\n",
       "    <tr>\n",
       "      <td>2236</td>\n",
       "      <td>0.0</td>\n",
       "      <td>0.0</td>\n",
       "      <td>0.0</td>\n",
       "      <td>0.0</td>\n",
       "      <td>0.0</td>\n",
       "    </tr>\n",
       "    <tr>\n",
       "      <td>4314</td>\n",
       "      <td>0.0</td>\n",
       "      <td>0.0</td>\n",
       "      <td>0.0</td>\n",
       "      <td>0.0</td>\n",
       "      <td>0.0</td>\n",
       "    </tr>\n",
       "    <tr>\n",
       "      <td>4564</td>\n",
       "      <td>0.0</td>\n",
       "      <td>0.0</td>\n",
       "      <td>0.0</td>\n",
       "      <td>0.0</td>\n",
       "      <td>0.0</td>\n",
       "    </tr>\n",
       "    <tr>\n",
       "      <td>5151</td>\n",
       "      <td>0.0</td>\n",
       "      <td>0.0</td>\n",
       "      <td>0.0</td>\n",
       "      <td>0.0</td>\n",
       "      <td>0.0</td>\n",
       "    </tr>\n",
       "    <tr>\n",
       "      <td>6327</td>\n",
       "      <td>0.0</td>\n",
       "      <td>0.0</td>\n",
       "      <td>0.0</td>\n",
       "      <td>0.0</td>\n",
       "      <td>0.0</td>\n",
       "    </tr>\n",
       "    <tr>\n",
       "      <td>7342</td>\n",
       "      <td>0.0</td>\n",
       "      <td>0.0</td>\n",
       "      <td>0.0</td>\n",
       "      <td>0.0</td>\n",
       "      <td>0.0</td>\n",
       "    </tr>\n",
       "    <tr>\n",
       "      <td>7343</td>\n",
       "      <td>0.0</td>\n",
       "      <td>0.0</td>\n",
       "      <td>0.0</td>\n",
       "      <td>0.0</td>\n",
       "      <td>0.0</td>\n",
       "    </tr>\n",
       "    <tr>\n",
       "      <td>7344</td>\n",
       "      <td>0.0</td>\n",
       "      <td>0.0</td>\n",
       "      <td>0.0</td>\n",
       "      <td>0.0</td>\n",
       "      <td>0.0</td>\n",
       "    </tr>\n",
       "    <tr>\n",
       "      <td>7586</td>\n",
       "      <td>0.0</td>\n",
       "      <td>0.0</td>\n",
       "      <td>0.0</td>\n",
       "      <td>0.0</td>\n",
       "      <td>0.0</td>\n",
       "    </tr>\n",
       "    <tr>\n",
       "      <td>7587</td>\n",
       "      <td>0.0</td>\n",
       "      <td>0.0</td>\n",
       "      <td>0.0</td>\n",
       "      <td>0.0</td>\n",
       "      <td>0.0</td>\n",
       "    </tr>\n",
       "    <tr>\n",
       "      <td>7759</td>\n",
       "      <td>0.0</td>\n",
       "      <td>0.0</td>\n",
       "      <td>0.0</td>\n",
       "      <td>0.0</td>\n",
       "      <td>0.0</td>\n",
       "    </tr>\n",
       "    <tr>\n",
       "      <td>7760</td>\n",
       "      <td>0.0</td>\n",
       "      <td>0.0</td>\n",
       "      <td>0.0</td>\n",
       "      <td>0.0</td>\n",
       "      <td>0.0</td>\n",
       "    </tr>\n",
       "    <tr>\n",
       "      <td>8404</td>\n",
       "      <td>0.0</td>\n",
       "      <td>0.0</td>\n",
       "      <td>0.0</td>\n",
       "      <td>0.0</td>\n",
       "      <td>0.0</td>\n",
       "    </tr>\n",
       "    <tr>\n",
       "      <td>9050</td>\n",
       "      <td>0.0</td>\n",
       "      <td>0.0</td>\n",
       "      <td>0.0</td>\n",
       "      <td>0.0</td>\n",
       "      <td>0.0</td>\n",
       "    </tr>\n",
       "    <tr>\n",
       "      <td>9670</td>\n",
       "      <td>0.0</td>\n",
       "      <td>0.0</td>\n",
       "      <td>0.0</td>\n",
       "      <td>0.0</td>\n",
       "      <td>0.0</td>\n",
       "    </tr>\n",
       "    <tr>\n",
       "      <td>9671</td>\n",
       "      <td>0.0</td>\n",
       "      <td>0.0</td>\n",
       "      <td>0.0</td>\n",
       "      <td>0.0</td>\n",
       "      <td>0.0</td>\n",
       "    </tr>\n",
       "    <tr>\n",
       "      <td>9672</td>\n",
       "      <td>0.0</td>\n",
       "      <td>0.0</td>\n",
       "      <td>0.0</td>\n",
       "      <td>0.0</td>\n",
       "      <td>0.0</td>\n",
       "    </tr>\n",
       "    <tr>\n",
       "      <td>9673</td>\n",
       "      <td>0.0</td>\n",
       "      <td>0.0</td>\n",
       "      <td>0.0</td>\n",
       "      <td>0.0</td>\n",
       "      <td>0.0</td>\n",
       "    </tr>\n",
       "    <tr>\n",
       "      <td>9674</td>\n",
       "      <td>0.0</td>\n",
       "      <td>0.0</td>\n",
       "      <td>0.0</td>\n",
       "      <td>0.0</td>\n",
       "      <td>0.0</td>\n",
       "    </tr>\n",
       "    <tr>\n",
       "      <td>10176</td>\n",
       "      <td>0.0</td>\n",
       "      <td>0.0</td>\n",
       "      <td>0.0</td>\n",
       "      <td>0.0</td>\n",
       "      <td>0.0</td>\n",
       "    </tr>\n",
       "    <tr>\n",
       "      <td>11518</td>\n",
       "      <td>0.0</td>\n",
       "      <td>0.0</td>\n",
       "      <td>0.0</td>\n",
       "      <td>0.0</td>\n",
       "      <td>0.0</td>\n",
       "    </tr>\n",
       "    <tr>\n",
       "      <td>11539</td>\n",
       "      <td>0.0</td>\n",
       "      <td>0.0</td>\n",
       "      <td>0.0</td>\n",
       "      <td>0.0</td>\n",
       "      <td>0.0</td>\n",
       "    </tr>\n",
       "    <tr>\n",
       "      <td>11540</td>\n",
       "      <td>0.0</td>\n",
       "      <td>0.0</td>\n",
       "      <td>0.0</td>\n",
       "      <td>0.0</td>\n",
       "      <td>0.0</td>\n",
       "    </tr>\n",
       "    <tr>\n",
       "      <td>12478</td>\n",
       "      <td>0.0</td>\n",
       "      <td>0.0</td>\n",
       "      <td>0.0</td>\n",
       "      <td>0.0</td>\n",
       "      <td>0.0</td>\n",
       "    </tr>\n",
       "    <tr>\n",
       "      <td>12546</td>\n",
       "      <td>0.0</td>\n",
       "      <td>0.0</td>\n",
       "      <td>0.0</td>\n",
       "      <td>0.0</td>\n",
       "      <td>0.0</td>\n",
       "    </tr>\n",
       "    <tr>\n",
       "      <td>12547</td>\n",
       "      <td>0.0</td>\n",
       "      <td>0.0</td>\n",
       "      <td>0.0</td>\n",
       "      <td>0.0</td>\n",
       "      <td>0.0</td>\n",
       "    </tr>\n",
       "    <tr>\n",
       "      <td>13438</td>\n",
       "      <td>0.0</td>\n",
       "      <td>0.0</td>\n",
       "      <td>0.0</td>\n",
       "      <td>0.0</td>\n",
       "      <td>0.0</td>\n",
       "    </tr>\n",
       "    <tr>\n",
       "      <td>13439</td>\n",
       "      <td>0.0</td>\n",
       "      <td>0.0</td>\n",
       "      <td>0.0</td>\n",
       "      <td>0.0</td>\n",
       "      <td>0.0</td>\n",
       "    </tr>\n",
       "    <tr>\n",
       "      <td>13697</td>\n",
       "      <td>0.0</td>\n",
       "      <td>0.0</td>\n",
       "      <td>0.0</td>\n",
       "      <td>0.0</td>\n",
       "      <td>0.0</td>\n",
       "    </tr>\n",
       "    <tr>\n",
       "      <td>14082</td>\n",
       "      <td>0.0</td>\n",
       "      <td>0.0</td>\n",
       "      <td>0.0</td>\n",
       "      <td>0.0</td>\n",
       "      <td>0.0</td>\n",
       "    </tr>\n",
       "    <tr>\n",
       "      <td>14083</td>\n",
       "      <td>0.0</td>\n",
       "      <td>0.0</td>\n",
       "      <td>0.0</td>\n",
       "      <td>0.0</td>\n",
       "      <td>0.0</td>\n",
       "    </tr>\n",
       "    <tr>\n",
       "      <td>14360</td>\n",
       "      <td>0.0</td>\n",
       "      <td>0.0</td>\n",
       "      <td>0.0</td>\n",
       "      <td>0.0</td>\n",
       "      <td>0.0</td>\n",
       "    </tr>\n",
       "    <tr>\n",
       "      <td>14952</td>\n",
       "      <td>0.0</td>\n",
       "      <td>0.0</td>\n",
       "      <td>0.0</td>\n",
       "      <td>0.0</td>\n",
       "      <td>0.0</td>\n",
       "    </tr>\n",
       "  </tbody>\n",
       "</table>\n",
       "</div>"
      ],
      "text/plain": [
       "       final.output.concentrate_ag  final.output.concentrate_pb  \\\n",
       "644                            0.0                          0.0   \n",
       "1193                           0.0                          0.0   \n",
       "1194                           0.0                          0.0   \n",
       "1195                           0.0                          0.0   \n",
       "1196                           0.0                          0.0   \n",
       "1682                           0.0                          0.0   \n",
       "2019                           0.0                          0.0   \n",
       "2020                           0.0                          0.0   \n",
       "2236                           0.0                          0.0   \n",
       "4314                           0.0                          0.0   \n",
       "4564                           0.0                          0.0   \n",
       "5151                           0.0                          0.0   \n",
       "6327                           0.0                          0.0   \n",
       "7342                           0.0                          0.0   \n",
       "7343                           0.0                          0.0   \n",
       "7344                           0.0                          0.0   \n",
       "7586                           0.0                          0.0   \n",
       "7587                           0.0                          0.0   \n",
       "7759                           0.0                          0.0   \n",
       "7760                           0.0                          0.0   \n",
       "8404                           0.0                          0.0   \n",
       "9050                           0.0                          0.0   \n",
       "9670                           0.0                          0.0   \n",
       "9671                           0.0                          0.0   \n",
       "9672                           0.0                          0.0   \n",
       "9673                           0.0                          0.0   \n",
       "9674                           0.0                          0.0   \n",
       "10176                          0.0                          0.0   \n",
       "11518                          0.0                          0.0   \n",
       "11539                          0.0                          0.0   \n",
       "11540                          0.0                          0.0   \n",
       "12478                          0.0                          0.0   \n",
       "12546                          0.0                          0.0   \n",
       "12547                          0.0                          0.0   \n",
       "13438                          0.0                          0.0   \n",
       "13439                          0.0                          0.0   \n",
       "13697                          0.0                          0.0   \n",
       "14082                          0.0                          0.0   \n",
       "14083                          0.0                          0.0   \n",
       "14360                          0.0                          0.0   \n",
       "14952                          0.0                          0.0   \n",
       "\n",
       "       final.output.concentrate_au  final.output.concentrate_sol  sum  \n",
       "644                            0.0                           0.0  0.0  \n",
       "1193                           0.0                           0.0  0.0  \n",
       "1194                           0.0                           0.0  0.0  \n",
       "1195                           0.0                           0.0  0.0  \n",
       "1196                           0.0                           0.0  0.0  \n",
       "1682                           0.0                           0.0  0.0  \n",
       "2019                           0.0                           0.0  0.0  \n",
       "2020                           0.0                           0.0  0.0  \n",
       "2236                           0.0                           0.0  0.0  \n",
       "4314                           0.0                           0.0  0.0  \n",
       "4564                           0.0                           0.0  0.0  \n",
       "5151                           0.0                           0.0  0.0  \n",
       "6327                           0.0                           0.0  0.0  \n",
       "7342                           0.0                           0.0  0.0  \n",
       "7343                           0.0                           0.0  0.0  \n",
       "7344                           0.0                           0.0  0.0  \n",
       "7586                           0.0                           0.0  0.0  \n",
       "7587                           0.0                           0.0  0.0  \n",
       "7759                           0.0                           0.0  0.0  \n",
       "7760                           0.0                           0.0  0.0  \n",
       "8404                           0.0                           0.0  0.0  \n",
       "9050                           0.0                           0.0  0.0  \n",
       "9670                           0.0                           0.0  0.0  \n",
       "9671                           0.0                           0.0  0.0  \n",
       "9672                           0.0                           0.0  0.0  \n",
       "9673                           0.0                           0.0  0.0  \n",
       "9674                           0.0                           0.0  0.0  \n",
       "10176                          0.0                           0.0  0.0  \n",
       "11518                          0.0                           0.0  0.0  \n",
       "11539                          0.0                           0.0  0.0  \n",
       "11540                          0.0                           0.0  0.0  \n",
       "12478                          0.0                           0.0  0.0  \n",
       "12546                          0.0                           0.0  0.0  \n",
       "12547                          0.0                           0.0  0.0  \n",
       "13438                          0.0                           0.0  0.0  \n",
       "13439                          0.0                           0.0  0.0  \n",
       "13697                          0.0                           0.0  0.0  \n",
       "14082                          0.0                           0.0  0.0  \n",
       "14083                          0.0                           0.0  0.0  \n",
       "14360                          0.0                           0.0  0.0  \n",
       "14952                          0.0                           0.0  0.0  "
      ]
     },
     "metadata": {},
     "output_type": "display_data"
    }
   ],
   "source": [
    "final_conc = gold_recovery_full[['final.output.concentrate_ag', 'final.output.concentrate_pb', 'final.output.concentrate_au', 'final.output.concentrate_sol']]\n",
    "final_conc['sum'] = final_conc['final.output.concentrate_ag'] + final_conc['final.output.concentrate_pb'] + final_conc['final.output.concentrate_au'] + final_conc['final.output.concentrate_sol']\n",
    "display(final_conc[final_conc['sum'] <= 1])"
   ]
  },
  {
   "cell_type": "code",
   "execution_count": 24,
   "metadata": {},
   "outputs": [],
   "source": [
    "final_conc = final_conc[final_conc['sum'] >= 1]\n",
    "desc4 = final_conc.describe(include='all').loc['mean']"
   ]
  },
  {
   "cell_type": "code",
   "execution_count": 25,
   "metadata": {
    "scrolled": true
   },
   "outputs": [
    {
     "data": {
      "image/png": "[encoded data removed]",
      "text/plain": [
       "<Figure size 432x288 with 1 Axes>"
      ]
     },
     "metadata": {
      "needs_background": "light"
     },
     "output_type": "display_data"
    }
   ],
   "source": [
    "df = pd.DataFrame(dict(graph=['После второго этапа', 'После первого этапа', 'После флотации', 'До флотации'],\n",
    "                       ag=[desc4.values[0], desc3.values[0], desc2.values[0], desc1.values[0]],\n",
    "                       pb=[desc4.values[1], desc3.values[1], desc2.values[1], desc1.values[1]],\n",
    "                       au=[desc4.values[2], desc3.values[2], desc2.values[2], desc1.values[2]])) \n",
    "\n",
    "ind = np.arange(len(df))\n",
    "width = 0.3\n",
    "\n",
    "fig, ax = plt.subplots()\n",
    "ax.barh(ind, df.ag, width, color='silver', label='Ag')\n",
    "ax.barh(ind + width, df.pb, width, color='black', label='Pb')\n",
    "ax.barh(ind + width + width, df.au, width, color='gold', label='Au')\n",
    "\n",
    "ax.set(yticks=ind + width + width, yticklabels=df.graph, ylim=[3*width-1.1, len(df)])\n",
    "ax.legend()\n",
    "\n",
    "plt.title('Концентрация металлов (Ag, Pb, Au) на различных этапах очистки')\n",
    "plt.show()"
   ]
  },
  {
   "cell_type": "markdown",
   "metadata": {},
   "source": [
    "***Вывод:***\n",
    "\n",
    "Как я понимаю, output после второй чистки и есть final_output.\n",
    "\n",
    "Собственно, все манипуляции технологического процесса направленны на повышение концентрации золота на выходе.\n",
    "\n",
    "- На всех этапах очистки концентрация золота увеличивается (почти в 5 раз, по сравнению с изначальной концентрацией)\n",
    "- Концентрация свинца увеличивается достаточно плавно и почти не изменяется в массовом содержании после первого этапа очистки\n",
    "- Концентрация серебра увеличивается после флотации и далее уменьшается во время этапов очистки"
   ]
  },
  {
   "cell_type": "code",
   "execution_count": null,
   "metadata": {},
   "outputs": [],
   "source": []
  },
  {
   "cell_type": "markdown",
   "metadata": {},
   "source": [
    "### Сравните распределения размеров гранул сырья на обучающей и тестовой выборках. Если распределения сильно отличаются друг от друга, оценка модели будет неправильной."
   ]
  },
  {
   "cell_type": "markdown",
   "metadata": {},
   "source": [
    "***rougher.input.feed_size***"
   ]
  },
  {
   "cell_type": "code",
   "execution_count": 26,
   "metadata": {},
   "outputs": [],
   "source": [
    "rougher_train_sample = gold_recovery_train['rougher.input.feed_size'].sample(1000)\n",
    "rougher_test_sample = gold_recovery_test['rougher.input.feed_size'].sample(1000)"
   ]
  },
  {
   "cell_type": "code",
   "execution_count": 27,
   "metadata": {},
   "outputs": [
    {
     "data": {
      "image/png": "[encoded data removed]",
      "text/plain": [
       "<Figure size 432x288 with 1 Axes>"
      ]
     },
     "metadata": {
      "needs_background": "light"
     },
     "output_type": "display_data"
    }
   ],
   "source": [
    "bins = np.linspace(0, 100, 50)\n",
    "\n",
    "plt.title('rougher.input.feed_size')\n",
    "plt.hist(rougher_train_sample, bins, alpha=0.5, label='Обучающая выборка')\n",
    "plt.hist(rougher_test_sample, bins, alpha=0.5, label='Тестовая выборка')\n",
    "plt.legend(loc='upper right')\n",
    "plt.show()"
   ]
  },
  {
   "cell_type": "markdown",
   "metadata": {},
   "source": [
    "***primary_cleaner.input.feed_size***"
   ]
  },
  {
   "cell_type": "code",
   "execution_count": 28,
   "metadata": {},
   "outputs": [],
   "source": [
    "primary_cleaner_train_sample = gold_recovery_train['primary_cleaner.input.feed_size'].sample(1000)\n",
    "primary_cleaner_test_sample = gold_recovery_test['primary_cleaner.input.feed_size'].sample(1000)"
   ]
  },
  {
   "cell_type": "code",
   "execution_count": 29,
   "metadata": {
    "scrolled": true
   },
   "outputs": [
    {
     "data": {
      "image/png": "[encoded data removed]",
      "text/plain": [
       "<Figure size 432x288 with 1 Axes>"
      ]
     },
     "metadata": {
      "needs_background": "light"
     },
     "output_type": "display_data"
    }
   ],
   "source": [
    "bins = np.linspace(5, 10, 100)\n",
    "\n",
    "plt.title('primary_cleaner.input.feed_size')\n",
    "plt.hist(primary_cleaner_train_sample, bins, alpha=0.5, label='Обучающая выборка')\n",
    "plt.hist(primary_cleaner_test_sample, bins, alpha=0.5, label='Тестовая выборка')\n",
    "plt.legend(loc='upper right')\n",
    "plt.show()"
   ]
  },
  {
   "cell_type": "markdown",
   "metadata": {},
   "source": [
    "***Вывод:***\n",
    "\n",
    "В случае с primary_cleaner.input.feed_size распределение значений идет довольно ровно, а что касается rougher.input.feed_size присутствует сдвиг.\n",
    "\n",
    "Понятное дело, что частицы разного размера и после флотации их размер усредняется, но, как я понимаю, сдвиг между трейном и тестом достаточно частое явление и, если он небольной, то с этим приходится мириться..."
   ]
  },
  {
   "cell_type": "markdown",
   "metadata": {},
   "source": [
    "### Исследуйте суммарную концентрацию всех веществ на разных стадиях: в сырье, в черновом и финальном концентратах."
   ]
  },
  {
   "cell_type": "code",
   "execution_count": 30,
   "metadata": {},
   "outputs": [
    {
     "data": {
      "image/png": "[encoded data removed]",
      "text/plain": [
       "<Figure size 432x288 with 1 Axes>"
      ]
     },
     "metadata": {
      "needs_background": "light"
     },
     "output_type": "display_data"
    }
   ],
   "source": [
    "df = pd.DataFrame(dict(graph=['После второго этапа', 'После первого этапа', 'После флотации', 'До флотации'],\n",
    "                       substances=[desc4.values[0]+desc4.values[1]+desc4.values[2]+desc4.values[3],\n",
    "                                  desc3.values[0]+desc3.values[1]+desc3.values[2]+desc3.values[3],\n",
    "                                  desc2.values[0]+desc2.values[1]+desc2.values[2]+desc2.values[3],\n",
    "                                  desc1.values[0]+desc1.values[1]+desc1.values[2]+desc1.values[3]]))\n",
    "\n",
    "ind = np.arange(len(df))\n",
    "width = 0.3\n",
    "\n",
    "fig, ax = plt.subplots()\n",
    "ax.barh(ind, df.substances, width, color='brown', label='Концентрация всех веществ в сумме (Ag+Pb+Au+Sol)')\n",
    "\n",
    "ax.set(yticks=ind + width, yticklabels=df.graph, ylim=[3*width-1.1, len(df)])\n",
    "ax.legend()\n",
    "\n",
    "plt.title('Концентрация всех веществ на разных стадиях')\n",
    "plt.show()"
   ]
  },
  {
   "cell_type": "code",
   "execution_count": 31,
   "metadata": {
    "scrolled": true
   },
   "outputs": [
    {
     "data": {
      "image/png": "[encoded data removed]",
      "text/plain": [
       "<Figure size 432x288 with 1 Axes>"
      ]
     },
     "metadata": {
      "needs_background": "light"
     },
     "output_type": "display_data"
    }
   ],
   "source": [
    "df = pd.DataFrame(dict(graph=['После второго этапа', 'После первого этапа', 'После флотации', 'До флотации'],\n",
    "                       substances=[desc4.values[0]+desc4.values[1]+desc4.values[2],\n",
    "                                  desc3.values[0]+desc3.values[1]+desc3.values[2],\n",
    "                                  desc2.values[0]+desc2.values[1]+desc2.values[2],\n",
    "                                  desc1.values[0]+desc1.values[1]+desc1.values[2]]))\n",
    "\n",
    "ind = np.arange(len(df))\n",
    "width = 0.3\n",
    "\n",
    "fig, ax = plt.subplots()\n",
    "ax.barh(ind, df.substances, width, color='brown', label='Концентрация всех металлов в сумме (Ag+Pb+Au)')\n",
    "\n",
    "ax.set(yticks=ind + width, yticklabels=df.graph, ylim=[3*width-1.1, len(df)])\n",
    "ax.legend()\n",
    "\n",
    "plt.title('Концентрация всех металлов на разных стадиях')\n",
    "plt.show()"
   ]
  },
  {
   "cell_type": "markdown",
   "metadata": {},
   "source": [
    "***Вывод:***\n",
    "\n",
    "По закону сохранения массы, концентрация ВСЕХ веществ колеблется примерно на одном и том же уровне, но что-то переходит в tail, что-то остается. А вот содержание в смеси целевых продуктов - металлов, а конкретно, золота, - растет!"
   ]
  },
  {
   "cell_type": "code",
   "execution_count": 32,
   "metadata": {},
   "outputs": [
    {
     "data": {
      "text/html": [
       "<div>\n",
       "<style scoped>\n",
       "    .dataframe tbody tr th:only-of-type {\n",
       "        vertical-align: middle;\n",
       "    }\n",
       "\n",
       "    .dataframe tbody tr th {\n",
       "        vertical-align: top;\n",
       "    }\n",
       "\n",
       "    .dataframe thead th {\n",
       "        text-align: right;\n",
       "    }\n",
       "</style>\n",
       "<table border=\"1\" class=\"dataframe\">\n",
       "  <thead>\n",
       "    <tr style=\"text-align: right;\">\n",
       "      <th></th>\n",
       "      <th>rougher.input.feed_ag</th>\n",
       "      <th>rougher.input.feed_pb</th>\n",
       "      <th>rougher.input.feed_au</th>\n",
       "      <th>rougher.input.feed_sol</th>\n",
       "      <th>sum</th>\n",
       "    </tr>\n",
       "  </thead>\n",
       "  <tbody>\n",
       "    <tr>\n",
       "      <td>0</td>\n",
       "      <td>6.100378</td>\n",
       "      <td>2.284912</td>\n",
       "      <td>6.486150</td>\n",
       "      <td>36.808594</td>\n",
       "      <td>51.680034</td>\n",
       "    </tr>\n",
       "    <tr>\n",
       "      <td>1</td>\n",
       "      <td>6.161113</td>\n",
       "      <td>2.266033</td>\n",
       "      <td>6.478583</td>\n",
       "      <td>35.753385</td>\n",
       "      <td>50.659114</td>\n",
       "    </tr>\n",
       "    <tr>\n",
       "      <td>2</td>\n",
       "      <td>6.116455</td>\n",
       "      <td>2.159622</td>\n",
       "      <td>6.362222</td>\n",
       "      <td>35.971630</td>\n",
       "      <td>50.609929</td>\n",
       "    </tr>\n",
       "    <tr>\n",
       "      <td>3</td>\n",
       "      <td>6.043309</td>\n",
       "      <td>2.037807</td>\n",
       "      <td>6.118189</td>\n",
       "      <td>36.862241</td>\n",
       "      <td>51.061546</td>\n",
       "    </tr>\n",
       "    <tr>\n",
       "      <td>4</td>\n",
       "      <td>6.060915</td>\n",
       "      <td>1.786875</td>\n",
       "      <td>5.663707</td>\n",
       "      <td>34.347666</td>\n",
       "      <td>47.859163</td>\n",
       "    </tr>\n",
       "    <tr>\n",
       "      <td>...</td>\n",
       "      <td>...</td>\n",
       "      <td>...</td>\n",
       "      <td>...</td>\n",
       "      <td>...</td>\n",
       "      <td>...</td>\n",
       "    </tr>\n",
       "    <tr>\n",
       "      <td>19434</td>\n",
       "      <td>6.091855</td>\n",
       "      <td>4.617558</td>\n",
       "      <td>5.335862</td>\n",
       "      <td>37.369774</td>\n",
       "      <td>53.415050</td>\n",
       "    </tr>\n",
       "    <tr>\n",
       "      <td>19435</td>\n",
       "      <td>6.121323</td>\n",
       "      <td>4.144989</td>\n",
       "      <td>4.838619</td>\n",
       "      <td>38.591551</td>\n",
       "      <td>53.696482</td>\n",
       "    </tr>\n",
       "    <tr>\n",
       "      <td>19436</td>\n",
       "      <td>5.970515</td>\n",
       "      <td>4.020002</td>\n",
       "      <td>4.525061</td>\n",
       "      <td>40.074026</td>\n",
       "      <td>54.589604</td>\n",
       "    </tr>\n",
       "    <tr>\n",
       "      <td>19437</td>\n",
       "      <td>6.048130</td>\n",
       "      <td>3.902537</td>\n",
       "      <td>4.362781</td>\n",
       "      <td>39.713906</td>\n",
       "      <td>54.027355</td>\n",
       "    </tr>\n",
       "    <tr>\n",
       "      <td>19438</td>\n",
       "      <td>6.158718</td>\n",
       "      <td>3.875727</td>\n",
       "      <td>4.365491</td>\n",
       "      <td>39.135119</td>\n",
       "      <td>53.535054</td>\n",
       "    </tr>\n",
       "  </tbody>\n",
       "</table>\n",
       "<p>16089 rows × 5 columns</p>\n",
       "</div>"
      ],
      "text/plain": [
       "       rougher.input.feed_ag  rougher.input.feed_pb  rougher.input.feed_au  \\\n",
       "0                   6.100378               2.284912               6.486150   \n",
       "1                   6.161113               2.266033               6.478583   \n",
       "2                   6.116455               2.159622               6.362222   \n",
       "3                   6.043309               2.037807               6.118189   \n",
       "4                   6.060915               1.786875               5.663707   \n",
       "...                      ...                    ...                    ...   \n",
       "19434               6.091855               4.617558               5.335862   \n",
       "19435               6.121323               4.144989               4.838619   \n",
       "19436               5.970515               4.020002               4.525061   \n",
       "19437               6.048130               3.902537               4.362781   \n",
       "19438               6.158718               3.875727               4.365491   \n",
       "\n",
       "       rougher.input.feed_sol        sum  \n",
       "0                   36.808594  51.680034  \n",
       "1                   35.753385  50.659114  \n",
       "2                   35.971630  50.609929  \n",
       "3                   36.862241  51.061546  \n",
       "4                   34.347666  47.859163  \n",
       "...                       ...        ...  \n",
       "19434               37.369774  53.415050  \n",
       "19435               38.591551  53.696482  \n",
       "19436               40.074026  54.589604  \n",
       "19437               39.713906  54.027355  \n",
       "19438               39.135119  53.535054  \n",
       "\n",
       "[16089 rows x 5 columns]"
      ]
     },
     "execution_count": 32,
     "metadata": {},
     "output_type": "execute_result"
    }
   ],
   "source": [
    "rougherinput_conc"
   ]
  },
  {
   "cell_type": "code",
   "execution_count": 33,
   "metadata": {},
   "outputs": [
    {
     "data": {
      "text/html": [
       "<div>\n",
       "<style scoped>\n",
       "    .dataframe tbody tr th:only-of-type {\n",
       "        vertical-align: middle;\n",
       "    }\n",
       "\n",
       "    .dataframe tbody tr th {\n",
       "        vertical-align: top;\n",
       "    }\n",
       "\n",
       "    .dataframe thead th {\n",
       "        text-align: right;\n",
       "    }\n",
       "</style>\n",
       "<table border=\"1\" class=\"dataframe\">\n",
       "  <thead>\n",
       "    <tr style=\"text-align: right;\">\n",
       "      <th></th>\n",
       "      <th>rougher.output.concentrate_ag</th>\n",
       "      <th>rougher.output.concentrate_pb</th>\n",
       "      <th>rougher.output.concentrate_au</th>\n",
       "      <th>rougher.output.concentrate_sol</th>\n",
       "      <th>sum</th>\n",
       "    </tr>\n",
       "  </thead>\n",
       "  <tbody>\n",
       "    <tr>\n",
       "      <td>0</td>\n",
       "      <td>11.500771</td>\n",
       "      <td>7.101074</td>\n",
       "      <td>19.793808</td>\n",
       "      <td>28.029297</td>\n",
       "      <td>66.424950</td>\n",
       "    </tr>\n",
       "    <tr>\n",
       "      <td>1</td>\n",
       "      <td>11.615865</td>\n",
       "      <td>7.278807</td>\n",
       "      <td>20.050975</td>\n",
       "      <td>28.067063</td>\n",
       "      <td>67.012710</td>\n",
       "    </tr>\n",
       "    <tr>\n",
       "      <td>2</td>\n",
       "      <td>11.695753</td>\n",
       "      <td>7.216833</td>\n",
       "      <td>19.737170</td>\n",
       "      <td>27.454037</td>\n",
       "      <td>66.103793</td>\n",
       "    </tr>\n",
       "    <tr>\n",
       "      <td>3</td>\n",
       "      <td>11.915047</td>\n",
       "      <td>7.175616</td>\n",
       "      <td>19.320810</td>\n",
       "      <td>27.341277</td>\n",
       "      <td>65.752751</td>\n",
       "    </tr>\n",
       "    <tr>\n",
       "      <td>4</td>\n",
       "      <td>12.411054</td>\n",
       "      <td>7.240205</td>\n",
       "      <td>19.216101</td>\n",
       "      <td>27.041023</td>\n",
       "      <td>65.908382</td>\n",
       "    </tr>\n",
       "    <tr>\n",
       "      <td>...</td>\n",
       "      <td>...</td>\n",
       "      <td>...</td>\n",
       "      <td>...</td>\n",
       "      <td>...</td>\n",
       "      <td>...</td>\n",
       "    </tr>\n",
       "    <tr>\n",
       "      <td>19434</td>\n",
       "      <td>11.124896</td>\n",
       "      <td>10.984003</td>\n",
       "      <td>18.603550</td>\n",
       "      <td>30.068876</td>\n",
       "      <td>70.781325</td>\n",
       "    </tr>\n",
       "    <tr>\n",
       "      <td>19435</td>\n",
       "      <td>11.425983</td>\n",
       "      <td>10.888213</td>\n",
       "      <td>18.441436</td>\n",
       "      <td>29.783972</td>\n",
       "      <td>70.539603</td>\n",
       "    </tr>\n",
       "    <tr>\n",
       "      <td>19436</td>\n",
       "      <td>8.523497</td>\n",
       "      <td>8.955135</td>\n",
       "      <td>15.111231</td>\n",
       "      <td>22.786467</td>\n",
       "      <td>55.376330</td>\n",
       "    </tr>\n",
       "    <tr>\n",
       "      <td>19437</td>\n",
       "      <td>11.658799</td>\n",
       "      <td>10.655377</td>\n",
       "      <td>17.834772</td>\n",
       "      <td>29.052742</td>\n",
       "      <td>69.201689</td>\n",
       "    </tr>\n",
       "    <tr>\n",
       "      <td>19438</td>\n",
       "      <td>11.959486</td>\n",
       "      <td>10.702148</td>\n",
       "      <td>17.804134</td>\n",
       "      <td>29.078235</td>\n",
       "      <td>69.544003</td>\n",
       "    </tr>\n",
       "  </tbody>\n",
       "</table>\n",
       "<p>15788 rows × 5 columns</p>\n",
       "</div>"
      ],
      "text/plain": [
       "       rougher.output.concentrate_ag  rougher.output.concentrate_pb  \\\n",
       "0                          11.500771                       7.101074   \n",
       "1                          11.615865                       7.278807   \n",
       "2                          11.695753                       7.216833   \n",
       "3                          11.915047                       7.175616   \n",
       "4                          12.411054                       7.240205   \n",
       "...                              ...                            ...   \n",
       "19434                      11.124896                      10.984003   \n",
       "19435                      11.425983                      10.888213   \n",
       "19436                       8.523497                       8.955135   \n",
       "19437                      11.658799                      10.655377   \n",
       "19438                      11.959486                      10.702148   \n",
       "\n",
       "       rougher.output.concentrate_au  rougher.output.concentrate_sol  \\\n",
       "0                          19.793808                       28.029297   \n",
       "1                          20.050975                       28.067063   \n",
       "2                          19.737170                       27.454037   \n",
       "3                          19.320810                       27.341277   \n",
       "4                          19.216101                       27.041023   \n",
       "...                              ...                             ...   \n",
       "19434                      18.603550                       30.068876   \n",
       "19435                      18.441436                       29.783972   \n",
       "19436                      15.111231                       22.786467   \n",
       "19437                      17.834772                       29.052742   \n",
       "19438                      17.804134                       29.078235   \n",
       "\n",
       "             sum  \n",
       "0      66.424950  \n",
       "1      67.012710  \n",
       "2      66.103793  \n",
       "3      65.752751  \n",
       "4      65.908382  \n",
       "...          ...  \n",
       "19434  70.781325  \n",
       "19435  70.539603  \n",
       "19436  55.376330  \n",
       "19437  69.201689  \n",
       "19438  69.544003  \n",
       "\n",
       "[15788 rows x 5 columns]"
      ]
     },
     "execution_count": 33,
     "metadata": {},
     "output_type": "execute_result"
    }
   ],
   "source": [
    "rougheroutput_conc"
   ]
  },
  {
   "cell_type": "code",
   "execution_count": 34,
   "metadata": {},
   "outputs": [
    {
     "data": {
      "text/html": [
       "<div>\n",
       "<style scoped>\n",
       "    .dataframe tbody tr th:only-of-type {\n",
       "        vertical-align: middle;\n",
       "    }\n",
       "\n",
       "    .dataframe tbody tr th {\n",
       "        vertical-align: top;\n",
       "    }\n",
       "\n",
       "    .dataframe thead th {\n",
       "        text-align: right;\n",
       "    }\n",
       "</style>\n",
       "<table border=\"1\" class=\"dataframe\">\n",
       "  <thead>\n",
       "    <tr style=\"text-align: right;\">\n",
       "      <th></th>\n",
       "      <th>primary_cleaner.output.concentrate_ag</th>\n",
       "      <th>primary_cleaner.output.concentrate_pb</th>\n",
       "      <th>primary_cleaner.output.concentrate_au</th>\n",
       "      <th>primary_cleaner.output.concentrate_sol</th>\n",
       "      <th>sum</th>\n",
       "    </tr>\n",
       "  </thead>\n",
       "  <tbody>\n",
       "    <tr>\n",
       "      <td>0</td>\n",
       "      <td>8.547551</td>\n",
       "      <td>10.389648</td>\n",
       "      <td>34.174427</td>\n",
       "      <td>19.529297</td>\n",
       "      <td>72.640924</td>\n",
       "    </tr>\n",
       "    <tr>\n",
       "      <td>1</td>\n",
       "      <td>8.558743</td>\n",
       "      <td>10.497069</td>\n",
       "      <td>34.118526</td>\n",
       "      <td>19.369147</td>\n",
       "      <td>72.543485</td>\n",
       "    </tr>\n",
       "    <tr>\n",
       "      <td>2</td>\n",
       "      <td>8.603505</td>\n",
       "      <td>10.354494</td>\n",
       "      <td>33.969464</td>\n",
       "      <td>19.167579</td>\n",
       "      <td>72.095042</td>\n",
       "    </tr>\n",
       "    <tr>\n",
       "      <td>3</td>\n",
       "      <td>7.221879</td>\n",
       "      <td>8.496563</td>\n",
       "      <td>28.260743</td>\n",
       "      <td>15.978538</td>\n",
       "      <td>59.957723</td>\n",
       "    </tr>\n",
       "    <tr>\n",
       "      <td>4</td>\n",
       "      <td>9.089428</td>\n",
       "      <td>9.986786</td>\n",
       "      <td>33.044932</td>\n",
       "      <td>19.199864</td>\n",
       "      <td>71.321010</td>\n",
       "    </tr>\n",
       "    <tr>\n",
       "      <td>...</td>\n",
       "      <td>...</td>\n",
       "      <td>...</td>\n",
       "      <td>...</td>\n",
       "      <td>...</td>\n",
       "      <td>...</td>\n",
       "    </tr>\n",
       "    <tr>\n",
       "      <td>19434</td>\n",
       "      <td>6.559174</td>\n",
       "      <td>12.445966</td>\n",
       "      <td>32.940215</td>\n",
       "      <td>7.056338</td>\n",
       "      <td>59.001692</td>\n",
       "    </tr>\n",
       "    <tr>\n",
       "      <td>19435</td>\n",
       "      <td>6.612376</td>\n",
       "      <td>12.623947</td>\n",
       "      <td>32.925325</td>\n",
       "      <td>7.542264</td>\n",
       "      <td>59.703912</td>\n",
       "    </tr>\n",
       "    <tr>\n",
       "      <td>19436</td>\n",
       "      <td>7.128896</td>\n",
       "      <td>12.633558</td>\n",
       "      <td>31.856742</td>\n",
       "      <td>7.941900</td>\n",
       "      <td>59.561096</td>\n",
       "    </tr>\n",
       "    <tr>\n",
       "      <td>19437</td>\n",
       "      <td>7.490444</td>\n",
       "      <td>12.012378</td>\n",
       "      <td>30.770892</td>\n",
       "      <td>6.942972</td>\n",
       "      <td>57.216686</td>\n",
       "    </tr>\n",
       "    <tr>\n",
       "      <td>19438</td>\n",
       "      <td>7.537584</td>\n",
       "      <td>11.650285</td>\n",
       "      <td>30.356618</td>\n",
       "      <td>6.203553</td>\n",
       "      <td>55.748041</td>\n",
       "    </tr>\n",
       "  </tbody>\n",
       "</table>\n",
       "<p>15957 rows × 5 columns</p>\n",
       "</div>"
      ],
      "text/plain": [
       "       primary_cleaner.output.concentrate_ag  \\\n",
       "0                                   8.547551   \n",
       "1                                   8.558743   \n",
       "2                                   8.603505   \n",
       "3                                   7.221879   \n",
       "4                                   9.089428   \n",
       "...                                      ...   \n",
       "19434                               6.559174   \n",
       "19435                               6.612376   \n",
       "19436                               7.128896   \n",
       "19437                               7.490444   \n",
       "19438                               7.537584   \n",
       "\n",
       "       primary_cleaner.output.concentrate_pb  \\\n",
       "0                                  10.389648   \n",
       "1                                  10.497069   \n",
       "2                                  10.354494   \n",
       "3                                   8.496563   \n",
       "4                                   9.986786   \n",
       "...                                      ...   \n",
       "19434                              12.445966   \n",
       "19435                              12.623947   \n",
       "19436                              12.633558   \n",
       "19437                              12.012378   \n",
       "19438                              11.650285   \n",
       "\n",
       "       primary_cleaner.output.concentrate_au  \\\n",
       "0                                  34.174427   \n",
       "1                                  34.118526   \n",
       "2                                  33.969464   \n",
       "3                                  28.260743   \n",
       "4                                  33.044932   \n",
       "...                                      ...   \n",
       "19434                              32.940215   \n",
       "19435                              32.925325   \n",
       "19436                              31.856742   \n",
       "19437                              30.770892   \n",
       "19438                              30.356618   \n",
       "\n",
       "       primary_cleaner.output.concentrate_sol        sum  \n",
       "0                                   19.529297  72.640924  \n",
       "1                                   19.369147  72.543485  \n",
       "2                                   19.167579  72.095042  \n",
       "3                                   15.978538  59.957723  \n",
       "4                                   19.199864  71.321010  \n",
       "...                                       ...        ...  \n",
       "19434                                7.056338  59.001692  \n",
       "19435                                7.542264  59.703912  \n",
       "19436                                7.941900  59.561096  \n",
       "19437                                6.942972  57.216686  \n",
       "19438                                6.203553  55.748041  \n",
       "\n",
       "[15957 rows x 5 columns]"
      ]
     },
     "execution_count": 34,
     "metadata": {},
     "output_type": "execute_result"
    }
   ],
   "source": [
    "primary_cleaner_conc"
   ]
  },
  {
   "cell_type": "code",
   "execution_count": 35,
   "metadata": {},
   "outputs": [
    {
     "data": {
      "text/html": [
       "<div>\n",
       "<style scoped>\n",
       "    .dataframe tbody tr th:only-of-type {\n",
       "        vertical-align: middle;\n",
       "    }\n",
       "\n",
       "    .dataframe tbody tr th {\n",
       "        vertical-align: top;\n",
       "    }\n",
       "\n",
       "    .dataframe thead th {\n",
       "        text-align: right;\n",
       "    }\n",
       "</style>\n",
       "<table border=\"1\" class=\"dataframe\">\n",
       "  <thead>\n",
       "    <tr style=\"text-align: right;\">\n",
       "      <th></th>\n",
       "      <th>final.output.concentrate_ag</th>\n",
       "      <th>final.output.concentrate_pb</th>\n",
       "      <th>final.output.concentrate_au</th>\n",
       "      <th>final.output.concentrate_sol</th>\n",
       "      <th>sum</th>\n",
       "    </tr>\n",
       "  </thead>\n",
       "  <tbody>\n",
       "    <tr>\n",
       "      <td>0</td>\n",
       "      <td>6.055403</td>\n",
       "      <td>9.889648</td>\n",
       "      <td>42.192020</td>\n",
       "      <td>5.507324</td>\n",
       "      <td>63.644396</td>\n",
       "    </tr>\n",
       "    <tr>\n",
       "      <td>1</td>\n",
       "      <td>6.029369</td>\n",
       "      <td>9.968944</td>\n",
       "      <td>42.701629</td>\n",
       "      <td>5.257781</td>\n",
       "      <td>63.957723</td>\n",
       "    </tr>\n",
       "    <tr>\n",
       "      <td>2</td>\n",
       "      <td>6.055926</td>\n",
       "      <td>10.213995</td>\n",
       "      <td>42.657501</td>\n",
       "      <td>5.383759</td>\n",
       "      <td>64.311180</td>\n",
       "    </tr>\n",
       "    <tr>\n",
       "      <td>3</td>\n",
       "      <td>6.047977</td>\n",
       "      <td>9.977019</td>\n",
       "      <td>42.689819</td>\n",
       "      <td>4.858634</td>\n",
       "      <td>63.573449</td>\n",
       "    </tr>\n",
       "    <tr>\n",
       "      <td>4</td>\n",
       "      <td>6.148599</td>\n",
       "      <td>10.142511</td>\n",
       "      <td>42.774141</td>\n",
       "      <td>4.939416</td>\n",
       "      <td>64.004667</td>\n",
       "    </tr>\n",
       "    <tr>\n",
       "      <td>...</td>\n",
       "      <td>...</td>\n",
       "      <td>...</td>\n",
       "      <td>...</td>\n",
       "      <td>...</td>\n",
       "      <td>...</td>\n",
       "    </tr>\n",
       "    <tr>\n",
       "      <td>19434</td>\n",
       "      <td>3.224920</td>\n",
       "      <td>11.356233</td>\n",
       "      <td>46.713954</td>\n",
       "      <td>6.803482</td>\n",
       "      <td>68.098589</td>\n",
       "    </tr>\n",
       "    <tr>\n",
       "      <td>19435</td>\n",
       "      <td>3.195978</td>\n",
       "      <td>11.349355</td>\n",
       "      <td>46.866780</td>\n",
       "      <td>6.862249</td>\n",
       "      <td>68.274362</td>\n",
       "    </tr>\n",
       "    <tr>\n",
       "      <td>19436</td>\n",
       "      <td>3.109998</td>\n",
       "      <td>11.434366</td>\n",
       "      <td>46.795691</td>\n",
       "      <td>6.886013</td>\n",
       "      <td>68.226068</td>\n",
       "    </tr>\n",
       "    <tr>\n",
       "      <td>19437</td>\n",
       "      <td>3.367241</td>\n",
       "      <td>11.625587</td>\n",
       "      <td>46.408188</td>\n",
       "      <td>6.799433</td>\n",
       "      <td>68.200449</td>\n",
       "    </tr>\n",
       "    <tr>\n",
       "      <td>19438</td>\n",
       "      <td>3.598375</td>\n",
       "      <td>11.737832</td>\n",
       "      <td>46.299438</td>\n",
       "      <td>6.717509</td>\n",
       "      <td>68.353154</td>\n",
       "    </tr>\n",
       "  </tbody>\n",
       "</table>\n",
       "<p>16053 rows × 5 columns</p>\n",
       "</div>"
      ],
      "text/plain": [
       "       final.output.concentrate_ag  final.output.concentrate_pb  \\\n",
       "0                         6.055403                     9.889648   \n",
       "1                         6.029369                     9.968944   \n",
       "2                         6.055926                    10.213995   \n",
       "3                         6.047977                     9.977019   \n",
       "4                         6.148599                    10.142511   \n",
       "...                            ...                          ...   \n",
       "19434                     3.224920                    11.356233   \n",
       "19435                     3.195978                    11.349355   \n",
       "19436                     3.109998                    11.434366   \n",
       "19437                     3.367241                    11.625587   \n",
       "19438                     3.598375                    11.737832   \n",
       "\n",
       "       final.output.concentrate_au  final.output.concentrate_sol        sum  \n",
       "0                        42.192020                      5.507324  63.644396  \n",
       "1                        42.701629                      5.257781  63.957723  \n",
       "2                        42.657501                      5.383759  64.311180  \n",
       "3                        42.689819                      4.858634  63.573449  \n",
       "4                        42.774141                      4.939416  64.004667  \n",
       "...                            ...                           ...        ...  \n",
       "19434                    46.713954                      6.803482  68.098589  \n",
       "19435                    46.866780                      6.862249  68.274362  \n",
       "19436                    46.795691                      6.886013  68.226068  \n",
       "19437                    46.408188                      6.799433  68.200449  \n",
       "19438                    46.299438                      6.717509  68.353154  \n",
       "\n",
       "[16053 rows x 5 columns]"
      ]
     },
     "execution_count": 35,
     "metadata": {},
     "output_type": "execute_result"
    }
   ],
   "source": [
    "final_conc"
   ]
  },
  {
   "cell_type": "code",
   "execution_count": 36,
   "metadata": {},
   "outputs": [
    {
     "data": {
      "image/png": "[encoded data removed]",
      "text/plain": [
       "<Figure size 1080x576 with 1 Axes>"
      ]
     },
     "metadata": {
      "needs_background": "light"
     },
     "output_type": "display_data"
    }
   ],
   "source": [
    "bins = np.linspace(0, 90, 100)\n",
    "\n",
    "# plt.title('Распределение')\n",
    "plt.figure(figsize=(15,8))\n",
    "\n",
    "plt.hist(rougherinput_conc['sum'], bins, alpha=0.5, label='До флотации')\n",
    "plt.hist(rougheroutput_conc['sum'], bins, alpha=0.5, label='После флотации')\n",
    "plt.hist(primary_cleaner_conc['sum'], bins, alpha=0.5, label='После первичной очистки')\n",
    "plt.hist(final_conc['sum'], bins, alpha=0.5, label='После вторичной очистки')\n",
    "plt.legend(loc='upper left')\n",
    "plt.show()"
   ]
  },
  {
   "attachments": {
    "image.png": {
     "image/png": "[encoded data removed]"
    }
   },
   "cell_type": "markdown",
   "metadata": {},
   "source": [
    "![image.png](attachment:image.png)"
   ]
  },
  {
   "cell_type": "code",
   "execution_count": 37,
   "metadata": {},
   "outputs": [
    {
     "data": {
      "text/html": [
       "<div>\n",
       "<style scoped>\n",
       "    .dataframe tbody tr th:only-of-type {\n",
       "        vertical-align: middle;\n",
       "    }\n",
       "\n",
       "    .dataframe tbody tr th {\n",
       "        vertical-align: top;\n",
       "    }\n",
       "\n",
       "    .dataframe thead th {\n",
       "        text-align: right;\n",
       "    }\n",
       "</style>\n",
       "<table border=\"1\" class=\"dataframe\">\n",
       "  <thead>\n",
       "    <tr style=\"text-align: right;\">\n",
       "      <th></th>\n",
       "      <th>date</th>\n",
       "      <th>final.output.concentrate_ag</th>\n",
       "      <th>final.output.concentrate_pb</th>\n",
       "      <th>final.output.concentrate_sol</th>\n",
       "      <th>final.output.concentrate_au</th>\n",
       "      <th>final.output.recovery</th>\n",
       "      <th>final.output.tail_ag</th>\n",
       "      <th>final.output.tail_pb</th>\n",
       "      <th>final.output.tail_sol</th>\n",
       "      <th>final.output.tail_au</th>\n",
       "      <th>primary_cleaner.input.sulfate</th>\n",
       "      <th>primary_cleaner.input.depressant</th>\n",
       "      <th>primary_cleaner.input.feed_size</th>\n",
       "      <th>primary_cleaner.input.xanthate</th>\n",
       "      <th>primary_cleaner.output.concentrate_ag</th>\n",
       "      <th>primary_cleaner.output.concentrate_pb</th>\n",
       "      <th>primary_cleaner.output.concentrate_sol</th>\n",
       "      <th>primary_cleaner.output.concentrate_au</th>\n",
       "      <th>primary_cleaner.output.tail_ag</th>\n",
       "      <th>primary_cleaner.output.tail_pb</th>\n",
       "      <th>primary_cleaner.output.tail_sol</th>\n",
       "      <th>primary_cleaner.output.tail_au</th>\n",
       "      <th>primary_cleaner.state.floatbank8_a_air</th>\n",
       "      <th>primary_cleaner.state.floatbank8_a_level</th>\n",
       "      <th>primary_cleaner.state.floatbank8_b_air</th>\n",
       "      <th>primary_cleaner.state.floatbank8_b_level</th>\n",
       "      <th>primary_cleaner.state.floatbank8_c_air</th>\n",
       "      <th>primary_cleaner.state.floatbank8_c_level</th>\n",
       "      <th>primary_cleaner.state.floatbank8_d_air</th>\n",
       "      <th>primary_cleaner.state.floatbank8_d_level</th>\n",
       "      <th>rougher.calculation.sulfate_to_au_concentrate</th>\n",
       "      <th>rougher.calculation.floatbank10_sulfate_to_au_feed</th>\n",
       "      <th>rougher.calculation.floatbank11_sulfate_to_au_feed</th>\n",
       "      <th>rougher.calculation.au_pb_ratio</th>\n",
       "      <th>rougher.input.feed_ag</th>\n",
       "      <th>rougher.input.feed_pb</th>\n",
       "      <th>rougher.input.feed_rate</th>\n",
       "      <th>rougher.input.feed_size</th>\n",
       "      <th>rougher.input.feed_sol</th>\n",
       "      <th>rougher.input.feed_au</th>\n",
       "      <th>rougher.input.floatbank10_sulfate</th>\n",
       "      <th>rougher.input.floatbank10_xanthate</th>\n",
       "      <th>rougher.input.floatbank11_sulfate</th>\n",
       "      <th>rougher.input.floatbank11_xanthate</th>\n",
       "      <th>rougher.output.concentrate_ag</th>\n",
       "      <th>rougher.output.concentrate_pb</th>\n",
       "      <th>rougher.output.concentrate_sol</th>\n",
       "      <th>rougher.output.concentrate_au</th>\n",
       "      <th>rougher.output.recovery</th>\n",
       "      <th>rougher.output.tail_ag</th>\n",
       "      <th>rougher.output.tail_pb</th>\n",
       "      <th>rougher.output.tail_sol</th>\n",
       "      <th>rougher.output.tail_au</th>\n",
       "      <th>rougher.state.floatbank10_a_air</th>\n",
       "      <th>rougher.state.floatbank10_a_level</th>\n",
       "      <th>rougher.state.floatbank10_b_air</th>\n",
       "      <th>rougher.state.floatbank10_b_level</th>\n",
       "      <th>rougher.state.floatbank10_c_air</th>\n",
       "      <th>rougher.state.floatbank10_c_level</th>\n",
       "      <th>rougher.state.floatbank10_d_air</th>\n",
       "      <th>rougher.state.floatbank10_d_level</th>\n",
       "      <th>rougher.state.floatbank10_e_air</th>\n",
       "      <th>rougher.state.floatbank10_e_level</th>\n",
       "      <th>rougher.state.floatbank10_f_air</th>\n",
       "      <th>rougher.state.floatbank10_f_level</th>\n",
       "      <th>secondary_cleaner.output.tail_ag</th>\n",
       "      <th>secondary_cleaner.output.tail_pb</th>\n",
       "      <th>secondary_cleaner.output.tail_sol</th>\n",
       "      <th>secondary_cleaner.output.tail_au</th>\n",
       "      <th>secondary_cleaner.state.floatbank2_a_air</th>\n",
       "      <th>secondary_cleaner.state.floatbank2_a_level</th>\n",
       "      <th>secondary_cleaner.state.floatbank2_b_air</th>\n",
       "      <th>secondary_cleaner.state.floatbank2_b_level</th>\n",
       "      <th>secondary_cleaner.state.floatbank3_a_air</th>\n",
       "      <th>secondary_cleaner.state.floatbank3_a_level</th>\n",
       "      <th>secondary_cleaner.state.floatbank3_b_air</th>\n",
       "      <th>secondary_cleaner.state.floatbank3_b_level</th>\n",
       "      <th>secondary_cleaner.state.floatbank4_a_air</th>\n",
       "      <th>secondary_cleaner.state.floatbank4_a_level</th>\n",
       "      <th>secondary_cleaner.state.floatbank4_b_air</th>\n",
       "      <th>secondary_cleaner.state.floatbank4_b_level</th>\n",
       "      <th>secondary_cleaner.state.floatbank5_a_air</th>\n",
       "      <th>secondary_cleaner.state.floatbank5_a_level</th>\n",
       "      <th>secondary_cleaner.state.floatbank5_b_air</th>\n",
       "      <th>secondary_cleaner.state.floatbank5_b_level</th>\n",
       "      <th>secondary_cleaner.state.floatbank6_a_air</th>\n",
       "      <th>secondary_cleaner.state.floatbank6_a_level</th>\n",
       "    </tr>\n",
       "  </thead>\n",
       "  <tbody>\n",
       "    <tr>\n",
       "      <td>19</td>\n",
       "      <td>2016-01-15 19:00:00</td>\n",
       "      <td>5.658943</td>\n",
       "      <td>10.436002</td>\n",
       "      <td>5.942418</td>\n",
       "      <td>42.509402</td>\n",
       "      <td>70.348300</td>\n",
       "      <td>10.232392</td>\n",
       "      <td>1.174845</td>\n",
       "      <td>19.498566</td>\n",
       "      <td>2.272460</td>\n",
       "      <td>149.998260</td>\n",
       "      <td>12.509947</td>\n",
       "      <td>7.25</td>\n",
       "      <td>0.997030</td>\n",
       "      <td>0.000000</td>\n",
       "      <td>0.000000</td>\n",
       "      <td>0.000000</td>\n",
       "      <td>0.000000</td>\n",
       "      <td>14.915949</td>\n",
       "      <td>2.702527</td>\n",
       "      <td>7.784534</td>\n",
       "      <td>2.013487</td>\n",
       "      <td>1599.617983</td>\n",
       "      <td>-499.527131</td>\n",
       "      <td>1599.389604</td>\n",
       "      <td>-499.554869</td>\n",
       "      <td>1600.441370</td>\n",
       "      <td>-500.503609</td>\n",
       "      <td>1601.900702</td>\n",
       "      <td>-500.129123</td>\n",
       "      <td>41959.818540</td>\n",
       "      <td>3507.941540</td>\n",
       "      <td>3499.552368</td>\n",
       "      <td>2.448851</td>\n",
       "      <td>6.046063</td>\n",
       "      <td>2.777324</td>\n",
       "      <td>571.766992</td>\n",
       "      <td>62.823127</td>\n",
       "      <td>40.381002</td>\n",
       "      <td>6.801254</td>\n",
       "      <td>14.812266</td>\n",
       "      <td>7.064468</td>\n",
       "      <td>14.814722</td>\n",
       "      <td>7.064408</td>\n",
       "      <td>10.788951</td>\n",
       "      <td>7.537074</td>\n",
       "      <td>26.092838</td>\n",
       "      <td>18.511902</td>\n",
       "      <td>86.241795</td>\n",
       "      <td>4.919573</td>\n",
       "      <td>0.739863</td>\n",
       "      <td>20.309714</td>\n",
       "      <td>1.369732</td>\n",
       "      <td>999.708593</td>\n",
       "      <td>-400.075046</td>\n",
       "      <td>1600.639292</td>\n",
       "      <td>-450.110961</td>\n",
       "      <td>1602.333794</td>\n",
       "      <td>-450.673170</td>\n",
       "      <td>1600.427078</td>\n",
       "      <td>-449.633484</td>\n",
       "      <td>1401.859581</td>\n",
       "      <td>-448.145152</td>\n",
       "      <td>1400.906088</td>\n",
       "      <td>-451.771497</td>\n",
       "      <td>12.708557</td>\n",
       "      <td>4.565723</td>\n",
       "      <td>9.997717</td>\n",
       "      <td>2.138772</td>\n",
       "      <td>25.999540</td>\n",
       "      <td>-500.152462</td>\n",
       "      <td>24.013000</td>\n",
       "      <td>-500.297031</td>\n",
       "      <td>24.022240</td>\n",
       "      <td>-499.329964</td>\n",
       "      <td>24.012891</td>\n",
       "      <td>-499.923981</td>\n",
       "      <td>14.001632</td>\n",
       "      <td>-509.808331</td>\n",
       "      <td>12.087669</td>\n",
       "      <td>-510.782166</td>\n",
       "      <td>10.032043</td>\n",
       "      <td>-499.128183</td>\n",
       "      <td>8.016140</td>\n",
       "      <td>-499.806844</td>\n",
       "      <td>13.949790</td>\n",
       "      <td>-600.140776</td>\n",
       "    </tr>\n",
       "    <tr>\n",
       "      <td>22</td>\n",
       "      <td>2016-01-15 22:00:00</td>\n",
       "      <td>6.118749</td>\n",
       "      <td>10.483007</td>\n",
       "      <td>6.546983</td>\n",
       "      <td>41.406172</td>\n",
       "      <td>69.823900</td>\n",
       "      <td>10.322077</td>\n",
       "      <td>1.270956</td>\n",
       "      <td>19.384247</td>\n",
       "      <td>2.245145</td>\n",
       "      <td>158.353434</td>\n",
       "      <td>14.020791</td>\n",
       "      <td>7.25</td>\n",
       "      <td>0.997999</td>\n",
       "      <td>0.000000</td>\n",
       "      <td>0.000000</td>\n",
       "      <td>0.000000</td>\n",
       "      <td>0.000000</td>\n",
       "      <td>13.874346</td>\n",
       "      <td>2.440897</td>\n",
       "      <td>8.529620</td>\n",
       "      <td>1.964468</td>\n",
       "      <td>1596.351031</td>\n",
       "      <td>-498.896997</td>\n",
       "      <td>1596.177717</td>\n",
       "      <td>-500.402418</td>\n",
       "      <td>1598.280618</td>\n",
       "      <td>-498.946313</td>\n",
       "      <td>1600.472486</td>\n",
       "      <td>-499.623157</td>\n",
       "      <td>42082.414968</td>\n",
       "      <td>3506.178699</td>\n",
       "      <td>3501.343118</td>\n",
       "      <td>2.617243</td>\n",
       "      <td>5.599324</td>\n",
       "      <td>2.525838</td>\n",
       "      <td>571.140653</td>\n",
       "      <td>64.816398</td>\n",
       "      <td>41.302359</td>\n",
       "      <td>6.610732</td>\n",
       "      <td>14.501843</td>\n",
       "      <td>7.301759</td>\n",
       "      <td>14.460181</td>\n",
       "      <td>7.298780</td>\n",
       "      <td>10.958096</td>\n",
       "      <td>7.267608</td>\n",
       "      <td>25.911055</td>\n",
       "      <td>18.089134</td>\n",
       "      <td>88.132239</td>\n",
       "      <td>4.421208</td>\n",
       "      <td>0.705108</td>\n",
       "      <td>20.397352</td>\n",
       "      <td>1.157287</td>\n",
       "      <td>1000.107388</td>\n",
       "      <td>-399.263233</td>\n",
       "      <td>1599.780054</td>\n",
       "      <td>-449.883122</td>\n",
       "      <td>1597.621485</td>\n",
       "      <td>-450.022545</td>\n",
       "      <td>1605.906830</td>\n",
       "      <td>-449.026683</td>\n",
       "      <td>1400.871116</td>\n",
       "      <td>-449.902838</td>\n",
       "      <td>1400.723107</td>\n",
       "      <td>-449.651567</td>\n",
       "      <td>11.523559</td>\n",
       "      <td>4.466500</td>\n",
       "      <td>10.776495</td>\n",
       "      <td>2.018144</td>\n",
       "      <td>25.979270</td>\n",
       "      <td>-499.922901</td>\n",
       "      <td>24.039935</td>\n",
       "      <td>-499.368998</td>\n",
       "      <td>24.027888</td>\n",
       "      <td>-501.291317</td>\n",
       "      <td>23.994020</td>\n",
       "      <td>-499.715395</td>\n",
       "      <td>13.943970</td>\n",
       "      <td>-541.642068</td>\n",
       "      <td>11.993920</td>\n",
       "      <td>-550.493894</td>\n",
       "      <td>9.985232</td>\n",
       "      <td>-499.796583</td>\n",
       "      <td>7.985524</td>\n",
       "      <td>-499.872153</td>\n",
       "      <td>13.973257</td>\n",
       "      <td>-600.054998</td>\n",
       "    </tr>\n",
       "    <tr>\n",
       "      <td>30</td>\n",
       "      <td>2016-01-16 06:00:00</td>\n",
       "      <td>5.322681</td>\n",
       "      <td>9.577672</td>\n",
       "      <td>4.805490</td>\n",
       "      <td>44.059908</td>\n",
       "      <td>69.193840</td>\n",
       "      <td>10.334312</td>\n",
       "      <td>1.406355</td>\n",
       "      <td>19.923319</td>\n",
       "      <td>2.239310</td>\n",
       "      <td>145.952867</td>\n",
       "      <td>13.947704</td>\n",
       "      <td>7.25</td>\n",
       "      <td>0.991678</td>\n",
       "      <td>0.000000</td>\n",
       "      <td>0.000000</td>\n",
       "      <td>0.000000</td>\n",
       "      <td>0.000000</td>\n",
       "      <td>14.613684</td>\n",
       "      <td>2.893445</td>\n",
       "      <td>8.537165</td>\n",
       "      <td>1.982306</td>\n",
       "      <td>1599.096777</td>\n",
       "      <td>-498.630270</td>\n",
       "      <td>1599.484314</td>\n",
       "      <td>-499.255872</td>\n",
       "      <td>1598.366222</td>\n",
       "      <td>-499.198198</td>\n",
       "      <td>1602.317332</td>\n",
       "      <td>-500.664282</td>\n",
       "      <td>41974.790294</td>\n",
       "      <td>3501.482821</td>\n",
       "      <td>3497.994338</td>\n",
       "      <td>2.600945</td>\n",
       "      <td>5.689557</td>\n",
       "      <td>2.508414</td>\n",
       "      <td>583.537789</td>\n",
       "      <td>64.616077</td>\n",
       "      <td>43.042457</td>\n",
       "      <td>6.524249</td>\n",
       "      <td>14.160944</td>\n",
       "      <td>7.300138</td>\n",
       "      <td>14.205313</td>\n",
       "      <td>7.298306</td>\n",
       "      <td>11.574823</td>\n",
       "      <td>7.384216</td>\n",
       "      <td>25.740506</td>\n",
       "      <td>17.583602</td>\n",
       "      <td>88.066903</td>\n",
       "      <td>4.404777</td>\n",
       "      <td>0.714497</td>\n",
       "      <td>21.003984</td>\n",
       "      <td>1.156424</td>\n",
       "      <td>999.750176</td>\n",
       "      <td>-399.931753</td>\n",
       "      <td>1600.527289</td>\n",
       "      <td>-450.011008</td>\n",
       "      <td>1600.517301</td>\n",
       "      <td>-450.379779</td>\n",
       "      <td>1603.804224</td>\n",
       "      <td>-450.250299</td>\n",
       "      <td>1402.769232</td>\n",
       "      <td>-447.699241</td>\n",
       "      <td>1401.919470</td>\n",
       "      <td>-451.025028</td>\n",
       "      <td>12.403678</td>\n",
       "      <td>5.121716</td>\n",
       "      <td>11.185081</td>\n",
       "      <td>2.216077</td>\n",
       "      <td>25.942168</td>\n",
       "      <td>-500.100481</td>\n",
       "      <td>24.040606</td>\n",
       "      <td>-499.449996</td>\n",
       "      <td>25.013290</td>\n",
       "      <td>-500.208164</td>\n",
       "      <td>23.988862</td>\n",
       "      <td>-500.062470</td>\n",
       "      <td>13.981220</td>\n",
       "      <td>-551.189582</td>\n",
       "      <td>12.004777</td>\n",
       "      <td>-549.974630</td>\n",
       "      <td>9.969535</td>\n",
       "      <td>-499.350934</td>\n",
       "      <td>8.017975</td>\n",
       "      <td>-500.620850</td>\n",
       "      <td>11.999969</td>\n",
       "      <td>-600.315548</td>\n",
       "    </tr>\n",
       "    <tr>\n",
       "      <td>45</td>\n",
       "      <td>2016-01-16 21:00:00</td>\n",
       "      <td>4.566664</td>\n",
       "      <td>10.406178</td>\n",
       "      <td>4.588698</td>\n",
       "      <td>46.614456</td>\n",
       "      <td>68.403877</td>\n",
       "      <td>10.705777</td>\n",
       "      <td>1.509070</td>\n",
       "      <td>17.875134</td>\n",
       "      <td>2.509776</td>\n",
       "      <td>131.251366</td>\n",
       "      <td>13.969457</td>\n",
       "      <td>7.25</td>\n",
       "      <td>1.203034</td>\n",
       "      <td>8.513177</td>\n",
       "      <td>9.724797</td>\n",
       "      <td>19.120964</td>\n",
       "      <td>37.633572</td>\n",
       "      <td>16.455383</td>\n",
       "      <td>3.366501</td>\n",
       "      <td>6.864404</td>\n",
       "      <td>3.434734</td>\n",
       "      <td>1601.674776</td>\n",
       "      <td>-500.285160</td>\n",
       "      <td>1600.151967</td>\n",
       "      <td>-499.633542</td>\n",
       "      <td>1599.542959</td>\n",
       "      <td>-499.495721</td>\n",
       "      <td>1599.342687</td>\n",
       "      <td>-500.360306</td>\n",
       "      <td>41359.061159</td>\n",
       "      <td>3196.130244</td>\n",
       "      <td>3205.717062</td>\n",
       "      <td>2.530283</td>\n",
       "      <td>7.521974</td>\n",
       "      <td>2.811569</td>\n",
       "      <td>581.605260</td>\n",
       "      <td>65.620714</td>\n",
       "      <td>41.154430</td>\n",
       "      <td>7.114065</td>\n",
       "      <td>13.322740</td>\n",
       "      <td>7.504592</td>\n",
       "      <td>13.311361</td>\n",
       "      <td>7.493738</td>\n",
       "      <td>0.000000</td>\n",
       "      <td>0.000000</td>\n",
       "      <td>0.000000</td>\n",
       "      <td>0.000000</td>\n",
       "      <td>0.000000</td>\n",
       "      <td>4.784398</td>\n",
       "      <td>0.818965</td>\n",
       "      <td>20.046797</td>\n",
       "      <td>1.939811</td>\n",
       "      <td>999.026619</td>\n",
       "      <td>-499.850895</td>\n",
       "      <td>1600.614880</td>\n",
       "      <td>-500.331775</td>\n",
       "      <td>1598.654561</td>\n",
       "      <td>-500.364377</td>\n",
       "      <td>1398.394100</td>\n",
       "      <td>-501.540155</td>\n",
       "      <td>1197.182011</td>\n",
       "      <td>-500.205806</td>\n",
       "      <td>1198.542180</td>\n",
       "      <td>-499.648335</td>\n",
       "      <td>13.605154</td>\n",
       "      <td>4.983564</td>\n",
       "      <td>9.545239</td>\n",
       "      <td>3.102137</td>\n",
       "      <td>25.963860</td>\n",
       "      <td>-498.097243</td>\n",
       "      <td>23.896954</td>\n",
       "      <td>-500.047419</td>\n",
       "      <td>24.963926</td>\n",
       "      <td>-500.207267</td>\n",
       "      <td>23.984937</td>\n",
       "      <td>-500.613261</td>\n",
       "      <td>14.025588</td>\n",
       "      <td>-550.404242</td>\n",
       "      <td>12.028925</td>\n",
       "      <td>-550.570104</td>\n",
       "      <td>10.052072</td>\n",
       "      <td>-500.797905</td>\n",
       "      <td>7.984500</td>\n",
       "      <td>-499.581046</td>\n",
       "      <td>11.982025</td>\n",
       "      <td>-599.161228</td>\n",
       "    </tr>\n",
       "    <tr>\n",
       "      <td>46</td>\n",
       "      <td>2016-01-16 22:00:00</td>\n",
       "      <td>4.577832</td>\n",
       "      <td>10.691605</td>\n",
       "      <td>5.274175</td>\n",
       "      <td>46.250638</td>\n",
       "      <td>70.675633</td>\n",
       "      <td>10.728531</td>\n",
       "      <td>1.641216</td>\n",
       "      <td>18.349339</td>\n",
       "      <td>2.540843</td>\n",
       "      <td>141.184039</td>\n",
       "      <td>13.978607</td>\n",
       "      <td>7.25</td>\n",
       "      <td>1.248254</td>\n",
       "      <td>8.466262</td>\n",
       "      <td>9.780929</td>\n",
       "      <td>19.220963</td>\n",
       "      <td>37.718947</td>\n",
       "      <td>15.517931</td>\n",
       "      <td>3.076929</td>\n",
       "      <td>7.321526</td>\n",
       "      <td>3.102171</td>\n",
       "      <td>1604.852903</td>\n",
       "      <td>-500.922517</td>\n",
       "      <td>1603.005456</td>\n",
       "      <td>-499.631837</td>\n",
       "      <td>1599.307763</td>\n",
       "      <td>-501.200791</td>\n",
       "      <td>1599.437018</td>\n",
       "      <td>-499.307245</td>\n",
       "      <td>41274.202372</td>\n",
       "      <td>3196.955345</td>\n",
       "      <td>3205.146739</td>\n",
       "      <td>2.572943</td>\n",
       "      <td>7.313187</td>\n",
       "      <td>2.973841</td>\n",
       "      <td>562.972841</td>\n",
       "      <td>66.014780</td>\n",
       "      <td>41.983063</td>\n",
       "      <td>7.651522</td>\n",
       "      <td>14.433889</td>\n",
       "      <td>7.583598</td>\n",
       "      <td>14.482716</td>\n",
       "      <td>7.578460</td>\n",
       "      <td>0.000000</td>\n",
       "      <td>0.000000</td>\n",
       "      <td>0.000000</td>\n",
       "      <td>0.000000</td>\n",
       "      <td>0.000000</td>\n",
       "      <td>4.955785</td>\n",
       "      <td>0.891051</td>\n",
       "      <td>19.633741</td>\n",
       "      <td>2.087628</td>\n",
       "      <td>999.846655</td>\n",
       "      <td>-500.082738</td>\n",
       "      <td>1599.408126</td>\n",
       "      <td>-500.189249</td>\n",
       "      <td>1598.918123</td>\n",
       "      <td>-498.775979</td>\n",
       "      <td>1398.970429</td>\n",
       "      <td>-500.939255</td>\n",
       "      <td>1198.632079</td>\n",
       "      <td>-501.344435</td>\n",
       "      <td>1198.715369</td>\n",
       "      <td>-500.311765</td>\n",
       "      <td>13.130989</td>\n",
       "      <td>5.043644</td>\n",
       "      <td>9.734058</td>\n",
       "      <td>2.920315</td>\n",
       "      <td>25.946448</td>\n",
       "      <td>-502.052990</td>\n",
       "      <td>23.903017</td>\n",
       "      <td>-500.245612</td>\n",
       "      <td>25.029826</td>\n",
       "      <td>-499.896144</td>\n",
       "      <td>23.963950</td>\n",
       "      <td>-499.786821</td>\n",
       "      <td>14.094808</td>\n",
       "      <td>-550.676337</td>\n",
       "      <td>12.004728</td>\n",
       "      <td>-550.496522</td>\n",
       "      <td>9.953139</td>\n",
       "      <td>-500.330920</td>\n",
       "      <td>8.012074</td>\n",
       "      <td>-500.133530</td>\n",
       "      <td>11.975316</td>\n",
       "      <td>-598.839683</td>\n",
       "    </tr>\n",
       "    <tr>\n",
       "      <td>...</td>\n",
       "      <td>...</td>\n",
       "      <td>...</td>\n",
       "      <td>...</td>\n",
       "      <td>...</td>\n",
       "      <td>...</td>\n",
       "      <td>...</td>\n",
       "      <td>...</td>\n",
       "      <td>...</td>\n",
       "      <td>...</td>\n",
       "      <td>...</td>\n",
       "      <td>...</td>\n",
       "      <td>...</td>\n",
       "      <td>...</td>\n",
       "      <td>...</td>\n",
       "      <td>...</td>\n",
       "      <td>...</td>\n",
       "      <td>...</td>\n",
       "      <td>...</td>\n",
       "      <td>...</td>\n",
       "      <td>...</td>\n",
       "      <td>...</td>\n",
       "      <td>...</td>\n",
       "      <td>...</td>\n",
       "      <td>...</td>\n",
       "      <td>...</td>\n",
       "      <td>...</td>\n",
       "      <td>...</td>\n",
       "      <td>...</td>\n",
       "      <td>...</td>\n",
       "      <td>...</td>\n",
       "      <td>...</td>\n",
       "      <td>...</td>\n",
       "      <td>...</td>\n",
       "      <td>...</td>\n",
       "      <td>...</td>\n",
       "      <td>...</td>\n",
       "      <td>...</td>\n",
       "      <td>...</td>\n",
       "      <td>...</td>\n",
       "      <td>...</td>\n",
       "      <td>...</td>\n",
       "      <td>...</td>\n",
       "      <td>...</td>\n",
       "      <td>...</td>\n",
       "      <td>...</td>\n",
       "      <td>...</td>\n",
       "      <td>...</td>\n",
       "      <td>...</td>\n",
       "      <td>...</td>\n",
       "      <td>...</td>\n",
       "      <td>...</td>\n",
       "      <td>...</td>\n",
       "      <td>...</td>\n",
       "      <td>...</td>\n",
       "      <td>...</td>\n",
       "      <td>...</td>\n",
       "      <td>...</td>\n",
       "      <td>...</td>\n",
       "      <td>...</td>\n",
       "      <td>...</td>\n",
       "      <td>...</td>\n",
       "      <td>...</td>\n",
       "      <td>...</td>\n",
       "      <td>...</td>\n",
       "      <td>...</td>\n",
       "      <td>...</td>\n",
       "      <td>...</td>\n",
       "      <td>...</td>\n",
       "      <td>...</td>\n",
       "      <td>...</td>\n",
       "      <td>...</td>\n",
       "      <td>...</td>\n",
       "      <td>...</td>\n",
       "      <td>...</td>\n",
       "      <td>...</td>\n",
       "      <td>...</td>\n",
       "      <td>...</td>\n",
       "      <td>...</td>\n",
       "      <td>...</td>\n",
       "      <td>...</td>\n",
       "      <td>...</td>\n",
       "      <td>...</td>\n",
       "      <td>...</td>\n",
       "      <td>...</td>\n",
       "      <td>...</td>\n",
       "      <td>...</td>\n",
       "      <td>...</td>\n",
       "    </tr>\n",
       "    <tr>\n",
       "      <td>14144</td>\n",
       "      <td>2018-08-18 06:59:59</td>\n",
       "      <td>3.224920</td>\n",
       "      <td>11.356233</td>\n",
       "      <td>6.803482</td>\n",
       "      <td>46.713954</td>\n",
       "      <td>73.755150</td>\n",
       "      <td>8.769645</td>\n",
       "      <td>3.141541</td>\n",
       "      <td>10.403181</td>\n",
       "      <td>1.529220</td>\n",
       "      <td>123.381787</td>\n",
       "      <td>8.028927</td>\n",
       "      <td>6.50</td>\n",
       "      <td>1.304232</td>\n",
       "      <td>6.559174</td>\n",
       "      <td>12.445966</td>\n",
       "      <td>7.056338</td>\n",
       "      <td>32.940215</td>\n",
       "      <td>22.854592</td>\n",
       "      <td>6.531541</td>\n",
       "      <td>3.934320</td>\n",
       "      <td>2.314352</td>\n",
       "      <td>1648.421193</td>\n",
       "      <td>-400.382169</td>\n",
       "      <td>1648.742005</td>\n",
       "      <td>-400.359661</td>\n",
       "      <td>1648.578230</td>\n",
       "      <td>-399.363624</td>\n",
       "      <td>1648.833984</td>\n",
       "      <td>-399.669220</td>\n",
       "      <td>45912.942619</td>\n",
       "      <td>2497.652954</td>\n",
       "      <td>2499.177950</td>\n",
       "      <td>1.155559</td>\n",
       "      <td>6.091855</td>\n",
       "      <td>4.617558</td>\n",
       "      <td>560.889077</td>\n",
       "      <td>85.718304</td>\n",
       "      <td>37.369774</td>\n",
       "      <td>5.335862</td>\n",
       "      <td>7.762770</td>\n",
       "      <td>9.158609</td>\n",
       "      <td>7.766744</td>\n",
       "      <td>9.156069</td>\n",
       "      <td>11.124896</td>\n",
       "      <td>10.984003</td>\n",
       "      <td>30.068876</td>\n",
       "      <td>18.603550</td>\n",
       "      <td>89.574376</td>\n",
       "      <td>4.207261</td>\n",
       "      <td>0.612935</td>\n",
       "      <td>16.666590</td>\n",
       "      <td>0.748633</td>\n",
       "      <td>1199.245914</td>\n",
       "      <td>-300.845518</td>\n",
       "      <td>1149.807890</td>\n",
       "      <td>-498.789721</td>\n",
       "      <td>1047.963596</td>\n",
       "      <td>-498.413079</td>\n",
       "      <td>946.640977</td>\n",
       "      <td>-499.152477</td>\n",
       "      <td>849.664935</td>\n",
       "      <td>-499.214461</td>\n",
       "      <td>849.758091</td>\n",
       "      <td>-497.448664</td>\n",
       "      <td>0.000000</td>\n",
       "      <td>0.000000</td>\n",
       "      <td>0.000000</td>\n",
       "      <td>0.000000</td>\n",
       "      <td>35.043205</td>\n",
       "      <td>-499.045671</td>\n",
       "      <td>29.906659</td>\n",
       "      <td>-499.979939</td>\n",
       "      <td>26.002402</td>\n",
       "      <td>-499.953431</td>\n",
       "      <td>22.987238</td>\n",
       "      <td>-499.967351</td>\n",
       "      <td>23.031497</td>\n",
       "      <td>-501.167942</td>\n",
       "      <td>20.007571</td>\n",
       "      <td>-499.740028</td>\n",
       "      <td>18.006038</td>\n",
       "      <td>-499.834374</td>\n",
       "      <td>13.001114</td>\n",
       "      <td>-500.155694</td>\n",
       "      <td>20.007840</td>\n",
       "      <td>-501.296428</td>\n",
       "    </tr>\n",
       "    <tr>\n",
       "      <td>14145</td>\n",
       "      <td>2018-08-18 07:59:59</td>\n",
       "      <td>3.195978</td>\n",
       "      <td>11.349355</td>\n",
       "      <td>6.862249</td>\n",
       "      <td>46.866780</td>\n",
       "      <td>69.049291</td>\n",
       "      <td>8.897321</td>\n",
       "      <td>3.130493</td>\n",
       "      <td>10.549470</td>\n",
       "      <td>1.612542</td>\n",
       "      <td>120.878188</td>\n",
       "      <td>7.962636</td>\n",
       "      <td>6.50</td>\n",
       "      <td>1.302419</td>\n",
       "      <td>6.612376</td>\n",
       "      <td>12.623947</td>\n",
       "      <td>7.542264</td>\n",
       "      <td>32.925325</td>\n",
       "      <td>23.002490</td>\n",
       "      <td>6.629725</td>\n",
       "      <td>4.089124</td>\n",
       "      <td>2.462890</td>\n",
       "      <td>1649.820162</td>\n",
       "      <td>-399.930973</td>\n",
       "      <td>1649.357538</td>\n",
       "      <td>-399.721222</td>\n",
       "      <td>1648.656192</td>\n",
       "      <td>-401.195834</td>\n",
       "      <td>1649.725133</td>\n",
       "      <td>-400.636306</td>\n",
       "      <td>46200.099585</td>\n",
       "      <td>2614.403937</td>\n",
       "      <td>2518.550078</td>\n",
       "      <td>1.167342</td>\n",
       "      <td>6.121323</td>\n",
       "      <td>4.144989</td>\n",
       "      <td>559.031805</td>\n",
       "      <td>119.499241</td>\n",
       "      <td>38.591551</td>\n",
       "      <td>4.838619</td>\n",
       "      <td>7.356687</td>\n",
       "      <td>9.304952</td>\n",
       "      <td>7.095508</td>\n",
       "      <td>9.297924</td>\n",
       "      <td>11.425983</td>\n",
       "      <td>10.888213</td>\n",
       "      <td>29.783972</td>\n",
       "      <td>18.441436</td>\n",
       "      <td>87.724007</td>\n",
       "      <td>4.177943</td>\n",
       "      <td>0.650557</td>\n",
       "      <td>16.960649</td>\n",
       "      <td>0.771582</td>\n",
       "      <td>1196.569267</td>\n",
       "      <td>-299.512227</td>\n",
       "      <td>1147.675196</td>\n",
       "      <td>-500.608341</td>\n",
       "      <td>1048.565741</td>\n",
       "      <td>-500.932810</td>\n",
       "      <td>949.773589</td>\n",
       "      <td>-500.023144</td>\n",
       "      <td>848.515225</td>\n",
       "      <td>-500.289405</td>\n",
       "      <td>850.013123</td>\n",
       "      <td>-496.822119</td>\n",
       "      <td>0.000000</td>\n",
       "      <td>0.000000</td>\n",
       "      <td>0.000000</td>\n",
       "      <td>0.000000</td>\n",
       "      <td>35.026062</td>\n",
       "      <td>-499.891945</td>\n",
       "      <td>29.921795</td>\n",
       "      <td>-499.949663</td>\n",
       "      <td>26.031747</td>\n",
       "      <td>-500.384612</td>\n",
       "      <td>22.991058</td>\n",
       "      <td>-500.079590</td>\n",
       "      <td>22.960095</td>\n",
       "      <td>-501.612783</td>\n",
       "      <td>20.035660</td>\n",
       "      <td>-500.251357</td>\n",
       "      <td>17.998535</td>\n",
       "      <td>-500.395178</td>\n",
       "      <td>12.954048</td>\n",
       "      <td>-499.895163</td>\n",
       "      <td>19.968498</td>\n",
       "      <td>-501.041608</td>\n",
       "    </tr>\n",
       "    <tr>\n",
       "      <td>14146</td>\n",
       "      <td>2018-08-18 08:59:59</td>\n",
       "      <td>3.109998</td>\n",
       "      <td>11.434366</td>\n",
       "      <td>6.886013</td>\n",
       "      <td>46.795691</td>\n",
       "      <td>67.002189</td>\n",
       "      <td>8.529606</td>\n",
       "      <td>2.911418</td>\n",
       "      <td>11.115147</td>\n",
       "      <td>1.596616</td>\n",
       "      <td>105.666118</td>\n",
       "      <td>7.955111</td>\n",
       "      <td>6.50</td>\n",
       "      <td>1.315926</td>\n",
       "      <td>7.128896</td>\n",
       "      <td>12.633558</td>\n",
       "      <td>7.941900</td>\n",
       "      <td>31.856742</td>\n",
       "      <td>22.298149</td>\n",
       "      <td>6.278250</td>\n",
       "      <td>4.457457</td>\n",
       "      <td>2.612231</td>\n",
       "      <td>1649.166761</td>\n",
       "      <td>-399.888631</td>\n",
       "      <td>1649.196904</td>\n",
       "      <td>-399.677571</td>\n",
       "      <td>1647.896999</td>\n",
       "      <td>-399.988275</td>\n",
       "      <td>1649.772714</td>\n",
       "      <td>-399.831902</td>\n",
       "      <td>44585.181334</td>\n",
       "      <td>2510.813545</td>\n",
       "      <td>2510.142433</td>\n",
       "      <td>1.125637</td>\n",
       "      <td>5.970515</td>\n",
       "      <td>4.020002</td>\n",
       "      <td>555.682872</td>\n",
       "      <td>122.262690</td>\n",
       "      <td>40.074026</td>\n",
       "      <td>4.525061</td>\n",
       "      <td>6.586020</td>\n",
       "      <td>9.299606</td>\n",
       "      <td>6.584130</td>\n",
       "      <td>9.300133</td>\n",
       "      <td>8.523497</td>\n",
       "      <td>8.955135</td>\n",
       "      <td>22.786467</td>\n",
       "      <td>15.111231</td>\n",
       "      <td>88.890579</td>\n",
       "      <td>4.050010</td>\n",
       "      <td>0.636095</td>\n",
       "      <td>18.323080</td>\n",
       "      <td>0.685059</td>\n",
       "      <td>1204.866639</td>\n",
       "      <td>-299.235675</td>\n",
       "      <td>1149.942902</td>\n",
       "      <td>-501.717903</td>\n",
       "      <td>1049.604390</td>\n",
       "      <td>-500.549053</td>\n",
       "      <td>952.702732</td>\n",
       "      <td>-502.352296</td>\n",
       "      <td>849.016017</td>\n",
       "      <td>-500.505677</td>\n",
       "      <td>850.455635</td>\n",
       "      <td>-506.897968</td>\n",
       "      <td>0.000000</td>\n",
       "      <td>0.000000</td>\n",
       "      <td>0.000000</td>\n",
       "      <td>0.000000</td>\n",
       "      <td>35.003586</td>\n",
       "      <td>-501.083794</td>\n",
       "      <td>29.990533</td>\n",
       "      <td>-611.855898</td>\n",
       "      <td>25.948429</td>\n",
       "      <td>-500.067268</td>\n",
       "      <td>22.968268</td>\n",
       "      <td>-499.839442</td>\n",
       "      <td>23.015718</td>\n",
       "      <td>-501.711599</td>\n",
       "      <td>19.951231</td>\n",
       "      <td>-499.857027</td>\n",
       "      <td>18.019543</td>\n",
       "      <td>-500.451156</td>\n",
       "      <td>13.023431</td>\n",
       "      <td>-499.914391</td>\n",
       "      <td>19.990885</td>\n",
       "      <td>-501.518452</td>\n",
       "    </tr>\n",
       "    <tr>\n",
       "      <td>14147</td>\n",
       "      <td>2018-08-18 09:59:59</td>\n",
       "      <td>3.367241</td>\n",
       "      <td>11.625587</td>\n",
       "      <td>6.799433</td>\n",
       "      <td>46.408188</td>\n",
       "      <td>65.523246</td>\n",
       "      <td>8.777171</td>\n",
       "      <td>2.819214</td>\n",
       "      <td>10.463847</td>\n",
       "      <td>1.602879</td>\n",
       "      <td>98.880538</td>\n",
       "      <td>7.984164</td>\n",
       "      <td>6.50</td>\n",
       "      <td>1.241969</td>\n",
       "      <td>7.490444</td>\n",
       "      <td>12.012378</td>\n",
       "      <td>6.942972</td>\n",
       "      <td>30.770892</td>\n",
       "      <td>22.714656</td>\n",
       "      <td>6.253145</td>\n",
       "      <td>3.557121</td>\n",
       "      <td>2.800648</td>\n",
       "      <td>1646.547763</td>\n",
       "      <td>-398.977083</td>\n",
       "      <td>1648.212240</td>\n",
       "      <td>-400.383265</td>\n",
       "      <td>1648.917387</td>\n",
       "      <td>-399.521344</td>\n",
       "      <td>1651.498591</td>\n",
       "      <td>-399.745329</td>\n",
       "      <td>44084.735708</td>\n",
       "      <td>2507.572494</td>\n",
       "      <td>2507.723361</td>\n",
       "      <td>1.117935</td>\n",
       "      <td>6.048130</td>\n",
       "      <td>3.902537</td>\n",
       "      <td>544.731687</td>\n",
       "      <td>123.742430</td>\n",
       "      <td>39.713906</td>\n",
       "      <td>4.362781</td>\n",
       "      <td>6.210119</td>\n",
       "      <td>9.297709</td>\n",
       "      <td>6.209517</td>\n",
       "      <td>9.297194</td>\n",
       "      <td>11.658799</td>\n",
       "      <td>10.655377</td>\n",
       "      <td>29.052742</td>\n",
       "      <td>17.834772</td>\n",
       "      <td>89.858126</td>\n",
       "      <td>3.902494</td>\n",
       "      <td>0.625609</td>\n",
       "      <td>19.423740</td>\n",
       "      <td>0.567130</td>\n",
       "      <td>1201.904177</td>\n",
       "      <td>-299.907308</td>\n",
       "      <td>1154.087804</td>\n",
       "      <td>-500.036580</td>\n",
       "      <td>1054.009756</td>\n",
       "      <td>-500.237335</td>\n",
       "      <td>944.138793</td>\n",
       "      <td>-496.866953</td>\n",
       "      <td>851.589767</td>\n",
       "      <td>-499.040466</td>\n",
       "      <td>851.345606</td>\n",
       "      <td>-499.122561</td>\n",
       "      <td>0.000000</td>\n",
       "      <td>0.000000</td>\n",
       "      <td>0.000000</td>\n",
       "      <td>0.000000</td>\n",
       "      <td>34.980742</td>\n",
       "      <td>-498.131002</td>\n",
       "      <td>29.968453</td>\n",
       "      <td>-586.013330</td>\n",
       "      <td>25.971737</td>\n",
       "      <td>-499.608392</td>\n",
       "      <td>22.958448</td>\n",
       "      <td>-499.821308</td>\n",
       "      <td>23.024963</td>\n",
       "      <td>-501.153409</td>\n",
       "      <td>20.054122</td>\n",
       "      <td>-500.314711</td>\n",
       "      <td>17.979515</td>\n",
       "      <td>-499.272871</td>\n",
       "      <td>12.992404</td>\n",
       "      <td>-499.976268</td>\n",
       "      <td>20.013986</td>\n",
       "      <td>-500.625471</td>\n",
       "    </tr>\n",
       "    <tr>\n",
       "      <td>14148</td>\n",
       "      <td>2018-08-18 10:59:59</td>\n",
       "      <td>3.598375</td>\n",
       "      <td>11.737832</td>\n",
       "      <td>6.717509</td>\n",
       "      <td>46.299438</td>\n",
       "      <td>70.281454</td>\n",
       "      <td>8.406690</td>\n",
       "      <td>2.517518</td>\n",
       "      <td>10.652193</td>\n",
       "      <td>1.389434</td>\n",
       "      <td>95.248427</td>\n",
       "      <td>8.078957</td>\n",
       "      <td>6.50</td>\n",
       "      <td>1.283045</td>\n",
       "      <td>7.537584</td>\n",
       "      <td>11.650285</td>\n",
       "      <td>6.203553</td>\n",
       "      <td>30.356618</td>\n",
       "      <td>22.735927</td>\n",
       "      <td>6.084287</td>\n",
       "      <td>3.026699</td>\n",
       "      <td>2.708046</td>\n",
       "      <td>1648.759906</td>\n",
       "      <td>-399.862053</td>\n",
       "      <td>1650.135395</td>\n",
       "      <td>-399.957321</td>\n",
       "      <td>1648.831890</td>\n",
       "      <td>-400.586116</td>\n",
       "      <td>1649.464582</td>\n",
       "      <td>-400.673303</td>\n",
       "      <td>44082.866565</td>\n",
       "      <td>2487.477762</td>\n",
       "      <td>2488.626080</td>\n",
       "      <td>1.126367</td>\n",
       "      <td>6.158718</td>\n",
       "      <td>3.875727</td>\n",
       "      <td>555.820208</td>\n",
       "      <td>94.544358</td>\n",
       "      <td>39.135119</td>\n",
       "      <td>4.365491</td>\n",
       "      <td>6.146982</td>\n",
       "      <td>9.308612</td>\n",
       "      <td>6.168939</td>\n",
       "      <td>9.309852</td>\n",
       "      <td>11.959486</td>\n",
       "      <td>10.702148</td>\n",
       "      <td>29.078235</td>\n",
       "      <td>17.804134</td>\n",
       "      <td>89.514960</td>\n",
       "      <td>3.925473</td>\n",
       "      <td>0.638677</td>\n",
       "      <td>19.946673</td>\n",
       "      <td>0.586439</td>\n",
       "      <td>1196.238112</td>\n",
       "      <td>-299.862743</td>\n",
       "      <td>1147.248241</td>\n",
       "      <td>-500.363165</td>\n",
       "      <td>1047.279065</td>\n",
       "      <td>-500.354091</td>\n",
       "      <td>948.756608</td>\n",
       "      <td>-498.439416</td>\n",
       "      <td>849.441918</td>\n",
       "      <td>-499.255503</td>\n",
       "      <td>850.112246</td>\n",
       "      <td>-499.407112</td>\n",
       "      <td>0.000000</td>\n",
       "      <td>0.000000</td>\n",
       "      <td>0.000000</td>\n",
       "      <td>0.000000</td>\n",
       "      <td>34.940919</td>\n",
       "      <td>-500.150510</td>\n",
       "      <td>30.031867</td>\n",
       "      <td>-500.328335</td>\n",
       "      <td>26.033990</td>\n",
       "      <td>-500.147792</td>\n",
       "      <td>22.952306</td>\n",
       "      <td>-500.037678</td>\n",
       "      <td>23.018622</td>\n",
       "      <td>-500.492702</td>\n",
       "      <td>20.020205</td>\n",
       "      <td>-500.220296</td>\n",
       "      <td>17.963512</td>\n",
       "      <td>-499.939490</td>\n",
       "      <td>12.990306</td>\n",
       "      <td>-500.080993</td>\n",
       "      <td>19.990336</td>\n",
       "      <td>-499.191575</td>\n",
       "    </tr>\n",
       "  </tbody>\n",
       "</table>\n",
       "<p>732 rows × 87 columns</p>\n",
       "</div>"
      ],
      "text/plain": [
       "                      date  final.output.concentrate_ag  \\\n",
       "19     2016-01-15 19:00:00                     5.658943   \n",
       "22     2016-01-15 22:00:00                     6.118749   \n",
       "30     2016-01-16 06:00:00                     5.322681   \n",
       "45     2016-01-16 21:00:00                     4.566664   \n",
       "46     2016-01-16 22:00:00                     4.577832   \n",
       "...                    ...                          ...   \n",
       "14144  2018-08-18 06:59:59                     3.224920   \n",
       "14145  2018-08-18 07:59:59                     3.195978   \n",
       "14146  2018-08-18 08:59:59                     3.109998   \n",
       "14147  2018-08-18 09:59:59                     3.367241   \n",
       "14148  2018-08-18 10:59:59                     3.598375   \n",
       "\n",
       "       final.output.concentrate_pb  final.output.concentrate_sol  \\\n",
       "19                       10.436002                      5.942418   \n",
       "22                       10.483007                      6.546983   \n",
       "30                        9.577672                      4.805490   \n",
       "45                       10.406178                      4.588698   \n",
       "46                       10.691605                      5.274175   \n",
       "...                            ...                           ...   \n",
       "14144                    11.356233                      6.803482   \n",
       "14145                    11.349355                      6.862249   \n",
       "14146                    11.434366                      6.886013   \n",
       "14147                    11.625587                      6.799433   \n",
       "14148                    11.737832                      6.717509   \n",
       "\n",
       "       final.output.concentrate_au  final.output.recovery  \\\n",
       "19                       42.509402              70.348300   \n",
       "22                       41.406172              69.823900   \n",
       "30                       44.059908              69.193840   \n",
       "45                       46.614456              68.403877   \n",
       "46                       46.250638              70.675633   \n",
       "...                            ...                    ...   \n",
       "14144                    46.713954              73.755150   \n",
       "14145                    46.866780              69.049291   \n",
       "14146                    46.795691              67.002189   \n",
       "14147                    46.408188              65.523246   \n",
       "14148                    46.299438              70.281454   \n",
       "\n",
       "       final.output.tail_ag  final.output.tail_pb  final.output.tail_sol  \\\n",
       "19                10.232392              1.174845              19.498566   \n",
       "22                10.322077              1.270956              19.384247   \n",
       "30                10.334312              1.406355              19.923319   \n",
       "45                10.705777              1.509070              17.875134   \n",
       "46                10.728531              1.641216              18.349339   \n",
       "...                     ...                   ...                    ...   \n",
       "14144              8.769645              3.141541              10.403181   \n",
       "14145              8.897321              3.130493              10.549470   \n",
       "14146              8.529606              2.911418              11.115147   \n",
       "14147              8.777171              2.819214              10.463847   \n",
       "14148              8.406690              2.517518              10.652193   \n",
       "\n",
       "       final.output.tail_au  primary_cleaner.input.sulfate  \\\n",
       "19                 2.272460                     149.998260   \n",
       "22                 2.245145                     158.353434   \n",
       "30                 2.239310                     145.952867   \n",
       "45                 2.509776                     131.251366   \n",
       "46                 2.540843                     141.184039   \n",
       "...                     ...                            ...   \n",
       "14144              1.529220                     123.381787   \n",
       "14145              1.612542                     120.878188   \n",
       "14146              1.596616                     105.666118   \n",
       "14147              1.602879                      98.880538   \n",
       "14148              1.389434                      95.248427   \n",
       "\n",
       "       primary_cleaner.input.depressant  primary_cleaner.input.feed_size  \\\n",
       "19                            12.509947                             7.25   \n",
       "22                            14.020791                             7.25   \n",
       "30                            13.947704                             7.25   \n",
       "45                            13.969457                             7.25   \n",
       "46                            13.978607                             7.25   \n",
       "...                                 ...                              ...   \n",
       "14144                          8.028927                             6.50   \n",
       "14145                          7.962636                             6.50   \n",
       "14146                          7.955111                             6.50   \n",
       "14147                          7.984164                             6.50   \n",
       "14148                          8.078957                             6.50   \n",
       "\n",
       "       primary_cleaner.input.xanthate  primary_cleaner.output.concentrate_ag  \\\n",
       "19                           0.997030                               0.000000   \n",
       "22                           0.997999                               0.000000   \n",
       "30                           0.991678                               0.000000   \n",
       "45                           1.203034                               8.513177   \n",
       "46                           1.248254                               8.466262   \n",
       "...                               ...                                    ...   \n",
       "14144                        1.304232                               6.559174   \n",
       "14145                        1.302419                               6.612376   \n",
       "14146                        1.315926                               7.128896   \n",
       "14147                        1.241969                               7.490444   \n",
       "14148                        1.283045                               7.537584   \n",
       "\n",
       "       primary_cleaner.output.concentrate_pb  \\\n",
       "19                                  0.000000   \n",
       "22                                  0.000000   \n",
       "30                                  0.000000   \n",
       "45                                  9.724797   \n",
       "46                                  9.780929   \n",
       "...                                      ...   \n",
       "14144                              12.445966   \n",
       "14145                              12.623947   \n",
       "14146                              12.633558   \n",
       "14147                              12.012378   \n",
       "14148                              11.650285   \n",
       "\n",
       "       primary_cleaner.output.concentrate_sol  \\\n",
       "19                                   0.000000   \n",
       "22                                   0.000000   \n",
       "30                                   0.000000   \n",
       "45                                  19.120964   \n",
       "46                                  19.220963   \n",
       "...                                       ...   \n",
       "14144                                7.056338   \n",
       "14145                                7.542264   \n",
       "14146                                7.941900   \n",
       "14147                                6.942972   \n",
       "14148                                6.203553   \n",
       "\n",
       "       primary_cleaner.output.concentrate_au  primary_cleaner.output.tail_ag  \\\n",
       "19                                  0.000000                       14.915949   \n",
       "22                                  0.000000                       13.874346   \n",
       "30                                  0.000000                       14.613684   \n",
       "45                                 37.633572                       16.455383   \n",
       "46                                 37.718947                       15.517931   \n",
       "...                                      ...                             ...   \n",
       "14144                              32.940215                       22.854592   \n",
       "14145                              32.925325                       23.002490   \n",
       "14146                              31.856742                       22.298149   \n",
       "14147                              30.770892                       22.714656   \n",
       "14148                              30.356618                       22.735927   \n",
       "\n",
       "       primary_cleaner.output.tail_pb  primary_cleaner.output.tail_sol  \\\n",
       "19                           2.702527                         7.784534   \n",
       "22                           2.440897                         8.529620   \n",
       "30                           2.893445                         8.537165   \n",
       "45                           3.366501                         6.864404   \n",
       "46                           3.076929                         7.321526   \n",
       "...                               ...                              ...   \n",
       "14144                        6.531541                         3.934320   \n",
       "14145                        6.629725                         4.089124   \n",
       "14146                        6.278250                         4.457457   \n",
       "14147                        6.253145                         3.557121   \n",
       "14148                        6.084287                         3.026699   \n",
       "\n",
       "       primary_cleaner.output.tail_au  primary_cleaner.state.floatbank8_a_air  \\\n",
       "19                           2.013487                             1599.617983   \n",
       "22                           1.964468                             1596.351031   \n",
       "30                           1.982306                             1599.096777   \n",
       "45                           3.434734                             1601.674776   \n",
       "46                           3.102171                             1604.852903   \n",
       "...                               ...                                     ...   \n",
       "14144                        2.314352                             1648.421193   \n",
       "14145                        2.462890                             1649.820162   \n",
       "14146                        2.612231                             1649.166761   \n",
       "14147                        2.800648                             1646.547763   \n",
       "14148                        2.708046                             1648.759906   \n",
       "\n",
       "       primary_cleaner.state.floatbank8_a_level  \\\n",
       "19                                  -499.527131   \n",
       "22                                  -498.896997   \n",
       "30                                  -498.630270   \n",
       "45                                  -500.285160   \n",
       "46                                  -500.922517   \n",
       "...                                         ...   \n",
       "14144                               -400.382169   \n",
       "14145                               -399.930973   \n",
       "14146                               -399.888631   \n",
       "14147                               -398.977083   \n",
       "14148                               -399.862053   \n",
       "\n",
       "       primary_cleaner.state.floatbank8_b_air  \\\n",
       "19                                1599.389604   \n",
       "22                                1596.177717   \n",
       "30                                1599.484314   \n",
       "45                                1600.151967   \n",
       "46                                1603.005456   \n",
       "...                                       ...   \n",
       "14144                             1648.742005   \n",
       "14145                             1649.357538   \n",
       "14146                             1649.196904   \n",
       "14147                             1648.212240   \n",
       "14148                             1650.135395   \n",
       "\n",
       "       primary_cleaner.state.floatbank8_b_level  \\\n",
       "19                                  -499.554869   \n",
       "22                                  -500.402418   \n",
       "30                                  -499.255872   \n",
       "45                                  -499.633542   \n",
       "46                                  -499.631837   \n",
       "...                                         ...   \n",
       "14144                               -400.359661   \n",
       "14145                               -399.721222   \n",
       "14146                               -399.677571   \n",
       "14147                               -400.383265   \n",
       "14148                               -399.957321   \n",
       "\n",
       "       primary_cleaner.state.floatbank8_c_air  \\\n",
       "19                                1600.441370   \n",
       "22                                1598.280618   \n",
       "30                                1598.366222   \n",
       "45                                1599.542959   \n",
       "46                                1599.307763   \n",
       "...                                       ...   \n",
       "14144                             1648.578230   \n",
       "14145                             1648.656192   \n",
       "14146                             1647.896999   \n",
       "14147                             1648.917387   \n",
       "14148                             1648.831890   \n",
       "\n",
       "       primary_cleaner.state.floatbank8_c_level  \\\n",
       "19                                  -500.503609   \n",
       "22                                  -498.946313   \n",
       "30                                  -499.198198   \n",
       "45                                  -499.495721   \n",
       "46                                  -501.200791   \n",
       "...                                         ...   \n",
       "14144                               -399.363624   \n",
       "14145                               -401.195834   \n",
       "14146                               -399.988275   \n",
       "14147                               -399.521344   \n",
       "14148                               -400.586116   \n",
       "\n",
       "       primary_cleaner.state.floatbank8_d_air  \\\n",
       "19                                1601.900702   \n",
       "22                                1600.472486   \n",
       "30                                1602.317332   \n",
       "45                                1599.342687   \n",
       "46                                1599.437018   \n",
       "...                                       ...   \n",
       "14144                             1648.833984   \n",
       "14145                             1649.725133   \n",
       "14146                             1649.772714   \n",
       "14147                             1651.498591   \n",
       "14148                             1649.464582   \n",
       "\n",
       "       primary_cleaner.state.floatbank8_d_level  \\\n",
       "19                                  -500.129123   \n",
       "22                                  -499.623157   \n",
       "30                                  -500.664282   \n",
       "45                                  -500.360306   \n",
       "46                                  -499.307245   \n",
       "...                                         ...   \n",
       "14144                               -399.669220   \n",
       "14145                               -400.636306   \n",
       "14146                               -399.831902   \n",
       "14147                               -399.745329   \n",
       "14148                               -400.673303   \n",
       "\n",
       "       rougher.calculation.sulfate_to_au_concentrate  \\\n",
       "19                                      41959.818540   \n",
       "22                                      42082.414968   \n",
       "30                                      41974.790294   \n",
       "45                                      41359.061159   \n",
       "46                                      41274.202372   \n",
       "...                                              ...   \n",
       "14144                                   45912.942619   \n",
       "14145                                   46200.099585   \n",
       "14146                                   44585.181334   \n",
       "14147                                   44084.735708   \n",
       "14148                                   44082.866565   \n",
       "\n",
       "       rougher.calculation.floatbank10_sulfate_to_au_feed  \\\n",
       "19                                           3507.941540    \n",
       "22                                           3506.178699    \n",
       "30                                           3501.482821    \n",
       "45                                           3196.130244    \n",
       "46                                           3196.955345    \n",
       "...                                                  ...    \n",
       "14144                                        2497.652954    \n",
       "14145                                        2614.403937    \n",
       "14146                                        2510.813545    \n",
       "14147                                        2507.572494    \n",
       "14148                                        2487.477762    \n",
       "\n",
       "       rougher.calculation.floatbank11_sulfate_to_au_feed  \\\n",
       "19                                           3499.552368    \n",
       "22                                           3501.343118    \n",
       "30                                           3497.994338    \n",
       "45                                           3205.717062    \n",
       "46                                           3205.146739    \n",
       "...                                                  ...    \n",
       "14144                                        2499.177950    \n",
       "14145                                        2518.550078    \n",
       "14146                                        2510.142433    \n",
       "14147                                        2507.723361    \n",
       "14148                                        2488.626080    \n",
       "\n",
       "       rougher.calculation.au_pb_ratio  rougher.input.feed_ag  \\\n",
       "19                            2.448851               6.046063   \n",
       "22                            2.617243               5.599324   \n",
       "30                            2.600945               5.689557   \n",
       "45                            2.530283               7.521974   \n",
       "46                            2.572943               7.313187   \n",
       "...                                ...                    ...   \n",
       "14144                         1.155559               6.091855   \n",
       "14145                         1.167342               6.121323   \n",
       "14146                         1.125637               5.970515   \n",
       "14147                         1.117935               6.048130   \n",
       "14148                         1.126367               6.158718   \n",
       "\n",
       "       rougher.input.feed_pb  rougher.input.feed_rate  \\\n",
       "19                  2.777324               571.766992   \n",
       "22                  2.525838               571.140653   \n",
       "30                  2.508414               583.537789   \n",
       "45                  2.811569               581.605260   \n",
       "46                  2.973841               562.972841   \n",
       "...                      ...                      ...   \n",
       "14144               4.617558               560.889077   \n",
       "14145               4.144989               559.031805   \n",
       "14146               4.020002               555.682872   \n",
       "14147               3.902537               544.731687   \n",
       "14148               3.875727               555.820208   \n",
       "\n",
       "       rougher.input.feed_size  rougher.input.feed_sol  rougher.input.feed_au  \\\n",
       "19                   62.823127               40.381002               6.801254   \n",
       "22                   64.816398               41.302359               6.610732   \n",
       "30                   64.616077               43.042457               6.524249   \n",
       "45                   65.620714               41.154430               7.114065   \n",
       "46                   66.014780               41.983063               7.651522   \n",
       "...                        ...                     ...                    ...   \n",
       "14144                85.718304               37.369774               5.335862   \n",
       "14145               119.499241               38.591551               4.838619   \n",
       "14146               122.262690               40.074026               4.525061   \n",
       "14147               123.742430               39.713906               4.362781   \n",
       "14148                94.544358               39.135119               4.365491   \n",
       "\n",
       "       rougher.input.floatbank10_sulfate  rougher.input.floatbank10_xanthate  \\\n",
       "19                             14.812266                            7.064468   \n",
       "22                             14.501843                            7.301759   \n",
       "30                             14.160944                            7.300138   \n",
       "45                             13.322740                            7.504592   \n",
       "46                             14.433889                            7.583598   \n",
       "...                                  ...                                 ...   \n",
       "14144                           7.762770                            9.158609   \n",
       "14145                           7.356687                            9.304952   \n",
       "14146                           6.586020                            9.299606   \n",
       "14147                           6.210119                            9.297709   \n",
       "14148                           6.146982                            9.308612   \n",
       "\n",
       "       rougher.input.floatbank11_sulfate  rougher.input.floatbank11_xanthate  \\\n",
       "19                             14.814722                            7.064408   \n",
       "22                             14.460181                            7.298780   \n",
       "30                             14.205313                            7.298306   \n",
       "45                             13.311361                            7.493738   \n",
       "46                             14.482716                            7.578460   \n",
       "...                                  ...                                 ...   \n",
       "14144                           7.766744                            9.156069   \n",
       "14145                           7.095508                            9.297924   \n",
       "14146                           6.584130                            9.300133   \n",
       "14147                           6.209517                            9.297194   \n",
       "14148                           6.168939                            9.309852   \n",
       "\n",
       "       rougher.output.concentrate_ag  rougher.output.concentrate_pb  \\\n",
       "19                         10.788951                       7.537074   \n",
       "22                         10.958096                       7.267608   \n",
       "30                         11.574823                       7.384216   \n",
       "45                          0.000000                       0.000000   \n",
       "46                          0.000000                       0.000000   \n",
       "...                              ...                            ...   \n",
       "14144                      11.124896                      10.984003   \n",
       "14145                      11.425983                      10.888213   \n",
       "14146                       8.523497                       8.955135   \n",
       "14147                      11.658799                      10.655377   \n",
       "14148                      11.959486                      10.702148   \n",
       "\n",
       "       rougher.output.concentrate_sol  rougher.output.concentrate_au  \\\n",
       "19                          26.092838                      18.511902   \n",
       "22                          25.911055                      18.089134   \n",
       "30                          25.740506                      17.583602   \n",
       "45                           0.000000                       0.000000   \n",
       "46                           0.000000                       0.000000   \n",
       "...                               ...                            ...   \n",
       "14144                       30.068876                      18.603550   \n",
       "14145                       29.783972                      18.441436   \n",
       "14146                       22.786467                      15.111231   \n",
       "14147                       29.052742                      17.834772   \n",
       "14148                       29.078235                      17.804134   \n",
       "\n",
       "       rougher.output.recovery  rougher.output.tail_ag  \\\n",
       "19                   86.241795                4.919573   \n",
       "22                   88.132239                4.421208   \n",
       "30                   88.066903                4.404777   \n",
       "45                    0.000000                4.784398   \n",
       "46                    0.000000                4.955785   \n",
       "...                        ...                     ...   \n",
       "14144                89.574376                4.207261   \n",
       "14145                87.724007                4.177943   \n",
       "14146                88.890579                4.050010   \n",
       "14147                89.858126                3.902494   \n",
       "14148                89.514960                3.925473   \n",
       "\n",
       "       rougher.output.tail_pb  rougher.output.tail_sol  \\\n",
       "19                   0.739863                20.309714   \n",
       "22                   0.705108                20.397352   \n",
       "30                   0.714497                21.003984   \n",
       "45                   0.818965                20.046797   \n",
       "46                   0.891051                19.633741   \n",
       "...                       ...                      ...   \n",
       "14144                0.612935                16.666590   \n",
       "14145                0.650557                16.960649   \n",
       "14146                0.636095                18.323080   \n",
       "14147                0.625609                19.423740   \n",
       "14148                0.638677                19.946673   \n",
       "\n",
       "       rougher.output.tail_au  rougher.state.floatbank10_a_air  \\\n",
       "19                   1.369732                       999.708593   \n",
       "22                   1.157287                      1000.107388   \n",
       "30                   1.156424                       999.750176   \n",
       "45                   1.939811                       999.026619   \n",
       "46                   2.087628                       999.846655   \n",
       "...                       ...                              ...   \n",
       "14144                0.748633                      1199.245914   \n",
       "14145                0.771582                      1196.569267   \n",
       "14146                0.685059                      1204.866639   \n",
       "14147                0.567130                      1201.904177   \n",
       "14148                0.586439                      1196.238112   \n",
       "\n",
       "       rougher.state.floatbank10_a_level  rougher.state.floatbank10_b_air  \\\n",
       "19                           -400.075046                      1600.639292   \n",
       "22                           -399.263233                      1599.780054   \n",
       "30                           -399.931753                      1600.527289   \n",
       "45                           -499.850895                      1600.614880   \n",
       "46                           -500.082738                      1599.408126   \n",
       "...                                  ...                              ...   \n",
       "14144                        -300.845518                      1149.807890   \n",
       "14145                        -299.512227                      1147.675196   \n",
       "14146                        -299.235675                      1149.942902   \n",
       "14147                        -299.907308                      1154.087804   \n",
       "14148                        -299.862743                      1147.248241   \n",
       "\n",
       "       rougher.state.floatbank10_b_level  rougher.state.floatbank10_c_air  \\\n",
       "19                           -450.110961                      1602.333794   \n",
       "22                           -449.883122                      1597.621485   \n",
       "30                           -450.011008                      1600.517301   \n",
       "45                           -500.331775                      1598.654561   \n",
       "46                           -500.189249                      1598.918123   \n",
       "...                                  ...                              ...   \n",
       "14144                        -498.789721                      1047.963596   \n",
       "14145                        -500.608341                      1048.565741   \n",
       "14146                        -501.717903                      1049.604390   \n",
       "14147                        -500.036580                      1054.009756   \n",
       "14148                        -500.363165                      1047.279065   \n",
       "\n",
       "       rougher.state.floatbank10_c_level  rougher.state.floatbank10_d_air  \\\n",
       "19                           -450.673170                      1600.427078   \n",
       "22                           -450.022545                      1605.906830   \n",
       "30                           -450.379779                      1603.804224   \n",
       "45                           -500.364377                      1398.394100   \n",
       "46                           -498.775979                      1398.970429   \n",
       "...                                  ...                              ...   \n",
       "14144                        -498.413079                       946.640977   \n",
       "14145                        -500.932810                       949.773589   \n",
       "14146                        -500.549053                       952.702732   \n",
       "14147                        -500.237335                       944.138793   \n",
       "14148                        -500.354091                       948.756608   \n",
       "\n",
       "       rougher.state.floatbank10_d_level  rougher.state.floatbank10_e_air  \\\n",
       "19                           -449.633484                      1401.859581   \n",
       "22                           -449.026683                      1400.871116   \n",
       "30                           -450.250299                      1402.769232   \n",
       "45                           -501.540155                      1197.182011   \n",
       "46                           -500.939255                      1198.632079   \n",
       "...                                  ...                              ...   \n",
       "14144                        -499.152477                       849.664935   \n",
       "14145                        -500.023144                       848.515225   \n",
       "14146                        -502.352296                       849.016017   \n",
       "14147                        -496.866953                       851.589767   \n",
       "14148                        -498.439416                       849.441918   \n",
       "\n",
       "       rougher.state.floatbank10_e_level  rougher.state.floatbank10_f_air  \\\n",
       "19                           -448.145152                      1400.906088   \n",
       "22                           -449.902838                      1400.723107   \n",
       "30                           -447.699241                      1401.919470   \n",
       "45                           -500.205806                      1198.542180   \n",
       "46                           -501.344435                      1198.715369   \n",
       "...                                  ...                              ...   \n",
       "14144                        -499.214461                       849.758091   \n",
       "14145                        -500.289405                       850.013123   \n",
       "14146                        -500.505677                       850.455635   \n",
       "14147                        -499.040466                       851.345606   \n",
       "14148                        -499.255503                       850.112246   \n",
       "\n",
       "       rougher.state.floatbank10_f_level  secondary_cleaner.output.tail_ag  \\\n",
       "19                           -451.771497                         12.708557   \n",
       "22                           -449.651567                         11.523559   \n",
       "30                           -451.025028                         12.403678   \n",
       "45                           -499.648335                         13.605154   \n",
       "46                           -500.311765                         13.130989   \n",
       "...                                  ...                               ...   \n",
       "14144                        -497.448664                          0.000000   \n",
       "14145                        -496.822119                          0.000000   \n",
       "14146                        -506.897968                          0.000000   \n",
       "14147                        -499.122561                          0.000000   \n",
       "14148                        -499.407112                          0.000000   \n",
       "\n",
       "       secondary_cleaner.output.tail_pb  secondary_cleaner.output.tail_sol  \\\n",
       "19                             4.565723                           9.997717   \n",
       "22                             4.466500                          10.776495   \n",
       "30                             5.121716                          11.185081   \n",
       "45                             4.983564                           9.545239   \n",
       "46                             5.043644                           9.734058   \n",
       "...                                 ...                                ...   \n",
       "14144                          0.000000                           0.000000   \n",
       "14145                          0.000000                           0.000000   \n",
       "14146                          0.000000                           0.000000   \n",
       "14147                          0.000000                           0.000000   \n",
       "14148                          0.000000                           0.000000   \n",
       "\n",
       "       secondary_cleaner.output.tail_au  \\\n",
       "19                             2.138772   \n",
       "22                             2.018144   \n",
       "30                             2.216077   \n",
       "45                             3.102137   \n",
       "46                             2.920315   \n",
       "...                                 ...   \n",
       "14144                          0.000000   \n",
       "14145                          0.000000   \n",
       "14146                          0.000000   \n",
       "14147                          0.000000   \n",
       "14148                          0.000000   \n",
       "\n",
       "       secondary_cleaner.state.floatbank2_a_air  \\\n",
       "19                                    25.999540   \n",
       "22                                    25.979270   \n",
       "30                                    25.942168   \n",
       "45                                    25.963860   \n",
       "46                                    25.946448   \n",
       "...                                         ...   \n",
       "14144                                 35.043205   \n",
       "14145                                 35.026062   \n",
       "14146                                 35.003586   \n",
       "14147                                 34.980742   \n",
       "14148                                 34.940919   \n",
       "\n",
       "       secondary_cleaner.state.floatbank2_a_level  \\\n",
       "19                                    -500.152462   \n",
       "22                                    -499.922901   \n",
       "30                                    -500.100481   \n",
       "45                                    -498.097243   \n",
       "46                                    -502.052990   \n",
       "...                                           ...   \n",
       "14144                                 -499.045671   \n",
       "14145                                 -499.891945   \n",
       "14146                                 -501.083794   \n",
       "14147                                 -498.131002   \n",
       "14148                                 -500.150510   \n",
       "\n",
       "       secondary_cleaner.state.floatbank2_b_air  \\\n",
       "19                                    24.013000   \n",
       "22                                    24.039935   \n",
       "30                                    24.040606   \n",
       "45                                    23.896954   \n",
       "46                                    23.903017   \n",
       "...                                         ...   \n",
       "14144                                 29.906659   \n",
       "14145                                 29.921795   \n",
       "14146                                 29.990533   \n",
       "14147                                 29.968453   \n",
       "14148                                 30.031867   \n",
       "\n",
       "       secondary_cleaner.state.floatbank2_b_level  \\\n",
       "19                                    -500.297031   \n",
       "22                                    -499.368998   \n",
       "30                                    -499.449996   \n",
       "45                                    -500.047419   \n",
       "46                                    -500.245612   \n",
       "...                                           ...   \n",
       "14144                                 -499.979939   \n",
       "14145                                 -499.949663   \n",
       "14146                                 -611.855898   \n",
       "14147                                 -586.013330   \n",
       "14148                                 -500.328335   \n",
       "\n",
       "       secondary_cleaner.state.floatbank3_a_air  \\\n",
       "19                                    24.022240   \n",
       "22                                    24.027888   \n",
       "30                                    25.013290   \n",
       "45                                    24.963926   \n",
       "46                                    25.029826   \n",
       "...                                         ...   \n",
       "14144                                 26.002402   \n",
       "14145                                 26.031747   \n",
       "14146                                 25.948429   \n",
       "14147                                 25.971737   \n",
       "14148                                 26.033990   \n",
       "\n",
       "       secondary_cleaner.state.floatbank3_a_level  \\\n",
       "19                                    -499.329964   \n",
       "22                                    -501.291317   \n",
       "30                                    -500.208164   \n",
       "45                                    -500.207267   \n",
       "46                                    -499.896144   \n",
       "...                                           ...   \n",
       "14144                                 -499.953431   \n",
       "14145                                 -500.384612   \n",
       "14146                                 -500.067268   \n",
       "14147                                 -499.608392   \n",
       "14148                                 -500.147792   \n",
       "\n",
       "       secondary_cleaner.state.floatbank3_b_air  \\\n",
       "19                                    24.012891   \n",
       "22                                    23.994020   \n",
       "30                                    23.988862   \n",
       "45                                    23.984937   \n",
       "46                                    23.963950   \n",
       "...                                         ...   \n",
       "14144                                 22.987238   \n",
       "14145                                 22.991058   \n",
       "14146                                 22.968268   \n",
       "14147                                 22.958448   \n",
       "14148                                 22.952306   \n",
       "\n",
       "       secondary_cleaner.state.floatbank3_b_level  \\\n",
       "19                                    -499.923981   \n",
       "22                                    -499.715395   \n",
       "30                                    -500.062470   \n",
       "45                                    -500.613261   \n",
       "46                                    -499.786821   \n",
       "...                                           ...   \n",
       "14144                                 -499.967351   \n",
       "14145                                 -500.079590   \n",
       "14146                                 -499.839442   \n",
       "14147                                 -499.821308   \n",
       "14148                                 -500.037678   \n",
       "\n",
       "       secondary_cleaner.state.floatbank4_a_air  \\\n",
       "19                                    14.001632   \n",
       "22                                    13.943970   \n",
       "30                                    13.981220   \n",
       "45                                    14.025588   \n",
       "46                                    14.094808   \n",
       "...                                         ...   \n",
       "14144                                 23.031497   \n",
       "14145                                 22.960095   \n",
       "14146                                 23.015718   \n",
       "14147                                 23.024963   \n",
       "14148                                 23.018622   \n",
       "\n",
       "       secondary_cleaner.state.floatbank4_a_level  \\\n",
       "19                                    -509.808331   \n",
       "22                                    -541.642068   \n",
       "30                                    -551.189582   \n",
       "45                                    -550.404242   \n",
       "46                                    -550.676337   \n",
       "...                                           ...   \n",
       "14144                                 -501.167942   \n",
       "14145                                 -501.612783   \n",
       "14146                                 -501.711599   \n",
       "14147                                 -501.153409   \n",
       "14148                                 -500.492702   \n",
       "\n",
       "       secondary_cleaner.state.floatbank4_b_air  \\\n",
       "19                                    12.087669   \n",
       "22                                    11.993920   \n",
       "30                                    12.004777   \n",
       "45                                    12.028925   \n",
       "46                                    12.004728   \n",
       "...                                         ...   \n",
       "14144                                 20.007571   \n",
       "14145                                 20.035660   \n",
       "14146                                 19.951231   \n",
       "14147                                 20.054122   \n",
       "14148                                 20.020205   \n",
       "\n",
       "       secondary_cleaner.state.floatbank4_b_level  \\\n",
       "19                                    -510.782166   \n",
       "22                                    -550.493894   \n",
       "30                                    -549.974630   \n",
       "45                                    -550.570104   \n",
       "46                                    -550.496522   \n",
       "...                                           ...   \n",
       "14144                                 -499.740028   \n",
       "14145                                 -500.251357   \n",
       "14146                                 -499.857027   \n",
       "14147                                 -500.314711   \n",
       "14148                                 -500.220296   \n",
       "\n",
       "       secondary_cleaner.state.floatbank5_a_air  \\\n",
       "19                                    10.032043   \n",
       "22                                     9.985232   \n",
       "30                                     9.969535   \n",
       "45                                    10.052072   \n",
       "46                                     9.953139   \n",
       "...                                         ...   \n",
       "14144                                 18.006038   \n",
       "14145                                 17.998535   \n",
       "14146                                 18.019543   \n",
       "14147                                 17.979515   \n",
       "14148                                 17.963512   \n",
       "\n",
       "       secondary_cleaner.state.floatbank5_a_level  \\\n",
       "19                                    -499.128183   \n",
       "22                                    -499.796583   \n",
       "30                                    -499.350934   \n",
       "45                                    -500.797905   \n",
       "46                                    -500.330920   \n",
       "...                                           ...   \n",
       "14144                                 -499.834374   \n",
       "14145                                 -500.395178   \n",
       "14146                                 -500.451156   \n",
       "14147                                 -499.272871   \n",
       "14148                                 -499.939490   \n",
       "\n",
       "       secondary_cleaner.state.floatbank5_b_air  \\\n",
       "19                                     8.016140   \n",
       "22                                     7.985524   \n",
       "30                                     8.017975   \n",
       "45                                     7.984500   \n",
       "46                                     8.012074   \n",
       "...                                         ...   \n",
       "14144                                 13.001114   \n",
       "14145                                 12.954048   \n",
       "14146                                 13.023431   \n",
       "14147                                 12.992404   \n",
       "14148                                 12.990306   \n",
       "\n",
       "       secondary_cleaner.state.floatbank5_b_level  \\\n",
       "19                                    -499.806844   \n",
       "22                                    -499.872153   \n",
       "30                                    -500.620850   \n",
       "45                                    -499.581046   \n",
       "46                                    -500.133530   \n",
       "...                                           ...   \n",
       "14144                                 -500.155694   \n",
       "14145                                 -499.895163   \n",
       "14146                                 -499.914391   \n",
       "14147                                 -499.976268   \n",
       "14148                                 -500.080993   \n",
       "\n",
       "       secondary_cleaner.state.floatbank6_a_air  \\\n",
       "19                                    13.949790   \n",
       "22                                    13.973257   \n",
       "30                                    11.999969   \n",
       "45                                    11.982025   \n",
       "46                                    11.975316   \n",
       "...                                         ...   \n",
       "14144                                 20.007840   \n",
       "14145                                 19.968498   \n",
       "14146                                 19.990885   \n",
       "14147                                 20.013986   \n",
       "14148                                 19.990336   \n",
       "\n",
       "       secondary_cleaner.state.floatbank6_a_level  \n",
       "19                                    -600.140776  \n",
       "22                                    -600.054998  \n",
       "30                                    -600.315548  \n",
       "45                                    -599.161228  \n",
       "46                                    -598.839683  \n",
       "...                                           ...  \n",
       "14144                                 -501.296428  \n",
       "14145                                 -501.041608  \n",
       "14146                                 -501.518452  \n",
       "14147                                 -500.625471  \n",
       "14148                                 -499.191575  \n",
       "\n",
       "[732 rows x 87 columns]"
      ]
     },
     "execution_count": 37,
     "metadata": {},
     "output_type": "execute_result"
    }
   ],
   "source": [
    "gold_recovery_train.loc[(gold_recovery_train[gold_recovery_train.columns] == 0).any(axis=1)]"
   ]
  },
  {
   "cell_type": "code",
   "execution_count": 38,
   "metadata": {},
   "outputs": [],
   "source": [
    "gold_recovery_train = gold_recovery_train.loc[(gold_recovery_train[gold_recovery_train.columns] != 0).any(axis=1)]"
   ]
  },
  {
   "cell_type": "raw",
   "metadata": {},
   "source": [
    "an_Indexes = gold_recovery_train[(gold_recovery_train['base.all.materials'] == 0) | (gold_recovery_train['rougher.all.materials'] == 0)\n",
    "                                    | (gold_recovery_train['primary.all.materials'] == 0) | (gold_recovery_train['final.all.materials'] == 0)]\n",
    "gold_recovery_train.drop(an_Indexes.index, inplace=True)"
   ]
  },
  {
   "cell_type": "markdown",
   "metadata": {},
   "source": [
    "## Модель"
   ]
  },
  {
   "cell_type": "markdown",
   "metadata": {},
   "source": [
    "### Напишите функцию для вычисления итоговой sMAPE."
   ]
  },
  {
   "attachments": {
    "image-2.png": {
     "image/png": "[encoded data removed]"
    },
    "image.png": {
     "image/png": "[encoded data removed]"
    }
   },
   "cell_type": "markdown",
   "metadata": {},
   "source": [
    "Формулы метрик качества:\n",
    "\n",
    "![image.png](attachment:image.png)\n",
    "\n",
    "![image-2.png](attachment:image-2.png)"
   ]
  },
  {
   "cell_type": "code",
   "execution_count": 39,
   "metadata": {
    "scrolled": true
   },
   "outputs": [],
   "source": [
    "def total_sMAPE_calculation(target, predictions):\n",
    "    target1 = target.to_numpy()\n",
    "    predictions1 = predictions\n",
    "    target_rougher = list()\n",
    "    predictions_rougher = list()\n",
    "    target_final = list()\n",
    "    predictions_final = list()\n",
    "\n",
    "    summa_rougher = 0\n",
    "    summa_final = 0\n",
    "\n",
    "    for i in range(len(target1)):\n",
    "        target_rougher.append(target1[i][0])\n",
    "        target_final.append(target1[i][1])\n",
    "        predictions_rougher.append(predictions1[i][0])\n",
    "        predictions_final.append(predictions1[i][1])\n",
    "\n",
    "    y_pred = np.array(predictions_rougher)\n",
    "#     print(y_pred)\n",
    "    y_true = np.array(target_rougher)\n",
    "#     print(y_true)\n",
    "    sMAPE_rougher = 2.0 * np.nanmean(np.abs(y_pred - y_true) / (np.abs(y_pred) + np.abs(y_true))) * 100\n",
    "#     print(sMAPE_rougher)\n",
    "\n",
    "    y_pred = np.array(predictions_final)\n",
    "#     print(y_pred)\n",
    "    y_true = np.array(target_final)\n",
    "#     print(target_final)\n",
    "    sMAPE_final = 2.0 * np.nanmean(np.abs(y_pred - y_true) / (np.abs(y_pred) + np.abs(y_true))) * 100\n",
    "#     print(sMAPE_final)\n",
    "\n",
    "    total_sMAPE = (0.25 * sMAPE_rougher) + (0.75 * sMAPE_final)\n",
    "    return total_sMAPE"
   ]
  },
  {
   "cell_type": "markdown",
   "metadata": {},
   "source": [
    "### Обучите разные модели и оцените их качество кросс-валидацией. Выберите лучшую модель и проверьте её на тестовой выборке. Опишите выводы."
   ]
  },
  {
   "cell_type": "markdown",
   "metadata": {},
   "source": [
    "Нужно спрогнозировать сразу две величины:\n",
    "\n",
    "- эффективность обогащения чернового концентрата rougher.output.recovery;\n",
    "\n",
    "- эффективность обогащения финального концентрата final.output.recovery."
   ]
  },
  {
   "cell_type": "code",
   "execution_count": 40,
   "metadata": {},
   "outputs": [
    {
     "data": {
      "text/plain": [
       "['final.output.concentrate_ag',\n",
       " 'final.output.concentrate_pb',\n",
       " 'final.output.concentrate_sol',\n",
       " 'final.output.concentrate_au',\n",
       " 'final.output.recovery',\n",
       " 'final.output.tail_ag',\n",
       " 'final.output.tail_pb',\n",
       " 'final.output.tail_sol',\n",
       " 'final.output.tail_au',\n",
       " 'primary_cleaner.output.concentrate_ag',\n",
       " 'primary_cleaner.output.concentrate_pb',\n",
       " 'primary_cleaner.output.concentrate_sol',\n",
       " 'primary_cleaner.output.concentrate_au',\n",
       " 'primary_cleaner.output.tail_ag',\n",
       " 'primary_cleaner.output.tail_pb',\n",
       " 'primary_cleaner.output.tail_sol',\n",
       " 'primary_cleaner.output.tail_au',\n",
       " 'rougher.calculation.sulfate_to_au_concentrate',\n",
       " 'rougher.calculation.floatbank10_sulfate_to_au_feed',\n",
       " 'rougher.calculation.floatbank11_sulfate_to_au_feed',\n",
       " 'rougher.calculation.au_pb_ratio',\n",
       " 'rougher.output.concentrate_ag',\n",
       " 'rougher.output.concentrate_pb',\n",
       " 'rougher.output.concentrate_sol',\n",
       " 'rougher.output.concentrate_au',\n",
       " 'rougher.output.recovery',\n",
       " 'rougher.output.tail_ag',\n",
       " 'rougher.output.tail_pb',\n",
       " 'rougher.output.tail_sol',\n",
       " 'rougher.output.tail_au',\n",
       " 'secondary_cleaner.output.tail_ag',\n",
       " 'secondary_cleaner.output.tail_pb',\n",
       " 'secondary_cleaner.output.tail_sol',\n",
       " 'secondary_cleaner.output.tail_au']"
      ]
     },
     "execution_count": 40,
     "metadata": {},
     "output_type": "execute_result"
    }
   ],
   "source": [
    "nedostupnie"
   ]
  },
  {
   "cell_type": "code",
   "execution_count": 41,
   "metadata": {},
   "outputs": [],
   "source": [
    "df = gold_recovery_train\n",
    "target_train = df[['rougher.output.recovery', 'final.output.recovery']]\n",
    "df = df.drop(nedostupnie, axis = 1)\n",
    "features_train = df.drop(['date'], axis = 1)"
   ]
  },
  {
   "cell_type": "code",
   "execution_count": 42,
   "metadata": {},
   "outputs": [],
   "source": [
    "# features_train, features_valid, target_train, target_valid = train_test_split(features, target, test_size = 0.25, random_state = 12345)"
   ]
  },
  {
   "cell_type": "code",
   "execution_count": 43,
   "metadata": {},
   "outputs": [
    {
     "name": "stdout",
     "output_type": "stream",
     "text": [
      "Размеры тренировочной выборки:\n",
      "(11017, 52)\n",
      "(11017, 2)\n"
     ]
    }
   ],
   "source": [
    "print('Размеры тренировочной выборки:')\n",
    "print(features_train.shape)\n",
    "print(target_train.shape)"
   ]
  },
  {
   "cell_type": "code",
   "execution_count": 44,
   "metadata": {
    "scrolled": true
   },
   "outputs": [
    {
     "name": "stdout",
     "output_type": "stream",
     "text": [
      "Скаляризация - уравновешивание признаков...\n"
     ]
    }
   ],
   "source": [
    "print('Скаляризация - уравновешивание признаков...')\n",
    "\n",
    "scaler = StandardScaler()\n",
    "\n",
    "features_train = scaler.fit_transform(features_train)"
   ]
  },
  {
   "cell_type": "code",
   "execution_count": 45,
   "metadata": {},
   "outputs": [],
   "source": [
    "sMAPE_scorer = make_scorer(total_sMAPE_calculation, greater_is_better=False)"
   ]
  },
  {
   "cell_type": "markdown",
   "metadata": {},
   "source": [
    "***Модель LinearRegression***"
   ]
  },
  {
   "cell_type": "code",
   "execution_count": 46,
   "metadata": {},
   "outputs": [],
   "source": [
    "model1 = LinearRegression()\n",
    "model1.fit(features_train, target_train.sort_index())\n",
    "predictions_train = model1.predict(features_train)"
   ]
  },
  {
   "cell_type": "code",
   "execution_count": 47,
   "metadata": {},
   "outputs": [
    {
     "name": "stdout",
     "output_type": "stream",
     "text": [
      "Средняя оценка качества модели (итоговый sMAPE):\n",
      "-10.290896728293244\n"
     ]
    }
   ],
   "source": [
    "print('Средняя оценка качества модели (итоговый sMAPE):')\n",
    "print(cross_val_score(model1, features_train, target_train.sort_index(), scoring=sMAPE_scorer, cv=5).sum() / 5)"
   ]
  },
  {
   "cell_type": "markdown",
   "metadata": {},
   "source": []
  },
  {
   "cell_type": "markdown",
   "metadata": {},
   "source": [
    "***Модель DecisionTreeRegressor***"
   ]
  },
  {
   "cell_type": "code",
   "execution_count": 48,
   "metadata": {},
   "outputs": [],
   "source": [
    "model2 = DecisionTreeRegressor(random_state = 12345)\n",
    "model2.fit(features_train, target_train.sort_index())\n",
    "predictions_train = model2.predict(features_train)"
   ]
  },
  {
   "cell_type": "code",
   "execution_count": 49,
   "metadata": {
    "scrolled": false
   },
   "outputs": [
    {
     "name": "stdout",
     "output_type": "stream",
     "text": [
      "Средняя оценка качества модели (итоговый sMAPE):\n",
      "-17.90605373619217\n"
     ]
    }
   ],
   "source": [
    "print('Средняя оценка качества модели (итоговый sMAPE):')\n",
    "print(cross_val_score(model2, features_train, target_train.sort_index(), scoring=sMAPE_scorer, cv=5).sum() / 5)"
   ]
  },
  {
   "cell_type": "markdown",
   "metadata": {},
   "source": [
    "***Модель RandomForestRegressor***"
   ]
  },
  {
   "cell_type": "code",
   "execution_count": 50,
   "metadata": {},
   "outputs": [],
   "source": [
    "parametrs = {'n_estimators': range (1, 5, 2),\n",
    "              'max_depth': range (1, 7, 2),\n",
    "              'min_samples_leaf': range (1, 4),\n",
    "              'min_samples_split': range (2,6,2)}"
   ]
  },
  {
   "cell_type": "code",
   "execution_count": 51,
   "metadata": {
    "scrolled": true
   },
   "outputs": [
    {
     "data": {
      "text/plain": [
       "{'max_depth': 3,\n",
       " 'min_samples_leaf': 1,\n",
       " 'min_samples_split': 2,\n",
       " 'n_estimators': 3}"
      ]
     },
     "execution_count": 51,
     "metadata": {},
     "output_type": "execute_result"
    }
   ],
   "source": [
    "model3 = RandomForestRegressor(random_state=12345)\n",
    "model3.fit(features_train, target_train.sort_index())\n",
    "predictions_train = model3.predict(features_train)\n",
    "\n",
    "grid = GridSearchCV(model3, parametrs, cv=5)\n",
    "grid.fit(features_train, target_train.sort_index())\n",
    "grid.best_params_"
   ]
  },
  {
   "cell_type": "markdown",
   "metadata": {},
   "source": [
    "👍"
   ]
  },
  {
   "cell_type": "code",
   "execution_count": 52,
   "metadata": {},
   "outputs": [],
   "source": [
    "model4 = RandomForestRegressor(random_state=12345, max_depth = 1, min_samples_leaf = 1, min_samples_split = 2, n_estimators = 3)\n",
    "model4.fit(features_train, target_train.sort_index())\n",
    "predictions_train = model4.predict(features_train)"
   ]
  },
  {
   "cell_type": "code",
   "execution_count": 53,
   "metadata": {
    "scrolled": true
   },
   "outputs": [
    {
     "name": "stdout",
     "output_type": "stream",
     "text": [
      "Средняя оценка качества модели (итоговый sMAPE):\n",
      "-9.540062894780077\n"
     ]
    }
   ],
   "source": [
    "print('Средняя оценка качества модели (итоговый sMAPE):')\n",
    "print(cross_val_score(model4, features_train, target_train.sort_index(), scoring=sMAPE_scorer, cv=5).sum() / 5)"
   ]
  },
  {
   "cell_type": "markdown",
   "metadata": {},
   "source": [
    "***Выбор лучшей модели и ее проверка***"
   ]
  },
  {
   "cell_type": "markdown",
   "metadata": {},
   "source": [
    "Я явно сделал что-то не то, так как все модели вышли фигово...\n",
    "\n",
    "Жду Ваших замечаний по поводу проекта, исправлений, как я понимаю, будет много))"
   ]
  },
  {
   "cell_type": "code",
   "execution_count": 54,
   "metadata": {},
   "outputs": [],
   "source": [
    "from sklearn.dummy import DummyRegressor"
   ]
  },
  {
   "cell_type": "markdown",
   "metadata": {},
   "source": [
    "Значение для обучающей выборки, как я понимаю, здесь мы получаем значение total_sMAPE, которое мы получим, если заменима все значения медианами"
   ]
  },
  {
   "cell_type": "code",
   "execution_count": 55,
   "metadata": {},
   "outputs": [
    {
     "name": "stdout",
     "output_type": "stream",
     "text": [
      "-10.259372061463598\n"
     ]
    }
   ],
   "source": [
    "model_check = DummyRegressor(strategy = 'median')\n",
    "model_check.fit(features_train, target_train)\n",
    "print(cross_val_score(model_check, features_train, target_train.sort_index(), scoring=sMAPE_scorer, cv=5).sum() / 5)"
   ]
  },
  {
   "cell_type": "markdown",
   "metadata": {},
   "source": [
    "Проверка \"лучшей\" модели на тестовой выборке"
   ]
  },
  {
   "cell_type": "code",
   "execution_count": 56,
   "metadata": {},
   "outputs": [],
   "source": [
    "def total_sMAPE_calculation(target, predictions):\n",
    "    target1 = target\n",
    "    predictions1 = predictions\n",
    "    target_rougher = list()\n",
    "    predictions_rougher = list()\n",
    "    target_final = list()\n",
    "    predictions_final = list()\n",
    "\n",
    "    summa_rougher = 0\n",
    "    summa_final = 0\n",
    "\n",
    "    for i in range(len(target1)):\n",
    "        target_rougher.append(target1[i][0])\n",
    "        target_final.append(target1[i][1])\n",
    "        predictions_rougher.append(predictions1[i][0])\n",
    "        predictions_final.append(predictions1[i][1])\n",
    "\n",
    "    y_pred = np.array(predictions_rougher)\n",
    "#     print(y_pred)\n",
    "    y_true = np.array(target_rougher)\n",
    "#     print(y_true)\n",
    "    sMAPE_rougher = 2.0 * np.nanmean(np.abs(y_pred - y_true) / (np.abs(y_pred) + np.abs(y_true))) * 100\n",
    "#     print(sMAPE_rougher)\n",
    "\n",
    "    y_pred = np.array(predictions_final)\n",
    "#     print(y_pred)\n",
    "    y_true = np.array(target_final)\n",
    "#     print(target_final)\n",
    "    sMAPE_final = 2.0 * np.nanmean(np.abs(y_pred - y_true) / (np.abs(y_pred) + np.abs(y_true))) * 100\n",
    "#     print(sMAPE_final)\n",
    "\n",
    "    total_sMAPE = (0.25 * sMAPE_rougher) + (0.75 * sMAPE_final)\n",
    "    return total_sMAPE"
   ]
  },
  {
   "cell_type": "code",
   "execution_count": 57,
   "metadata": {},
   "outputs": [],
   "source": [
    "sMAPE_scorer = make_scorer(total_sMAPE_calculation, greater_is_better=False)"
   ]
  },
  {
   "cell_type": "code",
   "execution_count": 58,
   "metadata": {},
   "outputs": [
    {
     "name": "stdout",
     "output_type": "stream",
     "text": [
      "-52.90100284123088\n"
     ]
    }
   ],
   "source": [
    "features_test = gold_recovery_test.drop(['date'], axis=1)\n",
    "predictions_test = model1.predict(features_test)\n",
    "print(cross_val_score(model_check, features_test, predictions_test, scoring=sMAPE_scorer, cv=5).sum() / 5)"
   ]
  },
  {
   "cell_type": "raw",
   "metadata": {},
   "source": [
    "targets_to_join = data_full[['date', 'final.output.recovery', 'rougher.output.recovery']].copy()\n",
    "data_test = data_test.join(targets_to_join.set_index('date'), on='date')"
   ]
  },
  {
   "cell_type": "code",
   "execution_count": 59,
   "metadata": {},
   "outputs": [],
   "source": [
    "# targets_to_join = gold_recovery_full[['date', 'final.output.recovery', 'rougher.output.recovery']].copy()\n",
    "# data_test = gold_recovery_test.join(targets_to_join.set_index('date'), on='date')"
   ]
  },
  {
   "cell_type": "code",
   "execution_count": 60,
   "metadata": {},
   "outputs": [],
   "source": [
    "# data_test.head(3)"
   ]
  },
  {
   "cell_type": "markdown",
   "metadata": {},
   "source": [
    "В полученном data_test есть NaNы по индексам, их необходимо удалить"
   ]
  },
  {
   "cell_type": "code",
   "execution_count": 61,
   "metadata": {},
   "outputs": [],
   "source": [
    "targets_to_join = gold_recovery_full[['date', 'final.output.recovery', 'rougher.output.recovery']].copy()\n",
    "data_test = gold_recovery_test.merge(targets_to_join, on='date')"
   ]
  },
  {
   "cell_type": "code",
   "execution_count": 62,
   "metadata": {},
   "outputs": [],
   "source": [
    "data_test\n",
    "indexes = data_test.loc[(data_test[data_test.columns].isna() == True).any(axis=1)]\n",
    "# data_test.drop(data_test.index[list(indexes.index)], inplace=True)"
   ]
  },
  {
   "cell_type": "code",
   "execution_count": 63,
   "metadata": {},
   "outputs": [],
   "source": [
    "targets_test = data_test[['final.output.recovery', 'rougher.output.recovery']]\n",
    "features_t_test = data_test.drop(['date', 'final.output.recovery', 'rougher.output.recovery'], axis=1)"
   ]
  },
  {
   "cell_type": "code",
   "execution_count": 64,
   "metadata": {},
   "outputs": [],
   "source": [
    "targets_test_dropped = targets_test.drop(targets_test.index[list(indexes.index)], axis = 0)\n",
    "features_t_test_dropped = features_t_test.drop(features_t_test.index[list(indexes.index)], axis = 0)"
   ]
  },
  {
   "cell_type": "code",
   "execution_count": 65,
   "metadata": {
    "scrolled": true
   },
   "outputs": [
    {
     "data": {
      "text/html": [
       "<div>\n",
       "<style scoped>\n",
       "    .dataframe tbody tr th:only-of-type {\n",
       "        vertical-align: middle;\n",
       "    }\n",
       "\n",
       "    .dataframe tbody tr th {\n",
       "        vertical-align: top;\n",
       "    }\n",
       "\n",
       "    .dataframe thead th {\n",
       "        text-align: right;\n",
       "    }\n",
       "</style>\n",
       "<table border=\"1\" class=\"dataframe\">\n",
       "  <thead>\n",
       "    <tr style=\"text-align: right;\">\n",
       "      <th></th>\n",
       "      <th>final.output.recovery</th>\n",
       "      <th>rougher.output.recovery</th>\n",
       "    </tr>\n",
       "  </thead>\n",
       "  <tbody>\n",
       "    <tr>\n",
       "      <td>0</td>\n",
       "      <td>70.273583</td>\n",
       "      <td>89.993421</td>\n",
       "    </tr>\n",
       "    <tr>\n",
       "      <td>1</td>\n",
       "      <td>68.910432</td>\n",
       "      <td>88.089657</td>\n",
       "    </tr>\n",
       "    <tr>\n",
       "      <td>2</td>\n",
       "      <td>68.143213</td>\n",
       "      <td>88.412756</td>\n",
       "    </tr>\n",
       "    <tr>\n",
       "      <td>3</td>\n",
       "      <td>67.776393</td>\n",
       "      <td>87.360133</td>\n",
       "    </tr>\n",
       "    <tr>\n",
       "      <td>4</td>\n",
       "      <td>61.467078</td>\n",
       "      <td>83.236367</td>\n",
       "    </tr>\n",
       "    <tr>\n",
       "      <td>...</td>\n",
       "      <td>...</td>\n",
       "      <td>...</td>\n",
       "    </tr>\n",
       "    <tr>\n",
       "      <td>5072</td>\n",
       "      <td>68.919891</td>\n",
       "      <td>95.172585</td>\n",
       "    </tr>\n",
       "    <tr>\n",
       "      <td>5073</td>\n",
       "      <td>68.440582</td>\n",
       "      <td>94.575036</td>\n",
       "    </tr>\n",
       "    <tr>\n",
       "      <td>5074</td>\n",
       "      <td>67.092759</td>\n",
       "      <td>93.018138</td>\n",
       "    </tr>\n",
       "    <tr>\n",
       "      <td>5075</td>\n",
       "      <td>68.061186</td>\n",
       "      <td>92.599042</td>\n",
       "    </tr>\n",
       "    <tr>\n",
       "      <td>5076</td>\n",
       "      <td>71.699976</td>\n",
       "      <td>91.177695</td>\n",
       "    </tr>\n",
       "  </tbody>\n",
       "</table>\n",
       "<p>5077 rows × 2 columns</p>\n",
       "</div>"
      ],
      "text/plain": [
       "      final.output.recovery  rougher.output.recovery\n",
       "0                 70.273583                89.993421\n",
       "1                 68.910432                88.089657\n",
       "2                 68.143213                88.412756\n",
       "3                 67.776393                87.360133\n",
       "4                 61.467078                83.236367\n",
       "...                     ...                      ...\n",
       "5072              68.919891                95.172585\n",
       "5073              68.440582                94.575036\n",
       "5074              67.092759                93.018138\n",
       "5075              68.061186                92.599042\n",
       "5076              71.699976                91.177695\n",
       "\n",
       "[5077 rows x 2 columns]"
      ]
     },
     "execution_count": 65,
     "metadata": {},
     "output_type": "execute_result"
    }
   ],
   "source": [
    "targets_test_dropped"
   ]
  },
  {
   "cell_type": "markdown",
   "metadata": {},
   "source": [
    "***Сравнение total_sMAPE***"
   ]
  },
  {
   "cell_type": "markdown",
   "metadata": {},
   "source": [
    "Симметричная процентная ошибка, если наша модель будет подставлять вместо predictов медианы."
   ]
  },
  {
   "cell_type": "code",
   "execution_count": 66,
   "metadata": {
    "scrolled": true
   },
   "outputs": [
    {
     "name": "stdout",
     "output_type": "stream",
     "text": [
      "-7.949788895116598\n"
     ]
    }
   ],
   "source": [
    "print(cross_val_score(model_check, features_t_test_dropped, targets_test_dropped.to_numpy(), scoring=sMAPE_scorer, cv=5).sum() / 5)"
   ]
  },
  {
   "cell_type": "markdown",
   "metadata": {},
   "source": [
    "Симметричная процентная ошибка при использовании модели линейной регрессии"
   ]
  },
  {
   "cell_type": "code",
   "execution_count": 67,
   "metadata": {},
   "outputs": [
    {
     "name": "stdout",
     "output_type": "stream",
     "text": [
      "-11.603061118970277\n"
     ]
    }
   ],
   "source": [
    "print(cross_val_score(model1, features_t_test_dropped, targets_test_dropped.to_numpy(), scoring=sMAPE_scorer, cv=5).sum() / 5)"
   ]
  },
  {
   "cell_type": "markdown",
   "metadata": {},
   "source": [
    "***Вывод***"
   ]
  },
  {
   "cell_type": "markdown",
   "metadata": {},
   "source": [
    "Выходит, согласно значениям total_sMAPE выбранная модель линейной регрессии работает хуже, чем подставление медианных значений на место predictов."
   ]
  },
  {
   "cell_type": "markdown",
   "metadata": {},
   "source": [
    "https://askdev.ru/q/v-chem-raznica-mezhdu-join-i-merge-v-pand-27122/"
   ]
  },
  {
   "cell_type": "markdown",
   "metadata": {},
   "source": [
    "## Чек-лист готовности проекта"
   ]
  },
  {
   "cell_type": "markdown",
   "metadata": {},
   "source": [
    "- [x]  Jupyter Notebook открыт\n",
    "- [ ]  Весь код выполняется без ошибок\n",
    "- [ ]  Ячейки с кодом расположены в порядке выполнения\n",
    "- [ ]  Выполнен шаг 1: данные подготовлены\n",
    "    - [ ]  Проверена формула вычисления эффективности обогащения\n",
    "    - [ ]  Проанализированы признаки, недоступные в тестовой выборке\n",
    "    - [ ]  Проведена предобработка данных\n",
    "- [ ]  Выполнен шаг 2: данные проанализированы\n",
    "    - [ ]  Исследовано изменение концентрации элементов на каждом этапе\n",
    "    - [ ]  Проанализированы распределения размеров гранул на обучающей и тестовой выборках\n",
    "    - [ ]  Исследованы суммарные концентрации\n",
    "- [ ]  Выполнен шаг 3: построена модель прогнозирования\n",
    "    - [ ]  Написана функция для вычисления итогового *sMAPE*\n",
    "    - [ ]  Обучено и проверено несколько моделей\n",
    "    - [ ]  Выбрана лучшая модель, её качество проверено на тестовой выборке"
   ]
  }
 ],
 "metadata": {
  "ExecuteTimeLog": [
   {
    "duration": 773,
    "start_time": "2021-11-06T08:39:38.526Z"
   },
   {
    "duration": 690,
    "start_time": "2021-11-06T08:50:40.561Z"
   },
   {
    "duration": 30,
    "start_time": "2021-11-06T08:50:56.910Z"
   },
   {
    "duration": 24,
    "start_time": "2021-11-06T08:51:26.708Z"
   },
   {
    "duration": 26,
    "start_time": "2021-11-06T08:56:19.797Z"
   },
   {
    "duration": 20,
    "start_time": "2021-11-06T11:01:50.760Z"
   },
   {
    "duration": 16,
    "start_time": "2021-11-06T11:02:26.740Z"
   },
   {
    "duration": 20,
    "start_time": "2021-11-06T11:03:47.320Z"
   },
   {
    "duration": 11,
    "start_time": "2021-11-06T11:10:00.433Z"
   },
   {
    "duration": 20,
    "start_time": "2021-11-06T11:20:23.895Z"
   },
   {
    "duration": 15,
    "start_time": "2021-11-06T11:20:36.373Z"
   },
   {
    "duration": 449,
    "start_time": "2021-11-07T08:30:01.263Z"
   },
   {
    "duration": 1238,
    "start_time": "2021-11-07T08:30:09.578Z"
   },
   {
    "duration": 901,
    "start_time": "2021-11-07T08:30:10.819Z"
   },
   {
    "duration": 34,
    "start_time": "2021-11-07T08:30:11.726Z"
   },
   {
    "duration": 47,
    "start_time": "2021-11-07T08:30:11.763Z"
   },
   {
    "duration": 31,
    "start_time": "2021-11-07T08:30:11.812Z"
   },
   {
    "duration": 16,
    "start_time": "2021-11-07T08:30:11.845Z"
   },
   {
    "duration": 58,
    "start_time": "2021-11-07T08:30:11.863Z"
   },
   {
    "duration": 25,
    "start_time": "2021-11-07T08:30:11.925Z"
   },
   {
    "duration": 6,
    "start_time": "2021-11-07T08:30:11.953Z"
   },
   {
    "duration": 5,
    "start_time": "2021-11-07T08:31:22.685Z"
   },
   {
    "duration": 6,
    "start_time": "2021-11-07T08:31:37.506Z"
   },
   {
    "duration": 7,
    "start_time": "2021-11-07T08:31:40.770Z"
   },
   {
    "duration": 4559,
    "start_time": "2021-11-07T08:36:47.173Z"
   },
   {
    "duration": 4889,
    "start_time": "2021-11-07T08:40:37.179Z"
   },
   {
    "duration": 1522,
    "start_time": "2021-11-07T08:41:02.778Z"
   },
   {
    "duration": 233,
    "start_time": "2021-11-07T08:55:26.678Z"
   },
   {
    "duration": 6,
    "start_time": "2021-11-07T09:03:23.197Z"
   },
   {
    "duration": 6,
    "start_time": "2021-11-07T09:03:40.153Z"
   },
   {
    "duration": 7,
    "start_time": "2021-11-07T09:04:16.976Z"
   },
   {
    "duration": 6,
    "start_time": "2021-11-07T09:05:32.361Z"
   },
   {
    "duration": 7,
    "start_time": "2021-11-07T09:05:54.349Z"
   },
   {
    "duration": 6,
    "start_time": "2021-11-07T09:06:02.345Z"
   },
   {
    "duration": 14,
    "start_time": "2021-11-07T09:07:31.221Z"
   },
   {
    "duration": 9,
    "start_time": "2021-11-07T09:08:16.969Z"
   },
   {
    "duration": 10,
    "start_time": "2021-11-07T09:08:29.232Z"
   },
   {
    "duration": 13,
    "start_time": "2021-11-07T09:08:52.125Z"
   },
   {
    "duration": 16,
    "start_time": "2021-11-07T09:09:40.797Z"
   },
   {
    "duration": 129,
    "start_time": "2021-11-07T12:39:37.883Z"
   },
   {
    "duration": 1662,
    "start_time": "2021-11-07T12:41:25.381Z"
   },
   {
    "duration": 397,
    "start_time": "2021-11-07T12:41:37.214Z"
   },
   {
    "duration": 4,
    "start_time": "2021-11-07T12:41:55.198Z"
   },
   {
    "duration": 352,
    "start_time": "2021-11-07T12:42:07.182Z"
   },
   {
    "duration": 84,
    "start_time": "2021-11-07T12:42:14.571Z"
   },
   {
    "duration": 39,
    "start_time": "2021-11-07T12:44:46.113Z"
   },
   {
    "duration": 78,
    "start_time": "2021-11-07T12:44:53.673Z"
   },
   {
    "duration": 104,
    "start_time": "2021-11-07T12:45:09.133Z"
   },
   {
    "duration": 45,
    "start_time": "2021-11-07T12:49:33.247Z"
   },
   {
    "duration": 31,
    "start_time": "2021-11-07T12:49:44.102Z"
   },
   {
    "duration": 74,
    "start_time": "2021-11-07T12:50:31.203Z"
   },
   {
    "duration": 31,
    "start_time": "2021-11-07T12:50:57.817Z"
   },
   {
    "duration": 30,
    "start_time": "2021-11-07T12:53:40.674Z"
   },
   {
    "duration": 23,
    "start_time": "2021-11-07T12:53:58.243Z"
   },
   {
    "duration": 17,
    "start_time": "2021-11-07T12:54:04.859Z"
   },
   {
    "duration": 25,
    "start_time": "2021-11-07T12:54:35.803Z"
   },
   {
    "duration": 18,
    "start_time": "2021-11-07T12:54:51.718Z"
   },
   {
    "duration": 9301,
    "start_time": "2021-11-07T13:05:41.094Z"
   },
   {
    "duration": 5,
    "start_time": "2021-11-07T13:06:51.072Z"
   },
   {
    "duration": 19,
    "start_time": "2021-11-07T13:06:59.621Z"
   },
   {
    "duration": 33,
    "start_time": "2021-11-07T13:07:13.902Z"
   },
   {
    "duration": 9760,
    "start_time": "2021-11-07T13:08:13.460Z"
   },
   {
    "duration": 30,
    "start_time": "2021-11-07T13:08:38.164Z"
   },
   {
    "duration": 8953,
    "start_time": "2021-11-07T13:08:50.572Z"
   },
   {
    "duration": 10656,
    "start_time": "2021-11-07T13:10:16.889Z"
   },
   {
    "duration": 26,
    "start_time": "2021-11-07T13:10:44.101Z"
   },
   {
    "duration": 26,
    "start_time": "2021-11-07T13:12:03.725Z"
   },
   {
    "duration": 25,
    "start_time": "2021-11-07T13:12:55.960Z"
   },
   {
    "duration": 26,
    "start_time": "2021-11-07T13:19:58.848Z"
   },
   {
    "duration": 21,
    "start_time": "2021-11-07T13:20:50.584Z"
   },
   {
    "duration": 24,
    "start_time": "2021-11-07T13:21:22.997Z"
   },
   {
    "duration": 11923,
    "start_time": "2021-11-07T13:21:31.525Z"
   },
   {
    "duration": 23,
    "start_time": "2021-11-07T13:22:08.128Z"
   },
   {
    "duration": 22,
    "start_time": "2021-11-07T13:22:24.378Z"
   },
   {
    "duration": 476,
    "start_time": "2021-11-07T13:25:42.696Z"
   },
   {
    "duration": 4,
    "start_time": "2021-11-07T13:26:19.592Z"
   },
   {
    "duration": 859,
    "start_time": "2021-11-07T13:26:25.193Z"
   },
   {
    "duration": 535,
    "start_time": "2021-11-07T13:28:21.191Z"
   },
   {
    "duration": 514,
    "start_time": "2021-11-07T13:29:59.990Z"
   },
   {
    "duration": 21,
    "start_time": "2021-11-07T13:30:42.188Z"
   },
   {
    "duration": 6,
    "start_time": "2021-11-07T13:30:53.089Z"
   },
   {
    "duration": 19,
    "start_time": "2021-11-07T13:31:53.709Z"
   },
   {
    "duration": 18,
    "start_time": "2021-11-07T13:31:54.527Z"
   },
   {
    "duration": 18,
    "start_time": "2021-11-07T13:31:55.345Z"
   },
   {
    "duration": 18,
    "start_time": "2021-11-07T13:31:57.211Z"
   },
   {
    "duration": 395,
    "start_time": "2021-11-07T13:35:31.598Z"
   },
   {
    "duration": 235,
    "start_time": "2021-11-07T13:35:44.861Z"
   },
   {
    "duration": 6,
    "start_time": "2021-11-07T13:37:51.805Z"
   },
   {
    "duration": 5,
    "start_time": "2021-11-07T13:38:01.906Z"
   },
   {
    "duration": 6,
    "start_time": "2021-11-07T13:39:03.197Z"
   },
   {
    "duration": 286,
    "start_time": "2021-11-07T13:43:34.850Z"
   },
   {
    "duration": 272,
    "start_time": "2021-11-07T13:43:51.464Z"
   },
   {
    "duration": 283,
    "start_time": "2021-11-07T13:44:05.283Z"
   },
   {
    "duration": 280,
    "start_time": "2021-11-07T13:44:20.046Z"
   },
   {
    "duration": 290,
    "start_time": "2021-11-07T13:44:51.503Z"
   },
   {
    "duration": 7,
    "start_time": "2021-11-07T13:45:49.837Z"
   },
   {
    "duration": 287,
    "start_time": "2021-11-07T13:46:32.682Z"
   },
   {
    "duration": 354,
    "start_time": "2021-11-07T13:46:45.004Z"
   },
   {
    "duration": 279,
    "start_time": "2021-11-07T13:47:00.436Z"
   },
   {
    "duration": 257,
    "start_time": "2021-11-07T13:47:16.657Z"
   },
   {
    "duration": 265,
    "start_time": "2021-11-07T13:47:22.320Z"
   },
   {
    "duration": 293,
    "start_time": "2021-11-07T13:47:31.207Z"
   },
   {
    "duration": 279,
    "start_time": "2021-11-07T13:47:54.326Z"
   },
   {
    "duration": 277,
    "start_time": "2021-11-07T13:48:03.062Z"
   },
   {
    "duration": 299,
    "start_time": "2021-11-07T13:48:17.196Z"
   },
   {
    "duration": 301,
    "start_time": "2021-11-07T13:48:26.416Z"
   },
   {
    "duration": 299,
    "start_time": "2021-11-07T13:48:43.383Z"
   },
   {
    "duration": 389,
    "start_time": "2021-11-07T13:49:11.797Z"
   },
   {
    "duration": 366,
    "start_time": "2021-11-07T13:49:17.261Z"
   },
   {
    "duration": 285,
    "start_time": "2021-11-07T13:49:49.157Z"
   },
   {
    "duration": 267,
    "start_time": "2021-11-07T13:50:04.121Z"
   },
   {
    "duration": 243,
    "start_time": "2021-11-07T13:50:16.454Z"
   },
   {
    "duration": 238,
    "start_time": "2021-11-07T13:50:26.940Z"
   },
   {
    "duration": 294,
    "start_time": "2021-11-07T13:50:35.298Z"
   },
   {
    "duration": 48,
    "start_time": "2021-11-07T14:18:01.783Z"
   },
   {
    "duration": 8,
    "start_time": "2021-11-07T14:18:34.668Z"
   },
   {
    "duration": 8,
    "start_time": "2021-11-07T14:18:45.342Z"
   },
   {
    "duration": 6,
    "start_time": "2021-11-07T14:21:45.775Z"
   },
   {
    "duration": 8,
    "start_time": "2021-11-07T14:21:57.851Z"
   },
   {
    "duration": 6,
    "start_time": "2021-11-07T14:22:15.385Z"
   },
   {
    "duration": 393,
    "start_time": "2021-11-07T14:45:12.361Z"
   },
   {
    "duration": 409,
    "start_time": "2021-11-07T14:45:20.386Z"
   },
   {
    "duration": 367,
    "start_time": "2021-11-07T14:45:28.961Z"
   },
   {
    "duration": 6,
    "start_time": "2021-11-07T14:45:59.254Z"
   },
   {
    "duration": 339,
    "start_time": "2021-11-07T14:46:01.887Z"
   },
   {
    "duration": 339,
    "start_time": "2021-11-07T14:46:28.848Z"
   },
   {
    "duration": 5,
    "start_time": "2021-11-07T14:46:36.871Z"
   },
   {
    "duration": 319,
    "start_time": "2021-11-07T14:46:37.796Z"
   },
   {
    "duration": 294,
    "start_time": "2021-11-07T14:46:52.218Z"
   },
   {
    "duration": 622,
    "start_time": "2021-11-07T14:46:58.923Z"
   },
   {
    "duration": 391,
    "start_time": "2021-11-07T14:47:49.936Z"
   },
   {
    "duration": 4,
    "start_time": "2021-11-07T14:47:54.442Z"
   },
   {
    "duration": 555,
    "start_time": "2021-11-07T14:47:55.282Z"
   },
   {
    "duration": 546,
    "start_time": "2021-11-07T14:47:56.037Z"
   },
   {
    "duration": 6,
    "start_time": "2021-11-07T14:48:24.761Z"
   },
   {
    "duration": 537,
    "start_time": "2021-11-07T14:48:25.490Z"
   },
   {
    "duration": 535,
    "start_time": "2021-11-07T14:48:26.878Z"
   },
   {
    "duration": 391,
    "start_time": "2021-11-07T14:48:36.799Z"
   },
   {
    "duration": 408,
    "start_time": "2021-11-07T14:48:46.624Z"
   },
   {
    "duration": 396,
    "start_time": "2021-11-07T14:52:21.441Z"
   },
   {
    "duration": 458,
    "start_time": "2021-11-07T14:52:48.507Z"
   },
   {
    "duration": 655,
    "start_time": "2021-11-07T14:52:56.421Z"
   },
   {
    "duration": 5,
    "start_time": "2021-11-07T14:54:41.444Z"
   },
   {
    "duration": 522,
    "start_time": "2021-11-07T14:54:42.353Z"
   },
   {
    "duration": 822,
    "start_time": "2021-11-07T14:55:00.220Z"
   },
   {
    "duration": 858,
    "start_time": "2021-11-07T14:55:11.260Z"
   },
   {
    "duration": 937,
    "start_time": "2021-11-07T14:55:24.640Z"
   },
   {
    "duration": 845,
    "start_time": "2021-11-07T14:55:40.292Z"
   },
   {
    "duration": 817,
    "start_time": "2021-11-07T14:55:49.201Z"
   },
   {
    "duration": 759,
    "start_time": "2021-11-07T15:06:08.430Z"
   },
   {
    "duration": 305,
    "start_time": "2021-11-07T15:06:57.437Z"
   },
   {
    "duration": 315,
    "start_time": "2021-11-07T15:07:09.675Z"
   },
   {
    "duration": 443,
    "start_time": "2021-11-07T15:07:15.568Z"
   },
   {
    "duration": 303,
    "start_time": "2021-11-07T15:07:24.928Z"
   },
   {
    "duration": 579,
    "start_time": "2021-11-07T15:07:59.116Z"
   },
   {
    "duration": 873,
    "start_time": "2021-11-07T15:08:12.245Z"
   },
   {
    "duration": 23,
    "start_time": "2021-11-07T15:15:29.320Z"
   },
   {
    "duration": 22,
    "start_time": "2021-11-07T15:15:31.619Z"
   },
   {
    "duration": 25,
    "start_time": "2021-11-07T15:15:32.150Z"
   },
   {
    "duration": 23,
    "start_time": "2021-11-07T15:15:32.618Z"
   },
   {
    "duration": 283,
    "start_time": "2021-11-07T15:15:33.217Z"
   },
   {
    "duration": 6,
    "start_time": "2021-11-07T15:15:39.282Z"
   },
   {
    "duration": 557,
    "start_time": "2021-11-07T15:15:39.951Z"
   },
   {
    "duration": 6,
    "start_time": "2021-11-07T15:15:45.044Z"
   },
   {
    "duration": 986,
    "start_time": "2021-11-07T15:15:45.601Z"
   },
   {
    "duration": 117,
    "start_time": "2021-11-07T15:17:07.486Z"
   },
   {
    "duration": 697,
    "start_time": "2021-11-07T15:17:29.861Z"
   },
   {
    "duration": 273,
    "start_time": "2021-11-07T15:17:49.419Z"
   },
   {
    "duration": 258,
    "start_time": "2021-11-07T15:19:18.215Z"
   },
   {
    "duration": 274,
    "start_time": "2021-11-07T15:20:28.091Z"
   },
   {
    "duration": 272,
    "start_time": "2021-11-07T15:21:09.062Z"
   },
   {
    "duration": 259,
    "start_time": "2021-11-07T15:21:35.647Z"
   },
   {
    "duration": 260,
    "start_time": "2021-11-07T15:21:49.476Z"
   },
   {
    "duration": 322,
    "start_time": "2021-11-07T15:22:11.837Z"
   },
   {
    "duration": 4,
    "start_time": "2021-11-07T15:29:28.570Z"
   },
   {
    "duration": 43,
    "start_time": "2021-11-07T15:51:08.963Z"
   },
   {
    "duration": 32,
    "start_time": "2021-11-07T15:51:16.164Z"
   },
   {
    "duration": 3,
    "start_time": "2021-11-07T15:51:47.014Z"
   },
   {
    "duration": 369,
    "start_time": "2021-11-07T15:52:38.640Z"
   },
   {
    "duration": 412,
    "start_time": "2021-11-07T15:52:45.709Z"
   },
   {
    "duration": 9,
    "start_time": "2021-11-07T15:54:10.919Z"
   },
   {
    "duration": 9156,
    "start_time": "2021-11-07T15:55:04.057Z"
   },
   {
    "duration": 10,
    "start_time": "2021-11-07T15:55:23.831Z"
   },
   {
    "duration": 14,
    "start_time": "2021-11-07T15:55:28.920Z"
   },
   {
    "duration": 400,
    "start_time": "2021-11-07T15:56:07.156Z"
   },
   {
    "duration": 396,
    "start_time": "2021-11-07T15:56:45.628Z"
   },
   {
    "duration": 14,
    "start_time": "2021-11-07T15:56:52.530Z"
   },
   {
    "duration": 7,
    "start_time": "2021-11-07T15:57:32.456Z"
   },
   {
    "duration": 393,
    "start_time": "2021-11-07T15:58:04.025Z"
   },
   {
    "duration": 29,
    "start_time": "2021-11-07T15:58:18.343Z"
   },
   {
    "duration": 593,
    "start_time": "2021-11-07T16:00:09.909Z"
   },
   {
    "duration": 9,
    "start_time": "2021-11-07T16:00:54.017Z"
   },
   {
    "duration": 406,
    "start_time": "2021-11-07T16:01:39.977Z"
   },
   {
    "duration": 9,
    "start_time": "2021-11-07T16:01:50.412Z"
   },
   {
    "duration": 12,
    "start_time": "2021-11-07T16:02:25.592Z"
   },
   {
    "duration": 7,
    "start_time": "2021-11-07T16:02:55.106Z"
   },
   {
    "duration": 9,
    "start_time": "2021-11-07T16:03:59.525Z"
   },
   {
    "duration": 6,
    "start_time": "2021-11-07T17:16:52.367Z"
   },
   {
    "duration": 13,
    "start_time": "2021-11-07T17:18:52.646Z"
   },
   {
    "duration": 391,
    "start_time": "2021-11-07T17:19:17.136Z"
   },
   {
    "duration": 7,
    "start_time": "2021-11-07T17:20:01.809Z"
   },
   {
    "duration": 6,
    "start_time": "2021-11-07T17:20:51.263Z"
   },
   {
    "duration": 5,
    "start_time": "2021-11-07T17:21:41.654Z"
   },
   {
    "duration": 6,
    "start_time": "2021-11-07T17:21:48.934Z"
   },
   {
    "duration": 6,
    "start_time": "2021-11-07T17:23:55.845Z"
   },
   {
    "duration": 5,
    "start_time": "2021-11-07T17:24:36.273Z"
   },
   {
    "duration": 5,
    "start_time": "2021-11-07T17:26:20.408Z"
   },
   {
    "duration": 448,
    "start_time": "2021-11-07T17:26:28.284Z"
   },
   {
    "duration": 6,
    "start_time": "2021-11-07T17:26:35.200Z"
   },
   {
    "duration": 387,
    "start_time": "2021-11-07T17:37:09.487Z"
   },
   {
    "duration": 4,
    "start_time": "2021-11-07T17:37:21.339Z"
   },
   {
    "duration": 6971,
    "start_time": "2021-11-07T17:39:30.262Z"
   },
   {
    "duration": 13,
    "start_time": "2021-11-07T17:40:26.427Z"
   },
   {
    "duration": 23,
    "start_time": "2021-11-07T17:42:33.347Z"
   },
   {
    "duration": 5,
    "start_time": "2021-11-07T17:43:03.669Z"
   },
   {
    "duration": 5,
    "start_time": "2021-11-07T17:43:12.780Z"
   },
   {
    "duration": 6,
    "start_time": "2021-11-07T17:43:21.252Z"
   },
   {
    "duration": 6,
    "start_time": "2021-11-07T17:44:49.856Z"
   },
   {
    "duration": 62,
    "start_time": "2021-11-07T17:48:51.869Z"
   },
   {
    "duration": 6,
    "start_time": "2021-11-07T17:49:01.804Z"
   },
   {
    "duration": 6,
    "start_time": "2021-11-07T17:49:26.751Z"
   },
   {
    "duration": 1787,
    "start_time": "2021-11-07T17:50:16.530Z"
   },
   {
    "duration": 127,
    "start_time": "2021-11-07T17:51:27.665Z"
   },
   {
    "duration": 62,
    "start_time": "2021-11-07T17:52:01.760Z"
   },
   {
    "duration": 6,
    "start_time": "2021-11-07T17:52:16.016Z"
   },
   {
    "duration": 6,
    "start_time": "2021-11-07T17:52:21.991Z"
   },
   {
    "duration": 63,
    "start_time": "2021-11-07T17:53:46.292Z"
   },
   {
    "duration": 5,
    "start_time": "2021-11-07T17:53:52.921Z"
   },
   {
    "duration": 55,
    "start_time": "2021-11-07T17:56:40.766Z"
   },
   {
    "duration": 6,
    "start_time": "2021-11-07T17:56:41.719Z"
   },
   {
    "duration": 65,
    "start_time": "2021-11-07T17:57:46.829Z"
   },
   {
    "duration": 5,
    "start_time": "2021-11-07T17:57:47.383Z"
   },
   {
    "duration": 64,
    "start_time": "2021-11-07T17:57:50.950Z"
   },
   {
    "duration": 5,
    "start_time": "2021-11-07T17:57:51.503Z"
   },
   {
    "duration": 63,
    "start_time": "2021-11-07T17:58:30.262Z"
   },
   {
    "duration": 6,
    "start_time": "2021-11-07T17:58:30.328Z"
   },
   {
    "duration": 61,
    "start_time": "2021-11-07T18:00:02.337Z"
   },
   {
    "duration": 6,
    "start_time": "2021-11-07T18:00:03.077Z"
   },
   {
    "duration": 68,
    "start_time": "2021-11-07T18:03:59.537Z"
   },
   {
    "duration": 69,
    "start_time": "2021-11-07T18:05:15.479Z"
   },
   {
    "duration": 47,
    "start_time": "2021-11-07T18:05:38.265Z"
   },
   {
    "duration": 367,
    "start_time": "2021-11-07T18:05:46.721Z"
   },
   {
    "duration": 6,
    "start_time": "2021-11-07T18:06:37.034Z"
   },
   {
    "duration": 11,
    "start_time": "2021-11-07T18:07:11.447Z"
   },
   {
    "duration": 40,
    "start_time": "2021-11-07T18:08:30.918Z"
   },
   {
    "duration": 9,
    "start_time": "2021-11-07T18:09:10.730Z"
   },
   {
    "duration": 9,
    "start_time": "2021-11-07T18:09:30.193Z"
   },
   {
    "duration": 397,
    "start_time": "2021-11-07T18:11:55.235Z"
   },
   {
    "duration": 5,
    "start_time": "2021-11-07T18:12:34.809Z"
   },
   {
    "duration": 3,
    "start_time": "2021-11-07T18:12:42.031Z"
   },
   {
    "duration": 355,
    "start_time": "2021-11-07T18:13:48.786Z"
   },
   {
    "duration": 5,
    "start_time": "2021-11-07T18:14:37.714Z"
   },
   {
    "duration": 2493,
    "start_time": "2021-11-07T18:14:49.221Z"
   },
   {
    "duration": 1283,
    "start_time": "2021-11-07T18:15:31.433Z"
   },
   {
    "duration": 2243,
    "start_time": "2021-11-07T18:15:42.867Z"
   },
   {
    "duration": 2080,
    "start_time": "2021-11-07T18:17:50.433Z"
   },
   {
    "duration": 2319,
    "start_time": "2021-11-07T18:19:01.499Z"
   },
   {
    "duration": 2301,
    "start_time": "2021-11-07T18:19:08.717Z"
   },
   {
    "duration": 1954,
    "start_time": "2021-11-07T18:19:55.857Z"
   },
   {
    "duration": 2295,
    "start_time": "2021-11-07T18:20:35.321Z"
   },
   {
    "duration": 6,
    "start_time": "2021-11-07T18:23:23.248Z"
   },
   {
    "duration": 384,
    "start_time": "2021-11-07T18:24:02.574Z"
   },
   {
    "duration": 417,
    "start_time": "2021-11-07T18:24:31.085Z"
   },
   {
    "duration": 414,
    "start_time": "2021-11-07T18:24:49.787Z"
   },
   {
    "duration": 3105,
    "start_time": "2021-11-07T18:25:22.105Z"
   },
   {
    "duration": 27,
    "start_time": "2021-11-07T18:28:17.522Z"
   },
   {
    "duration": 1160,
    "start_time": "2021-11-07T18:29:36.193Z"
   },
   {
    "duration": 1190,
    "start_time": "2021-11-07T18:29:55.921Z"
   },
   {
    "duration": 396,
    "start_time": "2021-11-07T18:30:22.806Z"
   },
   {
    "duration": 2215,
    "start_time": "2021-11-07T18:30:25.285Z"
   },
   {
    "duration": 420,
    "start_time": "2021-11-07T18:30:35.909Z"
   },
   {
    "duration": 576,
    "start_time": "2021-11-07T18:30:43.425Z"
   },
   {
    "duration": 2199,
    "start_time": "2021-11-07T18:30:44.004Z"
   },
   {
    "duration": 1157,
    "start_time": "2021-11-07T18:30:48.064Z"
   },
   {
    "duration": 4675,
    "start_time": "2021-11-07T18:30:49.711Z"
   },
   {
    "duration": 4527,
    "start_time": "2021-11-07T18:32:51.439Z"
   },
   {
    "duration": 1177,
    "start_time": "2021-11-07T18:33:00.564Z"
   },
   {
    "duration": 4524,
    "start_time": "2021-11-07T18:33:04.625Z"
   },
   {
    "duration": 16,
    "start_time": "2021-11-07T18:34:44.102Z"
   },
   {
    "duration": 4,
    "start_time": "2021-11-07T18:37:23.951Z"
   },
   {
    "duration": 375,
    "start_time": "2021-11-07T18:38:15.409Z"
   },
   {
    "duration": 5,
    "start_time": "2021-11-07T18:38:18.717Z"
   },
   {
    "duration": 422,
    "start_time": "2021-11-07T18:38:19.447Z"
   },
   {
    "duration": 432,
    "start_time": "2021-11-07T18:38:52.710Z"
   },
   {
    "duration": 418,
    "start_time": "2021-11-07T18:39:31.768Z"
   },
   {
    "duration": 12,
    "start_time": "2021-11-07T18:40:12.229Z"
   },
   {
    "duration": 540,
    "start_time": "2021-11-07T18:40:24.359Z"
   },
   {
    "duration": 10,
    "start_time": "2021-11-07T18:40:56.739Z"
   },
   {
    "duration": 9,
    "start_time": "2021-11-07T18:41:16.537Z"
   },
   {
    "duration": 6,
    "start_time": "2021-11-07T18:41:31.971Z"
   },
   {
    "duration": 7,
    "start_time": "2021-11-07T18:41:46.356Z"
   },
   {
    "duration": 435,
    "start_time": "2021-11-07T18:41:57.105Z"
   },
   {
    "duration": 538,
    "start_time": "2021-11-07T18:42:12.775Z"
   },
   {
    "duration": 6,
    "start_time": "2021-11-07T18:44:37.751Z"
   },
   {
    "duration": 399,
    "start_time": "2021-11-07T18:44:58.473Z"
   },
   {
    "duration": 4,
    "start_time": "2021-11-07T18:46:02.999Z"
   },
   {
    "duration": 12,
    "start_time": "2021-11-07T18:46:03.819Z"
   },
   {
    "duration": 13,
    "start_time": "2021-11-07T18:46:04.332Z"
   },
   {
    "duration": 6,
    "start_time": "2021-11-07T18:46:04.846Z"
   },
   {
    "duration": 3,
    "start_time": "2021-11-07T18:46:05.531Z"
   },
   {
    "duration": 3,
    "start_time": "2021-11-07T18:46:06.376Z"
   },
   {
    "duration": 227,
    "start_time": "2021-11-07T18:46:09.175Z"
   },
   {
    "duration": 1874,
    "start_time": "2021-11-07T18:46:09.843Z"
   },
   {
    "duration": 1263,
    "start_time": "2021-11-07T18:46:12.780Z"
   },
   {
    "duration": 4779,
    "start_time": "2021-11-07T18:46:14.046Z"
   },
   {
    "duration": 4,
    "start_time": "2021-11-07T18:46:18.828Z"
   },
   {
    "duration": 711,
    "start_time": "2021-11-07T18:46:20.510Z"
   },
   {
    "duration": 23,
    "start_time": "2021-11-07T18:46:32.907Z"
   },
   {
    "duration": 9,
    "start_time": "2021-11-07T18:47:24.207Z"
   },
   {
    "duration": 4579,
    "start_time": "2021-11-07T18:47:29.032Z"
   },
   {
    "duration": 9,
    "start_time": "2021-11-07T18:49:18.476Z"
   },
   {
    "duration": 4769,
    "start_time": "2021-11-07T18:49:21.567Z"
   },
   {
    "duration": 6,
    "start_time": "2021-11-07T18:49:38.924Z"
   },
   {
    "duration": 6,
    "start_time": "2021-11-07T18:51:30.655Z"
   },
   {
    "duration": 7,
    "start_time": "2021-11-07T18:51:37.694Z"
   },
   {
    "duration": 6,
    "start_time": "2021-11-07T18:51:46.418Z"
   },
   {
    "duration": 9,
    "start_time": "2021-11-07T18:52:24.847Z"
   },
   {
    "duration": 580,
    "start_time": "2021-11-07T18:52:29.820Z"
   },
   {
    "duration": 1712,
    "start_time": "2021-11-07T18:52:30.906Z"
   },
   {
    "duration": 4777,
    "start_time": "2021-11-07T18:52:46.428Z"
   },
   {
    "duration": 1267,
    "start_time": "2021-11-07T18:53:01.907Z"
   },
   {
    "duration": 6,
    "start_time": "2021-11-07T18:53:03.613Z"
   },
   {
    "duration": 4769,
    "start_time": "2021-11-07T18:53:04.524Z"
   },
   {
    "duration": 4,
    "start_time": "2021-11-07T18:54:56.097Z"
   },
   {
    "duration": 2051,
    "start_time": "2021-11-07T18:54:56.765Z"
   },
   {
    "duration": 271,
    "start_time": "2021-11-07T18:55:05.631Z"
   },
   {
    "duration": 2119,
    "start_time": "2021-11-07T18:55:05.905Z"
   },
   {
    "duration": 3,
    "start_time": "2021-11-07T18:55:10.992Z"
   },
   {
    "duration": 4645,
    "start_time": "2021-11-07T18:55:13.635Z"
   },
   {
    "duration": 1163,
    "start_time": "2021-11-07T18:55:28.256Z"
   },
   {
    "duration": 7,
    "start_time": "2021-11-07T18:55:30.210Z"
   },
   {
    "duration": 4595,
    "start_time": "2021-11-07T18:55:35.062Z"
   },
   {
    "duration": 811,
    "start_time": "2021-11-07T18:56:56.586Z"
   },
   {
    "duration": 302,
    "start_time": "2021-11-07T18:57:17.304Z"
   },
   {
    "duration": 13,
    "start_time": "2021-11-07T18:57:25.179Z"
   },
   {
    "duration": 12,
    "start_time": "2021-11-07T18:58:35.571Z"
   },
   {
    "duration": 6,
    "start_time": "2021-11-07T18:58:56.041Z"
   },
   {
    "duration": 10,
    "start_time": "2021-11-07T18:59:26.442Z"
   },
   {
    "duration": 4,
    "start_time": "2021-11-07T18:59:28.228Z"
   },
   {
    "duration": 9,
    "start_time": "2021-11-07T18:59:28.538Z"
   },
   {
    "duration": 14,
    "start_time": "2021-11-07T18:59:28.804Z"
   },
   {
    "duration": 6,
    "start_time": "2021-11-07T18:59:29.272Z"
   },
   {
    "duration": 25,
    "start_time": "2021-11-07T18:59:30.028Z"
   },
   {
    "duration": 4,
    "start_time": "2021-11-07T18:59:30.757Z"
   },
   {
    "duration": 456,
    "start_time": "2021-11-07T18:59:31.862Z"
   },
   {
    "duration": 1261,
    "start_time": "2021-11-07T18:59:32.842Z"
   },
   {
    "duration": 9,
    "start_time": "2021-11-07T19:00:01.394Z"
   },
   {
    "duration": 1016,
    "start_time": "2021-11-07T19:00:04.503Z"
   },
   {
    "duration": 988,
    "start_time": "2021-11-07T19:00:14.622Z"
   },
   {
    "duration": 1257,
    "start_time": "2021-11-07T19:00:16.087Z"
   },
   {
    "duration": 9,
    "start_time": "2021-11-07T19:00:37.687Z"
   },
   {
    "duration": 4,
    "start_time": "2021-11-07T19:00:38.901Z"
   },
   {
    "duration": 11,
    "start_time": "2021-11-07T19:00:39.485Z"
   },
   {
    "duration": 16,
    "start_time": "2021-11-07T19:00:40.105Z"
   },
   {
    "duration": 7,
    "start_time": "2021-11-07T19:00:40.526Z"
   },
   {
    "duration": 28,
    "start_time": "2021-11-07T19:00:41.084Z"
   },
   {
    "duration": 4,
    "start_time": "2021-11-07T19:00:41.772Z"
   },
   {
    "duration": 235,
    "start_time": "2021-11-07T19:00:42.969Z"
   },
   {
    "duration": 11874,
    "start_time": "2021-11-07T19:00:43.661Z"
   },
   {
    "duration": 1757,
    "start_time": "2021-11-07T19:01:36.187Z"
   },
   {
    "duration": 905,
    "start_time": "2021-11-07T19:01:37.946Z"
   },
   {
    "duration": 45,
    "start_time": "2021-11-07T19:01:38.854Z"
   },
   {
    "duration": 24,
    "start_time": "2021-11-07T19:01:38.902Z"
   },
   {
    "duration": 31,
    "start_time": "2021-11-07T19:01:38.928Z"
   },
   {
    "duration": 49,
    "start_time": "2021-11-07T19:01:38.961Z"
   },
   {
    "duration": 32,
    "start_time": "2021-11-07T19:01:39.012Z"
   },
   {
    "duration": 53,
    "start_time": "2021-11-07T19:01:39.048Z"
   },
   {
    "duration": 7,
    "start_time": "2021-11-07T19:01:39.104Z"
   },
   {
    "duration": 1540,
    "start_time": "2021-11-07T19:01:39.114Z"
   },
   {
    "duration": 241,
    "start_time": "2021-11-07T19:01:40.656Z"
   },
   {
    "duration": 15,
    "start_time": "2021-11-07T19:01:40.900Z"
   },
   {
    "duration": 37,
    "start_time": "2021-11-07T19:01:40.919Z"
   },
   {
    "duration": 55,
    "start_time": "2021-11-07T19:01:40.958Z"
   },
   {
    "duration": 25,
    "start_time": "2021-11-07T19:01:41.016Z"
   },
   {
    "duration": 26,
    "start_time": "2021-11-07T19:01:41.043Z"
   },
   {
    "duration": 24,
    "start_time": "2021-11-07T19:01:41.100Z"
   },
   {
    "duration": 314,
    "start_time": "2021-11-07T19:01:41.127Z"
   },
   {
    "duration": 6,
    "start_time": "2021-11-07T19:01:41.444Z"
   },
   {
    "duration": 577,
    "start_time": "2021-11-07T19:01:41.452Z"
   },
   {
    "duration": 6,
    "start_time": "2021-11-07T19:01:42.032Z"
   },
   {
    "duration": 836,
    "start_time": "2021-11-07T19:01:42.040Z"
   },
   {
    "duration": 466,
    "start_time": "2021-11-07T19:01:42.881Z"
   },
   {
    "duration": 373,
    "start_time": "2021-11-07T19:01:43.351Z"
   },
   {
    "duration": 9,
    "start_time": "2021-11-07T19:01:43.727Z"
   },
   {
    "duration": 7,
    "start_time": "2021-11-07T19:01:43.739Z"
   },
   {
    "duration": 13,
    "start_time": "2021-11-07T19:01:43.748Z"
   },
   {
    "duration": 45,
    "start_time": "2021-11-07T19:01:43.764Z"
   },
   {
    "duration": 5,
    "start_time": "2021-11-07T19:01:43.812Z"
   },
   {
    "duration": 32,
    "start_time": "2021-11-07T19:01:43.820Z"
   },
   {
    "duration": 3,
    "start_time": "2021-11-07T19:01:43.855Z"
   },
   {
    "duration": 449,
    "start_time": "2021-11-07T19:01:43.860Z"
   },
   {
    "duration": 2492,
    "start_time": "2021-11-07T19:01:44.312Z"
   },
   {
    "duration": 1277,
    "start_time": "2021-11-07T19:01:46.809Z"
   },
   {
    "duration": 873,
    "start_time": "2021-11-07T19:01:48.088Z"
   },
   {
    "duration": -3225,
    "start_time": "2021-11-07T19:01:52.189Z"
   },
   {
    "duration": -3226,
    "start_time": "2021-11-07T19:01:52.192Z"
   },
   {
    "duration": -3227,
    "start_time": "2021-11-07T19:01:52.194Z"
   },
   {
    "duration": 1556,
    "start_time": "2021-11-07T19:02:44.760Z"
   },
   {
    "duration": 909,
    "start_time": "2021-11-07T19:02:46.319Z"
   },
   {
    "duration": 36,
    "start_time": "2021-11-07T19:02:47.231Z"
   },
   {
    "duration": 46,
    "start_time": "2021-11-07T19:02:47.270Z"
   },
   {
    "duration": 34,
    "start_time": "2021-11-07T19:02:47.320Z"
   },
   {
    "duration": 19,
    "start_time": "2021-11-07T19:02:47.356Z"
   },
   {
    "duration": 32,
    "start_time": "2021-11-07T19:02:47.402Z"
   },
   {
    "duration": 27,
    "start_time": "2021-11-07T19:02:47.438Z"
   },
   {
    "duration": 37,
    "start_time": "2021-11-07T19:02:47.468Z"
   },
   {
    "duration": 1730,
    "start_time": "2021-11-07T19:02:47.508Z"
   },
   {
    "duration": 259,
    "start_time": "2021-11-07T19:02:49.241Z"
   },
   {
    "duration": 16,
    "start_time": "2021-11-07T19:02:49.504Z"
   },
   {
    "duration": 37,
    "start_time": "2021-11-07T19:02:49.523Z"
   },
   {
    "duration": 59,
    "start_time": "2021-11-07T19:02:49.563Z"
   },
   {
    "duration": 24,
    "start_time": "2021-11-07T19:02:49.624Z"
   },
   {
    "duration": 53,
    "start_time": "2021-11-07T19:02:49.651Z"
   },
   {
    "duration": 26,
    "start_time": "2021-11-07T19:02:49.706Z"
   },
   {
    "duration": 453,
    "start_time": "2021-11-07T19:02:49.734Z"
   },
   {
    "duration": 14,
    "start_time": "2021-11-07T19:02:50.190Z"
   },
   {
    "duration": 845,
    "start_time": "2021-11-07T19:02:50.207Z"
   },
   {
    "duration": 7,
    "start_time": "2021-11-07T19:02:51.055Z"
   },
   {
    "duration": 891,
    "start_time": "2021-11-07T19:02:51.064Z"
   },
   {
    "duration": 359,
    "start_time": "2021-11-07T19:02:51.960Z"
   },
   {
    "duration": 277,
    "start_time": "2021-11-07T19:02:52.323Z"
   },
   {
    "duration": 8,
    "start_time": "2021-11-07T19:02:52.603Z"
   },
   {
    "duration": 11,
    "start_time": "2021-11-07T19:02:52.614Z"
   },
   {
    "duration": 13,
    "start_time": "2021-11-07T19:02:52.627Z"
   },
   {
    "duration": 20,
    "start_time": "2021-11-07T19:02:52.643Z"
   },
   {
    "duration": 35,
    "start_time": "2021-11-07T19:02:52.667Z"
   },
   {
    "duration": 34,
    "start_time": "2021-11-07T19:02:52.705Z"
   },
   {
    "duration": 4,
    "start_time": "2021-11-07T19:02:52.741Z"
   },
   {
    "duration": 358,
    "start_time": "2021-11-07T19:02:52.747Z"
   },
   {
    "duration": 2096,
    "start_time": "2021-11-07T19:02:53.109Z"
   },
   {
    "duration": 1947,
    "start_time": "2021-11-07T19:02:55.208Z"
   },
   {
    "duration": 868,
    "start_time": "2021-11-07T19:02:57.158Z"
   },
   {
    "duration": -3228,
    "start_time": "2021-11-07T19:03:01.257Z"
   },
   {
    "duration": -3232,
    "start_time": "2021-11-07T19:03:01.262Z"
   },
   {
    "duration": -3232,
    "start_time": "2021-11-07T19:03:01.264Z"
   },
   {
    "duration": 31,
    "start_time": "2021-11-07T19:03:35.415Z"
   },
   {
    "duration": 4648,
    "start_time": "2021-11-07T19:03:44.509Z"
   },
   {
    "duration": 1873,
    "start_time": "2021-11-07T19:04:10.255Z"
   },
   {
    "duration": 1082,
    "start_time": "2021-11-07T19:04:22.863Z"
   },
   {
    "duration": 4769,
    "start_time": "2021-11-07T19:04:32.270Z"
   },
   {
    "duration": 4,
    "start_time": "2021-11-07T19:04:43.552Z"
   },
   {
    "duration": 433,
    "start_time": "2021-11-07T19:04:44.374Z"
   },
   {
    "duration": 10,
    "start_time": "2021-11-07T19:05:07.519Z"
   },
   {
    "duration": 2059,
    "start_time": "2021-11-07T19:05:10.947Z"
   },
   {
    "duration": 8,
    "start_time": "2021-11-07T19:05:27.854Z"
   },
   {
    "duration": 1569,
    "start_time": "2021-11-07T19:05:33.471Z"
   },
   {
    "duration": 894,
    "start_time": "2021-11-07T19:05:35.043Z"
   },
   {
    "duration": 34,
    "start_time": "2021-11-07T19:05:35.940Z"
   },
   {
    "duration": 42,
    "start_time": "2021-11-07T19:05:35.977Z"
   },
   {
    "duration": 36,
    "start_time": "2021-11-07T19:05:36.024Z"
   },
   {
    "duration": 43,
    "start_time": "2021-11-07T19:05:36.062Z"
   },
   {
    "duration": 30,
    "start_time": "2021-11-07T19:05:36.108Z"
   },
   {
    "duration": 27,
    "start_time": "2021-11-07T19:05:36.141Z"
   },
   {
    "duration": 8,
    "start_time": "2021-11-07T19:05:36.201Z"
   },
   {
    "duration": 1504,
    "start_time": "2021-11-07T19:05:36.212Z"
   },
   {
    "duration": 248,
    "start_time": "2021-11-07T19:05:37.719Z"
   },
   {
    "duration": 31,
    "start_time": "2021-11-07T19:05:37.969Z"
   },
   {
    "duration": 34,
    "start_time": "2021-11-07T19:05:38.003Z"
   },
   {
    "duration": 23,
    "start_time": "2021-11-07T19:05:38.040Z"
   },
   {
    "duration": 43,
    "start_time": "2021-11-07T19:05:38.065Z"
   },
   {
    "duration": 24,
    "start_time": "2021-11-07T19:05:38.110Z"
   },
   {
    "duration": 31,
    "start_time": "2021-11-07T19:05:38.136Z"
   },
   {
    "duration": 485,
    "start_time": "2021-11-07T19:05:38.170Z"
   },
   {
    "duration": 7,
    "start_time": "2021-11-07T19:05:38.658Z"
   },
   {
    "duration": 594,
    "start_time": "2021-11-07T19:05:38.668Z"
   },
   {
    "duration": 6,
    "start_time": "2021-11-07T19:05:39.264Z"
   },
   {
    "duration": 948,
    "start_time": "2021-11-07T19:05:39.272Z"
   },
   {
    "duration": 349,
    "start_time": "2021-11-07T19:05:40.222Z"
   },
   {
    "duration": 266,
    "start_time": "2021-11-07T19:05:40.574Z"
   },
   {
    "duration": 8,
    "start_time": "2021-11-07T19:05:40.843Z"
   },
   {
    "duration": 7,
    "start_time": "2021-11-07T19:05:40.854Z"
   },
   {
    "duration": 34,
    "start_time": "2021-11-07T19:05:40.866Z"
   },
   {
    "duration": 20,
    "start_time": "2021-11-07T19:05:40.903Z"
   },
   {
    "duration": 7,
    "start_time": "2021-11-07T19:05:40.926Z"
   },
   {
    "duration": 32,
    "start_time": "2021-11-07T19:05:40.937Z"
   },
   {
    "duration": 4,
    "start_time": "2021-11-07T19:05:41.000Z"
   },
   {
    "duration": 393,
    "start_time": "2021-11-07T19:05:41.006Z"
   },
   {
    "duration": 2198,
    "start_time": "2021-11-07T19:05:41.404Z"
   },
   {
    "duration": 1300,
    "start_time": "2021-11-07T19:05:43.605Z"
   },
   {
    "duration": 4491,
    "start_time": "2021-11-07T19:05:44.907Z"
   },
   {
    "duration": 4,
    "start_time": "2021-11-07T19:05:49.400Z"
   },
   {
    "duration": 555,
    "start_time": "2021-11-07T19:05:49.407Z"
   },
   {
    "duration": 7,
    "start_time": "2021-11-07T19:06:32.680Z"
   },
   {
    "duration": 6,
    "start_time": "2021-11-07T19:06:44.115Z"
   },
   {
    "duration": 12,
    "start_time": "2021-11-07T19:06:49.099Z"
   },
   {
    "duration": 6,
    "start_time": "2021-11-07T19:07:51.111Z"
   },
   {
    "duration": 4,
    "start_time": "2021-11-07T19:08:03.792Z"
   },
   {
    "duration": 9,
    "start_time": "2021-11-07T19:08:12.154Z"
   },
   {
    "duration": 880,
    "start_time": "2021-11-07T19:09:27.724Z"
   },
   {
    "duration": 2621,
    "start_time": "2021-11-07T19:09:29.283Z"
   },
   {
    "duration": 3491,
    "start_time": "2021-11-07T19:09:52.715Z"
   },
   {
    "duration": 12909,
    "start_time": "2021-11-07T19:09:57.479Z"
   },
   {
    "duration": 20177,
    "start_time": "2021-11-07T19:10:20.587Z"
   },
   {
    "duration": 7,
    "start_time": "2021-11-07T19:11:24.049Z"
   },
   {
    "duration": 40,
    "start_time": "2021-11-07T19:11:44.028Z"
   },
   {
    "duration": 9,
    "start_time": "2021-11-07T19:15:05.021Z"
   },
   {
    "duration": 4,
    "start_time": "2021-11-07T19:15:07.659Z"
   },
   {
    "duration": 9,
    "start_time": "2021-11-07T19:15:08.369Z"
   },
   {
    "duration": 13,
    "start_time": "2021-11-07T19:15:08.813Z"
   },
   {
    "duration": 7,
    "start_time": "2021-11-07T19:15:09.281Z"
   },
   {
    "duration": 27,
    "start_time": "2021-11-07T19:15:10.103Z"
   },
   {
    "duration": 4,
    "start_time": "2021-11-07T19:15:11.147Z"
   },
   {
    "duration": 312,
    "start_time": "2021-11-07T19:15:11.991Z"
   },
   {
    "duration": 1754,
    "start_time": "2021-11-07T19:15:12.851Z"
   },
   {
    "duration": 3615,
    "start_time": "2021-11-07T19:15:19.713Z"
   },
   {
    "duration": 9,
    "start_time": "2021-11-07T19:15:23.331Z"
   },
   {
    "duration": 13145,
    "start_time": "2021-11-07T19:15:24.141Z"
   },
   {
    "duration": 9,
    "start_time": "2021-11-07T19:16:24.585Z"
   },
   {
    "duration": 8,
    "start_time": "2021-11-07T19:16:57.659Z"
   },
   {
    "duration": 1866,
    "start_time": "2021-11-07T19:17:03.046Z"
   },
   {
    "duration": 1646,
    "start_time": "2021-11-07T19:17:37.079Z"
   },
   {
    "duration": 967,
    "start_time": "2021-11-07T19:17:38.728Z"
   },
   {
    "duration": 34,
    "start_time": "2021-11-07T19:17:39.700Z"
   },
   {
    "duration": 23,
    "start_time": "2021-11-07T19:17:39.737Z"
   },
   {
    "duration": 56,
    "start_time": "2021-11-07T19:17:39.762Z"
   },
   {
    "duration": 19,
    "start_time": "2021-11-07T19:17:39.820Z"
   },
   {
    "duration": 64,
    "start_time": "2021-11-07T19:17:39.842Z"
   },
   {
    "duration": 29,
    "start_time": "2021-11-07T19:17:39.910Z"
   },
   {
    "duration": 8,
    "start_time": "2021-11-07T19:17:39.945Z"
   },
   {
    "duration": 1512,
    "start_time": "2021-11-07T19:17:39.957Z"
   },
   {
    "duration": 239,
    "start_time": "2021-11-07T19:17:41.472Z"
   },
   {
    "duration": 18,
    "start_time": "2021-11-07T19:17:41.714Z"
   },
   {
    "duration": 66,
    "start_time": "2021-11-07T19:17:41.734Z"
   },
   {
    "duration": 22,
    "start_time": "2021-11-07T19:17:41.803Z"
   },
   {
    "duration": 22,
    "start_time": "2021-11-07T19:17:41.828Z"
   },
   {
    "duration": 24,
    "start_time": "2021-11-07T19:17:41.852Z"
   },
   {
    "duration": 22,
    "start_time": "2021-11-07T19:17:41.901Z"
   },
   {
    "duration": 316,
    "start_time": "2021-11-07T19:17:41.925Z"
   },
   {
    "duration": 5,
    "start_time": "2021-11-07T19:17:42.243Z"
   },
   {
    "duration": 603,
    "start_time": "2021-11-07T19:17:42.250Z"
   },
   {
    "duration": 5,
    "start_time": "2021-11-07T19:17:42.856Z"
   },
   {
    "duration": 846,
    "start_time": "2021-11-07T19:17:42.864Z"
   },
   {
    "duration": 387,
    "start_time": "2021-11-07T19:17:43.713Z"
   },
   {
    "duration": 278,
    "start_time": "2021-11-07T19:17:44.103Z"
   },
   {
    "duration": 18,
    "start_time": "2021-11-07T19:17:44.384Z"
   },
   {
    "duration": 8,
    "start_time": "2021-11-07T19:17:44.404Z"
   },
   {
    "duration": 13,
    "start_time": "2021-11-07T19:17:44.417Z"
   },
   {
    "duration": 18,
    "start_time": "2021-11-07T19:17:44.433Z"
   },
   {
    "duration": 6,
    "start_time": "2021-11-07T19:17:44.454Z"
   },
   {
    "duration": 60,
    "start_time": "2021-11-07T19:17:44.463Z"
   },
   {
    "duration": 3,
    "start_time": "2021-11-07T19:17:44.526Z"
   },
   {
    "duration": 371,
    "start_time": "2021-11-07T19:17:44.532Z"
   },
   {
    "duration": 899,
    "start_time": "2021-11-07T19:17:44.906Z"
   },
   {
    "duration": -3253,
    "start_time": "2021-11-07T19:17:49.061Z"
   },
   {
    "duration": -3258,
    "start_time": "2021-11-07T19:17:49.067Z"
   },
   {
    "duration": -3259,
    "start_time": "2021-11-07T19:17:49.069Z"
   },
   {
    "duration": -3258,
    "start_time": "2021-11-07T19:17:49.070Z"
   },
   {
    "duration": -3257,
    "start_time": "2021-11-07T19:17:49.072Z"
   },
   {
    "duration": 9,
    "start_time": "2021-11-07T19:18:37.009Z"
   },
   {
    "duration": 1045,
    "start_time": "2021-11-07T19:18:40.155Z"
   },
   {
    "duration": 1534,
    "start_time": "2021-11-07T19:18:48.613Z"
   },
   {
    "duration": 924,
    "start_time": "2021-11-07T19:18:50.150Z"
   },
   {
    "duration": 42,
    "start_time": "2021-11-07T19:18:51.078Z"
   },
   {
    "duration": 25,
    "start_time": "2021-11-07T19:18:51.123Z"
   },
   {
    "duration": 63,
    "start_time": "2021-11-07T19:18:51.150Z"
   },
   {
    "duration": 26,
    "start_time": "2021-11-07T19:18:51.217Z"
   },
   {
    "duration": 62,
    "start_time": "2021-11-07T19:18:51.246Z"
   },
   {
    "duration": 29,
    "start_time": "2021-11-07T19:18:51.312Z"
   },
   {
    "duration": 8,
    "start_time": "2021-11-07T19:18:51.344Z"
   },
   {
    "duration": 1592,
    "start_time": "2021-11-07T19:18:51.355Z"
   },
   {
    "duration": 250,
    "start_time": "2021-11-07T19:18:52.949Z"
   },
   {
    "duration": 16,
    "start_time": "2021-11-07T19:18:53.201Z"
   },
   {
    "duration": 35,
    "start_time": "2021-11-07T19:18:53.219Z"
   },
   {
    "duration": 47,
    "start_time": "2021-11-07T19:18:53.257Z"
   },
   {
    "duration": 24,
    "start_time": "2021-11-07T19:18:53.306Z"
   },
   {
    "duration": 25,
    "start_time": "2021-11-07T19:18:53.332Z"
   },
   {
    "duration": 48,
    "start_time": "2021-11-07T19:18:53.360Z"
   },
   {
    "duration": 317,
    "start_time": "2021-11-07T19:18:53.410Z"
   },
   {
    "duration": 5,
    "start_time": "2021-11-07T19:18:53.730Z"
   },
   {
    "duration": 596,
    "start_time": "2021-11-07T19:18:53.738Z"
   },
   {
    "duration": 6,
    "start_time": "2021-11-07T19:18:54.336Z"
   },
   {
    "duration": 871,
    "start_time": "2021-11-07T19:18:54.344Z"
   },
   {
    "duration": 357,
    "start_time": "2021-11-07T19:18:55.220Z"
   },
   {
    "duration": 274,
    "start_time": "2021-11-07T19:18:55.580Z"
   },
   {
    "duration": 8,
    "start_time": "2021-11-07T19:18:55.856Z"
   },
   {
    "duration": 8,
    "start_time": "2021-11-07T19:18:55.866Z"
   },
   {
    "duration": 30,
    "start_time": "2021-11-07T19:18:55.876Z"
   },
   {
    "duration": 17,
    "start_time": "2021-11-07T19:18:55.908Z"
   },
   {
    "duration": 6,
    "start_time": "2021-11-07T19:18:55.927Z"
   },
   {
    "duration": 30,
    "start_time": "2021-11-07T19:18:55.935Z"
   },
   {
    "duration": 33,
    "start_time": "2021-11-07T19:18:55.968Z"
   },
   {
    "duration": 296,
    "start_time": "2021-11-07T19:18:56.005Z"
   },
   {
    "duration": 1902,
    "start_time": "2021-11-07T19:18:56.305Z"
   },
   {
    "duration": 3544,
    "start_time": "2021-11-07T19:18:58.300Z"
   },
   {
    "duration": 12,
    "start_time": "2021-11-07T19:19:01.847Z"
   },
   {
    "duration": 13126,
    "start_time": "2021-11-07T19:19:01.862Z"
   },
   {
    "duration": 22,
    "start_time": "2021-11-07T19:19:14.990Z"
   },
   {
    "duration": 804,
    "start_time": "2021-11-07T19:19:15.015Z"
   },
   {
    "duration": 1546,
    "start_time": "2021-11-07T19:20:13.193Z"
   },
   {
    "duration": 912,
    "start_time": "2021-11-07T19:20:14.742Z"
   },
   {
    "duration": 44,
    "start_time": "2021-11-07T19:20:15.657Z"
   },
   {
    "duration": 24,
    "start_time": "2021-11-07T19:20:15.704Z"
   },
   {
    "duration": 31,
    "start_time": "2021-11-07T19:20:15.730Z"
   },
   {
    "duration": 46,
    "start_time": "2021-11-07T19:20:15.764Z"
   },
   {
    "duration": 30,
    "start_time": "2021-11-07T19:20:15.812Z"
   },
   {
    "duration": 28,
    "start_time": "2021-11-07T19:20:15.846Z"
   },
   {
    "duration": 28,
    "start_time": "2021-11-07T19:20:15.877Z"
   },
   {
    "duration": 1508,
    "start_time": "2021-11-07T19:20:15.907Z"
   },
   {
    "duration": 238,
    "start_time": "2021-11-07T19:20:17.417Z"
   },
   {
    "duration": 14,
    "start_time": "2021-11-07T19:20:17.657Z"
   },
   {
    "duration": 55,
    "start_time": "2021-11-07T19:20:17.677Z"
   },
   {
    "duration": 25,
    "start_time": "2021-11-07T19:20:17.734Z"
   },
   {
    "duration": 51,
    "start_time": "2021-11-07T19:20:17.762Z"
   },
   {
    "duration": 25,
    "start_time": "2021-11-07T19:20:17.817Z"
   },
   {
    "duration": 30,
    "start_time": "2021-11-07T19:20:17.845Z"
   },
   {
    "duration": 310,
    "start_time": "2021-11-07T19:20:17.902Z"
   },
   {
    "duration": 5,
    "start_time": "2021-11-07T19:20:18.214Z"
   },
   {
    "duration": 585,
    "start_time": "2021-11-07T19:20:18.221Z"
   },
   {
    "duration": 6,
    "start_time": "2021-11-07T19:20:18.809Z"
   },
   {
    "duration": 956,
    "start_time": "2021-11-07T19:20:18.818Z"
   },
   {
    "duration": 384,
    "start_time": "2021-11-07T19:20:19.779Z"
   },
   {
    "duration": 294,
    "start_time": "2021-11-07T19:20:20.167Z"
   },
   {
    "duration": 9,
    "start_time": "2021-11-07T19:20:20.463Z"
   },
   {
    "duration": 16,
    "start_time": "2021-11-07T19:20:20.475Z"
   },
   {
    "duration": 20,
    "start_time": "2021-11-07T19:20:20.494Z"
   },
   {
    "duration": 18,
    "start_time": "2021-11-07T19:20:20.516Z"
   },
   {
    "duration": 17,
    "start_time": "2021-11-07T19:20:20.537Z"
   },
   {
    "duration": 53,
    "start_time": "2021-11-07T19:20:20.556Z"
   },
   {
    "duration": 5,
    "start_time": "2021-11-07T19:20:20.612Z"
   },
   {
    "duration": 290,
    "start_time": "2021-11-07T19:20:20.619Z"
   },
   {
    "duration": 2005,
    "start_time": "2021-11-07T19:20:21.003Z"
   },
   {
    "duration": 3788,
    "start_time": "2021-11-07T19:20:23.012Z"
   },
   {
    "duration": 9,
    "start_time": "2021-11-07T19:20:26.803Z"
   },
   {
    "duration": 13309,
    "start_time": "2021-11-07T19:20:26.815Z"
   },
   {
    "duration": 5,
    "start_time": "2021-11-07T19:20:40.128Z"
   },
   {
    "duration": 550,
    "start_time": "2021-11-07T19:20:40.136Z"
   },
   {
    "duration": 1567,
    "start_time": "2021-11-07T19:21:24.133Z"
   },
   {
    "duration": 892,
    "start_time": "2021-11-07T19:21:25.703Z"
   },
   {
    "duration": 35,
    "start_time": "2021-11-07T19:21:26.598Z"
   },
   {
    "duration": 28,
    "start_time": "2021-11-07T19:21:26.636Z"
   },
   {
    "duration": 56,
    "start_time": "2021-11-07T19:21:26.666Z"
   },
   {
    "duration": 19,
    "start_time": "2021-11-07T19:21:26.724Z"
   },
   {
    "duration": 55,
    "start_time": "2021-11-07T19:21:26.745Z"
   },
   {
    "duration": 27,
    "start_time": "2021-11-07T19:21:26.804Z"
   },
   {
    "duration": 7,
    "start_time": "2021-11-07T19:21:26.834Z"
   },
   {
    "duration": 1530,
    "start_time": "2021-11-07T19:21:26.843Z"
   },
   {
    "duration": 239,
    "start_time": "2021-11-07T19:21:28.375Z"
   },
   {
    "duration": 15,
    "start_time": "2021-11-07T19:21:28.617Z"
   },
   {
    "duration": 35,
    "start_time": "2021-11-07T19:21:28.634Z"
   },
   {
    "duration": 49,
    "start_time": "2021-11-07T19:21:28.672Z"
   },
   {
    "duration": 24,
    "start_time": "2021-11-07T19:21:28.724Z"
   },
   {
    "duration": 60,
    "start_time": "2021-11-07T19:21:28.751Z"
   },
   {
    "duration": 25,
    "start_time": "2021-11-07T19:21:28.814Z"
   },
   {
    "duration": 331,
    "start_time": "2021-11-07T19:21:28.842Z"
   },
   {
    "duration": 7,
    "start_time": "2021-11-07T19:21:29.177Z"
   },
   {
    "duration": 591,
    "start_time": "2021-11-07T19:21:29.201Z"
   },
   {
    "duration": 6,
    "start_time": "2021-11-07T19:21:29.801Z"
   },
   {
    "duration": 849,
    "start_time": "2021-11-07T19:21:29.809Z"
   },
   {
    "duration": 384,
    "start_time": "2021-11-07T19:21:30.664Z"
   },
   {
    "duration": 300,
    "start_time": "2021-11-07T19:21:31.051Z"
   },
   {
    "duration": 13,
    "start_time": "2021-11-07T19:21:31.354Z"
   },
   {
    "duration": 38,
    "start_time": "2021-11-07T19:21:31.370Z"
   },
   {
    "duration": 23,
    "start_time": "2021-11-07T19:21:31.412Z"
   },
   {
    "duration": 26,
    "start_time": "2021-11-07T19:21:31.438Z"
   },
   {
    "duration": 6,
    "start_time": "2021-11-07T19:21:31.467Z"
   },
   {
    "duration": 49,
    "start_time": "2021-11-07T19:21:31.475Z"
   },
   {
    "duration": 4,
    "start_time": "2021-11-07T19:21:31.526Z"
   },
   {
    "duration": 379,
    "start_time": "2021-11-07T19:21:31.532Z"
   },
   {
    "duration": 2612,
    "start_time": "2021-11-07T19:21:32.002Z"
   },
   {
    "duration": 3850,
    "start_time": "2021-11-07T19:21:34.701Z"
   },
   {
    "duration": 12,
    "start_time": "2021-11-07T19:21:38.554Z"
   },
   {
    "duration": 13040,
    "start_time": "2021-11-07T19:21:38.569Z"
   },
   {
    "duration": 5,
    "start_time": "2021-11-07T19:21:51.611Z"
   },
   {
    "duration": 850,
    "start_time": "2021-11-07T19:21:51.618Z"
   },
   {
    "duration": 1495,
    "start_time": "2021-11-07T19:23:42.750Z"
   },
   {
    "duration": 903,
    "start_time": "2021-11-07T19:23:44.248Z"
   },
   {
    "duration": 46,
    "start_time": "2021-11-07T19:23:45.154Z"
   },
   {
    "duration": 24,
    "start_time": "2021-11-07T19:23:45.203Z"
   },
   {
    "duration": 30,
    "start_time": "2021-11-07T19:23:45.230Z"
   },
   {
    "duration": 41,
    "start_time": "2021-11-07T19:23:45.263Z"
   },
   {
    "duration": 33,
    "start_time": "2021-11-07T19:23:45.306Z"
   },
   {
    "duration": 33,
    "start_time": "2021-11-07T19:23:45.341Z"
   },
   {
    "duration": 8,
    "start_time": "2021-11-07T19:23:45.403Z"
   },
   {
    "duration": 1552,
    "start_time": "2021-11-07T19:23:45.414Z"
   },
   {
    "duration": 246,
    "start_time": "2021-11-07T19:23:46.968Z"
   },
   {
    "duration": 15,
    "start_time": "2021-11-07T19:23:47.216Z"
   },
   {
    "duration": 38,
    "start_time": "2021-11-07T19:23:47.234Z"
   },
   {
    "duration": 48,
    "start_time": "2021-11-07T19:23:47.274Z"
   },
   {
    "duration": 22,
    "start_time": "2021-11-07T19:23:47.324Z"
   },
   {
    "duration": 24,
    "start_time": "2021-11-07T19:23:47.348Z"
   },
   {
    "duration": 46,
    "start_time": "2021-11-07T19:23:47.374Z"
   },
   {
    "duration": 331,
    "start_time": "2021-11-07T19:23:47.422Z"
   },
   {
    "duration": 6,
    "start_time": "2021-11-07T19:23:47.756Z"
   },
   {
    "duration": 649,
    "start_time": "2021-11-07T19:23:47.764Z"
   },
   {
    "duration": 6,
    "start_time": "2021-11-07T19:23:48.415Z"
   },
   {
    "duration": 845,
    "start_time": "2021-11-07T19:23:48.425Z"
   },
   {
    "duration": 366,
    "start_time": "2021-11-07T19:23:49.273Z"
   },
   {
    "duration": 276,
    "start_time": "2021-11-07T19:23:49.642Z"
   },
   {
    "duration": 8,
    "start_time": "2021-11-07T19:23:49.921Z"
   },
   {
    "duration": 10,
    "start_time": "2021-11-07T19:23:49.932Z"
   },
   {
    "duration": 11,
    "start_time": "2021-11-07T19:23:49.947Z"
   },
   {
    "duration": 43,
    "start_time": "2021-11-07T19:23:49.961Z"
   },
   {
    "duration": 6,
    "start_time": "2021-11-07T19:23:50.006Z"
   },
   {
    "duration": 33,
    "start_time": "2021-11-07T19:23:50.014Z"
   },
   {
    "duration": 3,
    "start_time": "2021-11-07T19:23:50.050Z"
   },
   {
    "duration": 347,
    "start_time": "2021-11-07T19:23:50.055Z"
   },
   {
    "duration": 1996,
    "start_time": "2021-11-07T19:23:50.405Z"
   },
   {
    "duration": 3382,
    "start_time": "2021-11-07T19:23:52.405Z"
   },
   {
    "duration": 13,
    "start_time": "2021-11-07T19:23:55.790Z"
   },
   {
    "duration": 12778,
    "start_time": "2021-11-07T19:23:55.805Z"
   },
   {
    "duration": 4,
    "start_time": "2021-11-07T19:24:08.586Z"
   },
   {
    "duration": 519,
    "start_time": "2021-11-07T19:24:08.601Z"
   },
   {
    "duration": 1538,
    "start_time": "2021-11-07T19:25:08.275Z"
   },
   {
    "duration": 960,
    "start_time": "2021-11-07T19:25:09.816Z"
   },
   {
    "duration": 37,
    "start_time": "2021-11-07T19:25:10.779Z"
   },
   {
    "duration": 27,
    "start_time": "2021-11-07T19:25:10.819Z"
   },
   {
    "duration": 33,
    "start_time": "2021-11-07T19:25:10.848Z"
   },
   {
    "duration": 28,
    "start_time": "2021-11-07T19:25:10.883Z"
   },
   {
    "duration": 32,
    "start_time": "2021-11-07T19:25:10.913Z"
   },
   {
    "duration": 30,
    "start_time": "2021-11-07T19:25:10.947Z"
   },
   {
    "duration": 7,
    "start_time": "2021-11-07T19:25:10.981Z"
   },
   {
    "duration": 1724,
    "start_time": "2021-11-07T19:25:11.000Z"
   },
   {
    "duration": 248,
    "start_time": "2021-11-07T19:25:12.727Z"
   },
   {
    "duration": 28,
    "start_time": "2021-11-07T19:25:12.978Z"
   },
   {
    "duration": 44,
    "start_time": "2021-11-07T19:25:13.010Z"
   },
   {
    "duration": 44,
    "start_time": "2021-11-07T19:25:13.056Z"
   },
   {
    "duration": 22,
    "start_time": "2021-11-07T19:25:13.103Z"
   },
   {
    "duration": 23,
    "start_time": "2021-11-07T19:25:13.128Z"
   },
   {
    "duration": 53,
    "start_time": "2021-11-07T19:25:13.153Z"
   },
   {
    "duration": 303,
    "start_time": "2021-11-07T19:25:13.208Z"
   },
   {
    "duration": 6,
    "start_time": "2021-11-07T19:25:13.513Z"
   },
   {
    "duration": 701,
    "start_time": "2021-11-07T19:25:13.521Z"
   },
   {
    "duration": 5,
    "start_time": "2021-11-07T19:25:14.225Z"
   },
   {
    "duration": 871,
    "start_time": "2021-11-07T19:25:14.232Z"
   },
   {
    "duration": 362,
    "start_time": "2021-11-07T19:25:15.106Z"
   },
   {
    "duration": 273,
    "start_time": "2021-11-07T19:25:15.470Z"
   },
   {
    "duration": 8,
    "start_time": "2021-11-07T19:25:15.746Z"
   },
   {
    "duration": 19,
    "start_time": "2021-11-07T19:25:15.757Z"
   },
   {
    "duration": 24,
    "start_time": "2021-11-07T19:25:15.781Z"
   },
   {
    "duration": 23,
    "start_time": "2021-11-07T19:25:15.808Z"
   },
   {
    "duration": 7,
    "start_time": "2021-11-07T19:25:15.833Z"
   },
   {
    "duration": 33,
    "start_time": "2021-11-07T19:25:15.842Z"
   },
   {
    "duration": 3,
    "start_time": "2021-11-07T19:25:15.901Z"
   },
   {
    "duration": 298,
    "start_time": "2021-11-07T19:25:15.907Z"
   },
   {
    "duration": 2001,
    "start_time": "2021-11-07T19:25:16.208Z"
   },
   {
    "duration": 3616,
    "start_time": "2021-11-07T19:25:18.302Z"
   },
   {
    "duration": 10,
    "start_time": "2021-11-07T19:25:21.920Z"
   },
   {
    "duration": 2069,
    "start_time": "2021-11-07T19:25:21.932Z"
   },
   {
    "duration": 6,
    "start_time": "2021-11-07T19:25:24.005Z"
   },
   {
    "duration": 584,
    "start_time": "2021-11-07T19:25:24.015Z"
   },
   {
    "duration": 12978,
    "start_time": "2021-11-07T19:25:38.359Z"
   },
   {
    "duration": 13119,
    "start_time": "2021-11-07T19:26:02.414Z"
   },
   {
    "duration": 13386,
    "start_time": "2021-11-07T19:26:36.234Z"
   },
   {
    "duration": 4,
    "start_time": "2021-11-07T19:27:46.621Z"
   },
   {
    "duration": 542,
    "start_time": "2021-11-07T19:27:47.483Z"
   },
   {
    "duration": 5,
    "start_time": "2021-11-07T19:28:03.960Z"
   },
   {
    "duration": 12,
    "start_time": "2021-11-07T19:28:09.777Z"
   },
   {
    "duration": 376,
    "start_time": "2021-11-07T19:28:17.266Z"
   },
   {
    "duration": 809,
    "start_time": "2021-11-07T19:28:30.155Z"
   },
   {
    "duration": 457,
    "start_time": "2021-11-07T19:28:51.863Z"
   },
   {
    "duration": 410,
    "start_time": "2021-11-07T19:30:54.413Z"
   },
   {
    "duration": 372,
    "start_time": "2021-11-07T19:31:02.616Z"
   },
   {
    "duration": 6,
    "start_time": "2021-11-07T19:31:09.114Z"
   },
   {
    "duration": 6,
    "start_time": "2021-11-07T19:31:41.694Z"
   },
   {
    "duration": 14,
    "start_time": "2021-11-07T19:31:47.016Z"
   },
   {
    "duration": 418,
    "start_time": "2021-11-07T19:32:26.287Z"
   },
   {
    "duration": 10,
    "start_time": "2021-11-07T19:32:48.523Z"
   },
   {
    "duration": 14,
    "start_time": "2021-11-07T19:32:56.453Z"
   },
   {
    "duration": 8,
    "start_time": "2021-11-07T19:33:23.259Z"
   },
   {
    "duration": 362,
    "start_time": "2021-11-07T19:33:25.739Z"
   },
   {
    "duration": 372,
    "start_time": "2021-11-07T19:33:50.063Z"
   },
   {
    "duration": 1533,
    "start_time": "2021-11-07T19:34:09.021Z"
   },
   {
    "duration": 906,
    "start_time": "2021-11-07T19:34:10.557Z"
   },
   {
    "duration": 45,
    "start_time": "2021-11-07T19:34:11.467Z"
   },
   {
    "duration": 33,
    "start_time": "2021-11-07T19:34:11.514Z"
   },
   {
    "duration": 31,
    "start_time": "2021-11-07T19:34:11.550Z"
   },
   {
    "duration": 30,
    "start_time": "2021-11-07T19:34:11.601Z"
   },
   {
    "duration": 51,
    "start_time": "2021-11-07T19:34:11.634Z"
   },
   {
    "duration": 52,
    "start_time": "2021-11-07T19:34:11.688Z"
   },
   {
    "duration": 17,
    "start_time": "2021-11-07T19:34:11.746Z"
   },
   {
    "duration": 1537,
    "start_time": "2021-11-07T19:34:11.766Z"
   },
   {
    "duration": 249,
    "start_time": "2021-11-07T19:34:13.306Z"
   },
   {
    "duration": 17,
    "start_time": "2021-11-07T19:34:13.558Z"
   },
   {
    "duration": 51,
    "start_time": "2021-11-07T19:34:13.577Z"
   },
   {
    "duration": 23,
    "start_time": "2021-11-07T19:34:13.630Z"
   },
   {
    "duration": 46,
    "start_time": "2021-11-07T19:34:13.655Z"
   },
   {
    "duration": 24,
    "start_time": "2021-11-07T19:34:13.704Z"
   },
   {
    "duration": 22,
    "start_time": "2021-11-07T19:34:13.731Z"
   },
   {
    "duration": 323,
    "start_time": "2021-11-07T19:34:13.756Z"
   },
   {
    "duration": 5,
    "start_time": "2021-11-07T19:34:14.082Z"
   },
   {
    "duration": 559,
    "start_time": "2021-11-07T19:34:14.101Z"
   },
   {
    "duration": 7,
    "start_time": "2021-11-07T19:34:14.662Z"
   },
   {
    "duration": 829,
    "start_time": "2021-11-07T19:34:14.672Z"
   },
   {
    "duration": 354,
    "start_time": "2021-11-07T19:34:15.504Z"
   },
   {
    "duration": 274,
    "start_time": "2021-11-07T19:34:15.861Z"
   },
   {
    "duration": 8,
    "start_time": "2021-11-07T19:34:16.137Z"
   },
   {
    "duration": 17,
    "start_time": "2021-11-07T19:34:16.148Z"
   },
   {
    "duration": 26,
    "start_time": "2021-11-07T19:34:16.169Z"
   },
   {
    "duration": 29,
    "start_time": "2021-11-07T19:34:16.199Z"
   },
   {
    "duration": 8,
    "start_time": "2021-11-07T19:34:16.230Z"
   },
   {
    "duration": 40,
    "start_time": "2021-11-07T19:34:16.240Z"
   },
   {
    "duration": 3,
    "start_time": "2021-11-07T19:34:16.282Z"
   },
   {
    "duration": 223,
    "start_time": "2021-11-07T19:34:16.287Z"
   },
   {
    "duration": 2103,
    "start_time": "2021-11-07T19:34:16.603Z"
   },
   {
    "duration": 5375,
    "start_time": "2021-11-07T19:34:18.709Z"
   },
   {
    "duration": 18960,
    "start_time": "2021-11-07T19:34:24.087Z"
   },
   {
    "duration": 4,
    "start_time": "2021-11-07T19:34:43.050Z"
   },
   {
    "duration": 12,
    "start_time": "2021-11-07T19:34:43.056Z"
   },
   {
    "duration": 491,
    "start_time": "2021-11-07T19:34:43.071Z"
   },
   {
    "duration": 1939,
    "start_time": "2021-11-07T19:35:37.136Z"
   },
   {
    "duration": 901,
    "start_time": "2021-11-07T19:35:39.079Z"
   },
   {
    "duration": 45,
    "start_time": "2021-11-07T19:35:39.982Z"
   },
   {
    "duration": 24,
    "start_time": "2021-11-07T19:35:40.030Z"
   },
   {
    "duration": 58,
    "start_time": "2021-11-07T19:35:40.056Z"
   },
   {
    "duration": 18,
    "start_time": "2021-11-07T19:35:40.116Z"
   },
   {
    "duration": 31,
    "start_time": "2021-11-07T19:35:40.137Z"
   },
   {
    "duration": 26,
    "start_time": "2021-11-07T19:35:40.202Z"
   },
   {
    "duration": 7,
    "start_time": "2021-11-07T19:35:40.232Z"
   },
   {
    "duration": 1879,
    "start_time": "2021-11-07T19:35:40.242Z"
   },
   {
    "duration": 251,
    "start_time": "2021-11-07T19:35:42.123Z"
   },
   {
    "duration": 24,
    "start_time": "2021-11-07T19:35:42.376Z"
   },
   {
    "duration": 32,
    "start_time": "2021-11-07T19:35:42.402Z"
   },
   {
    "duration": 22,
    "start_time": "2021-11-07T19:35:42.436Z"
   },
   {
    "duration": 50,
    "start_time": "2021-11-07T19:35:42.461Z"
   },
   {
    "duration": 23,
    "start_time": "2021-11-07T19:35:42.514Z"
   },
   {
    "duration": 28,
    "start_time": "2021-11-07T19:35:42.539Z"
   },
   {
    "duration": 324,
    "start_time": "2021-11-07T19:35:42.570Z"
   },
   {
    "duration": 7,
    "start_time": "2021-11-07T19:35:42.897Z"
   },
   {
    "duration": 846,
    "start_time": "2021-11-07T19:35:42.907Z"
   },
   {
    "duration": 7,
    "start_time": "2021-11-07T19:35:43.756Z"
   },
   {
    "duration": 956,
    "start_time": "2021-11-07T19:35:43.765Z"
   },
   {
    "duration": 375,
    "start_time": "2021-11-07T19:35:44.724Z"
   },
   {
    "duration": 276,
    "start_time": "2021-11-07T19:35:45.101Z"
   },
   {
    "duration": 9,
    "start_time": "2021-11-07T19:35:45.379Z"
   },
   {
    "duration": 8,
    "start_time": "2021-11-07T19:35:45.393Z"
   },
   {
    "duration": 12,
    "start_time": "2021-11-07T19:35:45.404Z"
   },
   {
    "duration": 21,
    "start_time": "2021-11-07T19:35:45.419Z"
   },
   {
    "duration": 6,
    "start_time": "2021-11-07T19:35:45.442Z"
   },
   {
    "duration": 68,
    "start_time": "2021-11-07T19:35:45.451Z"
   },
   {
    "duration": 4,
    "start_time": "2021-11-07T19:35:45.522Z"
   },
   {
    "duration": 278,
    "start_time": "2021-11-07T19:35:45.528Z"
   },
   {
    "duration": 1801,
    "start_time": "2021-11-07T19:35:45.809Z"
   },
   {
    "duration": 3734,
    "start_time": "2021-11-07T19:35:47.614Z"
   },
   {
    "duration": 13473,
    "start_time": "2021-11-07T19:35:51.351Z"
   },
   {
    "duration": 5,
    "start_time": "2021-11-07T19:36:04.826Z"
   },
   {
    "duration": 523,
    "start_time": "2021-11-07T19:36:04.833Z"
   },
   {
    "duration": 7,
    "start_time": "2021-11-07T19:37:56.874Z"
   },
   {
    "duration": 403,
    "start_time": "2021-11-07T19:39:50.174Z"
   },
   {
    "duration": 6,
    "start_time": "2021-11-07T19:40:33.485Z"
   },
   {
    "duration": 6,
    "start_time": "2021-11-07T19:40:46.898Z"
   },
   {
    "duration": 424,
    "start_time": "2021-11-07T19:42:03.072Z"
   },
   {
    "duration": 1510,
    "start_time": "2021-11-07T19:46:00.552Z"
   },
   {
    "duration": 912,
    "start_time": "2021-11-07T19:46:02.064Z"
   },
   {
    "duration": 43,
    "start_time": "2021-11-07T19:46:02.979Z"
   },
   {
    "duration": 23,
    "start_time": "2021-11-07T19:46:03.025Z"
   },
   {
    "duration": 56,
    "start_time": "2021-11-07T19:46:03.051Z"
   },
   {
    "duration": 16,
    "start_time": "2021-11-07T19:46:03.110Z"
   },
   {
    "duration": 32,
    "start_time": "2021-11-07T19:46:03.128Z"
   },
   {
    "duration": 27,
    "start_time": "2021-11-07T19:46:03.201Z"
   },
   {
    "duration": 7,
    "start_time": "2021-11-07T19:46:03.232Z"
   },
   {
    "duration": 1546,
    "start_time": "2021-11-07T19:46:03.242Z"
   },
   {
    "duration": 377,
    "start_time": "2021-11-07T19:46:04.791Z"
   },
   {
    "duration": 31,
    "start_time": "2021-11-07T19:46:05.170Z"
   },
   {
    "duration": 44,
    "start_time": "2021-11-07T19:46:05.207Z"
   },
   {
    "duration": 49,
    "start_time": "2021-11-07T19:46:05.254Z"
   },
   {
    "duration": 51,
    "start_time": "2021-11-07T19:46:05.306Z"
   },
   {
    "duration": 24,
    "start_time": "2021-11-07T19:46:05.360Z"
   },
   {
    "duration": 26,
    "start_time": "2021-11-07T19:46:05.387Z"
   },
   {
    "duration": 300,
    "start_time": "2021-11-07T19:46:05.415Z"
   },
   {
    "duration": 5,
    "start_time": "2021-11-07T19:46:05.718Z"
   },
   {
    "duration": 581,
    "start_time": "2021-11-07T19:46:05.725Z"
   },
   {
    "duration": 6,
    "start_time": "2021-11-07T19:46:06.309Z"
   },
   {
    "duration": 1143,
    "start_time": "2021-11-07T19:46:06.317Z"
   },
   {
    "duration": 366,
    "start_time": "2021-11-07T19:46:07.462Z"
   },
   {
    "duration": 272,
    "start_time": "2021-11-07T19:46:07.831Z"
   },
   {
    "duration": 9,
    "start_time": "2021-11-07T19:46:08.106Z"
   },
   {
    "duration": 10,
    "start_time": "2021-11-07T19:46:08.117Z"
   },
   {
    "duration": 10,
    "start_time": "2021-11-07T19:46:08.134Z"
   },
   {
    "duration": 54,
    "start_time": "2021-11-07T19:46:08.148Z"
   },
   {
    "duration": 9,
    "start_time": "2021-11-07T19:46:08.205Z"
   },
   {
    "duration": 31,
    "start_time": "2021-11-07T19:46:08.217Z"
   },
   {
    "duration": 4,
    "start_time": "2021-11-07T19:46:08.251Z"
   },
   {
    "duration": 344,
    "start_time": "2021-11-07T19:46:08.258Z"
   },
   {
    "duration": 2198,
    "start_time": "2021-11-07T19:46:08.605Z"
   },
   {
    "duration": 3651,
    "start_time": "2021-11-07T19:46:10.806Z"
   },
   {
    "duration": 13159,
    "start_time": "2021-11-07T19:46:14.460Z"
   },
   {
    "duration": 4,
    "start_time": "2021-11-07T19:46:27.621Z"
   },
   {
    "duration": 529,
    "start_time": "2021-11-07T19:46:27.628Z"
   },
   {
    "duration": 8,
    "start_time": "2021-11-07T19:48:48.207Z"
   },
   {
    "duration": 6755,
    "start_time": "2021-11-07T19:49:11.224Z"
   },
   {
    "duration": 1526,
    "start_time": "2021-11-07T19:49:35.426Z"
   },
   {
    "duration": 910,
    "start_time": "2021-11-07T19:49:36.954Z"
   },
   {
    "duration": 44,
    "start_time": "2021-11-07T19:49:37.867Z"
   },
   {
    "duration": 25,
    "start_time": "2021-11-07T19:49:37.914Z"
   },
   {
    "duration": 60,
    "start_time": "2021-11-07T19:49:37.942Z"
   },
   {
    "duration": 26,
    "start_time": "2021-11-07T19:49:38.005Z"
   },
   {
    "duration": 66,
    "start_time": "2021-11-07T19:49:38.036Z"
   },
   {
    "duration": 38,
    "start_time": "2021-11-07T19:49:38.105Z"
   },
   {
    "duration": 9,
    "start_time": "2021-11-07T19:49:38.147Z"
   },
   {
    "duration": 2349,
    "start_time": "2021-11-07T19:49:38.160Z"
   },
   {
    "duration": 372,
    "start_time": "2021-11-07T19:49:40.512Z"
   },
   {
    "duration": 26,
    "start_time": "2021-11-07T19:49:40.886Z"
   },
   {
    "duration": 45,
    "start_time": "2021-11-07T19:49:40.914Z"
   },
   {
    "duration": 58,
    "start_time": "2021-11-07T19:49:40.962Z"
   },
   {
    "duration": 23,
    "start_time": "2021-11-07T19:49:41.023Z"
   },
   {
    "duration": 24,
    "start_time": "2021-11-07T19:49:41.049Z"
   },
   {
    "duration": 43,
    "start_time": "2021-11-07T19:49:41.075Z"
   },
   {
    "duration": 332,
    "start_time": "2021-11-07T19:49:41.120Z"
   },
   {
    "duration": 6,
    "start_time": "2021-11-07T19:49:41.454Z"
   },
   {
    "duration": 607,
    "start_time": "2021-11-07T19:49:41.463Z"
   },
   {
    "duration": 5,
    "start_time": "2021-11-07T19:49:42.073Z"
   },
   {
    "duration": 969,
    "start_time": "2021-11-07T19:49:42.081Z"
   },
   {
    "duration": 362,
    "start_time": "2021-11-07T19:49:43.053Z"
   },
   {
    "duration": 378,
    "start_time": "2021-11-07T19:49:43.418Z"
   },
   {
    "duration": 8,
    "start_time": "2021-11-07T19:49:43.801Z"
   },
   {
    "duration": 8,
    "start_time": "2021-11-07T19:49:43.812Z"
   },
   {
    "duration": 11,
    "start_time": "2021-11-07T19:49:43.825Z"
   },
   {
    "duration": 20,
    "start_time": "2021-11-07T19:49:43.839Z"
   },
   {
    "duration": 42,
    "start_time": "2021-11-07T19:49:43.861Z"
   },
   {
    "duration": 31,
    "start_time": "2021-11-07T19:49:43.906Z"
   },
   {
    "duration": 3,
    "start_time": "2021-11-07T19:49:43.940Z"
   },
   {
    "duration": 564,
    "start_time": "2021-11-07T19:49:43.945Z"
   },
   {
    "duration": 3204,
    "start_time": "2021-11-07T19:49:44.512Z"
   },
   {
    "duration": 3424,
    "start_time": "2021-11-07T19:49:47.802Z"
   },
   {
    "duration": 12896,
    "start_time": "2021-11-07T19:49:51.229Z"
   },
   {
    "duration": 4,
    "start_time": "2021-11-07T19:50:04.127Z"
   },
   {
    "duration": 6919,
    "start_time": "2021-11-07T19:50:04.133Z"
   },
   {
    "duration": 70045,
    "start_time": "2021-11-07T19:50:15.346Z"
   },
   {
    "duration": 4,
    "start_time": "2021-11-07T19:52:44.844Z"
   },
   {
    "duration": 6894,
    "start_time": "2021-11-07T19:52:45.644Z"
   },
   {
    "duration": 143625,
    "start_time": "2021-11-07T19:52:57.150Z"
   },
   {
    "duration": 141212,
    "start_time": "2021-11-07T19:55:26.328Z"
   },
   {
    "duration": 4,
    "start_time": "2021-11-07T19:57:49.309Z"
   },
   {
    "duration": 126496,
    "start_time": "2021-11-07T19:57:50.377Z"
   },
   {
    "duration": 4,
    "start_time": "2021-11-07T19:59:59.545Z"
   },
   {
    "duration": 69391,
    "start_time": "2021-11-07T20:00:00.234Z"
   },
   {
    "duration": 4,
    "start_time": "2021-11-07T20:03:18.712Z"
   },
   {
    "duration": 4,
    "start_time": "2021-11-07T20:03:49.034Z"
   },
   {
    "duration": 11538,
    "start_time": "2021-11-07T20:03:49.586Z"
   },
   {
    "duration": 71549,
    "start_time": "2021-11-07T20:04:08.482Z"
   },
   {
    "duration": 13949,
    "start_time": "2021-11-07T20:05:46.440Z"
   },
   {
    "duration": 198,
    "start_time": "2021-11-07T20:06:14.058Z"
   },
   {
    "duration": 833,
    "start_time": "2021-11-07T20:06:21.105Z"
   },
   {
    "duration": 325,
    "start_time": "2021-11-07T20:06:37.652Z"
   },
   {
    "duration": 1277,
    "start_time": "2021-11-07T20:06:38.887Z"
   },
   {
    "duration": 80,
    "start_time": "2021-11-07T20:06:47.750Z"
   },
   {
    "duration": 332,
    "start_time": "2021-11-07T20:06:48.726Z"
   },
   {
    "duration": 193,
    "start_time": "2021-11-07T20:06:55.785Z"
   },
   {
    "duration": 795,
    "start_time": "2021-11-07T20:06:57.012Z"
   },
   {
    "duration": 1173,
    "start_time": "2021-11-08T05:08:34.426Z"
   },
   {
    "duration": 736,
    "start_time": "2021-11-08T05:08:35.676Z"
   },
   {
    "duration": 21,
    "start_time": "2021-11-08T05:08:36.414Z"
   },
   {
    "duration": 15,
    "start_time": "2021-11-08T05:08:36.607Z"
   },
   {
    "duration": 19,
    "start_time": "2021-11-08T05:08:37.587Z"
   },
   {
    "duration": 10,
    "start_time": "2021-11-08T05:08:38.201Z"
   },
   {
    "duration": 19,
    "start_time": "2021-11-08T05:08:39.195Z"
   },
   {
    "duration": 19,
    "start_time": "2021-11-08T05:08:39.857Z"
   },
   {
    "duration": 6,
    "start_time": "2021-11-08T05:12:13.109Z"
   },
   {
    "duration": 787,
    "start_time": "2021-11-08T05:12:13.714Z"
   },
   {
    "duration": 127,
    "start_time": "2021-11-08T05:12:15.610Z"
   },
   {
    "duration": 12,
    "start_time": "2021-11-08T05:12:38.582Z"
   },
   {
    "duration": 30,
    "start_time": "2021-11-08T05:15:49.114Z"
   },
   {
    "duration": 17,
    "start_time": "2021-11-08T05:16:46.057Z"
   },
   {
    "duration": 17,
    "start_time": "2021-11-08T05:16:46.374Z"
   },
   {
    "duration": 17,
    "start_time": "2021-11-08T05:16:46.557Z"
   },
   {
    "duration": 16,
    "start_time": "2021-11-08T05:16:46.729Z"
   },
   {
    "duration": 171,
    "start_time": "2021-11-08T05:16:46.895Z"
   },
   {
    "duration": 5,
    "start_time": "2021-11-08T05:17:16.659Z"
   },
   {
    "duration": 312,
    "start_time": "2021-11-08T05:17:17.085Z"
   },
   {
    "duration": 5,
    "start_time": "2021-11-08T05:17:20.911Z"
   },
   {
    "duration": 461,
    "start_time": "2021-11-08T05:17:21.386Z"
   },
   {
    "duration": 247,
    "start_time": "2021-11-08T05:17:54.240Z"
   },
   {
    "duration": 149,
    "start_time": "2021-11-08T05:17:56.560Z"
   },
   {
    "duration": 5,
    "start_time": "2021-11-08T05:18:51.271Z"
   },
   {
    "duration": 2,
    "start_time": "2021-11-08T05:19:19.287Z"
   },
   {
    "duration": 8,
    "start_time": "2021-11-08T05:19:21.146Z"
   },
   {
    "duration": 14,
    "start_time": "2021-11-08T05:19:26.141Z"
   },
   {
    "duration": 5,
    "start_time": "2021-11-08T05:19:26.836Z"
   },
   {
    "duration": 24,
    "start_time": "2021-11-08T05:19:27.840Z"
   },
   {
    "duration": 3,
    "start_time": "2021-11-08T05:19:30.357Z"
   },
   {
    "duration": 4,
    "start_time": "2021-11-08T05:22:23.421Z"
   },
   {
    "duration": 418,
    "start_time": "2021-11-08T08:09:14.118Z"
   },
   {
    "duration": 1571,
    "start_time": "2021-11-08T08:10:24.114Z"
   },
   {
    "duration": 942,
    "start_time": "2021-11-08T08:10:25.688Z"
   },
   {
    "duration": 42,
    "start_time": "2021-11-08T08:10:26.636Z"
   },
   {
    "duration": 23,
    "start_time": "2021-11-08T08:10:26.680Z"
   },
   {
    "duration": 56,
    "start_time": "2021-11-08T08:10:26.705Z"
   },
   {
    "duration": 17,
    "start_time": "2021-11-08T08:10:26.763Z"
   },
   {
    "duration": 32,
    "start_time": "2021-11-08T08:10:26.783Z"
   },
   {
    "duration": 60,
    "start_time": "2021-11-08T08:10:26.821Z"
   },
   {
    "duration": 7,
    "start_time": "2021-11-08T08:10:26.885Z"
   },
   {
    "duration": 1464,
    "start_time": "2021-11-08T08:10:26.895Z"
   },
   {
    "duration": 342,
    "start_time": "2021-11-08T08:10:28.362Z"
   },
   {
    "duration": 17,
    "start_time": "2021-11-08T08:10:28.706Z"
   },
   {
    "duration": 57,
    "start_time": "2021-11-08T08:10:28.726Z"
   },
   {
    "duration": 5,
    "start_time": "2021-11-08T08:10:28.785Z"
   },
   {
    "duration": 22,
    "start_time": "2021-11-08T08:10:28.793Z"
   },
   {
    "duration": 49,
    "start_time": "2021-11-08T08:10:28.817Z"
   },
   {
    "duration": 22,
    "start_time": "2021-11-08T08:10:28.869Z"
   },
   {
    "duration": 21,
    "start_time": "2021-11-08T08:10:28.893Z"
   },
   {
    "duration": 367,
    "start_time": "2021-11-08T08:10:28.917Z"
   },
   {
    "duration": 5,
    "start_time": "2021-11-08T08:10:29.287Z"
   },
   {
    "duration": 707,
    "start_time": "2021-11-08T08:10:29.294Z"
   },
   {
    "duration": 6,
    "start_time": "2021-11-08T08:10:30.005Z"
   },
   {
    "duration": 881,
    "start_time": "2021-11-08T08:10:30.015Z"
   },
   {
    "duration": 15,
    "start_time": "2021-11-08T08:10:30.899Z"
   },
   {
    "duration": 25,
    "start_time": "2021-11-08T08:10:30.916Z"
   },
   {
    "duration": 28,
    "start_time": "2021-11-08T08:10:30.946Z"
   },
   {
    "duration": 22,
    "start_time": "2021-11-08T08:10:30.977Z"
   },
   {
    "duration": 374,
    "start_time": "2021-11-08T08:10:31.002Z"
   },
   {
    "duration": 260,
    "start_time": "2021-11-08T08:10:31.380Z"
   },
   {
    "duration": 17,
    "start_time": "2021-11-08T08:10:31.643Z"
   },
   {
    "duration": 10,
    "start_time": "2021-11-08T08:10:31.663Z"
   },
   {
    "duration": 13,
    "start_time": "2021-11-08T08:10:31.676Z"
   },
   {
    "duration": 19,
    "start_time": "2021-11-08T08:10:31.691Z"
   },
   {
    "duration": 6,
    "start_time": "2021-11-08T08:10:31.712Z"
   },
   {
    "duration": 56,
    "start_time": "2021-11-08T08:10:31.720Z"
   },
   {
    "duration": 3,
    "start_time": "2021-11-08T08:10:31.778Z"
   },
   {
    "duration": 376,
    "start_time": "2021-11-08T08:10:31.784Z"
   },
   {
    "duration": 1598,
    "start_time": "2021-11-08T08:10:32.163Z"
   },
   {
    "duration": 3473,
    "start_time": "2021-11-08T08:10:33.765Z"
   },
   {
    "duration": 13646,
    "start_time": "2021-11-08T08:10:37.240Z"
   },
   {
    "duration": 4,
    "start_time": "2021-11-08T08:10:50.888Z"
   },
   {
    "duration": 68636,
    "start_time": "2021-11-08T08:10:50.896Z"
   },
   {
    "duration": 198,
    "start_time": "2021-11-08T08:11:59.536Z"
   },
   {
    "duration": 773,
    "start_time": "2021-11-08T08:11:59.737Z"
   },
   {
    "duration": 26,
    "start_time": "2021-11-08T08:13:10.040Z"
   },
   {
    "duration": 521,
    "start_time": "2021-11-08T08:13:22.387Z"
   },
   {
    "duration": 12,
    "start_time": "2021-11-08T08:13:56.509Z"
   },
   {
    "duration": 16,
    "start_time": "2021-11-08T08:14:07.764Z"
   },
   {
    "duration": 1499,
    "start_time": "2021-11-08T08:15:01.228Z"
   },
   {
    "duration": 3,
    "start_time": "2021-11-08T08:15:02.730Z"
   },
   {
    "duration": 889,
    "start_time": "2021-11-08T08:15:02.739Z"
   },
   {
    "duration": 40,
    "start_time": "2021-11-08T08:15:03.630Z"
   },
   {
    "duration": 30,
    "start_time": "2021-11-08T08:15:03.672Z"
   },
   {
    "duration": 55,
    "start_time": "2021-11-08T08:15:03.705Z"
   },
   {
    "duration": 15,
    "start_time": "2021-11-08T08:15:03.763Z"
   },
   {
    "duration": 30,
    "start_time": "2021-11-08T08:15:03.783Z"
   },
   {
    "duration": 61,
    "start_time": "2021-11-08T08:15:03.816Z"
   },
   {
    "duration": 10,
    "start_time": "2021-11-08T08:15:03.880Z"
   },
   {
    "duration": 1433,
    "start_time": "2021-11-08T08:15:03.892Z"
   },
   {
    "duration": 222,
    "start_time": "2021-11-08T08:15:05.328Z"
   },
   {
    "duration": 18,
    "start_time": "2021-11-08T08:15:05.560Z"
   },
   {
    "duration": 35,
    "start_time": "2021-11-08T08:15:05.581Z"
   },
   {
    "duration": 7,
    "start_time": "2021-11-08T08:15:05.618Z"
   },
   {
    "duration": 25,
    "start_time": "2021-11-08T08:15:05.661Z"
   },
   {
    "duration": 24,
    "start_time": "2021-11-08T08:15:05.689Z"
   },
   {
    "duration": 60,
    "start_time": "2021-11-08T08:15:05.715Z"
   },
   {
    "duration": 24,
    "start_time": "2021-11-08T08:15:05.777Z"
   },
   {
    "duration": 318,
    "start_time": "2021-11-08T08:15:05.803Z"
   },
   {
    "duration": 7,
    "start_time": "2021-11-08T08:15:06.124Z"
   },
   {
    "duration": 555,
    "start_time": "2021-11-08T08:15:06.134Z"
   },
   {
    "duration": 6,
    "start_time": "2021-11-08T08:15:06.693Z"
   },
   {
    "duration": 1197,
    "start_time": "2021-11-08T08:15:06.702Z"
   },
   {
    "duration": 23,
    "start_time": "2021-11-08T08:15:07.902Z"
   },
   {
    "duration": 36,
    "start_time": "2021-11-08T08:15:07.932Z"
   },
   {
    "duration": 20,
    "start_time": "2021-11-08T08:15:07.972Z"
   },
   {
    "duration": 25,
    "start_time": "2021-11-08T08:15:07.995Z"
   },
   {
    "duration": 473,
    "start_time": "2021-11-08T08:15:08.023Z"
   },
   {
    "duration": 354,
    "start_time": "2021-11-08T08:15:08.499Z"
   },
   {
    "duration": 11,
    "start_time": "2021-11-08T08:15:08.860Z"
   },
   {
    "duration": 7,
    "start_time": "2021-11-08T08:15:08.873Z"
   },
   {
    "duration": 14,
    "start_time": "2021-11-08T08:15:08.882Z"
   },
   {
    "duration": 20,
    "start_time": "2021-11-08T08:15:08.898Z"
   },
   {
    "duration": 41,
    "start_time": "2021-11-08T08:15:08.921Z"
   },
   {
    "duration": 36,
    "start_time": "2021-11-08T08:15:08.965Z"
   },
   {
    "duration": 4,
    "start_time": "2021-11-08T08:15:09.004Z"
   },
   {
    "duration": 355,
    "start_time": "2021-11-08T08:15:09.010Z"
   },
   {
    "duration": 2001,
    "start_time": "2021-11-08T08:15:09.368Z"
   },
   {
    "duration": 3354,
    "start_time": "2021-11-08T08:15:11.460Z"
   },
   {
    "duration": 12743,
    "start_time": "2021-11-08T08:15:14.816Z"
   },
   {
    "duration": 4,
    "start_time": "2021-11-08T08:15:27.562Z"
   },
   {
    "duration": 70379,
    "start_time": "2021-11-08T08:15:27.569Z"
   },
   {
    "duration": 189,
    "start_time": "2021-11-08T08:16:37.951Z"
   },
   {
    "duration": 855,
    "start_time": "2021-11-08T08:16:38.142Z"
   },
   {
    "duration": 15,
    "start_time": "2021-11-08T08:29:49.253Z"
   },
   {
    "duration": 7,
    "start_time": "2021-11-08T08:31:11.849Z"
   },
   {
    "duration": 19,
    "start_time": "2021-11-08T08:31:28.153Z"
   },
   {
    "duration": 15,
    "start_time": "2021-11-08T08:32:00.892Z"
   },
   {
    "duration": 19,
    "start_time": "2021-11-08T08:32:12.457Z"
   },
   {
    "duration": 16,
    "start_time": "2021-11-08T08:33:07.514Z"
   },
   {
    "duration": 44,
    "start_time": "2021-11-08T08:34:30.521Z"
   },
   {
    "duration": 41,
    "start_time": "2021-11-08T08:34:47.531Z"
   },
   {
    "duration": 29,
    "start_time": "2021-11-08T08:35:05.571Z"
   },
   {
    "duration": 9211,
    "start_time": "2021-11-08T08:37:33.675Z"
   },
   {
    "duration": 16,
    "start_time": "2021-11-08T08:38:05.460Z"
   },
   {
    "duration": 22,
    "start_time": "2021-11-08T08:38:28.514Z"
   },
   {
    "duration": 21,
    "start_time": "2021-11-08T08:42:26.330Z"
   },
   {
    "duration": 27,
    "start_time": "2021-11-08T08:46:27.101Z"
   },
   {
    "duration": 1440,
    "start_time": "2021-11-08T09:04:18.338Z"
   },
   {
    "duration": 4,
    "start_time": "2021-11-08T09:04:19.781Z"
   },
   {
    "duration": 921,
    "start_time": "2021-11-08T09:04:19.791Z"
   },
   {
    "duration": 47,
    "start_time": "2021-11-08T09:04:20.715Z"
   },
   {
    "duration": 24,
    "start_time": "2021-11-08T09:04:20.764Z"
   },
   {
    "duration": 29,
    "start_time": "2021-11-08T09:04:20.791Z"
   },
   {
    "duration": 49,
    "start_time": "2021-11-08T09:04:20.823Z"
   },
   {
    "duration": 30,
    "start_time": "2021-11-08T09:04:20.878Z"
   },
   {
    "duration": 61,
    "start_time": "2021-11-08T09:04:20.912Z"
   },
   {
    "duration": 8,
    "start_time": "2021-11-08T09:04:20.975Z"
   },
   {
    "duration": 1380,
    "start_time": "2021-11-08T09:04:20.985Z"
   },
   {
    "duration": 217,
    "start_time": "2021-11-08T09:04:22.367Z"
   },
   {
    "duration": 16,
    "start_time": "2021-11-08T09:04:22.586Z"
   },
   {
    "duration": 55,
    "start_time": "2021-11-08T09:04:22.604Z"
   },
   {
    "duration": 5,
    "start_time": "2021-11-08T09:04:22.662Z"
   },
   {
    "duration": 24,
    "start_time": "2021-11-08T09:04:22.669Z"
   },
   {
    "duration": 26,
    "start_time": "2021-11-08T09:04:22.696Z"
   },
   {
    "duration": 50,
    "start_time": "2021-11-08T09:04:22.724Z"
   },
   {
    "duration": 25,
    "start_time": "2021-11-08T09:04:22.776Z"
   },
   {
    "duration": 22,
    "start_time": "2021-11-08T09:04:22.803Z"
   },
   {
    "duration": 54,
    "start_time": "2021-11-08T09:04:22.827Z"
   },
   {
    "duration": 28,
    "start_time": "2021-11-08T09:04:22.883Z"
   },
   {
    "duration": 50,
    "start_time": "2021-11-08T09:04:22.913Z"
   },
   {
    "duration": 310,
    "start_time": "2021-11-08T09:04:22.966Z"
   },
   {
    "duration": 5,
    "start_time": "2021-11-08T09:04:23.279Z"
   },
   {
    "duration": 549,
    "start_time": "2021-11-08T09:04:23.289Z"
   },
   {
    "duration": 5,
    "start_time": "2021-11-08T09:04:23.841Z"
   },
   {
    "duration": 785,
    "start_time": "2021-11-08T09:04:23.860Z"
   },
   {
    "duration": 342,
    "start_time": "2021-11-08T09:04:24.647Z"
   },
   {
    "duration": 253,
    "start_time": "2021-11-08T09:04:24.992Z"
   },
   {
    "duration": 17,
    "start_time": "2021-11-08T09:04:25.247Z"
   },
   {
    "duration": 10,
    "start_time": "2021-11-08T09:04:25.266Z"
   },
   {
    "duration": 15,
    "start_time": "2021-11-08T09:04:25.278Z"
   },
   {
    "duration": 19,
    "start_time": "2021-11-08T09:04:25.295Z"
   },
   {
    "duration": 6,
    "start_time": "2021-11-08T09:04:25.316Z"
   },
   {
    "duration": 55,
    "start_time": "2021-11-08T09:04:25.324Z"
   },
   {
    "duration": 3,
    "start_time": "2021-11-08T09:04:25.382Z"
   },
   {
    "duration": 380,
    "start_time": "2021-11-08T09:04:25.387Z"
   },
   {
    "duration": 1890,
    "start_time": "2021-11-08T09:04:25.770Z"
   },
   {
    "duration": 3365,
    "start_time": "2021-11-08T09:04:27.663Z"
   },
   {
    "duration": 12054,
    "start_time": "2021-11-08T09:04:31.032Z"
   },
   {
    "duration": 5,
    "start_time": "2021-11-08T09:04:43.089Z"
   },
   {
    "duration": 66036,
    "start_time": "2021-11-08T09:04:43.097Z"
   },
   {
    "duration": 193,
    "start_time": "2021-11-08T09:05:49.135Z"
   },
   {
    "duration": 757,
    "start_time": "2021-11-08T09:05:49.331Z"
   },
   {
    "duration": 576,
    "start_time": "2021-11-08T09:08:02.561Z"
   },
   {
    "duration": 39,
    "start_time": "2021-11-08T09:08:17.033Z"
   },
   {
    "duration": 7702,
    "start_time": "2021-11-08T09:12:20.359Z"
   },
   {
    "duration": 2575,
    "start_time": "2021-11-08T09:13:03.900Z"
   },
   {
    "duration": 2741,
    "start_time": "2021-11-08T09:13:40.111Z"
   },
   {
    "duration": 2811,
    "start_time": "2021-11-08T09:15:14.914Z"
   },
   {
    "duration": 42,
    "start_time": "2021-11-08T09:15:34.463Z"
   },
   {
    "duration": 11,
    "start_time": "2021-11-08T09:15:48.352Z"
   },
   {
    "duration": 6901,
    "start_time": "2021-11-08T09:16:10.240Z"
   },
   {
    "duration": 40,
    "start_time": "2021-11-08T09:19:00.670Z"
   },
   {
    "duration": 55,
    "start_time": "2021-11-08T09:19:25.848Z"
   },
   {
    "duration": 63,
    "start_time": "2021-11-08T09:19:55.048Z"
   },
   {
    "duration": 71,
    "start_time": "2021-11-08T09:20:11.136Z"
   },
   {
    "duration": 172,
    "start_time": "2021-11-08T09:20:27.594Z"
   },
   {
    "duration": 132,
    "start_time": "2021-11-08T09:21:20.321Z"
   },
   {
    "duration": 7755,
    "start_time": "2021-11-08T09:21:47.180Z"
   },
   {
    "duration": 8344,
    "start_time": "2021-11-08T09:22:26.102Z"
   },
   {
    "duration": 15766,
    "start_time": "2021-11-08T09:22:46.948Z"
   },
   {
    "duration": 15615,
    "start_time": "2021-11-08T09:24:24.174Z"
   },
   {
    "duration": 17947,
    "start_time": "2021-11-08T09:25:11.252Z"
   },
   {
    "duration": 7760,
    "start_time": "2021-11-08T09:25:37.603Z"
   },
   {
    "duration": 16189,
    "start_time": "2021-11-08T09:28:03.912Z"
   },
   {
    "duration": 15584,
    "start_time": "2021-11-08T09:33:30.224Z"
   },
   {
    "duration": 15258,
    "start_time": "2021-11-08T09:36:15.940Z"
   },
   {
    "duration": 15781,
    "start_time": "2021-11-08T09:37:37.868Z"
   },
   {
    "duration": 11164,
    "start_time": "2021-11-08T09:38:33.748Z"
   },
   {
    "duration": 5444,
    "start_time": "2021-11-08T09:39:01.477Z"
   },
   {
    "duration": 11446,
    "start_time": "2021-11-08T09:39:14.595Z"
   },
   {
    "duration": 5143,
    "start_time": "2021-11-08T09:39:59.177Z"
   },
   {
    "duration": 7767,
    "start_time": "2021-11-08T09:41:07.675Z"
   },
   {
    "duration": 134,
    "start_time": "2021-11-08T09:41:46.112Z"
   },
   {
    "duration": 15824,
    "start_time": "2021-11-08T09:41:51.554Z"
   },
   {
    "duration": 1473,
    "start_time": "2021-11-08T09:42:24.943Z"
   },
   {
    "duration": 3,
    "start_time": "2021-11-08T09:42:26.419Z"
   },
   {
    "duration": 881,
    "start_time": "2021-11-08T09:42:26.427Z"
   },
   {
    "duration": 49,
    "start_time": "2021-11-08T09:42:27.310Z"
   },
   {
    "duration": 26,
    "start_time": "2021-11-08T09:42:27.362Z"
   },
   {
    "duration": 31,
    "start_time": "2021-11-08T09:42:27.391Z"
   },
   {
    "duration": 50,
    "start_time": "2021-11-08T09:42:27.425Z"
   },
   {
    "duration": 29,
    "start_time": "2021-11-08T09:42:27.480Z"
   },
   {
    "duration": 57,
    "start_time": "2021-11-08T09:42:27.514Z"
   },
   {
    "duration": 7,
    "start_time": "2021-11-08T09:42:27.573Z"
   },
   {
    "duration": 1397,
    "start_time": "2021-11-08T09:42:27.582Z"
   },
   {
    "duration": 291,
    "start_time": "2021-11-08T09:42:28.982Z"
   },
   {
    "duration": 13,
    "start_time": "2021-11-08T09:42:29.276Z"
   },
   {
    "duration": 31,
    "start_time": "2021-11-08T09:42:29.291Z"
   },
   {
    "duration": 15511,
    "start_time": "2021-11-08T09:42:29.324Z"
   },
   {
    "duration": 10437,
    "start_time": "2021-11-08T09:42:44.837Z"
   },
   {
    "duration": 4800,
    "start_time": "2021-11-08T09:42:55.276Z"
   },
   {
    "duration": 5,
    "start_time": "2021-11-08T09:43:00.078Z"
   },
   {
    "duration": 26,
    "start_time": "2021-11-08T09:43:00.085Z"
   },
   {
    "duration": 50,
    "start_time": "2021-11-08T09:43:00.113Z"
   },
   {
    "duration": 22,
    "start_time": "2021-11-08T09:43:00.165Z"
   },
   {
    "duration": 26,
    "start_time": "2021-11-08T09:43:00.189Z"
   },
   {
    "duration": 55,
    "start_time": "2021-11-08T09:43:00.217Z"
   },
   {
    "duration": 26,
    "start_time": "2021-11-08T09:43:00.275Z"
   },
   {
    "duration": 28,
    "start_time": "2021-11-08T09:43:00.304Z"
   },
   {
    "duration": 28,
    "start_time": "2021-11-08T09:43:00.359Z"
   },
   {
    "duration": 316,
    "start_time": "2021-11-08T09:43:00.390Z"
   },
   {
    "duration": 6,
    "start_time": "2021-11-08T09:43:00.709Z"
   },
   {
    "duration": 576,
    "start_time": "2021-11-08T09:43:00.717Z"
   },
   {
    "duration": 5,
    "start_time": "2021-11-08T09:43:01.295Z"
   },
   {
    "duration": 901,
    "start_time": "2021-11-08T09:43:01.303Z"
   },
   {
    "duration": 273,
    "start_time": "2021-11-08T09:43:02.206Z"
   },
   {
    "duration": 267,
    "start_time": "2021-11-08T09:43:02.481Z"
   },
   {
    "duration": 12,
    "start_time": "2021-11-08T09:43:02.750Z"
   },
   {
    "duration": 12,
    "start_time": "2021-11-08T09:43:02.764Z"
   },
   {
    "duration": 28,
    "start_time": "2021-11-08T09:43:02.779Z"
   },
   {
    "duration": 20,
    "start_time": "2021-11-08T09:43:02.810Z"
   },
   {
    "duration": 6,
    "start_time": "2021-11-08T09:43:02.832Z"
   },
   {
    "duration": 34,
    "start_time": "2021-11-08T09:43:02.840Z"
   },
   {
    "duration": 3,
    "start_time": "2021-11-08T09:43:02.876Z"
   },
   {
    "duration": 185,
    "start_time": "2021-11-08T09:43:02.882Z"
   },
   {
    "duration": 2005,
    "start_time": "2021-11-08T09:43:03.161Z"
   },
   {
    "duration": 3234,
    "start_time": "2021-11-08T09:43:05.169Z"
   },
   {
    "duration": 12065,
    "start_time": "2021-11-08T09:43:08.406Z"
   },
   {
    "duration": 5,
    "start_time": "2021-11-08T09:43:20.474Z"
   },
   {
    "duration": 67590,
    "start_time": "2021-11-08T09:43:20.482Z"
   },
   {
    "duration": 190,
    "start_time": "2021-11-08T09:44:28.074Z"
   },
   {
    "duration": 745,
    "start_time": "2021-11-08T09:44:28.266Z"
   },
   {
    "duration": 1515,
    "start_time": "2021-11-08T09:52:59.373Z"
   },
   {
    "duration": 1347,
    "start_time": "2021-11-08T09:53:17.493Z"
   },
   {
    "duration": 1389,
    "start_time": "2021-11-08T09:53:27.709Z"
   },
   {
    "duration": 988,
    "start_time": "2021-11-08T09:53:44.069Z"
   },
   {
    "duration": 399,
    "start_time": "2021-11-08T09:53:58.788Z"
   },
   {
    "duration": 15736,
    "start_time": "2021-11-08T09:55:17.765Z"
   },
   {
    "duration": 43,
    "start_time": "2021-11-08T09:55:49.956Z"
   },
   {
    "duration": 90,
    "start_time": "2021-11-08T09:58:38.817Z"
   },
   {
    "duration": 67,
    "start_time": "2021-11-08T09:59:07.689Z"
   },
   {
    "duration": 1144,
    "start_time": "2021-11-08T10:04:45.803Z"
   },
   {
    "duration": 89,
    "start_time": "2021-11-08T10:06:32.013Z"
   },
   {
    "duration": 3,
    "start_time": "2021-11-08T10:07:25.260Z"
   },
   {
    "duration": 151,
    "start_time": "2021-11-08T10:07:27.385Z"
   },
   {
    "duration": 162,
    "start_time": "2021-11-08T10:08:36.197Z"
   },
   {
    "duration": 156,
    "start_time": "2021-11-08T10:10:42.072Z"
   },
   {
    "duration": 168,
    "start_time": "2021-11-08T10:10:49.559Z"
   },
   {
    "duration": 467,
    "start_time": "2021-11-08T10:13:34.861Z"
   },
   {
    "duration": 1500,
    "start_time": "2021-11-08T10:13:58.459Z"
   },
   {
    "duration": 3,
    "start_time": "2021-11-08T10:13:59.962Z"
   },
   {
    "duration": 977,
    "start_time": "2021-11-08T10:13:59.968Z"
   },
   {
    "duration": 45,
    "start_time": "2021-11-08T10:14:00.948Z"
   },
   {
    "duration": 33,
    "start_time": "2021-11-08T10:14:00.995Z"
   },
   {
    "duration": 51,
    "start_time": "2021-11-08T10:14:01.030Z"
   },
   {
    "duration": 30,
    "start_time": "2021-11-08T10:14:01.084Z"
   },
   {
    "duration": 43,
    "start_time": "2021-11-08T10:14:01.117Z"
   },
   {
    "duration": 57,
    "start_time": "2021-11-08T10:14:01.165Z"
   },
   {
    "duration": 7,
    "start_time": "2021-11-08T10:14:01.225Z"
   },
   {
    "duration": 1682,
    "start_time": "2021-11-08T10:14:01.235Z"
   },
   {
    "duration": 219,
    "start_time": "2021-11-08T10:14:02.920Z"
   },
   {
    "duration": 22,
    "start_time": "2021-11-08T10:14:03.141Z"
   },
   {
    "duration": 22,
    "start_time": "2021-11-08T10:14:03.165Z"
   },
   {
    "duration": 196,
    "start_time": "2021-11-08T10:14:03.189Z"
   },
   {
    "duration": 5,
    "start_time": "2021-11-08T10:14:03.387Z"
   },
   {
    "duration": 23,
    "start_time": "2021-11-08T10:14:03.394Z"
   },
   {
    "duration": 44,
    "start_time": "2021-11-08T10:14:03.420Z"
   },
   {
    "duration": 21,
    "start_time": "2021-11-08T10:14:03.466Z"
   },
   {
    "duration": 24,
    "start_time": "2021-11-08T10:14:03.490Z"
   },
   {
    "duration": 46,
    "start_time": "2021-11-08T10:14:03.516Z"
   },
   {
    "duration": 25,
    "start_time": "2021-11-08T10:14:03.564Z"
   },
   {
    "duration": 26,
    "start_time": "2021-11-08T10:14:03.591Z"
   },
   {
    "duration": 57,
    "start_time": "2021-11-08T10:14:03.620Z"
   },
   {
    "duration": 293,
    "start_time": "2021-11-08T10:14:03.679Z"
   },
   {
    "duration": 5,
    "start_time": "2021-11-08T10:14:03.974Z"
   },
   {
    "duration": 544,
    "start_time": "2021-11-08T10:14:03.984Z"
   },
   {
    "duration": 6,
    "start_time": "2021-11-08T10:14:04.531Z"
   },
   {
    "duration": 831,
    "start_time": "2021-11-08T10:14:04.539Z"
   },
   {
    "duration": 344,
    "start_time": "2021-11-08T10:14:05.372Z"
   },
   {
    "duration": 268,
    "start_time": "2021-11-08T10:14:05.719Z"
   },
   {
    "duration": 10,
    "start_time": "2021-11-08T10:14:05.991Z"
   },
   {
    "duration": 22,
    "start_time": "2021-11-08T10:14:06.004Z"
   },
   {
    "duration": 29,
    "start_time": "2021-11-08T10:14:06.028Z"
   },
   {
    "duration": 24,
    "start_time": "2021-11-08T10:14:06.060Z"
   },
   {
    "duration": 7,
    "start_time": "2021-11-08T10:14:06.086Z"
   },
   {
    "duration": 31,
    "start_time": "2021-11-08T10:14:06.095Z"
   },
   {
    "duration": 3,
    "start_time": "2021-11-08T10:14:06.129Z"
   },
   {
    "duration": 332,
    "start_time": "2021-11-08T10:14:06.134Z"
   },
   {
    "duration": 1891,
    "start_time": "2021-11-08T10:14:06.470Z"
   },
   {
    "duration": 3733,
    "start_time": "2021-11-08T10:14:08.365Z"
   },
   {
    "duration": 12259,
    "start_time": "2021-11-08T10:14:12.100Z"
   },
   {
    "duration": 4,
    "start_time": "2021-11-08T10:14:24.361Z"
   },
   {
    "duration": 68207,
    "start_time": "2021-11-08T10:14:24.368Z"
   },
   {
    "duration": 185,
    "start_time": "2021-11-08T10:15:32.578Z"
   },
   {
    "duration": 744,
    "start_time": "2021-11-08T10:15:32.765Z"
   },
   {
    "duration": 585,
    "start_time": "2021-11-08T10:18:37.927Z"
   },
   {
    "duration": 487,
    "start_time": "2021-11-08T10:19:24.483Z"
   },
   {
    "duration": 427,
    "start_time": "2021-11-08T10:19:43.895Z"
   },
   {
    "duration": 372,
    "start_time": "2021-11-08T10:30:11.334Z"
   },
   {
    "duration": 6,
    "start_time": "2021-11-08T10:30:40.021Z"
   },
   {
    "duration": 8,
    "start_time": "2021-11-08T10:31:35.353Z"
   },
   {
    "duration": 361,
    "start_time": "2021-11-08T10:33:09.353Z"
   },
   {
    "duration": 9,
    "start_time": "2021-11-08T10:33:28.646Z"
   },
   {
    "duration": 1404,
    "start_time": "2021-11-08T10:35:17.281Z"
   },
   {
    "duration": 3,
    "start_time": "2021-11-08T10:35:18.688Z"
   },
   {
    "duration": 912,
    "start_time": "2021-11-08T10:35:18.694Z"
   },
   {
    "duration": 35,
    "start_time": "2021-11-08T10:35:19.609Z"
   },
   {
    "duration": 23,
    "start_time": "2021-11-08T10:35:19.660Z"
   },
   {
    "duration": 30,
    "start_time": "2021-11-08T10:35:19.685Z"
   },
   {
    "duration": 54,
    "start_time": "2021-11-08T10:35:19.719Z"
   },
   {
    "duration": 32,
    "start_time": "2021-11-08T10:35:19.779Z"
   },
   {
    "duration": 58,
    "start_time": "2021-11-08T10:35:19.815Z"
   },
   {
    "duration": 8,
    "start_time": "2021-11-08T10:35:19.875Z"
   },
   {
    "duration": 1615,
    "start_time": "2021-11-08T10:35:19.885Z"
   },
   {
    "duration": 225,
    "start_time": "2021-11-08T10:35:21.503Z"
   },
   {
    "duration": 15,
    "start_time": "2021-11-08T10:35:21.731Z"
   },
   {
    "duration": 12,
    "start_time": "2021-11-08T10:35:21.748Z"
   },
   {
    "duration": 197,
    "start_time": "2021-11-08T10:35:21.762Z"
   },
   {
    "duration": 4,
    "start_time": "2021-11-08T10:35:21.962Z"
   },
   {
    "duration": 38,
    "start_time": "2021-11-08T10:35:21.968Z"
   },
   {
    "duration": 32,
    "start_time": "2021-11-08T10:35:22.009Z"
   },
   {
    "duration": 25,
    "start_time": "2021-11-08T10:35:22.043Z"
   },
   {
    "duration": 29,
    "start_time": "2021-11-08T10:35:22.070Z"
   },
   {
    "duration": 38,
    "start_time": "2021-11-08T10:35:22.101Z"
   },
   {
    "duration": 30,
    "start_time": "2021-11-08T10:35:22.141Z"
   },
   {
    "duration": 29,
    "start_time": "2021-11-08T10:35:22.176Z"
   },
   {
    "duration": 26,
    "start_time": "2021-11-08T10:35:22.207Z"
   },
   {
    "duration": 295,
    "start_time": "2021-11-08T10:35:22.236Z"
   },
   {
    "duration": 6,
    "start_time": "2021-11-08T10:35:22.533Z"
   },
   {
    "duration": 736,
    "start_time": "2021-11-08T10:35:22.541Z"
   },
   {
    "duration": 6,
    "start_time": "2021-11-08T10:35:23.279Z"
   },
   {
    "duration": 945,
    "start_time": "2021-11-08T10:35:23.287Z"
   },
   {
    "duration": 344,
    "start_time": "2021-11-08T10:35:24.234Z"
   },
   {
    "duration": 266,
    "start_time": "2021-11-08T10:35:24.581Z"
   },
   {
    "duration": 13,
    "start_time": "2021-11-08T10:35:24.849Z"
   },
   {
    "duration": 16,
    "start_time": "2021-11-08T10:35:24.864Z"
   },
   {
    "duration": 16,
    "start_time": "2021-11-08T10:35:24.882Z"
   },
   {
    "duration": 16,
    "start_time": "2021-11-08T10:35:24.900Z"
   },
   {
    "duration": 5,
    "start_time": "2021-11-08T10:35:24.919Z"
   },
   {
    "duration": 51,
    "start_time": "2021-11-08T10:35:24.926Z"
   },
   {
    "duration": 3,
    "start_time": "2021-11-08T10:35:24.979Z"
   },
   {
    "duration": 280,
    "start_time": "2021-11-08T10:35:24.984Z"
   },
   {
    "duration": 1192,
    "start_time": "2021-11-08T10:35:25.267Z"
   },
   {
    "duration": 1893,
    "start_time": "2021-11-08T10:35:26.461Z"
   },
   {
    "duration": 6720,
    "start_time": "2021-11-08T10:35:28.359Z"
   },
   {
    "duration": 4,
    "start_time": "2021-11-08T10:35:35.082Z"
   },
   {
    "duration": 41641,
    "start_time": "2021-11-08T10:35:35.088Z"
   },
   {
    "duration": 138,
    "start_time": "2021-11-08T10:36:16.731Z"
   },
   {
    "duration": 500,
    "start_time": "2021-11-08T10:36:16.871Z"
   },
   {
    "duration": 67,
    "start_time": "2021-11-08T10:36:17.374Z"
   },
   {
    "duration": 12,
    "start_time": "2021-11-08T10:37:01.791Z"
   },
   {
    "duration": 1603,
    "start_time": "2021-11-08T10:45:01.256Z"
   },
   {
    "duration": 3,
    "start_time": "2021-11-08T10:45:02.862Z"
   },
   {
    "duration": 876,
    "start_time": "2021-11-08T10:45:02.868Z"
   },
   {
    "duration": 52,
    "start_time": "2021-11-08T10:45:03.748Z"
   },
   {
    "duration": 23,
    "start_time": "2021-11-08T10:45:03.802Z"
   },
   {
    "duration": 52,
    "start_time": "2021-11-08T10:45:03.827Z"
   },
   {
    "duration": 17,
    "start_time": "2021-11-08T10:45:03.882Z"
   },
   {
    "duration": 59,
    "start_time": "2021-11-08T10:45:03.902Z"
   },
   {
    "duration": 26,
    "start_time": "2021-11-08T10:45:03.965Z"
   },
   {
    "duration": 7,
    "start_time": "2021-11-08T10:45:03.994Z"
   },
   {
    "duration": 1468,
    "start_time": "2021-11-08T10:45:04.003Z"
   },
   {
    "duration": 233,
    "start_time": "2021-11-08T10:45:05.474Z"
   },
   {
    "duration": 15,
    "start_time": "2021-11-08T10:45:05.709Z"
   },
   {
    "duration": 7,
    "start_time": "2021-11-08T10:45:05.726Z"
   },
   {
    "duration": 195,
    "start_time": "2021-11-08T10:45:05.735Z"
   },
   {
    "duration": 5,
    "start_time": "2021-11-08T10:45:05.932Z"
   },
   {
    "duration": 33,
    "start_time": "2021-11-08T10:45:05.940Z"
   },
   {
    "duration": 25,
    "start_time": "2021-11-08T10:45:05.975Z"
   },
   {
    "duration": 22,
    "start_time": "2021-11-08T10:45:06.002Z"
   },
   {
    "duration": 55,
    "start_time": "2021-11-08T10:45:06.026Z"
   },
   {
    "duration": 22,
    "start_time": "2021-11-08T10:45:06.083Z"
   },
   {
    "duration": 26,
    "start_time": "2021-11-08T10:45:06.107Z"
   },
   {
    "duration": 51,
    "start_time": "2021-11-08T10:45:06.135Z"
   },
   {
    "duration": 27,
    "start_time": "2021-11-08T10:45:06.189Z"
   },
   {
    "duration": 312,
    "start_time": "2021-11-08T10:45:06.219Z"
   },
   {
    "duration": 6,
    "start_time": "2021-11-08T10:45:06.534Z"
   },
   {
    "duration": 550,
    "start_time": "2021-11-08T10:45:06.545Z"
   },
   {
    "duration": 5,
    "start_time": "2021-11-08T10:45:07.099Z"
   },
   {
    "duration": 814,
    "start_time": "2021-11-08T10:45:07.107Z"
   },
   {
    "duration": 338,
    "start_time": "2021-11-08T10:45:07.924Z"
   },
   {
    "duration": 262,
    "start_time": "2021-11-08T10:45:08.264Z"
   },
   {
    "duration": 9,
    "start_time": "2021-11-08T10:45:08.529Z"
   },
   {
    "duration": 21,
    "start_time": "2021-11-08T10:45:08.540Z"
   },
   {
    "duration": 17,
    "start_time": "2021-11-08T10:45:08.564Z"
   },
   {
    "duration": 7,
    "start_time": "2021-11-08T10:45:08.583Z"
   },
   {
    "duration": 10,
    "start_time": "2021-11-08T10:45:08.592Z"
   },
   {
    "duration": 55,
    "start_time": "2021-11-08T10:45:08.604Z"
   },
   {
    "duration": 4,
    "start_time": "2021-11-08T10:45:08.662Z"
   },
   {
    "duration": 294,
    "start_time": "2021-11-08T10:45:08.668Z"
   },
   {
    "duration": 1292,
    "start_time": "2021-11-08T10:45:08.967Z"
   },
   {
    "duration": 1121,
    "start_time": "2021-11-08T10:45:10.262Z"
   },
   {
    "duration": 4693,
    "start_time": "2021-11-08T10:45:11.386Z"
   },
   {
    "duration": 4,
    "start_time": "2021-11-08T10:45:16.082Z"
   },
   {
    "duration": 46844,
    "start_time": "2021-11-08T10:45:16.089Z"
   },
   {
    "duration": 157,
    "start_time": "2021-11-08T10:46:02.935Z"
   },
   {
    "duration": 643,
    "start_time": "2021-11-08T10:46:03.094Z"
   },
   {
    "duration": 502,
    "start_time": "2021-11-08T10:59:27.766Z"
   },
   {
    "duration": 4,
    "start_time": "2021-11-08T10:59:51.674Z"
   },
   {
    "duration": 348,
    "start_time": "2021-11-08T10:59:52.444Z"
   },
   {
    "duration": 441,
    "start_time": "2021-11-08T11:00:25.748Z"
   },
   {
    "duration": 9,
    "start_time": "2021-11-08T11:01:03.041Z"
   },
   {
    "duration": 66,
    "start_time": "2021-11-08T11:04:19.214Z"
   },
   {
    "duration": 77,
    "start_time": "2021-11-08T11:04:57.278Z"
   },
   {
    "duration": 73,
    "start_time": "2021-11-08T11:09:56.401Z"
   },
   {
    "duration": 6,
    "start_time": "2021-11-08T11:10:18.290Z"
   },
   {
    "duration": 8,
    "start_time": "2021-11-08T11:13:13.643Z"
   },
   {
    "duration": 5,
    "start_time": "2021-11-08T11:13:37.426Z"
   },
   {
    "duration": 411,
    "start_time": "2021-11-08T11:16:37.354Z"
   },
   {
    "duration": 926,
    "start_time": "2021-11-08T11:16:46.196Z"
   },
   {
    "duration": 401,
    "start_time": "2021-11-08T11:17:33.186Z"
   },
   {
    "duration": 6,
    "start_time": "2021-11-08T11:18:27.653Z"
   },
   {
    "duration": 71,
    "start_time": "2021-11-08T11:18:51.452Z"
   },
   {
    "duration": 876,
    "start_time": "2021-11-08T11:31:18.660Z"
   },
   {
    "duration": 9,
    "start_time": "2021-11-08T11:31:31.622Z"
   },
   {
    "duration": 772,
    "start_time": "2021-11-08T11:31:32.401Z"
   },
   {
    "duration": 9,
    "start_time": "2021-11-08T11:31:45.650Z"
   },
   {
    "duration": 4,
    "start_time": "2021-11-08T11:32:08.453Z"
   },
   {
    "duration": 37,
    "start_time": "2021-11-08T11:32:09.206Z"
   },
   {
    "duration": 183,
    "start_time": "2021-11-08T11:35:14.079Z"
   },
   {
    "duration": 39,
    "start_time": "2021-11-08T11:35:27.426Z"
   },
   {
    "duration": 123,
    "start_time": "2021-11-08T11:36:06.773Z"
   },
   {
    "duration": 47,
    "start_time": "2021-11-08T11:36:19.126Z"
   },
   {
    "duration": 1680,
    "start_time": "2021-11-08T11:36:35.732Z"
   },
   {
    "duration": 3,
    "start_time": "2021-11-08T11:36:37.415Z"
   },
   {
    "duration": 881,
    "start_time": "2021-11-08T11:36:37.421Z"
   },
   {
    "duration": 34,
    "start_time": "2021-11-08T11:36:38.305Z"
   },
   {
    "duration": 35,
    "start_time": "2021-11-08T11:36:38.341Z"
   },
   {
    "duration": 30,
    "start_time": "2021-11-08T11:36:38.378Z"
   },
   {
    "duration": 24,
    "start_time": "2021-11-08T11:36:38.410Z"
   },
   {
    "duration": 29,
    "start_time": "2021-11-08T11:36:38.460Z"
   },
   {
    "duration": 32,
    "start_time": "2021-11-08T11:36:38.493Z"
   },
   {
    "duration": 31,
    "start_time": "2021-11-08T11:36:38.528Z"
   },
   {
    "duration": 1409,
    "start_time": "2021-11-08T11:36:38.561Z"
   },
   {
    "duration": 225,
    "start_time": "2021-11-08T11:36:39.973Z"
   },
   {
    "duration": 14,
    "start_time": "2021-11-08T11:36:40.201Z"
   },
   {
    "duration": 7,
    "start_time": "2021-11-08T11:36:40.218Z"
   },
   {
    "duration": 202,
    "start_time": "2021-11-08T11:36:40.227Z"
   },
   {
    "duration": 5,
    "start_time": "2021-11-08T11:36:40.432Z"
   },
   {
    "duration": 32,
    "start_time": "2021-11-08T11:36:40.439Z"
   },
   {
    "duration": 25,
    "start_time": "2021-11-08T11:36:40.474Z"
   },
   {
    "duration": 23,
    "start_time": "2021-11-08T11:36:40.501Z"
   },
   {
    "duration": 53,
    "start_time": "2021-11-08T11:36:40.526Z"
   },
   {
    "duration": 22,
    "start_time": "2021-11-08T11:36:40.581Z"
   },
   {
    "duration": 28,
    "start_time": "2021-11-08T11:36:40.605Z"
   },
   {
    "duration": 48,
    "start_time": "2021-11-08T11:36:40.635Z"
   },
   {
    "duration": 27,
    "start_time": "2021-11-08T11:36:40.685Z"
   },
   {
    "duration": 332,
    "start_time": "2021-11-08T11:36:40.714Z"
   },
   {
    "duration": 14,
    "start_time": "2021-11-08T11:36:41.049Z"
   },
   {
    "duration": 567,
    "start_time": "2021-11-08T11:36:41.070Z"
   },
   {
    "duration": 6,
    "start_time": "2021-11-08T11:36:41.641Z"
   },
   {
    "duration": 812,
    "start_time": "2021-11-08T11:36:41.660Z"
   },
   {
    "duration": 327,
    "start_time": "2021-11-08T11:36:42.475Z"
   },
   {
    "duration": 268,
    "start_time": "2021-11-08T11:36:42.804Z"
   },
   {
    "duration": 10,
    "start_time": "2021-11-08T11:36:43.075Z"
   },
   {
    "duration": 10,
    "start_time": "2021-11-08T11:36:43.087Z"
   },
   {
    "duration": 19,
    "start_time": "2021-11-08T11:36:43.099Z"
   },
   {
    "duration": 13,
    "start_time": "2021-11-08T11:36:43.120Z"
   },
   {
    "duration": 25,
    "start_time": "2021-11-08T11:36:43.135Z"
   },
   {
    "duration": 26,
    "start_time": "2021-11-08T11:36:43.162Z"
   },
   {
    "duration": 4,
    "start_time": "2021-11-08T11:36:43.190Z"
   },
   {
    "duration": 264,
    "start_time": "2021-11-08T11:36:43.196Z"
   },
   {
    "duration": 1196,
    "start_time": "2021-11-08T11:36:43.464Z"
   },
   {
    "duration": 1141,
    "start_time": "2021-11-08T11:36:44.663Z"
   },
   {
    "duration": 4704,
    "start_time": "2021-11-08T11:36:45.807Z"
   },
   {
    "duration": 4,
    "start_time": "2021-11-08T11:36:50.514Z"
   },
   {
    "duration": 52819,
    "start_time": "2021-11-08T11:36:50.520Z"
   },
   {
    "duration": 173,
    "start_time": "2021-11-08T11:37:43.342Z"
   },
   {
    "duration": 728,
    "start_time": "2021-11-08T11:37:43.518Z"
   },
   {
    "duration": 10,
    "start_time": "2021-11-08T11:37:44.249Z"
   },
   {
    "duration": 75,
    "start_time": "2021-11-08T11:37:44.262Z"
   },
   {
    "duration": 25,
    "start_time": "2021-11-08T11:37:44.340Z"
   },
   {
    "duration": 7,
    "start_time": "2021-11-08T11:37:44.368Z"
   },
   {
    "duration": 201,
    "start_time": "2021-11-08T11:37:44.378Z"
   },
   {
    "duration": 17,
    "start_time": "2021-11-08T11:59:04.163Z"
   },
   {
    "duration": 18,
    "start_time": "2021-11-08T11:59:05.053Z"
   },
   {
    "duration": 16,
    "start_time": "2021-11-08T11:59:05.631Z"
   },
   {
    "duration": 41,
    "start_time": "2021-11-08T11:59:12.395Z"
   },
   {
    "duration": 1394,
    "start_time": "2021-11-08T12:03:44.396Z"
   },
   {
    "duration": 1484,
    "start_time": "2021-11-08T12:04:18.637Z"
   },
   {
    "duration": 1382,
    "start_time": "2021-11-08T12:04:29.668Z"
   },
   {
    "duration": 1761,
    "start_time": "2021-11-08T12:05:15.998Z"
   },
   {
    "duration": 3136,
    "start_time": "2021-11-08T12:05:35.835Z"
   },
   {
    "duration": 1283,
    "start_time": "2021-11-08T12:05:56.247Z"
   },
   {
    "duration": 1495,
    "start_time": "2021-11-08T12:06:07.360Z"
   },
   {
    "duration": 1658,
    "start_time": "2021-11-08T12:06:39.801Z"
   },
   {
    "duration": 1964,
    "start_time": "2021-11-08T12:07:34.745Z"
   },
   {
    "duration": 789,
    "start_time": "2021-11-08T12:08:20.487Z"
   },
   {
    "duration": 1666,
    "start_time": "2021-11-08T12:09:23.113Z"
   },
   {
    "duration": 1982,
    "start_time": "2021-11-08T12:09:39.982Z"
   },
   {
    "duration": 1701,
    "start_time": "2021-11-08T12:09:49.323Z"
   },
   {
    "duration": 1618,
    "start_time": "2021-11-08T12:09:56.481Z"
   },
   {
    "duration": 1521,
    "start_time": "2021-11-08T12:10:11.699Z"
   },
   {
    "duration": 1742,
    "start_time": "2021-11-08T12:10:25.091Z"
   },
   {
    "duration": 7,
    "start_time": "2021-11-08T12:14:44.549Z"
   },
   {
    "duration": 404,
    "start_time": "2021-11-08T12:15:17.504Z"
   },
   {
    "duration": 1713,
    "start_time": "2021-11-08T12:15:35.025Z"
   },
   {
    "duration": 1940,
    "start_time": "2021-11-08T12:15:53.725Z"
   },
   {
    "duration": 1941,
    "start_time": "2021-11-08T12:16:12.675Z"
   },
   {
    "duration": 1402,
    "start_time": "2021-11-08T12:18:43.410Z"
   },
   {
    "duration": 3,
    "start_time": "2021-11-08T12:18:44.815Z"
   },
   {
    "duration": 899,
    "start_time": "2021-11-08T12:18:44.821Z"
   },
   {
    "duration": 41,
    "start_time": "2021-11-08T12:18:45.723Z"
   },
   {
    "duration": 25,
    "start_time": "2021-11-08T12:18:45.767Z"
   },
   {
    "duration": 31,
    "start_time": "2021-11-08T12:18:45.794Z"
   },
   {
    "duration": 47,
    "start_time": "2021-11-08T12:18:45.827Z"
   },
   {
    "duration": 30,
    "start_time": "2021-11-08T12:18:45.876Z"
   },
   {
    "duration": 54,
    "start_time": "2021-11-08T12:18:45.910Z"
   },
   {
    "duration": 8,
    "start_time": "2021-11-08T12:18:45.968Z"
   },
   {
    "duration": 1596,
    "start_time": "2021-11-08T12:18:45.978Z"
   },
   {
    "duration": 231,
    "start_time": "2021-11-08T12:18:47.576Z"
   },
   {
    "duration": 12,
    "start_time": "2021-11-08T12:18:47.810Z"
   },
   {
    "duration": 4,
    "start_time": "2021-11-08T12:18:47.826Z"
   },
   {
    "duration": 201,
    "start_time": "2021-11-08T12:18:47.833Z"
   },
   {
    "duration": 5,
    "start_time": "2021-11-08T12:18:48.036Z"
   },
   {
    "duration": 35,
    "start_time": "2021-11-08T12:18:48.043Z"
   },
   {
    "duration": 27,
    "start_time": "2021-11-08T12:18:48.080Z"
   },
   {
    "duration": 54,
    "start_time": "2021-11-08T12:18:48.110Z"
   },
   {
    "duration": 27,
    "start_time": "2021-11-08T12:18:48.167Z"
   },
   {
    "duration": 25,
    "start_time": "2021-11-08T12:18:48.197Z"
   },
   {
    "duration": 58,
    "start_time": "2021-11-08T12:18:48.225Z"
   },
   {
    "duration": 28,
    "start_time": "2021-11-08T12:18:48.285Z"
   },
   {
    "duration": 54,
    "start_time": "2021-11-08T12:18:48.316Z"
   },
   {
    "duration": 297,
    "start_time": "2021-11-08T12:18:48.372Z"
   },
   {
    "duration": 6,
    "start_time": "2021-11-08T12:18:48.671Z"
   },
   {
    "duration": 550,
    "start_time": "2021-11-08T12:18:48.682Z"
   },
   {
    "duration": 5,
    "start_time": "2021-11-08T12:18:49.235Z"
   },
   {
    "duration": 812,
    "start_time": "2021-11-08T12:18:49.243Z"
   },
   {
    "duration": 350,
    "start_time": "2021-11-08T12:18:50.060Z"
   },
   {
    "duration": 269,
    "start_time": "2021-11-08T12:18:50.412Z"
   },
   {
    "duration": 16,
    "start_time": "2021-11-08T12:18:50.683Z"
   },
   {
    "duration": 25,
    "start_time": "2021-11-08T12:18:50.702Z"
   },
   {
    "duration": 34,
    "start_time": "2021-11-08T12:18:50.730Z"
   },
   {
    "duration": 16,
    "start_time": "2021-11-08T12:18:50.767Z"
   },
   {
    "duration": 1522,
    "start_time": "2021-11-08T12:18:50.785Z"
   },
   {
    "duration": 9,
    "start_time": "2021-11-08T12:18:52.309Z"
   },
   {
    "duration": 9,
    "start_time": "2021-11-08T12:18:52.320Z"
   },
   {
    "duration": 38,
    "start_time": "2021-11-08T12:18:52.332Z"
   },
   {
    "duration": 3,
    "start_time": "2021-11-08T12:18:52.373Z"
   },
   {
    "duration": 13,
    "start_time": "2021-11-08T12:18:52.380Z"
   },
   {
    "duration": 29,
    "start_time": "2021-11-08T12:18:52.396Z"
   },
   {
    "duration": 31,
    "start_time": "2021-11-08T12:18:52.428Z"
   },
   {
    "duration": 205,
    "start_time": "2021-11-08T12:18:52.462Z"
   },
   {
    "duration": 1103,
    "start_time": "2021-11-08T12:18:52.760Z"
   },
   {
    "duration": 1241,
    "start_time": "2021-11-08T12:18:53.866Z"
   },
   {
    "duration": 4736,
    "start_time": "2021-11-08T12:18:55.109Z"
   },
   {
    "duration": 12,
    "start_time": "2021-11-08T12:18:59.848Z"
   },
   {
    "duration": 46890,
    "start_time": "2021-11-08T12:18:59.863Z"
   },
   {
    "duration": 164,
    "start_time": "2021-11-08T12:19:46.755Z"
   },
   {
    "duration": 655,
    "start_time": "2021-11-08T12:19:46.921Z"
   },
   {
    "duration": 4,
    "start_time": "2021-11-08T12:19:47.578Z"
   },
   {
    "duration": 92,
    "start_time": "2021-11-08T12:19:47.584Z"
   },
   {
    "duration": 8,
    "start_time": "2021-11-08T12:19:47.679Z"
   },
   {
    "duration": 10,
    "start_time": "2021-11-08T12:19:47.689Z"
   },
   {
    "duration": 176,
    "start_time": "2021-11-08T12:19:47.702Z"
   },
   {
    "duration": 1143,
    "start_time": "2021-11-08T16:36:10.042Z"
   },
   {
    "duration": 3,
    "start_time": "2021-11-08T16:36:11.188Z"
   },
   {
    "duration": 733,
    "start_time": "2021-11-08T16:36:11.193Z"
   },
   {
    "duration": 24,
    "start_time": "2021-11-08T16:36:11.927Z"
   },
   {
    "duration": 15,
    "start_time": "2021-11-08T16:36:12.116Z"
   },
   {
    "duration": 28,
    "start_time": "2021-11-08T16:36:12.527Z"
   },
   {
    "duration": 11,
    "start_time": "2021-11-08T16:36:12.738Z"
   },
   {
    "duration": 21,
    "start_time": "2021-11-08T16:36:13.078Z"
   },
   {
    "duration": 19,
    "start_time": "2021-11-08T16:36:13.258Z"
   },
   {
    "duration": 5,
    "start_time": "2021-11-08T16:36:13.904Z"
   },
   {
    "duration": 863,
    "start_time": "2021-11-08T16:36:14.244Z"
   },
   {
    "duration": 151,
    "start_time": "2021-11-08T16:36:15.109Z"
   },
   {
    "duration": 10,
    "start_time": "2021-11-08T16:36:16.366Z"
   },
   {
    "duration": 2,
    "start_time": "2021-11-08T16:36:17.373Z"
   },
   {
    "duration": 121,
    "start_time": "2021-11-08T16:36:17.563Z"
   },
   {
    "duration": 4,
    "start_time": "2021-11-08T16:36:17.942Z"
   },
   {
    "duration": 7188,
    "start_time": "2021-11-08T16:40:43.044Z"
   },
   {
    "duration": 1630,
    "start_time": "2021-11-08T17:15:25.923Z"
   },
   {
    "duration": 4,
    "start_time": "2021-11-08T17:15:27.556Z"
   },
   {
    "duration": 912,
    "start_time": "2021-11-08T17:15:27.562Z"
   },
   {
    "duration": 35,
    "start_time": "2021-11-08T17:15:28.476Z"
   },
   {
    "duration": 46,
    "start_time": "2021-11-08T17:15:28.513Z"
   },
   {
    "duration": 33,
    "start_time": "2021-11-08T17:15:28.562Z"
   },
   {
    "duration": 20,
    "start_time": "2021-11-08T17:15:28.598Z"
   },
   {
    "duration": 60,
    "start_time": "2021-11-08T17:15:28.622Z"
   },
   {
    "duration": 27,
    "start_time": "2021-11-08T17:15:28.685Z"
   },
   {
    "duration": 8,
    "start_time": "2021-11-08T17:15:28.715Z"
   },
   {
    "duration": 1475,
    "start_time": "2021-11-08T17:15:28.759Z"
   },
   {
    "duration": 300,
    "start_time": "2021-11-08T17:15:30.237Z"
   },
   {
    "duration": 22,
    "start_time": "2021-11-08T17:15:30.541Z"
   },
   {
    "duration": 25,
    "start_time": "2021-11-08T17:15:30.565Z"
   },
   {
    "duration": 223,
    "start_time": "2021-11-08T17:15:30.593Z"
   },
   {
    "duration": 5,
    "start_time": "2021-11-08T17:15:30.819Z"
   },
   {
    "duration": 24,
    "start_time": "2021-11-08T17:15:30.826Z"
   },
   {
    "duration": 29,
    "start_time": "2021-11-08T17:15:30.853Z"
   },
   {
    "duration": 22,
    "start_time": "2021-11-08T17:15:30.884Z"
   },
   {
    "duration": 31,
    "start_time": "2021-11-08T17:15:30.908Z"
   },
   {
    "duration": 27,
    "start_time": "2021-11-08T17:15:30.942Z"
   },
   {
    "duration": 26,
    "start_time": "2021-11-08T17:15:30.971Z"
   },
   {
    "duration": 29,
    "start_time": "2021-11-08T17:15:30.999Z"
   },
   {
    "duration": 35,
    "start_time": "2021-11-08T17:15:31.030Z"
   },
   {
    "duration": 292,
    "start_time": "2021-11-08T17:15:31.067Z"
   },
   {
    "duration": 5,
    "start_time": "2021-11-08T17:15:31.364Z"
   },
   {
    "duration": 563,
    "start_time": "2021-11-08T17:15:31.372Z"
   },
   {
    "duration": 5,
    "start_time": "2021-11-08T17:15:31.937Z"
   },
   {
    "duration": 1023,
    "start_time": "2021-11-08T17:15:31.945Z"
   },
   {
    "duration": 448,
    "start_time": "2021-11-08T17:15:32.971Z"
   },
   {
    "duration": 252,
    "start_time": "2021-11-08T17:15:33.422Z"
   },
   {
    "duration": 17,
    "start_time": "2021-11-08T17:15:33.677Z"
   },
   {
    "duration": 18,
    "start_time": "2021-11-08T17:15:33.697Z"
   },
   {
    "duration": 52,
    "start_time": "2021-11-08T17:15:33.717Z"
   },
   {
    "duration": 17,
    "start_time": "2021-11-08T17:15:33.772Z"
   },
   {
    "duration": 1508,
    "start_time": "2021-11-08T17:15:33.792Z"
   },
   {
    "duration": 178,
    "start_time": "2021-11-08T17:15:35.303Z"
   },
   {
    "duration": 82,
    "start_time": "2021-11-08T17:15:35.484Z"
   },
   {
    "duration": 20,
    "start_time": "2021-11-08T17:15:35.569Z"
   },
   {
    "duration": 22,
    "start_time": "2021-11-08T17:15:35.592Z"
   },
   {
    "duration": 33,
    "start_time": "2021-11-08T17:15:35.617Z"
   },
   {
    "duration": 35,
    "start_time": "2021-11-08T17:15:35.652Z"
   },
   {
    "duration": 22,
    "start_time": "2021-11-08T17:15:35.689Z"
   },
   {
    "duration": 48,
    "start_time": "2021-11-08T17:15:35.714Z"
   },
   {
    "duration": 5,
    "start_time": "2021-11-08T17:15:35.765Z"
   },
   {
    "duration": 287,
    "start_time": "2021-11-08T17:15:35.773Z"
   },
   {
    "duration": 1197,
    "start_time": "2021-11-08T17:15:36.063Z"
   },
   {
    "duration": 1220,
    "start_time": "2021-11-08T17:15:37.264Z"
   },
   {
    "duration": 4944,
    "start_time": "2021-11-08T17:15:38.486Z"
   },
   {
    "duration": 4,
    "start_time": "2021-11-08T17:15:43.432Z"
   },
   {
    "duration": 46535,
    "start_time": "2021-11-08T17:15:43.439Z"
   },
   {
    "duration": 171,
    "start_time": "2021-11-08T17:16:29.977Z"
   },
   {
    "duration": 665,
    "start_time": "2021-11-08T17:16:30.150Z"
   },
   {
    "duration": 4,
    "start_time": "2021-11-08T17:16:30.817Z"
   },
   {
    "duration": 86,
    "start_time": "2021-11-08T17:16:30.824Z"
   },
   {
    "duration": 10,
    "start_time": "2021-11-08T17:16:30.912Z"
   },
   {
    "duration": 22,
    "start_time": "2021-11-08T17:16:30.924Z"
   },
   {
    "duration": 224,
    "start_time": "2021-11-08T17:16:30.949Z"
   },
   {
    "duration": 109,
    "start_time": "2021-11-08T17:17:03.244Z"
   },
   {
    "duration": 171,
    "start_time": "2021-11-08T17:17:43.213Z"
   },
   {
    "duration": 118,
    "start_time": "2021-11-08T17:25:43.465Z"
   },
   {
    "duration": 73,
    "start_time": "2021-11-08T17:28:19.464Z"
   },
   {
    "duration": 10009,
    "start_time": "2021-11-08T17:28:39.168Z"
   },
   {
    "duration": 10264,
    "start_time": "2021-11-08T17:29:29.488Z"
   },
   {
    "duration": 7,
    "start_time": "2021-11-08T17:29:51.284Z"
   },
   {
    "duration": 19,
    "start_time": "2021-11-08T17:29:56.504Z"
   },
   {
    "duration": 7,
    "start_time": "2021-11-08T17:31:36.309Z"
   },
   {
    "duration": 36,
    "start_time": "2021-11-08T17:34:10.911Z"
   },
   {
    "duration": 532,
    "start_time": "2021-11-08T17:34:31.950Z"
   },
   {
    "duration": 36,
    "start_time": "2021-11-08T17:36:32.452Z"
   },
   {
    "duration": 34,
    "start_time": "2021-11-08T17:38:03.064Z"
   },
   {
    "duration": 23,
    "start_time": "2021-11-08T17:38:06.702Z"
   },
   {
    "duration": 21,
    "start_time": "2021-11-08T17:38:18.833Z"
   },
   {
    "duration": 385,
    "start_time": "2021-11-08T17:38:19.924Z"
   },
   {
    "duration": 477,
    "start_time": "2021-11-08T17:38:30.648Z"
   },
   {
    "duration": 443,
    "start_time": "2021-11-08T17:38:44.171Z"
   },
   {
    "duration": 354,
    "start_time": "2021-11-08T17:38:52.588Z"
   },
   {
    "duration": 14,
    "start_time": "2021-11-08T17:39:01.331Z"
   },
   {
    "duration": 77,
    "start_time": "2021-11-08T17:39:12.157Z"
   },
   {
    "duration": 12,
    "start_time": "2021-11-08T17:39:26.747Z"
   },
   {
    "duration": 479,
    "start_time": "2021-11-08T17:40:30.725Z"
   },
   {
    "duration": 99,
    "start_time": "2021-11-08T17:40:56.980Z"
   },
   {
    "duration": 6,
    "start_time": "2021-11-08T17:41:03.579Z"
   },
   {
    "duration": 6,
    "start_time": "2021-11-08T17:41:25.312Z"
   },
   {
    "duration": 428,
    "start_time": "2021-11-08T17:41:41.187Z"
   },
   {
    "duration": 419,
    "start_time": "2021-11-08T17:42:16.807Z"
   },
   {
    "duration": 1574,
    "start_time": "2021-11-08T17:42:52.845Z"
   },
   {
    "duration": 3,
    "start_time": "2021-11-08T17:42:54.422Z"
   },
   {
    "duration": 881,
    "start_time": "2021-11-08T17:42:54.428Z"
   },
   {
    "duration": 49,
    "start_time": "2021-11-08T17:42:55.312Z"
   },
   {
    "duration": 23,
    "start_time": "2021-11-08T17:42:55.363Z"
   },
   {
    "duration": 29,
    "start_time": "2021-11-08T17:42:55.389Z"
   },
   {
    "duration": 49,
    "start_time": "2021-11-08T17:42:55.420Z"
   },
   {
    "duration": 30,
    "start_time": "2021-11-08T17:42:55.472Z"
   },
   {
    "duration": 30,
    "start_time": "2021-11-08T17:42:55.505Z"
   },
   {
    "duration": 30,
    "start_time": "2021-11-08T17:42:55.538Z"
   },
   {
    "duration": 1466,
    "start_time": "2021-11-08T17:42:55.570Z"
   },
   {
    "duration": 232,
    "start_time": "2021-11-08T17:42:57.038Z"
   },
   {
    "duration": 17,
    "start_time": "2021-11-08T17:42:57.273Z"
   },
   {
    "duration": 8,
    "start_time": "2021-11-08T17:42:57.292Z"
   },
   {
    "duration": 205,
    "start_time": "2021-11-08T17:42:57.303Z"
   },
   {
    "duration": 6,
    "start_time": "2021-11-08T17:42:57.510Z"
   },
   {
    "duration": 51,
    "start_time": "2021-11-08T17:42:57.520Z"
   },
   {
    "duration": 28,
    "start_time": "2021-11-08T17:42:57.574Z"
   },
   {
    "duration": 24,
    "start_time": "2021-11-08T17:42:57.604Z"
   },
   {
    "duration": 50,
    "start_time": "2021-11-08T17:42:57.630Z"
   },
   {
    "duration": 22,
    "start_time": "2021-11-08T17:42:57.682Z"
   },
   {
    "duration": 23,
    "start_time": "2021-11-08T17:42:57.706Z"
   },
   {
    "duration": 28,
    "start_time": "2021-11-08T17:42:57.759Z"
   },
   {
    "duration": 26,
    "start_time": "2021-11-08T17:42:57.791Z"
   },
   {
    "duration": 311,
    "start_time": "2021-11-08T17:42:57.819Z"
   },
   {
    "duration": 5,
    "start_time": "2021-11-08T17:42:58.132Z"
   },
   {
    "duration": 653,
    "start_time": "2021-11-08T17:42:58.140Z"
   },
   {
    "duration": 6,
    "start_time": "2021-11-08T17:42:58.795Z"
   },
   {
    "duration": 867,
    "start_time": "2021-11-08T17:42:58.804Z"
   },
   {
    "duration": 349,
    "start_time": "2021-11-08T17:42:59.674Z"
   },
   {
    "duration": 271,
    "start_time": "2021-11-08T17:43:00.026Z"
   },
   {
    "duration": 17,
    "start_time": "2021-11-08T17:43:00.300Z"
   },
   {
    "duration": 42,
    "start_time": "2021-11-08T17:43:00.319Z"
   },
   {
    "duration": 34,
    "start_time": "2021-11-08T17:43:00.363Z"
   },
   {
    "duration": 26,
    "start_time": "2021-11-08T17:43:00.399Z"
   },
   {
    "duration": 1642,
    "start_time": "2021-11-08T17:43:00.428Z"
   },
   {
    "duration": 183,
    "start_time": "2021-11-08T17:43:02.072Z"
   },
   {
    "duration": 58,
    "start_time": "2021-11-08T17:43:02.260Z"
   },
   {
    "duration": 9,
    "start_time": "2021-11-08T17:43:02.320Z"
   },
   {
    "duration": 33,
    "start_time": "2021-11-08T17:43:02.331Z"
   },
   {
    "duration": 14,
    "start_time": "2021-11-08T17:43:02.366Z"
   },
   {
    "duration": 12,
    "start_time": "2021-11-08T17:43:02.382Z"
   },
   {
    "duration": 18,
    "start_time": "2021-11-08T17:43:02.396Z"
   },
   {
    "duration": 28,
    "start_time": "2021-11-08T17:43:02.416Z"
   },
   {
    "duration": 4,
    "start_time": "2021-11-08T17:43:02.460Z"
   },
   {
    "duration": 295,
    "start_time": "2021-11-08T17:43:02.466Z"
   },
   {
    "duration": 1196,
    "start_time": "2021-11-08T17:43:02.764Z"
   },
   {
    "duration": 1173,
    "start_time": "2021-11-08T17:43:03.964Z"
   },
   {
    "duration": 4656,
    "start_time": "2021-11-08T17:43:05.139Z"
   },
   {
    "duration": 4,
    "start_time": "2021-11-08T17:43:09.797Z"
   },
   {
    "duration": 46626,
    "start_time": "2021-11-08T17:43:09.804Z"
   },
   {
    "duration": 166,
    "start_time": "2021-11-08T17:43:56.433Z"
   },
   {
    "duration": 666,
    "start_time": "2021-11-08T17:43:56.602Z"
   },
   {
    "duration": 3,
    "start_time": "2021-11-08T17:43:57.270Z"
   },
   {
    "duration": 83,
    "start_time": "2021-11-08T17:43:57.276Z"
   },
   {
    "duration": 8,
    "start_time": "2021-11-08T17:43:57.361Z"
   },
   {
    "duration": 6,
    "start_time": "2021-11-08T17:43:57.372Z"
   },
   {
    "duration": 195,
    "start_time": "2021-11-08T17:43:57.381Z"
   },
   {
    "duration": 20,
    "start_time": "2021-11-08T17:43:57.579Z"
   },
   {
    "duration": 499,
    "start_time": "2021-11-08T17:43:57.601Z"
   },
   {
    "duration": 397,
    "start_time": "2021-11-08T17:46:25.041Z"
   },
   {
    "duration": 435,
    "start_time": "2021-11-08T17:46:42.228Z"
   },
   {
    "duration": 23,
    "start_time": "2021-11-08T17:47:10.660Z"
   },
   {
    "duration": 435,
    "start_time": "2021-11-08T17:47:21.579Z"
   },
   {
    "duration": 76,
    "start_time": "2021-11-08T17:47:40.076Z"
   },
   {
    "duration": 389,
    "start_time": "2021-11-08T17:48:06.275Z"
   },
   {
    "duration": 370,
    "start_time": "2021-11-08T17:49:38.075Z"
   },
   {
    "duration": 115,
    "start_time": "2021-11-08T17:49:45.329Z"
   },
   {
    "duration": 78,
    "start_time": "2021-11-08T17:50:22.908Z"
   },
   {
    "duration": 102,
    "start_time": "2021-11-08T17:50:36.407Z"
   },
   {
    "duration": 105,
    "start_time": "2021-11-08T17:51:02.509Z"
   },
   {
    "duration": 39,
    "start_time": "2021-11-08T17:52:01.988Z"
   },
   {
    "duration": 37,
    "start_time": "2021-11-08T17:52:39.385Z"
   },
   {
    "duration": 41,
    "start_time": "2021-11-08T17:52:50.643Z"
   },
   {
    "duration": 39,
    "start_time": "2021-11-08T17:53:13.568Z"
   },
   {
    "duration": 573,
    "start_time": "2021-11-08T17:53:26.965Z"
   },
   {
    "duration": 21,
    "start_time": "2021-11-08T17:53:46.614Z"
   },
   {
    "duration": 74,
    "start_time": "2021-11-08T17:53:54.931Z"
   },
   {
    "duration": 37,
    "start_time": "2021-11-08T17:54:01.756Z"
   },
   {
    "duration": 3,
    "start_time": "2021-11-08T17:54:07.590Z"
   },
   {
    "duration": 22,
    "start_time": "2021-11-08T17:54:35.823Z"
   },
   {
    "duration": 75,
    "start_time": "2021-11-08T17:54:50.284Z"
   },
   {
    "duration": 39,
    "start_time": "2021-11-08T17:54:53.053Z"
   },
   {
    "duration": 43,
    "start_time": "2021-11-08T17:56:11.915Z"
   },
   {
    "duration": 38,
    "start_time": "2021-11-08T17:57:19.964Z"
   },
   {
    "duration": 77,
    "start_time": "2021-11-08T17:57:26.493Z"
   },
   {
    "duration": 18,
    "start_time": "2021-11-08T17:58:52.311Z"
   },
   {
    "duration": 37,
    "start_time": "2021-11-08T17:58:53.467Z"
   },
   {
    "duration": 7,
    "start_time": "2021-11-08T17:58:54.115Z"
   },
   {
    "duration": 373,
    "start_time": "2021-11-08T17:58:58.011Z"
   },
   {
    "duration": 18,
    "start_time": "2021-11-08T17:59:21.707Z"
   },
   {
    "duration": 42,
    "start_time": "2021-11-08T17:59:22.734Z"
   },
   {
    "duration": 379,
    "start_time": "2021-11-08T17:59:23.624Z"
   },
   {
    "duration": 374,
    "start_time": "2021-11-08T17:59:24.342Z"
   },
   {
    "duration": 17,
    "start_time": "2021-11-08T17:59:59.427Z"
   },
   {
    "duration": 42,
    "start_time": "2021-11-08T18:00:01.164Z"
   },
   {
    "duration": 76,
    "start_time": "2021-11-08T18:00:12.274Z"
   },
   {
    "duration": 6,
    "start_time": "2021-11-08T18:00:35.362Z"
   },
   {
    "duration": 444,
    "start_time": "2021-11-08T18:00:54.623Z"
   },
   {
    "duration": 18,
    "start_time": "2021-11-08T18:01:34.417Z"
   },
   {
    "duration": 77,
    "start_time": "2021-11-08T18:02:16.273Z"
   },
   {
    "duration": 391,
    "start_time": "2021-11-08T18:03:01.863Z"
   },
   {
    "duration": 20,
    "start_time": "2021-11-08T18:03:23.327Z"
   },
   {
    "duration": 40,
    "start_time": "2021-11-08T18:03:24.332Z"
   },
   {
    "duration": 7,
    "start_time": "2021-11-08T18:03:25.874Z"
   },
   {
    "duration": 6,
    "start_time": "2021-11-08T18:03:27.041Z"
   },
   {
    "duration": 367,
    "start_time": "2021-11-08T18:03:33.478Z"
   },
   {
    "duration": 57,
    "start_time": "2021-11-08T18:04:05.422Z"
   },
   {
    "duration": 18,
    "start_time": "2021-11-08T18:04:31.537Z"
   },
   {
    "duration": 37,
    "start_time": "2021-11-08T18:04:32.363Z"
   },
   {
    "duration": 7,
    "start_time": "2021-11-08T18:04:32.871Z"
   },
   {
    "duration": 8,
    "start_time": "2021-11-08T18:04:33.995Z"
   },
   {
    "duration": 411,
    "start_time": "2021-11-08T18:04:35.113Z"
   },
   {
    "duration": 73,
    "start_time": "2021-11-08T18:04:55.770Z"
   },
   {
    "duration": 17,
    "start_time": "2021-11-08T18:05:12.226Z"
   },
   {
    "duration": 37,
    "start_time": "2021-11-08T18:05:15.878Z"
   },
   {
    "duration": 7,
    "start_time": "2021-11-08T18:05:19.549Z"
   },
   {
    "duration": 13,
    "start_time": "2021-11-08T18:05:29.844Z"
   },
   {
    "duration": 8,
    "start_time": "2021-11-08T18:05:39.581Z"
   },
   {
    "duration": 13,
    "start_time": "2021-11-08T18:05:40.761Z"
   },
   {
    "duration": 408,
    "start_time": "2021-11-08T18:05:45.389Z"
   },
   {
    "duration": 20,
    "start_time": "2021-11-08T18:06:52.955Z"
   },
   {
    "duration": 55,
    "start_time": "2021-11-08T18:07:18.491Z"
   },
   {
    "duration": 17,
    "start_time": "2021-11-08T18:07:24.931Z"
   },
   {
    "duration": 36,
    "start_time": "2021-11-08T18:07:26.004Z"
   },
   {
    "duration": 8,
    "start_time": "2021-11-08T18:07:26.629Z"
   },
   {
    "duration": 19,
    "start_time": "2021-11-08T18:07:27.460Z"
   },
   {
    "duration": 55,
    "start_time": "2021-11-08T18:07:29.304Z"
   },
   {
    "duration": 8,
    "start_time": "2021-11-08T18:07:39.054Z"
   },
   {
    "duration": 13,
    "start_time": "2021-11-08T18:07:39.608Z"
   },
   {
    "duration": 386,
    "start_time": "2021-11-08T18:07:41.660Z"
   },
   {
    "duration": 1439,
    "start_time": "2021-11-08T18:11:40.789Z"
   },
   {
    "duration": 4,
    "start_time": "2021-11-08T18:11:42.231Z"
   },
   {
    "duration": 934,
    "start_time": "2021-11-08T18:11:42.239Z"
   },
   {
    "duration": 39,
    "start_time": "2021-11-08T18:11:43.176Z"
   },
   {
    "duration": 54,
    "start_time": "2021-11-08T18:11:43.218Z"
   },
   {
    "duration": 30,
    "start_time": "2021-11-08T18:11:43.275Z"
   },
   {
    "duration": 18,
    "start_time": "2021-11-08T18:11:43.308Z"
   },
   {
    "duration": 58,
    "start_time": "2021-11-08T18:11:43.328Z"
   },
   {
    "duration": 29,
    "start_time": "2021-11-08T18:11:43.391Z"
   },
   {
    "duration": 7,
    "start_time": "2021-11-08T18:11:43.423Z"
   },
   {
    "duration": 1510,
    "start_time": "2021-11-08T18:11:43.432Z"
   },
   {
    "duration": 244,
    "start_time": "2021-11-08T18:11:44.944Z"
   },
   {
    "duration": 18,
    "start_time": "2021-11-08T18:11:45.191Z"
   },
   {
    "duration": 5,
    "start_time": "2021-11-08T18:11:45.212Z"
   },
   {
    "duration": 240,
    "start_time": "2021-11-08T18:11:45.219Z"
   },
   {
    "duration": 5,
    "start_time": "2021-11-08T18:11:45.461Z"
   },
   {
    "duration": 33,
    "start_time": "2021-11-08T18:11:45.468Z"
   },
   {
    "duration": 27,
    "start_time": "2021-11-08T18:11:45.503Z"
   },
   {
    "duration": 46,
    "start_time": "2021-11-08T18:11:45.533Z"
   },
   {
    "duration": 24,
    "start_time": "2021-11-08T18:11:45.582Z"
   },
   {
    "duration": 51,
    "start_time": "2021-11-08T18:11:45.608Z"
   },
   {
    "duration": 31,
    "start_time": "2021-11-08T18:11:45.662Z"
   },
   {
    "duration": 28,
    "start_time": "2021-11-08T18:11:45.695Z"
   },
   {
    "duration": 57,
    "start_time": "2021-11-08T18:11:45.725Z"
   },
   {
    "duration": 350,
    "start_time": "2021-11-08T18:11:45.785Z"
   },
   {
    "duration": 7,
    "start_time": "2021-11-08T18:11:46.138Z"
   },
   {
    "duration": 601,
    "start_time": "2021-11-08T18:11:46.163Z"
   },
   {
    "duration": 5,
    "start_time": "2021-11-08T18:11:46.767Z"
   },
   {
    "duration": 800,
    "start_time": "2021-11-08T18:11:46.775Z"
   },
   {
    "duration": 453,
    "start_time": "2021-11-08T18:11:47.578Z"
   },
   {
    "duration": 273,
    "start_time": "2021-11-08T18:11:48.034Z"
   },
   {
    "duration": 17,
    "start_time": "2021-11-08T18:11:48.310Z"
   },
   {
    "duration": 39,
    "start_time": "2021-11-08T18:11:48.330Z"
   },
   {
    "duration": 19,
    "start_time": "2021-11-08T18:11:48.372Z"
   },
   {
    "duration": 18,
    "start_time": "2021-11-08T18:11:48.394Z"
   },
   {
    "duration": 1512,
    "start_time": "2021-11-08T18:11:48.414Z"
   },
   {
    "duration": 183,
    "start_time": "2021-11-08T18:11:49.929Z"
   },
   {
    "duration": 74,
    "start_time": "2021-11-08T18:11:50.114Z"
   },
   {
    "duration": 8,
    "start_time": "2021-11-08T18:11:50.191Z"
   },
   {
    "duration": 9,
    "start_time": "2021-11-08T18:11:50.201Z"
   },
   {
    "duration": 11,
    "start_time": "2021-11-08T18:11:50.212Z"
   },
   {
    "duration": 33,
    "start_time": "2021-11-08T18:11:50.226Z"
   },
   {
    "duration": 9,
    "start_time": "2021-11-08T18:11:50.261Z"
   },
   {
    "duration": 25,
    "start_time": "2021-11-08T18:11:50.272Z"
   },
   {
    "duration": 3,
    "start_time": "2021-11-08T18:11:50.299Z"
   },
   {
    "duration": 160,
    "start_time": "2021-11-08T18:11:50.305Z"
   },
   {
    "duration": 1201,
    "start_time": "2021-11-08T18:11:50.468Z"
   },
   {
    "duration": 1171,
    "start_time": "2021-11-08T18:11:51.761Z"
   },
   {
    "duration": 4616,
    "start_time": "2021-11-08T18:11:52.934Z"
   },
   {
    "duration": 6,
    "start_time": "2021-11-08T18:11:57.554Z"
   },
   {
    "duration": 45945,
    "start_time": "2021-11-08T18:11:57.563Z"
   },
   {
    "duration": 163,
    "start_time": "2021-11-08T18:12:43.511Z"
   },
   {
    "duration": 731,
    "start_time": "2021-11-08T18:12:43.676Z"
   },
   {
    "duration": 3,
    "start_time": "2021-11-08T18:12:44.410Z"
   },
   {
    "duration": 82,
    "start_time": "2021-11-08T18:12:44.415Z"
   },
   {
    "duration": 9,
    "start_time": "2021-11-08T18:12:44.499Z"
   },
   {
    "duration": 7,
    "start_time": "2021-11-08T18:12:44.510Z"
   },
   {
    "duration": 246,
    "start_time": "2021-11-08T18:12:44.519Z"
   },
   {
    "duration": 18,
    "start_time": "2021-11-08T18:12:44.767Z"
   },
   {
    "duration": 39,
    "start_time": "2021-11-08T18:12:44.787Z"
   },
   {
    "duration": 7,
    "start_time": "2021-11-08T18:12:44.828Z"
   },
   {
    "duration": 20,
    "start_time": "2021-11-08T18:12:44.860Z"
   },
   {
    "duration": 82,
    "start_time": "2021-11-08T18:12:44.882Z"
   },
   {
    "duration": 7,
    "start_time": "2021-11-08T18:12:44.966Z"
   },
   {
    "duration": 15,
    "start_time": "2021-11-08T18:12:44.976Z"
   },
   {
    "duration": 598,
    "start_time": "2021-11-08T18:12:44.993Z"
   },
   {
    "duration": 19,
    "start_time": "2021-11-08T18:13:03.518Z"
   },
   {
    "duration": 18,
    "start_time": "2021-11-08T18:14:15.119Z"
   },
   {
    "duration": 19,
    "start_time": "2021-11-08T18:17:27.656Z"
   },
   {
    "duration": 41,
    "start_time": "2021-11-08T18:17:29.363Z"
   },
   {
    "duration": 8,
    "start_time": "2021-11-08T18:17:35.449Z"
   },
   {
    "duration": 19,
    "start_time": "2021-11-08T18:17:40.568Z"
   },
   {
    "duration": 24,
    "start_time": "2021-11-08T18:19:29.041Z"
   },
   {
    "duration": 39,
    "start_time": "2021-11-08T18:19:30.083Z"
   },
   {
    "duration": 7,
    "start_time": "2021-11-08T18:19:30.595Z"
   },
   {
    "duration": 18,
    "start_time": "2021-11-08T18:19:31.219Z"
   },
   {
    "duration": 52,
    "start_time": "2021-11-08T18:19:34.437Z"
   },
   {
    "duration": 8,
    "start_time": "2021-11-08T18:19:36.225Z"
   },
   {
    "duration": 3,
    "start_time": "2021-11-08T18:19:51.340Z"
   },
   {
    "duration": 4,
    "start_time": "2021-11-08T18:20:00.747Z"
   },
   {
    "duration": 19,
    "start_time": "2021-11-08T18:20:05.500Z"
   },
   {
    "duration": 18,
    "start_time": "2021-11-08T18:20:56.491Z"
   },
   {
    "duration": 37,
    "start_time": "2021-11-08T18:20:57.045Z"
   },
   {
    "duration": 7,
    "start_time": "2021-11-08T18:20:57.315Z"
   },
   {
    "duration": 19,
    "start_time": "2021-11-08T18:20:57.695Z"
   },
   {
    "duration": 55,
    "start_time": "2021-11-08T18:20:58.361Z"
   },
   {
    "duration": 163,
    "start_time": "2021-11-08T18:21:02.125Z"
   },
   {
    "duration": 8,
    "start_time": "2021-11-08T18:21:08.051Z"
   },
   {
    "duration": 9,
    "start_time": "2021-11-08T18:21:09.441Z"
   },
   {
    "duration": 18,
    "start_time": "2021-11-08T18:21:17.808Z"
   },
   {
    "duration": 19,
    "start_time": "2021-11-08T18:21:35.554Z"
   },
   {
    "duration": 373,
    "start_time": "2021-11-08T18:22:04.967Z"
   },
   {
    "duration": 460,
    "start_time": "2021-11-08T18:22:24.571Z"
   },
   {
    "duration": 1545,
    "start_time": "2021-11-09T04:28:03.806Z"
   },
   {
    "duration": 3,
    "start_time": "2021-11-09T04:28:05.354Z"
   },
   {
    "duration": 1037,
    "start_time": "2021-11-09T04:28:05.686Z"
   },
   {
    "duration": 35,
    "start_time": "2021-11-09T04:28:08.300Z"
   },
   {
    "duration": 24,
    "start_time": "2021-11-09T04:28:08.527Z"
   },
   {
    "duration": 32,
    "start_time": "2021-11-09T04:28:08.908Z"
   },
   {
    "duration": 17,
    "start_time": "2021-11-09T04:28:12.896Z"
   },
   {
    "duration": 34,
    "start_time": "2021-11-09T04:28:13.313Z"
   },
   {
    "duration": 29,
    "start_time": "2021-11-09T04:28:13.498Z"
   },
   {
    "duration": 8,
    "start_time": "2021-11-09T04:28:15.129Z"
   },
   {
    "duration": 1588,
    "start_time": "2021-11-09T04:28:15.487Z"
   },
   {
    "duration": 240,
    "start_time": "2021-11-09T04:28:17.077Z"
   },
   {
    "duration": 19,
    "start_time": "2021-11-09T04:28:19.384Z"
   },
   {
    "duration": 4,
    "start_time": "2021-11-09T04:28:24.406Z"
   },
   {
    "duration": 191,
    "start_time": "2021-11-09T04:28:26.792Z"
   },
   {
    "duration": 6,
    "start_time": "2021-11-09T04:28:28.387Z"
   },
   {
    "duration": 19,
    "start_time": "2021-11-09T04:28:29.513Z"
   },
   {
    "duration": 29,
    "start_time": "2021-11-09T04:28:30.955Z"
   },
   {
    "duration": 24,
    "start_time": "2021-11-09T04:28:31.312Z"
   },
   {
    "duration": 27,
    "start_time": "2021-11-09T04:28:31.540Z"
   },
   {
    "duration": 24,
    "start_time": "2021-11-09T04:28:32.148Z"
   },
   {
    "duration": 26,
    "start_time": "2021-11-09T04:28:32.689Z"
   },
   {
    "duration": 30,
    "start_time": "2021-11-09T04:28:32.933Z"
   },
   {
    "duration": 27,
    "start_time": "2021-11-09T04:28:33.270Z"
   },
   {
    "duration": 297,
    "start_time": "2021-11-09T04:28:34.349Z"
   },
   {
    "duration": 6,
    "start_time": "2021-11-09T04:28:37.845Z"
   },
   {
    "duration": 585,
    "start_time": "2021-11-09T04:28:38.620Z"
   },
   {
    "duration": 6,
    "start_time": "2021-11-09T04:28:41.115Z"
   },
   {
    "duration": 872,
    "start_time": "2021-11-09T04:28:42.249Z"
   },
   {
    "duration": 372,
    "start_time": "2021-11-09T04:28:50.221Z"
   },
   {
    "duration": 266,
    "start_time": "2021-11-09T04:28:52.561Z"
   },
   {
    "duration": 16,
    "start_time": "2021-11-09T04:28:53.643Z"
   },
   {
    "duration": 17,
    "start_time": "2021-11-09T04:28:54.825Z"
   },
   {
    "duration": 17,
    "start_time": "2021-11-09T04:28:55.757Z"
   },
   {
    "duration": 18,
    "start_time": "2021-11-09T04:28:56.627Z"
   },
   {
    "duration": 1634,
    "start_time": "2021-11-09T04:28:57.307Z"
   },
   {
    "duration": 171,
    "start_time": "2021-11-09T04:32:12.433Z"
   },
   {
    "duration": 59,
    "start_time": "2021-11-09T04:32:19.943Z"
   },
   {
    "duration": 8,
    "start_time": "2021-11-09T04:32:24.995Z"
   },
   {
    "duration": 6,
    "start_time": "2021-11-09T04:32:32.282Z"
   },
   {
    "duration": 12,
    "start_time": "2021-11-09T04:32:33.096Z"
   },
   {
    "duration": 4,
    "start_time": "2021-11-09T04:32:34.282Z"
   },
   {
    "duration": 6,
    "start_time": "2021-11-09T04:32:34.678Z"
   },
   {
    "duration": 22,
    "start_time": "2021-11-09T04:32:38.203Z"
   },
   {
    "duration": 4,
    "start_time": "2021-11-09T04:32:40.021Z"
   },
   {
    "duration": 325,
    "start_time": "2021-11-09T04:32:45.880Z"
   },
   {
    "duration": 1138,
    "start_time": "2021-11-09T04:32:46.868Z"
   },
   {
    "duration": 19,
    "start_time": "2021-11-09T04:33:29.949Z"
   },
   {
    "duration": 78,
    "start_time": "2021-11-09T04:33:38.736Z"
   },
   {
    "duration": 59,
    "start_time": "2021-11-09T04:34:10.266Z"
   },
   {
    "duration": 420,
    "start_time": "2021-11-09T04:39:20.045Z"
   },
   {
    "duration": 313,
    "start_time": "2021-11-09T04:39:52.377Z"
   },
   {
    "duration": 19,
    "start_time": "2021-11-09T04:42:04.292Z"
   },
   {
    "duration": 16,
    "start_time": "2021-11-09T04:42:32.445Z"
   },
   {
    "duration": 19,
    "start_time": "2021-11-09T04:43:12.741Z"
   },
   {
    "duration": 79,
    "start_time": "2021-11-09T04:43:19.107Z"
   },
   {
    "duration": 38,
    "start_time": "2021-11-09T04:43:35.433Z"
   },
   {
    "duration": 8,
    "start_time": "2021-11-09T04:43:36.194Z"
   },
   {
    "duration": 14,
    "start_time": "2021-11-09T04:43:37.117Z"
   },
   {
    "duration": 54,
    "start_time": "2021-11-09T04:43:38.703Z"
   },
   {
    "duration": 9,
    "start_time": "2021-11-09T04:43:40.293Z"
   },
   {
    "duration": 14,
    "start_time": "2021-11-09T04:43:43.893Z"
   },
   {
    "duration": 298,
    "start_time": "2021-11-09T04:43:45.444Z"
   },
   {
    "duration": 893,
    "start_time": "2021-11-09T04:44:40.212Z"
   },
   {
    "duration": 1129,
    "start_time": "2021-11-09T05:03:31.572Z"
   },
   {
    "duration": 3,
    "start_time": "2021-11-09T05:03:32.703Z"
   },
   {
    "duration": 730,
    "start_time": "2021-11-09T05:03:32.708Z"
   },
   {
    "duration": 23,
    "start_time": "2021-11-09T05:03:33.440Z"
   },
   {
    "duration": 17,
    "start_time": "2021-11-09T05:03:33.465Z"
   },
   {
    "duration": 20,
    "start_time": "2021-11-09T05:03:33.484Z"
   },
   {
    "duration": 41,
    "start_time": "2021-11-09T05:03:33.506Z"
   },
   {
    "duration": 20,
    "start_time": "2021-11-09T05:03:33.549Z"
   },
   {
    "duration": 19,
    "start_time": "2021-11-09T05:03:33.573Z"
   },
   {
    "duration": 5,
    "start_time": "2021-11-09T05:03:33.595Z"
   },
   {
    "duration": 854,
    "start_time": "2021-11-09T05:03:33.602Z"
   },
   {
    "duration": 147,
    "start_time": "2021-11-09T05:03:34.458Z"
   },
   {
    "duration": 12,
    "start_time": "2021-11-09T05:03:34.607Z"
   },
   {
    "duration": 23,
    "start_time": "2021-11-09T05:03:34.621Z"
   },
   {
    "duration": 115,
    "start_time": "2021-11-09T05:03:34.646Z"
   },
   {
    "duration": 4,
    "start_time": "2021-11-09T05:03:34.762Z"
   },
   {
    "duration": 15,
    "start_time": "2021-11-09T05:03:34.768Z"
   },
   {
    "duration": 16,
    "start_time": "2021-11-09T05:03:34.785Z"
   },
   {
    "duration": 13,
    "start_time": "2021-11-09T05:03:34.803Z"
   },
   {
    "duration": 42,
    "start_time": "2021-11-09T05:03:34.818Z"
   },
   {
    "duration": 14,
    "start_time": "2021-11-09T05:03:34.861Z"
   },
   {
    "duration": 16,
    "start_time": "2021-11-09T05:03:34.877Z"
   },
   {
    "duration": 18,
    "start_time": "2021-11-09T05:03:34.895Z"
   },
   {
    "duration": 46,
    "start_time": "2021-11-09T05:03:34.914Z"
   },
   {
    "duration": 195,
    "start_time": "2021-11-09T05:03:34.962Z"
   },
   {
    "duration": 4,
    "start_time": "2021-11-09T05:03:35.159Z"
   },
   {
    "duration": 327,
    "start_time": "2021-11-09T05:03:35.168Z"
   },
   {
    "duration": 4,
    "start_time": "2021-11-09T05:03:35.498Z"
   },
   {
    "duration": 462,
    "start_time": "2021-11-09T05:03:35.503Z"
   },
   {
    "duration": 232,
    "start_time": "2021-11-09T05:03:35.967Z"
   },
   {
    "duration": 181,
    "start_time": "2021-11-09T05:03:36.201Z"
   },
   {
    "duration": 11,
    "start_time": "2021-11-09T05:03:36.384Z"
   },
   {
    "duration": 19,
    "start_time": "2021-11-09T05:03:36.397Z"
   },
   {
    "duration": 27,
    "start_time": "2021-11-09T05:03:36.418Z"
   },
   {
    "duration": 19,
    "start_time": "2021-11-09T05:03:36.447Z"
   },
   {
    "duration": 967,
    "start_time": "2021-11-09T05:03:36.468Z"
   },
   {
    "duration": 171,
    "start_time": "2021-11-09T05:03:37.438Z"
   },
   {
    "duration": 84,
    "start_time": "2021-11-09T05:03:37.620Z"
   },
   {
    "duration": 11,
    "start_time": "2021-11-09T05:03:37.706Z"
   },
   {
    "duration": 9,
    "start_time": "2021-11-09T05:03:37.719Z"
   },
   {
    "duration": 25,
    "start_time": "2021-11-09T05:03:37.730Z"
   },
   {
    "duration": 10,
    "start_time": "2021-11-09T05:03:37.757Z"
   },
   {
    "duration": 6,
    "start_time": "2021-11-09T05:03:37.769Z"
   },
   {
    "duration": 20,
    "start_time": "2021-11-09T05:03:37.777Z"
   },
   {
    "duration": 3,
    "start_time": "2021-11-09T05:03:37.799Z"
   },
   {
    "duration": 141,
    "start_time": "2021-11-09T05:03:37.804Z"
   },
   {
    "duration": 1004,
    "start_time": "2021-11-09T05:03:37.947Z"
   },
   {
    "duration": 1202,
    "start_time": "2021-11-09T05:03:38.954Z"
   },
   {
    "duration": 3736,
    "start_time": "2021-11-09T05:03:40.158Z"
   },
   {
    "duration": 4,
    "start_time": "2021-11-09T05:03:43.896Z"
   },
   {
    "duration": 37797,
    "start_time": "2021-11-09T05:03:43.902Z"
   },
   {
    "duration": 137,
    "start_time": "2021-11-09T05:04:21.701Z"
   },
   {
    "duration": 559,
    "start_time": "2021-11-09T05:04:21.839Z"
   },
   {
    "duration": 3,
    "start_time": "2021-11-09T05:04:22.400Z"
   },
   {
    "duration": 68,
    "start_time": "2021-11-09T05:04:22.404Z"
   },
   {
    "duration": 6,
    "start_time": "2021-11-09T05:04:22.473Z"
   },
   {
    "duration": 6,
    "start_time": "2021-11-09T05:04:22.481Z"
   },
   {
    "duration": 167,
    "start_time": "2021-11-09T05:04:22.488Z"
   },
   {
    "duration": 13,
    "start_time": "2021-11-09T05:04:22.657Z"
   },
   {
    "duration": 35,
    "start_time": "2021-11-09T05:04:22.672Z"
   },
   {
    "duration": 98,
    "start_time": "2021-11-09T05:04:22.709Z"
   },
   {
    "duration": -198,
    "start_time": "2021-11-09T05:04:23.007Z"
   },
   {
    "duration": -201,
    "start_time": "2021-11-09T05:04:23.010Z"
   },
   {
    "duration": -216,
    "start_time": "2021-11-09T05:04:23.026Z"
   },
   {
    "duration": -219,
    "start_time": "2021-11-09T05:04:23.030Z"
   },
   {
    "duration": -222,
    "start_time": "2021-11-09T05:04:23.034Z"
   },
   {
    "duration": -225,
    "start_time": "2021-11-09T05:04:23.038Z"
   },
   {
    "duration": -228,
    "start_time": "2021-11-09T05:04:23.041Z"
   },
   {
    "duration": -230,
    "start_time": "2021-11-09T05:04:23.044Z"
   },
   {
    "duration": -231,
    "start_time": "2021-11-09T05:04:23.046Z"
   },
   {
    "duration": -232,
    "start_time": "2021-11-09T05:04:23.048Z"
   },
   {
    "duration": 13,
    "start_time": "2021-11-09T05:05:41.583Z"
   },
   {
    "duration": 23,
    "start_time": "2021-11-09T05:05:49.917Z"
   },
   {
    "duration": 5,
    "start_time": "2021-11-09T05:06:02.332Z"
   },
   {
    "duration": 10,
    "start_time": "2021-11-09T05:06:04.510Z"
   },
   {
    "duration": 33,
    "start_time": "2021-11-09T05:06:05.838Z"
   },
   {
    "duration": 7,
    "start_time": "2021-11-09T05:06:15.786Z"
   },
   {
    "duration": 9,
    "start_time": "2021-11-09T05:06:19.469Z"
   },
   {
    "duration": 6691,
    "start_time": "2021-11-09T05:06:21.552Z"
   },
   {
    "duration": 6833,
    "start_time": "2021-11-09T05:06:44.803Z"
   },
   {
    "duration": 9,
    "start_time": "2021-11-09T05:07:22.368Z"
   },
   {
    "duration": 1184,
    "start_time": "2021-11-09T05:08:56.232Z"
   },
   {
    "duration": 3,
    "start_time": "2021-11-09T05:08:57.418Z"
   },
   {
    "duration": 746,
    "start_time": "2021-11-09T05:08:57.423Z"
   },
   {
    "duration": 22,
    "start_time": "2021-11-09T05:08:58.171Z"
   },
   {
    "duration": 15,
    "start_time": "2021-11-09T05:08:58.194Z"
   },
   {
    "duration": 36,
    "start_time": "2021-11-09T05:08:58.210Z"
   },
   {
    "duration": 11,
    "start_time": "2021-11-09T05:08:58.247Z"
   },
   {
    "duration": 18,
    "start_time": "2021-11-09T05:08:58.259Z"
   },
   {
    "duration": 19,
    "start_time": "2021-11-09T05:08:58.280Z"
   },
   {
    "duration": 5,
    "start_time": "2021-11-09T05:08:58.301Z"
   },
   {
    "duration": 806,
    "start_time": "2021-11-09T05:08:58.307Z"
   },
   {
    "duration": 142,
    "start_time": "2021-11-09T05:08:59.114Z"
   },
   {
    "duration": 9,
    "start_time": "2021-11-09T05:08:59.258Z"
   },
   {
    "duration": 3,
    "start_time": "2021-11-09T05:08:59.269Z"
   },
   {
    "duration": 137,
    "start_time": "2021-11-09T05:08:59.273Z"
   },
   {
    "duration": 4,
    "start_time": "2021-11-09T05:08:59.412Z"
   },
   {
    "duration": 28,
    "start_time": "2021-11-09T05:08:59.418Z"
   },
   {
    "duration": 17,
    "start_time": "2021-11-09T05:08:59.448Z"
   },
   {
    "duration": 15,
    "start_time": "2021-11-09T05:08:59.467Z"
   },
   {
    "duration": 18,
    "start_time": "2021-11-09T05:08:59.483Z"
   },
   {
    "duration": 43,
    "start_time": "2021-11-09T05:08:59.503Z"
   },
   {
    "duration": 18,
    "start_time": "2021-11-09T05:08:59.547Z"
   },
   {
    "duration": 18,
    "start_time": "2021-11-09T05:08:59.567Z"
   },
   {
    "duration": 17,
    "start_time": "2021-11-09T05:08:59.586Z"
   },
   {
    "duration": 207,
    "start_time": "2021-11-09T05:08:59.605Z"
   },
   {
    "duration": 3,
    "start_time": "2021-11-09T05:08:59.814Z"
   },
   {
    "duration": 341,
    "start_time": "2021-11-09T05:08:59.821Z"
   },
   {
    "duration": 4,
    "start_time": "2021-11-09T05:09:00.165Z"
   },
   {
    "duration": 493,
    "start_time": "2021-11-09T05:09:00.170Z"
   },
   {
    "duration": 240,
    "start_time": "2021-11-09T05:09:00.664Z"
   },
   {
    "duration": 169,
    "start_time": "2021-11-09T05:09:00.906Z"
   },
   {
    "duration": 11,
    "start_time": "2021-11-09T05:09:01.076Z"
   },
   {
    "duration": 33,
    "start_time": "2021-11-09T05:09:01.088Z"
   },
   {
    "duration": 29,
    "start_time": "2021-11-09T05:09:01.123Z"
   },
   {
    "duration": 25,
    "start_time": "2021-11-09T05:09:01.154Z"
   },
   {
    "duration": 877,
    "start_time": "2021-11-09T05:09:01.180Z"
   },
   {
    "duration": 118,
    "start_time": "2021-11-09T05:09:02.058Z"
   },
   {
    "duration": 38,
    "start_time": "2021-11-09T05:09:02.177Z"
   },
   {
    "duration": 6,
    "start_time": "2021-11-09T05:09:02.217Z"
   },
   {
    "duration": 21,
    "start_time": "2021-11-09T05:09:02.225Z"
   },
   {
    "duration": 25,
    "start_time": "2021-11-09T05:09:02.247Z"
   },
   {
    "duration": 13,
    "start_time": "2021-11-09T05:09:02.273Z"
   },
   {
    "duration": 8,
    "start_time": "2021-11-09T05:09:02.287Z"
   },
   {
    "duration": 26,
    "start_time": "2021-11-09T05:09:02.297Z"
   },
   {
    "duration": 2,
    "start_time": "2021-11-09T05:09:02.325Z"
   },
   {
    "duration": 215,
    "start_time": "2021-11-09T05:09:02.329Z"
   },
   {
    "duration": 1003,
    "start_time": "2021-11-09T05:09:02.547Z"
   },
   {
    "duration": 1015,
    "start_time": "2021-11-09T05:09:03.552Z"
   },
   {
    "duration": 3725,
    "start_time": "2021-11-09T05:09:04.569Z"
   },
   {
    "duration": 3,
    "start_time": "2021-11-09T05:09:08.295Z"
   },
   {
    "duration": 38093,
    "start_time": "2021-11-09T05:09:08.300Z"
   },
   {
    "duration": 130,
    "start_time": "2021-11-09T05:09:46.395Z"
   },
   {
    "duration": 629,
    "start_time": "2021-11-09T05:09:46.527Z"
   },
   {
    "duration": 2,
    "start_time": "2021-11-09T05:09:47.158Z"
   },
   {
    "duration": 64,
    "start_time": "2021-11-09T05:09:47.162Z"
   },
   {
    "duration": 18,
    "start_time": "2021-11-09T05:09:47.227Z"
   },
   {
    "duration": 8,
    "start_time": "2021-11-09T05:09:47.247Z"
   },
   {
    "duration": 200,
    "start_time": "2021-11-09T05:09:47.256Z"
   },
   {
    "duration": 2,
    "start_time": "2021-11-09T05:09:47.458Z"
   },
   {
    "duration": 10,
    "start_time": "2021-11-09T05:09:47.461Z"
   },
   {
    "duration": 5,
    "start_time": "2021-11-09T05:09:47.473Z"
   },
   {
    "duration": 22,
    "start_time": "2021-11-09T05:09:47.479Z"
   },
   {
    "duration": 2,
    "start_time": "2021-11-09T05:09:47.502Z"
   },
   {
    "duration": 43,
    "start_time": "2021-11-09T05:09:47.506Z"
   },
   {
    "duration": 5,
    "start_time": "2021-11-09T05:09:47.551Z"
   },
   {
    "duration": 11,
    "start_time": "2021-11-09T05:09:47.557Z"
   },
   {
    "duration": 7768,
    "start_time": "2021-11-09T05:09:47.570Z"
   },
   {
    "duration": -260,
    "start_time": "2021-11-09T05:09:55.600Z"
   },
   {
    "duration": 44,
    "start_time": "2021-11-09T05:10:24.821Z"
   },
   {
    "duration": 10,
    "start_time": "2021-11-09T05:10:31.769Z"
   },
   {
    "duration": 41,
    "start_time": "2021-11-09T05:10:50.990Z"
   },
   {
    "duration": 4,
    "start_time": "2021-11-09T05:11:05.070Z"
   },
   {
    "duration": 27,
    "start_time": "2021-11-09T05:12:25.645Z"
   },
   {
    "duration": 670,
    "start_time": "2021-11-09T05:12:40.174Z"
   },
   {
    "duration": 236,
    "start_time": "2021-11-09T05:16:08.724Z"
   },
   {
    "duration": 534,
    "start_time": "2021-11-09T05:16:15.612Z"
   },
   {
    "duration": 96,
    "start_time": "2021-11-09T05:17:12.377Z"
   },
   {
    "duration": 1698,
    "start_time": "2021-11-09T05:20:51.646Z"
   },
   {
    "duration": 9714,
    "start_time": "2021-11-09T05:22:01.301Z"
   },
   {
    "duration": 26,
    "start_time": "2021-11-09T05:25:26.548Z"
   },
   {
    "duration": 25,
    "start_time": "2021-11-09T05:25:38.440Z"
   },
   {
    "duration": 1148,
    "start_time": "2021-11-09T05:26:56.056Z"
   },
   {
    "duration": 2,
    "start_time": "2021-11-09T05:26:57.206Z"
   },
   {
    "duration": 742,
    "start_time": "2021-11-09T05:26:57.210Z"
   },
   {
    "duration": 24,
    "start_time": "2021-11-09T05:26:57.954Z"
   },
   {
    "duration": 16,
    "start_time": "2021-11-09T05:26:57.980Z"
   },
   {
    "duration": 46,
    "start_time": "2021-11-09T05:26:57.998Z"
   },
   {
    "duration": 12,
    "start_time": "2021-11-09T05:26:58.046Z"
   },
   {
    "duration": 20,
    "start_time": "2021-11-09T05:26:58.060Z"
   },
   {
    "duration": 21,
    "start_time": "2021-11-09T05:26:58.084Z"
   },
   {
    "duration": 5,
    "start_time": "2021-11-09T05:26:58.108Z"
   },
   {
    "duration": 891,
    "start_time": "2021-11-09T05:26:58.145Z"
   },
   {
    "duration": 132,
    "start_time": "2021-11-09T05:26:59.038Z"
   },
   {
    "duration": 11,
    "start_time": "2021-11-09T05:26:59.172Z"
   },
   {
    "duration": 6,
    "start_time": "2021-11-09T05:26:59.185Z"
   },
   {
    "duration": 135,
    "start_time": "2021-11-09T05:26:59.193Z"
   },
   {
    "duration": 3,
    "start_time": "2021-11-09T05:26:59.330Z"
   },
   {
    "duration": 14,
    "start_time": "2021-11-09T05:26:59.344Z"
   },
   {
    "duration": 18,
    "start_time": "2021-11-09T05:26:59.360Z"
   },
   {
    "duration": 15,
    "start_time": "2021-11-09T05:26:59.380Z"
   },
   {
    "duration": 18,
    "start_time": "2021-11-09T05:26:59.397Z"
   },
   {
    "duration": 16,
    "start_time": "2021-11-09T05:26:59.444Z"
   },
   {
    "duration": 16,
    "start_time": "2021-11-09T05:26:59.462Z"
   },
   {
    "duration": 18,
    "start_time": "2021-11-09T05:26:59.480Z"
   },
   {
    "duration": 17,
    "start_time": "2021-11-09T05:26:59.500Z"
   },
   {
    "duration": 218,
    "start_time": "2021-11-09T05:26:59.518Z"
   },
   {
    "duration": 7,
    "start_time": "2021-11-09T05:26:59.738Z"
   },
   {
    "duration": 333,
    "start_time": "2021-11-09T05:26:59.749Z"
   },
   {
    "duration": 4,
    "start_time": "2021-11-09T05:27:00.084Z"
   },
   {
    "duration": 501,
    "start_time": "2021-11-09T05:27:00.090Z"
   },
   {
    "duration": 235,
    "start_time": "2021-11-09T05:27:00.593Z"
   },
   {
    "duration": 169,
    "start_time": "2021-11-09T05:27:00.830Z"
   },
   {
    "duration": 11,
    "start_time": "2021-11-09T05:27:01.001Z"
   },
   {
    "duration": 16,
    "start_time": "2021-11-09T05:27:01.014Z"
   },
   {
    "duration": 11,
    "start_time": "2021-11-09T05:27:01.044Z"
   },
   {
    "duration": 31,
    "start_time": "2021-11-09T05:27:01.056Z"
   },
   {
    "duration": 867,
    "start_time": "2021-11-09T05:27:01.088Z"
   },
   {
    "duration": 104,
    "start_time": "2021-11-09T05:27:01.957Z"
   },
   {
    "duration": 36,
    "start_time": "2021-11-09T05:27:02.063Z"
   },
   {
    "duration": 7,
    "start_time": "2021-11-09T05:27:02.101Z"
   },
   {
    "duration": 31,
    "start_time": "2021-11-09T05:27:02.110Z"
   },
   {
    "duration": 16,
    "start_time": "2021-11-09T05:27:02.144Z"
   },
   {
    "duration": 18,
    "start_time": "2021-11-09T05:27:02.162Z"
   },
   {
    "duration": 35,
    "start_time": "2021-11-09T05:27:02.182Z"
   },
   {
    "duration": 60,
    "start_time": "2021-11-09T05:27:02.219Z"
   },
   {
    "duration": 5,
    "start_time": "2021-11-09T05:27:02.281Z"
   },
   {
    "duration": 161,
    "start_time": "2021-11-09T05:27:02.288Z"
   },
   {
    "duration": 1000,
    "start_time": "2021-11-09T05:27:02.451Z"
   },
   {
    "duration": 1017,
    "start_time": "2021-11-09T05:27:03.453Z"
   },
   {
    "duration": 3773,
    "start_time": "2021-11-09T05:27:04.472Z"
   },
   {
    "duration": 3,
    "start_time": "2021-11-09T05:27:08.247Z"
   },
   {
    "duration": 37943,
    "start_time": "2021-11-09T05:27:08.252Z"
   },
   {
    "duration": 125,
    "start_time": "2021-11-09T05:27:46.197Z"
   },
   {
    "duration": 520,
    "start_time": "2021-11-09T05:27:46.324Z"
   },
   {
    "duration": 2,
    "start_time": "2021-11-09T05:27:46.846Z"
   },
   {
    "duration": 61,
    "start_time": "2021-11-09T05:27:46.850Z"
   },
   {
    "duration": 6,
    "start_time": "2021-11-09T05:27:46.913Z"
   },
   {
    "duration": 13,
    "start_time": "2021-11-09T05:27:46.920Z"
   },
   {
    "duration": 230,
    "start_time": "2021-11-09T05:27:46.935Z"
   },
   {
    "duration": 3,
    "start_time": "2021-11-09T05:27:47.167Z"
   },
   {
    "duration": 5,
    "start_time": "2021-11-09T05:27:47.172Z"
   },
   {
    "duration": 17,
    "start_time": "2021-11-09T05:27:47.178Z"
   },
   {
    "duration": 54,
    "start_time": "2021-11-09T05:27:47.196Z"
   },
   {
    "duration": 5,
    "start_time": "2021-11-09T05:27:47.252Z"
   },
   {
    "duration": 15,
    "start_time": "2021-11-09T05:27:47.259Z"
   },
   {
    "duration": 11,
    "start_time": "2021-11-09T05:27:47.276Z"
   },
   {
    "duration": 25,
    "start_time": "2021-11-09T05:27:47.289Z"
   },
   {
    "duration": 629,
    "start_time": "2021-11-09T05:27:47.316Z"
   },
   {
    "duration": 1726,
    "start_time": "2021-11-09T05:27:47.948Z"
   },
   {
    "duration": 171,
    "start_time": "2021-11-09T05:27:49.676Z"
   },
   {
    "duration": 10342,
    "start_time": "2021-11-09T05:27:49.848Z"
   },
   {
    "duration": 25,
    "start_time": "2021-11-09T05:28:07.319Z"
   }
  ],
  "kernelspec": {
   "display_name": "Python 3",
   "language": "python",
   "name": "python3"
  },
  "language_info": {
   "codemirror_mode": {
    "name": "ipython",
    "version": 3
   },
   "file_extension": ".py",
   "mimetype": "text/x-python",
   "name": "python",
   "nbconvert_exporter": "python",
   "pygments_lexer": "ipython3",
   "version": "3.8.8"
  },
  "toc": {
   "base_numbering": 1,
   "nav_menu": {},
   "number_sections": true,
   "sideBar": true,
   "skip_h1_title": true,
   "title_cell": "Содержание",
   "title_sidebar": "Contents",
   "toc_cell": true,
   "toc_position": {
    "height": "calc(100% - 180px)",
    "left": "10px",
    "top": "150px",
    "width": "165px"
   },
   "toc_section_display": true,
   "toc_window_display": true
  }
 },
 "nbformat": 4,
 "nbformat_minor": 2
}
