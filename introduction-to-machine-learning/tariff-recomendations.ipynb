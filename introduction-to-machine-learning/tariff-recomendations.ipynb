{
 "cells": [
  {
   "cell_type": "markdown",
   "metadata": {},
   "source": [
    "# Рекомендация тарифов"
   ]
  },
  {
   "cell_type": "markdown",
   "metadata": {},
   "source": [
    "В вашем распоряжении данные о поведении клиентов, которые уже перешли на эти тарифы (из проекта курса «Статистический анализ данных»). Нужно построить модель для задачи классификации, которая выберет подходящий тариф. Предобработка данных не понадобится — вы её уже сделали.\n",
    "\n",
    "Постройте модель с максимально большим значением *accuracy*. Чтобы сдать проект успешно, нужно довести долю правильных ответов по крайней мере до 0.75. Проверьте *accuracy* на тестовой выборке самостоятельно."
   ]
  },
  {
   "cell_type": "markdown",
   "metadata": {},
   "source": [
    "## Откройте и изучите файл"
   ]
  },
  {
   "cell_type": "code",
   "execution_count": 1,
   "metadata": {},
   "outputs": [],
   "source": [
    "#Импорт инструментов\n",
    "import pandas as pd\n",
    "import numpy as np\n",
    "\n",
    "#Модули, связанные с ML\n",
    "from sklearn.tree import DecisionTreeClassifier\n",
    "from sklearn.metrics import accuracy_score\n",
    "from joblib import dump\n",
    "from joblib import load\n",
    "from sklearn.model_selection import train_test_split\n",
    "from sklearn.preprocessing import StandardScaler\n",
    "from sklearn.ensemble import RandomForestClassifier\n",
    "from sklearn.linear_model import LogisticRegression\n",
    "from sklearn.metrics import mean_squared_error\n",
    "from sklearn.tree import DecisionTreeRegressor\n",
    "from sklearn.ensemble import RandomForestRegressor\n",
    "from sklearn.linear_model import LinearRegression"
   ]
  },
  {
   "cell_type": "code",
   "execution_count": 2,
   "metadata": {},
   "outputs": [],
   "source": [
    "df = pd.read_csv('/datasets/users_behavior.csv')"
   ]
  },
  {
   "cell_type": "code",
   "execution_count": 3,
   "metadata": {
    "scrolled": true
   },
   "outputs": [
    {
     "data": {
      "text/html": [
       "<div>\n",
       "<style scoped>\n",
       "    .dataframe tbody tr th:only-of-type {\n",
       "        vertical-align: middle;\n",
       "    }\n",
       "\n",
       "    .dataframe tbody tr th {\n",
       "        vertical-align: top;\n",
       "    }\n",
       "\n",
       "    .dataframe thead th {\n",
       "        text-align: right;\n",
       "    }\n",
       "</style>\n",
       "<table border=\"1\" class=\"dataframe\">\n",
       "  <thead>\n",
       "    <tr style=\"text-align: right;\">\n",
       "      <th></th>\n",
       "      <th>calls</th>\n",
       "      <th>minutes</th>\n",
       "      <th>messages</th>\n",
       "      <th>mb_used</th>\n",
       "      <th>is_ultra</th>\n",
       "    </tr>\n",
       "  </thead>\n",
       "  <tbody>\n",
       "    <tr>\n",
       "      <td>0</td>\n",
       "      <td>40.0</td>\n",
       "      <td>311.90</td>\n",
       "      <td>83.0</td>\n",
       "      <td>19915.42</td>\n",
       "      <td>0</td>\n",
       "    </tr>\n",
       "    <tr>\n",
       "      <td>1</td>\n",
       "      <td>85.0</td>\n",
       "      <td>516.75</td>\n",
       "      <td>56.0</td>\n",
       "      <td>22696.96</td>\n",
       "      <td>0</td>\n",
       "    </tr>\n",
       "    <tr>\n",
       "      <td>2</td>\n",
       "      <td>77.0</td>\n",
       "      <td>467.66</td>\n",
       "      <td>86.0</td>\n",
       "      <td>21060.45</td>\n",
       "      <td>0</td>\n",
       "    </tr>\n",
       "    <tr>\n",
       "      <td>3</td>\n",
       "      <td>106.0</td>\n",
       "      <td>745.53</td>\n",
       "      <td>81.0</td>\n",
       "      <td>8437.39</td>\n",
       "      <td>1</td>\n",
       "    </tr>\n",
       "    <tr>\n",
       "      <td>4</td>\n",
       "      <td>66.0</td>\n",
       "      <td>418.74</td>\n",
       "      <td>1.0</td>\n",
       "      <td>14502.75</td>\n",
       "      <td>0</td>\n",
       "    </tr>\n",
       "    <tr>\n",
       "      <td>5</td>\n",
       "      <td>58.0</td>\n",
       "      <td>344.56</td>\n",
       "      <td>21.0</td>\n",
       "      <td>15823.37</td>\n",
       "      <td>0</td>\n",
       "    </tr>\n",
       "    <tr>\n",
       "      <td>6</td>\n",
       "      <td>57.0</td>\n",
       "      <td>431.64</td>\n",
       "      <td>20.0</td>\n",
       "      <td>3738.90</td>\n",
       "      <td>1</td>\n",
       "    </tr>\n",
       "    <tr>\n",
       "      <td>7</td>\n",
       "      <td>15.0</td>\n",
       "      <td>132.40</td>\n",
       "      <td>6.0</td>\n",
       "      <td>21911.60</td>\n",
       "      <td>0</td>\n",
       "    </tr>\n",
       "    <tr>\n",
       "      <td>8</td>\n",
       "      <td>7.0</td>\n",
       "      <td>43.39</td>\n",
       "      <td>3.0</td>\n",
       "      <td>2538.67</td>\n",
       "      <td>1</td>\n",
       "    </tr>\n",
       "    <tr>\n",
       "      <td>9</td>\n",
       "      <td>90.0</td>\n",
       "      <td>665.41</td>\n",
       "      <td>38.0</td>\n",
       "      <td>17358.61</td>\n",
       "      <td>0</td>\n",
       "    </tr>\n",
       "  </tbody>\n",
       "</table>\n",
       "</div>"
      ],
      "text/plain": [
       "   calls  minutes  messages   mb_used  is_ultra\n",
       "0   40.0   311.90      83.0  19915.42         0\n",
       "1   85.0   516.75      56.0  22696.96         0\n",
       "2   77.0   467.66      86.0  21060.45         0\n",
       "3  106.0   745.53      81.0   8437.39         1\n",
       "4   66.0   418.74       1.0  14502.75         0\n",
       "5   58.0   344.56      21.0  15823.37         0\n",
       "6   57.0   431.64      20.0   3738.90         1\n",
       "7   15.0   132.40       6.0  21911.60         0\n",
       "8    7.0    43.39       3.0   2538.67         1\n",
       "9   90.0   665.41      38.0  17358.61         0"
      ]
     },
     "execution_count": 3,
     "metadata": {},
     "output_type": "execute_result"
    }
   ],
   "source": [
    "df.head(10)"
   ]
  },
  {
   "cell_type": "code",
   "execution_count": 4,
   "metadata": {},
   "outputs": [
    {
     "name": "stdout",
     "output_type": "stream",
     "text": [
      "<class 'pandas.core.frame.DataFrame'>\n",
      "RangeIndex: 3214 entries, 0 to 3213\n",
      "Data columns (total 5 columns):\n",
      "calls       3214 non-null float64\n",
      "minutes     3214 non-null float64\n",
      "messages    3214 non-null float64\n",
      "mb_used     3214 non-null float64\n",
      "is_ultra    3214 non-null int64\n",
      "dtypes: float64(4), int64(1)\n",
      "memory usage: 125.7 KB\n"
     ]
    }
   ],
   "source": [
    "df.info()"
   ]
  },
  {
   "cell_type": "markdown",
   "metadata": {},
   "source": [
    "Данные предобработки не требуют: все было уже сделано на предыдущих этапах.\n",
    "\n",
    "Всего 3214 значений, 5 колонок:\n",
    "\n",
    "Точнее, другим языком... Перед нами обучающий набор данных, где:\n",
    "\n",
    "- 3214 объекта\n",
    "\n",
    "- по столбикам: 5 столбцов, часть из которых признаки и один целевой признак"
   ]
  },
  {
   "cell_type": "markdown",
   "metadata": {},
   "source": [
    "## Разбейте данные на выборки"
   ]
  },
  {
   "cell_type": "markdown",
   "metadata": {},
   "source": [
    "Необходимо разделить исходные данные на обучающую, валидационную и тестовую выборки."
   ]
  },
  {
   "cell_type": "code",
   "execution_count": 5,
   "metadata": {},
   "outputs": [],
   "source": [
    "features = df.drop('is_ultra', axis=1)  \n",
    "target = df['is_ultra'] \n",
    "features_train, features_test, target_train, target_test = train_test_split(features, target, test_size=0.25, random_state = 12345, stratify=target)\n",
    "features_train, features_test, target_train, target_test = train_test_split(features, target, test_size=0.25, random_state = 12345, stratify=target)"
   ]
  },
  {
   "cell_type": "code",
   "execution_count": 6,
   "metadata": {},
   "outputs": [],
   "source": [
    "from sklearn.model_selection import KFold "
   ]
  },
  {
   "cell_type": "markdown",
   "metadata": {},
   "source": [
    "<b># МОДЕЛЬ ДЕРЕВО РЕШЕНИЙ</b> - тройная кросс-валидация"
   ]
  },
  {
   "cell_type": "code",
   "execution_count": 7,
   "metadata": {},
   "outputs": [
    {
     "name": "stdout",
     "output_type": "stream",
     "text": [
      "accuracy of each fold - [0.7313432835820896, 0.7236227824463118, 0.7133520074696545]\n",
      "Avg accuracy : 0.7227726911660186\n",
      "RMSE  without optimization: 0.535395174175436\n"
     ]
    }
   ],
   "source": [
    "X = features\n",
    "y = target\n",
    "\n",
    "k = 3 # 3 ВЫБОРКИ\n",
    "kf = KFold(n_splits=k, random_state=12345)\n",
    " \n",
    "acc_score = []\n",
    "\n",
    "dtr = DecisionTreeRegressor(random_state=12345)\n",
    "for train_index , test_index in kf.split(X):\n",
    "    X_train , X_test = X.iloc[train_index,:],X.iloc[test_index,:]\n",
    "    y_train , y_test = y[train_index] , y[test_index]\n",
    "     \n",
    "    dtr.fit(X_train,y_train)\n",
    "    pred_values = dtr.predict(X_test)\n",
    "     \n",
    "    acc = accuracy_score(pred_values , y_test)\n",
    "    acc_score.append(acc)\n",
    "     \n",
    "avg_acc_score = sum(acc_score)/k\n",
    "result = mean_squared_error(y_test, pred_values)**0.5\n",
    " \n",
    "print('accuracy of each fold - {}'.format(acc_score))\n",
    "print('Avg accuracy : {}'.format(avg_acc_score))\n",
    "\n",
    "print(\"RMSE  without optimization:\", result)"
   ]
  },
  {
   "cell_type": "markdown",
   "metadata": {},
   "source": [
    "<b># МОДЕЛЬ СЛУЧАЙНЫЙ ЛЕС</b> - тройная кросс-валидация"
   ]
  },
  {
   "cell_type": "code",
   "execution_count": 8,
   "metadata": {},
   "outputs": [
    {
     "name": "stdout",
     "output_type": "stream",
     "text": [
      "accuracy of each fold - [0.746268656716418, 0.7450980392156863, 0.7675070028011205]\n",
      "Avg accuracy : 0.7529578995777415\n",
      "RMSE  without optimization: 0.4821752764284784\n"
     ]
    }
   ],
   "source": [
    "X = features\n",
    "y = target\n",
    "\n",
    "k = 3 # 3 ВЫБОРКИ\n",
    "kf = KFold(n_splits=k, random_state=12345)\n",
    " \n",
    "acc_score = []\n",
    "\n",
    "rfc = RandomForestClassifier(random_state=12345, n_estimators=3)\n",
    "for train_index , test_index in kf.split(X):\n",
    "    X_train , X_test = X.iloc[train_index,:],X.iloc[test_index,:]\n",
    "    y_train , y_test = y[train_index] , y[test_index]\n",
    "     \n",
    "    rfc.fit(X_train,y_train)\n",
    "    pred_values = rfc.predict(X_test)\n",
    "     \n",
    "    acc = accuracy_score(pred_values , y_test)\n",
    "    acc_score.append(acc)\n",
    "     \n",
    "avg_acc_score = sum(acc_score)/k\n",
    "result = mean_squared_error(y_test, pred_values)**0.5\n",
    " \n",
    "print('accuracy of each fold - {}'.format(acc_score))\n",
    "print('Avg accuracy : {}'.format(avg_acc_score))\n",
    "\n",
    "print(\"RMSE  without optimization:\", result)"
   ]
  },
  {
   "cell_type": "markdown",
   "metadata": {},
   "source": [
    "<b># МОДЕЛЬ ЛОГИЧЕСКАЯ РЕГРЕССИЯ</b> - тройная кросс-валидация"
   ]
  },
  {
   "cell_type": "code",
   "execution_count": 9,
   "metadata": {},
   "outputs": [
    {
     "name": "stdout",
     "output_type": "stream",
     "text": [
      "accuracy of each fold - [0.6921641791044776, 0.7161531279178338, 0.7329598506069094]\n",
      "Avg accuracy : 0.7137590525430736\n",
      "RMSE  without optimization: 0.5167592760590666\n"
     ]
    },
    {
     "name": "stderr",
     "output_type": "stream",
     "text": [
      "/opt/conda/lib/python3.7/site-packages/sklearn/linear_model/logistic.py:432: FutureWarning: Default solver will be changed to 'lbfgs' in 0.22. Specify a solver to silence this warning.\n",
      "  FutureWarning)\n",
      "/opt/conda/lib/python3.7/site-packages/sklearn/linear_model/logistic.py:432: FutureWarning: Default solver will be changed to 'lbfgs' in 0.22. Specify a solver to silence this warning.\n",
      "  FutureWarning)\n",
      "/opt/conda/lib/python3.7/site-packages/sklearn/linear_model/logistic.py:432: FutureWarning: Default solver will be changed to 'lbfgs' in 0.22. Specify a solver to silence this warning.\n",
      "  FutureWarning)\n"
     ]
    }
   ],
   "source": [
    "X = features\n",
    "y = target\n",
    "\n",
    "k = 3 # 3 ВЫБОРКИ\n",
    "kf = KFold(n_splits=k, random_state=12345)\n",
    " \n",
    "acc_score = []\n",
    "\n",
    "lr = LogisticRegression(random_state=12345)\n",
    "for train_index , test_index in kf.split(X):\n",
    "    X_train , X_test = X.iloc[train_index,:],X.iloc[test_index,:]\n",
    "    y_train , y_test = y[train_index] , y[test_index]\n",
    "     \n",
    "    lr.fit(X_train,y_train)\n",
    "    pred_values = lr.predict(X_test)\n",
    "     \n",
    "    acc = accuracy_score(pred_values , y_test)\n",
    "    acc_score.append(acc)\n",
    "     \n",
    "avg_acc_score = sum(acc_score)/k\n",
    "result = mean_squared_error(y_test, pred_values)**0.5\n",
    " \n",
    "print('accuracy of each fold - {}'.format(acc_score))\n",
    "print('Avg accuracy : {}'.format(avg_acc_score))\n",
    "\n",
    "print(\"RMSE  without optimization:\", result)"
   ]
  },
  {
   "cell_type": "markdown",
   "metadata": {},
   "source": [
    "<b>НИЖЕ БУДЕТ СНОСОЧКА С ПРОВЕРКАМИ НА ТЕСТОВЫХ ВЫБОРКАХ И ОПТИМИЗАЦИИ !!! СМОТРЕТЬ ПО СНОСОЧКЕ ДАЛЕЕ !!!</b>"
   ]
  },
  {
   "cell_type": "markdown",
   "metadata": {},
   "source": [
    "Масштабирование данных."
   ]
  },
  {
   "cell_type": "code",
   "execution_count": 10,
   "metadata": {},
   "outputs": [],
   "source": [
    "ss = StandardScaler()\n",
    "features_train_scaled = ss.fit_transform(features_train)\n",
    "features_test_scaled = ss.transform(features_test)\n",
    "target_train = np.array(target_train)"
   ]
  },
  {
   "cell_type": "markdown",
   "metadata": {},
   "source": [
    "Масштабирование выполняется из-за того, что разные величины выражены в разных единицах измерения. Эта процедура позволяет организовать «честную схватку» между признаками при определении их важности. Кроме того, мы конвертируем y_train из типа данных Pandas Series в массив NumPy для того чтобы позже модель смогла бы работать с соответствующими целевыми показателями.\n",
    "\n",
    "Но, не знаю, насколько нам это надо в нашем кейсе..."
   ]
  },
  {
   "cell_type": "markdown",
   "metadata": {},
   "source": [
    "## Исследуйте модели"
   ]
  },
  {
   "cell_type": "markdown",
   "metadata": {},
   "source": [
    "В каждой из трех моделей будет блок кода без оптимизации гиперпараметров и с ней."
   ]
  },
  {
   "cell_type": "markdown",
   "metadata": {},
   "source": [
    "<b>Модель \"Дерево решений\"</b>"
   ]
  },
  {
   "cell_type": "code",
   "execution_count": 11,
   "metadata": {},
   "outputs": [
    {
     "name": "stdout",
     "output_type": "stream",
     "text": [
      "RMSE без оптимизации гиперпараметров: 0.5061807043661748\n",
      "Доля правильных ответов без оптимизации гиперпараметров: 0.7437810945273632\n"
     ]
    }
   ],
   "source": [
    "dtr = DecisionTreeRegressor(random_state=12345)\n",
    "dtr.fit(features_train, target_train)\n",
    "predictions_test = dtr.predict(features_test)\n",
    "result = mean_squared_error(target_test, predictions_test)**0.5\n",
    "accuracy = accuracy_score(target_test, predictions_test.round())\n",
    "print(\"RMSE без оптимизации гиперпараметров:\", result)\n",
    "print(\"Доля правильных ответов без оптимизации гиперпараметров:\", accuracy)"
   ]
  },
  {
   "cell_type": "code",
   "execution_count": 12,
   "metadata": {
    "scrolled": true
   },
   "outputs": [
    {
     "name": "stdout",
     "output_type": "stream",
     "text": [
      "RMSE наилучшей модели на валидационной выборке: 0.4067988188892464 Глубина дерева: 5 Доля правильных ответов: 0.7860696517412935\n"
     ]
    }
   ],
   "source": [
    "best_model = None\n",
    "best_result = 10000\n",
    "best_depth = 0\n",
    "for depth in range(1, 6):\n",
    "    dtr = DecisionTreeRegressor(random_state=12345, max_depth=depth)\n",
    "    dtr.fit(features_train, target_train)\n",
    "    predictions_test = dtr.predict(features_test)\n",
    "    result = mean_squared_error(target_test, predictions_test)**0.5\n",
    "    accuracy = accuracy_score(target_test, predictions_test.round())\n",
    "    if result < best_result:\n",
    "        best_model = dtr\n",
    "        best_result = result\n",
    "        best_depth = depth\n",
    "        best_accuracy = accuracy\n",
    "        \n",
    "print(\"RMSE наилучшей модели на валидационной выборке:\", best_result, \"Глубина дерева:\", best_depth, \"Доля правильных ответов:\", best_accuracy)"
   ]
  },
  {
   "cell_type": "markdown",
   "metadata": {},
   "source": [
    "<b>Итого:</b> Доля правильных ответов: 0.786 > 0.75 !!!"
   ]
  },
  {
   "cell_type": "markdown",
   "metadata": {},
   "source": [
    "<b>Модель \"Случайный лес\"</b>"
   ]
  },
  {
   "cell_type": "code",
   "execution_count": 13,
   "metadata": {},
   "outputs": [
    {
     "name": "stdout",
     "output_type": "stream",
     "text": [
      "RMSE без оптимизации гиперпараметров: 0.5012422379394292\n",
      "Доля правильных ответов без оптимизации гиперпараметров: 0.7487562189054726\n"
     ]
    }
   ],
   "source": [
    "rfc = RandomForestClassifier(random_state=12345, n_estimators=3)\n",
    "rfc.fit(features_train, target_train)\n",
    "predictions_test = rfc.predict(features_test)\n",
    "result = mean_squared_error(target_test, predictions_test)**0.5\n",
    "accuracy = accuracy_score(target_test, predictions_test.round())\n",
    "print(\"RMSE без оптимизации гиперпараметров:\", result)\n",
    "print(\"Доля правильных ответов без оптимизации гиперпараметров:\", accuracy)"
   ]
  },
  {
   "cell_type": "code",
   "execution_count": 14,
   "metadata": {},
   "outputs": [
    {
     "name": "stdout",
     "output_type": "stream",
     "text": [
      "RMSE наилучшей модели на валидационной выборке: 0.3768710106510978 Количество деревьев: 15 Максимальная глубина: 10 Доля правильных ответов: 0.8059701492537313\n"
     ]
    }
   ],
   "source": [
    "best_model = None\n",
    "best_result = 10000\n",
    "best_est = 0\n",
    "best_depth = 0\n",
    "for est in range(1, 51, 2):\n",
    "    for depth in range (1, 11):\n",
    "        rfc = RandomForestRegressor(random_state=12345, n_estimators=est, max_depth=depth)\n",
    "        rfc.fit(features_train, target_train)\n",
    "        predictions_test = rfc.predict(features_test)\n",
    "        result = mean_squared_error(target_test, predictions_test)**0.5\n",
    "        accuracy = accuracy_score(target_test, predictions_test.round())\n",
    "        if result < best_result:\n",
    "            best_model = rfc\n",
    "            best_result = result\n",
    "            best_est = est\n",
    "            best_depth = depth\n",
    "            best_accuracy = accuracy\n",
    "\n",
    "print(\"RMSE наилучшей модели на валидационной выборке:\", best_result, \"Количество деревьев:\", best_est, \"Максимальная глубина:\", depth, \"Доля правильных ответов:\", best_accuracy)"
   ]
  },
  {
   "cell_type": "markdown",
   "metadata": {},
   "source": [
    "<b>Итого:</b> Доля правильных ответов: 0.806 > 0.75 !!!"
   ]
  },
  {
   "cell_type": "markdown",
   "metadata": {},
   "source": [
    "<b>Модель \"Логическая регрессия\"</b>"
   ]
  },
  {
   "cell_type": "code",
   "execution_count": 15,
   "metadata": {},
   "outputs": [
    {
     "name": "stdout",
     "output_type": "stream",
     "text": [
      "RMSE без оптимизации гиперпараметров: 0.5371752171594928\n",
      "Доля правильных ответов без оптимизации гиперпараметров: 0.7114427860696517\n"
     ]
    },
    {
     "name": "stderr",
     "output_type": "stream",
     "text": [
      "/opt/conda/lib/python3.7/site-packages/sklearn/linear_model/logistic.py:432: FutureWarning: Default solver will be changed to 'lbfgs' in 0.22. Specify a solver to silence this warning.\n",
      "  FutureWarning)\n"
     ]
    }
   ],
   "source": [
    "lr = LogisticRegression(random_state=12345)\n",
    "lr.fit(features_train, target_train)\n",
    "predictions_test = lr.predict(features_test)\n",
    "result = mean_squared_error(target_test, predictions_test)**0.5\n",
    "accuracy = accuracy_score(target_test, predictions_test.round())\n",
    "print(\"RMSE без оптимизации гиперпараметров:\", result)\n",
    "print(\"Доля правильных ответов без оптимизации гиперпараметров:\", accuracy)"
   ]
  },
  {
   "cell_type": "markdown",
   "metadata": {},
   "source": [
    "Из-за малого количества параметров линейная регрессия менее склонна к переобучению, чем, например, деревья решений.\n",
    "\n",
    "Поэтому, как я понял, оптимизацию гиперпараметров мы тут провести не можем: изменить глубину и количество деревьев в \"звене\", ну или этому мы научимся попозже..."
   ]
  },
  {
   "cell_type": "markdown",
   "metadata": {},
   "source": [
    "## Проверьте модель на тестовой выборке"
   ]
  },
  {
   "cell_type": "markdown",
   "metadata": {},
   "source": [
    "По сути, я это уже сделал выше..."
   ]
  },
  {
   "cell_type": "markdown",
   "metadata": {},
   "source": [
    "<b>СНОСОЧКА!!!</b>"
   ]
  },
  {
   "cell_type": "code",
   "execution_count": 22,
   "metadata": {},
   "outputs": [],
   "source": [
    "b = list()\n",
    "c = list()\n",
    "d = list()"
   ]
  },
  {
   "cell_type": "markdown",
   "metadata": {},
   "source": [
    "<b># МОДЕЛЬ ДЕРЕВО РЕШЕНИЙ</b>"
   ]
  },
  {
   "cell_type": "code",
   "execution_count": 23,
   "metadata": {},
   "outputs": [
    {
     "name": "stdout",
     "output_type": "stream",
     "text": [
      "RMSE наилучшей модели на валидационной выборке: 0.3881586616312411 Глубина дерева: 5 Доля правильных ответов: 0.7917833800186741\n"
     ]
    }
   ],
   "source": [
    "X = features\n",
    "y = target\n",
    "\n",
    "k = 3 # 3 ВЫБОРКИ\n",
    "kf = KFold(n_splits=k, random_state=12345)\n",
    " \n",
    "acc_score = []\n",
    "\n",
    "dtr = DecisionTreeRegressor(random_state=12345)\n",
    "for train_index , test_index in kf.split(X):\n",
    "    X_train , X_test = X.iloc[train_index,:],X.iloc[test_index,:]\n",
    "    y_train , y_test = y[train_index] , y[test_index]\n",
    "\n",
    "best_model = None\n",
    "best_result = 10000\n",
    "best_depth = 0\n",
    "for depth in range(1, 6):\n",
    "    dtr = DecisionTreeRegressor(random_state=12345, max_depth=depth)\n",
    "    dtr.fit(X_train, y_train)\n",
    "    predictions_test = dtr.predict(X_test)\n",
    "    result = mean_squared_error(y_test, predictions_test)**0.5\n",
    "    accuracy = accuracy_score(y_test, predictions_test.round())\n",
    "    if result < best_result:\n",
    "        best_model = dtr\n",
    "        best_result = result\n",
    "        best_depth = depth\n",
    "        best_accuracy = accuracy\n",
    "       \n",
    "print(\"RMSE наилучшей модели на валидационной выборке:\", best_result, \"Глубина дерева:\", best_depth, \"Доля правильных ответов:\", best_accuracy)\n",
    "b.append(best_result)\n",
    "c.append(f'Глубина дерева: {best_depth}')\n",
    "d.append(best_accuracy)"
   ]
  },
  {
   "cell_type": "markdown",
   "metadata": {},
   "source": [
    "<b># МОДЕЛЬ СЛУЧАЙНЫЙ ЛЕС</b>"
   ]
  },
  {
   "cell_type": "code",
   "execution_count": 24,
   "metadata": {},
   "outputs": [
    {
     "name": "stdout",
     "output_type": "stream",
     "text": [
      "RMSE наилучшей модели на валидационной выборке: 0.36832145512452796 Количество деревьев: 49 Максимальная глубина: 10 Доля правильных ответов: 0.8169934640522876\n"
     ]
    }
   ],
   "source": [
    "X = features\n",
    "y = target\n",
    "\n",
    "k = 3 # 3 ВЫБОРКИ\n",
    "kf = KFold(n_splits=k, random_state=12345)\n",
    " \n",
    "acc_score = []\n",
    "\n",
    "rfc = RandomForestClassifier(random_state=12345)\n",
    "for train_index , test_index in kf.split(X):\n",
    "    X_train , X_test = X.iloc[train_index,:],X.iloc[test_index,:]\n",
    "    y_train , y_test = y[train_index] , y[test_index]\n",
    "\n",
    "best_model = None\n",
    "best_result = 10000\n",
    "best_est = 0\n",
    "best_depth = 0\n",
    "for est in range(1, 51, 2):\n",
    "    for depth in range (1, 11):\n",
    "        rfc = RandomForestRegressor(random_state=12345, n_estimators=est, max_depth=depth)\n",
    "        rfc.fit(X_train, y_train)\n",
    "        predictions_test = rfc.predict(X_test)\n",
    "        result = mean_squared_error(y_test, predictions_test)**0.5\n",
    "        accuracy = accuracy_score(y_test, predictions_test.round())\n",
    "        if result < best_result:\n",
    "            best_model = rfc\n",
    "            best_result = result\n",
    "            best_est = est\n",
    "            best_depth = depth\n",
    "            best_accuracy = accuracy\n",
    "\n",
    "print(\"RMSE наилучшей модели на валидационной выборке:\", best_result, \"Количество деревьев:\", best_est, \"Максимальная глубина:\", depth, \"Доля правильных ответов:\", best_accuracy)\n",
    "b.append(best_result)\n",
    "c.append(f'Количество деревьев: {best_est}')\n",
    "c.append(f'Максимальная глубина: {depth}')\n",
    "d.append(best_accuracy)"
   ]
  },
  {
   "cell_type": "markdown",
   "metadata": {},
   "source": [
    "<b># МОДЕЛЬ ЛОГИЧЕСКАЯ РЕГРЕССИЯ</b>"
   ]
  },
  {
   "cell_type": "code",
   "execution_count": 25,
   "metadata": {
    "scrolled": true
   },
   "outputs": [
    {
     "name": "stdout",
     "output_type": "stream",
     "text": [
      "RMSE без оптимизации гиперпараметров: 0.5167592760590666\n",
      "Доля правильных ответов без оптимизации гиперпараметров: 0.7329598506069094\n"
     ]
    },
    {
     "name": "stderr",
     "output_type": "stream",
     "text": [
      "/opt/conda/lib/python3.7/site-packages/sklearn/linear_model/logistic.py:432: FutureWarning: Default solver will be changed to 'lbfgs' in 0.22. Specify a solver to silence this warning.\n",
      "  FutureWarning)\n"
     ]
    }
   ],
   "source": [
    "X = features\n",
    "y = target\n",
    "\n",
    "k = 3 # 3 ВЫБОРКИ\n",
    "kf = KFold(n_splits=k, random_state=12345)\n",
    " \n",
    "acc_score = []\n",
    "\n",
    "lr = LogisticRegression(random_state=12345)\n",
    "for train_index , test_index in kf.split(X):\n",
    "    X_train , X_test = X.iloc[train_index,:],X.iloc[test_index,:]\n",
    "    y_train , y_test = y[train_index] , y[test_index]\n",
    "    \n",
    "lr.fit(X_train, y_train)\n",
    "predictions_test = lr.predict(X_test)\n",
    "result = mean_squared_error(y_test, predictions_test)**0.5\n",
    "accuracy = accuracy_score(y_test, predictions_test.round())\n",
    "print(\"RMSE без оптимизации гиперпараметров:\", result)\n",
    "print(\"Доля правильных ответов без оптимизации гиперпараметров:\", accuracy)\n",
    "b.append('')\n",
    "b.append(result)\n",
    "c.append('Без гиперпараметров')\n",
    "d.append('')\n",
    "d.append(accuracy)"
   ]
  },
  {
   "cell_type": "code",
   "execution_count": 26,
   "metadata": {},
   "outputs": [],
   "source": [
    "a = ['МОДЕЛЬ ДЕРЕВО РЕШЕНИЙ', 'МОДЕЛЬ СЛУЧАЙНЫЙ ЛЕС', '', 'МОДЕЛЬ ЛОГИЧЕСКАЯ РЕГРЕССИЯ']\n",
    "\n",
    "df_all = pd.DataFrame({\"Название модели\": a, \"Наилучшее RMSE\": b, \"Оптимизированные гиперпараметры\": c, \"Наилучшая доля правильных ответов\": d})"
   ]
  },
  {
   "cell_type": "markdown",
   "metadata": {},
   "source": [
    "<b>ТАБЛИЦА</b> - упоротая конечно, но таблица"
   ]
  },
  {
   "cell_type": "code",
   "execution_count": 27,
   "metadata": {
    "scrolled": true
   },
   "outputs": [
    {
     "data": {
      "text/html": [
       "<div>\n",
       "<style scoped>\n",
       "    .dataframe tbody tr th:only-of-type {\n",
       "        vertical-align: middle;\n",
       "    }\n",
       "\n",
       "    .dataframe tbody tr th {\n",
       "        vertical-align: top;\n",
       "    }\n",
       "\n",
       "    .dataframe thead th {\n",
       "        text-align: right;\n",
       "    }\n",
       "</style>\n",
       "<table border=\"1\" class=\"dataframe\">\n",
       "  <thead>\n",
       "    <tr style=\"text-align: right;\">\n",
       "      <th></th>\n",
       "      <th>Название модели</th>\n",
       "      <th>Наилучшее RMSE</th>\n",
       "      <th>Оптимизированные гиперпараметры</th>\n",
       "      <th>Наилучшая доля правильных ответов</th>\n",
       "    </tr>\n",
       "  </thead>\n",
       "  <tbody>\n",
       "    <tr>\n",
       "      <td>0</td>\n",
       "      <td>МОДЕЛЬ ДЕРЕВО РЕШЕНИЙ</td>\n",
       "      <td>0.388159</td>\n",
       "      <td>Глубина дерева: 5</td>\n",
       "      <td>0.791783</td>\n",
       "    </tr>\n",
       "    <tr>\n",
       "      <td>1</td>\n",
       "      <td>МОДЕЛЬ СЛУЧАЙНЫЙ ЛЕС</td>\n",
       "      <td>0.368321</td>\n",
       "      <td>Количество деревьев: 49</td>\n",
       "      <td>0.816993</td>\n",
       "    </tr>\n",
       "    <tr>\n",
       "      <td>2</td>\n",
       "      <td></td>\n",
       "      <td></td>\n",
       "      <td>Максимальная глубина: 10</td>\n",
       "      <td></td>\n",
       "    </tr>\n",
       "    <tr>\n",
       "      <td>3</td>\n",
       "      <td>МОДЕЛЬ ЛОГИЧЕСКАЯ РЕГРЕССИЯ</td>\n",
       "      <td>0.516759</td>\n",
       "      <td>Без гиперпараметров</td>\n",
       "      <td>0.73296</td>\n",
       "    </tr>\n",
       "  </tbody>\n",
       "</table>\n",
       "</div>"
      ],
      "text/plain": [
       "               Название модели Наилучшее RMSE Оптимизированные гиперпараметры  \\\n",
       "0        МОДЕЛЬ ДЕРЕВО РЕШЕНИЙ       0.388159               Глубина дерева: 5   \n",
       "1         МОДЕЛЬ СЛУЧАЙНЫЙ ЛЕС       0.368321         Количество деревьев: 49   \n",
       "2                                                    Максимальная глубина: 10   \n",
       "3  МОДЕЛЬ ЛОГИЧЕСКАЯ РЕГРЕССИЯ       0.516759             Без гиперпараметров   \n",
       "\n",
       "  Наилучшая доля правильных ответов  \n",
       "0                          0.791783  \n",
       "1                          0.816993  \n",
       "2                                    \n",
       "3                           0.73296  "
      ]
     },
     "execution_count": 27,
     "metadata": {},
     "output_type": "execute_result"
    }
   ],
   "source": [
    "df_all"
   ]
  },
  {
   "cell_type": "markdown",
   "metadata": {},
   "source": [
    "## Чек-лист готовности проекта"
   ]
  },
  {
   "cell_type": "markdown",
   "metadata": {},
   "source": [
    "Поставьте 'x' в выполненных пунктах. Далее нажмите Shift+Enter."
   ]
  },
  {
   "cell_type": "markdown",
   "metadata": {},
   "source": [
    "- [x] Jupyter Notebook открыт\n",
    "- [ ] Весь код исполняется без ошибок\n",
    "- [ ] Ячейки с кодом расположены в порядке исполнения\n",
    "- [ ] Выполнено задание 1: данные загружены и изучены\n",
    "- [ ] Выполнено задание 2: данные разбиты на три выборки\n",
    "- [ ] Выполнено задание 3: проведено исследование моделей\n",
    "    - [ ] Рассмотрено больше одной модели\n",
    "    - [ ] Рассмотрено хотя бы 3 значения гипепараметров для какой-нибудь модели\n",
    "    - [ ] Написаны выводы по результатам исследования\n",
    "- [ ] Выполнено задание 3: Проведено тестирование\n",
    "- [ ] Удалось достичь accuracy не меньше 0.75\n"
   ]
  }
 ],
 "metadata": {
  "ExecuteTimeLog": [
   {
    "duration": 351,
    "start_time": "2021-08-08T14:34:19.691Z"
   },
   {
    "duration": 757,
    "start_time": "2021-08-08T14:34:24.998Z"
   },
   {
    "duration": 21,
    "start_time": "2021-08-08T14:34:27.132Z"
   },
   {
    "duration": 43,
    "start_time": "2021-08-08T14:35:10.052Z"
   },
   {
    "duration": 14,
    "start_time": "2021-08-08T14:35:22.857Z"
   },
   {
    "duration": 9,
    "start_time": "2021-08-08T14:35:32.997Z"
   },
   {
    "duration": 615,
    "start_time": "2021-08-08T14:53:00.507Z"
   },
   {
    "duration": 21,
    "start_time": "2021-08-08T14:53:04.967Z"
   },
   {
    "duration": 15,
    "start_time": "2021-08-08T14:53:05.813Z"
   },
   {
    "duration": 13,
    "start_time": "2021-08-08T14:53:10.310Z"
   },
   {
    "duration": 9,
    "start_time": "2021-08-08T14:53:10.906Z"
   },
   {
    "duration": 1341,
    "start_time": "2021-08-17T10:58:24.656Z"
   },
   {
    "duration": 22,
    "start_time": "2021-08-17T10:58:26.000Z"
   },
   {
    "duration": 23,
    "start_time": "2021-08-17T10:58:26.025Z"
   },
   {
    "duration": 10,
    "start_time": "2021-08-17T10:58:26.057Z"
   },
   {
    "duration": 10,
    "start_time": "2021-08-17T11:02:34.416Z"
   },
   {
    "duration": 10,
    "start_time": "2021-08-17T11:02:54.783Z"
   },
   {
    "duration": 6,
    "start_time": "2021-08-17T11:07:13.867Z"
   },
   {
    "duration": 8,
    "start_time": "2021-08-17T11:08:45.849Z"
   },
   {
    "duration": 4,
    "start_time": "2021-08-17T11:15:16.161Z"
   },
   {
    "duration": 4,
    "start_time": "2021-08-17T11:18:25.839Z"
   },
   {
    "duration": 1336,
    "start_time": "2021-08-17T11:24:44.151Z"
   },
   {
    "duration": 22,
    "start_time": "2021-08-17T11:24:45.490Z"
   },
   {
    "duration": 22,
    "start_time": "2021-08-17T11:24:45.515Z"
   },
   {
    "duration": 21,
    "start_time": "2021-08-17T11:24:45.540Z"
   },
   {
    "duration": 17,
    "start_time": "2021-08-17T11:24:45.563Z"
   },
   {
    "duration": 7,
    "start_time": "2021-08-17T11:24:45.583Z"
   },
   {
    "duration": 10,
    "start_time": "2021-08-17T11:24:45.592Z"
   },
   {
    "duration": 7,
    "start_time": "2021-08-17T11:24:45.604Z"
   },
   {
    "duration": 29,
    "start_time": "2021-08-17T11:25:35.461Z"
   },
   {
    "duration": 627,
    "start_time": "2021-08-17T11:29:27.970Z"
   },
   {
    "duration": 1359,
    "start_time": "2021-08-17T11:29:39.223Z"
   },
   {
    "duration": 23,
    "start_time": "2021-08-17T11:29:40.584Z"
   },
   {
    "duration": 24,
    "start_time": "2021-08-17T11:29:40.609Z"
   },
   {
    "duration": 22,
    "start_time": "2021-08-17T11:29:40.636Z"
   },
   {
    "duration": 407,
    "start_time": "2021-08-17T11:29:40.660Z"
   },
   {
    "duration": 580,
    "start_time": "2021-08-17T11:29:40.490Z"
   },
   {
    "duration": 580,
    "start_time": "2021-08-17T11:29:40.491Z"
   },
   {
    "duration": 581,
    "start_time": "2021-08-17T11:29:40.492Z"
   },
   {
    "duration": 578,
    "start_time": "2021-08-17T11:29:40.496Z"
   },
   {
    "duration": 9,
    "start_time": "2021-08-17T11:29:58.518Z"
   },
   {
    "duration": 1437,
    "start_time": "2021-08-17T11:30:03.960Z"
   },
   {
    "duration": 22,
    "start_time": "2021-08-17T11:30:05.400Z"
   },
   {
    "duration": 30,
    "start_time": "2021-08-17T11:30:05.425Z"
   },
   {
    "duration": 9,
    "start_time": "2021-08-17T11:30:05.457Z"
   },
   {
    "duration": 21,
    "start_time": "2021-08-17T11:30:05.468Z"
   },
   {
    "duration": 30,
    "start_time": "2021-08-17T11:30:05.491Z"
   },
   {
    "duration": 5,
    "start_time": "2021-08-17T11:30:05.524Z"
   },
   {
    "duration": 10,
    "start_time": "2021-08-17T11:30:05.532Z"
   },
   {
    "duration": 500,
    "start_time": "2021-08-17T11:30:05.545Z"
   },
   {
    "duration": 30,
    "start_time": "2021-08-17T11:30:33.991Z"
   },
   {
    "duration": 30,
    "start_time": "2021-08-17T11:32:38.857Z"
   },
   {
    "duration": 432,
    "start_time": "2021-08-17T11:33:03.423Z"
   },
   {
    "duration": 345,
    "start_time": "2021-08-17T11:33:10.748Z"
   },
   {
    "duration": 27,
    "start_time": "2021-08-17T11:33:18.155Z"
   },
   {
    "duration": 298,
    "start_time": "2021-08-17T11:34:03.139Z"
   },
   {
    "duration": 332,
    "start_time": "2021-08-17T11:34:09.767Z"
   },
   {
    "duration": 6,
    "start_time": "2021-08-17T11:34:15.767Z"
   },
   {
    "duration": 30,
    "start_time": "2021-08-17T11:35:08.602Z"
   },
   {
    "duration": 23,
    "start_time": "2021-08-17T11:35:10.272Z"
   },
   {
    "duration": 20,
    "start_time": "2021-08-17T11:38:33.881Z"
   },
   {
    "duration": 296,
    "start_time": "2021-08-17T11:40:52.090Z"
   },
   {
    "duration": 21,
    "start_time": "2021-08-17T11:41:00.441Z"
   },
   {
    "duration": 32,
    "start_time": "2021-08-17T11:48:41.793Z"
   },
   {
    "duration": 32,
    "start_time": "2021-08-17T11:48:55.537Z"
   },
   {
    "duration": 48,
    "start_time": "2021-08-17T11:49:13.277Z"
   },
   {
    "duration": 70,
    "start_time": "2021-08-17T11:49:20.092Z"
   },
   {
    "duration": 51,
    "start_time": "2021-08-17T11:49:24.290Z"
   },
   {
    "duration": 22,
    "start_time": "2021-08-17T11:49:32.785Z"
   },
   {
    "duration": 32,
    "start_time": "2021-08-17T11:49:38.500Z"
   },
   {
    "duration": 292,
    "start_time": "2021-08-17T11:56:26.512Z"
   },
   {
    "duration": 378,
    "start_time": "2021-08-17T11:58:27.380Z"
   },
   {
    "duration": 320,
    "start_time": "2021-08-17T11:58:37.787Z"
   },
   {
    "duration": 21,
    "start_time": "2021-08-17T11:58:46.573Z"
   },
   {
    "duration": 350,
    "start_time": "2021-08-17T12:00:45.314Z"
   },
   {
    "duration": 22,
    "start_time": "2021-08-17T12:01:32.607Z"
   },
   {
    "duration": 274,
    "start_time": "2021-08-17T12:03:39.214Z"
   },
   {
    "duration": 282,
    "start_time": "2021-08-17T12:06:21.768Z"
   },
   {
    "duration": 289,
    "start_time": "2021-08-17T12:06:53.276Z"
   },
   {
    "duration": 280,
    "start_time": "2021-08-17T12:07:09.199Z"
   },
   {
    "duration": 35,
    "start_time": "2021-08-17T12:07:56.639Z"
   },
   {
    "duration": 310,
    "start_time": "2021-08-17T12:08:33.804Z"
   },
   {
    "duration": 1358,
    "start_time": "2021-08-17T12:12:41.132Z"
   },
   {
    "duration": 23,
    "start_time": "2021-08-17T12:12:42.493Z"
   },
   {
    "duration": 23,
    "start_time": "2021-08-17T12:12:42.520Z"
   },
   {
    "duration": 17,
    "start_time": "2021-08-17T12:12:42.546Z"
   },
   {
    "duration": 11,
    "start_time": "2021-08-17T12:12:42.566Z"
   },
   {
    "duration": 8,
    "start_time": "2021-08-17T12:12:42.579Z"
   },
   {
    "duration": 21,
    "start_time": "2021-08-17T12:12:42.589Z"
   },
   {
    "duration": 70,
    "start_time": "2021-08-17T12:12:42.613Z"
   },
   {
    "duration": 415,
    "start_time": "2021-08-17T12:12:42.685Z"
   },
   {
    "duration": 553,
    "start_time": "2021-08-17T12:12:42.550Z"
   },
   {
    "duration": 549,
    "start_time": "2021-08-17T12:12:42.555Z"
   },
   {
    "duration": 543,
    "start_time": "2021-08-17T12:12:42.563Z"
   },
   {
    "duration": 310,
    "start_time": "2021-08-17T12:13:01.489Z"
   },
   {
    "duration": 22,
    "start_time": "2021-08-17T12:14:49.272Z"
   },
   {
    "duration": 22,
    "start_time": "2021-08-17T12:16:59.886Z"
   },
   {
    "duration": 37,
    "start_time": "2021-08-17T12:17:15.849Z"
   },
   {
    "duration": 36,
    "start_time": "2021-08-17T12:17:24.135Z"
   },
   {
    "duration": 21,
    "start_time": "2021-08-17T12:17:54.376Z"
   },
   {
    "duration": 36,
    "start_time": "2021-08-17T12:17:55.529Z"
   },
   {
    "duration": 11,
    "start_time": "2021-08-17T12:18:10.546Z"
   },
   {
    "duration": 107,
    "start_time": "2021-08-17T12:19:40.481Z"
   },
   {
    "duration": 42,
    "start_time": "2021-08-17T12:19:50.886Z"
   },
   {
    "duration": 101,
    "start_time": "2021-08-17T12:19:55.734Z"
   },
   {
    "duration": 39,
    "start_time": "2021-08-17T12:20:01.519Z"
   },
   {
    "duration": 31,
    "start_time": "2021-08-17T12:20:59.794Z"
   },
   {
    "duration": 32,
    "start_time": "2021-08-17T12:27:37.255Z"
   },
   {
    "duration": 289,
    "start_time": "2021-08-17T12:27:37.877Z"
   },
   {
    "duration": 27201,
    "start_time": "2021-08-17T12:31:06.100Z"
   },
   {
    "duration": 19,
    "start_time": "2021-08-17T12:38:49.415Z"
   },
   {
    "duration": 1374,
    "start_time": "2021-08-17T14:46:06.467Z"
   },
   {
    "duration": 19,
    "start_time": "2021-08-17T14:46:07.844Z"
   },
   {
    "duration": 33,
    "start_time": "2021-08-17T14:46:07.866Z"
   },
   {
    "duration": 9,
    "start_time": "2021-08-17T14:46:07.902Z"
   },
   {
    "duration": 560,
    "start_time": "2021-08-17T14:46:07.913Z"
   },
   {
    "duration": 1,
    "start_time": "2021-08-17T14:46:08.474Z"
   },
   {
    "duration": -10,
    "start_time": "2021-08-17T14:46:08.487Z"
   },
   {
    "duration": -10,
    "start_time": "2021-08-17T14:46:08.488Z"
   },
   {
    "duration": -11,
    "start_time": "2021-08-17T14:46:08.490Z"
   },
   {
    "duration": -16,
    "start_time": "2021-08-17T14:46:08.497Z"
   },
   {
    "duration": -21,
    "start_time": "2021-08-17T14:46:08.508Z"
   },
   {
    "duration": 15,
    "start_time": "2021-08-17T14:47:05.099Z"
   },
   {
    "duration": 394,
    "start_time": "2021-08-17T15:08:05.110Z"
   },
   {
    "duration": 411,
    "start_time": "2021-08-17T15:08:13.880Z"
   },
   {
    "duration": 4,
    "start_time": "2021-08-17T15:10:43.200Z"
   },
   {
    "duration": 391,
    "start_time": "2021-08-17T15:10:44.963Z"
   },
   {
    "duration": 966,
    "start_time": "2021-08-17T15:12:49.685Z"
   },
   {
    "duration": 57,
    "start_time": "2021-08-17T15:13:03.767Z"
   },
   {
    "duration": 71,
    "start_time": "2021-08-17T15:17:07.705Z"
   },
   {
    "duration": 1318,
    "start_time": "2021-08-17T15:17:18.382Z"
   },
   {
    "duration": 18,
    "start_time": "2021-08-17T15:17:19.703Z"
   },
   {
    "duration": 23,
    "start_time": "2021-08-17T15:17:19.725Z"
   },
   {
    "duration": 9,
    "start_time": "2021-08-17T15:17:19.751Z"
   },
   {
    "duration": 38,
    "start_time": "2021-08-17T15:17:19.762Z"
   },
   {
    "duration": 3,
    "start_time": "2021-08-17T15:17:19.803Z"
   },
   {
    "duration": 84,
    "start_time": "2021-08-17T15:17:19.808Z"
   },
   {
    "duration": 9,
    "start_time": "2021-08-17T15:17:19.894Z"
   },
   {
    "duration": 21,
    "start_time": "2021-08-17T15:17:19.907Z"
   },
   {
    "duration": 65,
    "start_time": "2021-08-17T15:17:19.930Z"
   },
   {
    "duration": 31,
    "start_time": "2021-08-17T15:17:19.997Z"
   },
   {
    "duration": 27922,
    "start_time": "2021-08-17T15:17:20.031Z"
   },
   {
    "duration": 34,
    "start_time": "2021-08-17T15:17:47.955Z"
   },
   {
    "duration": 59,
    "start_time": "2021-08-17T15:17:59.173Z"
   },
   {
    "duration": 84,
    "start_time": "2021-08-17T15:26:42.707Z"
   },
   {
    "duration": 54,
    "start_time": "2021-08-17T15:30:32.188Z"
   },
   {
    "duration": 143,
    "start_time": "2021-08-17T15:32:20.406Z"
   },
   {
    "duration": 44,
    "start_time": "2021-08-17T15:39:52.162Z"
   },
   {
    "duration": 97,
    "start_time": "2021-08-17T15:41:00.435Z"
   },
   {
    "duration": 24833,
    "start_time": "2021-08-17T15:44:12.842Z"
   },
   {
    "duration": 39,
    "start_time": "2021-08-17T15:47:42.940Z"
   },
   {
    "duration": 1817,
    "start_time": "2021-08-17T16:01:45.550Z"
   },
   {
    "duration": 23,
    "start_time": "2021-08-17T16:01:47.371Z"
   },
   {
    "duration": 24,
    "start_time": "2021-08-17T16:01:47.398Z"
   },
   {
    "duration": 9,
    "start_time": "2021-08-17T16:01:47.425Z"
   },
   {
    "duration": 53,
    "start_time": "2021-08-17T16:01:47.436Z"
   },
   {
    "duration": 4,
    "start_time": "2021-08-17T16:01:47.492Z"
   },
   {
    "duration": 83,
    "start_time": "2021-08-17T16:01:47.498Z"
   },
   {
    "duration": 99,
    "start_time": "2021-08-17T16:01:47.584Z"
   },
   {
    "duration": 99,
    "start_time": "2021-08-17T16:01:47.689Z"
   },
   {
    "duration": 12,
    "start_time": "2021-08-17T16:01:47.791Z"
   },
   {
    "duration": 29,
    "start_time": "2021-08-17T16:01:47.806Z"
   },
   {
    "duration": 81,
    "start_time": "2021-08-17T16:01:47.838Z"
   },
   {
    "duration": 44,
    "start_time": "2021-08-17T16:01:47.922Z"
   },
   {
    "duration": 1281,
    "start_time": "2021-08-17T16:02:13.720Z"
   },
   {
    "duration": 23,
    "start_time": "2021-08-17T16:02:15.004Z"
   },
   {
    "duration": 35,
    "start_time": "2021-08-17T16:02:15.031Z"
   },
   {
    "duration": 14,
    "start_time": "2021-08-17T16:02:15.084Z"
   },
   {
    "duration": 27,
    "start_time": "2021-08-17T16:02:15.101Z"
   },
   {
    "duration": 14,
    "start_time": "2021-08-17T16:02:15.131Z"
   },
   {
    "duration": 103,
    "start_time": "2021-08-17T16:02:15.148Z"
   },
   {
    "duration": 134,
    "start_time": "2021-08-17T16:02:15.255Z"
   },
   {
    "duration": 92,
    "start_time": "2021-08-17T16:02:15.394Z"
   },
   {
    "duration": 11,
    "start_time": "2021-08-17T16:02:15.490Z"
   },
   {
    "duration": 28,
    "start_time": "2021-08-17T16:02:15.504Z"
   },
   {
    "duration": 85,
    "start_time": "2021-08-17T16:02:15.535Z"
   },
   {
    "duration": 41,
    "start_time": "2021-08-17T16:02:15.623Z"
   },
   {
    "duration": 40828,
    "start_time": "2021-08-17T16:02:15.684Z"
   },
   {
    "duration": 18,
    "start_time": "2021-08-17T16:02:56.514Z"
   },
   {
    "duration": 3,
    "start_time": "2021-08-17T16:02:56.535Z"
   },
   {
    "duration": 55,
    "start_time": "2021-08-17T16:02:56.541Z"
   },
   {
    "duration": 24500,
    "start_time": "2021-08-17T16:02:56.599Z"
   },
   {
    "duration": 35,
    "start_time": "2021-08-17T16:03:21.101Z"
   },
   {
    "duration": 495,
    "start_time": "2021-08-17T16:03:21.138Z"
   },
   {
    "duration": 339,
    "start_time": "2021-08-17T16:03:39.942Z"
   },
   {
    "duration": 6,
    "start_time": "2021-08-17T16:03:55.127Z"
   },
   {
    "duration": 369,
    "start_time": "2021-08-17T16:05:22.580Z"
   },
   {
    "duration": 5,
    "start_time": "2021-08-17T16:05:30.209Z"
   },
   {
    "duration": 5,
    "start_time": "2021-08-17T16:05:34.357Z"
   },
   {
    "duration": 1807,
    "start_time": "2021-08-17T16:06:04.228Z"
   },
   {
    "duration": 24,
    "start_time": "2021-08-17T16:06:06.039Z"
   },
   {
    "duration": 26,
    "start_time": "2021-08-17T16:06:06.066Z"
   },
   {
    "duration": 12,
    "start_time": "2021-08-17T16:06:06.095Z"
   },
   {
    "duration": 14,
    "start_time": "2021-08-17T16:06:06.110Z"
   },
   {
    "duration": 5,
    "start_time": "2021-08-17T16:06:06.127Z"
   },
   {
    "duration": 98,
    "start_time": "2021-08-17T16:06:06.135Z"
   },
   {
    "duration": 98,
    "start_time": "2021-08-17T16:06:06.237Z"
   },
   {
    "duration": 68,
    "start_time": "2021-08-17T16:06:06.337Z"
   },
   {
    "duration": 8,
    "start_time": "2021-08-17T16:06:06.408Z"
   },
   {
    "duration": 26,
    "start_time": "2021-08-17T16:06:06.418Z"
   },
   {
    "duration": 59,
    "start_time": "2021-08-17T16:06:06.446Z"
   },
   {
    "duration": 30,
    "start_time": "2021-08-17T16:06:06.507Z"
   },
   {
    "duration": 30207,
    "start_time": "2021-08-17T16:06:06.540Z"
   },
   {
    "duration": 33,
    "start_time": "2021-08-17T16:06:36.750Z"
   },
   {
    "duration": 3,
    "start_time": "2021-08-17T16:06:36.786Z"
   },
   {
    "duration": 48,
    "start_time": "2021-08-17T16:06:36.792Z"
   },
   {
    "duration": 24644,
    "start_time": "2021-08-17T16:06:36.842Z"
   },
   {
    "duration": 38,
    "start_time": "2021-08-17T16:07:01.489Z"
   },
   {
    "duration": 7,
    "start_time": "2021-08-17T16:07:01.529Z"
   },
   {
    "duration": 44,
    "start_time": "2021-08-17T16:07:01.538Z"
   },
   {
    "duration": 3,
    "start_time": "2021-08-17T16:07:33.858Z"
   },
   {
    "duration": 47,
    "start_time": "2021-08-17T16:07:35.549Z"
   },
   {
    "duration": 25450,
    "start_time": "2021-08-17T16:07:36.933Z"
   },
   {
    "duration": 35,
    "start_time": "2021-08-17T16:08:02.385Z"
   },
   {
    "duration": 6,
    "start_time": "2021-08-17T16:08:02.422Z"
   },
   {
    "duration": 16,
    "start_time": "2021-08-17T16:08:02.430Z"
   },
   {
    "duration": 128,
    "start_time": "2021-08-17T16:09:12.966Z"
   }
  ],
  "kernelspec": {
   "display_name": "Python 3",
   "language": "python",
   "name": "python3"
  },
  "language_info": {
   "codemirror_mode": {
    "name": "ipython",
    "version": 3
   },
   "file_extension": ".py",
   "mimetype": "text/x-python",
   "name": "python",
   "nbconvert_exporter": "python",
   "pygments_lexer": "ipython3",
   "version": "3.8.8"
  },
  "toc": {
   "base_numbering": 1,
   "nav_menu": {},
   "number_sections": true,
   "sideBar": true,
   "skip_h1_title": true,
   "title_cell": "Table of Contents",
   "title_sidebar": "Contents",
   "toc_cell": false,
   "toc_position": {},
   "toc_section_display": true,
   "toc_window_display": false
  }
 },
 "nbformat": 4,
 "nbformat_minor": 2
}
