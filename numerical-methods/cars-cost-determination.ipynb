{
 "cells": [
  {
   "cell_type": "markdown",
   "metadata": {},
   "source": [
    "# Определение стоимости автомобилей"
   ]
  },
  {
   "cell_type": "markdown",
   "metadata": {},
   "source": [
    "Сервис по продаже автомобилей с пробегом «Не бит, не крашен» разрабатывает приложение для привлечения новых клиентов. В нём можно быстро узнать рыночную стоимость своего автомобиля. В вашем распоряжении исторические данные: технические характеристики, комплектации и цены автомобилей. Вам нужно построить модель для определения стоимости. \n",
    "\n",
    "Заказчику важны:\n",
    "\n",
    "- качество предсказания;\n",
    "- скорость предсказания;\n",
    "- время обучения."
   ]
  },
  {
   "cell_type": "markdown",
   "metadata": {},
   "source": [
    "**Импорты**"
   ]
  },
  {
   "cell_type": "code",
   "execution_count": 1,
   "metadata": {},
   "outputs": [],
   "source": [
    "import warnings\n",
    "warnings.filterwarnings('ignore')"
   ]
  },
  {
   "cell_type": "code",
   "execution_count": 2,
   "metadata": {},
   "outputs": [],
   "source": [
    "import pandas as pd\n",
    "import numpy as np\n",
    "\n",
    "from sklearn.preprocessing import OneHotEncoder\n",
    "\n",
    "from sklearn.model_selection import train_test_split\n",
    "from sklearn.linear_model import LinearRegression\n",
    "from sklearn.tree import DecisionTreeRegressor\n",
    "from sklearn.linear_model import LogisticRegression\n",
    "\n",
    "from sklearn.metrics import mean_squared_error\n",
    "from sklearn.metrics import mean_absolute_error\n",
    "from sklearn.metrics import r2_score\n",
    "from sklearn.metrics import make_scorer\n",
    "from sklearn.model_selection import cross_val_score\n",
    "\n",
    "from sklearn.metrics import confusion_matrix\n",
    "from sklearn.metrics import recall_score\n",
    "from sklearn.metrics import precision_score\n",
    "from sklearn.metrics import f1_score\n",
    "from sklearn.metrics import roc_auc_score, roc_curve\n",
    "\n",
    "from sklearn.ensemble import RandomForestClassifier\n",
    "from sklearn.ensemble import RandomForestRegressor\n",
    "from sklearn.model_selection import GridSearchCV\n",
    "from sklearn.model_selection import RandomizedSearchCV\n",
    "\n",
    "from sklearn.preprocessing import StandardScaler\n",
    "\n",
    "from lightgbm import LGBMRegressor"
   ]
  },
  {
   "cell_type": "markdown",
   "metadata": {},
   "source": [
    "## Подготовка данных"
   ]
  },
  {
   "cell_type": "code",
   "execution_count": 3,
   "metadata": {},
   "outputs": [],
   "source": [
    "df = pd.read_csv('/datasets/autos.csv')\n",
    "df_lgbm = pd.read_csv('/datasets/autos.csv')"
   ]
  },
  {
   "cell_type": "code",
   "execution_count": 4,
   "metadata": {},
   "outputs": [],
   "source": [
    "df_lgbm['VehicleType'] = df_lgbm['VehicleType'].astype('category')\n",
    "df_lgbm['FuelType'] = df_lgbm['FuelType'].astype('category')\n",
    "df_lgbm['Brand'] = df_lgbm['Brand'].astype('category')\n",
    "df_lgbm['Gearbox'] = df_lgbm['Gearbox'].astype('category')\n",
    "df_lgbm['NotRepaired'] = df_lgbm['NotRepaired'].astype('category')"
   ]
  },
  {
   "cell_type": "code",
   "execution_count": 5,
   "metadata": {
    "scrolled": true
   },
   "outputs": [
    {
     "data": {
      "text/html": [
       "<div>\n",
       "<style scoped>\n",
       "    .dataframe tbody tr th:only-of-type {\n",
       "        vertical-align: middle;\n",
       "    }\n",
       "\n",
       "    .dataframe tbody tr th {\n",
       "        vertical-align: top;\n",
       "    }\n",
       "\n",
       "    .dataframe thead th {\n",
       "        text-align: right;\n",
       "    }\n",
       "</style>\n",
       "<table border=\"1\" class=\"dataframe\">\n",
       "  <thead>\n",
       "    <tr style=\"text-align: right;\">\n",
       "      <th></th>\n",
       "      <th>DateCrawled</th>\n",
       "      <th>Price</th>\n",
       "      <th>VehicleType</th>\n",
       "      <th>RegistrationYear</th>\n",
       "      <th>Gearbox</th>\n",
       "      <th>Power</th>\n",
       "      <th>Model</th>\n",
       "      <th>Kilometer</th>\n",
       "      <th>RegistrationMonth</th>\n",
       "      <th>FuelType</th>\n",
       "      <th>Brand</th>\n",
       "      <th>NotRepaired</th>\n",
       "      <th>DateCreated</th>\n",
       "      <th>NumberOfPictures</th>\n",
       "      <th>PostalCode</th>\n",
       "      <th>LastSeen</th>\n",
       "    </tr>\n",
       "  </thead>\n",
       "  <tbody>\n",
       "    <tr>\n",
       "      <td>0</td>\n",
       "      <td>2016-03-24 11:52:17</td>\n",
       "      <td>480</td>\n",
       "      <td>NaN</td>\n",
       "      <td>1993</td>\n",
       "      <td>manual</td>\n",
       "      <td>0</td>\n",
       "      <td>golf</td>\n",
       "      <td>150000</td>\n",
       "      <td>0</td>\n",
       "      <td>petrol</td>\n",
       "      <td>volkswagen</td>\n",
       "      <td>NaN</td>\n",
       "      <td>2016-03-24 00:00:00</td>\n",
       "      <td>0</td>\n",
       "      <td>70435</td>\n",
       "      <td>2016-04-07 03:16:57</td>\n",
       "    </tr>\n",
       "    <tr>\n",
       "      <td>1</td>\n",
       "      <td>2016-03-24 10:58:45</td>\n",
       "      <td>18300</td>\n",
       "      <td>coupe</td>\n",
       "      <td>2011</td>\n",
       "      <td>manual</td>\n",
       "      <td>190</td>\n",
       "      <td>NaN</td>\n",
       "      <td>125000</td>\n",
       "      <td>5</td>\n",
       "      <td>gasoline</td>\n",
       "      <td>audi</td>\n",
       "      <td>yes</td>\n",
       "      <td>2016-03-24 00:00:00</td>\n",
       "      <td>0</td>\n",
       "      <td>66954</td>\n",
       "      <td>2016-04-07 01:46:50</td>\n",
       "    </tr>\n",
       "    <tr>\n",
       "      <td>2</td>\n",
       "      <td>2016-03-14 12:52:21</td>\n",
       "      <td>9800</td>\n",
       "      <td>suv</td>\n",
       "      <td>2004</td>\n",
       "      <td>auto</td>\n",
       "      <td>163</td>\n",
       "      <td>grand</td>\n",
       "      <td>125000</td>\n",
       "      <td>8</td>\n",
       "      <td>gasoline</td>\n",
       "      <td>jeep</td>\n",
       "      <td>NaN</td>\n",
       "      <td>2016-03-14 00:00:00</td>\n",
       "      <td>0</td>\n",
       "      <td>90480</td>\n",
       "      <td>2016-04-05 12:47:46</td>\n",
       "    </tr>\n",
       "    <tr>\n",
       "      <td>3</td>\n",
       "      <td>2016-03-17 16:54:04</td>\n",
       "      <td>1500</td>\n",
       "      <td>small</td>\n",
       "      <td>2001</td>\n",
       "      <td>manual</td>\n",
       "      <td>75</td>\n",
       "      <td>golf</td>\n",
       "      <td>150000</td>\n",
       "      <td>6</td>\n",
       "      <td>petrol</td>\n",
       "      <td>volkswagen</td>\n",
       "      <td>no</td>\n",
       "      <td>2016-03-17 00:00:00</td>\n",
       "      <td>0</td>\n",
       "      <td>91074</td>\n",
       "      <td>2016-03-17 17:40:17</td>\n",
       "    </tr>\n",
       "    <tr>\n",
       "      <td>4</td>\n",
       "      <td>2016-03-31 17:25:20</td>\n",
       "      <td>3600</td>\n",
       "      <td>small</td>\n",
       "      <td>2008</td>\n",
       "      <td>manual</td>\n",
       "      <td>69</td>\n",
       "      <td>fabia</td>\n",
       "      <td>90000</td>\n",
       "      <td>7</td>\n",
       "      <td>gasoline</td>\n",
       "      <td>skoda</td>\n",
       "      <td>no</td>\n",
       "      <td>2016-03-31 00:00:00</td>\n",
       "      <td>0</td>\n",
       "      <td>60437</td>\n",
       "      <td>2016-04-06 10:17:21</td>\n",
       "    </tr>\n",
       "  </tbody>\n",
       "</table>\n",
       "</div>"
      ],
      "text/plain": [
       "           DateCrawled  Price VehicleType  RegistrationYear Gearbox  Power  \\\n",
       "0  2016-03-24 11:52:17    480         NaN              1993  manual      0   \n",
       "1  2016-03-24 10:58:45  18300       coupe              2011  manual    190   \n",
       "2  2016-03-14 12:52:21   9800         suv              2004    auto    163   \n",
       "3  2016-03-17 16:54:04   1500       small              2001  manual     75   \n",
       "4  2016-03-31 17:25:20   3600       small              2008  manual     69   \n",
       "\n",
       "   Model  Kilometer  RegistrationMonth  FuelType       Brand NotRepaired  \\\n",
       "0   golf     150000                  0    petrol  volkswagen         NaN   \n",
       "1    NaN     125000                  5  gasoline        audi         yes   \n",
       "2  grand     125000                  8  gasoline        jeep         NaN   \n",
       "3   golf     150000                  6    petrol  volkswagen          no   \n",
       "4  fabia      90000                  7  gasoline       skoda          no   \n",
       "\n",
       "           DateCreated  NumberOfPictures  PostalCode             LastSeen  \n",
       "0  2016-03-24 00:00:00                 0       70435  2016-04-07 03:16:57  \n",
       "1  2016-03-24 00:00:00                 0       66954  2016-04-07 01:46:50  \n",
       "2  2016-03-14 00:00:00                 0       90480  2016-04-05 12:47:46  \n",
       "3  2016-03-17 00:00:00                 0       91074  2016-03-17 17:40:17  \n",
       "4  2016-03-31 00:00:00                 0       60437  2016-04-06 10:17:21  "
      ]
     },
     "execution_count": 5,
     "metadata": {},
     "output_type": "execute_result"
    }
   ],
   "source": [
    "df.head(5)"
   ]
  },
  {
   "cell_type": "code",
   "execution_count": 6,
   "metadata": {
    "scrolled": true
   },
   "outputs": [
    {
     "name": "stdout",
     "output_type": "stream",
     "text": [
      "<class 'pandas.core.frame.DataFrame'>\n",
      "RangeIndex: 354369 entries, 0 to 354368\n",
      "Data columns (total 16 columns):\n",
      "DateCrawled          354369 non-null object\n",
      "Price                354369 non-null int64\n",
      "VehicleType          316879 non-null object\n",
      "RegistrationYear     354369 non-null int64\n",
      "Gearbox              334536 non-null object\n",
      "Power                354369 non-null int64\n",
      "Model                334664 non-null object\n",
      "Kilometer            354369 non-null int64\n",
      "RegistrationMonth    354369 non-null int64\n",
      "FuelType             321474 non-null object\n",
      "Brand                354369 non-null object\n",
      "NotRepaired          283215 non-null object\n",
      "DateCreated          354369 non-null object\n",
      "NumberOfPictures     354369 non-null int64\n",
      "PostalCode           354369 non-null int64\n",
      "LastSeen             354369 non-null object\n",
      "dtypes: int64(7), object(9)\n",
      "memory usage: 43.3+ MB\n"
     ]
    }
   ],
   "source": [
    "df.info()"
   ]
  },
  {
   "cell_type": "markdown",
   "metadata": {},
   "source": [
    "Столбцы с отсутствующими данными:\n",
    "\n",
    "- VehicleType — тип автомобильного кузова\n",
    "\n",
    "- Gearbox — тип коробки передач\n",
    "\n",
    "- Model — модель автомобиля\n",
    "\n",
    "- FuelType — тип топлива\n",
    "\n",
    "- NotRepaired — была машина в ремонте или нет\n",
    "\n",
    "Каждый из этих параметров так или иначе влияет на итоговую цену автомобиля.\n",
    "\n",
    "Так как заказчику важны качество предсказания, скорость предсказания и время обучения, имеет смысл отбросить все значения с NaNами в данных столбцах, тем более они в большинстве своем категориальные и заменить средним значением или медианой или еще как-то их не заменишь."
   ]
  },
  {
   "cell_type": "code",
   "execution_count": 7,
   "metadata": {},
   "outputs": [],
   "source": [
    "df = df.loc[df.notnull().all(axis=1)]\n",
    "df_lgbm = df_lgbm.loc[df_lgbm.notnull().all(axis=1)]"
   ]
  },
  {
   "cell_type": "markdown",
   "metadata": {},
   "source": [
    "Далее...\n",
    "\n",
    "### Рубрика  \"а надо ли?\""
   ]
  },
  {
   "cell_type": "code",
   "execution_count": 8,
   "metadata": {
    "scrolled": false
   },
   "outputs": [
    {
     "data": {
      "text/html": [
       "<div>\n",
       "<style scoped>\n",
       "    .dataframe tbody tr th:only-of-type {\n",
       "        vertical-align: middle;\n",
       "    }\n",
       "\n",
       "    .dataframe tbody tr th {\n",
       "        vertical-align: top;\n",
       "    }\n",
       "\n",
       "    .dataframe thead th {\n",
       "        text-align: right;\n",
       "    }\n",
       "</style>\n",
       "<table border=\"1\" class=\"dataframe\">\n",
       "  <thead>\n",
       "    <tr style=\"text-align: right;\">\n",
       "      <th></th>\n",
       "      <th>DateCrawled</th>\n",
       "      <th>Price</th>\n",
       "      <th>VehicleType</th>\n",
       "      <th>RegistrationYear</th>\n",
       "      <th>Gearbox</th>\n",
       "      <th>Power</th>\n",
       "      <th>Model</th>\n",
       "      <th>Kilometer</th>\n",
       "      <th>RegistrationMonth</th>\n",
       "      <th>FuelType</th>\n",
       "      <th>Brand</th>\n",
       "      <th>NotRepaired</th>\n",
       "      <th>DateCreated</th>\n",
       "      <th>NumberOfPictures</th>\n",
       "      <th>PostalCode</th>\n",
       "      <th>LastSeen</th>\n",
       "    </tr>\n",
       "  </thead>\n",
       "  <tbody>\n",
       "    <tr>\n",
       "      <td>3</td>\n",
       "      <td>2016-03-17 16:54:04</td>\n",
       "      <td>1500</td>\n",
       "      <td>small</td>\n",
       "      <td>2001</td>\n",
       "      <td>manual</td>\n",
       "      <td>75</td>\n",
       "      <td>golf</td>\n",
       "      <td>150000</td>\n",
       "      <td>6</td>\n",
       "      <td>petrol</td>\n",
       "      <td>volkswagen</td>\n",
       "      <td>no</td>\n",
       "      <td>2016-03-17 00:00:00</td>\n",
       "      <td>0</td>\n",
       "      <td>91074</td>\n",
       "      <td>2016-03-17 17:40:17</td>\n",
       "    </tr>\n",
       "    <tr>\n",
       "      <td>4</td>\n",
       "      <td>2016-03-31 17:25:20</td>\n",
       "      <td>3600</td>\n",
       "      <td>small</td>\n",
       "      <td>2008</td>\n",
       "      <td>manual</td>\n",
       "      <td>69</td>\n",
       "      <td>fabia</td>\n",
       "      <td>90000</td>\n",
       "      <td>7</td>\n",
       "      <td>gasoline</td>\n",
       "      <td>skoda</td>\n",
       "      <td>no</td>\n",
       "      <td>2016-03-31 00:00:00</td>\n",
       "      <td>0</td>\n",
       "      <td>60437</td>\n",
       "      <td>2016-04-06 10:17:21</td>\n",
       "    </tr>\n",
       "    <tr>\n",
       "      <td>5</td>\n",
       "      <td>2016-04-04 17:36:23</td>\n",
       "      <td>650</td>\n",
       "      <td>sedan</td>\n",
       "      <td>1995</td>\n",
       "      <td>manual</td>\n",
       "      <td>102</td>\n",
       "      <td>3er</td>\n",
       "      <td>150000</td>\n",
       "      <td>10</td>\n",
       "      <td>petrol</td>\n",
       "      <td>bmw</td>\n",
       "      <td>yes</td>\n",
       "      <td>2016-04-04 00:00:00</td>\n",
       "      <td>0</td>\n",
       "      <td>33775</td>\n",
       "      <td>2016-04-06 19:17:07</td>\n",
       "    </tr>\n",
       "    <tr>\n",
       "      <td>6</td>\n",
       "      <td>2016-04-01 20:48:51</td>\n",
       "      <td>2200</td>\n",
       "      <td>convertible</td>\n",
       "      <td>2004</td>\n",
       "      <td>manual</td>\n",
       "      <td>109</td>\n",
       "      <td>2_reihe</td>\n",
       "      <td>150000</td>\n",
       "      <td>8</td>\n",
       "      <td>petrol</td>\n",
       "      <td>peugeot</td>\n",
       "      <td>no</td>\n",
       "      <td>2016-04-01 00:00:00</td>\n",
       "      <td>0</td>\n",
       "      <td>67112</td>\n",
       "      <td>2016-04-05 18:18:39</td>\n",
       "    </tr>\n",
       "    <tr>\n",
       "      <td>7</td>\n",
       "      <td>2016-03-21 18:54:38</td>\n",
       "      <td>0</td>\n",
       "      <td>sedan</td>\n",
       "      <td>1980</td>\n",
       "      <td>manual</td>\n",
       "      <td>50</td>\n",
       "      <td>other</td>\n",
       "      <td>40000</td>\n",
       "      <td>7</td>\n",
       "      <td>petrol</td>\n",
       "      <td>volkswagen</td>\n",
       "      <td>no</td>\n",
       "      <td>2016-03-21 00:00:00</td>\n",
       "      <td>0</td>\n",
       "      <td>19348</td>\n",
       "      <td>2016-03-25 16:47:58</td>\n",
       "    </tr>\n",
       "  </tbody>\n",
       "</table>\n",
       "</div>"
      ],
      "text/plain": [
       "           DateCrawled  Price  VehicleType  RegistrationYear Gearbox  Power  \\\n",
       "3  2016-03-17 16:54:04   1500        small              2001  manual     75   \n",
       "4  2016-03-31 17:25:20   3600        small              2008  manual     69   \n",
       "5  2016-04-04 17:36:23    650        sedan              1995  manual    102   \n",
       "6  2016-04-01 20:48:51   2200  convertible              2004  manual    109   \n",
       "7  2016-03-21 18:54:38      0        sedan              1980  manual     50   \n",
       "\n",
       "     Model  Kilometer  RegistrationMonth  FuelType       Brand NotRepaired  \\\n",
       "3     golf     150000                  6    petrol  volkswagen          no   \n",
       "4    fabia      90000                  7  gasoline       skoda          no   \n",
       "5      3er     150000                 10    petrol         bmw         yes   \n",
       "6  2_reihe     150000                  8    petrol     peugeot          no   \n",
       "7    other      40000                  7    petrol  volkswagen          no   \n",
       "\n",
       "           DateCreated  NumberOfPictures  PostalCode             LastSeen  \n",
       "3  2016-03-17 00:00:00                 0       91074  2016-03-17 17:40:17  \n",
       "4  2016-03-31 00:00:00                 0       60437  2016-04-06 10:17:21  \n",
       "5  2016-04-04 00:00:00                 0       33775  2016-04-06 19:17:07  \n",
       "6  2016-04-01 00:00:00                 0       67112  2016-04-05 18:18:39  \n",
       "7  2016-03-21 00:00:00                 0       19348  2016-03-25 16:47:58  "
      ]
     },
     "execution_count": 8,
     "metadata": {},
     "output_type": "execute_result"
    }
   ],
   "source": [
    "df.head(5)"
   ]
  },
  {
   "cell_type": "code",
   "execution_count": 9,
   "metadata": {},
   "outputs": [
    {
     "data": {
      "text/plain": [
       "manual    194736\n",
       "auto       51078\n",
       "Name: Gearbox, dtype: int64"
      ]
     },
     "execution_count": 9,
     "metadata": {},
     "output_type": "execute_result"
    }
   ],
   "source": [
    "df['Gearbox'].value_counts()"
   ]
  },
  {
   "cell_type": "markdown",
   "metadata": {},
   "source": [
    "***Признаки и их влияние на стоимость***\n",
    "\n",
    "В зависимости от того, влияет ли по своей логике признак на конечную стоимость можно избавиться от ненужных, оптимизировать датасет и сократить время обучения модели.\n",
    "\n",
    "- DateCrawled — дата скачивания анкеты из базы (не влияет)\n",
    "\n",
    "- VehicleType — тип автомобильного кузова (влияет, категориальный признак)\n",
    "\n",
    "- RegistrationYear — год регистрации автомобиля (влияет)\n",
    "\n",
    "- Gearbox — тип коробки передач (влияет)\n",
    "\n",
    "- Power — мощность (л. с.) (влияет)\n",
    "\n",
    "- Model — модель автомобиля (влияет, но не сильно: при формировании стоимости автомобиля гораздо большую роль играет бренд)\n",
    "\n",
    "- Kilometer — пробег (км) (влияет)\n",
    "\n",
    "- RegistrationMonth — месяц регистрации автомобиля (я бы ориентировался на год регистрации, а месяц может \"запутать\" модель (хх.12.1995 модель примет равным хх.01.2010), можно сделать скаляризацию, но везде при покупке пишут год выпуска авто, я считаю этот параметр лишним)\n",
    "\n",
    "- FuelType — тип топлива (влияет)\n",
    "\n",
    "- Brand — марка автомобиля (влияет)\n",
    "\n",
    "- NotRepaired — была машина в ремонте или нет (влияет)\n",
    "\n",
    "- DateCreated — дата создания анкеты (не влияет)\n",
    "\n",
    "- NumberOfPictures — количество фотографий автомобиля (не влияет на стоимость, но влияет на спрос)\n",
    "\n",
    "- PostalCode — почтовый индекс владельца анкеты (пользователя) (влияет, цены в разных регионах разные, но так как это число и получается, что чем больше число, тем будет больше цена, этот признак также может сбить модель с толку)\n",
    "\n",
    "- LastSeen — дата последней активности пользователя (не влияет)\n"
   ]
  },
  {
   "cell_type": "markdown",
   "metadata": {},
   "source": [
    "Итого"
   ]
  },
  {
   "cell_type": "code",
   "execution_count": 10,
   "metadata": {},
   "outputs": [
    {
     "data": {
      "text/plain": [
       "golf                  20200\n",
       "other                 18480\n",
       "3er                   14894\n",
       "polo                   8806\n",
       "corsa                  8265\n",
       "                      ...  \n",
       "i3                        4\n",
       "serie_3                   3\n",
       "samara                    3\n",
       "rangerover                2\n",
       "range_rover_evoque        2\n",
       "Name: Model, Length: 249, dtype: int64"
      ]
     },
     "execution_count": 10,
     "metadata": {},
     "output_type": "execute_result"
    }
   ],
   "source": [
    "df['Model'].value_counts()"
   ]
  },
  {
   "cell_type": "code",
   "execution_count": 11,
   "metadata": {},
   "outputs": [],
   "source": [
    "df = df.drop(['DateCrawled', 'Model', 'RegistrationMonth', 'DateCreated', 'NumberOfPictures', 'LastSeen', 'PostalCode'], axis = 1)\n",
    "df_lgbm = df_lgbm.drop(['DateCrawled', 'Model', 'RegistrationMonth', 'DateCreated', 'NumberOfPictures', 'LastSeen', 'PostalCode'], axis = 1)"
   ]
  },
  {
   "cell_type": "code",
   "execution_count": 12,
   "metadata": {
    "scrolled": true
   },
   "outputs": [
    {
     "data": {
      "text/html": [
       "<div>\n",
       "<style scoped>\n",
       "    .dataframe tbody tr th:only-of-type {\n",
       "        vertical-align: middle;\n",
       "    }\n",
       "\n",
       "    .dataframe tbody tr th {\n",
       "        vertical-align: top;\n",
       "    }\n",
       "\n",
       "    .dataframe thead th {\n",
       "        text-align: right;\n",
       "    }\n",
       "</style>\n",
       "<table border=\"1\" class=\"dataframe\">\n",
       "  <thead>\n",
       "    <tr style=\"text-align: right;\">\n",
       "      <th></th>\n",
       "      <th>Price</th>\n",
       "      <th>VehicleType</th>\n",
       "      <th>RegistrationYear</th>\n",
       "      <th>Gearbox</th>\n",
       "      <th>Power</th>\n",
       "      <th>Kilometer</th>\n",
       "      <th>FuelType</th>\n",
       "      <th>Brand</th>\n",
       "      <th>NotRepaired</th>\n",
       "    </tr>\n",
       "  </thead>\n",
       "  <tbody>\n",
       "    <tr>\n",
       "      <td>3</td>\n",
       "      <td>1500</td>\n",
       "      <td>small</td>\n",
       "      <td>2001</td>\n",
       "      <td>manual</td>\n",
       "      <td>75</td>\n",
       "      <td>150000</td>\n",
       "      <td>petrol</td>\n",
       "      <td>volkswagen</td>\n",
       "      <td>no</td>\n",
       "    </tr>\n",
       "    <tr>\n",
       "      <td>4</td>\n",
       "      <td>3600</td>\n",
       "      <td>small</td>\n",
       "      <td>2008</td>\n",
       "      <td>manual</td>\n",
       "      <td>69</td>\n",
       "      <td>90000</td>\n",
       "      <td>gasoline</td>\n",
       "      <td>skoda</td>\n",
       "      <td>no</td>\n",
       "    </tr>\n",
       "    <tr>\n",
       "      <td>5</td>\n",
       "      <td>650</td>\n",
       "      <td>sedan</td>\n",
       "      <td>1995</td>\n",
       "      <td>manual</td>\n",
       "      <td>102</td>\n",
       "      <td>150000</td>\n",
       "      <td>petrol</td>\n",
       "      <td>bmw</td>\n",
       "      <td>yes</td>\n",
       "    </tr>\n",
       "    <tr>\n",
       "      <td>6</td>\n",
       "      <td>2200</td>\n",
       "      <td>convertible</td>\n",
       "      <td>2004</td>\n",
       "      <td>manual</td>\n",
       "      <td>109</td>\n",
       "      <td>150000</td>\n",
       "      <td>petrol</td>\n",
       "      <td>peugeot</td>\n",
       "      <td>no</td>\n",
       "    </tr>\n",
       "    <tr>\n",
       "      <td>7</td>\n",
       "      <td>0</td>\n",
       "      <td>sedan</td>\n",
       "      <td>1980</td>\n",
       "      <td>manual</td>\n",
       "      <td>50</td>\n",
       "      <td>40000</td>\n",
       "      <td>petrol</td>\n",
       "      <td>volkswagen</td>\n",
       "      <td>no</td>\n",
       "    </tr>\n",
       "  </tbody>\n",
       "</table>\n",
       "</div>"
      ],
      "text/plain": [
       "   Price  VehicleType  RegistrationYear Gearbox  Power  Kilometer  FuelType  \\\n",
       "3   1500        small              2001  manual     75     150000    petrol   \n",
       "4   3600        small              2008  manual     69      90000  gasoline   \n",
       "5    650        sedan              1995  manual    102     150000    petrol   \n",
       "6   2200  convertible              2004  manual    109     150000    petrol   \n",
       "7      0        sedan              1980  manual     50      40000    petrol   \n",
       "\n",
       "        Brand NotRepaired  \n",
       "3  volkswagen          no  \n",
       "4       skoda          no  \n",
       "5         bmw         yes  \n",
       "6     peugeot          no  \n",
       "7  volkswagen          no  "
      ]
     },
     "execution_count": 12,
     "metadata": {},
     "output_type": "execute_result"
    }
   ],
   "source": [
    "df.head(5)"
   ]
  },
  {
   "cell_type": "code",
   "execution_count": 13,
   "metadata": {},
   "outputs": [
    {
     "name": "stdout",
     "output_type": "stream",
     "text": [
      "<class 'pandas.core.frame.DataFrame'>\n",
      "Int64Index: 245814 entries, 3 to 354367\n",
      "Data columns (total 9 columns):\n",
      "Price               245814 non-null int64\n",
      "VehicleType         245814 non-null object\n",
      "RegistrationYear    245814 non-null int64\n",
      "Gearbox             245814 non-null object\n",
      "Power               245814 non-null int64\n",
      "Kilometer           245814 non-null int64\n",
      "FuelType            245814 non-null object\n",
      "Brand               245814 non-null object\n",
      "NotRepaired         245814 non-null object\n",
      "dtypes: int64(4), object(5)\n",
      "memory usage: 18.8+ MB\n"
     ]
    }
   ],
   "source": [
    "df.info()"
   ]
  },
  {
   "cell_type": "code",
   "execution_count": 14,
   "metadata": {},
   "outputs": [
    {
     "name": "stdout",
     "output_type": "stream",
     "text": [
      "<class 'pandas.core.frame.DataFrame'>\n",
      "Int64Index: 245814 entries, 3 to 354367\n",
      "Data columns (total 9 columns):\n",
      "Price               245814 non-null int64\n",
      "VehicleType         245814 non-null category\n",
      "RegistrationYear    245814 non-null int64\n",
      "Gearbox             245814 non-null category\n",
      "Power               245814 non-null int64\n",
      "Kilometer           245814 non-null int64\n",
      "FuelType            245814 non-null category\n",
      "Brand               245814 non-null category\n",
      "NotRepaired         245814 non-null category\n",
      "dtypes: category(5), int64(4)\n",
      "memory usage: 10.6 MB\n"
     ]
    }
   ],
   "source": [
    "df_lgbm.info()"
   ]
  },
  {
   "cell_type": "markdown",
   "metadata": {},
   "source": [
    "### Предобработка"
   ]
  },
  {
   "cell_type": "markdown",
   "metadata": {},
   "source": [
    "***Цена*** - количественный\n",
    "\n",
    "Есть значения с 0, вероятно ошибки, полагаю, от них надо избавиться"
   ]
  },
  {
   "cell_type": "code",
   "execution_count": 15,
   "metadata": {},
   "outputs": [
    {
     "data": {
      "text/plain": [
       "1500     3481\n",
       "0        3386\n",
       "500      3322\n",
       "2500     2912\n",
       "1200     2894\n",
       "         ... \n",
       "11333       1\n",
       "1344        1\n",
       "3393        1\n",
       "7491        1\n",
       "11195       1\n",
       "Name: Price, Length: 3405, dtype: int64"
      ]
     },
     "execution_count": 15,
     "metadata": {},
     "output_type": "execute_result"
    }
   ],
   "source": [
    "df['Price'].value_counts()"
   ]
  },
  {
   "cell_type": "code",
   "execution_count": 16,
   "metadata": {},
   "outputs": [],
   "source": [
    "df = df.loc[df['Price'] != 0]\n",
    "df_lgbm = df_lgbm.loc[df_lgbm['Price'] != 0]"
   ]
  },
  {
   "cell_type": "markdown",
   "metadata": {},
   "source": [
    "***Мощность*** - количественный\n",
    "\n",
    "Есть значения с 0, вероятно ошибки, полагаю, от них надо избавиться"
   ]
  },
  {
   "cell_type": "code",
   "execution_count": 17,
   "metadata": {},
   "outputs": [
    {
     "data": {
      "text/plain": [
       "75     16062\n",
       "150    10853\n",
       "60     10470\n",
       "140    10336\n",
       "101     9638\n",
       "116     9547\n",
       "0       9153\n",
       "90      8556\n",
       "105     8358\n",
       "170     8117\n",
       "Name: Power, dtype: int64"
      ]
     },
     "execution_count": 17,
     "metadata": {},
     "output_type": "execute_result"
    }
   ],
   "source": [
    "df['Power'].value_counts().head(10)"
   ]
  },
  {
   "cell_type": "code",
   "execution_count": 18,
   "metadata": {},
   "outputs": [],
   "source": [
    "df = df.loc[df['Power'] != 0]\n",
    "df_lgbm = df_lgbm.loc[df_lgbm['Power'] != 0]"
   ]
  },
  {
   "cell_type": "code",
   "execution_count": 19,
   "metadata": {},
   "outputs": [],
   "source": [
    "df = df.reset_index(drop=True)\n",
    "df_lgbm = df_lgbm.reset_index(drop=True)"
   ]
  },
  {
   "cell_type": "code",
   "execution_count": 20,
   "metadata": {},
   "outputs": [
    {
     "data": {
      "text/html": [
       "<div>\n",
       "<style scoped>\n",
       "    .dataframe tbody tr th:only-of-type {\n",
       "        vertical-align: middle;\n",
       "    }\n",
       "\n",
       "    .dataframe tbody tr th {\n",
       "        vertical-align: top;\n",
       "    }\n",
       "\n",
       "    .dataframe thead th {\n",
       "        text-align: right;\n",
       "    }\n",
       "</style>\n",
       "<table border=\"1\" class=\"dataframe\">\n",
       "  <thead>\n",
       "    <tr style=\"text-align: right;\">\n",
       "      <th></th>\n",
       "      <th>Price</th>\n",
       "      <th>VehicleType</th>\n",
       "      <th>RegistrationYear</th>\n",
       "      <th>Gearbox</th>\n",
       "      <th>Power</th>\n",
       "      <th>Kilometer</th>\n",
       "      <th>FuelType</th>\n",
       "      <th>Brand</th>\n",
       "      <th>NotRepaired</th>\n",
       "    </tr>\n",
       "  </thead>\n",
       "  <tbody>\n",
       "    <tr>\n",
       "      <td>0</td>\n",
       "      <td>1500</td>\n",
       "      <td>small</td>\n",
       "      <td>2001</td>\n",
       "      <td>manual</td>\n",
       "      <td>75</td>\n",
       "      <td>150000</td>\n",
       "      <td>petrol</td>\n",
       "      <td>volkswagen</td>\n",
       "      <td>no</td>\n",
       "    </tr>\n",
       "    <tr>\n",
       "      <td>1</td>\n",
       "      <td>3600</td>\n",
       "      <td>small</td>\n",
       "      <td>2008</td>\n",
       "      <td>manual</td>\n",
       "      <td>69</td>\n",
       "      <td>90000</td>\n",
       "      <td>gasoline</td>\n",
       "      <td>skoda</td>\n",
       "      <td>no</td>\n",
       "    </tr>\n",
       "    <tr>\n",
       "      <td>2</td>\n",
       "      <td>650</td>\n",
       "      <td>sedan</td>\n",
       "      <td>1995</td>\n",
       "      <td>manual</td>\n",
       "      <td>102</td>\n",
       "      <td>150000</td>\n",
       "      <td>petrol</td>\n",
       "      <td>bmw</td>\n",
       "      <td>yes</td>\n",
       "    </tr>\n",
       "    <tr>\n",
       "      <td>3</td>\n",
       "      <td>2200</td>\n",
       "      <td>convertible</td>\n",
       "      <td>2004</td>\n",
       "      <td>manual</td>\n",
       "      <td>109</td>\n",
       "      <td>150000</td>\n",
       "      <td>petrol</td>\n",
       "      <td>peugeot</td>\n",
       "      <td>no</td>\n",
       "    </tr>\n",
       "    <tr>\n",
       "      <td>4</td>\n",
       "      <td>2000</td>\n",
       "      <td>sedan</td>\n",
       "      <td>2004</td>\n",
       "      <td>manual</td>\n",
       "      <td>105</td>\n",
       "      <td>150000</td>\n",
       "      <td>petrol</td>\n",
       "      <td>mazda</td>\n",
       "      <td>no</td>\n",
       "    </tr>\n",
       "    <tr>\n",
       "      <td>5</td>\n",
       "      <td>2799</td>\n",
       "      <td>wagon</td>\n",
       "      <td>2005</td>\n",
       "      <td>manual</td>\n",
       "      <td>140</td>\n",
       "      <td>150000</td>\n",
       "      <td>gasoline</td>\n",
       "      <td>volkswagen</td>\n",
       "      <td>yes</td>\n",
       "    </tr>\n",
       "    <tr>\n",
       "      <td>6</td>\n",
       "      <td>17999</td>\n",
       "      <td>suv</td>\n",
       "      <td>2011</td>\n",
       "      <td>manual</td>\n",
       "      <td>190</td>\n",
       "      <td>70000</td>\n",
       "      <td>gasoline</td>\n",
       "      <td>nissan</td>\n",
       "      <td>no</td>\n",
       "    </tr>\n",
       "    <tr>\n",
       "      <td>7</td>\n",
       "      <td>1750</td>\n",
       "      <td>small</td>\n",
       "      <td>2004</td>\n",
       "      <td>auto</td>\n",
       "      <td>75</td>\n",
       "      <td>150000</td>\n",
       "      <td>petrol</td>\n",
       "      <td>renault</td>\n",
       "      <td>no</td>\n",
       "    </tr>\n",
       "    <tr>\n",
       "      <td>8</td>\n",
       "      <td>7550</td>\n",
       "      <td>bus</td>\n",
       "      <td>2007</td>\n",
       "      <td>manual</td>\n",
       "      <td>136</td>\n",
       "      <td>150000</td>\n",
       "      <td>gasoline</td>\n",
       "      <td>ford</td>\n",
       "      <td>no</td>\n",
       "    </tr>\n",
       "    <tr>\n",
       "      <td>9</td>\n",
       "      <td>1850</td>\n",
       "      <td>bus</td>\n",
       "      <td>2004</td>\n",
       "      <td>manual</td>\n",
       "      <td>102</td>\n",
       "      <td>150000</td>\n",
       "      <td>petrol</td>\n",
       "      <td>mercedes_benz</td>\n",
       "      <td>no</td>\n",
       "    </tr>\n",
       "  </tbody>\n",
       "</table>\n",
       "</div>"
      ],
      "text/plain": [
       "   Price  VehicleType  RegistrationYear Gearbox  Power  Kilometer  FuelType  \\\n",
       "0   1500        small              2001  manual     75     150000    petrol   \n",
       "1   3600        small              2008  manual     69      90000  gasoline   \n",
       "2    650        sedan              1995  manual    102     150000    petrol   \n",
       "3   2200  convertible              2004  manual    109     150000    petrol   \n",
       "4   2000        sedan              2004  manual    105     150000    petrol   \n",
       "5   2799        wagon              2005  manual    140     150000  gasoline   \n",
       "6  17999          suv              2011  manual    190      70000  gasoline   \n",
       "7   1750        small              2004    auto     75     150000    petrol   \n",
       "8   7550          bus              2007  manual    136     150000  gasoline   \n",
       "9   1850          bus              2004  manual    102     150000    petrol   \n",
       "\n",
       "           Brand NotRepaired  \n",
       "0     volkswagen          no  \n",
       "1          skoda          no  \n",
       "2            bmw         yes  \n",
       "3        peugeot          no  \n",
       "4          mazda          no  \n",
       "5     volkswagen         yes  \n",
       "6         nissan          no  \n",
       "7        renault          no  \n",
       "8           ford          no  \n",
       "9  mercedes_benz          no  "
      ]
     },
     "execution_count": 20,
     "metadata": {},
     "output_type": "execute_result"
    }
   ],
   "source": [
    "df.head(10)"
   ]
  },
  {
   "cell_type": "markdown",
   "metadata": {},
   "source": [
    "***Тип автомобильного кузова*** - категориальный"
   ]
  },
  {
   "cell_type": "code",
   "execution_count": 21,
   "metadata": {
    "scrolled": false
   },
   "outputs": [
    {
     "data": {
      "text/plain": [
       "sedan          68961\n",
       "small          55004\n",
       "wagon          48783\n",
       "bus            22563\n",
       "convertible    15681\n",
       "coupe          11585\n",
       "suv             9216\n",
       "other           1482\n",
       "Name: VehicleType, dtype: int64"
      ]
     },
     "execution_count": 21,
     "metadata": {},
     "output_type": "execute_result"
    }
   ],
   "source": [
    "df['VehicleType'].value_counts()"
   ]
  },
  {
   "cell_type": "code",
   "execution_count": 22,
   "metadata": {},
   "outputs": [],
   "source": [
    "ohe = OneHotEncoder(sparse=False)\n",
    "ohe_ftrs = ohe.fit_transform(df['VehicleType'].values.reshape(-1,1))\n",
    "tmp = pd.DataFrame(ohe_ftrs, columns = ['VehicleType ' + str(i) for i in range(ohe_ftrs.shape[1])])\n",
    "df = pd.concat([df, tmp], axis=1)"
   ]
  },
  {
   "cell_type": "code",
   "execution_count": 23,
   "metadata": {},
   "outputs": [
    {
     "data": {
      "text/html": [
       "<div>\n",
       "<style scoped>\n",
       "    .dataframe tbody tr th:only-of-type {\n",
       "        vertical-align: middle;\n",
       "    }\n",
       "\n",
       "    .dataframe tbody tr th {\n",
       "        vertical-align: top;\n",
       "    }\n",
       "\n",
       "    .dataframe thead th {\n",
       "        text-align: right;\n",
       "    }\n",
       "</style>\n",
       "<table border=\"1\" class=\"dataframe\">\n",
       "  <thead>\n",
       "    <tr style=\"text-align: right;\">\n",
       "      <th></th>\n",
       "      <th>Price</th>\n",
       "      <th>VehicleType</th>\n",
       "      <th>RegistrationYear</th>\n",
       "      <th>Gearbox</th>\n",
       "      <th>Power</th>\n",
       "      <th>Kilometer</th>\n",
       "      <th>FuelType</th>\n",
       "      <th>Brand</th>\n",
       "      <th>NotRepaired</th>\n",
       "      <th>VehicleType 0</th>\n",
       "      <th>VehicleType 1</th>\n",
       "      <th>VehicleType 2</th>\n",
       "      <th>VehicleType 3</th>\n",
       "      <th>VehicleType 4</th>\n",
       "      <th>VehicleType 5</th>\n",
       "      <th>VehicleType 6</th>\n",
       "      <th>VehicleType 7</th>\n",
       "    </tr>\n",
       "  </thead>\n",
       "  <tbody>\n",
       "    <tr>\n",
       "      <td>0</td>\n",
       "      <td>1500</td>\n",
       "      <td>small</td>\n",
       "      <td>2001</td>\n",
       "      <td>manual</td>\n",
       "      <td>75</td>\n",
       "      <td>150000</td>\n",
       "      <td>petrol</td>\n",
       "      <td>volkswagen</td>\n",
       "      <td>no</td>\n",
       "      <td>0.0</td>\n",
       "      <td>0.0</td>\n",
       "      <td>0.0</td>\n",
       "      <td>0.0</td>\n",
       "      <td>0.0</td>\n",
       "      <td>1.0</td>\n",
       "      <td>0.0</td>\n",
       "      <td>0.0</td>\n",
       "    </tr>\n",
       "    <tr>\n",
       "      <td>1</td>\n",
       "      <td>3600</td>\n",
       "      <td>small</td>\n",
       "      <td>2008</td>\n",
       "      <td>manual</td>\n",
       "      <td>69</td>\n",
       "      <td>90000</td>\n",
       "      <td>gasoline</td>\n",
       "      <td>skoda</td>\n",
       "      <td>no</td>\n",
       "      <td>0.0</td>\n",
       "      <td>0.0</td>\n",
       "      <td>0.0</td>\n",
       "      <td>0.0</td>\n",
       "      <td>0.0</td>\n",
       "      <td>1.0</td>\n",
       "      <td>0.0</td>\n",
       "      <td>0.0</td>\n",
       "    </tr>\n",
       "    <tr>\n",
       "      <td>2</td>\n",
       "      <td>650</td>\n",
       "      <td>sedan</td>\n",
       "      <td>1995</td>\n",
       "      <td>manual</td>\n",
       "      <td>102</td>\n",
       "      <td>150000</td>\n",
       "      <td>petrol</td>\n",
       "      <td>bmw</td>\n",
       "      <td>yes</td>\n",
       "      <td>0.0</td>\n",
       "      <td>0.0</td>\n",
       "      <td>0.0</td>\n",
       "      <td>0.0</td>\n",
       "      <td>1.0</td>\n",
       "      <td>0.0</td>\n",
       "      <td>0.0</td>\n",
       "      <td>0.0</td>\n",
       "    </tr>\n",
       "    <tr>\n",
       "      <td>3</td>\n",
       "      <td>2200</td>\n",
       "      <td>convertible</td>\n",
       "      <td>2004</td>\n",
       "      <td>manual</td>\n",
       "      <td>109</td>\n",
       "      <td>150000</td>\n",
       "      <td>petrol</td>\n",
       "      <td>peugeot</td>\n",
       "      <td>no</td>\n",
       "      <td>0.0</td>\n",
       "      <td>1.0</td>\n",
       "      <td>0.0</td>\n",
       "      <td>0.0</td>\n",
       "      <td>0.0</td>\n",
       "      <td>0.0</td>\n",
       "      <td>0.0</td>\n",
       "      <td>0.0</td>\n",
       "    </tr>\n",
       "    <tr>\n",
       "      <td>4</td>\n",
       "      <td>2000</td>\n",
       "      <td>sedan</td>\n",
       "      <td>2004</td>\n",
       "      <td>manual</td>\n",
       "      <td>105</td>\n",
       "      <td>150000</td>\n",
       "      <td>petrol</td>\n",
       "      <td>mazda</td>\n",
       "      <td>no</td>\n",
       "      <td>0.0</td>\n",
       "      <td>0.0</td>\n",
       "      <td>0.0</td>\n",
       "      <td>0.0</td>\n",
       "      <td>1.0</td>\n",
       "      <td>0.0</td>\n",
       "      <td>0.0</td>\n",
       "      <td>0.0</td>\n",
       "    </tr>\n",
       "    <tr>\n",
       "      <td>...</td>\n",
       "      <td>...</td>\n",
       "      <td>...</td>\n",
       "      <td>...</td>\n",
       "      <td>...</td>\n",
       "      <td>...</td>\n",
       "      <td>...</td>\n",
       "      <td>...</td>\n",
       "      <td>...</td>\n",
       "      <td>...</td>\n",
       "      <td>...</td>\n",
       "      <td>...</td>\n",
       "      <td>...</td>\n",
       "      <td>...</td>\n",
       "      <td>...</td>\n",
       "      <td>...</td>\n",
       "      <td>...</td>\n",
       "      <td>...</td>\n",
       "    </tr>\n",
       "    <tr>\n",
       "      <td>233270</td>\n",
       "      <td>7900</td>\n",
       "      <td>sedan</td>\n",
       "      <td>2010</td>\n",
       "      <td>manual</td>\n",
       "      <td>140</td>\n",
       "      <td>150000</td>\n",
       "      <td>gasoline</td>\n",
       "      <td>volkswagen</td>\n",
       "      <td>no</td>\n",
       "      <td>0.0</td>\n",
       "      <td>0.0</td>\n",
       "      <td>0.0</td>\n",
       "      <td>0.0</td>\n",
       "      <td>1.0</td>\n",
       "      <td>0.0</td>\n",
       "      <td>0.0</td>\n",
       "      <td>0.0</td>\n",
       "    </tr>\n",
       "    <tr>\n",
       "      <td>233271</td>\n",
       "      <td>3999</td>\n",
       "      <td>wagon</td>\n",
       "      <td>2005</td>\n",
       "      <td>manual</td>\n",
       "      <td>3</td>\n",
       "      <td>150000</td>\n",
       "      <td>gasoline</td>\n",
       "      <td>bmw</td>\n",
       "      <td>no</td>\n",
       "      <td>0.0</td>\n",
       "      <td>0.0</td>\n",
       "      <td>0.0</td>\n",
       "      <td>0.0</td>\n",
       "      <td>0.0</td>\n",
       "      <td>0.0</td>\n",
       "      <td>0.0</td>\n",
       "      <td>1.0</td>\n",
       "    </tr>\n",
       "    <tr>\n",
       "      <td>233272</td>\n",
       "      <td>3200</td>\n",
       "      <td>sedan</td>\n",
       "      <td>2004</td>\n",
       "      <td>manual</td>\n",
       "      <td>225</td>\n",
       "      <td>150000</td>\n",
       "      <td>petrol</td>\n",
       "      <td>seat</td>\n",
       "      <td>yes</td>\n",
       "      <td>0.0</td>\n",
       "      <td>0.0</td>\n",
       "      <td>0.0</td>\n",
       "      <td>0.0</td>\n",
       "      <td>1.0</td>\n",
       "      <td>0.0</td>\n",
       "      <td>0.0</td>\n",
       "      <td>0.0</td>\n",
       "    </tr>\n",
       "    <tr>\n",
       "      <td>233273</td>\n",
       "      <td>1199</td>\n",
       "      <td>convertible</td>\n",
       "      <td>2000</td>\n",
       "      <td>auto</td>\n",
       "      <td>101</td>\n",
       "      <td>125000</td>\n",
       "      <td>petrol</td>\n",
       "      <td>smart</td>\n",
       "      <td>no</td>\n",
       "      <td>0.0</td>\n",
       "      <td>1.0</td>\n",
       "      <td>0.0</td>\n",
       "      <td>0.0</td>\n",
       "      <td>0.0</td>\n",
       "      <td>0.0</td>\n",
       "      <td>0.0</td>\n",
       "      <td>0.0</td>\n",
       "    </tr>\n",
       "    <tr>\n",
       "      <td>233274</td>\n",
       "      <td>9200</td>\n",
       "      <td>bus</td>\n",
       "      <td>1996</td>\n",
       "      <td>manual</td>\n",
       "      <td>102</td>\n",
       "      <td>150000</td>\n",
       "      <td>gasoline</td>\n",
       "      <td>volkswagen</td>\n",
       "      <td>no</td>\n",
       "      <td>1.0</td>\n",
       "      <td>0.0</td>\n",
       "      <td>0.0</td>\n",
       "      <td>0.0</td>\n",
       "      <td>0.0</td>\n",
       "      <td>0.0</td>\n",
       "      <td>0.0</td>\n",
       "      <td>0.0</td>\n",
       "    </tr>\n",
       "  </tbody>\n",
       "</table>\n",
       "<p>233275 rows × 17 columns</p>\n",
       "</div>"
      ],
      "text/plain": [
       "        Price  VehicleType  RegistrationYear Gearbox  Power  Kilometer  \\\n",
       "0        1500        small              2001  manual     75     150000   \n",
       "1        3600        small              2008  manual     69      90000   \n",
       "2         650        sedan              1995  manual    102     150000   \n",
       "3        2200  convertible              2004  manual    109     150000   \n",
       "4        2000        sedan              2004  manual    105     150000   \n",
       "...       ...          ...               ...     ...    ...        ...   \n",
       "233270   7900        sedan              2010  manual    140     150000   \n",
       "233271   3999        wagon              2005  manual      3     150000   \n",
       "233272   3200        sedan              2004  manual    225     150000   \n",
       "233273   1199  convertible              2000    auto    101     125000   \n",
       "233274   9200          bus              1996  manual    102     150000   \n",
       "\n",
       "        FuelType       Brand NotRepaired  VehicleType 0  VehicleType 1  \\\n",
       "0         petrol  volkswagen          no            0.0            0.0   \n",
       "1       gasoline       skoda          no            0.0            0.0   \n",
       "2         petrol         bmw         yes            0.0            0.0   \n",
       "3         petrol     peugeot          no            0.0            1.0   \n",
       "4         petrol       mazda          no            0.0            0.0   \n",
       "...          ...         ...         ...            ...            ...   \n",
       "233270  gasoline  volkswagen          no            0.0            0.0   \n",
       "233271  gasoline         bmw          no            0.0            0.0   \n",
       "233272    petrol        seat         yes            0.0            0.0   \n",
       "233273    petrol       smart          no            0.0            1.0   \n",
       "233274  gasoline  volkswagen          no            1.0            0.0   \n",
       "\n",
       "        VehicleType 2  VehicleType 3  VehicleType 4  VehicleType 5  \\\n",
       "0                 0.0            0.0            0.0            1.0   \n",
       "1                 0.0            0.0            0.0            1.0   \n",
       "2                 0.0            0.0            1.0            0.0   \n",
       "3                 0.0            0.0            0.0            0.0   \n",
       "4                 0.0            0.0            1.0            0.0   \n",
       "...               ...            ...            ...            ...   \n",
       "233270            0.0            0.0            1.0            0.0   \n",
       "233271            0.0            0.0            0.0            0.0   \n",
       "233272            0.0            0.0            1.0            0.0   \n",
       "233273            0.0            0.0            0.0            0.0   \n",
       "233274            0.0            0.0            0.0            0.0   \n",
       "\n",
       "        VehicleType 6  VehicleType 7  \n",
       "0                 0.0            0.0  \n",
       "1                 0.0            0.0  \n",
       "2                 0.0            0.0  \n",
       "3                 0.0            0.0  \n",
       "4                 0.0            0.0  \n",
       "...               ...            ...  \n",
       "233270            0.0            0.0  \n",
       "233271            0.0            1.0  \n",
       "233272            0.0            0.0  \n",
       "233273            0.0            0.0  \n",
       "233274            0.0            0.0  \n",
       "\n",
       "[233275 rows x 17 columns]"
      ]
     },
     "execution_count": 23,
     "metadata": {},
     "output_type": "execute_result"
    }
   ],
   "source": [
    "df"
   ]
  },
  {
   "cell_type": "markdown",
   "metadata": {},
   "source": [
    "***Тип коробки передач*** - категориальный"
   ]
  },
  {
   "cell_type": "code",
   "execution_count": 24,
   "metadata": {
    "scrolled": true
   },
   "outputs": [
    {
     "data": {
      "text/plain": [
       "manual    184548\n",
       "auto       48727\n",
       "Name: Gearbox, dtype: int64"
      ]
     },
     "execution_count": 24,
     "metadata": {},
     "output_type": "execute_result"
    }
   ],
   "source": [
    "df['Gearbox'].value_counts()"
   ]
  },
  {
   "cell_type": "markdown",
   "metadata": {},
   "source": [
    "Преобразуем:\n",
    "    \n",
    "    так как auto обычно дороже, чем manual, auto будет 1, а manual - 0"
   ]
  },
  {
   "cell_type": "code",
   "execution_count": 25,
   "metadata": {},
   "outputs": [],
   "source": [
    "gearbox = list()\n",
    "for i in list(df['Gearbox']):\n",
    "    if i == 'auto':\n",
    "        gearbox.append(1)\n",
    "    else:\n",
    "        gearbox.append(0)"
   ]
  },
  {
   "cell_type": "code",
   "execution_count": 26,
   "metadata": {},
   "outputs": [],
   "source": [
    "df['Gearbox'] = gearbox"
   ]
  },
  {
   "cell_type": "markdown",
   "metadata": {},
   "source": [
    "***Тип топлива*** - категориальный"
   ]
  },
  {
   "cell_type": "code",
   "execution_count": 27,
   "metadata": {},
   "outputs": [
    {
     "data": {
      "text/plain": [
       "petrol      153352\n",
       "gasoline     75542\n",
       "lpg           3687\n",
       "cng            424\n",
       "hybrid         167\n",
       "other           54\n",
       "electric        49\n",
       "Name: FuelType, dtype: int64"
      ]
     },
     "execution_count": 27,
     "metadata": {},
     "output_type": "execute_result"
    }
   ],
   "source": [
    "df['FuelType'].value_counts()"
   ]
  },
  {
   "cell_type": "code",
   "execution_count": 28,
   "metadata": {},
   "outputs": [],
   "source": [
    "ohe = OneHotEncoder(sparse=False)\n",
    "ohe_ftrs = ohe.fit_transform(df['FuelType'].values.reshape(-1,1))\n",
    "tmp = pd.DataFrame(ohe_ftrs, columns = ['FuelType ' + str(i) for i in range(ohe_ftrs.shape[1])])\n",
    "df = pd.concat([df, tmp], axis=1)"
   ]
  },
  {
   "cell_type": "code",
   "execution_count": 29,
   "metadata": {},
   "outputs": [
    {
     "data": {
      "text/html": [
       "<div>\n",
       "<style scoped>\n",
       "    .dataframe tbody tr th:only-of-type {\n",
       "        vertical-align: middle;\n",
       "    }\n",
       "\n",
       "    .dataframe tbody tr th {\n",
       "        vertical-align: top;\n",
       "    }\n",
       "\n",
       "    .dataframe thead th {\n",
       "        text-align: right;\n",
       "    }\n",
       "</style>\n",
       "<table border=\"1\" class=\"dataframe\">\n",
       "  <thead>\n",
       "    <tr style=\"text-align: right;\">\n",
       "      <th></th>\n",
       "      <th>Price</th>\n",
       "      <th>VehicleType</th>\n",
       "      <th>RegistrationYear</th>\n",
       "      <th>Gearbox</th>\n",
       "      <th>Power</th>\n",
       "      <th>Kilometer</th>\n",
       "      <th>FuelType</th>\n",
       "      <th>Brand</th>\n",
       "      <th>NotRepaired</th>\n",
       "      <th>VehicleType 0</th>\n",
       "      <th>...</th>\n",
       "      <th>VehicleType 5</th>\n",
       "      <th>VehicleType 6</th>\n",
       "      <th>VehicleType 7</th>\n",
       "      <th>FuelType 0</th>\n",
       "      <th>FuelType 1</th>\n",
       "      <th>FuelType 2</th>\n",
       "      <th>FuelType 3</th>\n",
       "      <th>FuelType 4</th>\n",
       "      <th>FuelType 5</th>\n",
       "      <th>FuelType 6</th>\n",
       "    </tr>\n",
       "  </thead>\n",
       "  <tbody>\n",
       "    <tr>\n",
       "      <td>0</td>\n",
       "      <td>1500</td>\n",
       "      <td>small</td>\n",
       "      <td>2001</td>\n",
       "      <td>0</td>\n",
       "      <td>75</td>\n",
       "      <td>150000</td>\n",
       "      <td>petrol</td>\n",
       "      <td>volkswagen</td>\n",
       "      <td>no</td>\n",
       "      <td>0.0</td>\n",
       "      <td>...</td>\n",
       "      <td>1.0</td>\n",
       "      <td>0.0</td>\n",
       "      <td>0.0</td>\n",
       "      <td>0.0</td>\n",
       "      <td>0.0</td>\n",
       "      <td>0.0</td>\n",
       "      <td>0.0</td>\n",
       "      <td>0.0</td>\n",
       "      <td>0.0</td>\n",
       "      <td>1.0</td>\n",
       "    </tr>\n",
       "    <tr>\n",
       "      <td>1</td>\n",
       "      <td>3600</td>\n",
       "      <td>small</td>\n",
       "      <td>2008</td>\n",
       "      <td>0</td>\n",
       "      <td>69</td>\n",
       "      <td>90000</td>\n",
       "      <td>gasoline</td>\n",
       "      <td>skoda</td>\n",
       "      <td>no</td>\n",
       "      <td>0.0</td>\n",
       "      <td>...</td>\n",
       "      <td>1.0</td>\n",
       "      <td>0.0</td>\n",
       "      <td>0.0</td>\n",
       "      <td>0.0</td>\n",
       "      <td>0.0</td>\n",
       "      <td>1.0</td>\n",
       "      <td>0.0</td>\n",
       "      <td>0.0</td>\n",
       "      <td>0.0</td>\n",
       "      <td>0.0</td>\n",
       "    </tr>\n",
       "    <tr>\n",
       "      <td>2</td>\n",
       "      <td>650</td>\n",
       "      <td>sedan</td>\n",
       "      <td>1995</td>\n",
       "      <td>0</td>\n",
       "      <td>102</td>\n",
       "      <td>150000</td>\n",
       "      <td>petrol</td>\n",
       "      <td>bmw</td>\n",
       "      <td>yes</td>\n",
       "      <td>0.0</td>\n",
       "      <td>...</td>\n",
       "      <td>0.0</td>\n",
       "      <td>0.0</td>\n",
       "      <td>0.0</td>\n",
       "      <td>0.0</td>\n",
       "      <td>0.0</td>\n",
       "      <td>0.0</td>\n",
       "      <td>0.0</td>\n",
       "      <td>0.0</td>\n",
       "      <td>0.0</td>\n",
       "      <td>1.0</td>\n",
       "    </tr>\n",
       "    <tr>\n",
       "      <td>3</td>\n",
       "      <td>2200</td>\n",
       "      <td>convertible</td>\n",
       "      <td>2004</td>\n",
       "      <td>0</td>\n",
       "      <td>109</td>\n",
       "      <td>150000</td>\n",
       "      <td>petrol</td>\n",
       "      <td>peugeot</td>\n",
       "      <td>no</td>\n",
       "      <td>0.0</td>\n",
       "      <td>...</td>\n",
       "      <td>0.0</td>\n",
       "      <td>0.0</td>\n",
       "      <td>0.0</td>\n",
       "      <td>0.0</td>\n",
       "      <td>0.0</td>\n",
       "      <td>0.0</td>\n",
       "      <td>0.0</td>\n",
       "      <td>0.0</td>\n",
       "      <td>0.0</td>\n",
       "      <td>1.0</td>\n",
       "    </tr>\n",
       "    <tr>\n",
       "      <td>4</td>\n",
       "      <td>2000</td>\n",
       "      <td>sedan</td>\n",
       "      <td>2004</td>\n",
       "      <td>0</td>\n",
       "      <td>105</td>\n",
       "      <td>150000</td>\n",
       "      <td>petrol</td>\n",
       "      <td>mazda</td>\n",
       "      <td>no</td>\n",
       "      <td>0.0</td>\n",
       "      <td>...</td>\n",
       "      <td>0.0</td>\n",
       "      <td>0.0</td>\n",
       "      <td>0.0</td>\n",
       "      <td>0.0</td>\n",
       "      <td>0.0</td>\n",
       "      <td>0.0</td>\n",
       "      <td>0.0</td>\n",
       "      <td>0.0</td>\n",
       "      <td>0.0</td>\n",
       "      <td>1.0</td>\n",
       "    </tr>\n",
       "    <tr>\n",
       "      <td>...</td>\n",
       "      <td>...</td>\n",
       "      <td>...</td>\n",
       "      <td>...</td>\n",
       "      <td>...</td>\n",
       "      <td>...</td>\n",
       "      <td>...</td>\n",
       "      <td>...</td>\n",
       "      <td>...</td>\n",
       "      <td>...</td>\n",
       "      <td>...</td>\n",
       "      <td>...</td>\n",
       "      <td>...</td>\n",
       "      <td>...</td>\n",
       "      <td>...</td>\n",
       "      <td>...</td>\n",
       "      <td>...</td>\n",
       "      <td>...</td>\n",
       "      <td>...</td>\n",
       "      <td>...</td>\n",
       "      <td>...</td>\n",
       "      <td>...</td>\n",
       "    </tr>\n",
       "    <tr>\n",
       "      <td>233270</td>\n",
       "      <td>7900</td>\n",
       "      <td>sedan</td>\n",
       "      <td>2010</td>\n",
       "      <td>0</td>\n",
       "      <td>140</td>\n",
       "      <td>150000</td>\n",
       "      <td>gasoline</td>\n",
       "      <td>volkswagen</td>\n",
       "      <td>no</td>\n",
       "      <td>0.0</td>\n",
       "      <td>...</td>\n",
       "      <td>0.0</td>\n",
       "      <td>0.0</td>\n",
       "      <td>0.0</td>\n",
       "      <td>0.0</td>\n",
       "      <td>0.0</td>\n",
       "      <td>1.0</td>\n",
       "      <td>0.0</td>\n",
       "      <td>0.0</td>\n",
       "      <td>0.0</td>\n",
       "      <td>0.0</td>\n",
       "    </tr>\n",
       "    <tr>\n",
       "      <td>233271</td>\n",
       "      <td>3999</td>\n",
       "      <td>wagon</td>\n",
       "      <td>2005</td>\n",
       "      <td>0</td>\n",
       "      <td>3</td>\n",
       "      <td>150000</td>\n",
       "      <td>gasoline</td>\n",
       "      <td>bmw</td>\n",
       "      <td>no</td>\n",
       "      <td>0.0</td>\n",
       "      <td>...</td>\n",
       "      <td>0.0</td>\n",
       "      <td>0.0</td>\n",
       "      <td>1.0</td>\n",
       "      <td>0.0</td>\n",
       "      <td>0.0</td>\n",
       "      <td>1.0</td>\n",
       "      <td>0.0</td>\n",
       "      <td>0.0</td>\n",
       "      <td>0.0</td>\n",
       "      <td>0.0</td>\n",
       "    </tr>\n",
       "    <tr>\n",
       "      <td>233272</td>\n",
       "      <td>3200</td>\n",
       "      <td>sedan</td>\n",
       "      <td>2004</td>\n",
       "      <td>0</td>\n",
       "      <td>225</td>\n",
       "      <td>150000</td>\n",
       "      <td>petrol</td>\n",
       "      <td>seat</td>\n",
       "      <td>yes</td>\n",
       "      <td>0.0</td>\n",
       "      <td>...</td>\n",
       "      <td>0.0</td>\n",
       "      <td>0.0</td>\n",
       "      <td>0.0</td>\n",
       "      <td>0.0</td>\n",
       "      <td>0.0</td>\n",
       "      <td>0.0</td>\n",
       "      <td>0.0</td>\n",
       "      <td>0.0</td>\n",
       "      <td>0.0</td>\n",
       "      <td>1.0</td>\n",
       "    </tr>\n",
       "    <tr>\n",
       "      <td>233273</td>\n",
       "      <td>1199</td>\n",
       "      <td>convertible</td>\n",
       "      <td>2000</td>\n",
       "      <td>1</td>\n",
       "      <td>101</td>\n",
       "      <td>125000</td>\n",
       "      <td>petrol</td>\n",
       "      <td>smart</td>\n",
       "      <td>no</td>\n",
       "      <td>0.0</td>\n",
       "      <td>...</td>\n",
       "      <td>0.0</td>\n",
       "      <td>0.0</td>\n",
       "      <td>0.0</td>\n",
       "      <td>0.0</td>\n",
       "      <td>0.0</td>\n",
       "      <td>0.0</td>\n",
       "      <td>0.0</td>\n",
       "      <td>0.0</td>\n",
       "      <td>0.0</td>\n",
       "      <td>1.0</td>\n",
       "    </tr>\n",
       "    <tr>\n",
       "      <td>233274</td>\n",
       "      <td>9200</td>\n",
       "      <td>bus</td>\n",
       "      <td>1996</td>\n",
       "      <td>0</td>\n",
       "      <td>102</td>\n",
       "      <td>150000</td>\n",
       "      <td>gasoline</td>\n",
       "      <td>volkswagen</td>\n",
       "      <td>no</td>\n",
       "      <td>1.0</td>\n",
       "      <td>...</td>\n",
       "      <td>0.0</td>\n",
       "      <td>0.0</td>\n",
       "      <td>0.0</td>\n",
       "      <td>0.0</td>\n",
       "      <td>0.0</td>\n",
       "      <td>1.0</td>\n",
       "      <td>0.0</td>\n",
       "      <td>0.0</td>\n",
       "      <td>0.0</td>\n",
       "      <td>0.0</td>\n",
       "    </tr>\n",
       "  </tbody>\n",
       "</table>\n",
       "<p>233275 rows × 24 columns</p>\n",
       "</div>"
      ],
      "text/plain": [
       "        Price  VehicleType  RegistrationYear  Gearbox  Power  Kilometer  \\\n",
       "0        1500        small              2001        0     75     150000   \n",
       "1        3600        small              2008        0     69      90000   \n",
       "2         650        sedan              1995        0    102     150000   \n",
       "3        2200  convertible              2004        0    109     150000   \n",
       "4        2000        sedan              2004        0    105     150000   \n",
       "...       ...          ...               ...      ...    ...        ...   \n",
       "233270   7900        sedan              2010        0    140     150000   \n",
       "233271   3999        wagon              2005        0      3     150000   \n",
       "233272   3200        sedan              2004        0    225     150000   \n",
       "233273   1199  convertible              2000        1    101     125000   \n",
       "233274   9200          bus              1996        0    102     150000   \n",
       "\n",
       "        FuelType       Brand NotRepaired  VehicleType 0  ...  VehicleType 5  \\\n",
       "0         petrol  volkswagen          no            0.0  ...            1.0   \n",
       "1       gasoline       skoda          no            0.0  ...            1.0   \n",
       "2         petrol         bmw         yes            0.0  ...            0.0   \n",
       "3         petrol     peugeot          no            0.0  ...            0.0   \n",
       "4         petrol       mazda          no            0.0  ...            0.0   \n",
       "...          ...         ...         ...            ...  ...            ...   \n",
       "233270  gasoline  volkswagen          no            0.0  ...            0.0   \n",
       "233271  gasoline         bmw          no            0.0  ...            0.0   \n",
       "233272    petrol        seat         yes            0.0  ...            0.0   \n",
       "233273    petrol       smart          no            0.0  ...            0.0   \n",
       "233274  gasoline  volkswagen          no            1.0  ...            0.0   \n",
       "\n",
       "        VehicleType 6  VehicleType 7  FuelType 0  FuelType 1  FuelType 2  \\\n",
       "0                 0.0            0.0         0.0         0.0         0.0   \n",
       "1                 0.0            0.0         0.0         0.0         1.0   \n",
       "2                 0.0            0.0         0.0         0.0         0.0   \n",
       "3                 0.0            0.0         0.0         0.0         0.0   \n",
       "4                 0.0            0.0         0.0         0.0         0.0   \n",
       "...               ...            ...         ...         ...         ...   \n",
       "233270            0.0            0.0         0.0         0.0         1.0   \n",
       "233271            0.0            1.0         0.0         0.0         1.0   \n",
       "233272            0.0            0.0         0.0         0.0         0.0   \n",
       "233273            0.0            0.0         0.0         0.0         0.0   \n",
       "233274            0.0            0.0         0.0         0.0         1.0   \n",
       "\n",
       "        FuelType 3  FuelType 4  FuelType 5  FuelType 6  \n",
       "0              0.0         0.0         0.0         1.0  \n",
       "1              0.0         0.0         0.0         0.0  \n",
       "2              0.0         0.0         0.0         1.0  \n",
       "3              0.0         0.0         0.0         1.0  \n",
       "4              0.0         0.0         0.0         1.0  \n",
       "...            ...         ...         ...         ...  \n",
       "233270         0.0         0.0         0.0         0.0  \n",
       "233271         0.0         0.0         0.0         0.0  \n",
       "233272         0.0         0.0         0.0         1.0  \n",
       "233273         0.0         0.0         0.0         1.0  \n",
       "233274         0.0         0.0         0.0         0.0  \n",
       "\n",
       "[233275 rows x 24 columns]"
      ]
     },
     "execution_count": 29,
     "metadata": {},
     "output_type": "execute_result"
    }
   ],
   "source": [
    "df"
   ]
  },
  {
   "cell_type": "markdown",
   "metadata": {},
   "source": [
    "***Бренд*** - категориальный"
   ]
  },
  {
   "cell_type": "code",
   "execution_count": 30,
   "metadata": {
    "scrolled": true
   },
   "outputs": [
    {
     "data": {
      "text/plain": [
       "volkswagen       49484\n",
       "bmw              26224\n",
       "opel             24514\n",
       "mercedes_benz    22673\n",
       "audi             20779\n",
       "ford             16035\n",
       "renault          10665\n",
       "peugeot           7440\n",
       "fiat              5925\n",
       "seat              4696\n",
       "skoda             4262\n",
       "mazda             3771\n",
       "toyota            3461\n",
       "citroen           3457\n",
       "nissan            3247\n",
       "smart             3199\n",
       "mini              2643\n",
       "hyundai           2619\n",
       "volvo             2370\n",
       "mitsubishi        1911\n",
       "honda             1832\n",
       "kia               1762\n",
       "alfa_romeo        1602\n",
       "suzuki            1597\n",
       "chevrolet         1198\n",
       "chrysler           936\n",
       "dacia              690\n",
       "porsche            527\n",
       "subaru             506\n",
       "jeep               478\n",
       "daihatsu           473\n",
       "saab               403\n",
       "land_rover         395\n",
       "jaguar             370\n",
       "daewoo             303\n",
       "lancia             292\n",
       "rover              241\n",
       "trabant            167\n",
       "lada               128\n",
       "Name: Brand, dtype: int64"
      ]
     },
     "execution_count": 30,
     "metadata": {},
     "output_type": "execute_result"
    }
   ],
   "source": [
    "df['Brand'].value_counts()"
   ]
  },
  {
   "cell_type": "code",
   "execution_count": 31,
   "metadata": {},
   "outputs": [],
   "source": [
    "ohe = OneHotEncoder(sparse=False)\n",
    "ohe_ftrs = ohe.fit_transform(df['Brand'].values.reshape(-1,1))\n",
    "tmp = pd.DataFrame(ohe_ftrs, columns = ['Brand ' + str(i) for i in range(ohe_ftrs.shape[1])])\n",
    "df = pd.concat([df, tmp], axis=1)"
   ]
  },
  {
   "cell_type": "code",
   "execution_count": 32,
   "metadata": {
    "scrolled": true
   },
   "outputs": [
    {
     "data": {
      "text/html": [
       "<div>\n",
       "<style scoped>\n",
       "    .dataframe tbody tr th:only-of-type {\n",
       "        vertical-align: middle;\n",
       "    }\n",
       "\n",
       "    .dataframe tbody tr th {\n",
       "        vertical-align: top;\n",
       "    }\n",
       "\n",
       "    .dataframe thead th {\n",
       "        text-align: right;\n",
       "    }\n",
       "</style>\n",
       "<table border=\"1\" class=\"dataframe\">\n",
       "  <thead>\n",
       "    <tr style=\"text-align: right;\">\n",
       "      <th></th>\n",
       "      <th>Price</th>\n",
       "      <th>VehicleType</th>\n",
       "      <th>RegistrationYear</th>\n",
       "      <th>Gearbox</th>\n",
       "      <th>Power</th>\n",
       "      <th>Kilometer</th>\n",
       "      <th>FuelType</th>\n",
       "      <th>Brand</th>\n",
       "      <th>NotRepaired</th>\n",
       "      <th>VehicleType 0</th>\n",
       "      <th>...</th>\n",
       "      <th>Brand 29</th>\n",
       "      <th>Brand 30</th>\n",
       "      <th>Brand 31</th>\n",
       "      <th>Brand 32</th>\n",
       "      <th>Brand 33</th>\n",
       "      <th>Brand 34</th>\n",
       "      <th>Brand 35</th>\n",
       "      <th>Brand 36</th>\n",
       "      <th>Brand 37</th>\n",
       "      <th>Brand 38</th>\n",
       "    </tr>\n",
       "  </thead>\n",
       "  <tbody>\n",
       "    <tr>\n",
       "      <td>0</td>\n",
       "      <td>1500</td>\n",
       "      <td>small</td>\n",
       "      <td>2001</td>\n",
       "      <td>0</td>\n",
       "      <td>75</td>\n",
       "      <td>150000</td>\n",
       "      <td>petrol</td>\n",
       "      <td>volkswagen</td>\n",
       "      <td>no</td>\n",
       "      <td>0.0</td>\n",
       "      <td>...</td>\n",
       "      <td>0.0</td>\n",
       "      <td>0.0</td>\n",
       "      <td>0.0</td>\n",
       "      <td>0.0</td>\n",
       "      <td>0.0</td>\n",
       "      <td>0.0</td>\n",
       "      <td>0.0</td>\n",
       "      <td>0.0</td>\n",
       "      <td>1.0</td>\n",
       "      <td>0.0</td>\n",
       "    </tr>\n",
       "    <tr>\n",
       "      <td>1</td>\n",
       "      <td>3600</td>\n",
       "      <td>small</td>\n",
       "      <td>2008</td>\n",
       "      <td>0</td>\n",
       "      <td>69</td>\n",
       "      <td>90000</td>\n",
       "      <td>gasoline</td>\n",
       "      <td>skoda</td>\n",
       "      <td>no</td>\n",
       "      <td>0.0</td>\n",
       "      <td>...</td>\n",
       "      <td>0.0</td>\n",
       "      <td>0.0</td>\n",
       "      <td>1.0</td>\n",
       "      <td>0.0</td>\n",
       "      <td>0.0</td>\n",
       "      <td>0.0</td>\n",
       "      <td>0.0</td>\n",
       "      <td>0.0</td>\n",
       "      <td>0.0</td>\n",
       "      <td>0.0</td>\n",
       "    </tr>\n",
       "    <tr>\n",
       "      <td>2</td>\n",
       "      <td>650</td>\n",
       "      <td>sedan</td>\n",
       "      <td>1995</td>\n",
       "      <td>0</td>\n",
       "      <td>102</td>\n",
       "      <td>150000</td>\n",
       "      <td>petrol</td>\n",
       "      <td>bmw</td>\n",
       "      <td>yes</td>\n",
       "      <td>0.0</td>\n",
       "      <td>...</td>\n",
       "      <td>0.0</td>\n",
       "      <td>0.0</td>\n",
       "      <td>0.0</td>\n",
       "      <td>0.0</td>\n",
       "      <td>0.0</td>\n",
       "      <td>0.0</td>\n",
       "      <td>0.0</td>\n",
       "      <td>0.0</td>\n",
       "      <td>0.0</td>\n",
       "      <td>0.0</td>\n",
       "    </tr>\n",
       "    <tr>\n",
       "      <td>3</td>\n",
       "      <td>2200</td>\n",
       "      <td>convertible</td>\n",
       "      <td>2004</td>\n",
       "      <td>0</td>\n",
       "      <td>109</td>\n",
       "      <td>150000</td>\n",
       "      <td>petrol</td>\n",
       "      <td>peugeot</td>\n",
       "      <td>no</td>\n",
       "      <td>0.0</td>\n",
       "      <td>...</td>\n",
       "      <td>0.0</td>\n",
       "      <td>0.0</td>\n",
       "      <td>0.0</td>\n",
       "      <td>0.0</td>\n",
       "      <td>0.0</td>\n",
       "      <td>0.0</td>\n",
       "      <td>0.0</td>\n",
       "      <td>0.0</td>\n",
       "      <td>0.0</td>\n",
       "      <td>0.0</td>\n",
       "    </tr>\n",
       "    <tr>\n",
       "      <td>4</td>\n",
       "      <td>2000</td>\n",
       "      <td>sedan</td>\n",
       "      <td>2004</td>\n",
       "      <td>0</td>\n",
       "      <td>105</td>\n",
       "      <td>150000</td>\n",
       "      <td>petrol</td>\n",
       "      <td>mazda</td>\n",
       "      <td>no</td>\n",
       "      <td>0.0</td>\n",
       "      <td>...</td>\n",
       "      <td>0.0</td>\n",
       "      <td>0.0</td>\n",
       "      <td>0.0</td>\n",
       "      <td>0.0</td>\n",
       "      <td>0.0</td>\n",
       "      <td>0.0</td>\n",
       "      <td>0.0</td>\n",
       "      <td>0.0</td>\n",
       "      <td>0.0</td>\n",
       "      <td>0.0</td>\n",
       "    </tr>\n",
       "    <tr>\n",
       "      <td>...</td>\n",
       "      <td>...</td>\n",
       "      <td>...</td>\n",
       "      <td>...</td>\n",
       "      <td>...</td>\n",
       "      <td>...</td>\n",
       "      <td>...</td>\n",
       "      <td>...</td>\n",
       "      <td>...</td>\n",
       "      <td>...</td>\n",
       "      <td>...</td>\n",
       "      <td>...</td>\n",
       "      <td>...</td>\n",
       "      <td>...</td>\n",
       "      <td>...</td>\n",
       "      <td>...</td>\n",
       "      <td>...</td>\n",
       "      <td>...</td>\n",
       "      <td>...</td>\n",
       "      <td>...</td>\n",
       "      <td>...</td>\n",
       "      <td>...</td>\n",
       "    </tr>\n",
       "    <tr>\n",
       "      <td>233270</td>\n",
       "      <td>7900</td>\n",
       "      <td>sedan</td>\n",
       "      <td>2010</td>\n",
       "      <td>0</td>\n",
       "      <td>140</td>\n",
       "      <td>150000</td>\n",
       "      <td>gasoline</td>\n",
       "      <td>volkswagen</td>\n",
       "      <td>no</td>\n",
       "      <td>0.0</td>\n",
       "      <td>...</td>\n",
       "      <td>0.0</td>\n",
       "      <td>0.0</td>\n",
       "      <td>0.0</td>\n",
       "      <td>0.0</td>\n",
       "      <td>0.0</td>\n",
       "      <td>0.0</td>\n",
       "      <td>0.0</td>\n",
       "      <td>0.0</td>\n",
       "      <td>1.0</td>\n",
       "      <td>0.0</td>\n",
       "    </tr>\n",
       "    <tr>\n",
       "      <td>233271</td>\n",
       "      <td>3999</td>\n",
       "      <td>wagon</td>\n",
       "      <td>2005</td>\n",
       "      <td>0</td>\n",
       "      <td>3</td>\n",
       "      <td>150000</td>\n",
       "      <td>gasoline</td>\n",
       "      <td>bmw</td>\n",
       "      <td>no</td>\n",
       "      <td>0.0</td>\n",
       "      <td>...</td>\n",
       "      <td>0.0</td>\n",
       "      <td>0.0</td>\n",
       "      <td>0.0</td>\n",
       "      <td>0.0</td>\n",
       "      <td>0.0</td>\n",
       "      <td>0.0</td>\n",
       "      <td>0.0</td>\n",
       "      <td>0.0</td>\n",
       "      <td>0.0</td>\n",
       "      <td>0.0</td>\n",
       "    </tr>\n",
       "    <tr>\n",
       "      <td>233272</td>\n",
       "      <td>3200</td>\n",
       "      <td>sedan</td>\n",
       "      <td>2004</td>\n",
       "      <td>0</td>\n",
       "      <td>225</td>\n",
       "      <td>150000</td>\n",
       "      <td>petrol</td>\n",
       "      <td>seat</td>\n",
       "      <td>yes</td>\n",
       "      <td>0.0</td>\n",
       "      <td>...</td>\n",
       "      <td>0.0</td>\n",
       "      <td>1.0</td>\n",
       "      <td>0.0</td>\n",
       "      <td>0.0</td>\n",
       "      <td>0.0</td>\n",
       "      <td>0.0</td>\n",
       "      <td>0.0</td>\n",
       "      <td>0.0</td>\n",
       "      <td>0.0</td>\n",
       "      <td>0.0</td>\n",
       "    </tr>\n",
       "    <tr>\n",
       "      <td>233273</td>\n",
       "      <td>1199</td>\n",
       "      <td>convertible</td>\n",
       "      <td>2000</td>\n",
       "      <td>1</td>\n",
       "      <td>101</td>\n",
       "      <td>125000</td>\n",
       "      <td>petrol</td>\n",
       "      <td>smart</td>\n",
       "      <td>no</td>\n",
       "      <td>0.0</td>\n",
       "      <td>...</td>\n",
       "      <td>0.0</td>\n",
       "      <td>0.0</td>\n",
       "      <td>0.0</td>\n",
       "      <td>1.0</td>\n",
       "      <td>0.0</td>\n",
       "      <td>0.0</td>\n",
       "      <td>0.0</td>\n",
       "      <td>0.0</td>\n",
       "      <td>0.0</td>\n",
       "      <td>0.0</td>\n",
       "    </tr>\n",
       "    <tr>\n",
       "      <td>233274</td>\n",
       "      <td>9200</td>\n",
       "      <td>bus</td>\n",
       "      <td>1996</td>\n",
       "      <td>0</td>\n",
       "      <td>102</td>\n",
       "      <td>150000</td>\n",
       "      <td>gasoline</td>\n",
       "      <td>volkswagen</td>\n",
       "      <td>no</td>\n",
       "      <td>1.0</td>\n",
       "      <td>...</td>\n",
       "      <td>0.0</td>\n",
       "      <td>0.0</td>\n",
       "      <td>0.0</td>\n",
       "      <td>0.0</td>\n",
       "      <td>0.0</td>\n",
       "      <td>0.0</td>\n",
       "      <td>0.0</td>\n",
       "      <td>0.0</td>\n",
       "      <td>1.0</td>\n",
       "      <td>0.0</td>\n",
       "    </tr>\n",
       "  </tbody>\n",
       "</table>\n",
       "<p>233275 rows × 63 columns</p>\n",
       "</div>"
      ],
      "text/plain": [
       "        Price  VehicleType  RegistrationYear  Gearbox  Power  Kilometer  \\\n",
       "0        1500        small              2001        0     75     150000   \n",
       "1        3600        small              2008        0     69      90000   \n",
       "2         650        sedan              1995        0    102     150000   \n",
       "3        2200  convertible              2004        0    109     150000   \n",
       "4        2000        sedan              2004        0    105     150000   \n",
       "...       ...          ...               ...      ...    ...        ...   \n",
       "233270   7900        sedan              2010        0    140     150000   \n",
       "233271   3999        wagon              2005        0      3     150000   \n",
       "233272   3200        sedan              2004        0    225     150000   \n",
       "233273   1199  convertible              2000        1    101     125000   \n",
       "233274   9200          bus              1996        0    102     150000   \n",
       "\n",
       "        FuelType       Brand NotRepaired  VehicleType 0  ...  Brand 29  \\\n",
       "0         petrol  volkswagen          no            0.0  ...       0.0   \n",
       "1       gasoline       skoda          no            0.0  ...       0.0   \n",
       "2         petrol         bmw         yes            0.0  ...       0.0   \n",
       "3         petrol     peugeot          no            0.0  ...       0.0   \n",
       "4         petrol       mazda          no            0.0  ...       0.0   \n",
       "...          ...         ...         ...            ...  ...       ...   \n",
       "233270  gasoline  volkswagen          no            0.0  ...       0.0   \n",
       "233271  gasoline         bmw          no            0.0  ...       0.0   \n",
       "233272    petrol        seat         yes            0.0  ...       0.0   \n",
       "233273    petrol       smart          no            0.0  ...       0.0   \n",
       "233274  gasoline  volkswagen          no            1.0  ...       0.0   \n",
       "\n",
       "        Brand 30  Brand 31  Brand 32  Brand 33  Brand 34  Brand 35  Brand 36  \\\n",
       "0            0.0       0.0       0.0       0.0       0.0       0.0       0.0   \n",
       "1            0.0       1.0       0.0       0.0       0.0       0.0       0.0   \n",
       "2            0.0       0.0       0.0       0.0       0.0       0.0       0.0   \n",
       "3            0.0       0.0       0.0       0.0       0.0       0.0       0.0   \n",
       "4            0.0       0.0       0.0       0.0       0.0       0.0       0.0   \n",
       "...          ...       ...       ...       ...       ...       ...       ...   \n",
       "233270       0.0       0.0       0.0       0.0       0.0       0.0       0.0   \n",
       "233271       0.0       0.0       0.0       0.0       0.0       0.0       0.0   \n",
       "233272       1.0       0.0       0.0       0.0       0.0       0.0       0.0   \n",
       "233273       0.0       0.0       1.0       0.0       0.0       0.0       0.0   \n",
       "233274       0.0       0.0       0.0       0.0       0.0       0.0       0.0   \n",
       "\n",
       "        Brand 37  Brand 38  \n",
       "0            1.0       0.0  \n",
       "1            0.0       0.0  \n",
       "2            0.0       0.0  \n",
       "3            0.0       0.0  \n",
       "4            0.0       0.0  \n",
       "...          ...       ...  \n",
       "233270       1.0       0.0  \n",
       "233271       0.0       0.0  \n",
       "233272       0.0       0.0  \n",
       "233273       0.0       0.0  \n",
       "233274       1.0       0.0  \n",
       "\n",
       "[233275 rows x 63 columns]"
      ]
     },
     "execution_count": 32,
     "metadata": {},
     "output_type": "execute_result"
    }
   ],
   "source": [
    "df"
   ]
  },
  {
   "cell_type": "markdown",
   "metadata": {},
   "source": [
    "***Была ли машина в ремонте*** - категориальный"
   ]
  },
  {
   "cell_type": "code",
   "execution_count": 33,
   "metadata": {
    "scrolled": true
   },
   "outputs": [
    {
     "data": {
      "text/plain": [
       "no     208819\n",
       "yes     24456\n",
       "Name: NotRepaired, dtype: int64"
      ]
     },
     "execution_count": 33,
     "metadata": {},
     "output_type": "execute_result"
    }
   ],
   "source": [
    "df['NotRepaired'].value_counts()"
   ]
  },
  {
   "cell_type": "markdown",
   "metadata": {},
   "source": [
    "Преобразуем:\n",
    "    \n",
    "    будем считать этот пункт показателем технического состояния автомобиля, исходя из чего ремонт был необходим тем машинам, состояние которых этого требовало\n",
    "    no - 1\n",
    "    yes - 0"
   ]
  },
  {
   "cell_type": "code",
   "execution_count": 34,
   "metadata": {},
   "outputs": [],
   "source": [
    "notrepaired = list()\n",
    "for i in list(df['NotRepaired']):\n",
    "    if i == 'yes':\n",
    "        notrepaired.append(0)\n",
    "    else:\n",
    "        notrepaired.append(1)"
   ]
  },
  {
   "cell_type": "code",
   "execution_count": 35,
   "metadata": {},
   "outputs": [],
   "source": [
    "df['NotRepaired'] = notrepaired"
   ]
  },
  {
   "cell_type": "markdown",
   "metadata": {},
   "source": [
    "### Итоговый датафрейм после предобработки"
   ]
  },
  {
   "cell_type": "markdown",
   "metadata": {},
   "source": [
    "**Для LGBM**"
   ]
  },
  {
   "cell_type": "code",
   "execution_count": 36,
   "metadata": {},
   "outputs": [
    {
     "data": {
      "text/html": [
       "<div>\n",
       "<style scoped>\n",
       "    .dataframe tbody tr th:only-of-type {\n",
       "        vertical-align: middle;\n",
       "    }\n",
       "\n",
       "    .dataframe tbody tr th {\n",
       "        vertical-align: top;\n",
       "    }\n",
       "\n",
       "    .dataframe thead th {\n",
       "        text-align: right;\n",
       "    }\n",
       "</style>\n",
       "<table border=\"1\" class=\"dataframe\">\n",
       "  <thead>\n",
       "    <tr style=\"text-align: right;\">\n",
       "      <th></th>\n",
       "      <th>Price</th>\n",
       "      <th>VehicleType</th>\n",
       "      <th>RegistrationYear</th>\n",
       "      <th>Gearbox</th>\n",
       "      <th>Power</th>\n",
       "      <th>Kilometer</th>\n",
       "      <th>FuelType</th>\n",
       "      <th>Brand</th>\n",
       "      <th>NotRepaired</th>\n",
       "    </tr>\n",
       "  </thead>\n",
       "  <tbody>\n",
       "    <tr>\n",
       "      <td>0</td>\n",
       "      <td>1500</td>\n",
       "      <td>small</td>\n",
       "      <td>2001</td>\n",
       "      <td>manual</td>\n",
       "      <td>75</td>\n",
       "      <td>150000</td>\n",
       "      <td>petrol</td>\n",
       "      <td>volkswagen</td>\n",
       "      <td>no</td>\n",
       "    </tr>\n",
       "    <tr>\n",
       "      <td>1</td>\n",
       "      <td>3600</td>\n",
       "      <td>small</td>\n",
       "      <td>2008</td>\n",
       "      <td>manual</td>\n",
       "      <td>69</td>\n",
       "      <td>90000</td>\n",
       "      <td>gasoline</td>\n",
       "      <td>skoda</td>\n",
       "      <td>no</td>\n",
       "    </tr>\n",
       "    <tr>\n",
       "      <td>2</td>\n",
       "      <td>650</td>\n",
       "      <td>sedan</td>\n",
       "      <td>1995</td>\n",
       "      <td>manual</td>\n",
       "      <td>102</td>\n",
       "      <td>150000</td>\n",
       "      <td>petrol</td>\n",
       "      <td>bmw</td>\n",
       "      <td>yes</td>\n",
       "    </tr>\n",
       "    <tr>\n",
       "      <td>3</td>\n",
       "      <td>2200</td>\n",
       "      <td>convertible</td>\n",
       "      <td>2004</td>\n",
       "      <td>manual</td>\n",
       "      <td>109</td>\n",
       "      <td>150000</td>\n",
       "      <td>petrol</td>\n",
       "      <td>peugeot</td>\n",
       "      <td>no</td>\n",
       "    </tr>\n",
       "    <tr>\n",
       "      <td>4</td>\n",
       "      <td>2000</td>\n",
       "      <td>sedan</td>\n",
       "      <td>2004</td>\n",
       "      <td>manual</td>\n",
       "      <td>105</td>\n",
       "      <td>150000</td>\n",
       "      <td>petrol</td>\n",
       "      <td>mazda</td>\n",
       "      <td>no</td>\n",
       "    </tr>\n",
       "    <tr>\n",
       "      <td>...</td>\n",
       "      <td>...</td>\n",
       "      <td>...</td>\n",
       "      <td>...</td>\n",
       "      <td>...</td>\n",
       "      <td>...</td>\n",
       "      <td>...</td>\n",
       "      <td>...</td>\n",
       "      <td>...</td>\n",
       "      <td>...</td>\n",
       "    </tr>\n",
       "    <tr>\n",
       "      <td>233270</td>\n",
       "      <td>7900</td>\n",
       "      <td>sedan</td>\n",
       "      <td>2010</td>\n",
       "      <td>manual</td>\n",
       "      <td>140</td>\n",
       "      <td>150000</td>\n",
       "      <td>gasoline</td>\n",
       "      <td>volkswagen</td>\n",
       "      <td>no</td>\n",
       "    </tr>\n",
       "    <tr>\n",
       "      <td>233271</td>\n",
       "      <td>3999</td>\n",
       "      <td>wagon</td>\n",
       "      <td>2005</td>\n",
       "      <td>manual</td>\n",
       "      <td>3</td>\n",
       "      <td>150000</td>\n",
       "      <td>gasoline</td>\n",
       "      <td>bmw</td>\n",
       "      <td>no</td>\n",
       "    </tr>\n",
       "    <tr>\n",
       "      <td>233272</td>\n",
       "      <td>3200</td>\n",
       "      <td>sedan</td>\n",
       "      <td>2004</td>\n",
       "      <td>manual</td>\n",
       "      <td>225</td>\n",
       "      <td>150000</td>\n",
       "      <td>petrol</td>\n",
       "      <td>seat</td>\n",
       "      <td>yes</td>\n",
       "    </tr>\n",
       "    <tr>\n",
       "      <td>233273</td>\n",
       "      <td>1199</td>\n",
       "      <td>convertible</td>\n",
       "      <td>2000</td>\n",
       "      <td>auto</td>\n",
       "      <td>101</td>\n",
       "      <td>125000</td>\n",
       "      <td>petrol</td>\n",
       "      <td>smart</td>\n",
       "      <td>no</td>\n",
       "    </tr>\n",
       "    <tr>\n",
       "      <td>233274</td>\n",
       "      <td>9200</td>\n",
       "      <td>bus</td>\n",
       "      <td>1996</td>\n",
       "      <td>manual</td>\n",
       "      <td>102</td>\n",
       "      <td>150000</td>\n",
       "      <td>gasoline</td>\n",
       "      <td>volkswagen</td>\n",
       "      <td>no</td>\n",
       "    </tr>\n",
       "  </tbody>\n",
       "</table>\n",
       "<p>233275 rows × 9 columns</p>\n",
       "</div>"
      ],
      "text/plain": [
       "        Price  VehicleType  RegistrationYear Gearbox  Power  Kilometer  \\\n",
       "0        1500        small              2001  manual     75     150000   \n",
       "1        3600        small              2008  manual     69      90000   \n",
       "2         650        sedan              1995  manual    102     150000   \n",
       "3        2200  convertible              2004  manual    109     150000   \n",
       "4        2000        sedan              2004  manual    105     150000   \n",
       "...       ...          ...               ...     ...    ...        ...   \n",
       "233270   7900        sedan              2010  manual    140     150000   \n",
       "233271   3999        wagon              2005  manual      3     150000   \n",
       "233272   3200        sedan              2004  manual    225     150000   \n",
       "233273   1199  convertible              2000    auto    101     125000   \n",
       "233274   9200          bus              1996  manual    102     150000   \n",
       "\n",
       "        FuelType       Brand NotRepaired  \n",
       "0         petrol  volkswagen          no  \n",
       "1       gasoline       skoda          no  \n",
       "2         petrol         bmw         yes  \n",
       "3         petrol     peugeot          no  \n",
       "4         petrol       mazda          no  \n",
       "...          ...         ...         ...  \n",
       "233270  gasoline  volkswagen          no  \n",
       "233271  gasoline         bmw          no  \n",
       "233272    petrol        seat         yes  \n",
       "233273    petrol       smart          no  \n",
       "233274  gasoline  volkswagen          no  \n",
       "\n",
       "[233275 rows x 9 columns]"
      ]
     },
     "execution_count": 36,
     "metadata": {},
     "output_type": "execute_result"
    }
   ],
   "source": [
    "df_lgbm"
   ]
  },
  {
   "cell_type": "markdown",
   "metadata": {},
   "source": [
    "**Для остальных**"
   ]
  },
  {
   "cell_type": "code",
   "execution_count": 37,
   "metadata": {},
   "outputs": [],
   "source": [
    "df = df.drop(['VehicleType', 'FuelType', 'Brand'], axis = 1)"
   ]
  },
  {
   "cell_type": "code",
   "execution_count": 38,
   "metadata": {
    "scrolled": true
   },
   "outputs": [
    {
     "data": {
      "text/html": [
       "<div>\n",
       "<style scoped>\n",
       "    .dataframe tbody tr th:only-of-type {\n",
       "        vertical-align: middle;\n",
       "    }\n",
       "\n",
       "    .dataframe tbody tr th {\n",
       "        vertical-align: top;\n",
       "    }\n",
       "\n",
       "    .dataframe thead th {\n",
       "        text-align: right;\n",
       "    }\n",
       "</style>\n",
       "<table border=\"1\" class=\"dataframe\">\n",
       "  <thead>\n",
       "    <tr style=\"text-align: right;\">\n",
       "      <th></th>\n",
       "      <th>Price</th>\n",
       "      <th>RegistrationYear</th>\n",
       "      <th>Gearbox</th>\n",
       "      <th>Power</th>\n",
       "      <th>Kilometer</th>\n",
       "      <th>NotRepaired</th>\n",
       "      <th>VehicleType 0</th>\n",
       "      <th>VehicleType 1</th>\n",
       "      <th>VehicleType 2</th>\n",
       "      <th>VehicleType 3</th>\n",
       "      <th>...</th>\n",
       "      <th>Brand 29</th>\n",
       "      <th>Brand 30</th>\n",
       "      <th>Brand 31</th>\n",
       "      <th>Brand 32</th>\n",
       "      <th>Brand 33</th>\n",
       "      <th>Brand 34</th>\n",
       "      <th>Brand 35</th>\n",
       "      <th>Brand 36</th>\n",
       "      <th>Brand 37</th>\n",
       "      <th>Brand 38</th>\n",
       "    </tr>\n",
       "  </thead>\n",
       "  <tbody>\n",
       "    <tr>\n",
       "      <td>0</td>\n",
       "      <td>1500</td>\n",
       "      <td>2001</td>\n",
       "      <td>0</td>\n",
       "      <td>75</td>\n",
       "      <td>150000</td>\n",
       "      <td>1</td>\n",
       "      <td>0.0</td>\n",
       "      <td>0.0</td>\n",
       "      <td>0.0</td>\n",
       "      <td>0.0</td>\n",
       "      <td>...</td>\n",
       "      <td>0.0</td>\n",
       "      <td>0.0</td>\n",
       "      <td>0.0</td>\n",
       "      <td>0.0</td>\n",
       "      <td>0.0</td>\n",
       "      <td>0.0</td>\n",
       "      <td>0.0</td>\n",
       "      <td>0.0</td>\n",
       "      <td>1.0</td>\n",
       "      <td>0.0</td>\n",
       "    </tr>\n",
       "    <tr>\n",
       "      <td>1</td>\n",
       "      <td>3600</td>\n",
       "      <td>2008</td>\n",
       "      <td>0</td>\n",
       "      <td>69</td>\n",
       "      <td>90000</td>\n",
       "      <td>1</td>\n",
       "      <td>0.0</td>\n",
       "      <td>0.0</td>\n",
       "      <td>0.0</td>\n",
       "      <td>0.0</td>\n",
       "      <td>...</td>\n",
       "      <td>0.0</td>\n",
       "      <td>0.0</td>\n",
       "      <td>1.0</td>\n",
       "      <td>0.0</td>\n",
       "      <td>0.0</td>\n",
       "      <td>0.0</td>\n",
       "      <td>0.0</td>\n",
       "      <td>0.0</td>\n",
       "      <td>0.0</td>\n",
       "      <td>0.0</td>\n",
       "    </tr>\n",
       "    <tr>\n",
       "      <td>2</td>\n",
       "      <td>650</td>\n",
       "      <td>1995</td>\n",
       "      <td>0</td>\n",
       "      <td>102</td>\n",
       "      <td>150000</td>\n",
       "      <td>0</td>\n",
       "      <td>0.0</td>\n",
       "      <td>0.0</td>\n",
       "      <td>0.0</td>\n",
       "      <td>0.0</td>\n",
       "      <td>...</td>\n",
       "      <td>0.0</td>\n",
       "      <td>0.0</td>\n",
       "      <td>0.0</td>\n",
       "      <td>0.0</td>\n",
       "      <td>0.0</td>\n",
       "      <td>0.0</td>\n",
       "      <td>0.0</td>\n",
       "      <td>0.0</td>\n",
       "      <td>0.0</td>\n",
       "      <td>0.0</td>\n",
       "    </tr>\n",
       "    <tr>\n",
       "      <td>3</td>\n",
       "      <td>2200</td>\n",
       "      <td>2004</td>\n",
       "      <td>0</td>\n",
       "      <td>109</td>\n",
       "      <td>150000</td>\n",
       "      <td>1</td>\n",
       "      <td>0.0</td>\n",
       "      <td>1.0</td>\n",
       "      <td>0.0</td>\n",
       "      <td>0.0</td>\n",
       "      <td>...</td>\n",
       "      <td>0.0</td>\n",
       "      <td>0.0</td>\n",
       "      <td>0.0</td>\n",
       "      <td>0.0</td>\n",
       "      <td>0.0</td>\n",
       "      <td>0.0</td>\n",
       "      <td>0.0</td>\n",
       "      <td>0.0</td>\n",
       "      <td>0.0</td>\n",
       "      <td>0.0</td>\n",
       "    </tr>\n",
       "    <tr>\n",
       "      <td>4</td>\n",
       "      <td>2000</td>\n",
       "      <td>2004</td>\n",
       "      <td>0</td>\n",
       "      <td>105</td>\n",
       "      <td>150000</td>\n",
       "      <td>1</td>\n",
       "      <td>0.0</td>\n",
       "      <td>0.0</td>\n",
       "      <td>0.0</td>\n",
       "      <td>0.0</td>\n",
       "      <td>...</td>\n",
       "      <td>0.0</td>\n",
       "      <td>0.0</td>\n",
       "      <td>0.0</td>\n",
       "      <td>0.0</td>\n",
       "      <td>0.0</td>\n",
       "      <td>0.0</td>\n",
       "      <td>0.0</td>\n",
       "      <td>0.0</td>\n",
       "      <td>0.0</td>\n",
       "      <td>0.0</td>\n",
       "    </tr>\n",
       "    <tr>\n",
       "      <td>5</td>\n",
       "      <td>2799</td>\n",
       "      <td>2005</td>\n",
       "      <td>0</td>\n",
       "      <td>140</td>\n",
       "      <td>150000</td>\n",
       "      <td>0</td>\n",
       "      <td>0.0</td>\n",
       "      <td>0.0</td>\n",
       "      <td>0.0</td>\n",
       "      <td>0.0</td>\n",
       "      <td>...</td>\n",
       "      <td>0.0</td>\n",
       "      <td>0.0</td>\n",
       "      <td>0.0</td>\n",
       "      <td>0.0</td>\n",
       "      <td>0.0</td>\n",
       "      <td>0.0</td>\n",
       "      <td>0.0</td>\n",
       "      <td>0.0</td>\n",
       "      <td>1.0</td>\n",
       "      <td>0.0</td>\n",
       "    </tr>\n",
       "    <tr>\n",
       "      <td>6</td>\n",
       "      <td>17999</td>\n",
       "      <td>2011</td>\n",
       "      <td>0</td>\n",
       "      <td>190</td>\n",
       "      <td>70000</td>\n",
       "      <td>1</td>\n",
       "      <td>0.0</td>\n",
       "      <td>0.0</td>\n",
       "      <td>0.0</td>\n",
       "      <td>0.0</td>\n",
       "      <td>...</td>\n",
       "      <td>0.0</td>\n",
       "      <td>0.0</td>\n",
       "      <td>0.0</td>\n",
       "      <td>0.0</td>\n",
       "      <td>0.0</td>\n",
       "      <td>0.0</td>\n",
       "      <td>0.0</td>\n",
       "      <td>0.0</td>\n",
       "      <td>0.0</td>\n",
       "      <td>0.0</td>\n",
       "    </tr>\n",
       "    <tr>\n",
       "      <td>7</td>\n",
       "      <td>1750</td>\n",
       "      <td>2004</td>\n",
       "      <td>1</td>\n",
       "      <td>75</td>\n",
       "      <td>150000</td>\n",
       "      <td>1</td>\n",
       "      <td>0.0</td>\n",
       "      <td>0.0</td>\n",
       "      <td>0.0</td>\n",
       "      <td>0.0</td>\n",
       "      <td>...</td>\n",
       "      <td>0.0</td>\n",
       "      <td>0.0</td>\n",
       "      <td>0.0</td>\n",
       "      <td>0.0</td>\n",
       "      <td>0.0</td>\n",
       "      <td>0.0</td>\n",
       "      <td>0.0</td>\n",
       "      <td>0.0</td>\n",
       "      <td>0.0</td>\n",
       "      <td>0.0</td>\n",
       "    </tr>\n",
       "    <tr>\n",
       "      <td>8</td>\n",
       "      <td>7550</td>\n",
       "      <td>2007</td>\n",
       "      <td>0</td>\n",
       "      <td>136</td>\n",
       "      <td>150000</td>\n",
       "      <td>1</td>\n",
       "      <td>1.0</td>\n",
       "      <td>0.0</td>\n",
       "      <td>0.0</td>\n",
       "      <td>0.0</td>\n",
       "      <td>...</td>\n",
       "      <td>0.0</td>\n",
       "      <td>0.0</td>\n",
       "      <td>0.0</td>\n",
       "      <td>0.0</td>\n",
       "      <td>0.0</td>\n",
       "      <td>0.0</td>\n",
       "      <td>0.0</td>\n",
       "      <td>0.0</td>\n",
       "      <td>0.0</td>\n",
       "      <td>0.0</td>\n",
       "    </tr>\n",
       "    <tr>\n",
       "      <td>9</td>\n",
       "      <td>1850</td>\n",
       "      <td>2004</td>\n",
       "      <td>0</td>\n",
       "      <td>102</td>\n",
       "      <td>150000</td>\n",
       "      <td>1</td>\n",
       "      <td>1.0</td>\n",
       "      <td>0.0</td>\n",
       "      <td>0.0</td>\n",
       "      <td>0.0</td>\n",
       "      <td>...</td>\n",
       "      <td>0.0</td>\n",
       "      <td>0.0</td>\n",
       "      <td>0.0</td>\n",
       "      <td>0.0</td>\n",
       "      <td>0.0</td>\n",
       "      <td>0.0</td>\n",
       "      <td>0.0</td>\n",
       "      <td>0.0</td>\n",
       "      <td>0.0</td>\n",
       "      <td>0.0</td>\n",
       "    </tr>\n",
       "  </tbody>\n",
       "</table>\n",
       "<p>10 rows × 60 columns</p>\n",
       "</div>"
      ],
      "text/plain": [
       "   Price  RegistrationYear  Gearbox  Power  Kilometer  NotRepaired  \\\n",
       "0   1500              2001        0     75     150000            1   \n",
       "1   3600              2008        0     69      90000            1   \n",
       "2    650              1995        0    102     150000            0   \n",
       "3   2200              2004        0    109     150000            1   \n",
       "4   2000              2004        0    105     150000            1   \n",
       "5   2799              2005        0    140     150000            0   \n",
       "6  17999              2011        0    190      70000            1   \n",
       "7   1750              2004        1     75     150000            1   \n",
       "8   7550              2007        0    136     150000            1   \n",
       "9   1850              2004        0    102     150000            1   \n",
       "\n",
       "   VehicleType 0  VehicleType 1  VehicleType 2  VehicleType 3  ...  Brand 29  \\\n",
       "0            0.0            0.0            0.0            0.0  ...       0.0   \n",
       "1            0.0            0.0            0.0            0.0  ...       0.0   \n",
       "2            0.0            0.0            0.0            0.0  ...       0.0   \n",
       "3            0.0            1.0            0.0            0.0  ...       0.0   \n",
       "4            0.0            0.0            0.0            0.0  ...       0.0   \n",
       "5            0.0            0.0            0.0            0.0  ...       0.0   \n",
       "6            0.0            0.0            0.0            0.0  ...       0.0   \n",
       "7            0.0            0.0            0.0            0.0  ...       0.0   \n",
       "8            1.0            0.0            0.0            0.0  ...       0.0   \n",
       "9            1.0            0.0            0.0            0.0  ...       0.0   \n",
       "\n",
       "   Brand 30  Brand 31  Brand 32  Brand 33  Brand 34  Brand 35  Brand 36  \\\n",
       "0       0.0       0.0       0.0       0.0       0.0       0.0       0.0   \n",
       "1       0.0       1.0       0.0       0.0       0.0       0.0       0.0   \n",
       "2       0.0       0.0       0.0       0.0       0.0       0.0       0.0   \n",
       "3       0.0       0.0       0.0       0.0       0.0       0.0       0.0   \n",
       "4       0.0       0.0       0.0       0.0       0.0       0.0       0.0   \n",
       "5       0.0       0.0       0.0       0.0       0.0       0.0       0.0   \n",
       "6       0.0       0.0       0.0       0.0       0.0       0.0       0.0   \n",
       "7       0.0       0.0       0.0       0.0       0.0       0.0       0.0   \n",
       "8       0.0       0.0       0.0       0.0       0.0       0.0       0.0   \n",
       "9       0.0       0.0       0.0       0.0       0.0       0.0       0.0   \n",
       "\n",
       "   Brand 37  Brand 38  \n",
       "0       1.0       0.0  \n",
       "1       0.0       0.0  \n",
       "2       0.0       0.0  \n",
       "3       0.0       0.0  \n",
       "4       0.0       0.0  \n",
       "5       1.0       0.0  \n",
       "6       0.0       0.0  \n",
       "7       0.0       0.0  \n",
       "8       0.0       0.0  \n",
       "9       0.0       0.0  \n",
       "\n",
       "[10 rows x 60 columns]"
      ]
     },
     "execution_count": 38,
     "metadata": {},
     "output_type": "execute_result"
    }
   ],
   "source": [
    "df.head(10)"
   ]
  },
  {
   "cell_type": "markdown",
   "metadata": {},
   "source": [
    "## Обучение моделей"
   ]
  },
  {
   "cell_type": "code",
   "execution_count": 40,
   "metadata": {},
   "outputs": [],
   "source": [
    "features = df.drop('Price', axis = 1)\n",
    "target = df['Price']"
   ]
  },
  {
   "cell_type": "code",
   "execution_count": 41,
   "metadata": {},
   "outputs": [],
   "source": [
    "features_train, features_valid, target_train, target_valid = train_test_split(features, target, test_size = 0.25, random_state = 12345)"
   ]
  },
  {
   "cell_type": "code",
   "execution_count": 42,
   "metadata": {},
   "outputs": [
    {
     "name": "stdout",
     "output_type": "stream",
     "text": [
      "Размеры тренировочной выборки:\n",
      "(174956, 59)\n",
      "(174956,)\n",
      "Размеры валидационной выборки:\n",
      "(58319, 59)\n",
      "(58319,)\n"
     ]
    }
   ],
   "source": [
    "print('Размеры тренировочной выборки:')\n",
    "print(features_train.shape)\n",
    "print(target_train.shape)\n",
    "\n",
    "print('Размеры валидационной выборки:')\n",
    "print(features_valid.shape)\n",
    "print(target_valid.shape)"
   ]
  },
  {
   "cell_type": "code",
   "execution_count": 43,
   "metadata": {},
   "outputs": [
    {
     "name": "stdout",
     "output_type": "stream",
     "text": [
      "Скаляризация - уравновешивание признаков...\n"
     ]
    }
   ],
   "source": [
    "print('Скаляризация - уравновешивание признаков...')\n",
    "\n",
    "scaler = StandardScaler()\n",
    "\n",
    "features_train = scaler.fit_transform(features_train)\n",
    "features_valid = scaler.transform(features_valid)"
   ]
  },
  {
   "cell_type": "markdown",
   "metadata": {},
   "source": [
    "**Необходимо обучить несколько моделей**"
   ]
  },
  {
   "cell_type": "markdown",
   "metadata": {},
   "source": [
    "### LinearRegression"
   ]
  },
  {
   "cell_type": "code",
   "execution_count": 44,
   "metadata": {},
   "outputs": [
    {
     "name": "stdout",
     "output_type": "stream",
     "text": [
      "CPU times: user 2.14 s, sys: 700 ms, total: 2.84 s\n",
      "Wall time: 2.83 s\n"
     ]
    },
    {
     "data": {
      "text/plain": [
       "LinearRegression(copy_X=True, fit_intercept=True, n_jobs=None, normalize=False)"
      ]
     },
     "execution_count": 44,
     "metadata": {},
     "output_type": "execute_result"
    }
   ],
   "source": [
    "%%time\n",
    "\n",
    "model1 = LinearRegression()\n",
    "model1.fit(features_train, target_train)\n",
    "# predictions_valid = model1.predict(features_valid)"
   ]
  },
  {
   "cell_type": "code",
   "execution_count": 45,
   "metadata": {},
   "outputs": [
    {
     "name": "stdout",
     "output_type": "stream",
     "text": [
      "CPU times: user 40.8 ms, sys: 560 µs, total: 41.4 ms\n",
      "Wall time: 15.7 ms\n"
     ]
    }
   ],
   "source": [
    "%%time\n",
    "\n",
    "predictions1_train = model1.predict(features_train)"
   ]
  },
  {
   "cell_type": "code",
   "execution_count": 46,
   "metadata": {
    "scrolled": true
   },
   "outputs": [
    {
     "name": "stdout",
     "output_type": "stream",
     "text": [
      "RMSE модели на обучающей выборке: 2913.283642440045\n",
      "MAE модели на обучающей выборке: 2057.239489208692\n",
      "Коэффициент детерминации на обучающей выборке: 0.619835583714386\n",
      "\n"
     ]
    }
   ],
   "source": [
    "print('RMSE модели на обучающей выборке:', mean_squared_error(target_train, predictions1_train)**0.5)\n",
    "print('MAE модели на обучающей выборке:', mean_absolute_error(target_train, predictions1_train))\n",
    "print('Коэффициент детерминации на обучающей выборке:', r2_score(target_train, predictions1_train))\n",
    "print()\n",
    "# print('RMSE модели на валидационной выборке:', mean_squared_error(target_valid, predictions_valid)**0.5)\n",
    "# print('Коэффициент детерминации на валидационной выборке:', r2_score(target_valid, predictions_valid))"
   ]
  },
  {
   "cell_type": "markdown",
   "metadata": {},
   "source": [
    "### RandomForestRegressor"
   ]
  },
  {
   "cell_type": "code",
   "execution_count": 47,
   "metadata": {},
   "outputs": [],
   "source": [
    "parametrs = {'n_estimators': range(1, 51, 5),\n",
    "              'max_depth': range(1, 21, 2)}"
   ]
  },
  {
   "cell_type": "code",
   "execution_count": 48,
   "metadata": {},
   "outputs": [
    {
     "name": "stdout",
     "output_type": "stream",
     "text": [
      "CPU times: user 12.9 s, sys: 0 ns, total: 12.9 s\n",
      "Wall time: 13.6 s\n"
     ]
    }
   ],
   "source": [
    "%%time\n",
    "\n",
    "model2 = RandomForestRegressor(random_state=12345)\n",
    "model2.fit(features_train, target_train)\n",
    "predictions2_train = model2.predict(features_train)"
   ]
  },
  {
   "cell_type": "code",
   "execution_count": 49,
   "metadata": {},
   "outputs": [
    {
     "name": "stdout",
     "output_type": "stream",
     "text": [
      "RMSE модели на обучающей выборке: 1109.81241565519\n",
      "MAE модели на обучающей выборке: 686.5214186658596\n"
     ]
    }
   ],
   "source": [
    "print('RMSE модели на обучающей выборке:', mean_squared_error(target_train, predictions2_train)**0.5)\n",
    "print('MAE модели на обучающей выборке:', mean_absolute_error(target_train, predictions2_train))"
   ]
  },
  {
   "cell_type": "code",
   "execution_count": 50,
   "metadata": {},
   "outputs": [],
   "source": [
    "scoring = make_scorer(mean_absolute_error)"
   ]
  },
  {
   "cell_type": "code",
   "execution_count": 51,
   "metadata": {},
   "outputs": [],
   "source": [
    "# %%time\n",
    "\n",
    "# grid = RandomizedSearchCV(model2, parametrs, n_iter = 10, cv=3, scoring = scoring, verbose = 0, random_state = 12345)\n",
    "# grid.fit(features_train, target_train)\n",
    "# grid.best_params_"
   ]
  },
  {
   "cell_type": "markdown",
   "metadata": {},
   "source": [
    "OUT[]: {'n_estimators': 1, 'max_depth': 5}\n",
    "\n",
    "Почему так? ведь полученные значения RMSE и MAE даже хуже, чем были без подбора параметров!"
   ]
  },
  {
   "cell_type": "code",
   "execution_count": 52,
   "metadata": {},
   "outputs": [
    {
     "name": "stdout",
     "output_type": "stream",
     "text": [
      "CPU times: user 391 ms, sys: 0 ns, total: 391 ms\n",
      "Wall time: 418 ms\n"
     ]
    },
    {
     "data": {
      "text/plain": [
       "RandomForestRegressor(bootstrap=True, criterion='mse', max_depth=5,\n",
       "                      max_features='auto', max_leaf_nodes=None,\n",
       "                      min_impurity_decrease=0.0, min_impurity_split=None,\n",
       "                      min_samples_leaf=1, min_samples_split=2,\n",
       "                      min_weight_fraction_leaf=0.0, n_estimators=1, n_jobs=None,\n",
       "                      oob_score=False, random_state=12345, verbose=0,\n",
       "                      warm_start=False)"
      ]
     },
     "execution_count": 52,
     "metadata": {},
     "output_type": "execute_result"
    }
   ],
   "source": [
    "%%time\n",
    "\n",
    "model3 = RandomForestRegressor(random_state=12345, max_depth = 5, n_estimators = 1)\n",
    "model3.fit(features_train, target_train)"
   ]
  },
  {
   "cell_type": "code",
   "execution_count": 53,
   "metadata": {},
   "outputs": [
    {
     "name": "stdout",
     "output_type": "stream",
     "text": [
      "CPU times: user 44.8 ms, sys: 0 ns, total: 44.8 ms\n",
      "Wall time: 46.9 ms\n"
     ]
    }
   ],
   "source": [
    "%%time\n",
    "\n",
    "predictions3_train = model3.predict(features_train)"
   ]
  },
  {
   "cell_type": "code",
   "execution_count": 54,
   "metadata": {
    "scrolled": true
   },
   "outputs": [
    {
     "name": "stdout",
     "output_type": "stream",
     "text": [
      "RMSE модели на обучающей выборке: 2391.805970823164\n",
      "MAE модели на обучающей выборке: 1660.4678706006714\n"
     ]
    }
   ],
   "source": [
    "print('RMSE модели на обучающей выборке:', mean_squared_error(target_train, predictions3_train)**0.5)\n",
    "print('MAE модели на обучающей выборке:', mean_absolute_error(target_train, predictions3_train))"
   ]
  },
  {
   "cell_type": "markdown",
   "metadata": {},
   "source": [
    "### LGBMRegressor"
   ]
  },
  {
   "cell_type": "markdown",
   "metadata": {},
   "source": [
    "Подготовка признаков"
   ]
  },
  {
   "cell_type": "code",
   "execution_count": 55,
   "metadata": {
    "scrolled": true
   },
   "outputs": [
    {
     "data": {
      "text/html": [
       "<div>\n",
       "<style scoped>\n",
       "    .dataframe tbody tr th:only-of-type {\n",
       "        vertical-align: middle;\n",
       "    }\n",
       "\n",
       "    .dataframe tbody tr th {\n",
       "        vertical-align: top;\n",
       "    }\n",
       "\n",
       "    .dataframe thead th {\n",
       "        text-align: right;\n",
       "    }\n",
       "</style>\n",
       "<table border=\"1\" class=\"dataframe\">\n",
       "  <thead>\n",
       "    <tr style=\"text-align: right;\">\n",
       "      <th></th>\n",
       "      <th>Price</th>\n",
       "      <th>VehicleType</th>\n",
       "      <th>RegistrationYear</th>\n",
       "      <th>Gearbox</th>\n",
       "      <th>Power</th>\n",
       "      <th>Kilometer</th>\n",
       "      <th>FuelType</th>\n",
       "      <th>Brand</th>\n",
       "      <th>NotRepaired</th>\n",
       "    </tr>\n",
       "  </thead>\n",
       "  <tbody>\n",
       "    <tr>\n",
       "      <td>0</td>\n",
       "      <td>1500</td>\n",
       "      <td>small</td>\n",
       "      <td>2001</td>\n",
       "      <td>manual</td>\n",
       "      <td>75</td>\n",
       "      <td>150000</td>\n",
       "      <td>petrol</td>\n",
       "      <td>volkswagen</td>\n",
       "      <td>no</td>\n",
       "    </tr>\n",
       "    <tr>\n",
       "      <td>1</td>\n",
       "      <td>3600</td>\n",
       "      <td>small</td>\n",
       "      <td>2008</td>\n",
       "      <td>manual</td>\n",
       "      <td>69</td>\n",
       "      <td>90000</td>\n",
       "      <td>gasoline</td>\n",
       "      <td>skoda</td>\n",
       "      <td>no</td>\n",
       "    </tr>\n",
       "    <tr>\n",
       "      <td>2</td>\n",
       "      <td>650</td>\n",
       "      <td>sedan</td>\n",
       "      <td>1995</td>\n",
       "      <td>manual</td>\n",
       "      <td>102</td>\n",
       "      <td>150000</td>\n",
       "      <td>petrol</td>\n",
       "      <td>bmw</td>\n",
       "      <td>yes</td>\n",
       "    </tr>\n",
       "    <tr>\n",
       "      <td>3</td>\n",
       "      <td>2200</td>\n",
       "      <td>convertible</td>\n",
       "      <td>2004</td>\n",
       "      <td>manual</td>\n",
       "      <td>109</td>\n",
       "      <td>150000</td>\n",
       "      <td>petrol</td>\n",
       "      <td>peugeot</td>\n",
       "      <td>no</td>\n",
       "    </tr>\n",
       "    <tr>\n",
       "      <td>4</td>\n",
       "      <td>2000</td>\n",
       "      <td>sedan</td>\n",
       "      <td>2004</td>\n",
       "      <td>manual</td>\n",
       "      <td>105</td>\n",
       "      <td>150000</td>\n",
       "      <td>petrol</td>\n",
       "      <td>mazda</td>\n",
       "      <td>no</td>\n",
       "    </tr>\n",
       "    <tr>\n",
       "      <td>...</td>\n",
       "      <td>...</td>\n",
       "      <td>...</td>\n",
       "      <td>...</td>\n",
       "      <td>...</td>\n",
       "      <td>...</td>\n",
       "      <td>...</td>\n",
       "      <td>...</td>\n",
       "      <td>...</td>\n",
       "      <td>...</td>\n",
       "    </tr>\n",
       "    <tr>\n",
       "      <td>233270</td>\n",
       "      <td>7900</td>\n",
       "      <td>sedan</td>\n",
       "      <td>2010</td>\n",
       "      <td>manual</td>\n",
       "      <td>140</td>\n",
       "      <td>150000</td>\n",
       "      <td>gasoline</td>\n",
       "      <td>volkswagen</td>\n",
       "      <td>no</td>\n",
       "    </tr>\n",
       "    <tr>\n",
       "      <td>233271</td>\n",
       "      <td>3999</td>\n",
       "      <td>wagon</td>\n",
       "      <td>2005</td>\n",
       "      <td>manual</td>\n",
       "      <td>3</td>\n",
       "      <td>150000</td>\n",
       "      <td>gasoline</td>\n",
       "      <td>bmw</td>\n",
       "      <td>no</td>\n",
       "    </tr>\n",
       "    <tr>\n",
       "      <td>233272</td>\n",
       "      <td>3200</td>\n",
       "      <td>sedan</td>\n",
       "      <td>2004</td>\n",
       "      <td>manual</td>\n",
       "      <td>225</td>\n",
       "      <td>150000</td>\n",
       "      <td>petrol</td>\n",
       "      <td>seat</td>\n",
       "      <td>yes</td>\n",
       "    </tr>\n",
       "    <tr>\n",
       "      <td>233273</td>\n",
       "      <td>1199</td>\n",
       "      <td>convertible</td>\n",
       "      <td>2000</td>\n",
       "      <td>auto</td>\n",
       "      <td>101</td>\n",
       "      <td>125000</td>\n",
       "      <td>petrol</td>\n",
       "      <td>smart</td>\n",
       "      <td>no</td>\n",
       "    </tr>\n",
       "    <tr>\n",
       "      <td>233274</td>\n",
       "      <td>9200</td>\n",
       "      <td>bus</td>\n",
       "      <td>1996</td>\n",
       "      <td>manual</td>\n",
       "      <td>102</td>\n",
       "      <td>150000</td>\n",
       "      <td>gasoline</td>\n",
       "      <td>volkswagen</td>\n",
       "      <td>no</td>\n",
       "    </tr>\n",
       "  </tbody>\n",
       "</table>\n",
       "<p>233275 rows × 9 columns</p>\n",
       "</div>"
      ],
      "text/plain": [
       "        Price  VehicleType  RegistrationYear Gearbox  Power  Kilometer  \\\n",
       "0        1500        small              2001  manual     75     150000   \n",
       "1        3600        small              2008  manual     69      90000   \n",
       "2         650        sedan              1995  manual    102     150000   \n",
       "3        2200  convertible              2004  manual    109     150000   \n",
       "4        2000        sedan              2004  manual    105     150000   \n",
       "...       ...          ...               ...     ...    ...        ...   \n",
       "233270   7900        sedan              2010  manual    140     150000   \n",
       "233271   3999        wagon              2005  manual      3     150000   \n",
       "233272   3200        sedan              2004  manual    225     150000   \n",
       "233273   1199  convertible              2000    auto    101     125000   \n",
       "233274   9200          bus              1996  manual    102     150000   \n",
       "\n",
       "        FuelType       Brand NotRepaired  \n",
       "0         petrol  volkswagen          no  \n",
       "1       gasoline       skoda          no  \n",
       "2         petrol         bmw         yes  \n",
       "3         petrol     peugeot          no  \n",
       "4         petrol       mazda          no  \n",
       "...          ...         ...         ...  \n",
       "233270  gasoline  volkswagen          no  \n",
       "233271  gasoline         bmw          no  \n",
       "233272    petrol        seat         yes  \n",
       "233273    petrol       smart          no  \n",
       "233274  gasoline  volkswagen          no  \n",
       "\n",
       "[233275 rows x 9 columns]"
      ]
     },
     "execution_count": 55,
     "metadata": {},
     "output_type": "execute_result"
    }
   ],
   "source": [
    "df_lgbm"
   ]
  },
  {
   "cell_type": "code",
   "execution_count": 56,
   "metadata": {},
   "outputs": [],
   "source": [
    "features = df_lgbm.drop('Price', axis = 1)\n",
    "target = df_lgbm['Price']"
   ]
  },
  {
   "cell_type": "code",
   "execution_count": 57,
   "metadata": {},
   "outputs": [],
   "source": [
    "features_train, features_valid, target_train, target_valid = train_test_split(features, target, test_size = 0.25, random_state = 12345)"
   ]
  },
  {
   "cell_type": "code",
   "execution_count": 58,
   "metadata": {},
   "outputs": [
    {
     "name": "stdout",
     "output_type": "stream",
     "text": [
      "Размеры тренировочной выборки:\n",
      "(174956, 8)\n",
      "(174956,)\n",
      "Размеры валидационной выборки:\n",
      "(58319, 8)\n",
      "(58319,)\n"
     ]
    }
   ],
   "source": [
    "print('Размеры тренировочной выборки:')\n",
    "print(features_train.shape)\n",
    "print(target_train.shape)\n",
    "\n",
    "print('Размеры валидационной выборки:')\n",
    "print(features_valid.shape)\n",
    "print(target_valid.shape)"
   ]
  },
  {
   "cell_type": "code",
   "execution_count": 59,
   "metadata": {},
   "outputs": [
    {
     "name": "stdout",
     "output_type": "stream",
     "text": [
      "<class 'pandas.core.frame.DataFrame'>\n",
      "RangeIndex: 233275 entries, 0 to 233274\n",
      "Data columns (total 9 columns):\n",
      "Price               233275 non-null int64\n",
      "VehicleType         233275 non-null category\n",
      "RegistrationYear    233275 non-null int64\n",
      "Gearbox             233275 non-null category\n",
      "Power               233275 non-null int64\n",
      "Kilometer           233275 non-null int64\n",
      "FuelType            233275 non-null category\n",
      "Brand               233275 non-null category\n",
      "NotRepaired         233275 non-null category\n",
      "dtypes: category(5), int64(4)\n",
      "memory usage: 8.2 MB\n"
     ]
    }
   ],
   "source": [
    "df_lgbm.info()"
   ]
  },
  {
   "cell_type": "markdown",
   "metadata": {},
   "source": [
    "Обучение"
   ]
  },
  {
   "cell_type": "code",
   "execution_count": 60,
   "metadata": {},
   "outputs": [],
   "source": [
    "parametrs = {'learning_rate': [0.01, 0.05, 0.1, 1],\n",
    "                'n_estimators': range(20, 100, 2)}"
   ]
  },
  {
   "cell_type": "code",
   "execution_count": 61,
   "metadata": {},
   "outputs": [
    {
     "name": "stdout",
     "output_type": "stream",
     "text": [
      "CPU times: user 2min 58s, sys: 723 ms, total: 2min 58s\n",
      "Wall time: 3min\n"
     ]
    }
   ],
   "source": [
    "%%time\n",
    "\n",
    "model4 = LGBMRegressor(random_state=12345)\n",
    "model4.fit(features_train, target_train)\n",
    "predictions4_train = model4.predict(features_train)"
   ]
  },
  {
   "cell_type": "code",
   "execution_count": 62,
   "metadata": {},
   "outputs": [
    {
     "name": "stdout",
     "output_type": "stream",
     "text": [
      "RMSE модели на обучающей выборке: 1627.9018596625062\n",
      "MAE модели на обучающей выборке: 1058.5468958316721\n"
     ]
    }
   ],
   "source": [
    "print('RMSE модели на обучающей выборке:', mean_squared_error(target_train, predictions4_train)**0.5)\n",
    "print('MAE модели на обучающей выборке:', mean_absolute_error(target_train, predictions4_train))"
   ]
  },
  {
   "cell_type": "code",
   "execution_count": 63,
   "metadata": {},
   "outputs": [
    {
     "name": "stdout",
     "output_type": "stream",
     "text": [
      "CPU times: user 1h 28min 59s, sys: 16.7 s, total: 1h 29min 15s\n",
      "Wall time: 1h 29min 56s\n"
     ]
    },
    {
     "data": {
      "text/plain": [
       "{'n_estimators': 90, 'learning_rate': 0.01}"
      ]
     },
     "execution_count": 63,
     "metadata": {},
     "output_type": "execute_result"
    }
   ],
   "source": [
    "%%time\n",
    "\n",
    "grid = RandomizedSearchCV(model4, parametrs, n_iter = 10, cv=3, scoring = scoring, verbose = 0, random_state = 12345)\n",
    "grid.fit(features_train, target_train)\n",
    "grid.best_params_"
   ]
  },
  {
   "cell_type": "markdown",
   "metadata": {},
   "source": [
    "OUT[]: {'n_estimators': 90, 'learning_rate': 0.01} - полтора часа))"
   ]
  },
  {
   "cell_type": "code",
   "execution_count": 64,
   "metadata": {},
   "outputs": [
    {
     "name": "stdout",
     "output_type": "stream",
     "text": [
      "CPU times: user 2min 40s, sys: 495 ms, total: 2min 41s\n",
      "Wall time: 2min 42s\n"
     ]
    },
    {
     "data": {
      "text/plain": [
       "LGBMRegressor(boosting_type='gbdt', class_weight=None, colsample_bytree=1.0,\n",
       "              importance_type='split', learning_rate=0.01, max_depth=-1,\n",
       "              min_child_samples=20, min_child_weight=0.001, min_split_gain=0.0,\n",
       "              n_estimators=90, n_jobs=-1, num_leaves=31, objective=None,\n",
       "              random_state=12345, reg_alpha=0.0, reg_lambda=0.0, silent=True,\n",
       "              subsample=1.0, subsample_for_bin=200000, subsample_freq=0)"
      ]
     },
     "execution_count": 64,
     "metadata": {},
     "output_type": "execute_result"
    }
   ],
   "source": [
    "%%time\n",
    "\n",
    "model5 = LGBMRegressor(random_state=12345, learning_rate = 0.01, n_estimators = 90)\n",
    "model5.fit(features_train, target_train)"
   ]
  },
  {
   "cell_type": "code",
   "execution_count": 65,
   "metadata": {},
   "outputs": [
    {
     "name": "stdout",
     "output_type": "stream",
     "text": [
      "CPU times: user 1.51 s, sys: 0 ns, total: 1.51 s\n",
      "Wall time: 1.52 s\n"
     ]
    }
   ],
   "source": [
    "%%time\n",
    "\n",
    "predictions5_train = model5.predict(features_train)"
   ]
  },
  {
   "cell_type": "code",
   "execution_count": 66,
   "metadata": {},
   "outputs": [
    {
     "name": "stdout",
     "output_type": "stream",
     "text": [
      "RMSE модели на обучающей выборке: 2745.1796975764805\n",
      "MAE модели на обучающей выборке: 2077.479542378132\n"
     ]
    }
   ],
   "source": [
    "print('RMSE модели на обучающей выборке:', mean_squared_error(target_train, predictions5_train)**0.5)\n",
    "print('MAE модели на обучающей выборке:', mean_absolute_error(target_train, predictions5_train))"
   ]
  },
  {
   "cell_type": "markdown",
   "metadata": {},
   "source": [
    "## Анализ моделей"
   ]
  },
  {
   "cell_type": "markdown",
   "metadata": {},
   "source": [
    "**Параметры RMSE, MAE и скорость обучения обучения каждой из моделей**"
   ]
  },
  {
   "cell_type": "code",
   "execution_count": 67,
   "metadata": {},
   "outputs": [
    {
     "data": {
      "text/html": [
       "<div>\n",
       "<style scoped>\n",
       "    .dataframe tbody tr th:only-of-type {\n",
       "        vertical-align: middle;\n",
       "    }\n",
       "\n",
       "    .dataframe tbody tr th {\n",
       "        vertical-align: top;\n",
       "    }\n",
       "\n",
       "    .dataframe thead th {\n",
       "        text-align: right;\n",
       "    }\n",
       "</style>\n",
       "<table border=\"1\" class=\"dataframe\">\n",
       "  <thead>\n",
       "    <tr style=\"text-align: right;\">\n",
       "      <th></th>\n",
       "      <th>RMSE</th>\n",
       "      <th>MAE</th>\n",
       "      <th>Скорость обучения модели (сек)</th>\n",
       "      <th>Скорость предсказания модели (сек)</th>\n",
       "    </tr>\n",
       "  </thead>\n",
       "  <tbody>\n",
       "    <tr>\n",
       "      <td>LinearRegression</td>\n",
       "      <td>2913.283642440045</td>\n",
       "      <td>2057.239489208692</td>\n",
       "      <td>2.84</td>\n",
       "      <td>0.0442</td>\n",
       "    </tr>\n",
       "    <tr>\n",
       "      <td>RandomForestRegressor</td>\n",
       "      <td>2391.805970823164</td>\n",
       "      <td>1660.4678706006714</td>\n",
       "      <td>0.418</td>\n",
       "      <td>0.047</td>\n",
       "    </tr>\n",
       "    <tr>\n",
       "      <td>LGBMRegressor</td>\n",
       "      <td>2745.1796975764805</td>\n",
       "      <td>2077.479542378132</td>\n",
       "      <td>162</td>\n",
       "      <td>1.6</td>\n",
       "    </tr>\n",
       "  </tbody>\n",
       "</table>\n",
       "</div>"
      ],
      "text/plain": [
       "                                     RMSE                 MAE  \\\n",
       "LinearRegression        2913.283642440045   2057.239489208692   \n",
       "RandomForestRegressor   2391.805970823164  1660.4678706006714   \n",
       "LGBMRegressor          2745.1796975764805   2077.479542378132   \n",
       "\n",
       "                      Скорость обучения модели (сек)  \\\n",
       "LinearRegression                                2.84   \n",
       "RandomForestRegressor                          0.418   \n",
       "LGBMRegressor                                    162   \n",
       "\n",
       "                      Скорость предсказания модели (сек)  \n",
       "LinearRegression                                  0.0442  \n",
       "RandomForestRegressor                              0.047  \n",
       "LGBMRegressor                                        1.6  "
      ]
     },
     "metadata": {},
     "output_type": "display_data"
    }
   ],
   "source": [
    "display(pd.DataFrame(np.array([[mean_squared_error(target_train, predictions1_train)**0.5,  mean_absolute_error(target_train, predictions1_train), '2.84', '0.0442'],\n",
    "                           [mean_squared_error(target_train, predictions3_train)**0.5, mean_absolute_error(target_train, predictions3_train), '0.418', '0.047'],\n",
    "                           [mean_squared_error(target_train, predictions5_train)**0.5, mean_absolute_error(target_train, predictions5_train), '162', '1.6']]),\n",
    "                    columns = ['RMSE', 'MAE', 'Скорость обучения модели (сек)', 'Скорость предсказания модели (сек)'], index = ['LinearRegression', 'RandomForestRegressor', 'LGBMRegressor']))"
   ]
  },
  {
   "cell_type": "markdown",
   "metadata": {},
   "source": [
    "**Вывод**"
   ]
  },
  {
   "cell_type": "markdown",
   "metadata": {},
   "source": [
    "1) Подбор гиперпараметров проводился методами RandomizedSearchCV и GridSearshCV\n",
    "\n",
    "2) Лучшие результаты показала модель RandomForestRegressor с самой высокой скоростью обучения, скоростью предсказания и меньшей MAE\n",
    "\n",
    "3) Есть прямая зависимость между качеством модели и скоростью ее обучения: чем выше качество, тем выше скорость обучения!"
   ]
  },
  {
   "cell_type": "markdown",
   "metadata": {},
   "source": [
    "## Чек-лист проверки"
   ]
  },
  {
   "cell_type": "markdown",
   "metadata": {},
   "source": [
    "Поставьте 'x' в выполненных пунктах. Далее нажмите Shift+Enter."
   ]
  },
  {
   "cell_type": "markdown",
   "metadata": {},
   "source": [
    "- [x]  Jupyter Notebook открыт\n",
    "- [ ]  Весь код выполняется без ошибок\n",
    "- [ ]  Ячейки с кодом расположены в порядке исполнения\n",
    "- [ ]  Выполнена загрузка и подготовка данных\n",
    "- [ ]  Выполнено обучение моделей\n",
    "- [ ]  Есть анализ скорости работы и качества моделей"
   ]
  }
 ],
 "metadata": {
  "ExecuteTimeLog": [
   {
    "duration": 801,
    "start_time": "2021-11-21T11:14:35.324Z"
   },
   {
    "duration": 1094,
    "start_time": "2021-11-21T11:14:55.702Z"
   },
   {
    "duration": 31,
    "start_time": "2021-11-21T11:15:05.626Z"
   },
   {
    "duration": 156,
    "start_time": "2021-11-21T11:15:30.547Z"
   },
   {
    "duration": 3,
    "start_time": "2021-11-21T11:57:35.708Z"
   },
   {
    "duration": 103,
    "start_time": "2021-11-21T11:57:39.742Z"
   },
   {
    "duration": 13,
    "start_time": "2021-11-21T11:57:53.024Z"
   },
   {
    "duration": 425,
    "start_time": "2021-11-21T11:58:10.294Z"
   },
   {
    "duration": 382,
    "start_time": "2021-11-21T11:58:19.304Z"
   },
   {
    "duration": 89,
    "start_time": "2021-11-21T11:59:21.570Z"
   },
   {
    "duration": 233,
    "start_time": "2021-11-21T11:59:39.847Z"
   },
   {
    "duration": 196,
    "start_time": "2021-11-21T12:01:29.867Z"
   },
   {
    "duration": 46,
    "start_time": "2021-11-21T12:02:40.050Z"
   },
   {
    "duration": 61,
    "start_time": "2021-11-21T12:02:51.314Z"
   },
   {
    "duration": 21,
    "start_time": "2021-11-21T12:17:10.999Z"
   },
   {
    "duration": 35,
    "start_time": "2021-11-21T12:26:43.806Z"
   },
   {
    "duration": 34,
    "start_time": "2021-11-21T12:30:19.409Z"
   },
   {
    "duration": 12,
    "start_time": "2021-11-21T12:31:05.042Z"
   },
   {
    "duration": 410,
    "start_time": "2021-11-21T17:05:56.451Z"
   },
   {
    "duration": 815,
    "start_time": "2021-11-21T17:06:03.588Z"
   },
   {
    "duration": 1179,
    "start_time": "2021-11-21T17:06:04.407Z"
   },
   {
    "duration": 34,
    "start_time": "2021-11-21T17:06:05.589Z"
   },
   {
    "duration": 180,
    "start_time": "2021-11-21T17:06:05.625Z"
   },
   {
    "duration": 229,
    "start_time": "2021-11-21T17:06:05.807Z"
   },
   {
    "duration": 21,
    "start_time": "2021-11-21T17:06:06.039Z"
   },
   {
    "duration": 37,
    "start_time": "2021-11-21T17:06:06.063Z"
   },
   {
    "duration": 41,
    "start_time": "2021-11-21T17:06:06.104Z"
   },
   {
    "duration": 33,
    "start_time": "2021-11-21T17:06:06.147Z"
   },
   {
    "duration": 26,
    "start_time": "2021-11-21T17:06:10.981Z"
   },
   {
    "duration": 61,
    "start_time": "2021-11-21T17:06:52.064Z"
   },
   {
    "duration": 16,
    "start_time": "2021-11-21T17:07:08.204Z"
   },
   {
    "duration": 12,
    "start_time": "2021-11-21T17:08:39.555Z"
   },
   {
    "duration": 57,
    "start_time": "2021-11-21T17:11:10.219Z"
   },
   {
    "duration": 36,
    "start_time": "2021-11-21T17:11:17.870Z"
   },
   {
    "duration": 56,
    "start_time": "2021-11-21T17:11:25.350Z"
   },
   {
    "duration": 35,
    "start_time": "2021-11-21T17:11:31.754Z"
   },
   {
    "duration": 33,
    "start_time": "2021-11-21T17:14:28.247Z"
   },
   {
    "duration": 35,
    "start_time": "2021-11-21T17:15:42.257Z"
   },
   {
    "duration": 17,
    "start_time": "2021-11-21T17:16:32.529Z"
   },
   {
    "duration": 12,
    "start_time": "2021-11-21T17:16:42.488Z"
   },
   {
    "duration": 11,
    "start_time": "2021-11-21T17:16:52.641Z"
   },
   {
    "duration": 40,
    "start_time": "2021-11-21T17:17:22.233Z"
   },
   {
    "duration": 439,
    "start_time": "2021-11-21T17:18:50.913Z"
   },
   {
    "duration": 755,
    "start_time": "2021-11-21T17:18:56.520Z"
   },
   {
    "duration": 1162,
    "start_time": "2021-11-21T17:18:57.278Z"
   },
   {
    "duration": 29,
    "start_time": "2021-11-21T17:18:58.443Z"
   },
   {
    "duration": 176,
    "start_time": "2021-11-21T17:18:58.475Z"
   },
   {
    "duration": 217,
    "start_time": "2021-11-21T17:18:58.653Z"
   },
   {
    "duration": 30,
    "start_time": "2021-11-21T17:18:58.872Z"
   },
   {
    "duration": 43,
    "start_time": "2021-11-21T17:18:58.905Z"
   },
   {
    "duration": 30,
    "start_time": "2021-11-21T17:18:58.952Z"
   },
   {
    "duration": 37,
    "start_time": "2021-11-21T17:18:58.985Z"
   },
   {
    "duration": 17,
    "start_time": "2021-11-21T17:18:59.025Z"
   },
   {
    "duration": 33,
    "start_time": "2021-11-21T17:18:59.044Z"
   },
   {
    "duration": 49,
    "start_time": "2021-11-21T17:18:59.080Z"
   },
   {
    "duration": 48,
    "start_time": "2021-11-21T17:18:59.131Z"
   },
   {
    "duration": 24,
    "start_time": "2021-11-21T17:18:59.181Z"
   },
   {
    "duration": 44,
    "start_time": "2021-11-21T17:18:59.207Z"
   },
   {
    "duration": 21,
    "start_time": "2021-11-21T17:18:59.254Z"
   },
   {
    "duration": 12,
    "start_time": "2021-11-21T17:19:12.803Z"
   },
   {
    "duration": 13,
    "start_time": "2021-11-21T17:19:25.525Z"
   },
   {
    "duration": 34,
    "start_time": "2021-11-21T17:20:32.133Z"
   },
   {
    "duration": 111,
    "start_time": "2021-11-21T17:21:36.656Z"
   },
   {
    "duration": 34,
    "start_time": "2021-11-21T17:21:39.214Z"
   },
   {
    "duration": 33,
    "start_time": "2021-11-21T17:23:38.439Z"
   },
   {
    "duration": 8746,
    "start_time": "2021-11-21T17:26:04.034Z"
   },
   {
    "duration": 9234,
    "start_time": "2021-11-21T17:28:08.567Z"
   },
   {
    "duration": 48,
    "start_time": "2021-11-21T17:28:27.391Z"
   },
   {
    "duration": 125,
    "start_time": "2021-11-21T17:29:42.682Z"
   },
   {
    "duration": 170,
    "start_time": "2021-11-21T17:30:49.067Z"
   },
   {
    "duration": 78,
    "start_time": "2021-11-21T17:30:55.552Z"
   },
   {
    "duration": 28,
    "start_time": "2021-11-21T17:31:03.807Z"
   },
   {
    "duration": 78,
    "start_time": "2021-11-21T17:31:23.547Z"
   },
   {
    "duration": 80,
    "start_time": "2021-11-21T17:37:35.710Z"
   },
   {
    "duration": 6,
    "start_time": "2021-11-21T17:37:45.687Z"
   },
   {
    "duration": 5,
    "start_time": "2021-11-21T17:37:59.475Z"
   },
   {
    "duration": 75,
    "start_time": "2021-11-21T17:38:01.181Z"
   },
   {
    "duration": 23,
    "start_time": "2021-11-21T17:38:01.627Z"
   },
   {
    "duration": 68,
    "start_time": "2021-11-21T17:38:32.176Z"
   },
   {
    "duration": 802,
    "start_time": "2021-11-21T17:38:51.872Z"
   },
   {
    "duration": 1158,
    "start_time": "2021-11-21T17:38:52.677Z"
   },
   {
    "duration": 30,
    "start_time": "2021-11-21T17:38:53.838Z"
   },
   {
    "duration": 183,
    "start_time": "2021-11-21T17:38:53.871Z"
   },
   {
    "duration": 211,
    "start_time": "2021-11-21T17:38:54.057Z"
   },
   {
    "duration": 30,
    "start_time": "2021-11-21T17:38:54.271Z"
   },
   {
    "duration": 35,
    "start_time": "2021-11-21T17:38:54.304Z"
   },
   {
    "duration": 25,
    "start_time": "2021-11-21T17:38:54.341Z"
   },
   {
    "duration": 42,
    "start_time": "2021-11-21T17:38:54.370Z"
   },
   {
    "duration": 12,
    "start_time": "2021-11-21T17:38:54.414Z"
   },
   {
    "duration": 32,
    "start_time": "2021-11-21T17:38:54.429Z"
   },
   {
    "duration": 60,
    "start_time": "2021-11-21T17:38:54.464Z"
   },
   {
    "duration": 41,
    "start_time": "2021-11-21T17:38:54.526Z"
   },
   {
    "duration": 96,
    "start_time": "2021-11-21T17:38:54.570Z"
   },
   {
    "duration": 101,
    "start_time": "2021-11-21T17:38:54.669Z"
   },
   {
    "duration": 21,
    "start_time": "2021-11-21T17:38:54.772Z"
   },
   {
    "duration": 45,
    "start_time": "2021-11-21T17:38:54.800Z"
   },
   {
    "duration": 34,
    "start_time": "2021-11-21T17:38:54.847Z"
   },
   {
    "duration": 34,
    "start_time": "2021-11-21T17:38:54.900Z"
   },
   {
    "duration": 43,
    "start_time": "2021-11-21T17:38:54.936Z"
   },
   {
    "duration": 100,
    "start_time": "2021-11-21T17:38:54.981Z"
   },
   {
    "duration": 82,
    "start_time": "2021-11-21T17:38:55.084Z"
   },
   {
    "duration": 36,
    "start_time": "2021-11-21T17:38:55.169Z"
   },
   {
    "duration": 591,
    "start_time": "2021-11-21T17:41:50.268Z"
   },
   {
    "duration": 4,
    "start_time": "2021-11-21T17:43:59.843Z"
   },
   {
    "duration": 3,
    "start_time": "2021-11-21T17:45:12.937Z"
   },
   {
    "duration": 99,
    "start_time": "2021-11-21T17:45:40.581Z"
   },
   {
    "duration": 539,
    "start_time": "2021-11-21T17:47:13.280Z"
   },
   {
    "duration": 103,
    "start_time": "2021-11-21T17:47:21.067Z"
   },
   {
    "duration": 22,
    "start_time": "2021-11-21T17:47:22.646Z"
   },
   {
    "duration": 103,
    "start_time": "2021-11-21T17:48:34.820Z"
   },
   {
    "duration": 21,
    "start_time": "2021-11-21T17:48:35.798Z"
   },
   {
    "duration": 40,
    "start_time": "2021-11-21T17:50:06.277Z"
   },
   {
    "duration": 1319,
    "start_time": "2021-11-21T17:51:15.603Z"
   },
   {
    "duration": 1260,
    "start_time": "2021-11-21T17:51:16.925Z"
   },
   {
    "duration": 36,
    "start_time": "2021-11-21T17:51:18.189Z"
   },
   {
    "duration": 182,
    "start_time": "2021-11-21T17:51:18.229Z"
   },
   {
    "duration": 213,
    "start_time": "2021-11-21T17:51:18.413Z"
   },
   {
    "duration": 21,
    "start_time": "2021-11-21T17:51:18.628Z"
   },
   {
    "duration": 54,
    "start_time": "2021-11-21T17:51:18.651Z"
   },
   {
    "duration": 26,
    "start_time": "2021-11-21T17:51:18.707Z"
   },
   {
    "duration": 17,
    "start_time": "2021-11-21T17:51:18.737Z"
   },
   {
    "duration": 12,
    "start_time": "2021-11-21T17:51:18.757Z"
   },
   {
    "duration": 59,
    "start_time": "2021-11-21T17:51:18.771Z"
   },
   {
    "duration": 11,
    "start_time": "2021-11-21T17:51:18.832Z"
   },
   {
    "duration": 60,
    "start_time": "2021-11-21T17:51:18.846Z"
   },
   {
    "duration": 32,
    "start_time": "2021-11-21T17:51:18.908Z"
   },
   {
    "duration": 120,
    "start_time": "2021-11-21T17:51:18.942Z"
   },
   {
    "duration": 37,
    "start_time": "2021-11-21T17:51:19.065Z"
   },
   {
    "duration": 25,
    "start_time": "2021-11-21T17:51:19.104Z"
   },
   {
    "duration": 36,
    "start_time": "2021-11-21T17:51:19.131Z"
   },
   {
    "duration": 106,
    "start_time": "2021-11-21T17:51:19.170Z"
   },
   {
    "duration": 83,
    "start_time": "2021-11-21T17:51:19.280Z"
   },
   {
    "duration": 54,
    "start_time": "2021-11-21T17:51:19.366Z"
   },
   {
    "duration": 39,
    "start_time": "2021-11-21T17:51:19.423Z"
   },
   {
    "duration": 52,
    "start_time": "2021-11-21T17:51:19.464Z"
   },
   {
    "duration": 87,
    "start_time": "2021-11-21T17:51:19.519Z"
   },
   {
    "duration": 79,
    "start_time": "2021-11-21T17:51:19.608Z"
   },
   {
    "duration": 32,
    "start_time": "2021-11-21T17:51:19.690Z"
   },
   {
    "duration": 27,
    "start_time": "2021-11-21T17:52:14.088Z"
   },
   {
    "duration": 23,
    "start_time": "2021-11-21T17:53:11.585Z"
   },
   {
    "duration": 614,
    "start_time": "2021-11-21T17:53:14.774Z"
   },
   {
    "duration": 300,
    "start_time": "2021-11-21T17:53:22.245Z"
   },
   {
    "duration": 40,
    "start_time": "2021-11-21T17:53:23.588Z"
   },
   {
    "duration": 1336,
    "start_time": "2021-11-21T17:53:48.908Z"
   },
   {
    "duration": 1311,
    "start_time": "2021-11-21T17:53:50.247Z"
   },
   {
    "duration": 40,
    "start_time": "2021-11-21T17:53:51.562Z"
   },
   {
    "duration": 182,
    "start_time": "2021-11-21T17:53:51.604Z"
   },
   {
    "duration": 213,
    "start_time": "2021-11-21T17:53:51.788Z"
   },
   {
    "duration": 21,
    "start_time": "2021-11-21T17:53:52.004Z"
   },
   {
    "duration": 39,
    "start_time": "2021-11-21T17:53:52.028Z"
   },
   {
    "duration": 28,
    "start_time": "2021-11-21T17:53:52.099Z"
   },
   {
    "duration": 17,
    "start_time": "2021-11-21T17:53:52.131Z"
   },
   {
    "duration": 15,
    "start_time": "2021-11-21T17:53:52.151Z"
   },
   {
    "duration": 36,
    "start_time": "2021-11-21T17:53:52.201Z"
   },
   {
    "duration": 13,
    "start_time": "2021-11-21T17:53:52.240Z"
   },
   {
    "duration": 71,
    "start_time": "2021-11-21T17:53:52.256Z"
   },
   {
    "duration": 36,
    "start_time": "2021-11-21T17:53:52.330Z"
   },
   {
    "duration": 357,
    "start_time": "2021-11-21T17:53:52.369Z"
   },
   {
    "duration": 50,
    "start_time": "2021-11-21T17:53:52.729Z"
   },
   {
    "duration": 59,
    "start_time": "2021-11-21T17:53:52.782Z"
   },
   {
    "duration": 125,
    "start_time": "2021-11-21T17:53:52.844Z"
   },
   {
    "duration": 107,
    "start_time": "2021-11-21T17:53:52.972Z"
   },
   {
    "duration": 46,
    "start_time": "2021-11-21T17:53:53.082Z"
   },
   {
    "duration": 47,
    "start_time": "2021-11-21T17:53:53.131Z"
   },
   {
    "duration": 54,
    "start_time": "2021-11-21T17:53:53.181Z"
   },
   {
    "duration": 116,
    "start_time": "2021-11-21T17:53:53.240Z"
   },
   {
    "duration": 102,
    "start_time": "2021-11-21T17:53:53.358Z"
   },
   {
    "duration": 99,
    "start_time": "2021-11-21T17:53:53.462Z"
   },
   {
    "duration": 1232,
    "start_time": "2021-11-21T17:54:11.335Z"
   },
   {
    "duration": 1345,
    "start_time": "2021-11-21T17:54:12.570Z"
   },
   {
    "duration": 44,
    "start_time": "2021-11-21T17:54:13.919Z"
   },
   {
    "duration": 176,
    "start_time": "2021-11-21T17:54:13.966Z"
   },
   {
    "duration": 216,
    "start_time": "2021-11-21T17:54:14.144Z"
   },
   {
    "duration": 21,
    "start_time": "2021-11-21T17:54:14.362Z"
   },
   {
    "duration": 42,
    "start_time": "2021-11-21T17:54:14.385Z"
   },
   {
    "duration": 29,
    "start_time": "2021-11-21T17:54:14.430Z"
   },
   {
    "duration": 43,
    "start_time": "2021-11-21T17:54:14.462Z"
   },
   {
    "duration": 12,
    "start_time": "2021-11-21T17:54:14.508Z"
   },
   {
    "duration": 32,
    "start_time": "2021-11-21T17:54:14.523Z"
   },
   {
    "duration": 43,
    "start_time": "2021-11-21T17:54:14.557Z"
   },
   {
    "duration": 38,
    "start_time": "2021-11-21T17:54:14.603Z"
   },
   {
    "duration": 32,
    "start_time": "2021-11-21T17:54:14.643Z"
   },
   {
    "duration": 17577,
    "start_time": "2021-11-21T17:54:14.678Z"
   },
   {
    "duration": -201,
    "start_time": "2021-11-21T17:54:32.460Z"
   },
   {
    "duration": -200,
    "start_time": "2021-11-21T17:54:32.461Z"
   },
   {
    "duration": -199,
    "start_time": "2021-11-21T17:54:32.463Z"
   },
   {
    "duration": -202,
    "start_time": "2021-11-21T17:54:32.468Z"
   },
   {
    "duration": -202,
    "start_time": "2021-11-21T17:54:32.470Z"
   },
   {
    "duration": -204,
    "start_time": "2021-11-21T17:54:32.474Z"
   },
   {
    "duration": -203,
    "start_time": "2021-11-21T17:54:32.475Z"
   },
   {
    "duration": -203,
    "start_time": "2021-11-21T17:54:32.476Z"
   },
   {
    "duration": -202,
    "start_time": "2021-11-21T17:54:32.477Z"
   },
   {
    "duration": -205,
    "start_time": "2021-11-21T17:54:32.481Z"
   },
   {
    "duration": 36,
    "start_time": "2021-11-21T17:55:32.784Z"
   },
   {
    "duration": 1235,
    "start_time": "2021-11-21T17:55:57.443Z"
   },
   {
    "duration": 1341,
    "start_time": "2021-11-21T17:55:58.680Z"
   },
   {
    "duration": 31,
    "start_time": "2021-11-21T17:56:00.024Z"
   },
   {
    "duration": 192,
    "start_time": "2021-11-21T17:56:00.058Z"
   },
   {
    "duration": 235,
    "start_time": "2021-11-21T17:56:00.253Z"
   },
   {
    "duration": 21,
    "start_time": "2021-11-21T17:56:00.491Z"
   },
   {
    "duration": 51,
    "start_time": "2021-11-21T17:56:00.515Z"
   },
   {
    "duration": 44,
    "start_time": "2021-11-21T17:56:00.570Z"
   },
   {
    "duration": 32,
    "start_time": "2021-11-21T17:56:00.617Z"
   },
   {
    "duration": 32,
    "start_time": "2021-11-21T17:56:00.651Z"
   },
   {
    "duration": 36,
    "start_time": "2021-11-21T17:56:00.685Z"
   },
   {
    "duration": 12,
    "start_time": "2021-11-21T17:56:00.724Z"
   },
   {
    "duration": 45,
    "start_time": "2021-11-21T17:56:00.738Z"
   },
   {
    "duration": 39,
    "start_time": "2021-11-21T17:56:00.786Z"
   },
   {
    "duration": 46,
    "start_time": "2021-11-21T17:56:00.828Z"
   },
   {
    "duration": 40,
    "start_time": "2021-11-21T17:56:00.877Z"
   },
   {
    "duration": 157,
    "start_time": "2021-11-21T17:56:00.920Z"
   },
   {
    "duration": 51,
    "start_time": "2021-11-21T17:56:01.079Z"
   },
   {
    "duration": 34,
    "start_time": "2021-11-21T17:56:01.133Z"
   },
   {
    "duration": 96,
    "start_time": "2021-11-21T17:56:01.169Z"
   },
   {
    "duration": 83,
    "start_time": "2021-11-21T17:56:01.268Z"
   },
   {
    "duration": 50,
    "start_time": "2021-11-21T17:56:01.353Z"
   },
   {
    "duration": 64,
    "start_time": "2021-11-21T17:56:01.407Z"
   },
   {
    "duration": 51,
    "start_time": "2021-11-21T17:56:01.474Z"
   },
   {
    "duration": 87,
    "start_time": "2021-11-21T17:56:01.527Z"
   },
   {
    "duration": 72,
    "start_time": "2021-11-21T17:56:01.617Z"
   },
   {
    "duration": 99,
    "start_time": "2021-11-21T17:56:01.691Z"
   },
   {
    "duration": 141,
    "start_time": "2021-11-21T17:57:00.550Z"
   },
   {
    "duration": 218,
    "start_time": "2021-11-21T17:57:01.327Z"
   },
   {
    "duration": 383,
    "start_time": "2021-11-21T17:57:48.424Z"
   },
   {
    "duration": 196,
    "start_time": "2021-11-21T17:57:56.129Z"
   },
   {
    "duration": 36,
    "start_time": "2021-11-21T17:59:17.847Z"
   },
   {
    "duration": 159,
    "start_time": "2021-11-21T18:00:46.046Z"
   },
   {
    "duration": 33,
    "start_time": "2021-11-21T18:00:47.103Z"
   },
   {
    "duration": 1389,
    "start_time": "2021-11-21T18:01:00.680Z"
   },
   {
    "duration": 1400,
    "start_time": "2021-11-21T18:01:02.072Z"
   },
   {
    "duration": 35,
    "start_time": "2021-11-21T18:01:03.476Z"
   },
   {
    "duration": 174,
    "start_time": "2021-11-21T18:01:03.514Z"
   },
   {
    "duration": 224,
    "start_time": "2021-11-21T18:01:03.691Z"
   },
   {
    "duration": 22,
    "start_time": "2021-11-21T18:01:03.918Z"
   },
   {
    "duration": 56,
    "start_time": "2021-11-21T18:01:03.943Z"
   },
   {
    "duration": 28,
    "start_time": "2021-11-21T18:01:04.002Z"
   },
   {
    "duration": 17,
    "start_time": "2021-11-21T18:01:04.034Z"
   },
   {
    "duration": 16,
    "start_time": "2021-11-21T18:01:04.054Z"
   },
   {
    "duration": 35,
    "start_time": "2021-11-21T18:01:04.102Z"
   },
   {
    "duration": 11,
    "start_time": "2021-11-21T18:01:04.140Z"
   },
   {
    "duration": 70,
    "start_time": "2021-11-21T18:01:04.153Z"
   },
   {
    "duration": 30,
    "start_time": "2021-11-21T18:01:04.225Z"
   },
   {
    "duration": 16,
    "start_time": "2021-11-21T18:01:04.258Z"
   },
   {
    "duration": 38,
    "start_time": "2021-11-21T18:01:04.300Z"
   },
   {
    "duration": 164,
    "start_time": "2021-11-21T18:01:04.340Z"
   },
   {
    "duration": 37,
    "start_time": "2021-11-21T18:01:04.507Z"
   },
   {
    "duration": 33,
    "start_time": "2021-11-21T18:01:04.546Z"
   },
   {
    "duration": 81,
    "start_time": "2021-11-21T18:01:04.601Z"
   },
   {
    "duration": 70,
    "start_time": "2021-11-21T18:01:04.700Z"
   },
   {
    "duration": 51,
    "start_time": "2021-11-21T18:01:04.772Z"
   },
   {
    "duration": 178,
    "start_time": "2021-11-21T18:01:04.825Z"
   },
   {
    "duration": 253,
    "start_time": "2021-11-21T18:01:05.005Z"
   },
   {
    "duration": 46,
    "start_time": "2021-11-21T18:01:05.261Z"
   },
   {
    "duration": 434,
    "start_time": "2021-11-21T18:01:05.310Z"
   },
   {
    "duration": 195,
    "start_time": "2021-11-21T18:01:05.751Z"
   },
   {
    "duration": 31,
    "start_time": "2021-11-21T18:01:05.949Z"
   },
   {
    "duration": 95,
    "start_time": "2021-11-21T18:01:05.983Z"
   },
   {
    "duration": 79,
    "start_time": "2021-11-21T18:01:06.081Z"
   },
   {
    "duration": 169,
    "start_time": "2021-11-21T18:01:06.163Z"
   },
   {
    "duration": 34,
    "start_time": "2021-11-21T18:01:06.335Z"
   },
   {
    "duration": 68,
    "start_time": "2021-11-21T18:01:06.371Z"
   },
   {
    "duration": 495,
    "start_time": "2021-11-21T18:01:40.299Z"
   },
   {
    "duration": 1441,
    "start_time": "2021-11-21T18:02:24.037Z"
   },
   {
    "duration": 1205,
    "start_time": "2021-11-21T18:02:25.481Z"
   },
   {
    "duration": 32,
    "start_time": "2021-11-21T18:02:26.689Z"
   },
   {
    "duration": 179,
    "start_time": "2021-11-21T18:02:26.724Z"
   },
   {
    "duration": 226,
    "start_time": "2021-11-21T18:02:26.906Z"
   },
   {
    "duration": 21,
    "start_time": "2021-11-21T18:02:27.135Z"
   },
   {
    "duration": 50,
    "start_time": "2021-11-21T18:02:27.159Z"
   },
   {
    "duration": 24,
    "start_time": "2021-11-21T18:02:27.213Z"
   },
   {
    "duration": 18,
    "start_time": "2021-11-21T18:02:27.240Z"
   },
   {
    "duration": 41,
    "start_time": "2021-11-21T18:02:27.261Z"
   },
   {
    "duration": 33,
    "start_time": "2021-11-21T18:02:27.304Z"
   },
   {
    "duration": 12,
    "start_time": "2021-11-21T18:02:27.340Z"
   },
   {
    "duration": 70,
    "start_time": "2021-11-21T18:02:27.354Z"
   },
   {
    "duration": 30,
    "start_time": "2021-11-21T18:02:27.426Z"
   },
   {
    "duration": 16,
    "start_time": "2021-11-21T18:02:27.459Z"
   },
   {
    "duration": 54,
    "start_time": "2021-11-21T18:02:27.477Z"
   },
   {
    "duration": 151,
    "start_time": "2021-11-21T18:02:27.533Z"
   },
   {
    "duration": 42,
    "start_time": "2021-11-21T18:02:27.686Z"
   },
   {
    "duration": 32,
    "start_time": "2021-11-21T18:02:27.730Z"
   },
   {
    "duration": 103,
    "start_time": "2021-11-21T18:02:27.765Z"
   },
   {
    "duration": 94,
    "start_time": "2021-11-21T18:02:27.870Z"
   },
   {
    "duration": 48,
    "start_time": "2021-11-21T18:02:27.967Z"
   },
   {
    "duration": 181,
    "start_time": "2021-11-21T18:02:28.018Z"
   },
   {
    "duration": 253,
    "start_time": "2021-11-21T18:02:28.201Z"
   },
   {
    "duration": 44,
    "start_time": "2021-11-21T18:02:28.456Z"
   },
   {
    "duration": 388,
    "start_time": "2021-11-21T18:02:28.505Z"
   },
   {
    "duration": 193,
    "start_time": "2021-11-21T18:02:28.896Z"
   },
   {
    "duration": 40,
    "start_time": "2021-11-21T18:02:29.091Z"
   },
   {
    "duration": 90,
    "start_time": "2021-11-21T18:02:29.134Z"
   },
   {
    "duration": 75,
    "start_time": "2021-11-21T18:02:29.227Z"
   },
   {
    "duration": 172,
    "start_time": "2021-11-21T18:02:29.305Z"
   },
   {
    "duration": 38,
    "start_time": "2021-11-21T18:02:29.479Z"
   },
   {
    "duration": 52,
    "start_time": "2021-11-21T18:02:29.520Z"
   },
   {
    "duration": 175,
    "start_time": "2021-11-21T18:02:29.574Z"
   },
   {
    "duration": 4,
    "start_time": "2021-11-21T18:02:49.362Z"
   },
   {
    "duration": 1479,
    "start_time": "2021-11-21T18:02:49.369Z"
   },
   {
    "duration": 1153,
    "start_time": "2021-11-21T18:02:50.854Z"
   },
   {
    "duration": 32,
    "start_time": "2021-11-21T18:02:52.010Z"
   },
   {
    "duration": 180,
    "start_time": "2021-11-21T18:02:52.045Z"
   },
   {
    "duration": 219,
    "start_time": "2021-11-21T18:02:52.230Z"
   },
   {
    "duration": 19,
    "start_time": "2021-11-21T18:02:52.452Z"
   },
   {
    "duration": 50,
    "start_time": "2021-11-21T18:02:52.474Z"
   },
   {
    "duration": 33,
    "start_time": "2021-11-21T18:02:52.527Z"
   },
   {
    "duration": 17,
    "start_time": "2021-11-21T18:02:52.563Z"
   },
   {
    "duration": 26,
    "start_time": "2021-11-21T18:02:52.583Z"
   },
   {
    "duration": 32,
    "start_time": "2021-11-21T18:02:52.612Z"
   },
   {
    "duration": 13,
    "start_time": "2021-11-21T18:02:52.647Z"
   },
   {
    "duration": 67,
    "start_time": "2021-11-21T18:02:52.662Z"
   },
   {
    "duration": 33,
    "start_time": "2021-11-21T18:02:52.732Z"
   },
   {
    "duration": 37,
    "start_time": "2021-11-21T18:02:52.768Z"
   },
   {
    "duration": 40,
    "start_time": "2021-11-21T18:02:52.808Z"
   },
   {
    "duration": 159,
    "start_time": "2021-11-21T18:02:52.853Z"
   },
   {
    "duration": 42,
    "start_time": "2021-11-21T18:02:53.015Z"
   },
   {
    "duration": 54,
    "start_time": "2021-11-21T18:02:53.059Z"
   },
   {
    "duration": 102,
    "start_time": "2021-11-21T18:02:53.116Z"
   },
   {
    "duration": 80,
    "start_time": "2021-11-21T18:02:53.220Z"
   },
   {
    "duration": 42,
    "start_time": "2021-11-21T18:02:53.303Z"
   },
   {
    "duration": 178,
    "start_time": "2021-11-21T18:02:53.348Z"
   },
   {
    "duration": 251,
    "start_time": "2021-11-21T18:02:53.528Z"
   },
   {
    "duration": 38,
    "start_time": "2021-11-21T18:02:53.781Z"
   },
   {
    "duration": 421,
    "start_time": "2021-11-21T18:02:53.821Z"
   },
   {
    "duration": 198,
    "start_time": "2021-11-21T18:02:54.244Z"
   },
   {
    "duration": 32,
    "start_time": "2021-11-21T18:02:54.444Z"
   },
   {
    "duration": 91,
    "start_time": "2021-11-21T18:02:54.478Z"
   },
   {
    "duration": 82,
    "start_time": "2021-11-21T18:02:54.572Z"
   },
   {
    "duration": 169,
    "start_time": "2021-11-21T18:02:54.657Z"
   },
   {
    "duration": 33,
    "start_time": "2021-11-21T18:02:54.829Z"
   },
   {
    "duration": 69,
    "start_time": "2021-11-21T18:02:54.865Z"
   },
   {
    "duration": 168,
    "start_time": "2021-11-21T18:02:54.937Z"
   },
   {
    "duration": 6,
    "start_time": "2021-11-21T18:03:44.913Z"
   },
   {
    "duration": 428,
    "start_time": "2021-11-21T18:04:06.149Z"
   },
   {
    "duration": 446,
    "start_time": "2021-11-21T18:04:23.529Z"
   },
   {
    "duration": 3123,
    "start_time": "2021-11-21T18:09:32.280Z"
   },
   {
    "duration": 503,
    "start_time": "2021-11-21T18:09:36.435Z"
   },
   {
    "duration": 336,
    "start_time": "2021-11-21T18:09:57.178Z"
   },
   {
    "duration": 3413,
    "start_time": "2021-11-21T18:10:23.300Z"
   },
   {
    "duration": 101,
    "start_time": "2021-11-21T18:10:26.802Z"
   },
   {
    "duration": 14,
    "start_time": "2021-11-21T18:10:36.350Z"
   },
   {
    "duration": 437,
    "start_time": "2021-11-21T18:14:06.999Z"
   },
   {
    "duration": 13,
    "start_time": "2021-11-21T18:14:16.992Z"
   },
   {
    "duration": 20939,
    "start_time": "2021-11-21T18:16:01.844Z"
   },
   {
    "duration": 4,
    "start_time": "2021-11-21T18:16:27.359Z"
   },
   {
    "duration": 20619,
    "start_time": "2021-11-21T18:16:28.182Z"
   },
   {
    "duration": 3,
    "start_time": "2021-11-21T18:17:33.266Z"
   },
   {
    "duration": 4,
    "start_time": "2021-11-21T18:19:46.141Z"
   },
   {
    "duration": 4,
    "start_time": "2021-11-21T18:19:51.063Z"
   },
   {
    "duration": 1463,
    "start_time": "2021-11-21T18:19:51.070Z"
   },
   {
    "duration": 1242,
    "start_time": "2021-11-21T18:19:52.536Z"
   },
   {
    "duration": 34,
    "start_time": "2021-11-21T18:19:53.781Z"
   },
   {
    "duration": 178,
    "start_time": "2021-11-21T18:19:53.817Z"
   },
   {
    "duration": 208,
    "start_time": "2021-11-21T18:19:54.001Z"
   },
   {
    "duration": 20,
    "start_time": "2021-11-21T18:19:54.212Z"
   },
   {
    "duration": 69,
    "start_time": "2021-11-21T18:19:54.236Z"
   },
   {
    "duration": 26,
    "start_time": "2021-11-21T18:19:54.309Z"
   },
   {
    "duration": 26,
    "start_time": "2021-11-21T18:19:54.337Z"
   },
   {
    "duration": 26,
    "start_time": "2021-11-21T18:19:54.365Z"
   },
   {
    "duration": 33,
    "start_time": "2021-11-21T18:19:54.400Z"
   },
   {
    "duration": 11,
    "start_time": "2021-11-21T18:19:54.435Z"
   },
   {
    "duration": 65,
    "start_time": "2021-11-21T18:19:54.449Z"
   },
   {
    "duration": 30,
    "start_time": "2021-11-21T18:19:54.516Z"
   },
   {
    "duration": 18,
    "start_time": "2021-11-21T18:19:54.548Z"
   },
   {
    "duration": 60,
    "start_time": "2021-11-21T18:19:54.569Z"
   },
   {
    "duration": 149,
    "start_time": "2021-11-21T18:19:54.632Z"
   },
   {
    "duration": 48,
    "start_time": "2021-11-21T18:19:54.783Z"
   },
   {
    "duration": 35,
    "start_time": "2021-11-21T18:19:54.834Z"
   },
   {
    "duration": 104,
    "start_time": "2021-11-21T18:19:54.872Z"
   },
   {
    "duration": 85,
    "start_time": "2021-11-21T18:19:54.978Z"
   },
   {
    "duration": 50,
    "start_time": "2021-11-21T18:19:55.068Z"
   },
   {
    "duration": 187,
    "start_time": "2021-11-21T18:19:55.122Z"
   },
   {
    "duration": 253,
    "start_time": "2021-11-21T18:19:55.312Z"
   },
   {
    "duration": 45,
    "start_time": "2021-11-21T18:19:55.568Z"
   },
   {
    "duration": 410,
    "start_time": "2021-11-21T18:19:55.615Z"
   },
   {
    "duration": 193,
    "start_time": "2021-11-21T18:19:56.028Z"
   },
   {
    "duration": 32,
    "start_time": "2021-11-21T18:19:56.224Z"
   },
   {
    "duration": 107,
    "start_time": "2021-11-21T18:19:56.259Z"
   },
   {
    "duration": 71,
    "start_time": "2021-11-21T18:19:56.369Z"
   },
   {
    "duration": 164,
    "start_time": "2021-11-21T18:19:56.442Z"
   },
   {
    "duration": 32,
    "start_time": "2021-11-21T18:19:56.608Z"
   },
   {
    "duration": 66,
    "start_time": "2021-11-21T18:19:56.642Z"
   },
   {
    "duration": 164,
    "start_time": "2021-11-21T18:19:56.711Z"
   },
   {
    "duration": 6,
    "start_time": "2021-11-21T18:19:56.878Z"
   },
   {
    "duration": 539,
    "start_time": "2021-11-21T18:19:56.887Z"
   },
   {
    "duration": 3282,
    "start_time": "2021-11-21T18:19:57.429Z"
   },
   {
    "duration": 108,
    "start_time": "2021-11-21T18:20:00.803Z"
   },
   {
    "duration": 11,
    "start_time": "2021-11-21T18:20:00.914Z"
   },
   {
    "duration": 96076,
    "start_time": "2021-11-21T18:20:00.927Z"
   },
   {
    "duration": 480,
    "start_time": "2021-11-21T18:21:37.005Z"
   },
   {
    "duration": -199,
    "start_time": "2021-11-21T18:21:37.686Z"
   },
   {
    "duration": 155,
    "start_time": "2021-11-21T18:23:05.517Z"
   },
   {
    "duration": 7,
    "start_time": "2021-11-21T18:23:15.125Z"
   },
   {
    "duration": 4,
    "start_time": "2021-11-21T18:24:46.097Z"
   },
   {
    "duration": 5,
    "start_time": "2021-11-21T18:28:51.258Z"
   },
   {
    "duration": 1873,
    "start_time": "2021-11-21T18:28:51.266Z"
   },
   {
    "duration": -210,
    "start_time": "2021-11-21T18:28:53.354Z"
   },
   {
    "duration": -210,
    "start_time": "2021-11-21T18:28:53.355Z"
   },
   {
    "duration": -212,
    "start_time": "2021-11-21T18:28:53.359Z"
   },
   {
    "duration": -212,
    "start_time": "2021-11-21T18:28:53.361Z"
   },
   {
    "duration": -212,
    "start_time": "2021-11-21T18:28:53.362Z"
   },
   {
    "duration": -218,
    "start_time": "2021-11-21T18:28:53.370Z"
   },
   {
    "duration": -220,
    "start_time": "2021-11-21T18:28:53.373Z"
   },
   {
    "duration": -220,
    "start_time": "2021-11-21T18:28:53.374Z"
   },
   {
    "duration": -220,
    "start_time": "2021-11-21T18:28:53.376Z"
   },
   {
    "duration": -220,
    "start_time": "2021-11-21T18:28:53.377Z"
   },
   {
    "duration": -220,
    "start_time": "2021-11-21T18:28:53.378Z"
   },
   {
    "duration": -225,
    "start_time": "2021-11-21T18:28:53.385Z"
   },
   {
    "duration": -226,
    "start_time": "2021-11-21T18:28:53.387Z"
   },
   {
    "duration": -225,
    "start_time": "2021-11-21T18:28:53.388Z"
   },
   {
    "duration": -225,
    "start_time": "2021-11-21T18:28:53.389Z"
   },
   {
    "duration": -226,
    "start_time": "2021-11-21T18:28:53.391Z"
   },
   {
    "duration": -226,
    "start_time": "2021-11-21T18:28:53.392Z"
   },
   {
    "duration": -230,
    "start_time": "2021-11-21T18:28:53.398Z"
   },
   {
    "duration": -231,
    "start_time": "2021-11-21T18:28:53.400Z"
   },
   {
    "duration": -233,
    "start_time": "2021-11-21T18:28:53.404Z"
   },
   {
    "duration": -233,
    "start_time": "2021-11-21T18:28:53.406Z"
   },
   {
    "duration": -236,
    "start_time": "2021-11-21T18:28:53.411Z"
   },
   {
    "duration": -236,
    "start_time": "2021-11-21T18:28:53.413Z"
   },
   {
    "duration": -219,
    "start_time": "2021-11-21T18:28:53.418Z"
   },
   {
    "duration": -217,
    "start_time": "2021-11-21T18:28:53.419Z"
   },
   {
    "duration": -220,
    "start_time": "2021-11-21T18:28:53.424Z"
   },
   {
    "duration": -219,
    "start_time": "2021-11-21T18:28:53.425Z"
   },
   {
    "duration": -219,
    "start_time": "2021-11-21T18:28:53.427Z"
   },
   {
    "duration": -221,
    "start_time": "2021-11-21T18:28:53.432Z"
   },
   {
    "duration": -220,
    "start_time": "2021-11-21T18:28:53.433Z"
   },
   {
    "duration": -223,
    "start_time": "2021-11-21T18:28:53.438Z"
   },
   {
    "duration": -222,
    "start_time": "2021-11-21T18:28:53.439Z"
   },
   {
    "duration": -274,
    "start_time": "2021-11-21T18:28:53.494Z"
   },
   {
    "duration": -278,
    "start_time": "2021-11-21T18:28:53.500Z"
   },
   {
    "duration": -278,
    "start_time": "2021-11-21T18:28:53.502Z"
   },
   {
    "duration": -277,
    "start_time": "2021-11-21T18:28:53.503Z"
   },
   {
    "duration": -276,
    "start_time": "2021-11-21T18:28:53.504Z"
   },
   {
    "duration": -277,
    "start_time": "2021-11-21T18:28:53.507Z"
   },
   {
    "duration": -280,
    "start_time": "2021-11-21T18:28:53.512Z"
   },
   {
    "duration": -282,
    "start_time": "2021-11-21T18:28:53.516Z"
   },
   {
    "duration": -282,
    "start_time": "2021-11-21T18:28:53.518Z"
   },
   {
    "duration": 4,
    "start_time": "2021-11-21T18:29:12.799Z"
   },
   {
    "duration": 1974,
    "start_time": "2021-11-21T18:29:12.806Z"
   },
   {
    "duration": -203,
    "start_time": "2021-11-21T18:29:14.987Z"
   },
   {
    "duration": -209,
    "start_time": "2021-11-21T18:29:14.995Z"
   },
   {
    "duration": -210,
    "start_time": "2021-11-21T18:29:14.997Z"
   },
   {
    "duration": -216,
    "start_time": "2021-11-21T18:29:15.005Z"
   },
   {
    "duration": -218,
    "start_time": "2021-11-21T18:29:15.008Z"
   },
   {
    "duration": -222,
    "start_time": "2021-11-21T18:29:15.014Z"
   },
   {
    "duration": -223,
    "start_time": "2021-11-21T18:29:15.016Z"
   },
   {
    "duration": -222,
    "start_time": "2021-11-21T18:29:15.017Z"
   },
   {
    "duration": -222,
    "start_time": "2021-11-21T18:29:15.019Z"
   },
   {
    "duration": -223,
    "start_time": "2021-11-21T18:29:15.021Z"
   },
   {
    "duration": -224,
    "start_time": "2021-11-21T18:29:15.023Z"
   },
   {
    "duration": -223,
    "start_time": "2021-11-21T18:29:15.024Z"
   },
   {
    "duration": -229,
    "start_time": "2021-11-21T18:29:15.031Z"
   },
   {
    "duration": -229,
    "start_time": "2021-11-21T18:29:15.032Z"
   },
   {
    "duration": -230,
    "start_time": "2021-11-21T18:29:15.035Z"
   },
   {
    "duration": -230,
    "start_time": "2021-11-21T18:29:15.036Z"
   },
   {
    "duration": -230,
    "start_time": "2021-11-21T18:29:15.038Z"
   },
   {
    "duration": -230,
    "start_time": "2021-11-21T18:29:15.039Z"
   },
   {
    "duration": -231,
    "start_time": "2021-11-21T18:29:15.041Z"
   },
   {
    "duration": -231,
    "start_time": "2021-11-21T18:29:15.043Z"
   },
   {
    "duration": -232,
    "start_time": "2021-11-21T18:29:15.045Z"
   },
   {
    "duration": -237,
    "start_time": "2021-11-21T18:29:15.051Z"
   },
   {
    "duration": -237,
    "start_time": "2021-11-21T18:29:15.053Z"
   },
   {
    "duration": -237,
    "start_time": "2021-11-21T18:29:15.054Z"
   },
   {
    "duration": -281,
    "start_time": "2021-11-21T18:29:15.100Z"
   },
   {
    "duration": -294,
    "start_time": "2021-11-21T18:29:15.114Z"
   },
   {
    "duration": -294,
    "start_time": "2021-11-21T18:29:15.115Z"
   },
   {
    "duration": -294,
    "start_time": "2021-11-21T18:29:15.117Z"
   },
   {
    "duration": -295,
    "start_time": "2021-11-21T18:29:15.119Z"
   },
   {
    "duration": -308,
    "start_time": "2021-11-21T18:29:15.134Z"
   },
   {
    "duration": -327,
    "start_time": "2021-11-21T18:29:15.154Z"
   },
   {
    "duration": -328,
    "start_time": "2021-11-21T18:29:15.156Z"
   },
   {
    "duration": -327,
    "start_time": "2021-11-21T18:29:15.157Z"
   },
   {
    "duration": -328,
    "start_time": "2021-11-21T18:29:15.159Z"
   },
   {
    "duration": -328,
    "start_time": "2021-11-21T18:29:15.161Z"
   },
   {
    "duration": -329,
    "start_time": "2021-11-21T18:29:15.163Z"
   },
   {
    "duration": -328,
    "start_time": "2021-11-21T18:29:15.164Z"
   },
   {
    "duration": -327,
    "start_time": "2021-11-21T18:29:15.165Z"
   },
   {
    "duration": -329,
    "start_time": "2021-11-21T18:29:15.168Z"
   },
   {
    "duration": -329,
    "start_time": "2021-11-21T18:29:15.169Z"
   },
   {
    "duration": -329,
    "start_time": "2021-11-21T18:29:15.170Z"
   },
   {
    "duration": 4,
    "start_time": "2021-11-21T18:30:04.678Z"
   },
   {
    "duration": 1477,
    "start_time": "2021-11-21T18:30:04.685Z"
   },
   {
    "duration": 1213,
    "start_time": "2021-11-21T18:30:06.167Z"
   },
   {
    "duration": 41,
    "start_time": "2021-11-21T18:30:07.382Z"
   },
   {
    "duration": 186,
    "start_time": "2021-11-21T18:30:07.426Z"
   },
   {
    "duration": 227,
    "start_time": "2021-11-21T18:30:07.614Z"
   },
   {
    "duration": 21,
    "start_time": "2021-11-21T18:30:07.843Z"
   },
   {
    "duration": 51,
    "start_time": "2021-11-21T18:30:07.867Z"
   },
   {
    "duration": 27,
    "start_time": "2021-11-21T18:30:07.922Z"
   },
   {
    "duration": 16,
    "start_time": "2021-11-21T18:30:07.953Z"
   },
   {
    "duration": 39,
    "start_time": "2021-11-21T18:30:07.971Z"
   },
   {
    "duration": 35,
    "start_time": "2021-11-21T18:30:08.013Z"
   },
   {
    "duration": 12,
    "start_time": "2021-11-21T18:30:08.051Z"
   },
   {
    "duration": 72,
    "start_time": "2021-11-21T18:30:08.067Z"
   },
   {
    "duration": 32,
    "start_time": "2021-11-21T18:30:08.142Z"
   },
   {
    "duration": 23,
    "start_time": "2021-11-21T18:30:08.201Z"
   },
   {
    "duration": 38,
    "start_time": "2021-11-21T18:30:08.227Z"
   },
   {
    "duration": 175,
    "start_time": "2021-11-21T18:30:08.267Z"
   },
   {
    "duration": 36,
    "start_time": "2021-11-21T18:30:08.445Z"
   },
   {
    "duration": 45,
    "start_time": "2021-11-21T18:30:08.483Z"
   },
   {
    "duration": 95,
    "start_time": "2021-11-21T18:30:08.530Z"
   },
   {
    "duration": 75,
    "start_time": "2021-11-21T18:30:08.628Z"
   },
   {
    "duration": 34,
    "start_time": "2021-11-21T18:30:08.706Z"
   },
   {
    "duration": 188,
    "start_time": "2021-11-21T18:30:08.742Z"
   },
   {
    "duration": 252,
    "start_time": "2021-11-21T18:30:08.932Z"
   },
   {
    "duration": 37,
    "start_time": "2021-11-21T18:30:09.187Z"
   },
   {
    "duration": 424,
    "start_time": "2021-11-21T18:30:09.230Z"
   },
   {
    "duration": 188,
    "start_time": "2021-11-21T18:30:09.657Z"
   },
   {
    "duration": 32,
    "start_time": "2021-11-21T18:30:09.847Z"
   },
   {
    "duration": 91,
    "start_time": "2021-11-21T18:30:09.882Z"
   },
   {
    "duration": 90,
    "start_time": "2021-11-21T18:30:09.976Z"
   },
   {
    "duration": 170,
    "start_time": "2021-11-21T18:30:10.069Z"
   },
   {
    "duration": 34,
    "start_time": "2021-11-21T18:30:10.242Z"
   },
   {
    "duration": 67,
    "start_time": "2021-11-21T18:30:10.278Z"
   },
   {
    "duration": 164,
    "start_time": "2021-11-21T18:30:10.347Z"
   },
   {
    "duration": 8,
    "start_time": "2021-11-21T18:30:10.513Z"
   },
   {
    "duration": 520,
    "start_time": "2021-11-21T18:30:10.524Z"
   },
   {
    "duration": 2855,
    "start_time": "2021-11-21T18:30:11.046Z"
   },
   {
    "duration": 99,
    "start_time": "2021-11-21T18:30:13.905Z"
   },
   {
    "duration": 8,
    "start_time": "2021-11-21T18:30:14.007Z"
   },
   {
    "duration": 4,
    "start_time": "2021-11-21T18:36:32.880Z"
   },
   {
    "duration": 1366,
    "start_time": "2021-11-21T18:36:32.887Z"
   },
   {
    "duration": 1263,
    "start_time": "2021-11-21T18:36:34.256Z"
   },
   {
    "duration": 30,
    "start_time": "2021-11-21T18:36:35.522Z"
   },
   {
    "duration": 178,
    "start_time": "2021-11-21T18:36:35.555Z"
   },
   {
    "duration": 222,
    "start_time": "2021-11-21T18:36:35.735Z"
   },
   {
    "duration": 20,
    "start_time": "2021-11-21T18:36:35.959Z"
   },
   {
    "duration": 51,
    "start_time": "2021-11-21T18:36:35.982Z"
   },
   {
    "duration": 31,
    "start_time": "2021-11-21T18:36:36.037Z"
   },
   {
    "duration": 32,
    "start_time": "2021-11-21T18:36:36.070Z"
   },
   {
    "duration": 18,
    "start_time": "2021-11-21T18:36:36.104Z"
   },
   {
    "duration": 34,
    "start_time": "2021-11-21T18:36:36.124Z"
   },
   {
    "duration": 11,
    "start_time": "2021-11-21T18:36:36.160Z"
   },
   {
    "duration": 37,
    "start_time": "2021-11-21T18:36:36.200Z"
   },
   {
    "duration": 30,
    "start_time": "2021-11-21T18:36:36.240Z"
   },
   {
    "duration": 34,
    "start_time": "2021-11-21T18:36:36.272Z"
   },
   {
    "duration": 37,
    "start_time": "2021-11-21T18:36:36.309Z"
   },
   {
    "duration": 168,
    "start_time": "2021-11-21T18:36:36.349Z"
   },
   {
    "duration": 41,
    "start_time": "2021-11-21T18:36:36.519Z"
   },
   {
    "duration": 52,
    "start_time": "2021-11-21T18:36:36.563Z"
   },
   {
    "duration": 92,
    "start_time": "2021-11-21T18:36:36.618Z"
   },
   {
    "duration": 70,
    "start_time": "2021-11-21T18:36:36.712Z"
   },
   {
    "duration": 33,
    "start_time": "2021-11-21T18:36:36.799Z"
   },
   {
    "duration": 179,
    "start_time": "2021-11-21T18:36:36.835Z"
   },
   {
    "duration": 250,
    "start_time": "2021-11-21T18:36:37.017Z"
   },
   {
    "duration": 42,
    "start_time": "2021-11-21T18:36:37.269Z"
   },
   {
    "duration": 408,
    "start_time": "2021-11-21T18:36:37.314Z"
   },
   {
    "duration": 194,
    "start_time": "2021-11-21T18:36:37.725Z"
   },
   {
    "duration": 32,
    "start_time": "2021-11-21T18:36:37.922Z"
   },
   {
    "duration": 99,
    "start_time": "2021-11-21T18:36:37.957Z"
   },
   {
    "duration": 85,
    "start_time": "2021-11-21T18:36:38.059Z"
   },
   {
    "duration": 177,
    "start_time": "2021-11-21T18:36:38.147Z"
   },
   {
    "duration": 35,
    "start_time": "2021-11-21T18:36:38.327Z"
   },
   {
    "duration": 74,
    "start_time": "2021-11-21T18:36:38.365Z"
   },
   {
    "duration": 160,
    "start_time": "2021-11-21T18:36:38.442Z"
   },
   {
    "duration": 6,
    "start_time": "2021-11-21T18:36:38.605Z"
   },
   {
    "duration": 529,
    "start_time": "2021-11-21T18:36:38.613Z"
   },
   {
    "duration": 2768,
    "start_time": "2021-11-21T18:36:39.145Z"
   },
   {
    "duration": 103,
    "start_time": "2021-11-21T18:36:42.002Z"
   },
   {
    "duration": 6,
    "start_time": "2021-11-21T18:36:42.107Z"
   },
   {
    "duration": 4,
    "start_time": "2021-11-21T18:40:11.343Z"
   },
   {
    "duration": 1433,
    "start_time": "2021-11-21T18:40:11.350Z"
   },
   {
    "duration": 1177,
    "start_time": "2021-11-21T18:40:12.786Z"
   },
   {
    "duration": 36,
    "start_time": "2021-11-21T18:40:13.965Z"
   },
   {
    "duration": 211,
    "start_time": "2021-11-21T18:40:14.004Z"
   },
   {
    "duration": 248,
    "start_time": "2021-11-21T18:40:14.218Z"
   },
   {
    "duration": 32,
    "start_time": "2021-11-21T18:40:14.468Z"
   },
   {
    "duration": 34,
    "start_time": "2021-11-21T18:40:14.506Z"
   },
   {
    "duration": 56,
    "start_time": "2021-11-21T18:40:14.544Z"
   },
   {
    "duration": 19,
    "start_time": "2021-11-21T18:40:14.603Z"
   },
   {
    "duration": 15,
    "start_time": "2021-11-21T18:40:14.625Z"
   },
   {
    "duration": 71,
    "start_time": "2021-11-21T18:40:14.643Z"
   },
   {
    "duration": 11,
    "start_time": "2021-11-21T18:40:14.717Z"
   },
   {
    "duration": 37,
    "start_time": "2021-11-21T18:40:14.731Z"
   },
   {
    "duration": 50,
    "start_time": "2021-11-21T18:40:14.770Z"
   },
   {
    "duration": 21,
    "start_time": "2021-11-21T18:40:14.822Z"
   },
   {
    "duration": 57,
    "start_time": "2021-11-21T18:40:14.845Z"
   },
   {
    "duration": 155,
    "start_time": "2021-11-21T18:40:14.904Z"
   },
   {
    "duration": 48,
    "start_time": "2021-11-21T18:40:15.062Z"
   },
   {
    "duration": 32,
    "start_time": "2021-11-21T18:40:15.112Z"
   },
   {
    "duration": 104,
    "start_time": "2021-11-21T18:40:15.147Z"
   },
   {
    "duration": 74,
    "start_time": "2021-11-21T18:40:15.254Z"
   },
   {
    "duration": 36,
    "start_time": "2021-11-21T18:40:15.334Z"
   },
   {
    "duration": 191,
    "start_time": "2021-11-21T18:40:15.373Z"
   },
   {
    "duration": 253,
    "start_time": "2021-11-21T18:40:15.567Z"
   },
   {
    "duration": 35,
    "start_time": "2021-11-21T18:40:15.822Z"
   },
   {
    "duration": 452,
    "start_time": "2021-11-21T18:40:15.859Z"
   },
   {
    "duration": 194,
    "start_time": "2021-11-21T18:40:16.314Z"
   },
   {
    "duration": 33,
    "start_time": "2021-11-21T18:40:16.510Z"
   },
   {
    "duration": 97,
    "start_time": "2021-11-21T18:40:16.546Z"
   },
   {
    "duration": 4,
    "start_time": "2021-11-21T18:41:18.230Z"
   },
   {
    "duration": 1325,
    "start_time": "2021-11-21T18:41:18.237Z"
   },
   {
    "duration": 1145,
    "start_time": "2021-11-21T18:41:19.565Z"
   },
   {
    "duration": 31,
    "start_time": "2021-11-21T18:41:20.713Z"
   },
   {
    "duration": 179,
    "start_time": "2021-11-21T18:41:20.747Z"
   },
   {
    "duration": 217,
    "start_time": "2021-11-21T18:41:20.928Z"
   },
   {
    "duration": 20,
    "start_time": "2021-11-21T18:41:21.148Z"
   },
   {
    "duration": 49,
    "start_time": "2021-11-21T18:41:21.171Z"
   },
   {
    "duration": 24,
    "start_time": "2021-11-21T18:41:21.223Z"
   },
   {
    "duration": 18,
    "start_time": "2021-11-21T18:41:21.250Z"
   },
   {
    "duration": 32,
    "start_time": "2021-11-21T18:41:21.270Z"
   },
   {
    "duration": 46,
    "start_time": "2021-11-21T18:41:21.304Z"
   },
   {
    "duration": 14,
    "start_time": "2021-11-21T18:41:21.353Z"
   },
   {
    "duration": 59,
    "start_time": "2021-11-21T18:41:21.370Z"
   },
   {
    "duration": 30,
    "start_time": "2021-11-21T18:41:21.431Z"
   },
   {
    "duration": 38,
    "start_time": "2021-11-21T18:41:21.464Z"
   },
   {
    "duration": 33,
    "start_time": "2021-11-21T18:41:21.505Z"
   },
   {
    "duration": 172,
    "start_time": "2021-11-21T18:41:21.540Z"
   },
   {
    "duration": 38,
    "start_time": "2021-11-21T18:41:21.715Z"
   },
   {
    "duration": 50,
    "start_time": "2021-11-21T18:41:21.755Z"
   },
   {
    "duration": 96,
    "start_time": "2021-11-21T18:41:21.808Z"
   },
   {
    "duration": 72,
    "start_time": "2021-11-21T18:41:21.907Z"
   },
   {
    "duration": 44,
    "start_time": "2021-11-21T18:41:21.984Z"
   },
   {
    "duration": 182,
    "start_time": "2021-11-21T18:41:22.031Z"
   },
   {
    "duration": 257,
    "start_time": "2021-11-21T18:41:22.215Z"
   },
   {
    "duration": 38,
    "start_time": "2021-11-21T18:41:22.474Z"
   },
   {
    "duration": 489,
    "start_time": "2021-11-21T18:41:22.514Z"
   },
   {
    "duration": 200,
    "start_time": "2021-11-21T18:41:23.006Z"
   },
   {
    "duration": 41,
    "start_time": "2021-11-21T18:41:23.209Z"
   },
   {
    "duration": 95,
    "start_time": "2021-11-21T18:41:23.252Z"
   },
   {
    "duration": 72,
    "start_time": "2021-11-21T18:41:23.349Z"
   },
   {
    "duration": 171,
    "start_time": "2021-11-21T18:41:23.423Z"
   },
   {
    "duration": 41,
    "start_time": "2021-11-21T18:41:23.597Z"
   },
   {
    "duration": 69,
    "start_time": "2021-11-21T18:41:23.640Z"
   },
   {
    "duration": 164,
    "start_time": "2021-11-21T18:41:23.711Z"
   },
   {
    "duration": 6,
    "start_time": "2021-11-21T18:41:23.878Z"
   },
   {
    "duration": 585,
    "start_time": "2021-11-21T18:41:23.887Z"
   },
   {
    "duration": 4626,
    "start_time": "2021-11-21T18:41:24.475Z"
   },
   {
    "duration": 104,
    "start_time": "2021-11-21T18:41:29.104Z"
   },
   {
    "duration": 4,
    "start_time": "2021-11-21T18:41:29.211Z"
   },
   {
    "duration": 682704,
    "start_time": "2021-11-21T18:41:29.218Z"
   },
   {
    "duration": 497,
    "start_time": "2021-11-21T18:52:51.925Z"
   },
   {
    "duration": -222,
    "start_time": "2021-11-21T18:52:52.647Z"
   },
   {
    "duration": 27184,
    "start_time": "2021-11-21T18:53:28.861Z"
   },
   {
    "duration": 6,
    "start_time": "2021-11-21T18:54:16.041Z"
   },
   {
    "duration": 19,
    "start_time": "2021-11-21T19:02:21.793Z"
   },
   {
    "duration": 28428,
    "start_time": "2021-11-21T19:05:04.247Z"
   },
   {
    "duration": 7,
    "start_time": "2021-11-21T19:05:32.677Z"
   },
   {
    "duration": 3635,
    "start_time": "2021-11-21T19:07:06.883Z"
   },
   {
    "duration": 9,
    "start_time": "2021-11-21T19:07:10.960Z"
   },
   {
    "duration": 2774,
    "start_time": "2021-11-21T19:07:15.639Z"
   },
   {
    "duration": 102,
    "start_time": "2021-11-21T19:07:18.501Z"
   },
   {
    "duration": 331,
    "start_time": "2021-11-21T19:08:26.976Z"
   },
   {
    "duration": 7,
    "start_time": "2021-11-21T19:09:00.081Z"
   },
   {
    "duration": 21661,
    "start_time": "2021-11-21T19:09:06.752Z"
   },
   {
    "duration": 89,
    "start_time": "2021-11-21T19:09:28.416Z"
   },
   {
    "duration": 8,
    "start_time": "2021-11-21T19:10:11.812Z"
   },
   {
    "duration": 13,
    "start_time": "2021-11-21T19:10:35.822Z"
   },
   {
    "duration": 12,
    "start_time": "2021-11-21T19:10:59.206Z"
   },
   {
    "duration": 8,
    "start_time": "2021-11-21T19:11:11.500Z"
   },
   {
    "duration": 8,
    "start_time": "2021-11-21T19:11:32.285Z"
   },
   {
    "duration": 2634,
    "start_time": "2021-11-21T19:12:34.375Z"
   },
   {
    "duration": 104,
    "start_time": "2021-11-21T19:12:37.103Z"
   },
   {
    "duration": 3,
    "start_time": "2021-11-21T19:12:37.280Z"
   },
   {
    "duration": 14466,
    "start_time": "2021-11-21T19:12:42.916Z"
   },
   {
    "duration": 29110,
    "start_time": "2021-11-21T19:12:57.385Z"
   },
   {
    "duration": 9,
    "start_time": "2021-11-21T19:13:26.501Z"
   },
   {
    "duration": 26901,
    "start_time": "2021-11-21T19:13:26.512Z"
   },
   {
    "duration": 77,
    "start_time": "2021-11-21T19:13:53.426Z"
   },
   {
    "duration": 4,
    "start_time": "2021-11-21T19:16:48.865Z"
   },
   {
    "duration": 2432,
    "start_time": "2021-11-21T19:16:48.872Z"
   },
   {
    "duration": 1152,
    "start_time": "2021-11-21T19:16:51.308Z"
   },
   {
    "duration": 43,
    "start_time": "2021-11-21T19:16:52.466Z"
   },
   {
    "duration": 229,
    "start_time": "2021-11-21T19:16:52.511Z"
   },
   {
    "duration": 219,
    "start_time": "2021-11-21T19:16:52.743Z"
   },
   {
    "duration": 36,
    "start_time": "2021-11-21T19:16:52.966Z"
   },
   {
    "duration": 34,
    "start_time": "2021-11-21T19:16:53.005Z"
   },
   {
    "duration": 27,
    "start_time": "2021-11-21T19:16:53.042Z"
   },
   {
    "duration": 40,
    "start_time": "2021-11-21T19:16:53.071Z"
   },
   {
    "duration": 15,
    "start_time": "2021-11-21T19:16:53.113Z"
   },
   {
    "duration": 32,
    "start_time": "2021-11-21T19:16:53.130Z"
   },
   {
    "duration": 38,
    "start_time": "2021-11-21T19:16:53.165Z"
   },
   {
    "duration": 41,
    "start_time": "2021-11-21T19:16:53.206Z"
   },
   {
    "duration": 65,
    "start_time": "2021-11-21T19:16:53.250Z"
   },
   {
    "duration": 16,
    "start_time": "2021-11-21T19:16:53.317Z"
   },
   {
    "duration": 34,
    "start_time": "2021-11-21T19:16:53.335Z"
   },
   {
    "duration": 166,
    "start_time": "2021-11-21T19:16:53.371Z"
   },
   {
    "duration": 40,
    "start_time": "2021-11-21T19:16:53.540Z"
   },
   {
    "duration": 49,
    "start_time": "2021-11-21T19:16:53.582Z"
   },
   {
    "duration": 98,
    "start_time": "2021-11-21T19:16:53.633Z"
   },
   {
    "duration": 73,
    "start_time": "2021-11-21T19:16:53.736Z"
   },
   {
    "duration": 34,
    "start_time": "2021-11-21T19:16:53.812Z"
   },
   {
    "duration": 184,
    "start_time": "2021-11-21T19:16:53.848Z"
   },
   {
    "duration": 258,
    "start_time": "2021-11-21T19:16:54.035Z"
   },
   {
    "duration": 33,
    "start_time": "2021-11-21T19:16:54.300Z"
   },
   {
    "duration": 412,
    "start_time": "2021-11-21T19:16:54.336Z"
   },
   {
    "duration": 195,
    "start_time": "2021-11-21T19:16:54.751Z"
   },
   {
    "duration": 31,
    "start_time": "2021-11-21T19:16:54.948Z"
   },
   {
    "duration": 90,
    "start_time": "2021-11-21T19:16:54.982Z"
   },
   {
    "duration": 84,
    "start_time": "2021-11-21T19:16:55.074Z"
   },
   {
    "duration": 173,
    "start_time": "2021-11-21T19:16:55.161Z"
   },
   {
    "duration": 34,
    "start_time": "2021-11-21T19:16:55.337Z"
   },
   {
    "duration": 80,
    "start_time": "2021-11-21T19:16:55.374Z"
   },
   {
    "duration": 166,
    "start_time": "2021-11-21T19:16:55.457Z"
   },
   {
    "duration": 6,
    "start_time": "2021-11-21T19:16:55.626Z"
   },
   {
    "duration": 533,
    "start_time": "2021-11-21T19:16:55.635Z"
   },
   {
    "duration": 2738,
    "start_time": "2021-11-21T19:16:56.171Z"
   },
   {
    "duration": 105,
    "start_time": "2021-11-21T19:16:59.003Z"
   },
   {
    "duration": 468,
    "start_time": "2021-11-21T19:16:59.111Z"
   },
   {
    "duration": -246,
    "start_time": "2021-11-21T19:16:59.827Z"
   },
   {
    "duration": -246,
    "start_time": "2021-11-21T19:16:59.829Z"
   },
   {
    "duration": -245,
    "start_time": "2021-11-21T19:16:59.830Z"
   },
   {
    "duration": -245,
    "start_time": "2021-11-21T19:16:59.831Z"
   },
   {
    "duration": -246,
    "start_time": "2021-11-21T19:16:59.833Z"
   },
   {
    "duration": -249,
    "start_time": "2021-11-21T19:16:59.838Z"
   },
   {
    "duration": -249,
    "start_time": "2021-11-21T19:16:59.840Z"
   },
   {
    "duration": -250,
    "start_time": "2021-11-21T19:16:59.842Z"
   },
   {
    "duration": 4,
    "start_time": "2021-11-21T19:18:42.304Z"
   },
   {
    "duration": 13554,
    "start_time": "2021-11-21T19:18:43.506Z"
   },
   {
    "duration": 56941,
    "start_time": "2021-11-21T19:18:57.062Z"
   },
   {
    "duration": 3,
    "start_time": "2021-11-21T19:20:18.581Z"
   },
   {
    "duration": 15643,
    "start_time": "2021-11-21T19:20:19.282Z"
   },
   {
    "duration": 147480,
    "start_time": "2021-11-21T19:20:34.928Z"
   },
   {
    "duration": 59867,
    "start_time": "2021-11-21T19:23:31.278Z"
   },
   {
    "duration": 8,
    "start_time": "2021-11-21T19:24:31.147Z"
   },
   {
    "duration": 3,
    "start_time": "2021-11-21T19:25:00.308Z"
   },
   {
    "duration": 20933,
    "start_time": "2021-11-21T19:25:05.376Z"
   },
   {
    "duration": 83594,
    "start_time": "2021-11-21T19:25:26.312Z"
   },
   {
    "duration": 359,
    "start_time": "2021-11-21T19:28:01.747Z"
   },
   {
    "duration": 13887,
    "start_time": "2021-11-21T19:28:22.925Z"
   },
   {
    "duration": 8,
    "start_time": "2021-11-21T19:29:13.417Z"
   },
   {
    "duration": 3253,
    "start_time": "2021-11-21T19:29:26.058Z"
   },
   {
    "duration": 4,
    "start_time": "2021-11-21T19:31:10.910Z"
   },
   {
    "duration": 1399,
    "start_time": "2021-11-21T19:31:11.356Z"
   },
   {
    "duration": 1144,
    "start_time": "2021-11-21T19:31:12.758Z"
   },
   {
    "duration": 29,
    "start_time": "2021-11-21T19:31:13.905Z"
   },
   {
    "duration": 180,
    "start_time": "2021-11-21T19:31:13.937Z"
   },
   {
    "duration": 208,
    "start_time": "2021-11-21T19:31:14.572Z"
   },
   {
    "duration": 26,
    "start_time": "2021-11-21T19:31:15.418Z"
   },
   {
    "duration": 34,
    "start_time": "2021-11-21T19:31:15.684Z"
   },
   {
    "duration": 26,
    "start_time": "2021-11-21T19:31:16.862Z"
   },
   {
    "duration": 16,
    "start_time": "2021-11-21T19:31:17.196Z"
   },
   {
    "duration": 13,
    "start_time": "2021-11-21T19:31:17.835Z"
   },
   {
    "duration": 34,
    "start_time": "2021-11-21T19:31:18.036Z"
   },
   {
    "duration": 11,
    "start_time": "2021-11-21T19:31:18.526Z"
   },
   {
    "duration": 38,
    "start_time": "2021-11-21T19:31:18.792Z"
   },
   {
    "duration": 31,
    "start_time": "2021-11-21T19:31:19.127Z"
   },
   {
    "duration": 16,
    "start_time": "2021-11-21T19:31:19.458Z"
   },
   {
    "duration": 33,
    "start_time": "2021-11-21T19:31:20.240Z"
   },
   {
    "duration": 144,
    "start_time": "2021-11-21T19:31:20.528Z"
   },
   {
    "duration": 43,
    "start_time": "2021-11-21T19:31:20.904Z"
   },
   {
    "duration": 32,
    "start_time": "2021-11-21T19:31:21.792Z"
   },
   {
    "duration": 75,
    "start_time": "2021-11-21T19:31:22.326Z"
   },
   {
    "duration": 74,
    "start_time": "2021-11-21T19:31:22.548Z"
   },
   {
    "duration": 35,
    "start_time": "2021-11-21T19:31:23.304Z"
   },
   {
    "duration": 174,
    "start_time": "2021-11-21T19:31:23.860Z"
   },
   {
    "duration": 238,
    "start_time": "2021-11-21T19:31:24.214Z"
   },
   {
    "duration": 35,
    "start_time": "2021-11-21T19:31:24.918Z"
   },
   {
    "duration": 420,
    "start_time": "2021-11-21T19:31:25.342Z"
   },
   {
    "duration": 184,
    "start_time": "2021-11-21T19:31:25.962Z"
   },
   {
    "duration": 33,
    "start_time": "2021-11-21T19:31:27.094Z"
   },
   {
    "duration": 73,
    "start_time": "2021-11-21T19:31:28.584Z"
   },
   {
    "duration": 68,
    "start_time": "2021-11-21T19:31:29.072Z"
   },
   {
    "duration": 161,
    "start_time": "2021-11-21T19:31:31.048Z"
   },
   {
    "duration": 38,
    "start_time": "2021-11-21T19:31:31.426Z"
   },
   {
    "duration": 53,
    "start_time": "2021-11-21T19:31:33.092Z"
   },
   {
    "duration": 151,
    "start_time": "2021-11-21T19:31:34.137Z"
   },
   {
    "duration": 7,
    "start_time": "2021-11-21T19:31:34.448Z"
   },
   {
    "duration": 497,
    "start_time": "2021-11-21T19:31:35.025Z"
   },
   {
    "duration": 2744,
    "start_time": "2021-11-21T19:31:37.962Z"
   },
   {
    "duration": 107,
    "start_time": "2021-11-21T19:31:40.802Z"
   },
   {
    "duration": 4,
    "start_time": "2021-11-21T19:31:48.506Z"
   },
   {
    "duration": 15119,
    "start_time": "2021-11-21T19:31:51.146Z"
   },
   {
    "duration": 5,
    "start_time": "2021-11-21T19:35:38.562Z"
   },
   {
    "duration": 1401,
    "start_time": "2021-11-21T19:35:38.570Z"
   },
   {
    "duration": 1163,
    "start_time": "2021-11-21T19:35:39.974Z"
   },
   {
    "duration": 31,
    "start_time": "2021-11-21T19:35:41.139Z"
   },
   {
    "duration": 200,
    "start_time": "2021-11-21T19:35:41.172Z"
   },
   {
    "duration": 213,
    "start_time": "2021-11-21T19:35:41.374Z"
   },
   {
    "duration": 27,
    "start_time": "2021-11-21T19:35:41.590Z"
   },
   {
    "duration": 43,
    "start_time": "2021-11-21T19:35:41.621Z"
   },
   {
    "duration": 35,
    "start_time": "2021-11-21T19:35:41.667Z"
   },
   {
    "duration": 23,
    "start_time": "2021-11-21T19:35:41.704Z"
   },
   {
    "duration": 24,
    "start_time": "2021-11-21T19:35:41.729Z"
   },
   {
    "duration": 38,
    "start_time": "2021-11-21T19:35:41.755Z"
   },
   {
    "duration": 11,
    "start_time": "2021-11-21T19:35:41.801Z"
   },
   {
    "duration": 41,
    "start_time": "2021-11-21T19:35:41.814Z"
   },
   {
    "duration": 51,
    "start_time": "2021-11-21T19:35:41.857Z"
   },
   {
    "duration": 17,
    "start_time": "2021-11-21T19:35:41.910Z"
   },
   {
    "duration": 42,
    "start_time": "2021-11-21T19:35:41.930Z"
   },
   {
    "duration": 169,
    "start_time": "2021-11-21T19:35:41.974Z"
   },
   {
    "duration": 38,
    "start_time": "2021-11-21T19:35:42.146Z"
   },
   {
    "duration": 33,
    "start_time": "2021-11-21T19:35:42.200Z"
   },
   {
    "duration": 100,
    "start_time": "2021-11-21T19:35:42.235Z"
   },
   {
    "duration": 80,
    "start_time": "2021-11-21T19:35:42.337Z"
   },
   {
    "duration": 40,
    "start_time": "2021-11-21T19:35:42.420Z"
   },
   {
    "duration": 173,
    "start_time": "2021-11-21T19:35:42.463Z"
   },
   {
    "duration": 255,
    "start_time": "2021-11-21T19:35:42.638Z"
   },
   {
    "duration": 35,
    "start_time": "2021-11-21T19:35:42.898Z"
   },
   {
    "duration": 405,
    "start_time": "2021-11-21T19:35:42.936Z"
   },
   {
    "duration": 195,
    "start_time": "2021-11-21T19:35:43.343Z"
   },
   {
    "duration": 31,
    "start_time": "2021-11-21T19:35:43.540Z"
   },
   {
    "duration": 93,
    "start_time": "2021-11-21T19:35:43.573Z"
   },
   {
    "duration": 74,
    "start_time": "2021-11-21T19:35:43.669Z"
   },
   {
    "duration": 166,
    "start_time": "2021-11-21T19:35:43.746Z"
   },
   {
    "duration": 34,
    "start_time": "2021-11-21T19:35:43.914Z"
   },
   {
    "duration": 69,
    "start_time": "2021-11-21T19:35:43.951Z"
   },
   {
    "duration": 162,
    "start_time": "2021-11-21T19:35:44.023Z"
   },
   {
    "duration": 14,
    "start_time": "2021-11-21T19:35:44.188Z"
   },
   {
    "duration": 527,
    "start_time": "2021-11-21T19:35:44.204Z"
   },
   {
    "duration": 2574,
    "start_time": "2021-11-21T19:35:44.734Z"
   },
   {
    "duration": 189,
    "start_time": "2021-11-21T19:35:47.311Z"
   },
   {
    "duration": 6,
    "start_time": "2021-11-21T19:35:47.503Z"
   },
   {
    "duration": 14066,
    "start_time": "2021-11-21T19:35:47.512Z"
   },
   {
    "duration": 21,
    "start_time": "2021-11-21T19:36:01.581Z"
   },
   {
    "duration": 253595,
    "start_time": "2021-11-21T19:36:01.605Z"
   },
   {
    "duration": 471,
    "start_time": "2021-11-21T19:40:15.202Z"
   },
   {
    "duration": -257,
    "start_time": "2021-11-21T19:40:15.933Z"
   },
   {
    "duration": -257,
    "start_time": "2021-11-21T19:40:15.935Z"
   },
   {
    "duration": -258,
    "start_time": "2021-11-21T19:40:15.937Z"
   },
   {
    "duration": -257,
    "start_time": "2021-11-21T19:40:15.938Z"
   },
   {
    "duration": -263,
    "start_time": "2021-11-21T19:40:15.945Z"
   },
   {
    "duration": -263,
    "start_time": "2021-11-21T19:40:15.947Z"
   },
   {
    "duration": -264,
    "start_time": "2021-11-21T19:40:15.949Z"
   },
   {
    "duration": -264,
    "start_time": "2021-11-21T19:40:15.950Z"
   },
   {
    "duration": -264,
    "start_time": "2021-11-21T19:40:15.952Z"
   },
   {
    "duration": 420,
    "start_time": "2021-11-21T19:40:38.387Z"
   },
   {
    "duration": 381,
    "start_time": "2021-11-21T19:40:46.949Z"
   },
   {
    "duration": 43317,
    "start_time": "2021-11-21T19:41:20.349Z"
   },
   {
    "duration": 7,
    "start_time": "2021-11-21T19:42:03.669Z"
   },
   {
    "duration": 678,
    "start_time": "2021-11-21T19:42:51.977Z"
   },
   {
    "duration": 4,
    "start_time": "2021-11-21T19:44:23.432Z"
   },
   {
    "duration": 18899,
    "start_time": "2021-11-21T19:44:26.618Z"
   },
   {
    "duration": 8,
    "start_time": "2021-11-21T19:44:45.519Z"
   },
   {
    "duration": 88979,
    "start_time": "2021-11-21T19:45:08.235Z"
   },
   {
    "duration": 29214,
    "start_time": "2021-11-21T19:48:51.596Z"
   },
   {
    "duration": 8,
    "start_time": "2021-11-21T19:49:20.812Z"
   },
   {
    "duration": 4,
    "start_time": "2021-11-21T19:50:45.051Z"
   },
   {
    "duration": 22473,
    "start_time": "2021-11-21T19:50:47.555Z"
   },
   {
    "duration": 7,
    "start_time": "2021-11-21T19:51:10.031Z"
   },
   {
    "duration": 4,
    "start_time": "2021-11-21T19:51:10.041Z"
   },
   {
    "duration": 160761,
    "start_time": "2021-11-21T19:51:10.047Z"
   },
   {
    "duration": 10297,
    "start_time": "2021-11-21T19:54:35.018Z"
   },
   {
    "duration": 88,
    "start_time": "2021-11-21T19:54:45.319Z"
   },
   {
    "duration": 20,
    "start_time": "2021-11-21T19:55:05.289Z"
   },
   {
    "duration": 457,
    "start_time": "2021-11-21T22:29:24.364Z"
   },
   {
    "duration": 6,
    "start_time": "2021-11-21T22:29:33.483Z"
   },
   {
    "duration": 1382,
    "start_time": "2021-11-21T22:29:33.493Z"
   },
   {
    "duration": 6610,
    "start_time": "2021-11-21T22:29:34.878Z"
   },
   {
    "duration": 31,
    "start_time": "2021-11-21T22:29:41.490Z"
   },
   {
    "duration": 178,
    "start_time": "2021-11-21T22:29:41.523Z"
   },
   {
    "duration": 233,
    "start_time": "2021-11-21T22:29:41.703Z"
   },
   {
    "duration": 21,
    "start_time": "2021-11-21T22:29:41.939Z"
   },
   {
    "duration": 34,
    "start_time": "2021-11-21T22:29:41.964Z"
   },
   {
    "duration": 26,
    "start_time": "2021-11-21T22:29:42.001Z"
   },
   {
    "duration": 8907,
    "start_time": "2021-11-21T22:29:42.029Z"
   },
   {
    "duration": -348,
    "start_time": "2021-11-21T22:29:51.290Z"
   },
   {
    "duration": -352,
    "start_time": "2021-11-21T22:29:51.295Z"
   },
   {
    "duration": -354,
    "start_time": "2021-11-21T22:29:51.299Z"
   },
   {
    "duration": -353,
    "start_time": "2021-11-21T22:29:51.301Z"
   },
   {
    "duration": -358,
    "start_time": "2021-11-21T22:29:51.308Z"
   },
   {
    "duration": -358,
    "start_time": "2021-11-21T22:29:51.310Z"
   },
   {
    "duration": -360,
    "start_time": "2021-11-21T22:29:51.313Z"
   },
   {
    "duration": -360,
    "start_time": "2021-11-21T22:29:51.316Z"
   },
   {
    "duration": -359,
    "start_time": "2021-11-21T22:29:51.317Z"
   },
   {
    "duration": -360,
    "start_time": "2021-11-21T22:29:51.320Z"
   },
   {
    "duration": -359,
    "start_time": "2021-11-21T22:29:51.322Z"
   },
   {
    "duration": -359,
    "start_time": "2021-11-21T22:29:51.324Z"
   },
   {
    "duration": -359,
    "start_time": "2021-11-21T22:29:51.326Z"
   },
   {
    "duration": -364,
    "start_time": "2021-11-21T22:29:51.334Z"
   },
   {
    "duration": -366,
    "start_time": "2021-11-21T22:29:51.337Z"
   },
   {
    "duration": -365,
    "start_time": "2021-11-21T22:29:51.338Z"
   },
   {
    "duration": -366,
    "start_time": "2021-11-21T22:29:51.340Z"
   },
   {
    "duration": -366,
    "start_time": "2021-11-21T22:29:51.342Z"
   },
   {
    "duration": -367,
    "start_time": "2021-11-21T22:29:51.344Z"
   },
   {
    "duration": -364,
    "start_time": "2021-11-21T22:29:51.345Z"
   },
   {
    "duration": -365,
    "start_time": "2021-11-21T22:29:51.348Z"
   },
   {
    "duration": -371,
    "start_time": "2021-11-21T22:29:51.356Z"
   },
   {
    "duration": -372,
    "start_time": "2021-11-21T22:29:51.358Z"
   },
   {
    "duration": -372,
    "start_time": "2021-11-21T22:29:51.360Z"
   },
   {
    "duration": -373,
    "start_time": "2021-11-21T22:29:51.362Z"
   },
   {
    "duration": -374,
    "start_time": "2021-11-21T22:29:51.364Z"
   },
   {
    "duration": -373,
    "start_time": "2021-11-21T22:29:51.365Z"
   },
   {
    "duration": -374,
    "start_time": "2021-11-21T22:29:51.367Z"
   },
   {
    "duration": -375,
    "start_time": "2021-11-21T22:29:51.369Z"
   },
   {
    "duration": -374,
    "start_time": "2021-11-21T22:29:51.370Z"
   },
   {
    "duration": -375,
    "start_time": "2021-11-21T22:29:51.372Z"
   },
   {
    "duration": -374,
    "start_time": "2021-11-21T22:29:51.373Z"
   },
   {
    "duration": -375,
    "start_time": "2021-11-21T22:29:51.376Z"
   },
   {
    "duration": -380,
    "start_time": "2021-11-21T22:29:51.382Z"
   },
   {
    "duration": -413,
    "start_time": "2021-11-21T22:29:51.416Z"
   },
   {
    "duration": -416,
    "start_time": "2021-11-21T22:29:51.421Z"
   },
   {
    "duration": -416,
    "start_time": "2021-11-21T22:29:51.422Z"
   },
   {
    "duration": -423,
    "start_time": "2021-11-21T22:29:51.431Z"
   },
   {
    "duration": -424,
    "start_time": "2021-11-21T22:29:51.433Z"
   },
   {
    "duration": -429,
    "start_time": "2021-11-21T22:29:51.439Z"
   },
   {
    "duration": -429,
    "start_time": "2021-11-21T22:29:51.441Z"
   },
   {
    "duration": -429,
    "start_time": "2021-11-21T22:29:51.442Z"
   },
   {
    "duration": -434,
    "start_time": "2021-11-21T22:29:51.448Z"
   },
   {
    "duration": 4,
    "start_time": "2021-11-21T22:30:12.142Z"
   },
   {
    "duration": 1578,
    "start_time": "2021-11-21T22:30:12.149Z"
   },
   {
    "duration": 1220,
    "start_time": "2021-11-21T22:30:13.730Z"
   },
   {
    "duration": 30,
    "start_time": "2021-11-21T22:30:14.953Z"
   },
   {
    "duration": 182,
    "start_time": "2021-11-21T22:30:14.985Z"
   },
   {
    "duration": 325,
    "start_time": "2021-11-21T22:30:15.170Z"
   },
   {
    "duration": 29,
    "start_time": "2021-11-21T22:30:15.497Z"
   },
   {
    "duration": 76,
    "start_time": "2021-11-21T22:30:15.529Z"
   },
   {
    "duration": 74,
    "start_time": "2021-11-21T22:30:15.610Z"
   },
   {
    "duration": 24,
    "start_time": "2021-11-21T22:30:15.688Z"
   },
   {
    "duration": 17,
    "start_time": "2021-11-21T22:30:15.715Z"
   },
   {
    "duration": 49,
    "start_time": "2021-11-21T22:30:15.735Z"
   },
   {
    "duration": 32,
    "start_time": "2021-11-21T22:30:15.787Z"
   },
   {
    "duration": 20,
    "start_time": "2021-11-21T22:30:15.821Z"
   },
   {
    "duration": 60,
    "start_time": "2021-11-21T22:30:15.844Z"
   },
   {
    "duration": 28,
    "start_time": "2021-11-21T22:30:15.907Z"
   },
   {
    "duration": 44,
    "start_time": "2021-11-21T22:30:15.938Z"
   },
   {
    "duration": 33,
    "start_time": "2021-11-21T22:30:15.984Z"
   },
   {
    "duration": 172,
    "start_time": "2021-11-21T22:30:16.020Z"
   },
   {
    "duration": 40,
    "start_time": "2021-11-21T22:30:16.195Z"
   },
   {
    "duration": 52,
    "start_time": "2021-11-21T22:30:16.237Z"
   },
   {
    "duration": 94,
    "start_time": "2021-11-21T22:30:16.291Z"
   },
   {
    "duration": 68,
    "start_time": "2021-11-21T22:30:16.387Z"
   },
   {
    "duration": 49,
    "start_time": "2021-11-21T22:30:16.458Z"
   },
   {
    "duration": 175,
    "start_time": "2021-11-21T22:30:16.509Z"
   },
   {
    "duration": 245,
    "start_time": "2021-11-21T22:30:16.687Z"
   },
   {
    "duration": 56,
    "start_time": "2021-11-21T22:30:16.940Z"
   },
   {
    "duration": 439,
    "start_time": "2021-11-21T22:30:16.999Z"
   },
   {
    "duration": 201,
    "start_time": "2021-11-21T22:30:17.441Z"
   },
   {
    "duration": 41,
    "start_time": "2021-11-21T22:30:17.645Z"
   },
   {
    "duration": 72,
    "start_time": "2021-11-21T22:30:17.688Z"
   },
   {
    "duration": 81,
    "start_time": "2021-11-21T22:30:17.763Z"
   },
   {
    "duration": 171,
    "start_time": "2021-11-21T22:30:17.847Z"
   },
   {
    "duration": 35,
    "start_time": "2021-11-21T22:30:18.020Z"
   },
   {
    "duration": 69,
    "start_time": "2021-11-21T22:30:18.057Z"
   },
   {
    "duration": 162,
    "start_time": "2021-11-21T22:30:18.128Z"
   },
   {
    "duration": 6,
    "start_time": "2021-11-21T22:30:18.292Z"
   },
   {
    "duration": 501,
    "start_time": "2021-11-21T22:30:18.301Z"
   },
   {
    "duration": 2691,
    "start_time": "2021-11-21T22:30:18.804Z"
   },
   {
    "duration": 90,
    "start_time": "2021-11-21T22:30:21.498Z"
   },
   {
    "duration": 4,
    "start_time": "2021-11-21T22:30:21.592Z"
   },
   {
    "duration": 18505,
    "start_time": "2021-11-21T22:30:21.599Z"
   },
   {
    "duration": 8,
    "start_time": "2021-11-21T22:30:40.106Z"
   },
   {
    "duration": 281251,
    "start_time": "2021-11-21T22:30:40.116Z"
   },
   {
    "duration": 51791,
    "start_time": "2021-11-21T22:35:21.370Z"
   },
   {
    "duration": 22,
    "start_time": "2021-11-21T22:36:13.163Z"
   },
   {
    "duration": 4,
    "start_time": "2021-11-21T22:36:13.187Z"
   },
   {
    "duration": 437334,
    "start_time": "2021-11-21T22:36:13.194Z"
   },
   {
    "duration": 8,
    "start_time": "2021-11-21T22:43:30.530Z"
   },
   {
    "duration": 4,
    "start_time": "2021-11-21T22:46:46.448Z"
   },
   {
    "duration": 1467,
    "start_time": "2021-11-21T22:46:46.455Z"
   },
   {
    "duration": 1120,
    "start_time": "2021-11-21T22:46:47.925Z"
   },
   {
    "duration": 39,
    "start_time": "2021-11-21T22:46:49.047Z"
   },
   {
    "duration": 176,
    "start_time": "2021-11-21T22:46:49.088Z"
   },
   {
    "duration": 211,
    "start_time": "2021-11-21T22:46:49.266Z"
   },
   {
    "duration": 19,
    "start_time": "2021-11-21T22:46:49.481Z"
   },
   {
    "duration": 32,
    "start_time": "2021-11-21T22:46:49.505Z"
   },
   {
    "duration": 64,
    "start_time": "2021-11-21T22:46:49.540Z"
   },
   {
    "duration": 25,
    "start_time": "2021-11-21T22:46:49.606Z"
   },
   {
    "duration": 17,
    "start_time": "2021-11-21T22:46:49.633Z"
   },
   {
    "duration": 37,
    "start_time": "2021-11-21T22:46:49.652Z"
   },
   {
    "duration": 34,
    "start_time": "2021-11-21T22:46:49.691Z"
   },
   {
    "duration": 11,
    "start_time": "2021-11-21T22:46:49.727Z"
   },
   {
    "duration": 69,
    "start_time": "2021-11-21T22:46:49.740Z"
   },
   {
    "duration": 28,
    "start_time": "2021-11-21T22:46:49.811Z"
   },
   {
    "duration": 40,
    "start_time": "2021-11-21T22:46:49.842Z"
   },
   {
    "duration": 32,
    "start_time": "2021-11-21T22:46:49.884Z"
   },
   {
    "duration": 220,
    "start_time": "2021-11-21T22:46:49.920Z"
   },
   {
    "duration": 59,
    "start_time": "2021-11-21T22:46:50.143Z"
   },
   {
    "duration": 33,
    "start_time": "2021-11-21T22:46:50.204Z"
   },
   {
    "duration": 104,
    "start_time": "2021-11-21T22:46:50.239Z"
   },
   {
    "duration": 72,
    "start_time": "2021-11-21T22:46:50.348Z"
   },
   {
    "duration": 35,
    "start_time": "2021-11-21T22:46:50.423Z"
   },
   {
    "duration": 177,
    "start_time": "2021-11-21T22:46:50.481Z"
   },
   {
    "duration": 255,
    "start_time": "2021-11-21T22:46:50.660Z"
   },
   {
    "duration": 37,
    "start_time": "2021-11-21T22:46:50.918Z"
   },
   {
    "duration": 489,
    "start_time": "2021-11-21T22:46:50.958Z"
   },
   {
    "duration": 196,
    "start_time": "2021-11-21T22:46:51.449Z"
   },
   {
    "duration": 45,
    "start_time": "2021-11-21T22:46:51.648Z"
   },
   {
    "duration": 91,
    "start_time": "2021-11-21T22:46:51.696Z"
   },
   {
    "duration": 114,
    "start_time": "2021-11-21T22:46:51.789Z"
   },
   {
    "duration": 168,
    "start_time": "2021-11-21T22:46:51.906Z"
   },
   {
    "duration": 34,
    "start_time": "2021-11-21T22:46:52.077Z"
   },
   {
    "duration": 68,
    "start_time": "2021-11-21T22:46:52.114Z"
   },
   {
    "duration": 206,
    "start_time": "2021-11-21T22:46:52.185Z"
   },
   {
    "duration": 7,
    "start_time": "2021-11-21T22:46:52.394Z"
   },
   {
    "duration": 492,
    "start_time": "2021-11-21T22:46:52.404Z"
   },
   {
    "duration": 2689,
    "start_time": "2021-11-21T22:46:52.899Z"
   },
   {
    "duration": 93,
    "start_time": "2021-11-21T22:46:55.591Z"
   },
   {
    "duration": 5,
    "start_time": "2021-11-21T22:46:55.688Z"
   },
   {
    "duration": 19580,
    "start_time": "2021-11-21T22:46:55.696Z"
   },
   {
    "duration": 10,
    "start_time": "2021-11-21T22:47:15.283Z"
   },
   {
    "duration": 402,
    "start_time": "2021-11-21T22:47:15.296Z"
   },
   {
    "duration": -363,
    "start_time": "2021-11-21T22:47:16.063Z"
   },
   {
    "duration": -364,
    "start_time": "2021-11-21T22:47:16.066Z"
   },
   {
    "duration": -368,
    "start_time": "2021-11-21T22:47:16.071Z"
   },
   {
    "duration": -368,
    "start_time": "2021-11-21T22:47:16.073Z"
   },
   {
    "duration": -368,
    "start_time": "2021-11-21T22:47:16.074Z"
   },
   {
    "duration": -369,
    "start_time": "2021-11-21T22:47:16.076Z"
   },
   {
    "duration": -369,
    "start_time": "2021-11-21T22:47:16.078Z"
   },
   {
    "duration": -373,
    "start_time": "2021-11-21T22:47:16.083Z"
   },
   {
    "duration": -374,
    "start_time": "2021-11-21T22:47:16.086Z"
   },
   {
    "duration": -374,
    "start_time": "2021-11-21T22:47:16.087Z"
   },
   {
    "duration": 5,
    "start_time": "2021-11-21T22:47:31.314Z"
   },
   {
    "duration": 211,
    "start_time": "2021-11-21T22:47:32.336Z"
   },
   {
    "duration": 4,
    "start_time": "2021-11-21T22:47:50.727Z"
   },
   {
    "duration": 477807,
    "start_time": "2021-11-21T22:47:51.301Z"
   },
   {
    "duration": 3401,
    "start_time": "2021-11-21T22:56:59.289Z"
   },
   {
    "duration": 22,
    "start_time": "2021-11-21T22:57:25.260Z"
   },
   {
    "duration": 12,
    "start_time": "2021-11-21T22:58:29.861Z"
   },
   {
    "duration": 394,
    "start_time": "2021-11-21T22:58:47.526Z"
   },
   {
    "duration": 42,
    "start_time": "2021-11-21T22:59:31.381Z"
   },
   {
    "duration": 10,
    "start_time": "2021-11-21T23:00:23.324Z"
   },
   {
    "duration": 57407,
    "start_time": "2021-11-21T23:01:56.921Z"
   },
   {
    "duration": 3934,
    "start_time": "2021-11-21T23:03:14.130Z"
   },
   {
    "duration": 18,
    "start_time": "2021-11-21T23:03:18.067Z"
   },
   {
    "duration": 304,
    "start_time": "2021-11-21T23:03:40.690Z"
   },
   {
    "duration": 5,
    "start_time": "2021-11-21T23:03:48.822Z"
   },
   {
    "duration": 1622,
    "start_time": "2021-11-21T23:03:48.830Z"
   },
   {
    "duration": 1630,
    "start_time": "2021-11-21T23:03:50.456Z"
   },
   {
    "duration": 42,
    "start_time": "2021-11-21T23:03:52.090Z"
   },
   {
    "duration": 279,
    "start_time": "2021-11-21T23:03:52.134Z"
   },
   {
    "duration": 335,
    "start_time": "2021-11-21T23:03:52.416Z"
   },
   {
    "duration": 32,
    "start_time": "2021-11-21T23:03:52.754Z"
   },
   {
    "duration": 59,
    "start_time": "2021-11-21T23:03:52.791Z"
   },
   {
    "duration": 86,
    "start_time": "2021-11-21T23:03:52.854Z"
   },
   {
    "duration": 39,
    "start_time": "2021-11-21T23:03:52.942Z"
   },
   {
    "duration": 15,
    "start_time": "2021-11-21T23:03:52.984Z"
   },
   {
    "duration": 16,
    "start_time": "2021-11-21T23:03:53.001Z"
   },
   {
    "duration": 62,
    "start_time": "2021-11-21T23:03:53.020Z"
   },
   {
    "duration": 12,
    "start_time": "2021-11-21T23:03:53.085Z"
   },
   {
    "duration": 39,
    "start_time": "2021-11-21T23:03:53.100Z"
   },
   {
    "duration": 60,
    "start_time": "2021-11-21T23:03:53.141Z"
   },
   {
    "duration": 18,
    "start_time": "2021-11-21T23:03:53.203Z"
   },
   {
    "duration": 59,
    "start_time": "2021-11-21T23:03:53.224Z"
   },
   {
    "duration": 154,
    "start_time": "2021-11-21T23:03:53.286Z"
   },
   {
    "duration": 53,
    "start_time": "2021-11-21T23:03:53.443Z"
   },
   {
    "duration": 36,
    "start_time": "2021-11-21T23:03:53.498Z"
   },
   {
    "duration": 104,
    "start_time": "2021-11-21T23:03:53.536Z"
   },
   {
    "duration": 81,
    "start_time": "2021-11-21T23:03:53.648Z"
   },
   {
    "duration": 34,
    "start_time": "2021-11-21T23:03:53.732Z"
   },
   {
    "duration": 234,
    "start_time": "2021-11-21T23:03:53.783Z"
   },
   {
    "duration": 289,
    "start_time": "2021-11-21T23:03:54.020Z"
   },
   {
    "duration": 58,
    "start_time": "2021-11-21T23:03:54.312Z"
   },
   {
    "duration": 532,
    "start_time": "2021-11-21T23:03:54.383Z"
   },
   {
    "duration": 230,
    "start_time": "2021-11-21T23:03:54.918Z"
   },
   {
    "duration": 59,
    "start_time": "2021-11-21T23:03:55.151Z"
   },
   {
    "duration": 148,
    "start_time": "2021-11-21T23:03:55.213Z"
   },
   {
    "duration": 151,
    "start_time": "2021-11-21T23:03:55.364Z"
   },
   {
    "duration": 168,
    "start_time": "2021-11-21T23:03:55.518Z"
   },
   {
    "duration": 34,
    "start_time": "2021-11-21T23:03:55.689Z"
   },
   {
    "duration": 77,
    "start_time": "2021-11-21T23:03:55.725Z"
   },
   {
    "duration": 153,
    "start_time": "2021-11-21T23:03:55.805Z"
   },
   {
    "duration": 6,
    "start_time": "2021-11-21T23:03:55.960Z"
   },
   {
    "duration": 462,
    "start_time": "2021-11-21T23:03:55.969Z"
   },
   {
    "duration": 2750,
    "start_time": "2021-11-21T23:03:56.434Z"
   },
   {
    "duration": 98,
    "start_time": "2021-11-21T23:03:59.187Z"
   },
   {
    "duration": 100,
    "start_time": "2021-11-21T23:03:59.294Z"
   },
   {
    "duration": 4,
    "start_time": "2021-11-21T23:03:59.396Z"
   },
   {
    "duration": 14080,
    "start_time": "2021-11-21T23:03:59.402Z"
   },
   {
    "duration": 8,
    "start_time": "2021-11-21T23:04:13.484Z"
   },
   {
    "duration": 3,
    "start_time": "2021-11-21T23:04:13.494Z"
   },
   {
    "duration": 449716,
    "start_time": "2021-11-21T23:04:13.500Z"
   },
   {
    "duration": 426,
    "start_time": "2021-11-21T23:11:43.218Z"
   },
   {
    "duration": -378,
    "start_time": "2021-11-21T23:11:44.024Z"
   },
   {
    "duration": -388,
    "start_time": "2021-11-21T23:11:44.036Z"
   },
   {
    "duration": -390,
    "start_time": "2021-11-21T23:11:44.039Z"
   },
   {
    "duration": -396,
    "start_time": "2021-11-21T23:11:44.047Z"
   },
   {
    "duration": -397,
    "start_time": "2021-11-21T23:11:44.049Z"
   },
   {
    "duration": -399,
    "start_time": "2021-11-21T23:11:44.052Z"
   },
   {
    "duration": -401,
    "start_time": "2021-11-21T23:11:44.055Z"
   },
   {
    "duration": -401,
    "start_time": "2021-11-21T23:11:44.057Z"
   },
   {
    "duration": -407,
    "start_time": "2021-11-21T23:11:44.064Z"
   },
   {
    "duration": -416,
    "start_time": "2021-11-21T23:11:44.074Z"
   },
   {
    "duration": -424,
    "start_time": "2021-11-21T23:11:44.084Z"
   },
   {
    "duration": 384,
    "start_time": "2021-11-21T23:15:09.999Z"
   },
   {
    "duration": 41,
    "start_time": "2021-11-21T23:15:13.915Z"
   },
   {
    "duration": 10,
    "start_time": "2021-11-21T23:15:16.825Z"
   },
   {
    "duration": 5,
    "start_time": "2021-11-21T23:16:25.091Z"
   },
   {
    "duration": 1536,
    "start_time": "2021-11-21T23:16:25.099Z"
   },
   {
    "duration": 1512,
    "start_time": "2021-11-21T23:16:26.639Z"
   },
   {
    "duration": 46,
    "start_time": "2021-11-21T23:16:28.154Z"
   },
   {
    "duration": 279,
    "start_time": "2021-11-21T23:16:28.203Z"
   },
   {
    "duration": 251,
    "start_time": "2021-11-21T23:16:28.484Z"
   },
   {
    "duration": 27,
    "start_time": "2021-11-21T23:16:28.738Z"
   },
   {
    "duration": 57,
    "start_time": "2021-11-21T23:16:28.783Z"
   },
   {
    "duration": 51,
    "start_time": "2021-11-21T23:16:28.844Z"
   },
   {
    "duration": 25,
    "start_time": "2021-11-21T23:16:28.898Z"
   },
   {
    "duration": 17,
    "start_time": "2021-11-21T23:16:28.925Z"
   },
   {
    "duration": 39,
    "start_time": "2021-11-21T23:16:28.944Z"
   },
   {
    "duration": 31,
    "start_time": "2021-11-21T23:16:28.985Z"
   },
   {
    "duration": 10,
    "start_time": "2021-11-21T23:16:29.019Z"
   },
   {
    "duration": 72,
    "start_time": "2021-11-21T23:16:29.031Z"
   },
   {
    "duration": 28,
    "start_time": "2021-11-21T23:16:29.105Z"
   },
   {
    "duration": 16,
    "start_time": "2021-11-21T23:16:29.136Z"
   },
   {
    "duration": 56,
    "start_time": "2021-11-21T23:16:29.154Z"
   },
   {
    "duration": 149,
    "start_time": "2021-11-21T23:16:29.213Z"
   },
   {
    "duration": 41,
    "start_time": "2021-11-21T23:16:29.365Z"
   },
   {
    "duration": 31,
    "start_time": "2021-11-21T23:16:29.408Z"
   },
   {
    "duration": 103,
    "start_time": "2021-11-21T23:16:29.441Z"
   },
   {
    "duration": 81,
    "start_time": "2021-11-21T23:16:29.549Z"
   },
   {
    "duration": 34,
    "start_time": "2021-11-21T23:16:29.634Z"
   },
   {
    "duration": 168,
    "start_time": "2021-11-21T23:16:29.682Z"
   },
   {
    "duration": 247,
    "start_time": "2021-11-21T23:16:29.852Z"
   },
   {
    "duration": 37,
    "start_time": "2021-11-21T23:16:30.102Z"
   },
   {
    "duration": 559,
    "start_time": "2021-11-21T23:16:30.142Z"
   },
   {
    "duration": 235,
    "start_time": "2021-11-21T23:16:30.704Z"
   },
   {
    "duration": 72,
    "start_time": "2021-11-21T23:16:30.943Z"
   },
   {
    "duration": 83,
    "start_time": "2021-11-21T23:16:31.018Z"
   },
   {
    "duration": 76,
    "start_time": "2021-11-21T23:16:31.104Z"
   },
   {
    "duration": 7459,
    "start_time": "2021-11-21T23:16:31.182Z"
   },
   {
    "duration": -407,
    "start_time": "2021-11-21T23:16:39.050Z"
   },
   {
    "duration": -417,
    "start_time": "2021-11-21T23:16:39.062Z"
   },
   {
    "duration": -424,
    "start_time": "2021-11-21T23:16:39.070Z"
   },
   {
    "duration": -434,
    "start_time": "2021-11-21T23:16:39.082Z"
   },
   {
    "duration": -435,
    "start_time": "2021-11-21T23:16:39.085Z"
   },
   {
    "duration": -436,
    "start_time": "2021-11-21T23:16:39.087Z"
   },
   {
    "duration": -436,
    "start_time": "2021-11-21T23:16:39.089Z"
   },
   {
    "duration": -444,
    "start_time": "2021-11-21T23:16:39.098Z"
   },
   {
    "duration": -450,
    "start_time": "2021-11-21T23:16:39.105Z"
   },
   {
    "duration": -455,
    "start_time": "2021-11-21T23:16:39.112Z"
   },
   {
    "duration": -461,
    "start_time": "2021-11-21T23:16:39.119Z"
   },
   {
    "duration": -466,
    "start_time": "2021-11-21T23:16:39.126Z"
   },
   {
    "duration": -478,
    "start_time": "2021-11-21T23:16:39.139Z"
   },
   {
    "duration": -485,
    "start_time": "2021-11-21T23:16:39.147Z"
   },
   {
    "duration": -490,
    "start_time": "2021-11-21T23:16:39.154Z"
   },
   {
    "duration": -496,
    "start_time": "2021-11-21T23:16:39.161Z"
   },
   {
    "duration": -500,
    "start_time": "2021-11-21T23:16:39.167Z"
   },
   {
    "duration": -504,
    "start_time": "2021-11-21T23:16:39.172Z"
   },
   {
    "duration": -504,
    "start_time": "2021-11-21T23:16:39.174Z"
   },
   {
    "duration": -507,
    "start_time": "2021-11-21T23:16:39.179Z"
   },
   {
    "duration": -508,
    "start_time": "2021-11-21T23:16:39.181Z"
   },
   {
    "duration": -511,
    "start_time": "2021-11-21T23:16:39.185Z"
   },
   {
    "duration": -511,
    "start_time": "2021-11-21T23:16:39.187Z"
   },
   {
    "duration": -515,
    "start_time": "2021-11-21T23:16:39.192Z"
   },
   {
    "duration": -516,
    "start_time": "2021-11-21T23:16:39.194Z"
   },
   {
    "duration": -519,
    "start_time": "2021-11-21T23:16:39.199Z"
   },
   {
    "duration": 130,
    "start_time": "2021-11-21T23:16:57.266Z"
   },
   {
    "duration": 30,
    "start_time": "2021-11-21T23:17:08.418Z"
   },
   {
    "duration": 50,
    "start_time": "2021-11-21T23:18:23.476Z"
   },
   {
    "duration": 31,
    "start_time": "2021-11-21T23:18:24.208Z"
   },
   {
    "duration": 5,
    "start_time": "2021-11-21T23:18:30.617Z"
   },
   {
    "duration": 1398,
    "start_time": "2021-11-21T23:18:30.624Z"
   },
   {
    "duration": 1151,
    "start_time": "2021-11-21T23:18:32.025Z"
   },
   {
    "duration": 29,
    "start_time": "2021-11-21T23:18:33.178Z"
   },
   {
    "duration": 174,
    "start_time": "2021-11-21T23:18:33.210Z"
   },
   {
    "duration": 213,
    "start_time": "2021-11-21T23:18:33.386Z"
   },
   {
    "duration": 21,
    "start_time": "2021-11-21T23:18:33.601Z"
   },
   {
    "duration": 56,
    "start_time": "2021-11-21T23:18:33.626Z"
   },
   {
    "duration": 62,
    "start_time": "2021-11-21T23:18:33.685Z"
   },
   {
    "duration": 49,
    "start_time": "2021-11-21T23:18:33.749Z"
   },
   {
    "duration": 15,
    "start_time": "2021-11-21T23:18:33.801Z"
   },
   {
    "duration": 13,
    "start_time": "2021-11-21T23:18:33.818Z"
   },
   {
    "duration": 64,
    "start_time": "2021-11-21T23:18:33.834Z"
   },
   {
    "duration": 11,
    "start_time": "2021-11-21T23:18:33.900Z"
   },
   {
    "duration": 37,
    "start_time": "2021-11-21T23:18:33.913Z"
   },
   {
    "duration": 50,
    "start_time": "2021-11-21T23:18:33.952Z"
   },
   {
    "duration": 19,
    "start_time": "2021-11-21T23:18:34.005Z"
   },
   {
    "duration": 63,
    "start_time": "2021-11-21T23:18:34.027Z"
   },
   {
    "duration": 153,
    "start_time": "2021-11-21T23:18:34.092Z"
   },
   {
    "duration": 44,
    "start_time": "2021-11-21T23:18:34.247Z"
   },
   {
    "duration": 33,
    "start_time": "2021-11-21T23:18:34.294Z"
   },
   {
    "duration": 100,
    "start_time": "2021-11-21T23:18:34.329Z"
   },
   {
    "duration": 147,
    "start_time": "2021-11-21T23:18:34.435Z"
   },
   {
    "duration": 59,
    "start_time": "2021-11-21T23:18:34.587Z"
   },
   {
    "duration": 234,
    "start_time": "2021-11-21T23:18:34.649Z"
   },
   {
    "duration": 297,
    "start_time": "2021-11-21T23:18:34.886Z"
   },
   {
    "duration": 34,
    "start_time": "2021-11-21T23:18:35.185Z"
   },
   {
    "duration": 523,
    "start_time": "2021-11-21T23:18:35.221Z"
   },
   {
    "duration": 236,
    "start_time": "2021-11-21T23:18:35.747Z"
   },
   {
    "duration": 55,
    "start_time": "2021-11-21T23:18:35.986Z"
   },
   {
    "duration": 96,
    "start_time": "2021-11-21T23:18:36.044Z"
   },
   {
    "duration": 82,
    "start_time": "2021-11-21T23:18:36.142Z"
   },
   {
    "duration": 133,
    "start_time": "2021-11-21T23:18:36.226Z"
   },
   {
    "duration": 28,
    "start_time": "2021-11-21T23:18:36.361Z"
   },
   {
    "duration": 53,
    "start_time": "2021-11-21T23:18:36.392Z"
   },
   {
    "duration": 56,
    "start_time": "2021-11-21T23:18:36.447Z"
   },
   {
    "duration": 55,
    "start_time": "2021-11-21T23:18:36.506Z"
   },
   {
    "duration": 218,
    "start_time": "2021-11-21T23:18:36.564Z"
   },
   {
    "duration": 10,
    "start_time": "2021-11-21T23:18:36.785Z"
   },
   {
    "duration": 510,
    "start_time": "2021-11-21T23:18:36.797Z"
   },
   {
    "duration": 2985,
    "start_time": "2021-11-21T23:18:37.310Z"
   },
   {
    "duration": 106,
    "start_time": "2021-11-21T23:18:40.383Z"
   },
   {
    "duration": 95,
    "start_time": "2021-11-21T23:18:40.493Z"
   },
   {
    "duration": 5,
    "start_time": "2021-11-21T23:18:40.591Z"
   },
   {
    "duration": 13337,
    "start_time": "2021-11-21T23:18:40.599Z"
   },
   {
    "duration": 7,
    "start_time": "2021-11-21T23:18:53.939Z"
   },
   {
    "duration": 4,
    "start_time": "2021-11-21T23:18:53.948Z"
   },
   {
    "duration": 3,
    "start_time": "2021-11-21T23:18:53.981Z"
   },
   {
    "duration": 403,
    "start_time": "2021-11-21T23:18:53.986Z"
   },
   {
    "duration": 49,
    "start_time": "2021-11-21T23:18:54.392Z"
   },
   {
    "duration": 8,
    "start_time": "2021-11-21T23:18:54.443Z"
   },
   {
    "duration": 439,
    "start_time": "2021-11-21T23:18:54.454Z"
   },
   {
    "duration": -387,
    "start_time": "2021-11-21T23:18:55.282Z"
   },
   {
    "duration": -391,
    "start_time": "2021-11-21T23:18:55.287Z"
   },
   {
    "duration": -395,
    "start_time": "2021-11-21T23:18:55.293Z"
   },
   {
    "duration": -397,
    "start_time": "2021-11-21T23:18:55.296Z"
   },
   {
    "duration": -397,
    "start_time": "2021-11-21T23:18:55.297Z"
   },
   {
    "duration": -398,
    "start_time": "2021-11-21T23:18:55.299Z"
   },
   {
    "duration": -399,
    "start_time": "2021-11-21T23:18:55.301Z"
   },
   {
    "duration": -403,
    "start_time": "2021-11-21T23:18:55.307Z"
   },
   {
    "duration": 23,
    "start_time": "2021-11-21T23:19:36.407Z"
   },
   {
    "duration": 16,
    "start_time": "2021-11-21T23:20:49.190Z"
   },
   {
    "duration": 74,
    "start_time": "2021-11-21T23:21:09.511Z"
   },
   {
    "duration": 6,
    "start_time": "2021-11-21T23:21:31.195Z"
   },
   {
    "duration": 406,
    "start_time": "2021-11-21T23:21:42.101Z"
   },
   {
    "duration": 4,
    "start_time": "2021-11-21T23:22:24.071Z"
   },
   {
    "duration": 244,
    "start_time": "2021-11-21T23:22:24.738Z"
   },
   {
    "duration": 141,
    "start_time": "2021-11-21T23:24:12.492Z"
   },
   {
    "duration": 67,
    "start_time": "2021-11-21T23:24:33.178Z"
   },
   {
    "duration": 240,
    "start_time": "2021-11-21T23:24:42.492Z"
   },
   {
    "duration": 68,
    "start_time": "2021-11-21T23:24:59.698Z"
   },
   {
    "duration": 15,
    "start_time": "2021-11-21T23:25:02.311Z"
   },
   {
    "duration": 249,
    "start_time": "2021-11-21T23:25:08.349Z"
   },
   {
    "duration": 4,
    "start_time": "2021-11-21T23:30:34.855Z"
   },
   {
    "duration": 1430,
    "start_time": "2021-11-21T23:30:34.862Z"
   },
   {
    "duration": 1112,
    "start_time": "2021-11-21T23:30:36.295Z"
   },
   {
    "duration": 301,
    "start_time": "2021-11-21T23:30:37.410Z"
   },
   {
    "duration": 32,
    "start_time": "2021-11-21T23:30:37.713Z"
   },
   {
    "duration": 139,
    "start_time": "2021-11-21T23:30:37.748Z"
   },
   {
    "duration": 158,
    "start_time": "2021-11-21T23:30:37.890Z"
   },
   {
    "duration": 34,
    "start_time": "2021-11-21T23:30:38.052Z"
   },
   {
    "duration": 58,
    "start_time": "2021-11-21T23:30:38.090Z"
   },
   {
    "duration": 81,
    "start_time": "2021-11-21T23:30:38.151Z"
   },
   {
    "duration": 15,
    "start_time": "2021-11-21T23:30:38.235Z"
   },
   {
    "duration": 44,
    "start_time": "2021-11-21T23:30:38.253Z"
   },
   {
    "duration": 15,
    "start_time": "2021-11-21T23:30:38.300Z"
   },
   {
    "duration": 64,
    "start_time": "2021-11-21T23:30:38.318Z"
   },
   {
    "duration": 15,
    "start_time": "2021-11-21T23:30:38.385Z"
   },
   {
    "duration": 36,
    "start_time": "2021-11-21T23:30:38.403Z"
   },
   {
    "duration": 40,
    "start_time": "2021-11-21T23:30:38.442Z"
   },
   {
    "duration": 24,
    "start_time": "2021-11-21T23:30:38.485Z"
   },
   {
    "duration": 14,
    "start_time": "2021-11-21T23:30:38.512Z"
   },
   {
    "duration": 556,
    "start_time": "2021-11-21T23:30:38.529Z"
   },
   {
    "duration": -394,
    "start_time": "2021-11-21T23:30:39.487Z"
   },
   {
    "duration": -400,
    "start_time": "2021-11-21T23:30:39.495Z"
   },
   {
    "duration": -400,
    "start_time": "2021-11-21T23:30:39.498Z"
   },
   {
    "duration": -401,
    "start_time": "2021-11-21T23:30:39.500Z"
   },
   {
    "duration": -401,
    "start_time": "2021-11-21T23:30:39.502Z"
   },
   {
    "duration": -401,
    "start_time": "2021-11-21T23:30:39.504Z"
   },
   {
    "duration": -407,
    "start_time": "2021-11-21T23:30:39.512Z"
   },
   {
    "duration": -413,
    "start_time": "2021-11-21T23:30:39.519Z"
   },
   {
    "duration": -412,
    "start_time": "2021-11-21T23:30:39.520Z"
   },
   {
    "duration": -412,
    "start_time": "2021-11-21T23:30:39.522Z"
   },
   {
    "duration": -460,
    "start_time": "2021-11-21T23:30:39.572Z"
   },
   {
    "duration": -460,
    "start_time": "2021-11-21T23:30:39.574Z"
   },
   {
    "duration": -459,
    "start_time": "2021-11-21T23:30:39.575Z"
   },
   {
    "duration": -459,
    "start_time": "2021-11-21T23:30:39.577Z"
   },
   {
    "duration": -463,
    "start_time": "2021-11-21T23:30:39.582Z"
   },
   {
    "duration": -470,
    "start_time": "2021-11-21T23:30:39.591Z"
   },
   {
    "duration": -470,
    "start_time": "2021-11-21T23:30:39.593Z"
   },
   {
    "duration": -481,
    "start_time": "2021-11-21T23:30:39.606Z"
   },
   {
    "duration": -481,
    "start_time": "2021-11-21T23:30:39.608Z"
   },
   {
    "duration": -428,
    "start_time": "2021-11-21T23:30:39.609Z"
   },
   {
    "duration": -456,
    "start_time": "2021-11-21T23:30:39.639Z"
   },
   {
    "duration": -456,
    "start_time": "2021-11-21T23:30:39.641Z"
   },
   {
    "duration": -455,
    "start_time": "2021-11-21T23:30:39.642Z"
   },
   {
    "duration": -455,
    "start_time": "2021-11-21T23:30:39.644Z"
   },
   {
    "duration": -454,
    "start_time": "2021-11-21T23:30:39.645Z"
   },
   {
    "duration": -492,
    "start_time": "2021-11-21T23:30:39.685Z"
   },
   {
    "duration": -492,
    "start_time": "2021-11-21T23:30:39.687Z"
   },
   {
    "duration": -492,
    "start_time": "2021-11-21T23:30:39.688Z"
   },
   {
    "duration": -492,
    "start_time": "2021-11-21T23:30:39.690Z"
   },
   {
    "duration": -504,
    "start_time": "2021-11-21T23:30:39.704Z"
   },
   {
    "duration": -504,
    "start_time": "2021-11-21T23:30:39.706Z"
   },
   {
    "duration": -503,
    "start_time": "2021-11-21T23:30:39.707Z"
   },
   {
    "duration": -503,
    "start_time": "2021-11-21T23:30:39.709Z"
   },
   {
    "duration": -502,
    "start_time": "2021-11-21T23:30:39.710Z"
   },
   {
    "duration": -502,
    "start_time": "2021-11-21T23:30:39.712Z"
   },
   {
    "duration": -511,
    "start_time": "2021-11-21T23:30:39.723Z"
   },
   {
    "duration": -512,
    "start_time": "2021-11-21T23:30:39.725Z"
   },
   {
    "duration": -512,
    "start_time": "2021-11-21T23:30:39.727Z"
   },
   {
    "duration": -511,
    "start_time": "2021-11-21T23:30:39.728Z"
   },
   {
    "duration": -513,
    "start_time": "2021-11-21T23:30:39.732Z"
   },
   {
    "duration": -513,
    "start_time": "2021-11-21T23:30:39.734Z"
   },
   {
    "duration": -457,
    "start_time": "2021-11-21T23:30:39.739Z"
   },
   {
    "duration": -461,
    "start_time": "2021-11-21T23:30:39.745Z"
   },
   {
    "duration": -461,
    "start_time": "2021-11-21T23:30:39.748Z"
   },
   {
    "duration": -460,
    "start_time": "2021-11-21T23:30:39.749Z"
   },
   {
    "duration": -460,
    "start_time": "2021-11-21T23:30:39.751Z"
   },
   {
    "duration": 5,
    "start_time": "2021-11-21T23:32:22.764Z"
   },
   {
    "duration": 1323,
    "start_time": "2021-11-21T23:32:23.298Z"
   },
   {
    "duration": 1124,
    "start_time": "2021-11-21T23:32:25.249Z"
   },
   {
    "duration": 4,
    "start_time": "2021-11-21T23:32:26.451Z"
   },
   {
    "duration": 294,
    "start_time": "2021-11-21T23:32:27.249Z"
   },
   {
    "duration": 32,
    "start_time": "2021-11-21T23:32:28.741Z"
   },
   {
    "duration": 116,
    "start_time": "2021-11-21T23:32:37.942Z"
   },
   {
    "duration": 755,
    "start_time": "2021-11-21T23:32:54.939Z"
   },
   {
    "duration": 274,
    "start_time": "2021-11-21T23:33:07.016Z"
   },
   {
    "duration": 23,
    "start_time": "2021-11-21T23:33:36.567Z"
   },
   {
    "duration": 34,
    "start_time": "2021-11-21T23:33:39.489Z"
   },
   {
    "duration": 35,
    "start_time": "2021-11-21T23:33:42.007Z"
   },
   {
    "duration": 41,
    "start_time": "2021-11-21T23:33:44.663Z"
   },
   {
    "duration": 17,
    "start_time": "2021-11-21T23:33:45.399Z"
   },
   {
    "duration": 34,
    "start_time": "2021-11-21T23:34:01.029Z"
   },
   {
    "duration": 5,
    "start_time": "2021-11-21T23:35:12.176Z"
   },
   {
    "duration": 1353,
    "start_time": "2021-11-21T23:35:12.184Z"
   },
   {
    "duration": 1117,
    "start_time": "2021-11-21T23:35:13.540Z"
   },
   {
    "duration": 4,
    "start_time": "2021-11-21T23:35:14.660Z"
   },
   {
    "duration": 311,
    "start_time": "2021-11-21T23:35:14.666Z"
   },
   {
    "duration": 32,
    "start_time": "2021-11-21T23:35:14.982Z"
   },
   {
    "duration": 137,
    "start_time": "2021-11-21T23:35:15.017Z"
   },
   {
    "duration": 301,
    "start_time": "2021-11-21T23:35:15.156Z"
   },
   {
    "duration": 27,
    "start_time": "2021-11-21T23:35:15.461Z"
   },
   {
    "duration": 32,
    "start_time": "2021-11-21T23:35:15.491Z"
   },
   {
    "duration": 60,
    "start_time": "2021-11-21T23:35:15.526Z"
   },
   {
    "duration": 41,
    "start_time": "2021-11-21T23:35:15.589Z"
   },
   {
    "duration": 18,
    "start_time": "2021-11-21T23:35:15.632Z"
   },
   {
    "duration": 56,
    "start_time": "2021-11-21T23:35:15.653Z"
   },
   {
    "duration": 35,
    "start_time": "2021-11-21T23:35:15.713Z"
   },
   {
    "duration": 588,
    "start_time": "2021-11-21T23:35:15.751Z"
   },
   {
    "duration": -394,
    "start_time": "2021-11-21T23:35:16.738Z"
   },
   {
    "duration": -397,
    "start_time": "2021-11-21T23:35:16.742Z"
   },
   {
    "duration": -405,
    "start_time": "2021-11-21T23:35:16.751Z"
   },
   {
    "duration": -418,
    "start_time": "2021-11-21T23:35:16.766Z"
   },
   {
    "duration": -431,
    "start_time": "2021-11-21T23:35:16.780Z"
   },
   {
    "duration": -443,
    "start_time": "2021-11-21T23:35:16.793Z"
   },
   {
    "duration": -441,
    "start_time": "2021-11-21T23:35:16.795Z"
   },
   {
    "duration": -442,
    "start_time": "2021-11-21T23:35:16.797Z"
   },
   {
    "duration": -452,
    "start_time": "2021-11-21T23:35:16.809Z"
   },
   {
    "duration": -454,
    "start_time": "2021-11-21T23:35:16.812Z"
   },
   {
    "duration": -459,
    "start_time": "2021-11-21T23:35:16.819Z"
   },
   {
    "duration": -467,
    "start_time": "2021-11-21T23:35:16.828Z"
   },
   {
    "duration": -476,
    "start_time": "2021-11-21T23:35:16.838Z"
   },
   {
    "duration": -481,
    "start_time": "2021-11-21T23:35:16.845Z"
   },
   {
    "duration": -488,
    "start_time": "2021-11-21T23:35:16.853Z"
   },
   {
    "duration": -495,
    "start_time": "2021-11-21T23:35:16.861Z"
   },
   {
    "duration": -501,
    "start_time": "2021-11-21T23:35:16.869Z"
   },
   {
    "duration": -507,
    "start_time": "2021-11-21T23:35:16.876Z"
   },
   {
    "duration": -516,
    "start_time": "2021-11-21T23:35:16.886Z"
   },
   {
    "duration": -518,
    "start_time": "2021-11-21T23:35:16.890Z"
   },
   {
    "duration": -525,
    "start_time": "2021-11-21T23:35:16.898Z"
   },
   {
    "duration": -533,
    "start_time": "2021-11-21T23:35:16.907Z"
   },
   {
    "duration": -536,
    "start_time": "2021-11-21T23:35:16.912Z"
   },
   {
    "duration": -537,
    "start_time": "2021-11-21T23:35:16.914Z"
   },
   {
    "duration": -540,
    "start_time": "2021-11-21T23:35:16.919Z"
   },
   {
    "duration": -541,
    "start_time": "2021-11-21T23:35:16.921Z"
   },
   {
    "duration": -543,
    "start_time": "2021-11-21T23:35:16.925Z"
   },
   {
    "duration": -544,
    "start_time": "2021-11-21T23:35:16.927Z"
   },
   {
    "duration": -546,
    "start_time": "2021-11-21T23:35:16.930Z"
   },
   {
    "duration": -547,
    "start_time": "2021-11-21T23:35:16.932Z"
   },
   {
    "duration": -547,
    "start_time": "2021-11-21T23:35:16.934Z"
   },
   {
    "duration": -548,
    "start_time": "2021-11-21T23:35:16.936Z"
   },
   {
    "duration": -580,
    "start_time": "2021-11-21T23:35:16.969Z"
   },
   {
    "duration": -581,
    "start_time": "2021-11-21T23:35:16.971Z"
   },
   {
    "duration": -581,
    "start_time": "2021-11-21T23:35:16.973Z"
   },
   {
    "duration": -580,
    "start_time": "2021-11-21T23:35:16.974Z"
   },
   {
    "duration": -581,
    "start_time": "2021-11-21T23:35:16.976Z"
   },
   {
    "duration": -586,
    "start_time": "2021-11-21T23:35:16.982Z"
   },
   {
    "duration": -587,
    "start_time": "2021-11-21T23:35:16.984Z"
   },
   {
    "duration": -588,
    "start_time": "2021-11-21T23:35:16.986Z"
   },
   {
    "duration": -588,
    "start_time": "2021-11-21T23:35:16.988Z"
   },
   {
    "duration": -588,
    "start_time": "2021-11-21T23:35:16.989Z"
   },
   {
    "duration": -589,
    "start_time": "2021-11-21T23:35:16.991Z"
   },
   {
    "duration": -590,
    "start_time": "2021-11-21T23:35:16.993Z"
   },
   {
    "duration": -592,
    "start_time": "2021-11-21T23:35:16.997Z"
   },
   {
    "duration": -596,
    "start_time": "2021-11-21T23:35:17.002Z"
   },
   {
    "duration": -596,
    "start_time": "2021-11-21T23:35:17.003Z"
   },
   {
    "duration": -604,
    "start_time": "2021-11-21T23:35:17.012Z"
   },
   {
    "duration": -606,
    "start_time": "2021-11-21T23:35:17.015Z"
   },
   {
    "duration": -605,
    "start_time": "2021-11-21T23:35:17.016Z"
   },
   {
    "duration": -606,
    "start_time": "2021-11-21T23:35:17.018Z"
   },
   {
    "duration": -607,
    "start_time": "2021-11-21T23:35:17.020Z"
   },
   {
    "duration": -607,
    "start_time": "2021-11-21T23:35:17.022Z"
   },
   {
    "duration": -608,
    "start_time": "2021-11-21T23:35:17.024Z"
   },
   {
    "duration": 5,
    "start_time": "2021-11-21T23:35:46.075Z"
   },
   {
    "duration": 1346,
    "start_time": "2021-11-21T23:35:46.083Z"
   },
   {
    "duration": 1153,
    "start_time": "2021-11-21T23:35:47.432Z"
   },
   {
    "duration": 3,
    "start_time": "2021-11-21T23:35:48.588Z"
   },
   {
    "duration": 14,
    "start_time": "2021-11-21T23:35:48.594Z"
   },
   {
    "duration": 34,
    "start_time": "2021-11-21T23:35:48.610Z"
   },
   {
    "duration": 180,
    "start_time": "2021-11-21T23:35:48.646Z"
   },
   {
    "duration": 419,
    "start_time": "2021-11-21T23:35:48.830Z"
   },
   {
    "duration": 20,
    "start_time": "2021-11-21T23:35:49.251Z"
   },
   {
    "duration": 32,
    "start_time": "2021-11-21T23:35:49.281Z"
   },
   {
    "duration": 34,
    "start_time": "2021-11-21T23:35:49.315Z"
   },
   {
    "duration": 88,
    "start_time": "2021-11-21T23:35:49.352Z"
   },
   {
    "duration": 15,
    "start_time": "2021-11-21T23:35:49.443Z"
   },
   {
    "duration": 61,
    "start_time": "2021-11-21T23:35:49.482Z"
   },
   {
    "duration": 73,
    "start_time": "2021-11-21T23:35:49.546Z"
   },
   {
    "duration": 418,
    "start_time": "2021-11-21T23:35:49.622Z"
   },
   {
    "duration": -411,
    "start_time": "2021-11-21T23:35:50.456Z"
   },
   {
    "duration": -423,
    "start_time": "2021-11-21T23:35:50.469Z"
   },
   {
    "duration": -425,
    "start_time": "2021-11-21T23:35:50.473Z"
   },
   {
    "duration": -426,
    "start_time": "2021-11-21T23:35:50.475Z"
   },
   {
    "duration": -427,
    "start_time": "2021-11-21T23:35:50.477Z"
   },
   {
    "duration": -427,
    "start_time": "2021-11-21T23:35:50.479Z"
   },
   {
    "duration": -435,
    "start_time": "2021-11-21T23:35:50.488Z"
   },
   {
    "duration": -437,
    "start_time": "2021-11-21T23:35:50.491Z"
   },
   {
    "duration": -438,
    "start_time": "2021-11-21T23:35:50.494Z"
   },
   {
    "duration": -439,
    "start_time": "2021-11-21T23:35:50.496Z"
   },
   {
    "duration": -447,
    "start_time": "2021-11-21T23:35:50.505Z"
   },
   {
    "duration": -448,
    "start_time": "2021-11-21T23:35:50.508Z"
   },
   {
    "duration": -449,
    "start_time": "2021-11-21T23:35:50.510Z"
   },
   {
    "duration": -449,
    "start_time": "2021-11-21T23:35:50.512Z"
   },
   {
    "duration": -451,
    "start_time": "2021-11-21T23:35:50.515Z"
   },
   {
    "duration": -452,
    "start_time": "2021-11-21T23:35:50.517Z"
   },
   {
    "duration": -453,
    "start_time": "2021-11-21T23:35:50.519Z"
   },
   {
    "duration": -454,
    "start_time": "2021-11-21T23:35:50.522Z"
   },
   {
    "duration": -454,
    "start_time": "2021-11-21T23:35:50.523Z"
   },
   {
    "duration": -461,
    "start_time": "2021-11-21T23:35:50.531Z"
   },
   {
    "duration": -464,
    "start_time": "2021-11-21T23:35:50.535Z"
   },
   {
    "duration": -464,
    "start_time": "2021-11-21T23:35:50.537Z"
   },
   {
    "duration": -466,
    "start_time": "2021-11-21T23:35:50.540Z"
   },
   {
    "duration": -468,
    "start_time": "2021-11-21T23:35:50.543Z"
   },
   {
    "duration": -468,
    "start_time": "2021-11-21T23:35:50.545Z"
   },
   {
    "duration": -521,
    "start_time": "2021-11-21T23:35:50.599Z"
   },
   {
    "duration": -553,
    "start_time": "2021-11-21T23:35:50.632Z"
   },
   {
    "duration": -553,
    "start_time": "2021-11-21T23:35:50.634Z"
   },
   {
    "duration": -553,
    "start_time": "2021-11-21T23:35:50.635Z"
   },
   {
    "duration": -554,
    "start_time": "2021-11-21T23:35:50.637Z"
   },
   {
    "duration": -554,
    "start_time": "2021-11-21T23:35:50.639Z"
   },
   {
    "duration": -554,
    "start_time": "2021-11-21T23:35:50.640Z"
   },
   {
    "duration": -555,
    "start_time": "2021-11-21T23:35:50.642Z"
   },
   {
    "duration": -575,
    "start_time": "2021-11-21T23:35:50.665Z"
   },
   {
    "duration": -613,
    "start_time": "2021-11-21T23:35:50.704Z"
   },
   {
    "duration": -613,
    "start_time": "2021-11-21T23:35:50.706Z"
   },
   {
    "duration": -614,
    "start_time": "2021-11-21T23:35:50.708Z"
   },
   {
    "duration": -620,
    "start_time": "2021-11-21T23:35:50.715Z"
   },
   {
    "duration": -633,
    "start_time": "2021-11-21T23:35:50.730Z"
   },
   {
    "duration": -644,
    "start_time": "2021-11-21T23:35:50.742Z"
   },
   {
    "duration": -652,
    "start_time": "2021-11-21T23:35:50.751Z"
   },
   {
    "duration": -672,
    "start_time": "2021-11-21T23:35:50.772Z"
   },
   {
    "duration": -690,
    "start_time": "2021-11-21T23:35:50.792Z"
   },
   {
    "duration": -701,
    "start_time": "2021-11-21T23:35:50.804Z"
   },
   {
    "duration": -710,
    "start_time": "2021-11-21T23:35:50.815Z"
   },
   {
    "duration": -728,
    "start_time": "2021-11-21T23:35:50.834Z"
   },
   {
    "duration": -755,
    "start_time": "2021-11-21T23:35:50.863Z"
   },
   {
    "duration": -768,
    "start_time": "2021-11-21T23:35:50.877Z"
   },
   {
    "duration": -794,
    "start_time": "2021-11-21T23:35:50.904Z"
   },
   {
    "duration": -806,
    "start_time": "2021-11-21T23:35:50.918Z"
   },
   {
    "duration": -820,
    "start_time": "2021-11-21T23:35:50.933Z"
   },
   {
    "duration": -831,
    "start_time": "2021-11-21T23:35:50.946Z"
   },
   {
    "duration": -839,
    "start_time": "2021-11-21T23:35:50.955Z"
   },
   {
    "duration": -840,
    "start_time": "2021-11-21T23:35:50.958Z"
   },
   {
    "duration": 4,
    "start_time": "2021-11-21T23:36:23.895Z"
   },
   {
    "duration": 1426,
    "start_time": "2021-11-21T23:36:23.902Z"
   },
   {
    "duration": 1219,
    "start_time": "2021-11-21T23:36:25.331Z"
   },
   {
    "duration": 3,
    "start_time": "2021-11-21T23:36:26.553Z"
   },
   {
    "duration": 148,
    "start_time": "2021-11-21T23:36:26.558Z"
   },
   {
    "duration": 20,
    "start_time": "2021-11-21T23:36:26.709Z"
   },
   {
    "duration": 182,
    "start_time": "2021-11-21T23:36:26.731Z"
   },
   {
    "duration": 419,
    "start_time": "2021-11-21T23:36:26.917Z"
   },
   {
    "duration": 20,
    "start_time": "2021-11-21T23:36:27.339Z"
   },
   {
    "duration": 47,
    "start_time": "2021-11-21T23:36:27.362Z"
   },
   {
    "duration": 42,
    "start_time": "2021-11-21T23:36:27.411Z"
   },
   {
    "duration": 81,
    "start_time": "2021-11-21T23:36:27.455Z"
   },
   {
    "duration": 14,
    "start_time": "2021-11-21T23:36:27.538Z"
   },
   {
    "duration": 87,
    "start_time": "2021-11-21T23:36:27.555Z"
   },
   {
    "duration": 77,
    "start_time": "2021-11-21T23:36:27.644Z"
   },
   {
    "duration": 403,
    "start_time": "2021-11-21T23:36:27.723Z"
   },
   {
    "duration": -489,
    "start_time": "2021-11-21T23:36:28.620Z"
   },
   {
    "duration": -508,
    "start_time": "2021-11-21T23:36:28.640Z"
   },
   {
    "duration": -532,
    "start_time": "2021-11-21T23:36:28.665Z"
   },
   {
    "duration": -552,
    "start_time": "2021-11-21T23:36:28.687Z"
   },
   {
    "duration": -572,
    "start_time": "2021-11-21T23:36:28.708Z"
   },
   {
    "duration": -580,
    "start_time": "2021-11-21T23:36:28.717Z"
   },
   {
    "duration": -581,
    "start_time": "2021-11-21T23:36:28.719Z"
   },
   {
    "duration": -582,
    "start_time": "2021-11-21T23:36:28.722Z"
   },
   {
    "duration": -583,
    "start_time": "2021-11-21T23:36:28.724Z"
   },
   {
    "duration": -583,
    "start_time": "2021-11-21T23:36:28.725Z"
   },
   {
    "duration": -582,
    "start_time": "2021-11-21T23:36:28.727Z"
   },
   {
    "duration": -583,
    "start_time": "2021-11-21T23:36:28.729Z"
   },
   {
    "duration": -583,
    "start_time": "2021-11-21T23:36:28.730Z"
   },
   {
    "duration": -583,
    "start_time": "2021-11-21T23:36:28.732Z"
   },
   {
    "duration": -584,
    "start_time": "2021-11-21T23:36:28.734Z"
   },
   {
    "duration": -583,
    "start_time": "2021-11-21T23:36:28.735Z"
   },
   {
    "duration": -584,
    "start_time": "2021-11-21T23:36:28.737Z"
   },
   {
    "duration": -585,
    "start_time": "2021-11-21T23:36:28.739Z"
   },
   {
    "duration": -585,
    "start_time": "2021-11-21T23:36:28.740Z"
   },
   {
    "duration": -585,
    "start_time": "2021-11-21T23:36:28.742Z"
   },
   {
    "duration": -585,
    "start_time": "2021-11-21T23:36:28.743Z"
   },
   {
    "duration": -586,
    "start_time": "2021-11-21T23:36:28.745Z"
   },
   {
    "duration": -586,
    "start_time": "2021-11-21T23:36:28.747Z"
   },
   {
    "duration": -586,
    "start_time": "2021-11-21T23:36:28.748Z"
   },
   {
    "duration": -587,
    "start_time": "2021-11-21T23:36:28.750Z"
   },
   {
    "duration": -587,
    "start_time": "2021-11-21T23:36:28.751Z"
   },
   {
    "duration": -596,
    "start_time": "2021-11-21T23:36:28.762Z"
   },
   {
    "duration": -596,
    "start_time": "2021-11-21T23:36:28.763Z"
   },
   {
    "duration": -597,
    "start_time": "2021-11-21T23:36:28.765Z"
   },
   {
    "duration": -598,
    "start_time": "2021-11-21T23:36:28.767Z"
   },
   {
    "duration": -599,
    "start_time": "2021-11-21T23:36:28.769Z"
   },
   {
    "duration": -599,
    "start_time": "2021-11-21T23:36:28.770Z"
   },
   {
    "duration": -601,
    "start_time": "2021-11-21T23:36:28.773Z"
   },
   {
    "duration": -592,
    "start_time": "2021-11-21T23:36:28.774Z"
   },
   {
    "duration": -593,
    "start_time": "2021-11-21T23:36:28.776Z"
   },
   {
    "duration": -594,
    "start_time": "2021-11-21T23:36:28.778Z"
   },
   {
    "duration": -594,
    "start_time": "2021-11-21T23:36:28.780Z"
   },
   {
    "duration": -594,
    "start_time": "2021-11-21T23:36:28.781Z"
   },
   {
    "duration": -595,
    "start_time": "2021-11-21T23:36:28.783Z"
   },
   {
    "duration": -595,
    "start_time": "2021-11-21T23:36:28.785Z"
   },
   {
    "duration": -595,
    "start_time": "2021-11-21T23:36:28.786Z"
   },
   {
    "duration": -603,
    "start_time": "2021-11-21T23:36:28.800Z"
   },
   {
    "duration": -605,
    "start_time": "2021-11-21T23:36:28.803Z"
   },
   {
    "duration": -609,
    "start_time": "2021-11-21T23:36:28.808Z"
   },
   {
    "duration": -608,
    "start_time": "2021-11-21T23:36:28.809Z"
   },
   {
    "duration": -609,
    "start_time": "2021-11-21T23:36:28.811Z"
   },
   {
    "duration": -610,
    "start_time": "2021-11-21T23:36:28.813Z"
   },
   {
    "duration": -610,
    "start_time": "2021-11-21T23:36:28.814Z"
   },
   {
    "duration": -611,
    "start_time": "2021-11-21T23:36:28.816Z"
   },
   {
    "duration": -612,
    "start_time": "2021-11-21T23:36:28.819Z"
   },
   {
    "duration": -613,
    "start_time": "2021-11-21T23:36:28.821Z"
   },
   {
    "duration": -613,
    "start_time": "2021-11-21T23:36:28.822Z"
   },
   {
    "duration": -614,
    "start_time": "2021-11-21T23:36:28.824Z"
   },
   {
    "duration": -614,
    "start_time": "2021-11-21T23:36:28.826Z"
   },
   {
    "duration": 56,
    "start_time": "2021-11-21T23:37:53.198Z"
   },
   {
    "duration": 5,
    "start_time": "2021-11-21T23:38:41.525Z"
   },
   {
    "duration": 1391,
    "start_time": "2021-11-21T23:38:41.532Z"
   },
   {
    "duration": 2185,
    "start_time": "2021-11-21T23:38:42.926Z"
   },
   {
    "duration": 35,
    "start_time": "2021-11-21T23:38:45.114Z"
   },
   {
    "duration": 221,
    "start_time": "2021-11-21T23:38:45.152Z"
   },
   {
    "duration": 36,
    "start_time": "2021-11-21T23:38:45.376Z"
   },
   {
    "duration": 141,
    "start_time": "2021-11-21T23:38:45.414Z"
   },
   {
    "duration": 298,
    "start_time": "2021-11-21T23:38:45.559Z"
   },
   {
    "duration": 28,
    "start_time": "2021-11-21T23:38:45.860Z"
   },
   {
    "duration": 33,
    "start_time": "2021-11-21T23:38:45.891Z"
   },
   {
    "duration": 60,
    "start_time": "2021-11-21T23:38:45.927Z"
   },
   {
    "duration": 41,
    "start_time": "2021-11-21T23:38:45.989Z"
   },
   {
    "duration": 16,
    "start_time": "2021-11-21T23:38:46.033Z"
   },
   {
    "duration": 61,
    "start_time": "2021-11-21T23:38:46.051Z"
   },
   {
    "duration": 35,
    "start_time": "2021-11-21T23:38:46.114Z"
   },
   {
    "duration": 398,
    "start_time": "2021-11-21T23:38:46.152Z"
   },
   {
    "duration": -404,
    "start_time": "2021-11-21T23:38:46.959Z"
   },
   {
    "duration": -411,
    "start_time": "2021-11-21T23:38:46.967Z"
   },
   {
    "duration": -417,
    "start_time": "2021-11-21T23:38:46.975Z"
   },
   {
    "duration": -419,
    "start_time": "2021-11-21T23:38:46.978Z"
   },
   {
    "duration": -421,
    "start_time": "2021-11-21T23:38:46.981Z"
   },
   {
    "duration": -421,
    "start_time": "2021-11-21T23:38:46.983Z"
   },
   {
    "duration": -422,
    "start_time": "2021-11-21T23:38:46.985Z"
   },
   {
    "duration": -421,
    "start_time": "2021-11-21T23:38:46.987Z"
   },
   {
    "duration": -421,
    "start_time": "2021-11-21T23:38:46.988Z"
   },
   {
    "duration": -421,
    "start_time": "2021-11-21T23:38:46.990Z"
   },
   {
    "duration": -427,
    "start_time": "2021-11-21T23:38:46.997Z"
   },
   {
    "duration": -429,
    "start_time": "2021-11-21T23:38:47.000Z"
   },
   {
    "duration": -430,
    "start_time": "2021-11-21T23:38:47.002Z"
   },
   {
    "duration": -429,
    "start_time": "2021-11-21T23:38:47.003Z"
   },
   {
    "duration": -430,
    "start_time": "2021-11-21T23:38:47.005Z"
   },
   {
    "duration": -431,
    "start_time": "2021-11-21T23:38:47.007Z"
   },
   {
    "duration": -431,
    "start_time": "2021-11-21T23:38:47.009Z"
   },
   {
    "duration": -431,
    "start_time": "2021-11-21T23:38:47.010Z"
   },
   {
    "duration": -432,
    "start_time": "2021-11-21T23:38:47.012Z"
   },
   {
    "duration": -432,
    "start_time": "2021-11-21T23:38:47.014Z"
   },
   {
    "duration": -440,
    "start_time": "2021-11-21T23:38:47.023Z"
   },
   {
    "duration": -440,
    "start_time": "2021-11-21T23:38:47.025Z"
   },
   {
    "duration": -441,
    "start_time": "2021-11-21T23:38:47.027Z"
   },
   {
    "duration": -441,
    "start_time": "2021-11-21T23:38:47.029Z"
   },
   {
    "duration": -442,
    "start_time": "2021-11-21T23:38:47.031Z"
   },
   {
    "duration": -441,
    "start_time": "2021-11-21T23:38:47.032Z"
   },
   {
    "duration": -442,
    "start_time": "2021-11-21T23:38:47.034Z"
   },
   {
    "duration": -442,
    "start_time": "2021-11-21T23:38:47.036Z"
   },
   {
    "duration": -443,
    "start_time": "2021-11-21T23:38:47.038Z"
   },
   {
    "duration": -452,
    "start_time": "2021-11-21T23:38:47.049Z"
   },
   {
    "duration": -454,
    "start_time": "2021-11-21T23:38:47.052Z"
   },
   {
    "duration": -456,
    "start_time": "2021-11-21T23:38:47.055Z"
   },
   {
    "duration": -518,
    "start_time": "2021-11-21T23:38:47.119Z"
   },
   {
    "duration": -519,
    "start_time": "2021-11-21T23:38:47.121Z"
   },
   {
    "duration": -576,
    "start_time": "2021-11-21T23:38:47.180Z"
   },
   {
    "duration": -582,
    "start_time": "2021-11-21T23:38:47.187Z"
   },
   {
    "duration": -581,
    "start_time": "2021-11-21T23:38:47.188Z"
   },
   {
    "duration": -581,
    "start_time": "2021-11-21T23:38:47.190Z"
   },
   {
    "duration": -582,
    "start_time": "2021-11-21T23:38:47.192Z"
   },
   {
    "duration": -582,
    "start_time": "2021-11-21T23:38:47.193Z"
   },
   {
    "duration": -582,
    "start_time": "2021-11-21T23:38:47.195Z"
   },
   {
    "duration": -583,
    "start_time": "2021-11-21T23:38:47.197Z"
   },
   {
    "duration": -582,
    "start_time": "2021-11-21T23:38:47.198Z"
   },
   {
    "duration": -583,
    "start_time": "2021-11-21T23:38:47.200Z"
   },
   {
    "duration": -584,
    "start_time": "2021-11-21T23:38:47.202Z"
   },
   {
    "duration": -585,
    "start_time": "2021-11-21T23:38:47.204Z"
   },
   {
    "duration": -585,
    "start_time": "2021-11-21T23:38:47.206Z"
   },
   {
    "duration": -585,
    "start_time": "2021-11-21T23:38:47.207Z"
   },
   {
    "duration": -586,
    "start_time": "2021-11-21T23:38:47.209Z"
   },
   {
    "duration": -587,
    "start_time": "2021-11-21T23:38:47.211Z"
   },
   {
    "duration": -530,
    "start_time": "2021-11-21T23:38:47.212Z"
   },
   {
    "duration": -530,
    "start_time": "2021-11-21T23:38:47.214Z"
   },
   {
    "duration": -531,
    "start_time": "2021-11-21T23:38:47.216Z"
   },
   {
    "duration": -531,
    "start_time": "2021-11-21T23:38:47.217Z"
   },
   {
    "duration": 6,
    "start_time": "2021-11-21T23:38:52.800Z"
   },
   {
    "duration": 1412,
    "start_time": "2021-11-21T23:38:52.809Z"
   },
   {
    "duration": 2313,
    "start_time": "2021-11-21T23:38:54.224Z"
   },
   {
    "duration": 284,
    "start_time": "2021-11-21T23:38:56.540Z"
   },
   {
    "duration": 30,
    "start_time": "2021-11-21T23:38:56.827Z"
   },
   {
    "duration": 184,
    "start_time": "2021-11-21T23:38:56.860Z"
   },
   {
    "duration": 365,
    "start_time": "2021-11-21T23:38:57.046Z"
   },
   {
    "duration": 22,
    "start_time": "2021-11-21T23:38:57.415Z"
   },
   {
    "duration": 61,
    "start_time": "2021-11-21T23:38:57.441Z"
   },
   {
    "duration": 35,
    "start_time": "2021-11-21T23:38:57.505Z"
   },
   {
    "duration": 69,
    "start_time": "2021-11-21T23:38:57.543Z"
   },
   {
    "duration": 14,
    "start_time": "2021-11-21T23:38:57.615Z"
   },
   {
    "duration": 84,
    "start_time": "2021-11-21T23:38:57.632Z"
   },
   {
    "duration": 33,
    "start_time": "2021-11-21T23:38:57.719Z"
   },
   {
    "duration": 428,
    "start_time": "2021-11-21T23:38:57.754Z"
   },
   {
    "duration": -409,
    "start_time": "2021-11-21T23:38:58.596Z"
   },
   {
    "duration": -408,
    "start_time": "2021-11-21T23:38:58.598Z"
   },
   {
    "duration": -409,
    "start_time": "2021-11-21T23:38:58.600Z"
   },
   {
    "duration": -410,
    "start_time": "2021-11-21T23:38:58.603Z"
   },
   {
    "duration": -415,
    "start_time": "2021-11-21T23:38:58.610Z"
   },
   {
    "duration": -414,
    "start_time": "2021-11-21T23:38:58.611Z"
   },
   {
    "duration": -414,
    "start_time": "2021-11-21T23:38:58.613Z"
   },
   {
    "duration": -415,
    "start_time": "2021-11-21T23:38:58.615Z"
   },
   {
    "duration": -420,
    "start_time": "2021-11-21T23:38:58.622Z"
   },
   {
    "duration": -420,
    "start_time": "2021-11-21T23:38:58.623Z"
   },
   {
    "duration": -474,
    "start_time": "2021-11-21T23:38:58.679Z"
   },
   {
    "duration": -479,
    "start_time": "2021-11-21T23:38:58.685Z"
   },
   {
    "duration": -478,
    "start_time": "2021-11-21T23:38:58.687Z"
   },
   {
    "duration": -479,
    "start_time": "2021-11-21T23:38:58.689Z"
   },
   {
    "duration": -479,
    "start_time": "2021-11-21T23:38:58.691Z"
   },
   {
    "duration": -479,
    "start_time": "2021-11-21T23:38:58.692Z"
   },
   {
    "duration": -480,
    "start_time": "2021-11-21T23:38:58.694Z"
   },
   {
    "duration": -485,
    "start_time": "2021-11-21T23:38:58.701Z"
   },
   {
    "duration": -495,
    "start_time": "2021-11-21T23:38:58.712Z"
   },
   {
    "duration": -496,
    "start_time": "2021-11-21T23:38:58.714Z"
   },
   {
    "duration": -495,
    "start_time": "2021-11-21T23:38:58.715Z"
   },
   {
    "duration": -495,
    "start_time": "2021-11-21T23:38:58.717Z"
   },
   {
    "duration": -501,
    "start_time": "2021-11-21T23:38:58.725Z"
   },
   {
    "duration": -509,
    "start_time": "2021-11-21T23:38:58.734Z"
   },
   {
    "duration": -509,
    "start_time": "2021-11-21T23:38:58.735Z"
   },
   {
    "duration": -515,
    "start_time": "2021-11-21T23:38:58.743Z"
   },
   {
    "duration": -539,
    "start_time": "2021-11-21T23:38:58.768Z"
   },
   {
    "duration": -540,
    "start_time": "2021-11-21T23:38:58.770Z"
   },
   {
    "duration": -541,
    "start_time": "2021-11-21T23:38:58.772Z"
   },
   {
    "duration": -541,
    "start_time": "2021-11-21T23:38:58.773Z"
   },
   {
    "duration": -493,
    "start_time": "2021-11-21T23:38:58.775Z"
   },
   {
    "duration": -516,
    "start_time": "2021-11-21T23:38:58.799Z"
   },
   {
    "duration": -527,
    "start_time": "2021-11-21T23:38:58.811Z"
   },
   {
    "duration": -527,
    "start_time": "2021-11-21T23:38:58.813Z"
   },
   {
    "duration": -528,
    "start_time": "2021-11-21T23:38:58.815Z"
   },
   {
    "duration": -557,
    "start_time": "2021-11-21T23:38:58.845Z"
   },
   {
    "duration": -557,
    "start_time": "2021-11-21T23:38:58.847Z"
   },
   {
    "duration": -557,
    "start_time": "2021-11-21T23:38:58.848Z"
   },
   {
    "duration": -557,
    "start_time": "2021-11-21T23:38:58.850Z"
   },
   {
    "duration": -558,
    "start_time": "2021-11-21T23:38:58.852Z"
   },
   {
    "duration": -561,
    "start_time": "2021-11-21T23:38:58.857Z"
   },
   {
    "duration": -562,
    "start_time": "2021-11-21T23:38:58.859Z"
   },
   {
    "duration": -568,
    "start_time": "2021-11-21T23:38:58.866Z"
   },
   {
    "duration": -567,
    "start_time": "2021-11-21T23:38:58.867Z"
   },
   {
    "duration": -574,
    "start_time": "2021-11-21T23:38:58.875Z"
   },
   {
    "duration": -582,
    "start_time": "2021-11-21T23:38:58.884Z"
   },
   {
    "duration": -582,
    "start_time": "2021-11-21T23:38:58.886Z"
   },
   {
    "duration": -582,
    "start_time": "2021-11-21T23:38:58.887Z"
   },
   {
    "duration": -583,
    "start_time": "2021-11-21T23:38:58.889Z"
   },
   {
    "duration": -588,
    "start_time": "2021-11-21T23:38:58.895Z"
   },
   {
    "duration": -588,
    "start_time": "2021-11-21T23:38:58.897Z"
   },
   {
    "duration": -588,
    "start_time": "2021-11-21T23:38:58.898Z"
   },
   {
    "duration": -589,
    "start_time": "2021-11-21T23:38:58.900Z"
   },
   {
    "duration": -589,
    "start_time": "2021-11-21T23:38:58.902Z"
   },
   {
    "duration": 11,
    "start_time": "2021-11-21T23:39:35.124Z"
   },
   {
    "duration": 339,
    "start_time": "2021-11-21T23:39:35.915Z"
   },
   {
    "duration": 52,
    "start_time": "2021-11-21T23:39:44.347Z"
   },
   {
    "duration": 13,
    "start_time": "2021-11-21T23:40:17.198Z"
   },
   {
    "duration": 69,
    "start_time": "2021-11-21T23:40:18.045Z"
   },
   {
    "duration": 40,
    "start_time": "2021-11-21T23:40:18.623Z"
   },
   {
    "duration": 24,
    "start_time": "2021-11-21T23:40:21.017Z"
   },
   {
    "duration": 33,
    "start_time": "2021-11-21T23:40:24.736Z"
   },
   {
    "duration": 120,
    "start_time": "2021-11-21T23:40:27.678Z"
   },
   {
    "duration": 35,
    "start_time": "2021-11-21T23:40:28.216Z"
   },
   {
    "duration": 32,
    "start_time": "2021-11-21T23:40:31.596Z"
   },
   {
    "duration": 76,
    "start_time": "2021-11-21T23:40:32.972Z"
   },
   {
    "duration": 70,
    "start_time": "2021-11-21T23:40:33.459Z"
   },
   {
    "duration": 33,
    "start_time": "2021-11-21T23:40:35.519Z"
   },
   {
    "duration": 156,
    "start_time": "2021-11-21T23:40:35.967Z"
   },
   {
    "duration": 237,
    "start_time": "2021-11-21T23:40:36.343Z"
   },
   {
    "duration": 34,
    "start_time": "2021-11-21T23:40:39.086Z"
   },
   {
    "duration": 436,
    "start_time": "2021-11-21T23:40:39.593Z"
   },
   {
    "duration": 169,
    "start_time": "2021-11-21T23:40:40.103Z"
   },
   {
    "duration": 37,
    "start_time": "2021-11-21T23:40:42.491Z"
   },
   {
    "duration": 79,
    "start_time": "2021-11-21T23:40:43.246Z"
   },
   {
    "duration": 67,
    "start_time": "2021-11-21T23:40:44.337Z"
   },
   {
    "duration": 5,
    "start_time": "2021-11-21T23:43:18.337Z"
   },
   {
    "duration": 1432,
    "start_time": "2021-11-21T23:43:18.344Z"
   },
   {
    "duration": 2585,
    "start_time": "2021-11-21T23:43:19.783Z"
   },
   {
    "duration": 406,
    "start_time": "2021-11-21T23:43:22.371Z"
   },
   {
    "duration": 30,
    "start_time": "2021-11-21T23:43:22.782Z"
   },
   {
    "duration": 182,
    "start_time": "2021-11-21T23:43:22.814Z"
   },
   {
    "duration": 355,
    "start_time": "2021-11-21T23:43:22.998Z"
   },
   {
    "duration": 25,
    "start_time": "2021-11-21T23:43:23.357Z"
   },
   {
    "duration": 32,
    "start_time": "2021-11-21T23:43:23.386Z"
   },
   {
    "duration": 35,
    "start_time": "2021-11-21T23:43:23.421Z"
   },
   {
    "duration": 52,
    "start_time": "2021-11-21T23:43:23.483Z"
   },
   {
    "duration": 16,
    "start_time": "2021-11-21T23:43:23.537Z"
   },
   {
    "duration": 61,
    "start_time": "2021-11-21T23:43:23.582Z"
   },
   {
    "duration": 16,
    "start_time": "2021-11-21T23:43:23.645Z"
   },
   {
    "duration": 13,
    "start_time": "2021-11-21T23:43:23.683Z"
   },
   {
    "duration": 44,
    "start_time": "2021-11-21T23:43:23.698Z"
   },
   {
    "duration": 40,
    "start_time": "2021-11-21T23:43:23.745Z"
   },
   {
    "duration": 48,
    "start_time": "2021-11-21T23:43:23.787Z"
   },
   {
    "duration": 19,
    "start_time": "2021-11-21T23:43:23.838Z"
   },
   {
    "duration": 17,
    "start_time": "2021-11-21T23:43:23.882Z"
   },
   {
    "duration": 52,
    "start_time": "2021-11-21T23:43:23.901Z"
   },
   {
    "duration": 133,
    "start_time": "2021-11-21T23:43:23.955Z"
   },
   {
    "duration": 39,
    "start_time": "2021-11-21T23:43:24.093Z"
   },
   {
    "duration": 52,
    "start_time": "2021-11-21T23:43:24.136Z"
   },
   {
    "duration": 76,
    "start_time": "2021-11-21T23:43:24.191Z"
   },
   {
    "duration": 72,
    "start_time": "2021-11-21T23:43:24.282Z"
   },
   {
    "duration": 74,
    "start_time": "2021-11-21T23:43:24.357Z"
   },
   {
    "duration": 236,
    "start_time": "2021-11-21T23:43:24.434Z"
   },
   {
    "duration": 302,
    "start_time": "2021-11-21T23:43:24.673Z"
   },
   {
    "duration": 57,
    "start_time": "2021-11-21T23:43:24.978Z"
   },
   {
    "duration": 554,
    "start_time": "2021-11-21T23:43:25.038Z"
   },
   {
    "duration": 195,
    "start_time": "2021-11-21T23:43:25.595Z"
   },
   {
    "duration": 34,
    "start_time": "2021-11-21T23:43:25.793Z"
   },
   {
    "duration": 99,
    "start_time": "2021-11-21T23:43:25.830Z"
   },
   {
    "duration": 81,
    "start_time": "2021-11-21T23:43:25.931Z"
   },
   {
    "duration": 39,
    "start_time": "2021-11-21T23:43:26.014Z"
   },
   {
    "duration": 184,
    "start_time": "2021-11-21T23:43:26.056Z"
   },
   {
    "duration": 40,
    "start_time": "2021-11-21T23:43:26.243Z"
   },
   {
    "duration": 402,
    "start_time": "2021-11-21T23:43:26.286Z"
   },
   {
    "duration": -418,
    "start_time": "2021-11-21T23:43:27.108Z"
   },
   {
    "duration": -423,
    "start_time": "2021-11-21T23:43:27.115Z"
   },
   {
    "duration": -426,
    "start_time": "2021-11-21T23:43:27.119Z"
   },
   {
    "duration": -427,
    "start_time": "2021-11-21T23:43:27.122Z"
   },
   {
    "duration": -432,
    "start_time": "2021-11-21T23:43:27.128Z"
   },
   {
    "duration": -434,
    "start_time": "2021-11-21T23:43:27.131Z"
   },
   {
    "duration": -433,
    "start_time": "2021-11-21T23:43:27.132Z"
   },
   {
    "duration": -435,
    "start_time": "2021-11-21T23:43:27.135Z"
   },
   {
    "duration": -434,
    "start_time": "2021-11-21T23:43:27.136Z"
   },
   {
    "duration": -439,
    "start_time": "2021-11-21T23:43:27.142Z"
   },
   {
    "duration": -439,
    "start_time": "2021-11-21T23:43:27.144Z"
   },
   {
    "duration": -440,
    "start_time": "2021-11-21T23:43:27.146Z"
   },
   {
    "duration": -474,
    "start_time": "2021-11-21T23:43:27.181Z"
   },
   {
    "duration": -479,
    "start_time": "2021-11-21T23:43:27.187Z"
   },
   {
    "duration": -478,
    "start_time": "2021-11-21T23:43:27.188Z"
   },
   {
    "duration": -482,
    "start_time": "2021-11-21T23:43:27.193Z"
   },
   {
    "duration": -483,
    "start_time": "2021-11-21T23:43:27.196Z"
   },
   {
    "duration": -487,
    "start_time": "2021-11-21T23:43:27.201Z"
   },
   {
    "duration": -488,
    "start_time": "2021-11-21T23:43:27.203Z"
   },
   {
    "duration": -495,
    "start_time": "2021-11-21T23:43:27.212Z"
   },
   {
    "duration": -498,
    "start_time": "2021-11-21T23:43:27.216Z"
   },
   {
    "duration": -499,
    "start_time": "2021-11-21T23:43:27.218Z"
   },
   {
    "duration": -502,
    "start_time": "2021-11-21T23:43:27.222Z"
   },
   {
    "duration": -506,
    "start_time": "2021-11-21T23:43:27.228Z"
   },
   {
    "duration": -511,
    "start_time": "2021-11-21T23:43:27.234Z"
   },
   {
    "duration": -512,
    "start_time": "2021-11-21T23:43:27.237Z"
   },
   {
    "duration": -517,
    "start_time": "2021-11-21T23:43:27.243Z"
   },
   {
    "duration": -523,
    "start_time": "2021-11-21T23:43:27.250Z"
   },
   {
    "duration": -529,
    "start_time": "2021-11-21T23:43:27.257Z"
   },
   {
    "duration": 52,
    "start_time": "2021-11-21T23:44:02.399Z"
   },
   {
    "duration": 153,
    "start_time": "2021-11-21T23:44:03.041Z"
   },
   {
    "duration": 7,
    "start_time": "2021-11-21T23:44:04.711Z"
   },
   {
    "duration": 440,
    "start_time": "2021-11-21T23:44:05.447Z"
   },
   {
    "duration": 2840,
    "start_time": "2021-11-21T23:44:08.049Z"
   },
   {
    "duration": 107,
    "start_time": "2021-11-21T23:44:10.893Z"
   },
   {
    "duration": 11,
    "start_time": "2021-11-21T23:44:11.457Z"
   },
   {
    "duration": 4,
    "start_time": "2021-11-21T23:44:14.349Z"
   },
   {
    "duration": 13649,
    "start_time": "2021-11-21T23:44:14.858Z"
   },
   {
    "duration": 7,
    "start_time": "2021-11-21T23:44:28.510Z"
   },
   {
    "duration": 4,
    "start_time": "2021-11-21T23:44:28.520Z"
   },
   {
    "duration": 4,
    "start_time": "2021-11-21T23:44:28.527Z"
   },
   {
    "duration": 431,
    "start_time": "2021-11-21T23:44:28.533Z"
   },
   {
    "duration": 52,
    "start_time": "2021-11-21T23:44:28.966Z"
   },
   {
    "duration": 8,
    "start_time": "2021-11-21T23:44:29.021Z"
   },
   {
    "duration": 35,
    "start_time": "2021-11-21T23:44:33.200Z"
   },
   {
    "duration": 11,
    "start_time": "2021-11-21T23:44:38.896Z"
   },
   {
    "duration": 41,
    "start_time": "2021-11-21T23:44:40.296Z"
   },
   {
    "duration": 5,
    "start_time": "2021-11-21T23:44:42.800Z"
   },
   {
    "duration": 14,
    "start_time": "2021-11-21T23:44:43.090Z"
   },
   {
    "duration": 4,
    "start_time": "2021-11-21T23:44:46.372Z"
   },
   {
    "duration": 180539,
    "start_time": "2021-11-21T23:44:47.212Z"
   },
   {
    "duration": 32,
    "start_time": "2021-11-21T23:47:47.754Z"
   },
   {
    "duration": 5396075,
    "start_time": "2021-11-21T23:48:06.216Z"
   },
   {
    "duration": 162738,
    "start_time": "2021-11-22T01:19:14.746Z"
   },
   {
    "duration": 1522,
    "start_time": "2021-11-22T01:21:57.486Z"
   },
   {
    "duration": 8,
    "start_time": "2021-11-22T01:21:59.011Z"
   },
   {
    "duration": 21,
    "start_time": "2021-11-22T01:23:10.639Z"
   }
  ],
  "kernelspec": {
   "display_name": "Python 3",
   "language": "python",
   "name": "python3"
  },
  "language_info": {
   "codemirror_mode": {
    "name": "ipython",
    "version": 3
   },
   "file_extension": ".py",
   "mimetype": "text/x-python",
   "name": "python",
   "nbconvert_exporter": "python",
   "pygments_lexer": "ipython3",
   "version": "3.8.8"
  },
  "toc": {
   "base_numbering": 1,
   "nav_menu": {},
   "number_sections": true,
   "sideBar": true,
   "skip_h1_title": true,
   "title_cell": "Table of Contents",
   "title_sidebar": "Contents",
   "toc_cell": false,
   "toc_position": {},
   "toc_section_display": true,
   "toc_window_display": false
  }
 },
 "nbformat": 4,
 "nbformat_minor": 2
}
