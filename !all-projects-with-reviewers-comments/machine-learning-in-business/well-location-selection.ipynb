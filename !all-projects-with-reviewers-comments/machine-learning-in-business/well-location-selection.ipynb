{
 "cells": [
  {
   "cell_type": "markdown",
   "metadata": {},
   "source": [
    "<div style=\"background: #cceeaa; padding: 5px; border: 1px solid green; border-radius: 5px;\">\n",
    "    <font color='green'> <b><u>КОММЕНТАРИЙ РЕВЬЮЕРА</u></b>\n",
    "\n",
    "Александр, доброго дня! рад приветствовать тебя) <br />\n",
    "<br />\n",
    "Меня зовут Николай Шавлюго. <br />И на этом этапе твоего движения к новой профессии от меня будут комментарии по написанному коду. <br />Чтобы меньше \"мусорить эфир\" и чтобы максимально наглядно отделяться от основного кода, есть предложение условиться в некоторых обозначениях:<br /> <br />\n",
    "<u><b>ТАКОЙ ШРИФТ</b></u> - всегда начало комментария <br />\n",
    "<font color='green'>такой шрифт</font> - комментарии о том, что всё ОК <br/>\n",
    "<font color='orange'>такой шрифт</font> - комментарии о том, что всё ОК по результату,<br> однако есть на что обратить внимание в плане применения техник, или есть способы сделать более короткий или быстрый код <br/>\n",
    "<font color='red'>такой шрифт</font> - комментарии о том, что есть критичный момент, влияющий на бизнес-результат проекта.<br/>\n",
    "</font><br /><br />\n",
    "<font color='green'>Моей целью является не \"уличить\" в не знании, а просто высказать сверху твоих знаний - свой опыт, что бы ты мог использовать его для своего дальнейшего успеха) И очень здорово будет, если тебе удастся задавать вопросы, да и вообще - всячески доставать меня, если я по каким-то причинам не приму проект:) При этом, из своего опыта скажу, хорошо и важно, когда переписка ревьюера и студента - сохраняется на следующие проекты и даже на будущую практическую деятельность.<br>\n",
    "<br> Я сразу же начал общаться на ты:) но если это не очень удобно, то дай знать)) <BR> В ПУТЬ!<br>"
   ]
  },
  {
   "cell_type": "markdown",
   "metadata": {},
   "source": [
    "# Выбор локации для скважины"
   ]
  },
  {
   "cell_type": "markdown",
   "metadata": {},
   "source": [
    "Допустим, вы работаете в добывающей компании «ГлавРосГосНефть». Нужно решить, где бурить новую скважину.\n",
    "\n",
    "Вам предоставлены пробы нефти в трёх регионах: в каждом 10 000 месторождений, где измерили качество нефти и объём её запасов. Постройте модель машинного обучения, которая поможет определить регион, где добыча принесёт наибольшую прибыль. Проанализируйте возможную прибыль и риски техникой *Bootstrap.*\n",
    "\n",
    "Шаги для выбора локации:\n",
    "\n",
    "- В избранном регионе ищут месторождения, для каждого определяют значения признаков;\n",
    "- Строят модель и оценивают объём запасов;\n",
    "- Выбирают месторождения с самым высокими оценками значений. Количество месторождений зависит от бюджета компании и стоимости разработки одной скважины;\n",
    "- Прибыль равна суммарной прибыли отобранных месторождений."
   ]
  },
  {
   "cell_type": "markdown",
   "metadata": {},
   "source": [
    "**ИМПОРТЫ**"
   ]
  },
  {
   "cell_type": "code",
   "execution_count": 1,
   "metadata": {},
   "outputs": [],
   "source": [
    "import numpy as np\n",
    "import pandas as pd\n",
    "\n",
    "from sklearn.model_selection import train_test_split\n",
    "from sklearn.linear_model import LinearRegression\n",
    "from sklearn.metrics import mean_squared_error\n",
    "from sklearn.metrics import r2_score\n",
    "\n",
    "from sklearn.preprocessing import StandardScaler"
   ]
  },
  {
   "cell_type": "markdown",
   "metadata": {},
   "source": [
    "## Загрузка и подготовка данных"
   ]
  },
  {
   "cell_type": "code",
   "execution_count": 2,
   "metadata": {},
   "outputs": [],
   "source": [
    "df1 = pd.read_csv('/datasets/geo_data_0.csv')\n",
    "df2 = pd.read_csv('/datasets/geo_data_1.csv')\n",
    "df3 = pd.read_csv('/datasets/geo_data_2.csv')"
   ]
  },
  {
   "cell_type": "markdown",
   "metadata": {},
   "source": [
    "<div style=\"background: #cceeaa; padding: 5px; border: 1px solid green; border-radius: 5px;\">\n",
    "    <font color='green'> <b><u>КОММЕНТАРИЙ РЕВЬЮЕРА</u></b>\n",
    "</font>\n",
    "<font color='green'><br>ОК, данные на базе)"
   ]
  },
  {
   "cell_type": "markdown",
   "metadata": {},
   "source": [
    "### Проверка данных в каждом из датасетов"
   ]
  },
  {
   "cell_type": "markdown",
   "metadata": {},
   "source": [
    "**1 регион**"
   ]
  },
  {
   "cell_type": "code",
   "execution_count": 3,
   "metadata": {
    "scrolled": true
   },
   "outputs": [
    {
     "name": "stdout",
     "output_type": "stream",
     "text": [
      "      id        f0        f1        f2     product\n",
      "0  txEyH  0.705745 -0.497823  1.221170  105.280062\n",
      "1  2acmU  1.334711 -0.340164  4.365080   73.037750\n",
      "2  409Wp  1.022732  0.151990  1.419926   85.265647\n",
      "3  iJLyR -0.032172  0.139033  2.978566  168.620776\n",
      "4  Xdl7t  1.988431  0.155413  4.751769  154.036647\n",
      "<class 'pandas.core.frame.DataFrame'>\n",
      "RangeIndex: 100000 entries, 0 to 99999\n",
      "Data columns (total 5 columns):\n",
      "id         100000 non-null object\n",
      "f0         100000 non-null float64\n",
      "f1         100000 non-null float64\n",
      "f2         100000 non-null float64\n",
      "product    100000 non-null float64\n",
      "dtypes: float64(4), object(1)\n",
      "memory usage: 3.8+ MB\n"
     ]
    }
   ],
   "source": [
    "print(df1.head())\n",
    "df1.info()"
   ]
  },
  {
   "cell_type": "markdown",
   "metadata": {},
   "source": [
    "**2 регион**"
   ]
  },
  {
   "cell_type": "code",
   "execution_count": 4,
   "metadata": {},
   "outputs": [
    {
     "name": "stdout",
     "output_type": "stream",
     "text": [
      "      id         f0         f1        f2     product\n",
      "0  kBEdx -15.001348  -8.276000 -0.005876    3.179103\n",
      "1  62mP7  14.272088  -3.475083  0.999183   26.953261\n",
      "2  vyE1P   6.263187  -5.948386  5.001160  134.766305\n",
      "3  KcrkZ -13.081196 -11.506057  4.999415  137.945408\n",
      "4  AHL4O  12.702195  -8.147433  5.004363  134.766305\n",
      "<class 'pandas.core.frame.DataFrame'>\n",
      "RangeIndex: 100000 entries, 0 to 99999\n",
      "Data columns (total 5 columns):\n",
      "id         100000 non-null object\n",
      "f0         100000 non-null float64\n",
      "f1         100000 non-null float64\n",
      "f2         100000 non-null float64\n",
      "product    100000 non-null float64\n",
      "dtypes: float64(4), object(1)\n",
      "memory usage: 3.8+ MB\n"
     ]
    }
   ],
   "source": [
    "print(df2.head())\n",
    "df2.info()"
   ]
  },
  {
   "cell_type": "markdown",
   "metadata": {},
   "source": [
    "**3 регион**"
   ]
  },
  {
   "cell_type": "code",
   "execution_count": 5,
   "metadata": {
    "scrolled": true
   },
   "outputs": [
    {
     "name": "stdout",
     "output_type": "stream",
     "text": [
      "      id        f0        f1        f2     product\n",
      "0  fwXo0 -1.146987  0.963328 -0.828965   27.758673\n",
      "1  WJtFt  0.262778  0.269839 -2.530187   56.069697\n",
      "2  ovLUW  0.194587  0.289035 -5.586433   62.871910\n",
      "3  q6cA6  2.236060 -0.553760  0.930038  114.572842\n",
      "4  WPMUX -0.515993  1.716266  5.899011  149.600746\n",
      "<class 'pandas.core.frame.DataFrame'>\n",
      "RangeIndex: 100000 entries, 0 to 99999\n",
      "Data columns (total 5 columns):\n",
      "id         100000 non-null object\n",
      "f0         100000 non-null float64\n",
      "f1         100000 non-null float64\n",
      "f2         100000 non-null float64\n",
      "product    100000 non-null float64\n",
      "dtypes: float64(4), object(1)\n",
      "memory usage: 3.8+ MB\n"
     ]
    }
   ],
   "source": [
    "print(df3.head())\n",
    "df3.info()"
   ]
  },
  {
   "cell_type": "markdown",
   "metadata": {},
   "source": [
    "**Вывод по блоку:**\n",
    "Данные без пропусков, предобработки не требуют"
   ]
  },
  {
   "cell_type": "markdown",
   "metadata": {},
   "source": [
    "<div style=\"background: #cceeaa; padding: 5px; border: 1px solid green; border-radius: 5px;\">\n",
    "    <font color='green'> <b><u>КОММЕНТАРИЙ РЕВЬЮЕРА</u></b>\n",
    "</font>\n",
    "<font color='green'><br>И есть первичный аналитический осмотр). Также, можно также ещё посмотреть корреляционный анлиз, добавить графики."
   ]
  },
  {
   "cell_type": "markdown",
   "metadata": {},
   "source": [
    "### Проверка данных для построения моделей"
   ]
  },
  {
   "cell_type": "code",
   "execution_count": 6,
   "metadata": {},
   "outputs": [],
   "source": [
    "numeric = ['f0', 'f1', 'f2', 'product']"
   ]
  },
  {
   "cell_type": "markdown",
   "metadata": {},
   "source": [
    "**1 регион**"
   ]
  },
  {
   "cell_type": "code",
   "execution_count": 7,
   "metadata": {},
   "outputs": [],
   "source": [
    "df1 = df1[numeric]"
   ]
  },
  {
   "cell_type": "code",
   "execution_count": 8,
   "metadata": {},
   "outputs": [],
   "source": [
    "features1 = df1.drop(['product'], axis = 1)\n",
    "target1 = df1['product']"
   ]
  },
  {
   "cell_type": "code",
   "execution_count": 9,
   "metadata": {},
   "outputs": [],
   "source": [
    "features1_train, features1_valid, target1_train, target1_valid = train_test_split(features1, target1, test_size = 0.25, random_state = 12345)"
   ]
  },
  {
   "cell_type": "code",
   "execution_count": 10,
   "metadata": {},
   "outputs": [
    {
     "name": "stdout",
     "output_type": "stream",
     "text": [
      "Размеры тренировочной выборки:\n",
      "(75000, 3)\n",
      "(75000,)\n",
      "Размеры валидационной выборки:\n",
      "(25000, 3)\n",
      "(25000,)\n"
     ]
    }
   ],
   "source": [
    "print('Размеры тренировочной выборки:')\n",
    "print(features1_train.shape)\n",
    "print(target1_train.shape)\n",
    "\n",
    "print('Размеры валидационной выборки:')\n",
    "print(features1_valid.shape)\n",
    "print(target1_valid.shape)\n"
   ]
  },
  {
   "cell_type": "code",
   "execution_count": 11,
   "metadata": {},
   "outputs": [
    {
     "name": "stdout",
     "output_type": "stream",
     "text": [
      "Скаляризация - уравновешивание признаков...\n"
     ]
    }
   ],
   "source": [
    "print('Скаляризация - уравновешивание признаков...')\n",
    "\n",
    "scaler = StandardScaler()\n",
    "\n",
    "features1_train = scaler.fit_transform(features1_train)\n",
    "features1_valid = scaler.transform(features1_valid)"
   ]
  },
  {
   "cell_type": "markdown",
   "metadata": {},
   "source": [
    "**2 регион**"
   ]
  },
  {
   "cell_type": "code",
   "execution_count": 12,
   "metadata": {},
   "outputs": [],
   "source": [
    "df2 = df2[numeric]"
   ]
  },
  {
   "cell_type": "code",
   "execution_count": 13,
   "metadata": {},
   "outputs": [],
   "source": [
    "features2 = df2.drop(['product'], axis = 1)\n",
    "target2 = df2['product']"
   ]
  },
  {
   "cell_type": "code",
   "execution_count": 14,
   "metadata": {},
   "outputs": [],
   "source": [
    "features2_train, features2_valid, target2_train, target2_valid = train_test_split(features2, target2, test_size = 0.25, random_state = 12345)"
   ]
  },
  {
   "cell_type": "code",
   "execution_count": 15,
   "metadata": {},
   "outputs": [
    {
     "name": "stdout",
     "output_type": "stream",
     "text": [
      "Размеры тренировочной выборки:\n",
      "(75000, 3)\n",
      "(75000,)\n",
      "Размеры валидационной выборки:\n",
      "(25000, 3)\n",
      "(25000,)\n"
     ]
    }
   ],
   "source": [
    "print('Размеры тренировочной выборки:')\n",
    "print(features2_train.shape)\n",
    "print(target2_train.shape)\n",
    "\n",
    "print('Размеры валидационной выборки:')\n",
    "print(features2_valid.shape)\n",
    "print(target2_valid.shape)"
   ]
  },
  {
   "cell_type": "code",
   "execution_count": 16,
   "metadata": {},
   "outputs": [
    {
     "name": "stdout",
     "output_type": "stream",
     "text": [
      "Скаляризация - уравновешивание признаков...\n"
     ]
    }
   ],
   "source": [
    "print('Скаляризация - уравновешивание признаков...')\n",
    "\n",
    "scaler = StandardScaler()\n",
    "\n",
    "features2_train = scaler.fit_transform(features2_train)\n",
    "features2_valid = scaler.transform(features2_valid)"
   ]
  },
  {
   "cell_type": "markdown",
   "metadata": {},
   "source": [
    "**3 регион**"
   ]
  },
  {
   "cell_type": "code",
   "execution_count": 17,
   "metadata": {},
   "outputs": [],
   "source": [
    "df3 = df3[numeric]"
   ]
  },
  {
   "cell_type": "code",
   "execution_count": 18,
   "metadata": {},
   "outputs": [],
   "source": [
    "features3 = df3.drop(['product'], axis = 1)\n",
    "target3 = df3['product']"
   ]
  },
  {
   "cell_type": "code",
   "execution_count": 19,
   "metadata": {},
   "outputs": [],
   "source": [
    "features3_train, features3_valid, target3_train, target3_valid = train_test_split(features3, target3, test_size = 0.25, random_state = 12345)"
   ]
  },
  {
   "cell_type": "code",
   "execution_count": 20,
   "metadata": {},
   "outputs": [
    {
     "name": "stdout",
     "output_type": "stream",
     "text": [
      "Размеры тренировочной выборки:\n",
      "(75000, 3)\n",
      "(75000,)\n",
      "Размеры валидационной выборки:\n",
      "(25000, 3)\n",
      "(25000,)\n"
     ]
    }
   ],
   "source": [
    "print('Размеры тренировочной выборки:')\n",
    "print(features3_train.shape)\n",
    "print(target3_train.shape)\n",
    "\n",
    "print('Размеры валидационной выборки:')\n",
    "print(features3_valid.shape)\n",
    "print(target3_valid.shape)"
   ]
  },
  {
   "cell_type": "code",
   "execution_count": 21,
   "metadata": {
    "scrolled": true
   },
   "outputs": [
    {
     "name": "stdout",
     "output_type": "stream",
     "text": [
      "Скаляризация - уравновешивание признаков...\n"
     ]
    }
   ],
   "source": [
    "print('Скаляризация - уравновешивание признаков...')\n",
    "\n",
    "scaler = StandardScaler()\n",
    "\n",
    "features3_train = scaler.fit_transform(features3_train)\n",
    "features3_valid = scaler.transform(features3_valid)"
   ]
  },
  {
   "cell_type": "markdown",
   "metadata": {},
   "source": [
    "**Вывод по блоку:**\n",
    "Данные готовы для внедрения в модели!"
   ]
  },
  {
   "cell_type": "markdown",
   "metadata": {},
   "source": [
    "<div style=\"background: #cceeaa; padding: 5px; border: 1px solid green; border-radius: 5px;\">\n",
    "    <font color='green'> <b><u>КОММЕНТАРИЙ РЕВЬЮЕРА</u></b>\n",
    "</font>\n",
    "<font color='green'><br>Понятно. тут такой ещё момент: для всех регионов - операции оинаковые. Это значит, что однозначно можно автоматизировать расчёты. И лучше его применять)<br>\n",
    "   \n",
    "Можно и не делать скалярризацию - данные не сильноразличаются в порядках.... <font color='red'><br> И ещё, если делать, то во втором и третьем регионе надо проверить формулы, там описка."
   ]
  },
  {
   "cell_type": "markdown",
   "metadata": {},
   "source": [
    "<div style=\"background: #cceeaa; padding: 5px; border: 1px solid green; border-radius: 5px;\">\n",
    "    <font color='blue'> <b><u>КОММЕНТАРИЙ СТУДЕНТА</u></b>\n",
    "</font>\n",
    "<font color='blue'><br>Автоматизировать безусловно можно, но мне удобнее было каждый этап прописовать отдельно, повторение мать учения, хоть я и описался... Я исправил!<br>\n"
   ]
  },
  {
   "cell_type": "markdown",
   "metadata": {},
   "source": [
    "<div style=\"background: #cceeaa; padding: 5px; border: 1px solid green; border-radius: 5px;\">\n",
    "    <font color='green'> <b><u>КОММЕНТАРИЙ РЕВЬЮЕРА 2</u></b>\n",
    "</font>\n",
    "<font color='green'><br>это я пониманию - про повторение), но и отработать автоматизацию - тоже хорошая инвестиция времени)). ОК."
   ]
  },
  {
   "cell_type": "markdown",
   "metadata": {},
   "source": [
    "## Обучение и проверка модели"
   ]
  },
  {
   "cell_type": "markdown",
   "metadata": {},
   "source": [
    "**1 регион**"
   ]
  },
  {
   "cell_type": "code",
   "execution_count": 22,
   "metadata": {},
   "outputs": [],
   "source": [
    "model1 = LinearRegression()\n",
    "model1.fit(features1_train, target1_train)\n",
    "predictions1_train = model1.predict(features1_train)\n",
    "predictions1_valid = model1.predict(features1_valid)"
   ]
  },
  {
   "cell_type": "code",
   "execution_count": 23,
   "metadata": {
    "scrolled": true
   },
   "outputs": [
    {
     "name": "stdout",
     "output_type": "stream",
     "text": [
      "Средний запас сырья в обучающей выборке: 92.64046775305694\n",
      "Средний запас сырья в валидационной выборке: 92.07859674082927\n"
     ]
    }
   ],
   "source": [
    "print('Средний запас сырья в обучающей выборке:', target1_train.mean())\n",
    "print('Средний запас сырья в валидационной выборке:', target1_valid.mean())"
   ]
  },
  {
   "cell_type": "code",
   "execution_count": 24,
   "metadata": {},
   "outputs": [
    {
     "name": "stdout",
     "output_type": "stream",
     "text": [
      "RMSE модели на обучающей выборке: 37.72999219904026\n",
      "Коэффициент детерминации на обучающей выборке: 0.27423906493940775\n"
     ]
    }
   ],
   "source": [
    "print('RMSE модели на обучающей выборке:', mean_squared_error(target1_train, predictions1_train)**0.5)\n",
    "print('Коэффициент детерминации на обучающей выборке:', r2_score(target1_train, predictions1_train))"
   ]
  },
  {
   "cell_type": "code",
   "execution_count": 25,
   "metadata": {},
   "outputs": [
    {
     "name": "stdout",
     "output_type": "stream",
     "text": [
      "RMSE модели на валидационной выборке: 37.5794217150813\n",
      "Коэффициент детерминации на валидационной выборке: 0.27994321524487786\n"
     ]
    }
   ],
   "source": [
    "print('RMSE модели на валидационной выборке:', mean_squared_error(target1_valid, predictions1_valid)**0.5)\n",
    "print('Коэффициент детерминации на валидационной выборке:', r2_score(target1_valid, predictions1_valid))"
   ]
  },
  {
   "cell_type": "markdown",
   "metadata": {},
   "source": [
    "**2 регион**"
   ]
  },
  {
   "cell_type": "code",
   "execution_count": 26,
   "metadata": {},
   "outputs": [],
   "source": [
    "model2 = LinearRegression()\n",
    "model2.fit(features2_train, target2_train)\n",
    "predictions2_train = model2.predict(features2_train)\n",
    "predictions2_valid = model2.predict(features2_valid)"
   ]
  },
  {
   "cell_type": "code",
   "execution_count": 27,
   "metadata": {},
   "outputs": [
    {
     "name": "stdout",
     "output_type": "stream",
     "text": [
      "Средний запас сырья в обучающей выборке: 68.85895465854666\n",
      "Средний запас сырья в валидационной выборке: 68.72313602435997\n"
     ]
    }
   ],
   "source": [
    "print('Средний запас сырья в обучающей выборке:', target2_train.mean())\n",
    "print('Средний запас сырья в валидационной выборке:', target2_valid.mean())"
   ]
  },
  {
   "cell_type": "code",
   "execution_count": 28,
   "metadata": {},
   "outputs": [
    {
     "name": "stdout",
     "output_type": "stream",
     "text": [
      "RMSE модели на обучающей выборке: 0.8894720773917375\n",
      "Коэффициент детерминации на обучающей выборке: 0.9996247760326118\n"
     ]
    }
   ],
   "source": [
    "print('RMSE модели на обучающей выборке:', mean_squared_error(target2_train, predictions2_train)**0.5)\n",
    "print('Коэффициент детерминации на обучающей выборке:', r2_score(target2_train, predictions2_train))"
   ]
  },
  {
   "cell_type": "code",
   "execution_count": 29,
   "metadata": {},
   "outputs": [
    {
     "name": "stdout",
     "output_type": "stream",
     "text": [
      "RMSE модели на валидационной выборке: 0.8930992867756158\n",
      "Коэффициент детерминации на валидационной выборке: 0.9996233978805127\n"
     ]
    }
   ],
   "source": [
    "print('RMSE модели на валидационной выборке:', mean_squared_error(target2_valid, predictions2_valid)**0.5)\n",
    "print('Коэффициент детерминации на валидационной выборке:', r2_score(target2_valid, predictions2_valid))"
   ]
  },
  {
   "cell_type": "markdown",
   "metadata": {},
   "source": [
    "**3 регион**"
   ]
  },
  {
   "cell_type": "code",
   "execution_count": 30,
   "metadata": {},
   "outputs": [],
   "source": [
    "model3 = LinearRegression()\n",
    "model3.fit(features3_train, target3_train)\n",
    "predictions3_train = model3.predict(features3_train)\n",
    "predictions3_valid = model3.predict(features3_valid)"
   ]
  },
  {
   "cell_type": "code",
   "execution_count": 31,
   "metadata": {},
   "outputs": [
    {
     "name": "stdout",
     "output_type": "stream",
     "text": [
      "Средний запас сырья в обучающей выборке: 95.03858906371522\n",
      "Средний запас сырья в валидационной выборке: 94.88423280885438\n"
     ]
    }
   ],
   "source": [
    "print('Средний запас сырья в обучающей выборке:', target3_train.mean())\n",
    "print('Средний запас сырья в валидационной выборке:', target3_valid.mean())"
   ]
  },
  {
   "cell_type": "code",
   "execution_count": 32,
   "metadata": {},
   "outputs": [
    {
     "name": "stdout",
     "output_type": "stream",
     "text": [
      "RMSE модели на обучающей выборке: 40.06425978832384\n",
      "Коэффициент детерминации на обучающей выборке: 0.19661432867329998\n"
     ]
    }
   ],
   "source": [
    "print('RMSE модели на обучающей выборке:', mean_squared_error(target3_train, predictions3_train)**0.5)\n",
    "print('Коэффициент детерминации на обучающей выборке:', r2_score(target3_train, predictions3_train))"
   ]
  },
  {
   "cell_type": "code",
   "execution_count": 33,
   "metadata": {},
   "outputs": [
    {
     "name": "stdout",
     "output_type": "stream",
     "text": [
      "RMSE модели на валидационной выборке: 40.02970873393434\n",
      "Коэффициент детерминации на валидационной выборке: 0.20524758386040443\n"
     ]
    }
   ],
   "source": [
    "print('RMSE модели на валидационной выборке:', mean_squared_error(target3_valid, predictions3_valid)**0.5)\n",
    "print('Коэффициент детерминации на валидационной выборке:', r2_score(target3_valid, predictions3_valid))"
   ]
  },
  {
   "cell_type": "markdown",
   "metadata": {},
   "source": [
    "<div style=\"background: #cceeaa; padding: 5px; border: 1px solid green; border-radius: 5px;\">\n",
    "    <font color='green'> <b><u>КОММЕНТАРИЙ РЕВЬЮЕРА</u></b>\n",
    "</font>\n",
    "<font color='green'><br>ОК, с расчётами согласен) Кстати вот по второму региону видим самую маленькую ошибку rmse. Это как раз следствие высокой корреляции f2 и целевой. Ну и по автоматизации - так же её можно сделать, т.к. для всех регионов - одинаковые расчёты."
   ]
  },
  {
   "cell_type": "markdown",
   "metadata": {},
   "source": [
    "<div style=\"background: #cceeaa; padding: 5px; border: 1px solid green; border-radius: 5px;\">\n",
    "    <font color='blue'> <b><u>КОММЕНТАРИЙ СТУДЕНТА</u></b>\n",
    "</font>\n",
    "<font color='blue'><br>Безусловно!<br>"
   ]
  },
  {
   "cell_type": "markdown",
   "metadata": {},
   "source": [
    "**ВЫВОД**"
   ]
  },
  {
   "cell_type": "markdown",
   "metadata": {},
   "source": [
    "По уже доступным нам показателям, самым привлекательным кажется регион №2."
   ]
  },
  {
   "cell_type": "markdown",
   "metadata": {},
   "source": [
    "## Подготовка к расчёту прибыли"
   ]
  },
  {
   "cell_type": "markdown",
   "metadata": {},
   "source": [
    "**СПРАВОЧНЫЕ ДАННЫЕ И УСЛОВИЯ**"
   ]
  },
  {
   "cell_type": "markdown",
   "metadata": {},
   "source": [
    "1) При разведке региона исследуют 500 точек, из которых с помощью машинного обучения выбирают 200 лучших для разработки.\n",
    "\n",
    "2) Бюджет на разработку скважин в регионе — 10 млрд рублей.\n",
    "\n",
    "3) При нынешних ценах один баррель сырья приносит 450 рублей дохода. Доход с каждой единицы продукта составляет 450 тыс. рублей, поскольку объём указан в тысячах баррелей.\n",
    "\n",
    "4) После оценки рисков нужно оставить лишь те регионы, в которых вероятность убытков меньше 2.5%. Среди них выбирают регион с наибольшей средней прибылью."
   ]
  },
  {
   "cell_type": "markdown",
   "metadata": {},
   "source": [
    "**УМОЗАКЛЮЧЕНИЯ И ВЫВОДЫ**"
   ]
  },
  {
   "cell_type": "markdown",
   "metadata": {},
   "source": [
    "- нужно, чтобы прибыль была больше бюджета, затраченного на разработку скважин в регионе\n",
    "\n",
    "- необходимо посчитать минимально добытый объем сырья в регионе, чтобы \"перекрыть\" бюджет и не допустить убытков\n",
    "\n",
    "- необходимо найти минимальное среднее количество добычи с одной скважины, чтобы получить прибыль"
   ]
  },
  {
   "cell_type": "markdown",
   "metadata": {},
   "source": [
    "Расчеты"
   ]
  },
  {
   "cell_type": "code",
   "execution_count": 34,
   "metadata": {},
   "outputs": [
    {
     "name": "stdout",
     "output_type": "stream",
     "text": [
      "Минимум,который нужно добыть: 22222.222222222223\n",
      "Минимальное среднее значение с одной скважины: 111.11111111111111\n"
     ]
    }
   ],
   "source": [
    "min_dob = 10000000 / 450\n",
    "print('Минимум,который нужно добыть:', min_dob)\n",
    "min_sred = min_dob / 200\n",
    "print('Минимальное среднее значение с одной скважины:', min_sred)"
   ]
  },
  {
   "cell_type": "markdown",
   "metadata": {},
   "source": [
    "<div style=\"background: #cceeaa; padding: 5px; border: 1px solid green; border-radius: 5px;\">\n",
    "    <font color='green'> <b><u>КОММЕНТАРИЙ РЕВЬЮЕРА</u></b>\n",
    "</font>\n",
    "<font color='red'><br>вот тут надо посмотреть расчёты... ожидается в районе 111.... И нужно будетт сделать выводы относительно расчётов прошлого раздела."
   ]
  },
  {
   "cell_type": "markdown",
   "metadata": {},
   "source": [
    "<div style=\"background: #cceeaa; padding: 5px; border: 1px solid green; border-radius: 5px;\">\n",
    "    <font color='blue'> <b><u>КОММЕНТАРИЙ СТУДЕНТА</u></b>\n",
    "</font>\n",
    "<font color='blue'><br>У нас же 10 миллиардов! Гуглил, сколько тысяч в миллиарде и потерял нуль :D<br>"
   ]
  },
  {
   "cell_type": "markdown",
   "metadata": {},
   "source": [
    "<div style=\"background: #cceeaa; padding: 5px; border: 1px solid green; border-radius: 5px;\">\n",
    "    <font color='green'> <b><u>КОММЕНТАРИЙ РЕВЬЮЕРА 2</u></b>\n",
    "</font>\n",
    "<font color='green'><br>когда такие деньги, то для нас лишний ноль в одну/в другую сторону - действительно не заметно:)"
   ]
  },
  {
   "cell_type": "markdown",
   "metadata": {},
   "source": [
    "Функция рассчета прибыли"
   ]
  },
  {
   "cell_type": "code",
   "execution_count": 35,
   "metadata": {},
   "outputs": [],
   "source": [
    "def revenue(target, predictions, count):\n",
    "    pred_sorted = predictions.sort_values(ascending=False)\n",
    "    selected = target[pred_sorted.index][:count]\n",
    "    return (450 * selected.sum() - 10000000)"
   ]
  },
  {
   "cell_type": "markdown",
   "metadata": {},
   "source": [
    "<div style=\"background: #cceeaa; padding: 5px; border: 1px solid green; border-radius: 5px;\">\n",
    "<font color='green'> \n",
    "    <b><u>КОММЕНТАРИЙ РЕВЬЮЕРА</u></b>\n",
    "</font>\n",
    "<font color='red'><br>\n",
    "тут просто выручка, а для прибыли нужно учесть ещё затраты. Посмотри, пожалуйста."
   ]
  },
  {
   "cell_type": "markdown",
   "metadata": {},
   "source": [
    "<div style=\"background: #cceeaa; padding: 5px; border: 1px solid green; border-radius: 5px;\">\n",
    "    <font color='blue'> <b><u>КОММЕНТАРИЙ СТУДЕНТА</u></b>\n",
    "</font>\n",
    "<font color='blue'><br>Теперь это выручка: прибыль минус затрата на разработку месторождений!<br>"
   ]
  },
  {
   "cell_type": "code",
   "execution_count": 36,
   "metadata": {},
   "outputs": [],
   "source": [
    "def risk(values):\n",
    "    counter = 0\n",
    "    for v in values:\n",
    "        if v >= 0:\n",
    "            counter += 1\n",
    "    return 100 - (counter / len(values) * 100)"
   ]
  },
  {
   "cell_type": "markdown",
   "metadata": {},
   "source": [
    "<div style=\"background: #cceeaa; padding: 5px; border: 1px solid green; border-radius: 5px;\">\n",
    "    <font color='blue'> <b><u>КОММЕНТАРИЙ СТУДЕНТА</u></b>\n",
    "</font>\n",
    "<font color='blue'><br>Выше - функция дилетанта для расчета рисков!<br>"
   ]
  },
  {
   "cell_type": "markdown",
   "metadata": {},
   "source": [
    "<div style=\"background: #cceeaa; padding: 5px; border: 1px solid green; border-radius: 5px;\">\n",
    "    <font color='green'> <b><u>КОММЕНТАРИЙ РЕВЬЮЕРА 2</u></b>\n",
    "</font>\n",
    "<font color='green'><br>Для кого-то это дилетанство, а для кого-то будет уже достижение. Но то, что можно любой процесс, любое изделие - всегда улучшить, это ты прав. Тут нет предела совершенству, мне кажется. Вот и код выше - вполне рабочий, но можно и по другому: В саму функцию вставить строку risk=(profit_values < 0).mean()* 100 И по идее - должно тоже считать)"
   ]
  },
  {
   "cell_type": "markdown",
   "metadata": {},
   "source": []
  },
  {
   "cell_type": "markdown",
   "metadata": {},
   "source": [
    "## Расчёт прибыли и рисков "
   ]
  },
  {
   "cell_type": "code",
   "execution_count": 37,
   "metadata": {},
   "outputs": [],
   "source": [
    "# Для всех \n",
    "state = np.random.RandomState(12345)"
   ]
  },
  {
   "cell_type": "code",
   "execution_count": 38,
   "metadata": {},
   "outputs": [],
   "source": [
    "target1_valid = target1_valid.reset_index(drop=True)\n",
    "target2_valid = target2_valid.reset_index(drop=True)\n",
    "target3_valid = target3_valid.reset_index(drop=True)\n",
    "\n",
    "predictions1_valid = pd.Series(predictions1_valid, index = target1_valid.index)\n",
    "predictions2_valid = pd.Series(predictions2_valid, index = target2_valid.index)\n",
    "predictions3_valid = pd.Series(predictions3_valid, index = target3_valid.index)"
   ]
  },
  {
   "cell_type": "markdown",
   "metadata": {},
   "source": [
    "**1 регион**"
   ]
  },
  {
   "cell_type": "code",
   "execution_count": 39,
   "metadata": {},
   "outputs": [
    {
     "name": "stdout",
     "output_type": "stream",
     "text": [
      "Средняя выручка: 425938.5269105924\n",
      "2.5%-квантиль: -102090.09483793723\n",
      "97.5%-квантиль: 947976.3533583689\n"
     ]
    }
   ],
   "source": [
    "values = []\n",
    "for i in range(1000):\n",
    "    target1_subsample = target1_valid.sample(n = 500, replace = True, random_state = state)\n",
    "    preds1_subsample = predictions1_valid[target1_subsample.index]\n",
    "    \n",
    "    values.append(revenue(target1_subsample, preds1_subsample, 200))\n",
    "\n",
    "values = pd.Series(values)\n",
    "lower = values.quantile(0.025)\n",
    "upper = values.quantile(0.975)\n",
    "\n",
    "mean = values.mean()\n",
    "print(\"Средняя выручка:\", mean)\n",
    "print(\"2.5%-квантиль:\", lower)\n",
    "print(\"97.5%-квантиль:\", upper)"
   ]
  },
  {
   "cell_type": "code",
   "execution_count": 40,
   "metadata": {},
   "outputs": [
    {
     "name": "stdout",
     "output_type": "stream",
     "text": [
      "% количества случаев расчёта, имеющих отрицательное значение прибыли: 6.0 %\n"
     ]
    }
   ],
   "source": [
    "print(\"% количества случаев расчёта, имеющих отрицательное значение прибыли:\", risk(values), '%')"
   ]
  },
  {
   "cell_type": "markdown",
   "metadata": {},
   "source": [
    "<div style=\"background: #cceeaa; padding: 5px; border: 1px solid green; border-radius: 5px;\">\n",
    "<font color='green'> \n",
    "    <b><u>КОММЕНТАРИЙ РЕВЬЮЕРА</u></b>\n",
    "</font><br>\n",
    "<font color='red'><br>\n",
    "И ещё ожидается расчёт Рисков: это % количества случаев расчёта, имеющих отрицательное значение прибыли. "
   ]
  },
  {
   "cell_type": "markdown",
   "metadata": {},
   "source": [
    "<div style=\"background: #cceeaa; padding: 5px; border: 1px solid green; border-radius: 5px;\">\n",
    "    <font color='blue'> <b><u>КОММЕНТАРИЙ СТУДЕНТА</u></b>\n",
    "</font>\n",
    "<font color='blue'><br>Выше<br>"
   ]
  },
  {
   "cell_type": "markdown",
   "metadata": {},
   "source": [
    "**2 регион**"
   ]
  },
  {
   "cell_type": "code",
   "execution_count": 41,
   "metadata": {},
   "outputs": [
    {
     "name": "stdout",
     "output_type": "stream",
     "text": [
      "Средняя выручка: 518259.493697325\n",
      "2.5%-квантиль: 128123.23143308601\n",
      "97.5%-квантиль: 953612.9820669085\n"
     ]
    }
   ],
   "source": [
    "values = []\n",
    "for i in range(1000):\n",
    "    target2_subsample = target2_valid.sample(n = 500, replace = True, random_state = state)\n",
    "    preds2_subsample = predictions2_valid[target2_subsample.index]\n",
    "    \n",
    "    values.append(revenue(target2_subsample, preds2_subsample, 200))\n",
    "\n",
    "values = pd.Series(values)\n",
    "lower = values.quantile(0.025)\n",
    "upper = values.quantile(0.975)\n",
    "\n",
    "mean = values.mean()\n",
    "print(\"Средняя выручка:\", mean)\n",
    "print(\"2.5%-квантиль:\", lower)\n",
    "print(\"97.5%-квантиль:\", upper)"
   ]
  },
  {
   "cell_type": "code",
   "execution_count": 42,
   "metadata": {},
   "outputs": [
    {
     "name": "stdout",
     "output_type": "stream",
     "text": [
      "% количества случаев расчёта, имеющих отрицательное значение прибыли: 0.29999999999999716 %\n"
     ]
    }
   ],
   "source": [
    "print(\"% количества случаев расчёта, имеющих отрицательное значение прибыли:\", risk(values), '%')"
   ]
  },
  {
   "cell_type": "markdown",
   "metadata": {},
   "source": [
    "**3 регион**"
   ]
  },
  {
   "cell_type": "code",
   "execution_count": 43,
   "metadata": {
    "scrolled": false
   },
   "outputs": [
    {
     "name": "stdout",
     "output_type": "stream",
     "text": [
      "Средняя выручка: 420194.00534405006\n",
      "2.5%-квантиль: -115852.60916001163\n",
      "97.5%-квантиль: 989629.9398445741\n"
     ]
    }
   ],
   "source": [
    "values = []\n",
    "for i in range(1000):\n",
    "    target3_subsample = target3_valid.sample(n = 500, replace = True, random_state = state)\n",
    "    preds3_subsample = predictions3_valid[target3_subsample.index]\n",
    "    \n",
    "    values.append(revenue(target3_subsample, preds3_subsample, 200))\n",
    "\n",
    "values = pd.Series(values)\n",
    "lower = values.quantile(0.025)\n",
    "upper = values.quantile(0.975)\n",
    "\n",
    "mean = values.mean()\n",
    "print(\"Средняя выручка:\", mean)\n",
    "print(\"2.5%-квантиль:\", lower)\n",
    "print(\"97.5%-квантиль:\", upper)"
   ]
  },
  {
   "cell_type": "code",
   "execution_count": 44,
   "metadata": {},
   "outputs": [
    {
     "name": "stdout",
     "output_type": "stream",
     "text": [
      "% количества случаев расчёта, имеющих отрицательное значение прибыли: 6.200000000000003 %\n"
     ]
    }
   ],
   "source": [
    "print(\"% количества случаев расчёта, имеющих отрицательное значение прибыли:\", risk(values), '%')"
   ]
  },
  {
   "cell_type": "markdown",
   "metadata": {},
   "source": [
    "**ОБЩИЙ ВЫВОД**"
   ]
  },
  {
   "cell_type": "markdown",
   "metadata": {},
   "source": [
    "Для разработки предлагаю выбрать 2 регион, так как с вероятностью 97.5% выручка будет больше 10 млрд. рублей и по расчету риска вероятность получить отрицательные значения прибыли минимальна!"
   ]
  },
  {
   "cell_type": "markdown",
   "metadata": {},
   "source": [
    "<div style=\"background: #cceeaa; padding: 5px; border: 1px solid green; border-radius: 5px;\">\n",
    "<font color='green'> \n",
    "    <b><u>КОММЕНТАРИЙ РЕВЬЮЕРА</u></b>\n",
    "<font color='green'><br>\n",
    "Александр, на самом деле последовательная работа!<br>\n",
    "И аргументация, и удобный для просмотра код - многое удалось как надо<br>\n",
    "Итоги в конце - понятные и чёткие. Хорошо, что довериетльные интервала взял те, которые нужны, ОК.<br>\n",
    "      \n",
    "Данный проект не простой, может показаться. Потому что, его цель не просто построить прогноз по модели или прогноз продаж. А научиться выбирать лучшее управленческое решение на основе метода моделирования ситуации. В этом ключе и есть смысл её рассматривать. (Кстати, одна из программ на рынке по этой теме - AnyLogic - интересный продукт. Мне приходилось как-то смотерть её.. интересно. Можешь ролик из инета глянуть по какому-нибудь примеру с её использованием. Тогда тема управленческого моделирования может по-другому лечь... Ведь бутсреп (в лоджике егое нет) - как раз один из спобов моделирования)<br>    \n",
    "\n",
    "<font color='red'>    \n",
    "Есть несколько моментом, которые надо бы проверить:<br>\n",
    "1) Расчёт функций прибыли и убытков: там сейчас просто выручка.<br>\n",
    "2) также, нужен расчёт рисков: это % количества случаев расчёта, имеющих отрицательное значение прибыли<br>\n",
    "3) Формулы при скаляризации...<br>\n",
    "4) Расчёт точки безубыточности и её сравнение с регионами...<br>\n",
    "\n",
    "<font color='green'>    \n",
    "Спасибо)<br>\n",
    "Буду ждать комментариев)"
   ]
  },
  {
   "cell_type": "markdown",
   "metadata": {},
   "source": [
    "<div style=\"background: #cceeaa; padding: 5px; border: 1px solid green; border-radius: 5px;\">\n",
    "    <font color='blue'> <b><u>КОММЕНТАРИЙ СТУДЕНТА</u></b>\n",
    "</font>\n",
    "<font color='blue'><br>Спасибо большое за Ваши советы и замечания! Я отстал от своей когорты, хотелось бы оперативнее досдать хвосты, поэтому не стал углубляться в автоматизацию... хотя имею представление о том, как ее сделать!\n",
    "    \n",
    "По поводу совета посмотреть AnyLogic - записал себе, посмотрю! Классно, что человек, непосредственно имеющий опыт решения подобных кейсов проверяет мой проект!!!\n",
    "    \n",
    "\n",
    "Вроде как, все необходимое для зачета я сделал и исправил, спасибо :)<br>"
   ]
  },
  {
   "cell_type": "markdown",
   "metadata": {},
   "source": [
    "<div style=\"background: #cceeaa; padding: 5px; border: 1px solid green; border-radius: 5px;\">\n",
    "<font color='green'> \n",
    "    <b><u>КОММЕНТАРИЙ РЕВЬЮЕРА 2</u></b>\n",
    "<font color='green'><br>Привет, Александр. Да, понял про автоматизацию. У меня тоже это было не самое сильное звено:) Но теперь точно понимаю, что важная вещь! ОК.<br>\n",
    "Вроде всё по проекту теперь в точку. Спасибо за отклик.Не то, чтобы много таких кейсов было именно на эту тему. Но точно были задачи поиска решения в случаях, когда есть большая неопределённость в исходных данных.  И тогда вот данные подходы и подходы, реализованные в лоджике - помогли нащупать решение...<br>\n",
    "Успехов в дальнейшем обучении! И в гонке за когортой:)"
   ]
  },
  {
   "cell_type": "code",
   "execution_count": null,
   "metadata": {},
   "outputs": [],
   "source": []
  },
  {
   "cell_type": "markdown",
   "metadata": {},
   "source": [
    "## Чек-лист готовности проекта"
   ]
  },
  {
   "cell_type": "markdown",
   "metadata": {},
   "source": [
    "Поставьте 'x' в выполненных пунктах. Далее нажмите Shift+Enter."
   ]
  },
  {
   "cell_type": "markdown",
   "metadata": {},
   "source": [
    "- [x]  Jupyter Notebook открыт\n",
    "- [ ]  Весь код выполняется без ошибок\n",
    "- [ ]  Ячейки с кодом расположены в порядке исполнения\n",
    "- [ ]  Выполнен шаг 1: данные подготовлены\n",
    "- [ ]  Выполнен шаг 2: модели обучены и проверены\n",
    "    - [ ]  Данные корректно разбиты на обучающую и валидационную выборки\n",
    "    - [ ]  Модели обучены, предсказания сделаны\n",
    "    - [ ]  Предсказания и правильные ответы на валидационной выборке сохранены\n",
    "    - [ ]  На экране напечатаны результаты\n",
    "    - [ ]  Сделаны выводы\n",
    "- [ ]  Выполнен шаг 3: проведена подготовка к расчёту прибыли\n",
    "    - [ ]  Для всех ключевых значений созданы константы Python\n",
    "    - [ ]  Посчитано минимальное среднее количество продукта в месторождениях региона, достаточное для разработки\n",
    "    - [ ]  По предыдущему пункту сделаны выводы\n",
    "    - [ ]  Написана функция расчёта прибыли\n",
    "- [ ]  Выполнен шаг 4: посчитаны риски и прибыль\n",
    "    - [ ]  Проведена процедура *Bootstrap*\n",
    "    - [ ]  Все параметры бутстрепа соответствуют условию\n",
    "    - [ ]  Найдены все нужные величины\n",
    "    - [ ]  Предложен регион для разработки месторождения\n",
    "    - [ ]  Выбор региона обоснован"
   ]
  }
 ],
 "metadata": {
  "ExecuteTimeLog": [
   {
    "duration": 818,
    "start_time": "2021-09-07T13:00:56.085Z"
   },
   {
    "duration": 6714,
    "start_time": "2021-09-07T13:02:05.051Z"
   },
   {
    "duration": 1227,
    "start_time": "2021-09-07T13:02:28.257Z"
   },
   {
    "duration": 11,
    "start_time": "2021-09-07T13:05:27.129Z"
   },
   {
    "duration": 19,
    "start_time": "2021-09-07T13:05:49.192Z"
   },
   {
    "duration": 17,
    "start_time": "2021-09-07T13:05:58.950Z"
   },
   {
    "duration": 20,
    "start_time": "2021-09-07T13:07:30.706Z"
   },
   {
    "duration": 20,
    "start_time": "2021-09-07T13:07:45.309Z"
   },
   {
    "duration": 4,
    "start_time": "2021-09-07T13:36:01.276Z"
   },
   {
    "duration": 390,
    "start_time": "2021-09-07T13:49:10.850Z"
   },
   {
    "duration": 10,
    "start_time": "2021-09-07T13:49:16.412Z"
   },
   {
    "duration": 24,
    "start_time": "2021-09-07T13:49:24.206Z"
   },
   {
    "duration": 11,
    "start_time": "2021-09-07T13:50:05.119Z"
   },
   {
    "duration": 10,
    "start_time": "2021-09-07T13:50:08.105Z"
   },
   {
    "duration": 811,
    "start_time": "2021-09-07T19:32:53.907Z"
   },
   {
    "duration": 497,
    "start_time": "2021-09-07T19:32:54.722Z"
   },
   {
    "duration": 21,
    "start_time": "2021-09-07T19:32:55.223Z"
   },
   {
    "duration": 19,
    "start_time": "2021-09-07T19:32:55.248Z"
   },
   {
    "duration": 53,
    "start_time": "2021-09-07T19:32:55.270Z"
   },
   {
    "duration": 5,
    "start_time": "2021-09-07T19:32:55.326Z"
   },
   {
    "duration": 10,
    "start_time": "2021-09-07T19:32:55.334Z"
   },
   {
    "duration": 12,
    "start_time": "2021-09-07T19:32:55.348Z"
   },
   {
    "duration": 18,
    "start_time": "2021-09-07T19:32:55.363Z"
   },
   {
    "duration": 1541,
    "start_time": "2021-09-07T19:37:23.123Z"
   },
   {
    "duration": 504,
    "start_time": "2021-09-07T19:37:24.667Z"
   },
   {
    "duration": 28,
    "start_time": "2021-09-07T19:37:25.174Z"
   },
   {
    "duration": 27,
    "start_time": "2021-09-07T19:37:25.217Z"
   },
   {
    "duration": 36,
    "start_time": "2021-09-07T19:37:25.247Z"
   },
   {
    "duration": 4,
    "start_time": "2021-09-07T19:37:25.285Z"
   },
   {
    "duration": 36,
    "start_time": "2021-09-07T19:37:25.291Z"
   },
   {
    "duration": 18,
    "start_time": "2021-09-07T19:37:25.330Z"
   },
   {
    "duration": 23,
    "start_time": "2021-09-07T19:37:25.351Z"
   },
   {
    "duration": 539,
    "start_time": "2021-09-07T19:46:14.843Z"
   },
   {
    "duration": 4,
    "start_time": "2021-09-07T19:47:19.119Z"
   },
   {
    "duration": 6,
    "start_time": "2021-09-07T19:48:41.782Z"
   },
   {
    "duration": 18,
    "start_time": "2021-09-07T19:48:42.887Z"
   },
   {
    "duration": 289,
    "start_time": "2021-09-07T19:48:43.780Z"
   },
   {
    "duration": 6,
    "start_time": "2021-09-07T19:49:17.824Z"
   },
   {
    "duration": 15,
    "start_time": "2021-09-07T19:49:33.647Z"
   },
   {
    "duration": 11,
    "start_time": "2021-09-07T19:49:43.677Z"
   },
   {
    "duration": 1323,
    "start_time": "2021-09-07T19:53:21.607Z"
   },
   {
    "duration": 463,
    "start_time": "2021-09-07T19:53:22.933Z"
   },
   {
    "duration": 23,
    "start_time": "2021-09-07T19:53:23.401Z"
   },
   {
    "duration": 19,
    "start_time": "2021-09-07T19:53:23.427Z"
   },
   {
    "duration": 18,
    "start_time": "2021-09-07T19:53:23.449Z"
   },
   {
    "duration": 4,
    "start_time": "2021-09-07T19:53:23.469Z"
   },
   {
    "duration": 48,
    "start_time": "2021-09-07T19:53:23.475Z"
   },
   {
    "duration": 16,
    "start_time": "2021-09-07T19:53:23.526Z"
   },
   {
    "duration": 43,
    "start_time": "2021-09-07T19:53:23.545Z"
   },
   {
    "duration": 7,
    "start_time": "2021-09-07T19:53:23.591Z"
   },
   {
    "duration": 35,
    "start_time": "2021-09-07T19:53:23.600Z"
   },
   {
    "duration": 12,
    "start_time": "2021-09-07T19:53:23.638Z"
   },
   {
    "duration": 24,
    "start_time": "2021-09-07T19:53:23.652Z"
   },
   {
    "duration": 33,
    "start_time": "2021-09-07T19:53:23.679Z"
   },
   {
    "duration": 6,
    "start_time": "2021-09-07T19:53:23.714Z"
   },
   {
    "duration": 40,
    "start_time": "2021-09-07T19:53:23.722Z"
   },
   {
    "duration": 9,
    "start_time": "2021-09-07T19:53:23.765Z"
   },
   {
    "duration": 20,
    "start_time": "2021-09-07T19:53:23.776Z"
   },
   {
    "duration": 41,
    "start_time": "2021-09-07T19:53:23.798Z"
   },
   {
    "duration": 6,
    "start_time": "2021-09-07T19:53:23.841Z"
   },
   {
    "duration": 37,
    "start_time": "2021-09-07T19:53:23.849Z"
   },
   {
    "duration": 13,
    "start_time": "2021-09-07T20:17:06.094Z"
   },
   {
    "duration": 7,
    "start_time": "2021-09-07T20:17:06.669Z"
   },
   {
    "duration": 8,
    "start_time": "2021-09-07T20:17:07.180Z"
   },
   {
    "duration": 5,
    "start_time": "2021-09-07T20:20:16.400Z"
   },
   {
    "duration": 8,
    "start_time": "2021-09-07T20:20:32.895Z"
   },
   {
    "duration": 1437,
    "start_time": "2021-09-14T15:03:57.650Z"
   },
   {
    "duration": 475,
    "start_time": "2021-09-14T15:03:59.090Z"
   },
   {
    "duration": 21,
    "start_time": "2021-09-14T15:03:59.569Z"
   },
   {
    "duration": 21,
    "start_time": "2021-09-14T15:03:59.593Z"
   },
   {
    "duration": 51,
    "start_time": "2021-09-14T15:03:59.616Z"
   },
   {
    "duration": 3,
    "start_time": "2021-09-14T15:03:59.670Z"
   },
   {
    "duration": 20,
    "start_time": "2021-09-14T15:03:59.675Z"
   },
   {
    "duration": 7,
    "start_time": "2021-09-14T15:03:59.699Z"
   },
   {
    "duration": 21,
    "start_time": "2021-09-14T15:03:59.709Z"
   },
   {
    "duration": 5,
    "start_time": "2021-09-14T15:03:59.733Z"
   },
   {
    "duration": 38,
    "start_time": "2021-09-14T15:03:59.740Z"
   },
   {
    "duration": 9,
    "start_time": "2021-09-14T15:03:59.781Z"
   },
   {
    "duration": 9,
    "start_time": "2021-09-14T15:03:59.793Z"
   },
   {
    "duration": 22,
    "start_time": "2021-09-14T15:03:59.804Z"
   },
   {
    "duration": 40,
    "start_time": "2021-09-14T15:03:59.829Z"
   },
   {
    "duration": 19,
    "start_time": "2021-09-14T15:03:59.873Z"
   },
   {
    "duration": 10,
    "start_time": "2021-09-14T15:03:59.895Z"
   },
   {
    "duration": 15,
    "start_time": "2021-09-14T15:03:59.908Z"
   },
   {
    "duration": 52,
    "start_time": "2021-09-14T15:03:59.925Z"
   },
   {
    "duration": 6,
    "start_time": "2021-09-14T15:03:59.980Z"
   },
   {
    "duration": 21,
    "start_time": "2021-09-14T15:03:59.988Z"
   },
   {
    "duration": 60,
    "start_time": "2021-09-14T15:04:00.012Z"
   },
   {
    "duration": 92,
    "start_time": "2021-09-14T15:04:00.079Z"
   },
   {
    "duration": 12,
    "start_time": "2021-09-14T15:04:00.174Z"
   },
   {
    "duration": 12,
    "start_time": "2021-09-14T15:10:04.408Z"
   },
   {
    "duration": 6,
    "start_time": "2021-09-14T15:10:07.042Z"
   },
   {
    "duration": 8,
    "start_time": "2021-09-14T15:10:39.911Z"
   },
   {
    "duration": 1369,
    "start_time": "2021-09-14T15:12:53.869Z"
   },
   {
    "duration": 482,
    "start_time": "2021-09-14T15:12:55.241Z"
   },
   {
    "duration": 20,
    "start_time": "2021-09-14T15:12:55.726Z"
   },
   {
    "duration": 32,
    "start_time": "2021-09-14T15:12:55.749Z"
   },
   {
    "duration": 17,
    "start_time": "2021-09-14T15:12:55.783Z"
   },
   {
    "duration": 3,
    "start_time": "2021-09-14T15:12:55.803Z"
   },
   {
    "duration": 13,
    "start_time": "2021-09-14T15:12:55.809Z"
   },
   {
    "duration": 46,
    "start_time": "2021-09-14T15:12:55.825Z"
   },
   {
    "duration": 18,
    "start_time": "2021-09-14T15:12:55.876Z"
   },
   {
    "duration": 6,
    "start_time": "2021-09-14T15:12:55.897Z"
   },
   {
    "duration": 9,
    "start_time": "2021-09-14T15:12:55.905Z"
   },
   {
    "duration": 16,
    "start_time": "2021-09-14T15:12:55.916Z"
   },
   {
    "duration": 35,
    "start_time": "2021-09-14T15:12:55.935Z"
   },
   {
    "duration": 23,
    "start_time": "2021-09-14T15:12:55.972Z"
   },
   {
    "duration": 6,
    "start_time": "2021-09-14T15:12:55.999Z"
   },
   {
    "duration": 8,
    "start_time": "2021-09-14T15:12:56.008Z"
   },
   {
    "duration": 13,
    "start_time": "2021-09-14T15:12:56.018Z"
   },
   {
    "duration": 38,
    "start_time": "2021-09-14T15:12:56.034Z"
   },
   {
    "duration": 27,
    "start_time": "2021-09-14T15:12:56.074Z"
   },
   {
    "duration": 6,
    "start_time": "2021-09-14T15:12:56.104Z"
   },
   {
    "duration": 25,
    "start_time": "2021-09-14T15:12:56.112Z"
   },
   {
    "duration": 34,
    "start_time": "2021-09-14T15:12:56.140Z"
   },
   {
    "duration": 93,
    "start_time": "2021-09-14T15:12:56.177Z"
   },
   {
    "duration": 103,
    "start_time": "2021-09-14T15:12:56.273Z"
   },
   {
    "duration": 12,
    "start_time": "2021-09-14T15:12:56.378Z"
   },
   {
    "duration": 1433,
    "start_time": "2021-09-14T15:14:50.647Z"
   },
   {
    "duration": 485,
    "start_time": "2021-09-14T15:14:52.083Z"
   },
   {
    "duration": 19,
    "start_time": "2021-09-14T15:14:52.571Z"
   },
   {
    "duration": 19,
    "start_time": "2021-09-14T15:14:52.592Z"
   },
   {
    "duration": 18,
    "start_time": "2021-09-14T15:14:52.613Z"
   },
   {
    "duration": 37,
    "start_time": "2021-09-14T15:14:52.634Z"
   },
   {
    "duration": 18,
    "start_time": "2021-09-14T15:14:52.674Z"
   },
   {
    "duration": 10,
    "start_time": "2021-09-14T15:14:52.697Z"
   },
   {
    "duration": 29,
    "start_time": "2021-09-14T15:14:52.710Z"
   },
   {
    "duration": 6,
    "start_time": "2021-09-14T15:14:52.742Z"
   },
   {
    "duration": 15,
    "start_time": "2021-09-14T15:14:52.768Z"
   },
   {
    "duration": 16,
    "start_time": "2021-09-14T15:14:52.785Z"
   },
   {
    "duration": 15,
    "start_time": "2021-09-14T15:14:52.803Z"
   },
   {
    "duration": 22,
    "start_time": "2021-09-14T15:14:52.820Z"
   },
   {
    "duration": 26,
    "start_time": "2021-09-14T15:14:52.844Z"
   },
   {
    "duration": 26,
    "start_time": "2021-09-14T15:14:52.873Z"
   },
   {
    "duration": 15,
    "start_time": "2021-09-14T15:14:52.901Z"
   },
   {
    "duration": 13,
    "start_time": "2021-09-14T15:14:52.919Z"
   },
   {
    "duration": 38,
    "start_time": "2021-09-14T15:14:52.935Z"
   },
   {
    "duration": 7,
    "start_time": "2021-09-14T15:14:52.975Z"
   },
   {
    "duration": 23,
    "start_time": "2021-09-14T15:14:52.984Z"
   },
   {
    "duration": 62,
    "start_time": "2021-09-14T15:14:53.009Z"
   },
   {
    "duration": 97,
    "start_time": "2021-09-14T15:14:53.074Z"
   },
   {
    "duration": 23,
    "start_time": "2021-09-14T15:14:53.174Z"
   },
   {
    "duration": 9,
    "start_time": "2021-09-14T15:14:53.199Z"
   },
   {
    "duration": 1527,
    "start_time": "2021-09-14T15:16:44.166Z"
   },
   {
    "duration": 496,
    "start_time": "2021-09-14T15:16:45.696Z"
   },
   {
    "duration": 22,
    "start_time": "2021-09-14T15:16:46.196Z"
   },
   {
    "duration": 18,
    "start_time": "2021-09-14T15:16:46.221Z"
   },
   {
    "duration": 18,
    "start_time": "2021-09-14T15:16:46.266Z"
   },
   {
    "duration": 4,
    "start_time": "2021-09-14T15:16:46.287Z"
   },
   {
    "duration": 15,
    "start_time": "2021-09-14T15:16:46.293Z"
   },
   {
    "duration": 11,
    "start_time": "2021-09-14T15:16:46.312Z"
   },
   {
    "duration": 49,
    "start_time": "2021-09-14T15:16:46.326Z"
   },
   {
    "duration": 6,
    "start_time": "2021-09-14T15:16:46.378Z"
   },
   {
    "duration": 19,
    "start_time": "2021-09-14T15:16:46.386Z"
   },
   {
    "duration": 10,
    "start_time": "2021-09-14T15:16:46.407Z"
   },
   {
    "duration": 12,
    "start_time": "2021-09-14T15:16:46.420Z"
   },
   {
    "duration": 51,
    "start_time": "2021-09-14T15:16:46.434Z"
   },
   {
    "duration": 7,
    "start_time": "2021-09-14T15:16:46.488Z"
   },
   {
    "duration": 22,
    "start_time": "2021-09-14T15:16:46.498Z"
   },
   {
    "duration": 10,
    "start_time": "2021-09-14T15:16:46.522Z"
   },
   {
    "duration": 38,
    "start_time": "2021-09-14T15:16:46.534Z"
   },
   {
    "duration": 21,
    "start_time": "2021-09-14T15:16:46.574Z"
   },
   {
    "duration": 7,
    "start_time": "2021-09-14T15:16:46.598Z"
   },
   {
    "duration": 24,
    "start_time": "2021-09-14T15:16:46.608Z"
   },
   {
    "duration": 21,
    "start_time": "2021-09-14T15:16:46.667Z"
   },
   {
    "duration": 97,
    "start_time": "2021-09-14T15:16:46.772Z"
   },
   {
    "duration": 12,
    "start_time": "2021-09-14T15:16:46.872Z"
   },
   {
    "duration": 7,
    "start_time": "2021-09-14T15:16:46.886Z"
   },
   {
    "duration": 1406,
    "start_time": "2021-09-14T15:19:33.874Z"
   },
   {
    "duration": 478,
    "start_time": "2021-09-14T15:19:35.283Z"
   },
   {
    "duration": 27,
    "start_time": "2021-09-14T15:19:35.765Z"
   },
   {
    "duration": 19,
    "start_time": "2021-09-14T15:19:35.795Z"
   },
   {
    "duration": 18,
    "start_time": "2021-09-14T15:19:35.816Z"
   },
   {
    "duration": 33,
    "start_time": "2021-09-14T15:19:35.836Z"
   },
   {
    "duration": 19,
    "start_time": "2021-09-14T15:19:35.871Z"
   },
   {
    "duration": 14,
    "start_time": "2021-09-14T15:19:35.894Z"
   },
   {
    "duration": 27,
    "start_time": "2021-09-14T15:19:35.911Z"
   },
   {
    "duration": 7,
    "start_time": "2021-09-14T15:19:35.940Z"
   },
   {
    "duration": 22,
    "start_time": "2021-09-14T15:19:35.968Z"
   },
   {
    "duration": 11,
    "start_time": "2021-09-14T15:19:35.992Z"
   },
   {
    "duration": 16,
    "start_time": "2021-09-14T15:19:36.005Z"
   },
   {
    "duration": 30,
    "start_time": "2021-09-14T15:19:36.023Z"
   },
   {
    "duration": 22,
    "start_time": "2021-09-14T15:19:36.055Z"
   },
   {
    "duration": 25,
    "start_time": "2021-09-14T15:19:36.079Z"
   },
   {
    "duration": 9,
    "start_time": "2021-09-14T15:19:36.106Z"
   },
   {
    "duration": 21,
    "start_time": "2021-09-14T15:19:36.118Z"
   },
   {
    "duration": 39,
    "start_time": "2021-09-14T15:19:36.141Z"
   },
   {
    "duration": 6,
    "start_time": "2021-09-14T15:19:36.183Z"
   },
   {
    "duration": 24,
    "start_time": "2021-09-14T15:19:36.192Z"
   },
   {
    "duration": 56,
    "start_time": "2021-09-14T15:19:36.219Z"
   },
   {
    "duration": 6,
    "start_time": "2021-09-14T15:19:36.370Z"
   },
   {
    "duration": 479,
    "start_time": "2021-09-14T15:19:36.378Z"
   },
   {
    "duration": 309,
    "start_time": "2021-09-14T15:19:36.551Z"
   },
   {
    "duration": 308,
    "start_time": "2021-09-14T15:19:36.554Z"
   },
   {
    "duration": 305,
    "start_time": "2021-09-14T15:19:36.558Z"
   },
   {
    "duration": 305,
    "start_time": "2021-09-14T15:19:36.560Z"
   },
   {
    "duration": 305,
    "start_time": "2021-09-14T15:19:36.561Z"
   },
   {
    "duration": 1445,
    "start_time": "2021-09-14T15:20:02.445Z"
   },
   {
    "duration": 485,
    "start_time": "2021-09-14T15:20:03.893Z"
   },
   {
    "duration": 22,
    "start_time": "2021-09-14T15:20:04.381Z"
   },
   {
    "duration": 30,
    "start_time": "2021-09-14T15:20:04.407Z"
   },
   {
    "duration": 39,
    "start_time": "2021-09-14T15:20:04.440Z"
   },
   {
    "duration": 5,
    "start_time": "2021-09-14T15:20:04.481Z"
   },
   {
    "duration": 25,
    "start_time": "2021-09-14T15:20:04.488Z"
   },
   {
    "duration": 21,
    "start_time": "2021-09-14T15:20:04.516Z"
   },
   {
    "duration": 26,
    "start_time": "2021-09-14T15:20:04.540Z"
   },
   {
    "duration": 6,
    "start_time": "2021-09-14T15:20:04.569Z"
   },
   {
    "duration": 30,
    "start_time": "2021-09-14T15:20:04.577Z"
   },
   {
    "duration": 9,
    "start_time": "2021-09-14T15:20:04.609Z"
   },
   {
    "duration": 12,
    "start_time": "2021-09-14T15:20:04.621Z"
   },
   {
    "duration": 34,
    "start_time": "2021-09-14T15:20:04.636Z"
   },
   {
    "duration": 6,
    "start_time": "2021-09-14T15:20:04.673Z"
   },
   {
    "duration": 19,
    "start_time": "2021-09-14T15:20:04.682Z"
   },
   {
    "duration": 9,
    "start_time": "2021-09-14T15:20:04.704Z"
   },
   {
    "duration": 20,
    "start_time": "2021-09-14T15:20:04.715Z"
   },
   {
    "duration": 44,
    "start_time": "2021-09-14T15:20:04.738Z"
   },
   {
    "duration": 8,
    "start_time": "2021-09-14T15:20:04.785Z"
   },
   {
    "duration": 24,
    "start_time": "2021-09-14T15:20:04.795Z"
   },
   {
    "duration": 46,
    "start_time": "2021-09-14T15:20:04.822Z"
   },
   {
    "duration": 96,
    "start_time": "2021-09-14T15:20:04.878Z"
   },
   {
    "duration": 554,
    "start_time": "2021-09-14T15:20:04.977Z"
   },
   {
    "duration": 309,
    "start_time": "2021-09-14T15:20:05.225Z"
   },
   {
    "duration": 306,
    "start_time": "2021-09-14T15:20:05.229Z"
   },
   {
    "duration": 300,
    "start_time": "2021-09-14T15:20:05.237Z"
   },
   {
    "duration": 294,
    "start_time": "2021-09-14T15:20:05.244Z"
   },
   {
    "duration": 291,
    "start_time": "2021-09-14T15:20:05.249Z"
   },
   {
    "duration": 406,
    "start_time": "2021-09-14T15:22:24.892Z"
   },
   {
    "duration": 1388,
    "start_time": "2021-09-14T15:23:23.796Z"
   },
   {
    "duration": 480,
    "start_time": "2021-09-14T15:23:25.187Z"
   },
   {
    "duration": 21,
    "start_time": "2021-09-14T15:23:25.670Z"
   },
   {
    "duration": 20,
    "start_time": "2021-09-14T15:23:25.694Z"
   },
   {
    "duration": 50,
    "start_time": "2021-09-14T15:23:25.717Z"
   },
   {
    "duration": 3,
    "start_time": "2021-09-14T15:23:25.770Z"
   },
   {
    "duration": 15,
    "start_time": "2021-09-14T15:23:25.776Z"
   },
   {
    "duration": 9,
    "start_time": "2021-09-14T15:23:25.795Z"
   },
   {
    "duration": 21,
    "start_time": "2021-09-14T15:23:25.807Z"
   },
   {
    "duration": 7,
    "start_time": "2021-09-14T15:23:25.831Z"
   },
   {
    "duration": 15,
    "start_time": "2021-09-14T15:23:25.868Z"
   },
   {
    "duration": 9,
    "start_time": "2021-09-14T15:23:25.886Z"
   },
   {
    "duration": 10,
    "start_time": "2021-09-14T15:23:25.898Z"
   },
   {
    "duration": 22,
    "start_time": "2021-09-14T15:23:25.910Z"
   },
   {
    "duration": 6,
    "start_time": "2021-09-14T15:23:25.968Z"
   },
   {
    "duration": 25,
    "start_time": "2021-09-14T15:23:25.976Z"
   },
   {
    "duration": 9,
    "start_time": "2021-09-14T15:23:26.003Z"
   },
   {
    "duration": 10,
    "start_time": "2021-09-14T15:23:26.015Z"
   },
   {
    "duration": 47,
    "start_time": "2021-09-14T15:23:26.028Z"
   },
   {
    "duration": 6,
    "start_time": "2021-09-14T15:23:26.078Z"
   },
   {
    "duration": 25,
    "start_time": "2021-09-14T15:23:26.086Z"
   },
   {
    "duration": 62,
    "start_time": "2021-09-14T15:23:26.113Z"
   },
   {
    "duration": 6,
    "start_time": "2021-09-14T15:23:26.270Z"
   },
   {
    "duration": 16,
    "start_time": "2021-09-14T15:23:26.279Z"
   },
   {
    "duration": 70,
    "start_time": "2021-09-14T15:23:26.299Z"
   },
   {
    "duration": 511,
    "start_time": "2021-09-14T15:23:26.372Z"
   },
   {
    "duration": 306,
    "start_time": "2021-09-14T15:23:26.580Z"
   },
   {
    "duration": 300,
    "start_time": "2021-09-14T15:23:26.587Z"
   },
   {
    "duration": 295,
    "start_time": "2021-09-14T15:23:26.593Z"
   },
   {
    "duration": 1381,
    "start_time": "2021-09-14T15:23:38.106Z"
   },
   {
    "duration": 471,
    "start_time": "2021-09-14T15:23:39.490Z"
   },
   {
    "duration": 19,
    "start_time": "2021-09-14T15:23:39.964Z"
   },
   {
    "duration": 21,
    "start_time": "2021-09-14T15:23:39.986Z"
   },
   {
    "duration": 61,
    "start_time": "2021-09-14T15:23:40.009Z"
   },
   {
    "duration": 10,
    "start_time": "2021-09-14T15:23:40.073Z"
   },
   {
    "duration": 21,
    "start_time": "2021-09-14T15:23:40.086Z"
   },
   {
    "duration": 32,
    "start_time": "2021-09-14T15:23:40.111Z"
   },
   {
    "duration": 64,
    "start_time": "2021-09-14T15:23:40.146Z"
   },
   {
    "duration": 6,
    "start_time": "2021-09-14T15:23:40.213Z"
   },
   {
    "duration": 26,
    "start_time": "2021-09-14T15:23:40.221Z"
   },
   {
    "duration": 9,
    "start_time": "2021-09-14T15:23:40.250Z"
   },
   {
    "duration": 9,
    "start_time": "2021-09-14T15:23:40.261Z"
   },
   {
    "duration": 28,
    "start_time": "2021-09-14T15:23:40.272Z"
   },
   {
    "duration": 8,
    "start_time": "2021-09-14T15:23:40.302Z"
   },
   {
    "duration": 28,
    "start_time": "2021-09-14T15:23:40.312Z"
   },
   {
    "duration": 11,
    "start_time": "2021-09-14T15:23:40.342Z"
   },
   {
    "duration": 16,
    "start_time": "2021-09-14T15:23:40.366Z"
   },
   {
    "duration": 26,
    "start_time": "2021-09-14T15:23:40.385Z"
   },
   {
    "duration": 8,
    "start_time": "2021-09-14T15:23:40.414Z"
   },
   {
    "duration": 28,
    "start_time": "2021-09-14T15:23:40.424Z"
   },
   {
    "duration": 32,
    "start_time": "2021-09-14T15:23:40.455Z"
   },
   {
    "duration": 8,
    "start_time": "2021-09-14T15:23:40.573Z"
   },
   {
    "duration": 8,
    "start_time": "2021-09-14T15:23:40.668Z"
   },
   {
    "duration": 16,
    "start_time": "2021-09-14T15:23:40.678Z"
   },
   {
    "duration": 72,
    "start_time": "2021-09-14T15:23:40.697Z"
   },
   {
    "duration": 103,
    "start_time": "2021-09-14T15:23:40.772Z"
   },
   {
    "duration": 497,
    "start_time": "2021-09-14T15:23:40.878Z"
   },
   {
    "duration": 314,
    "start_time": "2021-09-14T15:23:41.063Z"
   },
   {
    "duration": 1357,
    "start_time": "2021-09-14T15:23:55.282Z"
   },
   {
    "duration": 465,
    "start_time": "2021-09-14T15:23:56.642Z"
   },
   {
    "duration": 19,
    "start_time": "2021-09-14T15:23:57.110Z"
   },
   {
    "duration": 37,
    "start_time": "2021-09-14T15:23:57.131Z"
   },
   {
    "duration": 19,
    "start_time": "2021-09-14T15:23:57.171Z"
   },
   {
    "duration": 9,
    "start_time": "2021-09-14T15:23:57.192Z"
   },
   {
    "duration": 20,
    "start_time": "2021-09-14T15:23:57.203Z"
   },
   {
    "duration": 16,
    "start_time": "2021-09-14T15:23:57.226Z"
   },
   {
    "duration": 35,
    "start_time": "2021-09-14T15:23:57.247Z"
   },
   {
    "duration": 7,
    "start_time": "2021-09-14T15:23:57.285Z"
   },
   {
    "duration": 21,
    "start_time": "2021-09-14T15:23:57.295Z"
   },
   {
    "duration": 11,
    "start_time": "2021-09-14T15:23:57.318Z"
   },
   {
    "duration": 36,
    "start_time": "2021-09-14T15:23:57.331Z"
   },
   {
    "duration": 25,
    "start_time": "2021-09-14T15:23:57.370Z"
   },
   {
    "duration": 9,
    "start_time": "2021-09-14T15:23:57.397Z"
   },
   {
    "duration": 30,
    "start_time": "2021-09-14T15:23:57.408Z"
   },
   {
    "duration": 30,
    "start_time": "2021-09-14T15:23:57.441Z"
   },
   {
    "duration": 29,
    "start_time": "2021-09-14T15:23:57.474Z"
   },
   {
    "duration": 36,
    "start_time": "2021-09-14T15:23:57.506Z"
   },
   {
    "duration": 10,
    "start_time": "2021-09-14T15:23:57.545Z"
   },
   {
    "duration": 24,
    "start_time": "2021-09-14T15:23:57.558Z"
   },
   {
    "duration": 83,
    "start_time": "2021-09-14T15:23:57.584Z"
   },
   {
    "duration": 7,
    "start_time": "2021-09-14T15:23:57.671Z"
   },
   {
    "duration": 99,
    "start_time": "2021-09-14T15:23:57.680Z"
   },
   {
    "duration": 17,
    "start_time": "2021-09-14T15:23:57.781Z"
   },
   {
    "duration": 33,
    "start_time": "2021-09-14T15:23:57.800Z"
   },
   {
    "duration": 98,
    "start_time": "2021-09-14T15:23:57.873Z"
   },
   {
    "duration": 26,
    "start_time": "2021-09-14T15:23:57.974Z"
   },
   {
    "duration": 11,
    "start_time": "2021-09-14T15:23:58.002Z"
   },
   {
    "duration": 1392,
    "start_time": "2021-09-14T15:25:41.432Z"
   },
   {
    "duration": 536,
    "start_time": "2021-09-14T15:25:42.826Z"
   },
   {
    "duration": 21,
    "start_time": "2021-09-14T15:25:43.367Z"
   },
   {
    "duration": 20,
    "start_time": "2021-09-14T15:25:43.391Z"
   },
   {
    "duration": 20,
    "start_time": "2021-09-14T15:25:43.413Z"
   },
   {
    "duration": 5,
    "start_time": "2021-09-14T15:25:43.468Z"
   },
   {
    "duration": 16,
    "start_time": "2021-09-14T15:25:43.476Z"
   },
   {
    "duration": 7,
    "start_time": "2021-09-14T15:25:43.498Z"
   },
   {
    "duration": 21,
    "start_time": "2021-09-14T15:25:43.509Z"
   },
   {
    "duration": 40,
    "start_time": "2021-09-14T15:25:43.533Z"
   },
   {
    "duration": 17,
    "start_time": "2021-09-14T15:25:43.576Z"
   },
   {
    "duration": 9,
    "start_time": "2021-09-14T15:25:43.596Z"
   },
   {
    "duration": 9,
    "start_time": "2021-09-14T15:25:43.608Z"
   },
   {
    "duration": 64,
    "start_time": "2021-09-14T15:25:43.620Z"
   },
   {
    "duration": 6,
    "start_time": "2021-09-14T15:25:43.687Z"
   },
   {
    "duration": 22,
    "start_time": "2021-09-14T15:25:43.696Z"
   },
   {
    "duration": 47,
    "start_time": "2021-09-14T15:25:43.721Z"
   },
   {
    "duration": 8,
    "start_time": "2021-09-14T15:25:43.771Z"
   },
   {
    "duration": 23,
    "start_time": "2021-09-14T15:25:43.781Z"
   },
   {
    "duration": 6,
    "start_time": "2021-09-14T15:25:43.808Z"
   },
   {
    "duration": 51,
    "start_time": "2021-09-14T15:25:43.816Z"
   },
   {
    "duration": 100,
    "start_time": "2021-09-14T15:25:43.870Z"
   },
   {
    "duration": 94,
    "start_time": "2021-09-14T15:25:43.977Z"
   },
   {
    "duration": 9,
    "start_time": "2021-09-14T15:25:44.074Z"
   },
   {
    "duration": 7,
    "start_time": "2021-09-14T15:25:44.085Z"
   },
   {
    "duration": 74,
    "start_time": "2021-09-14T15:25:44.095Z"
   },
   {
    "duration": 9,
    "start_time": "2021-09-14T15:25:44.172Z"
   },
   {
    "duration": 97,
    "start_time": "2021-09-14T15:25:44.270Z"
   },
   {
    "duration": 7,
    "start_time": "2021-09-14T15:25:44.370Z"
   },
   {
    "duration": 22,
    "start_time": "2021-09-14T15:25:44.380Z"
   },
   {
    "duration": 90,
    "start_time": "2021-09-14T15:25:44.479Z"
   },
   {
    "duration": 11,
    "start_time": "2021-09-14T15:25:44.572Z"
   },
   {
    "duration": 9,
    "start_time": "2021-09-14T15:25:44.586Z"
   },
   {
    "duration": 5,
    "start_time": "2021-09-14T16:34:00.358Z"
   },
   {
    "duration": 2157,
    "start_time": "2021-09-14T16:34:23.663Z"
   },
   {
    "duration": 26,
    "start_time": "2021-09-14T16:34:56.646Z"
   },
   {
    "duration": 4,
    "start_time": "2021-09-14T16:35:12.032Z"
   },
   {
    "duration": 5,
    "start_time": "2021-09-14T16:35:34.950Z"
   },
   {
    "duration": 5,
    "start_time": "2021-09-14T16:38:10.510Z"
   },
   {
    "duration": 127,
    "start_time": "2021-09-14T16:46:19.920Z"
   },
   {
    "duration": 4,
    "start_time": "2021-09-14T16:46:30.505Z"
   },
   {
    "duration": 4,
    "start_time": "2021-09-14T16:51:50.390Z"
   },
   {
    "duration": 4,
    "start_time": "2021-09-14T16:52:17.425Z"
   },
   {
    "duration": 326,
    "start_time": "2021-09-14T16:54:08.412Z"
   },
   {
    "duration": 6,
    "start_time": "2021-09-14T17:05:57.531Z"
   },
   {
    "duration": 359,
    "start_time": "2021-09-14T17:06:00.679Z"
   },
   {
    "duration": 770,
    "start_time": "2021-09-14T17:06:12.426Z"
   },
   {
    "duration": 6,
    "start_time": "2021-09-14T17:07:40.308Z"
   },
   {
    "duration": 5403,
    "start_time": "2021-09-14T17:07:42.206Z"
   },
   {
    "duration": 5473,
    "start_time": "2021-09-14T17:08:46.833Z"
   },
   {
    "duration": 5471,
    "start_time": "2021-09-14T17:09:22.974Z"
   },
   {
    "duration": 1367,
    "start_time": "2021-09-14T17:16:52.611Z"
   },
   {
    "duration": 502,
    "start_time": "2021-09-14T17:16:53.981Z"
   },
   {
    "duration": 21,
    "start_time": "2021-09-14T17:16:54.486Z"
   },
   {
    "duration": 20,
    "start_time": "2021-09-14T17:16:54.510Z"
   },
   {
    "duration": 46,
    "start_time": "2021-09-14T17:16:54.533Z"
   },
   {
    "duration": 4,
    "start_time": "2021-09-14T17:16:54.582Z"
   },
   {
    "duration": 14,
    "start_time": "2021-09-14T17:16:54.589Z"
   },
   {
    "duration": 11,
    "start_time": "2021-09-14T17:16:54.606Z"
   },
   {
    "duration": 50,
    "start_time": "2021-09-14T17:16:54.621Z"
   },
   {
    "duration": 6,
    "start_time": "2021-09-14T17:16:54.674Z"
   },
   {
    "duration": 17,
    "start_time": "2021-09-14T17:16:54.682Z"
   },
   {
    "duration": 9,
    "start_time": "2021-09-14T17:16:54.701Z"
   },
   {
    "duration": 9,
    "start_time": "2021-09-14T17:16:54.713Z"
   },
   {
    "duration": 54,
    "start_time": "2021-09-14T17:16:54.724Z"
   },
   {
    "duration": 6,
    "start_time": "2021-09-14T17:16:54.781Z"
   },
   {
    "duration": 17,
    "start_time": "2021-09-14T17:16:54.789Z"
   },
   {
    "duration": 9,
    "start_time": "2021-09-14T17:16:54.809Z"
   },
   {
    "duration": 46,
    "start_time": "2021-09-14T17:16:54.821Z"
   },
   {
    "duration": 20,
    "start_time": "2021-09-14T17:16:54.870Z"
   },
   {
    "duration": 6,
    "start_time": "2021-09-14T17:16:54.893Z"
   },
   {
    "duration": 23,
    "start_time": "2021-09-14T17:16:54.902Z"
   },
   {
    "duration": 44,
    "start_time": "2021-09-14T17:16:54.927Z"
   },
   {
    "duration": 98,
    "start_time": "2021-09-14T17:16:54.974Z"
   },
   {
    "duration": 99,
    "start_time": "2021-09-14T17:16:55.076Z"
   },
   {
    "duration": 13,
    "start_time": "2021-09-14T17:16:55.178Z"
   },
   {
    "duration": 75,
    "start_time": "2021-09-14T17:16:55.193Z"
   },
   {
    "duration": 98,
    "start_time": "2021-09-14T17:16:55.276Z"
   },
   {
    "duration": 11,
    "start_time": "2021-09-14T17:16:55.378Z"
   },
   {
    "duration": 78,
    "start_time": "2021-09-14T17:16:55.392Z"
   },
   {
    "duration": 18,
    "start_time": "2021-09-14T17:16:55.472Z"
   },
   {
    "duration": 98,
    "start_time": "2021-09-14T17:16:55.569Z"
   },
   {
    "duration": 9,
    "start_time": "2021-09-14T17:16:55.670Z"
   },
   {
    "duration": 10,
    "start_time": "2021-09-14T17:16:55.681Z"
   },
   {
    "duration": 5,
    "start_time": "2021-09-14T17:16:55.694Z"
   },
   {
    "duration": 5,
    "start_time": "2021-09-14T17:16:55.701Z"
   },
   {
    "duration": 8,
    "start_time": "2021-09-14T17:16:55.708Z"
   },
   {
    "duration": 52,
    "start_time": "2021-09-14T17:16:55.718Z"
   },
   {
    "duration": 5444,
    "start_time": "2021-09-14T17:16:55.772Z"
   },
   {
    "duration": 5408,
    "start_time": "2021-09-14T17:17:01.219Z"
   },
   {
    "duration": 5366,
    "start_time": "2021-09-14T17:17:06.630Z"
   },
   {
    "duration": 1056,
    "start_time": "2021-09-14T17:39:19.857Z"
   },
   {
    "duration": 366,
    "start_time": "2021-09-14T17:39:20.915Z"
   },
   {
    "duration": 14,
    "start_time": "2021-09-14T17:39:58.460Z"
   },
   {
    "duration": 13,
    "start_time": "2021-09-14T17:39:59.462Z"
   },
   {
    "duration": 13,
    "start_time": "2021-09-14T17:40:00.191Z"
   },
   {
    "duration": 3,
    "start_time": "2021-09-14T17:40:30.697Z"
   },
   {
    "duration": 9,
    "start_time": "2021-09-14T17:40:31.806Z"
   },
   {
    "duration": 4,
    "start_time": "2021-09-14T17:40:32.016Z"
   },
   {
    "duration": 15,
    "start_time": "2021-09-14T17:40:32.248Z"
   },
   {
    "duration": 5,
    "start_time": "2021-09-14T17:40:32.455Z"
   },
   {
    "duration": 11,
    "start_time": "2021-09-14T17:40:32.799Z"
   },
   {
    "duration": 7,
    "start_time": "2021-09-14T17:40:33.993Z"
   },
   {
    "duration": 5,
    "start_time": "2021-09-14T17:40:34.198Z"
   },
   {
    "duration": 16,
    "start_time": "2021-09-14T17:40:34.415Z"
   },
   {
    "duration": 4,
    "start_time": "2021-09-14T17:40:34.652Z"
   },
   {
    "duration": 12,
    "start_time": "2021-09-14T17:40:36.552Z"
   },
   {
    "duration": 7,
    "start_time": "2021-09-14T17:40:36.959Z"
   },
   {
    "duration": 5,
    "start_time": "2021-09-14T17:40:37.431Z"
   },
   {
    "duration": 14,
    "start_time": "2021-09-14T17:40:37.599Z"
   },
   {
    "duration": 4,
    "start_time": "2021-09-14T17:40:37.783Z"
   },
   {
    "duration": 12,
    "start_time": "2021-09-14T17:40:38.473Z"
   },
   {
    "duration": 17,
    "start_time": "2021-09-14T17:47:20.078Z"
   },
   {
    "duration": 6,
    "start_time": "2021-09-14T17:47:20.576Z"
   },
   {
    "duration": 6,
    "start_time": "2021-09-14T17:47:20.768Z"
   },
   {
    "duration": 6,
    "start_time": "2021-09-14T17:47:20.994Z"
   },
   {
    "duration": 18,
    "start_time": "2021-09-14T17:47:26.584Z"
   },
   {
    "duration": 5,
    "start_time": "2021-09-14T17:47:35.504Z"
   },
   {
    "duration": 6,
    "start_time": "2021-09-14T17:47:35.705Z"
   },
   {
    "duration": 5,
    "start_time": "2021-09-14T17:47:35.896Z"
   },
   {
    "duration": 14,
    "start_time": "2021-09-14T17:47:36.288Z"
   },
   {
    "duration": 5,
    "start_time": "2021-09-14T17:47:36.593Z"
   },
   {
    "duration": 6,
    "start_time": "2021-09-14T17:47:36.800Z"
   },
   {
    "duration": 6,
    "start_time": "2021-09-14T17:47:37.007Z"
   },
   {
    "duration": 4,
    "start_time": "2021-09-14T17:51:06.767Z"
   },
   {
    "duration": 3,
    "start_time": "2021-09-14T17:51:09.107Z"
   },
   {
    "duration": 3,
    "start_time": "2021-09-14T17:52:32.662Z"
   },
   {
    "duration": 3,
    "start_time": "2021-09-14T17:52:35.344Z"
   },
   {
    "duration": 5,
    "start_time": "2021-09-14T17:52:35.889Z"
   },
   {
    "duration": 3009,
    "start_time": "2021-09-14T17:52:55.952Z"
   },
   {
    "duration": 3001,
    "start_time": "2021-09-14T17:52:58.963Z"
   },
   {
    "duration": 3051,
    "start_time": "2021-09-14T17:53:01.966Z"
   },
   {
    "duration": 2996,
    "start_time": "2021-09-14T17:58:45.895Z"
   },
   {
    "duration": 3,
    "start_time": "2021-09-14T17:59:08.844Z"
   },
   {
    "duration": 3207,
    "start_time": "2021-09-14T17:59:12.964Z"
   },
   {
    "duration": 2953,
    "start_time": "2021-09-14T17:59:22.595Z"
   },
   {
    "duration": 3,
    "start_time": "2021-09-14T17:59:52.066Z"
   },
   {
    "duration": 3089,
    "start_time": "2021-09-14T17:59:59.324Z"
   },
   {
    "duration": 2998,
    "start_time": "2021-09-14T18:00:08.818Z"
   },
   {
    "duration": 2977,
    "start_time": "2021-09-14T18:00:15.878Z"
   },
   {
    "duration": 3,
    "start_time": "2021-09-14T18:05:59.080Z"
   },
   {
    "duration": 3110,
    "start_time": "2021-09-14T18:06:01.875Z"
   },
   {
    "duration": 3143,
    "start_time": "2021-09-14T18:06:06.043Z"
   },
   {
    "duration": 3065,
    "start_time": "2021-09-14T18:06:09.192Z"
   },
   {
    "duration": 5,
    "start_time": "2021-09-14T20:20:12.490Z"
   },
   {
    "duration": 4,
    "start_time": "2021-09-14T20:21:34.465Z"
   },
   {
    "duration": 4,
    "start_time": "2021-09-14T20:25:46.304Z"
   },
   {
    "duration": 5,
    "start_time": "2021-09-14T20:25:59.848Z"
   },
   {
    "duration": 5,
    "start_time": "2021-09-14T20:27:06.006Z"
   },
   {
    "duration": 15,
    "start_time": "2021-09-14T20:27:34.688Z"
   },
   {
    "duration": 5457,
    "start_time": "2021-09-14T20:27:51.639Z"
   },
   {
    "duration": 6,
    "start_time": "2021-09-14T20:27:59.352Z"
   },
   {
    "duration": 5,
    "start_time": "2021-09-14T20:28:27.241Z"
   },
   {
    "duration": 494,
    "start_time": "2021-09-14T20:28:45.699Z"
   },
   {
    "duration": 5,
    "start_time": "2021-09-14T20:28:52.372Z"
   },
   {
    "duration": 2793,
    "start_time": "2021-09-14T20:29:14.241Z"
   },
   {
    "duration": 475,
    "start_time": "2021-09-14T20:29:17.037Z"
   },
   {
    "duration": 20,
    "start_time": "2021-09-14T20:29:17.515Z"
   },
   {
    "duration": 36,
    "start_time": "2021-09-14T20:29:17.537Z"
   },
   {
    "duration": 18,
    "start_time": "2021-09-14T20:29:17.575Z"
   },
   {
    "duration": 4,
    "start_time": "2021-09-14T20:29:17.596Z"
   },
   {
    "duration": 25,
    "start_time": "2021-09-14T20:29:17.602Z"
   },
   {
    "duration": 15,
    "start_time": "2021-09-14T20:29:17.629Z"
   },
   {
    "duration": 35,
    "start_time": "2021-09-14T20:29:17.649Z"
   },
   {
    "duration": 7,
    "start_time": "2021-09-14T20:29:17.687Z"
   },
   {
    "duration": 24,
    "start_time": "2021-09-14T20:29:17.696Z"
   },
   {
    "duration": 11,
    "start_time": "2021-09-14T20:29:17.722Z"
   },
   {
    "duration": 6,
    "start_time": "2021-09-14T20:29:17.768Z"
   },
   {
    "duration": 23,
    "start_time": "2021-09-14T20:29:17.776Z"
   },
   {
    "duration": 5,
    "start_time": "2021-09-14T20:29:17.802Z"
   },
   {
    "duration": 20,
    "start_time": "2021-09-14T20:29:17.809Z"
   },
   {
    "duration": 38,
    "start_time": "2021-09-14T20:29:17.831Z"
   },
   {
    "duration": 8,
    "start_time": "2021-09-14T20:29:17.872Z"
   },
   {
    "duration": 22,
    "start_time": "2021-09-14T20:29:17.883Z"
   },
   {
    "duration": 6,
    "start_time": "2021-09-14T20:29:17.908Z"
   },
   {
    "duration": 16,
    "start_time": "2021-09-14T20:29:17.916Z"
   },
   {
    "duration": 19,
    "start_time": "2021-09-14T20:29:17.968Z"
   },
   {
    "duration": 81,
    "start_time": "2021-09-14T20:29:17.990Z"
   },
   {
    "duration": 97,
    "start_time": "2021-09-14T20:29:18.076Z"
   },
   {
    "duration": 9,
    "start_time": "2021-09-14T20:29:18.175Z"
   },
   {
    "duration": 21,
    "start_time": "2021-09-14T20:29:18.186Z"
   },
   {
    "duration": 99,
    "start_time": "2021-09-14T20:29:18.273Z"
   },
   {
    "duration": 7,
    "start_time": "2021-09-14T20:29:18.375Z"
   },
   {
    "duration": 10,
    "start_time": "2021-09-14T20:29:18.385Z"
   },
   {
    "duration": 71,
    "start_time": "2021-09-14T20:29:18.398Z"
   },
   {
    "duration": 93,
    "start_time": "2021-09-14T20:29:18.475Z"
   },
   {
    "duration": 15,
    "start_time": "2021-09-14T20:29:18.571Z"
   },
   {
    "duration": 20,
    "start_time": "2021-09-14T20:29:18.588Z"
   },
   {
    "duration": 59,
    "start_time": "2021-09-14T20:29:18.610Z"
   },
   {
    "duration": 27,
    "start_time": "2021-09-14T20:29:18.671Z"
   },
   {
    "duration": 21,
    "start_time": "2021-09-14T20:29:18.700Z"
   },
   {
    "duration": 15,
    "start_time": "2021-09-14T20:29:18.724Z"
   },
   {
    "duration": 22,
    "start_time": "2021-09-14T20:29:18.741Z"
   },
   {
    "duration": 5493,
    "start_time": "2021-09-14T20:29:18.765Z"
   },
   {
    "duration": 5,
    "start_time": "2021-09-14T20:29:24.268Z"
   },
   {
    "duration": 5395,
    "start_time": "2021-09-14T20:29:24.275Z"
   },
   {
    "duration": 6,
    "start_time": "2021-09-14T20:29:29.672Z"
   },
   {
    "duration": 5444,
    "start_time": "2021-09-14T20:29:29.680Z"
   },
   {
    "duration": 5,
    "start_time": "2021-09-14T20:29:35.126Z"
   },
   {
    "duration": 4,
    "start_time": "2021-09-14T20:30:19.406Z"
   },
   {
    "duration": 1296,
    "start_time": "2021-09-14T20:30:25.193Z"
   },
   {
    "duration": 473,
    "start_time": "2021-09-14T20:30:26.492Z"
   },
   {
    "duration": 20,
    "start_time": "2021-09-14T20:30:26.968Z"
   },
   {
    "duration": 27,
    "start_time": "2021-09-14T20:30:26.991Z"
   },
   {
    "duration": 23,
    "start_time": "2021-09-14T20:30:27.021Z"
   },
   {
    "duration": 21,
    "start_time": "2021-09-14T20:30:27.047Z"
   },
   {
    "duration": 25,
    "start_time": "2021-09-14T20:30:27.072Z"
   },
   {
    "duration": 17,
    "start_time": "2021-09-14T20:30:27.101Z"
   },
   {
    "duration": 20,
    "start_time": "2021-09-14T20:30:27.120Z"
   },
   {
    "duration": 10,
    "start_time": "2021-09-14T20:30:27.142Z"
   },
   {
    "duration": 27,
    "start_time": "2021-09-14T20:30:27.154Z"
   },
   {
    "duration": 9,
    "start_time": "2021-09-14T20:30:27.183Z"
   },
   {
    "duration": 12,
    "start_time": "2021-09-14T20:30:27.194Z"
   },
   {
    "duration": 29,
    "start_time": "2021-09-14T20:30:27.209Z"
   },
   {
    "duration": 5,
    "start_time": "2021-09-14T20:30:27.240Z"
   },
   {
    "duration": 15,
    "start_time": "2021-09-14T20:30:27.268Z"
   },
   {
    "duration": 16,
    "start_time": "2021-09-14T20:30:27.285Z"
   },
   {
    "duration": 11,
    "start_time": "2021-09-14T20:30:27.303Z"
   },
   {
    "duration": 22,
    "start_time": "2021-09-14T20:30:27.316Z"
   },
   {
    "duration": 32,
    "start_time": "2021-09-14T20:30:27.341Z"
   },
   {
    "duration": 18,
    "start_time": "2021-09-14T20:30:27.375Z"
   },
   {
    "duration": 76,
    "start_time": "2021-09-14T20:30:27.395Z"
   },
   {
    "duration": 8,
    "start_time": "2021-09-14T20:30:27.567Z"
   },
   {
    "duration": 9,
    "start_time": "2021-09-14T20:30:27.578Z"
   },
   {
    "duration": 10,
    "start_time": "2021-09-14T20:30:27.590Z"
   },
   {
    "duration": 67,
    "start_time": "2021-09-14T20:30:27.602Z"
   },
   {
    "duration": 98,
    "start_time": "2021-09-14T20:30:27.673Z"
   },
   {
    "duration": 11,
    "start_time": "2021-09-14T20:30:27.773Z"
   },
   {
    "duration": 8,
    "start_time": "2021-09-14T20:30:27.788Z"
   },
   {
    "duration": 71,
    "start_time": "2021-09-14T20:30:27.799Z"
   },
   {
    "duration": 97,
    "start_time": "2021-09-14T20:30:27.873Z"
   },
   {
    "duration": 9,
    "start_time": "2021-09-14T20:30:27.973Z"
   },
   {
    "duration": 8,
    "start_time": "2021-09-14T20:30:27.984Z"
   },
   {
    "duration": 5,
    "start_time": "2021-09-14T20:30:27.994Z"
   },
   {
    "duration": 30,
    "start_time": "2021-09-14T20:30:28.001Z"
   },
   {
    "duration": 37,
    "start_time": "2021-09-14T20:30:28.033Z"
   },
   {
    "duration": 21,
    "start_time": "2021-09-14T20:30:28.072Z"
   },
   {
    "duration": 12,
    "start_time": "2021-09-14T20:30:28.095Z"
   },
   {
    "duration": 5544,
    "start_time": "2021-09-14T20:30:28.109Z"
   },
   {
    "duration": 11,
    "start_time": "2021-09-14T20:30:33.656Z"
   },
   {
    "duration": 5350,
    "start_time": "2021-09-14T20:30:33.671Z"
   },
   {
    "duration": 5,
    "start_time": "2021-09-14T20:30:39.024Z"
   },
   {
    "duration": 5241,
    "start_time": "2021-09-14T20:30:39.032Z"
   },
   {
    "duration": 6,
    "start_time": "2021-09-14T20:30:44.276Z"
   }
  ],
  "kernelspec": {
   "display_name": "Python 3",
   "language": "python",
   "name": "python3"
  },
  "language_info": {
   "codemirror_mode": {
    "name": "ipython",
    "version": 3
   },
   "file_extension": ".py",
   "mimetype": "text/x-python",
   "name": "python",
   "nbconvert_exporter": "python",
   "pygments_lexer": "ipython3",
   "version": "3.8.8"
  },
  "toc": {
   "base_numbering": 1,
   "nav_menu": {},
   "number_sections": true,
   "sideBar": true,
   "skip_h1_title": true,
   "title_cell": "Table of Contents",
   "title_sidebar": "Contents",
   "toc_cell": false,
   "toc_position": {},
   "toc_section_display": true,
   "toc_window_display": false
  }
 },
 "nbformat": 4,
 "nbformat_minor": 2
}
