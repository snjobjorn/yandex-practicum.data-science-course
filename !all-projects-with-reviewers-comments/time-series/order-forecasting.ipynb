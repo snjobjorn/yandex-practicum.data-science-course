{
 "cells": [
  {
   "cell_type": "markdown",
   "metadata": {},
   "source": [
    "<div style=\"background: #cceeaa; padding: 5px; border: 1px solid green; border-radius: 5px;\">\n",
    "    <font color='green'> <b><u>КОММЕНТАРИЙ РЕВЬЮЕРА</u></b>\n",
    "\n",
    "Александр, доброго дня! рад приветствовать тебя) <br />\n",
    "(А дальше - шаблонная часть, как ты заметил по другим спринтам)<br>\n",
    "<br />\n",
    "Меня зовут Николай Шавлюго. <br />И на этом этапе твоего движения к новой профессии от меня будут комментарии по написанному коду. <br />Чтобы меньше \"мусорить эфир\" и чтобы максимально наглядно отделяться от основного кода, есть предложение условиться в некоторых обозначениях:<br /> <br />\n",
    "<u><b>ТАКОЙ ШРИФТ</b></u> - всегда начало комментария <br />\n",
    "<font color='green'>такой шрифт</font> - комментарии о том, что всё ОК <br/>\n",
    "<font color='orange'>такой шрифт</font> - комментарии о том, что всё ОК по результату,<br> однако есть на что обратить внимание в плане применения техник, или есть способы сделать более короткий или быстрый код <br/>\n",
    "<font color='red'>такой шрифт</font> - комментарии о том, что есть критичный момент, влияющий на бизнес-результат проекта.<br/>\n",
    "</font><br /><br />\n",
    "<font color='green'>Моей целью является не \"уличить\" в не знании, а просто высказать сверху твоих знаний - свой опыт, что бы ты мог использовать его для своего дальнейшего успеха) И очень здорово будет, если тебе удастся задавать вопросы, да и вообще - всячески доставать меня, если я по каким-то причинам не приму проект:) При этом, из своего опыта скажу, хорошо и важно, когда переписка ревьюера и студента - сохраняется на следующие проекты и даже на будущую практическую деятельность.<br>\n",
    "<BR> В ПУТЬ!<br>"
   ]
  },
  {
   "cell_type": "markdown",
   "metadata": {
    "toc": true
   },
   "source": [
    "<h1>Содержание<span class=\"tocSkip\"></span></h1>\n",
    "<div class=\"toc\"><ul class=\"toc-item\"><li><span><a href=\"#Подготовка\" data-toc-modified-id=\"Подготовка-1\"><span class=\"toc-item-num\">1&nbsp;&nbsp;</span>Подготовка</a></span></li><li><span><a href=\"#Анализ\" data-toc-modified-id=\"Анализ-2\"><span class=\"toc-item-num\">2&nbsp;&nbsp;</span>Анализ</a></span></li><li><span><a href=\"#Обучение\" data-toc-modified-id=\"Обучение-3\"><span class=\"toc-item-num\">3&nbsp;&nbsp;</span>Обучение</a></span></li><li><span><a href=\"#Тестирование\" data-toc-modified-id=\"Тестирование-4\"><span class=\"toc-item-num\">4&nbsp;&nbsp;</span>Тестирование</a></span></li><li><span><a href=\"#Чек-лист-проверки\" data-toc-modified-id=\"Чек-лист-проверки-5\"><span class=\"toc-item-num\">5&nbsp;&nbsp;</span>Чек-лист проверки</a></span></li></ul></div>"
   ]
  },
  {
   "cell_type": "markdown",
   "metadata": {},
   "source": [
    "#  Прогнозирование заказов такси"
   ]
  },
  {
   "cell_type": "markdown",
   "metadata": {},
   "source": [
    "Компания «Чётенькое такси» собрала исторические данные о заказах такси в аэропортах. Чтобы привлекать больше водителей в период пиковой нагрузки, нужно спрогнозировать количество заказов такси на следующий час. Постройте модель для такого предсказания.\n",
    "\n",
    "Значение метрики *RMSE* на тестовой выборке должно быть не больше 48.\n",
    "\n",
    "Вам нужно:\n",
    "\n",
    "1. Загрузить данные и выполнить их ресемплирование по одному часу.\n",
    "2. Проанализировать данные.\n",
    "3. Обучить разные модели с различными гиперпараметрами. Сделать тестовую выборку размером 10% от исходных данных.\n",
    "4. Проверить данные на тестовой выборке и сделать выводы.\n",
    "\n",
    "\n",
    "Данные лежат в файле `taxi.csv`. Количество заказов находится в столбце `num_orders` (от англ. *number of orders*, «число заказов»)."
   ]
  },
  {
   "cell_type": "markdown",
   "metadata": {},
   "source": [
    "**Импорты**"
   ]
  },
  {
   "cell_type": "code",
   "execution_count": 1,
   "metadata": {},
   "outputs": [],
   "source": [
    "import pandas as pd\n",
    "import numpy as np\n",
    "\n",
    "from statsmodels.tsa.seasonal import seasonal_decompose\n",
    "import matplotlib.pyplot as plt\n",
    "\n",
    "from sklearn.model_selection import train_test_split\n",
    "\n",
    "from sklearn.linear_model import LinearRegression\n",
    "from sklearn.metrics import mean_absolute_error\n",
    "from sklearn.metrics import mean_squared_error\n",
    "from sklearn.metrics import make_scorer\n",
    "\n",
    "from sklearn.model_selection import GridSearchCV\n",
    "from sklearn.model_selection import RandomizedSearchCV\n",
    "\n",
    "from sklearn.preprocessing import StandardScaler\n",
    "\n",
    "from lightgbm import LGBMRegressor"
   ]
  },
  {
   "cell_type": "markdown",
   "metadata": {},
   "source": [
    "## Подготовка"
   ]
  },
  {
   "cell_type": "code",
   "execution_count": 2,
   "metadata": {},
   "outputs": [],
   "source": [
    "df = pd.read_csv('/datasets/taxi.csv')\n",
    "\n",
    "data = pd.read_csv('/datasets/taxi.csv')"
   ]
  },
  {
   "cell_type": "code",
   "execution_count": 3,
   "metadata": {},
   "outputs": [
    {
     "name": "stdout",
     "output_type": "stream",
     "text": [
      "<class 'pandas.core.frame.DataFrame'>\n",
      "RangeIndex: 26496 entries, 0 to 26495\n",
      "Data columns (total 2 columns):\n",
      "datetime      26496 non-null object\n",
      "num_orders    26496 non-null int64\n",
      "dtypes: int64(1), object(1)\n",
      "memory usage: 414.1+ KB\n"
     ]
    }
   ],
   "source": [
    "df.info()"
   ]
  },
  {
   "cell_type": "code",
   "execution_count": 4,
   "metadata": {},
   "outputs": [],
   "source": [
    "datetime = pd.to_datetime(df['datetime'].values)\n",
    "df['datetime'] = datetime\n",
    "data['datetime'] = datetime"
   ]
  },
  {
   "cell_type": "code",
   "execution_count": 5,
   "metadata": {},
   "outputs": [
    {
     "name": "stdout",
     "output_type": "stream",
     "text": [
      "<class 'pandas.core.frame.DataFrame'>\n",
      "RangeIndex: 26496 entries, 0 to 26495\n",
      "Data columns (total 2 columns):\n",
      "datetime      26496 non-null datetime64[ns]\n",
      "num_orders    26496 non-null int64\n",
      "dtypes: datetime64[ns](1), int64(1)\n",
      "memory usage: 414.1 KB\n"
     ]
    }
   ],
   "source": [
    "df.info()"
   ]
  },
  {
   "cell_type": "code",
   "execution_count": 6,
   "metadata": {},
   "outputs": [],
   "source": [
    "df.set_index('datetime', inplace = True)\n",
    "data.set_index('datetime', inplace = True)"
   ]
  },
  {
   "cell_type": "code",
   "execution_count": 7,
   "metadata": {
    "scrolled": false
   },
   "outputs": [
    {
     "data": {
      "text/html": [
       "<div>\n",
       "<style scoped>\n",
       "    .dataframe tbody tr th:only-of-type {\n",
       "        vertical-align: middle;\n",
       "    }\n",
       "\n",
       "    .dataframe tbody tr th {\n",
       "        vertical-align: top;\n",
       "    }\n",
       "\n",
       "    .dataframe thead th {\n",
       "        text-align: right;\n",
       "    }\n",
       "</style>\n",
       "<table border=\"1\" class=\"dataframe\">\n",
       "  <thead>\n",
       "    <tr style=\"text-align: right;\">\n",
       "      <th></th>\n",
       "      <th>num_orders</th>\n",
       "    </tr>\n",
       "    <tr>\n",
       "      <th>datetime</th>\n",
       "      <th></th>\n",
       "    </tr>\n",
       "  </thead>\n",
       "  <tbody>\n",
       "    <tr>\n",
       "      <td>2018-03-01 00:00:00</td>\n",
       "      <td>9</td>\n",
       "    </tr>\n",
       "    <tr>\n",
       "      <td>2018-03-01 00:10:00</td>\n",
       "      <td>14</td>\n",
       "    </tr>\n",
       "    <tr>\n",
       "      <td>2018-03-01 00:20:00</td>\n",
       "      <td>28</td>\n",
       "    </tr>\n",
       "    <tr>\n",
       "      <td>2018-03-01 00:30:00</td>\n",
       "      <td>20</td>\n",
       "    </tr>\n",
       "    <tr>\n",
       "      <td>2018-03-01 00:40:00</td>\n",
       "      <td>32</td>\n",
       "    </tr>\n",
       "    <tr>\n",
       "      <td>2018-03-01 00:50:00</td>\n",
       "      <td>21</td>\n",
       "    </tr>\n",
       "    <tr>\n",
       "      <td>2018-03-01 01:00:00</td>\n",
       "      <td>7</td>\n",
       "    </tr>\n",
       "    <tr>\n",
       "      <td>2018-03-01 01:10:00</td>\n",
       "      <td>5</td>\n",
       "    </tr>\n",
       "    <tr>\n",
       "      <td>2018-03-01 01:20:00</td>\n",
       "      <td>17</td>\n",
       "    </tr>\n",
       "    <tr>\n",
       "      <td>2018-03-01 01:30:00</td>\n",
       "      <td>12</td>\n",
       "    </tr>\n",
       "  </tbody>\n",
       "</table>\n",
       "</div>"
      ],
      "text/plain": [
       "                     num_orders\n",
       "datetime                       \n",
       "2018-03-01 00:00:00           9\n",
       "2018-03-01 00:10:00          14\n",
       "2018-03-01 00:20:00          28\n",
       "2018-03-01 00:30:00          20\n",
       "2018-03-01 00:40:00          32\n",
       "2018-03-01 00:50:00          21\n",
       "2018-03-01 01:00:00           7\n",
       "2018-03-01 01:10:00           5\n",
       "2018-03-01 01:20:00          17\n",
       "2018-03-01 01:30:00          12"
      ]
     },
     "execution_count": 7,
     "metadata": {},
     "output_type": "execute_result"
    }
   ],
   "source": [
    "df.head(10)"
   ]
  },
  {
   "cell_type": "markdown",
   "metadata": {},
   "source": [
    "Ресемплирование данных по 1 часу..."
   ]
  },
  {
   "cell_type": "code",
   "execution_count": 8,
   "metadata": {},
   "outputs": [],
   "source": [
    "df = df.resample('1H').sum()\n",
    "data = df.resample('1H').sum()"
   ]
  },
  {
   "cell_type": "code",
   "execution_count": 9,
   "metadata": {},
   "outputs": [
    {
     "data": {
      "text/html": [
       "<div>\n",
       "<style scoped>\n",
       "    .dataframe tbody tr th:only-of-type {\n",
       "        vertical-align: middle;\n",
       "    }\n",
       "\n",
       "    .dataframe tbody tr th {\n",
       "        vertical-align: top;\n",
       "    }\n",
       "\n",
       "    .dataframe thead th {\n",
       "        text-align: right;\n",
       "    }\n",
       "</style>\n",
       "<table border=\"1\" class=\"dataframe\">\n",
       "  <thead>\n",
       "    <tr style=\"text-align: right;\">\n",
       "      <th></th>\n",
       "      <th>num_orders</th>\n",
       "    </tr>\n",
       "    <tr>\n",
       "      <th>datetime</th>\n",
       "      <th></th>\n",
       "    </tr>\n",
       "  </thead>\n",
       "  <tbody>\n",
       "    <tr>\n",
       "      <td>2018-03-01 00:00:00</td>\n",
       "      <td>124</td>\n",
       "    </tr>\n",
       "    <tr>\n",
       "      <td>2018-03-01 01:00:00</td>\n",
       "      <td>85</td>\n",
       "    </tr>\n",
       "    <tr>\n",
       "      <td>2018-03-01 02:00:00</td>\n",
       "      <td>71</td>\n",
       "    </tr>\n",
       "    <tr>\n",
       "      <td>2018-03-01 03:00:00</td>\n",
       "      <td>66</td>\n",
       "    </tr>\n",
       "    <tr>\n",
       "      <td>2018-03-01 04:00:00</td>\n",
       "      <td>43</td>\n",
       "    </tr>\n",
       "  </tbody>\n",
       "</table>\n",
       "</div>"
      ],
      "text/plain": [
       "                     num_orders\n",
       "datetime                       \n",
       "2018-03-01 00:00:00         124\n",
       "2018-03-01 01:00:00          85\n",
       "2018-03-01 02:00:00          71\n",
       "2018-03-01 03:00:00          66\n",
       "2018-03-01 04:00:00          43"
      ]
     },
     "execution_count": 9,
     "metadata": {},
     "output_type": "execute_result"
    }
   ],
   "source": [
    "df.head()"
   ]
  },
  {
   "cell_type": "code",
   "execution_count": 10,
   "metadata": {},
   "outputs": [],
   "source": [
    "data = df"
   ]
  },
  {
   "cell_type": "markdown",
   "metadata": {},
   "source": [
    "<div style=\"background: #cceeaa; padding: 5px; border: 1px solid green; border-radius: 5px;\">\n",
    "<font color='green'> \n",
    "<b><u>КОММЕНТАРИЙ РЕВЬЮЕРА</u></b>\n",
    "</font>\n",
    "<font color='red'><br>\n",
    "есть контакт, ресмплирование за час. <br>\n",
    "только с mean - на обсуждение: если использовать эту функцию, то ответ получается примерно таким - среднее за 10 минут в одном часе...сложно будет для бизнеса. Лучше sum: тогда звучит так - суммарное количество машин за час."
   ]
  },
  {
   "cell_type": "markdown",
   "metadata": {},
   "source": [
    "<div style=\"background: #cceeaa; padding: 5px; border: 1px solid green; border-radius: 5px;\">\n",
    "<font color='green'> \n",
    "    <b><u>КОММЕНТАРИЙ СТУДЕНТА</u></b>\n",
    "</font>\n",
    "<font color='green'><br>\n",
    "Действительно, среднее за 10 минут в одном часе - сложно для бизнеса, скорее всего из-за этого я и получил такие \"фантастические\" результаты в разделе обучение и тестирование моделей..."
   ]
  },
  {
   "cell_type": "markdown",
   "metadata": {},
   "source": [
    "<div style=\"background: #cceeaa; padding: 5px; border: 1px solid green; border-radius: 5px;\">\n",
    "<font color='green'> \n",
    "    <b><u>КОММЕНТАРИЙ РЕВЬЮЕРА 2</u></b>\n",
    "<font color='green'><br>ок, так и есть)"
   ]
  },
  {
   "cell_type": "markdown",
   "metadata": {},
   "source": [
    "## Анализ"
   ]
  },
  {
   "cell_type": "markdown",
   "metadata": {},
   "source": [
    "Временной промежуток данных: 2018-03-01 00:00:00 - 2018-08-31 23:00:00.\n",
    "\n",
    "График разброса данных о заказах такси с применением сглаживания временных рядов.\n",
    "\n",
    "Разброс значений достаточно большой, поэтому использовал количество окон равное 50, чтобы кривая скользящего среднего была похожа на более-менее четкую линнию..."
   ]
  },
  {
   "cell_type": "markdown",
   "metadata": {},
   "source": [
    "**Тренды и сезонность**\n",
    "\n",
    "**Месячная сезонность**\n",
    "\n",
    "Так как нам даны данные только за половину года, у нас нет возможности сказать, что повышение кривой rolling_mean ближе к осени это тренд или сезонность.\n",
    "\n",
    "Нет возможности понаблюдать за несколькими полными циклами, которые четко отразят нам существующие тренды и сезонности..."
   ]
  },
  {
   "cell_type": "code",
   "execution_count": 11,
   "metadata": {},
   "outputs": [],
   "source": [
    "df['rolling_mean'] = df.rolling(24).mean()"
   ]
  },
  {
   "cell_type": "code",
   "execution_count": 12,
   "metadata": {},
   "outputs": [
    {
     "data": {
      "text/html": [
       "<div>\n",
       "<style scoped>\n",
       "    .dataframe tbody tr th:only-of-type {\n",
       "        vertical-align: middle;\n",
       "    }\n",
       "\n",
       "    .dataframe tbody tr th {\n",
       "        vertical-align: top;\n",
       "    }\n",
       "\n",
       "    .dataframe thead th {\n",
       "        text-align: right;\n",
       "    }\n",
       "</style>\n",
       "<table border=\"1\" class=\"dataframe\">\n",
       "  <thead>\n",
       "    <tr style=\"text-align: right;\">\n",
       "      <th></th>\n",
       "      <th>num_orders</th>\n",
       "      <th>rolling_mean</th>\n",
       "    </tr>\n",
       "    <tr>\n",
       "      <th>datetime</th>\n",
       "      <th></th>\n",
       "      <th></th>\n",
       "    </tr>\n",
       "  </thead>\n",
       "  <tbody>\n",
       "    <tr>\n",
       "      <td>2018-03-01 00:00:00</td>\n",
       "      <td>124</td>\n",
       "      <td>NaN</td>\n",
       "    </tr>\n",
       "    <tr>\n",
       "      <td>2018-03-01 01:00:00</td>\n",
       "      <td>85</td>\n",
       "      <td>NaN</td>\n",
       "    </tr>\n",
       "    <tr>\n",
       "      <td>2018-03-01 02:00:00</td>\n",
       "      <td>71</td>\n",
       "      <td>NaN</td>\n",
       "    </tr>\n",
       "    <tr>\n",
       "      <td>2018-03-01 03:00:00</td>\n",
       "      <td>66</td>\n",
       "      <td>NaN</td>\n",
       "    </tr>\n",
       "    <tr>\n",
       "      <td>2018-03-01 04:00:00</td>\n",
       "      <td>43</td>\n",
       "      <td>NaN</td>\n",
       "    </tr>\n",
       "  </tbody>\n",
       "</table>\n",
       "</div>"
      ],
      "text/plain": [
       "                     num_orders  rolling_mean\n",
       "datetime                                     \n",
       "2018-03-01 00:00:00         124           NaN\n",
       "2018-03-01 01:00:00          85           NaN\n",
       "2018-03-01 02:00:00          71           NaN\n",
       "2018-03-01 03:00:00          66           NaN\n",
       "2018-03-01 04:00:00          43           NaN"
      ]
     },
     "execution_count": 12,
     "metadata": {},
     "output_type": "execute_result"
    }
   ],
   "source": [
    "df.head()"
   ]
  },
  {
   "cell_type": "code",
   "execution_count": 13,
   "metadata": {},
   "outputs": [
    {
     "data": {
      "text/plain": [
       "<matplotlib.axes._subplots.AxesSubplot at 0x7fa76e02c9d0>"
      ]
     },
     "execution_count": 13,
     "metadata": {},
     "output_type": "execute_result"
    },
    {
     "data": {
      "image/png": "[encoded data removed]",
      "text/plain": [
       "<Figure size 1080x360 with 1 Axes>"
      ]
     },
     "metadata": {
      "needs_background": "light"
     },
     "output_type": "display_data"
    }
   ],
   "source": [
    "df.plot(figsize=(15, 5))"
   ]
  },
  {
   "cell_type": "markdown",
   "metadata": {},
   "source": [
    "**Как выглядит ежедневный цикл** - ежедневный цикл\n",
    "\n",
    "Меньше всего такси вызывают утром, больше всего - днем и ночью\n",
    "\n",
    "Имеется внутрисуточная сезонность - продажи утром отличаются от продаж вечером"
   ]
  },
  {
   "cell_type": "code",
   "execution_count": 14,
   "metadata": {},
   "outputs": [
    {
     "data": {
      "text/plain": [
       "<matplotlib.axes._subplots.AxesSubplot at 0x7fa76d7915d0>"
      ]
     },
     "execution_count": 14,
     "metadata": {},
     "output_type": "execute_result"
    },
    {
     "data": {
      "image/png": "[encoded data removed]",
      "text/plain": [
       "<Figure size 1080x360 with 1 Axes>"
      ]
     },
     "metadata": {
      "needs_background": "light"
     },
     "output_type": "display_data"
    }
   ],
   "source": [
    "dec_df = df.dropna()\n",
    "\n",
    "decomposed = seasonal_decompose(dec_df)\n",
    "\n",
    "decomposed.seasonal['2018-04-01':'2018-04-03'].plot(figsize=(15, 5))"
   ]
  },
  {
   "cell_type": "markdown",
   "metadata": {},
   "source": [
    "**Как выглядит еженедельный цикл** - дневная сезонность\n",
    "\n",
    "Нет зависимости от дня недели, дневная сезонность не наблюдается"
   ]
  },
  {
   "cell_type": "code",
   "execution_count": 15,
   "metadata": {},
   "outputs": [
    {
     "data": {
      "text/plain": [
       "<matplotlib.axes._subplots.AxesSubplot at 0x7fa77281d9d0>"
      ]
     },
     "execution_count": 15,
     "metadata": {},
     "output_type": "execute_result"
    },
    {
     "data": {
      "text/plain": [
       "<Figure size 1440x1440 with 0 Axes>"
      ]
     },
     "metadata": {},
     "output_type": "display_data"
    },
    {
     "data": {
      "image/png": "[encoded data removed]",
      "text/plain": [
       "<Figure size 1080x288 with 1 Axes>"
      ]
     },
     "metadata": {
      "needs_background": "light"
     },
     "output_type": "display_data"
    }
   ],
   "source": [
    "plt.figure(figsize=(20, 20))\n",
    "\n",
    "decomposed = seasonal_decompose(dec_df)\n",
    "\n",
    "decomposed.seasonal['2018-04-01':'2018-04-15'].plot(figsize=(15, 4))"
   ]
  },
  {
   "cell_type": "markdown",
   "metadata": {},
   "source": [
    "<div style=\"background: #cceeaa; padding: 5px; border: 1px solid green; border-radius: 5px;\">\n",
    "<font color='green'> \n",
    "    <b><u>КОММЕНТАРИЙ РЕВЬЮЕРА</u></b>\n",
    "</font>\n",
    "<font color='green'><br>\n",
    "Исследование - понятно.<br>\n",
    "Инструмент декомпозиции в частности, а графический анализ временных рядов как в принципе - важный этап моделирования рядов.<br> Позволяет увидеть продажи визуально, а это помогает сделать предвариетльные выводы<br>\n",
    "    \n",
    "Хочу озвучить ещё такой момент<br>\n",
    "В реальности бизнеса есть все три вида сезонности:<br>\n",
    "1) дневная сезонность -  данные собраны по дням, т.е. будни и выходные имеют разные продажи<br>\n",
    "2) внутрисуточная сезонность: когда продажи утром отличаются от продаж вечером <br>\n",
    "3) месячная сезонность: когда продажи лета и осени - разные.<br><br>\n",
    "И если строить прогноз на длительный период времени, то без учёта всех видов сезонности  - не обойтись<br>\n",
    "Например: есть в данных восходящий тренд. Но вопрос такой возникает: <br>\n",
    "этот подъём действительно за счёт роста компании (чаще всего тренд - это отражение роста компании) или есть ещё влияние месячной сезнности? (летом - продаж в рост, например, и именно этот момент мы наблюдаем в данных)<br>\n",
    "Ответ на вопрос - не протой на имеющихся данных - у нас данных меньше года. А это означает, что месячную сезонность нам не просто вычислить адекватно - т.е. не внести в модель корректтировки месяцев(<br>\n",
    "Поэтому, я бы дал такой совет:<br>\n",
    "на горизонте прогнозирования - несколько часов или дней - можно предположить что у нас тренд.<br>\n",
    "А если строить прогноз на несколько недель - вот тут утверждать наличие тренда надо с большой осторожностью))))<br><br>\n",
    "Ну, а если вернуться к постановке задаче - построить прогноз на час (очень маленький горизонт), то двух сезонности может и хватить."
   ]
  },
  {
   "cell_type": "markdown",
   "metadata": {},
   "source": [
    "<div style=\"background: #cceeaa; padding: 5px; border: 1px solid green; border-radius: 5px;\">\n",
    "<font color='green'> \n",
    "    <b><u>КОММЕНТАРИЙ СТУДЕНТА</u></b>\n",
    "</font>\n",
    "<font color='blue'><br>\n",
    "    \n",
    "Так как я там построил графики по дням, неделям и всему периоду, я немного изменил подписи к ним, используя ваши уточнения по поводу видов сезонности...\n",
    "    \n",
    "В целом, исходя из своих наблюдений, я пришел к тому же выводу и ответу на вопрос \"этот подъём (восходящий тренд в данных) действительно за счёт роста компании или есть ещё влияние месячной сезнности?\", что и вы: можно предположить дневную и внутрисуточную сезонность, но касательно месячной сезонности ответить однозначно нельзя, так как у нас данных меньше года.\n",
    "    \n",
    "Задача нашей будущей модели - сделать прогноз на час, что в целом возможно, с имеющимся у нас данными."
   ]
  },
  {
   "cell_type": "markdown",
   "metadata": {},
   "source": [
    "<div style=\"background: #cceeaa; padding: 5px; border: 1px solid green; border-radius: 5px;\">\n",
    "<font color='green'> \n",
    "    <b><u>КОММЕНТАРИЙ РЕВЬЮЕРА 2</u></b>\n",
    "<font color='green'><br>ОК.  А положа руку на сердце - нам хватит и 5-6 последних недель)"
   ]
  },
  {
   "cell_type": "markdown",
   "metadata": {},
   "source": [
    "**Разности временного ряда**"
   ]
  },
  {
   "cell_type": "code",
   "execution_count": 16,
   "metadata": {},
   "outputs": [
    {
     "name": "stderr",
     "output_type": "stream",
     "text": [
      "/opt/conda/lib/python3.7/site-packages/ipykernel_launcher.py:2: SettingWithCopyWarning: \n",
      "A value is trying to be set on a copy of a slice from a DataFrame.\n",
      "Try using .loc[row_indexer,col_indexer] = value instead\n",
      "\n",
      "See the caveats in the documentation: http://pandas.pydata.org/pandas-docs/stable/user_guide/indexing.html#returning-a-view-versus-a-copy\n",
      "  \n"
     ]
    },
    {
     "data": {
      "text/plain": [
       "<matplotlib.axes._subplots.AxesSubplot at 0x7fa76d633690>"
      ]
     },
     "execution_count": 16,
     "metadata": {},
     "output_type": "execute_result"
    },
    {
     "data": {
      "image/png": "[encoded data removed]",
      "text/plain": [
       "<Figure size 1080x360 with 1 Axes>"
      ]
     },
     "metadata": {
      "needs_background": "light"
     },
     "output_type": "display_data"
    }
   ],
   "source": [
    "dec_df -= dec_df.shift()\n",
    "dec_df['std'] = dec_df['num_orders'].rolling(24).std()\n",
    "dec_df.plot(figsize=(15, 5))"
   ]
  },
  {
   "cell_type": "code",
   "execution_count": 17,
   "metadata": {},
   "outputs": [
    {
     "data": {
      "text/plain": [
       "<matplotlib.axes._subplots.AxesSubplot at 0x7fa76d4e5610>"
      ]
     },
     "execution_count": 17,
     "metadata": {},
     "output_type": "execute_result"
    },
    {
     "data": {
      "image/png": "[encoded data removed]",
      "text/plain": [
       "<Figure size 1080x360 with 1 Axes>"
      ]
     },
     "metadata": {
      "needs_background": "light"
     },
     "output_type": "display_data"
    }
   ],
   "source": [
    "dec_df['std'].plot(figsize=(15, 5))"
   ]
  },
  {
   "cell_type": "markdown",
   "metadata": {},
   "source": [
    "<div style=\"background: #cceeaa; padding: 5px; border: 1px solid green; border-radius: 5px;\">\n",
    "<font color='green'> \n",
    "    <b><u>КОММЕНТАРИЙ РЕВЬЮЕРА</u></b>\n",
    "</font>\n",
    "<font color='green'><br>\n",
    "А тут какая цель?"
   ]
  },
  {
   "cell_type": "markdown",
   "metadata": {},
   "source": [
    "<div style=\"background: #cceeaa; padding: 5px; border: 1px solid green; border-radius: 5px;\">\n",
    "<font color='green'> \n",
    "    <b><u>КОММЕНТАРИЙ СТУДЕНТА</u></b>\n",
    "</font>\n",
    "<font color='blue'><br>\n",
    "    \n",
    "Разность временного ряда - набор разностей между соседними элементами временного ряда.\n",
    "    \n",
    "Это более стационарная величина, чем сам временной ряд ряд.\n",
    "    \n",
    "Цель ее построения и визуализации - преобразовать нелинейный тренд в линейный!\n",
    "    \n",
    "Но вопросом выше мы вроде все нюансы с трендами и сезонностями уяснили ))"
   ]
  },
  {
   "cell_type": "markdown",
   "metadata": {},
   "source": [
    "<div style=\"background: #cceeaa; padding: 5px; border: 1px solid green; border-radius: 5px;\">\n",
    "<font color='green'> \n",
    "    <b><u>КОММЕНТАРИЙ РЕВЬЮЕРА 2</u></b>\n",
    "<font color='green'><br>ОК, просто это понятие для наших можно и не использовать. А вот в методе АРИМА - используется основательно."
   ]
  },
  {
   "cell_type": "markdown",
   "metadata": {},
   "source": [
    "## Обучение"
   ]
  },
  {
   "cell_type": "markdown",
   "metadata": {},
   "source": [
    "**Разделение на выборки**"
   ]
  },
  {
   "cell_type": "code",
   "execution_count": 18,
   "metadata": {},
   "outputs": [
    {
     "name": "stdout",
     "output_type": "stream",
     "text": [
      "Проверка, что все адекватно разделилось:\n",
      "\n",
      "2018-03-01 23:00:00 2018-08-13 13:00:00\n",
      "2018-08-13 14:00:00 2018-08-31 23:00:00\n"
     ]
    }
   ],
   "source": [
    "data.sort_index(inplace=True)\n",
    "train, test = train_test_split(data, shuffle=False, test_size=0.1)\n",
    "train = train.dropna()\n",
    "\n",
    "print('Проверка, что все адекватно разделилось:\\n')\n",
    "print(train.index.min(), train.index.max())\n",
    "print(test.index.min(), test.index.max())"
   ]
  },
  {
   "cell_type": "code",
   "execution_count": 19,
   "metadata": {},
   "outputs": [
    {
     "data": {
      "text/html": [
       "<div>\n",
       "<style scoped>\n",
       "    .dataframe tbody tr th:only-of-type {\n",
       "        vertical-align: middle;\n",
       "    }\n",
       "\n",
       "    .dataframe tbody tr th {\n",
       "        vertical-align: top;\n",
       "    }\n",
       "\n",
       "    .dataframe thead th {\n",
       "        text-align: right;\n",
       "    }\n",
       "</style>\n",
       "<table border=\"1\" class=\"dataframe\">\n",
       "  <thead>\n",
       "    <tr style=\"text-align: right;\">\n",
       "      <th></th>\n",
       "      <th>num_orders</th>\n",
       "    </tr>\n",
       "    <tr>\n",
       "      <th>datetime</th>\n",
       "      <th></th>\n",
       "    </tr>\n",
       "  </thead>\n",
       "  <tbody>\n",
       "    <tr>\n",
       "      <td>2018-03-01 00:00:00</td>\n",
       "      <td>124</td>\n",
       "    </tr>\n",
       "    <tr>\n",
       "      <td>2018-03-01 01:00:00</td>\n",
       "      <td>85</td>\n",
       "    </tr>\n",
       "    <tr>\n",
       "      <td>2018-03-01 02:00:00</td>\n",
       "      <td>71</td>\n",
       "    </tr>\n",
       "    <tr>\n",
       "      <td>2018-03-01 03:00:00</td>\n",
       "      <td>66</td>\n",
       "    </tr>\n",
       "    <tr>\n",
       "      <td>2018-03-01 04:00:00</td>\n",
       "      <td>43</td>\n",
       "    </tr>\n",
       "  </tbody>\n",
       "</table>\n",
       "</div>"
      ],
      "text/plain": [
       "                     num_orders\n",
       "datetime                       \n",
       "2018-03-01 00:00:00         124\n",
       "2018-03-01 01:00:00          85\n",
       "2018-03-01 02:00:00          71\n",
       "2018-03-01 03:00:00          66\n",
       "2018-03-01 04:00:00          43"
      ]
     },
     "execution_count": 19,
     "metadata": {},
     "output_type": "execute_result"
    }
   ],
   "source": [
    "data = data.drop('rolling_mean', axis=1)\n",
    "data.head()"
   ]
  },
  {
   "cell_type": "markdown",
   "metadata": {},
   "source": [
    "**Создание признаков**"
   ]
  },
  {
   "cell_type": "code",
   "execution_count": 20,
   "metadata": {},
   "outputs": [],
   "source": [
    "def make_features(data, max_lag, rolling_mean_size):\n",
    "    data['dayofweek'] = data.index.dayofweek\n",
    "    data['hour'] = data.index.hour\n",
    "    \n",
    "    for lag in range(1, max_lag + 1):\n",
    "        data['lag_{}'.format(lag)] = data['num_orders'].shift(lag)\n",
    "    data['rolling_mean'] = data['num_orders'].shift().rolling(rolling_mean_size).mean()\n",
    "\n",
    "\n",
    "\n",
    "make_features(data, 2, 24)"
   ]
  },
  {
   "cell_type": "markdown",
   "metadata": {},
   "source": [
    "<div style=\"background: #cceeaa; padding: 5px; border: 1px solid green; border-radius: 5px;\">\n",
    "<font color='green'> \n",
    "    <b><u>КОММЕНТАРИЙ РЕВЬЮЕРА</u></b>\n",
    "\n",
    "</font></font>\n",
    "<font color='red'><br>\n",
    "На мой взгляд: не все факторы подходят, чисто логически. Выскажу свою позицию:<br><br>\n",
    "\n",
    "1) Фактор год: НЕТ, однозначно не подходит. У нас данных меньше года. Поэтому будет просто константа.<br>\n",
    "2) Фактор месяц: НЕТ, аналогично году, у нас в истории всего один март, май.... Да и горизоно прогноза - часы. Поэтому сезонность времени года будет просто в тренде уже заложена.<br>\n",
    "3) Фактор день: НЕТ, также не подходит, будет просто последовательность чисел<br>\n",
    "4) Фактор день недели: ДА, т.к. у нас есть недельная сезонность<br>\n",
    "5) Фактор час: ДА, т.к. есть часовая (суточная) сезонность.<br>\n",
    "6) Факто lag: ДА, это параметр авторегрессии - учёт влияния вчерашних событий на сегодняшние.<br>\n",
    "7) Фактор rolling: ДА, это аналог тренда. Чем больше окно сглаживания, тем ровнее линия тренда <br>\n",
    "\n",
    "Как ты думаешь?"
   ]
  },
  {
   "cell_type": "markdown",
   "metadata": {},
   "source": [
    "<div style=\"background: #cceeaa; padding: 5px; border: 1px solid green; border-radius: 5px;\">\n",
    "<font color='green'> \n",
    "    <b><u>КОММЕНТАРИЙ СТУДЕНТА</u></b>\n",
    "</font>\n",
    "<font color='blue'><br>\n",
    "    \n",
    "Полностью согласен!\n",
    "    \n",
    "Сделал эти признаки на автоматизме, так как так было в тренажере, думал так всегда действуют с временными рядами: разбивают дату и время на подпризнаки, а тут оказывается еще и подпризнаки надо фильтровать, делать самому и в зависимости от задачи их подбирать.\n",
    "    \n",
    "Оставляем (больше для себя написал, подытожил):\n",
    "    \n",
    "- день недели: ДА, т.к. у нас есть недельная сезонность\n",
    "    \n",
    "- час: ДА, т.к. есть часовая (суточная) сезонность\n",
    "    \n",
    "- lag: ДА, это параметр авторегрессии - (учёт влияния вчерашних событий на сегодняшние) - получается, учет влияния событий, произошедших n часов назад на нынешний и будущий час?...\n",
    "    \n",
    "- rolling: аналог тренда, чем больше окно сглаживания, тем ровнее линия тренда"
   ]
  },
  {
   "cell_type": "markdown",
   "metadata": {},
   "source": [
    "<div style=\"background: #cceeaa; padding: 5px; border: 1px solid green; border-radius: 5px;\">\n",
    "<font color='green'> \n",
    "    <b><u>КОММЕНТАРИЙ РЕВЬЮЕРА 2</u></b>\n",
    "<font color='green'><br>ОК, принято. И однозначно многое зависит от горизонта прогноза и цели прогнозирования!"
   ]
  },
  {
   "cell_type": "markdown",
   "metadata": {},
   "source": [
    "<div style=\"background: #cceeaa; padding: 5px; border: 1px solid green; border-radius: 5px;\">\n",
    "<font color='green'> \n",
    "<u>КОММЕНТАРИЙ РЕВЬЮЕРА</u>\n",
    "</font>\n",
    "<font color='green'><br> Сразу пару строк о факторе месяц:<br>\n",
    "Если нам брать горизонт прогноза месяц или два , то фактор месяц - очень важне  это факт. А если брать горизонт прогноза несколько часов, то фактор времени года - на таком отрезке времени и не заметен. К тому же, он уже присутствует в тренде (скользящем среднем). Т.е. его участие локально как бы и есть.<br>\n",
    "\n",
    "То, что сейчас месяц может увеличивать точность - это случайно. Он ведь представлен как числа от 1 до 8 и ещё есть тренд, как раз. Т.е. произошло наложение тренда и номера месяца. А вот если продажи буду уходить вниз (или перестанут расти), а мы будем продолжать пользовться моделью, то модель будет предсказывать рост на сентябрь (цифра 9), на октябпрь (цифра 10)... т.е. чиссто числовая тенденция)<br>\n",
    "    \n",
    "Поэтому, рекомендация для будущих проетов на эту тему:<br>\n",
    "Учитывать горизонт прогноза: если задача стоит среднесрочного и долгосрочного прогноза, то месяц нам в помощь (при этом данных должно быть не меннее 2-х / 3-х лет). Если задача краткосрочного прогнозирования - месяц не надо использовать, он уже в тренде заложен."
   ]
  },
  {
   "cell_type": "markdown",
   "metadata": {},
   "source": [
    "<div style=\"background: #cceeaa; padding: 5px; border: 1px solid green; border-radius: 5px;\">\n",
    "<font color='green'> \n",
    "    <b><u>КОММЕНТАРИЙ РЕВЬЮЕРА</u></b>\n",
    "<font color='green'>Пару строк по фактору лаг и скользящее среднее:<br>\n",
    "Lag: его называют ещё параметром авторегрессии. На бытовом уровне его можно понять так: допустим вчера мы собрались с друзьями и не много закусили.... повлияет ли это на сегодняшний настрой на жизнь? Скорее да)))) Так вот с авторегрессией также. Допустим lag=1 - учитывает (для удобства будем считать, что продажи собраны по дням) как вчерашние продажи - вчерашние события - воалияли на сегоняшние.Lag=2: учитывает как позавчерашние продажи влияютна сегодняшние.....<br>\n",
    "    \n",
    "По скользящему среднего:<br>\n",
    "Предположим rolling=10 - скользящее среднее. По сути, ищем среднее по 10 точкам, потом следующие 10 точек, и т.д. - это некое подобие тренда будет - средней линии. Т.е. - сглаживание колебаний/выбросов. Это легко увидеть на пределе: допустим длина ряда 100 дней. rolling(100) - это просто одно число - среднее всего ряда. <br>\n",
    "    \n",
    "Поэтому, если выставить сезонности - hour и деньНедели, то дополнительные факторы могут быть такие: лаг =1 (максимум 2), а скользящее среднее = 24 (среднее за сутки). Т.е. начинать с этого. В итоге модель будет приемлемая по точности и не много факторов.. а это значит и для бизнеса будет легче доносить решение)"
   ]
  },
  {
   "cell_type": "markdown",
   "metadata": {},
   "source": [
    "<div style=\"background: #cceeaa; padding: 5px; border: 1px solid green; border-radius: 5px;\">\n",
    "<font color='green'> \n",
    "    <b><u>КОММЕНТАРИЙ СТУДЕНТА</u></b>\n",
    "</font>\n",
    "<font color='blue'><br>\n",
    "    \n",
    "Кстати, поменял rolling на 24 в предыдущих графиках ))\n",
    "    \n",
    "А в функции - rolling_mean_size = 24, а lag = 2."
   ]
  },
  {
   "cell_type": "markdown",
   "metadata": {},
   "source": [
    "<div style=\"background: #cceeaa; padding: 5px; border: 1px solid green; border-radius: 5px;\">\n",
    "<font color='green'> \n",
    "    <b><u>КОММЕНТАРИЙ РЕВЬЮЕРА 2</u></b>\n",
    "<font color='green'><br>)"
   ]
  },
  {
   "cell_type": "code",
   "execution_count": 21,
   "metadata": {},
   "outputs": [],
   "source": [
    "#### data.head(10)"
   ]
  },
  {
   "cell_type": "code",
   "execution_count": 22,
   "metadata": {},
   "outputs": [],
   "source": [
    "#data = data.drop(['year', 'month', 'day', 'dayofweek'], axis = 1)"
   ]
  },
  {
   "cell_type": "code",
   "execution_count": 23,
   "metadata": {
    "scrolled": true
   },
   "outputs": [],
   "source": [
    "train, test = train_test_split(data, shuffle=False, test_size=0.1)\n",
    "train = train.dropna()\n",
    "\n",
    "features_train = train.drop('num_orders', axis=1)\n",
    "target_train = train['num_orders']\n",
    "\n",
    "features_test = test.drop('num_orders', axis=1)\n",
    "target_test = test['num_orders']"
   ]
  },
  {
   "cell_type": "code",
   "execution_count": 24,
   "metadata": {},
   "outputs": [
    {
     "name": "stdout",
     "output_type": "stream",
     "text": [
      "Скаляризация - уравновешивание признаков...\n"
     ]
    }
   ],
   "source": [
    "print('Скаляризация - уравновешивание признаков...')\n",
    "\n",
    "scaler = StandardScaler()\n",
    "\n",
    "features_train = scaler.fit_transform(features_train)\n",
    "features_test = scaler.transform(features_test)"
   ]
  },
  {
   "cell_type": "markdown",
   "metadata": {},
   "source": [
    "***Модель линейной регрессии***"
   ]
  },
  {
   "cell_type": "code",
   "execution_count": 25,
   "metadata": {},
   "outputs": [
    {
     "name": "stdout",
     "output_type": "stream",
     "text": [
      "RMSE обучающей выборки: 30.880218112304377\n",
      "RMSE тестовой выборки:  51.268666988640035\n"
     ]
    }
   ],
   "source": [
    "model = LinearRegression()\n",
    "\n",
    "model.fit(features_train, target_train)\n",
    "\n",
    "predictions_train = model.predict(features_train)\n",
    "predictions_test = model.predict(features_test)\n",
    "\n",
    "print(\"RMSE обучающей выборки:\", mean_squared_error(target_train, predictions_train)**0.5)\n",
    "print(\"RMSE тестовой выборки: \", mean_squared_error(target_test, predictions_test)**0.5)"
   ]
  },
  {
   "cell_type": "markdown",
   "metadata": {},
   "source": [
    "***LGBMRegressor***"
   ]
  },
  {
   "cell_type": "code",
   "execution_count": 26,
   "metadata": {},
   "outputs": [
    {
     "name": "stdout",
     "output_type": "stream",
     "text": [
      "RMSE обучающей выборки: 25.82304999926034\n",
      "RMSE тестовой выборки:  60.89763592149622\n"
     ]
    }
   ],
   "source": [
    "model1 = LGBMRegressor(random_state=12345, learning_rate = 0.01)\n",
    "model1.fit(features_train, target_train)\n",
    "\n",
    "predictions1_train = model1.predict(features_train)\n",
    "predictions1_test = model1.predict(features_test)\n",
    "\n",
    "print(\"RMSE обучающей выборки:\", mean_squared_error(target_train, predictions1_train)**0.5)\n",
    "print(\"RMSE тестовой выборки: \", mean_squared_error(target_test, predictions1_test)**0.5)"
   ]
  },
  {
   "cell_type": "markdown",
   "metadata": {},
   "source": [
    "Подбор оптимальных параметров для LGBMRegressor"
   ]
  },
  {
   "cell_type": "code",
   "execution_count": 27,
   "metadata": {},
   "outputs": [],
   "source": [
    "parametrs = {'learning_rate': [0.01, 0.05, 0.1, 1],\n",
    "                'n_estimators': range(10, 120, 10)}"
   ]
  },
  {
   "cell_type": "code",
   "execution_count": 28,
   "metadata": {},
   "outputs": [],
   "source": [
    "scoring = make_scorer(mean_squared_error, greater_is_better=False)"
   ]
  },
  {
   "cell_type": "code",
   "execution_count": 29,
   "metadata": {},
   "outputs": [
    {
     "name": "stderr",
     "output_type": "stream",
     "text": [
      "/opt/conda/lib/python3.7/site-packages/sklearn/model_selection/_search.py:813: DeprecationWarning: The default of the `iid` parameter will change from True to False in version 0.22 and will be removed in 0.24. This will change numeric results when test-set sizes are unequal.\n",
      "  DeprecationWarning)\n"
     ]
    },
    {
     "data": {
      "text/plain": [
       "{'n_estimators': 100, 'learning_rate': 0.05}"
      ]
     },
     "execution_count": 29,
     "metadata": {},
     "output_type": "execute_result"
    }
   ],
   "source": [
    "grid = RandomizedSearchCV(model1, parametrs, n_iter = 10, cv=3, scoring = scoring, verbose = 0, random_state = 12345)\n",
    "grid.fit(features_train, target_train)\n",
    "grid.best_params_"
   ]
  },
  {
   "cell_type": "code",
   "execution_count": 30,
   "metadata": {},
   "outputs": [
    {
     "name": "stdout",
     "output_type": "stream",
     "text": [
      "RMSE обучающей выборки: 18.63052751649666\n",
      "RMSE тестовой выборки:  44.91736350888764\n"
     ]
    }
   ],
   "source": [
    "model1 = LGBMRegressor(random_state=12345, learning_rate = 0.05, n_estimators = 100)\n",
    "model1.fit(features_train, target_train)\n",
    "\n",
    "predictions1_train = model1.predict(features_train)\n",
    "predictions1_test = model1.predict(features_test)\n",
    "\n",
    "print(\"RMSE обучающей выборки:\", mean_squared_error(target_train, predictions1_train)**0.5)\n",
    "print(\"RMSE тестовой выборки: \", mean_squared_error(target_test, predictions1_test)**0.5)"
   ]
  },
  {
   "cell_type": "markdown",
   "metadata": {},
   "source": [
    "## Тестирование"
   ]
  },
  {
   "cell_type": "markdown",
   "metadata": {},
   "source": [
    "**Результаты по RMSE**"
   ]
  },
  {
   "cell_type": "code",
   "execution_count": 31,
   "metadata": {},
   "outputs": [
    {
     "data": {
      "text/html": [
       "<div>\n",
       "<style scoped>\n",
       "    .dataframe tbody tr th:only-of-type {\n",
       "        vertical-align: middle;\n",
       "    }\n",
       "\n",
       "    .dataframe tbody tr th {\n",
       "        vertical-align: top;\n",
       "    }\n",
       "\n",
       "    .dataframe thead th {\n",
       "        text-align: right;\n",
       "    }\n",
       "</style>\n",
       "<table border=\"1\" class=\"dataframe\">\n",
       "  <thead>\n",
       "    <tr style=\"text-align: right;\">\n",
       "      <th></th>\n",
       "      <th>RMSE на обучающей выборке</th>\n",
       "      <th>RMSE на тестовой выборке</th>\n",
       "    </tr>\n",
       "  </thead>\n",
       "  <tbody>\n",
       "    <tr>\n",
       "      <td>LinearRegression</td>\n",
       "      <td>30.880218</td>\n",
       "      <td>51.268667</td>\n",
       "    </tr>\n",
       "    <tr>\n",
       "      <td>LGBMRegressor</td>\n",
       "      <td>18.630528</td>\n",
       "      <td>44.917364</td>\n",
       "    </tr>\n",
       "  </tbody>\n",
       "</table>\n",
       "</div>"
      ],
      "text/plain": [
       "                  RMSE на обучающей выборке  RMSE на тестовой выборке\n",
       "LinearRegression                  30.880218                 51.268667\n",
       "LGBMRegressor                     18.630528                 44.917364"
      ]
     },
     "metadata": {},
     "output_type": "display_data"
    }
   ],
   "source": [
    "display(pd.DataFrame(np.array([[mean_squared_error(target_train, predictions_train)**0.5,  mean_squared_error(target_test, predictions_test)**0.5],\n",
    "                           [mean_squared_error(target_train, predictions1_train)**0.5, mean_squared_error(target_test, predictions1_test)**0.5]]),\n",
    "                    columns = ['RMSE на обучающей выборке', 'RMSE на тестовой выборке'], index = ['LinearRegression', 'LGBMRegressor']))"
   ]
  },
  {
   "cell_type": "markdown",
   "metadata": {},
   "source": [
    "**Вывод**"
   ]
  },
  {
   "cell_type": "markdown",
   "metadata": {},
   "source": [
    "Нам необходимо было обучить от 2ух моделей регрессии, с помощью функций или SearchCV подобрать гиперпараметры и довести метрику RMSE до 48-.\n",
    "\n",
    "Полученные результаты можно наблюдать в таблице выше и на графиках ниже!\n",
    "\n"
   ]
  },
  {
   "cell_type": "markdown",
   "metadata": {},
   "source": [
    "***LinearRegression***"
   ]
  },
  {
   "cell_type": "code",
   "execution_count": 32,
   "metadata": {
    "scrolled": false
   },
   "outputs": [
    {
     "name": "stderr",
     "output_type": "stream",
     "text": [
      "/opt/conda/lib/python3.7/site-packages/ipykernel_launcher.py:2: SettingWithCopyWarning: \n",
      "A value is trying to be set on a copy of a slice from a DataFrame.\n",
      "Try using .loc[row_indexer,col_indexer] = value instead\n",
      "\n",
      "See the caveats in the documentation: http://pandas.pydata.org/pandas-docs/stable/user_guide/indexing.html#returning-a-view-versus-a-copy\n",
      "  \n"
     ]
    }
   ],
   "source": [
    "df_plot = test\n",
    "df_plot['Реальные'] = target_test\n",
    "df_plot = df_plot.drop(['num_orders', 'dayofweek', 'hour', 'lag_1', 'lag_2', 'rolling_mean'], axis = 1)\n",
    "df_plot['Предсказанные'] = predictions_test"
   ]
  },
  {
   "cell_type": "code",
   "execution_count": 33,
   "metadata": {
    "scrolled": false
   },
   "outputs": [
    {
     "data": {
      "text/plain": [
       "<matplotlib.axes._subplots.AxesSubplot at 0x7fa76d30f250>"
      ]
     },
     "execution_count": 33,
     "metadata": {},
     "output_type": "execute_result"
    },
    {
     "data": {
      "image/png": "[encoded data removed]",
      "text/plain": [
       "<Figure size 432x288 with 1 Axes>"
      ]
     },
     "metadata": {
      "needs_background": "light"
     },
     "output_type": "display_data"
    }
   ],
   "source": [
    "df_plot['2018-08-14':'2018-08-15'].plot()"
   ]
  },
  {
   "cell_type": "markdown",
   "metadata": {},
   "source": [
    "***LGBMRegressor***"
   ]
  },
  {
   "cell_type": "code",
   "execution_count": 34,
   "metadata": {},
   "outputs": [
    {
     "name": "stderr",
     "output_type": "stream",
     "text": [
      "/opt/conda/lib/python3.7/site-packages/ipykernel_launcher.py:2: SettingWithCopyWarning: \n",
      "A value is trying to be set on a copy of a slice from a DataFrame.\n",
      "Try using .loc[row_indexer,col_indexer] = value instead\n",
      "\n",
      "See the caveats in the documentation: http://pandas.pydata.org/pandas-docs/stable/user_guide/indexing.html#returning-a-view-versus-a-copy\n",
      "  \n"
     ]
    }
   ],
   "source": [
    "df_plot = test\n",
    "df_plot['Реальные'] = target_test\n",
    "df_plot = df_plot.drop(['num_orders', 'dayofweek', 'hour', 'lag_1', 'lag_2', 'rolling_mean'], axis = 1)\n",
    "df_plot['Предсказанные'] = predictions1_test"
   ]
  },
  {
   "cell_type": "code",
   "execution_count": 35,
   "metadata": {},
   "outputs": [
    {
     "data": {
      "text/plain": [
       "<matplotlib.axes._subplots.AxesSubplot at 0x7fa76d26bc10>"
      ]
     },
     "execution_count": 35,
     "metadata": {},
     "output_type": "execute_result"
    },
    {
     "data": {
      "image/png": "[encoded data removed]",
      "text/plain": [
       "<Figure size 432x288 with 1 Axes>"
      ]
     },
     "metadata": {
      "needs_background": "light"
     },
     "output_type": "display_data"
    }
   ],
   "source": [
    "df_plot['2018-08-14':'2018-08-15'].plot()"
   ]
  },
  {
   "cell_type": "markdown",
   "metadata": {},
   "source": [
    "<div style=\"background: #cceeaa; padding: 5px; border: 1px solid green; border-radius: 5px;\">\n",
    "<font color='green'> \n",
    "<u>КОММЕНТАРИЙ РЕВЬЮЕРА</u>\n",
    "</font>\n",
    "<font color='green'><br>\n",
    "ОК, Александр, с модельной частью справился хорошо на самом деле! Просто ресемплирование суммой лучше делать)<br>\n",
    "Видно, что этот скил (модельный) уже достаточно сильный у тебя.<br>\n",
    "    \n",
    "И если сутейно рассуждать, то временные ряды стоят особняком во всём курсе, я бы сказал. Тут чуть иная модельная философия, на мой взгляд. Имменно поэтому позволял себе оставлять большие комментарии, чтобы как-то раскрыть её особенности.<br>\n",
    "    \n",
    "Оставил несколько комментариев в тексте. Готов буду ответить на твои вопросы!<br>\n",
    "<font color='red'>    \n",
    "Также попрошу вот что:<br>\n",
    "Выведи, пожалуйста графики факт/предсказанное на одном рисунке (обычный линейный график). Чтобы увидеть где основные не \"попадалки\" модели. Это один из важнейших инструментов анализа результатов моделирования временных рядов.<br>\n",
    "Лучше выбрать масштаб, скажем, несколько дней, чтобы увиеть можо было и сравнить каждый час.<br>    \n",
    "<font color='green'>\n",
    "Спасибо)<BR>\n",
    "БУДУ ЖДАТЬ КОММЕНТАРИЕВ"
   ]
  },
  {
   "cell_type": "markdown",
   "metadata": {},
   "source": [
    "<div style=\"background: #cceeaa; padding: 5px; border: 1px solid green; border-radius: 5px;\">\n",
    "<font color='green'> \n",
    "    <b><u>КОММЕНТАРИЙ СТУДЕНТА</u></b>\n",
    "</font>\n",
    "<font color='blue'><br>\n",
    "    \n",
    "СПАСИБО, очень крутые и информативные комментарии, прям то, что нужно!\n",
    "    \n",
    "Так то я до этого концепцию +- понял, что это, зачем, как и для чего делается.\n",
    "    \n",
    "Я согласен, что тема стоит особняком во всем курсе, но тема очень интересная и важная... одна из самых важных в курсе для понимания вообще того как и где, собственно, применяются модели предсказаний\n",
    "    \n",
    "Очень благодарен вам за каждый \"разжеванный\" в хорошем смысле комментарий, оставленный вами мне для того, чтобы сформировать у меня представление о временных рядах, как нужно смотреть на это, делать и почему.\n",
    "\n"
   ]
  },
  {
   "cell_type": "markdown",
   "metadata": {},
   "source": [
    "<div style=\"background: #cceeaa; padding: 5px; border: 1px solid green; border-radius: 5px;\">\n",
    "<font color='green'> \n",
    "    <b><u>КОММЕНТАРИЙ РЕВЬЮЕРА 2</u></b>\n",
    "</font>\n",
    "<font color='green'><br>Рад, что мои комментарии\"легли на душу\" и отозвались в знаниях)<br>\n",
    "Хотя много мне и не удалось сказать(<br>\n",
    "Если будет возможность тебе однозначно интересно посмотреть разные практические истории вот здесь:<br>\n",
    "https://ibf.org/knowledge - заморский институт бизнес-прогнозирования.<br>\n",
    "Там и статьи можно накопать, и методы посмомтерть...<br>\n",
    "\n",
    "Есть классический труд (он НЕ ML, а исключительно на эксель). Но для понимания сути временных рядов - то, что надо:<br>\n",
    "УИЧЕРН \"Бизнес-прогнозирование\"<br>\n",
    "\n",
    "Идеологически по системе прогнозирования, интересно почитать<br>\n",
    "ТОМАС УОЛЛАС, Р. СТАЛЬ \"планирование продаж и операций\" SO&P<br><br>     \n",
    "\n",
    "Спасибо) УСПЕШНОГО ДАЛЬНЕЙШЕГО ОБЧЕНИЯ!"
   ]
  },
  {
   "attachments": {
    "image.png": {
     "image/png": "[encoded data removed]"
    }
   },
   "cell_type": "markdown",
   "metadata": {},
   "source": [
    "![image.png](attachment:image.png)"
   ]
  },
  {
   "cell_type": "markdown",
   "metadata": {},
   "source": [
    "## Чек-лист проверки"
   ]
  },
  {
   "cell_type": "markdown",
   "metadata": {},
   "source": [
    "- [x]  Jupyter Notebook открыт\n",
    "- [ ]  Весь код выполняется без ошибок\n",
    "- [ ]  Ячейки с кодом расположены в порядке исполнения\n",
    "- [ ]  Данные загружены и подготовлены\n",
    "- [ ]  Данные проанализированы\n",
    "- [ ]  Модель обучена, гиперпараметры подобраны\n",
    "- [ ]  Качество моделей проверено, выводы сделаны\n",
    "- [ ]  Значение *RMSE* на тестовой выборке не больше 48"
   ]
  },
  {
   "cell_type": "markdown",
   "metadata": {},
   "source": [
    "<div style=\"background: #cceeaa; padding: 5px; border: 1px solid green; border-radius: 5px;\">\n",
    "<font color='green'> \n",
    "<u>КОММЕНТАРИЙ РЕВЬЮЕРА</u>\n",
    "</font>\n",
    "<font color='green'><br>\n",
    "Хотел бы оставить несколько идей для твоих будущих проектов в этой обоасти<br>\n",
    "\n",
    "На мой взгляд, в этой теме (временные ряды) главное - необходимо чувствовать исходный ряд продаж, с точки зрения бизнеса, и уже только потом подбирать к нему модели. Каждое колебание временного ряда - это деньги для бизнеса (если говорим что заказчик бизнесовый) и за \"трепетами\" данных прячутся разные семейства причин. И именно знание их помогут строить хорошие прогнозы..<br>.\n",
    "Леса, бустинги, регрессии.... могут подобрать хорошие модели на старых данных. Но иногда, как прогноз эти, модели могут оказаться пустышками - не интересными бизнесу. <br>  <br>\n",
    "Поэтому, от себя позволю добавить несколько идей:<br>\n",
    "Очень часто ищут \"волшебную таблетку\" или \"кнопку\". Нажал и само всё построилось с высокой точностью<br>\n",
    "Но такого никогода не будет)))<br>\n",
    "И причиной тому: модели нужно подсказать причины, по которым происходит колебания продаж (временного ряда): понимать причины колебаний треда, понимать аномалии, учитывать акционные продажи, видеть действия конкурентов , закладывать их в модель и т.д. <br><br>\n",
    "В общем, всё как обычно - три группы факторов: <br>\n",
    "1)внешние факторы (например выручка такси-компании зависит от количества машин на линии),<br>\n",
    "2)есть факторы внутри самих данных (Вы использовали как раз поняти лаг, сезонности), <br>\n",
    "3)есть параметры самих моделей (то, что обычно используется при моделировании леса или деревьев).<br><br>\n",
    "\n",
    "Ещё важно иметь ввиду горизонт прогноза: на кокой период строить прогноз нужно  - на час вперёд, на неделю, на месяц.<br>\n",
    "Это также накладывает ограничения на подбор моделей<br>\n",
    "Я бы рекомендовал Вам составить для себя матрицу  в разрезе: <br>\n",
    "а)есть тренд/нет тренда; <br>\n",
    "б)еть сезоннотсь/нет сезонности; <br>\n",
    "в)какой горизонт прогноза требуется; <br>\n",
    "г) есть ли у нас дополнительные факторы для модей<br>\n",
    "На пересечении знаний о моделях легко будет подобрать адкватную модель.\n",
    "Не все задачи прогнозирования временных рядов можно хорошо решить лесом и еже с ним на основе знаний только факторов ряда... Они хорошо подойдут для коротких горизонтов прогнозирования.... А если горизонт чуть больше: недели, месяцы... то тут надо подключать понимания фаткоров продаж самого бизнеса."
   ]
  },
  {
   "cell_type": "markdown",
   "metadata": {},
   "source": [
    "<div style=\"background: #cceeaa; padding: 5px; border: 1px solid green; border-radius: 5px;\">\n",
    "<font color='green'> \n",
    "    <b><u>КОММЕНТАРИЙ СТУДЕНТА</u></b>\n",
    "</font>\n",
    "<font color='blue'><br>\n",
    "    \n",
    "Вы лучший ревьюер!!!\n"
   ]
  },
  {
   "cell_type": "markdown",
   "metadata": {},
   "source": [
    "<div style=\"background: #cceeaa; padding: 5px; border: 1px solid green; border-radius: 5px;\">\n",
    "<font color='green'> \n",
    "    <b><u>КОММЕНТАРИЙ РЕВЬЮЕРА 2</u></b>\n",
    "<font color='green'><br>СПАСИБО!!!))<br>\n",
    "Просто цель нашей школы - чтобы каждый выпускник смог улучшить свою карьеру, а через это и качество своей жизни. И очень хочется быть причастным к этому к этому успеху) "
   ]
  },
  {
   "cell_type": "code",
   "execution_count": null,
   "metadata": {},
   "outputs": [],
   "source": []
  }
 ],
 "metadata": {
  "ExecuteTimeLog": [
   {
    "duration": 816,
    "start_time": "2021-11-23T19:46:23.754Z"
   },
   {
    "duration": 50,
    "start_time": "2021-11-23T19:46:58.400Z"
   },
   {
    "duration": 26,
    "start_time": "2021-11-23T19:46:59.241Z"
   },
   {
    "duration": 10,
    "start_time": "2021-11-23T19:47:32.968Z"
   },
   {
    "duration": 383,
    "start_time": "2021-11-23T19:48:13.153Z"
   },
   {
    "duration": 20,
    "start_time": "2021-11-23T19:48:49.657Z"
   },
   {
    "duration": 19,
    "start_time": "2021-11-23T19:49:01.961Z"
   },
   {
    "duration": 9,
    "start_time": "2021-11-23T19:49:08.700Z"
   },
   {
    "duration": 10,
    "start_time": "2021-11-23T22:01:08.718Z"
   },
   {
    "duration": 388,
    "start_time": "2021-11-23T22:02:48.706Z"
   },
   {
    "duration": 5,
    "start_time": "2021-11-23T22:03:25.243Z"
   },
   {
    "duration": 15,
    "start_time": "2021-11-23T22:03:30.986Z"
   },
   {
    "duration": 9,
    "start_time": "2021-11-23T22:03:38.771Z"
   },
   {
    "duration": 18,
    "start_time": "2021-11-23T22:03:41.420Z"
   },
   {
    "duration": 10,
    "start_time": "2021-11-23T22:07:49.464Z"
   },
   {
    "duration": 14,
    "start_time": "2021-11-23T22:07:53.956Z"
   },
   {
    "duration": 758,
    "start_time": "2021-11-23T22:08:26.595Z"
   },
   {
    "duration": 38,
    "start_time": "2021-11-23T22:08:27.356Z"
   },
   {
    "duration": 10,
    "start_time": "2021-11-23T22:08:27.398Z"
   },
   {
    "duration": 21,
    "start_time": "2021-11-23T22:08:27.411Z"
   },
   {
    "duration": 10,
    "start_time": "2021-11-23T22:08:27.435Z"
   },
   {
    "duration": 38,
    "start_time": "2021-11-23T22:08:27.448Z"
   },
   {
    "duration": 33,
    "start_time": "2021-11-23T22:08:27.489Z"
   },
   {
    "duration": 15,
    "start_time": "2021-11-23T22:08:27.525Z"
   },
   {
    "duration": 10,
    "start_time": "2021-11-23T22:08:27.544Z"
   },
   {
    "duration": 21,
    "start_time": "2021-11-23T22:08:27.583Z"
   },
   {
    "duration": 752,
    "start_time": "2021-11-23T22:08:42.768Z"
   },
   {
    "duration": 38,
    "start_time": "2021-11-23T22:08:43.523Z"
   },
   {
    "duration": 9,
    "start_time": "2021-11-23T22:08:43.564Z"
   },
   {
    "duration": 12,
    "start_time": "2021-11-23T22:08:43.583Z"
   },
   {
    "duration": 9,
    "start_time": "2021-11-23T22:08:43.597Z"
   },
   {
    "duration": 4,
    "start_time": "2021-11-23T22:08:43.609Z"
   },
   {
    "duration": 21,
    "start_time": "2021-11-23T22:08:43.615Z"
   },
   {
    "duration": 48,
    "start_time": "2021-11-23T22:08:43.639Z"
   },
   {
    "duration": 8,
    "start_time": "2021-11-23T22:08:43.690Z"
   },
   {
    "duration": 19,
    "start_time": "2021-11-23T22:08:43.700Z"
   },
   {
    "duration": 800,
    "start_time": "2021-11-23T22:08:58.382Z"
   },
   {
    "duration": 49,
    "start_time": "2021-11-23T22:08:59.186Z"
   },
   {
    "duration": 14,
    "start_time": "2021-11-23T22:08:59.239Z"
   },
   {
    "duration": 39,
    "start_time": "2021-11-23T22:08:59.256Z"
   },
   {
    "duration": 9,
    "start_time": "2021-11-23T22:08:59.297Z"
   },
   {
    "duration": 4,
    "start_time": "2021-11-23T22:08:59.308Z"
   },
   {
    "duration": 21,
    "start_time": "2021-11-23T22:08:59.314Z"
   },
   {
    "duration": 11,
    "start_time": "2021-11-23T22:08:59.338Z"
   },
   {
    "duration": 37,
    "start_time": "2021-11-23T22:08:59.351Z"
   },
   {
    "duration": 16,
    "start_time": "2021-11-23T22:08:59.391Z"
   },
   {
    "duration": 839,
    "start_time": "2021-11-23T22:09:09.468Z"
   },
   {
    "duration": 43,
    "start_time": "2021-11-23T22:09:10.311Z"
   },
   {
    "duration": 9,
    "start_time": "2021-11-23T22:09:10.357Z"
   },
   {
    "duration": 23,
    "start_time": "2021-11-23T22:09:10.369Z"
   },
   {
    "duration": 8,
    "start_time": "2021-11-23T22:09:10.395Z"
   },
   {
    "duration": 4,
    "start_time": "2021-11-23T22:09:10.406Z"
   },
   {
    "duration": 22,
    "start_time": "2021-11-23T22:09:10.413Z"
   },
   {
    "duration": 45,
    "start_time": "2021-11-23T22:09:10.437Z"
   },
   {
    "duration": 13,
    "start_time": "2021-11-23T22:09:10.486Z"
   },
   {
    "duration": 16,
    "start_time": "2021-11-23T22:09:10.501Z"
   },
   {
    "duration": 633,
    "start_time": "2021-11-23T22:10:06.127Z"
   },
   {
    "duration": 814,
    "start_time": "2021-11-23T22:11:41.414Z"
   },
   {
    "duration": 38,
    "start_time": "2021-11-23T22:11:42.231Z"
   },
   {
    "duration": 10,
    "start_time": "2021-11-23T22:11:42.283Z"
   },
   {
    "duration": 14,
    "start_time": "2021-11-23T22:11:42.295Z"
   },
   {
    "duration": 9,
    "start_time": "2021-11-23T22:11:42.311Z"
   },
   {
    "duration": 5,
    "start_time": "2021-11-23T22:11:42.322Z"
   },
   {
    "duration": 62,
    "start_time": "2021-11-23T22:11:42.330Z"
   },
   {
    "duration": 11,
    "start_time": "2021-11-23T22:11:42.395Z"
   },
   {
    "duration": 8,
    "start_time": "2021-11-23T22:11:42.408Z"
   },
   {
    "duration": 650,
    "start_time": "2021-11-23T22:11:42.418Z"
   },
   {
    "duration": 770,
    "start_time": "2021-11-23T22:11:55.963Z"
   },
   {
    "duration": 40,
    "start_time": "2021-11-23T22:11:56.736Z"
   },
   {
    "duration": 13,
    "start_time": "2021-11-23T22:11:56.788Z"
   },
   {
    "duration": 17,
    "start_time": "2021-11-23T22:11:56.803Z"
   },
   {
    "duration": 9,
    "start_time": "2021-11-23T22:11:56.824Z"
   },
   {
    "duration": 5,
    "start_time": "2021-11-23T22:11:56.836Z"
   },
   {
    "duration": 19,
    "start_time": "2021-11-23T22:11:56.883Z"
   },
   {
    "duration": 11,
    "start_time": "2021-11-23T22:11:56.904Z"
   },
   {
    "duration": 8,
    "start_time": "2021-11-23T22:11:56.919Z"
   },
   {
    "duration": 657,
    "start_time": "2021-11-23T22:11:56.932Z"
   },
   {
    "duration": 708,
    "start_time": "2021-11-23T22:12:08.318Z"
   },
   {
    "duration": 38,
    "start_time": "2021-11-23T22:12:09.029Z"
   },
   {
    "duration": 20,
    "start_time": "2021-11-23T22:12:09.070Z"
   },
   {
    "duration": 22,
    "start_time": "2021-11-23T22:12:09.094Z"
   },
   {
    "duration": 15,
    "start_time": "2021-11-23T22:12:09.119Z"
   },
   {
    "duration": 5,
    "start_time": "2021-11-23T22:12:09.137Z"
   },
   {
    "duration": 56,
    "start_time": "2021-11-23T22:12:09.145Z"
   },
   {
    "duration": 14,
    "start_time": "2021-11-23T22:12:09.204Z"
   },
   {
    "duration": 8,
    "start_time": "2021-11-23T22:12:09.222Z"
   },
   {
    "duration": 763,
    "start_time": "2021-11-23T22:12:09.233Z"
   },
   {
    "duration": 724,
    "start_time": "2021-11-23T22:12:41.620Z"
   },
   {
    "duration": 42,
    "start_time": "2021-11-23T22:12:42.347Z"
   },
   {
    "duration": 12,
    "start_time": "2021-11-23T22:12:42.392Z"
   },
   {
    "duration": 13,
    "start_time": "2021-11-23T22:12:42.407Z"
   },
   {
    "duration": 8,
    "start_time": "2021-11-23T22:12:42.423Z"
   },
   {
    "duration": 5,
    "start_time": "2021-11-23T22:12:42.434Z"
   },
   {
    "duration": 65,
    "start_time": "2021-11-23T22:12:42.442Z"
   },
   {
    "duration": 11,
    "start_time": "2021-11-23T22:12:42.510Z"
   },
   {
    "duration": 8,
    "start_time": "2021-11-23T22:12:42.526Z"
   },
   {
    "duration": 639,
    "start_time": "2021-11-23T22:12:42.537Z"
   },
   {
    "duration": 733,
    "start_time": "2021-11-23T22:12:51.928Z"
   },
   {
    "duration": 39,
    "start_time": "2021-11-23T22:12:52.664Z"
   },
   {
    "duration": 11,
    "start_time": "2021-11-23T22:12:52.706Z"
   },
   {
    "duration": 16,
    "start_time": "2021-11-23T22:12:52.720Z"
   },
   {
    "duration": 17,
    "start_time": "2021-11-23T22:12:52.739Z"
   },
   {
    "duration": 24,
    "start_time": "2021-11-23T22:12:52.758Z"
   },
   {
    "duration": 24,
    "start_time": "2021-11-23T22:12:52.785Z"
   },
   {
    "duration": 15,
    "start_time": "2021-11-23T22:12:52.813Z"
   },
   {
    "duration": 10,
    "start_time": "2021-11-23T22:12:52.832Z"
   },
   {
    "duration": 1001,
    "start_time": "2021-11-23T22:12:52.844Z"
   },
   {
    "duration": 766,
    "start_time": "2021-11-23T22:13:01.601Z"
   },
   {
    "duration": 39,
    "start_time": "2021-11-23T22:13:02.370Z"
   },
   {
    "duration": 10,
    "start_time": "2021-11-23T22:13:02.412Z"
   },
   {
    "duration": 26,
    "start_time": "2021-11-23T22:13:02.425Z"
   },
   {
    "duration": 29,
    "start_time": "2021-11-23T22:13:02.454Z"
   },
   {
    "duration": 5,
    "start_time": "2021-11-23T22:13:02.486Z"
   },
   {
    "duration": 34,
    "start_time": "2021-11-23T22:13:02.495Z"
   },
   {
    "duration": 17,
    "start_time": "2021-11-23T22:13:02.533Z"
   },
   {
    "duration": 34,
    "start_time": "2021-11-23T22:13:02.554Z"
   },
   {
    "duration": 647,
    "start_time": "2021-11-23T22:13:02.591Z"
   },
   {
    "duration": 1204,
    "start_time": "2021-11-23T22:14:59.424Z"
   },
   {
    "duration": 39,
    "start_time": "2021-11-23T22:15:00.630Z"
   },
   {
    "duration": 11,
    "start_time": "2021-11-23T22:15:00.672Z"
   },
   {
    "duration": 37,
    "start_time": "2021-11-23T22:15:00.686Z"
   },
   {
    "duration": 17,
    "start_time": "2021-11-23T22:15:00.726Z"
   },
   {
    "duration": 16,
    "start_time": "2021-11-23T22:15:00.745Z"
   },
   {
    "duration": 35,
    "start_time": "2021-11-23T22:15:00.764Z"
   },
   {
    "duration": 32,
    "start_time": "2021-11-23T22:15:00.802Z"
   },
   {
    "duration": 16,
    "start_time": "2021-11-23T22:15:00.837Z"
   },
   {
    "duration": 730,
    "start_time": "2021-11-23T22:15:00.855Z"
   },
   {
    "duration": 420,
    "start_time": "2021-11-23T22:15:41.712Z"
   },
   {
    "duration": 476,
    "start_time": "2021-11-23T22:15:49.166Z"
   },
   {
    "duration": 1354,
    "start_time": "2021-11-23T22:16:26.071Z"
   },
   {
    "duration": 39,
    "start_time": "2021-11-23T22:16:27.428Z"
   },
   {
    "duration": 20,
    "start_time": "2021-11-23T22:16:27.471Z"
   },
   {
    "duration": 12,
    "start_time": "2021-11-23T22:16:27.494Z"
   },
   {
    "duration": 9,
    "start_time": "2021-11-23T22:16:27.510Z"
   },
   {
    "duration": 10,
    "start_time": "2021-11-23T22:16:27.522Z"
   },
   {
    "duration": 49,
    "start_time": "2021-11-23T22:16:27.534Z"
   },
   {
    "duration": 16,
    "start_time": "2021-11-23T22:16:27.587Z"
   },
   {
    "duration": 11,
    "start_time": "2021-11-23T22:16:27.607Z"
   },
   {
    "duration": 681,
    "start_time": "2021-11-23T22:16:27.622Z"
   },
   {
    "duration": 559,
    "start_time": "2021-11-23T22:16:28.305Z"
   },
   {
    "duration": 14,
    "start_time": "2021-11-23T22:16:41.352Z"
   },
   {
    "duration": 304,
    "start_time": "2021-11-23T22:17:25.748Z"
   },
   {
    "duration": 7627,
    "start_time": "2021-11-23T22:17:34.877Z"
   },
   {
    "duration": 5,
    "start_time": "2021-11-23T22:18:27.727Z"
   },
   {
    "duration": 9279,
    "start_time": "2021-11-23T22:18:28.681Z"
   },
   {
    "duration": 316,
    "start_time": "2021-11-23T22:18:40.882Z"
   },
   {
    "duration": 1253,
    "start_time": "2021-11-23T22:19:03.064Z"
   },
   {
    "duration": 37,
    "start_time": "2021-11-23T22:19:04.321Z"
   },
   {
    "duration": 21,
    "start_time": "2021-11-23T22:19:04.361Z"
   },
   {
    "duration": 12,
    "start_time": "2021-11-23T22:19:04.385Z"
   },
   {
    "duration": 10,
    "start_time": "2021-11-23T22:19:04.400Z"
   },
   {
    "duration": 5,
    "start_time": "2021-11-23T22:19:04.412Z"
   },
   {
    "duration": 21,
    "start_time": "2021-11-23T22:19:04.420Z"
   },
   {
    "duration": 13,
    "start_time": "2021-11-23T22:19:04.483Z"
   },
   {
    "duration": 10,
    "start_time": "2021-11-23T22:19:04.498Z"
   },
   {
    "duration": 689,
    "start_time": "2021-11-23T22:19:04.511Z"
   },
   {
    "duration": 5,
    "start_time": "2021-11-23T22:19:05.202Z"
   },
   {
    "duration": 434,
    "start_time": "2021-11-23T22:19:05.210Z"
   },
   {
    "duration": 1213,
    "start_time": "2021-11-23T22:20:44.499Z"
   },
   {
    "duration": 38,
    "start_time": "2021-11-23T22:20:45.715Z"
   },
   {
    "duration": 10,
    "start_time": "2021-11-23T22:20:45.756Z"
   },
   {
    "duration": 24,
    "start_time": "2021-11-23T22:20:45.769Z"
   },
   {
    "duration": 23,
    "start_time": "2021-11-23T22:20:45.795Z"
   },
   {
    "duration": 5,
    "start_time": "2021-11-23T22:20:45.821Z"
   },
   {
    "duration": 23,
    "start_time": "2021-11-23T22:20:45.828Z"
   },
   {
    "duration": 35,
    "start_time": "2021-11-23T22:20:45.853Z"
   },
   {
    "duration": 10,
    "start_time": "2021-11-23T22:20:45.893Z"
   },
   {
    "duration": 748,
    "start_time": "2021-11-23T22:20:45.906Z"
   },
   {
    "duration": 26,
    "start_time": "2021-11-23T22:20:46.658Z"
   },
   {
    "duration": 432,
    "start_time": "2021-11-23T22:20:46.686Z"
   },
   {
    "duration": 307,
    "start_time": "2021-11-23T22:20:57.547Z"
   },
   {
    "duration": 357,
    "start_time": "2021-11-23T22:21:08.512Z"
   },
   {
    "duration": 289,
    "start_time": "2021-11-23T22:22:42.821Z"
   },
   {
    "duration": 1207,
    "start_time": "2021-11-23T22:22:54.808Z"
   },
   {
    "duration": 38,
    "start_time": "2021-11-23T22:22:56.017Z"
   },
   {
    "duration": 10,
    "start_time": "2021-11-23T22:22:56.058Z"
   },
   {
    "duration": 23,
    "start_time": "2021-11-23T22:22:56.070Z"
   },
   {
    "duration": 8,
    "start_time": "2021-11-23T22:22:56.096Z"
   },
   {
    "duration": 4,
    "start_time": "2021-11-23T22:22:56.106Z"
   },
   {
    "duration": 20,
    "start_time": "2021-11-23T22:22:56.113Z"
   },
   {
    "duration": 52,
    "start_time": "2021-11-23T22:22:56.135Z"
   },
   {
    "duration": 8,
    "start_time": "2021-11-23T22:22:56.191Z"
   },
   {
    "duration": 664,
    "start_time": "2021-11-23T22:22:56.201Z"
   },
   {
    "duration": 24,
    "start_time": "2021-11-23T22:22:56.868Z"
   },
   {
    "duration": 292,
    "start_time": "2021-11-23T22:22:56.894Z"
   },
   {
    "duration": 418,
    "start_time": "2021-11-23T22:23:25.249Z"
   },
   {
    "duration": 278,
    "start_time": "2021-11-23T22:23:35.907Z"
   },
   {
    "duration": 356,
    "start_time": "2021-11-23T22:29:32.458Z"
   },
   {
    "duration": 303,
    "start_time": "2021-11-23T22:30:27.666Z"
   },
   {
    "duration": 398,
    "start_time": "2021-11-23T22:35:30.836Z"
   },
   {
    "duration": 1398,
    "start_time": "2021-11-23T22:36:05.060Z"
   },
   {
    "duration": 42,
    "start_time": "2021-11-23T22:36:06.461Z"
   },
   {
    "duration": 12,
    "start_time": "2021-11-23T22:36:06.507Z"
   },
   {
    "duration": 15,
    "start_time": "2021-11-23T22:36:06.522Z"
   },
   {
    "duration": 13,
    "start_time": "2021-11-23T22:36:06.539Z"
   },
   {
    "duration": 29,
    "start_time": "2021-11-23T22:36:06.555Z"
   },
   {
    "duration": 30,
    "start_time": "2021-11-23T22:36:06.587Z"
   },
   {
    "duration": 16,
    "start_time": "2021-11-23T22:36:06.619Z"
   },
   {
    "duration": 11,
    "start_time": "2021-11-23T22:36:06.640Z"
   },
   {
    "duration": 807,
    "start_time": "2021-11-23T22:36:06.654Z"
   },
   {
    "duration": 475,
    "start_time": "2021-11-23T22:36:07.464Z"
   },
   {
    "duration": 625,
    "start_time": "2021-11-23T22:36:07.942Z"
   },
   {
    "duration": 474,
    "start_time": "2021-11-23T22:36:32.536Z"
   },
   {
    "duration": 422,
    "start_time": "2021-11-23T22:36:37.430Z"
   },
   {
    "duration": 436,
    "start_time": "2021-11-23T22:36:43.866Z"
   },
   {
    "duration": 431,
    "start_time": "2021-11-23T22:36:50.804Z"
   },
   {
    "duration": 454,
    "start_time": "2021-11-23T22:37:12.917Z"
   },
   {
    "duration": 351,
    "start_time": "2021-11-23T22:37:25.165Z"
   },
   {
    "duration": 1332,
    "start_time": "2021-11-23T22:38:04.857Z"
   },
   {
    "duration": 468,
    "start_time": "2021-11-23T22:38:38.490Z"
   },
   {
    "duration": 824,
    "start_time": "2021-11-23T22:39:04.224Z"
   },
   {
    "duration": 738,
    "start_time": "2021-11-23T22:39:11.992Z"
   },
   {
    "duration": 520,
    "start_time": "2021-11-23T22:39:19.594Z"
   },
   {
    "duration": 444,
    "start_time": "2021-11-23T22:44:41.353Z"
   },
   {
    "duration": 685,
    "start_time": "2021-11-23T22:44:47.248Z"
   },
   {
    "duration": 302,
    "start_time": "2021-11-23T22:45:27.611Z"
   },
   {
    "duration": 699,
    "start_time": "2021-11-23T22:45:32.939Z"
   },
   {
    "duration": 1131,
    "start_time": "2021-11-23T22:45:47.800Z"
   },
   {
    "duration": 1006,
    "start_time": "2021-11-23T22:46:02.032Z"
   },
   {
    "duration": 1412,
    "start_time": "2021-11-23T22:48:07.925Z"
   },
   {
    "duration": 36,
    "start_time": "2021-11-23T22:48:09.340Z"
   },
   {
    "duration": 11,
    "start_time": "2021-11-23T22:48:09.379Z"
   },
   {
    "duration": 16,
    "start_time": "2021-11-23T22:48:09.392Z"
   },
   {
    "duration": 8,
    "start_time": "2021-11-23T22:48:09.411Z"
   },
   {
    "duration": 5,
    "start_time": "2021-11-23T22:48:09.421Z"
   },
   {
    "duration": 15,
    "start_time": "2021-11-23T22:48:09.428Z"
   },
   {
    "duration": 11,
    "start_time": "2021-11-23T22:48:09.484Z"
   },
   {
    "duration": 8,
    "start_time": "2021-11-23T22:48:09.497Z"
   },
   {
    "duration": 916,
    "start_time": "2021-11-23T22:48:09.508Z"
   },
   {
    "duration": 709,
    "start_time": "2021-11-23T22:48:10.428Z"
   },
   {
    "duration": 545,
    "start_time": "2021-11-23T22:48:11.140Z"
   },
   {
    "duration": 731,
    "start_time": "2021-11-23T22:48:11.688Z"
   },
   {
    "duration": 9,
    "start_time": "2021-11-23T22:49:17.912Z"
   },
   {
    "duration": 9,
    "start_time": "2021-11-23T22:49:38.026Z"
   },
   {
    "duration": 10,
    "start_time": "2021-11-23T22:49:51.001Z"
   },
   {
    "duration": 10,
    "start_time": "2021-11-23T22:49:56.547Z"
   },
   {
    "duration": 9,
    "start_time": "2021-11-23T22:50:50.892Z"
   },
   {
    "duration": 15,
    "start_time": "2021-11-23T22:54:26.357Z"
   },
   {
    "duration": 6,
    "start_time": "2021-11-23T22:54:57.672Z"
   },
   {
    "duration": 12,
    "start_time": "2021-11-23T22:55:05.754Z"
   },
   {
    "duration": 1599,
    "start_time": "2021-11-23T22:55:30.377Z"
   },
   {
    "duration": 49,
    "start_time": "2021-11-23T22:55:31.978Z"
   },
   {
    "duration": 16,
    "start_time": "2021-11-23T22:55:32.032Z"
   },
   {
    "duration": 39,
    "start_time": "2021-11-23T22:55:32.051Z"
   },
   {
    "duration": 10,
    "start_time": "2021-11-23T22:55:32.093Z"
   },
   {
    "duration": 4,
    "start_time": "2021-11-23T22:55:32.106Z"
   },
   {
    "duration": 19,
    "start_time": "2021-11-23T22:55:32.112Z"
   },
   {
    "duration": 15,
    "start_time": "2021-11-23T22:55:32.134Z"
   },
   {
    "duration": 11,
    "start_time": "2021-11-23T22:55:32.183Z"
   },
   {
    "duration": 8,
    "start_time": "2021-11-23T22:55:32.197Z"
   },
   {
    "duration": 949,
    "start_time": "2021-11-23T22:55:32.208Z"
   },
   {
    "duration": 631,
    "start_time": "2021-11-23T22:55:33.161Z"
   },
   {
    "duration": 753,
    "start_time": "2021-11-23T22:55:33.795Z"
   },
   {
    "duration": 1086,
    "start_time": "2021-11-23T22:55:34.551Z"
   },
   {
    "duration": 10,
    "start_time": "2021-11-23T22:55:35.640Z"
   },
   {
    "duration": 30,
    "start_time": "2021-11-23T22:55:35.652Z"
   },
   {
    "duration": 12,
    "start_time": "2021-11-23T22:55:35.685Z"
   },
   {
    "duration": 23,
    "start_time": "2021-11-23T22:55:35.700Z"
   },
   {
    "duration": 1507,
    "start_time": "2021-11-23T22:57:01.650Z"
   },
   {
    "duration": 39,
    "start_time": "2021-11-23T22:57:03.160Z"
   },
   {
    "duration": 11,
    "start_time": "2021-11-23T22:57:03.202Z"
   },
   {
    "duration": 17,
    "start_time": "2021-11-23T22:57:03.215Z"
   },
   {
    "duration": 10,
    "start_time": "2021-11-23T22:57:03.235Z"
   },
   {
    "duration": 38,
    "start_time": "2021-11-23T22:57:03.248Z"
   },
   {
    "duration": 18,
    "start_time": "2021-11-23T22:57:03.289Z"
   },
   {
    "duration": 11,
    "start_time": "2021-11-23T22:57:03.313Z"
   },
   {
    "duration": 9,
    "start_time": "2021-11-23T22:57:03.327Z"
   },
   {
    "duration": 6,
    "start_time": "2021-11-23T22:57:03.338Z"
   },
   {
    "duration": 9,
    "start_time": "2021-11-23T22:57:03.383Z"
   },
   {
    "duration": 653,
    "start_time": "2021-11-23T22:57:03.395Z"
   },
   {
    "duration": 422,
    "start_time": "2021-11-23T22:57:04.050Z"
   },
   {
    "duration": 681,
    "start_time": "2021-11-23T22:57:04.482Z"
   },
   {
    "duration": 746,
    "start_time": "2021-11-23T22:57:05.166Z"
   },
   {
    "duration": 11,
    "start_time": "2021-11-23T22:57:05.915Z"
   },
   {
    "duration": 8,
    "start_time": "2021-11-23T22:57:05.929Z"
   },
   {
    "duration": 45,
    "start_time": "2021-11-23T22:57:05.939Z"
   },
   {
    "duration": 23,
    "start_time": "2021-11-23T22:57:05.987Z"
   },
   {
    "duration": 12,
    "start_time": "2021-11-23T22:57:23.503Z"
   },
   {
    "duration": 1564,
    "start_time": "2021-11-23T22:57:54.138Z"
   },
   {
    "duration": 38,
    "start_time": "2021-11-23T22:57:55.704Z"
   },
   {
    "duration": 12,
    "start_time": "2021-11-23T22:57:55.745Z"
   },
   {
    "duration": 30,
    "start_time": "2021-11-23T22:57:55.759Z"
   },
   {
    "duration": 9,
    "start_time": "2021-11-23T22:57:55.792Z"
   },
   {
    "duration": 4,
    "start_time": "2021-11-23T22:57:55.804Z"
   },
   {
    "duration": 19,
    "start_time": "2021-11-23T22:57:55.810Z"
   },
   {
    "duration": 51,
    "start_time": "2021-11-23T22:57:55.831Z"
   },
   {
    "duration": 9,
    "start_time": "2021-11-23T22:57:55.886Z"
   },
   {
    "duration": 8,
    "start_time": "2021-11-23T22:57:55.898Z"
   },
   {
    "duration": 13,
    "start_time": "2021-11-23T22:57:55.909Z"
   },
   {
    "duration": 659,
    "start_time": "2021-11-23T22:57:55.924Z"
   },
   {
    "duration": 419,
    "start_time": "2021-11-23T22:57:56.585Z"
   },
   {
    "duration": 522,
    "start_time": "2021-11-23T22:57:57.006Z"
   },
   {
    "duration": 746,
    "start_time": "2021-11-23T22:57:57.531Z"
   },
   {
    "duration": 13,
    "start_time": "2021-11-23T22:57:58.282Z"
   },
   {
    "duration": 19,
    "start_time": "2021-11-23T22:57:58.297Z"
   },
   {
    "duration": 20,
    "start_time": "2021-11-23T22:57:58.319Z"
   },
   {
    "duration": 1475,
    "start_time": "2021-11-23T22:58:50.237Z"
   },
   {
    "duration": 61,
    "start_time": "2021-11-23T22:58:51.715Z"
   },
   {
    "duration": 13,
    "start_time": "2021-11-23T22:58:51.778Z"
   },
   {
    "duration": 21,
    "start_time": "2021-11-23T22:58:51.793Z"
   },
   {
    "duration": 16,
    "start_time": "2021-11-23T22:58:51.817Z"
   },
   {
    "duration": 6,
    "start_time": "2021-11-23T22:58:51.836Z"
   },
   {
    "duration": 47,
    "start_time": "2021-11-23T22:58:51.844Z"
   },
   {
    "duration": 15,
    "start_time": "2021-11-23T22:58:51.894Z"
   },
   {
    "duration": 9,
    "start_time": "2021-11-23T22:58:51.913Z"
   },
   {
    "duration": 4,
    "start_time": "2021-11-23T22:58:51.925Z"
   },
   {
    "duration": 10,
    "start_time": "2021-11-23T22:58:51.931Z"
   },
   {
    "duration": 654,
    "start_time": "2021-11-23T22:58:51.943Z"
   },
   {
    "duration": 424,
    "start_time": "2021-11-23T22:58:52.599Z"
   },
   {
    "duration": 510,
    "start_time": "2021-11-23T22:58:53.026Z"
   },
   {
    "duration": 739,
    "start_time": "2021-11-23T22:58:53.538Z"
   },
   {
    "duration": 9,
    "start_time": "2021-11-23T22:58:54.283Z"
   },
   {
    "duration": 15,
    "start_time": "2021-11-23T22:58:54.295Z"
   },
   {
    "duration": 19,
    "start_time": "2021-11-23T22:58:54.313Z"
   },
   {
    "duration": 1520,
    "start_time": "2021-11-23T22:59:51.266Z"
   },
   {
    "duration": 61,
    "start_time": "2021-11-23T22:59:52.788Z"
   },
   {
    "duration": 12,
    "start_time": "2021-11-23T22:59:52.852Z"
   },
   {
    "duration": 17,
    "start_time": "2021-11-23T22:59:52.882Z"
   },
   {
    "duration": 12,
    "start_time": "2021-11-23T22:59:52.902Z"
   },
   {
    "duration": 5,
    "start_time": "2021-11-23T22:59:52.917Z"
   },
   {
    "duration": 17,
    "start_time": "2021-11-23T22:59:52.925Z"
   },
   {
    "duration": 51,
    "start_time": "2021-11-23T22:59:52.944Z"
   },
   {
    "duration": 9,
    "start_time": "2021-11-23T22:59:52.999Z"
   },
   {
    "duration": 3,
    "start_time": "2021-11-23T22:59:53.011Z"
   },
   {
    "duration": 15,
    "start_time": "2021-11-23T22:59:53.017Z"
   },
   {
    "duration": 50,
    "start_time": "2021-11-23T22:59:53.034Z"
   },
   {
    "duration": 649,
    "start_time": "2021-11-23T22:59:53.086Z"
   },
   {
    "duration": 424,
    "start_time": "2021-11-23T22:59:53.738Z"
   },
   {
    "duration": 750,
    "start_time": "2021-11-23T22:59:54.164Z"
   },
   {
    "duration": 837,
    "start_time": "2021-11-23T22:59:54.917Z"
   },
   {
    "duration": 9,
    "start_time": "2021-11-23T22:59:55.757Z"
   },
   {
    "duration": 21,
    "start_time": "2021-11-23T22:59:55.768Z"
   },
   {
    "duration": 24,
    "start_time": "2021-11-23T22:59:55.791Z"
   },
   {
    "duration": 1504,
    "start_time": "2021-11-23T23:00:59.472Z"
   },
   {
    "duration": 76,
    "start_time": "2021-11-23T23:01:00.981Z"
   },
   {
    "duration": 12,
    "start_time": "2021-11-23T23:01:01.060Z"
   },
   {
    "duration": 50,
    "start_time": "2021-11-23T23:01:01.075Z"
   },
   {
    "duration": 34,
    "start_time": "2021-11-23T23:01:01.127Z"
   },
   {
    "duration": 20,
    "start_time": "2021-11-23T23:01:01.164Z"
   },
   {
    "duration": 33,
    "start_time": "2021-11-23T23:01:01.187Z"
   },
   {
    "duration": 41,
    "start_time": "2021-11-23T23:01:01.224Z"
   },
   {
    "duration": 12,
    "start_time": "2021-11-23T23:01:01.268Z"
   },
   {
    "duration": 33,
    "start_time": "2021-11-23T23:01:01.283Z"
   },
   {
    "duration": 36,
    "start_time": "2021-11-23T23:01:01.319Z"
   },
   {
    "duration": 20,
    "start_time": "2021-11-23T23:01:01.358Z"
   },
   {
    "duration": 965,
    "start_time": "2021-11-23T23:01:01.381Z"
   },
   {
    "duration": 651,
    "start_time": "2021-11-23T23:01:02.349Z"
   },
   {
    "duration": 754,
    "start_time": "2021-11-23T23:01:03.003Z"
   },
   {
    "duration": 1126,
    "start_time": "2021-11-23T23:01:03.760Z"
   },
   {
    "duration": 11,
    "start_time": "2021-11-23T23:01:04.889Z"
   },
   {
    "duration": 20,
    "start_time": "2021-11-23T23:01:04.903Z"
   },
   {
    "duration": 56,
    "start_time": "2021-11-23T23:01:04.926Z"
   },
   {
    "duration": 19,
    "start_time": "2021-11-23T23:01:46.637Z"
   },
   {
    "duration": 1635,
    "start_time": "2021-11-23T23:02:01.342Z"
   },
   {
    "duration": 63,
    "start_time": "2021-11-23T23:02:02.982Z"
   },
   {
    "duration": 12,
    "start_time": "2021-11-23T23:02:03.048Z"
   },
   {
    "duration": 28,
    "start_time": "2021-11-23T23:02:03.063Z"
   },
   {
    "duration": 19,
    "start_time": "2021-11-23T23:02:03.094Z"
   },
   {
    "duration": 31,
    "start_time": "2021-11-23T23:02:03.116Z"
   },
   {
    "duration": 22,
    "start_time": "2021-11-23T23:02:03.150Z"
   },
   {
    "duration": 70,
    "start_time": "2021-11-23T23:02:03.175Z"
   },
   {
    "duration": 24,
    "start_time": "2021-11-23T23:02:03.249Z"
   },
   {
    "duration": 11,
    "start_time": "2021-11-23T23:02:03.276Z"
   },
   {
    "duration": 13,
    "start_time": "2021-11-23T23:02:03.289Z"
   },
   {
    "duration": 13,
    "start_time": "2021-11-23T23:02:03.305Z"
   },
   {
    "duration": 637,
    "start_time": "2021-11-23T23:02:03.320Z"
   },
   {
    "duration": 465,
    "start_time": "2021-11-23T23:02:03.959Z"
   },
   {
    "duration": 529,
    "start_time": "2021-11-23T23:02:04.426Z"
   },
   {
    "duration": 753,
    "start_time": "2021-11-23T23:02:04.958Z"
   },
   {
    "duration": 10,
    "start_time": "2021-11-23T23:02:05.714Z"
   },
   {
    "duration": 14,
    "start_time": "2021-11-23T23:02:05.727Z"
   },
   {
    "duration": 446,
    "start_time": "2021-11-23T23:02:05.743Z"
   },
   {
    "duration": -818,
    "start_time": "2021-11-23T23:02:07.010Z"
   },
   {
    "duration": 19,
    "start_time": "2021-11-23T23:02:21.765Z"
   },
   {
    "duration": 21,
    "start_time": "2021-11-23T23:02:33.130Z"
   },
   {
    "duration": 27,
    "start_time": "2021-11-23T23:02:36.383Z"
   },
   {
    "duration": 14,
    "start_time": "2021-11-23T23:04:07.971Z"
   },
   {
    "duration": 20,
    "start_time": "2021-11-23T23:04:08.971Z"
   },
   {
    "duration": 15,
    "start_time": "2021-11-23T23:04:11.664Z"
   },
   {
    "duration": 26,
    "start_time": "2021-11-23T23:04:12.644Z"
   },
   {
    "duration": 298,
    "start_time": "2021-11-23T23:05:08.486Z"
   },
   {
    "duration": 1472,
    "start_time": "2021-11-23T23:05:15.897Z"
   },
   {
    "duration": 61,
    "start_time": "2021-11-23T23:05:17.372Z"
   },
   {
    "duration": 11,
    "start_time": "2021-11-23T23:05:17.436Z"
   },
   {
    "duration": 38,
    "start_time": "2021-11-23T23:05:17.450Z"
   },
   {
    "duration": 10,
    "start_time": "2021-11-23T23:05:17.492Z"
   },
   {
    "duration": 7,
    "start_time": "2021-11-23T23:05:17.505Z"
   },
   {
    "duration": 20,
    "start_time": "2021-11-23T23:05:17.515Z"
   },
   {
    "duration": 57,
    "start_time": "2021-11-23T23:05:17.538Z"
   },
   {
    "duration": 12,
    "start_time": "2021-11-23T23:05:17.600Z"
   },
   {
    "duration": 6,
    "start_time": "2021-11-23T23:05:17.615Z"
   },
   {
    "duration": 9,
    "start_time": "2021-11-23T23:05:17.624Z"
   },
   {
    "duration": 47,
    "start_time": "2021-11-23T23:05:17.635Z"
   },
   {
    "duration": 632,
    "start_time": "2021-11-23T23:05:17.684Z"
   },
   {
    "duration": 416,
    "start_time": "2021-11-23T23:05:18.319Z"
   },
   {
    "duration": 505,
    "start_time": "2021-11-23T23:05:18.737Z"
   },
   {
    "duration": 737,
    "start_time": "2021-11-23T23:05:19.245Z"
   },
   {
    "duration": 12,
    "start_time": "2021-11-23T23:05:19.984Z"
   },
   {
    "duration": 17,
    "start_time": "2021-11-23T23:05:19.998Z"
   },
   {
    "duration": 37,
    "start_time": "2021-11-23T23:05:20.018Z"
   },
   {
    "duration": 60,
    "start_time": "2021-11-23T23:05:20.058Z"
   },
   {
    "duration": 14,
    "start_time": "2021-11-23T23:05:20.121Z"
   },
   {
    "duration": 1932,
    "start_time": "2021-11-23T23:05:53.117Z"
   },
   {
    "duration": 82,
    "start_time": "2021-11-23T23:05:55.053Z"
   },
   {
    "duration": 15,
    "start_time": "2021-11-23T23:05:55.139Z"
   },
   {
    "duration": 40,
    "start_time": "2021-11-23T23:05:55.158Z"
   },
   {
    "duration": 12,
    "start_time": "2021-11-23T23:05:55.201Z"
   },
   {
    "duration": 7,
    "start_time": "2021-11-23T23:05:55.216Z"
   },
   {
    "duration": 20,
    "start_time": "2021-11-23T23:05:55.225Z"
   },
   {
    "duration": 53,
    "start_time": "2021-11-23T23:05:55.248Z"
   },
   {
    "duration": 13,
    "start_time": "2021-11-23T23:05:55.307Z"
   },
   {
    "duration": 6,
    "start_time": "2021-11-23T23:05:55.324Z"
   },
   {
    "duration": 17,
    "start_time": "2021-11-23T23:05:55.333Z"
   },
   {
    "duration": 15,
    "start_time": "2021-11-23T23:05:55.381Z"
   },
   {
    "duration": 973,
    "start_time": "2021-11-23T23:05:55.399Z"
   },
   {
    "duration": 591,
    "start_time": "2021-11-23T23:05:56.383Z"
   },
   {
    "duration": 769,
    "start_time": "2021-11-23T23:05:56.982Z"
   },
   {
    "duration": 1090,
    "start_time": "2021-11-23T23:05:57.754Z"
   },
   {
    "duration": 18,
    "start_time": "2021-11-23T23:05:58.848Z"
   },
   {
    "duration": 16,
    "start_time": "2021-11-23T23:05:58.884Z"
   },
   {
    "duration": 21,
    "start_time": "2021-11-23T23:05:58.903Z"
   },
   {
    "duration": 66,
    "start_time": "2021-11-23T23:05:58.928Z"
   },
   {
    "duration": 21,
    "start_time": "2021-11-23T23:05:58.997Z"
   },
   {
    "duration": 1544,
    "start_time": "2021-11-23T23:07:20.534Z"
   },
   {
    "duration": 78,
    "start_time": "2021-11-23T23:07:22.080Z"
   },
   {
    "duration": 10,
    "start_time": "2021-11-23T23:07:22.161Z"
   },
   {
    "duration": 15,
    "start_time": "2021-11-23T23:07:22.174Z"
   },
   {
    "duration": 24,
    "start_time": "2021-11-23T23:07:22.191Z"
   },
   {
    "duration": 6,
    "start_time": "2021-11-23T23:07:22.217Z"
   },
   {
    "duration": 20,
    "start_time": "2021-11-23T23:07:22.225Z"
   },
   {
    "duration": 34,
    "start_time": "2021-11-23T23:07:22.248Z"
   },
   {
    "duration": 9,
    "start_time": "2021-11-23T23:07:22.286Z"
   },
   {
    "duration": 4,
    "start_time": "2021-11-23T23:07:22.297Z"
   },
   {
    "duration": 15,
    "start_time": "2021-11-23T23:07:22.303Z"
   },
   {
    "duration": 14,
    "start_time": "2021-11-23T23:07:22.320Z"
   },
   {
    "duration": 652,
    "start_time": "2021-11-23T23:07:22.337Z"
   },
   {
    "duration": 409,
    "start_time": "2021-11-23T23:07:22.991Z"
   },
   {
    "duration": 508,
    "start_time": "2021-11-23T23:07:23.403Z"
   },
   {
    "duration": 761,
    "start_time": "2021-11-23T23:07:23.914Z"
   },
   {
    "duration": 14,
    "start_time": "2021-11-23T23:07:24.677Z"
   },
   {
    "duration": 11,
    "start_time": "2021-11-23T23:07:24.693Z"
   },
   {
    "duration": 16,
    "start_time": "2021-11-23T23:07:24.707Z"
   },
   {
    "duration": 65,
    "start_time": "2021-11-23T23:07:24.725Z"
   },
   {
    "duration": 20,
    "start_time": "2021-11-23T23:07:24.793Z"
   },
   {
    "duration": 26,
    "start_time": "2021-11-23T23:07:59.169Z"
   },
   {
    "duration": 25,
    "start_time": "2021-11-23T23:08:15.823Z"
   },
   {
    "duration": 25,
    "start_time": "2021-11-23T23:08:42.373Z"
   },
   {
    "duration": 1480,
    "start_time": "2021-11-23T23:09:41.789Z"
   },
   {
    "duration": 60,
    "start_time": "2021-11-23T23:09:43.272Z"
   },
   {
    "duration": 11,
    "start_time": "2021-11-23T23:09:43.336Z"
   },
   {
    "duration": 14,
    "start_time": "2021-11-23T23:09:43.350Z"
   },
   {
    "duration": 16,
    "start_time": "2021-11-23T23:09:43.384Z"
   },
   {
    "duration": 5,
    "start_time": "2021-11-23T23:09:43.402Z"
   },
   {
    "duration": 15,
    "start_time": "2021-11-23T23:09:43.410Z"
   },
   {
    "duration": 16,
    "start_time": "2021-11-23T23:09:43.428Z"
   },
   {
    "duration": 38,
    "start_time": "2021-11-23T23:09:43.448Z"
   },
   {
    "duration": 4,
    "start_time": "2021-11-23T23:09:43.489Z"
   },
   {
    "duration": 10,
    "start_time": "2021-11-23T23:09:43.496Z"
   },
   {
    "duration": 10,
    "start_time": "2021-11-23T23:09:43.509Z"
   },
   {
    "duration": 653,
    "start_time": "2021-11-23T23:09:43.522Z"
   },
   {
    "duration": 421,
    "start_time": "2021-11-23T23:09:44.183Z"
   },
   {
    "duration": 509,
    "start_time": "2021-11-23T23:09:44.606Z"
   },
   {
    "duration": 743,
    "start_time": "2021-11-23T23:09:45.117Z"
   },
   {
    "duration": 26,
    "start_time": "2021-11-23T23:09:45.863Z"
   },
   {
    "duration": 12,
    "start_time": "2021-11-23T23:09:45.891Z"
   },
   {
    "duration": 22,
    "start_time": "2021-11-23T23:09:45.905Z"
   },
   {
    "duration": 65,
    "start_time": "2021-11-23T23:09:45.929Z"
   },
   {
    "duration": 20,
    "start_time": "2021-11-23T23:09:45.997Z"
   },
   {
    "duration": 1481,
    "start_time": "2021-11-23T23:10:03.874Z"
   },
   {
    "duration": 63,
    "start_time": "2021-11-23T23:10:05.358Z"
   },
   {
    "duration": 10,
    "start_time": "2021-11-23T23:10:05.425Z"
   },
   {
    "duration": 14,
    "start_time": "2021-11-23T23:10:05.439Z"
   },
   {
    "duration": 32,
    "start_time": "2021-11-23T23:10:05.456Z"
   },
   {
    "duration": 5,
    "start_time": "2021-11-23T23:10:05.491Z"
   },
   {
    "duration": 18,
    "start_time": "2021-11-23T23:10:05.499Z"
   },
   {
    "duration": 16,
    "start_time": "2021-11-23T23:10:05.519Z"
   },
   {
    "duration": 46,
    "start_time": "2021-11-23T23:10:05.539Z"
   },
   {
    "duration": 5,
    "start_time": "2021-11-23T23:10:05.588Z"
   },
   {
    "duration": 20,
    "start_time": "2021-11-23T23:10:05.595Z"
   },
   {
    "duration": 19,
    "start_time": "2021-11-23T23:10:05.617Z"
   },
   {
    "duration": 649,
    "start_time": "2021-11-23T23:10:05.638Z"
   },
   {
    "duration": 426,
    "start_time": "2021-11-23T23:10:06.289Z"
   },
   {
    "duration": 659,
    "start_time": "2021-11-23T23:10:06.717Z"
   },
   {
    "duration": 741,
    "start_time": "2021-11-23T23:10:07.381Z"
   },
   {
    "duration": 11,
    "start_time": "2021-11-23T23:10:08.124Z"
   },
   {
    "duration": 44,
    "start_time": "2021-11-23T23:10:08.137Z"
   },
   {
    "duration": 43,
    "start_time": "2021-11-23T23:10:08.183Z"
   },
   {
    "duration": 70,
    "start_time": "2021-11-23T23:10:08.228Z"
   },
   {
    "duration": 17,
    "start_time": "2021-11-23T23:10:08.300Z"
   },
   {
    "duration": 35,
    "start_time": "2021-11-23T23:17:46.987Z"
   },
   {
    "duration": 35,
    "start_time": "2021-11-23T23:18:02.618Z"
   },
   {
    "duration": 1435,
    "start_time": "2021-11-23T23:18:36.328Z"
   },
   {
    "duration": 62,
    "start_time": "2021-11-23T23:18:37.765Z"
   },
   {
    "duration": 10,
    "start_time": "2021-11-23T23:18:37.830Z"
   },
   {
    "duration": 31,
    "start_time": "2021-11-23T23:18:37.842Z"
   },
   {
    "duration": 11,
    "start_time": "2021-11-23T23:18:37.875Z"
   },
   {
    "duration": 7,
    "start_time": "2021-11-23T23:18:37.889Z"
   },
   {
    "duration": 16,
    "start_time": "2021-11-23T23:18:37.898Z"
   },
   {
    "duration": 16,
    "start_time": "2021-11-23T23:18:37.916Z"
   },
   {
    "duration": 47,
    "start_time": "2021-11-23T23:18:37.936Z"
   },
   {
    "duration": 3,
    "start_time": "2021-11-23T23:18:37.986Z"
   },
   {
    "duration": 12,
    "start_time": "2021-11-23T23:18:37.991Z"
   },
   {
    "duration": 11,
    "start_time": "2021-11-23T23:18:38.006Z"
   },
   {
    "duration": 650,
    "start_time": "2021-11-23T23:18:38.020Z"
   },
   {
    "duration": 419,
    "start_time": "2021-11-23T23:18:38.672Z"
   },
   {
    "duration": 516,
    "start_time": "2021-11-23T23:18:39.093Z"
   },
   {
    "duration": 737,
    "start_time": "2021-11-23T23:18:39.611Z"
   },
   {
    "duration": 12,
    "start_time": "2021-11-23T23:18:40.350Z"
   },
   {
    "duration": 11,
    "start_time": "2021-11-23T23:18:40.381Z"
   },
   {
    "duration": 19,
    "start_time": "2021-11-23T23:18:40.395Z"
   },
   {
    "duration": 19,
    "start_time": "2021-11-23T23:18:40.417Z"
   },
   {
    "duration": 51,
    "start_time": "2021-11-23T23:18:40.439Z"
   },
   {
    "duration": 1490,
    "start_time": "2021-11-23T23:20:20.901Z"
   },
   {
    "duration": 63,
    "start_time": "2021-11-23T23:20:22.393Z"
   },
   {
    "duration": 10,
    "start_time": "2021-11-23T23:20:22.460Z"
   },
   {
    "duration": 22,
    "start_time": "2021-11-23T23:20:22.482Z"
   },
   {
    "duration": 8,
    "start_time": "2021-11-23T23:20:22.507Z"
   },
   {
    "duration": 5,
    "start_time": "2021-11-23T23:20:22.517Z"
   },
   {
    "duration": 17,
    "start_time": "2021-11-23T23:20:22.524Z"
   },
   {
    "duration": 51,
    "start_time": "2021-11-23T23:20:22.543Z"
   },
   {
    "duration": 10,
    "start_time": "2021-11-23T23:20:22.597Z"
   },
   {
    "duration": 5,
    "start_time": "2021-11-23T23:20:22.610Z"
   },
   {
    "duration": 11,
    "start_time": "2021-11-23T23:20:22.617Z"
   },
   {
    "duration": 55,
    "start_time": "2021-11-23T23:20:22.630Z"
   },
   {
    "duration": 654,
    "start_time": "2021-11-23T23:20:22.687Z"
   },
   {
    "duration": 429,
    "start_time": "2021-11-23T23:20:23.343Z"
   },
   {
    "duration": 507,
    "start_time": "2021-11-23T23:20:23.781Z"
   },
   {
    "duration": 761,
    "start_time": "2021-11-23T23:20:24.291Z"
   },
   {
    "duration": 27,
    "start_time": "2021-11-23T23:20:25.054Z"
   },
   {
    "duration": 11,
    "start_time": "2021-11-23T23:20:25.084Z"
   },
   {
    "duration": 24,
    "start_time": "2021-11-23T23:20:25.098Z"
   },
   {
    "duration": 20,
    "start_time": "2021-11-23T23:20:25.125Z"
   },
   {
    "duration": 133,
    "start_time": "2021-11-23T23:20:25.148Z"
   },
   {
    "duration": 33,
    "start_time": "2021-11-23T23:20:31.544Z"
   },
   {
    "duration": 21,
    "start_time": "2021-11-23T23:24:42.733Z"
   },
   {
    "duration": 8,
    "start_time": "2021-11-23T23:24:52.701Z"
   },
   {
    "duration": 93,
    "start_time": "2021-11-23T23:30:46.204Z"
   },
   {
    "duration": 6,
    "start_time": "2021-11-23T23:30:52.143Z"
   },
   {
    "duration": 83,
    "start_time": "2021-11-23T23:30:52.800Z"
   },
   {
    "duration": 14,
    "start_time": "2021-11-23T23:31:47.845Z"
   },
   {
    "duration": 73,
    "start_time": "2021-11-23T23:32:49.811Z"
   },
   {
    "duration": 432,
    "start_time": "2021-11-23T23:34:05.515Z"
   },
   {
    "duration": 1485,
    "start_time": "2021-11-23T23:35:39.688Z"
   },
   {
    "duration": 63,
    "start_time": "2021-11-23T23:35:41.176Z"
   },
   {
    "duration": 13,
    "start_time": "2021-11-23T23:35:41.246Z"
   },
   {
    "duration": 16,
    "start_time": "2021-11-23T23:35:41.282Z"
   },
   {
    "duration": 11,
    "start_time": "2021-11-23T23:35:41.301Z"
   },
   {
    "duration": 5,
    "start_time": "2021-11-23T23:35:41.314Z"
   },
   {
    "duration": 15,
    "start_time": "2021-11-23T23:35:41.321Z"
   },
   {
    "duration": 51,
    "start_time": "2021-11-23T23:35:41.340Z"
   },
   {
    "duration": 9,
    "start_time": "2021-11-23T23:35:41.394Z"
   },
   {
    "duration": 5,
    "start_time": "2021-11-23T23:35:41.406Z"
   },
   {
    "duration": 15,
    "start_time": "2021-11-23T23:35:41.413Z"
   },
   {
    "duration": 10,
    "start_time": "2021-11-23T23:35:41.431Z"
   },
   {
    "duration": 653,
    "start_time": "2021-11-23T23:35:41.444Z"
   },
   {
    "duration": 415,
    "start_time": "2021-11-23T23:35:42.099Z"
   },
   {
    "duration": 504,
    "start_time": "2021-11-23T23:35:42.516Z"
   },
   {
    "duration": 729,
    "start_time": "2021-11-23T23:35:43.022Z"
   },
   {
    "duration": 12,
    "start_time": "2021-11-23T23:35:43.754Z"
   },
   {
    "duration": 11,
    "start_time": "2021-11-23T23:35:43.783Z"
   },
   {
    "duration": 28,
    "start_time": "2021-11-23T23:35:43.796Z"
   },
   {
    "duration": 21,
    "start_time": "2021-11-23T23:35:43.826Z"
   },
   {
    "duration": 9,
    "start_time": "2021-11-23T23:35:43.849Z"
   },
   {
    "duration": 34,
    "start_time": "2021-11-23T23:35:43.860Z"
   },
   {
    "duration": 10,
    "start_time": "2021-11-23T23:35:43.897Z"
   },
   {
    "duration": 38478,
    "start_time": "2021-11-23T23:35:43.909Z"
   },
   {
    "duration": -880,
    "start_time": "2021-11-23T23:36:23.270Z"
   },
   {
    "duration": 110,
    "start_time": "2021-11-23T23:36:25.578Z"
   },
   {
    "duration": 79960,
    "start_time": "2021-11-23T23:36:28.827Z"
   },
   {
    "duration": 1440,
    "start_time": "2021-11-23T23:39:56.709Z"
   },
   {
    "duration": 74,
    "start_time": "2021-11-23T23:39:58.152Z"
   },
   {
    "duration": 11,
    "start_time": "2021-11-23T23:39:58.229Z"
   },
   {
    "duration": 16,
    "start_time": "2021-11-23T23:39:58.243Z"
   },
   {
    "duration": 27,
    "start_time": "2021-11-23T23:39:58.261Z"
   },
   {
    "duration": 9,
    "start_time": "2021-11-23T23:39:58.290Z"
   },
   {
    "duration": 20,
    "start_time": "2021-11-23T23:39:58.301Z"
   },
   {
    "duration": 14,
    "start_time": "2021-11-23T23:39:58.325Z"
   },
   {
    "duration": 42,
    "start_time": "2021-11-23T23:39:58.342Z"
   },
   {
    "duration": 5,
    "start_time": "2021-11-23T23:39:58.387Z"
   },
   {
    "duration": 9,
    "start_time": "2021-11-23T23:39:58.394Z"
   },
   {
    "duration": 11,
    "start_time": "2021-11-23T23:39:58.405Z"
   },
   {
    "duration": 643,
    "start_time": "2021-11-23T23:39:58.418Z"
   },
   {
    "duration": 412,
    "start_time": "2021-11-23T23:39:59.063Z"
   },
   {
    "duration": 505,
    "start_time": "2021-11-23T23:39:59.477Z"
   },
   {
    "duration": 766,
    "start_time": "2021-11-23T23:39:59.984Z"
   },
   {
    "duration": 28,
    "start_time": "2021-11-23T23:40:00.753Z"
   },
   {
    "duration": 18,
    "start_time": "2021-11-23T23:40:00.784Z"
   },
   {
    "duration": 29,
    "start_time": "2021-11-23T23:40:00.805Z"
   },
   {
    "duration": 24,
    "start_time": "2021-11-23T23:40:00.837Z"
   },
   {
    "duration": 84,
    "start_time": "2021-11-23T23:40:00.864Z"
   },
   {
    "duration": 96,
    "start_time": "2021-11-23T23:40:00.950Z"
   },
   {
    "duration": 16,
    "start_time": "2021-11-23T23:40:01.050Z"
   },
   {
    "duration": 122,
    "start_time": "2021-11-23T23:40:01.069Z"
   },
   {
    "duration": 50692,
    "start_time": "2021-11-23T23:40:01.196Z"
   },
   {
    "duration": 1611,
    "start_time": "2021-11-23T23:47:15.571Z"
   },
   {
    "duration": 62,
    "start_time": "2021-11-23T23:47:17.185Z"
   },
   {
    "duration": 10,
    "start_time": "2021-11-23T23:47:17.254Z"
   },
   {
    "duration": 14,
    "start_time": "2021-11-23T23:47:17.283Z"
   },
   {
    "duration": 11,
    "start_time": "2021-11-23T23:47:17.300Z"
   },
   {
    "duration": 5,
    "start_time": "2021-11-23T23:47:17.314Z"
   },
   {
    "duration": 17,
    "start_time": "2021-11-23T23:47:17.321Z"
   },
   {
    "duration": 48,
    "start_time": "2021-11-23T23:47:17.342Z"
   },
   {
    "duration": 8,
    "start_time": "2021-11-23T23:47:17.394Z"
   },
   {
    "duration": 4,
    "start_time": "2021-11-23T23:47:17.405Z"
   },
   {
    "duration": 9,
    "start_time": "2021-11-23T23:47:17.412Z"
   },
   {
    "duration": 14,
    "start_time": "2021-11-23T23:47:17.423Z"
   },
   {
    "duration": 794,
    "start_time": "2021-11-23T23:47:17.439Z"
   },
   {
    "duration": 436,
    "start_time": "2021-11-23T23:47:18.236Z"
   },
   {
    "duration": 503,
    "start_time": "2021-11-23T23:47:18.682Z"
   },
   {
    "duration": 827,
    "start_time": "2021-11-23T23:47:19.188Z"
   },
   {
    "duration": 12,
    "start_time": "2021-11-23T23:47:20.018Z"
   },
   {
    "duration": 22,
    "start_time": "2021-11-23T23:47:20.033Z"
   },
   {
    "duration": 32,
    "start_time": "2021-11-23T23:47:20.057Z"
   },
   {
    "duration": 15,
    "start_time": "2021-11-23T23:47:20.092Z"
   },
   {
    "duration": 17,
    "start_time": "2021-11-23T23:47:20.110Z"
   },
   {
    "duration": 18,
    "start_time": "2021-11-23T23:47:20.129Z"
   },
   {
    "duration": 9,
    "start_time": "2021-11-23T23:47:20.149Z"
   },
   {
    "duration": 11,
    "start_time": "2021-11-23T23:47:20.181Z"
   },
   {
    "duration": 64695,
    "start_time": "2021-11-23T23:47:20.196Z"
   },
   {
    "duration": 444,
    "start_time": "2021-11-23T23:48:24.897Z"
   },
   {
    "duration": 6,
    "start_time": "2021-11-23T23:48:41.906Z"
   },
   {
    "duration": 14,
    "start_time": "2021-11-23T23:48:45.275Z"
   },
   {
    "duration": 1107,
    "start_time": "2021-11-24T00:56:49.852Z"
   },
   {
    "duration": 86,
    "start_time": "2021-11-24T00:56:50.961Z"
   },
   {
    "duration": 7,
    "start_time": "2021-11-24T00:56:51.218Z"
   },
   {
    "duration": 10,
    "start_time": "2021-11-24T00:56:52.754Z"
   },
   {
    "duration": 6,
    "start_time": "2021-11-24T00:56:53.188Z"
   },
   {
    "duration": 4,
    "start_time": "2021-11-24T00:56:53.438Z"
   },
   {
    "duration": 9,
    "start_time": "2021-11-24T00:56:53.773Z"
   },
   {
    "duration": 11,
    "start_time": "2021-11-24T00:56:54.973Z"
   },
   {
    "duration": 7,
    "start_time": "2021-11-24T00:56:55.191Z"
   },
   {
    "duration": 2,
    "start_time": "2021-11-24T00:56:55.913Z"
   },
   {
    "duration": 6,
    "start_time": "2021-11-24T00:56:58.146Z"
   },
   {
    "duration": 8,
    "start_time": "2021-11-24T00:56:58.410Z"
   },
   {
    "duration": 349,
    "start_time": "2021-11-24T00:56:58.700Z"
   },
   {
    "duration": 231,
    "start_time": "2021-11-24T00:56:59.199Z"
   },
   {
    "duration": 296,
    "start_time": "2021-11-24T00:57:00.325Z"
   },
   {
    "duration": 438,
    "start_time": "2021-11-24T00:57:01.055Z"
   },
   {
    "duration": 1632,
    "start_time": "2021-11-24T05:28:08.136Z"
   },
   {
    "duration": 63,
    "start_time": "2021-11-24T05:28:09.771Z"
   },
   {
    "duration": 9,
    "start_time": "2021-11-24T05:28:09.837Z"
   },
   {
    "duration": 26,
    "start_time": "2021-11-24T05:28:09.849Z"
   },
   {
    "duration": 8,
    "start_time": "2021-11-24T05:28:09.878Z"
   },
   {
    "duration": 5,
    "start_time": "2021-11-24T05:28:09.888Z"
   },
   {
    "duration": 15,
    "start_time": "2021-11-24T05:28:09.896Z"
   },
   {
    "duration": 60,
    "start_time": "2021-11-24T05:28:09.913Z"
   },
   {
    "duration": 9,
    "start_time": "2021-11-24T05:28:09.977Z"
   },
   {
    "duration": 4,
    "start_time": "2021-11-24T05:28:09.989Z"
   },
   {
    "duration": 12,
    "start_time": "2021-11-24T05:28:09.996Z"
   },
   {
    "duration": 11,
    "start_time": "2021-11-24T05:28:10.010Z"
   },
   {
    "duration": 649,
    "start_time": "2021-11-24T05:28:10.023Z"
   },
   {
    "duration": 435,
    "start_time": "2021-11-24T05:28:10.675Z"
   },
   {
    "duration": 511,
    "start_time": "2021-11-24T05:28:11.113Z"
   },
   {
    "duration": 756,
    "start_time": "2021-11-24T05:28:11.627Z"
   },
   {
    "duration": 17,
    "start_time": "2021-11-24T05:28:12.386Z"
   },
   {
    "duration": 18,
    "start_time": "2021-11-24T05:28:12.406Z"
   },
   {
    "duration": 46,
    "start_time": "2021-11-24T05:28:12.427Z"
   },
   {
    "duration": 17,
    "start_time": "2021-11-24T05:28:12.475Z"
   },
   {
    "duration": 14,
    "start_time": "2021-11-24T05:28:12.494Z"
   },
   {
    "duration": 19,
    "start_time": "2021-11-24T05:28:12.511Z"
   },
   {
    "duration": 10,
    "start_time": "2021-11-24T05:28:12.532Z"
   },
   {
    "duration": 14,
    "start_time": "2021-11-24T05:28:12.567Z"
   },
   {
    "duration": 1094,
    "start_time": "2021-11-24T05:28:12.674Z"
   },
   {
    "duration": 15,
    "start_time": "2021-11-24T05:28:13.771Z"
   },
   {
    "duration": 1578,
    "start_time": "2021-11-24T05:29:29.801Z"
   },
   {
    "duration": 14,
    "start_time": "2021-11-24T05:29:38.278Z"
   },
   {
    "duration": 412,
    "start_time": "2021-11-24T18:47:34.700Z"
   },
   {
    "duration": 1477,
    "start_time": "2021-11-24T18:47:40.949Z"
   },
   {
    "duration": 62,
    "start_time": "2021-11-24T18:47:42.429Z"
   },
   {
    "duration": 13,
    "start_time": "2021-11-24T18:47:42.495Z"
   },
   {
    "duration": 18,
    "start_time": "2021-11-24T18:47:42.511Z"
   },
   {
    "duration": 11,
    "start_time": "2021-11-24T18:47:42.531Z"
   },
   {
    "duration": 6,
    "start_time": "2021-11-24T18:47:42.544Z"
   },
   {
    "duration": 60,
    "start_time": "2021-11-24T18:47:42.552Z"
   },
   {
    "duration": 29,
    "start_time": "2021-11-24T18:47:42.615Z"
   },
   {
    "duration": 8,
    "start_time": "2021-11-24T18:47:42.648Z"
   },
   {
    "duration": 3,
    "start_time": "2021-11-24T18:47:42.660Z"
   },
   {
    "duration": 35,
    "start_time": "2021-11-24T18:47:42.666Z"
   },
   {
    "duration": 10,
    "start_time": "2021-11-24T18:47:42.704Z"
   },
   {
    "duration": 645,
    "start_time": "2021-11-24T18:47:42.717Z"
   },
   {
    "duration": 421,
    "start_time": "2021-11-24T18:47:43.365Z"
   },
   {
    "duration": 498,
    "start_time": "2021-11-24T18:47:43.789Z"
   },
   {
    "duration": 749,
    "start_time": "2021-11-24T18:47:44.290Z"
   },
   {
    "duration": 12,
    "start_time": "2021-11-24T18:47:45.042Z"
   },
   {
    "duration": 13,
    "start_time": "2021-11-24T18:47:45.058Z"
   },
   {
    "duration": 18,
    "start_time": "2021-11-24T18:47:45.101Z"
   },
   {
    "duration": 18,
    "start_time": "2021-11-24T18:47:45.122Z"
   },
   {
    "duration": 4,
    "start_time": "2021-11-24T18:47:45.143Z"
   },
   {
    "duration": 56,
    "start_time": "2021-11-24T18:47:45.150Z"
   },
   {
    "duration": 10,
    "start_time": "2021-11-24T18:47:45.208Z"
   },
   {
    "duration": 82,
    "start_time": "2021-11-24T18:47:45.220Z"
   },
   {
    "duration": 1201,
    "start_time": "2021-11-24T18:47:45.305Z"
   },
   {
    "duration": 15,
    "start_time": "2021-11-24T18:47:46.509Z"
   },
   {
    "duration": 626,
    "start_time": "2021-11-24T19:11:51.113Z"
   },
   {
    "duration": 8692,
    "start_time": "2021-11-24T19:12:25.133Z"
   },
   {
    "duration": 592,
    "start_time": "2021-11-24T19:12:49.227Z"
   },
   {
    "duration": 389,
    "start_time": "2021-11-24T19:15:37.135Z"
   },
   {
    "duration": 500,
    "start_time": "2021-11-24T19:16:01.183Z"
   },
   {
    "duration": 547,
    "start_time": "2021-11-24T19:16:20.247Z"
   },
   {
    "duration": 701,
    "start_time": "2021-11-24T19:16:26.868Z"
   },
   {
    "duration": 627,
    "start_time": "2021-11-24T19:16:30.047Z"
   },
   {
    "duration": 686,
    "start_time": "2021-11-24T19:16:38.650Z"
   },
   {
    "duration": 569,
    "start_time": "2021-11-24T19:16:39.339Z"
   },
   {
    "duration": 1503,
    "start_time": "2021-11-24T19:40:07.348Z"
   },
   {
    "duration": 69,
    "start_time": "2021-11-24T19:40:08.854Z"
   },
   {
    "duration": 14,
    "start_time": "2021-11-24T19:40:08.932Z"
   },
   {
    "duration": 20,
    "start_time": "2021-11-24T19:40:08.949Z"
   },
   {
    "duration": 36,
    "start_time": "2021-11-24T19:40:08.971Z"
   },
   {
    "duration": 12,
    "start_time": "2021-11-24T19:40:09.009Z"
   },
   {
    "duration": 14,
    "start_time": "2021-11-24T19:40:09.024Z"
   },
   {
    "duration": 19,
    "start_time": "2021-11-24T19:40:09.041Z"
   },
   {
    "duration": 44,
    "start_time": "2021-11-24T19:40:09.063Z"
   },
   {
    "duration": 6,
    "start_time": "2021-11-24T19:40:09.109Z"
   },
   {
    "duration": 13,
    "start_time": "2021-11-24T19:40:09.117Z"
   },
   {
    "duration": 10,
    "start_time": "2021-11-24T19:40:09.132Z"
   },
   {
    "duration": 651,
    "start_time": "2021-11-24T19:40:09.144Z"
   },
   {
    "duration": 529,
    "start_time": "2021-11-24T19:40:09.800Z"
   },
   {
    "duration": 509,
    "start_time": "2021-11-24T19:40:10.332Z"
   },
   {
    "duration": 755,
    "start_time": "2021-11-24T19:40:10.843Z"
   },
   {
    "duration": 573,
    "start_time": "2021-11-24T19:40:11.600Z"
   },
   {
    "duration": 28,
    "start_time": "2021-11-24T19:40:12.176Z"
   },
   {
    "duration": 17,
    "start_time": "2021-11-24T19:40:12.206Z"
   },
   {
    "duration": 12,
    "start_time": "2021-11-24T19:40:12.226Z"
   },
   {
    "duration": 61,
    "start_time": "2021-11-24T19:40:12.240Z"
   },
   {
    "duration": 9,
    "start_time": "2021-11-24T19:40:12.305Z"
   },
   {
    "duration": 20,
    "start_time": "2021-11-24T19:40:12.316Z"
   },
   {
    "duration": 9,
    "start_time": "2021-11-24T19:40:12.338Z"
   },
   {
    "duration": 57,
    "start_time": "2021-11-24T19:40:12.350Z"
   },
   {
    "duration": 1193,
    "start_time": "2021-11-24T19:40:12.411Z"
   },
   {
    "duration": 15,
    "start_time": "2021-11-24T19:40:13.606Z"
   },
   {
    "duration": 1568,
    "start_time": "2021-11-24T19:44:12.268Z"
   },
   {
    "duration": 63,
    "start_time": "2021-11-24T19:44:13.839Z"
   },
   {
    "duration": 11,
    "start_time": "2021-11-24T19:44:13.908Z"
   },
   {
    "duration": 17,
    "start_time": "2021-11-24T19:44:13.921Z"
   },
   {
    "duration": 7,
    "start_time": "2021-11-24T19:44:13.941Z"
   },
   {
    "duration": 5,
    "start_time": "2021-11-24T19:44:13.951Z"
   },
   {
    "duration": 51,
    "start_time": "2021-11-24T19:44:13.960Z"
   },
   {
    "duration": 19,
    "start_time": "2021-11-24T19:44:14.014Z"
   },
   {
    "duration": 8,
    "start_time": "2021-11-24T19:44:14.036Z"
   },
   {
    "duration": 4,
    "start_time": "2021-11-24T19:44:14.047Z"
   },
   {
    "duration": 9,
    "start_time": "2021-11-24T19:44:14.054Z"
   },
   {
    "duration": 43,
    "start_time": "2021-11-24T19:44:14.065Z"
   },
   {
    "duration": 646,
    "start_time": "2021-11-24T19:44:14.111Z"
   },
   {
    "duration": 445,
    "start_time": "2021-11-24T19:44:14.759Z"
   },
   {
    "duration": 504,
    "start_time": "2021-11-24T19:44:15.206Z"
   },
   {
    "duration": 823,
    "start_time": "2021-11-24T19:44:15.712Z"
   },
   {
    "duration": 567,
    "start_time": "2021-11-24T19:44:16.538Z"
   },
   {
    "duration": 14,
    "start_time": "2021-11-24T19:44:17.107Z"
   },
   {
    "duration": 41,
    "start_time": "2021-11-24T19:44:17.123Z"
   },
   {
    "duration": 16,
    "start_time": "2021-11-24T19:44:17.167Z"
   },
   {
    "duration": 2,
    "start_time": "2021-11-24T19:44:17.186Z"
   },
   {
    "duration": 8,
    "start_time": "2021-11-24T19:44:17.192Z"
   },
   {
    "duration": 25,
    "start_time": "2021-11-24T19:44:17.202Z"
   },
   {
    "duration": 13,
    "start_time": "2021-11-24T19:44:17.230Z"
   },
   {
    "duration": 14,
    "start_time": "2021-11-24T19:44:17.246Z"
   },
   {
    "duration": 3208,
    "start_time": "2021-11-24T19:44:17.301Z"
   },
   {
    "duration": 88,
    "start_time": "2021-11-24T19:44:20.512Z"
   },
   {
    "duration": 1655,
    "start_time": "2021-11-24T19:48:20.551Z"
   },
   {
    "duration": 4,
    "start_time": "2021-11-24T19:51:06.003Z"
   },
   {
    "duration": 500,
    "start_time": "2021-11-24T19:51:06.790Z"
   },
   {
    "duration": 929,
    "start_time": "2021-11-24T19:51:14.772Z"
   },
   {
    "duration": 1523,
    "start_time": "2021-11-24T19:52:03.888Z"
   },
   {
    "duration": 62,
    "start_time": "2021-11-24T19:52:05.415Z"
   },
   {
    "duration": 10,
    "start_time": "2021-11-24T19:52:05.481Z"
   },
   {
    "duration": 15,
    "start_time": "2021-11-24T19:52:05.502Z"
   },
   {
    "duration": 16,
    "start_time": "2021-11-24T19:52:05.519Z"
   },
   {
    "duration": 10,
    "start_time": "2021-11-24T19:52:05.538Z"
   },
   {
    "duration": 15,
    "start_time": "2021-11-24T19:52:05.551Z"
   },
   {
    "duration": 47,
    "start_time": "2021-11-24T19:52:05.568Z"
   },
   {
    "duration": 8,
    "start_time": "2021-11-24T19:52:05.619Z"
   },
   {
    "duration": 7,
    "start_time": "2021-11-24T19:52:05.630Z"
   },
   {
    "duration": 12,
    "start_time": "2021-11-24T19:52:05.639Z"
   },
   {
    "duration": 11,
    "start_time": "2021-11-24T19:52:05.653Z"
   },
   {
    "duration": 643,
    "start_time": "2021-11-24T19:52:05.667Z"
   },
   {
    "duration": 418,
    "start_time": "2021-11-24T19:52:06.313Z"
   },
   {
    "duration": 484,
    "start_time": "2021-11-24T19:52:06.734Z"
   },
   {
    "duration": 887,
    "start_time": "2021-11-24T19:52:07.222Z"
   },
   {
    "duration": 565,
    "start_time": "2021-11-24T19:52:08.112Z"
   },
   {
    "duration": 25,
    "start_time": "2021-11-24T19:52:08.680Z"
   },
   {
    "duration": 65,
    "start_time": "2021-11-24T19:52:08.707Z"
   },
   {
    "duration": 69,
    "start_time": "2021-11-24T19:52:08.774Z"
   },
   {
    "duration": 3,
    "start_time": "2021-11-24T19:52:08.846Z"
   },
   {
    "duration": 7,
    "start_time": "2021-11-24T19:52:08.851Z"
   },
   {
    "duration": 14,
    "start_time": "2021-11-24T19:52:08.861Z"
   },
   {
    "duration": 11,
    "start_time": "2021-11-24T19:52:08.877Z"
   },
   {
    "duration": 21,
    "start_time": "2021-11-24T19:52:08.890Z"
   },
   {
    "duration": 19802,
    "start_time": "2021-11-24T19:52:09.005Z"
   },
   {
    "duration": 5,
    "start_time": "2021-11-24T19:52:28.814Z"
   },
   {
    "duration": 482,
    "start_time": "2021-11-24T19:52:28.822Z"
   },
   {
    "duration": -1614,
    "start_time": "2021-11-24T19:52:30.921Z"
   },
   {
    "duration": -1614,
    "start_time": "2021-11-24T19:52:30.922Z"
   },
   {
    "duration": -1614,
    "start_time": "2021-11-24T19:52:30.924Z"
   },
   {
    "duration": 4,
    "start_time": "2021-11-24T19:52:38.014Z"
   },
   {
    "duration": 133071,
    "start_time": "2021-11-24T19:52:42.232Z"
   },
   {
    "duration": 315,
    "start_time": "2021-11-24T19:55:32.201Z"
   },
   {
    "duration": 514,
    "start_time": "2021-11-24T19:55:43.895Z"
   },
   {
    "duration": 217,
    "start_time": "2021-11-24T19:55:50.091Z"
   },
   {
    "duration": 24,
    "start_time": "2021-11-24T19:55:53.759Z"
   },
   {
    "duration": 1245,
    "start_time": "2021-11-24T19:55:57.667Z"
   },
   {
    "duration": 1162,
    "start_time": "2021-11-24T19:56:04.139Z"
   },
   {
    "duration": 5,
    "start_time": "2021-11-24T19:56:27.631Z"
   },
   {
    "duration": 3,
    "start_time": "2021-11-24T19:56:29.516Z"
   },
   {
    "duration": 448,
    "start_time": "2021-11-24T19:56:47.534Z"
   },
   {
    "duration": 422,
    "start_time": "2021-11-24T19:56:57.911Z"
   },
   {
    "duration": 1148,
    "start_time": "2021-11-24T19:58:14.855Z"
   },
   {
    "duration": 2726,
    "start_time": "2021-11-24T19:58:22.787Z"
   },
   {
    "duration": 1523,
    "start_time": "2021-11-24T19:58:37.980Z"
   },
   {
    "duration": 66,
    "start_time": "2021-11-24T19:58:39.506Z"
   },
   {
    "duration": 10,
    "start_time": "2021-11-24T19:58:39.576Z"
   },
   {
    "duration": 20,
    "start_time": "2021-11-24T19:58:39.590Z"
   },
   {
    "duration": 15,
    "start_time": "2021-11-24T19:58:39.612Z"
   },
   {
    "duration": 5,
    "start_time": "2021-11-24T19:58:39.630Z"
   },
   {
    "duration": 16,
    "start_time": "2021-11-24T19:58:39.637Z"
   },
   {
    "duration": 51,
    "start_time": "2021-11-24T19:58:39.656Z"
   },
   {
    "duration": 9,
    "start_time": "2021-11-24T19:58:39.711Z"
   },
   {
    "duration": 7,
    "start_time": "2021-11-24T19:58:39.723Z"
   },
   {
    "duration": 11,
    "start_time": "2021-11-24T19:58:39.732Z"
   },
   {
    "duration": 10,
    "start_time": "2021-11-24T19:58:39.745Z"
   },
   {
    "duration": 665,
    "start_time": "2021-11-24T19:58:39.758Z"
   },
   {
    "duration": 425,
    "start_time": "2021-11-24T19:58:40.425Z"
   },
   {
    "duration": 480,
    "start_time": "2021-11-24T19:58:40.853Z"
   },
   {
    "duration": 741,
    "start_time": "2021-11-24T19:58:41.336Z"
   },
   {
    "duration": 549,
    "start_time": "2021-11-24T19:58:42.080Z"
   },
   {
    "duration": 12,
    "start_time": "2021-11-24T19:58:42.632Z"
   },
   {
    "duration": 12,
    "start_time": "2021-11-24T19:58:42.647Z"
   },
   {
    "duration": 45,
    "start_time": "2021-11-24T19:58:42.662Z"
   },
   {
    "duration": 3,
    "start_time": "2021-11-24T19:58:42.710Z"
   },
   {
    "duration": 7,
    "start_time": "2021-11-24T19:58:42.716Z"
   },
   {
    "duration": 15,
    "start_time": "2021-11-24T19:58:42.726Z"
   },
   {
    "duration": 11,
    "start_time": "2021-11-24T19:58:42.744Z"
   },
   {
    "duration": 57,
    "start_time": "2021-11-24T19:58:42.758Z"
   },
   {
    "duration": 1206,
    "start_time": "2021-11-24T19:58:42.904Z"
   },
   {
    "duration": 4,
    "start_time": "2021-11-24T19:58:44.116Z"
   },
   {
    "duration": 4,
    "start_time": "2021-11-24T19:58:44.200Z"
   },
   {
    "duration": 24505,
    "start_time": "2021-11-24T19:58:44.206Z"
   },
   {
    "duration": 1300,
    "start_time": "2021-11-24T19:59:08.713Z"
   },
   {
    "duration": 14,
    "start_time": "2021-11-24T19:59:10.100Z"
   },
   {
    "duration": 1643,
    "start_time": "2021-11-24T20:00:03.358Z"
   },
   {
    "duration": 1562,
    "start_time": "2021-11-24T20:00:12.345Z"
   },
   {
    "duration": 1567,
    "start_time": "2021-11-24T20:00:34.635Z"
   },
   {
    "duration": 1665,
    "start_time": "2021-11-24T20:00:59.437Z"
   },
   {
    "duration": 15,
    "start_time": "2021-11-24T20:02:25.936Z"
   },
   {
    "duration": 14,
    "start_time": "2021-11-24T20:11:28.399Z"
   },
   {
    "duration": 6,
    "start_time": "2021-11-24T20:11:47.539Z"
   },
   {
    "duration": 5,
    "start_time": "2021-11-24T20:12:03.140Z"
   },
   {
    "duration": 6,
    "start_time": "2021-11-24T20:12:09.122Z"
   },
   {
    "duration": 13,
    "start_time": "2021-11-24T20:12:36.182Z"
   },
   {
    "duration": 6,
    "start_time": "2021-11-24T20:14:55.441Z"
   },
   {
    "duration": 18,
    "start_time": "2021-11-24T20:15:00.957Z"
   },
   {
    "duration": 6,
    "start_time": "2021-11-24T20:16:46.655Z"
   },
   {
    "duration": 23,
    "start_time": "2021-11-24T20:16:52.857Z"
   },
   {
    "duration": 6,
    "start_time": "2021-11-24T20:18:08.729Z"
   },
   {
    "duration": 7,
    "start_time": "2021-11-24T20:18:29.671Z"
   },
   {
    "duration": 13,
    "start_time": "2021-11-24T20:18:32.782Z"
   },
   {
    "duration": 1547,
    "start_time": "2021-11-24T20:19:09.790Z"
   },
   {
    "duration": 65,
    "start_time": "2021-11-24T20:19:11.340Z"
   },
   {
    "duration": 10,
    "start_time": "2021-11-24T20:19:11.412Z"
   },
   {
    "duration": 15,
    "start_time": "2021-11-24T20:19:11.424Z"
   },
   {
    "duration": 10,
    "start_time": "2021-11-24T20:19:11.441Z"
   },
   {
    "duration": 47,
    "start_time": "2021-11-24T20:19:11.453Z"
   },
   {
    "duration": 13,
    "start_time": "2021-11-24T20:19:11.503Z"
   },
   {
    "duration": 18,
    "start_time": "2021-11-24T20:19:11.520Z"
   },
   {
    "duration": 9,
    "start_time": "2021-11-24T20:19:11.543Z"
   },
   {
    "duration": 5,
    "start_time": "2021-11-24T20:19:11.555Z"
   },
   {
    "duration": 10,
    "start_time": "2021-11-24T20:19:11.601Z"
   },
   {
    "duration": 15,
    "start_time": "2021-11-24T20:19:11.613Z"
   },
   {
    "duration": 643,
    "start_time": "2021-11-24T20:19:11.631Z"
   },
   {
    "duration": 429,
    "start_time": "2021-11-24T20:19:12.278Z"
   },
   {
    "duration": 487,
    "start_time": "2021-11-24T20:19:12.709Z"
   },
   {
    "duration": 755,
    "start_time": "2021-11-24T20:19:13.201Z"
   },
   {
    "duration": 571,
    "start_time": "2021-11-24T20:19:13.958Z"
   },
   {
    "duration": 13,
    "start_time": "2021-11-24T20:19:14.531Z"
   },
   {
    "duration": 17,
    "start_time": "2021-11-24T20:19:14.546Z"
   },
   {
    "duration": 43,
    "start_time": "2021-11-24T20:19:14.565Z"
   },
   {
    "duration": 3,
    "start_time": "2021-11-24T20:19:14.611Z"
   },
   {
    "duration": 15,
    "start_time": "2021-11-24T20:19:14.616Z"
   },
   {
    "duration": 20,
    "start_time": "2021-11-24T20:19:14.633Z"
   },
   {
    "duration": 12,
    "start_time": "2021-11-24T20:19:14.655Z"
   },
   {
    "duration": 45,
    "start_time": "2021-11-24T20:19:14.669Z"
   },
   {
    "duration": 1504,
    "start_time": "2021-11-24T20:19:14.807Z"
   },
   {
    "duration": 86,
    "start_time": "2021-11-24T20:19:16.314Z"
   },
   {
    "duration": 5,
    "start_time": "2021-11-24T20:19:16.403Z"
   },
   {
    "duration": 23990,
    "start_time": "2021-11-24T20:19:16.410Z"
   },
   {
    "duration": 1305,
    "start_time": "2021-11-24T20:19:40.403Z"
   },
   {
    "duration": 14,
    "start_time": "2021-11-24T20:19:41.710Z"
   },
   {
    "duration": 76,
    "start_time": "2021-11-24T20:19:41.726Z"
   },
   {
    "duration": 14,
    "start_time": "2021-11-24T20:19:41.805Z"
   },
   {
    "duration": 7,
    "start_time": "2021-11-24T20:19:41.821Z"
   },
   {
    "duration": 9,
    "start_time": "2021-11-24T20:21:33.000Z"
   },
   {
    "duration": 15,
    "start_time": "2021-11-24T20:21:33.843Z"
   },
   {
    "duration": 557,
    "start_time": "2021-11-24T20:21:43.624Z"
   },
   {
    "duration": 361,
    "start_time": "2021-11-24T20:23:52.453Z"
   },
   {
    "duration": 1554,
    "start_time": "2021-11-24T20:26:16.743Z"
   },
   {
    "duration": 65,
    "start_time": "2021-11-24T20:26:18.301Z"
   },
   {
    "duration": 11,
    "start_time": "2021-11-24T20:26:18.373Z"
   },
   {
    "duration": 28,
    "start_time": "2021-11-24T20:26:18.387Z"
   },
   {
    "duration": 17,
    "start_time": "2021-11-24T20:26:18.417Z"
   },
   {
    "duration": 13,
    "start_time": "2021-11-24T20:26:18.436Z"
   },
   {
    "duration": 21,
    "start_time": "2021-11-24T20:26:18.451Z"
   },
   {
    "duration": 38,
    "start_time": "2021-11-24T20:26:18.478Z"
   },
   {
    "duration": 9,
    "start_time": "2021-11-24T20:26:18.520Z"
   },
   {
    "duration": 9,
    "start_time": "2021-11-24T20:26:18.532Z"
   },
   {
    "duration": 14,
    "start_time": "2021-11-24T20:26:18.543Z"
   },
   {
    "duration": 46,
    "start_time": "2021-11-24T20:26:18.560Z"
   },
   {
    "duration": 624,
    "start_time": "2021-11-24T20:26:18.608Z"
   },
   {
    "duration": 435,
    "start_time": "2021-11-24T20:26:19.235Z"
   },
   {
    "duration": 489,
    "start_time": "2021-11-24T20:26:19.674Z"
   },
   {
    "duration": 752,
    "start_time": "2021-11-24T20:26:20.166Z"
   },
   {
    "duration": 579,
    "start_time": "2021-11-24T20:26:20.921Z"
   },
   {
    "duration": 15,
    "start_time": "2021-11-24T20:26:21.503Z"
   },
   {
    "duration": 23,
    "start_time": "2021-11-24T20:26:21.520Z"
   },
   {
    "duration": 33,
    "start_time": "2021-11-24T20:26:21.546Z"
   },
   {
    "duration": 9,
    "start_time": "2021-11-24T20:26:21.581Z"
   },
   {
    "duration": 17,
    "start_time": "2021-11-24T20:26:21.592Z"
   },
   {
    "duration": 17,
    "start_time": "2021-11-24T20:26:21.611Z"
   },
   {
    "duration": 14,
    "start_time": "2021-11-24T20:26:21.630Z"
   },
   {
    "duration": 58,
    "start_time": "2021-11-24T20:26:21.647Z"
   },
   {
    "duration": 1293,
    "start_time": "2021-11-24T20:26:21.712Z"
   },
   {
    "duration": 3,
    "start_time": "2021-11-24T20:26:23.008Z"
   },
   {
    "duration": 21,
    "start_time": "2021-11-24T20:26:23.014Z"
   },
   {
    "duration": 23565,
    "start_time": "2021-11-24T20:26:23.037Z"
   },
   {
    "duration": 1801,
    "start_time": "2021-11-24T20:26:46.604Z"
   },
   {
    "duration": 14,
    "start_time": "2021-11-24T20:26:48.408Z"
   },
   {
    "duration": 15,
    "start_time": "2021-11-24T20:26:48.424Z"
   },
   {
    "duration": 370,
    "start_time": "2021-11-24T20:26:48.502Z"
   },
   {
    "duration": 8,
    "start_time": "2021-11-24T20:26:48.876Z"
   },
   {
    "duration": 369,
    "start_time": "2021-11-24T20:26:48.887Z"
   }
  ],
  "kernelspec": {
   "display_name": "Python 3",
   "language": "python",
   "name": "python3"
  },
  "language_info": {
   "codemirror_mode": {
    "name": "ipython",
    "version": 3
   },
   "file_extension": ".py",
   "mimetype": "text/x-python",
   "name": "python",
   "nbconvert_exporter": "python",
   "pygments_lexer": "ipython3",
   "version": "3.8.8"
  },
  "toc": {
   "base_numbering": 1,
   "nav_menu": {},
   "number_sections": true,
   "sideBar": true,
   "skip_h1_title": true,
   "title_cell": "Содержание",
   "title_sidebar": "Contents",
   "toc_cell": true,
   "toc_position": {},
   "toc_section_display": true,
   "toc_window_display": true
  }
 },
 "nbformat": 4,
 "nbformat_minor": 2
}
