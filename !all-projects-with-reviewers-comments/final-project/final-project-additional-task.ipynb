{
 "cells": [
  {
   "cell_type": "code",
   "execution_count": 1,
   "metadata": {},
   "outputs": [
    {
     "name": "stdout",
     "output_type": "stream",
     "text": [
      "C:\\Users\\Алекс\\Downloads\\final_steel\\final_steel\n"
     ]
    }
   ],
   "source": [
    "import os\n",
    "print(os.getcwd())"
   ]
  },
  {
   "cell_type": "markdown",
   "metadata": {},
   "source": [
    "# Промышленность — доп. задание\n",
    "\n",
    "**Формулировка**"
   ]
  },
  {
   "cell_type": "markdown",
   "metadata": {},
   "source": [
    "Вам поручили изучить характеристики процесса обработки стали. Для каждого значения столбца key найдите:\n",
    "\n",
    "- Длительность времени между первым и последним замером температуры.\n",
    "\n",
    "- Суммарное время нагрева электродами, то есть сумму значений по всем промежуткам между запусками нагрева электродов.\n",
    "\n",
    "- Количество запусков нагрева электродами.\n",
    "\n",
    "- Среднее соотношение потребления активной и реактивной мощности.\n",
    "\n",
    "По всем полученным столбцам вычислите статистики: средние, минимальные и максимальные значения, медиану и величины 25%- и 75%-квартилей. - **вычисление данных параметров при помощи функции describe()**"
   ]
  },
  {
   "cell_type": "markdown",
   "metadata": {},
   "source": [
    "**Импорты**"
   ]
  },
  {
   "cell_type": "code",
   "execution_count": 2,
   "metadata": {},
   "outputs": [],
   "source": [
    "import pandas as pd\n",
    "import seaborn as sns\n",
    "\n",
    "import numpy as np\n",
    "import matplotlib.pyplot as plt\n",
    "\n",
    "from datetime import datetime\n",
    "import time"
   ]
  },
  {
   "cell_type": "markdown",
   "metadata": {},
   "source": [
    "Данные состоят из файлов, полученных из разных источников:\n",
    "\n",
    "- `data_arc.csv` — данные об электродах;\n",
    "\n",
    "- `data_bulk.csv` — данные о подаче сыпучих материалов (объём);\n",
    "\n",
    "- `data_bulk_time.csv` *—* данные о подаче сыпучих материалов (время);\n",
    "\n",
    "- `data_gas.csv` — данные о продувке сплава газом;\n",
    "\n",
    "- `data_temp.csv` — результаты измерения температуры;\n",
    "\n",
    "- `data_wire.csv` — данные о проволочных материалах (объём);\n",
    "\n",
    "- `data_wire_time.csv` — данные о проволочных материалах (время).\n",
    "\n",
    "Во всех файлах столбец `key` содержит номер партии. В файлах может быть несколько строк с одинаковым значением `key`: они соответствуют разным итерациям обработки."
   ]
  },
  {
   "cell_type": "code",
   "execution_count": 3,
   "metadata": {},
   "outputs": [],
   "source": [
    "data_arc = pd.read_csv('data_arc.csv')\n",
    "data_bulk = pd.read_csv('data_bulk.csv')\n",
    "data_bulk_time = pd.read_csv('data_bulk_time.csv')\n",
    "data_gas = pd.read_csv('data_gas.csv')\n",
    "data_temp = pd.read_csv('data_temp.csv')\n",
    "data_wire = pd.read_csv('data_wire.csv')\n",
    "data_wire_time = pd.read_csv('data_wire_time.csv')"
   ]
  },
  {
   "cell_type": "markdown",
   "metadata": {},
   "source": [
    "***НОВАЯ ТАБЛИЧКА***"
   ]
  },
  {
   "cell_type": "code",
   "execution_count": 4,
   "metadata": {},
   "outputs": [],
   "source": [
    "df = pd.DataFrame()"
   ]
  },
  {
   "cell_type": "markdown",
   "metadata": {},
   "source": [
    "## Длительность времени между первым и последним замером температуры. (в секундах)"
   ]
  },
  {
   "cell_type": "code",
   "execution_count": 5,
   "metadata": {},
   "outputs": [],
   "source": [
    "keys = list(data_temp['key'].unique())"
   ]
  },
  {
   "cell_type": "code",
   "execution_count": 6,
   "metadata": {},
   "outputs": [],
   "source": [
    "duration = list()\n",
    "\n",
    "for key in keys:\n",
    "    subtable = data_temp[data_temp['key'] == key]\n",
    "    time_end = datetime.strptime((list(subtable['Время замера'])[-1]), '%Y-%m-%d %H:%M:%S')\n",
    "    time_begin = datetime.strptime((list(subtable['Время замера'])[0]), '%Y-%m-%d %H:%M:%S')\n",
    "    difference = time_end - time_begin\n",
    "    duration.append(sum(int(i) * 60**index for index, i in enumerate(str(difference).split(\":\")[::-1])))"
   ]
  },
  {
   "cell_type": "code",
   "execution_count": 7,
   "metadata": {},
   "outputs": [],
   "source": [
    "df['duration'] = duration"
   ]
  },
  {
   "cell_type": "code",
   "execution_count": 8,
   "metadata": {
    "scrolled": true
   },
   "outputs": [
    {
     "data": {
      "text/plain": [
       "count     3216.000000\n",
       "mean      1839.861629\n",
       "std       1246.950298\n",
       "min          0.000000\n",
       "25%       1177.000000\n",
       "50%       1581.000000\n",
       "75%       2235.000000\n",
       "max      23537.000000\n",
       "Name: duration, dtype: float64"
      ]
     },
     "execution_count": 8,
     "metadata": {},
     "output_type": "execute_result"
    }
   ],
   "source": [
    "df['duration'].describe()"
   ]
  },
  {
   "cell_type": "markdown",
   "metadata": {},
   "source": [
    "## Суммарное время нагрева электродами, то есть сумму значений по всем промежуткам между запусками нагрева электродов."
   ]
  },
  {
   "cell_type": "code",
   "execution_count": 9,
   "metadata": {},
   "outputs": [
    {
     "data": {
      "text/html": [
       "<div>\n",
       "<style scoped>\n",
       "    .dataframe tbody tr th:only-of-type {\n",
       "        vertical-align: middle;\n",
       "    }\n",
       "\n",
       "    .dataframe tbody tr th {\n",
       "        vertical-align: top;\n",
       "    }\n",
       "\n",
       "    .dataframe thead th {\n",
       "        text-align: right;\n",
       "    }\n",
       "</style>\n",
       "<table border=\"1\" class=\"dataframe\">\n",
       "  <thead>\n",
       "    <tr style=\"text-align: right;\">\n",
       "      <th></th>\n",
       "      <th>key</th>\n",
       "      <th>Начало нагрева дугой</th>\n",
       "      <th>Конец нагрева дугой</th>\n",
       "      <th>Активная мощность</th>\n",
       "      <th>Реактивная мощность</th>\n",
       "    </tr>\n",
       "  </thead>\n",
       "  <tbody>\n",
       "    <tr>\n",
       "      <th>0</th>\n",
       "      <td>1</td>\n",
       "      <td>2019-05-03 11:02:14</td>\n",
       "      <td>2019-05-03 11:06:02</td>\n",
       "      <td>0.976059</td>\n",
       "      <td>0.687084</td>\n",
       "    </tr>\n",
       "    <tr>\n",
       "      <th>1</th>\n",
       "      <td>1</td>\n",
       "      <td>2019-05-03 11:07:28</td>\n",
       "      <td>2019-05-03 11:10:33</td>\n",
       "      <td>0.805607</td>\n",
       "      <td>0.520285</td>\n",
       "    </tr>\n",
       "    <tr>\n",
       "      <th>2</th>\n",
       "      <td>1</td>\n",
       "      <td>2019-05-03 11:11:44</td>\n",
       "      <td>2019-05-03 11:14:36</td>\n",
       "      <td>0.744363</td>\n",
       "      <td>0.498805</td>\n",
       "    </tr>\n",
       "    <tr>\n",
       "      <th>3</th>\n",
       "      <td>1</td>\n",
       "      <td>2019-05-03 11:18:14</td>\n",
       "      <td>2019-05-03 11:24:19</td>\n",
       "      <td>1.659363</td>\n",
       "      <td>1.062669</td>\n",
       "    </tr>\n",
       "    <tr>\n",
       "      <th>4</th>\n",
       "      <td>1</td>\n",
       "      <td>2019-05-03 11:26:09</td>\n",
       "      <td>2019-05-03 11:28:37</td>\n",
       "      <td>0.692755</td>\n",
       "      <td>0.414397</td>\n",
       "    </tr>\n",
       "    <tr>\n",
       "      <th>5</th>\n",
       "      <td>2</td>\n",
       "      <td>2019-05-03 11:34:14</td>\n",
       "      <td>2019-05-03 11:36:31</td>\n",
       "      <td>0.438063</td>\n",
       "      <td>0.283043</td>\n",
       "    </tr>\n",
       "    <tr>\n",
       "      <th>6</th>\n",
       "      <td>2</td>\n",
       "      <td>2019-05-03 11:38:50</td>\n",
       "      <td>2019-05-03 11:44:28</td>\n",
       "      <td>1.296415</td>\n",
       "      <td>0.892914</td>\n",
       "    </tr>\n",
       "    <tr>\n",
       "      <th>7</th>\n",
       "      <td>2</td>\n",
       "      <td>2019-05-03 11:46:19</td>\n",
       "      <td>2019-05-03 11:48:25</td>\n",
       "      <td>0.490377</td>\n",
       "      <td>0.305281</td>\n",
       "    </tr>\n",
       "    <tr>\n",
       "      <th>8</th>\n",
       "      <td>2</td>\n",
       "      <td>2019-05-03 11:49:48</td>\n",
       "      <td>2019-05-03 11:53:18</td>\n",
       "      <td>0.827743</td>\n",
       "      <td>0.516874</td>\n",
       "    </tr>\n",
       "    <tr>\n",
       "      <th>9</th>\n",
       "      <td>3</td>\n",
       "      <td>2019-05-03 12:06:54</td>\n",
       "      <td>2019-05-03 12:11:34</td>\n",
       "      <td>1.062053</td>\n",
       "      <td>0.671494</td>\n",
       "    </tr>\n",
       "  </tbody>\n",
       "</table>\n",
       "</div>"
      ],
      "text/plain": [
       "   key Начало нагрева дугой  Конец нагрева дугой  Активная мощность  \\\n",
       "0    1  2019-05-03 11:02:14  2019-05-03 11:06:02           0.976059   \n",
       "1    1  2019-05-03 11:07:28  2019-05-03 11:10:33           0.805607   \n",
       "2    1  2019-05-03 11:11:44  2019-05-03 11:14:36           0.744363   \n",
       "3    1  2019-05-03 11:18:14  2019-05-03 11:24:19           1.659363   \n",
       "4    1  2019-05-03 11:26:09  2019-05-03 11:28:37           0.692755   \n",
       "5    2  2019-05-03 11:34:14  2019-05-03 11:36:31           0.438063   \n",
       "6    2  2019-05-03 11:38:50  2019-05-03 11:44:28           1.296415   \n",
       "7    2  2019-05-03 11:46:19  2019-05-03 11:48:25           0.490377   \n",
       "8    2  2019-05-03 11:49:48  2019-05-03 11:53:18           0.827743   \n",
       "9    3  2019-05-03 12:06:54  2019-05-03 12:11:34           1.062053   \n",
       "\n",
       "   Реактивная мощность  \n",
       "0             0.687084  \n",
       "1             0.520285  \n",
       "2             0.498805  \n",
       "3             1.062669  \n",
       "4             0.414397  \n",
       "5             0.283043  \n",
       "6             0.892914  \n",
       "7             0.305281  \n",
       "8             0.516874  \n",
       "9             0.671494  "
      ]
     },
     "execution_count": 9,
     "metadata": {},
     "output_type": "execute_result"
    }
   ],
   "source": [
    "data_arc.head(10)"
   ]
  },
  {
   "cell_type": "code",
   "execution_count": 10,
   "metadata": {},
   "outputs": [
    {
     "name": "stdout",
     "output_type": "stream",
     "text": [
      "<class 'pandas.core.frame.DataFrame'>\n",
      "RangeIndex: 14876 entries, 0 to 14875\n",
      "Data columns (total 5 columns):\n",
      " #   Column                Non-Null Count  Dtype  \n",
      "---  ------                --------------  -----  \n",
      " 0   key                   14876 non-null  int64  \n",
      " 1   Начало нагрева дугой  14876 non-null  object \n",
      " 2   Конец нагрева дугой   14876 non-null  object \n",
      " 3   Активная мощность     14876 non-null  float64\n",
      " 4   Реактивная мощность   14876 non-null  float64\n",
      "dtypes: float64(2), int64(1), object(2)\n",
      "memory usage: 581.2+ KB\n"
     ]
    }
   ],
   "source": [
    "data_arc.info()"
   ]
  },
  {
   "cell_type": "code",
   "execution_count": 11,
   "metadata": {},
   "outputs": [],
   "source": [
    "data_arc['Начало нагрева дугой'] = pd.to_datetime(data_arc['Начало нагрева дугой'], format='%Y-%m-%d %H:%M:%S') \n",
    "data_arc['Конец нагрева дугой'] = pd.to_datetime(data_arc['Конец нагрева дугой'], format='%Y-%m-%d %H:%M:%S') "
   ]
  },
  {
   "cell_type": "code",
   "execution_count": 12,
   "metadata": {},
   "outputs": [],
   "source": [
    "data_arc['Дельта'] = data_arc['Конец нагрева дугой'] - data_arc['Начало нагрева дугой']"
   ]
  },
  {
   "cell_type": "code",
   "execution_count": 13,
   "metadata": {},
   "outputs": [],
   "source": [
    "summa = list()\n",
    "\n",
    "for key in keys:\n",
    "    subtable = data_arc[data_arc['key'] == key]\n",
    "    summ = subtable['Дельта'].sum()\n",
    "    summa.append(sum(int(i) * 60**index for index, i in enumerate(str(summ).replace(' days 0', '').split(\":\")[::-1])))"
   ]
  },
  {
   "cell_type": "code",
   "execution_count": 14,
   "metadata": {},
   "outputs": [],
   "source": [
    "df['summa'] = summa"
   ]
  },
  {
   "cell_type": "code",
   "execution_count": 15,
   "metadata": {},
   "outputs": [
    {
     "data": {
      "text/plain": [
       "count    3216.000000\n",
       "mean      794.084888\n",
       "std       332.935196\n",
       "min         0.000000\n",
       "25%       571.000000\n",
       "50%       769.500000\n",
       "75%       983.000000\n",
       "max      4189.000000\n",
       "Name: summa, dtype: float64"
      ]
     },
     "execution_count": 15,
     "metadata": {},
     "output_type": "execute_result"
    }
   ],
   "source": [
    "df['summa'].describe()"
   ]
  },
  {
   "cell_type": "markdown",
   "metadata": {},
   "source": [
    "## Количество запусков нагрева электродами."
   ]
  },
  {
   "cell_type": "code",
   "execution_count": 16,
   "metadata": {},
   "outputs": [],
   "source": [
    "kolvo = list()\n",
    "\n",
    "for key in keys:\n",
    "    subtable = data_arc[data_arc['key'] == key]\n",
    "    kolvo.append(len(subtable))"
   ]
  },
  {
   "cell_type": "code",
   "execution_count": 17,
   "metadata": {},
   "outputs": [],
   "source": [
    "df['launch count'] = kolvo"
   ]
  },
  {
   "cell_type": "code",
   "execution_count": 18,
   "metadata": {},
   "outputs": [
    {
     "data": {
      "text/plain": [
       "count    3216.000000\n",
       "mean        4.625622\n",
       "std         1.612283\n",
       "min         0.000000\n",
       "25%         4.000000\n",
       "50%         4.000000\n",
       "75%         6.000000\n",
       "max        16.000000\n",
       "Name: launch count, dtype: float64"
      ]
     },
     "execution_count": 18,
     "metadata": {},
     "output_type": "execute_result"
    }
   ],
   "source": [
    "df['launch count'].describe()"
   ]
  },
  {
   "cell_type": "markdown",
   "metadata": {},
   "source": [
    "## Среднее соотношение потребления активной и реактивной мощности."
   ]
  },
  {
   "cell_type": "markdown",
   "metadata": {},
   "source": [
    "***Потребление (Сумма) = Активная мощность + Реактивная мощность***"
   ]
  },
  {
   "cell_type": "code",
   "execution_count": 19,
   "metadata": {},
   "outputs": [],
   "source": [
    "data_arc['Потребление'] = data_arc['Активная мощность'] + data_arc['Реактивная мощность']"
   ]
  },
  {
   "cell_type": "code",
   "execution_count": 20,
   "metadata": {},
   "outputs": [],
   "source": [
    "data_arc['active ratio'] = data_arc['Активная мощность'] / data_arc['Потребление']\n",
    "data_arc['reactive ratio'] = data_arc['Реактивная мощность'] / data_arc['Потребление']"
   ]
  },
  {
   "cell_type": "code",
   "execution_count": 21,
   "metadata": {},
   "outputs": [],
   "source": [
    "mean_active_ratio = list()\n",
    "mean_reactive_ratio = list()\n",
    "\n",
    "for key in keys:\n",
    "    subtable = data_arc[data_arc['key'] == key]\n",
    "    mean_active_ratio.append(subtable['active ratio'].mean())\n",
    "    mean_reactive_ratio.append(subtable['reactive ratio'].mean())"
   ]
  },
  {
   "cell_type": "code",
   "execution_count": 22,
   "metadata": {},
   "outputs": [],
   "source": [
    "df['mean active ratio'] = mean_active_ratio\n",
    "df['mean reactive ratio'] = mean_reactive_ratio"
   ]
  },
  {
   "cell_type": "code",
   "execution_count": 23,
   "metadata": {},
   "outputs": [
    {
     "name": "stdout",
     "output_type": "stream",
     "text": [
      "mean active ratio\n"
     ]
    },
    {
     "data": {
      "text/plain": [
       "count    3214.000000\n",
       "mean        0.573450\n",
       "std         0.026255\n",
       "min         0.397099\n",
       "25%         0.563033\n",
       "50%         0.577379\n",
       "75%         0.589201\n",
       "max         0.638808\n",
       "Name: mean active ratio, dtype: float64"
      ]
     },
     "metadata": {},
     "output_type": "display_data"
    },
    {
     "name": "stdout",
     "output_type": "stream",
     "text": [
      "\n",
      "mean reactive ratio\n"
     ]
    },
    {
     "data": {
      "text/plain": [
       "count    3214.000000\n",
       "mean        0.426550\n",
       "std         0.026255\n",
       "min         0.361192\n",
       "25%         0.410799\n",
       "50%         0.422621\n",
       "75%         0.436967\n",
       "max         0.602901\n",
       "Name: mean reactive ratio, dtype: float64"
      ]
     },
     "metadata": {},
     "output_type": "display_data"
    }
   ],
   "source": [
    "print('mean active ratio')\n",
    "display(df['mean active ratio'].describe())\n",
    "print('\\nmean reactive ratio')\n",
    "display(df['mean reactive ratio'].describe())"
   ]
  },
  {
   "cell_type": "markdown",
   "metadata": {},
   "source": [
    "## Итого и выводы"
   ]
  },
  {
   "cell_type": "markdown",
   "metadata": {},
   "source": [
    "Все полученные результаты отражены в столбцах таблицы df.\n",
    "\n",
    "Выше отдельно по каждому столбцу была применена команда **describe()** для определения таких статистических показателей, как средние, минимальные и максимальные значения, медиану и величины 25%- и 75%-квартилей. Для медианы используем отдельную команду median().\n",
    "\n",
    "Ниже представлена итоговая таблица df, describe() для нее и median()..."
   ]
  },
  {
   "cell_type": "code",
   "execution_count": 25,
   "metadata": {},
   "outputs": [
    {
     "data": {
      "text/html": [
       "<div>\n",
       "<style scoped>\n",
       "    .dataframe tbody tr th:only-of-type {\n",
       "        vertical-align: middle;\n",
       "    }\n",
       "\n",
       "    .dataframe tbody tr th {\n",
       "        vertical-align: top;\n",
       "    }\n",
       "\n",
       "    .dataframe thead th {\n",
       "        text-align: right;\n",
       "    }\n",
       "</style>\n",
       "<table border=\"1\" class=\"dataframe\">\n",
       "  <thead>\n",
       "    <tr style=\"text-align: right;\">\n",
       "      <th></th>\n",
       "      <th>duration</th>\n",
       "      <th>summa</th>\n",
       "      <th>launch count</th>\n",
       "      <th>mean active ratio</th>\n",
       "      <th>mean reactive ratio</th>\n",
       "    </tr>\n",
       "  </thead>\n",
       "  <tbody>\n",
       "    <tr>\n",
       "      <th>0</th>\n",
       "      <td>861</td>\n",
       "      <td>1098</td>\n",
       "      <td>5</td>\n",
       "      <td>0.605710</td>\n",
       "      <td>0.394290</td>\n",
       "    </tr>\n",
       "    <tr>\n",
       "      <th>1</th>\n",
       "      <td>1305</td>\n",
       "      <td>811</td>\n",
       "      <td>4</td>\n",
       "      <td>0.607888</td>\n",
       "      <td>0.392112</td>\n",
       "    </tr>\n",
       "    <tr>\n",
       "      <th>2</th>\n",
       "      <td>1300</td>\n",
       "      <td>655</td>\n",
       "      <td>5</td>\n",
       "      <td>0.612851</td>\n",
       "      <td>0.387149</td>\n",
       "    </tr>\n",
       "    <tr>\n",
       "      <th>3</th>\n",
       "      <td>388</td>\n",
       "      <td>741</td>\n",
       "      <td>4</td>\n",
       "      <td>0.609497</td>\n",
       "      <td>0.390503</td>\n",
       "    </tr>\n",
       "    <tr>\n",
       "      <th>4</th>\n",
       "      <td>762</td>\n",
       "      <td>869</td>\n",
       "      <td>4</td>\n",
       "      <td>0.596545</td>\n",
       "      <td>0.403455</td>\n",
       "    </tr>\n",
       "  </tbody>\n",
       "</table>\n",
       "</div>"
      ],
      "text/plain": [
       "   duration  summa  launch count  mean active ratio  mean reactive ratio\n",
       "0       861   1098             5           0.605710             0.394290\n",
       "1      1305    811             4           0.607888             0.392112\n",
       "2      1300    655             5           0.612851             0.387149\n",
       "3       388    741             4           0.609497             0.390503\n",
       "4       762    869             4           0.596545             0.403455"
      ]
     },
     "metadata": {},
     "output_type": "display_data"
    }
   ],
   "source": [
    "display(df.head())"
   ]
  },
  {
   "cell_type": "code",
   "execution_count": 26,
   "metadata": {},
   "outputs": [
    {
     "data": {
      "text/html": [
       "<div>\n",
       "<style scoped>\n",
       "    .dataframe tbody tr th:only-of-type {\n",
       "        vertical-align: middle;\n",
       "    }\n",
       "\n",
       "    .dataframe tbody tr th {\n",
       "        vertical-align: top;\n",
       "    }\n",
       "\n",
       "    .dataframe thead th {\n",
       "        text-align: right;\n",
       "    }\n",
       "</style>\n",
       "<table border=\"1\" class=\"dataframe\">\n",
       "  <thead>\n",
       "    <tr style=\"text-align: right;\">\n",
       "      <th></th>\n",
       "      <th>duration</th>\n",
       "      <th>summa</th>\n",
       "      <th>launch count</th>\n",
       "      <th>mean active ratio</th>\n",
       "      <th>mean reactive ratio</th>\n",
       "    </tr>\n",
       "  </thead>\n",
       "  <tbody>\n",
       "    <tr>\n",
       "      <th>count</th>\n",
       "      <td>3216.000000</td>\n",
       "      <td>3216.000000</td>\n",
       "      <td>3216.000000</td>\n",
       "      <td>3214.000000</td>\n",
       "      <td>3214.000000</td>\n",
       "    </tr>\n",
       "    <tr>\n",
       "      <th>mean</th>\n",
       "      <td>1839.861629</td>\n",
       "      <td>794.084888</td>\n",
       "      <td>4.625622</td>\n",
       "      <td>0.573450</td>\n",
       "      <td>0.426550</td>\n",
       "    </tr>\n",
       "    <tr>\n",
       "      <th>std</th>\n",
       "      <td>1246.950298</td>\n",
       "      <td>332.935196</td>\n",
       "      <td>1.612283</td>\n",
       "      <td>0.026255</td>\n",
       "      <td>0.026255</td>\n",
       "    </tr>\n",
       "    <tr>\n",
       "      <th>min</th>\n",
       "      <td>0.000000</td>\n",
       "      <td>0.000000</td>\n",
       "      <td>0.000000</td>\n",
       "      <td>0.397099</td>\n",
       "      <td>0.361192</td>\n",
       "    </tr>\n",
       "    <tr>\n",
       "      <th>25%</th>\n",
       "      <td>1177.000000</td>\n",
       "      <td>571.000000</td>\n",
       "      <td>4.000000</td>\n",
       "      <td>0.563033</td>\n",
       "      <td>0.410799</td>\n",
       "    </tr>\n",
       "    <tr>\n",
       "      <th>50%</th>\n",
       "      <td>1581.000000</td>\n",
       "      <td>769.500000</td>\n",
       "      <td>4.000000</td>\n",
       "      <td>0.577379</td>\n",
       "      <td>0.422621</td>\n",
       "    </tr>\n",
       "    <tr>\n",
       "      <th>75%</th>\n",
       "      <td>2235.000000</td>\n",
       "      <td>983.000000</td>\n",
       "      <td>6.000000</td>\n",
       "      <td>0.589201</td>\n",
       "      <td>0.436967</td>\n",
       "    </tr>\n",
       "    <tr>\n",
       "      <th>max</th>\n",
       "      <td>23537.000000</td>\n",
       "      <td>4189.000000</td>\n",
       "      <td>16.000000</td>\n",
       "      <td>0.638808</td>\n",
       "      <td>0.602901</td>\n",
       "    </tr>\n",
       "  </tbody>\n",
       "</table>\n",
       "</div>"
      ],
      "text/plain": [
       "           duration        summa  launch count  mean active ratio  \\\n",
       "count   3216.000000  3216.000000   3216.000000        3214.000000   \n",
       "mean    1839.861629   794.084888      4.625622           0.573450   \n",
       "std     1246.950298   332.935196      1.612283           0.026255   \n",
       "min        0.000000     0.000000      0.000000           0.397099   \n",
       "25%     1177.000000   571.000000      4.000000           0.563033   \n",
       "50%     1581.000000   769.500000      4.000000           0.577379   \n",
       "75%     2235.000000   983.000000      6.000000           0.589201   \n",
       "max    23537.000000  4189.000000     16.000000           0.638808   \n",
       "\n",
       "       mean reactive ratio  \n",
       "count          3214.000000  \n",
       "mean              0.426550  \n",
       "std               0.026255  \n",
       "min               0.361192  \n",
       "25%               0.410799  \n",
       "50%               0.422621  \n",
       "75%               0.436967  \n",
       "max               0.602901  "
      ]
     },
     "metadata": {},
     "output_type": "display_data"
    }
   ],
   "source": [
    "display(df.describe())"
   ]
  },
  {
   "cell_type": "code",
   "execution_count": 28,
   "metadata": {},
   "outputs": [
    {
     "data": {
      "text/plain": [
       "duration               1581.000000\n",
       "summa                   769.500000\n",
       "launch count              4.000000\n",
       "mean active ratio         0.577379\n",
       "mean reactive ratio       0.422621\n",
       "dtype: float64"
      ]
     },
     "metadata": {},
     "output_type": "display_data"
    }
   ],
   "source": [
    "display(df.median())"
   ]
  }
 ],
 "metadata": {
  "ExecuteTimeLog": [
   {
    "duration": 1133,
    "start_time": "2021-12-19T20:20:10.000Z"
   },
   {
    "duration": 58,
    "start_time": "2021-12-19T20:20:50.480Z"
   },
   {
    "duration": 234,
    "start_time": "2021-12-19T20:22:08.689Z"
   },
   {
    "duration": 29,
    "start_time": "2021-12-19T20:22:15.743Z"
   },
   {
    "duration": 23,
    "start_time": "2021-12-19T20:22:41.434Z"
   },
   {
    "duration": 316,
    "start_time": "2021-12-24T17:34:35.435Z"
   },
   {
    "duration": 554,
    "start_time": "2021-12-24T17:34:40.771Z"
   },
   {
    "duration": 842,
    "start_time": "2021-12-24T17:34:41.327Z"
   },
   {
    "duration": 15,
    "start_time": "2021-12-24T17:34:42.171Z"
   },
   {
    "duration": 7,
    "start_time": "2021-12-24T17:36:16.603Z"
   },
   {
    "duration": 12,
    "start_time": "2021-12-24T20:15:32.127Z"
   },
   {
    "duration": 8,
    "start_time": "2021-12-24T20:16:30.007Z"
   },
   {
    "duration": 6,
    "start_time": "2021-12-24T20:18:01.468Z"
   },
   {
    "duration": 4627,
    "start_time": "2021-12-24T20:18:23.415Z"
   },
   {
    "duration": 4,
    "start_time": "2021-12-24T20:18:43.548Z"
   },
   {
    "duration": 24,
    "start_time": "2021-12-24T20:19:42.739Z"
   },
   {
    "duration": 12,
    "start_time": "2021-12-24T20:20:16.759Z"
   },
   {
    "duration": 12,
    "start_time": "2021-12-24T20:27:58.857Z"
   },
   {
    "duration": 9,
    "start_time": "2021-12-24T20:39:47.546Z"
   },
   {
    "duration": 6,
    "start_time": "2021-12-24T20:42:29.732Z"
   },
   {
    "duration": 5,
    "start_time": "2021-12-24T20:43:27.157Z"
   },
   {
    "duration": 7,
    "start_time": "2021-12-24T20:44:05.302Z"
   },
   {
    "duration": 7,
    "start_time": "2021-12-24T20:44:11.566Z"
   },
   {
    "duration": 7,
    "start_time": "2021-12-24T20:45:13.094Z"
   },
   {
    "duration": 8,
    "start_time": "2021-12-24T20:45:49.128Z"
   },
   {
    "duration": 9,
    "start_time": "2021-12-24T20:47:05.408Z"
   },
   {
    "duration": 7,
    "start_time": "2021-12-24T20:47:30.311Z"
   },
   {
    "duration": 9,
    "start_time": "2021-12-24T20:49:32.021Z"
   },
   {
    "duration": 8,
    "start_time": "2021-12-24T20:50:13.040Z"
   },
   {
    "duration": 7,
    "start_time": "2021-12-24T20:51:26.644Z"
   },
   {
    "duration": 7,
    "start_time": "2021-12-24T20:51:31.005Z"
   },
   {
    "duration": 19,
    "start_time": "2021-12-24T20:56:25.157Z"
   },
   {
    "duration": 94,
    "start_time": "2021-12-24T20:59:39.945Z"
   },
   {
    "duration": 101,
    "start_time": "2021-12-24T20:59:51.132Z"
   },
   {
    "duration": 10,
    "start_time": "2021-12-24T20:59:56.205Z"
   },
   {
    "duration": 17,
    "start_time": "2021-12-24T21:00:10.482Z"
   },
   {
    "duration": 9,
    "start_time": "2021-12-24T21:00:26.375Z"
   },
   {
    "duration": 20,
    "start_time": "2021-12-24T21:00:27.000Z"
   },
   {
    "duration": 3,
    "start_time": "2021-12-24T21:02:05.612Z"
   },
   {
    "duration": 3,
    "start_time": "2021-12-24T21:02:11.817Z"
   },
   {
    "duration": 4,
    "start_time": "2021-12-24T21:02:17.496Z"
   },
   {
    "duration": 4,
    "start_time": "2021-12-24T21:02:43.176Z"
   },
   {
    "duration": 10,
    "start_time": "2021-12-24T21:02:51.194Z"
   },
   {
    "duration": 110,
    "start_time": "2021-12-24T21:05:35.124Z"
   },
   {
    "duration": 6,
    "start_time": "2021-12-24T21:07:45.941Z"
   },
   {
    "duration": 7,
    "start_time": "2021-12-24T21:08:01.397Z"
   },
   {
    "duration": 4,
    "start_time": "2021-12-24T21:08:19.503Z"
   },
   {
    "duration": 6,
    "start_time": "2021-12-24T21:08:27.362Z"
   },
   {
    "duration": 4,
    "start_time": "2021-12-24T21:10:14.331Z"
   },
   {
    "duration": 4,
    "start_time": "2021-12-24T21:10:22.679Z"
   },
   {
    "duration": 4,
    "start_time": "2021-12-24T21:15:07.706Z"
   },
   {
    "duration": 2,
    "start_time": "2021-12-24T21:15:17.379Z"
   },
   {
    "duration": 299,
    "start_time": "2021-12-24T21:15:48.770Z"
   },
   {
    "duration": 548,
    "start_time": "2021-12-24T21:16:41.260Z"
   },
   {
    "duration": 172,
    "start_time": "2021-12-24T21:16:41.810Z"
   },
   {
    "duration": 15,
    "start_time": "2021-12-24T21:16:41.984Z"
   },
   {
    "duration": 8,
    "start_time": "2021-12-24T21:16:42.001Z"
   },
   {
    "duration": 326,
    "start_time": "2021-12-24T21:16:42.011Z"
   },
   {
    "duration": -941,
    "start_time": "2021-12-24T21:16:43.280Z"
   },
   {
    "duration": -947,
    "start_time": "2021-12-24T21:16:43.286Z"
   },
   {
    "duration": -949,
    "start_time": "2021-12-24T21:16:43.289Z"
   },
   {
    "duration": -949,
    "start_time": "2021-12-24T21:16:43.291Z"
   },
   {
    "duration": -949,
    "start_time": "2021-12-24T21:16:43.292Z"
   },
   {
    "duration": -949,
    "start_time": "2021-12-24T21:16:43.293Z"
   },
   {
    "duration": -949,
    "start_time": "2021-12-24T21:16:43.294Z"
   },
   {
    "duration": -956,
    "start_time": "2021-12-24T21:16:43.301Z"
   },
   {
    "duration": -961,
    "start_time": "2021-12-24T21:16:43.307Z"
   },
   {
    "duration": -961,
    "start_time": "2021-12-24T21:16:43.308Z"
   },
   {
    "duration": -963,
    "start_time": "2021-12-24T21:16:43.310Z"
   },
   {
    "duration": -963,
    "start_time": "2021-12-24T21:16:43.311Z"
   },
   {
    "duration": -964,
    "start_time": "2021-12-24T21:16:43.313Z"
   },
   {
    "duration": -964,
    "start_time": "2021-12-24T21:16:43.314Z"
   },
   {
    "duration": -964,
    "start_time": "2021-12-24T21:16:43.315Z"
   },
   {
    "duration": -964,
    "start_time": "2021-12-24T21:16:43.316Z"
   },
   {
    "duration": -964,
    "start_time": "2021-12-24T21:16:43.317Z"
   },
   {
    "duration": -965,
    "start_time": "2021-12-24T21:16:43.318Z"
   },
   {
    "duration": 5,
    "start_time": "2021-12-24T21:16:58.368Z"
   },
   {
    "duration": 582,
    "start_time": "2021-12-24T21:17:05.338Z"
   },
   {
    "duration": 175,
    "start_time": "2021-12-24T21:17:05.921Z"
   },
   {
    "duration": 13,
    "start_time": "2021-12-24T21:17:06.098Z"
   },
   {
    "duration": 9,
    "start_time": "2021-12-24T21:17:06.113Z"
   },
   {
    "duration": 8,
    "start_time": "2021-12-24T21:17:06.124Z"
   },
   {
    "duration": 383,
    "start_time": "2021-12-24T21:17:06.134Z"
   },
   {
    "duration": -955,
    "start_time": "2021-12-24T21:17:07.474Z"
   },
   {
    "duration": -956,
    "start_time": "2021-12-24T21:17:07.476Z"
   },
   {
    "duration": -956,
    "start_time": "2021-12-24T21:17:07.477Z"
   },
   {
    "duration": -963,
    "start_time": "2021-12-24T21:17:07.485Z"
   },
   {
    "duration": -971,
    "start_time": "2021-12-24T21:17:07.494Z"
   },
   {
    "duration": -976,
    "start_time": "2021-12-24T21:17:07.500Z"
   },
   {
    "duration": -983,
    "start_time": "2021-12-24T21:17:07.507Z"
   },
   {
    "duration": -987,
    "start_time": "2021-12-24T21:17:07.512Z"
   },
   {
    "duration": -993,
    "start_time": "2021-12-24T21:17:07.519Z"
   },
   {
    "duration": -998,
    "start_time": "2021-12-24T21:17:07.525Z"
   },
   {
    "duration": -998,
    "start_time": "2021-12-24T21:17:07.526Z"
   },
   {
    "duration": -1004,
    "start_time": "2021-12-24T21:17:07.533Z"
   },
   {
    "duration": -1014,
    "start_time": "2021-12-24T21:17:07.543Z"
   },
   {
    "duration": -1017,
    "start_time": "2021-12-24T21:17:07.547Z"
   },
   {
    "duration": -1022,
    "start_time": "2021-12-24T21:17:07.553Z"
   },
   {
    "duration": -1024,
    "start_time": "2021-12-24T21:17:07.556Z"
   },
   {
    "duration": -1031,
    "start_time": "2021-12-24T21:17:07.564Z"
   },
   {
    "duration": 548,
    "start_time": "2021-12-24T21:17:36.251Z"
   },
   {
    "duration": 171,
    "start_time": "2021-12-24T21:17:36.801Z"
   },
   {
    "duration": 13,
    "start_time": "2021-12-24T21:17:36.974Z"
   },
   {
    "duration": 9,
    "start_time": "2021-12-24T21:17:36.989Z"
   },
   {
    "duration": 3,
    "start_time": "2021-12-24T21:17:37.000Z"
   },
   {
    "duration": 9,
    "start_time": "2021-12-24T21:17:37.005Z"
   },
   {
    "duration": 15,
    "start_time": "2021-12-24T21:17:37.015Z"
   },
   {
    "duration": 6,
    "start_time": "2021-12-24T21:17:37.032Z"
   },
   {
    "duration": 5,
    "start_time": "2021-12-24T21:17:37.040Z"
   },
   {
    "duration": 7,
    "start_time": "2021-12-24T21:17:37.046Z"
   },
   {
    "duration": 4,
    "start_time": "2021-12-24T21:17:37.055Z"
   },
   {
    "duration": 7,
    "start_time": "2021-12-24T21:17:37.060Z"
   },
   {
    "duration": 12,
    "start_time": "2021-12-24T21:17:37.069Z"
   },
   {
    "duration": 10,
    "start_time": "2021-12-24T21:17:37.082Z"
   },
   {
    "duration": 36,
    "start_time": "2021-12-24T21:17:37.094Z"
   },
   {
    "duration": 6,
    "start_time": "2021-12-24T21:17:37.131Z"
   },
   {
    "duration": 7,
    "start_time": "2021-12-24T21:17:37.138Z"
   },
   {
    "duration": 6,
    "start_time": "2021-12-24T21:17:37.147Z"
   },
   {
    "duration": 9,
    "start_time": "2021-12-24T21:17:37.154Z"
   },
   {
    "duration": 5,
    "start_time": "2021-12-24T21:17:37.165Z"
   },
   {
    "duration": 5,
    "start_time": "2021-12-24T21:17:37.172Z"
   },
   {
    "duration": 7,
    "start_time": "2021-12-24T21:17:37.178Z"
   },
   {
    "duration": 42,
    "start_time": "2021-12-24T21:17:37.187Z"
   },
   {
    "duration": 593,
    "start_time": "2021-12-24T21:17:50.192Z"
   },
   {
    "duration": 168,
    "start_time": "2021-12-24T21:17:50.787Z"
   },
   {
    "duration": 14,
    "start_time": "2021-12-24T21:17:50.957Z"
   },
   {
    "duration": 7,
    "start_time": "2021-12-24T21:17:50.973Z"
   },
   {
    "duration": 3,
    "start_time": "2021-12-24T21:17:50.981Z"
   },
   {
    "duration": 8,
    "start_time": "2021-12-24T21:17:50.986Z"
   },
   {
    "duration": 13,
    "start_time": "2021-12-24T21:17:50.995Z"
   },
   {
    "duration": 6,
    "start_time": "2021-12-24T21:17:51.010Z"
   },
   {
    "duration": 12,
    "start_time": "2021-12-24T21:17:51.018Z"
   },
   {
    "duration": 7,
    "start_time": "2021-12-24T21:17:51.032Z"
   },
   {
    "duration": 4,
    "start_time": "2021-12-24T21:17:51.041Z"
   },
   {
    "duration": 9,
    "start_time": "2021-12-24T21:17:51.046Z"
   },
   {
    "duration": 14,
    "start_time": "2021-12-24T21:17:51.057Z"
   },
   {
    "duration": 10,
    "start_time": "2021-12-24T21:17:51.073Z"
   },
   {
    "duration": 7,
    "start_time": "2021-12-24T21:17:51.084Z"
   },
   {
    "duration": 36,
    "start_time": "2021-12-24T21:17:51.092Z"
   },
   {
    "duration": 8,
    "start_time": "2021-12-24T21:17:51.130Z"
   },
   {
    "duration": 7,
    "start_time": "2021-12-24T21:17:51.140Z"
   },
   {
    "duration": 10,
    "start_time": "2021-12-24T21:17:51.149Z"
   },
   {
    "duration": 7,
    "start_time": "2021-12-24T21:17:51.160Z"
   },
   {
    "duration": 5,
    "start_time": "2021-12-24T21:17:51.168Z"
   },
   {
    "duration": 4,
    "start_time": "2021-12-24T21:17:51.175Z"
   },
   {
    "duration": 6,
    "start_time": "2021-12-24T21:17:51.181Z"
   },
   {
    "duration": 4,
    "start_time": "2021-12-24T21:18:12.858Z"
   },
   {
    "duration": 11,
    "start_time": "2021-12-24T21:18:17.656Z"
   },
   {
    "duration": 6,
    "start_time": "2021-12-24T21:18:48.826Z"
   },
   {
    "duration": 9,
    "start_time": "2021-12-24T21:18:56.912Z"
   },
   {
    "duration": 4,
    "start_time": "2021-12-24T21:19:06.739Z"
   },
   {
    "duration": 8,
    "start_time": "2021-12-24T21:19:14.732Z"
   },
   {
    "duration": 349,
    "start_time": "2021-12-24T21:22:35.726Z"
   },
   {
    "duration": 5,
    "start_time": "2021-12-24T21:22:44.788Z"
   },
   {
    "duration": 17,
    "start_time": "2021-12-24T21:23:31.816Z"
   },
   {
    "duration": 4,
    "start_time": "2021-12-24T21:23:43.262Z"
   },
   {
    "duration": 368,
    "start_time": "2021-12-24T21:25:10.896Z"
   },
   {
    "duration": 9,
    "start_time": "2021-12-24T21:25:24.970Z"
   },
   {
    "duration": 4755,
    "start_time": "2021-12-24T21:26:20.776Z"
   },
   {
    "duration": 7,
    "start_time": "2021-12-24T21:26:51.576Z"
   },
   {
    "duration": 5955,
    "start_time": "2021-12-24T21:27:01.490Z"
   },
   {
    "duration": 4,
    "start_time": "2021-12-24T21:27:22.909Z"
   },
   {
    "duration": 7,
    "start_time": "2021-12-24T21:28:32.289Z"
   },
   {
    "duration": 5,
    "start_time": "2021-12-24T21:29:04.114Z"
   },
   {
    "duration": 3,
    "start_time": "2021-12-24T21:29:10.202Z"
   },
   {
    "duration": 1942,
    "start_time": "2021-12-24T21:29:25.594Z"
   },
   {
    "duration": 3,
    "start_time": "2021-12-24T21:31:04.420Z"
   },
   {
    "duration": 4,
    "start_time": "2021-12-24T21:31:09.023Z"
   },
   {
    "duration": 8,
    "start_time": "2021-12-24T21:34:13.980Z"
   },
   {
    "duration": 11,
    "start_time": "2021-12-24T21:34:18.745Z"
   },
   {
    "duration": 10,
    "start_time": "2021-12-24T21:34:53.831Z"
   },
   {
    "duration": 804,
    "start_time": "2021-12-24T21:35:45.708Z"
   },
   {
    "duration": 172,
    "start_time": "2021-12-24T21:35:46.514Z"
   },
   {
    "duration": 14,
    "start_time": "2021-12-24T21:35:46.688Z"
   },
   {
    "duration": 11,
    "start_time": "2021-12-24T21:35:46.704Z"
   },
   {
    "duration": 7,
    "start_time": "2021-12-24T21:35:46.717Z"
   },
   {
    "duration": 12,
    "start_time": "2021-12-24T21:35:46.725Z"
   },
   {
    "duration": 21,
    "start_time": "2021-12-24T21:35:46.738Z"
   },
   {
    "duration": 20,
    "start_time": "2021-12-24T21:35:46.761Z"
   },
   {
    "duration": 17,
    "start_time": "2021-12-24T21:35:46.783Z"
   },
   {
    "duration": 7121,
    "start_time": "2021-12-24T21:35:46.802Z"
   },
   {
    "duration": -967,
    "start_time": "2021-12-24T21:35:54.892Z"
   },
   {
    "duration": -968,
    "start_time": "2021-12-24T21:35:54.894Z"
   },
   {
    "duration": -968,
    "start_time": "2021-12-24T21:35:54.895Z"
   },
   {
    "duration": -967,
    "start_time": "2021-12-24T21:35:54.895Z"
   },
   {
    "duration": -967,
    "start_time": "2021-12-24T21:35:54.896Z"
   },
   {
    "duration": -969,
    "start_time": "2021-12-24T21:35:54.898Z"
   },
   {
    "duration": -974,
    "start_time": "2021-12-24T21:35:54.904Z"
   },
   {
    "duration": -975,
    "start_time": "2021-12-24T21:35:54.906Z"
   },
   {
    "duration": -975,
    "start_time": "2021-12-24T21:35:54.907Z"
   },
   {
    "duration": -975,
    "start_time": "2021-12-24T21:35:54.908Z"
   },
   {
    "duration": -975,
    "start_time": "2021-12-24T21:35:54.909Z"
   },
   {
    "duration": -976,
    "start_time": "2021-12-24T21:35:54.910Z"
   },
   {
    "duration": -976,
    "start_time": "2021-12-24T21:35:54.911Z"
   },
   {
    "duration": -977,
    "start_time": "2021-12-24T21:35:54.913Z"
   },
   {
    "duration": -977,
    "start_time": "2021-12-24T21:35:54.914Z"
   },
   {
    "duration": -977,
    "start_time": "2021-12-24T21:35:54.915Z"
   },
   {
    "duration": -977,
    "start_time": "2021-12-24T21:35:54.916Z"
   },
   {
    "duration": -976,
    "start_time": "2021-12-24T21:35:54.916Z"
   },
   {
    "duration": 8131,
    "start_time": "2021-12-24T21:36:10.423Z"
   },
   {
    "duration": 557,
    "start_time": "2021-12-24T21:37:09.755Z"
   },
   {
    "duration": 170,
    "start_time": "2021-12-24T21:37:10.314Z"
   },
   {
    "duration": 12,
    "start_time": "2021-12-24T21:37:10.487Z"
   },
   {
    "duration": 10,
    "start_time": "2021-12-24T21:37:10.501Z"
   },
   {
    "duration": 10,
    "start_time": "2021-12-24T21:37:10.513Z"
   },
   {
    "duration": 7,
    "start_time": "2021-12-24T21:37:10.524Z"
   },
   {
    "duration": 9,
    "start_time": "2021-12-24T21:37:10.532Z"
   },
   {
    "duration": 14,
    "start_time": "2021-12-24T21:37:10.542Z"
   },
   {
    "duration": 6,
    "start_time": "2021-12-24T21:37:10.558Z"
   },
   {
    "duration": 7419,
    "start_time": "2021-12-24T21:37:10.566Z"
   },
   {
    "duration": -968,
    "start_time": "2021-12-24T21:37:18.955Z"
   },
   {
    "duration": -970,
    "start_time": "2021-12-24T21:37:18.958Z"
   },
   {
    "duration": -970,
    "start_time": "2021-12-24T21:37:18.959Z"
   },
   {
    "duration": -970,
    "start_time": "2021-12-24T21:37:18.960Z"
   },
   {
    "duration": -970,
    "start_time": "2021-12-24T21:37:18.961Z"
   },
   {
    "duration": -970,
    "start_time": "2021-12-24T21:37:18.962Z"
   },
   {
    "duration": -970,
    "start_time": "2021-12-24T21:37:18.963Z"
   },
   {
    "duration": -969,
    "start_time": "2021-12-24T21:37:18.964Z"
   },
   {
    "duration": -970,
    "start_time": "2021-12-24T21:37:18.966Z"
   },
   {
    "duration": -970,
    "start_time": "2021-12-24T21:37:18.967Z"
   },
   {
    "duration": -970,
    "start_time": "2021-12-24T21:37:18.968Z"
   },
   {
    "duration": -970,
    "start_time": "2021-12-24T21:37:18.969Z"
   },
   {
    "duration": -974,
    "start_time": "2021-12-24T21:37:18.974Z"
   },
   {
    "duration": -973,
    "start_time": "2021-12-24T21:37:18.975Z"
   },
   {
    "duration": -974,
    "start_time": "2021-12-24T21:37:18.977Z"
   },
   {
    "duration": -975,
    "start_time": "2021-12-24T21:37:18.979Z"
   },
   {
    "duration": -975,
    "start_time": "2021-12-24T21:37:18.980Z"
   },
   {
    "duration": -974,
    "start_time": "2021-12-24T21:37:18.980Z"
   },
   {
    "duration": 537,
    "start_time": "2021-12-24T21:39:37.275Z"
   },
   {
    "duration": 170,
    "start_time": "2021-12-24T21:39:37.814Z"
   },
   {
    "duration": 16,
    "start_time": "2021-12-24T21:39:37.989Z"
   },
   {
    "duration": 9,
    "start_time": "2021-12-24T21:39:38.006Z"
   },
   {
    "duration": 7,
    "start_time": "2021-12-24T21:39:38.016Z"
   },
   {
    "duration": 8,
    "start_time": "2021-12-24T21:39:38.024Z"
   },
   {
    "duration": 8,
    "start_time": "2021-12-24T21:39:38.035Z"
   },
   {
    "duration": 14,
    "start_time": "2021-12-24T21:39:38.045Z"
   },
   {
    "duration": 10,
    "start_time": "2021-12-24T21:39:38.060Z"
   },
   {
    "duration": 7,
    "start_time": "2021-12-24T21:39:38.071Z"
   },
   {
    "duration": 4,
    "start_time": "2021-12-24T21:39:38.080Z"
   },
   {
    "duration": 8,
    "start_time": "2021-12-24T21:39:38.085Z"
   },
   {
    "duration": 39,
    "start_time": "2021-12-24T21:39:38.095Z"
   },
   {
    "duration": 15,
    "start_time": "2021-12-24T21:39:38.135Z"
   },
   {
    "duration": 8,
    "start_time": "2021-12-24T21:39:38.152Z"
   },
   {
    "duration": 7,
    "start_time": "2021-12-24T21:39:38.162Z"
   },
   {
    "duration": 8,
    "start_time": "2021-12-24T21:39:38.170Z"
   },
   {
    "duration": 6,
    "start_time": "2021-12-24T21:39:38.180Z"
   },
   {
    "duration": 2,
    "start_time": "2021-12-24T21:39:38.188Z"
   },
   {
    "duration": 1921,
    "start_time": "2021-12-24T21:39:38.192Z"
   },
   {
    "duration": 14,
    "start_time": "2021-12-24T21:39:40.115Z"
   },
   {
    "duration": 11,
    "start_time": "2021-12-24T21:39:40.132Z"
   },
   {
    "duration": 18,
    "start_time": "2021-12-24T21:39:40.145Z"
   },
   {
    "duration": 14,
    "start_time": "2021-12-24T21:39:40.164Z"
   },
   {
    "duration": 14,
    "start_time": "2021-12-24T21:39:40.180Z"
   },
   {
    "duration": 16,
    "start_time": "2021-12-24T21:39:40.195Z"
   },
   {
    "duration": 9,
    "start_time": "2021-12-24T21:39:40.213Z"
   },
   {
    "duration": 4,
    "start_time": "2021-12-24T21:40:35.550Z"
   },
   {
    "duration": 331,
    "start_time": "2021-12-24T21:41:52.968Z"
   },
   {
    "duration": 3,
    "start_time": "2021-12-24T21:42:48.310Z"
   },
   {
    "duration": 13,
    "start_time": "2021-12-24T21:42:54.288Z"
   },
   {
    "duration": 3,
    "start_time": "2021-12-24T21:43:03.110Z"
   },
   {
    "duration": 3,
    "start_time": "2021-12-24T21:43:11.188Z"
   },
   {
    "duration": 3,
    "start_time": "2021-12-24T21:43:12.463Z"
   },
   {
    "duration": 86,
    "start_time": "2021-12-24T21:43:16.163Z"
   },
   {
    "duration": 12,
    "start_time": "2021-12-24T21:43:18.913Z"
   },
   {
    "duration": 5,
    "start_time": "2021-12-24T21:43:29.799Z"
   },
   {
    "duration": 6,
    "start_time": "2021-12-24T21:43:37.845Z"
   },
   {
    "duration": 7924,
    "start_time": "2021-12-24T21:44:03.700Z"
   },
   {
    "duration": 4,
    "start_time": "2021-12-24T21:44:23.320Z"
   },
   {
    "duration": 5,
    "start_time": "2021-12-24T21:44:26.302Z"
   },
   {
    "duration": 11,
    "start_time": "2021-12-24T21:44:31.580Z"
   },
   {
    "duration": 610,
    "start_time": "2021-12-24T21:44:45.100Z"
   },
   {
    "duration": 169,
    "start_time": "2021-12-24T21:44:45.712Z"
   },
   {
    "duration": 14,
    "start_time": "2021-12-24T21:44:45.883Z"
   },
   {
    "duration": 8,
    "start_time": "2021-12-24T21:44:45.898Z"
   },
   {
    "duration": 3,
    "start_time": "2021-12-24T21:44:45.907Z"
   },
   {
    "duration": 7,
    "start_time": "2021-12-24T21:44:45.912Z"
   },
   {
    "duration": 3,
    "start_time": "2021-12-24T21:44:45.920Z"
   },
   {
    "duration": 10,
    "start_time": "2021-12-24T21:44:45.925Z"
   },
   {
    "duration": 12,
    "start_time": "2021-12-24T21:44:45.937Z"
   },
   {
    "duration": 7,
    "start_time": "2021-12-24T21:44:45.951Z"
   },
   {
    "duration": 7,
    "start_time": "2021-12-24T21:44:45.959Z"
   },
   {
    "duration": 4,
    "start_time": "2021-12-24T21:44:45.967Z"
   },
   {
    "duration": 11,
    "start_time": "2021-12-24T21:44:45.973Z"
   },
   {
    "duration": 14,
    "start_time": "2021-12-24T21:44:45.985Z"
   },
   {
    "duration": 31,
    "start_time": "2021-12-24T21:44:46.000Z"
   },
   {
    "duration": 7,
    "start_time": "2021-12-24T21:44:46.032Z"
   },
   {
    "duration": 6,
    "start_time": "2021-12-24T21:44:46.040Z"
   },
   {
    "duration": 7,
    "start_time": "2021-12-24T21:44:46.048Z"
   },
   {
    "duration": 7,
    "start_time": "2021-12-24T21:44:46.056Z"
   },
   {
    "duration": 3,
    "start_time": "2021-12-24T21:44:46.064Z"
   },
   {
    "duration": 1916,
    "start_time": "2021-12-24T21:44:46.069Z"
   },
   {
    "duration": 9,
    "start_time": "2021-12-24T21:44:47.987Z"
   },
   {
    "duration": 12,
    "start_time": "2021-12-24T21:44:48.000Z"
   },
   {
    "duration": 16,
    "start_time": "2021-12-24T21:44:48.014Z"
   },
   {
    "duration": 12,
    "start_time": "2021-12-24T21:44:48.031Z"
   },
   {
    "duration": 13,
    "start_time": "2021-12-24T21:44:48.045Z"
   },
   {
    "duration": 6,
    "start_time": "2021-12-24T21:44:48.060Z"
   },
   {
    "duration": 9,
    "start_time": "2021-12-24T21:44:48.068Z"
   },
   {
    "duration": 4,
    "start_time": "2021-12-24T21:44:48.079Z"
   },
   {
    "duration": 4,
    "start_time": "2021-12-24T21:44:48.084Z"
   },
   {
    "duration": 8,
    "start_time": "2021-12-24T21:46:42.810Z"
   },
   {
    "duration": 10,
    "start_time": "2021-12-24T21:46:52.576Z"
   },
   {
    "duration": 10,
    "start_time": "2021-12-24T21:47:10.196Z"
   },
   {
    "duration": 11,
    "start_time": "2021-12-24T21:47:17.481Z"
   },
   {
    "duration": 9,
    "start_time": "2021-12-24T21:47:50.393Z"
   },
   {
    "duration": 10,
    "start_time": "2021-12-24T21:47:59.315Z"
   },
   {
    "duration": 364,
    "start_time": "2021-12-24T21:49:03.620Z"
   },
   {
    "duration": 574,
    "start_time": "2021-12-24T21:49:38.993Z"
   },
   {
    "duration": 174,
    "start_time": "2021-12-24T21:49:39.569Z"
   },
   {
    "duration": 15,
    "start_time": "2021-12-24T21:49:39.746Z"
   },
   {
    "duration": 9,
    "start_time": "2021-12-24T21:49:39.763Z"
   },
   {
    "duration": 6,
    "start_time": "2021-12-24T21:49:39.773Z"
   },
   {
    "duration": 6,
    "start_time": "2021-12-24T21:49:39.781Z"
   },
   {
    "duration": 4,
    "start_time": "2021-12-24T21:49:39.789Z"
   },
   {
    "duration": 9,
    "start_time": "2021-12-24T21:49:39.796Z"
   },
   {
    "duration": 29,
    "start_time": "2021-12-24T21:49:39.807Z"
   },
   {
    "duration": 7,
    "start_time": "2021-12-24T21:49:39.838Z"
   },
   {
    "duration": 7,
    "start_time": "2021-12-24T21:49:39.846Z"
   },
   {
    "duration": 4,
    "start_time": "2021-12-24T21:49:39.855Z"
   },
   {
    "duration": 6,
    "start_time": "2021-12-24T21:49:39.860Z"
   },
   {
    "duration": 13,
    "start_time": "2021-12-24T21:49:39.868Z"
   },
   {
    "duration": 10,
    "start_time": "2021-12-24T21:49:39.883Z"
   },
   {
    "duration": 5,
    "start_time": "2021-12-24T21:49:39.928Z"
   },
   {
    "duration": 7,
    "start_time": "2021-12-24T21:49:39.935Z"
   },
   {
    "duration": 8,
    "start_time": "2021-12-24T21:49:39.944Z"
   },
   {
    "duration": 8,
    "start_time": "2021-12-24T21:49:39.953Z"
   },
   {
    "duration": 3,
    "start_time": "2021-12-24T21:49:39.962Z"
   },
   {
    "duration": 1943,
    "start_time": "2021-12-24T21:49:39.966Z"
   },
   {
    "duration": 6,
    "start_time": "2021-12-24T21:49:41.911Z"
   },
   {
    "duration": 9,
    "start_time": "2021-12-24T21:49:41.928Z"
   },
   {
    "duration": 8,
    "start_time": "2021-12-24T21:49:41.939Z"
   },
   {
    "duration": 6,
    "start_time": "2021-12-24T21:49:41.949Z"
   },
   {
    "duration": 5,
    "start_time": "2021-12-24T21:49:41.956Z"
   },
   {
    "duration": 9,
    "start_time": "2021-12-24T21:49:41.962Z"
   },
   {
    "duration": 5,
    "start_time": "2021-12-24T21:49:41.973Z"
   },
   {
    "duration": 11,
    "start_time": "2021-12-24T21:49:41.979Z"
   },
   {
    "duration": 38,
    "start_time": "2021-12-24T21:49:41.991Z"
   },
   {
    "duration": 3,
    "start_time": "2021-12-24T21:49:42.030Z"
   },
   {
    "duration": 538,
    "start_time": "2021-12-24T21:50:20.472Z"
   },
   {
    "duration": 170,
    "start_time": "2021-12-24T21:50:21.012Z"
   },
   {
    "duration": 15,
    "start_time": "2021-12-24T21:50:21.184Z"
   },
   {
    "duration": 8,
    "start_time": "2021-12-24T21:50:21.201Z"
   },
   {
    "duration": 6,
    "start_time": "2021-12-24T21:50:21.211Z"
   },
   {
    "duration": 10,
    "start_time": "2021-12-24T21:50:21.219Z"
   },
   {
    "duration": 3,
    "start_time": "2021-12-24T21:50:21.231Z"
   },
   {
    "duration": 9,
    "start_time": "2021-12-24T21:50:21.237Z"
   },
   {
    "duration": 13,
    "start_time": "2021-12-24T21:50:21.248Z"
   },
   {
    "duration": 6,
    "start_time": "2021-12-24T21:50:21.263Z"
   },
   {
    "duration": 6,
    "start_time": "2021-12-24T21:50:21.271Z"
   },
   {
    "duration": 4,
    "start_time": "2021-12-24T21:50:21.279Z"
   },
   {
    "duration": 8,
    "start_time": "2021-12-24T21:50:21.284Z"
   },
   {
    "duration": 42,
    "start_time": "2021-12-24T21:50:21.293Z"
   },
   {
    "duration": 9,
    "start_time": "2021-12-24T21:50:21.337Z"
   },
   {
    "duration": 6,
    "start_time": "2021-12-24T21:50:21.348Z"
   },
   {
    "duration": 5,
    "start_time": "2021-12-24T21:50:21.355Z"
   },
   {
    "duration": 7,
    "start_time": "2021-12-24T21:50:21.361Z"
   },
   {
    "duration": 6,
    "start_time": "2021-12-24T21:50:21.370Z"
   },
   {
    "duration": 3,
    "start_time": "2021-12-24T21:50:21.377Z"
   },
   {
    "duration": 1939,
    "start_time": "2021-12-24T21:50:21.382Z"
   },
   {
    "duration": 7,
    "start_time": "2021-12-24T21:50:23.323Z"
   },
   {
    "duration": 11,
    "start_time": "2021-12-24T21:50:23.332Z"
   },
   {
    "duration": 6,
    "start_time": "2021-12-24T21:50:23.345Z"
   },
   {
    "duration": 5,
    "start_time": "2021-12-24T21:50:23.352Z"
   },
   {
    "duration": 6,
    "start_time": "2021-12-24T21:50:23.359Z"
   },
   {
    "duration": 7,
    "start_time": "2021-12-24T21:50:23.367Z"
   },
   {
    "duration": 3,
    "start_time": "2021-12-24T21:50:23.376Z"
   },
   {
    "duration": 6,
    "start_time": "2021-12-24T21:50:23.381Z"
   },
   {
    "duration": 39,
    "start_time": "2021-12-24T21:50:23.389Z"
   },
   {
    "duration": 2,
    "start_time": "2021-12-24T21:50:23.429Z"
   },
   {
    "duration": 16,
    "start_time": "2021-12-24T21:51:10.638Z"
   },
   {
    "duration": 19,
    "start_time": "2021-12-24T21:51:26.206Z"
   },
   {
    "duration": 22,
    "start_time": "2021-12-24T21:51:55.882Z"
   },
   {
    "duration": 26,
    "start_time": "2021-12-24T21:52:24.499Z"
   },
   {
    "duration": 16,
    "start_time": "2021-12-24T21:53:18.203Z"
   },
   {
    "duration": 14,
    "start_time": "2021-12-24T21:53:22.119Z"
   },
   {
    "duration": 19,
    "start_time": "2021-12-24T21:54:35.671Z"
   },
   {
    "duration": 2,
    "start_time": "2021-12-24T21:54:36.649Z"
   },
   {
    "duration": 19,
    "start_time": "2021-12-24T21:54:37.227Z"
   },
   {
    "duration": 583,
    "start_time": "2021-12-24T21:55:31.635Z"
   },
   {
    "duration": 170,
    "start_time": "2021-12-24T21:55:32.219Z"
   },
   {
    "duration": 14,
    "start_time": "2021-12-24T21:55:32.391Z"
   },
   {
    "duration": 7,
    "start_time": "2021-12-24T21:55:32.407Z"
   },
   {
    "duration": 3,
    "start_time": "2021-12-24T21:55:32.416Z"
   },
   {
    "duration": 7,
    "start_time": "2021-12-24T21:55:32.421Z"
   },
   {
    "duration": 2,
    "start_time": "2021-12-24T21:55:32.430Z"
   },
   {
    "duration": 7,
    "start_time": "2021-12-24T21:55:32.434Z"
   },
   {
    "duration": 12,
    "start_time": "2021-12-24T21:55:32.443Z"
   },
   {
    "duration": 7,
    "start_time": "2021-12-24T21:55:32.457Z"
   },
   {
    "duration": 7,
    "start_time": "2021-12-24T21:55:32.465Z"
   },
   {
    "duration": 4,
    "start_time": "2021-12-24T21:55:32.473Z"
   },
   {
    "duration": 7,
    "start_time": "2021-12-24T21:55:32.478Z"
   },
   {
    "duration": 45,
    "start_time": "2021-12-24T21:55:32.487Z"
   },
   {
    "duration": 11,
    "start_time": "2021-12-24T21:55:32.533Z"
   },
   {
    "duration": 6,
    "start_time": "2021-12-24T21:55:32.545Z"
   },
   {
    "duration": 6,
    "start_time": "2021-12-24T21:55:32.553Z"
   },
   {
    "duration": 9,
    "start_time": "2021-12-24T21:55:32.561Z"
   },
   {
    "duration": 8,
    "start_time": "2021-12-24T21:55:32.571Z"
   },
   {
    "duration": 3,
    "start_time": "2021-12-24T21:55:32.580Z"
   },
   {
    "duration": 1957,
    "start_time": "2021-12-24T21:55:32.584Z"
   },
   {
    "duration": 7,
    "start_time": "2021-12-24T21:55:34.542Z"
   },
   {
    "duration": 13,
    "start_time": "2021-12-24T21:55:34.551Z"
   },
   {
    "duration": 8,
    "start_time": "2021-12-24T21:55:34.565Z"
   },
   {
    "duration": 4,
    "start_time": "2021-12-24T21:55:34.575Z"
   },
   {
    "duration": 8,
    "start_time": "2021-12-24T21:55:34.581Z"
   },
   {
    "duration": 8,
    "start_time": "2021-12-24T21:55:34.591Z"
   },
   {
    "duration": 3,
    "start_time": "2021-12-24T21:55:34.600Z"
   },
   {
    "duration": 24,
    "start_time": "2021-12-24T21:55:34.605Z"
   },
   {
    "duration": 20,
    "start_time": "2021-12-24T21:55:34.631Z"
   },
   {
    "duration": 2,
    "start_time": "2021-12-24T21:55:34.653Z"
   },
   {
    "duration": 14,
    "start_time": "2021-12-24T21:55:34.657Z"
   },
   {
    "duration": 3,
    "start_time": "2021-12-24T21:55:59.464Z"
   },
   {
    "duration": 13,
    "start_time": "2021-12-24T21:56:05.892Z"
   },
   {
    "duration": 6,
    "start_time": "2021-12-24T21:59:05.297Z"
   },
   {
    "duration": 91,
    "start_time": "2021-12-24T22:01:27.981Z"
   },
   {
    "duration": 348,
    "start_time": "2021-12-24T22:02:08.083Z"
   },
   {
    "duration": 396,
    "start_time": "2021-12-24T22:02:35.910Z"
   },
   {
    "duration": 352,
    "start_time": "2021-12-24T22:02:44.721Z"
   },
   {
    "duration": 12,
    "start_time": "2021-12-24T22:03:24.343Z"
   },
   {
    "duration": 5,
    "start_time": "2021-12-24T22:05:55.681Z"
   },
   {
    "duration": 14,
    "start_time": "2021-12-24T22:05:59.602Z"
   },
   {
    "duration": 7,
    "start_time": "2021-12-24T22:06:09.601Z"
   },
   {
    "duration": 531,
    "start_time": "2021-12-24T22:07:49.871Z"
   },
   {
    "duration": 170,
    "start_time": "2021-12-24T22:07:50.403Z"
   },
   {
    "duration": 13,
    "start_time": "2021-12-24T22:07:50.575Z"
   },
   {
    "duration": 8,
    "start_time": "2021-12-24T22:07:50.589Z"
   },
   {
    "duration": 5,
    "start_time": "2021-12-24T22:07:50.598Z"
   },
   {
    "duration": 7,
    "start_time": "2021-12-24T22:07:50.604Z"
   },
   {
    "duration": 5,
    "start_time": "2021-12-24T22:07:50.613Z"
   },
   {
    "duration": 9,
    "start_time": "2021-12-24T22:07:50.621Z"
   },
   {
    "duration": 16,
    "start_time": "2021-12-24T22:07:50.631Z"
   },
   {
    "duration": 11,
    "start_time": "2021-12-24T22:07:50.649Z"
   },
   {
    "duration": 8,
    "start_time": "2021-12-24T22:07:50.661Z"
   },
   {
    "duration": 3,
    "start_time": "2021-12-24T22:07:50.671Z"
   },
   {
    "duration": 7,
    "start_time": "2021-12-24T22:07:50.676Z"
   },
   {
    "duration": 15,
    "start_time": "2021-12-24T22:07:50.684Z"
   },
   {
    "duration": 13,
    "start_time": "2021-12-24T22:07:50.700Z"
   },
   {
    "duration": 13,
    "start_time": "2021-12-24T22:07:50.715Z"
   },
   {
    "duration": 7,
    "start_time": "2021-12-24T22:07:50.729Z"
   },
   {
    "duration": 7,
    "start_time": "2021-12-24T22:07:50.738Z"
   },
   {
    "duration": 8,
    "start_time": "2021-12-24T22:07:50.746Z"
   },
   {
    "duration": 6,
    "start_time": "2021-12-24T22:07:50.755Z"
   },
   {
    "duration": 1920,
    "start_time": "2021-12-24T22:07:50.762Z"
   },
   {
    "duration": 6,
    "start_time": "2021-12-24T22:07:52.684Z"
   },
   {
    "duration": 11,
    "start_time": "2021-12-24T22:07:52.693Z"
   },
   {
    "duration": 7,
    "start_time": "2021-12-24T22:07:52.705Z"
   },
   {
    "duration": 17,
    "start_time": "2021-12-24T22:07:52.713Z"
   },
   {
    "duration": 5,
    "start_time": "2021-12-24T22:07:52.732Z"
   },
   {
    "duration": 7,
    "start_time": "2021-12-24T22:07:52.739Z"
   },
   {
    "duration": 4,
    "start_time": "2021-12-24T22:07:52.747Z"
   },
   {
    "duration": 7,
    "start_time": "2021-12-24T22:07:52.752Z"
   },
   {
    "duration": 18,
    "start_time": "2021-12-24T22:07:52.760Z"
   },
   {
    "duration": 2,
    "start_time": "2021-12-24T22:07:52.779Z"
   },
   {
    "duration": 5,
    "start_time": "2021-12-24T22:07:52.783Z"
   },
   {
    "duration": 11,
    "start_time": "2021-12-24T22:07:52.789Z"
   },
   {
    "duration": 30,
    "start_time": "2021-12-24T22:07:52.802Z"
   },
   {
    "duration": 5,
    "start_time": "2021-12-24T22:07:52.834Z"
   },
   {
    "duration": 6,
    "start_time": "2021-12-24T22:07:52.840Z"
   },
   {
    "duration": 8,
    "start_time": "2021-12-24T22:07:52.848Z"
   },
   {
    "duration": 1201,
    "start_time": "2021-12-25T16:28:53.241Z"
   },
   {
    "duration": 2190,
    "start_time": "2021-12-25T16:28:54.444Z"
   },
   {
    "duration": 176,
    "start_time": "2021-12-25T16:29:17.071Z"
   },
   {
    "duration": 12,
    "start_time": "2021-12-25T16:29:18.195Z"
   },
   {
    "duration": 8,
    "start_time": "2021-12-25T16:29:18.658Z"
   },
   {
    "duration": 4,
    "start_time": "2021-12-25T16:29:18.980Z"
   },
   {
    "duration": 6,
    "start_time": "2021-12-25T16:29:19.186Z"
   },
   {
    "duration": 3,
    "start_time": "2021-12-25T16:29:19.563Z"
   },
   {
    "duration": 9,
    "start_time": "2021-12-25T16:29:19.743Z"
   },
   {
    "duration": 15,
    "start_time": "2021-12-25T16:29:20.070Z"
   },
   {
    "duration": 7,
    "start_time": "2021-12-25T16:29:20.369Z"
   },
   {
    "duration": 11,
    "start_time": "2021-12-25T16:29:20.829Z"
   },
   {
    "duration": 5,
    "start_time": "2021-12-25T16:29:20.970Z"
   },
   {
    "duration": 6,
    "start_time": "2021-12-25T16:29:21.126Z"
   },
   {
    "duration": 14,
    "start_time": "2021-12-25T16:29:21.435Z"
   },
   {
    "duration": 12,
    "start_time": "2021-12-25T16:29:21.599Z"
   },
   {
    "duration": 7,
    "start_time": "2021-12-25T16:29:22.214Z"
   },
   {
    "duration": 6,
    "start_time": "2021-12-25T16:29:22.364Z"
   },
   {
    "duration": 8,
    "start_time": "2021-12-25T16:29:22.686Z"
   },
   {
    "duration": 7,
    "start_time": "2021-12-25T16:29:22.840Z"
   },
   {
    "duration": 4,
    "start_time": "2021-12-25T16:29:23.144Z"
   },
   {
    "duration": 2077,
    "start_time": "2021-12-25T16:29:23.351Z"
   },
   {
    "duration": 7,
    "start_time": "2021-12-25T16:29:25.430Z"
   },
   {
    "duration": 22,
    "start_time": "2021-12-25T16:29:25.439Z"
   },
   {
    "duration": 7,
    "start_time": "2021-12-25T16:29:25.463Z"
   },
   {
    "duration": 5,
    "start_time": "2021-12-25T16:29:25.472Z"
   },
   {
    "duration": 7,
    "start_time": "2021-12-25T16:29:25.479Z"
   },
   {
    "duration": 8,
    "start_time": "2021-12-25T16:29:25.487Z"
   },
   {
    "duration": 6,
    "start_time": "2021-12-25T16:29:25.497Z"
   },
   {
    "duration": 9,
    "start_time": "2021-12-25T16:29:25.505Z"
   },
   {
    "duration": 20,
    "start_time": "2021-12-25T16:29:25.515Z"
   },
   {
    "duration": 24,
    "start_time": "2021-12-25T16:29:25.537Z"
   },
   {
    "duration": 3,
    "start_time": "2021-12-25T16:29:25.643Z"
   },
   {
    "duration": 15,
    "start_time": "2021-12-25T16:29:25.986Z"
   },
   {
    "duration": 9,
    "start_time": "2021-12-25T16:29:26.333Z"
   },
   {
    "duration": 5,
    "start_time": "2021-12-25T16:29:27.066Z"
   },
   {
    "duration": 6,
    "start_time": "2021-12-25T16:29:27.570Z"
   },
   {
    "duration": 8,
    "start_time": "2021-12-25T16:29:27.721Z"
   },
   {
    "duration": 3,
    "start_time": "2021-12-25T16:37:24.333Z"
   },
   {
    "duration": 10,
    "start_time": "2021-12-25T16:37:24.794Z"
   },
   {
    "duration": 4,
    "start_time": "2021-12-25T16:37:26.044Z"
   },
   {
    "duration": 6,
    "start_time": "2021-12-25T16:37:27.196Z"
   },
   {
    "duration": 5,
    "start_time": "2021-12-25T16:37:28.080Z"
   },
   {
    "duration": 8,
    "start_time": "2021-12-25T16:37:28.263Z"
   },
   {
    "duration": 7,
    "start_time": "2021-12-25T16:37:33.132Z"
   },
   {
    "duration": 12,
    "start_time": "2021-12-25T16:37:33.313Z"
   },
   {
    "duration": 5,
    "start_time": "2021-12-25T16:37:33.652Z"
   },
   {
    "duration": 4,
    "start_time": "2021-12-25T16:37:33.883Z"
   },
   {
    "duration": 4,
    "start_time": "2021-12-25T16:37:34.118Z"
   },
   {
    "duration": 303,
    "start_time": "2021-12-25T16:37:34.385Z"
   },
   {
    "duration": 4,
    "start_time": "2021-12-25T16:37:35.174Z"
   },
   {
    "duration": 4,
    "start_time": "2021-12-25T16:37:35.388Z"
   },
   {
    "duration": 41634,
    "start_time": "2021-12-25T16:37:35.545Z"
   },
   {
    "duration": 4,
    "start_time": "2021-12-25T16:38:17.188Z"
   },
   {
    "duration": 3129,
    "start_time": "2021-12-25T22:04:37.041Z"
   },
   {
    "duration": 4,
    "start_time": "2021-12-25T22:05:00.057Z"
   },
   {
    "duration": 1091,
    "start_time": "2021-12-25T22:05:00.062Z"
   },
   {
    "duration": 176,
    "start_time": "2021-12-25T22:05:01.155Z"
   },
   {
    "duration": 11,
    "start_time": "2021-12-25T22:05:01.333Z"
   },
   {
    "duration": 14,
    "start_time": "2021-12-25T22:05:01.346Z"
   },
   {
    "duration": 11,
    "start_time": "2021-12-25T22:05:01.361Z"
   },
   {
    "duration": 12,
    "start_time": "2021-12-25T22:05:01.374Z"
   },
   {
    "duration": 11,
    "start_time": "2021-12-25T22:05:01.388Z"
   },
   {
    "duration": 14,
    "start_time": "2021-12-25T22:05:01.401Z"
   },
   {
    "duration": 20,
    "start_time": "2021-12-25T22:05:01.417Z"
   },
   {
    "duration": 11,
    "start_time": "2021-12-25T22:05:01.439Z"
   },
   {
    "duration": 22,
    "start_time": "2021-12-25T22:05:01.451Z"
   },
   {
    "duration": 24,
    "start_time": "2021-12-25T22:05:01.475Z"
   },
   {
    "duration": 31,
    "start_time": "2021-12-25T22:05:01.500Z"
   },
   {
    "duration": 22,
    "start_time": "2021-12-25T22:05:01.533Z"
   },
   {
    "duration": 17,
    "start_time": "2021-12-25T22:05:01.557Z"
   },
   {
    "duration": 11,
    "start_time": "2021-12-25T22:05:01.575Z"
   },
   {
    "duration": 22,
    "start_time": "2021-12-25T22:05:01.587Z"
   },
   {
    "duration": 16,
    "start_time": "2021-12-25T22:05:01.612Z"
   },
   {
    "duration": 16,
    "start_time": "2021-12-25T22:05:01.631Z"
   },
   {
    "duration": 7,
    "start_time": "2021-12-25T22:05:01.649Z"
   },
   {
    "duration": 2061,
    "start_time": "2021-12-25T22:05:01.658Z"
   },
   {
    "duration": 11,
    "start_time": "2021-12-25T22:05:03.720Z"
   },
   {
    "duration": 19,
    "start_time": "2021-12-25T22:05:03.733Z"
   },
   {
    "duration": 7,
    "start_time": "2021-12-25T22:05:03.755Z"
   },
   {
    "duration": 6,
    "start_time": "2021-12-25T22:05:03.763Z"
   },
   {
    "duration": 7,
    "start_time": "2021-12-25T22:05:03.771Z"
   },
   {
    "duration": 11,
    "start_time": "2021-12-25T22:05:03.779Z"
   },
   {
    "duration": 5,
    "start_time": "2021-12-25T22:05:03.792Z"
   },
   {
    "duration": 32,
    "start_time": "2021-12-25T22:05:03.798Z"
   },
   {
    "duration": 21,
    "start_time": "2021-12-25T22:05:03.832Z"
   },
   {
    "duration": 3,
    "start_time": "2021-12-25T22:05:03.855Z"
   },
   {
    "duration": 6,
    "start_time": "2021-12-25T22:05:03.860Z"
   },
   {
    "duration": 13,
    "start_time": "2021-12-25T22:05:03.868Z"
   },
   {
    "duration": 6,
    "start_time": "2021-12-25T22:05:03.882Z"
   },
   {
    "duration": 3,
    "start_time": "2021-12-25T22:05:03.890Z"
   },
   {
    "duration": 32,
    "start_time": "2021-12-25T22:05:03.895Z"
   },
   {
    "duration": 8,
    "start_time": "2021-12-25T22:05:03.930Z"
   },
   {
    "duration": 4,
    "start_time": "2021-12-25T22:05:03.940Z"
   },
   {
    "duration": 15,
    "start_time": "2021-12-25T22:05:03.946Z"
   },
   {
    "duration": 5,
    "start_time": "2021-12-25T22:05:03.963Z"
   },
   {
    "duration": 7,
    "start_time": "2021-12-25T22:05:03.969Z"
   },
   {
    "duration": 6,
    "start_time": "2021-12-25T22:05:03.977Z"
   },
   {
    "duration": 7,
    "start_time": "2021-12-25T22:05:03.984Z"
   },
   {
    "duration": 36,
    "start_time": "2021-12-25T22:05:03.993Z"
   },
   {
    "duration": 196,
    "start_time": "2021-12-25T22:05:04.031Z"
   },
   {
    "duration": 5,
    "start_time": "2021-12-25T22:05:04.230Z"
   },
   {
    "duration": 12,
    "start_time": "2021-12-25T22:05:04.237Z"
   },
   {
    "duration": 10,
    "start_time": "2021-12-25T22:05:04.251Z"
   },
   {
    "duration": 276,
    "start_time": "2021-12-25T22:05:04.263Z"
   },
   {
    "duration": 3,
    "start_time": "2021-12-25T22:05:04.541Z"
   },
   {
    "duration": 8,
    "start_time": "2021-12-25T22:05:04.547Z"
   },
   {
    "duration": 7475,
    "start_time": "2021-12-25T22:05:04.557Z"
   },
   {
    "duration": 3,
    "start_time": "2021-12-25T22:05:12.034Z"
   },
   {
    "duration": 1081,
    "start_time": "2021-12-25T22:15:53.667Z"
   },
   {
    "duration": 169,
    "start_time": "2021-12-25T22:15:54.750Z"
   },
   {
    "duration": 11,
    "start_time": "2021-12-25T22:15:54.921Z"
   },
   {
    "duration": 8,
    "start_time": "2021-12-25T22:15:54.933Z"
   },
   {
    "duration": 3,
    "start_time": "2021-12-25T22:15:54.943Z"
   },
   {
    "duration": 7,
    "start_time": "2021-12-25T22:15:54.948Z"
   },
   {
    "duration": 5,
    "start_time": "2021-12-25T22:15:54.957Z"
   },
   {
    "duration": 10,
    "start_time": "2021-12-25T22:15:54.965Z"
   },
   {
    "duration": 18,
    "start_time": "2021-12-25T22:15:54.976Z"
   },
   {
    "duration": 35,
    "start_time": "2021-12-25T22:15:54.996Z"
   },
   {
    "duration": 12,
    "start_time": "2021-12-25T22:15:55.032Z"
   },
   {
    "duration": 8,
    "start_time": "2021-12-25T22:15:55.045Z"
   },
   {
    "duration": 8,
    "start_time": "2021-12-25T22:15:55.054Z"
   },
   {
    "duration": 16,
    "start_time": "2021-12-25T22:15:55.063Z"
   },
   {
    "duration": 10,
    "start_time": "2021-12-25T22:15:55.080Z"
   },
   {
    "duration": 8,
    "start_time": "2021-12-25T22:15:55.092Z"
   },
   {
    "duration": 10,
    "start_time": "2021-12-25T22:15:55.102Z"
   },
   {
    "duration": 7,
    "start_time": "2021-12-25T22:15:55.127Z"
   },
   {
    "duration": 7,
    "start_time": "2021-12-25T22:15:55.136Z"
   },
   {
    "duration": 4,
    "start_time": "2021-12-25T22:15:55.145Z"
   },
   {
    "duration": 1943,
    "start_time": "2021-12-25T22:15:55.150Z"
   },
   {
    "duration": 7,
    "start_time": "2021-12-25T22:15:57.094Z"
   },
   {
    "duration": 10,
    "start_time": "2021-12-25T22:15:57.104Z"
   },
   {
    "duration": 6,
    "start_time": "2021-12-25T22:15:57.127Z"
   },
   {
    "duration": 5,
    "start_time": "2021-12-25T22:15:57.134Z"
   },
   {
    "duration": 5,
    "start_time": "2021-12-25T22:15:57.140Z"
   },
   {
    "duration": 7,
    "start_time": "2021-12-25T22:15:57.147Z"
   },
   {
    "duration": 3,
    "start_time": "2021-12-25T22:15:57.156Z"
   },
   {
    "duration": 7,
    "start_time": "2021-12-25T22:15:57.161Z"
   },
   {
    "duration": 17,
    "start_time": "2021-12-25T22:15:57.169Z"
   },
   {
    "duration": 2,
    "start_time": "2021-12-25T22:15:57.187Z"
   },
   {
    "duration": 4,
    "start_time": "2021-12-25T22:15:57.191Z"
   },
   {
    "duration": 35,
    "start_time": "2021-12-25T22:15:57.196Z"
   },
   {
    "duration": 6,
    "start_time": "2021-12-25T22:15:57.233Z"
   },
   {
    "duration": 3,
    "start_time": "2021-12-25T22:15:57.240Z"
   },
   {
    "duration": 7,
    "start_time": "2021-12-25T22:15:57.244Z"
   },
   {
    "duration": 6,
    "start_time": "2021-12-25T22:15:57.252Z"
   },
   {
    "duration": 4,
    "start_time": "2021-12-25T22:15:57.259Z"
   },
   {
    "duration": 10,
    "start_time": "2021-12-25T22:15:57.264Z"
   },
   {
    "duration": 5,
    "start_time": "2021-12-25T22:15:57.275Z"
   },
   {
    "duration": 7,
    "start_time": "2021-12-25T22:15:57.281Z"
   },
   {
    "duration": 4,
    "start_time": "2021-12-25T22:15:57.289Z"
   },
   {
    "duration": 41,
    "start_time": "2021-12-25T22:15:57.294Z"
   },
   {
    "duration": 6,
    "start_time": "2021-12-25T22:15:57.336Z"
   },
   {
    "duration": 4,
    "start_time": "2021-12-25T22:15:57.343Z"
   },
   {
    "duration": 80,
    "start_time": "2021-12-25T22:15:57.348Z"
   },
   {
    "duration": 3,
    "start_time": "2021-12-25T22:15:57.431Z"
   },
   {
    "duration": 99,
    "start_time": "2021-12-25T22:15:57.436Z"
   },
   {
    "duration": 248,
    "start_time": "2021-12-25T22:15:57.537Z"
   },
   {
    "duration": 3,
    "start_time": "2021-12-25T22:15:57.786Z"
   },
   {
    "duration": 6,
    "start_time": "2021-12-25T22:15:57.790Z"
   },
   {
    "duration": 836,
    "start_time": "2021-12-25T22:15:57.798Z"
   },
   {
    "duration": 5,
    "start_time": "2021-12-25T22:15:58.636Z"
   },
   {
    "duration": 5,
    "start_time": "2021-12-25T22:15:58.642Z"
   },
   {
    "duration": 3,
    "start_time": "2021-12-25T22:16:03.379Z"
   },
   {
    "duration": 1064,
    "start_time": "2021-12-25T22:16:03.384Z"
   },
   {
    "duration": 170,
    "start_time": "2021-12-25T22:16:04.450Z"
   },
   {
    "duration": 10,
    "start_time": "2021-12-25T22:16:04.622Z"
   },
   {
    "duration": 7,
    "start_time": "2021-12-25T22:16:04.634Z"
   },
   {
    "duration": 6,
    "start_time": "2021-12-25T22:16:04.642Z"
   },
   {
    "duration": 6,
    "start_time": "2021-12-25T22:16:04.650Z"
   },
   {
    "duration": 3,
    "start_time": "2021-12-25T22:16:04.658Z"
   },
   {
    "duration": 10,
    "start_time": "2021-12-25T22:16:04.662Z"
   },
   {
    "duration": 13,
    "start_time": "2021-12-25T22:16:04.674Z"
   },
   {
    "duration": 7,
    "start_time": "2021-12-25T22:16:04.689Z"
   },
   {
    "duration": 36,
    "start_time": "2021-12-25T22:16:04.698Z"
   },
   {
    "duration": 5,
    "start_time": "2021-12-25T22:16:04.735Z"
   },
   {
    "duration": 7,
    "start_time": "2021-12-25T22:16:04.742Z"
   },
   {
    "duration": 13,
    "start_time": "2021-12-25T22:16:04.751Z"
   },
   {
    "duration": 11,
    "start_time": "2021-12-25T22:16:04.766Z"
   },
   {
    "duration": 7,
    "start_time": "2021-12-25T22:16:04.779Z"
   },
   {
    "duration": 8,
    "start_time": "2021-12-25T22:16:04.787Z"
   },
   {
    "duration": 6,
    "start_time": "2021-12-25T22:16:04.829Z"
   },
   {
    "duration": 7,
    "start_time": "2021-12-25T22:16:04.837Z"
   },
   {
    "duration": 4,
    "start_time": "2021-12-25T22:16:04.846Z"
   },
   {
    "duration": 1893,
    "start_time": "2021-12-25T22:16:04.852Z"
   },
   {
    "duration": 7,
    "start_time": "2021-12-25T22:16:06.747Z"
   },
   {
    "duration": 19,
    "start_time": "2021-12-25T22:16:06.756Z"
   },
   {
    "duration": 17,
    "start_time": "2021-12-25T22:16:06.776Z"
   },
   {
    "duration": 12,
    "start_time": "2021-12-25T22:16:06.794Z"
   },
   {
    "duration": 12,
    "start_time": "2021-12-25T22:16:06.808Z"
   },
   {
    "duration": 12,
    "start_time": "2021-12-25T22:16:06.821Z"
   },
   {
    "duration": 5,
    "start_time": "2021-12-25T22:16:06.834Z"
   },
   {
    "duration": 15,
    "start_time": "2021-12-25T22:16:06.841Z"
   },
   {
    "duration": 23,
    "start_time": "2021-12-25T22:16:06.857Z"
   },
   {
    "duration": 3,
    "start_time": "2021-12-25T22:16:06.882Z"
   },
   {
    "duration": 5,
    "start_time": "2021-12-25T22:16:06.886Z"
   },
   {
    "duration": 11,
    "start_time": "2021-12-25T22:16:06.893Z"
   },
   {
    "duration": 7,
    "start_time": "2021-12-25T22:16:06.906Z"
   },
   {
    "duration": 12,
    "start_time": "2021-12-25T22:16:06.915Z"
   },
   {
    "duration": 5,
    "start_time": "2021-12-25T22:16:06.929Z"
   },
   {
    "duration": 7,
    "start_time": "2021-12-25T22:16:06.936Z"
   },
   {
    "duration": 2,
    "start_time": "2021-12-25T22:16:06.944Z"
   },
   {
    "duration": 10,
    "start_time": "2021-12-25T22:16:06.948Z"
   },
   {
    "duration": 5,
    "start_time": "2021-12-25T22:16:06.959Z"
   },
   {
    "duration": 6,
    "start_time": "2021-12-25T22:16:06.965Z"
   },
   {
    "duration": 4,
    "start_time": "2021-12-25T22:16:06.972Z"
   },
   {
    "duration": 6,
    "start_time": "2021-12-25T22:16:06.978Z"
   },
   {
    "duration": 5,
    "start_time": "2021-12-25T22:16:06.985Z"
   },
   {
    "duration": 3,
    "start_time": "2021-12-25T22:16:07.027Z"
   },
   {
    "duration": 8,
    "start_time": "2021-12-25T22:16:07.032Z"
   },
   {
    "duration": 7,
    "start_time": "2021-12-25T22:16:07.129Z"
   },
   {
    "duration": 90,
    "start_time": "2021-12-25T22:16:07.139Z"
   },
   {
    "duration": 255,
    "start_time": "2021-12-25T22:16:07.231Z"
   },
   {
    "duration": 2,
    "start_time": "2021-12-25T22:16:07.488Z"
   },
   {
    "duration": 5,
    "start_time": "2021-12-25T22:16:07.492Z"
   },
   {
    "duration": 836,
    "start_time": "2021-12-25T22:16:07.499Z"
   },
   {
    "duration": 3,
    "start_time": "2021-12-25T22:16:08.337Z"
   },
   {
    "duration": 4,
    "start_time": "2021-12-25T22:16:08.344Z"
   },
   {
    "duration": 3185,
    "start_time": "2021-12-25T22:16:08.349Z"
   },
   {
    "duration": 4,
    "start_time": "2021-12-25T22:16:11.536Z"
   },
   {
    "duration": 93,
    "start_time": "2021-12-25T22:16:11.541Z"
   },
   {
    "duration": 4,
    "start_time": "2021-12-25T22:16:11.636Z"
   },
   {
    "duration": 313,
    "start_time": "2021-12-25T22:16:11.641Z"
   },
   {
    "duration": 98,
    "start_time": "2021-12-25T22:16:11.956Z"
   },
   {
    "duration": -1733,
    "start_time": "2021-12-25T22:16:13.789Z"
   },
   {
    "duration": 431,
    "start_time": "2021-12-25T22:16:25.163Z"
   },
   {
    "duration": 490,
    "start_time": "2021-12-25T22:16:30.166Z"
   },
   {
    "duration": 484,
    "start_time": "2021-12-25T22:16:47.240Z"
   },
   {
    "duration": 4,
    "start_time": "2021-12-25T22:17:29.562Z"
   },
   {
    "duration": 11,
    "start_time": "2021-12-25T22:17:53.952Z"
   },
   {
    "duration": 157,
    "start_time": "2021-12-25T22:18:00.486Z"
   },
   {
    "duration": 12,
    "start_time": "2021-12-25T22:34:21.215Z"
   },
   {
    "duration": 9,
    "start_time": "2021-12-25T22:34:27.930Z"
   },
   {
    "duration": 10,
    "start_time": "2021-12-25T22:36:31.173Z"
   },
   {
    "duration": 24,
    "start_time": "2021-12-25T22:36:49.934Z"
   },
   {
    "duration": 21,
    "start_time": "2021-12-25T22:37:13.471Z"
   },
   {
    "duration": 20,
    "start_time": "2021-12-25T22:39:26.314Z"
   },
   {
    "duration": 302,
    "start_time": "2021-12-25T22:40:19.104Z"
   },
   {
    "duration": 772,
    "start_time": "2021-12-25T22:40:32.296Z"
   },
   {
    "duration": 739,
    "start_time": "2021-12-25T22:40:47.620Z"
   },
   {
    "duration": 453,
    "start_time": "2021-12-25T22:40:56.128Z"
   },
   {
    "duration": 4,
    "start_time": "2021-12-25T22:42:55.501Z"
   },
   {
    "duration": 5,
    "start_time": "2021-12-25T22:43:02.116Z"
   },
   {
    "duration": 1206,
    "start_time": "2021-12-25T22:43:02.123Z"
   },
   {
    "duration": 172,
    "start_time": "2021-12-25T22:43:03.330Z"
   },
   {
    "duration": 10,
    "start_time": "2021-12-25T22:43:03.504Z"
   },
   {
    "duration": 9,
    "start_time": "2021-12-25T22:43:03.515Z"
   },
   {
    "duration": 3,
    "start_time": "2021-12-25T22:43:03.526Z"
   },
   {
    "duration": 7,
    "start_time": "2021-12-25T22:43:03.531Z"
   },
   {
    "duration": 2,
    "start_time": "2021-12-25T22:43:03.540Z"
   },
   {
    "duration": 8,
    "start_time": "2021-12-25T22:43:03.544Z"
   },
   {
    "duration": 13,
    "start_time": "2021-12-25T22:43:03.553Z"
   },
   {
    "duration": 8,
    "start_time": "2021-12-25T22:43:03.567Z"
   },
   {
    "duration": 10,
    "start_time": "2021-12-25T22:43:03.576Z"
   },
   {
    "duration": 4,
    "start_time": "2021-12-25T22:43:03.587Z"
   },
   {
    "duration": 7,
    "start_time": "2021-12-25T22:43:03.592Z"
   },
   {
    "duration": 11,
    "start_time": "2021-12-25T22:43:03.627Z"
   },
   {
    "duration": 13,
    "start_time": "2021-12-25T22:43:03.639Z"
   },
   {
    "duration": 12,
    "start_time": "2021-12-25T22:43:03.653Z"
   },
   {
    "duration": 7,
    "start_time": "2021-12-25T22:43:03.666Z"
   },
   {
    "duration": 13,
    "start_time": "2021-12-25T22:43:03.675Z"
   },
   {
    "duration": 7,
    "start_time": "2021-12-25T22:43:03.689Z"
   },
   {
    "duration": 2,
    "start_time": "2021-12-25T22:43:03.698Z"
   },
   {
    "duration": 1940,
    "start_time": "2021-12-25T22:43:03.702Z"
   },
   {
    "duration": 6,
    "start_time": "2021-12-25T22:43:05.646Z"
   },
   {
    "duration": 11,
    "start_time": "2021-12-25T22:43:05.654Z"
   },
   {
    "duration": 7,
    "start_time": "2021-12-25T22:43:05.666Z"
   },
   {
    "duration": 5,
    "start_time": "2021-12-25T22:43:05.675Z"
   },
   {
    "duration": 10,
    "start_time": "2021-12-25T22:43:05.681Z"
   },
   {
    "duration": 10,
    "start_time": "2021-12-25T22:43:05.692Z"
   },
   {
    "duration": 4,
    "start_time": "2021-12-25T22:43:05.703Z"
   },
   {
    "duration": 6,
    "start_time": "2021-12-25T22:43:05.727Z"
   },
   {
    "duration": 18,
    "start_time": "2021-12-25T22:43:05.734Z"
   },
   {
    "duration": 2,
    "start_time": "2021-12-25T22:43:05.754Z"
   },
   {
    "duration": 6,
    "start_time": "2021-12-25T22:43:05.757Z"
   },
   {
    "duration": 16,
    "start_time": "2021-12-25T22:43:05.764Z"
   },
   {
    "duration": 12,
    "start_time": "2021-12-25T22:43:05.781Z"
   },
   {
    "duration": 3,
    "start_time": "2021-12-25T22:43:05.794Z"
   },
   {
    "duration": 10,
    "start_time": "2021-12-25T22:43:05.799Z"
   },
   {
    "duration": 18,
    "start_time": "2021-12-25T22:43:05.810Z"
   },
   {
    "duration": 454,
    "start_time": "2021-12-25T22:43:05.829Z"
   },
   {
    "duration": 3,
    "start_time": "2021-12-25T22:43:06.284Z"
   },
   {
    "duration": 6,
    "start_time": "2021-12-25T22:43:06.289Z"
   },
   {
    "duration": 10,
    "start_time": "2021-12-25T22:43:06.297Z"
   },
   {
    "duration": 4,
    "start_time": "2021-12-25T22:43:06.309Z"
   },
   {
    "duration": 7,
    "start_time": "2021-12-25T22:43:06.327Z"
   },
   {
    "duration": 5,
    "start_time": "2021-12-25T22:43:06.336Z"
   },
   {
    "duration": 8,
    "start_time": "2021-12-25T22:43:06.342Z"
   },
   {
    "duration": 4,
    "start_time": "2021-12-25T22:43:06.352Z"
   },
   {
    "duration": 3,
    "start_time": "2021-12-25T22:43:06.358Z"
   },
   {
    "duration": 7,
    "start_time": "2021-12-25T22:43:06.362Z"
   },
   {
    "duration": 6,
    "start_time": "2021-12-25T22:43:06.370Z"
   },
   {
    "duration": 6,
    "start_time": "2021-12-25T22:43:06.377Z"
   },
   {
    "duration": 270,
    "start_time": "2021-12-25T22:43:06.385Z"
   },
   {
    "duration": 2,
    "start_time": "2021-12-25T22:43:06.657Z"
   },
   {
    "duration": 5,
    "start_time": "2021-12-25T22:43:06.661Z"
   },
   {
    "duration": 963,
    "start_time": "2021-12-25T22:43:06.667Z"
   },
   {
    "duration": 3,
    "start_time": "2021-12-25T22:43:07.632Z"
   },
   {
    "duration": 4,
    "start_time": "2021-12-25T22:43:07.637Z"
   },
   {
    "duration": 3295,
    "start_time": "2021-12-25T22:43:07.643Z"
   },
   {
    "duration": 4,
    "start_time": "2021-12-25T22:43:10.940Z"
   },
   {
    "duration": 84,
    "start_time": "2021-12-25T22:43:10.946Z"
   },
   {
    "duration": 6,
    "start_time": "2021-12-25T22:43:11.032Z"
   },
   {
    "duration": 338,
    "start_time": "2021-12-25T22:43:11.039Z"
   },
   {
    "duration": 10,
    "start_time": "2021-12-25T22:43:11.378Z"
   },
   {
    "duration": 256,
    "start_time": "2021-12-25T22:43:11.390Z"
   },
   {
    "duration": 4,
    "start_time": "2021-12-25T22:57:02.869Z"
   },
   {
    "duration": 1118,
    "start_time": "2021-12-25T22:57:02.875Z"
   },
   {
    "duration": 178,
    "start_time": "2021-12-25T22:57:03.995Z"
   },
   {
    "duration": 11,
    "start_time": "2021-12-25T22:57:04.175Z"
   },
   {
    "duration": 9,
    "start_time": "2021-12-25T22:57:04.188Z"
   },
   {
    "duration": 5,
    "start_time": "2021-12-25T22:57:04.199Z"
   },
   {
    "duration": 9,
    "start_time": "2021-12-25T22:57:04.205Z"
   },
   {
    "duration": 4,
    "start_time": "2021-12-25T22:57:04.217Z"
   },
   {
    "duration": 9,
    "start_time": "2021-12-25T22:57:04.223Z"
   },
   {
    "duration": 18,
    "start_time": "2021-12-25T22:57:04.234Z"
   },
   {
    "duration": 8,
    "start_time": "2021-12-25T22:57:04.254Z"
   },
   {
    "duration": 13,
    "start_time": "2021-12-25T22:57:04.263Z"
   },
   {
    "duration": 4,
    "start_time": "2021-12-25T22:57:04.278Z"
   },
   {
    "duration": 7,
    "start_time": "2021-12-25T22:57:04.283Z"
   },
   {
    "duration": 42,
    "start_time": "2021-12-25T22:57:04.291Z"
   },
   {
    "duration": 8,
    "start_time": "2021-12-25T22:57:04.335Z"
   },
   {
    "duration": 9,
    "start_time": "2021-12-25T22:57:04.345Z"
   },
   {
    "duration": 6,
    "start_time": "2021-12-25T22:57:04.355Z"
   },
   {
    "duration": 8,
    "start_time": "2021-12-25T22:57:04.363Z"
   },
   {
    "duration": 7,
    "start_time": "2021-12-25T22:57:04.373Z"
   },
   {
    "duration": 4,
    "start_time": "2021-12-25T22:57:04.382Z"
   },
   {
    "duration": 1943,
    "start_time": "2021-12-25T22:57:04.387Z"
   },
   {
    "duration": 7,
    "start_time": "2021-12-25T22:57:06.334Z"
   },
   {
    "duration": 11,
    "start_time": "2021-12-25T22:57:06.343Z"
   },
   {
    "duration": 7,
    "start_time": "2021-12-25T22:57:06.356Z"
   },
   {
    "duration": 7,
    "start_time": "2021-12-25T22:57:06.364Z"
   },
   {
    "duration": 5,
    "start_time": "2021-12-25T22:57:06.373Z"
   },
   {
    "duration": 7,
    "start_time": "2021-12-25T22:57:06.379Z"
   },
   {
    "duration": 3,
    "start_time": "2021-12-25T22:57:06.428Z"
   },
   {
    "duration": 8,
    "start_time": "2021-12-25T22:57:06.433Z"
   },
   {
    "duration": 23,
    "start_time": "2021-12-25T22:57:06.442Z"
   },
   {
    "duration": 3,
    "start_time": "2021-12-25T22:57:06.466Z"
   },
   {
    "duration": 9,
    "start_time": "2021-12-25T22:57:06.470Z"
   },
   {
    "duration": 14,
    "start_time": "2021-12-25T22:57:06.480Z"
   },
   {
    "duration": 6,
    "start_time": "2021-12-25T22:57:06.495Z"
   },
   {
    "duration": 3,
    "start_time": "2021-12-25T22:57:06.503Z"
   },
   {
    "duration": 5,
    "start_time": "2021-12-25T22:57:06.528Z"
   },
   {
    "duration": 8,
    "start_time": "2021-12-25T22:57:06.534Z"
   },
   {
    "duration": 484,
    "start_time": "2021-12-25T22:57:06.544Z"
   },
   {
    "duration": 4,
    "start_time": "2021-12-25T22:57:07.030Z"
   },
   {
    "duration": 5,
    "start_time": "2021-12-25T22:57:07.036Z"
   },
   {
    "duration": 10,
    "start_time": "2021-12-25T22:57:07.042Z"
   },
   {
    "duration": 4,
    "start_time": "2021-12-25T22:57:07.054Z"
   },
   {
    "duration": 6,
    "start_time": "2021-12-25T22:57:07.060Z"
   },
   {
    "duration": 4,
    "start_time": "2021-12-25T22:57:07.067Z"
   },
   {
    "duration": 8,
    "start_time": "2021-12-25T22:57:07.073Z"
   },
   {
    "duration": 5,
    "start_time": "2021-12-25T22:57:07.082Z"
   },
   {
    "duration": 3,
    "start_time": "2021-12-25T22:57:07.089Z"
   },
   {
    "duration": 37,
    "start_time": "2021-12-25T22:57:07.093Z"
   },
   {
    "duration": 5,
    "start_time": "2021-12-25T22:57:07.132Z"
   },
   {
    "duration": 5,
    "start_time": "2021-12-25T22:57:07.138Z"
   },
   {
    "duration": 264,
    "start_time": "2021-12-25T22:57:07.145Z"
   },
   {
    "duration": 2,
    "start_time": "2021-12-25T22:57:07.411Z"
   },
   {
    "duration": 12,
    "start_time": "2021-12-25T22:57:07.415Z"
   },
   {
    "duration": 3410,
    "start_time": "2021-12-25T22:57:07.428Z"
   },
   {
    "duration": 91,
    "start_time": "2021-12-25T22:57:10.839Z"
   }
  ],
  "kernelspec": {
   "display_name": "Python 3",
   "language": "python",
   "name": "python3"
  },
  "language_info": {
   "codemirror_mode": {
    "name": "ipython",
    "version": 3
   },
   "file_extension": ".py",
   "mimetype": "text/x-python",
   "name": "python",
   "nbconvert_exporter": "python",
   "pygments_lexer": "ipython3",
   "version": "3.8.8"
  },
  "toc": {
   "base_numbering": 1,
   "nav_menu": {},
   "number_sections": true,
   "sideBar": true,
   "skip_h1_title": true,
   "title_cell": "Table of Contents",
   "title_sidebar": "Contents",
   "toc_cell": false,
   "toc_position": {},
   "toc_section_display": true,
   "toc_window_display": false
  }
 },
 "nbformat": 4,
 "nbformat_minor": 2
}
