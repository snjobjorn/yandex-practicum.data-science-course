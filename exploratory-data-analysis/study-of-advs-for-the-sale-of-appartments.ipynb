{
 "cells": [
  {
   "cell_type": "markdown",
   "metadata": {
    "toc": true
   },
   "source": [
    "<h1>Содержание<span class=\"tocSkip\"></span></h1>\n",
    "<div class=\"toc\"><ul class=\"toc-item\"><li><span><a href=\"#Изучение-данных-из-файла\" data-toc-modified-id=\"Изучение-данных-из-файла-1\"><span class=\"toc-item-num\">1&nbsp;&nbsp;</span>Изучение данных из файла</a></span><ul class=\"toc-item\"><li><span><a href=\"#Вывод\" data-toc-modified-id=\"Вывод-1.1\"><span class=\"toc-item-num\">1.1&nbsp;&nbsp;</span>Вывод</a></span></li></ul></li><li><span><a href=\"#Предобработка-данных\" data-toc-modified-id=\"Предобработка-данных-2\"><span class=\"toc-item-num\">2&nbsp;&nbsp;</span>Предобработка данных</a></span></li><li><span><a href=\"#Расчёты-и-добавление-результатов-в-таблицу\" data-toc-modified-id=\"Расчёты-и-добавление-результатов-в-таблицу-3\"><span class=\"toc-item-num\">3&nbsp;&nbsp;</span>Расчёты и добавление результатов в таблицу</a></span></li><li><span><a href=\"#Исследовательский-анализ-данных\" data-toc-modified-id=\"Исследовательский-анализ-данных-4\"><span class=\"toc-item-num\">4&nbsp;&nbsp;</span>Исследовательский анализ данных</a></span></li><li><span><a href=\"#Общий-вывод\" data-toc-modified-id=\"Общий-вывод-5\"><span class=\"toc-item-num\">5&nbsp;&nbsp;</span>Общий вывод</a></span></li><li><span><a href=\"#Чек-лист-готовности-проекта\" data-toc-modified-id=\"Чек-лист-готовности-проекта-6\"><span class=\"toc-item-num\">6&nbsp;&nbsp;</span>Чек-лист готовности проекта</a></span></li></ul></div>"
   ]
  },
  {
   "cell_type": "markdown",
   "metadata": {},
   "source": [
    "# Исследование объявлений о продаже квартир\n",
    "\n",
    "В вашем распоряжении данные сервиса Яндекс.Недвижимость — архив объявлений о продаже квартир в Санкт-Петербурге и соседних населённых пунктах за несколько лет. Нужно научиться определять рыночную стоимость объектов недвижимости. Ваша задача — установить параметры. Это позволит построить автоматизированную систему: она отследит аномалии и мошенническую деятельность. \n",
    "\n",
    "По каждой квартире на продажу доступны два вида данных. Первые вписаны пользователем, вторые получены автоматически на основе картографических данных. Например, расстояние до центра, аэропорта, ближайшего парка и водоёма. "
   ]
  },
  {
   "cell_type": "markdown",
   "metadata": {},
   "source": [
    "## Изучение данных из файла"
   ]
  },
  {
   "cell_type": "markdown",
   "metadata": {},
   "source": [
    "**Изучение общей информации**"
   ]
  },
  {
   "cell_type": "markdown",
   "metadata": {},
   "source": [
    "<font color='blue'> Примечание: блок \"изучение данных из файла\" отчасти будет содержать элементы предобработки данных. Мне показалось логичнее и удобнее анализировать данные постепенно по столбикам. Отчасти здесь я постараюсь: \n",
    "<div>\n",
    "    - определить и изучить пропущенные значения: предположу о наличии логичных замен для значений, предположу о причинах, которые могли привести к пропускам в данных\n",
    "<div>\n",
    "    - пояснить, в каких столбцах нужно изменить тип данных и почему\n",
    "<div>\n",
    "    - кое-где даже сделать операции по предобработке данных\n",
    "    \n",
    "Следующий раздел (\"Предобработка данных\") больше будет содержать именно код, а не умозаключения.\n",
    "</font> "
   ]
  },
  {
   "cell_type": "code",
   "execution_count": 1,
   "metadata": {},
   "outputs": [
    {
     "name": "stdout",
     "output_type": "stream",
     "text": [
      "<class 'pandas.core.frame.DataFrame'>\n",
      "RangeIndex: 23699 entries, 0 to 23698\n",
      "Data columns (total 22 columns):\n",
      "total_images            23699 non-null int64\n",
      "last_price              23699 non-null float64\n",
      "total_area              23699 non-null float64\n",
      "first_day_exposition    23699 non-null object\n",
      "rooms                   23699 non-null int64\n",
      "ceiling_height          14504 non-null float64\n",
      "floors_total            23613 non-null float64\n",
      "living_area             21796 non-null float64\n",
      "floor                   23699 non-null int64\n",
      "is_apartment            2775 non-null object\n",
      "studio                  23699 non-null bool\n",
      "open_plan               23699 non-null bool\n",
      "kitchen_area            21421 non-null float64\n",
      "balcony                 12180 non-null float64\n",
      "locality_name           23650 non-null object\n",
      "airports_nearest        18157 non-null float64\n",
      "cityCenters_nearest     18180 non-null float64\n",
      "parks_around3000        18181 non-null float64\n",
      "parks_nearest           8079 non-null float64\n",
      "ponds_around3000        18181 non-null float64\n",
      "ponds_nearest           9110 non-null float64\n",
      "days_exposition         20518 non-null float64\n",
      "dtypes: bool(2), float64(14), int64(3), object(3)\n",
      "memory usage: 3.7+ MB\n"
     ]
    },
    {
     "data": {
      "text/html": [
       "<div>\n",
       "<style scoped>\n",
       "    .dataframe tbody tr th:only-of-type {\n",
       "        vertical-align: middle;\n",
       "    }\n",
       "\n",
       "    .dataframe tbody tr th {\n",
       "        vertical-align: top;\n",
       "    }\n",
       "\n",
       "    .dataframe thead th {\n",
       "        text-align: right;\n",
       "    }\n",
       "</style>\n",
       "<table border=\"1\" class=\"dataframe\">\n",
       "  <thead>\n",
       "    <tr style=\"text-align: right;\">\n",
       "      <th></th>\n",
       "      <th>total_images</th>\n",
       "      <th>last_price</th>\n",
       "      <th>total_area</th>\n",
       "      <th>first_day_exposition</th>\n",
       "      <th>rooms</th>\n",
       "      <th>ceiling_height</th>\n",
       "      <th>floors_total</th>\n",
       "      <th>living_area</th>\n",
       "      <th>floor</th>\n",
       "      <th>is_apartment</th>\n",
       "      <th>...</th>\n",
       "      <th>kitchen_area</th>\n",
       "      <th>balcony</th>\n",
       "      <th>locality_name</th>\n",
       "      <th>airports_nearest</th>\n",
       "      <th>cityCenters_nearest</th>\n",
       "      <th>parks_around3000</th>\n",
       "      <th>parks_nearest</th>\n",
       "      <th>ponds_around3000</th>\n",
       "      <th>ponds_nearest</th>\n",
       "      <th>days_exposition</th>\n",
       "    </tr>\n",
       "  </thead>\n",
       "  <tbody>\n",
       "    <tr>\n",
       "      <td>0</td>\n",
       "      <td>20</td>\n",
       "      <td>13000000.0</td>\n",
       "      <td>108.00</td>\n",
       "      <td>2019-03-07T00:00:00</td>\n",
       "      <td>3</td>\n",
       "      <td>2.70</td>\n",
       "      <td>16.0</td>\n",
       "      <td>51.00</td>\n",
       "      <td>8</td>\n",
       "      <td>NaN</td>\n",
       "      <td>...</td>\n",
       "      <td>25.00</td>\n",
       "      <td>NaN</td>\n",
       "      <td>Санкт-Петербург</td>\n",
       "      <td>18863.0</td>\n",
       "      <td>16028.0</td>\n",
       "      <td>1.0</td>\n",
       "      <td>482.0</td>\n",
       "      <td>2.0</td>\n",
       "      <td>755.0</td>\n",
       "      <td>NaN</td>\n",
       "    </tr>\n",
       "    <tr>\n",
       "      <td>1</td>\n",
       "      <td>7</td>\n",
       "      <td>3350000.0</td>\n",
       "      <td>40.40</td>\n",
       "      <td>2018-12-04T00:00:00</td>\n",
       "      <td>1</td>\n",
       "      <td>NaN</td>\n",
       "      <td>11.0</td>\n",
       "      <td>18.60</td>\n",
       "      <td>1</td>\n",
       "      <td>NaN</td>\n",
       "      <td>...</td>\n",
       "      <td>11.00</td>\n",
       "      <td>2.0</td>\n",
       "      <td>посёлок Шушары</td>\n",
       "      <td>12817.0</td>\n",
       "      <td>18603.0</td>\n",
       "      <td>0.0</td>\n",
       "      <td>NaN</td>\n",
       "      <td>0.0</td>\n",
       "      <td>NaN</td>\n",
       "      <td>81.0</td>\n",
       "    </tr>\n",
       "    <tr>\n",
       "      <td>2</td>\n",
       "      <td>10</td>\n",
       "      <td>5196000.0</td>\n",
       "      <td>56.00</td>\n",
       "      <td>2015-08-20T00:00:00</td>\n",
       "      <td>2</td>\n",
       "      <td>NaN</td>\n",
       "      <td>5.0</td>\n",
       "      <td>34.30</td>\n",
       "      <td>4</td>\n",
       "      <td>NaN</td>\n",
       "      <td>...</td>\n",
       "      <td>8.30</td>\n",
       "      <td>0.0</td>\n",
       "      <td>Санкт-Петербург</td>\n",
       "      <td>21741.0</td>\n",
       "      <td>13933.0</td>\n",
       "      <td>1.0</td>\n",
       "      <td>90.0</td>\n",
       "      <td>2.0</td>\n",
       "      <td>574.0</td>\n",
       "      <td>558.0</td>\n",
       "    </tr>\n",
       "    <tr>\n",
       "      <td>3</td>\n",
       "      <td>0</td>\n",
       "      <td>64900000.0</td>\n",
       "      <td>159.00</td>\n",
       "      <td>2015-07-24T00:00:00</td>\n",
       "      <td>3</td>\n",
       "      <td>NaN</td>\n",
       "      <td>14.0</td>\n",
       "      <td>NaN</td>\n",
       "      <td>9</td>\n",
       "      <td>NaN</td>\n",
       "      <td>...</td>\n",
       "      <td>NaN</td>\n",
       "      <td>0.0</td>\n",
       "      <td>Санкт-Петербург</td>\n",
       "      <td>28098.0</td>\n",
       "      <td>6800.0</td>\n",
       "      <td>2.0</td>\n",
       "      <td>84.0</td>\n",
       "      <td>3.0</td>\n",
       "      <td>234.0</td>\n",
       "      <td>424.0</td>\n",
       "    </tr>\n",
       "    <tr>\n",
       "      <td>4</td>\n",
       "      <td>2</td>\n",
       "      <td>10000000.0</td>\n",
       "      <td>100.00</td>\n",
       "      <td>2018-06-19T00:00:00</td>\n",
       "      <td>2</td>\n",
       "      <td>3.03</td>\n",
       "      <td>14.0</td>\n",
       "      <td>32.00</td>\n",
       "      <td>13</td>\n",
       "      <td>NaN</td>\n",
       "      <td>...</td>\n",
       "      <td>41.00</td>\n",
       "      <td>NaN</td>\n",
       "      <td>Санкт-Петербург</td>\n",
       "      <td>31856.0</td>\n",
       "      <td>8098.0</td>\n",
       "      <td>2.0</td>\n",
       "      <td>112.0</td>\n",
       "      <td>1.0</td>\n",
       "      <td>48.0</td>\n",
       "      <td>121.0</td>\n",
       "    </tr>\n",
       "    <tr>\n",
       "      <td>5</td>\n",
       "      <td>10</td>\n",
       "      <td>2890000.0</td>\n",
       "      <td>30.40</td>\n",
       "      <td>2018-09-10T00:00:00</td>\n",
       "      <td>1</td>\n",
       "      <td>NaN</td>\n",
       "      <td>12.0</td>\n",
       "      <td>14.40</td>\n",
       "      <td>5</td>\n",
       "      <td>NaN</td>\n",
       "      <td>...</td>\n",
       "      <td>9.10</td>\n",
       "      <td>NaN</td>\n",
       "      <td>городской посёлок Янино-1</td>\n",
       "      <td>NaN</td>\n",
       "      <td>NaN</td>\n",
       "      <td>NaN</td>\n",
       "      <td>NaN</td>\n",
       "      <td>NaN</td>\n",
       "      <td>NaN</td>\n",
       "      <td>55.0</td>\n",
       "    </tr>\n",
       "    <tr>\n",
       "      <td>6</td>\n",
       "      <td>6</td>\n",
       "      <td>3700000.0</td>\n",
       "      <td>37.30</td>\n",
       "      <td>2017-11-02T00:00:00</td>\n",
       "      <td>1</td>\n",
       "      <td>NaN</td>\n",
       "      <td>26.0</td>\n",
       "      <td>10.60</td>\n",
       "      <td>6</td>\n",
       "      <td>NaN</td>\n",
       "      <td>...</td>\n",
       "      <td>14.40</td>\n",
       "      <td>1.0</td>\n",
       "      <td>посёлок Парголово</td>\n",
       "      <td>52996.0</td>\n",
       "      <td>19143.0</td>\n",
       "      <td>0.0</td>\n",
       "      <td>NaN</td>\n",
       "      <td>0.0</td>\n",
       "      <td>NaN</td>\n",
       "      <td>155.0</td>\n",
       "    </tr>\n",
       "    <tr>\n",
       "      <td>7</td>\n",
       "      <td>5</td>\n",
       "      <td>7915000.0</td>\n",
       "      <td>71.60</td>\n",
       "      <td>2019-04-18T00:00:00</td>\n",
       "      <td>2</td>\n",
       "      <td>NaN</td>\n",
       "      <td>24.0</td>\n",
       "      <td>NaN</td>\n",
       "      <td>22</td>\n",
       "      <td>NaN</td>\n",
       "      <td>...</td>\n",
       "      <td>18.90</td>\n",
       "      <td>2.0</td>\n",
       "      <td>Санкт-Петербург</td>\n",
       "      <td>23982.0</td>\n",
       "      <td>11634.0</td>\n",
       "      <td>0.0</td>\n",
       "      <td>NaN</td>\n",
       "      <td>0.0</td>\n",
       "      <td>NaN</td>\n",
       "      <td>NaN</td>\n",
       "    </tr>\n",
       "    <tr>\n",
       "      <td>8</td>\n",
       "      <td>20</td>\n",
       "      <td>2900000.0</td>\n",
       "      <td>33.16</td>\n",
       "      <td>2018-05-23T00:00:00</td>\n",
       "      <td>1</td>\n",
       "      <td>NaN</td>\n",
       "      <td>27.0</td>\n",
       "      <td>15.43</td>\n",
       "      <td>26</td>\n",
       "      <td>NaN</td>\n",
       "      <td>...</td>\n",
       "      <td>8.81</td>\n",
       "      <td>NaN</td>\n",
       "      <td>посёлок Мурино</td>\n",
       "      <td>NaN</td>\n",
       "      <td>NaN</td>\n",
       "      <td>NaN</td>\n",
       "      <td>NaN</td>\n",
       "      <td>NaN</td>\n",
       "      <td>NaN</td>\n",
       "      <td>189.0</td>\n",
       "    </tr>\n",
       "    <tr>\n",
       "      <td>9</td>\n",
       "      <td>18</td>\n",
       "      <td>5400000.0</td>\n",
       "      <td>61.00</td>\n",
       "      <td>2017-02-26T00:00:00</td>\n",
       "      <td>3</td>\n",
       "      <td>2.50</td>\n",
       "      <td>9.0</td>\n",
       "      <td>43.60</td>\n",
       "      <td>7</td>\n",
       "      <td>NaN</td>\n",
       "      <td>...</td>\n",
       "      <td>6.50</td>\n",
       "      <td>2.0</td>\n",
       "      <td>Санкт-Петербург</td>\n",
       "      <td>50898.0</td>\n",
       "      <td>15008.0</td>\n",
       "      <td>0.0</td>\n",
       "      <td>NaN</td>\n",
       "      <td>0.0</td>\n",
       "      <td>NaN</td>\n",
       "      <td>289.0</td>\n",
       "    </tr>\n",
       "    <tr>\n",
       "      <td>10</td>\n",
       "      <td>5</td>\n",
       "      <td>5050000.0</td>\n",
       "      <td>39.60</td>\n",
       "      <td>2017-11-16T00:00:00</td>\n",
       "      <td>1</td>\n",
       "      <td>2.67</td>\n",
       "      <td>12.0</td>\n",
       "      <td>20.30</td>\n",
       "      <td>3</td>\n",
       "      <td>NaN</td>\n",
       "      <td>...</td>\n",
       "      <td>8.50</td>\n",
       "      <td>NaN</td>\n",
       "      <td>Санкт-Петербург</td>\n",
       "      <td>38357.0</td>\n",
       "      <td>13878.0</td>\n",
       "      <td>1.0</td>\n",
       "      <td>310.0</td>\n",
       "      <td>2.0</td>\n",
       "      <td>553.0</td>\n",
       "      <td>137.0</td>\n",
       "    </tr>\n",
       "    <tr>\n",
       "      <td>11</td>\n",
       "      <td>9</td>\n",
       "      <td>3300000.0</td>\n",
       "      <td>44.00</td>\n",
       "      <td>2018-08-27T00:00:00</td>\n",
       "      <td>2</td>\n",
       "      <td>NaN</td>\n",
       "      <td>5.0</td>\n",
       "      <td>31.00</td>\n",
       "      <td>4</td>\n",
       "      <td>False</td>\n",
       "      <td>...</td>\n",
       "      <td>6.00</td>\n",
       "      <td>1.0</td>\n",
       "      <td>Ломоносов</td>\n",
       "      <td>48252.0</td>\n",
       "      <td>51677.0</td>\n",
       "      <td>0.0</td>\n",
       "      <td>NaN</td>\n",
       "      <td>0.0</td>\n",
       "      <td>NaN</td>\n",
       "      <td>7.0</td>\n",
       "    </tr>\n",
       "    <tr>\n",
       "      <td>12</td>\n",
       "      <td>10</td>\n",
       "      <td>3890000.0</td>\n",
       "      <td>54.00</td>\n",
       "      <td>2016-06-30T00:00:00</td>\n",
       "      <td>2</td>\n",
       "      <td>NaN</td>\n",
       "      <td>5.0</td>\n",
       "      <td>30.00</td>\n",
       "      <td>5</td>\n",
       "      <td>NaN</td>\n",
       "      <td>...</td>\n",
       "      <td>9.00</td>\n",
       "      <td>0.0</td>\n",
       "      <td>Сертолово</td>\n",
       "      <td>NaN</td>\n",
       "      <td>NaN</td>\n",
       "      <td>NaN</td>\n",
       "      <td>NaN</td>\n",
       "      <td>NaN</td>\n",
       "      <td>NaN</td>\n",
       "      <td>90.0</td>\n",
       "    </tr>\n",
       "    <tr>\n",
       "      <td>13</td>\n",
       "      <td>20</td>\n",
       "      <td>3550000.0</td>\n",
       "      <td>42.80</td>\n",
       "      <td>2017-07-01T00:00:00</td>\n",
       "      <td>2</td>\n",
       "      <td>2.56</td>\n",
       "      <td>5.0</td>\n",
       "      <td>27.00</td>\n",
       "      <td>5</td>\n",
       "      <td>NaN</td>\n",
       "      <td>...</td>\n",
       "      <td>5.20</td>\n",
       "      <td>1.0</td>\n",
       "      <td>Петергоф</td>\n",
       "      <td>37868.0</td>\n",
       "      <td>33058.0</td>\n",
       "      <td>1.0</td>\n",
       "      <td>294.0</td>\n",
       "      <td>3.0</td>\n",
       "      <td>298.0</td>\n",
       "      <td>366.0</td>\n",
       "    </tr>\n",
       "    <tr>\n",
       "      <td>14</td>\n",
       "      <td>1</td>\n",
       "      <td>4400000.0</td>\n",
       "      <td>36.00</td>\n",
       "      <td>2016-06-23T00:00:00</td>\n",
       "      <td>1</td>\n",
       "      <td>NaN</td>\n",
       "      <td>6.0</td>\n",
       "      <td>17.00</td>\n",
       "      <td>1</td>\n",
       "      <td>NaN</td>\n",
       "      <td>...</td>\n",
       "      <td>8.00</td>\n",
       "      <td>0.0</td>\n",
       "      <td>Пушкин</td>\n",
       "      <td>20782.0</td>\n",
       "      <td>30759.0</td>\n",
       "      <td>0.0</td>\n",
       "      <td>NaN</td>\n",
       "      <td>1.0</td>\n",
       "      <td>96.0</td>\n",
       "      <td>203.0</td>\n",
       "    </tr>\n",
       "    <tr>\n",
       "      <td>15</td>\n",
       "      <td>16</td>\n",
       "      <td>4650000.0</td>\n",
       "      <td>39.00</td>\n",
       "      <td>2017-11-18T00:00:00</td>\n",
       "      <td>1</td>\n",
       "      <td>NaN</td>\n",
       "      <td>14.0</td>\n",
       "      <td>20.50</td>\n",
       "      <td>5</td>\n",
       "      <td>NaN</td>\n",
       "      <td>...</td>\n",
       "      <td>7.60</td>\n",
       "      <td>1.0</td>\n",
       "      <td>Санкт-Петербург</td>\n",
       "      <td>12900.0</td>\n",
       "      <td>14259.0</td>\n",
       "      <td>1.0</td>\n",
       "      <td>590.0</td>\n",
       "      <td>1.0</td>\n",
       "      <td>296.0</td>\n",
       "      <td>19.0</td>\n",
       "    </tr>\n",
       "    <tr>\n",
       "      <td>16</td>\n",
       "      <td>11</td>\n",
       "      <td>6700000.0</td>\n",
       "      <td>82.00</td>\n",
       "      <td>2017-11-23T00:00:00</td>\n",
       "      <td>3</td>\n",
       "      <td>3.05</td>\n",
       "      <td>5.0</td>\n",
       "      <td>55.60</td>\n",
       "      <td>1</td>\n",
       "      <td>NaN</td>\n",
       "      <td>...</td>\n",
       "      <td>9.00</td>\n",
       "      <td>NaN</td>\n",
       "      <td>Санкт-Петербург</td>\n",
       "      <td>22108.0</td>\n",
       "      <td>10698.0</td>\n",
       "      <td>3.0</td>\n",
       "      <td>420.0</td>\n",
       "      <td>0.0</td>\n",
       "      <td>NaN</td>\n",
       "      <td>397.0</td>\n",
       "    </tr>\n",
       "    <tr>\n",
       "      <td>17</td>\n",
       "      <td>6</td>\n",
       "      <td>4180000.0</td>\n",
       "      <td>36.00</td>\n",
       "      <td>2016-09-09T00:00:00</td>\n",
       "      <td>1</td>\n",
       "      <td>NaN</td>\n",
       "      <td>17.0</td>\n",
       "      <td>16.50</td>\n",
       "      <td>7</td>\n",
       "      <td>NaN</td>\n",
       "      <td>...</td>\n",
       "      <td>11.00</td>\n",
       "      <td>1.0</td>\n",
       "      <td>Санкт-Петербург</td>\n",
       "      <td>33564.0</td>\n",
       "      <td>14616.0</td>\n",
       "      <td>0.0</td>\n",
       "      <td>NaN</td>\n",
       "      <td>1.0</td>\n",
       "      <td>859.0</td>\n",
       "      <td>571.0</td>\n",
       "    </tr>\n",
       "    <tr>\n",
       "      <td>18</td>\n",
       "      <td>8</td>\n",
       "      <td>3250000.0</td>\n",
       "      <td>31.00</td>\n",
       "      <td>2017-01-27T00:00:00</td>\n",
       "      <td>1</td>\n",
       "      <td>2.50</td>\n",
       "      <td>5.0</td>\n",
       "      <td>19.40</td>\n",
       "      <td>2</td>\n",
       "      <td>NaN</td>\n",
       "      <td>...</td>\n",
       "      <td>5.60</td>\n",
       "      <td>1.0</td>\n",
       "      <td>Санкт-Петербург</td>\n",
       "      <td>44060.0</td>\n",
       "      <td>10842.0</td>\n",
       "      <td>1.0</td>\n",
       "      <td>759.0</td>\n",
       "      <td>0.0</td>\n",
       "      <td>NaN</td>\n",
       "      <td>168.0</td>\n",
       "    </tr>\n",
       "    <tr>\n",
       "      <td>19</td>\n",
       "      <td>16</td>\n",
       "      <td>14200000.0</td>\n",
       "      <td>121.00</td>\n",
       "      <td>2019-01-09T00:00:00</td>\n",
       "      <td>3</td>\n",
       "      <td>2.75</td>\n",
       "      <td>16.0</td>\n",
       "      <td>76.00</td>\n",
       "      <td>8</td>\n",
       "      <td>NaN</td>\n",
       "      <td>...</td>\n",
       "      <td>12.00</td>\n",
       "      <td>NaN</td>\n",
       "      <td>Санкт-Петербург</td>\n",
       "      <td>38900.0</td>\n",
       "      <td>12843.0</td>\n",
       "      <td>0.0</td>\n",
       "      <td>NaN</td>\n",
       "      <td>0.0</td>\n",
       "      <td>NaN</td>\n",
       "      <td>97.0</td>\n",
       "    </tr>\n",
       "    <tr>\n",
       "      <td>20</td>\n",
       "      <td>12</td>\n",
       "      <td>6120000.0</td>\n",
       "      <td>80.00</td>\n",
       "      <td>2017-09-28T00:00:00</td>\n",
       "      <td>3</td>\n",
       "      <td>2.70</td>\n",
       "      <td>27.0</td>\n",
       "      <td>48.00</td>\n",
       "      <td>11</td>\n",
       "      <td>NaN</td>\n",
       "      <td>...</td>\n",
       "      <td>12.00</td>\n",
       "      <td>2.0</td>\n",
       "      <td>посёлок Парголово</td>\n",
       "      <td>53134.0</td>\n",
       "      <td>19311.0</td>\n",
       "      <td>0.0</td>\n",
       "      <td>NaN</td>\n",
       "      <td>0.0</td>\n",
       "      <td>NaN</td>\n",
       "      <td>74.0</td>\n",
       "    </tr>\n",
       "    <tr>\n",
       "      <td>21</td>\n",
       "      <td>13</td>\n",
       "      <td>3200000.0</td>\n",
       "      <td>31.60</td>\n",
       "      <td>2018-03-14T00:00:00</td>\n",
       "      <td>1</td>\n",
       "      <td>NaN</td>\n",
       "      <td>5.0</td>\n",
       "      <td>16.90</td>\n",
       "      <td>2</td>\n",
       "      <td>NaN</td>\n",
       "      <td>...</td>\n",
       "      <td>5.70</td>\n",
       "      <td>1.0</td>\n",
       "      <td>Санкт-Петербург</td>\n",
       "      <td>36064.0</td>\n",
       "      <td>9722.0</td>\n",
       "      <td>1.0</td>\n",
       "      <td>248.0</td>\n",
       "      <td>0.0</td>\n",
       "      <td>NaN</td>\n",
       "      <td>310.0</td>\n",
       "    </tr>\n",
       "    <tr>\n",
       "      <td>22</td>\n",
       "      <td>20</td>\n",
       "      <td>5000000.0</td>\n",
       "      <td>58.00</td>\n",
       "      <td>2017-04-24T00:00:00</td>\n",
       "      <td>2</td>\n",
       "      <td>2.75</td>\n",
       "      <td>25.0</td>\n",
       "      <td>30.00</td>\n",
       "      <td>15</td>\n",
       "      <td>NaN</td>\n",
       "      <td>...</td>\n",
       "      <td>11.00</td>\n",
       "      <td>2.0</td>\n",
       "      <td>деревня Кудрово</td>\n",
       "      <td>NaN</td>\n",
       "      <td>NaN</td>\n",
       "      <td>NaN</td>\n",
       "      <td>NaN</td>\n",
       "      <td>NaN</td>\n",
       "      <td>NaN</td>\n",
       "      <td>60.0</td>\n",
       "    </tr>\n",
       "    <tr>\n",
       "      <td>23</td>\n",
       "      <td>11</td>\n",
       "      <td>2950000.0</td>\n",
       "      <td>32.00</td>\n",
       "      <td>2016-10-29T00:00:00</td>\n",
       "      <td>1</td>\n",
       "      <td>2.60</td>\n",
       "      <td>9.0</td>\n",
       "      <td>17.70</td>\n",
       "      <td>9</td>\n",
       "      <td>NaN</td>\n",
       "      <td>...</td>\n",
       "      <td>6.10</td>\n",
       "      <td>NaN</td>\n",
       "      <td>Санкт-Петербург</td>\n",
       "      <td>15414.0</td>\n",
       "      <td>14211.0</td>\n",
       "      <td>2.0</td>\n",
       "      <td>517.0</td>\n",
       "      <td>1.0</td>\n",
       "      <td>190.0</td>\n",
       "      <td>615.0</td>\n",
       "    </tr>\n",
       "    <tr>\n",
       "      <td>24</td>\n",
       "      <td>8</td>\n",
       "      <td>6500000.0</td>\n",
       "      <td>97.20</td>\n",
       "      <td>2015-10-31T00:00:00</td>\n",
       "      <td>2</td>\n",
       "      <td>NaN</td>\n",
       "      <td>3.0</td>\n",
       "      <td>46.50</td>\n",
       "      <td>1</td>\n",
       "      <td>NaN</td>\n",
       "      <td>...</td>\n",
       "      <td>19.60</td>\n",
       "      <td>0.0</td>\n",
       "      <td>Санкт-Петербург</td>\n",
       "      <td>20052.0</td>\n",
       "      <td>2336.0</td>\n",
       "      <td>3.0</td>\n",
       "      <td>411.0</td>\n",
       "      <td>3.0</td>\n",
       "      <td>124.0</td>\n",
       "      <td>265.0</td>\n",
       "    </tr>\n",
       "    <tr>\n",
       "      <td>25</td>\n",
       "      <td>3</td>\n",
       "      <td>6800000.0</td>\n",
       "      <td>76.00</td>\n",
       "      <td>2015-10-01T00:00:00</td>\n",
       "      <td>2</td>\n",
       "      <td>2.75</td>\n",
       "      <td>23.0</td>\n",
       "      <td>39.00</td>\n",
       "      <td>18</td>\n",
       "      <td>False</td>\n",
       "      <td>...</td>\n",
       "      <td>15.00</td>\n",
       "      <td>2.0</td>\n",
       "      <td>Санкт-Петербург</td>\n",
       "      <td>34967.0</td>\n",
       "      <td>14640.0</td>\n",
       "      <td>0.0</td>\n",
       "      <td>NaN</td>\n",
       "      <td>1.0</td>\n",
       "      <td>564.0</td>\n",
       "      <td>300.0</td>\n",
       "    </tr>\n",
       "    <tr>\n",
       "      <td>26</td>\n",
       "      <td>6</td>\n",
       "      <td>4050000.0</td>\n",
       "      <td>60.00</td>\n",
       "      <td>2017-04-28T00:00:00</td>\n",
       "      <td>4</td>\n",
       "      <td>NaN</td>\n",
       "      <td>5.0</td>\n",
       "      <td>43.00</td>\n",
       "      <td>4</td>\n",
       "      <td>NaN</td>\n",
       "      <td>...</td>\n",
       "      <td>7.00</td>\n",
       "      <td>NaN</td>\n",
       "      <td>Санкт-Петербург</td>\n",
       "      <td>11580.0</td>\n",
       "      <td>10510.0</td>\n",
       "      <td>0.0</td>\n",
       "      <td>NaN</td>\n",
       "      <td>1.0</td>\n",
       "      <td>95.0</td>\n",
       "      <td>265.0</td>\n",
       "    </tr>\n",
       "    <tr>\n",
       "      <td>27</td>\n",
       "      <td>20</td>\n",
       "      <td>7100000.0</td>\n",
       "      <td>70.00</td>\n",
       "      <td>2017-05-12T00:00:00</td>\n",
       "      <td>3</td>\n",
       "      <td>2.60</td>\n",
       "      <td>17.0</td>\n",
       "      <td>49.00</td>\n",
       "      <td>11</td>\n",
       "      <td>NaN</td>\n",
       "      <td>...</td>\n",
       "      <td>9.20</td>\n",
       "      <td>0.0</td>\n",
       "      <td>Санкт-Петербург</td>\n",
       "      <td>29197.0</td>\n",
       "      <td>11456.0</td>\n",
       "      <td>2.0</td>\n",
       "      <td>452.0</td>\n",
       "      <td>1.0</td>\n",
       "      <td>779.0</td>\n",
       "      <td>151.0</td>\n",
       "    </tr>\n",
       "    <tr>\n",
       "      <td>28</td>\n",
       "      <td>8</td>\n",
       "      <td>4170000.0</td>\n",
       "      <td>44.00</td>\n",
       "      <td>2017-12-13T00:00:00</td>\n",
       "      <td>1</td>\n",
       "      <td>2.90</td>\n",
       "      <td>6.0</td>\n",
       "      <td>20.80</td>\n",
       "      <td>1</td>\n",
       "      <td>NaN</td>\n",
       "      <td>...</td>\n",
       "      <td>11.70</td>\n",
       "      <td>1.0</td>\n",
       "      <td>Пушкин</td>\n",
       "      <td>18557.0</td>\n",
       "      <td>30710.0</td>\n",
       "      <td>0.0</td>\n",
       "      <td>NaN</td>\n",
       "      <td>1.0</td>\n",
       "      <td>118.0</td>\n",
       "      <td>74.0</td>\n",
       "    </tr>\n",
       "    <tr>\n",
       "      <td>29</td>\n",
       "      <td>9</td>\n",
       "      <td>8600000.0</td>\n",
       "      <td>100.00</td>\n",
       "      <td>2016-04-09T00:00:00</td>\n",
       "      <td>3</td>\n",
       "      <td>NaN</td>\n",
       "      <td>19.0</td>\n",
       "      <td>52.00</td>\n",
       "      <td>15</td>\n",
       "      <td>False</td>\n",
       "      <td>...</td>\n",
       "      <td>11.00</td>\n",
       "      <td>0.0</td>\n",
       "      <td>Санкт-Петербург</td>\n",
       "      <td>30394.0</td>\n",
       "      <td>11526.0</td>\n",
       "      <td>1.0</td>\n",
       "      <td>532.0</td>\n",
       "      <td>1.0</td>\n",
       "      <td>896.0</td>\n",
       "      <td>125.0</td>\n",
       "    </tr>\n",
       "    <tr>\n",
       "      <td>30</td>\n",
       "      <td>12</td>\n",
       "      <td>2200000.0</td>\n",
       "      <td>32.80</td>\n",
       "      <td>2018-02-19T00:00:00</td>\n",
       "      <td>1</td>\n",
       "      <td>NaN</td>\n",
       "      <td>9.0</td>\n",
       "      <td>NaN</td>\n",
       "      <td>2</td>\n",
       "      <td>NaN</td>\n",
       "      <td>...</td>\n",
       "      <td>NaN</td>\n",
       "      <td>NaN</td>\n",
       "      <td>Коммунар</td>\n",
       "      <td>NaN</td>\n",
       "      <td>NaN</td>\n",
       "      <td>NaN</td>\n",
       "      <td>NaN</td>\n",
       "      <td>NaN</td>\n",
       "      <td>NaN</td>\n",
       "      <td>63.0</td>\n",
       "    </tr>\n",
       "    <tr>\n",
       "      <td>31</td>\n",
       "      <td>8</td>\n",
       "      <td>7200000.0</td>\n",
       "      <td>67.90</td>\n",
       "      <td>2017-10-26T00:00:00</td>\n",
       "      <td>2</td>\n",
       "      <td>2.80</td>\n",
       "      <td>16.0</td>\n",
       "      <td>38.10</td>\n",
       "      <td>4</td>\n",
       "      <td>NaN</td>\n",
       "      <td>...</td>\n",
       "      <td>13.40</td>\n",
       "      <td>2.0</td>\n",
       "      <td>Санкт-Петербург</td>\n",
       "      <td>32888.0</td>\n",
       "      <td>12944.0</td>\n",
       "      <td>0.0</td>\n",
       "      <td>NaN</td>\n",
       "      <td>0.0</td>\n",
       "      <td>NaN</td>\n",
       "      <td>112.0</td>\n",
       "    </tr>\n",
       "    <tr>\n",
       "      <td>32</td>\n",
       "      <td>7</td>\n",
       "      <td>4990000.0</td>\n",
       "      <td>60.00</td>\n",
       "      <td>2016-05-22T00:00:00</td>\n",
       "      <td>3</td>\n",
       "      <td>NaN</td>\n",
       "      <td>5.0</td>\n",
       "      <td>39.00</td>\n",
       "      <td>4</td>\n",
       "      <td>NaN</td>\n",
       "      <td>...</td>\n",
       "      <td>6.00</td>\n",
       "      <td>0.0</td>\n",
       "      <td>Санкт-Петербург</td>\n",
       "      <td>11349.0</td>\n",
       "      <td>12889.0</td>\n",
       "      <td>0.0</td>\n",
       "      <td>NaN</td>\n",
       "      <td>1.0</td>\n",
       "      <td>426.0</td>\n",
       "      <td>224.0</td>\n",
       "    </tr>\n",
       "    <tr>\n",
       "      <td>33</td>\n",
       "      <td>8</td>\n",
       "      <td>4800000.0</td>\n",
       "      <td>73.00</td>\n",
       "      <td>2018-10-15T00:00:00</td>\n",
       "      <td>4</td>\n",
       "      <td>NaN</td>\n",
       "      <td>9.0</td>\n",
       "      <td>51.60</td>\n",
       "      <td>5</td>\n",
       "      <td>NaN</td>\n",
       "      <td>...</td>\n",
       "      <td>6.50</td>\n",
       "      <td>NaN</td>\n",
       "      <td>Колпино</td>\n",
       "      <td>26535.0</td>\n",
       "      <td>32321.0</td>\n",
       "      <td>0.0</td>\n",
       "      <td>NaN</td>\n",
       "      <td>0.0</td>\n",
       "      <td>NaN</td>\n",
       "      <td>92.0</td>\n",
       "    </tr>\n",
       "    <tr>\n",
       "      <td>34</td>\n",
       "      <td>3</td>\n",
       "      <td>3290000.0</td>\n",
       "      <td>33.00</td>\n",
       "      <td>2018-02-04T00:00:00</td>\n",
       "      <td>1</td>\n",
       "      <td>2.55</td>\n",
       "      <td>16.0</td>\n",
       "      <td>14.00</td>\n",
       "      <td>3</td>\n",
       "      <td>NaN</td>\n",
       "      <td>...</td>\n",
       "      <td>8.00</td>\n",
       "      <td>NaN</td>\n",
       "      <td>Санкт-Петербург</td>\n",
       "      <td>13943.0</td>\n",
       "      <td>12739.0</td>\n",
       "      <td>0.0</td>\n",
       "      <td>NaN</td>\n",
       "      <td>0.0</td>\n",
       "      <td>NaN</td>\n",
       "      <td>15.0</td>\n",
       "    </tr>\n",
       "    <tr>\n",
       "      <td>35</td>\n",
       "      <td>6</td>\n",
       "      <td>15500000.0</td>\n",
       "      <td>149.00</td>\n",
       "      <td>2017-06-26T00:00:00</td>\n",
       "      <td>5</td>\n",
       "      <td>NaN</td>\n",
       "      <td>5.0</td>\n",
       "      <td>104.00</td>\n",
       "      <td>4</td>\n",
       "      <td>NaN</td>\n",
       "      <td>...</td>\n",
       "      <td>17.00</td>\n",
       "      <td>NaN</td>\n",
       "      <td>Санкт-Петербург</td>\n",
       "      <td>23670.0</td>\n",
       "      <td>3502.0</td>\n",
       "      <td>0.0</td>\n",
       "      <td>NaN</td>\n",
       "      <td>1.0</td>\n",
       "      <td>779.0</td>\n",
       "      <td>644.0</td>\n",
       "    </tr>\n",
       "    <tr>\n",
       "      <td>36</td>\n",
       "      <td>13</td>\n",
       "      <td>3790000.0</td>\n",
       "      <td>45.00</td>\n",
       "      <td>2017-01-25T00:00:00</td>\n",
       "      <td>2</td>\n",
       "      <td>NaN</td>\n",
       "      <td>9.0</td>\n",
       "      <td>27.00</td>\n",
       "      <td>9</td>\n",
       "      <td>False</td>\n",
       "      <td>...</td>\n",
       "      <td>6.30</td>\n",
       "      <td>2.0</td>\n",
       "      <td>Санкт-Петербург</td>\n",
       "      <td>49574.0</td>\n",
       "      <td>16461.0</td>\n",
       "      <td>1.0</td>\n",
       "      <td>459.0</td>\n",
       "      <td>0.0</td>\n",
       "      <td>NaN</td>\n",
       "      <td>139.0</td>\n",
       "    </tr>\n",
       "    <tr>\n",
       "      <td>37</td>\n",
       "      <td>10</td>\n",
       "      <td>1990000.0</td>\n",
       "      <td>45.80</td>\n",
       "      <td>2017-10-28T00:00:00</td>\n",
       "      <td>2</td>\n",
       "      <td>2.50</td>\n",
       "      <td>5.0</td>\n",
       "      <td>NaN</td>\n",
       "      <td>1</td>\n",
       "      <td>NaN</td>\n",
       "      <td>...</td>\n",
       "      <td>NaN</td>\n",
       "      <td>NaN</td>\n",
       "      <td>поселок городского типа Красный Бор</td>\n",
       "      <td>NaN</td>\n",
       "      <td>NaN</td>\n",
       "      <td>NaN</td>\n",
       "      <td>NaN</td>\n",
       "      <td>NaN</td>\n",
       "      <td>NaN</td>\n",
       "      <td>196.0</td>\n",
       "    </tr>\n",
       "    <tr>\n",
       "      <td>38</td>\n",
       "      <td>10</td>\n",
       "      <td>3150000.0</td>\n",
       "      <td>40.00</td>\n",
       "      <td>2018-03-29T00:00:00</td>\n",
       "      <td>1</td>\n",
       "      <td>2.75</td>\n",
       "      <td>18.0</td>\n",
       "      <td>16.30</td>\n",
       "      <td>9</td>\n",
       "      <td>NaN</td>\n",
       "      <td>...</td>\n",
       "      <td>11.60</td>\n",
       "      <td>NaN</td>\n",
       "      <td>посёлок Мурино</td>\n",
       "      <td>NaN</td>\n",
       "      <td>NaN</td>\n",
       "      <td>NaN</td>\n",
       "      <td>NaN</td>\n",
       "      <td>NaN</td>\n",
       "      <td>NaN</td>\n",
       "      <td>103.0</td>\n",
       "    </tr>\n",
       "    <tr>\n",
       "      <td>39</td>\n",
       "      <td>15</td>\n",
       "      <td>5200000.0</td>\n",
       "      <td>54.40</td>\n",
       "      <td>2018-11-29T00:00:00</td>\n",
       "      <td>2</td>\n",
       "      <td>2.75</td>\n",
       "      <td>9.0</td>\n",
       "      <td>29.70</td>\n",
       "      <td>2</td>\n",
       "      <td>NaN</td>\n",
       "      <td>...</td>\n",
       "      <td>8.80</td>\n",
       "      <td>2.0</td>\n",
       "      <td>Санкт-Петербург</td>\n",
       "      <td>13413.0</td>\n",
       "      <td>12209.0</td>\n",
       "      <td>0.0</td>\n",
       "      <td>NaN</td>\n",
       "      <td>1.0</td>\n",
       "      <td>1175.0</td>\n",
       "      <td>29.0</td>\n",
       "    </tr>\n",
       "    <tr>\n",
       "      <td>40</td>\n",
       "      <td>9</td>\n",
       "      <td>3590000.0</td>\n",
       "      <td>36.00</td>\n",
       "      <td>2017-03-15T00:00:00</td>\n",
       "      <td>1</td>\n",
       "      <td>2.60</td>\n",
       "      <td>26.0</td>\n",
       "      <td>15.00</td>\n",
       "      <td>22</td>\n",
       "      <td>NaN</td>\n",
       "      <td>...</td>\n",
       "      <td>10.00</td>\n",
       "      <td>2.0</td>\n",
       "      <td>посёлок Парголово</td>\n",
       "      <td>52996.0</td>\n",
       "      <td>19143.0</td>\n",
       "      <td>0.0</td>\n",
       "      <td>NaN</td>\n",
       "      <td>0.0</td>\n",
       "      <td>NaN</td>\n",
       "      <td>430.0</td>\n",
       "    </tr>\n",
       "    <tr>\n",
       "      <td>41</td>\n",
       "      <td>16</td>\n",
       "      <td>7900000.0</td>\n",
       "      <td>74.00</td>\n",
       "      <td>2016-05-04T00:00:00</td>\n",
       "      <td>3</td>\n",
       "      <td>NaN</td>\n",
       "      <td>14.0</td>\n",
       "      <td>59.00</td>\n",
       "      <td>8</td>\n",
       "      <td>False</td>\n",
       "      <td>...</td>\n",
       "      <td>12.00</td>\n",
       "      <td>5.0</td>\n",
       "      <td>Санкт-Петербург</td>\n",
       "      <td>37715.0</td>\n",
       "      <td>12612.0</td>\n",
       "      <td>1.0</td>\n",
       "      <td>725.0</td>\n",
       "      <td>1.0</td>\n",
       "      <td>759.0</td>\n",
       "      <td>179.0</td>\n",
       "    </tr>\n",
       "    <tr>\n",
       "      <td>42</td>\n",
       "      <td>13</td>\n",
       "      <td>22000000.0</td>\n",
       "      <td>161.80</td>\n",
       "      <td>2015-07-08T00:00:00</td>\n",
       "      <td>4</td>\n",
       "      <td>2.80</td>\n",
       "      <td>4.0</td>\n",
       "      <td>80.90</td>\n",
       "      <td>2</td>\n",
       "      <td>False</td>\n",
       "      <td>...</td>\n",
       "      <td>17.60</td>\n",
       "      <td>5.0</td>\n",
       "      <td>Петергоф</td>\n",
       "      <td>35416.0</td>\n",
       "      <td>30605.0</td>\n",
       "      <td>2.0</td>\n",
       "      <td>47.0</td>\n",
       "      <td>1.0</td>\n",
       "      <td>907.0</td>\n",
       "      <td>987.0</td>\n",
       "    </tr>\n",
       "    <tr>\n",
       "      <td>43</td>\n",
       "      <td>13</td>\n",
       "      <td>9330000.0</td>\n",
       "      <td>48.00</td>\n",
       "      <td>2017-01-10T00:00:00</td>\n",
       "      <td>2</td>\n",
       "      <td>3.00</td>\n",
       "      <td>4.0</td>\n",
       "      <td>28.00</td>\n",
       "      <td>4</td>\n",
       "      <td>NaN</td>\n",
       "      <td>...</td>\n",
       "      <td>7.50</td>\n",
       "      <td>NaN</td>\n",
       "      <td>Санкт-Петербург</td>\n",
       "      <td>15016.0</td>\n",
       "      <td>10822.0</td>\n",
       "      <td>0.0</td>\n",
       "      <td>NaN</td>\n",
       "      <td>1.0</td>\n",
       "      <td>492.0</td>\n",
       "      <td>763.0</td>\n",
       "    </tr>\n",
       "    <tr>\n",
       "      <td>44</td>\n",
       "      <td>13</td>\n",
       "      <td>5350000.0</td>\n",
       "      <td>40.00</td>\n",
       "      <td>2018-11-18T00:00:00</td>\n",
       "      <td>1</td>\n",
       "      <td>NaN</td>\n",
       "      <td>22.0</td>\n",
       "      <td>NaN</td>\n",
       "      <td>3</td>\n",
       "      <td>NaN</td>\n",
       "      <td>...</td>\n",
       "      <td>NaN</td>\n",
       "      <td>1.0</td>\n",
       "      <td>Санкт-Петербург</td>\n",
       "      <td>30471.0</td>\n",
       "      <td>11603.0</td>\n",
       "      <td>1.0</td>\n",
       "      <td>620.0</td>\n",
       "      <td>1.0</td>\n",
       "      <td>1152.0</td>\n",
       "      <td>NaN</td>\n",
       "    </tr>\n",
       "    <tr>\n",
       "      <td>45</td>\n",
       "      <td>17</td>\n",
       "      <td>5200000.0</td>\n",
       "      <td>50.60</td>\n",
       "      <td>2018-12-02T00:00:00</td>\n",
       "      <td>2</td>\n",
       "      <td>2.65</td>\n",
       "      <td>9.0</td>\n",
       "      <td>30.30</td>\n",
       "      <td>7</td>\n",
       "      <td>NaN</td>\n",
       "      <td>...</td>\n",
       "      <td>7.00</td>\n",
       "      <td>NaN</td>\n",
       "      <td>Санкт-Петербург</td>\n",
       "      <td>30011.0</td>\n",
       "      <td>12872.0</td>\n",
       "      <td>0.0</td>\n",
       "      <td>NaN</td>\n",
       "      <td>0.0</td>\n",
       "      <td>NaN</td>\n",
       "      <td>NaN</td>\n",
       "    </tr>\n",
       "    <tr>\n",
       "      <td>46</td>\n",
       "      <td>17</td>\n",
       "      <td>6600000.0</td>\n",
       "      <td>52.10</td>\n",
       "      <td>2019-01-31T00:00:00</td>\n",
       "      <td>2</td>\n",
       "      <td>2.60</td>\n",
       "      <td>24.0</td>\n",
       "      <td>29.70</td>\n",
       "      <td>9</td>\n",
       "      <td>NaN</td>\n",
       "      <td>...</td>\n",
       "      <td>8.30</td>\n",
       "      <td>2.0</td>\n",
       "      <td>Санкт-Петербург</td>\n",
       "      <td>15114.0</td>\n",
       "      <td>12702.0</td>\n",
       "      <td>0.0</td>\n",
       "      <td>NaN</td>\n",
       "      <td>0.0</td>\n",
       "      <td>NaN</td>\n",
       "      <td>NaN</td>\n",
       "    </tr>\n",
       "    <tr>\n",
       "      <td>47</td>\n",
       "      <td>17</td>\n",
       "      <td>3600000.0</td>\n",
       "      <td>56.10</td>\n",
       "      <td>2018-10-18T00:00:00</td>\n",
       "      <td>3</td>\n",
       "      <td>NaN</td>\n",
       "      <td>4.0</td>\n",
       "      <td>42.50</td>\n",
       "      <td>3</td>\n",
       "      <td>NaN</td>\n",
       "      <td>...</td>\n",
       "      <td>5.70</td>\n",
       "      <td>1.0</td>\n",
       "      <td>Гатчина</td>\n",
       "      <td>NaN</td>\n",
       "      <td>NaN</td>\n",
       "      <td>NaN</td>\n",
       "      <td>NaN</td>\n",
       "      <td>NaN</td>\n",
       "      <td>NaN</td>\n",
       "      <td>179.0</td>\n",
       "    </tr>\n",
       "    <tr>\n",
       "      <td>48</td>\n",
       "      <td>10</td>\n",
       "      <td>3600000.0</td>\n",
       "      <td>33.83</td>\n",
       "      <td>2017-10-03T00:00:00</td>\n",
       "      <td>1</td>\n",
       "      <td>NaN</td>\n",
       "      <td>24.0</td>\n",
       "      <td>15.35</td>\n",
       "      <td>6</td>\n",
       "      <td>NaN</td>\n",
       "      <td>...</td>\n",
       "      <td>9.50</td>\n",
       "      <td>NaN</td>\n",
       "      <td>Санкт-Петербург</td>\n",
       "      <td>21460.0</td>\n",
       "      <td>16788.0</td>\n",
       "      <td>0.0</td>\n",
       "      <td>NaN</td>\n",
       "      <td>1.0</td>\n",
       "      <td>170.0</td>\n",
       "      <td>322.0</td>\n",
       "    </tr>\n",
       "    <tr>\n",
       "      <td>49</td>\n",
       "      <td>1</td>\n",
       "      <td>3050000.0</td>\n",
       "      <td>30.80</td>\n",
       "      <td>2018-11-22T00:00:00</td>\n",
       "      <td>1</td>\n",
       "      <td>2.50</td>\n",
       "      <td>9.0</td>\n",
       "      <td>18.00</td>\n",
       "      <td>7</td>\n",
       "      <td>NaN</td>\n",
       "      <td>...</td>\n",
       "      <td>6.00</td>\n",
       "      <td>NaN</td>\n",
       "      <td>Санкт-Петербург</td>\n",
       "      <td>45341.0</td>\n",
       "      <td>16603.0</td>\n",
       "      <td>1.0</td>\n",
       "      <td>675.0</td>\n",
       "      <td>0.0</td>\n",
       "      <td>NaN</td>\n",
       "      <td>NaN</td>\n",
       "    </tr>\n",
       "  </tbody>\n",
       "</table>\n",
       "<p>50 rows × 22 columns</p>\n",
       "</div>"
      ],
      "text/plain": [
       "    total_images  last_price  total_area first_day_exposition  rooms  \\\n",
       "0             20  13000000.0      108.00  2019-03-07T00:00:00      3   \n",
       "1              7   3350000.0       40.40  2018-12-04T00:00:00      1   \n",
       "2             10   5196000.0       56.00  2015-08-20T00:00:00      2   \n",
       "3              0  64900000.0      159.00  2015-07-24T00:00:00      3   \n",
       "4              2  10000000.0      100.00  2018-06-19T00:00:00      2   \n",
       "5             10   2890000.0       30.40  2018-09-10T00:00:00      1   \n",
       "6              6   3700000.0       37.30  2017-11-02T00:00:00      1   \n",
       "7              5   7915000.0       71.60  2019-04-18T00:00:00      2   \n",
       "8             20   2900000.0       33.16  2018-05-23T00:00:00      1   \n",
       "9             18   5400000.0       61.00  2017-02-26T00:00:00      3   \n",
       "10             5   5050000.0       39.60  2017-11-16T00:00:00      1   \n",
       "11             9   3300000.0       44.00  2018-08-27T00:00:00      2   \n",
       "12            10   3890000.0       54.00  2016-06-30T00:00:00      2   \n",
       "13            20   3550000.0       42.80  2017-07-01T00:00:00      2   \n",
       "14             1   4400000.0       36.00  2016-06-23T00:00:00      1   \n",
       "15            16   4650000.0       39.00  2017-11-18T00:00:00      1   \n",
       "16            11   6700000.0       82.00  2017-11-23T00:00:00      3   \n",
       "17             6   4180000.0       36.00  2016-09-09T00:00:00      1   \n",
       "18             8   3250000.0       31.00  2017-01-27T00:00:00      1   \n",
       "19            16  14200000.0      121.00  2019-01-09T00:00:00      3   \n",
       "20            12   6120000.0       80.00  2017-09-28T00:00:00      3   \n",
       "21            13   3200000.0       31.60  2018-03-14T00:00:00      1   \n",
       "22            20   5000000.0       58.00  2017-04-24T00:00:00      2   \n",
       "23            11   2950000.0       32.00  2016-10-29T00:00:00      1   \n",
       "24             8   6500000.0       97.20  2015-10-31T00:00:00      2   \n",
       "25             3   6800000.0       76.00  2015-10-01T00:00:00      2   \n",
       "26             6   4050000.0       60.00  2017-04-28T00:00:00      4   \n",
       "27            20   7100000.0       70.00  2017-05-12T00:00:00      3   \n",
       "28             8   4170000.0       44.00  2017-12-13T00:00:00      1   \n",
       "29             9   8600000.0      100.00  2016-04-09T00:00:00      3   \n",
       "30            12   2200000.0       32.80  2018-02-19T00:00:00      1   \n",
       "31             8   7200000.0       67.90  2017-10-26T00:00:00      2   \n",
       "32             7   4990000.0       60.00  2016-05-22T00:00:00      3   \n",
       "33             8   4800000.0       73.00  2018-10-15T00:00:00      4   \n",
       "34             3   3290000.0       33.00  2018-02-04T00:00:00      1   \n",
       "35             6  15500000.0      149.00  2017-06-26T00:00:00      5   \n",
       "36            13   3790000.0       45.00  2017-01-25T00:00:00      2   \n",
       "37            10   1990000.0       45.80  2017-10-28T00:00:00      2   \n",
       "38            10   3150000.0       40.00  2018-03-29T00:00:00      1   \n",
       "39            15   5200000.0       54.40  2018-11-29T00:00:00      2   \n",
       "40             9   3590000.0       36.00  2017-03-15T00:00:00      1   \n",
       "41            16   7900000.0       74.00  2016-05-04T00:00:00      3   \n",
       "42            13  22000000.0      161.80  2015-07-08T00:00:00      4   \n",
       "43            13   9330000.0       48.00  2017-01-10T00:00:00      2   \n",
       "44            13   5350000.0       40.00  2018-11-18T00:00:00      1   \n",
       "45            17   5200000.0       50.60  2018-12-02T00:00:00      2   \n",
       "46            17   6600000.0       52.10  2019-01-31T00:00:00      2   \n",
       "47            17   3600000.0       56.10  2018-10-18T00:00:00      3   \n",
       "48            10   3600000.0       33.83  2017-10-03T00:00:00      1   \n",
       "49             1   3050000.0       30.80  2018-11-22T00:00:00      1   \n",
       "\n",
       "    ceiling_height  floors_total  living_area  floor is_apartment  ...  \\\n",
       "0             2.70          16.0        51.00      8          NaN  ...   \n",
       "1              NaN          11.0        18.60      1          NaN  ...   \n",
       "2              NaN           5.0        34.30      4          NaN  ...   \n",
       "3              NaN          14.0          NaN      9          NaN  ...   \n",
       "4             3.03          14.0        32.00     13          NaN  ...   \n",
       "5              NaN          12.0        14.40      5          NaN  ...   \n",
       "6              NaN          26.0        10.60      6          NaN  ...   \n",
       "7              NaN          24.0          NaN     22          NaN  ...   \n",
       "8              NaN          27.0        15.43     26          NaN  ...   \n",
       "9             2.50           9.0        43.60      7          NaN  ...   \n",
       "10            2.67          12.0        20.30      3          NaN  ...   \n",
       "11             NaN           5.0        31.00      4        False  ...   \n",
       "12             NaN           5.0        30.00      5          NaN  ...   \n",
       "13            2.56           5.0        27.00      5          NaN  ...   \n",
       "14             NaN           6.0        17.00      1          NaN  ...   \n",
       "15             NaN          14.0        20.50      5          NaN  ...   \n",
       "16            3.05           5.0        55.60      1          NaN  ...   \n",
       "17             NaN          17.0        16.50      7          NaN  ...   \n",
       "18            2.50           5.0        19.40      2          NaN  ...   \n",
       "19            2.75          16.0        76.00      8          NaN  ...   \n",
       "20            2.70          27.0        48.00     11          NaN  ...   \n",
       "21             NaN           5.0        16.90      2          NaN  ...   \n",
       "22            2.75          25.0        30.00     15          NaN  ...   \n",
       "23            2.60           9.0        17.70      9          NaN  ...   \n",
       "24             NaN           3.0        46.50      1          NaN  ...   \n",
       "25            2.75          23.0        39.00     18        False  ...   \n",
       "26             NaN           5.0        43.00      4          NaN  ...   \n",
       "27            2.60          17.0        49.00     11          NaN  ...   \n",
       "28            2.90           6.0        20.80      1          NaN  ...   \n",
       "29             NaN          19.0        52.00     15        False  ...   \n",
       "30             NaN           9.0          NaN      2          NaN  ...   \n",
       "31            2.80          16.0        38.10      4          NaN  ...   \n",
       "32             NaN           5.0        39.00      4          NaN  ...   \n",
       "33             NaN           9.0        51.60      5          NaN  ...   \n",
       "34            2.55          16.0        14.00      3          NaN  ...   \n",
       "35             NaN           5.0       104.00      4          NaN  ...   \n",
       "36             NaN           9.0        27.00      9        False  ...   \n",
       "37            2.50           5.0          NaN      1          NaN  ...   \n",
       "38            2.75          18.0        16.30      9          NaN  ...   \n",
       "39            2.75           9.0        29.70      2          NaN  ...   \n",
       "40            2.60          26.0        15.00     22          NaN  ...   \n",
       "41             NaN          14.0        59.00      8        False  ...   \n",
       "42            2.80           4.0        80.90      2        False  ...   \n",
       "43            3.00           4.0        28.00      4          NaN  ...   \n",
       "44             NaN          22.0          NaN      3          NaN  ...   \n",
       "45            2.65           9.0        30.30      7          NaN  ...   \n",
       "46            2.60          24.0        29.70      9          NaN  ...   \n",
       "47             NaN           4.0        42.50      3          NaN  ...   \n",
       "48             NaN          24.0        15.35      6          NaN  ...   \n",
       "49            2.50           9.0        18.00      7          NaN  ...   \n",
       "\n",
       "    kitchen_area  balcony                        locality_name  \\\n",
       "0          25.00      NaN                      Санкт-Петербург   \n",
       "1          11.00      2.0                       посёлок Шушары   \n",
       "2           8.30      0.0                      Санкт-Петербург   \n",
       "3            NaN      0.0                      Санкт-Петербург   \n",
       "4          41.00      NaN                      Санкт-Петербург   \n",
       "5           9.10      NaN            городской посёлок Янино-1   \n",
       "6          14.40      1.0                    посёлок Парголово   \n",
       "7          18.90      2.0                      Санкт-Петербург   \n",
       "8           8.81      NaN                       посёлок Мурино   \n",
       "9           6.50      2.0                      Санкт-Петербург   \n",
       "10          8.50      NaN                      Санкт-Петербург   \n",
       "11          6.00      1.0                            Ломоносов   \n",
       "12          9.00      0.0                            Сертолово   \n",
       "13          5.20      1.0                             Петергоф   \n",
       "14          8.00      0.0                               Пушкин   \n",
       "15          7.60      1.0                      Санкт-Петербург   \n",
       "16          9.00      NaN                      Санкт-Петербург   \n",
       "17         11.00      1.0                      Санкт-Петербург   \n",
       "18          5.60      1.0                      Санкт-Петербург   \n",
       "19         12.00      NaN                      Санкт-Петербург   \n",
       "20         12.00      2.0                    посёлок Парголово   \n",
       "21          5.70      1.0                      Санкт-Петербург   \n",
       "22         11.00      2.0                      деревня Кудрово   \n",
       "23          6.10      NaN                      Санкт-Петербург   \n",
       "24         19.60      0.0                      Санкт-Петербург   \n",
       "25         15.00      2.0                      Санкт-Петербург   \n",
       "26          7.00      NaN                      Санкт-Петербург   \n",
       "27          9.20      0.0                      Санкт-Петербург   \n",
       "28         11.70      1.0                               Пушкин   \n",
       "29         11.00      0.0                      Санкт-Петербург   \n",
       "30           NaN      NaN                             Коммунар   \n",
       "31         13.40      2.0                      Санкт-Петербург   \n",
       "32          6.00      0.0                      Санкт-Петербург   \n",
       "33          6.50      NaN                              Колпино   \n",
       "34          8.00      NaN                      Санкт-Петербург   \n",
       "35         17.00      NaN                      Санкт-Петербург   \n",
       "36          6.30      2.0                      Санкт-Петербург   \n",
       "37           NaN      NaN  поселок городского типа Красный Бор   \n",
       "38         11.60      NaN                       посёлок Мурино   \n",
       "39          8.80      2.0                      Санкт-Петербург   \n",
       "40         10.00      2.0                    посёлок Парголово   \n",
       "41         12.00      5.0                      Санкт-Петербург   \n",
       "42         17.60      5.0                             Петергоф   \n",
       "43          7.50      NaN                      Санкт-Петербург   \n",
       "44           NaN      1.0                      Санкт-Петербург   \n",
       "45          7.00      NaN                      Санкт-Петербург   \n",
       "46          8.30      2.0                      Санкт-Петербург   \n",
       "47          5.70      1.0                              Гатчина   \n",
       "48          9.50      NaN                      Санкт-Петербург   \n",
       "49          6.00      NaN                      Санкт-Петербург   \n",
       "\n",
       "    airports_nearest cityCenters_nearest  parks_around3000  parks_nearest  \\\n",
       "0            18863.0             16028.0               1.0          482.0   \n",
       "1            12817.0             18603.0               0.0            NaN   \n",
       "2            21741.0             13933.0               1.0           90.0   \n",
       "3            28098.0              6800.0               2.0           84.0   \n",
       "4            31856.0              8098.0               2.0          112.0   \n",
       "5                NaN                 NaN               NaN            NaN   \n",
       "6            52996.0             19143.0               0.0            NaN   \n",
       "7            23982.0             11634.0               0.0            NaN   \n",
       "8                NaN                 NaN               NaN            NaN   \n",
       "9            50898.0             15008.0               0.0            NaN   \n",
       "10           38357.0             13878.0               1.0          310.0   \n",
       "11           48252.0             51677.0               0.0            NaN   \n",
       "12               NaN                 NaN               NaN            NaN   \n",
       "13           37868.0             33058.0               1.0          294.0   \n",
       "14           20782.0             30759.0               0.0            NaN   \n",
       "15           12900.0             14259.0               1.0          590.0   \n",
       "16           22108.0             10698.0               3.0          420.0   \n",
       "17           33564.0             14616.0               0.0            NaN   \n",
       "18           44060.0             10842.0               1.0          759.0   \n",
       "19           38900.0             12843.0               0.0            NaN   \n",
       "20           53134.0             19311.0               0.0            NaN   \n",
       "21           36064.0              9722.0               1.0          248.0   \n",
       "22               NaN                 NaN               NaN            NaN   \n",
       "23           15414.0             14211.0               2.0          517.0   \n",
       "24           20052.0              2336.0               3.0          411.0   \n",
       "25           34967.0             14640.0               0.0            NaN   \n",
       "26           11580.0             10510.0               0.0            NaN   \n",
       "27           29197.0             11456.0               2.0          452.0   \n",
       "28           18557.0             30710.0               0.0            NaN   \n",
       "29           30394.0             11526.0               1.0          532.0   \n",
       "30               NaN                 NaN               NaN            NaN   \n",
       "31           32888.0             12944.0               0.0            NaN   \n",
       "32           11349.0             12889.0               0.0            NaN   \n",
       "33           26535.0             32321.0               0.0            NaN   \n",
       "34           13943.0             12739.0               0.0            NaN   \n",
       "35           23670.0              3502.0               0.0            NaN   \n",
       "36           49574.0             16461.0               1.0          459.0   \n",
       "37               NaN                 NaN               NaN            NaN   \n",
       "38               NaN                 NaN               NaN            NaN   \n",
       "39           13413.0             12209.0               0.0            NaN   \n",
       "40           52996.0             19143.0               0.0            NaN   \n",
       "41           37715.0             12612.0               1.0          725.0   \n",
       "42           35416.0             30605.0               2.0           47.0   \n",
       "43           15016.0             10822.0               0.0            NaN   \n",
       "44           30471.0             11603.0               1.0          620.0   \n",
       "45           30011.0             12872.0               0.0            NaN   \n",
       "46           15114.0             12702.0               0.0            NaN   \n",
       "47               NaN                 NaN               NaN            NaN   \n",
       "48           21460.0             16788.0               0.0            NaN   \n",
       "49           45341.0             16603.0               1.0          675.0   \n",
       "\n",
       "    ponds_around3000  ponds_nearest  days_exposition  \n",
       "0                2.0          755.0              NaN  \n",
       "1                0.0            NaN             81.0  \n",
       "2                2.0          574.0            558.0  \n",
       "3                3.0          234.0            424.0  \n",
       "4                1.0           48.0            121.0  \n",
       "5                NaN            NaN             55.0  \n",
       "6                0.0            NaN            155.0  \n",
       "7                0.0            NaN              NaN  \n",
       "8                NaN            NaN            189.0  \n",
       "9                0.0            NaN            289.0  \n",
       "10               2.0          553.0            137.0  \n",
       "11               0.0            NaN              7.0  \n",
       "12               NaN            NaN             90.0  \n",
       "13               3.0          298.0            366.0  \n",
       "14               1.0           96.0            203.0  \n",
       "15               1.0          296.0             19.0  \n",
       "16               0.0            NaN            397.0  \n",
       "17               1.0          859.0            571.0  \n",
       "18               0.0            NaN            168.0  \n",
       "19               0.0            NaN             97.0  \n",
       "20               0.0            NaN             74.0  \n",
       "21               0.0            NaN            310.0  \n",
       "22               NaN            NaN             60.0  \n",
       "23               1.0          190.0            615.0  \n",
       "24               3.0          124.0            265.0  \n",
       "25               1.0          564.0            300.0  \n",
       "26               1.0           95.0            265.0  \n",
       "27               1.0          779.0            151.0  \n",
       "28               1.0          118.0             74.0  \n",
       "29               1.0          896.0            125.0  \n",
       "30               NaN            NaN             63.0  \n",
       "31               0.0            NaN            112.0  \n",
       "32               1.0          426.0            224.0  \n",
       "33               0.0            NaN             92.0  \n",
       "34               0.0            NaN             15.0  \n",
       "35               1.0          779.0            644.0  \n",
       "36               0.0            NaN            139.0  \n",
       "37               NaN            NaN            196.0  \n",
       "38               NaN            NaN            103.0  \n",
       "39               1.0         1175.0             29.0  \n",
       "40               0.0            NaN            430.0  \n",
       "41               1.0          759.0            179.0  \n",
       "42               1.0          907.0            987.0  \n",
       "43               1.0          492.0            763.0  \n",
       "44               1.0         1152.0              NaN  \n",
       "45               0.0            NaN              NaN  \n",
       "46               0.0            NaN              NaN  \n",
       "47               NaN            NaN            179.0  \n",
       "48               1.0          170.0            322.0  \n",
       "49               0.0            NaN              NaN  \n",
       "\n",
       "[50 rows x 22 columns]"
      ]
     },
     "execution_count": 1,
     "metadata": {},
     "output_type": "execute_result"
    }
   ],
   "source": [
    "import pandas as pd\n",
    "data = pd.read_csv('/datasets/real_estate_data.csv', delimiter='\\t')\n",
    "data1 = pd.read_csv('/datasets/real_estate_data.csv', delimiter='\\t')\n",
    "data.info()\n",
    "data.head(50)"
   ]
  },
  {
   "cell_type": "markdown",
   "metadata": {},
   "source": [
    "Всего - 23699 значений."
   ]
  },
  {
   "cell_type": "markdown",
   "metadata": {},
   "source": [
    "**Число фотографий квартиры в объявлении**"
   ]
  },
  {
   "cell_type": "code",
   "execution_count": 2,
   "metadata": {},
   "outputs": [
    {
     "data": {
      "text/plain": [
       "0     1059\n",
       "1      872\n",
       "2      640\n",
       "3      769\n",
       "4      986\n",
       "5     1301\n",
       "6     1482\n",
       "7     1521\n",
       "8     1585\n",
       "9     1725\n",
       "10    1798\n",
       "11    1362\n",
       "12    1225\n",
       "13    1015\n",
       "14     986\n",
       "15     948\n",
       "16     761\n",
       "17     650\n",
       "18     642\n",
       "19     603\n",
       "20    1694\n",
       "21      12\n",
       "22       8\n",
       "23      16\n",
       "24       8\n",
       "25       1\n",
       "26       5\n",
       "27       2\n",
       "28       4\n",
       "29       3\n",
       "30       2\n",
       "31       2\n",
       "32       4\n",
       "35       2\n",
       "37       1\n",
       "39       1\n",
       "42       1\n",
       "50       3\n",
       "Name: total_images, dtype: int64"
      ]
     },
     "execution_count": 2,
     "metadata": {},
     "output_type": "execute_result"
    }
   ],
   "source": [
    "data['total_images'].value_counts().sort_index()"
   ]
  },
  {
   "cell_type": "markdown",
   "metadata": {},
   "source": [
    "Значения количества комнат от 0 до 50. На первый взгляд, данные этого столбца не содержат аномальных значений.\n",
    "</div>\n",
    "\n",
    "Что нужно сделать с данными данного столбца?\n",
    "\n",
    "1) Отсутствующих и пропущеных значений нет.\n",
    "\n",
    "2) Пропуски заполнять не нужно.\n",
    "\n",
    "3) Приводить данные к другому типу не нужно.\n",
    "\n"
   ]
  },
  {
   "cell_type": "markdown",
   "metadata": {},
   "source": [
    "**Цена на момент снятия с публикации**"
   ]
  },
  {
   "cell_type": "code",
   "execution_count": 3,
   "metadata": {},
   "outputs": [
    {
     "name": "stdout",
     "output_type": "stream",
     "text": [
      "count    2.369900e+04\n",
      "mean     6.541549e+06\n",
      "std      1.088701e+07\n",
      "min      1.219000e+04\n",
      "25%      3.400000e+06\n",
      "50%      4.650000e+06\n",
      "75%      6.800000e+06\n",
      "max      7.630000e+08\n",
      "Name: last_price, dtype: float64\n"
     ]
    },
    {
     "data": {
      "image/png": "[encoded data removed]",
      "text/plain": [
       "<Figure size 432x288 with 1 Axes>"
      ]
     },
     "metadata": {
      "needs_background": "light"
     },
     "output_type": "display_data"
    }
   ],
   "source": [
    "#data['last_price'].value_counts().sort_index()\n",
    "import matplotlib.pyplot as plt\n",
    "import numpy as np \n",
    "print(data['last_price'].describe())\n",
    "plt.hist(data['last_price'], color = 'blue', edgecolor = 'black', bins=100)\n",
    "plt.title('last_price')\n",
    "plt.xlabel('')\n",
    "plt.ylabel('')\n",
    "plt.show()"
   ]
  },
  {
   "cell_type": "markdown",
   "metadata": {},
   "source": [
    "Цена на момент снятия варируется от 12190 тыс.р. (возможно, аномальное значение) до 763000000 (цена самое то для 19 комнатной квартиры).\n",
    "\n",
    "Что нужно сделать с данными?\n",
    "\n",
    "1) Отсутствующих и пропущеных значений нет.\n",
    "\n",
    "2) Пропуски заполнять не нужно.\n",
    "\n",
    "3) Необходимо привести данные к типу int64, так как нет смысла иметь данны по стоимости квартир в типе float64: 0 после запятой особой погоды не сыграет, а вычисления с целочисленным типом проводить удобнее."
   ]
  },
  {
   "cell_type": "code",
   "execution_count": 4,
   "metadata": {},
   "outputs": [],
   "source": [
    "data['last_price'] = data['last_price'].astype('int64') #перевод данных в тип int64\n",
    "#data.info()"
   ]
  },
  {
   "cell_type": "markdown",
   "metadata": {},
   "source": [
    "**Площадь квартиры в квадратных метрах (м²)**"
   ]
  },
  {
   "cell_type": "code",
   "execution_count": 5,
   "metadata": {},
   "outputs": [
    {
     "data": {
      "text/plain": [
       "count    23699.000000\n",
       "mean        60.348651\n",
       "std         35.654083\n",
       "min         12.000000\n",
       "25%         40.000000\n",
       "50%         52.000000\n",
       "75%         69.900000\n",
       "max        900.000000\n",
       "Name: total_area, dtype: float64"
      ]
     },
     "execution_count": 5,
     "metadata": {},
     "output_type": "execute_result"
    }
   ],
   "source": [
    "#data['total_area'].value_counts().sort_index()\n",
    "data['total_area'].describe()"
   ]
  },
  {
   "cell_type": "markdown",
   "metadata": {},
   "source": [
    "Значения площади квартиры варьируются от 12 до 900 м². На первый взгляд, данные этого столбца не содержат аномальных значений.\n",
    "\n",
    "Что нужно сделать с данными?\n",
    "\n",
    "1) Отсутствующих и пропущеных значений нет.\n",
    "\n",
    "2) Пропуски заполнять не нужно.\n",
    "\n",
    "3) Приводить данные к типу int64 не стоит, так как может потеряться десятая часть метра (если в дальнейшем как-то высчитывать цену за квадратный метр, то это может повлиять на точность расчетов)."
   ]
  },
  {
   "cell_type": "markdown",
   "metadata": {},
   "source": [
    "**Дата публикации**"
   ]
  },
  {
   "cell_type": "code",
   "execution_count": 6,
   "metadata": {},
   "outputs": [],
   "source": [
    "data['first_day_exposition'].value_counts().sort_index()\n",
    "data['first_day_exposition'] = pd.to_datetime(data['first_day_exposition'])\n",
    "#data.info()"
   ]
  },
  {
   "cell_type": "markdown",
   "metadata": {},
   "source": [
    "Временной промежуток публикаций от 27.11.2014 до 03.05.2019. Примерно 4,5 года.\n",
    "\n",
    "Что нужно сделать с данными?\n",
    "\n",
    "1) Отсутствующих и пропущеных значений нет.\n",
    "\n",
    "2) Пропуски заполнять не нужно.\n",
    "\n",
    "3) Необходимо перевести данные из типа object в datetime64[ns], дабы они соответствовали содержанию столбца."
   ]
  },
  {
   "cell_type": "markdown",
   "metadata": {},
   "source": [
    "**Число комнат**"
   ]
  },
  {
   "cell_type": "code",
   "execution_count": 7,
   "metadata": {},
   "outputs": [
    {
     "data": {
      "text/plain": [
       "0      197\n",
       "1     8047\n",
       "2     7940\n",
       "3     5814\n",
       "4     1180\n",
       "5      326\n",
       "6      105\n",
       "7       59\n",
       "8       12\n",
       "9        8\n",
       "10       3\n",
       "11       2\n",
       "12       1\n",
       "14       2\n",
       "15       1\n",
       "16       1\n",
       "19       1\n",
       "Name: rooms, dtype: int64"
      ]
     },
     "execution_count": 7,
     "metadata": {},
     "output_type": "execute_result"
    }
   ],
   "source": [
    "data['rooms'].value_counts().sort_index()"
   ]
  },
  {
   "cell_type": "markdown",
   "metadata": {},
   "source": [
    "Диапазон значений количества комнат от 0 до 19. 0 комнат может означать то, что продается не квартира, а комната, или квартира-студия. На первый взгляд, данные этого столбца не содержат аномальных значений. Но необходимо проверить достоверность данных о квартире с 19 комнатами.\n",
    "\n",
    "Что нужно сделать с данными?\n",
    "\n",
    "1) Отсутствующих и пропущеных значений нет.\n",
    "\n",
    "2) Пропуски заполнять не нужно.\n",
    "\n",
    "3) Переводить данные в другой тип не нужно."
   ]
  },
  {
   "cell_type": "code",
   "execution_count": 8,
   "metadata": {},
   "outputs": [
    {
     "name": "stdout",
     "output_type": "stream",
     "text": [
      "       total_images  last_price  total_area first_day_exposition  rooms  \\\n",
      "14498             6    32250000       374.6           2018-06-09     19   \n",
      "\n",
      "       ceiling_height  floors_total  living_area  floor is_apartment  ...  \\\n",
      "14498             NaN           5.0        264.5      2          NaN  ...   \n",
      "\n",
      "       kitchen_area  balcony    locality_name  airports_nearest  \\\n",
      "14498          27.6      NaN  Санкт-Петербург           19497.0   \n",
      "\n",
      "      cityCenters_nearest  parks_around3000  parks_nearest  ponds_around3000  \\\n",
      "14498              3574.0               0.0            NaN               2.0   \n",
      "\n",
      "       ponds_nearest  days_exposition  \n",
      "14498          548.0            114.0  \n",
      "\n",
      "[1 rows x 22 columns]\n",
      "14498    19.715789\n",
      "dtype: float64\n",
      "14498    Санкт-Петербург\n",
      "Name: locality_name, dtype: object\n",
      "14498    27.6\n",
      "Name: kitchen_area, dtype: float64\n"
     ]
    }
   ],
   "source": [
    "print(data.loc[data['rooms'] == 19])\n",
    "print(data.loc[data['rooms'] == 19]['total_area'] / data.loc[data['rooms'] == 19]['rooms'])\n",
    "print(data.loc[data['rooms'] == 19]['locality_name'])\n",
    "print(data.loc[data['rooms'] == 19]['kitchen_area'])"
   ]
  },
  {
   "cell_type": "markdown",
   "metadata": {},
   "source": [
    "**Высота потолков (м)**"
   ]
  },
  {
   "cell_type": "code",
   "execution_count": 9,
   "metadata": {},
   "outputs": [
    {
     "data": {
      "text/plain": [
       "1.00       1\n",
       "1.20       1\n",
       "1.75       1\n",
       "2.00      11\n",
       "2.20       1\n",
       "          ..\n",
       "26.00      1\n",
       "27.00      8\n",
       "27.50      1\n",
       "32.00      2\n",
       "100.00     1\n",
       "Name: ceiling_height, Length: 183, dtype: int64"
      ]
     },
     "execution_count": 9,
     "metadata": {},
     "output_type": "execute_result"
    }
   ],
   "source": [
    "data['ceiling_height'].value_counts().sort_index()"
   ]
  },
  {
   "cell_type": "markdown",
   "metadata": {},
   "source": [
    "Диапазон значений высоты потолков в метрах от 1 до 100. Вероятно, с обоих концов есть аномальные значения.\n",
    "\n",
    "Что нужно сделать с данными?\n",
    "\n",
    "1) Отсутствующие и пропущеные значения имеются. Их гораздо легче будет заполнить, сузив выборку по центру СПБ в последнем пункте исследовательского анализа данных.\n",
    "\n",
    "2) Пропуски нужно заполнить. По моему мнению, заполять пропуски целесообразно при анализе узкого сегмента квартир в последнем пункте исследовательского анализа данных. До этого момента нам эти данные не понадобятся, а отбрасывание аномальных значений может повлиять на дальнейшие анализы.\n",
    "\n",
    "3) Переводить данные в целочисленный тип не стоит, так как это может повлиять на дальнейшую стоимость расчетов.\n"
   ]
  },
  {
   "cell_type": "code",
   "execution_count": 10,
   "metadata": {},
   "outputs": [
    {
     "name": "stdout",
     "output_type": "stream",
     "text": [
      "1.00         1\n",
      "1.20         1\n",
      "1.75         1\n",
      "2.00        11\n",
      "2.20         1\n",
      "2.25         1\n",
      "2.30         4\n",
      "2.34         1\n",
      "2.40        23\n",
      "2.45        15\n",
      "2.46         2\n",
      "2.47         3\n",
      "2.48         8\n",
      "2.49         1\n",
      "2.50      3515\n",
      "2.51        34\n",
      "2.52        79\n",
      "2.53        67\n",
      "2.54        83\n",
      "2.55       980\n",
      "2.56       139\n",
      "2.57       103\n",
      "2.58        63\n",
      "2.59        14\n",
      "2.60      1646\n",
      "2.61         5\n",
      "2.62        14\n",
      "2.63        13\n",
      "2.64        81\n",
      "2.65       676\n",
      "2.66        17\n",
      "2.67        36\n",
      "2.68        23\n",
      "2.69         2\n",
      "2.70      1574\n",
      "2.71        13\n",
      "2.72        31\n",
      "2.73        35\n",
      "2.74        28\n",
      "2.75       910\n",
      "2.76        60\n",
      "2.77        61\n",
      "2.78        51\n",
      "2.79        10\n",
      "2.80       993\n",
      "2.81         9\n",
      "2.82        18\n",
      "2.83        15\n",
      "2.84        19\n",
      "2.85       101\n",
      "2.86         6\n",
      "2.87        10\n",
      "2.88        12\n",
      "2.89         1\n",
      "2.90       164\n",
      "2.91         4\n",
      "2.92         9\n",
      "2.93         4\n",
      "2.94         3\n",
      "2.95        47\n",
      "2.96         5\n",
      "2.97         4\n",
      "2.98         2\n",
      "2.99         1\n",
      "3.00      1112\n",
      "3.01         6\n",
      "3.02         8\n",
      "3.03         4\n",
      "3.04         6\n",
      "3.05        46\n",
      "3.06        11\n",
      "3.07        11\n",
      "3.08        14\n",
      "3.09         4\n",
      "3.10       203\n",
      "3.11         7\n",
      "3.12        17\n",
      "3.13        11\n",
      "3.14         7\n",
      "3.15        57\n",
      "3.16         7\n",
      "3.17         5\n",
      "3.18        11\n",
      "3.20       277\n",
      "3.21         3\n",
      "3.22         3\n",
      "3.23         4\n",
      "3.24         4\n",
      "3.25        36\n",
      "3.26         6\n",
      "3.27         6\n",
      "3.28         6\n",
      "3.29         1\n",
      "3.30       141\n",
      "3.31         3\n",
      "3.32         6\n",
      "3.33        10\n",
      "3.34         3\n",
      "3.35        16\n",
      "3.36         5\n",
      "3.37         4\n",
      "3.38         8\n",
      "3.39         1\n",
      "3.40        92\n",
      "3.42         1\n",
      "3.43         1\n",
      "3.44         1\n",
      "3.45         9\n",
      "3.46         4\n",
      "3.47         6\n",
      "3.48         1\n",
      "3.49         2\n",
      "3.50       130\n",
      "3.51         2\n",
      "3.52         3\n",
      "3.53         3\n",
      "3.54         6\n",
      "3.55        18\n",
      "3.56         5\n",
      "3.57         3\n",
      "3.58         1\n",
      "3.59         1\n",
      "3.60        36\n",
      "3.62         2\n",
      "3.63         3\n",
      "3.65         4\n",
      "3.66         3\n",
      "3.67         3\n",
      "3.68         1\n",
      "3.69         1\n",
      "3.70        30\n",
      "3.75         8\n",
      "3.76         1\n",
      "3.78         3\n",
      "3.80        20\n",
      "3.82         1\n",
      "3.83         1\n",
      "3.84         1\n",
      "3.85         2\n",
      "3.86         2\n",
      "3.87         1\n",
      "3.88         1\n",
      "3.90        14\n",
      "3.93         1\n",
      "3.95         8\n",
      "3.98         1\n",
      "4.00        39\n",
      "4.06         1\n",
      "4.10         3\n",
      "4.14         1\n",
      "4.15         1\n",
      "4.19         2\n",
      "4.20        10\n",
      "4.25         1\n",
      "4.30         1\n",
      "4.37         1\n",
      "4.40         3\n",
      "4.45         2\n",
      "4.50         7\n",
      "4.65         1\n",
      "4.70         2\n",
      "4.80         1\n",
      "4.90         1\n",
      "5.00         1\n",
      "5.20         1\n",
      "5.30         2\n",
      "5.50         1\n",
      "5.60         1\n",
      "5.80         1\n",
      "6.00         1\n",
      "8.00         3\n",
      "8.30         1\n",
      "10.30        1\n",
      "14.00        1\n",
      "20.00        1\n",
      "22.60        1\n",
      "24.00        1\n",
      "25.00        7\n",
      "26.00        1\n",
      "27.00        8\n",
      "27.50        1\n",
      "32.00        2\n",
      "100.00       1\n",
      "Name: ceiling_height, dtype: int64\n"
     ]
    }
   ],
   "source": [
    "with pd.option_context('display.max_rows', None, 'display.max_columns', None):\n",
    "    print(data['ceiling_height'].value_counts().sort_index())\n"
   ]
  },
  {
   "cell_type": "markdown",
   "metadata": {},
   "source": [
    "**Всего этажей в доме**"
   ]
  },
  {
   "cell_type": "code",
   "execution_count": 11,
   "metadata": {},
   "outputs": [
    {
     "name": "stdout",
     "output_type": "stream",
     "text": [
      "count    23613.000000\n",
      "mean        10.673824\n",
      "std          6.597173\n",
      "min          1.000000\n",
      "25%          5.000000\n",
      "50%          9.000000\n",
      "75%         16.000000\n",
      "max         60.000000\n",
      "Name: floors_total, dtype: float64\n"
     ]
    },
    {
     "data": {
      "image/png": "[encoded data removed]",
      "text/plain": [
       "<Figure size 432x288 with 1 Axes>"
      ]
     },
     "metadata": {
      "needs_background": "light"
     },
     "output_type": "display_data"
    }
   ],
   "source": [
    "#data['floors_total'].value_counts().sort_index()\\\n",
    "print(data['floors_total'].describe())\n",
    "plt.hist(data['floors_total'], color = 'blue', edgecolor = 'black', bins=50)\n",
    "plt.title('floors_total')\n",
    "plt.xlabel('')\n",
    "plt.ylabel('')\n",
    "plt.show()"
   ]
  },
  {
   "cell_type": "markdown",
   "metadata": {},
   "source": [
    "Диапазон значений количества этажей в зданиях - от 1 до 60 (по моим данным, в Санкт-Петербурге и его окрестностях есть и высотные здания, и одноэтажные частные дома). На первый взгляд, данные этого столбца не содержат аномальных значений.\n",
    "\n",
    "1) Отсутствующие и пропущеные значения имеются. Радует, что их немного! \n",
    "\n",
    "2) Пропуски нужно заполнить. Посмотрим на разброс данных: значения от 2 до 27 этажей распределены ПРИМЕРНО равномерно, то есть, имеется больше 100 домов в каждой категории. Ниже выведена таблица сравнения этажей, на котором расположена квартира с максимальным количеством этажей (значения NaN). Мы не можем из этого узнать сколько этажей в доме, в котором продается квартира, известно лишь то, что их количество больше или равно этажу, на котором расположена квартира и то, что сама общая картина данных, если мы заменим значения NaN в столбце floors_total на floor не поменяется (значений мало с пропусками в этом столбце). Так и сделаем ниже. \n",
    "\n",
    "3) Переводить данные в целочисленный тип стоит, не бывает же половины этажа. Так будут визуально приятнее смотреться данные."
   ]
  },
  {
   "cell_type": "code",
   "execution_count": 12,
   "metadata": {},
   "outputs": [],
   "source": [
    "data.loc[data['floors_total'].isnull(), ['floors_total', 'floor']].head(50)\n",
    "data['floors_total'] = data['floors_total'].fillna(data['floor'])\n",
    "\n",
    "data['floors_total'] = data['floors_total'].astype('int64') #перевод данных в тип int64\n",
    "#data.info()\n",
    "#data['floors_total'].value_counts().sort_index()"
   ]
  },
  {
   "cell_type": "markdown",
   "metadata": {},
   "source": [
    "**Жилая площадь в квадратных метрах (м²)**"
   ]
  },
  {
   "cell_type": "code",
   "execution_count": 13,
   "metadata": {},
   "outputs": [
    {
     "data": {
      "text/plain": [
       "2.0      2\n",
       "3.0      2\n",
       "5.0      1\n",
       "5.4      1\n",
       "6.0      1\n",
       "        ..\n",
       "322.3    1\n",
       "332.0    1\n",
       "347.5    1\n",
       "409.0    1\n",
       "409.7    1\n",
       "Name: living_area, Length: 1782, dtype: int64"
      ]
     },
     "execution_count": 13,
     "metadata": {},
     "output_type": "execute_result"
    }
   ],
   "source": [
    "data['living_area'].value_counts().sort_index()"
   ]
  },
  {
   "cell_type": "markdown",
   "metadata": {},
   "source": [
    "Диапазон значений жилой площади варьируется от 2 м² до 409.7 м². Бытовку с жилой площадью 2 м² можно продать через агентство недвижимости так же успешно, как и многоуровневый особняк. На первый взгляд, данные этого столбца не содержат аномальных значений.\n",
    "\n",
    "Что нужно сделать с данными данного столбца?\n",
    "\n",
    "1) Отсутствующие и пропущеные значения есть. Их достаточно много!\n",
    "\n",
    "2) Пропуски заполнять не нужно. По какому принципу? Один из немногих вариантов заполнения пропусков - заполнить жилую площадь значениями, равными общей площади квартиры: они примерно равны и коррелируют между собой.\n",
    "\n",
    "3) Приводить данные к типу int64 не стоит, так как может потеряться десятая часть метра."
   ]
  },
  {
   "cell_type": "code",
   "execution_count": 14,
   "metadata": {},
   "outputs": [],
   "source": [
    "#data['living_area'] = data['living_area'].fillna(data['total_area'])\n",
    "#data.info()"
   ]
  },
  {
   "cell_type": "markdown",
   "metadata": {},
   "source": [
    "**Этаж**"
   ]
  },
  {
   "cell_type": "code",
   "execution_count": 15,
   "metadata": {},
   "outputs": [
    {
     "data": {
      "text/plain": [
       "1     2917\n",
       "2     3368\n",
       "3     3073\n",
       "4     2804\n",
       "5     2621\n",
       "6     1305\n",
       "7     1218\n",
       "8     1083\n",
       "9     1051\n",
       "10     687\n",
       "11     523\n",
       "12     526\n",
       "13     379\n",
       "14     337\n",
       "15     343\n",
       "16     315\n",
       "17     227\n",
       "18     178\n",
       "19     147\n",
       "20     110\n",
       "21     125\n",
       "22     113\n",
       "23     100\n",
       "24      63\n",
       "25      46\n",
       "26      24\n",
       "27      10\n",
       "28       1\n",
       "29       1\n",
       "30       1\n",
       "31       1\n",
       "32       1\n",
       "33       1\n",
       "Name: floor, dtype: int64"
      ]
     },
     "execution_count": 15,
     "metadata": {},
     "output_type": "execute_result"
    }
   ],
   "source": [
    "data['floor'].value_counts().sort_index()"
   ]
  },
  {
   "cell_type": "markdown",
   "metadata": {},
   "source": [
    "Диапазон значений этажей, на котором расположена продающаяся квартира составляет от 1 до 33. На первый взгляд, данные этого столбца не содержат аномальных значений. (максимальное число этажей в здании, в котором продается квартира 60 и это больше максимального значения данной выборки)\n",
    "\n",
    "Что нужно сделать с данными данного столбца?\n",
    "\n",
    "1) Отсутствующих и пропущеных значений нет.\n",
    "\n",
    "2) Пропуски заполнять не нужно.\n",
    "\n",
    "3) Приводить данные к другому типу не нужно."
   ]
  },
  {
   "cell_type": "markdown",
   "metadata": {},
   "source": [
    "**Апартаменты (булев тип)**"
   ]
  },
  {
   "cell_type": "code",
   "execution_count": 16,
   "metadata": {},
   "outputs": [
    {
     "data": {
      "text/plain": [
       "False    2725\n",
       "True       50\n",
       "Name: is_apartment, dtype: int64"
      ]
     },
     "execution_count": 16,
     "metadata": {},
     "output_type": "execute_result"
    }
   ],
   "source": [
    "data['is_apartment'].value_counts().sort_index()"
   ]
  },
  {
   "cell_type": "markdown",
   "metadata": {},
   "source": [
    "Булев тип. На первый взгляд, данные этого столбца не содержат аномальных значений.\n",
    "\n",
    "Что нужно сделать с данными данного столбца?\n",
    "\n",
    "1) Есть отсутствующие и пропущенные значения.\n",
    "\n",
    "2) Желательно заполнить пропуски: можно их заполнить по принципу, ексли не указано, что квартира принадлежит к категории апартаменты, значит она к ней не принадлежит.\n",
    "\n",
    "3) Приводить данные к другому типу не нужно."
   ]
  },
  {
   "cell_type": "code",
   "execution_count": 17,
   "metadata": {},
   "outputs": [],
   "source": [
    "data['is_apartment'] = data['is_apartment'].fillna(False)\n",
    "#data.info()"
   ]
  },
  {
   "cell_type": "markdown",
   "metadata": {},
   "source": [
    "**Квартира-студия (булев тип)**"
   ]
  },
  {
   "cell_type": "code",
   "execution_count": 18,
   "metadata": {},
   "outputs": [
    {
     "data": {
      "text/plain": [
       "False    23550\n",
       "True       149\n",
       "Name: studio, dtype: int64"
      ]
     },
     "execution_count": 18,
     "metadata": {},
     "output_type": "execute_result"
    }
   ],
   "source": [
    "data['studio'].value_counts().sort_index()"
   ]
  },
  {
   "cell_type": "markdown",
   "metadata": {},
   "source": [
    "Булев тип. На первый взгляд, данные этого столбца не содержат аномальных значений.\n",
    "\n",
    "Что нужно сделать с данными данного столбца?\n",
    "\n",
    "1) Отсутствующих и пропущеных значений нет.\n",
    "\n",
    "2) Пропуски заполнять не нужно.\n",
    "\n",
    "3) Приводить данные к другому типу не нужно."
   ]
  },
  {
   "cell_type": "markdown",
   "metadata": {},
   "source": [
    "**Свободная планировка (булев тип)**"
   ]
  },
  {
   "cell_type": "code",
   "execution_count": 19,
   "metadata": {},
   "outputs": [
    {
     "data": {
      "text/plain": [
       "False    23632\n",
       "True        67\n",
       "Name: open_plan, dtype: int64"
      ]
     },
     "execution_count": 19,
     "metadata": {},
     "output_type": "execute_result"
    }
   ],
   "source": [
    "data['open_plan'].value_counts().sort_index()"
   ]
  },
  {
   "cell_type": "markdown",
   "metadata": {},
   "source": [
    "Булев тип. На первый взгляд, данные этого столбца не содержат аномальных значений.\n",
    "\n",
    "Что нужно сделать с данными данного столбца?\n",
    "\n",
    "1) Отсутствующих и пропущеных значений нет.\n",
    "\n",
    "2) Пропуски заполнять не нужно.\n",
    "\n",
    "3) Приводить данные к другому типу не нужно."
   ]
  },
  {
   "cell_type": "markdown",
   "metadata": {},
   "source": [
    "**Площадь кухни в квадратных метрах (м²)**"
   ]
  },
  {
   "cell_type": "code",
   "execution_count": 20,
   "metadata": {},
   "outputs": [
    {
     "data": {
      "text/plain": [
       "1.30      1\n",
       "2.00      7\n",
       "2.30      1\n",
       "2.40      1\n",
       "2.89      1\n",
       "         ..\n",
       "93.20     1\n",
       "100.00    1\n",
       "100.70    1\n",
       "107.00    1\n",
       "112.00    1\n",
       "Name: kitchen_area, Length: 971, dtype: int64"
      ]
     },
     "execution_count": 20,
     "metadata": {},
     "output_type": "execute_result"
    }
   ],
   "source": [
    "data['kitchen_area'].value_counts().sort_index()"
   ]
  },
  {
   "cell_type": "markdown",
   "metadata": {},
   "source": [
    "Диапазон значений площади кухни от 1.30 м² до 112 м². В квартире-студии вполне может быть кухонная зона размером 1.30 м², а для квартиры площадью 900 м² иметь кухню в 112.00 м² это нормально. На первый взгляд, данные этого столбца не содержат аномальных значений.\n",
    "\n",
    "Что нужно сделать с данными данного столбца?\n",
    "\n",
    "1) Отсутствующие и пропущенные значения есть.\n",
    "\n",
    "2) Пропуски необходимо заполнить. Мы их заполним средним значением относительно соотношения площадей кухни к общей площади квартиры в тех квартирах, где у нас значения есть. Высчитаем среднюю долю площади всей квартиры, занимаемой кухней и умножим это число на площадь квартиры с недостающими данными. Итого мы получим примерную площадь кухни.\n",
    "\n",
    "3) Приводить данные к другому типу не нужно."
   ]
  },
  {
   "cell_type": "code",
   "execution_count": 21,
   "metadata": {},
   "outputs": [
    {
     "name": "stdout",
     "output_type": "stream",
     "text": [
      "<class 'pandas.core.frame.DataFrame'>\n",
      "RangeIndex: 23699 entries, 0 to 23698\n",
      "Data columns (total 22 columns):\n",
      "total_images            23699 non-null int64\n",
      "last_price              23699 non-null int64\n",
      "total_area              23699 non-null float64\n",
      "first_day_exposition    23699 non-null datetime64[ns]\n",
      "rooms                   23699 non-null int64\n",
      "ceiling_height          14504 non-null float64\n",
      "floors_total            23699 non-null int64\n",
      "living_area             23699 non-null float64\n",
      "floor                   23699 non-null int64\n",
      "is_apartment            23699 non-null bool\n",
      "studio                  23699 non-null bool\n",
      "open_plan               23699 non-null bool\n",
      "kitchen_area            23699 non-null float64\n",
      "balcony                 12180 non-null float64\n",
      "locality_name           23650 non-null object\n",
      "airports_nearest        18157 non-null float64\n",
      "cityCenters_nearest     18180 non-null float64\n",
      "parks_around3000        18181 non-null float64\n",
      "parks_nearest           8079 non-null float64\n",
      "ponds_around3000        18181 non-null float64\n",
      "ponds_nearest           9110 non-null float64\n",
      "days_exposition         20518 non-null float64\n",
      "dtypes: bool(3), datetime64[ns](1), float64(12), int64(5), object(1)\n",
      "memory usage: 3.5+ MB\n"
     ]
    }
   ],
   "source": [
    "data['kitchen_area'] = data['kitchen_area'].fillna(data['total_area'] * ((data['kitchen_area'] / data['total_area']).mean()))\n",
    "data['living_area'] = data['living_area'].fillna(data['total_area']-data['kitchen_area'])\n",
    "data.info()"
   ]
  },
  {
   "cell_type": "markdown",
   "metadata": {},
   "source": [
    "**Число балконов**"
   ]
  },
  {
   "cell_type": "code",
   "execution_count": 22,
   "metadata": {},
   "outputs": [
    {
     "data": {
      "text/plain": [
       "0.0    3758\n",
       "1.0    4195\n",
       "2.0    3659\n",
       "3.0      81\n",
       "4.0     183\n",
       "5.0     304\n",
       "Name: balcony, dtype: int64"
      ]
     },
     "execution_count": 22,
     "metadata": {},
     "output_type": "execute_result"
    }
   ],
   "source": [
    "data['balcony'].value_counts().sort_index()"
   ]
  },
  {
   "cell_type": "markdown",
   "metadata": {},
   "source": [
    "Диапазон значений от 1 до 5. На первый взгляд, данные этого столбца не содержат аномальных значений.\n",
    "\n",
    "Что нужно сделать с данными данного столбца?\n",
    "\n",
    "1) Отсутствующие и пропущенные значения есть.\n",
    "\n",
    "2) Пропуски необходимо заполнить. Если человек не указал число балконов — скорее всего, их нет. Такие пропуски правильно заменить на 0.\n",
    "\n",
    "3) Для удобства данные необходимо привести к типу int64."
   ]
  },
  {
   "cell_type": "code",
   "execution_count": 23,
   "metadata": {},
   "outputs": [],
   "source": [
    "data['balcony'] = data['balcony'].fillna(0)\n",
    "data['balcony'] = data['balcony'].astype('int64')\n",
    "#data.info()"
   ]
  },
  {
   "cell_type": "markdown",
   "metadata": {},
   "source": [
    "**Название населённого пункта**"
   ]
  },
  {
   "cell_type": "code",
   "execution_count": 24,
   "metadata": {},
   "outputs": [
    {
     "data": {
      "text/plain": [
       "деревня иссад                     1\n",
       "посёлок ропша                     1\n",
       "посёлок сумино                    1\n",
       "садовое товарищество садко        1\n",
       "деревня раздолье                  1\n",
       "                              ...  \n",
       "пушкин                          369\n",
       "всеволожск                      398\n",
       "посёлок шушары                  440\n",
       "посёлок мурино                  522\n",
       "санкт-петербург               15721\n",
       "Name: locality_name, Length: 364, dtype: int64"
      ]
     },
     "execution_count": 24,
     "metadata": {},
     "output_type": "execute_result"
    }
   ],
   "source": [
    "data['locality_name'] = data['locality_name'].str.lower()\n",
    "data['locality_name'].value_counts().sort_values()"
   ]
  },
  {
   "cell_type": "markdown",
   "metadata": {},
   "source": [
    "На первый взгляд, данные этого столбца не содержат аномальных значений.\n",
    "\n",
    "Что нужно сделать с данными данного столбца?\n",
    "\n",
    "1) Отсутствующие и пропущенные значения есть. \n",
    "\n",
    "2) Логичную замену пропускам мы подобрать не можем, итого придется оставить все как есть.\n",
    "\n",
    "3) Приводить данные к другому типу не нужно."
   ]
  },
  {
   "cell_type": "markdown",
   "metadata": {},
   "source": [
    "**Расстояние до ближайшего аэропорта в метрах (м)**"
   ]
  },
  {
   "cell_type": "code",
   "execution_count": 25,
   "metadata": {},
   "outputs": [
    {
     "data": {
      "text/plain": [
       "0.0        1\n",
       "6450.0     2\n",
       "6914.0     1\n",
       "6949.0     1\n",
       "6989.0     6\n",
       "          ..\n",
       "83758.0    1\n",
       "84006.0    1\n",
       "84665.0    1\n",
       "84853.0    1\n",
       "84869.0    1\n",
       "Name: airports_nearest, Length: 8275, dtype: int64"
      ]
     },
     "execution_count": 25,
     "metadata": {},
     "output_type": "execute_result"
    }
   ],
   "source": [
    "data['airports_nearest'].value_counts().sort_index()"
   ]
  },
  {
   "cell_type": "markdown",
   "metadata": {},
   "source": [
    "В случае первого значения: либо данные не были определены, либо это квартира авиадиспетчера: данные необходимо обработать для последующего анализа.\n",
    "\n",
    "Что нужно сделать с данными данного столбца?\n",
    "\n",
    "1) Отсутствующие и пропущенные значения есть.\n",
    "\n",
    "2) Логичную замену пропускам мы подобрать не можем, итого придется оставить все как есть.\n",
    "\n",
    "3) Приводить данные к другому типу не нужно.\n"
   ]
  },
  {
   "cell_type": "markdown",
   "metadata": {},
   "source": [
    "**Расстояние до центра города (м)**"
   ]
  },
  {
   "cell_type": "code",
   "execution_count": 26,
   "metadata": {},
   "outputs": [
    {
     "data": {
      "text/plain": [
       "181.0      1\n",
       "208.0      1\n",
       "215.0      1\n",
       "287.0      1\n",
       "291.0      1\n",
       "          ..\n",
       "64857.0    1\n",
       "65105.0    1\n",
       "65764.0    1\n",
       "65952.0    1\n",
       "65968.0    1\n",
       "Name: cityCenters_nearest, Length: 7642, dtype: int64"
      ]
     },
     "execution_count": 26,
     "metadata": {},
     "output_type": "execute_result"
    }
   ],
   "source": [
    "data['cityCenters_nearest'].value_counts().sort_index()"
   ]
  },
  {
   "cell_type": "markdown",
   "metadata": {},
   "source": [
    "Если брать, что дано расстояние до центра Санкт-Петербурга, то значение в почти 66 км может иметь место быть. Не нужно забывать, что в выборке дана в том числе и информация о жилье в поселках, деревнях, ПГТ и прочих населенных пунктах, где в расчете расстояния может быть дано расстояние до центра близлежащего города. На первый взгляд, данные этого столбца не содержат аномальных значений.\n",
    "\n",
    "Что нужно сделать с данными данного столбца?\n",
    "\n",
    "1) Отсутствующие и пропущенные значения есть.\n",
    "\n",
    "2) Логичную замену пропускам мы подобрать не можем, итого придется оставить все как есть.\n",
    "\n",
    "3) Приводить данные к типу int64 можно, но сложно, так как не обработаны пропущенные значения."
   ]
  },
  {
   "cell_type": "markdown",
   "metadata": {},
   "source": [
    "**Число парков в радиусе 3 км**"
   ]
  },
  {
   "cell_type": "code",
   "execution_count": 27,
   "metadata": {},
   "outputs": [
    {
     "data": {
      "text/plain": [
       "0.0    10106\n",
       "1.0     5681\n",
       "2.0     1747\n",
       "3.0      647\n",
       "Name: parks_around3000, dtype: int64"
      ]
     },
     "execution_count": 27,
     "metadata": {},
     "output_type": "execute_result"
    }
   ],
   "source": [
    "data['parks_around3000'].value_counts().sort_index()"
   ]
  },
  {
   "cell_type": "markdown",
   "metadata": {},
   "source": [
    "Диапазон значений от 0 до 3. На первый взгляд, данные этого столбца не содержат аномальных значений.\n",
    "\n",
    "Что нужно сделать с данными данного столбца?\n",
    "\n",
    "1) Отсутствующие и пропущенные значения есть.\n",
    "\n",
    "2) Логичную замену пропускам мы подобрать можем: предположим, что если значений нет, значит вблизи 3000 метров парков нет.\n",
    "\n",
    "3) Приводить данные к типу int64 можно дабы данные смотрелись приятнее."
   ]
  },
  {
   "cell_type": "code",
   "execution_count": 28,
   "metadata": {},
   "outputs": [],
   "source": [
    "data['parks_around3000'] = data['parks_around3000'].fillna(0)\n",
    "data['parks_around3000'] = data['parks_around3000'].astype('int64')\n",
    "#data.info()"
   ]
  },
  {
   "cell_type": "markdown",
   "metadata": {},
   "source": [
    "**Расстояние до ближайшего парка (м)**"
   ]
  },
  {
   "cell_type": "code",
   "execution_count": 29,
   "metadata": {},
   "outputs": [
    {
     "data": {
      "text/plain": [
       "1.0       1\n",
       "3.0       1\n",
       "4.0       1\n",
       "7.0       1\n",
       "9.0       2\n",
       "         ..\n",
       "2905.0    1\n",
       "2984.0    1\n",
       "3013.0    1\n",
       "3064.0    1\n",
       "3190.0    2\n",
       "Name: parks_nearest, Length: 995, dtype: int64"
      ]
     },
     "execution_count": 29,
     "metadata": {},
     "output_type": "execute_result"
    }
   ],
   "source": [
    "data['parks_nearest'].value_counts().sort_index()"
   ]
  },
  {
   "cell_type": "markdown",
   "metadata": {},
   "source": [
    "По данным предыдущего столбца, расстояние больше 3000 м может быть у 10106 объектов. Вероятно, если значения этого расстояния нет, значит значение больше 3000 м или информация о самом значении отсутствует. Расстояние больше 3000 м не соответствует по данному критерию слову \"ближайший\". На первый взгляд, данные этого столбца не содержат аномальных значений.\n",
    "\n",
    "Что нужно сделать с данными данного столбца?\n",
    "\n",
    "1) Отсутствующие и пропущенные значения есть.\n",
    "\n",
    "\n",
    "<font color='red'>\n",
    "2) Логичную замену пропускам мы подобрать можем: предположим, что если значений нет, значит вблизи 3000 метров парков нет, следовательно, мы, для удобства расчетов, можем заменить значения на значение больше 3000 и максимального значения из столбца \"Расстояние до ближайшего парка (м)\", например, 3500. </font>\n",
    "\n",
    "3) Приводить данные к типу int64 можно дабы данные смотрелись приятнее."
   ]
  },
  {
   "cell_type": "code",
   "execution_count": 30,
   "metadata": {},
   "outputs": [],
   "source": [
    "#data['parks_nearest'] = data['parks_nearest'].fillna(3500)\n",
    "#data['parks_nearest'] = data['parks_nearest'].astype('int64')\n",
    "#data.info()"
   ]
  },
  {
   "cell_type": "markdown",
   "metadata": {},
   "source": [
    "**Число водоёмов в радиусе 3 км**"
   ]
  },
  {
   "cell_type": "code",
   "execution_count": 31,
   "metadata": {},
   "outputs": [
    {
     "data": {
      "text/plain": [
       "0.0    9071\n",
       "1.0    5717\n",
       "2.0    1892\n",
       "3.0    1501\n",
       "Name: ponds_around3000, dtype: int64"
      ]
     },
     "execution_count": 31,
     "metadata": {},
     "output_type": "execute_result"
    }
   ],
   "source": [
    "data['ponds_around3000'].value_counts().sort_index()"
   ]
  },
  {
   "cell_type": "markdown",
   "metadata": {},
   "source": [
    "Диапазон значений от 0 до 3. На первый взгляд, данные этого столбца не содержат аномальных значений.\n",
    "\n",
    "Что нужно сделать с данными данного столбца?\n",
    "\n",
    "1) Отсутствующие и пропущенные значения есть.\n",
    "\n",
    "2) Логичную замену пропускам мы подобрать можем: предположим, что если значений нет, значит вблизи 3000 метров водоемов нет.\n",
    "\n",
    "3) Приводить данные к типу int64 можно дабы данные смотрелись приятнее."
   ]
  },
  {
   "cell_type": "code",
   "execution_count": 32,
   "metadata": {},
   "outputs": [],
   "source": [
    "data['ponds_around3000'] = data['ponds_around3000'].fillna(0)\n",
    "data['ponds_around3000'] = data['ponds_around3000'].astype('int64')\n",
    "#data.info()"
   ]
  },
  {
   "cell_type": "markdown",
   "metadata": {},
   "source": [
    "**Расстояние до ближайшего водоёма (м)**"
   ]
  },
  {
   "cell_type": "code",
   "execution_count": 33,
   "metadata": {},
   "outputs": [
    {
     "data": {
      "text/plain": [
       "13.0      2\n",
       "16.0      8\n",
       "19.0      4\n",
       "20.0      5\n",
       "22.0      7\n",
       "         ..\n",
       "1299.0    1\n",
       "1313.0    1\n",
       "1337.0    1\n",
       "1341.0    2\n",
       "1344.0    1\n",
       "Name: ponds_nearest, Length: 1096, dtype: int64"
      ]
     },
     "execution_count": 33,
     "metadata": {},
     "output_type": "execute_result"
    }
   ],
   "source": [
    "data['ponds_nearest'].value_counts().sort_index()"
   ]
  },
  {
   "cell_type": "markdown",
   "metadata": {},
   "source": [
    "По данным предыдущего столбца, расстояние больше 3000 м может быть у 9071 объектов. Вероятно, если значения этого расстояния нет, значит значение больше 3000 м или же само значение отсутствует в данных. Максимальное расстояние в этом столбике это 1344 м, на первый взгляд очень странно, но если учитывать болотистую местность бывшей Ингерманландии и обилие водоемов в Санкт-Петербурге, то в правильности исходных данных можно и не сомневаться. \n",
    "\n",
    "Что нужно сделать с данными данного столбца?\n",
    "\n",
    "1) Отсутствующие и пропущенные значения есть.\n",
    "\n",
    "<font color='red'>\n",
    "2) Логичную замену пропускам мы подобрать можем: предположим, что если значений нет, значит вблизи 3000 метров парков нет, следовательно, мы, для удобства расчетов, можем заменить значения на значение больше 3000 и максимального значения из столбца \"Расстояние до ближайшего водоема (м)\", например, 3000. </font>\n",
    "\n",
    "3) Приводить данные к типу int64 можно дабы данные смотрелись приятнее."
   ]
  },
  {
   "cell_type": "code",
   "execution_count": 34,
   "metadata": {},
   "outputs": [],
   "source": [
    "#data['ponds_nearest'] = data['ponds_nearest'].fillna(3000)\n",
    "#data['ponds_nearest'] = data['ponds_nearest'].astype('int64')\n",
    "#data.info()"
   ]
  },
  {
   "cell_type": "markdown",
   "metadata": {},
   "source": [
    "**Сколько дней было размещено объявление (от публикации до снятия)**"
   ]
  },
  {
   "cell_type": "code",
   "execution_count": 35,
   "metadata": {},
   "outputs": [
    {
     "data": {
      "text/plain": [
       "1.0         1\n",
       "2.0         3\n",
       "3.0       158\n",
       "4.0       176\n",
       "5.0       152\n",
       "         ... \n",
       "1512.0      2\n",
       "1513.0      1\n",
       "1553.0      1\n",
       "1572.0      1\n",
       "1580.0      1\n",
       "Name: days_exposition, Length: 1141, dtype: int64"
      ]
     },
     "execution_count": 35,
     "metadata": {},
     "output_type": "execute_result"
    }
   ],
   "source": [
    "data['days_exposition'].value_counts().sort_index()"
   ]
  },
  {
   "cell_type": "markdown",
   "metadata": {},
   "source": [
    "Диапазон значений от 1 дня до 1580. 1580 дней это примерно 4 года и 4 месяца, что НЕ больше 4,5. На первый взгляд, данные этого столбца не содержат аномальных значений.\n",
    "\n",
    "Что нужно сделать с данными данного столбца?\n",
    "\n",
    "1) Отсутствующие и пропущенные значения есть.\n",
    "\n",
    "2) Логичную замену пропускам мы подобрать можем: предположим, что на тот остальные объявления, на момент снятия последних данных еще весели, отсутствующие значения мы можем заменить на длину в днях промежутка с дня публикации до дня последнего снятия данных за анализируемый период (день последнего выставленного объявления - день публикации).\n",
    "\n",
    "3) Приводить данные к типу int64 можно дабы данные смотрелись приятнее."
   ]
  },
  {
   "cell_type": "code",
   "execution_count": 36,
   "metadata": {},
   "outputs": [],
   "source": [
    "import datetime as dt\n",
    "\n",
    "data['first_day_exposition'] = pd.to_datetime(data['first_day_exposition']).dt.date #убираем время из столбца с датой первой публикации\n",
    "\n",
    "data['days_exposition'] = data['days_exposition'].fillna((data['first_day_exposition'].max() - data['first_day_exposition']).dt.days)\n",
    "data['days_exposition'] = data['days_exposition'].astype('int64')\n",
    "\n",
    "#data.info()"
   ]
  },
  {
   "cell_type": "markdown",
   "metadata": {},
   "source": [
    "### Вывод"
   ]
  },
  {
   "cell_type": "markdown",
   "metadata": {},
   "source": [
    "Вышеизложенные данные содержат всю необходимую информацию для проведения исследовательского анализа и выполнения заложенных инструкций. Часть из них необходимо обработать и привести в вид, пригодный для анализа."
   ]
  },
  {
   "cell_type": "markdown",
   "metadata": {},
   "source": [
    "## Предобработка данных"
   ]
  },
  {
   "cell_type": "code",
   "execution_count": 37,
   "metadata": {},
   "outputs": [
    {
     "name": "stdout",
     "output_type": "stream",
     "text": [
      "Дубликатов: 0\n",
      "<class 'pandas.core.frame.DataFrame'>\n",
      "RangeIndex: 23699 entries, 0 to 23698\n",
      "Data columns (total 22 columns):\n",
      "total_images            23699 non-null int64\n",
      "last_price              23699 non-null int64\n",
      "total_area              23699 non-null float64\n",
      "first_day_exposition    23699 non-null object\n",
      "rooms                   23699 non-null int64\n",
      "ceiling_height          14504 non-null float64\n",
      "floors_total            23699 non-null int64\n",
      "living_area             23699 non-null float64\n",
      "floor                   23699 non-null int64\n",
      "is_apartment            23699 non-null bool\n",
      "studio                  23699 non-null bool\n",
      "open_plan               23699 non-null bool\n",
      "kitchen_area            23699 non-null float64\n",
      "balcony                 23699 non-null int64\n",
      "locality_name           23650 non-null object\n",
      "airports_nearest        18157 non-null float64\n",
      "cityCenters_nearest     18180 non-null float64\n",
      "parks_around3000        23699 non-null int64\n",
      "parks_nearest           8079 non-null float64\n",
      "ponds_around3000        23699 non-null int64\n",
      "ponds_nearest           9110 non-null float64\n",
      "days_exposition         23699 non-null int64\n",
      "dtypes: bool(3), float64(8), int64(9), object(2)\n",
      "memory usage: 3.5+ MB\n"
     ]
    }
   ],
   "source": [
    "print('Дубликатов:', data.duplicated().sum())\n",
    "data.info()"
   ]
  },
  {
   "cell_type": "markdown",
   "metadata": {},
   "source": [
    "Большая часть предобработки данных была сделана в предыдущем пункте.\n",
    "\n",
    "Основная часть данных была заменена на логически опосредованные значения. \n",
    "\n",
    "Были обработаны пропуски и дубликаты.\n",
    "\n",
    "Там, где остались пропуски значит, что логически заменить их нельзя и данные лучше не трогать, а где-то данные целесообразнее заменить позже на средние значение более узкой группы, возможно уже в отдельном dataframe."
   ]
  },
  {
   "cell_type": "code",
   "execution_count": 38,
   "metadata": {},
   "outputs": [],
   "source": [
    "data['ceiling_height'] = data['ceiling_height'].fillna(round(data['ceiling_height'].mean()))\n",
    "#data.info()"
   ]
  },
  {
   "cell_type": "markdown",
   "metadata": {},
   "source": [
    "## Расчёты и добавление результатов в таблицу"
   ]
  },
  {
   "cell_type": "markdown",
   "metadata": {},
   "source": [
    "**Цена квадратного метра**"
   ]
  },
  {
   "cell_type": "code",
   "execution_count": 39,
   "metadata": {},
   "outputs": [],
   "source": [
    "data['price_by_meter^2'] = round((data['last_price'] / data['total_area']).astype('float64'), 3)"
   ]
  },
  {
   "cell_type": "markdown",
   "metadata": {},
   "source": [
    "**День недели, месяц и год публикации объявления**"
   ]
  },
  {
   "cell_type": "code",
   "execution_count": 40,
   "metadata": {},
   "outputs": [],
   "source": [
    "data['first_day_exposition'] = pd.to_datetime(data['first_day_exposition'])\n",
    "\n",
    "data['day_week'] = data['first_day_exposition'].dt.weekday_name\n",
    "\n",
    "data['month'] = data['first_day_exposition'].dt.month\n",
    "\n",
    "data['year'] = data['first_day_exposition'].dt.year\n"
   ]
  },
  {
   "cell_type": "markdown",
   "metadata": {},
   "source": [
    "**Этаж квартиры; варианты — первый, последний, другой**"
   ]
  },
  {
   "cell_type": "code",
   "execution_count": 41,
   "metadata": {},
   "outputs": [],
   "source": [
    "def get_floor_type(row):\n",
    "    if row['floor'] == 1:\n",
    "        return 'первый'\n",
    "    if row['floor'] == row['floors_total']:\n",
    "        return 'последний'\n",
    "    return 'другой'\n",
    "\n",
    "data['flat_floor_name'] = data.apply(get_floor_type, axis=1)"
   ]
  },
  {
   "cell_type": "markdown",
   "metadata": {},
   "source": [
    "**Соотношение жилой и общей площади, а также отношение площади кухни к общей**"
   ]
  },
  {
   "cell_type": "code",
   "execution_count": 42,
   "metadata": {},
   "outputs": [],
   "source": [
    "data['living_to_total_ratio'] = round((data['living_area'] / data['total_area']), 3)\n",
    "\n",
    "data['kitchen_to_total_ratio'] = round((data['kitchen_area'] / data['total_area']), 3)\n"
   ]
  },
  {
   "cell_type": "markdown",
   "metadata": {},
   "source": [
    "## Исследовательский анализ данных"
   ]
  },
  {
   "cell_type": "markdown",
   "metadata": {},
   "source": [
    "**Изучите следующие параметры: площадь, цена, число комнат, высота потолков. Постройте гистограммы для каждого параметра.**"
   ]
  },
  {
   "cell_type": "code",
   "execution_count": 43,
   "metadata": {},
   "outputs": [
    {
     "data": {
      "image/png": "[encoded data removed]",
      "text/plain": [
       "<Figure size 432x288 with 1 Axes>"
      ]
     },
     "metadata": {
      "needs_background": "light"
     },
     "output_type": "display_data"
    },
    {
     "data": {
      "image/png": "[encoded data removed]",
      "text/plain": [
       "<Figure size 432x288 with 1 Axes>"
      ]
     },
     "metadata": {
      "needs_background": "light"
     },
     "output_type": "display_data"
    },
    {
     "data": {
      "image/png": "[encoded data removed]",
      "text/plain": [
       "<Figure size 432x288 with 1 Axes>"
      ]
     },
     "metadata": {
      "needs_background": "light"
     },
     "output_type": "display_data"
    },
    {
     "data": {
      "image/png": "[encoded data removed]",
      "text/plain": [
       "<Figure size 432x288 with 1 Axes>"
      ]
     },
     "metadata": {
      "needs_background": "light"
     },
     "output_type": "display_data"
    }
   ],
   "source": [
    "import matplotlib.pyplot as plt\n",
    "\n",
    "data['total_area'].hist(bins=100) #площадь\n",
    "plt.title('total_area')\n",
    "plt.xlabel('Значение площади')\n",
    "plt.ylabel('Количество значений')\n",
    "plt.show()\n",
    "\n",
    "data['last_price'].hist(bins=100) #цена\n",
    "plt.title('last_price')\n",
    "plt.xlabel('Значение цены')\n",
    "plt.ylabel('Количество значений')\n",
    "plt.show()\n",
    "\n",
    "data['rooms'].hist(bins=100) #число комнат\n",
    "plt.title('rooms')\n",
    "plt.xlabel('Число комнат')\n",
    "plt.ylabel('Количество значений')\n",
    "plt.show()\n",
    "\n",
    "data['ceiling_height'].hist(bins=100) #высота потолков\n",
    "plt.title('ceiling_height')\n",
    "plt.xlabel('Высота потолков')\n",
    "plt.ylabel('Количество значений')\n",
    "plt.show()"
   ]
  },
  {
   "cell_type": "markdown",
   "metadata": {},
   "source": [
    "**Изучите время продажи квартиры. Постройте гистограмму. Посчитайте среднее и медиану. Опишите, сколько обычно занимает продажа. Когда можно считать, что продажи прошли очень быстро, а когда необычно долго?**"
   ]
  },
  {
   "cell_type": "code",
   "execution_count": 44,
   "metadata": {},
   "outputs": [
    {
     "name": "stdout",
     "output_type": "stream",
     "text": [
      "185.8217224355458\n",
      "94.0\n"
     ]
    },
    {
     "data": {
      "image/png": "[encoded data removed]",
      "text/plain": [
       "<Figure size 432x288 with 1 Axes>"
      ]
     },
     "metadata": {
      "needs_background": "light"
     },
     "output_type": "display_data"
    }
   ],
   "source": [
    "data['days_exposition'].hist(bins=100)\n",
    "\n",
    "print(data['days_exposition'].mean())\n",
    "print(data['days_exposition'].median())"
   ]
  },
  {
   "cell_type": "markdown",
   "metadata": {},
   "source": [
    "При определении того, сколько обычно занимает продажа целесообразнее ориентироваться на медиану значений, т.е. это 94 дня.\n",
    "\n",
    "Значения, меньше медианы по величине есть быстрые продажи, а больше - долгие: степень зависит от удаленности значения от медианы."
   ]
  },
  {
   "cell_type": "markdown",
   "metadata": {},
   "source": [
    "**Уберите редкие и выбивающиеся значения. Опишите, какие особенности обнаружили.**"
   ]
  },
  {
   "cell_type": "markdown",
   "metadata": {},
   "source": [
    "Исходя из предыдущих действий и анализов, в которых я старался максимально аккуратно относиться к данным и без причины не \"браковать\" результаты, редких и выбивающихся значений я не обнаружил.\n",
    "\n",
    "Можно удалить те значения, где нет названия населенного пункта."
   ]
  },
  {
   "cell_type": "code",
   "execution_count": 45,
   "metadata": {},
   "outputs": [],
   "source": [
    "data = data.loc[~data['locality_name'].isna()]\n",
    "#data.loc[data['locality_name'].isna()]\n",
    "#data.info()"
   ]
  },
  {
   "cell_type": "code",
   "execution_count": 46,
   "metadata": {},
   "outputs": [
    {
     "data": {
      "text/html": [
       "<div>\n",
       "<style scoped>\n",
       "    .dataframe tbody tr th:only-of-type {\n",
       "        vertical-align: middle;\n",
       "    }\n",
       "\n",
       "    .dataframe tbody tr th {\n",
       "        vertical-align: top;\n",
       "    }\n",
       "\n",
       "    .dataframe thead th {\n",
       "        text-align: right;\n",
       "    }\n",
       "</style>\n",
       "<table border=\"1\" class=\"dataframe\">\n",
       "  <thead>\n",
       "    <tr style=\"text-align: right;\">\n",
       "      <th></th>\n",
       "      <th>total_images</th>\n",
       "      <th>last_price</th>\n",
       "      <th>total_area</th>\n",
       "      <th>rooms</th>\n",
       "      <th>ceiling_height</th>\n",
       "      <th>floors_total</th>\n",
       "      <th>living_area</th>\n",
       "      <th>floor</th>\n",
       "      <th>kitchen_area</th>\n",
       "      <th>balcony</th>\n",
       "      <th>...</th>\n",
       "      <th>parks_around3000</th>\n",
       "      <th>parks_nearest</th>\n",
       "      <th>ponds_around3000</th>\n",
       "      <th>ponds_nearest</th>\n",
       "      <th>days_exposition</th>\n",
       "      <th>price_by_meter^2</th>\n",
       "      <th>month</th>\n",
       "      <th>year</th>\n",
       "      <th>living_to_total_ratio</th>\n",
       "      <th>kitchen_to_total_ratio</th>\n",
       "    </tr>\n",
       "  </thead>\n",
       "  <tbody>\n",
       "    <tr>\n",
       "      <td>count</td>\n",
       "      <td>23650.000000</td>\n",
       "      <td>2.365000e+04</td>\n",
       "      <td>23650.000000</td>\n",
       "      <td>23650.000000</td>\n",
       "      <td>23650.000000</td>\n",
       "      <td>23650.000000</td>\n",
       "      <td>23650.000000</td>\n",
       "      <td>23650.000000</td>\n",
       "      <td>23650.000000</td>\n",
       "      <td>23650.000000</td>\n",
       "      <td>...</td>\n",
       "      <td>23650.000000</td>\n",
       "      <td>8064.000000</td>\n",
       "      <td>23650.000000</td>\n",
       "      <td>9085.000000</td>\n",
       "      <td>23650.000000</td>\n",
       "      <td>2.365000e+04</td>\n",
       "      <td>23650.000000</td>\n",
       "      <td>23650.000000</td>\n",
       "      <td>23650.000000</td>\n",
       "      <td>23650.000000</td>\n",
       "    </tr>\n",
       "    <tr>\n",
       "      <td>mean</td>\n",
       "      <td>9.862326</td>\n",
       "      <td>6.541127e+06</td>\n",
       "      <td>60.329069</td>\n",
       "      <td>2.070106</td>\n",
       "      <td>2.859871</td>\n",
       "      <td>10.673784</td>\n",
       "      <td>35.811304</td>\n",
       "      <td>5.893277</td>\n",
       "      <td>10.569111</td>\n",
       "      <td>0.591712</td>\n",
       "      <td>...</td>\n",
       "      <td>0.469091</td>\n",
       "      <td>490.830729</td>\n",
       "      <td>0.590359</td>\n",
       "      <td>518.059879</td>\n",
       "      <td>185.714419</td>\n",
       "      <td>9.943225e+04</td>\n",
       "      <td>6.401564</td>\n",
       "      <td>2017.370021</td>\n",
       "      <td>0.584322</td>\n",
       "      <td>0.187334</td>\n",
       "    </tr>\n",
       "    <tr>\n",
       "      <td>std</td>\n",
       "      <td>5.682278</td>\n",
       "      <td>1.089640e+07</td>\n",
       "      <td>35.661808</td>\n",
       "      <td>1.078620</td>\n",
       "      <td>0.993754</td>\n",
       "      <td>6.593455</td>\n",
       "      <td>24.198233</td>\n",
       "      <td>4.883317</td>\n",
       "      <td>6.092870</td>\n",
       "      <td>0.959662</td>\n",
       "      <td>...</td>\n",
       "      <td>0.748458</td>\n",
       "      <td>342.554386</td>\n",
       "      <td>0.883539</td>\n",
       "      <td>277.841733</td>\n",
       "      <td>233.455771</td>\n",
       "      <td>5.033794e+04</td>\n",
       "      <td>3.491418</td>\n",
       "      <td>1.037806</td>\n",
       "      <td>0.121461</td>\n",
       "      <td>0.069386</td>\n",
       "    </tr>\n",
       "    <tr>\n",
       "      <td>min</td>\n",
       "      <td>0.000000</td>\n",
       "      <td>1.219000e+04</td>\n",
       "      <td>12.000000</td>\n",
       "      <td>0.000000</td>\n",
       "      <td>1.000000</td>\n",
       "      <td>1.000000</td>\n",
       "      <td>2.000000</td>\n",
       "      <td>1.000000</td>\n",
       "      <td>1.300000</td>\n",
       "      <td>0.000000</td>\n",
       "      <td>...</td>\n",
       "      <td>0.000000</td>\n",
       "      <td>1.000000</td>\n",
       "      <td>0.000000</td>\n",
       "      <td>13.000000</td>\n",
       "      <td>0.000000</td>\n",
       "      <td>1.118350e+02</td>\n",
       "      <td>1.000000</td>\n",
       "      <td>2014.000000</td>\n",
       "      <td>0.022000</td>\n",
       "      <td>0.025000</td>\n",
       "    </tr>\n",
       "    <tr>\n",
       "      <td>25%</td>\n",
       "      <td>6.000000</td>\n",
       "      <td>3.400000e+06</td>\n",
       "      <td>40.000000</td>\n",
       "      <td>1.000000</td>\n",
       "      <td>2.600000</td>\n",
       "      <td>5.000000</td>\n",
       "      <td>19.000000</td>\n",
       "      <td>2.000000</td>\n",
       "      <td>7.000000</td>\n",
       "      <td>0.000000</td>\n",
       "      <td>...</td>\n",
       "      <td>0.000000</td>\n",
       "      <td>288.000000</td>\n",
       "      <td>0.000000</td>\n",
       "      <td>293.000000</td>\n",
       "      <td>43.000000</td>\n",
       "      <td>7.661497e+04</td>\n",
       "      <td>3.000000</td>\n",
       "      <td>2017.000000</td>\n",
       "      <td>0.500000</td>\n",
       "      <td>0.137000</td>\n",
       "    </tr>\n",
       "    <tr>\n",
       "      <td>50%</td>\n",
       "      <td>9.000000</td>\n",
       "      <td>4.650000e+06</td>\n",
       "      <td>52.000000</td>\n",
       "      <td>2.000000</td>\n",
       "      <td>2.950000</td>\n",
       "      <td>9.000000</td>\n",
       "      <td>30.900000</td>\n",
       "      <td>4.000000</td>\n",
       "      <td>9.050000</td>\n",
       "      <td>0.000000</td>\n",
       "      <td>...</td>\n",
       "      <td>0.000000</td>\n",
       "      <td>454.500000</td>\n",
       "      <td>0.000000</td>\n",
       "      <td>502.000000</td>\n",
       "      <td>94.000000</td>\n",
       "      <td>9.500000e+04</td>\n",
       "      <td>6.000000</td>\n",
       "      <td>2017.000000</td>\n",
       "      <td>0.581000</td>\n",
       "      <td>0.182000</td>\n",
       "    </tr>\n",
       "    <tr>\n",
       "      <td>75%</td>\n",
       "      <td>14.000000</td>\n",
       "      <td>6.799000e+06</td>\n",
       "      <td>69.700000</td>\n",
       "      <td>3.000000</td>\n",
       "      <td>3.000000</td>\n",
       "      <td>16.000000</td>\n",
       "      <td>43.137500</td>\n",
       "      <td>8.000000</td>\n",
       "      <td>12.000000</td>\n",
       "      <td>1.000000</td>\n",
       "      <td>...</td>\n",
       "      <td>1.000000</td>\n",
       "      <td>612.000000</td>\n",
       "      <td>1.000000</td>\n",
       "      <td>730.000000</td>\n",
       "      <td>237.000000</td>\n",
       "      <td>1.142742e+05</td>\n",
       "      <td>10.000000</td>\n",
       "      <td>2018.000000</td>\n",
       "      <td>0.659000</td>\n",
       "      <td>0.224000</td>\n",
       "    </tr>\n",
       "    <tr>\n",
       "      <td>max</td>\n",
       "      <td>50.000000</td>\n",
       "      <td>7.630000e+08</td>\n",
       "      <td>900.000000</td>\n",
       "      <td>19.000000</td>\n",
       "      <td>100.000000</td>\n",
       "      <td>60.000000</td>\n",
       "      <td>571.000000</td>\n",
       "      <td>33.000000</td>\n",
       "      <td>112.000000</td>\n",
       "      <td>5.000000</td>\n",
       "      <td>...</td>\n",
       "      <td>3.000000</td>\n",
       "      <td>3190.000000</td>\n",
       "      <td>3.000000</td>\n",
       "      <td>1344.000000</td>\n",
       "      <td>1618.000000</td>\n",
       "      <td>1.907500e+06</td>\n",
       "      <td>12.000000</td>\n",
       "      <td>2019.000000</td>\n",
       "      <td>1.000000</td>\n",
       "      <td>0.788000</td>\n",
       "    </tr>\n",
       "  </tbody>\n",
       "</table>\n",
       "<p>8 rows × 22 columns</p>\n",
       "</div>"
      ],
      "text/plain": [
       "       total_images    last_price    total_area         rooms  ceiling_height  \\\n",
       "count  23650.000000  2.365000e+04  23650.000000  23650.000000    23650.000000   \n",
       "mean       9.862326  6.541127e+06     60.329069      2.070106        2.859871   \n",
       "std        5.682278  1.089640e+07     35.661808      1.078620        0.993754   \n",
       "min        0.000000  1.219000e+04     12.000000      0.000000        1.000000   \n",
       "25%        6.000000  3.400000e+06     40.000000      1.000000        2.600000   \n",
       "50%        9.000000  4.650000e+06     52.000000      2.000000        2.950000   \n",
       "75%       14.000000  6.799000e+06     69.700000      3.000000        3.000000   \n",
       "max       50.000000  7.630000e+08    900.000000     19.000000      100.000000   \n",
       "\n",
       "       floors_total   living_area         floor  kitchen_area       balcony  \\\n",
       "count  23650.000000  23650.000000  23650.000000  23650.000000  23650.000000   \n",
       "mean      10.673784     35.811304      5.893277     10.569111      0.591712   \n",
       "std        6.593455     24.198233      4.883317      6.092870      0.959662   \n",
       "min        1.000000      2.000000      1.000000      1.300000      0.000000   \n",
       "25%        5.000000     19.000000      2.000000      7.000000      0.000000   \n",
       "50%        9.000000     30.900000      4.000000      9.050000      0.000000   \n",
       "75%       16.000000     43.137500      8.000000     12.000000      1.000000   \n",
       "max       60.000000    571.000000     33.000000    112.000000      5.000000   \n",
       "\n",
       "       ...  parks_around3000  parks_nearest  ponds_around3000  ponds_nearest  \\\n",
       "count  ...      23650.000000    8064.000000      23650.000000    9085.000000   \n",
       "mean   ...          0.469091     490.830729          0.590359     518.059879   \n",
       "std    ...          0.748458     342.554386          0.883539     277.841733   \n",
       "min    ...          0.000000       1.000000          0.000000      13.000000   \n",
       "25%    ...          0.000000     288.000000          0.000000     293.000000   \n",
       "50%    ...          0.000000     454.500000          0.000000     502.000000   \n",
       "75%    ...          1.000000     612.000000          1.000000     730.000000   \n",
       "max    ...          3.000000    3190.000000          3.000000    1344.000000   \n",
       "\n",
       "       days_exposition  price_by_meter^2         month          year  \\\n",
       "count     23650.000000      2.365000e+04  23650.000000  23650.000000   \n",
       "mean        185.714419      9.943225e+04      6.401564   2017.370021   \n",
       "std         233.455771      5.033794e+04      3.491418      1.037806   \n",
       "min           0.000000      1.118350e+02      1.000000   2014.000000   \n",
       "25%          43.000000      7.661497e+04      3.000000   2017.000000   \n",
       "50%          94.000000      9.500000e+04      6.000000   2017.000000   \n",
       "75%         237.000000      1.142742e+05     10.000000   2018.000000   \n",
       "max        1618.000000      1.907500e+06     12.000000   2019.000000   \n",
       "\n",
       "       living_to_total_ratio  kitchen_to_total_ratio  \n",
       "count           23650.000000            23650.000000  \n",
       "mean                0.584322                0.187334  \n",
       "std                 0.121461                0.069386  \n",
       "min                 0.022000                0.025000  \n",
       "25%                 0.500000                0.137000  \n",
       "50%                 0.581000                0.182000  \n",
       "75%                 0.659000                0.224000  \n",
       "max                 1.000000                0.788000  \n",
       "\n",
       "[8 rows x 22 columns]"
      ]
     },
     "execution_count": 46,
     "metadata": {},
     "output_type": "execute_result"
    }
   ],
   "source": [
    "data.describe()\n"
   ]
  },
  {
   "cell_type": "markdown",
   "metadata": {},
   "source": [
    "По каким столбцам целесообразно смотреть и удалять редкие и выбивающиеся значения.\n",
    "- total_area (туда попадает и столбец kitchen area) - значение 900\n",
    "- rooms - значение больше 15\n",
    "- ceiling_height - значение 100 удаляем, так же как и значения меньше 2 метров, а в остальных значениях больше 20 метров можно предположить, что были ошибки при вводе, связанные со смещением запятых и можно значение разделить на 10"
   ]
  },
  {
   "cell_type": "code",
   "execution_count": 47,
   "metadata": {},
   "outputs": [
    {
     "name": "stdout",
     "output_type": "stream",
     "text": [
      "<class 'pandas.core.frame.DataFrame'>\n",
      "RangeIndex: 23642 entries, 0 to 23641\n",
      "Data columns (total 30 columns):\n",
      "index                     23642 non-null int64\n",
      "total_images              23642 non-null int64\n",
      "last_price                23642 non-null int64\n",
      "total_area                23642 non-null float64\n",
      "first_day_exposition      23642 non-null datetime64[ns]\n",
      "rooms                     23642 non-null int64\n",
      "ceiling_height            23642 non-null float64\n",
      "floors_total              23642 non-null int64\n",
      "living_area               23642 non-null float64\n",
      "floor                     23642 non-null int64\n",
      "is_apartment              23642 non-null bool\n",
      "studio                    23642 non-null bool\n",
      "open_plan                 23642 non-null bool\n",
      "kitchen_area              23642 non-null float64\n",
      "balcony                   23642 non-null int64\n",
      "locality_name             23642 non-null object\n",
      "airports_nearest          18109 non-null float64\n",
      "cityCenters_nearest       18132 non-null float64\n",
      "parks_around3000          23642 non-null int64\n",
      "parks_nearest             8060 non-null float64\n",
      "ponds_around3000          23642 non-null int64\n",
      "ponds_nearest             9080 non-null float64\n",
      "days_exposition           23642 non-null int64\n",
      "price_by_meter^2          23642 non-null float64\n",
      "day_week                  23642 non-null object\n",
      "month                     23642 non-null int64\n",
      "year                      23642 non-null int64\n",
      "flat_floor_name           23642 non-null object\n",
      "living_to_total_ratio     23642 non-null float64\n",
      "kitchen_to_total_ratio    23642 non-null float64\n",
      "dtypes: bool(3), datetime64[ns](1), float64(11), int64(12), object(3)\n",
      "memory usage: 4.9+ MB\n"
     ]
    }
   ],
   "source": [
    "#total_area\n",
    "#data['total_area'].value_counts().sort_index()\n",
    "data = data.loc[~(data['total_area'] == 900)]\n",
    "\n",
    "#rooms\n",
    "#data['rooms'].value_counts().sort_index()\n",
    "data = data.loc[~(data['rooms'] >= 15)]\n",
    "\n",
    "#ceiling_height\n",
    "#data['ceiling_height'].value_counts().sort_index()\n",
    "data = data.loc[~(data['ceiling_height'] == 100)]\n",
    "data = data.loc[~(data['ceiling_height'] < 2.0)]\n",
    "#data = data.loc[(data['ceiling_height'] >= 20.0) / 10]\n",
    "import numpy as np\n",
    "data['ceiling_height'] = np.where(data.ceiling_height >= 20.0, data.ceiling_height / 10, data.ceiling_height)\n",
    "\n",
    "data = data.reset_index()\n",
    "data.info()"
   ]
  },
  {
   "cell_type": "markdown",
   "metadata": {},
   "source": [
    "Остальные значения нет причин удалять."
   ]
  },
  {
   "cell_type": "markdown",
   "metadata": {},
   "source": [
    "**Какие факторы больше всего влияют на стоимость квартиры? Изучите, зависит ли цена от площади, числа комнат, удалённости от центра. Изучите зависимость цены от того, на каком этаже расположена квартира: первом, последнем или другом. Также изучите зависимость от даты размещения: дня недели, месяца и года.**"
   ]
  },
  {
   "cell_type": "code",
   "execution_count": 48,
   "metadata": {},
   "outputs": [
    {
     "data": {
      "text/html": [
       "<div>\n",
       "<style scoped>\n",
       "    .dataframe tbody tr th:only-of-type {\n",
       "        vertical-align: middle;\n",
       "    }\n",
       "\n",
       "    .dataframe tbody tr th {\n",
       "        vertical-align: top;\n",
       "    }\n",
       "\n",
       "    .dataframe thead th {\n",
       "        text-align: right;\n",
       "    }\n",
       "</style>\n",
       "<table border=\"1\" class=\"dataframe\">\n",
       "  <thead>\n",
       "    <tr style=\"text-align: right;\">\n",
       "      <th></th>\n",
       "      <th>index</th>\n",
       "      <th>total_images</th>\n",
       "      <th>last_price</th>\n",
       "      <th>total_area</th>\n",
       "      <th>first_day_exposition</th>\n",
       "      <th>rooms</th>\n",
       "      <th>ceiling_height</th>\n",
       "      <th>floors_total</th>\n",
       "      <th>living_area</th>\n",
       "      <th>floor</th>\n",
       "      <th>...</th>\n",
       "      <th>ponds_around3000</th>\n",
       "      <th>ponds_nearest</th>\n",
       "      <th>days_exposition</th>\n",
       "      <th>price_by_meter^2</th>\n",
       "      <th>day_week</th>\n",
       "      <th>month</th>\n",
       "      <th>year</th>\n",
       "      <th>flat_floor_name</th>\n",
       "      <th>living_to_total_ratio</th>\n",
       "      <th>kitchen_to_total_ratio</th>\n",
       "    </tr>\n",
       "  </thead>\n",
       "  <tbody>\n",
       "    <tr>\n",
       "      <td>0</td>\n",
       "      <td>0</td>\n",
       "      <td>20</td>\n",
       "      <td>13000000</td>\n",
       "      <td>108.0</td>\n",
       "      <td>2019-03-07</td>\n",
       "      <td>3</td>\n",
       "      <td>2.70</td>\n",
       "      <td>16</td>\n",
       "      <td>51.000000</td>\n",
       "      <td>8</td>\n",
       "      <td>...</td>\n",
       "      <td>2</td>\n",
       "      <td>755.0</td>\n",
       "      <td>57</td>\n",
       "      <td>120370.370</td>\n",
       "      <td>Thursday</td>\n",
       "      <td>3</td>\n",
       "      <td>2019</td>\n",
       "      <td>другой</td>\n",
       "      <td>0.472</td>\n",
       "      <td>0.231</td>\n",
       "    </tr>\n",
       "    <tr>\n",
       "      <td>1</td>\n",
       "      <td>1</td>\n",
       "      <td>7</td>\n",
       "      <td>3350000</td>\n",
       "      <td>40.4</td>\n",
       "      <td>2018-12-04</td>\n",
       "      <td>1</td>\n",
       "      <td>3.00</td>\n",
       "      <td>11</td>\n",
       "      <td>18.600000</td>\n",
       "      <td>1</td>\n",
       "      <td>...</td>\n",
       "      <td>0</td>\n",
       "      <td>NaN</td>\n",
       "      <td>81</td>\n",
       "      <td>82920.792</td>\n",
       "      <td>Tuesday</td>\n",
       "      <td>12</td>\n",
       "      <td>2018</td>\n",
       "      <td>первый</td>\n",
       "      <td>0.460</td>\n",
       "      <td>0.272</td>\n",
       "    </tr>\n",
       "    <tr>\n",
       "      <td>2</td>\n",
       "      <td>2</td>\n",
       "      <td>10</td>\n",
       "      <td>5196000</td>\n",
       "      <td>56.0</td>\n",
       "      <td>2015-08-20</td>\n",
       "      <td>2</td>\n",
       "      <td>3.00</td>\n",
       "      <td>5</td>\n",
       "      <td>34.300000</td>\n",
       "      <td>4</td>\n",
       "      <td>...</td>\n",
       "      <td>2</td>\n",
       "      <td>574.0</td>\n",
       "      <td>558</td>\n",
       "      <td>92785.714</td>\n",
       "      <td>Thursday</td>\n",
       "      <td>8</td>\n",
       "      <td>2015</td>\n",
       "      <td>другой</td>\n",
       "      <td>0.612</td>\n",
       "      <td>0.148</td>\n",
       "    </tr>\n",
       "    <tr>\n",
       "      <td>3</td>\n",
       "      <td>3</td>\n",
       "      <td>0</td>\n",
       "      <td>64900000</td>\n",
       "      <td>159.0</td>\n",
       "      <td>2015-07-24</td>\n",
       "      <td>3</td>\n",
       "      <td>3.00</td>\n",
       "      <td>14</td>\n",
       "      <td>129.210597</td>\n",
       "      <td>9</td>\n",
       "      <td>...</td>\n",
       "      <td>3</td>\n",
       "      <td>234.0</td>\n",
       "      <td>424</td>\n",
       "      <td>408176.101</td>\n",
       "      <td>Friday</td>\n",
       "      <td>7</td>\n",
       "      <td>2015</td>\n",
       "      <td>другой</td>\n",
       "      <td>0.813</td>\n",
       "      <td>0.187</td>\n",
       "    </tr>\n",
       "    <tr>\n",
       "      <td>4</td>\n",
       "      <td>4</td>\n",
       "      <td>2</td>\n",
       "      <td>10000000</td>\n",
       "      <td>100.0</td>\n",
       "      <td>2018-06-19</td>\n",
       "      <td>2</td>\n",
       "      <td>3.03</td>\n",
       "      <td>14</td>\n",
       "      <td>32.000000</td>\n",
       "      <td>13</td>\n",
       "      <td>...</td>\n",
       "      <td>1</td>\n",
       "      <td>48.0</td>\n",
       "      <td>121</td>\n",
       "      <td>100000.000</td>\n",
       "      <td>Tuesday</td>\n",
       "      <td>6</td>\n",
       "      <td>2018</td>\n",
       "      <td>другой</td>\n",
       "      <td>0.320</td>\n",
       "      <td>0.410</td>\n",
       "    </tr>\n",
       "  </tbody>\n",
       "</table>\n",
       "<p>5 rows × 30 columns</p>\n",
       "</div>"
      ],
      "text/plain": [
       "   index  total_images  last_price  total_area first_day_exposition  rooms  \\\n",
       "0      0            20    13000000       108.0           2019-03-07      3   \n",
       "1      1             7     3350000        40.4           2018-12-04      1   \n",
       "2      2            10     5196000        56.0           2015-08-20      2   \n",
       "3      3             0    64900000       159.0           2015-07-24      3   \n",
       "4      4             2    10000000       100.0           2018-06-19      2   \n",
       "\n",
       "   ceiling_height  floors_total  living_area  floor  ...  ponds_around3000  \\\n",
       "0            2.70            16    51.000000      8  ...                 2   \n",
       "1            3.00            11    18.600000      1  ...                 0   \n",
       "2            3.00             5    34.300000      4  ...                 2   \n",
       "3            3.00            14   129.210597      9  ...                 3   \n",
       "4            3.03            14    32.000000     13  ...                 1   \n",
       "\n",
       "   ponds_nearest  days_exposition  price_by_meter^2  day_week month  year  \\\n",
       "0          755.0               57        120370.370  Thursday     3  2019   \n",
       "1            NaN               81         82920.792   Tuesday    12  2018   \n",
       "2          574.0              558         92785.714  Thursday     8  2015   \n",
       "3          234.0              424        408176.101    Friday     7  2015   \n",
       "4           48.0              121        100000.000   Tuesday     6  2018   \n",
       "\n",
       "   flat_floor_name  living_to_total_ratio  kitchen_to_total_ratio  \n",
       "0           другой                  0.472                   0.231  \n",
       "1           первый                  0.460                   0.272  \n",
       "2           другой                  0.612                   0.148  \n",
       "3           другой                  0.813                   0.187  \n",
       "4           другой                  0.320                   0.410  \n",
       "\n",
       "[5 rows x 30 columns]"
      ]
     },
     "execution_count": 48,
     "metadata": {},
     "output_type": "execute_result"
    }
   ],
   "source": [
    "data.head()"
   ]
  },
  {
   "cell_type": "code",
   "execution_count": 49,
   "metadata": {},
   "outputs": [
    {
     "name": "stdout",
     "output_type": "stream",
     "text": [
      "Зависимость цены от площади: 0.6434984453250201\n",
      "Зависимость цены от числа комнат: 0.3594740174434669\n",
      "Зависимость цены от удаленности от центра: -0.2119952402774472\n",
      "Зависимость цены от этажа расположения: 0.05735450172532803\n",
      "Зависимость цены от дня недели: 0.0020893766762062785\n",
      "Зависимость цены от месяца: 0.0005824392622793204\n",
      "Зависимость цены от года: -0.0440131761299835\n"
     ]
    }
   ],
   "source": [
    "#data.info()\n",
    "print('Зависимость цены от площади:', data['last_price'].corr(data['total_area']))\n",
    "\n",
    "print('Зависимость цены от числа комнат:', data['last_price'].corr(data['rooms']))\n",
    "\n",
    "print('Зависимость цены от удаленности от центра:', data['last_price'].corr(data['cityCenters_nearest']))\n",
    "\n",
    "def get_floor_number(row):\n",
    "    if row['flat_floor_name'] == 'первый':\n",
    "        return 0\n",
    "    if row['flat_floor_name'] == 'другой':\n",
    "        return 1\n",
    "    return 2\n",
    "data['flat_floor_name_numeric'] = data.apply(get_floor_number, axis=1)\n",
    "print('Зависимость цены от этажа расположения:', data['last_price'].corr(data['flat_floor_name_numeric']))\n",
    "\n",
    "def day_week_number(row):\n",
    "    if row['day_week'] == 'Monday':\n",
    "        return 1\n",
    "    if row['day_week'] == 'Tuesday':\n",
    "        return 2\n",
    "    if row['day_week'] == 'Wednesday':\n",
    "        return 3\n",
    "    if row['day_week'] == 'Thursday':\n",
    "        return 4\n",
    "    if row['day_week'] == 'Friday':\n",
    "        return 5\n",
    "    if row['day_week'] == 'Saturday':\n",
    "        return 6\n",
    "    if row['day_week'] == 'Sunday':\n",
    "        return 7\n",
    "data['day_week_numeric'] = data.apply(day_week_number, axis=1)\n",
    "print('Зависимость цены от дня недели:', data['last_price'].corr(data['day_week_numeric']))\n",
    "print('Зависимость цены от месяца:', data['last_price'].corr(data['month']))\n",
    "print('Зависимость цены от года:', data['last_price'].corr(data['year']))"
   ]
  },
  {
   "cell_type": "markdown",
   "metadata": {},
   "source": [
    "**Выберите 10 населённых пунктов с наибольшим числом объявлений. Посчитайте среднюю цену квадратного метра в этих населённых пунктах. Выделите среди них населённые пункты с самой высокой и низкой стоимостью жилья. Эти данные можно найти по имени в столбце 'locality_name'.**"
   ]
  },
  {
   "cell_type": "code",
   "execution_count": 50,
   "metadata": {
    "scrolled": false
   },
   "outputs": [
    {
     "name": "stdout",
     "output_type": "stream",
     "text": [
      "                   locality_name price_by_meter_mean              gorod\n",
      "санкт-петербург            15714              114800    санкт-петербург\n",
      "посёлок мурино               522             85752.2     посёлок мурино\n",
      "посёлок шушары               440             78677.4     посёлок шушары\n",
      "всеволожск                   398             68654.5         всеволожск\n",
      "пушкин                       369              103126             пушкин\n",
      "колпино                      338             75424.6            колпино\n",
      "посёлок парголово            327             90175.9  посёлок парголово\n",
      "гатчина                      307             68746.1            гатчина\n",
      "деревня кудрово              299             92473.5    деревня кудрово\n",
      "выборг                       237             58141.9             выборг\n",
      "Самая высокая стоимость метра квадратного жилья: санкт-петербург\n",
      "Самая низкая стоимость метра квадратного жилья: выборг\n"
     ]
    },
    {
     "name": "stderr",
     "output_type": "stream",
     "text": [
      "/opt/conda/lib/python3.7/site-packages/ipykernel_launcher.py:7: SettingWithCopyWarning: \n",
      "A value is trying to be set on a copy of a slice from a DataFrame\n",
      "\n",
      "See the caveats in the documentation: http://pandas.pydata.org/pandas-docs/stable/user_guide/indexing.html#returning-a-view-versus-a-copy\n",
      "  import sys\n",
      "/opt/conda/lib/python3.7/site-packages/ipykernel_launcher.py:8: SettingWithCopyWarning: \n",
      "A value is trying to be set on a copy of a slice from a DataFrame\n",
      "\n",
      "See the caveats in the documentation: http://pandas.pydata.org/pandas-docs/stable/user_guide/indexing.html#returning-a-view-versus-a-copy\n",
      "  \n"
     ]
    }
   ],
   "source": [
    "top10 = pd.DataFrame(data['locality_name'].value_counts().head(10))\n",
    "goroda = top10.index\n",
    "top10['price_by_meter_mean'] = data['locality_name'].isin(top10.index)\n",
    "top10['gorod'] = data['locality_name'].isin(top10.index)\n",
    "\n",
    "for i in range(0,10):\n",
    "    top10['gorod'][i] = goroda[i]\n",
    "    top10['price_by_meter_mean'][i] = round(data[data['locality_name'] == goroda[i]]['price_by_meter^2'].mean(), 1)\n",
    "\n",
    "print(top10)    \n",
    "print('Самая высокая стоимость метра квадратного жилья:', top10.loc[top10['price_by_meter_mean'] == top10['price_by_meter_mean'].max()].index[0])\n",
    "print('Самая низкая стоимость метра квадратного жилья:', top10.loc[top10['price_by_meter_mean'] == top10['price_by_meter_mean'].min()].index[0])\n"
   ]
  },
  {
   "cell_type": "code",
   "execution_count": 51,
   "metadata": {},
   "outputs": [
    {
     "name": "stdout",
     "output_type": "stream",
     "text": [
      "                   count  price_by_meter_mean\n",
      "locality_name                                \n",
      "санкт-петербург    15714        114799.617718\n",
      "посёлок мурино       522         85752.189201\n",
      "посёлок шушары       440         78677.364245\n",
      "всеволожск           398         68654.474000\n",
      "пушкин               369        103125.819274\n",
      "колпино              338         75424.579098\n",
      "посёлок парголово    327         90175.913431\n",
      "гатчина              307         68746.146808\n",
      "деревня кудрово      299         92473.547572\n",
      "выборг               237         58141.909152\n",
      "Самая высокая стоимость метра квадратного жилья: санкт-петербург\n",
      "Самая низкая стоимость метра квадратного жилья: выборг\n"
     ]
    }
   ],
   "source": [
    "top10 = data.groupby('locality_name')\\\n",
    "    .agg({'locality_name':'count', 'price_by_meter^2':'mean'})\\\n",
    "    .rename(columns={'locality_name':'count', 'price_by_meter^2':'price_by_meter_mean'})\\\n",
    "    .sort_values(by='count', ascending=False)[:10]\n",
    "\n",
    "print(top10)\n",
    "print('Самая высокая стоимость метра квадратного жилья:', top10.loc[top10['price_by_meter_mean'] == top10['price_by_meter_mean'].max()].index[0])\n",
    "print('Самая низкая стоимость метра квадратного жилья:', top10.loc[top10['price_by_meter_mean'] == top10['price_by_meter_mean'].min()].index[0])"
   ]
  },
  {
   "cell_type": "markdown",
   "metadata": {},
   "source": [
    "**Изучите предложения квартир: для каждой квартиры есть информация о расстоянии до центра. Выделите квартиры в Санкт-Петербурге ('locality_name'). Ваша задача — выяснить, какая область входит в центр. Создайте столбец с расстоянием до центра в километрах: округлите до целых значений. После этого посчитайте среднюю цену для каждого километра. Постройте график: он должен показывать, как цена зависит от удалённости от центра. Определите границу, где график сильно меняется — это и будет центральная зона.**"
   ]
  },
  {
   "cell_type": "code",
   "execution_count": 52,
   "metadata": {},
   "outputs": [
    {
     "name": "stdout",
     "output_type": "stream",
     "text": [
      "Граница = 3 км от центра\n"
     ]
    },
    {
     "data": {
      "image/png": "[encoded data removed]",
      "text/plain": [
       "<Figure size 432x288 with 1 Axes>"
      ]
     },
     "metadata": {
      "needs_background": "light"
     },
     "output_type": "display_data"
    }
   ],
   "source": [
    "spb = data.loc[data['locality_name'] == 'санкт-петербург'].reset_index()\n",
    "spb['center_km'] = round(spb['cityCenters_nearest'] / 1000, 0)\n",
    "for_hist = pd.DataFrame(round(spb.groupby('center_km').mean(), 0))\n",
    "for_hist['center_km'] = for_hist.index\n",
    "for_hist.plot(x='center_km', y='last_price', linewidth=5, alpha=0.5, grid=True, legend=True)\n",
    "for_hist['last_price']\n",
    "\n",
    "print('Граница = 3 км от центра')"
   ]
  },
  {
   "cell_type": "markdown",
   "metadata": {},
   "source": [
    "**Выделите сегмент квартир в центре. Проанализируйте эту территорию и изучите следующие параметры: площадь, цена, число комнат, высота потолков. Также выделите факторы, которые влияют на стоимость квартиры (число комнат, этаж, удалённость от центра, дата размещения объявления). Сделайте выводы. Отличаются ли они от общих выводов по всему городу?**"
   ]
  },
  {
   "cell_type": "code",
   "execution_count": 53,
   "metadata": {
    "scrolled": true
   },
   "outputs": [
    {
     "data": {
      "text/html": [
       "<div>\n",
       "<style scoped>\n",
       "    .dataframe tbody tr th:only-of-type {\n",
       "        vertical-align: middle;\n",
       "    }\n",
       "\n",
       "    .dataframe tbody tr th {\n",
       "        vertical-align: top;\n",
       "    }\n",
       "\n",
       "    .dataframe thead th {\n",
       "        text-align: right;\n",
       "    }\n",
       "</style>\n",
       "<table border=\"1\" class=\"dataframe\">\n",
       "  <thead>\n",
       "    <tr style=\"text-align: right;\">\n",
       "      <th></th>\n",
       "      <th>level_0</th>\n",
       "      <th>index</th>\n",
       "      <th>total_images</th>\n",
       "      <th>last_price</th>\n",
       "      <th>total_area</th>\n",
       "      <th>first_day_exposition</th>\n",
       "      <th>rooms</th>\n",
       "      <th>ceiling_height</th>\n",
       "      <th>floors_total</th>\n",
       "      <th>living_area</th>\n",
       "      <th>...</th>\n",
       "      <th>price_by_meter^2</th>\n",
       "      <th>day_week</th>\n",
       "      <th>month</th>\n",
       "      <th>year</th>\n",
       "      <th>flat_floor_name</th>\n",
       "      <th>living_to_total_ratio</th>\n",
       "      <th>kitchen_to_total_ratio</th>\n",
       "      <th>flat_floor_name_numeric</th>\n",
       "      <th>day_week_numeric</th>\n",
       "      <th>center_km</th>\n",
       "    </tr>\n",
       "  </thead>\n",
       "  <tbody>\n",
       "    <tr>\n",
       "      <td>14</td>\n",
       "      <td>24</td>\n",
       "      <td>24</td>\n",
       "      <td>8</td>\n",
       "      <td>6500000</td>\n",
       "      <td>97.2</td>\n",
       "      <td>2015-10-31</td>\n",
       "      <td>2</td>\n",
       "      <td>3.00</td>\n",
       "      <td>3</td>\n",
       "      <td>46.500000</td>\n",
       "      <td>...</td>\n",
       "      <td>66872.428</td>\n",
       "      <td>Saturday</td>\n",
       "      <td>10</td>\n",
       "      <td>2015</td>\n",
       "      <td>первый</td>\n",
       "      <td>0.478</td>\n",
       "      <td>0.202</td>\n",
       "      <td>0</td>\n",
       "      <td>6</td>\n",
       "      <td>2.0</td>\n",
       "    </tr>\n",
       "    <tr>\n",
       "      <td>56</td>\n",
       "      <td>99</td>\n",
       "      <td>99</td>\n",
       "      <td>32</td>\n",
       "      <td>9600000</td>\n",
       "      <td>90.0</td>\n",
       "      <td>2017-09-26</td>\n",
       "      <td>4</td>\n",
       "      <td>3.00</td>\n",
       "      <td>5</td>\n",
       "      <td>67.000000</td>\n",
       "      <td>...</td>\n",
       "      <td>106666.667</td>\n",
       "      <td>Tuesday</td>\n",
       "      <td>9</td>\n",
       "      <td>2017</td>\n",
       "      <td>другой</td>\n",
       "      <td>0.744</td>\n",
       "      <td>0.089</td>\n",
       "      <td>1</td>\n",
       "      <td>2</td>\n",
       "      <td>3.0</td>\n",
       "    </tr>\n",
       "    <tr>\n",
       "      <td>80</td>\n",
       "      <td>138</td>\n",
       "      <td>138</td>\n",
       "      <td>8</td>\n",
       "      <td>4800000</td>\n",
       "      <td>40.0</td>\n",
       "      <td>2017-11-18</td>\n",
       "      <td>2</td>\n",
       "      <td>3.00</td>\n",
       "      <td>3</td>\n",
       "      <td>29.000000</td>\n",
       "      <td>...</td>\n",
       "      <td>120000.000</td>\n",
       "      <td>Saturday</td>\n",
       "      <td>11</td>\n",
       "      <td>2017</td>\n",
       "      <td>другой</td>\n",
       "      <td>0.725</td>\n",
       "      <td>0.150</td>\n",
       "      <td>1</td>\n",
       "      <td>6</td>\n",
       "      <td>3.0</td>\n",
       "    </tr>\n",
       "    <tr>\n",
       "      <td>89</td>\n",
       "      <td>154</td>\n",
       "      <td>154</td>\n",
       "      <td>1</td>\n",
       "      <td>8200000</td>\n",
       "      <td>80.0</td>\n",
       "      <td>2018-11-06</td>\n",
       "      <td>3</td>\n",
       "      <td>4.15</td>\n",
       "      <td>3</td>\n",
       "      <td>44.200000</td>\n",
       "      <td>...</td>\n",
       "      <td>102500.000</td>\n",
       "      <td>Tuesday</td>\n",
       "      <td>11</td>\n",
       "      <td>2018</td>\n",
       "      <td>другой</td>\n",
       "      <td>0.552</td>\n",
       "      <td>0.152</td>\n",
       "      <td>1</td>\n",
       "      <td>2</td>\n",
       "      <td>3.0</td>\n",
       "    </tr>\n",
       "    <tr>\n",
       "      <td>90</td>\n",
       "      <td>155</td>\n",
       "      <td>155</td>\n",
       "      <td>8</td>\n",
       "      <td>96000000</td>\n",
       "      <td>317.0</td>\n",
       "      <td>2017-07-07</td>\n",
       "      <td>4</td>\n",
       "      <td>3.50</td>\n",
       "      <td>3</td>\n",
       "      <td>183.000000</td>\n",
       "      <td>...</td>\n",
       "      <td>302839.117</td>\n",
       "      <td>Friday</td>\n",
       "      <td>7</td>\n",
       "      <td>2017</td>\n",
       "      <td>последний</td>\n",
       "      <td>0.577</td>\n",
       "      <td>0.187</td>\n",
       "      <td>2</td>\n",
       "      <td>5</td>\n",
       "      <td>2.0</td>\n",
       "    </tr>\n",
       "    <tr>\n",
       "      <td>...</td>\n",
       "      <td>...</td>\n",
       "      <td>...</td>\n",
       "      <td>...</td>\n",
       "      <td>...</td>\n",
       "      <td>...</td>\n",
       "      <td>...</td>\n",
       "      <td>...</td>\n",
       "      <td>...</td>\n",
       "      <td>...</td>\n",
       "      <td>...</td>\n",
       "      <td>...</td>\n",
       "      <td>...</td>\n",
       "      <td>...</td>\n",
       "      <td>...</td>\n",
       "      <td>...</td>\n",
       "      <td>...</td>\n",
       "      <td>...</td>\n",
       "      <td>...</td>\n",
       "      <td>...</td>\n",
       "      <td>...</td>\n",
       "      <td>...</td>\n",
       "    </tr>\n",
       "    <tr>\n",
       "      <td>15540</td>\n",
       "      <td>23373</td>\n",
       "      <td>23430</td>\n",
       "      <td>18</td>\n",
       "      <td>5260000</td>\n",
       "      <td>38.0</td>\n",
       "      <td>2018-11-06</td>\n",
       "      <td>1</td>\n",
       "      <td>3.30</td>\n",
       "      <td>5</td>\n",
       "      <td>16.000000</td>\n",
       "      <td>...</td>\n",
       "      <td>138421.053</td>\n",
       "      <td>Tuesday</td>\n",
       "      <td>11</td>\n",
       "      <td>2018</td>\n",
       "      <td>первый</td>\n",
       "      <td>0.421</td>\n",
       "      <td>0.316</td>\n",
       "      <td>0</td>\n",
       "      <td>2</td>\n",
       "      <td>3.0</td>\n",
       "    </tr>\n",
       "    <tr>\n",
       "      <td>15551</td>\n",
       "      <td>23392</td>\n",
       "      <td>23449</td>\n",
       "      <td>4</td>\n",
       "      <td>6300000</td>\n",
       "      <td>52.6</td>\n",
       "      <td>2015-05-28</td>\n",
       "      <td>3</td>\n",
       "      <td>3.25</td>\n",
       "      <td>5</td>\n",
       "      <td>29.800000</td>\n",
       "      <td>...</td>\n",
       "      <td>119771.863</td>\n",
       "      <td>Thursday</td>\n",
       "      <td>5</td>\n",
       "      <td>2015</td>\n",
       "      <td>другой</td>\n",
       "      <td>0.567</td>\n",
       "      <td>0.165</td>\n",
       "      <td>1</td>\n",
       "      <td>4</td>\n",
       "      <td>3.0</td>\n",
       "    </tr>\n",
       "    <tr>\n",
       "      <td>15623</td>\n",
       "      <td>23498</td>\n",
       "      <td>23555</td>\n",
       "      <td>5</td>\n",
       "      <td>15350000</td>\n",
       "      <td>158.5</td>\n",
       "      <td>2019-03-07</td>\n",
       "      <td>7</td>\n",
       "      <td>2.95</td>\n",
       "      <td>7</td>\n",
       "      <td>57.400000</td>\n",
       "      <td>...</td>\n",
       "      <td>96845.426</td>\n",
       "      <td>Thursday</td>\n",
       "      <td>3</td>\n",
       "      <td>2019</td>\n",
       "      <td>последний</td>\n",
       "      <td>0.362</td>\n",
       "      <td>0.078</td>\n",
       "      <td>2</td>\n",
       "      <td>4</td>\n",
       "      <td>3.0</td>\n",
       "    </tr>\n",
       "    <tr>\n",
       "      <td>15657</td>\n",
       "      <td>23545</td>\n",
       "      <td>23602</td>\n",
       "      <td>0</td>\n",
       "      <td>8700000</td>\n",
       "      <td>73.0</td>\n",
       "      <td>2019-01-23</td>\n",
       "      <td>3</td>\n",
       "      <td>2.65</td>\n",
       "      <td>4</td>\n",
       "      <td>59.323104</td>\n",
       "      <td>...</td>\n",
       "      <td>119178.082</td>\n",
       "      <td>Wednesday</td>\n",
       "      <td>1</td>\n",
       "      <td>2019</td>\n",
       "      <td>последний</td>\n",
       "      <td>0.813</td>\n",
       "      <td>0.187</td>\n",
       "      <td>2</td>\n",
       "      <td>3</td>\n",
       "      <td>2.0</td>\n",
       "    </tr>\n",
       "    <tr>\n",
       "      <td>15684</td>\n",
       "      <td>23591</td>\n",
       "      <td>23648</td>\n",
       "      <td>14</td>\n",
       "      <td>10100000</td>\n",
       "      <td>78.0</td>\n",
       "      <td>2017-05-12</td>\n",
       "      <td>3</td>\n",
       "      <td>3.27</td>\n",
       "      <td>5</td>\n",
       "      <td>48.600000</td>\n",
       "      <td>...</td>\n",
       "      <td>129487.179</td>\n",
       "      <td>Friday</td>\n",
       "      <td>5</td>\n",
       "      <td>2017</td>\n",
       "      <td>последний</td>\n",
       "      <td>0.623</td>\n",
       "      <td>0.105</td>\n",
       "      <td>2</td>\n",
       "      <td>5</td>\n",
       "      <td>1.0</td>\n",
       "    </tr>\n",
       "  </tbody>\n",
       "</table>\n",
       "<p>879 rows × 34 columns</p>\n",
       "</div>"
      ],
      "text/plain": [
       "       level_0  index  total_images  last_price  total_area  \\\n",
       "14          24     24             8     6500000        97.2   \n",
       "56          99     99            32     9600000        90.0   \n",
       "80         138    138             8     4800000        40.0   \n",
       "89         154    154             1     8200000        80.0   \n",
       "90         155    155             8    96000000       317.0   \n",
       "...        ...    ...           ...         ...         ...   \n",
       "15540    23373  23430            18     5260000        38.0   \n",
       "15551    23392  23449             4     6300000        52.6   \n",
       "15623    23498  23555             5    15350000       158.5   \n",
       "15657    23545  23602             0     8700000        73.0   \n",
       "15684    23591  23648            14    10100000        78.0   \n",
       "\n",
       "      first_day_exposition  rooms  ceiling_height  floors_total  living_area  \\\n",
       "14              2015-10-31      2            3.00             3    46.500000   \n",
       "56              2017-09-26      4            3.00             5    67.000000   \n",
       "80              2017-11-18      2            3.00             3    29.000000   \n",
       "89              2018-11-06      3            4.15             3    44.200000   \n",
       "90              2017-07-07      4            3.50             3   183.000000   \n",
       "...                    ...    ...             ...           ...          ...   \n",
       "15540           2018-11-06      1            3.30             5    16.000000   \n",
       "15551           2015-05-28      3            3.25             5    29.800000   \n",
       "15623           2019-03-07      7            2.95             7    57.400000   \n",
       "15657           2019-01-23      3            2.65             4    59.323104   \n",
       "15684           2017-05-12      3            3.27             5    48.600000   \n",
       "\n",
       "       ...  price_by_meter^2   day_week  month  year  flat_floor_name  \\\n",
       "14     ...         66872.428   Saturday     10  2015           первый   \n",
       "56     ...        106666.667    Tuesday      9  2017           другой   \n",
       "80     ...        120000.000   Saturday     11  2017           другой   \n",
       "89     ...        102500.000    Tuesday     11  2018           другой   \n",
       "90     ...        302839.117     Friday      7  2017        последний   \n",
       "...    ...               ...        ...    ...   ...              ...   \n",
       "15540  ...        138421.053    Tuesday     11  2018           первый   \n",
       "15551  ...        119771.863   Thursday      5  2015           другой   \n",
       "15623  ...         96845.426   Thursday      3  2019        последний   \n",
       "15657  ...        119178.082  Wednesday      1  2019        последний   \n",
       "15684  ...        129487.179     Friday      5  2017        последний   \n",
       "\n",
       "       living_to_total_ratio kitchen_to_total_ratio  flat_floor_name_numeric  \\\n",
       "14                     0.478                  0.202                        0   \n",
       "56                     0.744                  0.089                        1   \n",
       "80                     0.725                  0.150                        1   \n",
       "89                     0.552                  0.152                        1   \n",
       "90                     0.577                  0.187                        2   \n",
       "...                      ...                    ...                      ...   \n",
       "15540                  0.421                  0.316                        0   \n",
       "15551                  0.567                  0.165                        1   \n",
       "15623                  0.362                  0.078                        2   \n",
       "15657                  0.813                  0.187                        2   \n",
       "15684                  0.623                  0.105                        2   \n",
       "\n",
       "       day_week_numeric  center_km  \n",
       "14                    6        2.0  \n",
       "56                    2        3.0  \n",
       "80                    6        3.0  \n",
       "89                    2        3.0  \n",
       "90                    5        2.0  \n",
       "...                 ...        ...  \n",
       "15540                 2        3.0  \n",
       "15551                 4        3.0  \n",
       "15623                 4        3.0  \n",
       "15657                 3        2.0  \n",
       "15684                 5        1.0  \n",
       "\n",
       "[879 rows x 34 columns]"
      ]
     },
     "execution_count": 53,
     "metadata": {},
     "output_type": "execute_result"
    }
   ],
   "source": [
    "center_spb = spb.query('center_km <= 3.0')\n",
    "center_spb"
   ]
  },
  {
   "cell_type": "markdown",
   "metadata": {},
   "source": [
    "**Анализ территории**"
   ]
  },
  {
   "cell_type": "code",
   "execution_count": 54,
   "metadata": {
    "scrolled": true
   },
   "outputs": [
    {
     "name": "stdout",
     "output_type": "stream",
     "text": [
      "<class 'pandas.core.frame.DataFrame'>\n",
      "Int64Index: 879 entries, 14 to 15684\n",
      "Data columns (total 34 columns):\n",
      "level_0                    879 non-null int64\n",
      "index                      879 non-null int64\n",
      "total_images               879 non-null int64\n",
      "last_price                 879 non-null int64\n",
      "total_area                 879 non-null float64\n",
      "first_day_exposition       879 non-null datetime64[ns]\n",
      "rooms                      879 non-null int64\n",
      "ceiling_height             879 non-null float64\n",
      "floors_total               879 non-null int64\n",
      "living_area                879 non-null float64\n",
      "floor                      879 non-null int64\n",
      "is_apartment               879 non-null bool\n",
      "studio                     879 non-null bool\n",
      "open_plan                  879 non-null bool\n",
      "kitchen_area               879 non-null float64\n",
      "balcony                    879 non-null int64\n",
      "locality_name              879 non-null object\n",
      "airports_nearest           879 non-null float64\n",
      "cityCenters_nearest        879 non-null float64\n",
      "parks_around3000           879 non-null int64\n",
      "parks_nearest              689 non-null float64\n",
      "ponds_around3000           879 non-null int64\n",
      "ponds_nearest              779 non-null float64\n",
      "days_exposition            879 non-null int64\n",
      "price_by_meter^2           879 non-null float64\n",
      "day_week                   879 non-null object\n",
      "month                      879 non-null int64\n",
      "year                       879 non-null int64\n",
      "flat_floor_name            879 non-null object\n",
      "living_to_total_ratio      879 non-null float64\n",
      "kitchen_to_total_ratio     879 non-null float64\n",
      "flat_floor_name_numeric    879 non-null int64\n",
      "day_week_numeric           879 non-null int64\n",
      "center_km                  879 non-null float64\n",
      "dtypes: bool(3), datetime64[ns](1), float64(12), int64(15), object(3)\n",
      "memory usage: 222.3+ KB\n"
     ]
    }
   ],
   "source": [
    "# общий анализ\n",
    "center_spb.info()"
   ]
  },
  {
   "cell_type": "markdown",
   "metadata": {},
   "source": [
    "Всего вышло 879 значений.\n",
    "\n",
    "Предобработка данных была проведена на предыдущих этапах, не хватает значений только в столбцах \"ponds_nearest\" и \"parks_nearest."
   ]
  },
  {
   "cell_type": "code",
   "execution_count": 55,
   "metadata": {},
   "outputs": [
    {
     "data": {
      "text/plain": [
       "12.0     1\n",
       "13.0     1\n",
       "16.0     1\n",
       "17.6     1\n",
       "20.0     1\n",
       "        ..\n",
       "365.0    1\n",
       "400.0    1\n",
       "401.0    1\n",
       "483.9    1\n",
       "517.0    1\n",
       "Name: total_area, Length: 482, dtype: int64"
      ]
     },
     "execution_count": 55,
     "metadata": {},
     "output_type": "execute_result"
    }
   ],
   "source": [
    "# площадь\n",
    "center_spb['total_area'].value_counts().sort_index()"
   ]
  },
  {
   "cell_type": "markdown",
   "metadata": {},
   "source": [
    "Диапазон значений от 12 до 517 метров квадратных."
   ]
  },
  {
   "cell_type": "code",
   "execution_count": 56,
   "metadata": {},
   "outputs": [
    {
     "data": {
      "text/plain": [
       "2100000      1\n",
       "2385000      1\n",
       "2400000      1\n",
       "2645000      1\n",
       "2750000      1\n",
       "            ..\n",
       "159984000    1\n",
       "160000000    1\n",
       "289238400    1\n",
       "330000000    1\n",
       "401300000    1\n",
       "Name: last_price, Length: 393, dtype: int64"
      ]
     },
     "execution_count": 56,
     "metadata": {},
     "output_type": "execute_result"
    }
   ],
   "source": [
    "# цена\n",
    "center_spb['last_price'].value_counts().sort_index()"
   ]
  },
  {
   "cell_type": "code",
   "execution_count": 57,
   "metadata": {},
   "outputs": [
    {
     "data": {
      "text/plain": [
       "0       4\n",
       "1      71\n",
       "2     257\n",
       "3     268\n",
       "4     152\n",
       "5      72\n",
       "6      29\n",
       "7      18\n",
       "8       4\n",
       "9       1\n",
       "11      2\n",
       "14      1\n",
       "Name: rooms, dtype: int64"
      ]
     },
     "execution_count": 57,
     "metadata": {},
     "output_type": "execute_result"
    }
   ],
   "source": [
    "# число комнат\n",
    "center_spb['rooms'].value_counts().sort_index()"
   ]
  },
  {
   "cell_type": "markdown",
   "metadata": {},
   "source": [
    "Диапазон значений от 0 до 14. "
   ]
  },
  {
   "cell_type": "code",
   "execution_count": 58,
   "metadata": {},
   "outputs": [
    {
     "data": {
      "text/plain": [
       "2.50    16\n",
       "2.55     1\n",
       "2.60     7\n",
       "2.63     1\n",
       "2.65     3\n",
       "        ..\n",
       "4.30     1\n",
       "4.50     1\n",
       "4.80     1\n",
       "4.90     1\n",
       "5.80     1\n",
       "Name: ceiling_height, Length: 100, dtype: int64"
      ]
     },
     "execution_count": 58,
     "metadata": {},
     "output_type": "execute_result"
    }
   ],
   "source": [
    "# высота потолков\n",
    "center_spb['ceiling_height'].value_counts().sort_index()"
   ]
  },
  {
   "cell_type": "markdown",
   "metadata": {},
   "source": [
    "Диапазон значений от 2.50 до 5.80."
   ]
  },
  {
   "cell_type": "markdown",
   "metadata": {},
   "source": [
    "**Исследование зависимости факторов на цену квартир в центре СПБ**"
   ]
  },
  {
   "cell_type": "code",
   "execution_count": 59,
   "metadata": {
    "scrolled": true
   },
   "outputs": [
    {
     "name": "stdout",
     "output_type": "stream",
     "text": [
      "Зависимость цены от площади: 0.5655769813834898\n",
      "Зависимость цены от числа комнат: 0.24034924577796654\n",
      "Зависимость цены от удаленности от центра: -0.16465623733396156\n",
      "Зависимость цены от этажа расположения: 0.07410066755374864\n",
      "Зависимость цены от дня недели: -0.005725215192188741\n",
      "Зависимость цены от месяца: -0.020949702599692744\n",
      "Зависимость цены от года: -0.02495864438484268\n"
     ]
    },
    {
     "name": "stderr",
     "output_type": "stream",
     "text": [
      "/opt/conda/lib/python3.7/site-packages/ipykernel_launcher.py:7: SettingWithCopyWarning: \n",
      "A value is trying to be set on a copy of a slice from a DataFrame.\n",
      "Try using .loc[row_indexer,col_indexer] = value instead\n",
      "\n",
      "See the caveats in the documentation: http://pandas.pydata.org/pandas-docs/stable/user_guide/indexing.html#returning-a-view-versus-a-copy\n",
      "  import sys\n",
      "/opt/conda/lib/python3.7/site-packages/ipykernel_launcher.py:10: SettingWithCopyWarning: \n",
      "A value is trying to be set on a copy of a slice from a DataFrame.\n",
      "Try using .loc[row_indexer,col_indexer] = value instead\n",
      "\n",
      "See the caveats in the documentation: http://pandas.pydata.org/pandas-docs/stable/user_guide/indexing.html#returning-a-view-versus-a-copy\n",
      "  # Remove the CWD from sys.path while we load stuff.\n"
     ]
    }
   ],
   "source": [
    "print('Зависимость цены от площади:', center_spb['last_price'].corr(center_spb['total_area']))\n",
    "\n",
    "print('Зависимость цены от числа комнат:', center_spb['last_price'].corr(center_spb['rooms']))\n",
    "\n",
    "print('Зависимость цены от удаленности от центра:', center_spb['last_price'].corr(center_spb['cityCenters_nearest']))\n",
    "\n",
    "center_spb['flat_floor_name_numeric'] = center_spb.apply(get_floor_number, axis=1)\n",
    "print('Зависимость цены от этажа расположения:', center_spb['last_price'].corr(center_spb['flat_floor_name_numeric']))\n",
    "\n",
    "center_spb['day_week_numeric'] = center_spb.apply(day_week_number, axis=1)\n",
    "print('Зависимость цены от дня недели:', center_spb['last_price'].corr(center_spb['day_week_numeric']))\n",
    "print('Зависимость цены от месяца:', center_spb['last_price'].corr(center_spb['month']))\n",
    "print('Зависимость цены от года:', center_spb['last_price'].corr(center_spb['year']))"
   ]
  },
  {
   "cell_type": "markdown",
   "metadata": {},
   "source": [
    "**Значения по всему городу**\n",
    "\n",
    "Зависимость цены от площади: 0.6537428966335397\n",
    "\n",
    "Зависимость цены от числа комнат: 0.36342062218770693\n",
    "\n",
    "Зависимость цены от удаленности от центра: -0.20688702501498762\n",
    "\n",
    "Зависимость цены от этажа расположения: 0.058804035144067006\n",
    "\n",
    "Зависимость цены от дня недели: 0.0016068614793023986\n",
    "\n",
    "Зависимость цены от месяца: 0.002741029419924221\n",
    "\n",
    "Зависимость цены от года: -0.04292705107683146"
   ]
  },
  {
   "cell_type": "markdown",
   "metadata": {},
   "source": [
    "**Вывод**\n",
    "\n",
    "Наблюдается чуть меньшая зависимость цены от площади и чуть меньшая зависимость от удаленности от центра (логично, так как квартиры и так в центре).\n",
    "\n",
    "В остальном данные существенно не отличаются."
   ]
  },
  {
   "cell_type": "markdown",
   "metadata": {},
   "source": [
    "## Общий вывод"
   ]
  },
  {
   "cell_type": "markdown",
   "metadata": {},
   "source": [
    "Предоставленные данные для анализа подверглись предобработке и исследовательскому анализу, в ходе которого было:\n",
    "\n",
    "1) Изучено среднее время продажи квартиры (94 дня)\n",
    "\n",
    "2) Определены и изучены факторы, влияющие на стоимость квартиры (в основном цена зависит от площади и числа комнат)\n",
    "\n",
    "3) Было выяснено, какая область входит в центр (круг с радиусом в 7 км от центра города)\n",
    "\n",
    "4) Проанализирован сегмент квартир в центре города, и сделан вывод о том, что, в целом, данные соответствуют данным по всему городу с наименьшим влияние такого фактора, как расстояние от центра."
   ]
  },
  {
   "cell_type": "markdown",
   "metadata": {},
   "source": [
    "## Чек-лист готовности проекта\n",
    "\n",
    "Поставьте 'x' в выполненных пунктах. Далее нажмите Shift+Enter."
   ]
  },
  {
   "cell_type": "markdown",
   "metadata": {},
   "source": [
    "- [x]  открыт файл\n",
    "- [ ]  файлы изучены (выведены первые строки, метод info())\n",
    "- [ ]  определены пропущенные значения\n",
    "- [ ]  заполнены пропущенные значения\n",
    "- [ ]  есть пояснение, какие пропущенные значения обнаружены\n",
    "- [ ]  изменены типы данных\n",
    "- [ ]  есть пояснение, в каких столбцах изменены типы и почему\n",
    "- [ ]  посчитано и добавлено в таблицу: цена квадратного метра\n",
    "- [ ]  посчитано и добавлено в таблицу: день недели, месяц и год публикации объявления\n",
    "- [ ]  посчитано и добавлено в таблицу: этаж квартиры; варианты — первый, последний, другой\n",
    "- [ ]  посчитано и добавлено в таблицу: соотношение жилой и общей площади, а также отношение площади кухни к общей\n",
    "- [ ]  изучены следующие параметры: площадь, цена, число комнат, высота потолков\n",
    "- [ ]  построены гистограммы для каждого параметра\n",
    "- [ ]  выполнено задание: \"Изучите время продажи квартиры. Постройте гистограмму. Посчитайте среднее и медиану. Опишите, сколько обычно занимает продажа. Когда можно считать, что продажи прошли очень быстро, а когда необычно долго?\"\n",
    "- [ ]  выполнено задание: \"Уберите редкие и выбивающиеся значения. Опишите, какие особенности обнаружили.\"\n",
    "- [ ]  выполнено задание: \"Какие факторы больше всего влияют на стоимость квартиры? Изучите, зависит ли цена от квадратного метра, числа комнат, этажа (первого или последнего), удалённости от центра. Также изучите зависимость от даты размещения: дня недели, месяца и года. \"Выберите 10 населённых пунктов с наибольшим числом объявлений. Посчитайте среднюю цену квадратного метра в этих населённых пунктах. Выделите населённые пункты с самой высокой и низкой стоимостью жилья. Эти данные можно найти по имени в столбце '*locality_name'*. \"\n",
    "- [ ]  выполнено задание: \"Изучите предложения квартир: для каждой квартиры есть информация о расстоянии до центра. Выделите квартиры в Санкт-Петербурге (*'locality_name'*). Ваша задача — выяснить, какая область входит в центр. Создайте столбец с расстоянием до центра в километрах: округлите до целых значений. После этого посчитайте среднюю цену для каждого километра. Постройте график: он должен показывать, как цена зависит от удалённости от центра. Определите границу, где график сильно меняется — это и будет центральная зона. \"\n",
    "- [ ]  выполнено задание: \"Выделите сегмент квартир в центре. Проанализируйте эту территорию и изучите следующие параметры: площадь, цена, число комнат, высота потолков. Также выделите факторы, которые влияют на стоимость квартиры (число комнат, этаж, удалённость от центра, дата размещения объявления). Сделайте выводы. Отличаются ли они от общих выводов по всему городу?\"\n",
    "- [ ]  в каждом этапе есть выводы\n",
    "- [ ]  есть общий вывод"
   ]
  }
 ],
 "metadata": {
  "ExecuteTimeLog": [
   {
    "duration": 813,
    "start_time": "2021-06-16T12:32:25.088Z"
   },
   {
    "duration": 87,
    "start_time": "2021-06-16T12:33:37.161Z"
   },
   {
    "duration": 108,
    "start_time": "2021-06-16T12:34:43.037Z"
   },
   {
    "duration": 79,
    "start_time": "2021-06-16T12:38:34.596Z"
   },
   {
    "duration": 136,
    "start_time": "2021-06-16T12:39:06.146Z"
   },
   {
    "duration": 10,
    "start_time": "2021-06-16T14:21:57.191Z"
   },
   {
    "duration": 386,
    "start_time": "2021-06-16T14:22:29.565Z"
   },
   {
    "duration": 10,
    "start_time": "2021-06-16T14:25:11.617Z"
   },
   {
    "duration": 9,
    "start_time": "2021-06-16T14:26:02.096Z"
   },
   {
    "duration": 12,
    "start_time": "2021-06-16T14:28:43.689Z"
   },
   {
    "duration": 11,
    "start_time": "2021-06-16T14:33:22.605Z"
   },
   {
    "duration": 20,
    "start_time": "2021-06-16T14:34:55.120Z"
   },
   {
    "duration": 8,
    "start_time": "2021-06-16T14:36:18.112Z"
   },
   {
    "duration": 10,
    "start_time": "2021-06-16T14:44:26.474Z"
   },
   {
    "duration": 10,
    "start_time": "2021-06-16T14:49:38.222Z"
   },
   {
    "duration": 10,
    "start_time": "2021-06-16T15:01:54.451Z"
   },
   {
    "duration": 9,
    "start_time": "2021-06-16T15:03:32.591Z"
   },
   {
    "duration": 9,
    "start_time": "2021-06-16T15:17:29.870Z"
   },
   {
    "duration": 10,
    "start_time": "2021-06-16T15:18:51.947Z"
   },
   {
    "duration": 10,
    "start_time": "2021-06-16T15:19:18.176Z"
   },
   {
    "duration": 10,
    "start_time": "2021-06-16T15:19:37.829Z"
   },
   {
    "duration": 9,
    "start_time": "2021-06-16T15:20:11.296Z"
   },
   {
    "duration": 14,
    "start_time": "2021-06-16T15:20:38.588Z"
   },
   {
    "duration": 14,
    "start_time": "2021-06-16T15:21:02.979Z"
   },
   {
    "duration": 12,
    "start_time": "2021-06-16T15:21:32.020Z"
   },
   {
    "duration": 12,
    "start_time": "2021-06-16T15:22:11.203Z"
   },
   {
    "duration": -80826,
    "start_time": "2021-06-16T15:24:42.754Z"
   },
   {
    "duration": 7353,
    "start_time": "2021-06-16T15:23:37.940Z"
   },
   {
    "duration": 9,
    "start_time": "2021-06-16T15:24:19.396Z"
   },
   {
    "duration": 11,
    "start_time": "2021-06-16T15:24:35.403Z"
   },
   {
    "duration": 7561,
    "start_time": "2021-06-16T15:25:26.980Z"
   },
   {
    "duration": 10,
    "start_time": "2021-06-16T15:25:38.336Z"
   },
   {
    "duration": 10,
    "start_time": "2021-06-16T15:26:35.104Z"
   },
   {
    "duration": 10,
    "start_time": "2021-06-16T15:26:53.986Z"
   },
   {
    "duration": 209,
    "start_time": "2021-06-17T19:49:52.602Z"
   },
   {
    "duration": 690,
    "start_time": "2021-06-17T19:50:01.675Z"
   },
   {
    "duration": 17,
    "start_time": "2021-06-17T19:50:02.368Z"
   },
   {
    "duration": 6,
    "start_time": "2021-06-17T19:50:02.387Z"
   },
   {
    "duration": 16,
    "start_time": "2021-06-17T19:50:02.395Z"
   },
   {
    "duration": 19,
    "start_time": "2021-06-17T19:50:02.412Z"
   },
   {
    "duration": 31,
    "start_time": "2021-06-17T19:50:02.433Z"
   },
   {
    "duration": 16,
    "start_time": "2021-06-17T19:50:02.466Z"
   },
   {
    "duration": 38,
    "start_time": "2021-06-17T19:50:02.485Z"
   },
   {
    "duration": 23,
    "start_time": "2021-06-17T19:50:02.525Z"
   },
   {
    "duration": 22,
    "start_time": "2021-06-17T19:50:02.550Z"
   },
   {
    "duration": 12,
    "start_time": "2021-06-17T19:50:02.573Z"
   },
   {
    "duration": 16,
    "start_time": "2021-06-17T19:50:02.587Z"
   },
   {
    "duration": 19,
    "start_time": "2021-06-17T19:50:02.604Z"
   },
   {
    "duration": 10,
    "start_time": "2021-06-17T19:50:02.625Z"
   },
   {
    "duration": 8,
    "start_time": "2021-06-17T19:50:02.636Z"
   },
   {
    "duration": 27,
    "start_time": "2021-06-17T19:50:02.646Z"
   },
   {
    "duration": 14,
    "start_time": "2021-06-17T19:50:02.675Z"
   },
   {
    "duration": 9,
    "start_time": "2021-06-17T19:50:02.690Z"
   },
   {
    "duration": 11,
    "start_time": "2021-06-17T19:50:02.700Z"
   },
   {
    "duration": 9,
    "start_time": "2021-06-17T19:50:02.712Z"
   },
   {
    "duration": 12,
    "start_time": "2021-06-17T19:50:02.722Z"
   },
   {
    "duration": 12,
    "start_time": "2021-06-17T19:50:02.735Z"
   },
   {
    "duration": 6,
    "start_time": "2021-06-17T19:50:02.750Z"
   },
   {
    "duration": 28,
    "start_time": "2021-06-17T19:50:02.757Z"
   },
   {
    "duration": 13,
    "start_time": "2021-06-17T19:50:36.476Z"
   },
   {
    "duration": 4,
    "start_time": "2021-06-17T19:51:04.998Z"
   },
   {
    "duration": 7,
    "start_time": "2021-06-17T19:57:37.420Z"
   },
   {
    "duration": 6,
    "start_time": "2021-06-17T19:59:22.229Z"
   },
   {
    "duration": 6,
    "start_time": "2021-06-17T19:59:28.394Z"
   },
   {
    "duration": 228,
    "start_time": "2021-06-17T19:59:38.430Z"
   },
   {
    "duration": 173,
    "start_time": "2021-06-17T19:59:47.426Z"
   },
   {
    "duration": 7,
    "start_time": "2021-06-17T19:59:55.759Z"
   },
   {
    "duration": 7,
    "start_time": "2021-06-17T20:00:07.123Z"
   },
   {
    "duration": 8,
    "start_time": "2021-06-17T20:00:12.671Z"
   },
   {
    "duration": 8,
    "start_time": "2021-06-17T20:01:19.505Z"
   },
   {
    "duration": 8,
    "start_time": "2021-06-17T20:01:24.507Z"
   },
   {
    "duration": 8,
    "start_time": "2021-06-17T20:03:43.162Z"
   },
   {
    "duration": 9,
    "start_time": "2021-06-17T20:04:00.628Z"
   },
   {
    "duration": 7,
    "start_time": "2021-06-17T20:21:13.933Z"
   },
   {
    "duration": 7,
    "start_time": "2021-06-17T20:21:46.780Z"
   },
   {
    "duration": 9,
    "start_time": "2021-06-17T20:22:09.873Z"
   },
   {
    "duration": 7,
    "start_time": "2021-06-17T20:24:18.692Z"
   },
   {
    "duration": 56,
    "start_time": "2021-06-17T20:27:28.008Z"
   },
   {
    "duration": 171,
    "start_time": "2021-06-17T20:27:40.084Z"
   },
   {
    "duration": 109,
    "start_time": "2021-06-17T20:27:57.823Z"
   },
   {
    "duration": 96,
    "start_time": "2021-06-17T20:28:26.711Z"
   },
   {
    "duration": 107,
    "start_time": "2021-06-17T20:29:12.719Z"
   },
   {
    "duration": 164,
    "start_time": "2021-06-17T20:30:21.430Z"
   },
   {
    "duration": 160,
    "start_time": "2021-06-17T20:30:33.710Z"
   },
   {
    "duration": 33,
    "start_time": "2021-06-17T20:32:21.641Z"
   },
   {
    "duration": 6,
    "start_time": "2021-06-17T20:33:38.001Z"
   },
   {
    "duration": 6,
    "start_time": "2021-06-17T20:33:47.097Z"
   },
   {
    "duration": 56,
    "start_time": "2021-06-17T20:34:11.774Z"
   },
   {
    "duration": 11,
    "start_time": "2021-06-17T20:34:31.789Z"
   },
   {
    "duration": 185,
    "start_time": "2021-06-17T20:47:23.385Z"
   },
   {
    "duration": 11,
    "start_time": "2021-06-17T20:48:03.990Z"
   },
   {
    "duration": 10,
    "start_time": "2021-06-17T20:51:01.661Z"
   },
   {
    "duration": 181,
    "start_time": "2021-06-17T20:51:22.100Z"
   },
   {
    "duration": 627,
    "start_time": "2021-06-17T20:51:36.335Z"
   },
   {
    "duration": 6,
    "start_time": "2021-06-17T20:51:36.964Z"
   },
   {
    "duration": 17,
    "start_time": "2021-06-17T20:51:36.972Z"
   },
   {
    "duration": 4,
    "start_time": "2021-06-17T20:51:36.990Z"
   },
   {
    "duration": 10,
    "start_time": "2021-06-17T20:51:36.995Z"
   },
   {
    "duration": 8,
    "start_time": "2021-06-17T20:51:37.007Z"
   },
   {
    "duration": 5,
    "start_time": "2021-06-17T20:51:37.017Z"
   },
   {
    "duration": 6,
    "start_time": "2021-06-17T20:51:37.024Z"
   },
   {
    "duration": 5,
    "start_time": "2021-06-17T20:51:37.032Z"
   },
   {
    "duration": 6,
    "start_time": "2021-06-17T20:51:37.039Z"
   },
   {
    "duration": 235,
    "start_time": "2021-06-17T20:51:37.084Z"
   },
   {
    "duration": -82630,
    "start_time": "2021-06-17T20:52:59.951Z"
   },
   {
    "duration": -82649,
    "start_time": "2021-06-17T20:52:59.971Z"
   },
   {
    "duration": -82663,
    "start_time": "2021-06-17T20:52:59.986Z"
   },
   {
    "duration": -82675,
    "start_time": "2021-06-17T20:52:59.999Z"
   },
   {
    "duration": -82689,
    "start_time": "2021-06-17T20:53:00.014Z"
   },
   {
    "duration": -82713,
    "start_time": "2021-06-17T20:53:00.039Z"
   },
   {
    "duration": -82727,
    "start_time": "2021-06-17T20:53:00.053Z"
   },
   {
    "duration": -82737,
    "start_time": "2021-06-17T20:53:00.064Z"
   },
   {
    "duration": -82751,
    "start_time": "2021-06-17T20:53:00.079Z"
   },
   {
    "duration": -82757,
    "start_time": "2021-06-17T20:53:00.086Z"
   },
   {
    "duration": -82771,
    "start_time": "2021-06-17T20:53:00.101Z"
   },
   {
    "duration": -82782,
    "start_time": "2021-06-17T20:53:00.112Z"
   },
   {
    "duration": -82789,
    "start_time": "2021-06-17T20:53:00.120Z"
   },
   {
    "duration": -82800,
    "start_time": "2021-06-17T20:53:00.132Z"
   },
   {
    "duration": -82812,
    "start_time": "2021-06-17T20:53:00.145Z"
   },
   {
    "duration": 14,
    "start_time": "2021-06-17T20:53:25.030Z"
   },
   {
    "duration": 14,
    "start_time": "2021-06-17T20:53:39.985Z"
   },
   {
    "duration": 17,
    "start_time": "2021-06-17T20:53:55.209Z"
   },
   {
    "duration": 10,
    "start_time": "2021-06-17T20:54:10.191Z"
   },
   {
    "duration": 6,
    "start_time": "2021-06-17T20:54:29.005Z"
   },
   {
    "duration": 15,
    "start_time": "2021-06-17T20:54:35.426Z"
   },
   {
    "duration": 6,
    "start_time": "2021-06-17T20:54:41.442Z"
   },
   {
    "duration": 636,
    "start_time": "2021-06-17T20:55:14.148Z"
   },
   {
    "duration": 7,
    "start_time": "2021-06-17T20:55:14.785Z"
   },
   {
    "duration": 7,
    "start_time": "2021-06-17T20:55:14.796Z"
   },
   {
    "duration": 5,
    "start_time": "2021-06-17T20:55:14.805Z"
   },
   {
    "duration": 7,
    "start_time": "2021-06-17T20:55:14.811Z"
   },
   {
    "duration": 9,
    "start_time": "2021-06-17T20:55:14.819Z"
   },
   {
    "duration": 5,
    "start_time": "2021-06-17T20:55:14.830Z"
   },
   {
    "duration": 52,
    "start_time": "2021-06-17T20:55:14.837Z"
   },
   {
    "duration": 7,
    "start_time": "2021-06-17T20:55:14.891Z"
   },
   {
    "duration": 6,
    "start_time": "2021-06-17T20:55:14.900Z"
   },
   {
    "duration": 9,
    "start_time": "2021-06-17T20:55:14.908Z"
   },
   {
    "duration": 7,
    "start_time": "2021-06-17T20:55:14.918Z"
   },
   {
    "duration": 5,
    "start_time": "2021-06-17T20:55:14.927Z"
   },
   {
    "duration": 7,
    "start_time": "2021-06-17T20:55:14.933Z"
   },
   {
    "duration": 44,
    "start_time": "2021-06-17T20:55:14.942Z"
   },
   {
    "duration": 6,
    "start_time": "2021-06-17T20:55:14.987Z"
   },
   {
    "duration": 14,
    "start_time": "2021-06-17T20:55:14.995Z"
   },
   {
    "duration": 18,
    "start_time": "2021-06-17T20:55:15.011Z"
   },
   {
    "duration": 8,
    "start_time": "2021-06-17T20:55:15.031Z"
   },
   {
    "duration": 18,
    "start_time": "2021-06-17T20:55:15.041Z"
   },
   {
    "duration": 11,
    "start_time": "2021-06-17T20:55:15.060Z"
   },
   {
    "duration": 16,
    "start_time": "2021-06-17T20:55:15.073Z"
   },
   {
    "duration": 6,
    "start_time": "2021-06-17T20:55:15.092Z"
   },
   {
    "duration": 7,
    "start_time": "2021-06-17T20:55:15.100Z"
   },
   {
    "duration": 7,
    "start_time": "2021-06-17T20:55:15.108Z"
   },
   {
    "duration": 6,
    "start_time": "2021-06-17T20:55:15.116Z"
   },
   {
    "duration": 5,
    "start_time": "2021-06-17T21:01:54.545Z"
   },
   {
    "duration": 12,
    "start_time": "2021-06-17T21:02:06.275Z"
   },
   {
    "duration": 925,
    "start_time": "2021-06-19T15:19:30.213Z"
   },
   {
    "duration": 22,
    "start_time": "2021-06-19T15:19:31.141Z"
   },
   {
    "duration": 21,
    "start_time": "2021-06-19T15:19:31.165Z"
   },
   {
    "duration": 7,
    "start_time": "2021-06-19T15:19:31.189Z"
   },
   {
    "duration": 32,
    "start_time": "2021-06-19T15:19:31.199Z"
   },
   {
    "duration": 13,
    "start_time": "2021-06-19T15:19:31.233Z"
   },
   {
    "duration": 26,
    "start_time": "2021-06-19T15:19:31.248Z"
   },
   {
    "duration": 23,
    "start_time": "2021-06-19T15:19:31.277Z"
   },
   {
    "duration": 20,
    "start_time": "2021-06-19T15:19:31.304Z"
   },
   {
    "duration": 10,
    "start_time": "2021-06-19T15:19:31.327Z"
   },
   {
    "duration": 23,
    "start_time": "2021-06-19T15:19:31.339Z"
   },
   {
    "duration": 31,
    "start_time": "2021-06-19T15:19:31.364Z"
   },
   {
    "duration": 25,
    "start_time": "2021-06-19T15:19:31.398Z"
   },
   {
    "duration": 8,
    "start_time": "2021-06-19T15:19:31.426Z"
   },
   {
    "duration": 24,
    "start_time": "2021-06-19T15:19:31.436Z"
   },
   {
    "duration": 15,
    "start_time": "2021-06-19T15:19:31.462Z"
   },
   {
    "duration": 11,
    "start_time": "2021-06-19T15:19:31.479Z"
   },
   {
    "duration": 34,
    "start_time": "2021-06-19T15:19:31.492Z"
   },
   {
    "duration": 8,
    "start_time": "2021-06-19T15:19:31.528Z"
   },
   {
    "duration": 27,
    "start_time": "2021-06-19T15:19:31.538Z"
   },
   {
    "duration": 18,
    "start_time": "2021-06-19T15:19:31.567Z"
   },
   {
    "duration": 10,
    "start_time": "2021-06-19T15:19:31.588Z"
   },
   {
    "duration": 30,
    "start_time": "2021-06-19T15:19:31.600Z"
   },
   {
    "duration": 12,
    "start_time": "2021-06-19T15:19:31.633Z"
   },
   {
    "duration": 11,
    "start_time": "2021-06-19T15:19:31.647Z"
   },
   {
    "duration": 13,
    "start_time": "2021-06-19T15:19:31.660Z"
   },
   {
    "duration": 56,
    "start_time": "2021-06-19T15:19:31.678Z"
   },
   {
    "duration": 5,
    "start_time": "2021-06-19T15:36:25.757Z"
   },
   {
    "duration": 6,
    "start_time": "2021-06-19T15:38:25.164Z"
   },
   {
    "duration": 22,
    "start_time": "2021-06-19T15:38:29.005Z"
   },
   {
    "duration": 4,
    "start_time": "2021-06-19T15:38:38.161Z"
   },
   {
    "duration": 17,
    "start_time": "2021-06-19T16:03:27.961Z"
   },
   {
    "duration": 7,
    "start_time": "2021-06-19T16:04:12.933Z"
   },
   {
    "duration": 8,
    "start_time": "2021-06-19T16:04:34.066Z"
   },
   {
    "duration": 8,
    "start_time": "2021-06-19T16:04:44.168Z"
   },
   {
    "duration": 95,
    "start_time": "2021-06-19T16:07:26.675Z"
   },
   {
    "duration": 94,
    "start_time": "2021-06-19T16:07:47.372Z"
   },
   {
    "duration": 9,
    "start_time": "2021-06-19T16:08:20.683Z"
   },
   {
    "duration": 17,
    "start_time": "2021-06-19T16:08:36.564Z"
   },
   {
    "duration": 5,
    "start_time": "2021-06-19T16:12:37.798Z"
   },
   {
    "duration": 367,
    "start_time": "2021-06-19T16:13:24.098Z"
   },
   {
    "duration": 8,
    "start_time": "2021-06-19T16:13:44.717Z"
   },
   {
    "duration": 18,
    "start_time": "2021-06-19T16:21:25.742Z"
   },
   {
    "duration": 6,
    "start_time": "2021-06-19T16:21:39.593Z"
   },
   {
    "duration": 13,
    "start_time": "2021-06-19T16:23:03.769Z"
   },
   {
    "duration": 14,
    "start_time": "2021-06-19T16:25:16.019Z"
   },
   {
    "duration": 94,
    "start_time": "2021-06-19T16:25:29.782Z"
   },
   {
    "duration": 13,
    "start_time": "2021-06-19T16:25:33.394Z"
   },
   {
    "duration": 41,
    "start_time": "2021-06-19T16:27:56.599Z"
   },
   {
    "duration": 43,
    "start_time": "2021-06-19T16:28:14.689Z"
   },
   {
    "duration": 13,
    "start_time": "2021-06-19T16:28:23.918Z"
   },
   {
    "duration": 912,
    "start_time": "2021-06-19T16:28:30.547Z"
   },
   {
    "duration": 10,
    "start_time": "2021-06-19T16:28:31.461Z"
   },
   {
    "duration": 23,
    "start_time": "2021-06-19T16:28:31.473Z"
   },
   {
    "duration": 26,
    "start_time": "2021-06-19T16:28:31.499Z"
   },
   {
    "duration": 10,
    "start_time": "2021-06-19T16:28:31.528Z"
   },
   {
    "duration": 13,
    "start_time": "2021-06-19T16:28:31.540Z"
   },
   {
    "duration": 11,
    "start_time": "2021-06-19T16:28:31.555Z"
   },
   {
    "duration": 8,
    "start_time": "2021-06-19T16:28:31.571Z"
   },
   {
    "duration": 47,
    "start_time": "2021-06-19T16:28:31.582Z"
   },
   {
    "duration": 9,
    "start_time": "2021-06-19T16:28:31.631Z"
   },
   {
    "duration": 15,
    "start_time": "2021-06-19T16:28:31.642Z"
   },
   {
    "duration": 13,
    "start_time": "2021-06-19T16:28:31.660Z"
   },
   {
    "duration": 4,
    "start_time": "2021-06-19T16:28:31.676Z"
   },
   {
    "duration": 46,
    "start_time": "2021-06-19T16:28:31.682Z"
   },
   {
    "duration": 15,
    "start_time": "2021-06-19T16:28:31.730Z"
   },
   {
    "duration": 12,
    "start_time": "2021-06-19T16:28:31.748Z"
   },
   {
    "duration": 21,
    "start_time": "2021-06-19T16:28:31.762Z"
   },
   {
    "duration": 13,
    "start_time": "2021-06-19T16:28:31.785Z"
   },
   {
    "duration": 27,
    "start_time": "2021-06-19T16:28:31.800Z"
   },
   {
    "duration": 26,
    "start_time": "2021-06-19T16:28:31.829Z"
   },
   {
    "duration": 8,
    "start_time": "2021-06-19T16:28:31.857Z"
   },
   {
    "duration": 9,
    "start_time": "2021-06-19T16:28:31.867Z"
   },
   {
    "duration": 44,
    "start_time": "2021-06-19T16:28:31.880Z"
   },
   {
    "duration": 11,
    "start_time": "2021-06-19T16:28:31.927Z"
   },
   {
    "duration": 17,
    "start_time": "2021-06-19T16:28:31.941Z"
   },
   {
    "duration": 18,
    "start_time": "2021-06-19T16:28:31.960Z"
   },
   {
    "duration": 9,
    "start_time": "2021-06-19T16:28:31.980Z"
   },
   {
    "duration": 39,
    "start_time": "2021-06-19T16:28:31.991Z"
   },
   {
    "duration": 19,
    "start_time": "2021-06-19T16:28:32.033Z"
   },
   {
    "duration": 12,
    "start_time": "2021-06-19T16:28:32.054Z"
   },
   {
    "duration": 30,
    "start_time": "2021-06-19T16:28:45.594Z"
   },
   {
    "duration": 385,
    "start_time": "2021-06-19T19:05:31.638Z"
   },
   {
    "duration": 287,
    "start_time": "2021-06-19T19:06:23.085Z"
   },
   {
    "duration": 6997,
    "start_time": "2021-06-19T19:06:43.119Z"
   },
   {
    "duration": 7159,
    "start_time": "2021-06-19T19:07:01.820Z"
   },
   {
    "duration": 6462,
    "start_time": "2021-06-19T19:08:03.336Z"
   },
   {
    "duration": 7663,
    "start_time": "2021-06-19T19:08:28.243Z"
   },
   {
    "duration": 84,
    "start_time": "2021-06-19T19:08:42.077Z"
   },
   {
    "duration": 6549,
    "start_time": "2021-06-19T19:08:47.589Z"
   },
   {
    "duration": 6284,
    "start_time": "2021-06-19T19:09:54.463Z"
   },
   {
    "duration": 267,
    "start_time": "2021-06-19T19:10:22.782Z"
   },
   {
    "duration": 350,
    "start_time": "2021-06-19T19:10:36.217Z"
   },
   {
    "duration": 315,
    "start_time": "2021-06-19T19:21:40.724Z"
   },
   {
    "duration": 26,
    "start_time": "2021-06-19T19:22:07.239Z"
   },
   {
    "duration": 22,
    "start_time": "2021-06-19T19:22:56.401Z"
   },
   {
    "duration": 263,
    "start_time": "2021-06-19T19:23:07.500Z"
   },
   {
    "duration": 20,
    "start_time": "2021-06-19T19:23:12.759Z"
   },
   {
    "duration": 20,
    "start_time": "2021-06-19T19:23:43.464Z"
   },
   {
    "duration": 916,
    "start_time": "2021-06-19T19:24:37.546Z"
   },
   {
    "duration": 11,
    "start_time": "2021-06-19T19:24:38.465Z"
   },
   {
    "duration": 45,
    "start_time": "2021-06-19T19:24:38.480Z"
   },
   {
    "duration": 6,
    "start_time": "2021-06-19T19:24:38.529Z"
   },
   {
    "duration": 12,
    "start_time": "2021-06-19T19:24:38.538Z"
   },
   {
    "duration": 15,
    "start_time": "2021-06-19T19:24:38.552Z"
   },
   {
    "duration": 54,
    "start_time": "2021-06-19T19:24:38.570Z"
   },
   {
    "duration": 11,
    "start_time": "2021-06-19T19:24:38.629Z"
   },
   {
    "duration": 10,
    "start_time": "2021-06-19T19:24:38.643Z"
   },
   {
    "duration": 9,
    "start_time": "2021-06-19T19:24:38.656Z"
   },
   {
    "duration": 56,
    "start_time": "2021-06-19T19:24:38.668Z"
   },
   {
    "duration": 10,
    "start_time": "2021-06-19T19:24:38.727Z"
   },
   {
    "duration": 6,
    "start_time": "2021-06-19T19:24:38.739Z"
   },
   {
    "duration": 10,
    "start_time": "2021-06-19T19:24:38.747Z"
   },
   {
    "duration": 12,
    "start_time": "2021-06-19T19:24:38.760Z"
   },
   {
    "duration": 50,
    "start_time": "2021-06-19T19:24:38.775Z"
   },
   {
    "duration": 21,
    "start_time": "2021-06-19T19:24:38.827Z"
   },
   {
    "duration": 16,
    "start_time": "2021-06-19T19:24:38.851Z"
   },
   {
    "duration": 10,
    "start_time": "2021-06-19T19:24:38.870Z"
   },
   {
    "duration": 44,
    "start_time": "2021-06-19T19:24:38.882Z"
   },
   {
    "duration": 10,
    "start_time": "2021-06-19T19:24:38.928Z"
   },
   {
    "duration": 8,
    "start_time": "2021-06-19T19:24:38.940Z"
   },
   {
    "duration": 38,
    "start_time": "2021-06-19T19:24:38.953Z"
   },
   {
    "duration": 49,
    "start_time": "2021-06-19T19:24:38.994Z"
   },
   {
    "duration": 12,
    "start_time": "2021-06-19T19:24:39.046Z"
   },
   {
    "duration": 31,
    "start_time": "2021-06-19T19:24:39.061Z"
   },
   {
    "duration": 33,
    "start_time": "2021-06-19T19:24:39.094Z"
   },
   {
    "duration": 10,
    "start_time": "2021-06-19T19:24:39.130Z"
   },
   {
    "duration": 17,
    "start_time": "2021-06-19T19:24:39.142Z"
   },
   {
    "duration": 22,
    "start_time": "2021-06-19T19:24:39.162Z"
   },
   {
    "duration": 14,
    "start_time": "2021-06-19T19:24:39.186Z"
   },
   {
    "duration": 16,
    "start_time": "2021-06-19T19:25:30.277Z"
   },
   {
    "duration": 365,
    "start_time": "2021-06-19T19:25:46.822Z"
   },
   {
    "duration": 16,
    "start_time": "2021-06-19T19:25:54.816Z"
   },
   {
    "duration": 273,
    "start_time": "2021-06-19T19:26:07.006Z"
   },
   {
    "duration": 16,
    "start_time": "2021-06-19T19:27:23.200Z"
   },
   {
    "duration": 13,
    "start_time": "2021-06-19T19:27:50.413Z"
   },
   {
    "duration": 23,
    "start_time": "2021-06-19T19:28:00.698Z"
   },
   {
    "duration": 26,
    "start_time": "2021-06-19T19:28:08.495Z"
   },
   {
    "duration": 16,
    "start_time": "2021-06-19T19:28:32.352Z"
   },
   {
    "duration": 275,
    "start_time": "2021-06-19T19:30:29.334Z"
   },
   {
    "duration": 67,
    "start_time": "2021-06-19T19:31:07.073Z"
   },
   {
    "duration": 25,
    "start_time": "2021-06-19T19:31:39.357Z"
   },
   {
    "duration": 277,
    "start_time": "2021-06-19T19:33:19.015Z"
   },
   {
    "duration": 45,
    "start_time": "2021-06-19T19:34:02.420Z"
   },
   {
    "duration": 27,
    "start_time": "2021-06-19T19:34:22.143Z"
   },
   {
    "duration": 35,
    "start_time": "2021-06-19T19:34:48.248Z"
   },
   {
    "duration": 78,
    "start_time": "2021-06-19T19:34:55.448Z"
   },
   {
    "duration": 921,
    "start_time": "2021-06-19T19:35:02.327Z"
   },
   {
    "duration": 10,
    "start_time": "2021-06-19T19:35:03.251Z"
   },
   {
    "duration": 11,
    "start_time": "2021-06-19T19:35:03.265Z"
   },
   {
    "duration": 48,
    "start_time": "2021-06-19T19:35:03.279Z"
   },
   {
    "duration": 14,
    "start_time": "2021-06-19T19:35:03.330Z"
   },
   {
    "duration": 14,
    "start_time": "2021-06-19T19:35:03.347Z"
   },
   {
    "duration": 13,
    "start_time": "2021-06-19T19:35:03.364Z"
   },
   {
    "duration": 49,
    "start_time": "2021-06-19T19:35:03.382Z"
   },
   {
    "duration": 13,
    "start_time": "2021-06-19T19:35:03.435Z"
   },
   {
    "duration": 13,
    "start_time": "2021-06-19T19:35:03.451Z"
   },
   {
    "duration": 16,
    "start_time": "2021-06-19T19:35:03.467Z"
   },
   {
    "duration": 45,
    "start_time": "2021-06-19T19:35:03.486Z"
   },
   {
    "duration": 8,
    "start_time": "2021-06-19T19:35:03.533Z"
   },
   {
    "duration": 14,
    "start_time": "2021-06-19T19:35:03.543Z"
   },
   {
    "duration": 13,
    "start_time": "2021-06-19T19:35:03.559Z"
   },
   {
    "duration": 13,
    "start_time": "2021-06-19T19:35:03.574Z"
   },
   {
    "duration": 37,
    "start_time": "2021-06-19T19:35:03.590Z"
   },
   {
    "duration": 9,
    "start_time": "2021-06-19T19:35:03.629Z"
   },
   {
    "duration": 31,
    "start_time": "2021-06-19T19:35:03.640Z"
   },
   {
    "duration": 25,
    "start_time": "2021-06-19T19:35:03.673Z"
   },
   {
    "duration": 26,
    "start_time": "2021-06-19T19:35:03.700Z"
   },
   {
    "duration": 8,
    "start_time": "2021-06-19T19:35:03.728Z"
   },
   {
    "duration": 29,
    "start_time": "2021-06-19T19:35:03.741Z"
   },
   {
    "duration": 11,
    "start_time": "2021-06-19T19:35:03.773Z"
   },
   {
    "duration": 16,
    "start_time": "2021-06-19T19:35:03.823Z"
   },
   {
    "duration": 100,
    "start_time": "2021-06-19T19:35:03.841Z"
   },
   {
    "duration": 9,
    "start_time": "2021-06-19T19:35:03.943Z"
   },
   {
    "duration": 10,
    "start_time": "2021-06-19T19:35:03.954Z"
   },
   {
    "duration": 8,
    "start_time": "2021-06-19T19:35:03.966Z"
   },
   {
    "duration": 50,
    "start_time": "2021-06-19T19:35:03.977Z"
   },
   {
    "duration": 9,
    "start_time": "2021-06-19T19:35:04.029Z"
   },
   {
    "duration": 83,
    "start_time": "2021-06-19T19:38:17.192Z"
   },
   {
    "duration": 1158,
    "start_time": "2021-06-19T19:38:42.459Z"
   },
   {
    "duration": 5,
    "start_time": "2021-06-19T19:44:31.574Z"
   },
   {
    "duration": 8,
    "start_time": "2021-06-19T19:44:59.602Z"
   },
   {
    "duration": 7,
    "start_time": "2021-06-19T19:45:17.016Z"
   },
   {
    "duration": 27,
    "start_time": "2021-06-19T19:45:21.877Z"
   },
   {
    "duration": 6,
    "start_time": "2021-06-19T19:45:31.800Z"
   },
   {
    "duration": 7,
    "start_time": "2021-06-19T19:52:09.318Z"
   },
   {
    "duration": 7,
    "start_time": "2021-06-19T19:52:15.008Z"
   },
   {
    "duration": 25,
    "start_time": "2021-06-19T19:52:18.833Z"
   },
   {
    "duration": 20,
    "start_time": "2021-06-19T19:54:27.514Z"
   },
   {
    "duration": 21,
    "start_time": "2021-06-19T19:57:49.095Z"
   },
   {
    "duration": 6,
    "start_time": "2021-06-19T19:57:58.365Z"
   },
   {
    "duration": 1053,
    "start_time": "2021-06-19T20:04:31.274Z"
   },
   {
    "duration": 10,
    "start_time": "2021-06-19T20:04:32.330Z"
   },
   {
    "duration": 16,
    "start_time": "2021-06-19T20:04:32.344Z"
   },
   {
    "duration": 7,
    "start_time": "2021-06-19T20:04:32.363Z"
   },
   {
    "duration": 15,
    "start_time": "2021-06-19T20:04:32.373Z"
   },
   {
    "duration": 15,
    "start_time": "2021-06-19T20:04:32.425Z"
   },
   {
    "duration": 14,
    "start_time": "2021-06-19T20:04:32.443Z"
   },
   {
    "duration": 11,
    "start_time": "2021-06-19T20:04:32.461Z"
   },
   {
    "duration": 12,
    "start_time": "2021-06-19T20:04:32.475Z"
   },
   {
    "duration": 10,
    "start_time": "2021-06-19T20:04:32.525Z"
   },
   {
    "duration": 15,
    "start_time": "2021-06-19T20:04:32.537Z"
   },
   {
    "duration": 13,
    "start_time": "2021-06-19T20:04:32.555Z"
   },
   {
    "duration": 6,
    "start_time": "2021-06-19T20:04:32.570Z"
   },
   {
    "duration": 10,
    "start_time": "2021-06-19T20:04:32.625Z"
   },
   {
    "duration": 17,
    "start_time": "2021-06-19T20:04:32.638Z"
   },
   {
    "duration": 11,
    "start_time": "2021-06-19T20:04:32.658Z"
   },
   {
    "duration": 12,
    "start_time": "2021-06-19T20:04:32.671Z"
   },
   {
    "duration": 9,
    "start_time": "2021-06-19T20:04:32.686Z"
   },
   {
    "duration": 10,
    "start_time": "2021-06-19T20:04:32.725Z"
   },
   {
    "duration": 22,
    "start_time": "2021-06-19T20:04:32.737Z"
   },
   {
    "duration": 8,
    "start_time": "2021-06-19T20:04:32.762Z"
   },
   {
    "duration": 8,
    "start_time": "2021-06-19T20:04:32.773Z"
   },
   {
    "duration": 67,
    "start_time": "2021-06-19T20:04:32.785Z"
   },
   {
    "duration": 14,
    "start_time": "2021-06-19T20:04:32.854Z"
   },
   {
    "duration": 12,
    "start_time": "2021-06-19T20:04:32.871Z"
   },
   {
    "duration": 44,
    "start_time": "2021-06-19T20:04:32.886Z"
   },
   {
    "duration": 8,
    "start_time": "2021-06-19T20:04:32.932Z"
   },
   {
    "duration": 14,
    "start_time": "2021-06-19T20:04:32.942Z"
   },
   {
    "duration": 7,
    "start_time": "2021-06-19T20:04:32.958Z"
   },
   {
    "duration": 8,
    "start_time": "2021-06-19T20:04:32.968Z"
   },
   {
    "duration": 49,
    "start_time": "2021-06-19T20:04:32.979Z"
   },
   {
    "duration": 10,
    "start_time": "2021-06-19T20:04:33.031Z"
   },
   {
    "duration": 6,
    "start_time": "2021-06-19T20:04:33.043Z"
   },
   {
    "duration": 12,
    "start_time": "2021-06-19T20:04:33.051Z"
   },
   {
    "duration": 4,
    "start_time": "2021-06-19T20:04:46.570Z"
   },
   {
    "duration": 3,
    "start_time": "2021-06-19T20:05:05.605Z"
   },
   {
    "duration": 16,
    "start_time": "2021-06-19T20:08:31.535Z"
   },
   {
    "duration": 14,
    "start_time": "2021-06-19T20:08:38.023Z"
   },
   {
    "duration": 6,
    "start_time": "2021-06-19T20:08:51.082Z"
   },
   {
    "duration": 415,
    "start_time": "2021-06-19T20:09:52.880Z"
   },
   {
    "duration": 289,
    "start_time": "2021-06-19T20:10:05.848Z"
   },
   {
    "duration": 303,
    "start_time": "2021-06-19T20:11:56.357Z"
   },
   {
    "duration": 303,
    "start_time": "2021-06-19T20:14:47.937Z"
   },
   {
    "duration": 6,
    "start_time": "2021-06-19T20:15:12.989Z"
   },
   {
    "duration": 87,
    "start_time": "2021-06-19T20:17:51.649Z"
   },
   {
    "duration": 6635,
    "start_time": "2021-06-19T20:18:11.657Z"
   },
   {
    "duration": -83867,
    "start_time": "2021-06-19T20:21:39.378Z"
   },
   {
    "duration": 10,
    "start_time": "2021-06-19T20:20:30.105Z"
   },
   {
    "duration": 297,
    "start_time": "2021-06-19T20:21:14.258Z"
   },
   {
    "duration": 301,
    "start_time": "2021-06-19T20:25:13.521Z"
   },
   {
    "duration": 265,
    "start_time": "2021-06-19T20:26:26.344Z"
   },
   {
    "duration": 394,
    "start_time": "2021-06-19T20:26:41.620Z"
   },
   {
    "duration": 4,
    "start_time": "2021-06-19T20:27:56.560Z"
   },
   {
    "duration": 257,
    "start_time": "2021-06-19T20:29:41.639Z"
   },
   {
    "duration": 279,
    "start_time": "2021-06-19T20:29:57.967Z"
   },
   {
    "duration": 23,
    "start_time": "2021-06-19T20:30:07.383Z"
   },
   {
    "duration": 24,
    "start_time": "2021-06-19T20:30:17.287Z"
   },
   {
    "duration": 19,
    "start_time": "2021-06-19T20:31:04.624Z"
   },
   {
    "duration": 26,
    "start_time": "2021-06-19T20:33:13.498Z"
   },
   {
    "duration": 505,
    "start_time": "2021-06-19T20:34:36.274Z"
   },
   {
    "duration": 609,
    "start_time": "2021-06-19T20:34:48.403Z"
   },
   {
    "duration": 138,
    "start_time": "2021-06-19T20:35:08.471Z"
   },
   {
    "duration": 132,
    "start_time": "2021-06-19T20:35:26.470Z"
   },
   {
    "duration": 286,
    "start_time": "2021-06-19T20:36:58.786Z"
   },
   {
    "duration": 150,
    "start_time": "2021-06-19T20:37:25.761Z"
   },
   {
    "duration": 168,
    "start_time": "2021-06-19T20:37:50.635Z"
   },
   {
    "duration": 922,
    "start_time": "2021-06-19T20:38:09.314Z"
   },
   {
    "duration": 10,
    "start_time": "2021-06-19T20:38:10.239Z"
   },
   {
    "duration": 18,
    "start_time": "2021-06-19T20:38:10.253Z"
   },
   {
    "duration": 6,
    "start_time": "2021-06-19T20:38:10.275Z"
   },
   {
    "duration": 51,
    "start_time": "2021-06-19T20:38:10.284Z"
   },
   {
    "duration": 16,
    "start_time": "2021-06-19T20:38:10.338Z"
   },
   {
    "duration": 11,
    "start_time": "2021-06-19T20:38:10.357Z"
   },
   {
    "duration": 54,
    "start_time": "2021-06-19T20:38:10.372Z"
   },
   {
    "duration": 11,
    "start_time": "2021-06-19T20:38:10.430Z"
   },
   {
    "duration": 10,
    "start_time": "2021-06-19T20:38:10.444Z"
   },
   {
    "duration": 21,
    "start_time": "2021-06-19T20:38:10.456Z"
   },
   {
    "duration": 45,
    "start_time": "2021-06-19T20:38:10.480Z"
   },
   {
    "duration": 6,
    "start_time": "2021-06-19T20:38:10.529Z"
   },
   {
    "duration": 14,
    "start_time": "2021-06-19T20:38:10.538Z"
   },
   {
    "duration": 11,
    "start_time": "2021-06-19T20:38:10.555Z"
   },
   {
    "duration": 9,
    "start_time": "2021-06-19T20:38:10.569Z"
   },
   {
    "duration": 60,
    "start_time": "2021-06-19T20:38:10.580Z"
   },
   {
    "duration": 14,
    "start_time": "2021-06-19T20:38:10.642Z"
   },
   {
    "duration": 12,
    "start_time": "2021-06-19T20:38:10.659Z"
   },
   {
    "duration": 15,
    "start_time": "2021-06-19T20:38:10.673Z"
   },
   {
    "duration": 37,
    "start_time": "2021-06-19T20:38:10.690Z"
   },
   {
    "duration": 9,
    "start_time": "2021-06-19T20:38:10.730Z"
   },
   {
    "duration": 29,
    "start_time": "2021-06-19T20:38:10.745Z"
   },
   {
    "duration": 49,
    "start_time": "2021-06-19T20:38:10.778Z"
   },
   {
    "duration": 14,
    "start_time": "2021-06-19T20:38:10.830Z"
   },
   {
    "duration": 13,
    "start_time": "2021-06-19T20:38:10.847Z"
   },
   {
    "duration": 21,
    "start_time": "2021-06-19T20:38:10.863Z"
   },
   {
    "duration": 38,
    "start_time": "2021-06-19T20:38:10.887Z"
   },
   {
    "duration": 8,
    "start_time": "2021-06-19T20:38:10.928Z"
   },
   {
    "duration": 23,
    "start_time": "2021-06-19T20:38:10.939Z"
   },
   {
    "duration": 23,
    "start_time": "2021-06-19T20:38:10.965Z"
   },
   {
    "duration": 16,
    "start_time": "2021-06-19T20:38:10.991Z"
   },
   {
    "duration": 26,
    "start_time": "2021-06-19T20:38:11.010Z"
   },
   {
    "duration": 15,
    "start_time": "2021-06-19T20:38:11.039Z"
   },
   {
    "duration": 151,
    "start_time": "2021-06-19T20:38:11.057Z"
   },
   {
    "duration": 226,
    "start_time": "2021-06-19T20:38:40.762Z"
   },
   {
    "duration": 217,
    "start_time": "2021-06-19T20:39:26.028Z"
   },
   {
    "duration": 237,
    "start_time": "2021-06-19T20:39:40.387Z"
   },
   {
    "duration": 212,
    "start_time": "2021-06-19T20:39:49.305Z"
   },
   {
    "duration": 17,
    "start_time": "2021-06-19T20:45:00.813Z"
   },
   {
    "duration": 5,
    "start_time": "2021-06-19T21:06:08.826Z"
   },
   {
    "duration": 74,
    "start_time": "2021-06-19T21:07:16.001Z"
   },
   {
    "duration": 50,
    "start_time": "2021-06-19T21:08:44.047Z"
   },
   {
    "duration": 52,
    "start_time": "2021-06-19T21:09:29.764Z"
   },
   {
    "duration": 49,
    "start_time": "2021-06-19T21:09:46.562Z"
   },
   {
    "duration": 49,
    "start_time": "2021-06-19T21:10:23.435Z"
   },
   {
    "duration": 8,
    "start_time": "2021-06-19T21:10:36.306Z"
   },
   {
    "duration": 383,
    "start_time": "2021-06-19T21:15:19.201Z"
   },
   {
    "duration": 278,
    "start_time": "2021-06-19T21:15:55.572Z"
   },
   {
    "duration": 8,
    "start_time": "2021-06-19T21:16:48.099Z"
   },
   {
    "duration": 266,
    "start_time": "2021-06-19T21:17:21.146Z"
   },
   {
    "duration": 20,
    "start_time": "2021-06-19T21:18:01.892Z"
   },
   {
    "duration": 22,
    "start_time": "2021-06-19T21:18:31.319Z"
   },
   {
    "duration": 19,
    "start_time": "2021-06-19T21:20:05.521Z"
   },
   {
    "duration": 23,
    "start_time": "2021-06-19T21:20:15.366Z"
   },
   {
    "duration": 28,
    "start_time": "2021-06-19T21:21:13.162Z"
   },
   {
    "duration": 28,
    "start_time": "2021-06-19T21:21:43.312Z"
   },
   {
    "duration": 30,
    "start_time": "2021-06-19T21:21:50.188Z"
   },
   {
    "duration": 25,
    "start_time": "2021-06-19T21:21:54.681Z"
   },
   {
    "duration": 85,
    "start_time": "2021-06-19T21:28:45.161Z"
   },
   {
    "duration": 4,
    "start_time": "2021-06-19T21:29:12.418Z"
   },
   {
    "duration": 1403,
    "start_time": "2021-06-19T21:30:39.400Z"
   },
   {
    "duration": 1111,
    "start_time": "2021-06-19T21:32:07.057Z"
   },
   {
    "duration": 6399,
    "start_time": "2021-06-19T21:32:28.365Z"
   },
   {
    "duration": 784,
    "start_time": "2021-06-19T21:35:51.369Z"
   },
   {
    "duration": 774,
    "start_time": "2021-06-19T21:36:25.127Z"
   },
   {
    "duration": 461,
    "start_time": "2021-06-19T21:38:21.981Z"
   },
   {
    "duration": 271,
    "start_time": "2021-06-19T21:38:32.641Z"
   },
   {
    "duration": 266,
    "start_time": "2021-06-19T21:38:42.525Z"
   },
   {
    "duration": 606,
    "start_time": "2021-06-19T21:40:47.571Z"
   },
   {
    "duration": 828,
    "start_time": "2021-06-19T21:43:51.157Z"
   },
   {
    "duration": 741,
    "start_time": "2021-06-19T21:48:38.493Z"
   },
   {
    "duration": 764,
    "start_time": "2021-06-19T21:51:50.375Z"
   },
   {
    "duration": 273,
    "start_time": "2021-06-19T21:56:28.474Z"
   },
   {
    "duration": 306,
    "start_time": "2021-06-19T21:58:29.800Z"
   },
   {
    "duration": 279,
    "start_time": "2021-06-19T22:01:45.273Z"
   },
   {
    "duration": 928,
    "start_time": "2021-06-19T22:03:03.823Z"
   },
   {
    "duration": 10,
    "start_time": "2021-06-19T22:03:04.753Z"
   },
   {
    "duration": 38,
    "start_time": "2021-06-19T22:03:04.766Z"
   },
   {
    "duration": 6,
    "start_time": "2021-06-19T22:03:04.807Z"
   },
   {
    "duration": 17,
    "start_time": "2021-06-19T22:03:04.815Z"
   },
   {
    "duration": 14,
    "start_time": "2021-06-19T22:03:04.834Z"
   },
   {
    "duration": 10,
    "start_time": "2021-06-19T22:03:04.851Z"
   },
   {
    "duration": 18,
    "start_time": "2021-06-19T22:03:04.865Z"
   },
   {
    "duration": 45,
    "start_time": "2021-06-19T22:03:04.887Z"
   },
   {
    "duration": 10,
    "start_time": "2021-06-19T22:03:04.934Z"
   },
   {
    "duration": 14,
    "start_time": "2021-06-19T22:03:04.946Z"
   },
   {
    "duration": 11,
    "start_time": "2021-06-19T22:03:04.962Z"
   },
   {
    "duration": 5,
    "start_time": "2021-06-19T22:03:04.975Z"
   },
   {
    "duration": 9,
    "start_time": "2021-06-19T22:03:05.024Z"
   },
   {
    "duration": 14,
    "start_time": "2021-06-19T22:03:05.035Z"
   },
   {
    "duration": 13,
    "start_time": "2021-06-19T22:03:05.052Z"
   },
   {
    "duration": 19,
    "start_time": "2021-06-19T22:03:05.068Z"
   },
   {
    "duration": 37,
    "start_time": "2021-06-19T22:03:05.089Z"
   },
   {
    "duration": 10,
    "start_time": "2021-06-19T22:03:05.129Z"
   },
   {
    "duration": 12,
    "start_time": "2021-06-19T22:03:05.141Z"
   },
   {
    "duration": 8,
    "start_time": "2021-06-19T22:03:05.155Z"
   },
   {
    "duration": 6,
    "start_time": "2021-06-19T22:03:05.165Z"
   },
   {
    "duration": 70,
    "start_time": "2021-06-19T22:03:05.176Z"
   },
   {
    "duration": 12,
    "start_time": "2021-06-19T22:03:05.249Z"
   },
   {
    "duration": 11,
    "start_time": "2021-06-19T22:03:05.263Z"
   },
   {
    "duration": 13,
    "start_time": "2021-06-19T22:03:05.276Z"
   },
   {
    "duration": 43,
    "start_time": "2021-06-19T22:03:05.291Z"
   },
   {
    "duration": 10,
    "start_time": "2021-06-19T22:03:05.336Z"
   },
   {
    "duration": 5,
    "start_time": "2021-06-19T22:03:05.349Z"
   },
   {
    "duration": 9,
    "start_time": "2021-06-19T22:03:05.357Z"
   },
   {
    "duration": 7,
    "start_time": "2021-06-19T22:03:05.368Z"
   },
   {
    "duration": 50,
    "start_time": "2021-06-19T22:03:05.377Z"
   },
   {
    "duration": 7,
    "start_time": "2021-06-19T22:03:05.429Z"
   },
   {
    "duration": 16,
    "start_time": "2021-06-19T22:03:05.438Z"
   },
   {
    "duration": 148,
    "start_time": "2021-06-19T22:03:05.456Z"
   },
   {
    "duration": 23,
    "start_time": "2021-06-19T22:03:05.606Z"
   },
   {
    "duration": 8,
    "start_time": "2021-06-19T22:03:05.632Z"
   },
   {
    "duration": 31,
    "start_time": "2021-06-19T22:03:05.642Z"
   },
   {
    "duration": 403,
    "start_time": "2021-06-19T22:03:05.675Z"
   },
   {
    "duration": 266,
    "start_time": "2021-06-19T22:03:28.849Z"
   },
   {
    "duration": 438,
    "start_time": "2021-06-19T22:09:06.582Z"
   },
   {
    "duration": 6750,
    "start_time": "2021-06-19T22:11:41.863Z"
   },
   {
    "duration": 289,
    "start_time": "2021-06-19T22:12:34.394Z"
   },
   {
    "duration": 453,
    "start_time": "2021-06-19T22:15:27.821Z"
   },
   {
    "duration": 798,
    "start_time": "2021-06-19T22:16:20.448Z"
   },
   {
    "duration": 934,
    "start_time": "2021-06-19T22:16:37.909Z"
   },
   {
    "duration": 980,
    "start_time": "2021-06-19T22:16:56.115Z"
   },
   {
    "duration": 934,
    "start_time": "2021-06-19T22:17:43.111Z"
   },
   {
    "duration": 6,
    "start_time": "2021-06-19T22:21:34.415Z"
   },
   {
    "duration": 7,
    "start_time": "2021-06-19T22:22:14.444Z"
   },
   {
    "duration": 50,
    "start_time": "2021-06-19T22:22:25.187Z"
   },
   {
    "duration": 7,
    "start_time": "2021-06-19T22:22:49.575Z"
   },
   {
    "duration": 945,
    "start_time": "2021-06-20T17:26:57.738Z"
   },
   {
    "duration": 9,
    "start_time": "2021-06-20T17:26:58.685Z"
   },
   {
    "duration": 11,
    "start_time": "2021-06-20T17:26:58.710Z"
   },
   {
    "duration": 7,
    "start_time": "2021-06-20T17:26:58.724Z"
   },
   {
    "duration": 10,
    "start_time": "2021-06-20T17:26:58.733Z"
   },
   {
    "duration": 12,
    "start_time": "2021-06-20T17:26:58.745Z"
   },
   {
    "duration": 54,
    "start_time": "2021-06-20T17:26:58.759Z"
   },
   {
    "duration": 9,
    "start_time": "2021-06-20T17:26:58.817Z"
   },
   {
    "duration": 10,
    "start_time": "2021-06-20T17:26:58.829Z"
   },
   {
    "duration": 9,
    "start_time": "2021-06-20T17:26:58.841Z"
   },
   {
    "duration": 13,
    "start_time": "2021-06-20T17:26:58.852Z"
   },
   {
    "duration": 46,
    "start_time": "2021-06-20T17:26:58.867Z"
   },
   {
    "duration": 4,
    "start_time": "2021-06-20T17:26:58.916Z"
   },
   {
    "duration": 11,
    "start_time": "2021-06-20T17:26:58.922Z"
   },
   {
    "duration": 10,
    "start_time": "2021-06-20T17:26:58.935Z"
   },
   {
    "duration": 8,
    "start_time": "2021-06-20T17:26:58.948Z"
   },
   {
    "duration": 52,
    "start_time": "2021-06-20T17:26:58.959Z"
   },
   {
    "duration": 11,
    "start_time": "2021-06-20T17:26:59.014Z"
   },
   {
    "duration": 9,
    "start_time": "2021-06-20T17:26:59.027Z"
   },
   {
    "duration": 12,
    "start_time": "2021-06-20T17:26:59.038Z"
   },
   {
    "duration": 8,
    "start_time": "2021-06-20T17:26:59.052Z"
   },
   {
    "duration": 47,
    "start_time": "2021-06-20T17:26:59.063Z"
   },
   {
    "duration": 29,
    "start_time": "2021-06-20T17:26:59.115Z"
   },
   {
    "duration": 11,
    "start_time": "2021-06-20T17:26:59.147Z"
   },
   {
    "duration": 20,
    "start_time": "2021-06-20T17:26:59.160Z"
   },
   {
    "duration": 34,
    "start_time": "2021-06-20T17:26:59.183Z"
   },
   {
    "duration": 9,
    "start_time": "2021-06-20T17:26:59.220Z"
   },
   {
    "duration": 12,
    "start_time": "2021-06-20T17:26:59.232Z"
   },
   {
    "duration": 7,
    "start_time": "2021-06-20T17:26:59.247Z"
   },
   {
    "duration": 57,
    "start_time": "2021-06-20T17:26:59.257Z"
   },
   {
    "duration": 8,
    "start_time": "2021-06-20T17:26:59.317Z"
   },
   {
    "duration": 12,
    "start_time": "2021-06-20T17:26:59.327Z"
   },
   {
    "duration": 7,
    "start_time": "2021-06-20T17:26:59.342Z"
   },
   {
    "duration": 63,
    "start_time": "2021-06-20T17:26:59.352Z"
   },
   {
    "duration": 146,
    "start_time": "2021-06-20T17:26:59.418Z"
   },
   {
    "duration": 20,
    "start_time": "2021-06-20T17:26:59.567Z"
   },
   {
    "duration": 26,
    "start_time": "2021-06-20T17:26:59.590Z"
   },
   {
    "duration": 29,
    "start_time": "2021-06-20T17:26:59.619Z"
   },
   {
    "duration": 985,
    "start_time": "2021-06-20T17:26:59.650Z"
   },
   {
    "duration": 7,
    "start_time": "2021-06-20T17:27:00.637Z"
   },
   {
    "duration": 786,
    "start_time": "2021-06-20T17:27:00.647Z"
   },
   {
    "duration": 1444,
    "start_time": "2021-06-20T17:27:13.644Z"
   },
   {
    "duration": 384,
    "start_time": "2021-06-20T17:27:28.800Z"
   },
   {
    "duration": 330,
    "start_time": "2021-06-20T17:27:37.153Z"
   },
   {
    "duration": 520,
    "start_time": "2021-06-20T17:27:44.241Z"
   },
   {
    "duration": 1165,
    "start_time": "2021-06-20T17:29:09.039Z"
   },
   {
    "duration": 1718,
    "start_time": "2021-06-20T17:30:19.922Z"
   },
   {
    "duration": 2224,
    "start_time": "2021-06-20T17:32:40.709Z"
   },
   {
    "duration": 2194,
    "start_time": "2021-06-20T17:33:58.457Z"
   },
   {
    "duration": 554,
    "start_time": "2021-06-20T17:54:21.501Z"
   },
   {
    "duration": 540,
    "start_time": "2021-06-20T17:54:50.771Z"
   },
   {
    "duration": 550,
    "start_time": "2021-06-20T17:55:00.999Z"
   },
   {
    "duration": 733,
    "start_time": "2021-06-20T17:56:24.229Z"
   },
   {
    "duration": 509,
    "start_time": "2021-06-20T18:18:26.874Z"
   },
   {
    "duration": 59,
    "start_time": "2021-06-20T18:18:49.364Z"
   },
   {
    "duration": 51,
    "start_time": "2021-06-20T18:19:05.675Z"
   },
   {
    "duration": 110,
    "start_time": "2021-06-20T18:20:39.162Z"
   },
   {
    "duration": 111,
    "start_time": "2021-06-20T18:20:49.291Z"
   },
   {
    "duration": 396,
    "start_time": "2021-06-20T18:20:55.733Z"
   },
   {
    "duration": 372,
    "start_time": "2021-06-20T18:21:25.344Z"
   },
   {
    "duration": 354,
    "start_time": "2021-06-20T18:21:47.372Z"
   },
   {
    "duration": 753,
    "start_time": "2021-06-20T18:22:10.460Z"
   },
   {
    "duration": 309,
    "start_time": "2021-06-20T18:23:13.381Z"
   },
   {
    "duration": 39,
    "start_time": "2021-06-20T18:23:22.466Z"
   },
   {
    "duration": 50,
    "start_time": "2021-06-20T18:23:36.536Z"
   },
   {
    "duration": 48,
    "start_time": "2021-06-20T18:24:00.406Z"
   },
   {
    "duration": 44,
    "start_time": "2021-06-20T18:24:25.976Z"
   },
   {
    "duration": 931,
    "start_time": "2021-06-20T18:24:36.439Z"
   },
   {
    "duration": 10,
    "start_time": "2021-06-20T18:24:37.373Z"
   },
   {
    "duration": 26,
    "start_time": "2021-06-20T18:24:37.386Z"
   },
   {
    "duration": 21,
    "start_time": "2021-06-20T18:24:37.415Z"
   },
   {
    "duration": 14,
    "start_time": "2021-06-20T18:24:37.438Z"
   },
   {
    "duration": 25,
    "start_time": "2021-06-20T18:24:37.454Z"
   },
   {
    "duration": 27,
    "start_time": "2021-06-20T18:24:37.482Z"
   },
   {
    "duration": 9,
    "start_time": "2021-06-20T18:24:37.513Z"
   },
   {
    "duration": 22,
    "start_time": "2021-06-20T18:24:37.525Z"
   },
   {
    "duration": 29,
    "start_time": "2021-06-20T18:24:37.550Z"
   },
   {
    "duration": 27,
    "start_time": "2021-06-20T18:24:37.582Z"
   },
   {
    "duration": 16,
    "start_time": "2021-06-20T18:24:37.611Z"
   },
   {
    "duration": 24,
    "start_time": "2021-06-20T18:24:37.629Z"
   },
   {
    "duration": 24,
    "start_time": "2021-06-20T18:24:37.656Z"
   },
   {
    "duration": 16,
    "start_time": "2021-06-20T18:24:37.682Z"
   },
   {
    "duration": 25,
    "start_time": "2021-06-20T18:24:37.700Z"
   },
   {
    "duration": 25,
    "start_time": "2021-06-20T18:24:37.727Z"
   },
   {
    "duration": 14,
    "start_time": "2021-06-20T18:24:37.754Z"
   },
   {
    "duration": 22,
    "start_time": "2021-06-20T18:24:37.770Z"
   },
   {
    "duration": 11,
    "start_time": "2021-06-20T18:24:37.795Z"
   },
   {
    "duration": 25,
    "start_time": "2021-06-20T18:24:37.808Z"
   },
   {
    "duration": 16,
    "start_time": "2021-06-20T18:24:37.836Z"
   },
   {
    "duration": 36,
    "start_time": "2021-06-20T18:24:37.859Z"
   },
   {
    "duration": 13,
    "start_time": "2021-06-20T18:24:37.899Z"
   },
   {
    "duration": 23,
    "start_time": "2021-06-20T18:24:37.915Z"
   },
   {
    "duration": 12,
    "start_time": "2021-06-20T18:24:37.942Z"
   },
   {
    "duration": 17,
    "start_time": "2021-06-20T18:24:37.957Z"
   },
   {
    "duration": 33,
    "start_time": "2021-06-20T18:24:37.976Z"
   },
   {
    "duration": 8,
    "start_time": "2021-06-20T18:24:38.011Z"
   },
   {
    "duration": 23,
    "start_time": "2021-06-20T18:24:38.022Z"
   },
   {
    "duration": 34,
    "start_time": "2021-06-20T18:24:38.048Z"
   },
   {
    "duration": 20,
    "start_time": "2021-06-20T18:24:38.085Z"
   },
   {
    "duration": 11,
    "start_time": "2021-06-20T18:24:38.108Z"
   },
   {
    "duration": 26,
    "start_time": "2021-06-20T18:24:38.121Z"
   },
   {
    "duration": 146,
    "start_time": "2021-06-20T18:24:38.150Z"
   },
   {
    "duration": 57,
    "start_time": "2021-06-20T18:24:38.299Z"
   },
   {
    "duration": 7,
    "start_time": "2021-06-20T18:24:38.359Z"
   },
   {
    "duration": 55,
    "start_time": "2021-06-20T18:24:38.368Z"
   },
   {
    "duration": 947,
    "start_time": "2021-06-20T18:24:38.425Z"
   },
   {
    "duration": 7,
    "start_time": "2021-06-20T18:24:39.374Z"
   },
   {
    "duration": 2442,
    "start_time": "2021-06-20T18:24:39.383Z"
   },
   {
    "duration": 575,
    "start_time": "2021-06-20T18:24:41.828Z"
   },
   {
    "duration": 32,
    "start_time": "2021-06-20T18:35:52.179Z"
   },
   {
    "duration": 20,
    "start_time": "2021-06-20T18:36:45.532Z"
   },
   {
    "duration": 1412,
    "start_time": "2021-06-20T18:38:38.556Z"
   },
   {
    "duration": 2136,
    "start_time": "2021-06-20T18:54:46.996Z"
   },
   {
    "duration": 2111,
    "start_time": "2021-06-20T18:55:11.486Z"
   },
   {
    "duration": 36,
    "start_time": "2021-06-20T18:59:10.587Z"
   },
   {
    "duration": 1887,
    "start_time": "2021-06-20T19:00:33.098Z"
   },
   {
    "duration": 1954,
    "start_time": "2021-06-20T19:02:07.837Z"
   },
   {
    "duration": 47,
    "start_time": "2021-06-20T19:31:52.504Z"
   },
   {
    "duration": 13,
    "start_time": "2021-06-20T19:32:43.158Z"
   },
   {
    "duration": 121,
    "start_time": "2021-06-20T19:32:55.870Z"
   },
   {
    "duration": 16,
    "start_time": "2021-06-20T19:32:59.478Z"
   },
   {
    "duration": 9,
    "start_time": "2021-06-20T19:40:08.972Z"
   },
   {
    "duration": 11,
    "start_time": "2021-06-20T19:40:18.535Z"
   },
   {
    "duration": 11,
    "start_time": "2021-06-20T19:40:39.573Z"
   },
   {
    "duration": 10,
    "start_time": "2021-06-20T19:40:48.635Z"
   },
   {
    "duration": 327,
    "start_time": "2021-06-20T19:41:12.205Z"
   },
   {
    "duration": 10,
    "start_time": "2021-06-20T19:41:20.891Z"
   },
   {
    "duration": 15,
    "start_time": "2021-06-20T19:41:25.565Z"
   },
   {
    "duration": 7752,
    "start_time": "2021-06-20T19:41:31.855Z"
   },
   {
    "duration": 7904,
    "start_time": "2021-06-20T19:41:41.814Z"
   },
   {
    "duration": 12,
    "start_time": "2021-06-20T19:41:51.822Z"
   },
   {
    "duration": 8016,
    "start_time": "2021-06-20T19:42:25.921Z"
   },
   {
    "duration": 13,
    "start_time": "2021-06-20T19:42:34.058Z"
   },
   {
    "duration": 10,
    "start_time": "2021-06-20T19:49:51.330Z"
   },
   {
    "duration": 13,
    "start_time": "2021-06-20T19:50:37.356Z"
   },
   {
    "duration": 19,
    "start_time": "2021-06-20T19:51:19.592Z"
   },
   {
    "duration": 79,
    "start_time": "2021-06-20T19:53:08.419Z"
   },
   {
    "duration": 44,
    "start_time": "2021-06-20T19:55:04.489Z"
   },
   {
    "duration": 82,
    "start_time": "2021-06-20T19:55:35.215Z"
   },
   {
    "duration": 47,
    "start_time": "2021-06-20T19:55:48.190Z"
   },
   {
    "duration": 318,
    "start_time": "2021-06-20T19:56:24.484Z"
   },
   {
    "duration": 332,
    "start_time": "2021-06-20T19:56:31.424Z"
   },
   {
    "duration": 48,
    "start_time": "2021-06-20T19:56:46.525Z"
   },
   {
    "duration": 8114,
    "start_time": "2021-06-20T19:57:18.613Z"
   },
   {
    "duration": 374,
    "start_time": "2021-06-20T19:57:35.623Z"
   },
   {
    "duration": 49,
    "start_time": "2021-06-20T19:57:46.356Z"
   },
   {
    "duration": 12,
    "start_time": "2021-06-20T19:58:17.914Z"
   },
   {
    "duration": 15,
    "start_time": "2021-06-20T20:00:14.386Z"
   },
   {
    "duration": 8421,
    "start_time": "2021-06-20T20:01:15.902Z"
   },
   {
    "duration": 7870,
    "start_time": "2021-06-20T20:01:27.468Z"
   },
   {
    "duration": 354,
    "start_time": "2021-06-20T20:03:54.509Z"
   },
   {
    "duration": 417,
    "start_time": "2021-06-20T20:04:09.266Z"
   },
   {
    "duration": 312,
    "start_time": "2021-06-20T20:05:13.664Z"
   },
   {
    "duration": 343,
    "start_time": "2021-06-20T20:10:25.052Z"
   },
   {
    "duration": 10,
    "start_time": "2021-06-20T20:10:33.056Z"
   },
   {
    "duration": 27,
    "start_time": "2021-06-20T20:10:48.913Z"
   },
   {
    "duration": 2412,
    "start_time": "2021-06-20T20:11:18.702Z"
   },
   {
    "duration": 304,
    "start_time": "2021-06-20T20:11:35.864Z"
   },
   {
    "duration": 349,
    "start_time": "2021-06-20T20:11:53.336Z"
   },
   {
    "duration": 318,
    "start_time": "2021-06-20T20:12:24.993Z"
   },
   {
    "duration": 938,
    "start_time": "2021-06-20T20:12:41.115Z"
   },
   {
    "duration": 9,
    "start_time": "2021-06-20T20:12:42.055Z"
   },
   {
    "duration": 15,
    "start_time": "2021-06-20T20:12:42.067Z"
   },
   {
    "duration": 26,
    "start_time": "2021-06-20T20:12:42.085Z"
   },
   {
    "duration": 11,
    "start_time": "2021-06-20T20:12:42.113Z"
   },
   {
    "duration": 12,
    "start_time": "2021-06-20T20:12:42.126Z"
   },
   {
    "duration": 8,
    "start_time": "2021-06-20T20:12:42.141Z"
   },
   {
    "duration": 10,
    "start_time": "2021-06-20T20:12:42.153Z"
   },
   {
    "duration": 11,
    "start_time": "2021-06-20T20:12:42.209Z"
   },
   {
    "duration": 9,
    "start_time": "2021-06-20T20:12:42.223Z"
   },
   {
    "duration": 13,
    "start_time": "2021-06-20T20:12:42.235Z"
   },
   {
    "duration": 14,
    "start_time": "2021-06-20T20:12:42.251Z"
   },
   {
    "duration": 5,
    "start_time": "2021-06-20T20:12:42.310Z"
   },
   {
    "duration": 13,
    "start_time": "2021-06-20T20:12:42.317Z"
   },
   {
    "duration": 12,
    "start_time": "2021-06-20T20:12:42.333Z"
   },
   {
    "duration": 7,
    "start_time": "2021-06-20T20:12:42.347Z"
   },
   {
    "duration": 11,
    "start_time": "2021-06-20T20:12:42.357Z"
   },
   {
    "duration": 40,
    "start_time": "2021-06-20T20:12:42.371Z"
   },
   {
    "duration": 10,
    "start_time": "2021-06-20T20:12:42.414Z"
   },
   {
    "duration": 11,
    "start_time": "2021-06-20T20:12:42.427Z"
   },
   {
    "duration": 8,
    "start_time": "2021-06-20T20:12:42.440Z"
   },
   {
    "duration": 7,
    "start_time": "2021-06-20T20:12:42.450Z"
   },
   {
    "duration": 71,
    "start_time": "2021-06-20T20:12:42.463Z"
   },
   {
    "duration": 12,
    "start_time": "2021-06-20T20:12:42.537Z"
   },
   {
    "duration": 12,
    "start_time": "2021-06-20T20:12:42.552Z"
   },
   {
    "duration": 46,
    "start_time": "2021-06-20T20:12:42.566Z"
   },
   {
    "duration": 9,
    "start_time": "2021-06-20T20:12:42.614Z"
   },
   {
    "duration": 12,
    "start_time": "2021-06-20T20:12:42.626Z"
   },
   {
    "duration": 7,
    "start_time": "2021-06-20T20:12:42.641Z"
   },
   {
    "duration": 8,
    "start_time": "2021-06-20T20:12:42.651Z"
   },
   {
    "duration": 51,
    "start_time": "2021-06-20T20:12:42.662Z"
   },
   {
    "duration": 10,
    "start_time": "2021-06-20T20:12:42.716Z"
   },
   {
    "duration": 7,
    "start_time": "2021-06-20T20:12:42.729Z"
   },
   {
    "duration": 13,
    "start_time": "2021-06-20T20:12:42.740Z"
   },
   {
    "duration": 172,
    "start_time": "2021-06-20T20:12:42.756Z"
   },
   {
    "duration": 49,
    "start_time": "2021-06-20T20:12:42.930Z"
   },
   {
    "duration": 28,
    "start_time": "2021-06-20T20:12:42.982Z"
   },
   {
    "duration": 28,
    "start_time": "2021-06-20T20:12:43.013Z"
   },
   {
    "duration": 1076,
    "start_time": "2021-06-20T20:12:43.044Z"
   },
   {
    "duration": 8,
    "start_time": "2021-06-20T20:12:44.122Z"
   },
   {
    "duration": 2378,
    "start_time": "2021-06-20T20:12:44.132Z"
   },
   {
    "duration": 617,
    "start_time": "2021-06-20T20:12:46.512Z"
   },
   {
    "duration": 30,
    "start_time": "2021-06-20T20:12:47.132Z"
   },
   {
    "duration": 63,
    "start_time": "2021-06-20T20:12:47.164Z"
   },
   {
    "duration": 2181,
    "start_time": "2021-06-20T20:12:47.230Z"
   },
   {
    "duration": 432,
    "start_time": "2021-06-20T20:12:49.413Z"
   },
   {
    "duration": 68,
    "start_time": "2021-06-20T20:14:04.668Z"
   },
   {
    "duration": 104,
    "start_time": "2021-06-20T20:14:35.909Z"
   },
   {
    "duration": 605,
    "start_time": "2021-06-20T20:15:12.692Z"
   },
   {
    "duration": 2185,
    "start_time": "2021-06-20T20:15:23.934Z"
   },
   {
    "duration": 332,
    "start_time": "2021-06-20T20:15:42.505Z"
   },
   {
    "duration": 2250,
    "start_time": "2021-06-20T20:16:44.324Z"
   },
   {
    "duration": 10,
    "start_time": "2021-06-20T20:18:50.865Z"
   },
   {
    "duration": 26,
    "start_time": "2021-06-20T20:19:04.029Z"
   },
   {
    "duration": 290,
    "start_time": "2021-06-20T20:19:30.147Z"
   },
   {
    "duration": 11,
    "start_time": "2021-06-20T20:19:33.808Z"
   },
   {
    "duration": 383,
    "start_time": "2021-06-20T20:19:45.393Z"
   },
   {
    "duration": 11,
    "start_time": "2021-06-20T20:20:37.026Z"
   },
   {
    "duration": 11,
    "start_time": "2021-06-20T20:20:43.681Z"
   },
   {
    "duration": 7870,
    "start_time": "2021-06-20T20:50:25.880Z"
   },
   {
    "duration": 15,
    "start_time": "2021-06-20T20:51:16.234Z"
   },
   {
    "duration": 24,
    "start_time": "2021-06-20T20:51:37.176Z"
   },
   {
    "duration": 16,
    "start_time": "2021-06-20T20:52:57.308Z"
   },
   {
    "duration": 21,
    "start_time": "2021-06-20T20:54:01.864Z"
   },
   {
    "duration": 77,
    "start_time": "2021-06-20T20:55:35.732Z"
   },
   {
    "duration": 25,
    "start_time": "2021-06-20T20:56:50.722Z"
   },
   {
    "duration": 24,
    "start_time": "2021-06-20T20:57:14.895Z"
   },
   {
    "duration": 25,
    "start_time": "2021-06-20T20:57:31.957Z"
   },
   {
    "duration": 24,
    "start_time": "2021-06-20T21:00:13.572Z"
   },
   {
    "duration": 24,
    "start_time": "2021-06-20T21:00:35.369Z"
   },
   {
    "duration": 31,
    "start_time": "2021-06-20T21:00:50.807Z"
   },
   {
    "duration": 116,
    "start_time": "2021-06-20T21:01:16.430Z"
   },
   {
    "duration": 33,
    "start_time": "2021-06-20T21:01:25.976Z"
   },
   {
    "duration": 341,
    "start_time": "2021-06-20T21:03:06.347Z"
   },
   {
    "duration": 368,
    "start_time": "2021-06-20T21:04:09.168Z"
   },
   {
    "duration": 24,
    "start_time": "2021-06-20T21:05:03.999Z"
   },
   {
    "duration": 458,
    "start_time": "2021-06-20T21:06:01.926Z"
   },
   {
    "duration": 372,
    "start_time": "2021-06-20T21:06:16.671Z"
   },
   {
    "duration": 18,
    "start_time": "2021-06-20T21:06:41.398Z"
   },
   {
    "duration": 17,
    "start_time": "2021-06-20T21:07:00.161Z"
   },
   {
    "duration": 24,
    "start_time": "2021-06-20T21:07:23.255Z"
   },
   {
    "duration": 24,
    "start_time": "2021-06-20T21:07:34.589Z"
   },
   {
    "duration": 23,
    "start_time": "2021-06-20T21:07:43.184Z"
   },
   {
    "duration": 54,
    "start_time": "2021-06-20T21:09:48.091Z"
   },
   {
    "duration": 63,
    "start_time": "2021-06-20T21:09:56.499Z"
   },
   {
    "duration": 64,
    "start_time": "2021-06-20T21:10:30.622Z"
   },
   {
    "duration": 63,
    "start_time": "2021-06-20T21:10:42.806Z"
   },
   {
    "duration": 56,
    "start_time": "2021-06-20T21:14:18.341Z"
   },
   {
    "duration": 409,
    "start_time": "2021-06-20T21:14:37.019Z"
   },
   {
    "duration": 369,
    "start_time": "2021-06-20T21:16:39.207Z"
   },
   {
    "duration": 57,
    "start_time": "2021-06-20T21:16:46.674Z"
   },
   {
    "duration": 7958,
    "start_time": "2021-06-20T21:20:11.874Z"
   },
   {
    "duration": 67,
    "start_time": "2021-06-20T21:20:52.948Z"
   },
   {
    "duration": 75,
    "start_time": "2021-06-20T21:21:08.126Z"
   },
   {
    "duration": 72,
    "start_time": "2021-06-20T21:22:04.156Z"
   },
   {
    "duration": 75,
    "start_time": "2021-06-20T21:22:22.126Z"
   },
   {
    "duration": 70,
    "start_time": "2021-06-20T21:23:56.662Z"
   },
   {
    "duration": 69,
    "start_time": "2021-06-20T21:24:31.256Z"
   },
   {
    "duration": 72,
    "start_time": "2021-06-20T21:24:46.391Z"
   },
   {
    "duration": 63,
    "start_time": "2021-06-20T21:25:22.393Z"
   },
   {
    "duration": 398,
    "start_time": "2021-06-20T21:26:44.843Z"
   },
   {
    "duration": -84999,
    "start_time": "2021-06-20T21:28:29.967Z"
   },
   {
    "duration": 1001,
    "start_time": "2021-06-20T21:27:26.641Z"
   },
   {
    "duration": 9,
    "start_time": "2021-06-20T21:27:27.644Z"
   },
   {
    "duration": 10,
    "start_time": "2021-06-20T21:27:27.656Z"
   },
   {
    "duration": 41,
    "start_time": "2021-06-20T21:27:27.669Z"
   },
   {
    "duration": 9,
    "start_time": "2021-06-20T21:27:27.713Z"
   },
   {
    "duration": 18,
    "start_time": "2021-06-20T21:27:27.725Z"
   },
   {
    "duration": 8,
    "start_time": "2021-06-20T21:27:27.746Z"
   },
   {
    "duration": 9,
    "start_time": "2021-06-20T21:27:27.758Z"
   },
   {
    "duration": 45,
    "start_time": "2021-06-20T21:27:27.770Z"
   },
   {
    "duration": 10,
    "start_time": "2021-06-20T21:27:27.817Z"
   },
   {
    "duration": 14,
    "start_time": "2021-06-20T21:27:27.829Z"
   },
   {
    "duration": 10,
    "start_time": "2021-06-20T21:27:27.845Z"
   },
   {
    "duration": 4,
    "start_time": "2021-06-20T21:27:27.857Z"
   },
   {
    "duration": 47,
    "start_time": "2021-06-20T21:27:27.863Z"
   },
   {
    "duration": 10,
    "start_time": "2021-06-20T21:27:27.912Z"
   },
   {
    "duration": 12,
    "start_time": "2021-06-20T21:27:27.924Z"
   },
   {
    "duration": 10,
    "start_time": "2021-06-20T21:27:27.938Z"
   },
   {
    "duration": 14,
    "start_time": "2021-06-20T21:27:27.951Z"
   },
   {
    "duration": 46,
    "start_time": "2021-06-20T21:27:27.968Z"
   },
   {
    "duration": 10,
    "start_time": "2021-06-20T21:27:28.016Z"
   },
   {
    "duration": 7,
    "start_time": "2021-06-20T21:27:28.029Z"
   },
   {
    "duration": 8,
    "start_time": "2021-06-20T21:27:28.038Z"
   },
   {
    "duration": 62,
    "start_time": "2021-06-20T21:27:28.051Z"
   },
   {
    "duration": 12,
    "start_time": "2021-06-20T21:27:28.115Z"
   },
   {
    "duration": 11,
    "start_time": "2021-06-20T21:27:28.130Z"
   },
   {
    "duration": 7,
    "start_time": "2021-06-20T21:27:28.143Z"
   },
   {
    "duration": 8,
    "start_time": "2021-06-20T21:27:28.152Z"
   },
   {
    "duration": 48,
    "start_time": "2021-06-20T21:27:28.162Z"
   },
   {
    "duration": 7,
    "start_time": "2021-06-20T21:27:28.212Z"
   },
   {
    "duration": 14,
    "start_time": "2021-06-20T21:27:28.221Z"
   },
   {
    "duration": 5,
    "start_time": "2021-06-20T21:27:28.238Z"
   },
   {
    "duration": 12,
    "start_time": "2021-06-20T21:27:28.245Z"
   },
   {
    "duration": 6,
    "start_time": "2021-06-20T21:27:28.259Z"
   },
   {
    "duration": 50,
    "start_time": "2021-06-20T21:27:28.267Z"
   },
   {
    "duration": 151,
    "start_time": "2021-06-20T21:27:28.320Z"
   },
   {
    "duration": 56,
    "start_time": "2021-06-20T21:27:28.474Z"
   },
   {
    "duration": 8,
    "start_time": "2021-06-20T21:27:28.532Z"
   },
   {
    "duration": 30,
    "start_time": "2021-06-20T21:27:28.542Z"
   },
   {
    "duration": 998,
    "start_time": "2021-06-20T21:27:28.575Z"
   },
   {
    "duration": 8,
    "start_time": "2021-06-20T21:27:29.575Z"
   },
   {
    "duration": 2438,
    "start_time": "2021-06-20T21:27:29.585Z"
   },
   {
    "duration": 642,
    "start_time": "2021-06-20T21:27:32.026Z"
   },
   {
    "duration": 18,
    "start_time": "2021-06-20T21:27:32.671Z"
   },
   {
    "duration": 49,
    "start_time": "2021-06-20T21:27:32.692Z"
   },
   {
    "duration": 2056,
    "start_time": "2021-06-20T21:27:32.743Z"
   },
   {
    "duration": 69,
    "start_time": "2021-06-20T21:27:34.809Z"
   },
   {
    "duration": 78,
    "start_time": "2021-06-20T21:28:47.234Z"
   },
   {
    "duration": 63,
    "start_time": "2021-06-20T21:29:08.523Z"
   },
   {
    "duration": 74,
    "start_time": "2021-06-20T21:29:16.176Z"
   },
   {
    "duration": 73,
    "start_time": "2021-06-20T21:31:22.077Z"
   },
   {
    "duration": 77,
    "start_time": "2021-06-20T21:32:08.663Z"
   },
   {
    "duration": 117,
    "start_time": "2021-06-20T21:33:50.639Z"
   },
   {
    "duration": 116,
    "start_time": "2021-06-20T21:34:34.522Z"
   },
   {
    "duration": 78,
    "start_time": "2021-06-20T21:35:44.879Z"
   },
   {
    "duration": 79,
    "start_time": "2021-06-20T21:37:01.990Z"
   },
   {
    "duration": 77,
    "start_time": "2021-06-20T21:37:26.612Z"
   },
   {
    "duration": 81,
    "start_time": "2021-06-20T21:37:53.034Z"
   },
   {
    "duration": 81,
    "start_time": "2021-06-20T21:38:03.846Z"
   },
   {
    "duration": 76,
    "start_time": "2021-06-20T21:38:16.355Z"
   },
   {
    "duration": 76,
    "start_time": "2021-06-20T21:38:54.806Z"
   },
   {
    "duration": 73,
    "start_time": "2021-06-20T21:39:13.048Z"
   },
   {
    "duration": 66,
    "start_time": "2021-06-20T21:39:25.102Z"
   },
   {
    "duration": 68,
    "start_time": "2021-06-20T21:39:54.344Z"
   },
   {
    "duration": 71,
    "start_time": "2021-06-20T21:40:04.716Z"
   },
   {
    "duration": 442,
    "start_time": "2021-06-20T21:43:08.269Z"
   },
   {
    "duration": 10,
    "start_time": "2021-06-20T21:43:28.381Z"
   },
   {
    "duration": 64,
    "start_time": "2021-06-20T21:44:24.169Z"
   },
   {
    "duration": 11,
    "start_time": "2021-06-20T21:45:26.332Z"
   },
   {
    "duration": 12,
    "start_time": "2021-06-20T21:45:33.588Z"
   },
   {
    "duration": 12,
    "start_time": "2021-06-20T21:45:49.747Z"
   },
   {
    "duration": 39,
    "start_time": "2021-06-20T21:45:58.456Z"
   },
   {
    "duration": 70,
    "start_time": "2021-06-20T21:46:19.606Z"
   },
   {
    "duration": 14,
    "start_time": "2021-06-20T21:50:51.051Z"
   },
   {
    "duration": 70,
    "start_time": "2021-06-20T21:50:57.905Z"
   },
   {
    "duration": 71,
    "start_time": "2021-06-20T21:51:22.441Z"
   },
   {
    "duration": 438,
    "start_time": "2021-06-20T21:51:36.946Z"
   },
   {
    "duration": 72,
    "start_time": "2021-06-20T21:51:49.334Z"
   },
   {
    "duration": 72,
    "start_time": "2021-06-20T21:52:03.157Z"
   },
   {
    "duration": 342,
    "start_time": "2021-06-20T21:52:22.048Z"
   },
   {
    "duration": 76,
    "start_time": "2021-06-20T21:52:37.824Z"
   },
   {
    "duration": 382,
    "start_time": "2021-06-20T21:53:17.375Z"
   },
   {
    "duration": 21,
    "start_time": "2021-06-20T21:53:22.007Z"
   },
   {
    "duration": 22,
    "start_time": "2021-06-20T21:53:36.367Z"
   },
   {
    "duration": 22,
    "start_time": "2021-06-20T21:53:44.388Z"
   },
   {
    "duration": 21,
    "start_time": "2021-06-20T21:53:49.822Z"
   },
   {
    "duration": 23,
    "start_time": "2021-06-20T21:55:33.960Z"
   },
   {
    "duration": 72,
    "start_time": "2021-06-20T21:57:00.976Z"
   },
   {
    "duration": 18,
    "start_time": "2021-06-20T21:57:22.089Z"
   },
   {
    "duration": 21,
    "start_time": "2021-06-20T21:57:30.521Z"
   },
   {
    "duration": 59,
    "start_time": "2021-06-20T21:57:45.592Z"
   },
   {
    "duration": 23,
    "start_time": "2021-06-20T21:58:45.591Z"
   },
   {
    "duration": 71,
    "start_time": "2021-06-20T21:59:38.951Z"
   },
   {
    "duration": 123,
    "start_time": "2021-06-20T22:00:30.919Z"
   },
   {
    "duration": 299,
    "start_time": "2021-06-20T22:00:35.475Z"
   },
   {
    "duration": 331,
    "start_time": "2021-06-20T22:00:41.664Z"
   },
   {
    "duration": 26,
    "start_time": "2021-06-20T22:01:04.483Z"
   },
   {
    "duration": 572,
    "start_time": "2021-06-20T22:01:45.804Z"
   },
   {
    "duration": 30,
    "start_time": "2021-06-20T22:02:32.246Z"
   },
   {
    "duration": 305,
    "start_time": "2021-06-20T22:02:57.572Z"
   },
   {
    "duration": 25,
    "start_time": "2021-06-20T22:03:16.641Z"
   },
   {
    "duration": 389,
    "start_time": "2021-06-20T22:13:23.813Z"
   },
   {
    "duration": 70,
    "start_time": "2021-06-20T22:13:30.344Z"
   },
   {
    "duration": 384,
    "start_time": "2021-06-20T22:16:08.916Z"
   },
   {
    "duration": 388,
    "start_time": "2021-06-20T22:18:32.061Z"
   },
   {
    "duration": 324,
    "start_time": "2021-06-20T22:20:54.677Z"
   },
   {
    "duration": 68,
    "start_time": "2021-06-20T22:21:52.644Z"
   },
   {
    "duration": 26,
    "start_time": "2021-06-20T22:27:23.448Z"
   },
   {
    "duration": 408,
    "start_time": "2021-06-20T22:28:34.090Z"
   },
   {
    "duration": 24,
    "start_time": "2021-06-20T22:28:53.451Z"
   },
   {
    "duration": 19,
    "start_time": "2021-06-20T22:29:11.053Z"
   },
   {
    "duration": 25,
    "start_time": "2021-06-20T22:29:24.068Z"
   },
   {
    "duration": 25,
    "start_time": "2021-06-20T22:29:48.179Z"
   },
   {
    "duration": 25,
    "start_time": "2021-06-20T22:29:53.986Z"
   },
   {
    "duration": 323,
    "start_time": "2021-06-20T22:30:16.403Z"
   },
   {
    "duration": 631,
    "start_time": "2021-06-20T22:30:41.601Z"
   },
   {
    "duration": 23,
    "start_time": "2021-06-20T22:30:55.502Z"
   },
   {
    "duration": 6788,
    "start_time": "2021-06-20T22:31:20.479Z"
   },
   {
    "duration": 38,
    "start_time": "2021-06-20T22:32:06.369Z"
   },
   {
    "duration": 83,
    "start_time": "2021-06-20T22:32:16.553Z"
   },
   {
    "duration": 8396,
    "start_time": "2021-06-20T22:32:46.809Z"
   },
   {
    "duration": 8424,
    "start_time": "2021-06-20T22:32:59.764Z"
   },
   {
    "duration": 5502,
    "start_time": "2021-06-20T22:33:18.024Z"
   },
   {
    "duration": 392,
    "start_time": "2021-06-20T22:34:53.092Z"
   },
   {
    "duration": 333,
    "start_time": "2021-06-20T22:35:26.844Z"
   },
   {
    "duration": 349,
    "start_time": "2021-06-20T22:36:46.760Z"
   },
   {
    "duration": 330,
    "start_time": "2021-06-20T22:40:46.090Z"
   },
   {
    "duration": 401,
    "start_time": "2021-06-20T22:41:09.006Z"
   },
   {
    "duration": 33,
    "start_time": "2021-06-20T22:42:27.744Z"
   },
   {
    "duration": 85,
    "start_time": "2021-06-20T22:42:48.880Z"
   },
   {
    "duration": 86,
    "start_time": "2021-06-20T22:43:38.149Z"
   },
   {
    "duration": 8487,
    "start_time": "2021-06-20T22:43:48.054Z"
   },
   {
    "duration": 7727,
    "start_time": "2021-06-20T22:44:06.835Z"
   },
   {
    "duration": 87,
    "start_time": "2021-06-20T22:44:41.512Z"
   },
   {
    "duration": 87,
    "start_time": "2021-06-20T22:46:06.644Z"
   },
   {
    "duration": 314,
    "start_time": "2021-06-20T22:46:57.278Z"
   },
   {
    "duration": 649,
    "start_time": "2021-06-20T22:47:44.945Z"
   },
   {
    "duration": 296,
    "start_time": "2021-06-20T22:47:54.745Z"
   },
   {
    "duration": 353,
    "start_time": "2021-06-20T22:48:17.428Z"
   },
   {
    "duration": 306,
    "start_time": "2021-06-20T22:48:33.107Z"
   },
   {
    "duration": 465,
    "start_time": "2021-06-20T22:48:38.216Z"
   },
   {
    "duration": 317,
    "start_time": "2021-06-20T22:48:47.740Z"
   },
   {
    "duration": 616,
    "start_time": "2021-06-20T22:49:23.551Z"
   },
   {
    "duration": 649,
    "start_time": "2021-06-20T22:49:58.809Z"
   },
   {
    "duration": 106,
    "start_time": "2021-06-20T22:50:46.769Z"
   },
   {
    "duration": 103,
    "start_time": "2021-06-20T22:50:58.230Z"
   },
   {
    "duration": 173,
    "start_time": "2021-06-20T22:51:23.736Z"
   },
   {
    "duration": 143,
    "start_time": "2021-06-20T22:51:31.040Z"
   },
   {
    "duration": 105,
    "start_time": "2021-06-20T22:51:44.870Z"
   },
   {
    "duration": 132,
    "start_time": "2021-06-20T22:51:55.467Z"
   },
   {
    "duration": 123,
    "start_time": "2021-06-20T22:52:05.920Z"
   },
   {
    "duration": 125,
    "start_time": "2021-06-20T22:52:17.468Z"
   },
   {
    "duration": 341,
    "start_time": "2021-06-20T22:52:25.650Z"
   },
   {
    "duration": 319,
    "start_time": "2021-06-20T22:52:40.167Z"
   },
   {
    "duration": 331,
    "start_time": "2021-06-20T22:52:49.832Z"
   },
   {
    "duration": 331,
    "start_time": "2021-06-20T22:52:55.472Z"
   },
   {
    "duration": 330,
    "start_time": "2021-06-20T22:53:01.370Z"
   },
   {
    "duration": 332,
    "start_time": "2021-06-20T22:53:42.268Z"
   },
   {
    "duration": 352,
    "start_time": "2021-06-20T22:53:52.987Z"
   },
   {
    "duration": 644,
    "start_time": "2021-06-20T22:54:20.918Z"
   },
   {
    "duration": 611,
    "start_time": "2021-06-20T22:54:39.949Z"
   },
   {
    "duration": 314,
    "start_time": "2021-06-20T22:54:47.638Z"
   },
   {
    "duration": 558,
    "start_time": "2021-06-20T22:57:38.349Z"
   },
   {
    "duration": 654,
    "start_time": "2021-06-20T22:59:21.950Z"
   },
   {
    "duration": 319,
    "start_time": "2021-06-20T22:59:27.846Z"
   },
   {
    "duration": 8450,
    "start_time": "2021-06-20T23:00:31.718Z"
   },
   {
    "duration": 8381,
    "start_time": "2021-06-20T23:00:41.934Z"
   },
   {
    "duration": 457,
    "start_time": "2021-06-20T23:00:55.826Z"
   },
   {
    "duration": 334,
    "start_time": "2021-06-20T23:01:11.823Z"
   },
   {
    "duration": 329,
    "start_time": "2021-06-20T23:02:03.966Z"
   },
   {
    "duration": 942,
    "start_time": "2021-06-23T09:59:20.445Z"
   },
   {
    "duration": 11,
    "start_time": "2021-06-23T09:59:21.389Z"
   },
   {
    "duration": 22,
    "start_time": "2021-06-23T09:59:21.402Z"
   },
   {
    "duration": 7,
    "start_time": "2021-06-23T09:59:21.426Z"
   },
   {
    "duration": 10,
    "start_time": "2021-06-23T09:59:21.455Z"
   },
   {
    "duration": 17,
    "start_time": "2021-06-23T09:59:21.468Z"
   },
   {
    "duration": 11,
    "start_time": "2021-06-23T09:59:21.488Z"
   },
   {
    "duration": 9,
    "start_time": "2021-06-23T09:59:21.505Z"
   },
   {
    "duration": 48,
    "start_time": "2021-06-23T09:59:21.516Z"
   },
   {
    "duration": 16,
    "start_time": "2021-06-23T09:59:21.567Z"
   },
   {
    "duration": 22,
    "start_time": "2021-06-23T09:59:21.586Z"
   },
   {
    "duration": 12,
    "start_time": "2021-06-23T09:59:21.610Z"
   },
   {
    "duration": 31,
    "start_time": "2021-06-23T09:59:21.624Z"
   },
   {
    "duration": 21,
    "start_time": "2021-06-23T09:59:21.657Z"
   },
   {
    "duration": 15,
    "start_time": "2021-06-23T09:59:21.681Z"
   },
   {
    "duration": 16,
    "start_time": "2021-06-23T09:59:21.698Z"
   },
   {
    "duration": 18,
    "start_time": "2021-06-23T09:59:21.716Z"
   },
   {
    "duration": 21,
    "start_time": "2021-06-23T09:59:21.736Z"
   },
   {
    "duration": 9,
    "start_time": "2021-06-23T09:59:21.759Z"
   },
   {
    "duration": 22,
    "start_time": "2021-06-23T09:59:21.771Z"
   },
   {
    "duration": 20,
    "start_time": "2021-06-23T09:59:21.795Z"
   },
   {
    "duration": 13,
    "start_time": "2021-06-23T09:59:21.818Z"
   },
   {
    "duration": 39,
    "start_time": "2021-06-23T09:59:21.836Z"
   },
   {
    "duration": 13,
    "start_time": "2021-06-23T09:59:21.878Z"
   },
   {
    "duration": 21,
    "start_time": "2021-06-23T09:59:21.894Z"
   },
   {
    "duration": 33,
    "start_time": "2021-06-23T09:59:21.918Z"
   },
   {
    "duration": 14,
    "start_time": "2021-06-23T09:59:21.954Z"
   },
   {
    "duration": 25,
    "start_time": "2021-06-23T09:59:21.970Z"
   },
   {
    "duration": 26,
    "start_time": "2021-06-23T09:59:21.998Z"
   },
   {
    "duration": 20,
    "start_time": "2021-06-23T09:59:22.026Z"
   },
   {
    "duration": 25,
    "start_time": "2021-06-23T09:59:22.048Z"
   },
   {
    "duration": 19,
    "start_time": "2021-06-23T09:59:22.075Z"
   },
   {
    "duration": 17,
    "start_time": "2021-06-23T09:59:22.096Z"
   },
   {
    "duration": 25,
    "start_time": "2021-06-23T09:59:22.115Z"
   },
   {
    "duration": 131,
    "start_time": "2021-06-23T09:59:22.143Z"
   },
   {
    "duration": 50,
    "start_time": "2021-06-23T09:59:22.277Z"
   },
   {
    "duration": 28,
    "start_time": "2021-06-23T09:59:22.329Z"
   },
   {
    "duration": 30,
    "start_time": "2021-06-23T09:59:22.359Z"
   },
   {
    "duration": 954,
    "start_time": "2021-06-23T09:59:22.391Z"
   },
   {
    "duration": 9,
    "start_time": "2021-06-23T09:59:23.348Z"
   },
   {
    "duration": 2409,
    "start_time": "2021-06-23T09:59:23.359Z"
   },
   {
    "duration": 570,
    "start_time": "2021-06-23T09:59:25.770Z"
   },
   {
    "duration": 26,
    "start_time": "2021-06-23T09:59:26.343Z"
   },
   {
    "duration": 43,
    "start_time": "2021-06-23T09:59:26.372Z"
   },
   {
    "duration": 1994,
    "start_time": "2021-06-23T09:59:26.418Z"
   },
   {
    "duration": 88,
    "start_time": "2021-06-23T09:59:28.415Z"
   },
   {
    "duration": 332,
    "start_time": "2021-06-23T09:59:28.505Z"
   },
   {
    "duration": 10,
    "start_time": "2021-06-23T10:05:02.737Z"
   },
   {
    "duration": 64,
    "start_time": "2021-06-23T10:05:14.757Z"
   },
   {
    "duration": 99,
    "start_time": "2021-06-23T10:05:47.430Z"
   },
   {
    "duration": 88,
    "start_time": "2021-06-23T10:06:09.221Z"
   },
   {
    "duration": 3,
    "start_time": "2021-06-23T10:12:34.922Z"
   },
   {
    "duration": 366,
    "start_time": "2021-06-23T10:13:07.984Z"
   },
   {
    "duration": 9,
    "start_time": "2021-06-23T10:13:38.277Z"
   },
   {
    "duration": 3,
    "start_time": "2021-06-23T10:14:21.602Z"
   },
   {
    "duration": 16,
    "start_time": "2021-06-23T10:14:35.783Z"
   },
   {
    "duration": 3,
    "start_time": "2021-06-23T10:16:07.500Z"
   },
   {
    "duration": 9,
    "start_time": "2021-06-23T10:16:31.633Z"
   },
   {
    "duration": 4,
    "start_time": "2021-06-23T10:19:47.132Z"
   },
   {
    "duration": 9,
    "start_time": "2021-06-23T10:20:06.675Z"
   },
   {
    "duration": 11,
    "start_time": "2021-06-23T10:23:30.128Z"
   },
   {
    "duration": 296,
    "start_time": "2021-06-23T10:29:57.919Z"
   },
   {
    "duration": 306,
    "start_time": "2021-06-23T10:32:28.259Z"
   },
   {
    "duration": 868,
    "start_time": "2021-06-24T06:15:33.995Z"
   },
   {
    "duration": 19,
    "start_time": "2021-06-24T06:15:34.866Z"
   },
   {
    "duration": 10,
    "start_time": "2021-06-24T06:15:34.888Z"
   },
   {
    "duration": 7,
    "start_time": "2021-06-24T06:15:34.901Z"
   },
   {
    "duration": 10,
    "start_time": "2021-06-24T06:15:34.910Z"
   },
   {
    "duration": 12,
    "start_time": "2021-06-24T06:15:34.923Z"
   },
   {
    "duration": 52,
    "start_time": "2021-06-24T06:15:34.938Z"
   },
   {
    "duration": 12,
    "start_time": "2021-06-24T06:15:34.994Z"
   },
   {
    "duration": 10,
    "start_time": "2021-06-24T06:15:35.009Z"
   },
   {
    "duration": 9,
    "start_time": "2021-06-24T06:15:35.022Z"
   },
   {
    "duration": 53,
    "start_time": "2021-06-24T06:15:35.034Z"
   },
   {
    "duration": 10,
    "start_time": "2021-06-24T06:15:35.090Z"
   },
   {
    "duration": 13,
    "start_time": "2021-06-24T06:15:35.102Z"
   },
   {
    "duration": 17,
    "start_time": "2021-06-24T06:15:35.117Z"
   },
   {
    "duration": 17,
    "start_time": "2021-06-24T06:15:35.137Z"
   },
   {
    "duration": 9,
    "start_time": "2021-06-24T06:15:35.157Z"
   },
   {
    "duration": 10,
    "start_time": "2021-06-24T06:15:35.184Z"
   },
   {
    "duration": 17,
    "start_time": "2021-06-24T06:15:35.196Z"
   },
   {
    "duration": 15,
    "start_time": "2021-06-24T06:15:35.216Z"
   },
   {
    "duration": 15,
    "start_time": "2021-06-24T06:15:35.233Z"
   },
   {
    "duration": 34,
    "start_time": "2021-06-24T06:15:35.251Z"
   },
   {
    "duration": 12,
    "start_time": "2021-06-24T06:15:35.288Z"
   },
   {
    "duration": 29,
    "start_time": "2021-06-24T06:15:35.306Z"
   },
   {
    "duration": 47,
    "start_time": "2021-06-24T06:15:35.338Z"
   },
   {
    "duration": 12,
    "start_time": "2021-06-24T06:15:35.387Z"
   },
   {
    "duration": 9,
    "start_time": "2021-06-24T06:15:35.401Z"
   },
   {
    "duration": 8,
    "start_time": "2021-06-24T06:15:35.412Z"
   },
   {
    "duration": 21,
    "start_time": "2021-06-24T06:15:35.422Z"
   },
   {
    "duration": 39,
    "start_time": "2021-06-24T06:15:35.445Z"
   },
   {
    "duration": 9,
    "start_time": "2021-06-24T06:15:35.486Z"
   },
   {
    "duration": 12,
    "start_time": "2021-06-24T06:15:35.497Z"
   },
   {
    "duration": 19,
    "start_time": "2021-06-24T06:15:35.511Z"
   },
   {
    "duration": 6,
    "start_time": "2021-06-24T06:15:35.532Z"
   },
   {
    "duration": 13,
    "start_time": "2021-06-24T06:15:35.540Z"
   },
   {
    "duration": 129,
    "start_time": "2021-06-24T06:15:35.584Z"
   },
   {
    "duration": 45,
    "start_time": "2021-06-24T06:15:35.716Z"
   },
   {
    "duration": 24,
    "start_time": "2021-06-24T06:15:35.763Z"
   },
   {
    "duration": 29,
    "start_time": "2021-06-24T06:15:35.789Z"
   },
   {
    "duration": 906,
    "start_time": "2021-06-24T06:15:35.820Z"
   },
   {
    "duration": 7,
    "start_time": "2021-06-24T06:15:36.728Z"
   },
   {
    "duration": 2122,
    "start_time": "2021-06-24T06:15:36.737Z"
   },
   {
    "duration": 515,
    "start_time": "2021-06-24T06:15:38.861Z"
   },
   {
    "duration": 17,
    "start_time": "2021-06-24T06:15:39.379Z"
   },
   {
    "duration": 34,
    "start_time": "2021-06-24T06:15:39.398Z"
   },
   {
    "duration": 1854,
    "start_time": "2021-06-24T06:15:39.434Z"
   },
   {
    "duration": 102,
    "start_time": "2021-06-24T06:15:41.291Z"
   },
   {
    "duration": 313,
    "start_time": "2021-06-24T06:15:41.396Z"
   },
   {
    "duration": 80,
    "start_time": "2021-06-24T06:15:41.713Z"
   },
   {
    "duration": 17,
    "start_time": "2021-06-24T06:15:41.796Z"
   },
   {
    "duration": 11,
    "start_time": "2021-06-24T06:15:41.816Z"
   },
   {
    "duration": 12,
    "start_time": "2021-06-24T06:15:41.830Z"
   },
   {
    "duration": 9,
    "start_time": "2021-06-24T06:15:41.885Z"
   },
   {
    "duration": 13,
    "start_time": "2021-06-24T06:15:41.897Z"
   },
   {
    "duration": 327,
    "start_time": "2021-06-24T06:15:41.913Z"
   },
   {
    "duration": 7,
    "start_time": "2021-06-24T06:35:06.005Z"
   },
   {
    "duration": 965,
    "start_time": "2021-06-24T06:35:18.160Z"
   },
   {
    "duration": 9,
    "start_time": "2021-06-24T06:35:19.129Z"
   },
   {
    "duration": 22,
    "start_time": "2021-06-24T06:35:19.141Z"
   },
   {
    "duration": 19,
    "start_time": "2021-06-24T06:35:19.166Z"
   },
   {
    "duration": 11,
    "start_time": "2021-06-24T06:35:19.188Z"
   },
   {
    "duration": 14,
    "start_time": "2021-06-24T06:35:19.201Z"
   },
   {
    "duration": 9,
    "start_time": "2021-06-24T06:35:19.217Z"
   },
   {
    "duration": 59,
    "start_time": "2021-06-24T06:35:19.229Z"
   },
   {
    "duration": 11,
    "start_time": "2021-06-24T06:35:19.291Z"
   },
   {
    "duration": 11,
    "start_time": "2021-06-24T06:35:19.305Z"
   },
   {
    "duration": 16,
    "start_time": "2021-06-24T06:35:19.318Z"
   },
   {
    "duration": 47,
    "start_time": "2021-06-24T06:35:19.337Z"
   },
   {
    "duration": 5,
    "start_time": "2021-06-24T06:35:19.386Z"
   },
   {
    "duration": 14,
    "start_time": "2021-06-24T06:35:19.394Z"
   },
   {
    "duration": 9,
    "start_time": "2021-06-24T06:35:19.411Z"
   },
   {
    "duration": 13,
    "start_time": "2021-06-24T06:35:19.422Z"
   },
   {
    "duration": 11,
    "start_time": "2021-06-24T06:35:19.438Z"
   },
   {
    "duration": 10,
    "start_time": "2021-06-24T06:35:19.483Z"
   },
   {
    "duration": 13,
    "start_time": "2021-06-24T06:35:19.495Z"
   },
   {
    "duration": 9,
    "start_time": "2021-06-24T06:35:19.510Z"
   },
   {
    "duration": 8,
    "start_time": "2021-06-24T06:35:19.521Z"
   },
   {
    "duration": 12,
    "start_time": "2021-06-24T06:35:19.531Z"
   },
   {
    "duration": 7,
    "start_time": "2021-06-24T06:35:19.583Z"
   },
   {
    "duration": 37,
    "start_time": "2021-06-24T06:35:19.592Z"
   },
   {
    "duration": 15,
    "start_time": "2021-06-24T06:35:19.631Z"
   },
   {
    "duration": 10,
    "start_time": "2021-06-24T06:35:19.648Z"
   },
   {
    "duration": 9,
    "start_time": "2021-06-24T06:35:19.686Z"
   },
   {
    "duration": 7,
    "start_time": "2021-06-24T06:35:19.698Z"
   },
   {
    "duration": 9,
    "start_time": "2021-06-24T06:35:19.707Z"
   },
   {
    "duration": 6,
    "start_time": "2021-06-24T06:35:19.718Z"
   },
   {
    "duration": 60,
    "start_time": "2021-06-24T06:35:19.727Z"
   },
   {
    "duration": 7,
    "start_time": "2021-06-24T06:35:19.790Z"
   },
   {
    "duration": 9,
    "start_time": "2021-06-24T06:35:19.800Z"
   },
   {
    "duration": 6,
    "start_time": "2021-06-24T06:35:19.811Z"
   },
   {
    "duration": 16,
    "start_time": "2021-06-24T06:35:19.819Z"
   },
   {
    "duration": 162,
    "start_time": "2021-06-24T06:35:19.837Z"
   },
   {
    "duration": 58,
    "start_time": "2021-06-24T06:35:20.001Z"
   },
   {
    "duration": 22,
    "start_time": "2021-06-24T06:35:20.062Z"
   },
   {
    "duration": 30,
    "start_time": "2021-06-24T06:35:20.086Z"
   },
   {
    "duration": 940,
    "start_time": "2021-06-24T06:35:20.119Z"
   },
   {
    "duration": 8,
    "start_time": "2021-06-24T06:35:21.061Z"
   },
   {
    "duration": 2208,
    "start_time": "2021-06-24T06:35:21.071Z"
   },
   {
    "duration": 578,
    "start_time": "2021-06-24T06:35:23.284Z"
   },
   {
    "duration": 27,
    "start_time": "2021-06-24T06:35:23.864Z"
   },
   {
    "duration": 34,
    "start_time": "2021-06-24T06:35:23.894Z"
   },
   {
    "duration": 2339,
    "start_time": "2021-06-24T06:35:23.931Z"
   },
   {
    "duration": 112,
    "start_time": "2021-06-24T06:35:26.273Z"
   },
   {
    "duration": 323,
    "start_time": "2021-06-24T06:35:26.388Z"
   },
   {
    "duration": 72,
    "start_time": "2021-06-24T06:35:26.714Z"
   },
   {
    "duration": 16,
    "start_time": "2021-06-24T06:35:26.789Z"
   },
   {
    "duration": 15,
    "start_time": "2021-06-24T06:35:26.808Z"
   },
   {
    "duration": 15,
    "start_time": "2021-06-24T06:35:26.826Z"
   },
   {
    "duration": 43,
    "start_time": "2021-06-24T06:35:26.844Z"
   },
   {
    "duration": 16,
    "start_time": "2021-06-24T06:35:26.890Z"
   },
   {
    "duration": 324,
    "start_time": "2021-06-24T06:35:26.909Z"
   },
   {
    "duration": 991,
    "start_time": "2021-06-24T06:35:52.136Z"
   },
   {
    "duration": 9,
    "start_time": "2021-06-24T06:35:53.130Z"
   },
   {
    "duration": 12,
    "start_time": "2021-06-24T06:35:53.141Z"
   },
   {
    "duration": 31,
    "start_time": "2021-06-24T06:35:53.156Z"
   },
   {
    "duration": 35,
    "start_time": "2021-06-24T06:35:53.189Z"
   },
   {
    "duration": 13,
    "start_time": "2021-06-24T06:35:53.227Z"
   },
   {
    "duration": 11,
    "start_time": "2021-06-24T06:35:53.243Z"
   },
   {
    "duration": 24,
    "start_time": "2021-06-24T06:35:53.259Z"
   },
   {
    "duration": 12,
    "start_time": "2021-06-24T06:35:53.286Z"
   },
   {
    "duration": 12,
    "start_time": "2021-06-24T06:35:53.300Z"
   },
   {
    "duration": 13,
    "start_time": "2021-06-24T06:35:53.315Z"
   },
   {
    "duration": 55,
    "start_time": "2021-06-24T06:35:53.331Z"
   },
   {
    "duration": 5,
    "start_time": "2021-06-24T06:35:53.389Z"
   },
   {
    "duration": 11,
    "start_time": "2021-06-24T06:35:53.397Z"
   },
   {
    "duration": 10,
    "start_time": "2021-06-24T06:35:53.411Z"
   },
   {
    "duration": 10,
    "start_time": "2021-06-24T06:35:53.423Z"
   },
   {
    "duration": 47,
    "start_time": "2021-06-24T06:35:53.436Z"
   },
   {
    "duration": 9,
    "start_time": "2021-06-24T06:35:53.485Z"
   },
   {
    "duration": 10,
    "start_time": "2021-06-24T06:35:53.497Z"
   },
   {
    "duration": 11,
    "start_time": "2021-06-24T06:35:53.509Z"
   },
   {
    "duration": 9,
    "start_time": "2021-06-24T06:35:53.522Z"
   },
   {
    "duration": 49,
    "start_time": "2021-06-24T06:35:53.534Z"
   },
   {
    "duration": 7,
    "start_time": "2021-06-24T06:35:53.589Z"
   },
   {
    "duration": 32,
    "start_time": "2021-06-24T06:35:53.599Z"
   },
   {
    "duration": 12,
    "start_time": "2021-06-24T06:35:53.633Z"
   },
   {
    "duration": 41,
    "start_time": "2021-06-24T06:35:53.647Z"
   },
   {
    "duration": 9,
    "start_time": "2021-06-24T06:35:53.690Z"
   },
   {
    "duration": 8,
    "start_time": "2021-06-24T06:35:53.702Z"
   },
   {
    "duration": 23,
    "start_time": "2021-06-24T06:35:53.712Z"
   },
   {
    "duration": 8,
    "start_time": "2021-06-24T06:35:53.738Z"
   },
   {
    "duration": 40,
    "start_time": "2021-06-24T06:35:53.749Z"
   },
   {
    "duration": 15,
    "start_time": "2021-06-24T06:35:53.792Z"
   },
   {
    "duration": 13,
    "start_time": "2021-06-24T06:35:53.810Z"
   },
   {
    "duration": 12,
    "start_time": "2021-06-24T06:35:53.826Z"
   },
   {
    "duration": 14,
    "start_time": "2021-06-24T06:35:53.841Z"
   },
   {
    "duration": 150,
    "start_time": "2021-06-24T06:35:53.858Z"
   },
   {
    "duration": 53,
    "start_time": "2021-06-24T06:35:54.011Z"
   },
   {
    "duration": 10,
    "start_time": "2021-06-24T06:35:54.083Z"
   },
   {
    "duration": 30,
    "start_time": "2021-06-24T06:35:54.095Z"
   },
   {
    "duration": 922,
    "start_time": "2021-06-24T06:35:54.128Z"
   },
   {
    "duration": 7,
    "start_time": "2021-06-24T06:35:55.052Z"
   },
   {
    "duration": 2176,
    "start_time": "2021-06-24T06:35:55.062Z"
   },
   {
    "duration": 592,
    "start_time": "2021-06-24T06:35:57.241Z"
   },
   {
    "duration": 18,
    "start_time": "2021-06-24T06:35:57.835Z"
   },
   {
    "duration": 53,
    "start_time": "2021-06-24T06:35:57.855Z"
   },
   {
    "duration": 1852,
    "start_time": "2021-06-24T06:35:57.910Z"
   },
   {
    "duration": 76,
    "start_time": "2021-06-24T06:35:59.765Z"
   },
   {
    "duration": 326,
    "start_time": "2021-06-24T06:35:59.843Z"
   },
   {
    "duration": 63,
    "start_time": "2021-06-24T06:36:00.172Z"
   },
   {
    "duration": 13,
    "start_time": "2021-06-24T06:36:00.237Z"
   },
   {
    "duration": 34,
    "start_time": "2021-06-24T06:36:00.252Z"
   },
   {
    "duration": 8,
    "start_time": "2021-06-24T06:36:00.289Z"
   },
   {
    "duration": 12,
    "start_time": "2021-06-24T06:36:00.300Z"
   },
   {
    "duration": 19,
    "start_time": "2021-06-24T06:36:00.314Z"
   },
   {
    "duration": 310,
    "start_time": "2021-06-24T06:36:00.335Z"
   },
   {
    "duration": 7,
    "start_time": "2021-06-24T06:36:13.941Z"
   },
   {
    "duration": 10,
    "start_time": "2021-06-24T06:36:38.388Z"
   },
   {
    "duration": 6,
    "start_time": "2021-06-24T06:50:39.751Z"
   },
   {
    "duration": 6,
    "start_time": "2021-06-24T06:50:44.622Z"
   },
   {
    "duration": 12,
    "start_time": "2021-06-24T06:58:06.935Z"
   },
   {
    "duration": 12,
    "start_time": "2021-06-24T06:58:11.251Z"
   },
   {
    "duration": 23,
    "start_time": "2021-06-24T06:59:47.817Z"
   },
   {
    "duration": 383,
    "start_time": "2021-06-24T07:00:08.384Z"
   },
   {
    "duration": 282,
    "start_time": "2021-06-24T07:00:21.691Z"
   },
   {
    "duration": 21,
    "start_time": "2021-06-24T07:00:26.556Z"
   },
   {
    "duration": 21,
    "start_time": "2021-06-24T07:01:12.800Z"
   },
   {
    "duration": 91,
    "start_time": "2021-06-24T07:01:25.613Z"
   },
   {
    "duration": 23,
    "start_time": "2021-06-24T07:01:29.687Z"
   },
   {
    "duration": 22,
    "start_time": "2021-06-24T07:01:40.419Z"
   },
   {
    "duration": 21,
    "start_time": "2021-06-24T07:01:45.305Z"
   },
   {
    "duration": 307,
    "start_time": "2021-06-27T10:49:19.166Z"
   },
   {
    "duration": 959,
    "start_time": "2021-06-27T10:49:24.962Z"
   },
   {
    "duration": 8,
    "start_time": "2021-06-27T10:49:25.923Z"
   },
   {
    "duration": 12,
    "start_time": "2021-06-27T10:49:25.958Z"
   },
   {
    "duration": 5,
    "start_time": "2021-06-27T10:49:25.972Z"
   },
   {
    "duration": 10,
    "start_time": "2021-06-27T10:49:25.979Z"
   },
   {
    "duration": 13,
    "start_time": "2021-06-27T10:49:25.991Z"
   },
   {
    "duration": 50,
    "start_time": "2021-06-27T10:49:26.007Z"
   },
   {
    "duration": 9,
    "start_time": "2021-06-27T10:49:26.060Z"
   },
   {
    "duration": 9,
    "start_time": "2021-06-27T10:49:26.071Z"
   },
   {
    "duration": 8,
    "start_time": "2021-06-27T10:49:26.083Z"
   },
   {
    "duration": 12,
    "start_time": "2021-06-27T10:49:26.093Z"
   },
   {
    "duration": 54,
    "start_time": "2021-06-27T10:49:26.107Z"
   },
   {
    "duration": 5,
    "start_time": "2021-06-27T10:49:26.163Z"
   },
   {
    "duration": 9,
    "start_time": "2021-06-27T10:49:26.170Z"
   },
   {
    "duration": 11,
    "start_time": "2021-06-27T10:49:26.182Z"
   },
   {
    "duration": 8,
    "start_time": "2021-06-27T10:49:26.195Z"
   },
   {
    "duration": 52,
    "start_time": "2021-06-27T10:49:26.205Z"
   },
   {
    "duration": 10,
    "start_time": "2021-06-27T10:49:26.260Z"
   },
   {
    "duration": 10,
    "start_time": "2021-06-27T10:49:26.273Z"
   },
   {
    "duration": 12,
    "start_time": "2021-06-27T10:49:26.285Z"
   },
   {
    "duration": 7,
    "start_time": "2021-06-27T10:49:26.299Z"
   },
   {
    "duration": 47,
    "start_time": "2021-06-27T10:49:26.312Z"
   },
   {
    "duration": 30,
    "start_time": "2021-06-27T10:49:26.362Z"
   },
   {
    "duration": 10,
    "start_time": "2021-06-27T10:49:26.395Z"
   },
   {
    "duration": 10,
    "start_time": "2021-06-27T10:49:26.407Z"
   },
   {
    "duration": 39,
    "start_time": "2021-06-27T10:49:26.419Z"
   },
   {
    "duration": 6,
    "start_time": "2021-06-27T10:49:26.461Z"
   },
   {
    "duration": 12,
    "start_time": "2021-06-27T10:49:26.469Z"
   },
   {
    "duration": 8,
    "start_time": "2021-06-27T10:49:26.483Z"
   },
   {
    "duration": 9,
    "start_time": "2021-06-27T10:49:26.493Z"
   },
   {
    "duration": 52,
    "start_time": "2021-06-27T10:49:26.504Z"
   },
   {
    "duration": 9,
    "start_time": "2021-06-27T10:49:26.558Z"
   },
   {
    "duration": 5,
    "start_time": "2021-06-27T10:49:26.569Z"
   },
   {
    "duration": 12,
    "start_time": "2021-06-27T10:49:26.576Z"
   },
   {
    "duration": 152,
    "start_time": "2021-06-27T10:49:26.591Z"
   },
   {
    "duration": 48,
    "start_time": "2021-06-27T10:49:26.745Z"
   },
   {
    "duration": 7,
    "start_time": "2021-06-27T10:49:26.796Z"
   },
   {
    "duration": 52,
    "start_time": "2021-06-27T10:49:26.805Z"
   },
   {
    "duration": 920,
    "start_time": "2021-06-27T10:49:26.859Z"
   },
   {
    "duration": 6,
    "start_time": "2021-06-27T10:49:27.782Z"
   },
   {
    "duration": 2148,
    "start_time": "2021-06-27T10:49:27.791Z"
   },
   {
    "duration": 540,
    "start_time": "2021-06-27T10:49:29.941Z"
   },
   {
    "duration": 17,
    "start_time": "2021-06-27T10:49:30.484Z"
   },
   {
    "duration": 58,
    "start_time": "2021-06-27T10:49:30.503Z"
   },
   {
    "duration": 1896,
    "start_time": "2021-06-27T10:49:30.564Z"
   },
   {
    "duration": 97,
    "start_time": "2021-06-27T10:49:32.463Z"
   },
   {
    "duration": 310,
    "start_time": "2021-06-27T10:49:32.562Z"
   },
   {
    "duration": 58,
    "start_time": "2021-06-27T10:49:32.875Z"
   },
   {
    "duration": 31,
    "start_time": "2021-06-27T10:49:32.936Z"
   },
   {
    "duration": 9,
    "start_time": "2021-06-27T10:49:32.969Z"
   },
   {
    "duration": 8,
    "start_time": "2021-06-27T10:49:32.981Z"
   },
   {
    "duration": 8,
    "start_time": "2021-06-27T10:49:32.992Z"
   },
   {
    "duration": 55,
    "start_time": "2021-06-27T10:49:33.003Z"
   },
   {
    "duration": 301,
    "start_time": "2021-06-27T10:49:33.060Z"
   },
   {
    "duration": 535,
    "start_time": "2021-06-27T10:50:36.591Z"
   },
   {
    "duration": 327,
    "start_time": "2021-06-27T10:50:48.203Z"
   },
   {
    "duration": 808,
    "start_time": "2021-06-27T10:50:55.908Z"
   },
   {
    "duration": 761,
    "start_time": "2021-06-27T10:51:20.444Z"
   },
   {
    "duration": 1580,
    "start_time": "2021-06-27T10:54:39.577Z"
   },
   {
    "duration": 1555,
    "start_time": "2021-06-27T10:55:14.230Z"
   },
   {
    "duration": 227,
    "start_time": "2021-06-27T10:55:33.152Z"
   },
   {
    "duration": 345,
    "start_time": "2021-06-27T10:58:38.001Z"
   },
   {
    "duration": 332,
    "start_time": "2021-06-27T10:59:13.033Z"
   },
   {
    "duration": 341,
    "start_time": "2021-06-27T11:00:23.325Z"
   },
   {
    "duration": 338,
    "start_time": "2021-06-27T11:00:47.893Z"
   },
   {
    "duration": 100,
    "start_time": "2021-06-27T11:00:58.516Z"
   },
   {
    "duration": 533,
    "start_time": "2021-06-27T11:01:03.043Z"
   },
   {
    "duration": 521,
    "start_time": "2021-06-27T11:20:35.856Z"
   },
   {
    "duration": 13,
    "start_time": "2021-06-27T11:26:44.991Z"
   },
   {
    "duration": 23,
    "start_time": "2021-06-27T11:33:22.193Z"
   },
   {
    "duration": 642,
    "start_time": "2021-06-27T11:35:54.552Z"
   },
   {
    "duration": 88,
    "start_time": "2021-06-27T11:36:30.066Z"
   },
   {
    "duration": 149,
    "start_time": "2021-06-27T11:36:36.087Z"
   },
   {
    "duration": 11,
    "start_time": "2021-06-27T11:38:24.902Z"
   },
   {
    "duration": 25,
    "start_time": "2021-06-27T11:38:46.575Z"
   },
   {
    "duration": 27,
    "start_time": "2021-06-27T11:42:09.217Z"
   },
   {
    "duration": 38,
    "start_time": "2021-06-27T11:42:37.737Z"
   },
   {
    "duration": 545,
    "start_time": "2021-06-27T11:46:04.324Z"
   },
   {
    "duration": 678,
    "start_time": "2021-06-27T11:46:29.835Z"
   },
   {
    "duration": 389,
    "start_time": "2021-06-27T11:46:39.080Z"
   },
   {
    "duration": 17,
    "start_time": "2021-06-27T11:47:51.162Z"
   },
   {
    "duration": 8,
    "start_time": "2021-06-27T15:00:53.688Z"
   },
   {
    "duration": 1276,
    "start_time": "2021-06-27T15:01:18.380Z"
   },
   {
    "duration": 13,
    "start_time": "2021-06-27T15:01:19.659Z"
   },
   {
    "duration": 1048,
    "start_time": "2021-06-27T15:01:19.675Z"
   },
   {
    "duration": 8,
    "start_time": "2021-06-27T15:01:20.726Z"
   },
   {
    "duration": 24,
    "start_time": "2021-06-27T15:01:20.737Z"
   },
   {
    "duration": 23,
    "start_time": "2021-06-27T15:01:20.763Z"
   },
   {
    "duration": 12,
    "start_time": "2021-06-27T15:01:20.788Z"
   },
   {
    "duration": 73,
    "start_time": "2021-06-27T15:01:20.805Z"
   },
   {
    "duration": 11,
    "start_time": "2021-06-27T15:01:20.882Z"
   },
   {
    "duration": 17,
    "start_time": "2021-06-27T15:01:20.896Z"
   },
   {
    "duration": 432,
    "start_time": "2021-06-27T15:01:20.915Z"
   },
   {
    "duration": 17,
    "start_time": "2021-06-27T15:01:21.350Z"
   },
   {
    "duration": 16,
    "start_time": "2021-06-27T15:01:21.369Z"
   },
   {
    "duration": 3,
    "start_time": "2021-06-27T15:01:21.387Z"
   },
   {
    "duration": 14,
    "start_time": "2021-06-27T15:01:21.393Z"
   },
   {
    "duration": 46,
    "start_time": "2021-06-27T15:01:21.410Z"
   },
   {
    "duration": 7,
    "start_time": "2021-06-27T15:01:21.459Z"
   },
   {
    "duration": 19,
    "start_time": "2021-06-27T15:01:21.468Z"
   },
   {
    "duration": 76,
    "start_time": "2021-06-27T15:01:21.490Z"
   },
   {
    "duration": 10,
    "start_time": "2021-06-27T15:01:21.568Z"
   },
   {
    "duration": 12,
    "start_time": "2021-06-27T15:01:21.581Z"
   },
   {
    "duration": 11,
    "start_time": "2021-06-27T15:01:21.596Z"
   },
   {
    "duration": 10,
    "start_time": "2021-06-27T15:01:21.661Z"
   },
   {
    "duration": 52,
    "start_time": "2021-06-27T15:01:21.675Z"
   },
   {
    "duration": 35,
    "start_time": "2021-06-27T15:01:21.730Z"
   },
   {
    "duration": 14,
    "start_time": "2021-06-27T15:01:21.768Z"
   },
   {
    "duration": 10,
    "start_time": "2021-06-27T15:01:21.785Z"
   },
   {
    "duration": 10,
    "start_time": "2021-06-27T15:01:21.798Z"
   },
   {
    "duration": 48,
    "start_time": "2021-06-27T15:01:21.811Z"
   },
   {
    "duration": 8,
    "start_time": "2021-06-27T15:01:21.861Z"
   },
   {
    "duration": 27,
    "start_time": "2021-06-27T15:01:21.872Z"
   },
   {
    "duration": 7,
    "start_time": "2021-06-27T15:01:21.903Z"
   },
   {
    "duration": 11,
    "start_time": "2021-06-27T15:01:21.913Z"
   },
   {
    "duration": 35,
    "start_time": "2021-06-27T15:01:21.926Z"
   },
   {
    "duration": 12,
    "start_time": "2021-06-27T15:01:21.963Z"
   },
   {
    "duration": 150,
    "start_time": "2021-06-27T15:01:21.977Z"
   },
   {
    "duration": 82,
    "start_time": "2021-06-27T15:01:22.130Z"
   },
   {
    "duration": 8,
    "start_time": "2021-06-27T15:01:22.215Z"
   },
   {
    "duration": 429,
    "start_time": "2021-06-27T15:01:22.225Z"
   },
   {
    "duration": -250,
    "start_time": "2021-06-27T15:01:22.906Z"
   },
   {
    "duration": -252,
    "start_time": "2021-06-27T15:01:22.910Z"
   },
   {
    "duration": -257,
    "start_time": "2021-06-27T15:01:22.916Z"
   },
   {
    "duration": -263,
    "start_time": "2021-06-27T15:01:22.924Z"
   },
   {
    "duration": -269,
    "start_time": "2021-06-27T15:01:22.932Z"
   },
   {
    "duration": -273,
    "start_time": "2021-06-27T15:01:22.937Z"
   },
   {
    "duration": -279,
    "start_time": "2021-06-27T15:01:22.945Z"
   },
   {
    "duration": -284,
    "start_time": "2021-06-27T15:01:22.951Z"
   },
   {
    "duration": -288,
    "start_time": "2021-06-27T15:01:22.957Z"
   },
   {
    "duration": -295,
    "start_time": "2021-06-27T15:01:22.965Z"
   },
   {
    "duration": -298,
    "start_time": "2021-06-27T15:01:22.970Z"
   },
   {
    "duration": -304,
    "start_time": "2021-06-27T15:01:22.977Z"
   },
   {
    "duration": -308,
    "start_time": "2021-06-27T15:01:22.983Z"
   },
   {
    "duration": -313,
    "start_time": "2021-06-27T15:01:22.989Z"
   },
   {
    "duration": -316,
    "start_time": "2021-06-27T15:01:22.993Z"
   },
   {
    "duration": -321,
    "start_time": "2021-06-27T15:01:23.000Z"
   },
   {
    "duration": 22,
    "start_time": "2021-06-27T15:01:53.500Z"
   },
   {
    "duration": 275,
    "start_time": "2021-06-27T15:02:19.905Z"
   },
   {
    "duration": 19,
    "start_time": "2021-06-27T15:02:26.313Z"
   },
   {
    "duration": 4,
    "start_time": "2021-06-27T15:11:41.261Z"
   },
   {
    "duration": 3,
    "start_time": "2021-06-27T15:18:09.208Z"
   },
   {
    "duration": 8,
    "start_time": "2021-06-27T15:22:31.198Z"
   },
   {
    "duration": 1016,
    "start_time": "2021-06-27T15:30:33.953Z"
   },
   {
    "duration": 13,
    "start_time": "2021-06-27T15:30:34.972Z"
   },
   {
    "duration": 1079,
    "start_time": "2021-06-27T15:30:34.989Z"
   },
   {
    "duration": 8,
    "start_time": "2021-06-27T15:30:36.071Z"
   },
   {
    "duration": 21,
    "start_time": "2021-06-27T15:30:36.081Z"
   },
   {
    "duration": 51,
    "start_time": "2021-06-27T15:30:36.105Z"
   },
   {
    "duration": 9,
    "start_time": "2021-06-27T15:30:36.158Z"
   },
   {
    "duration": 46,
    "start_time": "2021-06-27T15:30:36.170Z"
   },
   {
    "duration": 9,
    "start_time": "2021-06-27T15:30:36.219Z"
   },
   {
    "duration": 36,
    "start_time": "2021-06-27T15:30:36.230Z"
   },
   {
    "duration": 409,
    "start_time": "2021-06-27T15:30:36.269Z"
   },
   {
    "duration": 14,
    "start_time": "2021-06-27T15:30:36.680Z"
   },
   {
    "duration": 14,
    "start_time": "2021-06-27T15:30:36.697Z"
   },
   {
    "duration": 8,
    "start_time": "2021-06-27T15:30:36.713Z"
   },
   {
    "duration": 35,
    "start_time": "2021-06-27T15:30:36.724Z"
   },
   {
    "duration": 17,
    "start_time": "2021-06-27T15:30:36.762Z"
   },
   {
    "duration": 23,
    "start_time": "2021-06-27T15:30:36.781Z"
   },
   {
    "duration": 9,
    "start_time": "2021-06-27T15:30:36.806Z"
   },
   {
    "duration": 92,
    "start_time": "2021-06-27T15:30:36.818Z"
   },
   {
    "duration": 9,
    "start_time": "2021-06-27T15:30:36.913Z"
   },
   {
    "duration": 43,
    "start_time": "2021-06-27T15:30:36.925Z"
   },
   {
    "duration": 8,
    "start_time": "2021-06-27T15:30:36.971Z"
   },
   {
    "duration": 9,
    "start_time": "2021-06-27T15:30:36.985Z"
   },
   {
    "duration": 28,
    "start_time": "2021-06-27T15:30:36.998Z"
   },
   {
    "duration": 14,
    "start_time": "2021-06-27T15:30:37.056Z"
   },
   {
    "duration": 16,
    "start_time": "2021-06-27T15:30:37.073Z"
   },
   {
    "duration": 17,
    "start_time": "2021-06-27T15:30:37.092Z"
   },
   {
    "duration": 10,
    "start_time": "2021-06-27T15:30:37.112Z"
   },
   {
    "duration": 42,
    "start_time": "2021-06-27T15:30:37.124Z"
   },
   {
    "duration": 12,
    "start_time": "2021-06-27T15:30:37.169Z"
   },
   {
    "duration": 20,
    "start_time": "2021-06-27T15:30:37.184Z"
   },
   {
    "duration": 15,
    "start_time": "2021-06-27T15:30:37.207Z"
   },
   {
    "duration": 32,
    "start_time": "2021-06-27T15:30:37.225Z"
   },
   {
    "duration": 3,
    "start_time": "2021-06-27T15:30:37.260Z"
   },
   {
    "duration": 29,
    "start_time": "2021-06-27T15:30:37.266Z"
   },
   {
    "duration": 133,
    "start_time": "2021-06-27T15:30:37.297Z"
   },
   {
    "duration": 54,
    "start_time": "2021-06-27T15:30:37.432Z"
   },
   {
    "duration": 7,
    "start_time": "2021-06-27T15:30:37.489Z"
   },
   {
    "duration": 23,
    "start_time": "2021-06-27T15:30:37.498Z"
   },
   {
    "duration": 350,
    "start_time": "2021-06-27T15:30:37.523Z"
   },
   {
    "duration": -316,
    "start_time": "2021-06-27T15:30:38.191Z"
   },
   {
    "duration": -328,
    "start_time": "2021-06-27T15:30:38.204Z"
   },
   {
    "duration": -341,
    "start_time": "2021-06-27T15:30:38.219Z"
   },
   {
    "duration": -349,
    "start_time": "2021-06-27T15:30:38.228Z"
   },
   {
    "duration": -386,
    "start_time": "2021-06-27T15:30:38.267Z"
   },
   {
    "duration": -400,
    "start_time": "2021-06-27T15:30:38.282Z"
   },
   {
    "duration": -412,
    "start_time": "2021-06-27T15:30:38.295Z"
   },
   {
    "duration": -423,
    "start_time": "2021-06-27T15:30:38.307Z"
   },
   {
    "duration": -437,
    "start_time": "2021-06-27T15:30:38.322Z"
   },
   {
    "duration": -442,
    "start_time": "2021-06-27T15:30:38.329Z"
   },
   {
    "duration": -456,
    "start_time": "2021-06-27T15:30:38.344Z"
   },
   {
    "duration": -461,
    "start_time": "2021-06-27T15:30:38.351Z"
   },
   {
    "duration": -473,
    "start_time": "2021-06-27T15:30:38.364Z"
   },
   {
    "duration": -484,
    "start_time": "2021-06-27T15:30:38.377Z"
   },
   {
    "duration": -497,
    "start_time": "2021-06-27T15:30:38.391Z"
   },
   {
    "duration": -508,
    "start_time": "2021-06-27T15:30:38.404Z"
   },
   {
    "duration": 8,
    "start_time": "2021-06-27T15:33:41.473Z"
   },
   {
    "duration": 7,
    "start_time": "2021-06-27T15:34:02.813Z"
   },
   {
    "duration": 10,
    "start_time": "2021-06-27T15:34:17.402Z"
   },
   {
    "duration": 11,
    "start_time": "2021-06-27T15:37:14.564Z"
   },
   {
    "duration": 9,
    "start_time": "2021-06-27T15:37:25.860Z"
   },
   {
    "duration": 7,
    "start_time": "2021-06-27T15:37:53.050Z"
   },
   {
    "duration": 6,
    "start_time": "2021-06-27T15:38:14.578Z"
   },
   {
    "duration": 7,
    "start_time": "2021-06-27T15:38:26.857Z"
   },
   {
    "duration": 6,
    "start_time": "2021-06-27T15:52:50.031Z"
   },
   {
    "duration": 16,
    "start_time": "2021-06-27T15:53:13.136Z"
   },
   {
    "duration": 5,
    "start_time": "2021-06-27T15:53:23.830Z"
   },
   {
    "duration": 6,
    "start_time": "2021-06-27T15:59:42.515Z"
   },
   {
    "duration": 6,
    "start_time": "2021-06-27T15:59:58.809Z"
   },
   {
    "duration": 9,
    "start_time": "2021-06-27T16:00:20.957Z"
   },
   {
    "duration": 8,
    "start_time": "2021-06-27T16:00:29.914Z"
   },
   {
    "duration": 999,
    "start_time": "2021-06-27T16:01:08.520Z"
   },
   {
    "duration": 9,
    "start_time": "2021-06-27T16:01:09.521Z"
   },
   {
    "duration": 643,
    "start_time": "2021-06-27T16:01:09.558Z"
   },
   {
    "duration": 7,
    "start_time": "2021-06-27T16:01:10.205Z"
   },
   {
    "duration": 11,
    "start_time": "2021-06-27T16:01:10.215Z"
   },
   {
    "duration": 43,
    "start_time": "2021-06-27T16:01:10.228Z"
   },
   {
    "duration": 8,
    "start_time": "2021-06-27T16:01:10.273Z"
   },
   {
    "duration": 33,
    "start_time": "2021-06-27T16:01:10.285Z"
   },
   {
    "duration": 11,
    "start_time": "2021-06-27T16:01:10.355Z"
   },
   {
    "duration": 14,
    "start_time": "2021-06-27T16:01:10.379Z"
   },
   {
    "duration": 460,
    "start_time": "2021-06-27T16:01:10.396Z"
   },
   {
    "duration": 18,
    "start_time": "2021-06-27T16:01:10.859Z"
   },
   {
    "duration": 15,
    "start_time": "2021-06-27T16:01:10.880Z"
   },
   {
    "duration": 3,
    "start_time": "2021-06-27T16:01:10.898Z"
   },
   {
    "duration": 51,
    "start_time": "2021-06-27T16:01:10.904Z"
   },
   {
    "duration": 10,
    "start_time": "2021-06-27T16:01:10.958Z"
   },
   {
    "duration": 15,
    "start_time": "2021-06-27T16:01:10.970Z"
   },
   {
    "duration": 17,
    "start_time": "2021-06-27T16:01:10.988Z"
   },
   {
    "duration": 71,
    "start_time": "2021-06-27T16:01:11.008Z"
   },
   {
    "duration": 10,
    "start_time": "2021-06-27T16:01:11.082Z"
   },
   {
    "duration": 18,
    "start_time": "2021-06-27T16:01:11.094Z"
   },
   {
    "duration": 8,
    "start_time": "2021-06-27T16:01:11.114Z"
   },
   {
    "duration": 8,
    "start_time": "2021-06-27T16:01:11.159Z"
   },
   {
    "duration": 28,
    "start_time": "2021-06-27T16:01:11.171Z"
   },
   {
    "duration": 11,
    "start_time": "2021-06-27T16:01:11.201Z"
   },
   {
    "duration": 47,
    "start_time": "2021-06-27T16:01:11.214Z"
   },
   {
    "duration": 8,
    "start_time": "2021-06-27T16:01:11.263Z"
   },
   {
    "duration": 7,
    "start_time": "2021-06-27T16:01:11.273Z"
   },
   {
    "duration": 13,
    "start_time": "2021-06-27T16:01:11.282Z"
   },
   {
    "duration": 6,
    "start_time": "2021-06-27T16:01:11.297Z"
   },
   {
    "duration": 23,
    "start_time": "2021-06-27T16:01:11.305Z"
   },
   {
    "duration": 33,
    "start_time": "2021-06-27T16:01:11.330Z"
   },
   {
    "duration": 12,
    "start_time": "2021-06-27T16:01:11.365Z"
   },
   {
    "duration": 3,
    "start_time": "2021-06-27T16:01:11.379Z"
   },
   {
    "duration": 13,
    "start_time": "2021-06-27T16:01:11.384Z"
   },
   {
    "duration": 161,
    "start_time": "2021-06-27T16:01:11.400Z"
   },
   {
    "duration": 47,
    "start_time": "2021-06-27T16:01:11.564Z"
   },
   {
    "duration": 5,
    "start_time": "2021-06-27T16:01:11.613Z"
   },
   {
    "duration": 10,
    "start_time": "2021-06-27T16:01:11.620Z"
   },
   {
    "duration": 359,
    "start_time": "2021-06-27T16:01:11.655Z"
   },
   {
    "duration": -291,
    "start_time": "2021-06-27T16:01:12.309Z"
   },
   {
    "duration": -300,
    "start_time": "2021-06-27T16:01:12.320Z"
   },
   {
    "duration": -305,
    "start_time": "2021-06-27T16:01:12.327Z"
   },
   {
    "duration": -311,
    "start_time": "2021-06-27T16:01:12.335Z"
   },
   {
    "duration": -317,
    "start_time": "2021-06-27T16:01:12.343Z"
   },
   {
    "duration": -321,
    "start_time": "2021-06-27T16:01:12.348Z"
   },
   {
    "duration": -327,
    "start_time": "2021-06-27T16:01:12.355Z"
   },
   {
    "duration": -332,
    "start_time": "2021-06-27T16:01:12.362Z"
   },
   {
    "duration": -338,
    "start_time": "2021-06-27T16:01:12.369Z"
   },
   {
    "duration": -343,
    "start_time": "2021-06-27T16:01:12.375Z"
   },
   {
    "duration": -349,
    "start_time": "2021-06-27T16:01:12.383Z"
   },
   {
    "duration": -355,
    "start_time": "2021-06-27T16:01:12.390Z"
   },
   {
    "duration": -363,
    "start_time": "2021-06-27T16:01:12.400Z"
   },
   {
    "duration": -367,
    "start_time": "2021-06-27T16:01:12.405Z"
   },
   {
    "duration": -371,
    "start_time": "2021-06-27T16:01:12.410Z"
   },
   {
    "duration": -376,
    "start_time": "2021-06-27T16:01:12.416Z"
   },
   {
    "duration": 32,
    "start_time": "2021-06-27T16:03:12.057Z"
   },
   {
    "duration": 988,
    "start_time": "2021-06-27T16:03:33.953Z"
   },
   {
    "duration": 18,
    "start_time": "2021-06-27T16:03:34.944Z"
   },
   {
    "duration": 685,
    "start_time": "2021-06-27T16:03:34.965Z"
   },
   {
    "duration": 8,
    "start_time": "2021-06-27T16:03:35.656Z"
   },
   {
    "duration": 12,
    "start_time": "2021-06-27T16:03:35.666Z"
   },
   {
    "duration": 18,
    "start_time": "2021-06-27T16:03:35.680Z"
   },
   {
    "duration": 8,
    "start_time": "2021-06-27T16:03:35.701Z"
   },
   {
    "duration": 73,
    "start_time": "2021-06-27T16:03:35.712Z"
   },
   {
    "duration": 9,
    "start_time": "2021-06-27T16:03:35.788Z"
   },
   {
    "duration": 10,
    "start_time": "2021-06-27T16:03:35.799Z"
   },
   {
    "duration": 441,
    "start_time": "2021-06-27T16:03:35.811Z"
   },
   {
    "duration": 14,
    "start_time": "2021-06-27T16:03:36.255Z"
   },
   {
    "duration": 11,
    "start_time": "2021-06-27T16:03:36.271Z"
   },
   {
    "duration": 3,
    "start_time": "2021-06-27T16:03:36.284Z"
   },
   {
    "duration": 12,
    "start_time": "2021-06-27T16:03:36.289Z"
   },
   {
    "duration": 10,
    "start_time": "2021-06-27T16:03:36.303Z"
   },
   {
    "duration": 46,
    "start_time": "2021-06-27T16:03:36.315Z"
   },
   {
    "duration": 13,
    "start_time": "2021-06-27T16:03:36.363Z"
   },
   {
    "duration": 81,
    "start_time": "2021-06-27T16:03:36.378Z"
   },
   {
    "duration": 10,
    "start_time": "2021-06-27T16:03:36.461Z"
   },
   {
    "duration": 19,
    "start_time": "2021-06-27T16:03:36.474Z"
   },
   {
    "duration": 9,
    "start_time": "2021-06-27T16:03:36.496Z"
   },
   {
    "duration": 49,
    "start_time": "2021-06-27T16:03:36.510Z"
   },
   {
    "duration": 29,
    "start_time": "2021-06-27T16:03:36.562Z"
   },
   {
    "duration": 16,
    "start_time": "2021-06-27T16:03:36.593Z"
   },
   {
    "duration": 10,
    "start_time": "2021-06-27T16:03:36.611Z"
   },
   {
    "duration": 37,
    "start_time": "2021-06-27T16:03:36.624Z"
   },
   {
    "duration": 18,
    "start_time": "2021-06-27T16:03:36.663Z"
   },
   {
    "duration": 17,
    "start_time": "2021-06-27T16:03:36.684Z"
   },
   {
    "duration": 13,
    "start_time": "2021-06-27T16:03:36.703Z"
   },
   {
    "duration": 31,
    "start_time": "2021-06-27T16:03:36.719Z"
   },
   {
    "duration": 17,
    "start_time": "2021-06-27T16:03:36.752Z"
   },
   {
    "duration": 25,
    "start_time": "2021-06-27T16:03:36.772Z"
   },
   {
    "duration": 22,
    "start_time": "2021-06-27T16:03:36.799Z"
   },
   {
    "duration": 28,
    "start_time": "2021-06-27T16:03:36.824Z"
   },
   {
    "duration": 215,
    "start_time": "2021-06-27T16:03:36.855Z"
   },
   {
    "duration": 67,
    "start_time": "2021-06-27T16:03:37.073Z"
   },
   {
    "duration": 6,
    "start_time": "2021-06-27T16:03:37.157Z"
   },
   {
    "duration": 18,
    "start_time": "2021-06-27T16:03:37.166Z"
   },
   {
    "duration": 52,
    "start_time": "2021-06-27T16:03:37.188Z"
   },
   {
    "duration": 945,
    "start_time": "2021-06-27T16:03:37.243Z"
   },
   {
    "duration": 9,
    "start_time": "2021-06-27T16:03:38.191Z"
   },
   {
    "duration": 2267,
    "start_time": "2021-06-27T16:03:38.203Z"
   },
   {
    "duration": 648,
    "start_time": "2021-06-27T16:03:40.473Z"
   },
   {
    "duration": 45,
    "start_time": "2021-06-27T16:03:41.123Z"
   },
   {
    "duration": 97,
    "start_time": "2021-06-27T16:03:41.170Z"
   },
   {
    "duration": 2038,
    "start_time": "2021-06-27T16:03:41.269Z"
   },
   {
    "duration": 85,
    "start_time": "2021-06-27T16:03:43.310Z"
   },
   {
    "duration": 342,
    "start_time": "2021-06-27T16:03:43.397Z"
   },
   {
    "duration": 74,
    "start_time": "2021-06-27T16:03:43.741Z"
   },
   {
    "duration": 39,
    "start_time": "2021-06-27T16:03:43.817Z"
   },
   {
    "duration": 12,
    "start_time": "2021-06-27T16:03:43.859Z"
   },
   {
    "duration": 11,
    "start_time": "2021-06-27T16:03:43.874Z"
   },
   {
    "duration": 10,
    "start_time": "2021-06-27T16:03:43.888Z"
   },
   {
    "duration": 12,
    "start_time": "2021-06-27T16:03:43.900Z"
   },
   {
    "duration": 313,
    "start_time": "2021-06-27T16:03:43.957Z"
   },
   {
    "duration": 2453,
    "start_time": "2021-06-27T16:08:02.494Z"
   },
   {
    "duration": 2279,
    "start_time": "2021-06-27T16:12:21.281Z"
   },
   {
    "duration": 2288,
    "start_time": "2021-06-27T16:16:00.914Z"
   },
   {
    "duration": 134,
    "start_time": "2021-06-27T16:24:02.272Z"
   },
   {
    "duration": 131,
    "start_time": "2021-06-27T16:28:22.595Z"
   },
   {
    "duration": 138,
    "start_time": "2021-06-27T16:28:46.563Z"
   },
   {
    "duration": 131,
    "start_time": "2021-06-27T16:29:38.527Z"
   },
   {
    "duration": 129,
    "start_time": "2021-06-27T16:30:23.353Z"
   },
   {
    "duration": 3,
    "start_time": "2021-06-27T16:31:58.472Z"
   },
   {
    "duration": 13,
    "start_time": "2021-06-27T16:33:02.065Z"
   },
   {
    "duration": 12,
    "start_time": "2021-06-27T16:34:01.906Z"
   },
   {
    "duration": 17,
    "start_time": "2021-06-27T16:35:14.881Z"
   },
   {
    "duration": 18,
    "start_time": "2021-06-27T16:36:59.191Z"
   },
   {
    "duration": 23,
    "start_time": "2021-06-27T16:37:41.722Z"
   },
   {
    "duration": 22,
    "start_time": "2021-06-27T16:38:00.513Z"
   },
   {
    "duration": 23,
    "start_time": "2021-06-27T16:40:23.270Z"
   },
   {
    "duration": 23,
    "start_time": "2021-06-27T16:41:54.483Z"
   },
   {
    "duration": 28,
    "start_time": "2021-06-27T16:42:04.641Z"
   },
   {
    "duration": 484,
    "start_time": "2021-06-27T16:43:20.498Z"
   },
   {
    "duration": 47,
    "start_time": "2021-06-27T16:45:17.052Z"
   },
   {
    "duration": 1009,
    "start_time": "2021-06-27T16:47:14.759Z"
   },
   {
    "duration": 13,
    "start_time": "2021-06-27T16:47:15.772Z"
   },
   {
    "duration": 696,
    "start_time": "2021-06-27T16:47:15.794Z"
   },
   {
    "duration": 7,
    "start_time": "2021-06-27T16:47:16.492Z"
   },
   {
    "duration": 13,
    "start_time": "2021-06-27T16:47:16.501Z"
   },
   {
    "duration": 51,
    "start_time": "2021-06-27T16:47:16.517Z"
   },
   {
    "duration": 10,
    "start_time": "2021-06-27T16:47:16.574Z"
   },
   {
    "duration": 32,
    "start_time": "2021-06-27T16:47:16.587Z"
   },
   {
    "duration": 41,
    "start_time": "2021-06-27T16:47:16.623Z"
   },
   {
    "duration": 15,
    "start_time": "2021-06-27T16:47:16.668Z"
   },
   {
    "duration": 656,
    "start_time": "2021-06-27T16:47:16.686Z"
   },
   {
    "duration": 17,
    "start_time": "2021-06-27T16:47:17.345Z"
   },
   {
    "duration": 11,
    "start_time": "2021-06-27T16:47:17.365Z"
   },
   {
    "duration": 3,
    "start_time": "2021-06-27T16:47:17.378Z"
   },
   {
    "duration": 11,
    "start_time": "2021-06-27T16:47:17.383Z"
   },
   {
    "duration": 10,
    "start_time": "2021-06-27T16:47:17.397Z"
   },
   {
    "duration": 9,
    "start_time": "2021-06-27T16:47:17.457Z"
   },
   {
    "duration": 14,
    "start_time": "2021-06-27T16:47:17.468Z"
   },
   {
    "duration": 79,
    "start_time": "2021-06-27T16:47:17.485Z"
   },
   {
    "duration": 11,
    "start_time": "2021-06-27T16:47:17.567Z"
   },
   {
    "duration": 25,
    "start_time": "2021-06-27T16:47:17.581Z"
   },
   {
    "duration": 44,
    "start_time": "2021-06-27T16:47:17.615Z"
   },
   {
    "duration": 8,
    "start_time": "2021-06-27T16:47:17.664Z"
   },
   {
    "duration": 28,
    "start_time": "2021-06-27T16:47:17.675Z"
   },
   {
    "duration": 51,
    "start_time": "2021-06-27T16:47:17.706Z"
   },
   {
    "duration": 13,
    "start_time": "2021-06-27T16:47:17.760Z"
   },
   {
    "duration": 8,
    "start_time": "2021-06-27T16:47:17.776Z"
   },
   {
    "duration": 7,
    "start_time": "2021-06-27T16:47:17.787Z"
   },
   {
    "duration": 13,
    "start_time": "2021-06-27T16:47:17.797Z"
   },
   {
    "duration": 43,
    "start_time": "2021-06-27T16:47:17.813Z"
   },
   {
    "duration": 23,
    "start_time": "2021-06-27T16:47:17.859Z"
   },
   {
    "duration": 11,
    "start_time": "2021-06-27T16:47:17.884Z"
   },
   {
    "duration": 20,
    "start_time": "2021-06-27T16:47:17.898Z"
   },
   {
    "duration": 15,
    "start_time": "2021-06-27T16:47:17.920Z"
   },
   {
    "duration": 27,
    "start_time": "2021-06-27T16:47:17.937Z"
   },
   {
    "duration": 128,
    "start_time": "2021-06-27T16:47:17.966Z"
   },
   {
    "duration": 47,
    "start_time": "2021-06-27T16:47:18.097Z"
   },
   {
    "duration": 5,
    "start_time": "2021-06-27T16:47:18.156Z"
   },
   {
    "duration": 13,
    "start_time": "2021-06-27T16:47:18.164Z"
   },
   {
    "duration": 51,
    "start_time": "2021-06-27T16:47:18.179Z"
   },
   {
    "duration": 1538,
    "start_time": "2021-06-27T16:47:18.233Z"
   },
   {
    "duration": 9,
    "start_time": "2021-06-27T16:47:19.774Z"
   },
   {
    "duration": 2250,
    "start_time": "2021-06-27T16:47:19.786Z"
   },
   {
    "duration": 687,
    "start_time": "2021-06-27T16:47:22.039Z"
   },
   {
    "duration": 27,
    "start_time": "2021-06-27T16:47:22.729Z"
   },
   {
    "duration": 129,
    "start_time": "2021-06-27T16:47:22.758Z"
   },
   {
    "duration": 24,
    "start_time": "2021-06-27T16:47:22.890Z"
   },
   {
    "duration": 56,
    "start_time": "2021-06-27T16:47:22.917Z"
   },
   {
    "duration": 1912,
    "start_time": "2021-06-27T16:47:22.976Z"
   },
   {
    "duration": 88,
    "start_time": "2021-06-27T16:47:24.891Z"
   },
   {
    "duration": 314,
    "start_time": "2021-06-27T16:47:24.982Z"
   },
   {
    "duration": 77,
    "start_time": "2021-06-27T16:47:25.299Z"
   },
   {
    "duration": 15,
    "start_time": "2021-06-27T16:47:25.379Z"
   },
   {
    "duration": 15,
    "start_time": "2021-06-27T16:47:25.397Z"
   },
   {
    "duration": 17,
    "start_time": "2021-06-27T16:47:25.414Z"
   },
   {
    "duration": 34,
    "start_time": "2021-06-27T16:47:25.433Z"
   },
   {
    "duration": 22,
    "start_time": "2021-06-27T16:47:25.469Z"
   },
   {
    "duration": 367,
    "start_time": "2021-06-27T16:47:25.493Z"
   },
   {
    "duration": 365,
    "start_time": "2021-06-27T16:48:29.471Z"
   },
   {
    "duration": 40,
    "start_time": "2021-06-27T16:48:47.621Z"
   },
   {
    "duration": 64,
    "start_time": "2021-06-27T16:49:27.183Z"
   },
   {
    "duration": 285,
    "start_time": "2021-06-27T16:49:58.006Z"
   },
   {
    "duration": 28,
    "start_time": "2021-06-27T16:50:25.627Z"
   },
   {
    "duration": 27,
    "start_time": "2021-06-27T16:50:35.434Z"
   },
   {
    "duration": 272,
    "start_time": "2021-06-27T16:51:33.044Z"
   },
   {
    "duration": 29,
    "start_time": "2021-06-27T16:51:44.716Z"
   },
   {
    "duration": 32,
    "start_time": "2021-06-27T16:52:02.709Z"
   },
   {
    "duration": 24,
    "start_time": "2021-06-27T16:52:23.233Z"
   },
   {
    "duration": 36,
    "start_time": "2021-06-27T16:52:30.025Z"
   },
   {
    "duration": 462,
    "start_time": "2021-06-27T16:52:52.290Z"
   },
   {
    "duration": 289,
    "start_time": "2021-06-27T16:55:16.285Z"
   },
   {
    "duration": 26,
    "start_time": "2021-06-27T16:57:28.344Z"
   },
   {
    "duration": 31,
    "start_time": "2021-06-27T16:57:38.545Z"
   },
   {
    "duration": 33,
    "start_time": "2021-06-27T16:59:27.790Z"
   },
   {
    "duration": 35,
    "start_time": "2021-06-27T16:59:41.289Z"
   },
   {
    "duration": 24,
    "start_time": "2021-06-27T17:05:23.732Z"
   },
   {
    "duration": 17,
    "start_time": "2021-06-27T17:08:00.975Z"
   },
   {
    "duration": 6699,
    "start_time": "2021-06-27T17:08:53.782Z"
   },
   {
    "duration": 6266,
    "start_time": "2021-06-27T17:09:26.435Z"
   },
   {
    "duration": 6113,
    "start_time": "2021-06-27T17:09:48.340Z"
   },
   {
    "duration": 19,
    "start_time": "2021-06-27T17:10:15.572Z"
   },
   {
    "duration": 262,
    "start_time": "2021-06-27T17:10:28.340Z"
   },
   {
    "duration": 20,
    "start_time": "2021-06-27T17:10:38.255Z"
   },
   {
    "duration": 83,
    "start_time": "2021-06-27T17:11:13.218Z"
   },
   {
    "duration": 94,
    "start_time": "2021-06-27T17:11:28.173Z"
   },
   {
    "duration": 22,
    "start_time": "2021-06-27T17:11:33.645Z"
   },
   {
    "duration": 273,
    "start_time": "2021-06-27T17:11:42.981Z"
   },
   {
    "duration": 19,
    "start_time": "2021-06-27T17:11:50.397Z"
   },
   {
    "duration": 20,
    "start_time": "2021-06-27T17:12:01.071Z"
   },
   {
    "duration": 6250,
    "start_time": "2021-06-27T17:13:31.638Z"
   },
   {
    "duration": 20,
    "start_time": "2021-06-27T17:13:45.042Z"
   },
   {
    "duration": 20,
    "start_time": "2021-06-27T17:13:59.740Z"
   },
   {
    "duration": 21,
    "start_time": "2021-06-27T17:14:11.091Z"
   },
   {
    "duration": 311,
    "start_time": "2021-06-27T17:14:29.990Z"
   },
   {
    "duration": 118,
    "start_time": "2021-06-27T17:19:05.033Z"
   },
   {
    "duration": 57,
    "start_time": "2021-06-27T17:19:26.005Z"
   },
   {
    "duration": 58,
    "start_time": "2021-06-27T17:19:31.850Z"
   },
   {
    "duration": 18,
    "start_time": "2021-06-27T17:19:37.085Z"
   },
   {
    "duration": 43,
    "start_time": "2021-06-27T17:20:04.060Z"
   },
   {
    "duration": 298,
    "start_time": "2021-06-27T17:20:40.802Z"
   },
   {
    "duration": 127,
    "start_time": "2021-06-27T17:20:51.195Z"
   },
   {
    "duration": 40,
    "start_time": "2021-06-27T17:20:57.746Z"
   },
   {
    "duration": 124,
    "start_time": "2021-06-27T17:21:02.837Z"
   },
   {
    "duration": 36,
    "start_time": "2021-06-27T17:24:35.224Z"
   },
   {
    "duration": 245,
    "start_time": "2021-06-27T17:26:23.690Z"
   },
   {
    "duration": 264,
    "start_time": "2021-06-27T17:26:33.910Z"
   },
   {
    "duration": 243,
    "start_time": "2021-06-27T17:27:43.386Z"
   },
   {
    "duration": 985,
    "start_time": "2021-06-27T17:27:57.444Z"
   },
   {
    "duration": 25,
    "start_time": "2021-06-27T17:27:58.432Z"
   },
   {
    "duration": 652,
    "start_time": "2021-06-27T17:27:58.460Z"
   },
   {
    "duration": 8,
    "start_time": "2021-06-27T17:27:59.115Z"
   },
   {
    "duration": 33,
    "start_time": "2021-06-27T17:27:59.126Z"
   },
   {
    "duration": 18,
    "start_time": "2021-06-27T17:27:59.161Z"
   },
   {
    "duration": 12,
    "start_time": "2021-06-27T17:27:59.182Z"
   },
   {
    "duration": 65,
    "start_time": "2021-06-27T17:27:59.197Z"
   },
   {
    "duration": 9,
    "start_time": "2021-06-27T17:27:59.265Z"
   },
   {
    "duration": 11,
    "start_time": "2021-06-27T17:27:59.277Z"
   },
   {
    "duration": 419,
    "start_time": "2021-06-27T17:27:59.290Z"
   },
   {
    "duration": 13,
    "start_time": "2021-06-27T17:27:59.711Z"
   },
   {
    "duration": 29,
    "start_time": "2021-06-27T17:27:59.727Z"
   },
   {
    "duration": 3,
    "start_time": "2021-06-27T17:27:59.758Z"
   },
   {
    "duration": 11,
    "start_time": "2021-06-27T17:27:59.764Z"
   },
   {
    "duration": 10,
    "start_time": "2021-06-27T17:27:59.777Z"
   },
   {
    "duration": 13,
    "start_time": "2021-06-27T17:27:59.789Z"
   },
   {
    "duration": 53,
    "start_time": "2021-06-27T17:27:59.804Z"
   },
   {
    "duration": 57,
    "start_time": "2021-06-27T17:27:59.860Z"
   },
   {
    "duration": 36,
    "start_time": "2021-06-27T17:27:59.920Z"
   },
   {
    "duration": 20,
    "start_time": "2021-06-27T17:27:59.959Z"
   },
   {
    "duration": 9,
    "start_time": "2021-06-27T17:27:59.981Z"
   },
   {
    "duration": 6,
    "start_time": "2021-06-27T17:27:59.996Z"
   },
   {
    "duration": 72,
    "start_time": "2021-06-27T17:28:00.005Z"
   },
   {
    "duration": 10,
    "start_time": "2021-06-27T17:28:00.080Z"
   },
   {
    "duration": 28,
    "start_time": "2021-06-27T17:28:00.093Z"
   },
   {
    "duration": 15,
    "start_time": "2021-06-27T17:28:00.124Z"
   },
   {
    "duration": 14,
    "start_time": "2021-06-27T17:28:00.155Z"
   },
   {
    "duration": 23,
    "start_time": "2021-06-27T17:28:00.171Z"
   },
   {
    "duration": 16,
    "start_time": "2021-06-27T17:28:00.196Z"
   },
   {
    "duration": 30,
    "start_time": "2021-06-27T17:28:00.215Z"
   },
   {
    "duration": 28,
    "start_time": "2021-06-27T17:28:00.248Z"
   },
   {
    "duration": 26,
    "start_time": "2021-06-27T17:28:00.279Z"
   },
   {
    "duration": 21,
    "start_time": "2021-06-27T17:28:00.308Z"
   },
   {
    "duration": 36,
    "start_time": "2021-06-27T17:28:00.331Z"
   },
   {
    "duration": 138,
    "start_time": "2021-06-27T17:28:00.370Z"
   },
   {
    "duration": 56,
    "start_time": "2021-06-27T17:28:00.510Z"
   },
   {
    "duration": 6,
    "start_time": "2021-06-27T17:28:00.569Z"
   },
   {
    "duration": 20,
    "start_time": "2021-06-27T17:28:00.578Z"
   },
   {
    "duration": 54,
    "start_time": "2021-06-27T17:28:00.601Z"
   },
   {
    "duration": 1409,
    "start_time": "2021-06-27T17:28:00.659Z"
   },
   {
    "duration": 9,
    "start_time": "2021-06-27T17:28:02.071Z"
   },
   {
    "duration": 3348,
    "start_time": "2021-06-27T17:28:02.083Z"
   },
   {
    "duration": 984,
    "start_time": "2021-06-27T17:28:05.434Z"
   },
   {
    "duration": 20,
    "start_time": "2021-06-27T17:28:06.421Z"
   },
   {
    "duration": 130,
    "start_time": "2021-06-27T17:28:06.456Z"
   },
   {
    "duration": 44,
    "start_time": "2021-06-27T17:28:06.588Z"
   },
   {
    "duration": 71,
    "start_time": "2021-06-27T17:28:06.635Z"
   },
   {
    "duration": 3117,
    "start_time": "2021-06-27T17:28:06.709Z"
   },
   {
    "duration": 78,
    "start_time": "2021-06-27T17:28:09.828Z"
   },
   {
    "duration": 47,
    "start_time": "2021-06-27T17:28:09.908Z"
   },
   {
    "duration": 317,
    "start_time": "2021-06-27T17:28:09.957Z"
   },
   {
    "duration": 80,
    "start_time": "2021-06-27T17:28:10.277Z"
   },
   {
    "duration": 13,
    "start_time": "2021-06-27T17:28:10.360Z"
   },
   {
    "duration": 11,
    "start_time": "2021-06-27T17:28:10.377Z"
   },
   {
    "duration": 9,
    "start_time": "2021-06-27T17:28:10.391Z"
   },
   {
    "duration": 9,
    "start_time": "2021-06-27T17:28:10.402Z"
   },
   {
    "duration": 10,
    "start_time": "2021-06-27T17:28:10.455Z"
   },
   {
    "duration": 113,
    "start_time": "2021-06-27T17:28:10.468Z"
   },
   {
    "duration": 100,
    "start_time": "2021-06-27T17:32:03.957Z"
   },
   {
    "duration": 1023,
    "start_time": "2021-06-28T05:11:27.348Z"
   },
   {
    "duration": 9,
    "start_time": "2021-06-28T05:11:28.384Z"
   },
   {
    "duration": 622,
    "start_time": "2021-06-28T05:11:28.396Z"
   },
   {
    "duration": 7,
    "start_time": "2021-06-28T05:11:29.021Z"
   },
   {
    "duration": 12,
    "start_time": "2021-06-28T05:11:29.031Z"
   },
   {
    "duration": 47,
    "start_time": "2021-06-28T05:11:29.046Z"
   },
   {
    "duration": 12,
    "start_time": "2021-06-28T05:11:29.096Z"
   },
   {
    "duration": 35,
    "start_time": "2021-06-28T05:11:29.112Z"
   },
   {
    "duration": 34,
    "start_time": "2021-06-28T05:11:29.150Z"
   },
   {
    "duration": 11,
    "start_time": "2021-06-28T05:11:29.187Z"
   },
   {
    "duration": 423,
    "start_time": "2021-06-28T05:11:29.200Z"
   },
   {
    "duration": 13,
    "start_time": "2021-06-28T05:11:29.625Z"
   },
   {
    "duration": 15,
    "start_time": "2021-06-28T05:11:29.641Z"
   },
   {
    "duration": 26,
    "start_time": "2021-06-28T05:11:29.658Z"
   },
   {
    "duration": 24,
    "start_time": "2021-06-28T05:11:29.686Z"
   },
   {
    "duration": 10,
    "start_time": "2021-06-28T05:11:29.712Z"
   },
   {
    "duration": 11,
    "start_time": "2021-06-28T05:11:29.725Z"
   },
   {
    "duration": 10,
    "start_time": "2021-06-28T05:11:29.738Z"
   },
   {
    "duration": 61,
    "start_time": "2021-06-28T05:11:29.784Z"
   },
   {
    "duration": 36,
    "start_time": "2021-06-28T05:11:29.848Z"
   },
   {
    "duration": 19,
    "start_time": "2021-06-28T05:11:29.887Z"
   },
   {
    "duration": 8,
    "start_time": "2021-06-28T05:11:29.909Z"
   },
   {
    "duration": 8,
    "start_time": "2021-06-28T05:11:29.923Z"
   },
   {
    "duration": 70,
    "start_time": "2021-06-28T05:11:29.935Z"
   },
   {
    "duration": 13,
    "start_time": "2021-06-28T05:11:30.008Z"
   },
   {
    "duration": 11,
    "start_time": "2021-06-28T05:11:30.024Z"
   },
   {
    "duration": 51,
    "start_time": "2021-06-28T05:11:30.038Z"
   },
   {
    "duration": 8,
    "start_time": "2021-06-28T05:11:30.091Z"
   },
   {
    "duration": 12,
    "start_time": "2021-06-28T05:11:30.101Z"
   },
   {
    "duration": 8,
    "start_time": "2021-06-28T05:11:30.116Z"
   },
   {
    "duration": 13,
    "start_time": "2021-06-28T05:11:30.127Z"
   },
   {
    "duration": 45,
    "start_time": "2021-06-28T05:11:30.143Z"
   },
   {
    "duration": 21,
    "start_time": "2021-06-28T05:11:30.190Z"
   },
   {
    "duration": 11,
    "start_time": "2021-06-28T05:11:30.213Z"
   },
   {
    "duration": 16,
    "start_time": "2021-06-28T05:11:30.227Z"
   },
   {
    "duration": 141,
    "start_time": "2021-06-28T05:11:30.245Z"
   },
   {
    "duration": 48,
    "start_time": "2021-06-28T05:11:30.388Z"
   },
   {
    "duration": 6,
    "start_time": "2021-06-28T05:11:30.438Z"
   },
   {
    "duration": 21,
    "start_time": "2021-06-28T05:11:30.446Z"
   },
   {
    "duration": 41,
    "start_time": "2021-06-28T05:11:30.470Z"
   },
   {
    "duration": 902,
    "start_time": "2021-06-28T05:11:30.513Z"
   },
   {
    "duration": 8,
    "start_time": "2021-06-28T05:11:31.417Z"
   },
   {
    "duration": 2196,
    "start_time": "2021-06-28T05:11:31.427Z"
   },
   {
    "duration": 590,
    "start_time": "2021-06-28T05:11:33.626Z"
   },
   {
    "duration": 14,
    "start_time": "2021-06-28T05:11:34.218Z"
   },
   {
    "duration": 140,
    "start_time": "2021-06-28T05:11:34.234Z"
   },
   {
    "duration": 46,
    "start_time": "2021-06-28T05:11:34.376Z"
   },
   {
    "duration": 35,
    "start_time": "2021-06-28T05:11:34.425Z"
   },
   {
    "duration": 1814,
    "start_time": "2021-06-28T05:11:34.484Z"
   },
   {
    "duration": 93,
    "start_time": "2021-06-28T05:11:36.301Z"
   },
   {
    "duration": 27,
    "start_time": "2021-06-28T05:11:36.397Z"
   },
   {
    "duration": 338,
    "start_time": "2021-06-28T05:11:36.427Z"
   },
   {
    "duration": 68,
    "start_time": "2021-06-28T05:11:36.768Z"
   },
   {
    "duration": 13,
    "start_time": "2021-06-28T05:11:36.838Z"
   },
   {
    "duration": 32,
    "start_time": "2021-06-28T05:11:36.853Z"
   },
   {
    "duration": 10,
    "start_time": "2021-06-28T05:11:36.887Z"
   },
   {
    "duration": 17,
    "start_time": "2021-06-28T05:11:36.899Z"
   },
   {
    "duration": 20,
    "start_time": "2021-06-28T05:11:36.918Z"
   },
   {
    "duration": 118,
    "start_time": "2021-06-28T05:11:36.940Z"
   },
   {
    "duration": 12,
    "start_time": "2021-06-28T05:45:47.000Z"
   },
   {
    "duration": 105,
    "start_time": "2021-06-28T05:49:07.428Z"
   },
   {
    "duration": 10,
    "start_time": "2021-06-28T05:49:10.587Z"
   }
  ],
  "kernelspec": {
   "display_name": "Python 3",
   "language": "python",
   "name": "python3"
  },
  "language_info": {
   "codemirror_mode": {
    "name": "ipython",
    "version": 3
   },
   "file_extension": ".py",
   "mimetype": "text/x-python",
   "name": "python",
   "nbconvert_exporter": "python",
   "pygments_lexer": "ipython3",
   "version": "3.8.8"
  },
  "toc": {
   "base_numbering": 1,
   "nav_menu": {},
   "number_sections": true,
   "sideBar": true,
   "skip_h1_title": true,
   "title_cell": "Содержание",
   "title_sidebar": "Contents",
   "toc_cell": true,
   "toc_position": {
    "height": "calc(100% - 180px)",
    "left": "10px",
    "top": "150px",
    "width": "165px"
   },
   "toc_section_display": true,
   "toc_window_display": true
  }
 },
 "nbformat": 4,
 "nbformat_minor": 2
}
