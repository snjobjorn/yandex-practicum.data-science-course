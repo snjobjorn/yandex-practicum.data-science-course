{
 "cells": [
  {
   "cell_type": "code",
   "execution_count": 1,
   "metadata": {},
   "outputs": [
    {
     "name": "stdout",
     "output_type": "stream",
     "text": [
      "C:\\Users\\Алекс\\Downloads\\Яндекс.Практикум\\final-project\n"
     ]
    }
   ],
   "source": [
    "import os\n",
    "print(os.getcwd())"
   ]
  },
  {
   "cell_type": "markdown",
   "metadata": {},
   "source": [
    "# Промышленность — задача проекта"
   ]
  },
  {
   "cell_type": "markdown",
   "metadata": {},
   "source": [
    "Чтобы оптимизировать производственные расходы, металлургический комбинат ООО «Так закаляем сталь» решил уменьшить потребление электроэнергии на этапе обработки стали. Вам предстоит построить модель, которая предскажет температуру стали."
   ]
  },
  {
   "cell_type": "markdown",
   "metadata": {},
   "source": [
    "# Описание этапа обработки"
   ]
  },
  {
   "cell_type": "markdown",
   "metadata": {},
   "source": [
    "Сталь обрабатывают в металлическом ковше вместимостью около 100 тонн. Чтобы ковш выдерживал высокие температуры, изнутри его облицовывают огнеупорным кирпичом. Расплавленную сталь заливают в ковш и подогревают до нужной температуры графитовыми электродами. Они установлены в крышке ковша. \n",
    "\n",
    "Из сплава выводится сера (десульфурация), добавлением примесей корректируется химический состав и отбираются пробы. Сталь легируют — изменяют её состав — подавая куски сплава из бункера для сыпучих материалов или проволоку через специальный трайб-аппарат (англ. tribe, «масса»).\n",
    "\n",
    "Перед тем как первый раз ввести легирующие добавки, измеряют температуру стали и производят её химический анализ. Потом температуру на несколько минут повышают, добавляют легирующие материалы и продувают сплав инертным газом. Затем его перемешивают и снова проводят измерения. Такой цикл повторяется до достижения целевого химического состава и оптимальной температуры плавки.\n",
    "\n",
    "Тогда расплавленная сталь отправляется на доводку металла или поступает в машину непрерывной разливки. Оттуда готовый продукт выходит в виде заготовок-слябов (англ. *slab*, «плита»)."
   ]
  },
  {
   "cell_type": "markdown",
   "metadata": {},
   "source": [
    "**Импорты**"
   ]
  },
  {
   "cell_type": "code",
   "execution_count": 2,
   "metadata": {},
   "outputs": [],
   "source": [
    "import pandas as pd\n",
    "import seaborn as sns\n",
    "\n",
    "import numpy as np\n",
    "import matplotlib.pyplot as plt\n",
    "from sklearn.model_selection import train_test_split\n",
    "from sklearn.linear_model import LinearRegression\n",
    "from sklearn.tree import DecisionTreeRegressor\n",
    "from sklearn.linear_model import LogisticRegression\n",
    "from lightgbm import LGBMRegressor\n",
    "\n",
    "from sklearn.metrics import mean_absolute_error\n",
    "from sklearn.metrics import r2_score\n",
    "from sklearn.metrics import make_scorer\n",
    "from sklearn.model_selection import cross_val_score\n",
    "\n",
    "from sklearn.ensemble import RandomForestRegressor\n",
    "from sklearn.model_selection import GridSearchCV\n",
    "\n",
    "from sklearn.preprocessing import StandardScaler"
   ]
  },
  {
   "cell_type": "markdown",
   "metadata": {},
   "source": [
    "# Работа с данными"
   ]
  },
  {
   "cell_type": "markdown",
   "metadata": {},
   "source": [
    "## 1. Описание данных"
   ]
  },
  {
   "cell_type": "markdown",
   "metadata": {},
   "source": [
    "Данные состоят из файлов, полученных из разных источников:\n",
    "\n",
    "- `data_arc.csv` — данные об электродах;\n",
    "\n",
    "- `data_bulk.csv` — данные о подаче сыпучих материалов (объём);\n",
    "\n",
    "- `data_bulk_time.csv` *—* данные о подаче сыпучих материалов (время);\n",
    "\n",
    "- `data_gas.csv` — данные о продувке сплава газом;\n",
    "\n",
    "- `data_temp.csv` — результаты измерения температуры;\n",
    "\n",
    "- `data_wire.csv` — данные о проволочных материалах (объём);\n",
    "\n",
    "- `data_wire_time.csv` — данные о проволочных материалах (время).\n",
    "\n",
    "Во всех файлах столбец `key` содержит номер партии. В файлах может быть несколько строк с одинаковым значением `key`: они соответствуют разным итерациям обработки."
   ]
  },
  {
   "cell_type": "code",
   "execution_count": 3,
   "metadata": {},
   "outputs": [],
   "source": [
    "data_arc = pd.read_csv('data_arc.csv')\n",
    "data_bulk = pd.read_csv('data_bulk.csv')\n",
    "data_bulk_time = pd.read_csv('data_bulk_time.csv')\n",
    "data_gas = pd.read_csv('data_gas.csv')\n",
    "data_temp = pd.read_csv('data_temp.csv')\n",
    "data_wire = pd.read_csv('data_wire.csv')\n",
    "data_wire_time = pd.read_csv('data_wire_time.csv')"
   ]
  },
  {
   "cell_type": "markdown",
   "metadata": {},
   "source": [
    "data_arc = pd.read_csv('/datasets/final_steel/data_arc.csv')\n",
    "data_bulk = pd.read_csv('/datasets/final_steel/data_bulk.csv')\n",
    "data_bulk_time = pd.read_csv('/datasets/final_steel/data_bulk_time.csv')\n",
    "data_gas = pd.read_csv('/datasets/final_steel/data_gas.csv')\n",
    "data_temp = pd.read_csv('/datasets/final_steel/data_temp.csv')\n",
    "data_wire = pd.read_csv('/datasets/final_steel/data_wire.csv')\n",
    "data_wire_time = pd.read_csv('/datasets/final_steel/data_wire_time.csv')"
   ]
  },
  {
   "cell_type": "markdown",
   "metadata": {},
   "source": [
    "### **Поймем примерно какие столбцы имеются в датасетах**\n",
    "\n",
    "Для этого изучим каждую из таблиц..."
   ]
  },
  {
   "cell_type": "markdown",
   "metadata": {},
   "source": [
    "***data_arc***"
   ]
  },
  {
   "cell_type": "code",
   "execution_count": 4,
   "metadata": {},
   "outputs": [
    {
     "data": {
      "text/html": [
       "<div>\n",
       "<style scoped>\n",
       "    .dataframe tbody tr th:only-of-type {\n",
       "        vertical-align: middle;\n",
       "    }\n",
       "\n",
       "    .dataframe tbody tr th {\n",
       "        vertical-align: top;\n",
       "    }\n",
       "\n",
       "    .dataframe thead th {\n",
       "        text-align: right;\n",
       "    }\n",
       "</style>\n",
       "<table border=\"1\" class=\"dataframe\">\n",
       "  <thead>\n",
       "    <tr style=\"text-align: right;\">\n",
       "      <th></th>\n",
       "      <th>key</th>\n",
       "      <th>Начало нагрева дугой</th>\n",
       "      <th>Конец нагрева дугой</th>\n",
       "      <th>Активная мощность</th>\n",
       "      <th>Реактивная мощность</th>\n",
       "    </tr>\n",
       "  </thead>\n",
       "  <tbody>\n",
       "    <tr>\n",
       "      <th>0</th>\n",
       "      <td>1</td>\n",
       "      <td>2019-05-03 11:02:14</td>\n",
       "      <td>2019-05-03 11:06:02</td>\n",
       "      <td>0.976059</td>\n",
       "      <td>0.687084</td>\n",
       "    </tr>\n",
       "    <tr>\n",
       "      <th>1</th>\n",
       "      <td>1</td>\n",
       "      <td>2019-05-03 11:07:28</td>\n",
       "      <td>2019-05-03 11:10:33</td>\n",
       "      <td>0.805607</td>\n",
       "      <td>0.520285</td>\n",
       "    </tr>\n",
       "    <tr>\n",
       "      <th>2</th>\n",
       "      <td>1</td>\n",
       "      <td>2019-05-03 11:11:44</td>\n",
       "      <td>2019-05-03 11:14:36</td>\n",
       "      <td>0.744363</td>\n",
       "      <td>0.498805</td>\n",
       "    </tr>\n",
       "    <tr>\n",
       "      <th>3</th>\n",
       "      <td>1</td>\n",
       "      <td>2019-05-03 11:18:14</td>\n",
       "      <td>2019-05-03 11:24:19</td>\n",
       "      <td>1.659363</td>\n",
       "      <td>1.062669</td>\n",
       "    </tr>\n",
       "    <tr>\n",
       "      <th>4</th>\n",
       "      <td>1</td>\n",
       "      <td>2019-05-03 11:26:09</td>\n",
       "      <td>2019-05-03 11:28:37</td>\n",
       "      <td>0.692755</td>\n",
       "      <td>0.414397</td>\n",
       "    </tr>\n",
       "  </tbody>\n",
       "</table>\n",
       "</div>"
      ],
      "text/plain": [
       "   key Начало нагрева дугой  Конец нагрева дугой  Активная мощность  \\\n",
       "0    1  2019-05-03 11:02:14  2019-05-03 11:06:02           0.976059   \n",
       "1    1  2019-05-03 11:07:28  2019-05-03 11:10:33           0.805607   \n",
       "2    1  2019-05-03 11:11:44  2019-05-03 11:14:36           0.744363   \n",
       "3    1  2019-05-03 11:18:14  2019-05-03 11:24:19           1.659363   \n",
       "4    1  2019-05-03 11:26:09  2019-05-03 11:28:37           0.692755   \n",
       "\n",
       "   Реактивная мощность  \n",
       "0             0.687084  \n",
       "1             0.520285  \n",
       "2             0.498805  \n",
       "3             1.062669  \n",
       "4             0.414397  "
      ]
     },
     "execution_count": 4,
     "metadata": {},
     "output_type": "execute_result"
    }
   ],
   "source": [
    "data_arc.head()"
   ]
  },
  {
   "cell_type": "code",
   "execution_count": 5,
   "metadata": {
    "scrolled": true
   },
   "outputs": [
    {
     "name": "stdout",
     "output_type": "stream",
     "text": [
      "<class 'pandas.core.frame.DataFrame'>\n",
      "RangeIndex: 14876 entries, 0 to 14875\n",
      "Data columns (total 5 columns):\n",
      " #   Column                Non-Null Count  Dtype  \n",
      "---  ------                --------------  -----  \n",
      " 0   key                   14876 non-null  int64  \n",
      " 1   Начало нагрева дугой  14876 non-null  object \n",
      " 2   Конец нагрева дугой   14876 non-null  object \n",
      " 3   Активная мощность     14876 non-null  float64\n",
      " 4   Реактивная мощность   14876 non-null  float64\n",
      "dtypes: float64(2), int64(1), object(2)\n",
      "memory usage: 581.2+ KB\n"
     ]
    }
   ],
   "source": [
    "data_arc.info()"
   ]
  },
  {
   "cell_type": "markdown",
   "metadata": {},
   "source": [
    "Тут пропусков нет"
   ]
  },
  {
   "cell_type": "code",
   "execution_count": 6,
   "metadata": {},
   "outputs": [],
   "source": [
    "data_arc.drop(data_arc.columns[1:3], axis=1, inplace=True)"
   ]
  },
  {
   "cell_type": "code",
   "execution_count": 7,
   "metadata": {},
   "outputs": [],
   "source": [
    "data_arc = data_arc.groupby(['key']).sum()"
   ]
  },
  {
   "cell_type": "code",
   "execution_count": 8,
   "metadata": {},
   "outputs": [],
   "source": [
    "# data_arc['key'] = data_arc.index"
   ]
  },
  {
   "cell_type": "code",
   "execution_count": 9,
   "metadata": {},
   "outputs": [
    {
     "data": {
      "text/html": [
       "<div>\n",
       "<style scoped>\n",
       "    .dataframe tbody tr th:only-of-type {\n",
       "        vertical-align: middle;\n",
       "    }\n",
       "\n",
       "    .dataframe tbody tr th {\n",
       "        vertical-align: top;\n",
       "    }\n",
       "\n",
       "    .dataframe thead th {\n",
       "        text-align: right;\n",
       "    }\n",
       "</style>\n",
       "<table border=\"1\" class=\"dataframe\">\n",
       "  <thead>\n",
       "    <tr style=\"text-align: right;\">\n",
       "      <th></th>\n",
       "      <th>Активная мощность</th>\n",
       "      <th>Реактивная мощность</th>\n",
       "    </tr>\n",
       "    <tr>\n",
       "      <th>key</th>\n",
       "      <th></th>\n",
       "      <th></th>\n",
       "    </tr>\n",
       "  </thead>\n",
       "  <tbody>\n",
       "    <tr>\n",
       "      <th>1</th>\n",
       "      <td>4.878147</td>\n",
       "      <td>3.183241</td>\n",
       "    </tr>\n",
       "    <tr>\n",
       "      <th>2</th>\n",
       "      <td>3.052598</td>\n",
       "      <td>1.998112</td>\n",
       "    </tr>\n",
       "    <tr>\n",
       "      <th>3</th>\n",
       "      <td>2.525882</td>\n",
       "      <td>1.599076</td>\n",
       "    </tr>\n",
       "    <tr>\n",
       "      <th>4</th>\n",
       "      <td>3.209250</td>\n",
       "      <td>2.060298</td>\n",
       "    </tr>\n",
       "    <tr>\n",
       "      <th>5</th>\n",
       "      <td>3.347173</td>\n",
       "      <td>2.252643</td>\n",
       "    </tr>\n",
       "  </tbody>\n",
       "</table>\n",
       "</div>"
      ],
      "text/plain": [
       "     Активная мощность  Реактивная мощность\n",
       "key                                        \n",
       "1             4.878147             3.183241\n",
       "2             3.052598             1.998112\n",
       "3             2.525882             1.599076\n",
       "4             3.209250             2.060298\n",
       "5             3.347173             2.252643"
      ]
     },
     "execution_count": 9,
     "metadata": {},
     "output_type": "execute_result"
    }
   ],
   "source": [
    "data_arc.head()"
   ]
  },
  {
   "cell_type": "markdown",
   "metadata": {},
   "source": [
    "***data_bulk***"
   ]
  },
  {
   "cell_type": "code",
   "execution_count": 10,
   "metadata": {},
   "outputs": [
    {
     "data": {
      "text/html": [
       "<div>\n",
       "<style scoped>\n",
       "    .dataframe tbody tr th:only-of-type {\n",
       "        vertical-align: middle;\n",
       "    }\n",
       "\n",
       "    .dataframe tbody tr th {\n",
       "        vertical-align: top;\n",
       "    }\n",
       "\n",
       "    .dataframe thead th {\n",
       "        text-align: right;\n",
       "    }\n",
       "</style>\n",
       "<table border=\"1\" class=\"dataframe\">\n",
       "  <thead>\n",
       "    <tr style=\"text-align: right;\">\n",
       "      <th></th>\n",
       "      <th>key</th>\n",
       "      <th>Bulk 1</th>\n",
       "      <th>Bulk 2</th>\n",
       "      <th>Bulk 3</th>\n",
       "      <th>Bulk 4</th>\n",
       "      <th>Bulk 5</th>\n",
       "      <th>Bulk 6</th>\n",
       "      <th>Bulk 7</th>\n",
       "      <th>Bulk 8</th>\n",
       "      <th>Bulk 9</th>\n",
       "      <th>Bulk 10</th>\n",
       "      <th>Bulk 11</th>\n",
       "      <th>Bulk 12</th>\n",
       "      <th>Bulk 13</th>\n",
       "      <th>Bulk 14</th>\n",
       "      <th>Bulk 15</th>\n",
       "    </tr>\n",
       "  </thead>\n",
       "  <tbody>\n",
       "    <tr>\n",
       "      <th>0</th>\n",
       "      <td>1</td>\n",
       "      <td>NaN</td>\n",
       "      <td>NaN</td>\n",
       "      <td>NaN</td>\n",
       "      <td>43.0</td>\n",
       "      <td>NaN</td>\n",
       "      <td>NaN</td>\n",
       "      <td>NaN</td>\n",
       "      <td>NaN</td>\n",
       "      <td>NaN</td>\n",
       "      <td>NaN</td>\n",
       "      <td>NaN</td>\n",
       "      <td>206.0</td>\n",
       "      <td>NaN</td>\n",
       "      <td>150.0</td>\n",
       "      <td>154.0</td>\n",
       "    </tr>\n",
       "    <tr>\n",
       "      <th>1</th>\n",
       "      <td>2</td>\n",
       "      <td>NaN</td>\n",
       "      <td>NaN</td>\n",
       "      <td>NaN</td>\n",
       "      <td>73.0</td>\n",
       "      <td>NaN</td>\n",
       "      <td>NaN</td>\n",
       "      <td>NaN</td>\n",
       "      <td>NaN</td>\n",
       "      <td>NaN</td>\n",
       "      <td>NaN</td>\n",
       "      <td>NaN</td>\n",
       "      <td>206.0</td>\n",
       "      <td>NaN</td>\n",
       "      <td>149.0</td>\n",
       "      <td>154.0</td>\n",
       "    </tr>\n",
       "    <tr>\n",
       "      <th>2</th>\n",
       "      <td>3</td>\n",
       "      <td>NaN</td>\n",
       "      <td>NaN</td>\n",
       "      <td>NaN</td>\n",
       "      <td>34.0</td>\n",
       "      <td>NaN</td>\n",
       "      <td>NaN</td>\n",
       "      <td>NaN</td>\n",
       "      <td>NaN</td>\n",
       "      <td>NaN</td>\n",
       "      <td>NaN</td>\n",
       "      <td>NaN</td>\n",
       "      <td>205.0</td>\n",
       "      <td>NaN</td>\n",
       "      <td>152.0</td>\n",
       "      <td>153.0</td>\n",
       "    </tr>\n",
       "    <tr>\n",
       "      <th>3</th>\n",
       "      <td>4</td>\n",
       "      <td>NaN</td>\n",
       "      <td>NaN</td>\n",
       "      <td>NaN</td>\n",
       "      <td>81.0</td>\n",
       "      <td>NaN</td>\n",
       "      <td>NaN</td>\n",
       "      <td>NaN</td>\n",
       "      <td>NaN</td>\n",
       "      <td>NaN</td>\n",
       "      <td>NaN</td>\n",
       "      <td>NaN</td>\n",
       "      <td>207.0</td>\n",
       "      <td>NaN</td>\n",
       "      <td>153.0</td>\n",
       "      <td>154.0</td>\n",
       "    </tr>\n",
       "    <tr>\n",
       "      <th>4</th>\n",
       "      <td>5</td>\n",
       "      <td>NaN</td>\n",
       "      <td>NaN</td>\n",
       "      <td>NaN</td>\n",
       "      <td>78.0</td>\n",
       "      <td>NaN</td>\n",
       "      <td>NaN</td>\n",
       "      <td>NaN</td>\n",
       "      <td>NaN</td>\n",
       "      <td>NaN</td>\n",
       "      <td>NaN</td>\n",
       "      <td>NaN</td>\n",
       "      <td>203.0</td>\n",
       "      <td>NaN</td>\n",
       "      <td>151.0</td>\n",
       "      <td>152.0</td>\n",
       "    </tr>\n",
       "  </tbody>\n",
       "</table>\n",
       "</div>"
      ],
      "text/plain": [
       "   key  Bulk 1  Bulk 2  Bulk 3  Bulk 4  Bulk 5  Bulk 6  Bulk 7  Bulk 8  \\\n",
       "0    1     NaN     NaN     NaN    43.0     NaN     NaN     NaN     NaN   \n",
       "1    2     NaN     NaN     NaN    73.0     NaN     NaN     NaN     NaN   \n",
       "2    3     NaN     NaN     NaN    34.0     NaN     NaN     NaN     NaN   \n",
       "3    4     NaN     NaN     NaN    81.0     NaN     NaN     NaN     NaN   \n",
       "4    5     NaN     NaN     NaN    78.0     NaN     NaN     NaN     NaN   \n",
       "\n",
       "   Bulk 9  Bulk 10  Bulk 11  Bulk 12  Bulk 13  Bulk 14  Bulk 15  \n",
       "0     NaN      NaN      NaN    206.0      NaN    150.0    154.0  \n",
       "1     NaN      NaN      NaN    206.0      NaN    149.0    154.0  \n",
       "2     NaN      NaN      NaN    205.0      NaN    152.0    153.0  \n",
       "3     NaN      NaN      NaN    207.0      NaN    153.0    154.0  \n",
       "4     NaN      NaN      NaN    203.0      NaN    151.0    152.0  "
      ]
     },
     "execution_count": 10,
     "metadata": {},
     "output_type": "execute_result"
    }
   ],
   "source": [
    "data_bulk.head()"
   ]
  },
  {
   "cell_type": "code",
   "execution_count": 11,
   "metadata": {},
   "outputs": [
    {
     "name": "stdout",
     "output_type": "stream",
     "text": [
      "<class 'pandas.core.frame.DataFrame'>\n",
      "RangeIndex: 3129 entries, 0 to 3128\n",
      "Data columns (total 16 columns):\n",
      " #   Column   Non-Null Count  Dtype  \n",
      "---  ------   --------------  -----  \n",
      " 0   key      3129 non-null   int64  \n",
      " 1   Bulk 1   252 non-null    float64\n",
      " 2   Bulk 2   22 non-null     float64\n",
      " 3   Bulk 3   1298 non-null   float64\n",
      " 4   Bulk 4   1014 non-null   float64\n",
      " 5   Bulk 5   77 non-null     float64\n",
      " 6   Bulk 6   576 non-null    float64\n",
      " 7   Bulk 7   25 non-null     float64\n",
      " 8   Bulk 8   1 non-null      float64\n",
      " 9   Bulk 9   19 non-null     float64\n",
      " 10  Bulk 10  176 non-null    float64\n",
      " 11  Bulk 11  177 non-null    float64\n",
      " 12  Bulk 12  2450 non-null   float64\n",
      " 13  Bulk 13  18 non-null     float64\n",
      " 14  Bulk 14  2806 non-null   float64\n",
      " 15  Bulk 15  2248 non-null   float64\n",
      "dtypes: float64(15), int64(1)\n",
      "memory usage: 391.2 KB\n"
     ]
    }
   ],
   "source": [
    "data_bulk.info()"
   ]
  },
  {
   "cell_type": "markdown",
   "metadata": {},
   "source": [
    "Значит, всего у нас 3241 уникальных key, а уникальных значения в таблице bulk всего 3129"
   ]
  },
  {
   "cell_type": "markdown",
   "metadata": {},
   "source": [
    "Создаем столбец bulk total"
   ]
  },
  {
   "cell_type": "code",
   "execution_count": 12,
   "metadata": {},
   "outputs": [],
   "source": [
    "data_bulk = data_bulk.fillna(0)\n",
    "data_bulk['bulk total'] = data_bulk['Bulk 1'] + data_bulk['Bulk 2'] + data_bulk['Bulk 3'] + data_bulk['Bulk 4'] + data_bulk['Bulk 5'] + \\\n",
    "data_bulk['Bulk 6'] + data_bulk['Bulk 7'] + data_bulk['Bulk 8'] + data_bulk['Bulk 9'] + data_bulk['Bulk 10'] + data_bulk['Bulk 11'] + \\\n",
    "data_bulk['Bulk 12'] + data_bulk['Bulk 13'] + data_bulk['Bulk 14'] + data_bulk['Bulk 15']"
   ]
  },
  {
   "cell_type": "code",
   "execution_count": 13,
   "metadata": {},
   "outputs": [],
   "source": [
    "data_bulk.columns[1:-1]\n",
    "data_bulk.drop(data_bulk.columns[1:-1], axis=1, inplace=True)"
   ]
  },
  {
   "cell_type": "code",
   "execution_count": 14,
   "metadata": {},
   "outputs": [
    {
     "data": {
      "text/html": [
       "<div>\n",
       "<style scoped>\n",
       "    .dataframe tbody tr th:only-of-type {\n",
       "        vertical-align: middle;\n",
       "    }\n",
       "\n",
       "    .dataframe tbody tr th {\n",
       "        vertical-align: top;\n",
       "    }\n",
       "\n",
       "    .dataframe thead th {\n",
       "        text-align: right;\n",
       "    }\n",
       "</style>\n",
       "<table border=\"1\" class=\"dataframe\">\n",
       "  <thead>\n",
       "    <tr style=\"text-align: right;\">\n",
       "      <th></th>\n",
       "      <th>key</th>\n",
       "      <th>bulk total</th>\n",
       "    </tr>\n",
       "  </thead>\n",
       "  <tbody>\n",
       "    <tr>\n",
       "      <th>0</th>\n",
       "      <td>1</td>\n",
       "      <td>553.0</td>\n",
       "    </tr>\n",
       "    <tr>\n",
       "      <th>1</th>\n",
       "      <td>2</td>\n",
       "      <td>582.0</td>\n",
       "    </tr>\n",
       "    <tr>\n",
       "      <th>2</th>\n",
       "      <td>3</td>\n",
       "      <td>544.0</td>\n",
       "    </tr>\n",
       "    <tr>\n",
       "      <th>3</th>\n",
       "      <td>4</td>\n",
       "      <td>595.0</td>\n",
       "    </tr>\n",
       "    <tr>\n",
       "      <th>4</th>\n",
       "      <td>5</td>\n",
       "      <td>584.0</td>\n",
       "    </tr>\n",
       "  </tbody>\n",
       "</table>\n",
       "</div>"
      ],
      "text/plain": [
       "   key  bulk total\n",
       "0    1       553.0\n",
       "1    2       582.0\n",
       "2    3       544.0\n",
       "3    4       595.0\n",
       "4    5       584.0"
      ]
     },
     "execution_count": 14,
     "metadata": {},
     "output_type": "execute_result"
    }
   ],
   "source": [
    "data_bulk.head()"
   ]
  },
  {
   "cell_type": "markdown",
   "metadata": {},
   "source": [
    "***data_bulk_time и data_wire_time***"
   ]
  },
  {
   "cell_type": "code",
   "execution_count": 15,
   "metadata": {
    "scrolled": true
   },
   "outputs": [
    {
     "data": {
      "text/html": [
       "<div>\n",
       "<style scoped>\n",
       "    .dataframe tbody tr th:only-of-type {\n",
       "        vertical-align: middle;\n",
       "    }\n",
       "\n",
       "    .dataframe tbody tr th {\n",
       "        vertical-align: top;\n",
       "    }\n",
       "\n",
       "    .dataframe thead th {\n",
       "        text-align: right;\n",
       "    }\n",
       "</style>\n",
       "<table border=\"1\" class=\"dataframe\">\n",
       "  <thead>\n",
       "    <tr style=\"text-align: right;\">\n",
       "      <th></th>\n",
       "      <th>key</th>\n",
       "      <th>Bulk 1</th>\n",
       "      <th>Bulk 2</th>\n",
       "      <th>Bulk 3</th>\n",
       "      <th>Bulk 4</th>\n",
       "      <th>Bulk 5</th>\n",
       "      <th>Bulk 6</th>\n",
       "      <th>Bulk 7</th>\n",
       "      <th>Bulk 8</th>\n",
       "      <th>Bulk 9</th>\n",
       "      <th>Bulk 10</th>\n",
       "      <th>Bulk 11</th>\n",
       "      <th>Bulk 12</th>\n",
       "      <th>Bulk 13</th>\n",
       "      <th>Bulk 14</th>\n",
       "      <th>Bulk 15</th>\n",
       "    </tr>\n",
       "  </thead>\n",
       "  <tbody>\n",
       "    <tr>\n",
       "      <th>0</th>\n",
       "      <td>1</td>\n",
       "      <td>NaN</td>\n",
       "      <td>NaN</td>\n",
       "      <td>NaN</td>\n",
       "      <td>2019-05-03 11:21:30</td>\n",
       "      <td>NaN</td>\n",
       "      <td>NaN</td>\n",
       "      <td>NaN</td>\n",
       "      <td>NaN</td>\n",
       "      <td>NaN</td>\n",
       "      <td>NaN</td>\n",
       "      <td>NaN</td>\n",
       "      <td>2019-05-03 11:03:52</td>\n",
       "      <td>NaN</td>\n",
       "      <td>2019-05-03 11:03:52</td>\n",
       "      <td>2019-05-03 11:03:52</td>\n",
       "    </tr>\n",
       "    <tr>\n",
       "      <th>1</th>\n",
       "      <td>2</td>\n",
       "      <td>NaN</td>\n",
       "      <td>NaN</td>\n",
       "      <td>NaN</td>\n",
       "      <td>2019-05-03 11:46:38</td>\n",
       "      <td>NaN</td>\n",
       "      <td>NaN</td>\n",
       "      <td>NaN</td>\n",
       "      <td>NaN</td>\n",
       "      <td>NaN</td>\n",
       "      <td>NaN</td>\n",
       "      <td>NaN</td>\n",
       "      <td>2019-05-03 11:40:20</td>\n",
       "      <td>NaN</td>\n",
       "      <td>2019-05-03 11:40:20</td>\n",
       "      <td>2019-05-03 11:40:20</td>\n",
       "    </tr>\n",
       "    <tr>\n",
       "      <th>2</th>\n",
       "      <td>3</td>\n",
       "      <td>NaN</td>\n",
       "      <td>NaN</td>\n",
       "      <td>NaN</td>\n",
       "      <td>2019-05-03 12:31:06</td>\n",
       "      <td>NaN</td>\n",
       "      <td>NaN</td>\n",
       "      <td>NaN</td>\n",
       "      <td>NaN</td>\n",
       "      <td>NaN</td>\n",
       "      <td>NaN</td>\n",
       "      <td>NaN</td>\n",
       "      <td>2019-05-03 12:09:40</td>\n",
       "      <td>NaN</td>\n",
       "      <td>2019-05-03 12:09:40</td>\n",
       "      <td>2019-05-03 12:09:40</td>\n",
       "    </tr>\n",
       "    <tr>\n",
       "      <th>3</th>\n",
       "      <td>4</td>\n",
       "      <td>NaN</td>\n",
       "      <td>NaN</td>\n",
       "      <td>NaN</td>\n",
       "      <td>2019-05-03 12:48:43</td>\n",
       "      <td>NaN</td>\n",
       "      <td>NaN</td>\n",
       "      <td>NaN</td>\n",
       "      <td>NaN</td>\n",
       "      <td>NaN</td>\n",
       "      <td>NaN</td>\n",
       "      <td>NaN</td>\n",
       "      <td>2019-05-03 12:41:24</td>\n",
       "      <td>NaN</td>\n",
       "      <td>2019-05-03 12:41:24</td>\n",
       "      <td>2019-05-03 12:41:24</td>\n",
       "    </tr>\n",
       "    <tr>\n",
       "      <th>4</th>\n",
       "      <td>5</td>\n",
       "      <td>NaN</td>\n",
       "      <td>NaN</td>\n",
       "      <td>NaN</td>\n",
       "      <td>2019-05-03 13:18:50</td>\n",
       "      <td>NaN</td>\n",
       "      <td>NaN</td>\n",
       "      <td>NaN</td>\n",
       "      <td>NaN</td>\n",
       "      <td>NaN</td>\n",
       "      <td>NaN</td>\n",
       "      <td>NaN</td>\n",
       "      <td>2019-05-03 13:12:56</td>\n",
       "      <td>NaN</td>\n",
       "      <td>2019-05-03 13:12:56</td>\n",
       "      <td>2019-05-03 13:12:56</td>\n",
       "    </tr>\n",
       "  </tbody>\n",
       "</table>\n",
       "</div>"
      ],
      "text/plain": [
       "   key Bulk 1 Bulk 2 Bulk 3               Bulk 4 Bulk 5 Bulk 6 Bulk 7 Bulk 8  \\\n",
       "0    1    NaN    NaN    NaN  2019-05-03 11:21:30    NaN    NaN    NaN    NaN   \n",
       "1    2    NaN    NaN    NaN  2019-05-03 11:46:38    NaN    NaN    NaN    NaN   \n",
       "2    3    NaN    NaN    NaN  2019-05-03 12:31:06    NaN    NaN    NaN    NaN   \n",
       "3    4    NaN    NaN    NaN  2019-05-03 12:48:43    NaN    NaN    NaN    NaN   \n",
       "4    5    NaN    NaN    NaN  2019-05-03 13:18:50    NaN    NaN    NaN    NaN   \n",
       "\n",
       "  Bulk 9 Bulk 10 Bulk 11              Bulk 12 Bulk 13              Bulk 14  \\\n",
       "0    NaN     NaN     NaN  2019-05-03 11:03:52     NaN  2019-05-03 11:03:52   \n",
       "1    NaN     NaN     NaN  2019-05-03 11:40:20     NaN  2019-05-03 11:40:20   \n",
       "2    NaN     NaN     NaN  2019-05-03 12:09:40     NaN  2019-05-03 12:09:40   \n",
       "3    NaN     NaN     NaN  2019-05-03 12:41:24     NaN  2019-05-03 12:41:24   \n",
       "4    NaN     NaN     NaN  2019-05-03 13:12:56     NaN  2019-05-03 13:12:56   \n",
       "\n",
       "               Bulk 15  \n",
       "0  2019-05-03 11:03:52  \n",
       "1  2019-05-03 11:40:20  \n",
       "2  2019-05-03 12:09:40  \n",
       "3  2019-05-03 12:41:24  \n",
       "4  2019-05-03 13:12:56  "
      ]
     },
     "execution_count": 15,
     "metadata": {},
     "output_type": "execute_result"
    }
   ],
   "source": [
    "data_bulk_time.head()"
   ]
  },
  {
   "cell_type": "code",
   "execution_count": 16,
   "metadata": {},
   "outputs": [
    {
     "data": {
      "text/html": [
       "<div>\n",
       "<style scoped>\n",
       "    .dataframe tbody tr th:only-of-type {\n",
       "        vertical-align: middle;\n",
       "    }\n",
       "\n",
       "    .dataframe tbody tr th {\n",
       "        vertical-align: top;\n",
       "    }\n",
       "\n",
       "    .dataframe thead th {\n",
       "        text-align: right;\n",
       "    }\n",
       "</style>\n",
       "<table border=\"1\" class=\"dataframe\">\n",
       "  <thead>\n",
       "    <tr style=\"text-align: right;\">\n",
       "      <th></th>\n",
       "      <th>key</th>\n",
       "      <th>Wire 1</th>\n",
       "      <th>Wire 2</th>\n",
       "      <th>Wire 3</th>\n",
       "      <th>Wire 4</th>\n",
       "      <th>Wire 5</th>\n",
       "      <th>Wire 6</th>\n",
       "      <th>Wire 7</th>\n",
       "      <th>Wire 8</th>\n",
       "      <th>Wire 9</th>\n",
       "    </tr>\n",
       "  </thead>\n",
       "  <tbody>\n",
       "    <tr>\n",
       "      <th>0</th>\n",
       "      <td>1</td>\n",
       "      <td>2019-05-03 11:11:41</td>\n",
       "      <td>NaN</td>\n",
       "      <td>NaN</td>\n",
       "      <td>NaN</td>\n",
       "      <td>NaN</td>\n",
       "      <td>NaN</td>\n",
       "      <td>NaN</td>\n",
       "      <td>NaN</td>\n",
       "      <td>NaN</td>\n",
       "    </tr>\n",
       "    <tr>\n",
       "      <th>1</th>\n",
       "      <td>2</td>\n",
       "      <td>2019-05-03 11:46:10</td>\n",
       "      <td>NaN</td>\n",
       "      <td>NaN</td>\n",
       "      <td>NaN</td>\n",
       "      <td>NaN</td>\n",
       "      <td>NaN</td>\n",
       "      <td>NaN</td>\n",
       "      <td>NaN</td>\n",
       "      <td>NaN</td>\n",
       "    </tr>\n",
       "    <tr>\n",
       "      <th>2</th>\n",
       "      <td>3</td>\n",
       "      <td>2019-05-03 12:13:47</td>\n",
       "      <td>NaN</td>\n",
       "      <td>NaN</td>\n",
       "      <td>NaN</td>\n",
       "      <td>NaN</td>\n",
       "      <td>NaN</td>\n",
       "      <td>NaN</td>\n",
       "      <td>NaN</td>\n",
       "      <td>NaN</td>\n",
       "    </tr>\n",
       "    <tr>\n",
       "      <th>3</th>\n",
       "      <td>4</td>\n",
       "      <td>2019-05-03 12:48:05</td>\n",
       "      <td>NaN</td>\n",
       "      <td>NaN</td>\n",
       "      <td>NaN</td>\n",
       "      <td>NaN</td>\n",
       "      <td>NaN</td>\n",
       "      <td>NaN</td>\n",
       "      <td>NaN</td>\n",
       "      <td>NaN</td>\n",
       "    </tr>\n",
       "    <tr>\n",
       "      <th>4</th>\n",
       "      <td>5</td>\n",
       "      <td>2019-05-03 13:18:15</td>\n",
       "      <td>2019-05-03 13:32:06</td>\n",
       "      <td>NaN</td>\n",
       "      <td>NaN</td>\n",
       "      <td>NaN</td>\n",
       "      <td>NaN</td>\n",
       "      <td>NaN</td>\n",
       "      <td>NaN</td>\n",
       "      <td>NaN</td>\n",
       "    </tr>\n",
       "  </tbody>\n",
       "</table>\n",
       "</div>"
      ],
      "text/plain": [
       "   key               Wire 1               Wire 2 Wire 3 Wire 4 Wire 5 Wire 6  \\\n",
       "0    1  2019-05-03 11:11:41                  NaN    NaN    NaN    NaN    NaN   \n",
       "1    2  2019-05-03 11:46:10                  NaN    NaN    NaN    NaN    NaN   \n",
       "2    3  2019-05-03 12:13:47                  NaN    NaN    NaN    NaN    NaN   \n",
       "3    4  2019-05-03 12:48:05                  NaN    NaN    NaN    NaN    NaN   \n",
       "4    5  2019-05-03 13:18:15  2019-05-03 13:32:06    NaN    NaN    NaN    NaN   \n",
       "\n",
       "  Wire 7 Wire 8 Wire 9  \n",
       "0    NaN    NaN    NaN  \n",
       "1    NaN    NaN    NaN  \n",
       "2    NaN    NaN    NaN  \n",
       "3    NaN    NaN    NaN  \n",
       "4    NaN    NaN    NaN  "
      ]
     },
     "execution_count": 16,
     "metadata": {},
     "output_type": "execute_result"
    }
   ],
   "source": [
    "data_wire_time.head()"
   ]
  },
  {
   "cell_type": "markdown",
   "metadata": {},
   "source": [
    "ВОПРОС. Процесс производства идет последовательно, время относительно одно и то же (так как у цикла есть +- свое константное время), так как задача наша не является временным рядом, то его, получается, можно не учитывать и эти таблицы не брать в нашу модель. Я прав?"
   ]
  },
  {
   "cell_type": "markdown",
   "metadata": {},
   "source": [
    "***data_gas***"
   ]
  },
  {
   "cell_type": "code",
   "execution_count": 17,
   "metadata": {},
   "outputs": [
    {
     "data": {
      "text/html": [
       "<div>\n",
       "<style scoped>\n",
       "    .dataframe tbody tr th:only-of-type {\n",
       "        vertical-align: middle;\n",
       "    }\n",
       "\n",
       "    .dataframe tbody tr th {\n",
       "        vertical-align: top;\n",
       "    }\n",
       "\n",
       "    .dataframe thead th {\n",
       "        text-align: right;\n",
       "    }\n",
       "</style>\n",
       "<table border=\"1\" class=\"dataframe\">\n",
       "  <thead>\n",
       "    <tr style=\"text-align: right;\">\n",
       "      <th></th>\n",
       "      <th>key</th>\n",
       "      <th>Газ 1</th>\n",
       "    </tr>\n",
       "  </thead>\n",
       "  <tbody>\n",
       "    <tr>\n",
       "      <th>0</th>\n",
       "      <td>1</td>\n",
       "      <td>29.749986</td>\n",
       "    </tr>\n",
       "    <tr>\n",
       "      <th>1</th>\n",
       "      <td>2</td>\n",
       "      <td>12.555561</td>\n",
       "    </tr>\n",
       "    <tr>\n",
       "      <th>2</th>\n",
       "      <td>3</td>\n",
       "      <td>28.554793</td>\n",
       "    </tr>\n",
       "    <tr>\n",
       "      <th>3</th>\n",
       "      <td>4</td>\n",
       "      <td>18.841219</td>\n",
       "    </tr>\n",
       "    <tr>\n",
       "      <th>4</th>\n",
       "      <td>5</td>\n",
       "      <td>5.413692</td>\n",
       "    </tr>\n",
       "  </tbody>\n",
       "</table>\n",
       "</div>"
      ],
      "text/plain": [
       "   key      Газ 1\n",
       "0    1  29.749986\n",
       "1    2  12.555561\n",
       "2    3  28.554793\n",
       "3    4  18.841219\n",
       "4    5   5.413692"
      ]
     },
     "execution_count": 17,
     "metadata": {},
     "output_type": "execute_result"
    }
   ],
   "source": [
    "data_gas.head()"
   ]
  },
  {
   "cell_type": "code",
   "execution_count": 18,
   "metadata": {},
   "outputs": [
    {
     "name": "stdout",
     "output_type": "stream",
     "text": [
      "<class 'pandas.core.frame.DataFrame'>\n",
      "RangeIndex: 3239 entries, 0 to 3238\n",
      "Data columns (total 2 columns):\n",
      " #   Column  Non-Null Count  Dtype  \n",
      "---  ------  --------------  -----  \n",
      " 0   key     3239 non-null   int64  \n",
      " 1   Газ 1   3239 non-null   float64\n",
      "dtypes: float64(1), int64(1)\n",
      "memory usage: 50.7 KB\n"
     ]
    }
   ],
   "source": [
    "data_gas.info()"
   ]
  },
  {
   "cell_type": "markdown",
   "metadata": {},
   "source": [
    "***data_temp***"
   ]
  },
  {
   "cell_type": "code",
   "execution_count": 19,
   "metadata": {},
   "outputs": [
    {
     "data": {
      "text/html": [
       "<div>\n",
       "<style scoped>\n",
       "    .dataframe tbody tr th:only-of-type {\n",
       "        vertical-align: middle;\n",
       "    }\n",
       "\n",
       "    .dataframe tbody tr th {\n",
       "        vertical-align: top;\n",
       "    }\n",
       "\n",
       "    .dataframe thead th {\n",
       "        text-align: right;\n",
       "    }\n",
       "</style>\n",
       "<table border=\"1\" class=\"dataframe\">\n",
       "  <thead>\n",
       "    <tr style=\"text-align: right;\">\n",
       "      <th></th>\n",
       "      <th>key</th>\n",
       "      <th>Время замера</th>\n",
       "      <th>Температура</th>\n",
       "    </tr>\n",
       "  </thead>\n",
       "  <tbody>\n",
       "    <tr>\n",
       "      <th>0</th>\n",
       "      <td>1</td>\n",
       "      <td>2019-05-03 11:16:18</td>\n",
       "      <td>1571.0</td>\n",
       "    </tr>\n",
       "    <tr>\n",
       "      <th>1</th>\n",
       "      <td>1</td>\n",
       "      <td>2019-05-03 11:25:53</td>\n",
       "      <td>1604.0</td>\n",
       "    </tr>\n",
       "    <tr>\n",
       "      <th>2</th>\n",
       "      <td>1</td>\n",
       "      <td>2019-05-03 11:29:11</td>\n",
       "      <td>1618.0</td>\n",
       "    </tr>\n",
       "    <tr>\n",
       "      <th>3</th>\n",
       "      <td>1</td>\n",
       "      <td>2019-05-03 11:30:01</td>\n",
       "      <td>1601.0</td>\n",
       "    </tr>\n",
       "    <tr>\n",
       "      <th>4</th>\n",
       "      <td>1</td>\n",
       "      <td>2019-05-03 11:30:39</td>\n",
       "      <td>1613.0</td>\n",
       "    </tr>\n",
       "  </tbody>\n",
       "</table>\n",
       "</div>"
      ],
      "text/plain": [
       "   key         Время замера  Температура\n",
       "0    1  2019-05-03 11:16:18       1571.0\n",
       "1    1  2019-05-03 11:25:53       1604.0\n",
       "2    1  2019-05-03 11:29:11       1618.0\n",
       "3    1  2019-05-03 11:30:01       1601.0\n",
       "4    1  2019-05-03 11:30:39       1613.0"
      ]
     },
     "execution_count": 19,
     "metadata": {},
     "output_type": "execute_result"
    }
   ],
   "source": [
    "data_temp.head()"
   ]
  },
  {
   "cell_type": "code",
   "execution_count": 20,
   "metadata": {},
   "outputs": [
    {
     "name": "stdout",
     "output_type": "stream",
     "text": [
      "<class 'pandas.core.frame.DataFrame'>\n",
      "RangeIndex: 15907 entries, 0 to 15906\n",
      "Data columns (total 3 columns):\n",
      " #   Column        Non-Null Count  Dtype  \n",
      "---  ------        --------------  -----  \n",
      " 0   key           15907 non-null  int64  \n",
      " 1   Время замера  15907 non-null  object \n",
      " 2   Температура   13006 non-null  float64\n",
      "dtypes: float64(1), int64(1), object(1)\n",
      "memory usage: 372.9+ KB\n"
     ]
    }
   ],
   "source": [
    "data_temp.info()"
   ]
  },
  {
   "cell_type": "markdown",
   "metadata": {},
   "source": [
    "Начальная и конечная температуры, преобразуем датасет в таблицу нужных нам параметров для джойна\n",
    "\n",
    "(в таблице с температурой есть NaNы, их уберем на этапе предобработки итогового датасета)"
   ]
  },
  {
   "cell_type": "code",
   "execution_count": 21,
   "metadata": {},
   "outputs": [],
   "source": [
    "keys = list(data_temp['key'].unique())"
   ]
  },
  {
   "cell_type": "code",
   "execution_count": 22,
   "metadata": {},
   "outputs": [],
   "source": [
    "temp_begin = list()\n",
    "temp_end = list()\n",
    "\n",
    "for key in keys:\n",
    "    subtable = data_temp[data_temp['key'] == key]\n",
    "    temp_begin.append(list(subtable['Температура'])[0])\n",
    "    temp_end.append(list(subtable['Температура'])[-1])"
   ]
  },
  {
   "cell_type": "code",
   "execution_count": 23,
   "metadata": {},
   "outputs": [],
   "source": [
    "data_temp_new = pd.DataFrame()\n",
    "data_temp_new['key'] = keys\n",
    "data_temp_new['temp_begin'] = temp_begin\n",
    "data_temp_new['temp_end'] = temp_end"
   ]
  },
  {
   "cell_type": "markdown",
   "metadata": {},
   "source": [
    "***data_wire***"
   ]
  },
  {
   "cell_type": "code",
   "execution_count": 24,
   "metadata": {},
   "outputs": [
    {
     "data": {
      "text/html": [
       "<div>\n",
       "<style scoped>\n",
       "    .dataframe tbody tr th:only-of-type {\n",
       "        vertical-align: middle;\n",
       "    }\n",
       "\n",
       "    .dataframe tbody tr th {\n",
       "        vertical-align: top;\n",
       "    }\n",
       "\n",
       "    .dataframe thead th {\n",
       "        text-align: right;\n",
       "    }\n",
       "</style>\n",
       "<table border=\"1\" class=\"dataframe\">\n",
       "  <thead>\n",
       "    <tr style=\"text-align: right;\">\n",
       "      <th></th>\n",
       "      <th>key</th>\n",
       "      <th>Wire 1</th>\n",
       "      <th>Wire 2</th>\n",
       "      <th>Wire 3</th>\n",
       "      <th>Wire 4</th>\n",
       "      <th>Wire 5</th>\n",
       "      <th>Wire 6</th>\n",
       "      <th>Wire 7</th>\n",
       "      <th>Wire 8</th>\n",
       "      <th>Wire 9</th>\n",
       "    </tr>\n",
       "  </thead>\n",
       "  <tbody>\n",
       "    <tr>\n",
       "      <th>0</th>\n",
       "      <td>1</td>\n",
       "      <td>60.059998</td>\n",
       "      <td>NaN</td>\n",
       "      <td>NaN</td>\n",
       "      <td>NaN</td>\n",
       "      <td>NaN</td>\n",
       "      <td>NaN</td>\n",
       "      <td>NaN</td>\n",
       "      <td>NaN</td>\n",
       "      <td>NaN</td>\n",
       "    </tr>\n",
       "    <tr>\n",
       "      <th>1</th>\n",
       "      <td>2</td>\n",
       "      <td>96.052315</td>\n",
       "      <td>NaN</td>\n",
       "      <td>NaN</td>\n",
       "      <td>NaN</td>\n",
       "      <td>NaN</td>\n",
       "      <td>NaN</td>\n",
       "      <td>NaN</td>\n",
       "      <td>NaN</td>\n",
       "      <td>NaN</td>\n",
       "    </tr>\n",
       "    <tr>\n",
       "      <th>2</th>\n",
       "      <td>3</td>\n",
       "      <td>91.160157</td>\n",
       "      <td>NaN</td>\n",
       "      <td>NaN</td>\n",
       "      <td>NaN</td>\n",
       "      <td>NaN</td>\n",
       "      <td>NaN</td>\n",
       "      <td>NaN</td>\n",
       "      <td>NaN</td>\n",
       "      <td>NaN</td>\n",
       "    </tr>\n",
       "    <tr>\n",
       "      <th>3</th>\n",
       "      <td>4</td>\n",
       "      <td>89.063515</td>\n",
       "      <td>NaN</td>\n",
       "      <td>NaN</td>\n",
       "      <td>NaN</td>\n",
       "      <td>NaN</td>\n",
       "      <td>NaN</td>\n",
       "      <td>NaN</td>\n",
       "      <td>NaN</td>\n",
       "      <td>NaN</td>\n",
       "    </tr>\n",
       "    <tr>\n",
       "      <th>4</th>\n",
       "      <td>5</td>\n",
       "      <td>89.238236</td>\n",
       "      <td>9.11456</td>\n",
       "      <td>NaN</td>\n",
       "      <td>NaN</td>\n",
       "      <td>NaN</td>\n",
       "      <td>NaN</td>\n",
       "      <td>NaN</td>\n",
       "      <td>NaN</td>\n",
       "      <td>NaN</td>\n",
       "    </tr>\n",
       "  </tbody>\n",
       "</table>\n",
       "</div>"
      ],
      "text/plain": [
       "   key     Wire 1   Wire 2  Wire 3  Wire 4  Wire 5  Wire 6  Wire 7  Wire 8  \\\n",
       "0    1  60.059998      NaN     NaN     NaN     NaN     NaN     NaN     NaN   \n",
       "1    2  96.052315      NaN     NaN     NaN     NaN     NaN     NaN     NaN   \n",
       "2    3  91.160157      NaN     NaN     NaN     NaN     NaN     NaN     NaN   \n",
       "3    4  89.063515      NaN     NaN     NaN     NaN     NaN     NaN     NaN   \n",
       "4    5  89.238236  9.11456     NaN     NaN     NaN     NaN     NaN     NaN   \n",
       "\n",
       "   Wire 9  \n",
       "0     NaN  \n",
       "1     NaN  \n",
       "2     NaN  \n",
       "3     NaN  \n",
       "4     NaN  "
      ]
     },
     "execution_count": 24,
     "metadata": {},
     "output_type": "execute_result"
    }
   ],
   "source": [
    "data_wire.head()"
   ]
  },
  {
   "cell_type": "code",
   "execution_count": 25,
   "metadata": {
    "scrolled": true
   },
   "outputs": [
    {
     "name": "stdout",
     "output_type": "stream",
     "text": [
      "<class 'pandas.core.frame.DataFrame'>\n",
      "RangeIndex: 3081 entries, 0 to 3080\n",
      "Data columns (total 10 columns):\n",
      " #   Column  Non-Null Count  Dtype  \n",
      "---  ------  --------------  -----  \n",
      " 0   key     3081 non-null   int64  \n",
      " 1   Wire 1  3055 non-null   float64\n",
      " 2   Wire 2  1079 non-null   float64\n",
      " 3   Wire 3  63 non-null     float64\n",
      " 4   Wire 4  14 non-null     float64\n",
      " 5   Wire 5  1 non-null      float64\n",
      " 6   Wire 6  73 non-null     float64\n",
      " 7   Wire 7  11 non-null     float64\n",
      " 8   Wire 8  19 non-null     float64\n",
      " 9   Wire 9  29 non-null     float64\n",
      "dtypes: float64(9), int64(1)\n",
      "memory usage: 240.8 KB\n"
     ]
    }
   ],
   "source": [
    "data_wire.info()"
   ]
  },
  {
   "cell_type": "markdown",
   "metadata": {},
   "source": [
    "Создадим столбец wire total"
   ]
  },
  {
   "cell_type": "code",
   "execution_count": 26,
   "metadata": {},
   "outputs": [],
   "source": [
    "data_wire = data_wire.fillna(0)\n",
    "data_wire['wire total'] = data_wire['Wire 1'] + data_wire['Wire 2'] + data_wire['Wire 3'] + data_wire['Wire 4'] + \\\n",
    "data_wire['Wire 5'] + data_wire['Wire 6'] + data_wire['Wire 7'] + data_wire['Wire 8'] + data_wire['Wire 9']"
   ]
  },
  {
   "cell_type": "code",
   "execution_count": 27,
   "metadata": {},
   "outputs": [],
   "source": [
    "data_wire.columns[1:-1]\n",
    "data_wire.drop(data_wire.columns[1:-1], axis=1, inplace=True)"
   ]
  },
  {
   "cell_type": "code",
   "execution_count": 28,
   "metadata": {},
   "outputs": [
    {
     "data": {
      "text/html": [
       "<div>\n",
       "<style scoped>\n",
       "    .dataframe tbody tr th:only-of-type {\n",
       "        vertical-align: middle;\n",
       "    }\n",
       "\n",
       "    .dataframe tbody tr th {\n",
       "        vertical-align: top;\n",
       "    }\n",
       "\n",
       "    .dataframe thead th {\n",
       "        text-align: right;\n",
       "    }\n",
       "</style>\n",
       "<table border=\"1\" class=\"dataframe\">\n",
       "  <thead>\n",
       "    <tr style=\"text-align: right;\">\n",
       "      <th></th>\n",
       "      <th>key</th>\n",
       "      <th>wire total</th>\n",
       "    </tr>\n",
       "  </thead>\n",
       "  <tbody>\n",
       "    <tr>\n",
       "      <th>0</th>\n",
       "      <td>1</td>\n",
       "      <td>60.059998</td>\n",
       "    </tr>\n",
       "    <tr>\n",
       "      <th>1</th>\n",
       "      <td>2</td>\n",
       "      <td>96.052315</td>\n",
       "    </tr>\n",
       "    <tr>\n",
       "      <th>2</th>\n",
       "      <td>3</td>\n",
       "      <td>91.160157</td>\n",
       "    </tr>\n",
       "    <tr>\n",
       "      <th>3</th>\n",
       "      <td>4</td>\n",
       "      <td>89.063515</td>\n",
       "    </tr>\n",
       "    <tr>\n",
       "      <th>4</th>\n",
       "      <td>5</td>\n",
       "      <td>98.352796</td>\n",
       "    </tr>\n",
       "  </tbody>\n",
       "</table>\n",
       "</div>"
      ],
      "text/plain": [
       "   key  wire total\n",
       "0    1   60.059998\n",
       "1    2   96.052315\n",
       "2    3   91.160157\n",
       "3    4   89.063515\n",
       "4    5   98.352796"
      ]
     },
     "execution_count": 28,
     "metadata": {},
     "output_type": "execute_result"
    }
   ],
   "source": [
    "data_wire.head()"
   ]
  },
  {
   "cell_type": "markdown",
   "metadata": {},
   "source": [
    "***Джойним итоговую таблицу***"
   ]
  },
  {
   "cell_type": "code",
   "execution_count": 29,
   "metadata": {},
   "outputs": [],
   "source": [
    "kluchi = list(range(1, 3242))"
   ]
  },
  {
   "cell_type": "code",
   "execution_count": 30,
   "metadata": {},
   "outputs": [],
   "source": [
    "data_total = pd.DataFrame()\n",
    "data_total['key'] = kluchi"
   ]
  },
  {
   "cell_type": "code",
   "execution_count": 31,
   "metadata": {},
   "outputs": [],
   "source": [
    "data_total = data_total.merge(data_arc, on='key', how='outer').merge(data_bulk, on='key', how='outer').merge(data_gas, on='key', how='outer').merge(data_wire, on='key', how='outer').merge(data_temp_new, on='key', how='outer')"
   ]
  },
  {
   "cell_type": "code",
   "execution_count": 32,
   "metadata": {},
   "outputs": [],
   "source": [
    "headers = ['key', 'active power', 'reactive power', 'bulk total', 'gas', 'wire total', 'temp begin', 'temp end']"
   ]
  },
  {
   "cell_type": "code",
   "execution_count": 33,
   "metadata": {},
   "outputs": [],
   "source": [
    "data_total.columns = headers"
   ]
  },
  {
   "cell_type": "markdown",
   "metadata": {},
   "source": [
    "***ИТОГОВАЯ ТАБЛИЦА***"
   ]
  },
  {
   "cell_type": "code",
   "execution_count": 34,
   "metadata": {},
   "outputs": [
    {
     "data": {
      "text/html": [
       "<div>\n",
       "<style scoped>\n",
       "    .dataframe tbody tr th:only-of-type {\n",
       "        vertical-align: middle;\n",
       "    }\n",
       "\n",
       "    .dataframe tbody tr th {\n",
       "        vertical-align: top;\n",
       "    }\n",
       "\n",
       "    .dataframe thead th {\n",
       "        text-align: right;\n",
       "    }\n",
       "</style>\n",
       "<table border=\"1\" class=\"dataframe\">\n",
       "  <thead>\n",
       "    <tr style=\"text-align: right;\">\n",
       "      <th></th>\n",
       "      <th>key</th>\n",
       "      <th>active power</th>\n",
       "      <th>reactive power</th>\n",
       "      <th>bulk total</th>\n",
       "      <th>gas</th>\n",
       "      <th>wire total</th>\n",
       "      <th>temp begin</th>\n",
       "      <th>temp end</th>\n",
       "    </tr>\n",
       "  </thead>\n",
       "  <tbody>\n",
       "    <tr>\n",
       "      <th>0</th>\n",
       "      <td>1</td>\n",
       "      <td>4.878147</td>\n",
       "      <td>3.183241</td>\n",
       "      <td>553.0</td>\n",
       "      <td>29.749986</td>\n",
       "      <td>60.059998</td>\n",
       "      <td>1571.0</td>\n",
       "      <td>1613.0</td>\n",
       "    </tr>\n",
       "    <tr>\n",
       "      <th>1</th>\n",
       "      <td>2</td>\n",
       "      <td>3.052598</td>\n",
       "      <td>1.998112</td>\n",
       "      <td>582.0</td>\n",
       "      <td>12.555561</td>\n",
       "      <td>96.052315</td>\n",
       "      <td>1581.0</td>\n",
       "      <td>1602.0</td>\n",
       "    </tr>\n",
       "    <tr>\n",
       "      <th>2</th>\n",
       "      <td>3</td>\n",
       "      <td>2.525882</td>\n",
       "      <td>1.599076</td>\n",
       "      <td>544.0</td>\n",
       "      <td>28.554793</td>\n",
       "      <td>91.160157</td>\n",
       "      <td>1596.0</td>\n",
       "      <td>1599.0</td>\n",
       "    </tr>\n",
       "    <tr>\n",
       "      <th>3</th>\n",
       "      <td>4</td>\n",
       "      <td>3.209250</td>\n",
       "      <td>2.060298</td>\n",
       "      <td>595.0</td>\n",
       "      <td>18.841219</td>\n",
       "      <td>89.063515</td>\n",
       "      <td>1601.0</td>\n",
       "      <td>1625.0</td>\n",
       "    </tr>\n",
       "    <tr>\n",
       "      <th>4</th>\n",
       "      <td>5</td>\n",
       "      <td>3.347173</td>\n",
       "      <td>2.252643</td>\n",
       "      <td>584.0</td>\n",
       "      <td>5.413692</td>\n",
       "      <td>98.352796</td>\n",
       "      <td>1576.0</td>\n",
       "      <td>1602.0</td>\n",
       "    </tr>\n",
       "  </tbody>\n",
       "</table>\n",
       "</div>"
      ],
      "text/plain": [
       "   key  active power  reactive power  bulk total        gas  wire total  \\\n",
       "0    1      4.878147        3.183241       553.0  29.749986   60.059998   \n",
       "1    2      3.052598        1.998112       582.0  12.555561   96.052315   \n",
       "2    3      2.525882        1.599076       544.0  28.554793   91.160157   \n",
       "3    4      3.209250        2.060298       595.0  18.841219   89.063515   \n",
       "4    5      3.347173        2.252643       584.0   5.413692   98.352796   \n",
       "\n",
       "   temp begin  temp end  \n",
       "0      1571.0    1613.0  \n",
       "1      1581.0    1602.0  \n",
       "2      1596.0    1599.0  \n",
       "3      1601.0    1625.0  \n",
       "4      1576.0    1602.0  "
      ]
     },
     "execution_count": 34,
     "metadata": {},
     "output_type": "execute_result"
    }
   ],
   "source": [
    "data_total.head()"
   ]
  },
  {
   "cell_type": "code",
   "execution_count": 35,
   "metadata": {},
   "outputs": [
    {
     "name": "stdout",
     "output_type": "stream",
     "text": [
      "<class 'pandas.core.frame.DataFrame'>\n",
      "Int64Index: 3241 entries, 0 to 3240\n",
      "Data columns (total 8 columns):\n",
      " #   Column          Non-Null Count  Dtype  \n",
      "---  ------          --------------  -----  \n",
      " 0   key             3241 non-null   int64  \n",
      " 1   active power    3214 non-null   float64\n",
      " 2   reactive power  3214 non-null   float64\n",
      " 3   bulk total      3129 non-null   float64\n",
      " 4   gas             3239 non-null   float64\n",
      " 5   wire total      3081 non-null   float64\n",
      " 6   temp begin      3216 non-null   float64\n",
      " 7   temp end        2477 non-null   float64\n",
      "dtypes: float64(7), int64(1)\n",
      "memory usage: 227.9 KB\n"
     ]
    }
   ],
   "source": [
    "data_total.info()"
   ]
  },
  {
   "cell_type": "markdown",
   "metadata": {},
   "source": [
    "ИТОГО ЧТО МЫ ИМЕЕМ:\n",
    "\n",
    "- 3241 цикл\n",
    "\n",
    "- очень много циклов с пропущенной конечной температурой"
   ]
  },
  {
   "cell_type": "markdown",
   "metadata": {},
   "source": [
    "Удалим столбец 'key', чтобы не мешался"
   ]
  },
  {
   "cell_type": "code",
   "execution_count": 36,
   "metadata": {},
   "outputs": [],
   "source": [
    "data_total = data_total.drop('key', 1)"
   ]
  },
  {
   "cell_type": "markdown",
   "metadata": {},
   "source": [
    "Отбросим данные, где есть NaNы (так как большинство NaNов в целевом признаке, приходится удалять всю партию)"
   ]
  },
  {
   "cell_type": "code",
   "execution_count": 37,
   "metadata": {},
   "outputs": [],
   "source": [
    "data_total = data_total.dropna()"
   ]
  },
  {
   "cell_type": "code",
   "execution_count": 38,
   "metadata": {},
   "outputs": [
    {
     "name": "stdout",
     "output_type": "stream",
     "text": [
      "<class 'pandas.core.frame.DataFrame'>\n",
      "Int64Index: 2329 entries, 0 to 2498\n",
      "Data columns (total 7 columns):\n",
      " #   Column          Non-Null Count  Dtype  \n",
      "---  ------          --------------  -----  \n",
      " 0   active power    2329 non-null   float64\n",
      " 1   reactive power  2329 non-null   float64\n",
      " 2   bulk total      2329 non-null   float64\n",
      " 3   gas             2329 non-null   float64\n",
      " 4   wire total      2329 non-null   float64\n",
      " 5   temp begin      2329 non-null   float64\n",
      " 6   temp end        2329 non-null   float64\n",
      "dtypes: float64(7)\n",
      "memory usage: 145.6 KB\n"
     ]
    }
   ],
   "source": [
    "data_total.info()"
   ]
  },
  {
   "cell_type": "markdown",
   "metadata": {},
   "source": [
    "## 2. Примерный план решения задачи"
   ]
  },
  {
   "cell_type": "markdown",
   "metadata": {},
   "source": [
    "Примерный план решения задачи. Пропишите 3–5 основных шагов, каждый поясните не более двумя предложениями."
   ]
  },
  {
   "cell_type": "markdown",
   "metadata": {},
   "source": [
    "1) Анализ данных и их предобработка. Необходимо открыть данные, посмотреть на них, понять по какому принципу они связаны, какие пункты нам нужны, а какие нет и на основании этого, а также таких факторов, как целостность и правильность входящих нам датасетов предобработать данные и объединить в одну итоговую таблицу. Эта итоговая таблица дальше пойдет для построения модели.\n",
    "\n",
    "2) Построение, обучение и подбор гиперпараметров модели. Необходимо выбрать подходящую модель регрессии для построения и обучения уже нашей рабочей модели на обучающей выборке. При помощи подбора гиперпараметров нужно достич результата ошибки примерно 6 градусов. В качестве метрики качества используем \"MAE\".\n",
    "\n",
    "3) Тестирование модели на тестовой (валидационной) выборке. Обученную модель применяем по отношению к тестовой выборке. \"MAE\" должна соответствовать критериям (меньше 8.7).\n",
    "\n",
    "4) Выводы. Необходимо описать полученные результаты, на основании результатов сделать выводы."
   ]
  },
  {
   "cell_type": "markdown",
   "metadata": {},
   "source": [
    "#### План работы:  \n",
    "- Провести исследовательский анализ данных:\n",
    "    - Посмотреть на распределение исходных данных\n",
    "    - Проанализировать порядок событий в производственном процессе\n",
    "    - Исключить партии, которые не имеют последнего замера темпиратуры, либо первый замер соответствует последнему, либо замеры отсутствуют \n",
    "    - Оставить только события, которые находятся в промежутке между первым и последним замерами\n",
    "- Подобрать признаки, на которых будет обучаться модель:\n",
    "    - Сгенерировать ряд признаков\n",
    "    - Проверить признаки на мультиколлинеарность, исключить лишние\n",
    "    - Провести масштабирование признаков\n",
    "- Построить модель, которая предскажет температуру стали:\n",
    "    - Сформировать обучающую, валидационную и тестовую выборки\n",
    "    - Выбрать несколько моделей и проверить их эффективность на валидационной выборке с помощью показателя эффективности MAE\n",
    "    - Эффективность лучшей модели проверить на тестовой выборке"
   ]
  },
  {
   "cell_type": "code",
   "execution_count": 39,
   "metadata": {
    "scrolled": false
   },
   "outputs": [
    {
     "data": {
      "text/html": [
       "<div>\n",
       "<style scoped>\n",
       "    .dataframe tbody tr th:only-of-type {\n",
       "        vertical-align: middle;\n",
       "    }\n",
       "\n",
       "    .dataframe tbody tr th {\n",
       "        vertical-align: top;\n",
       "    }\n",
       "\n",
       "    .dataframe thead th {\n",
       "        text-align: right;\n",
       "    }\n",
       "</style>\n",
       "<table border=\"1\" class=\"dataframe\">\n",
       "  <thead>\n",
       "    <tr style=\"text-align: right;\">\n",
       "      <th></th>\n",
       "      <th>active power</th>\n",
       "      <th>reactive power</th>\n",
       "      <th>bulk total</th>\n",
       "      <th>gas</th>\n",
       "      <th>wire total</th>\n",
       "      <th>temp begin</th>\n",
       "      <th>temp end</th>\n",
       "    </tr>\n",
       "  </thead>\n",
       "  <tbody>\n",
       "    <tr>\n",
       "      <th>active power</th>\n",
       "      <td>1.000000</td>\n",
       "      <td>0.967384</td>\n",
       "      <td>0.550684</td>\n",
       "      <td>0.356201</td>\n",
       "      <td>0.085139</td>\n",
       "      <td>-0.471476</td>\n",
       "      <td>0.244755</td>\n",
       "    </tr>\n",
       "    <tr>\n",
       "      <th>reactive power</th>\n",
       "      <td>0.967384</td>\n",
       "      <td>1.000000</td>\n",
       "      <td>0.526006</td>\n",
       "      <td>0.337411</td>\n",
       "      <td>0.063894</td>\n",
       "      <td>-0.457997</td>\n",
       "      <td>0.211118</td>\n",
       "    </tr>\n",
       "    <tr>\n",
       "      <th>bulk total</th>\n",
       "      <td>0.550684</td>\n",
       "      <td>0.526006</td>\n",
       "      <td>1.000000</td>\n",
       "      <td>0.286016</td>\n",
       "      <td>0.074264</td>\n",
       "      <td>-0.096474</td>\n",
       "      <td>0.216283</td>\n",
       "    </tr>\n",
       "    <tr>\n",
       "      <th>gas</th>\n",
       "      <td>0.356201</td>\n",
       "      <td>0.337411</td>\n",
       "      <td>0.286016</td>\n",
       "      <td>1.000000</td>\n",
       "      <td>0.215807</td>\n",
       "      <td>0.032531</td>\n",
       "      <td>0.042863</td>\n",
       "    </tr>\n",
       "    <tr>\n",
       "      <th>wire total</th>\n",
       "      <td>0.085139</td>\n",
       "      <td>0.063894</td>\n",
       "      <td>0.074264</td>\n",
       "      <td>0.215807</td>\n",
       "      <td>1.000000</td>\n",
       "      <td>0.174210</td>\n",
       "      <td>0.111183</td>\n",
       "    </tr>\n",
       "    <tr>\n",
       "      <th>temp begin</th>\n",
       "      <td>-0.471476</td>\n",
       "      <td>-0.457997</td>\n",
       "      <td>-0.096474</td>\n",
       "      <td>0.032531</td>\n",
       "      <td>0.174210</td>\n",
       "      <td>1.000000</td>\n",
       "      <td>0.307875</td>\n",
       "    </tr>\n",
       "    <tr>\n",
       "      <th>temp end</th>\n",
       "      <td>0.244755</td>\n",
       "      <td>0.211118</td>\n",
       "      <td>0.216283</td>\n",
       "      <td>0.042863</td>\n",
       "      <td>0.111183</td>\n",
       "      <td>0.307875</td>\n",
       "      <td>1.000000</td>\n",
       "    </tr>\n",
       "  </tbody>\n",
       "</table>\n",
       "</div>"
      ],
      "text/plain": [
       "                active power  reactive power  bulk total       gas  \\\n",
       "active power        1.000000        0.967384    0.550684  0.356201   \n",
       "reactive power      0.967384        1.000000    0.526006  0.337411   \n",
       "bulk total          0.550684        0.526006    1.000000  0.286016   \n",
       "gas                 0.356201        0.337411    0.286016  1.000000   \n",
       "wire total          0.085139        0.063894    0.074264  0.215807   \n",
       "temp begin         -0.471476       -0.457997   -0.096474  0.032531   \n",
       "temp end            0.244755        0.211118    0.216283  0.042863   \n",
       "\n",
       "                wire total  temp begin  temp end  \n",
       "active power      0.085139   -0.471476  0.244755  \n",
       "reactive power    0.063894   -0.457997  0.211118  \n",
       "bulk total        0.074264   -0.096474  0.216283  \n",
       "gas               0.215807    0.032531  0.042863  \n",
       "wire total        1.000000    0.174210  0.111183  \n",
       "temp begin        0.174210    1.000000  0.307875  \n",
       "temp end          0.111183    0.307875  1.000000  "
      ]
     },
     "metadata": {},
     "output_type": "display_data"
    },
    {
     "data": {
      "image/png": "[encoded data removed]",
      "text/plain": [
       "<Figure size 432x288 with 2 Axes>"
      ]
     },
     "metadata": {
      "needs_background": "light"
     },
     "output_type": "display_data"
    }
   ],
   "source": [
    "display(data_total.corr(method='spearman'))\n",
    "\n",
    "dataplot = sns.heatmap(data_total.corr(method='spearman'), cmap=\"YlGnBu\", annot=True)\n",
    "\n",
    "plt.show()"
   ]
  },
  {
   "cell_type": "markdown",
   "metadata": {},
   "source": [
    "Тут необходимо принять решение об удалении reactive power из датасета, так как коэффициент корреляции по спирмену очень высок!"
   ]
  },
  {
   "cell_type": "code",
   "execution_count": 40,
   "metadata": {},
   "outputs": [],
   "source": [
    "data_total = data_total.drop('reactive power', 1)"
   ]
  },
  {
   "cell_type": "markdown",
   "metadata": {},
   "source": [
    "## 3. Моделирование"
   ]
  },
  {
   "cell_type": "code",
   "execution_count": 41,
   "metadata": {},
   "outputs": [],
   "source": [
    "df = data_total"
   ]
  },
  {
   "cell_type": "code",
   "execution_count": 42,
   "metadata": {
    "scrolled": true
   },
   "outputs": [
    {
     "data": {
      "text/html": [
       "<div>\n",
       "<style scoped>\n",
       "    .dataframe tbody tr th:only-of-type {\n",
       "        vertical-align: middle;\n",
       "    }\n",
       "\n",
       "    .dataframe tbody tr th {\n",
       "        vertical-align: top;\n",
       "    }\n",
       "\n",
       "    .dataframe thead th {\n",
       "        text-align: right;\n",
       "    }\n",
       "</style>\n",
       "<table border=\"1\" class=\"dataframe\">\n",
       "  <thead>\n",
       "    <tr style=\"text-align: right;\">\n",
       "      <th></th>\n",
       "      <th>active power</th>\n",
       "      <th>bulk total</th>\n",
       "      <th>gas</th>\n",
       "      <th>wire total</th>\n",
       "      <th>temp begin</th>\n",
       "      <th>temp end</th>\n",
       "    </tr>\n",
       "  </thead>\n",
       "  <tbody>\n",
       "    <tr>\n",
       "      <th>0</th>\n",
       "      <td>4.878147</td>\n",
       "      <td>553.0</td>\n",
       "      <td>29.749986</td>\n",
       "      <td>60.059998</td>\n",
       "      <td>1571.0</td>\n",
       "      <td>1613.0</td>\n",
       "    </tr>\n",
       "    <tr>\n",
       "      <th>1</th>\n",
       "      <td>3.052598</td>\n",
       "      <td>582.0</td>\n",
       "      <td>12.555561</td>\n",
       "      <td>96.052315</td>\n",
       "      <td>1581.0</td>\n",
       "      <td>1602.0</td>\n",
       "    </tr>\n",
       "    <tr>\n",
       "      <th>2</th>\n",
       "      <td>2.525882</td>\n",
       "      <td>544.0</td>\n",
       "      <td>28.554793</td>\n",
       "      <td>91.160157</td>\n",
       "      <td>1596.0</td>\n",
       "      <td>1599.0</td>\n",
       "    </tr>\n",
       "    <tr>\n",
       "      <th>3</th>\n",
       "      <td>3.209250</td>\n",
       "      <td>595.0</td>\n",
       "      <td>18.841219</td>\n",
       "      <td>89.063515</td>\n",
       "      <td>1601.0</td>\n",
       "      <td>1625.0</td>\n",
       "    </tr>\n",
       "    <tr>\n",
       "      <th>4</th>\n",
       "      <td>3.347173</td>\n",
       "      <td>584.0</td>\n",
       "      <td>5.413692</td>\n",
       "      <td>98.352796</td>\n",
       "      <td>1576.0</td>\n",
       "      <td>1602.0</td>\n",
       "    </tr>\n",
       "  </tbody>\n",
       "</table>\n",
       "</div>"
      ],
      "text/plain": [
       "   active power  bulk total        gas  wire total  temp begin  temp end\n",
       "0      4.878147       553.0  29.749986   60.059998      1571.0    1613.0\n",
       "1      3.052598       582.0  12.555561   96.052315      1581.0    1602.0\n",
       "2      2.525882       544.0  28.554793   91.160157      1596.0    1599.0\n",
       "3      3.209250       595.0  18.841219   89.063515      1601.0    1625.0\n",
       "4      3.347173       584.0   5.413692   98.352796      1576.0    1602.0"
      ]
     },
     "execution_count": 42,
     "metadata": {},
     "output_type": "execute_result"
    }
   ],
   "source": [
    "df.head()"
   ]
  },
  {
   "cell_type": "markdown",
   "metadata": {},
   "source": [
    "Разбиваем датасет на признаки и таргеты"
   ]
  },
  {
   "cell_type": "code",
   "execution_count": 43,
   "metadata": {},
   "outputs": [],
   "source": [
    "target = df['temp end']\n",
    "features = df.drop(['temp end'], axis = 1)"
   ]
  },
  {
   "cell_type": "markdown",
   "metadata": {},
   "source": [
    "Разделение на тестовую и обучающую выборку"
   ]
  },
  {
   "cell_type": "code",
   "execution_count": 44,
   "metadata": {},
   "outputs": [],
   "source": [
    "features_train, features_test, target_train, target_test = train_test_split(features, target, test_size = 0.25, random_state = 12345)"
   ]
  },
  {
   "cell_type": "code",
   "execution_count": 45,
   "metadata": {},
   "outputs": [
    {
     "name": "stdout",
     "output_type": "stream",
     "text": [
      "Размеры тренировочной выборки:\n",
      "(1746, 5)\n",
      "(1746,)\n",
      "Размеры валидационной выборки:\n",
      "(583, 5)\n",
      "(583,)\n"
     ]
    }
   ],
   "source": [
    "print('Размеры тренировочной выборки:')\n",
    "print(features_train.shape)\n",
    "print(target_train.shape)\n",
    "\n",
    "print('Размеры валидационной выборки:')\n",
    "print(features_test.shape)\n",
    "print(target_test.shape)"
   ]
  },
  {
   "cell_type": "code",
   "execution_count": 46,
   "metadata": {},
   "outputs": [
    {
     "name": "stdout",
     "output_type": "stream",
     "text": [
      "Скаляризация - уравновешивание признаков...\n"
     ]
    }
   ],
   "source": [
    "print('Скаляризация - уравновешивание признаков...')\n",
    "\n",
    "scaler = StandardScaler()\n",
    "\n",
    "features_train = scaler.fit_transform(features_train)\n",
    "features_test = scaler.transform(features_test)"
   ]
  },
  {
   "cell_type": "markdown",
   "metadata": {},
   "source": [
    "***Простая модель линейной регрессии***"
   ]
  },
  {
   "cell_type": "code",
   "execution_count": 47,
   "metadata": {},
   "outputs": [
    {
     "data": {
      "text/plain": [
       "LinearRegression()"
      ]
     },
     "execution_count": 47,
     "metadata": {},
     "output_type": "execute_result"
    }
   ],
   "source": [
    "model1 = LinearRegression()\n",
    "model1.fit(features_train, target_train)"
   ]
  },
  {
   "cell_type": "code",
   "execution_count": 48,
   "metadata": {},
   "outputs": [],
   "source": [
    "predictions1_train = model1.predict(features_train)"
   ]
  },
  {
   "cell_type": "code",
   "execution_count": 49,
   "metadata": {},
   "outputs": [
    {
     "name": "stdout",
     "output_type": "stream",
     "text": [
      "MAE модели на обучающей выборке: 6.82604329481774\n"
     ]
    }
   ],
   "source": [
    "print('MAE модели на обучающей выборке:', mean_absolute_error(target_train, predictions1_train))"
   ]
  },
  {
   "cell_type": "code",
   "execution_count": 50,
   "metadata": {},
   "outputs": [],
   "source": [
    "predictions1_test = model1.predict(features_test)"
   ]
  },
  {
   "cell_type": "code",
   "execution_count": 51,
   "metadata": {},
   "outputs": [
    {
     "name": "stdout",
     "output_type": "stream",
     "text": [
      "MAE модели на тестовой выборке: 7.173675006466905\n"
     ]
    }
   ],
   "source": [
    "print('MAE модели на тестовой выборке:', mean_absolute_error(target_test, predictions1_test))"
   ]
  },
  {
   "cell_type": "code",
   "execution_count": 52,
   "metadata": {},
   "outputs": [
    {
     "data": {
      "image/png": "[encoded data removed]",
      "text/plain": [
       "<Figure size 864x504 with 1 Axes>"
      ]
     },
     "metadata": {
      "needs_background": "light"
     },
     "output_type": "display_data"
    }
   ],
   "source": [
    "plt.figure(figsize=(12, 7))\n",
    "plt.plot(list(target_test), '-r', alpha=0.7, label=\"целевые признаки\", lw=5)\n",
    "plt.plot(list(predictions1_test), '-g', label=\"предсказания\", lw=2)\n",
    "plt.legend()\n",
    "plt.grid(True)"
   ]
  },
  {
   "cell_type": "markdown",
   "metadata": {},
   "source": [
    "***Попробуем обучить и подобрать гиперпараметры для модели градиентного бустинга***"
   ]
  },
  {
   "cell_type": "code",
   "execution_count": 53,
   "metadata": {},
   "outputs": [],
   "source": [
    "scoring = make_scorer(mean_absolute_error)"
   ]
  },
  {
   "cell_type": "code",
   "execution_count": 54,
   "metadata": {},
   "outputs": [],
   "source": [
    "parametrs = {'learning_rate': list(np.arange(0.01, 0.05, 0.01)),\n",
    "                'n_estimators': range(300, 500, 10)}"
   ]
  },
  {
   "cell_type": "code",
   "execution_count": 55,
   "metadata": {},
   "outputs": [],
   "source": [
    "model = LGBMRegressor(random_state=12345)\n",
    "model.fit(features_train, target_train)\n",
    "predictions_train = model.predict(features_train)"
   ]
  },
  {
   "cell_type": "code",
   "execution_count": 56,
   "metadata": {},
   "outputs": [
    {
     "name": "stdout",
     "output_type": "stream",
     "text": [
      "MAE модели на обучающей выборке: 3.6882930710753437\n"
     ]
    }
   ],
   "source": [
    "print('MAE модели на обучающей выборке:', mean_absolute_error(target_train, predictions_train))"
   ]
  },
  {
   "cell_type": "code",
   "execution_count": 57,
   "metadata": {},
   "outputs": [
    {
     "data": {
      "text/plain": [
       "{'learning_rate': 0.04, 'n_estimators': 490}"
      ]
     },
     "execution_count": 57,
     "metadata": {},
     "output_type": "execute_result"
    }
   ],
   "source": [
    "grid = GridSearchCV(model, parametrs, cv=5, scoring = scoring, verbose = 0)\n",
    "grid.fit(features_test, target_test)\n",
    "grid.best_params_"
   ]
  },
  {
   "cell_type": "code",
   "execution_count": 58,
   "metadata": {},
   "outputs": [],
   "source": [
    "model = LGBMRegressor(random_state=12345, learning_rate = 0.01, n_estimators = 390)\n",
    "model.fit(features_train, target_train)\n",
    "predictions_train = model.predict(features_train)"
   ]
  },
  {
   "cell_type": "code",
   "execution_count": 59,
   "metadata": {
    "scrolled": true
   },
   "outputs": [
    {
     "name": "stdout",
     "output_type": "stream",
     "text": [
      "MAE модели на обучающей выборке: 4.740358324357789\n"
     ]
    }
   ],
   "source": [
    "print('MAE модели на обучающей выборке:', mean_absolute_error(target_train, predictions_train))"
   ]
  },
  {
   "cell_type": "markdown",
   "metadata": {},
   "source": [
    "## 4. Проверка модели на тестовой выборке"
   ]
  },
  {
   "cell_type": "code",
   "execution_count": 60,
   "metadata": {},
   "outputs": [],
   "source": [
    "predictions_test = model.predict(features_test)"
   ]
  },
  {
   "cell_type": "code",
   "execution_count": 61,
   "metadata": {},
   "outputs": [
    {
     "name": "stdout",
     "output_type": "stream",
     "text": [
      "MAE модели на тестовой выборке: 6.706849448688197\n"
     ]
    }
   ],
   "source": [
    "print('MAE модели на тестовой выборке:', mean_absolute_error(target_test, predictions_test))"
   ]
  },
  {
   "cell_type": "markdown",
   "metadata": {},
   "source": [
    "**Вывод по части \"Код решения\"**\n",
    "\n",
    "Полученный результат MAE на тестовой выборке равен: 6.707\n",
    "\n",
    "Для регрессии значения конечной температуры была выбрана модель градиентного бустинга LGBMRegressor с соответствующими параметрами, примерно подобранными при помощи GridSearchCV.\n",
    "\n",
    "GridSearchCV ориентируется на наименьшую MAE на обучающей выборке, но чтобы получить таковую на тестовой были подобраны следующие параметры {'learning_rate': 0.01, 'n_estimators': 390}."
   ]
  },
  {
   "cell_type": "code",
   "execution_count": 62,
   "metadata": {
    "scrolled": true
   },
   "outputs": [
    {
     "data": {
      "image/png": "[encoded data removed]",
      "text/plain": [
       "<Figure size 864x504 with 1 Axes>"
      ]
     },
     "metadata": {
      "needs_background": "light"
     },
     "output_type": "display_data"
    }
   ],
   "source": [
    "plt.figure(figsize=(12, 7))\n",
    "plt.plot(list(target_test), '-r', alpha=0.7, label=\"целевые признаки\", lw=5)\n",
    "plt.plot(list(predictions_test), 'v-g', label=\"предсказания\", lw=2)\n",
    "plt.legend()\n",
    "plt.grid(True)"
   ]
  },
  {
   "cell_type": "code",
   "execution_count": 63,
   "metadata": {},
   "outputs": [
    {
     "data": {
      "text/html": [
       "<div>\n",
       "<style scoped>\n",
       "    .dataframe tbody tr th:only-of-type {\n",
       "        vertical-align: middle;\n",
       "    }\n",
       "\n",
       "    .dataframe tbody tr th {\n",
       "        vertical-align: top;\n",
       "    }\n",
       "\n",
       "    .dataframe thead th {\n",
       "        text-align: right;\n",
       "    }\n",
       "</style>\n",
       "<table border=\"1\" class=\"dataframe\">\n",
       "  <thead>\n",
       "    <tr style=\"text-align: right;\">\n",
       "      <th></th>\n",
       "      <th>active power</th>\n",
       "      <th>bulk total</th>\n",
       "      <th>gas</th>\n",
       "      <th>wire total</th>\n",
       "      <th>temp begin</th>\n",
       "    </tr>\n",
       "  </thead>\n",
       "  <tbody>\n",
       "    <tr>\n",
       "      <th>0</th>\n",
       "      <td>4.878147</td>\n",
       "      <td>553.0</td>\n",
       "      <td>29.749986</td>\n",
       "      <td>60.059998</td>\n",
       "      <td>1571.0</td>\n",
       "    </tr>\n",
       "    <tr>\n",
       "      <th>1</th>\n",
       "      <td>3.052598</td>\n",
       "      <td>582.0</td>\n",
       "      <td>12.555561</td>\n",
       "      <td>96.052315</td>\n",
       "      <td>1581.0</td>\n",
       "    </tr>\n",
       "    <tr>\n",
       "      <th>2</th>\n",
       "      <td>2.525882</td>\n",
       "      <td>544.0</td>\n",
       "      <td>28.554793</td>\n",
       "      <td>91.160157</td>\n",
       "      <td>1596.0</td>\n",
       "    </tr>\n",
       "    <tr>\n",
       "      <th>3</th>\n",
       "      <td>3.209250</td>\n",
       "      <td>595.0</td>\n",
       "      <td>18.841219</td>\n",
       "      <td>89.063515</td>\n",
       "      <td>1601.0</td>\n",
       "    </tr>\n",
       "    <tr>\n",
       "      <th>4</th>\n",
       "      <td>3.347173</td>\n",
       "      <td>584.0</td>\n",
       "      <td>5.413692</td>\n",
       "      <td>98.352796</td>\n",
       "      <td>1576.0</td>\n",
       "    </tr>\n",
       "    <tr>\n",
       "      <th>...</th>\n",
       "      <td>...</td>\n",
       "      <td>...</td>\n",
       "      <td>...</td>\n",
       "      <td>...</td>\n",
       "      <td>...</td>\n",
       "    </tr>\n",
       "    <tr>\n",
       "      <th>2494</th>\n",
       "      <td>3.210690</td>\n",
       "      <td>719.0</td>\n",
       "      <td>7.125735</td>\n",
       "      <td>89.150879</td>\n",
       "      <td>1570.0</td>\n",
       "    </tr>\n",
       "    <tr>\n",
       "      <th>2495</th>\n",
       "      <td>4.203064</td>\n",
       "      <td>796.0</td>\n",
       "      <td>9.412616</td>\n",
       "      <td>114.179527</td>\n",
       "      <td>1554.0</td>\n",
       "    </tr>\n",
       "    <tr>\n",
       "      <th>2496</th>\n",
       "      <td>2.212379</td>\n",
       "      <td>665.0</td>\n",
       "      <td>6.271699</td>\n",
       "      <td>103.134723</td>\n",
       "      <td>1571.0</td>\n",
       "    </tr>\n",
       "    <tr>\n",
       "      <th>2497</th>\n",
       "      <td>3.408725</td>\n",
       "      <td>733.0</td>\n",
       "      <td>14.953657</td>\n",
       "      <td>118.110717</td>\n",
       "      <td>1591.0</td>\n",
       "    </tr>\n",
       "    <tr>\n",
       "      <th>2498</th>\n",
       "      <td>4.098431</td>\n",
       "      <td>633.0</td>\n",
       "      <td>11.336151</td>\n",
       "      <td>160.166238</td>\n",
       "      <td>1569.0</td>\n",
       "    </tr>\n",
       "  </tbody>\n",
       "</table>\n",
       "<p>2329 rows × 5 columns</p>\n",
       "</div>"
      ],
      "text/plain": [
       "      active power  bulk total        gas  wire total  temp begin\n",
       "0         4.878147       553.0  29.749986   60.059998      1571.0\n",
       "1         3.052598       582.0  12.555561   96.052315      1581.0\n",
       "2         2.525882       544.0  28.554793   91.160157      1596.0\n",
       "3         3.209250       595.0  18.841219   89.063515      1601.0\n",
       "4         3.347173       584.0   5.413692   98.352796      1576.0\n",
       "...            ...         ...        ...         ...         ...\n",
       "2494      3.210690       719.0   7.125735   89.150879      1570.0\n",
       "2495      4.203064       796.0   9.412616  114.179527      1554.0\n",
       "2496      2.212379       665.0   6.271699  103.134723      1571.0\n",
       "2497      3.408725       733.0  14.953657  118.110717      1591.0\n",
       "2498      4.098431       633.0  11.336151  160.166238      1569.0\n",
       "\n",
       "[2329 rows x 5 columns]"
      ]
     },
     "execution_count": 63,
     "metadata": {},
     "output_type": "execute_result"
    }
   ],
   "source": [
    "features"
   ]
  },
  {
   "cell_type": "code",
   "execution_count": 64,
   "metadata": {
    "scrolled": true
   },
   "outputs": [
    {
     "data": {
      "image/png": "[encoded data removed]",
      "text/plain": [
       "<Figure size 432x288 with 1 Axes>"
      ]
     },
     "metadata": {
      "needs_background": "light"
     },
     "output_type": "display_data"
    }
   ],
   "source": [
    "def chart_feature_imp(model):\n",
    "    feature_imp = pd.Series(model.feature_importances_, index=features.columns).sort_values(ascending=False)\n",
    "\n",
    "    ax = sns.barplot(x=feature_imp, y=feature_imp.index)\n",
    "    _ = ax.set(xlabel='Оценка важности признаков', ylabel='Признаки')\n",
    "    _ = ax.set_title('Визуализация важности признаков')\n",
    "\n",
    "chart_feature_imp(model)"
   ]
  },
  {
   "cell_type": "markdown",
   "metadata": {},
   "source": [
    "## Итоговый отчет по решению."
   ]
  },
  {
   "cell_type": "markdown",
   "metadata": {},
   "source": [
    "**План работы:**  \n",
    "- Провести исследовательский анализ данных:\n",
    "    - Посмотреть на распределение исходных данных\n",
    "    - Проанализировать порядок событий в производственном процессе\n",
    "    - Исключить партии, которые не имеют последнего замера температуры, либо первый замер соответствует последнему, либо замеры отсутствуют \n",
    "    - Оставить только события, которые находятся в промежутке между первым и последним замерами\n",
    "- Подобрать признаки, на которых будет обучаться модель:\n",
    "    - Сгенерировать ряд признаков\n",
    "    - Проверить признаки на мультиколлинеарность, исключить лишние\n",
    "    - Провести масштабирование признаков\n",
    "- Построить модель, которая предскажет температуру стали:\n",
    "    - Сформировать обучающую, валидационную и тестовую выборки\n",
    "    - Выбрать несколько моделей и проверить их эффективность на валидационной выборке с помощью показателя эффективности MAE\n",
    "    - Эффективность лучшей модели проверить на тестовой выборке"
   ]
  },
  {
   "cell_type": "markdown",
   "metadata": {},
   "source": [
    "### Отчет\n",
    "\n",
    "***1) Соответствие плану:***\n",
    "\n",
    "    - Был проведен исследовательский анализ данных входящих датасетов, предобработка и исключение ненужных признаков и событий;\n",
    "    \n",
    "    - По результатам предыдущего этапа был сгенерирован ряд признаков для дальнейшего обучения на них модели; признаки были проверены на мультиколлениарность (лишние, при условии высокой корреляции с другими признаками и важности факторов, были удалены) и масштабированы;\n",
    "    \n",
    "    - Была построена модель, предсказывающая температуру, MAE которой на тестовой выборке получилась 6.707 (то есть, в среднем, модель дает результат с точностью +-6.7 градусов).\n",
    "    \n",
    "    Итого: все пункты, заявленные ранее в плане проекта были выполнены с достижением соответствующего оптимального результата MAE обученной модели.\n",
    "    \n",
    "***2) Трудности, возникшие в проекте:***\n",
    "\n",
    "    - Данные были разбиты на разные таблицы: при формировании итоговой таблицы признаков и таргетов для обучения модели были необходимы предобработка и формирование отдельного датасета путем отбрасывания и добавления новых столбцов, а также проверки на мультиколлинеарность и важность признаков;\n",
    "    \n",
    "    - Подбор гиперпараметров модели градиентного бустинга.\n",
    "    \n",
    "    Итого: итоговая таблица была успешно сформирована с учетом всех факторов; решение трудности подбора гиперпараметров модели градиентного бустинга - использование моделей подбора гиперпараметров, таких как GridSearchCV.\n",
    "    \n",
    "***3) Ключевые шаги в решении задачи модели:***\n",
    "\n",
    "    - Несомненно, наиболее важным фактором в решении кейса есть наличие и правильность составления плана работы! Это основа основ, определяющая наш итоговый результат, при следовании которой мы сможем достичь необходимого результата, а при отклонении - извлечь для себя новые инсайты, направления развития и пути совершенстсования разрабатываемой модели прогнозирования;\n",
    "\n",
    "    - Правильное формирование итогового датасета для обучения моделей на нем: важно правильно подобрать признаки, а также проверить необходимость их наличия при помощи проверки на мультиколлинеарность, ведь слишком большое число признаков может \"загрузить\" модель, а пропуски и выбросы в признаках привести к ошибкам в предсказаниях модели;\n",
    "    \n",
    "    - Уделение должного внимания подбору гиперпараметров: от использования моделей подбора параметров до применения навыков собственной интуиции :).\n",
    "    \n",
    "    Итого: была получена модель с соответствующими характеристиками, описанными пунктом ниже.\n",
    "    \n",
    "***4) Итоговая модель*** - модель градиентного бустинга LGBMRegressor(). MAE итоговой модели на тестовой выборке - 6.707 (то есть, в среднем, модель дает результат с точностью +-6.7 градусов)."
   ]
  }
 ],
 "metadata": {
  "ExecuteTimeLog": [
   {
    "duration": 1133,
    "start_time": "2021-12-19T20:20:10.000Z"
   },
   {
    "duration": 58,
    "start_time": "2021-12-19T20:20:50.480Z"
   },
   {
    "duration": 234,
    "start_time": "2021-12-19T20:22:08.689Z"
   },
   {
    "duration": 29,
    "start_time": "2021-12-19T20:22:15.743Z"
   },
   {
    "duration": 23,
    "start_time": "2021-12-19T20:22:41.434Z"
   },
   {
    "duration": 316,
    "start_time": "2021-12-24T17:34:35.435Z"
   },
   {
    "duration": 554,
    "start_time": "2021-12-24T17:34:40.771Z"
   },
   {
    "duration": 842,
    "start_time": "2021-12-24T17:34:41.327Z"
   },
   {
    "duration": 15,
    "start_time": "2021-12-24T17:34:42.171Z"
   },
   {
    "duration": 7,
    "start_time": "2021-12-24T17:36:16.603Z"
   },
   {
    "duration": 12,
    "start_time": "2021-12-24T20:15:32.127Z"
   },
   {
    "duration": 8,
    "start_time": "2021-12-24T20:16:30.007Z"
   },
   {
    "duration": 6,
    "start_time": "2021-12-24T20:18:01.468Z"
   },
   {
    "duration": 4627,
    "start_time": "2021-12-24T20:18:23.415Z"
   },
   {
    "duration": 4,
    "start_time": "2021-12-24T20:18:43.548Z"
   },
   {
    "duration": 24,
    "start_time": "2021-12-24T20:19:42.739Z"
   },
   {
    "duration": 12,
    "start_time": "2021-12-24T20:20:16.759Z"
   },
   {
    "duration": 12,
    "start_time": "2021-12-24T20:27:58.857Z"
   },
   {
    "duration": 9,
    "start_time": "2021-12-24T20:39:47.546Z"
   },
   {
    "duration": 6,
    "start_time": "2021-12-24T20:42:29.732Z"
   },
   {
    "duration": 5,
    "start_time": "2021-12-24T20:43:27.157Z"
   },
   {
    "duration": 7,
    "start_time": "2021-12-24T20:44:05.302Z"
   },
   {
    "duration": 7,
    "start_time": "2021-12-24T20:44:11.566Z"
   },
   {
    "duration": 7,
    "start_time": "2021-12-24T20:45:13.094Z"
   },
   {
    "duration": 8,
    "start_time": "2021-12-24T20:45:49.128Z"
   },
   {
    "duration": 9,
    "start_time": "2021-12-24T20:47:05.408Z"
   },
   {
    "duration": 7,
    "start_time": "2021-12-24T20:47:30.311Z"
   },
   {
    "duration": 9,
    "start_time": "2021-12-24T20:49:32.021Z"
   },
   {
    "duration": 8,
    "start_time": "2021-12-24T20:50:13.040Z"
   },
   {
    "duration": 7,
    "start_time": "2021-12-24T20:51:26.644Z"
   },
   {
    "duration": 7,
    "start_time": "2021-12-24T20:51:31.005Z"
   },
   {
    "duration": 19,
    "start_time": "2021-12-24T20:56:25.157Z"
   },
   {
    "duration": 94,
    "start_time": "2021-12-24T20:59:39.945Z"
   },
   {
    "duration": 101,
    "start_time": "2021-12-24T20:59:51.132Z"
   },
   {
    "duration": 10,
    "start_time": "2021-12-24T20:59:56.205Z"
   },
   {
    "duration": 17,
    "start_time": "2021-12-24T21:00:10.482Z"
   },
   {
    "duration": 9,
    "start_time": "2021-12-24T21:00:26.375Z"
   },
   {
    "duration": 20,
    "start_time": "2021-12-24T21:00:27.000Z"
   },
   {
    "duration": 3,
    "start_time": "2021-12-24T21:02:05.612Z"
   },
   {
    "duration": 3,
    "start_time": "2021-12-24T21:02:11.817Z"
   },
   {
    "duration": 4,
    "start_time": "2021-12-24T21:02:17.496Z"
   },
   {
    "duration": 4,
    "start_time": "2021-12-24T21:02:43.176Z"
   },
   {
    "duration": 10,
    "start_time": "2021-12-24T21:02:51.194Z"
   },
   {
    "duration": 110,
    "start_time": "2021-12-24T21:05:35.124Z"
   },
   {
    "duration": 6,
    "start_time": "2021-12-24T21:07:45.941Z"
   },
   {
    "duration": 7,
    "start_time": "2021-12-24T21:08:01.397Z"
   },
   {
    "duration": 4,
    "start_time": "2021-12-24T21:08:19.503Z"
   },
   {
    "duration": 6,
    "start_time": "2021-12-24T21:08:27.362Z"
   },
   {
    "duration": 4,
    "start_time": "2021-12-24T21:10:14.331Z"
   },
   {
    "duration": 4,
    "start_time": "2021-12-24T21:10:22.679Z"
   },
   {
    "duration": 4,
    "start_time": "2021-12-24T21:15:07.706Z"
   },
   {
    "duration": 2,
    "start_time": "2021-12-24T21:15:17.379Z"
   },
   {
    "duration": 299,
    "start_time": "2021-12-24T21:15:48.770Z"
   },
   {
    "duration": 548,
    "start_time": "2021-12-24T21:16:41.260Z"
   },
   {
    "duration": 172,
    "start_time": "2021-12-24T21:16:41.810Z"
   },
   {
    "duration": 15,
    "start_time": "2021-12-24T21:16:41.984Z"
   },
   {
    "duration": 8,
    "start_time": "2021-12-24T21:16:42.001Z"
   },
   {
    "duration": 326,
    "start_time": "2021-12-24T21:16:42.011Z"
   },
   {
    "duration": -941,
    "start_time": "2021-12-24T21:16:43.280Z"
   },
   {
    "duration": -947,
    "start_time": "2021-12-24T21:16:43.286Z"
   },
   {
    "duration": -949,
    "start_time": "2021-12-24T21:16:43.289Z"
   },
   {
    "duration": -949,
    "start_time": "2021-12-24T21:16:43.291Z"
   },
   {
    "duration": -949,
    "start_time": "2021-12-24T21:16:43.292Z"
   },
   {
    "duration": -949,
    "start_time": "2021-12-24T21:16:43.293Z"
   },
   {
    "duration": -949,
    "start_time": "2021-12-24T21:16:43.294Z"
   },
   {
    "duration": -956,
    "start_time": "2021-12-24T21:16:43.301Z"
   },
   {
    "duration": -961,
    "start_time": "2021-12-24T21:16:43.307Z"
   },
   {
    "duration": -961,
    "start_time": "2021-12-24T21:16:43.308Z"
   },
   {
    "duration": -963,
    "start_time": "2021-12-24T21:16:43.310Z"
   },
   {
    "duration": -963,
    "start_time": "2021-12-24T21:16:43.311Z"
   },
   {
    "duration": -964,
    "start_time": "2021-12-24T21:16:43.313Z"
   },
   {
    "duration": -964,
    "start_time": "2021-12-24T21:16:43.314Z"
   },
   {
    "duration": -964,
    "start_time": "2021-12-24T21:16:43.315Z"
   },
   {
    "duration": -964,
    "start_time": "2021-12-24T21:16:43.316Z"
   },
   {
    "duration": -964,
    "start_time": "2021-12-24T21:16:43.317Z"
   },
   {
    "duration": -965,
    "start_time": "2021-12-24T21:16:43.318Z"
   },
   {
    "duration": 5,
    "start_time": "2021-12-24T21:16:58.368Z"
   },
   {
    "duration": 582,
    "start_time": "2021-12-24T21:17:05.338Z"
   },
   {
    "duration": 175,
    "start_time": "2021-12-24T21:17:05.921Z"
   },
   {
    "duration": 13,
    "start_time": "2021-12-24T21:17:06.098Z"
   },
   {
    "duration": 9,
    "start_time": "2021-12-24T21:17:06.113Z"
   },
   {
    "duration": 8,
    "start_time": "2021-12-24T21:17:06.124Z"
   },
   {
    "duration": 383,
    "start_time": "2021-12-24T21:17:06.134Z"
   },
   {
    "duration": -955,
    "start_time": "2021-12-24T21:17:07.474Z"
   },
   {
    "duration": -956,
    "start_time": "2021-12-24T21:17:07.476Z"
   },
   {
    "duration": -956,
    "start_time": "2021-12-24T21:17:07.477Z"
   },
   {
    "duration": -963,
    "start_time": "2021-12-24T21:17:07.485Z"
   },
   {
    "duration": -971,
    "start_time": "2021-12-24T21:17:07.494Z"
   },
   {
    "duration": -976,
    "start_time": "2021-12-24T21:17:07.500Z"
   },
   {
    "duration": -983,
    "start_time": "2021-12-24T21:17:07.507Z"
   },
   {
    "duration": -987,
    "start_time": "2021-12-24T21:17:07.512Z"
   },
   {
    "duration": -993,
    "start_time": "2021-12-24T21:17:07.519Z"
   },
   {
    "duration": -998,
    "start_time": "2021-12-24T21:17:07.525Z"
   },
   {
    "duration": -998,
    "start_time": "2021-12-24T21:17:07.526Z"
   },
   {
    "duration": -1004,
    "start_time": "2021-12-24T21:17:07.533Z"
   },
   {
    "duration": -1014,
    "start_time": "2021-12-24T21:17:07.543Z"
   },
   {
    "duration": -1017,
    "start_time": "2021-12-24T21:17:07.547Z"
   },
   {
    "duration": -1022,
    "start_time": "2021-12-24T21:17:07.553Z"
   },
   {
    "duration": -1024,
    "start_time": "2021-12-24T21:17:07.556Z"
   },
   {
    "duration": -1031,
    "start_time": "2021-12-24T21:17:07.564Z"
   },
   {
    "duration": 548,
    "start_time": "2021-12-24T21:17:36.251Z"
   },
   {
    "duration": 171,
    "start_time": "2021-12-24T21:17:36.801Z"
   },
   {
    "duration": 13,
    "start_time": "2021-12-24T21:17:36.974Z"
   },
   {
    "duration": 9,
    "start_time": "2021-12-24T21:17:36.989Z"
   },
   {
    "duration": 3,
    "start_time": "2021-12-24T21:17:37.000Z"
   },
   {
    "duration": 9,
    "start_time": "2021-12-24T21:17:37.005Z"
   },
   {
    "duration": 15,
    "start_time": "2021-12-24T21:17:37.015Z"
   },
   {
    "duration": 6,
    "start_time": "2021-12-24T21:17:37.032Z"
   },
   {
    "duration": 5,
    "start_time": "2021-12-24T21:17:37.040Z"
   },
   {
    "duration": 7,
    "start_time": "2021-12-24T21:17:37.046Z"
   },
   {
    "duration": 4,
    "start_time": "2021-12-24T21:17:37.055Z"
   },
   {
    "duration": 7,
    "start_time": "2021-12-24T21:17:37.060Z"
   },
   {
    "duration": 12,
    "start_time": "2021-12-24T21:17:37.069Z"
   },
   {
    "duration": 10,
    "start_time": "2021-12-24T21:17:37.082Z"
   },
   {
    "duration": 36,
    "start_time": "2021-12-24T21:17:37.094Z"
   },
   {
    "duration": 6,
    "start_time": "2021-12-24T21:17:37.131Z"
   },
   {
    "duration": 7,
    "start_time": "2021-12-24T21:17:37.138Z"
   },
   {
    "duration": 6,
    "start_time": "2021-12-24T21:17:37.147Z"
   },
   {
    "duration": 9,
    "start_time": "2021-12-24T21:17:37.154Z"
   },
   {
    "duration": 5,
    "start_time": "2021-12-24T21:17:37.165Z"
   },
   {
    "duration": 5,
    "start_time": "2021-12-24T21:17:37.172Z"
   },
   {
    "duration": 7,
    "start_time": "2021-12-24T21:17:37.178Z"
   },
   {
    "duration": 42,
    "start_time": "2021-12-24T21:17:37.187Z"
   },
   {
    "duration": 593,
    "start_time": "2021-12-24T21:17:50.192Z"
   },
   {
    "duration": 168,
    "start_time": "2021-12-24T21:17:50.787Z"
   },
   {
    "duration": 14,
    "start_time": "2021-12-24T21:17:50.957Z"
   },
   {
    "duration": 7,
    "start_time": "2021-12-24T21:17:50.973Z"
   },
   {
    "duration": 3,
    "start_time": "2021-12-24T21:17:50.981Z"
   },
   {
    "duration": 8,
    "start_time": "2021-12-24T21:17:50.986Z"
   },
   {
    "duration": 13,
    "start_time": "2021-12-24T21:17:50.995Z"
   },
   {
    "duration": 6,
    "start_time": "2021-12-24T21:17:51.010Z"
   },
   {
    "duration": 12,
    "start_time": "2021-12-24T21:17:51.018Z"
   },
   {
    "duration": 7,
    "start_time": "2021-12-24T21:17:51.032Z"
   },
   {
    "duration": 4,
    "start_time": "2021-12-24T21:17:51.041Z"
   },
   {
    "duration": 9,
    "start_time": "2021-12-24T21:17:51.046Z"
   },
   {
    "duration": 14,
    "start_time": "2021-12-24T21:17:51.057Z"
   },
   {
    "duration": 10,
    "start_time": "2021-12-24T21:17:51.073Z"
   },
   {
    "duration": 7,
    "start_time": "2021-12-24T21:17:51.084Z"
   },
   {
    "duration": 36,
    "start_time": "2021-12-24T21:17:51.092Z"
   },
   {
    "duration": 8,
    "start_time": "2021-12-24T21:17:51.130Z"
   },
   {
    "duration": 7,
    "start_time": "2021-12-24T21:17:51.140Z"
   },
   {
    "duration": 10,
    "start_time": "2021-12-24T21:17:51.149Z"
   },
   {
    "duration": 7,
    "start_time": "2021-12-24T21:17:51.160Z"
   },
   {
    "duration": 5,
    "start_time": "2021-12-24T21:17:51.168Z"
   },
   {
    "duration": 4,
    "start_time": "2021-12-24T21:17:51.175Z"
   },
   {
    "duration": 6,
    "start_time": "2021-12-24T21:17:51.181Z"
   },
   {
    "duration": 4,
    "start_time": "2021-12-24T21:18:12.858Z"
   },
   {
    "duration": 11,
    "start_time": "2021-12-24T21:18:17.656Z"
   },
   {
    "duration": 6,
    "start_time": "2021-12-24T21:18:48.826Z"
   },
   {
    "duration": 9,
    "start_time": "2021-12-24T21:18:56.912Z"
   },
   {
    "duration": 4,
    "start_time": "2021-12-24T21:19:06.739Z"
   },
   {
    "duration": 8,
    "start_time": "2021-12-24T21:19:14.732Z"
   },
   {
    "duration": 349,
    "start_time": "2021-12-24T21:22:35.726Z"
   },
   {
    "duration": 5,
    "start_time": "2021-12-24T21:22:44.788Z"
   },
   {
    "duration": 17,
    "start_time": "2021-12-24T21:23:31.816Z"
   },
   {
    "duration": 4,
    "start_time": "2021-12-24T21:23:43.262Z"
   },
   {
    "duration": 368,
    "start_time": "2021-12-24T21:25:10.896Z"
   },
   {
    "duration": 9,
    "start_time": "2021-12-24T21:25:24.970Z"
   },
   {
    "duration": 4755,
    "start_time": "2021-12-24T21:26:20.776Z"
   },
   {
    "duration": 7,
    "start_time": "2021-12-24T21:26:51.576Z"
   },
   {
    "duration": 5955,
    "start_time": "2021-12-24T21:27:01.490Z"
   },
   {
    "duration": 4,
    "start_time": "2021-12-24T21:27:22.909Z"
   },
   {
    "duration": 7,
    "start_time": "2021-12-24T21:28:32.289Z"
   },
   {
    "duration": 5,
    "start_time": "2021-12-24T21:29:04.114Z"
   },
   {
    "duration": 3,
    "start_time": "2021-12-24T21:29:10.202Z"
   },
   {
    "duration": 1942,
    "start_time": "2021-12-24T21:29:25.594Z"
   },
   {
    "duration": 3,
    "start_time": "2021-12-24T21:31:04.420Z"
   },
   {
    "duration": 4,
    "start_time": "2021-12-24T21:31:09.023Z"
   },
   {
    "duration": 8,
    "start_time": "2021-12-24T21:34:13.980Z"
   },
   {
    "duration": 11,
    "start_time": "2021-12-24T21:34:18.745Z"
   },
   {
    "duration": 10,
    "start_time": "2021-12-24T21:34:53.831Z"
   },
   {
    "duration": 804,
    "start_time": "2021-12-24T21:35:45.708Z"
   },
   {
    "duration": 172,
    "start_time": "2021-12-24T21:35:46.514Z"
   },
   {
    "duration": 14,
    "start_time": "2021-12-24T21:35:46.688Z"
   },
   {
    "duration": 11,
    "start_time": "2021-12-24T21:35:46.704Z"
   },
   {
    "duration": 7,
    "start_time": "2021-12-24T21:35:46.717Z"
   },
   {
    "duration": 12,
    "start_time": "2021-12-24T21:35:46.725Z"
   },
   {
    "duration": 21,
    "start_time": "2021-12-24T21:35:46.738Z"
   },
   {
    "duration": 20,
    "start_time": "2021-12-24T21:35:46.761Z"
   },
   {
    "duration": 17,
    "start_time": "2021-12-24T21:35:46.783Z"
   },
   {
    "duration": 7121,
    "start_time": "2021-12-24T21:35:46.802Z"
   },
   {
    "duration": -967,
    "start_time": "2021-12-24T21:35:54.892Z"
   },
   {
    "duration": -968,
    "start_time": "2021-12-24T21:35:54.894Z"
   },
   {
    "duration": -968,
    "start_time": "2021-12-24T21:35:54.895Z"
   },
   {
    "duration": -967,
    "start_time": "2021-12-24T21:35:54.895Z"
   },
   {
    "duration": -967,
    "start_time": "2021-12-24T21:35:54.896Z"
   },
   {
    "duration": -969,
    "start_time": "2021-12-24T21:35:54.898Z"
   },
   {
    "duration": -974,
    "start_time": "2021-12-24T21:35:54.904Z"
   },
   {
    "duration": -975,
    "start_time": "2021-12-24T21:35:54.906Z"
   },
   {
    "duration": -975,
    "start_time": "2021-12-24T21:35:54.907Z"
   },
   {
    "duration": -975,
    "start_time": "2021-12-24T21:35:54.908Z"
   },
   {
    "duration": -975,
    "start_time": "2021-12-24T21:35:54.909Z"
   },
   {
    "duration": -976,
    "start_time": "2021-12-24T21:35:54.910Z"
   },
   {
    "duration": -976,
    "start_time": "2021-12-24T21:35:54.911Z"
   },
   {
    "duration": -977,
    "start_time": "2021-12-24T21:35:54.913Z"
   },
   {
    "duration": -977,
    "start_time": "2021-12-24T21:35:54.914Z"
   },
   {
    "duration": -977,
    "start_time": "2021-12-24T21:35:54.915Z"
   },
   {
    "duration": -977,
    "start_time": "2021-12-24T21:35:54.916Z"
   },
   {
    "duration": -976,
    "start_time": "2021-12-24T21:35:54.916Z"
   },
   {
    "duration": 8131,
    "start_time": "2021-12-24T21:36:10.423Z"
   },
   {
    "duration": 557,
    "start_time": "2021-12-24T21:37:09.755Z"
   },
   {
    "duration": 170,
    "start_time": "2021-12-24T21:37:10.314Z"
   },
   {
    "duration": 12,
    "start_time": "2021-12-24T21:37:10.487Z"
   },
   {
    "duration": 10,
    "start_time": "2021-12-24T21:37:10.501Z"
   },
   {
    "duration": 10,
    "start_time": "2021-12-24T21:37:10.513Z"
   },
   {
    "duration": 7,
    "start_time": "2021-12-24T21:37:10.524Z"
   },
   {
    "duration": 9,
    "start_time": "2021-12-24T21:37:10.532Z"
   },
   {
    "duration": 14,
    "start_time": "2021-12-24T21:37:10.542Z"
   },
   {
    "duration": 6,
    "start_time": "2021-12-24T21:37:10.558Z"
   },
   {
    "duration": 7419,
    "start_time": "2021-12-24T21:37:10.566Z"
   },
   {
    "duration": -968,
    "start_time": "2021-12-24T21:37:18.955Z"
   },
   {
    "duration": -970,
    "start_time": "2021-12-24T21:37:18.958Z"
   },
   {
    "duration": -970,
    "start_time": "2021-12-24T21:37:18.959Z"
   },
   {
    "duration": -970,
    "start_time": "2021-12-24T21:37:18.960Z"
   },
   {
    "duration": -970,
    "start_time": "2021-12-24T21:37:18.961Z"
   },
   {
    "duration": -970,
    "start_time": "2021-12-24T21:37:18.962Z"
   },
   {
    "duration": -970,
    "start_time": "2021-12-24T21:37:18.963Z"
   },
   {
    "duration": -969,
    "start_time": "2021-12-24T21:37:18.964Z"
   },
   {
    "duration": -970,
    "start_time": "2021-12-24T21:37:18.966Z"
   },
   {
    "duration": -970,
    "start_time": "2021-12-24T21:37:18.967Z"
   },
   {
    "duration": -970,
    "start_time": "2021-12-24T21:37:18.968Z"
   },
   {
    "duration": -970,
    "start_time": "2021-12-24T21:37:18.969Z"
   },
   {
    "duration": -974,
    "start_time": "2021-12-24T21:37:18.974Z"
   },
   {
    "duration": -973,
    "start_time": "2021-12-24T21:37:18.975Z"
   },
   {
    "duration": -974,
    "start_time": "2021-12-24T21:37:18.977Z"
   },
   {
    "duration": -975,
    "start_time": "2021-12-24T21:37:18.979Z"
   },
   {
    "duration": -975,
    "start_time": "2021-12-24T21:37:18.980Z"
   },
   {
    "duration": -974,
    "start_time": "2021-12-24T21:37:18.980Z"
   },
   {
    "duration": 537,
    "start_time": "2021-12-24T21:39:37.275Z"
   },
   {
    "duration": 170,
    "start_time": "2021-12-24T21:39:37.814Z"
   },
   {
    "duration": 16,
    "start_time": "2021-12-24T21:39:37.989Z"
   },
   {
    "duration": 9,
    "start_time": "2021-12-24T21:39:38.006Z"
   },
   {
    "duration": 7,
    "start_time": "2021-12-24T21:39:38.016Z"
   },
   {
    "duration": 8,
    "start_time": "2021-12-24T21:39:38.024Z"
   },
   {
    "duration": 8,
    "start_time": "2021-12-24T21:39:38.035Z"
   },
   {
    "duration": 14,
    "start_time": "2021-12-24T21:39:38.045Z"
   },
   {
    "duration": 10,
    "start_time": "2021-12-24T21:39:38.060Z"
   },
   {
    "duration": 7,
    "start_time": "2021-12-24T21:39:38.071Z"
   },
   {
    "duration": 4,
    "start_time": "2021-12-24T21:39:38.080Z"
   },
   {
    "duration": 8,
    "start_time": "2021-12-24T21:39:38.085Z"
   },
   {
    "duration": 39,
    "start_time": "2021-12-24T21:39:38.095Z"
   },
   {
    "duration": 15,
    "start_time": "2021-12-24T21:39:38.135Z"
   },
   {
    "duration": 8,
    "start_time": "2021-12-24T21:39:38.152Z"
   },
   {
    "duration": 7,
    "start_time": "2021-12-24T21:39:38.162Z"
   },
   {
    "duration": 8,
    "start_time": "2021-12-24T21:39:38.170Z"
   },
   {
    "duration": 6,
    "start_time": "2021-12-24T21:39:38.180Z"
   },
   {
    "duration": 2,
    "start_time": "2021-12-24T21:39:38.188Z"
   },
   {
    "duration": 1921,
    "start_time": "2021-12-24T21:39:38.192Z"
   },
   {
    "duration": 14,
    "start_time": "2021-12-24T21:39:40.115Z"
   },
   {
    "duration": 11,
    "start_time": "2021-12-24T21:39:40.132Z"
   },
   {
    "duration": 18,
    "start_time": "2021-12-24T21:39:40.145Z"
   },
   {
    "duration": 14,
    "start_time": "2021-12-24T21:39:40.164Z"
   },
   {
    "duration": 14,
    "start_time": "2021-12-24T21:39:40.180Z"
   },
   {
    "duration": 16,
    "start_time": "2021-12-24T21:39:40.195Z"
   },
   {
    "duration": 9,
    "start_time": "2021-12-24T21:39:40.213Z"
   },
   {
    "duration": 4,
    "start_time": "2021-12-24T21:40:35.550Z"
   },
   {
    "duration": 331,
    "start_time": "2021-12-24T21:41:52.968Z"
   },
   {
    "duration": 3,
    "start_time": "2021-12-24T21:42:48.310Z"
   },
   {
    "duration": 13,
    "start_time": "2021-12-24T21:42:54.288Z"
   },
   {
    "duration": 3,
    "start_time": "2021-12-24T21:43:03.110Z"
   },
   {
    "duration": 3,
    "start_time": "2021-12-24T21:43:11.188Z"
   },
   {
    "duration": 3,
    "start_time": "2021-12-24T21:43:12.463Z"
   },
   {
    "duration": 86,
    "start_time": "2021-12-24T21:43:16.163Z"
   },
   {
    "duration": 12,
    "start_time": "2021-12-24T21:43:18.913Z"
   },
   {
    "duration": 5,
    "start_time": "2021-12-24T21:43:29.799Z"
   },
   {
    "duration": 6,
    "start_time": "2021-12-24T21:43:37.845Z"
   },
   {
    "duration": 7924,
    "start_time": "2021-12-24T21:44:03.700Z"
   },
   {
    "duration": 4,
    "start_time": "2021-12-24T21:44:23.320Z"
   },
   {
    "duration": 5,
    "start_time": "2021-12-24T21:44:26.302Z"
   },
   {
    "duration": 11,
    "start_time": "2021-12-24T21:44:31.580Z"
   },
   {
    "duration": 610,
    "start_time": "2021-12-24T21:44:45.100Z"
   },
   {
    "duration": 169,
    "start_time": "2021-12-24T21:44:45.712Z"
   },
   {
    "duration": 14,
    "start_time": "2021-12-24T21:44:45.883Z"
   },
   {
    "duration": 8,
    "start_time": "2021-12-24T21:44:45.898Z"
   },
   {
    "duration": 3,
    "start_time": "2021-12-24T21:44:45.907Z"
   },
   {
    "duration": 7,
    "start_time": "2021-12-24T21:44:45.912Z"
   },
   {
    "duration": 3,
    "start_time": "2021-12-24T21:44:45.920Z"
   },
   {
    "duration": 10,
    "start_time": "2021-12-24T21:44:45.925Z"
   },
   {
    "duration": 12,
    "start_time": "2021-12-24T21:44:45.937Z"
   },
   {
    "duration": 7,
    "start_time": "2021-12-24T21:44:45.951Z"
   },
   {
    "duration": 7,
    "start_time": "2021-12-24T21:44:45.959Z"
   },
   {
    "duration": 4,
    "start_time": "2021-12-24T21:44:45.967Z"
   },
   {
    "duration": 11,
    "start_time": "2021-12-24T21:44:45.973Z"
   },
   {
    "duration": 14,
    "start_time": "2021-12-24T21:44:45.985Z"
   },
   {
    "duration": 31,
    "start_time": "2021-12-24T21:44:46.000Z"
   },
   {
    "duration": 7,
    "start_time": "2021-12-24T21:44:46.032Z"
   },
   {
    "duration": 6,
    "start_time": "2021-12-24T21:44:46.040Z"
   },
   {
    "duration": 7,
    "start_time": "2021-12-24T21:44:46.048Z"
   },
   {
    "duration": 7,
    "start_time": "2021-12-24T21:44:46.056Z"
   },
   {
    "duration": 3,
    "start_time": "2021-12-24T21:44:46.064Z"
   },
   {
    "duration": 1916,
    "start_time": "2021-12-24T21:44:46.069Z"
   },
   {
    "duration": 9,
    "start_time": "2021-12-24T21:44:47.987Z"
   },
   {
    "duration": 12,
    "start_time": "2021-12-24T21:44:48.000Z"
   },
   {
    "duration": 16,
    "start_time": "2021-12-24T21:44:48.014Z"
   },
   {
    "duration": 12,
    "start_time": "2021-12-24T21:44:48.031Z"
   },
   {
    "duration": 13,
    "start_time": "2021-12-24T21:44:48.045Z"
   },
   {
    "duration": 6,
    "start_time": "2021-12-24T21:44:48.060Z"
   },
   {
    "duration": 9,
    "start_time": "2021-12-24T21:44:48.068Z"
   },
   {
    "duration": 4,
    "start_time": "2021-12-24T21:44:48.079Z"
   },
   {
    "duration": 4,
    "start_time": "2021-12-24T21:44:48.084Z"
   },
   {
    "duration": 8,
    "start_time": "2021-12-24T21:46:42.810Z"
   },
   {
    "duration": 10,
    "start_time": "2021-12-24T21:46:52.576Z"
   },
   {
    "duration": 10,
    "start_time": "2021-12-24T21:47:10.196Z"
   },
   {
    "duration": 11,
    "start_time": "2021-12-24T21:47:17.481Z"
   },
   {
    "duration": 9,
    "start_time": "2021-12-24T21:47:50.393Z"
   },
   {
    "duration": 10,
    "start_time": "2021-12-24T21:47:59.315Z"
   },
   {
    "duration": 364,
    "start_time": "2021-12-24T21:49:03.620Z"
   },
   {
    "duration": 574,
    "start_time": "2021-12-24T21:49:38.993Z"
   },
   {
    "duration": 174,
    "start_time": "2021-12-24T21:49:39.569Z"
   },
   {
    "duration": 15,
    "start_time": "2021-12-24T21:49:39.746Z"
   },
   {
    "duration": 9,
    "start_time": "2021-12-24T21:49:39.763Z"
   },
   {
    "duration": 6,
    "start_time": "2021-12-24T21:49:39.773Z"
   },
   {
    "duration": 6,
    "start_time": "2021-12-24T21:49:39.781Z"
   },
   {
    "duration": 4,
    "start_time": "2021-12-24T21:49:39.789Z"
   },
   {
    "duration": 9,
    "start_time": "2021-12-24T21:49:39.796Z"
   },
   {
    "duration": 29,
    "start_time": "2021-12-24T21:49:39.807Z"
   },
   {
    "duration": 7,
    "start_time": "2021-12-24T21:49:39.838Z"
   },
   {
    "duration": 7,
    "start_time": "2021-12-24T21:49:39.846Z"
   },
   {
    "duration": 4,
    "start_time": "2021-12-24T21:49:39.855Z"
   },
   {
    "duration": 6,
    "start_time": "2021-12-24T21:49:39.860Z"
   },
   {
    "duration": 13,
    "start_time": "2021-12-24T21:49:39.868Z"
   },
   {
    "duration": 10,
    "start_time": "2021-12-24T21:49:39.883Z"
   },
   {
    "duration": 5,
    "start_time": "2021-12-24T21:49:39.928Z"
   },
   {
    "duration": 7,
    "start_time": "2021-12-24T21:49:39.935Z"
   },
   {
    "duration": 8,
    "start_time": "2021-12-24T21:49:39.944Z"
   },
   {
    "duration": 8,
    "start_time": "2021-12-24T21:49:39.953Z"
   },
   {
    "duration": 3,
    "start_time": "2021-12-24T21:49:39.962Z"
   },
   {
    "duration": 1943,
    "start_time": "2021-12-24T21:49:39.966Z"
   },
   {
    "duration": 6,
    "start_time": "2021-12-24T21:49:41.911Z"
   },
   {
    "duration": 9,
    "start_time": "2021-12-24T21:49:41.928Z"
   },
   {
    "duration": 8,
    "start_time": "2021-12-24T21:49:41.939Z"
   },
   {
    "duration": 6,
    "start_time": "2021-12-24T21:49:41.949Z"
   },
   {
    "duration": 5,
    "start_time": "2021-12-24T21:49:41.956Z"
   },
   {
    "duration": 9,
    "start_time": "2021-12-24T21:49:41.962Z"
   },
   {
    "duration": 5,
    "start_time": "2021-12-24T21:49:41.973Z"
   },
   {
    "duration": 11,
    "start_time": "2021-12-24T21:49:41.979Z"
   },
   {
    "duration": 38,
    "start_time": "2021-12-24T21:49:41.991Z"
   },
   {
    "duration": 3,
    "start_time": "2021-12-24T21:49:42.030Z"
   },
   {
    "duration": 538,
    "start_time": "2021-12-24T21:50:20.472Z"
   },
   {
    "duration": 170,
    "start_time": "2021-12-24T21:50:21.012Z"
   },
   {
    "duration": 15,
    "start_time": "2021-12-24T21:50:21.184Z"
   },
   {
    "duration": 8,
    "start_time": "2021-12-24T21:50:21.201Z"
   },
   {
    "duration": 6,
    "start_time": "2021-12-24T21:50:21.211Z"
   },
   {
    "duration": 10,
    "start_time": "2021-12-24T21:50:21.219Z"
   },
   {
    "duration": 3,
    "start_time": "2021-12-24T21:50:21.231Z"
   },
   {
    "duration": 9,
    "start_time": "2021-12-24T21:50:21.237Z"
   },
   {
    "duration": 13,
    "start_time": "2021-12-24T21:50:21.248Z"
   },
   {
    "duration": 6,
    "start_time": "2021-12-24T21:50:21.263Z"
   },
   {
    "duration": 6,
    "start_time": "2021-12-24T21:50:21.271Z"
   },
   {
    "duration": 4,
    "start_time": "2021-12-24T21:50:21.279Z"
   },
   {
    "duration": 8,
    "start_time": "2021-12-24T21:50:21.284Z"
   },
   {
    "duration": 42,
    "start_time": "2021-12-24T21:50:21.293Z"
   },
   {
    "duration": 9,
    "start_time": "2021-12-24T21:50:21.337Z"
   },
   {
    "duration": 6,
    "start_time": "2021-12-24T21:50:21.348Z"
   },
   {
    "duration": 5,
    "start_time": "2021-12-24T21:50:21.355Z"
   },
   {
    "duration": 7,
    "start_time": "2021-12-24T21:50:21.361Z"
   },
   {
    "duration": 6,
    "start_time": "2021-12-24T21:50:21.370Z"
   },
   {
    "duration": 3,
    "start_time": "2021-12-24T21:50:21.377Z"
   },
   {
    "duration": 1939,
    "start_time": "2021-12-24T21:50:21.382Z"
   },
   {
    "duration": 7,
    "start_time": "2021-12-24T21:50:23.323Z"
   },
   {
    "duration": 11,
    "start_time": "2021-12-24T21:50:23.332Z"
   },
   {
    "duration": 6,
    "start_time": "2021-12-24T21:50:23.345Z"
   },
   {
    "duration": 5,
    "start_time": "2021-12-24T21:50:23.352Z"
   },
   {
    "duration": 6,
    "start_time": "2021-12-24T21:50:23.359Z"
   },
   {
    "duration": 7,
    "start_time": "2021-12-24T21:50:23.367Z"
   },
   {
    "duration": 3,
    "start_time": "2021-12-24T21:50:23.376Z"
   },
   {
    "duration": 6,
    "start_time": "2021-12-24T21:50:23.381Z"
   },
   {
    "duration": 39,
    "start_time": "2021-12-24T21:50:23.389Z"
   },
   {
    "duration": 2,
    "start_time": "2021-12-24T21:50:23.429Z"
   },
   {
    "duration": 16,
    "start_time": "2021-12-24T21:51:10.638Z"
   },
   {
    "duration": 19,
    "start_time": "2021-12-24T21:51:26.206Z"
   },
   {
    "duration": 22,
    "start_time": "2021-12-24T21:51:55.882Z"
   },
   {
    "duration": 26,
    "start_time": "2021-12-24T21:52:24.499Z"
   },
   {
    "duration": 16,
    "start_time": "2021-12-24T21:53:18.203Z"
   },
   {
    "duration": 14,
    "start_time": "2021-12-24T21:53:22.119Z"
   },
   {
    "duration": 19,
    "start_time": "2021-12-24T21:54:35.671Z"
   },
   {
    "duration": 2,
    "start_time": "2021-12-24T21:54:36.649Z"
   },
   {
    "duration": 19,
    "start_time": "2021-12-24T21:54:37.227Z"
   },
   {
    "duration": 583,
    "start_time": "2021-12-24T21:55:31.635Z"
   },
   {
    "duration": 170,
    "start_time": "2021-12-24T21:55:32.219Z"
   },
   {
    "duration": 14,
    "start_time": "2021-12-24T21:55:32.391Z"
   },
   {
    "duration": 7,
    "start_time": "2021-12-24T21:55:32.407Z"
   },
   {
    "duration": 3,
    "start_time": "2021-12-24T21:55:32.416Z"
   },
   {
    "duration": 7,
    "start_time": "2021-12-24T21:55:32.421Z"
   },
   {
    "duration": 2,
    "start_time": "2021-12-24T21:55:32.430Z"
   },
   {
    "duration": 7,
    "start_time": "2021-12-24T21:55:32.434Z"
   },
   {
    "duration": 12,
    "start_time": "2021-12-24T21:55:32.443Z"
   },
   {
    "duration": 7,
    "start_time": "2021-12-24T21:55:32.457Z"
   },
   {
    "duration": 7,
    "start_time": "2021-12-24T21:55:32.465Z"
   },
   {
    "duration": 4,
    "start_time": "2021-12-24T21:55:32.473Z"
   },
   {
    "duration": 7,
    "start_time": "2021-12-24T21:55:32.478Z"
   },
   {
    "duration": 45,
    "start_time": "2021-12-24T21:55:32.487Z"
   },
   {
    "duration": 11,
    "start_time": "2021-12-24T21:55:32.533Z"
   },
   {
    "duration": 6,
    "start_time": "2021-12-24T21:55:32.545Z"
   },
   {
    "duration": 6,
    "start_time": "2021-12-24T21:55:32.553Z"
   },
   {
    "duration": 9,
    "start_time": "2021-12-24T21:55:32.561Z"
   },
   {
    "duration": 8,
    "start_time": "2021-12-24T21:55:32.571Z"
   },
   {
    "duration": 3,
    "start_time": "2021-12-24T21:55:32.580Z"
   },
   {
    "duration": 1957,
    "start_time": "2021-12-24T21:55:32.584Z"
   },
   {
    "duration": 7,
    "start_time": "2021-12-24T21:55:34.542Z"
   },
   {
    "duration": 13,
    "start_time": "2021-12-24T21:55:34.551Z"
   },
   {
    "duration": 8,
    "start_time": "2021-12-24T21:55:34.565Z"
   },
   {
    "duration": 4,
    "start_time": "2021-12-24T21:55:34.575Z"
   },
   {
    "duration": 8,
    "start_time": "2021-12-24T21:55:34.581Z"
   },
   {
    "duration": 8,
    "start_time": "2021-12-24T21:55:34.591Z"
   },
   {
    "duration": 3,
    "start_time": "2021-12-24T21:55:34.600Z"
   },
   {
    "duration": 24,
    "start_time": "2021-12-24T21:55:34.605Z"
   },
   {
    "duration": 20,
    "start_time": "2021-12-24T21:55:34.631Z"
   },
   {
    "duration": 2,
    "start_time": "2021-12-24T21:55:34.653Z"
   },
   {
    "duration": 14,
    "start_time": "2021-12-24T21:55:34.657Z"
   },
   {
    "duration": 3,
    "start_time": "2021-12-24T21:55:59.464Z"
   },
   {
    "duration": 13,
    "start_time": "2021-12-24T21:56:05.892Z"
   },
   {
    "duration": 6,
    "start_time": "2021-12-24T21:59:05.297Z"
   },
   {
    "duration": 91,
    "start_time": "2021-12-24T22:01:27.981Z"
   },
   {
    "duration": 348,
    "start_time": "2021-12-24T22:02:08.083Z"
   },
   {
    "duration": 396,
    "start_time": "2021-12-24T22:02:35.910Z"
   },
   {
    "duration": 352,
    "start_time": "2021-12-24T22:02:44.721Z"
   },
   {
    "duration": 12,
    "start_time": "2021-12-24T22:03:24.343Z"
   },
   {
    "duration": 5,
    "start_time": "2021-12-24T22:05:55.681Z"
   },
   {
    "duration": 14,
    "start_time": "2021-12-24T22:05:59.602Z"
   },
   {
    "duration": 7,
    "start_time": "2021-12-24T22:06:09.601Z"
   },
   {
    "duration": 531,
    "start_time": "2021-12-24T22:07:49.871Z"
   },
   {
    "duration": 170,
    "start_time": "2021-12-24T22:07:50.403Z"
   },
   {
    "duration": 13,
    "start_time": "2021-12-24T22:07:50.575Z"
   },
   {
    "duration": 8,
    "start_time": "2021-12-24T22:07:50.589Z"
   },
   {
    "duration": 5,
    "start_time": "2021-12-24T22:07:50.598Z"
   },
   {
    "duration": 7,
    "start_time": "2021-12-24T22:07:50.604Z"
   },
   {
    "duration": 5,
    "start_time": "2021-12-24T22:07:50.613Z"
   },
   {
    "duration": 9,
    "start_time": "2021-12-24T22:07:50.621Z"
   },
   {
    "duration": 16,
    "start_time": "2021-12-24T22:07:50.631Z"
   },
   {
    "duration": 11,
    "start_time": "2021-12-24T22:07:50.649Z"
   },
   {
    "duration": 8,
    "start_time": "2021-12-24T22:07:50.661Z"
   },
   {
    "duration": 3,
    "start_time": "2021-12-24T22:07:50.671Z"
   },
   {
    "duration": 7,
    "start_time": "2021-12-24T22:07:50.676Z"
   },
   {
    "duration": 15,
    "start_time": "2021-12-24T22:07:50.684Z"
   },
   {
    "duration": 13,
    "start_time": "2021-12-24T22:07:50.700Z"
   },
   {
    "duration": 13,
    "start_time": "2021-12-24T22:07:50.715Z"
   },
   {
    "duration": 7,
    "start_time": "2021-12-24T22:07:50.729Z"
   },
   {
    "duration": 7,
    "start_time": "2021-12-24T22:07:50.738Z"
   },
   {
    "duration": 8,
    "start_time": "2021-12-24T22:07:50.746Z"
   },
   {
    "duration": 6,
    "start_time": "2021-12-24T22:07:50.755Z"
   },
   {
    "duration": 1920,
    "start_time": "2021-12-24T22:07:50.762Z"
   },
   {
    "duration": 6,
    "start_time": "2021-12-24T22:07:52.684Z"
   },
   {
    "duration": 11,
    "start_time": "2021-12-24T22:07:52.693Z"
   },
   {
    "duration": 7,
    "start_time": "2021-12-24T22:07:52.705Z"
   },
   {
    "duration": 17,
    "start_time": "2021-12-24T22:07:52.713Z"
   },
   {
    "duration": 5,
    "start_time": "2021-12-24T22:07:52.732Z"
   },
   {
    "duration": 7,
    "start_time": "2021-12-24T22:07:52.739Z"
   },
   {
    "duration": 4,
    "start_time": "2021-12-24T22:07:52.747Z"
   },
   {
    "duration": 7,
    "start_time": "2021-12-24T22:07:52.752Z"
   },
   {
    "duration": 18,
    "start_time": "2021-12-24T22:07:52.760Z"
   },
   {
    "duration": 2,
    "start_time": "2021-12-24T22:07:52.779Z"
   },
   {
    "duration": 5,
    "start_time": "2021-12-24T22:07:52.783Z"
   },
   {
    "duration": 11,
    "start_time": "2021-12-24T22:07:52.789Z"
   },
   {
    "duration": 30,
    "start_time": "2021-12-24T22:07:52.802Z"
   },
   {
    "duration": 5,
    "start_time": "2021-12-24T22:07:52.834Z"
   },
   {
    "duration": 6,
    "start_time": "2021-12-24T22:07:52.840Z"
   },
   {
    "duration": 8,
    "start_time": "2021-12-24T22:07:52.848Z"
   },
   {
    "duration": 1201,
    "start_time": "2021-12-25T16:28:53.241Z"
   },
   {
    "duration": 2190,
    "start_time": "2021-12-25T16:28:54.444Z"
   },
   {
    "duration": 176,
    "start_time": "2021-12-25T16:29:17.071Z"
   },
   {
    "duration": 12,
    "start_time": "2021-12-25T16:29:18.195Z"
   },
   {
    "duration": 8,
    "start_time": "2021-12-25T16:29:18.658Z"
   },
   {
    "duration": 4,
    "start_time": "2021-12-25T16:29:18.980Z"
   },
   {
    "duration": 6,
    "start_time": "2021-12-25T16:29:19.186Z"
   },
   {
    "duration": 3,
    "start_time": "2021-12-25T16:29:19.563Z"
   },
   {
    "duration": 9,
    "start_time": "2021-12-25T16:29:19.743Z"
   },
   {
    "duration": 15,
    "start_time": "2021-12-25T16:29:20.070Z"
   },
   {
    "duration": 7,
    "start_time": "2021-12-25T16:29:20.369Z"
   },
   {
    "duration": 11,
    "start_time": "2021-12-25T16:29:20.829Z"
   },
   {
    "duration": 5,
    "start_time": "2021-12-25T16:29:20.970Z"
   },
   {
    "duration": 6,
    "start_time": "2021-12-25T16:29:21.126Z"
   },
   {
    "duration": 14,
    "start_time": "2021-12-25T16:29:21.435Z"
   },
   {
    "duration": 12,
    "start_time": "2021-12-25T16:29:21.599Z"
   },
   {
    "duration": 7,
    "start_time": "2021-12-25T16:29:22.214Z"
   },
   {
    "duration": 6,
    "start_time": "2021-12-25T16:29:22.364Z"
   },
   {
    "duration": 8,
    "start_time": "2021-12-25T16:29:22.686Z"
   },
   {
    "duration": 7,
    "start_time": "2021-12-25T16:29:22.840Z"
   },
   {
    "duration": 4,
    "start_time": "2021-12-25T16:29:23.144Z"
   },
   {
    "duration": 2077,
    "start_time": "2021-12-25T16:29:23.351Z"
   },
   {
    "duration": 7,
    "start_time": "2021-12-25T16:29:25.430Z"
   },
   {
    "duration": 22,
    "start_time": "2021-12-25T16:29:25.439Z"
   },
   {
    "duration": 7,
    "start_time": "2021-12-25T16:29:25.463Z"
   },
   {
    "duration": 5,
    "start_time": "2021-12-25T16:29:25.472Z"
   },
   {
    "duration": 7,
    "start_time": "2021-12-25T16:29:25.479Z"
   },
   {
    "duration": 8,
    "start_time": "2021-12-25T16:29:25.487Z"
   },
   {
    "duration": 6,
    "start_time": "2021-12-25T16:29:25.497Z"
   },
   {
    "duration": 9,
    "start_time": "2021-12-25T16:29:25.505Z"
   },
   {
    "duration": 20,
    "start_time": "2021-12-25T16:29:25.515Z"
   },
   {
    "duration": 24,
    "start_time": "2021-12-25T16:29:25.537Z"
   },
   {
    "duration": 3,
    "start_time": "2021-12-25T16:29:25.643Z"
   },
   {
    "duration": 15,
    "start_time": "2021-12-25T16:29:25.986Z"
   },
   {
    "duration": 9,
    "start_time": "2021-12-25T16:29:26.333Z"
   },
   {
    "duration": 5,
    "start_time": "2021-12-25T16:29:27.066Z"
   },
   {
    "duration": 6,
    "start_time": "2021-12-25T16:29:27.570Z"
   },
   {
    "duration": 8,
    "start_time": "2021-12-25T16:29:27.721Z"
   },
   {
    "duration": 3,
    "start_time": "2021-12-25T16:37:24.333Z"
   },
   {
    "duration": 10,
    "start_time": "2021-12-25T16:37:24.794Z"
   },
   {
    "duration": 4,
    "start_time": "2021-12-25T16:37:26.044Z"
   },
   {
    "duration": 6,
    "start_time": "2021-12-25T16:37:27.196Z"
   },
   {
    "duration": 5,
    "start_time": "2021-12-25T16:37:28.080Z"
   },
   {
    "duration": 8,
    "start_time": "2021-12-25T16:37:28.263Z"
   },
   {
    "duration": 7,
    "start_time": "2021-12-25T16:37:33.132Z"
   },
   {
    "duration": 12,
    "start_time": "2021-12-25T16:37:33.313Z"
   },
   {
    "duration": 5,
    "start_time": "2021-12-25T16:37:33.652Z"
   },
   {
    "duration": 4,
    "start_time": "2021-12-25T16:37:33.883Z"
   },
   {
    "duration": 4,
    "start_time": "2021-12-25T16:37:34.118Z"
   },
   {
    "duration": 303,
    "start_time": "2021-12-25T16:37:34.385Z"
   },
   {
    "duration": 4,
    "start_time": "2021-12-25T16:37:35.174Z"
   },
   {
    "duration": 4,
    "start_time": "2021-12-25T16:37:35.388Z"
   },
   {
    "duration": 41634,
    "start_time": "2021-12-25T16:37:35.545Z"
   },
   {
    "duration": 4,
    "start_time": "2021-12-25T16:38:17.188Z"
   },
   {
    "duration": 3129,
    "start_time": "2021-12-25T22:04:37.041Z"
   },
   {
    "duration": 4,
    "start_time": "2021-12-25T22:05:00.057Z"
   },
   {
    "duration": 1091,
    "start_time": "2021-12-25T22:05:00.062Z"
   },
   {
    "duration": 176,
    "start_time": "2021-12-25T22:05:01.155Z"
   },
   {
    "duration": 11,
    "start_time": "2021-12-25T22:05:01.333Z"
   },
   {
    "duration": 14,
    "start_time": "2021-12-25T22:05:01.346Z"
   },
   {
    "duration": 11,
    "start_time": "2021-12-25T22:05:01.361Z"
   },
   {
    "duration": 12,
    "start_time": "2021-12-25T22:05:01.374Z"
   },
   {
    "duration": 11,
    "start_time": "2021-12-25T22:05:01.388Z"
   },
   {
    "duration": 14,
    "start_time": "2021-12-25T22:05:01.401Z"
   },
   {
    "duration": 20,
    "start_time": "2021-12-25T22:05:01.417Z"
   },
   {
    "duration": 11,
    "start_time": "2021-12-25T22:05:01.439Z"
   },
   {
    "duration": 22,
    "start_time": "2021-12-25T22:05:01.451Z"
   },
   {
    "duration": 24,
    "start_time": "2021-12-25T22:05:01.475Z"
   },
   {
    "duration": 31,
    "start_time": "2021-12-25T22:05:01.500Z"
   },
   {
    "duration": 22,
    "start_time": "2021-12-25T22:05:01.533Z"
   },
   {
    "duration": 17,
    "start_time": "2021-12-25T22:05:01.557Z"
   },
   {
    "duration": 11,
    "start_time": "2021-12-25T22:05:01.575Z"
   },
   {
    "duration": 22,
    "start_time": "2021-12-25T22:05:01.587Z"
   },
   {
    "duration": 16,
    "start_time": "2021-12-25T22:05:01.612Z"
   },
   {
    "duration": 16,
    "start_time": "2021-12-25T22:05:01.631Z"
   },
   {
    "duration": 7,
    "start_time": "2021-12-25T22:05:01.649Z"
   },
   {
    "duration": 2061,
    "start_time": "2021-12-25T22:05:01.658Z"
   },
   {
    "duration": 11,
    "start_time": "2021-12-25T22:05:03.720Z"
   },
   {
    "duration": 19,
    "start_time": "2021-12-25T22:05:03.733Z"
   },
   {
    "duration": 7,
    "start_time": "2021-12-25T22:05:03.755Z"
   },
   {
    "duration": 6,
    "start_time": "2021-12-25T22:05:03.763Z"
   },
   {
    "duration": 7,
    "start_time": "2021-12-25T22:05:03.771Z"
   },
   {
    "duration": 11,
    "start_time": "2021-12-25T22:05:03.779Z"
   },
   {
    "duration": 5,
    "start_time": "2021-12-25T22:05:03.792Z"
   },
   {
    "duration": 32,
    "start_time": "2021-12-25T22:05:03.798Z"
   },
   {
    "duration": 21,
    "start_time": "2021-12-25T22:05:03.832Z"
   },
   {
    "duration": 3,
    "start_time": "2021-12-25T22:05:03.855Z"
   },
   {
    "duration": 6,
    "start_time": "2021-12-25T22:05:03.860Z"
   },
   {
    "duration": 13,
    "start_time": "2021-12-25T22:05:03.868Z"
   },
   {
    "duration": 6,
    "start_time": "2021-12-25T22:05:03.882Z"
   },
   {
    "duration": 3,
    "start_time": "2021-12-25T22:05:03.890Z"
   },
   {
    "duration": 32,
    "start_time": "2021-12-25T22:05:03.895Z"
   },
   {
    "duration": 8,
    "start_time": "2021-12-25T22:05:03.930Z"
   },
   {
    "duration": 4,
    "start_time": "2021-12-25T22:05:03.940Z"
   },
   {
    "duration": 15,
    "start_time": "2021-12-25T22:05:03.946Z"
   },
   {
    "duration": 5,
    "start_time": "2021-12-25T22:05:03.963Z"
   },
   {
    "duration": 7,
    "start_time": "2021-12-25T22:05:03.969Z"
   },
   {
    "duration": 6,
    "start_time": "2021-12-25T22:05:03.977Z"
   },
   {
    "duration": 7,
    "start_time": "2021-12-25T22:05:03.984Z"
   },
   {
    "duration": 36,
    "start_time": "2021-12-25T22:05:03.993Z"
   },
   {
    "duration": 196,
    "start_time": "2021-12-25T22:05:04.031Z"
   },
   {
    "duration": 5,
    "start_time": "2021-12-25T22:05:04.230Z"
   },
   {
    "duration": 12,
    "start_time": "2021-12-25T22:05:04.237Z"
   },
   {
    "duration": 10,
    "start_time": "2021-12-25T22:05:04.251Z"
   },
   {
    "duration": 276,
    "start_time": "2021-12-25T22:05:04.263Z"
   },
   {
    "duration": 3,
    "start_time": "2021-12-25T22:05:04.541Z"
   },
   {
    "duration": 8,
    "start_time": "2021-12-25T22:05:04.547Z"
   },
   {
    "duration": 7475,
    "start_time": "2021-12-25T22:05:04.557Z"
   },
   {
    "duration": 3,
    "start_time": "2021-12-25T22:05:12.034Z"
   },
   {
    "duration": 1081,
    "start_time": "2021-12-25T22:15:53.667Z"
   },
   {
    "duration": 169,
    "start_time": "2021-12-25T22:15:54.750Z"
   },
   {
    "duration": 11,
    "start_time": "2021-12-25T22:15:54.921Z"
   },
   {
    "duration": 8,
    "start_time": "2021-12-25T22:15:54.933Z"
   },
   {
    "duration": 3,
    "start_time": "2021-12-25T22:15:54.943Z"
   },
   {
    "duration": 7,
    "start_time": "2021-12-25T22:15:54.948Z"
   },
   {
    "duration": 5,
    "start_time": "2021-12-25T22:15:54.957Z"
   },
   {
    "duration": 10,
    "start_time": "2021-12-25T22:15:54.965Z"
   },
   {
    "duration": 18,
    "start_time": "2021-12-25T22:15:54.976Z"
   },
   {
    "duration": 35,
    "start_time": "2021-12-25T22:15:54.996Z"
   },
   {
    "duration": 12,
    "start_time": "2021-12-25T22:15:55.032Z"
   },
   {
    "duration": 8,
    "start_time": "2021-12-25T22:15:55.045Z"
   },
   {
    "duration": 8,
    "start_time": "2021-12-25T22:15:55.054Z"
   },
   {
    "duration": 16,
    "start_time": "2021-12-25T22:15:55.063Z"
   },
   {
    "duration": 10,
    "start_time": "2021-12-25T22:15:55.080Z"
   },
   {
    "duration": 8,
    "start_time": "2021-12-25T22:15:55.092Z"
   },
   {
    "duration": 10,
    "start_time": "2021-12-25T22:15:55.102Z"
   },
   {
    "duration": 7,
    "start_time": "2021-12-25T22:15:55.127Z"
   },
   {
    "duration": 7,
    "start_time": "2021-12-25T22:15:55.136Z"
   },
   {
    "duration": 4,
    "start_time": "2021-12-25T22:15:55.145Z"
   },
   {
    "duration": 1943,
    "start_time": "2021-12-25T22:15:55.150Z"
   },
   {
    "duration": 7,
    "start_time": "2021-12-25T22:15:57.094Z"
   },
   {
    "duration": 10,
    "start_time": "2021-12-25T22:15:57.104Z"
   },
   {
    "duration": 6,
    "start_time": "2021-12-25T22:15:57.127Z"
   },
   {
    "duration": 5,
    "start_time": "2021-12-25T22:15:57.134Z"
   },
   {
    "duration": 5,
    "start_time": "2021-12-25T22:15:57.140Z"
   },
   {
    "duration": 7,
    "start_time": "2021-12-25T22:15:57.147Z"
   },
   {
    "duration": 3,
    "start_time": "2021-12-25T22:15:57.156Z"
   },
   {
    "duration": 7,
    "start_time": "2021-12-25T22:15:57.161Z"
   },
   {
    "duration": 17,
    "start_time": "2021-12-25T22:15:57.169Z"
   },
   {
    "duration": 2,
    "start_time": "2021-12-25T22:15:57.187Z"
   },
   {
    "duration": 4,
    "start_time": "2021-12-25T22:15:57.191Z"
   },
   {
    "duration": 35,
    "start_time": "2021-12-25T22:15:57.196Z"
   },
   {
    "duration": 6,
    "start_time": "2021-12-25T22:15:57.233Z"
   },
   {
    "duration": 3,
    "start_time": "2021-12-25T22:15:57.240Z"
   },
   {
    "duration": 7,
    "start_time": "2021-12-25T22:15:57.244Z"
   },
   {
    "duration": 6,
    "start_time": "2021-12-25T22:15:57.252Z"
   },
   {
    "duration": 4,
    "start_time": "2021-12-25T22:15:57.259Z"
   },
   {
    "duration": 10,
    "start_time": "2021-12-25T22:15:57.264Z"
   },
   {
    "duration": 5,
    "start_time": "2021-12-25T22:15:57.275Z"
   },
   {
    "duration": 7,
    "start_time": "2021-12-25T22:15:57.281Z"
   },
   {
    "duration": 4,
    "start_time": "2021-12-25T22:15:57.289Z"
   },
   {
    "duration": 41,
    "start_time": "2021-12-25T22:15:57.294Z"
   },
   {
    "duration": 6,
    "start_time": "2021-12-25T22:15:57.336Z"
   },
   {
    "duration": 4,
    "start_time": "2021-12-25T22:15:57.343Z"
   },
   {
    "duration": 80,
    "start_time": "2021-12-25T22:15:57.348Z"
   },
   {
    "duration": 3,
    "start_time": "2021-12-25T22:15:57.431Z"
   },
   {
    "duration": 99,
    "start_time": "2021-12-25T22:15:57.436Z"
   },
   {
    "duration": 248,
    "start_time": "2021-12-25T22:15:57.537Z"
   },
   {
    "duration": 3,
    "start_time": "2021-12-25T22:15:57.786Z"
   },
   {
    "duration": 6,
    "start_time": "2021-12-25T22:15:57.790Z"
   },
   {
    "duration": 836,
    "start_time": "2021-12-25T22:15:57.798Z"
   },
   {
    "duration": 5,
    "start_time": "2021-12-25T22:15:58.636Z"
   },
   {
    "duration": 5,
    "start_time": "2021-12-25T22:15:58.642Z"
   },
   {
    "duration": 3,
    "start_time": "2021-12-25T22:16:03.379Z"
   },
   {
    "duration": 1064,
    "start_time": "2021-12-25T22:16:03.384Z"
   },
   {
    "duration": 170,
    "start_time": "2021-12-25T22:16:04.450Z"
   },
   {
    "duration": 10,
    "start_time": "2021-12-25T22:16:04.622Z"
   },
   {
    "duration": 7,
    "start_time": "2021-12-25T22:16:04.634Z"
   },
   {
    "duration": 6,
    "start_time": "2021-12-25T22:16:04.642Z"
   },
   {
    "duration": 6,
    "start_time": "2021-12-25T22:16:04.650Z"
   },
   {
    "duration": 3,
    "start_time": "2021-12-25T22:16:04.658Z"
   },
   {
    "duration": 10,
    "start_time": "2021-12-25T22:16:04.662Z"
   },
   {
    "duration": 13,
    "start_time": "2021-12-25T22:16:04.674Z"
   },
   {
    "duration": 7,
    "start_time": "2021-12-25T22:16:04.689Z"
   },
   {
    "duration": 36,
    "start_time": "2021-12-25T22:16:04.698Z"
   },
   {
    "duration": 5,
    "start_time": "2021-12-25T22:16:04.735Z"
   },
   {
    "duration": 7,
    "start_time": "2021-12-25T22:16:04.742Z"
   },
   {
    "duration": 13,
    "start_time": "2021-12-25T22:16:04.751Z"
   },
   {
    "duration": 11,
    "start_time": "2021-12-25T22:16:04.766Z"
   },
   {
    "duration": 7,
    "start_time": "2021-12-25T22:16:04.779Z"
   },
   {
    "duration": 8,
    "start_time": "2021-12-25T22:16:04.787Z"
   },
   {
    "duration": 6,
    "start_time": "2021-12-25T22:16:04.829Z"
   },
   {
    "duration": 7,
    "start_time": "2021-12-25T22:16:04.837Z"
   },
   {
    "duration": 4,
    "start_time": "2021-12-25T22:16:04.846Z"
   },
   {
    "duration": 1893,
    "start_time": "2021-12-25T22:16:04.852Z"
   },
   {
    "duration": 7,
    "start_time": "2021-12-25T22:16:06.747Z"
   },
   {
    "duration": 19,
    "start_time": "2021-12-25T22:16:06.756Z"
   },
   {
    "duration": 17,
    "start_time": "2021-12-25T22:16:06.776Z"
   },
   {
    "duration": 12,
    "start_time": "2021-12-25T22:16:06.794Z"
   },
   {
    "duration": 12,
    "start_time": "2021-12-25T22:16:06.808Z"
   },
   {
    "duration": 12,
    "start_time": "2021-12-25T22:16:06.821Z"
   },
   {
    "duration": 5,
    "start_time": "2021-12-25T22:16:06.834Z"
   },
   {
    "duration": 15,
    "start_time": "2021-12-25T22:16:06.841Z"
   },
   {
    "duration": 23,
    "start_time": "2021-12-25T22:16:06.857Z"
   },
   {
    "duration": 3,
    "start_time": "2021-12-25T22:16:06.882Z"
   },
   {
    "duration": 5,
    "start_time": "2021-12-25T22:16:06.886Z"
   },
   {
    "duration": 11,
    "start_time": "2021-12-25T22:16:06.893Z"
   },
   {
    "duration": 7,
    "start_time": "2021-12-25T22:16:06.906Z"
   },
   {
    "duration": 12,
    "start_time": "2021-12-25T22:16:06.915Z"
   },
   {
    "duration": 5,
    "start_time": "2021-12-25T22:16:06.929Z"
   },
   {
    "duration": 7,
    "start_time": "2021-12-25T22:16:06.936Z"
   },
   {
    "duration": 2,
    "start_time": "2021-12-25T22:16:06.944Z"
   },
   {
    "duration": 10,
    "start_time": "2021-12-25T22:16:06.948Z"
   },
   {
    "duration": 5,
    "start_time": "2021-12-25T22:16:06.959Z"
   },
   {
    "duration": 6,
    "start_time": "2021-12-25T22:16:06.965Z"
   },
   {
    "duration": 4,
    "start_time": "2021-12-25T22:16:06.972Z"
   },
   {
    "duration": 6,
    "start_time": "2021-12-25T22:16:06.978Z"
   },
   {
    "duration": 5,
    "start_time": "2021-12-25T22:16:06.985Z"
   },
   {
    "duration": 3,
    "start_time": "2021-12-25T22:16:07.027Z"
   },
   {
    "duration": 8,
    "start_time": "2021-12-25T22:16:07.032Z"
   },
   {
    "duration": 7,
    "start_time": "2021-12-25T22:16:07.129Z"
   },
   {
    "duration": 90,
    "start_time": "2021-12-25T22:16:07.139Z"
   },
   {
    "duration": 255,
    "start_time": "2021-12-25T22:16:07.231Z"
   },
   {
    "duration": 2,
    "start_time": "2021-12-25T22:16:07.488Z"
   },
   {
    "duration": 5,
    "start_time": "2021-12-25T22:16:07.492Z"
   },
   {
    "duration": 836,
    "start_time": "2021-12-25T22:16:07.499Z"
   },
   {
    "duration": 3,
    "start_time": "2021-12-25T22:16:08.337Z"
   },
   {
    "duration": 4,
    "start_time": "2021-12-25T22:16:08.344Z"
   },
   {
    "duration": 3185,
    "start_time": "2021-12-25T22:16:08.349Z"
   },
   {
    "duration": 4,
    "start_time": "2021-12-25T22:16:11.536Z"
   },
   {
    "duration": 93,
    "start_time": "2021-12-25T22:16:11.541Z"
   },
   {
    "duration": 4,
    "start_time": "2021-12-25T22:16:11.636Z"
   },
   {
    "duration": 313,
    "start_time": "2021-12-25T22:16:11.641Z"
   },
   {
    "duration": 98,
    "start_time": "2021-12-25T22:16:11.956Z"
   },
   {
    "duration": -1733,
    "start_time": "2021-12-25T22:16:13.789Z"
   },
   {
    "duration": 431,
    "start_time": "2021-12-25T22:16:25.163Z"
   },
   {
    "duration": 490,
    "start_time": "2021-12-25T22:16:30.166Z"
   },
   {
    "duration": 484,
    "start_time": "2021-12-25T22:16:47.240Z"
   },
   {
    "duration": 4,
    "start_time": "2021-12-25T22:17:29.562Z"
   },
   {
    "duration": 11,
    "start_time": "2021-12-25T22:17:53.952Z"
   },
   {
    "duration": 157,
    "start_time": "2021-12-25T22:18:00.486Z"
   },
   {
    "duration": 12,
    "start_time": "2021-12-25T22:34:21.215Z"
   },
   {
    "duration": 9,
    "start_time": "2021-12-25T22:34:27.930Z"
   },
   {
    "duration": 10,
    "start_time": "2021-12-25T22:36:31.173Z"
   },
   {
    "duration": 24,
    "start_time": "2021-12-25T22:36:49.934Z"
   },
   {
    "duration": 21,
    "start_time": "2021-12-25T22:37:13.471Z"
   },
   {
    "duration": 20,
    "start_time": "2021-12-25T22:39:26.314Z"
   },
   {
    "duration": 302,
    "start_time": "2021-12-25T22:40:19.104Z"
   },
   {
    "duration": 772,
    "start_time": "2021-12-25T22:40:32.296Z"
   },
   {
    "duration": 739,
    "start_time": "2021-12-25T22:40:47.620Z"
   },
   {
    "duration": 453,
    "start_time": "2021-12-25T22:40:56.128Z"
   },
   {
    "duration": 4,
    "start_time": "2021-12-25T22:42:55.501Z"
   },
   {
    "duration": 5,
    "start_time": "2021-12-25T22:43:02.116Z"
   },
   {
    "duration": 1206,
    "start_time": "2021-12-25T22:43:02.123Z"
   },
   {
    "duration": 172,
    "start_time": "2021-12-25T22:43:03.330Z"
   },
   {
    "duration": 10,
    "start_time": "2021-12-25T22:43:03.504Z"
   },
   {
    "duration": 9,
    "start_time": "2021-12-25T22:43:03.515Z"
   },
   {
    "duration": 3,
    "start_time": "2021-12-25T22:43:03.526Z"
   },
   {
    "duration": 7,
    "start_time": "2021-12-25T22:43:03.531Z"
   },
   {
    "duration": 2,
    "start_time": "2021-12-25T22:43:03.540Z"
   },
   {
    "duration": 8,
    "start_time": "2021-12-25T22:43:03.544Z"
   },
   {
    "duration": 13,
    "start_time": "2021-12-25T22:43:03.553Z"
   },
   {
    "duration": 8,
    "start_time": "2021-12-25T22:43:03.567Z"
   },
   {
    "duration": 10,
    "start_time": "2021-12-25T22:43:03.576Z"
   },
   {
    "duration": 4,
    "start_time": "2021-12-25T22:43:03.587Z"
   },
   {
    "duration": 7,
    "start_time": "2021-12-25T22:43:03.592Z"
   },
   {
    "duration": 11,
    "start_time": "2021-12-25T22:43:03.627Z"
   },
   {
    "duration": 13,
    "start_time": "2021-12-25T22:43:03.639Z"
   },
   {
    "duration": 12,
    "start_time": "2021-12-25T22:43:03.653Z"
   },
   {
    "duration": 7,
    "start_time": "2021-12-25T22:43:03.666Z"
   },
   {
    "duration": 13,
    "start_time": "2021-12-25T22:43:03.675Z"
   },
   {
    "duration": 7,
    "start_time": "2021-12-25T22:43:03.689Z"
   },
   {
    "duration": 2,
    "start_time": "2021-12-25T22:43:03.698Z"
   },
   {
    "duration": 1940,
    "start_time": "2021-12-25T22:43:03.702Z"
   },
   {
    "duration": 6,
    "start_time": "2021-12-25T22:43:05.646Z"
   },
   {
    "duration": 11,
    "start_time": "2021-12-25T22:43:05.654Z"
   },
   {
    "duration": 7,
    "start_time": "2021-12-25T22:43:05.666Z"
   },
   {
    "duration": 5,
    "start_time": "2021-12-25T22:43:05.675Z"
   },
   {
    "duration": 10,
    "start_time": "2021-12-25T22:43:05.681Z"
   },
   {
    "duration": 10,
    "start_time": "2021-12-25T22:43:05.692Z"
   },
   {
    "duration": 4,
    "start_time": "2021-12-25T22:43:05.703Z"
   },
   {
    "duration": 6,
    "start_time": "2021-12-25T22:43:05.727Z"
   },
   {
    "duration": 18,
    "start_time": "2021-12-25T22:43:05.734Z"
   },
   {
    "duration": 2,
    "start_time": "2021-12-25T22:43:05.754Z"
   },
   {
    "duration": 6,
    "start_time": "2021-12-25T22:43:05.757Z"
   },
   {
    "duration": 16,
    "start_time": "2021-12-25T22:43:05.764Z"
   },
   {
    "duration": 12,
    "start_time": "2021-12-25T22:43:05.781Z"
   },
   {
    "duration": 3,
    "start_time": "2021-12-25T22:43:05.794Z"
   },
   {
    "duration": 10,
    "start_time": "2021-12-25T22:43:05.799Z"
   },
   {
    "duration": 18,
    "start_time": "2021-12-25T22:43:05.810Z"
   },
   {
    "duration": 454,
    "start_time": "2021-12-25T22:43:05.829Z"
   },
   {
    "duration": 3,
    "start_time": "2021-12-25T22:43:06.284Z"
   },
   {
    "duration": 6,
    "start_time": "2021-12-25T22:43:06.289Z"
   },
   {
    "duration": 10,
    "start_time": "2021-12-25T22:43:06.297Z"
   },
   {
    "duration": 4,
    "start_time": "2021-12-25T22:43:06.309Z"
   },
   {
    "duration": 7,
    "start_time": "2021-12-25T22:43:06.327Z"
   },
   {
    "duration": 5,
    "start_time": "2021-12-25T22:43:06.336Z"
   },
   {
    "duration": 8,
    "start_time": "2021-12-25T22:43:06.342Z"
   },
   {
    "duration": 4,
    "start_time": "2021-12-25T22:43:06.352Z"
   },
   {
    "duration": 3,
    "start_time": "2021-12-25T22:43:06.358Z"
   },
   {
    "duration": 7,
    "start_time": "2021-12-25T22:43:06.362Z"
   },
   {
    "duration": 6,
    "start_time": "2021-12-25T22:43:06.370Z"
   },
   {
    "duration": 6,
    "start_time": "2021-12-25T22:43:06.377Z"
   },
   {
    "duration": 270,
    "start_time": "2021-12-25T22:43:06.385Z"
   },
   {
    "duration": 2,
    "start_time": "2021-12-25T22:43:06.657Z"
   },
   {
    "duration": 5,
    "start_time": "2021-12-25T22:43:06.661Z"
   },
   {
    "duration": 963,
    "start_time": "2021-12-25T22:43:06.667Z"
   },
   {
    "duration": 3,
    "start_time": "2021-12-25T22:43:07.632Z"
   },
   {
    "duration": 4,
    "start_time": "2021-12-25T22:43:07.637Z"
   },
   {
    "duration": 3295,
    "start_time": "2021-12-25T22:43:07.643Z"
   },
   {
    "duration": 4,
    "start_time": "2021-12-25T22:43:10.940Z"
   },
   {
    "duration": 84,
    "start_time": "2021-12-25T22:43:10.946Z"
   },
   {
    "duration": 6,
    "start_time": "2021-12-25T22:43:11.032Z"
   },
   {
    "duration": 338,
    "start_time": "2021-12-25T22:43:11.039Z"
   },
   {
    "duration": 10,
    "start_time": "2021-12-25T22:43:11.378Z"
   },
   {
    "duration": 256,
    "start_time": "2021-12-25T22:43:11.390Z"
   },
   {
    "duration": 4,
    "start_time": "2021-12-25T22:57:02.869Z"
   },
   {
    "duration": 1118,
    "start_time": "2021-12-25T22:57:02.875Z"
   },
   {
    "duration": 178,
    "start_time": "2021-12-25T22:57:03.995Z"
   },
   {
    "duration": 11,
    "start_time": "2021-12-25T22:57:04.175Z"
   },
   {
    "duration": 9,
    "start_time": "2021-12-25T22:57:04.188Z"
   },
   {
    "duration": 5,
    "start_time": "2021-12-25T22:57:04.199Z"
   },
   {
    "duration": 9,
    "start_time": "2021-12-25T22:57:04.205Z"
   },
   {
    "duration": 4,
    "start_time": "2021-12-25T22:57:04.217Z"
   },
   {
    "duration": 9,
    "start_time": "2021-12-25T22:57:04.223Z"
   },
   {
    "duration": 18,
    "start_time": "2021-12-25T22:57:04.234Z"
   },
   {
    "duration": 8,
    "start_time": "2021-12-25T22:57:04.254Z"
   },
   {
    "duration": 13,
    "start_time": "2021-12-25T22:57:04.263Z"
   },
   {
    "duration": 4,
    "start_time": "2021-12-25T22:57:04.278Z"
   },
   {
    "duration": 7,
    "start_time": "2021-12-25T22:57:04.283Z"
   },
   {
    "duration": 42,
    "start_time": "2021-12-25T22:57:04.291Z"
   },
   {
    "duration": 8,
    "start_time": "2021-12-25T22:57:04.335Z"
   },
   {
    "duration": 9,
    "start_time": "2021-12-25T22:57:04.345Z"
   },
   {
    "duration": 6,
    "start_time": "2021-12-25T22:57:04.355Z"
   },
   {
    "duration": 8,
    "start_time": "2021-12-25T22:57:04.363Z"
   },
   {
    "duration": 7,
    "start_time": "2021-12-25T22:57:04.373Z"
   },
   {
    "duration": 4,
    "start_time": "2021-12-25T22:57:04.382Z"
   },
   {
    "duration": 1943,
    "start_time": "2021-12-25T22:57:04.387Z"
   },
   {
    "duration": 7,
    "start_time": "2021-12-25T22:57:06.334Z"
   },
   {
    "duration": 11,
    "start_time": "2021-12-25T22:57:06.343Z"
   },
   {
    "duration": 7,
    "start_time": "2021-12-25T22:57:06.356Z"
   },
   {
    "duration": 7,
    "start_time": "2021-12-25T22:57:06.364Z"
   },
   {
    "duration": 5,
    "start_time": "2021-12-25T22:57:06.373Z"
   },
   {
    "duration": 7,
    "start_time": "2021-12-25T22:57:06.379Z"
   },
   {
    "duration": 3,
    "start_time": "2021-12-25T22:57:06.428Z"
   },
   {
    "duration": 8,
    "start_time": "2021-12-25T22:57:06.433Z"
   },
   {
    "duration": 23,
    "start_time": "2021-12-25T22:57:06.442Z"
   },
   {
    "duration": 3,
    "start_time": "2021-12-25T22:57:06.466Z"
   },
   {
    "duration": 9,
    "start_time": "2021-12-25T22:57:06.470Z"
   },
   {
    "duration": 14,
    "start_time": "2021-12-25T22:57:06.480Z"
   },
   {
    "duration": 6,
    "start_time": "2021-12-25T22:57:06.495Z"
   },
   {
    "duration": 3,
    "start_time": "2021-12-25T22:57:06.503Z"
   },
   {
    "duration": 5,
    "start_time": "2021-12-25T22:57:06.528Z"
   },
   {
    "duration": 8,
    "start_time": "2021-12-25T22:57:06.534Z"
   },
   {
    "duration": 484,
    "start_time": "2021-12-25T22:57:06.544Z"
   },
   {
    "duration": 4,
    "start_time": "2021-12-25T22:57:07.030Z"
   },
   {
    "duration": 5,
    "start_time": "2021-12-25T22:57:07.036Z"
   },
   {
    "duration": 10,
    "start_time": "2021-12-25T22:57:07.042Z"
   },
   {
    "duration": 4,
    "start_time": "2021-12-25T22:57:07.054Z"
   },
   {
    "duration": 6,
    "start_time": "2021-12-25T22:57:07.060Z"
   },
   {
    "duration": 4,
    "start_time": "2021-12-25T22:57:07.067Z"
   },
   {
    "duration": 8,
    "start_time": "2021-12-25T22:57:07.073Z"
   },
   {
    "duration": 5,
    "start_time": "2021-12-25T22:57:07.082Z"
   },
   {
    "duration": 3,
    "start_time": "2021-12-25T22:57:07.089Z"
   },
   {
    "duration": 37,
    "start_time": "2021-12-25T22:57:07.093Z"
   },
   {
    "duration": 5,
    "start_time": "2021-12-25T22:57:07.132Z"
   },
   {
    "duration": 5,
    "start_time": "2021-12-25T22:57:07.138Z"
   },
   {
    "duration": 264,
    "start_time": "2021-12-25T22:57:07.145Z"
   },
   {
    "duration": 2,
    "start_time": "2021-12-25T22:57:07.411Z"
   },
   {
    "duration": 12,
    "start_time": "2021-12-25T22:57:07.415Z"
   },
   {
    "duration": 3410,
    "start_time": "2021-12-25T22:57:07.428Z"
   },
   {
    "duration": 91,
    "start_time": "2021-12-25T22:57:10.839Z"
   }
  ],
  "kernelspec": {
   "display_name": "Python 3",
   "language": "python",
   "name": "python3"
  },
  "language_info": {
   "codemirror_mode": {
    "name": "ipython",
    "version": 3
   },
   "file_extension": ".py",
   "mimetype": "text/x-python",
   "name": "python",
   "nbconvert_exporter": "python",
   "pygments_lexer": "ipython3",
   "version": "3.8.8"
  },
  "toc": {
   "base_numbering": 1,
   "nav_menu": {},
   "number_sections": true,
   "sideBar": true,
   "skip_h1_title": true,
   "title_cell": "Table of Contents",
   "title_sidebar": "Contents",
   "toc_cell": false,
   "toc_position": {},
   "toc_section_display": true,
   "toc_window_display": false
  }
 },
 "nbformat": 4,
 "nbformat_minor": 2
}
