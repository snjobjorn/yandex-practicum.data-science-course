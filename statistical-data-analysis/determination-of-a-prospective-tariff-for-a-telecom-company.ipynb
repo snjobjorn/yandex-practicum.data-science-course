{
 "cells": [
  {
   "cell_type": "markdown",
   "metadata": {},
   "source": [
    "# Определение перспективного тарифа для телеком компании"
   ]
  },
  {
   "cell_type": "markdown",
   "metadata": {},
   "source": [
    "<h1>Содержание<span class=\"tocSkip\"></span></h1>\n",
    "\n",
    "\n",
    "<div class=\"toc\"><ul class=\"toc-item\"><li><span><a href=\"#Описание-проекта\" data-toc-modified-id=\"Описание-проекта-1\"><span class=\"toc-item-num\">1&nbsp;&nbsp;</span>Описание проекта</a></span></li><li><span><a href=\"#Описание-тарифов\" data-toc-modified-id=\"Описание-тарифов-2\"><span class=\"toc-item-num\">2&nbsp;&nbsp;</span>Описание тарифов</a></span></li><li><span><a href=\"#Изучение-данных-из-файлов\" data-toc-modified-id=\"Изучение-данных-из-файлов-3\"><span class=\"toc-item-num\">3&nbsp;&nbsp;</span>Изучение данных из файлов</a></span></li><li><span><a href=\"#Подготовка-данных\" data-toc-modified-id=\"Подготовка-данных-4\"><span class=\"toc-item-num\">4&nbsp;&nbsp;</span>Подготовка данных</a></span></li><li><span><a href=\"#Анализ-данных\" data-toc-modified-id=\"Анализ-данных-5\"><span class=\"toc-item-num\">5&nbsp;&nbsp;</span>Анализ данных</a></span></li><li><span><a href=\"#Проверка-гипотез\" data-toc-modified-id=\"Проверка-гипотез-6\"><span class=\"toc-item-num\">6&nbsp;&nbsp;</span>Проверка гипотез</a></span></li><li><span><a href=\"#Общий-вывод\" data-toc-modified-id=\"Общий-вывод-7\"><span class=\"toc-item-num\">7&nbsp;&nbsp;</span>Общий вывод</a></span></li></ul></div>"
   ]
  },
  {
   "cell_type": "markdown",
   "metadata": {},
   "source": [
    "## Описание проекта\n",
    "\n",
    "<b>Я</b> аналитик компании «Мегалайн» — федерального оператора сотовой связи. Клиентам предлагают два тарифных плана: «Смарт» и «Ультра». Чтобы скорректировать рекламный бюджет, коммерческий департамент хочет понять, какой тариф приносит больше денег.\n",
    "\n",
    "<b>Мне</b> предстоит сделать предварительный анализ тарифов на небольшой выборке клиентов. В <b>моем</b> распоряжении данные 500 пользователей «Мегалайна»: кто они, откуда, каким тарифом пользуются, сколько звонков и сообщений каждый отправил за 2018 год. Нужно проанализировать поведение клиентов и сделать вывод — какой тариф лучше.\n",
    "\n",
    "## Описание тарифов\n",
    "\n",
    "**Тариф «Смарт»**\n",
    "\n",
    "    Ежемесячная плата: 550 рублей\n",
    "    Включено 500 минут разговора, 50 сообщений и 15 Гб интернет-трафика\n",
    "    Стоимость услуг сверх тарифного пакета:\n",
    "    -минута разговора: 3 рубля\n",
    "    -сообщение: 3 рубля\n",
    "    -1 Гб интернет-трафика: 200 рублей\n",
    "\n",
    "**Тариф «Ультра»**\n",
    "\n",
    "    Ежемесячная плата: 1950 рублей\n",
    "    Включено 3000 минут разговора, 1000 сообщений и 30 Гб интернет-трафика\n",
    "    Стоимость услуг сверх тарифного пакета:\n",
    "    -минута разговора: 1 рубль\n",
    "    -сообщение: 1 рубль\n",
    "    -1 Гб интернет-трафика: 150 рублей"
   ]
  },
  {
   "cell_type": "markdown",
   "metadata": {},
   "source": [
    "## Изучение данных из файлов"
   ]
  },
  {
   "cell_type": "code",
   "execution_count": 1,
   "metadata": {},
   "outputs": [],
   "source": [
    "import pandas as pd\n",
    "import numpy as np\n",
    "import matplotlib.pyplot as plt\n",
    "from scipy import stats as st\n",
    "\n",
    "data_calls = pd.read_csv('/datasets/calls.csv')\n",
    "data_internet = pd.read_csv('/datasets/internet.csv')\n",
    "data_messages = pd.read_csv('/datasets/messages.csv')\n",
    "data_tariffs = pd.read_csv('/datasets/tariffs.csv')\n",
    "data_users = pd.read_csv('/datasets/users.csv')"
   ]
  },
  {
   "cell_type": "markdown",
   "metadata": {},
   "source": [
    "**Почему следует избавляться от нулей в начальных датасетах?**\n",
    "\n",
    "Задание звучит \"коммерческий департамент хочет понять, какой тариф приносит больше денег\". Нулевые значения денег не приносят."
   ]
  },
  {
   "cell_type": "markdown",
   "metadata": {},
   "source": [
    "**Нулевые значения**"
   ]
  },
  {
   "cell_type": "code",
   "execution_count": 2,
   "metadata": {},
   "outputs": [
    {
     "name": "stdout",
     "output_type": "stream",
     "text": [
      "Процент нулевых значений в датасете со звонками: 19.551644316336553\n",
      "Процент нулевых значений в датасете с сообщениями: 0.0368052999631947 (расчеты смотреть ниже в графе \"сообщения\")\n",
      "Процент нулевых значений в датасете с интернетом: 13.118155773916303\n"
     ]
    }
   ],
   "source": [
    "print('Процент нулевых значений в датасете со звонками:', len(data_calls[data_calls['duration'] == 0])/ len(data_calls['duration']) * 100)\n",
    "print('Процент нулевых значений в датасете с сообщениями:', 0.0368052999631947, '(расчеты смотреть ниже в графе \"сообщения\")') \n",
    "print('Процент нулевых значений в датасете с интернетом:', len(data_internet[data_internet['mb_used'] == 0])/ len(data_internet['mb_used']) * 100) "
   ]
  },
  {
   "cell_type": "markdown",
   "metadata": {},
   "source": [
    "# Звонки"
   ]
  },
  {
   "cell_type": "code",
   "execution_count": 3,
   "metadata": {},
   "outputs": [
    {
     "name": "stdout",
     "output_type": "stream",
     "text": [
      "Изначальное инфо о датасете:\n",
      "<class 'pandas.core.frame.DataFrame'>\n",
      "RangeIndex: 202607 entries, 0 to 202606\n",
      "Data columns (total 4 columns):\n",
      "id           202607 non-null object\n",
      "call_date    202607 non-null object\n",
      "duration     202607 non-null float64\n",
      "user_id      202607 non-null int64\n",
      "dtypes: float64(1), int64(1), object(2)\n",
      "memory usage: 6.2+ MB\n",
      "Дубликатов: 0\n",
      "0.00     39613\n",
      "0.01       101\n",
      "0.02        84\n",
      "0.03        80\n",
      "0.04        85\n",
      "         ...  \n",
      "35.95        1\n",
      "36.12        1\n",
      "36.47        1\n",
      "37.35        1\n",
      "38.00        1\n",
      "Name: duration, Length: 2871, dtype: int64\n"
     ]
    }
   ],
   "source": [
    "print('Изначальное инфо о датасете:')\n",
    "data_calls.info() # инфо о датасете в целом\n",
    "print('Дубликатов:', data_calls.duplicated().sum()) # количество дубликатов\n",
    "print(data_calls['duration'].value_counts().sort_index()) # количество уникальных значений столбца 'duration', в первую очередь для того, чтобы понять сколько нулевых значений"
   ]
  },
  {
   "cell_type": "markdown",
   "metadata": {},
   "source": [
    "Разброс значений от 0 до 38. Нет пропусков и дубликатов."
   ]
  },
  {
   "cell_type": "code",
   "execution_count": 4,
   "metadata": {},
   "outputs": [],
   "source": [
    "# Приведение данных к нужным типам\n",
    "data_calls = data_calls.loc[~(data_calls['duration'] == 0.00)].reset_index() # удаление нулевых значений\n",
    "data_calls['duration'] = data_calls['duration'].apply(np.ceil).astype('int64') # приведение типов к инт и округление до большего значения, согласно примечанию"
   ]
  },
  {
   "cell_type": "markdown",
   "metadata": {},
   "source": [
    "Удаление нулевых значений согласно вердикту выше.\n",
    "\n",
    "Округление вверх и приведение к нужным типам для удобства."
   ]
  },
  {
   "cell_type": "code",
   "execution_count": 5,
   "metadata": {},
   "outputs": [],
   "source": [
    "# Удаление столбца 'Index'\n",
    "data_calls = data_calls.drop(['index'], axis = 1)"
   ]
  },
  {
   "cell_type": "code",
   "execution_count": 6,
   "metadata": {},
   "outputs": [],
   "source": [
    "# Добавление столбика \"месяц\"\n",
    "data_calls['call_date'] = pd.to_datetime(data_calls['call_date'])\n",
    "data_calls['month'] = data_calls['call_date'].dt.month\n",
    "data_calls = data_calls.drop(['call_date'], axis = 1)"
   ]
  },
  {
   "cell_type": "markdown",
   "metadata": {},
   "source": [
    "Разделение звонков по месяцам относительно даты в датафрейме, дабы потом по месяцам будем группировать в сводную таблицу. \n",
    "\n",
    "Удаляем ненужные значения и столбцы."
   ]
  },
  {
   "cell_type": "code",
   "execution_count": 7,
   "metadata": {},
   "outputs": [
    {
     "name": "stdout",
     "output_type": "stream",
     "text": [
      "Датасет после предобработки:\n"
     ]
    },
    {
     "data": {
      "text/html": [
       "<div>\n",
       "<style scoped>\n",
       "    .dataframe tbody tr th:only-of-type {\n",
       "        vertical-align: middle;\n",
       "    }\n",
       "\n",
       "    .dataframe tbody tr th {\n",
       "        vertical-align: top;\n",
       "    }\n",
       "\n",
       "    .dataframe thead th {\n",
       "        text-align: right;\n",
       "    }\n",
       "</style>\n",
       "<table border=\"1\" class=\"dataframe\">\n",
       "  <thead>\n",
       "    <tr style=\"text-align: right;\">\n",
       "      <th></th>\n",
       "      <th>duration</th>\n",
       "      <th>user_id</th>\n",
       "      <th>month</th>\n",
       "    </tr>\n",
       "  </thead>\n",
       "  <tbody>\n",
       "    <tr>\n",
       "      <td>0</td>\n",
       "      <td>3</td>\n",
       "      <td>1000</td>\n",
       "      <td>6</td>\n",
       "    </tr>\n",
       "    <tr>\n",
       "      <td>1</td>\n",
       "      <td>14</td>\n",
       "      <td>1000</td>\n",
       "      <td>9</td>\n",
       "    </tr>\n",
       "    <tr>\n",
       "      <td>2</td>\n",
       "      <td>6</td>\n",
       "      <td>1000</td>\n",
       "      <td>12</td>\n",
       "    </tr>\n",
       "    <tr>\n",
       "      <td>3</td>\n",
       "      <td>19</td>\n",
       "      <td>1000</td>\n",
       "      <td>8</td>\n",
       "    </tr>\n",
       "    <tr>\n",
       "      <td>4</td>\n",
       "      <td>19</td>\n",
       "      <td>1000</td>\n",
       "      <td>9</td>\n",
       "    </tr>\n",
       "    <tr>\n",
       "      <td>5</td>\n",
       "      <td>6</td>\n",
       "      <td>1000</td>\n",
       "      <td>8</td>\n",
       "    </tr>\n",
       "    <tr>\n",
       "      <td>6</td>\n",
       "      <td>19</td>\n",
       "      <td>1000</td>\n",
       "      <td>5</td>\n",
       "    </tr>\n",
       "    <tr>\n",
       "      <td>7</td>\n",
       "      <td>3</td>\n",
       "      <td>1000</td>\n",
       "      <td>7</td>\n",
       "    </tr>\n",
       "    <tr>\n",
       "      <td>8</td>\n",
       "      <td>8</td>\n",
       "      <td>1000</td>\n",
       "      <td>9</td>\n",
       "    </tr>\n",
       "    <tr>\n",
       "      <td>9</td>\n",
       "      <td>10</td>\n",
       "      <td>1000</td>\n",
       "      <td>12</td>\n",
       "    </tr>\n",
       "  </tbody>\n",
       "</table>\n",
       "</div>"
      ],
      "text/plain": [
       "   duration  user_id  month\n",
       "0         3     1000      6\n",
       "1        14     1000      9\n",
       "2         6     1000     12\n",
       "3        19     1000      8\n",
       "4        19     1000      9\n",
       "5         6     1000      8\n",
       "6        19     1000      5\n",
       "7         3     1000      7\n",
       "8         8     1000      9\n",
       "9        10     1000     12"
      ]
     },
     "execution_count": 7,
     "metadata": {},
     "output_type": "execute_result"
    }
   ],
   "source": [
    "data_calls = data_calls.drop(['id'], axis = 1)\n",
    "print('Датасет после предобработки:')\n",
    "data_calls.head(10)"
   ]
  },
  {
   "cell_type": "markdown",
   "metadata": {},
   "source": [
    "**Вывод и первичная предобработка**\n",
    "\n",
    "Всего 202607 уникальных значений без дубликатов.\n",
    "\n",
    "Нули необходимо удалить, значения столбика \"duration\" округлить до потолка, согласно примечанию к заданию, и переводим в тип целочисленных значений. Лишний и ненужный столбец \"index\" удаляем. Добавляем столбец \"month\", необходимый для дальнейшей подготовки данных и удаляем столбец с датой, чтобы не мешался."
   ]
  },
  {
   "cell_type": "markdown",
   "metadata": {},
   "source": [
    "**Построение сводной таблицы, сгруппированной по user_id и month**"
   ]
  },
  {
   "cell_type": "code",
   "execution_count": 8,
   "metadata": {},
   "outputs": [
    {
     "data": {
      "text/html": [
       "<div>\n",
       "<style scoped>\n",
       "    .dataframe tbody tr th:only-of-type {\n",
       "        vertical-align: middle;\n",
       "    }\n",
       "\n",
       "    .dataframe tbody tr th {\n",
       "        vertical-align: top;\n",
       "    }\n",
       "\n",
       "    .dataframe thead th {\n",
       "        text-align: right;\n",
       "    }\n",
       "</style>\n",
       "<table border=\"1\" class=\"dataframe\">\n",
       "  <thead>\n",
       "    <tr style=\"text-align: right;\">\n",
       "      <th></th>\n",
       "      <th></th>\n",
       "      <th>calls_duration</th>\n",
       "      <th>calls_quantity</th>\n",
       "    </tr>\n",
       "    <tr>\n",
       "      <th>user_id</th>\n",
       "      <th>month</th>\n",
       "      <th></th>\n",
       "      <th></th>\n",
       "    </tr>\n",
       "  </thead>\n",
       "  <tbody>\n",
       "    <tr>\n",
       "      <td rowspan=\"8\" valign=\"top\">1000</td>\n",
       "      <td>5</td>\n",
       "      <td>159</td>\n",
       "      <td>17</td>\n",
       "    </tr>\n",
       "    <tr>\n",
       "      <td>6</td>\n",
       "      <td>172</td>\n",
       "      <td>28</td>\n",
       "    </tr>\n",
       "    <tr>\n",
       "      <td>7</td>\n",
       "      <td>340</td>\n",
       "      <td>41</td>\n",
       "    </tr>\n",
       "    <tr>\n",
       "      <td>8</td>\n",
       "      <td>408</td>\n",
       "      <td>42</td>\n",
       "    </tr>\n",
       "    <tr>\n",
       "      <td>9</td>\n",
       "      <td>466</td>\n",
       "      <td>46</td>\n",
       "    </tr>\n",
       "    <tr>\n",
       "      <td>10</td>\n",
       "      <td>350</td>\n",
       "      <td>44</td>\n",
       "    </tr>\n",
       "    <tr>\n",
       "      <td>11</td>\n",
       "      <td>338</td>\n",
       "      <td>37</td>\n",
       "    </tr>\n",
       "    <tr>\n",
       "      <td>12</td>\n",
       "      <td>333</td>\n",
       "      <td>38</td>\n",
       "    </tr>\n",
       "    <tr>\n",
       "      <td rowspan=\"2\" valign=\"top\">1001</td>\n",
       "      <td>11</td>\n",
       "      <td>430</td>\n",
       "      <td>45</td>\n",
       "    </tr>\n",
       "    <tr>\n",
       "      <td>12</td>\n",
       "      <td>414</td>\n",
       "      <td>47</td>\n",
       "    </tr>\n",
       "  </tbody>\n",
       "</table>\n",
       "</div>"
      ],
      "text/plain": [
       "               calls_duration  calls_quantity\n",
       "user_id month                                \n",
       "1000    5                 159              17\n",
       "        6                 172              28\n",
       "        7                 340              41\n",
       "        8                 408              42\n",
       "        9                 466              46\n",
       "        10                350              44\n",
       "        11                338              37\n",
       "        12                333              38\n",
       "1001    11                430              45\n",
       "        12                414              47"
      ]
     },
     "execution_count": 8,
     "metadata": {},
     "output_type": "execute_result"
    }
   ],
   "source": [
    "data_calls.rename(columns = {'duration':'calls_duration'}, inplace = True) # переименование столбца\n",
    "data_calls['calls_quantity'] = 1 # добавление нового столбца дабы посчитать количество звонков\n",
    "data_calls = pd.pivot_table(data_calls, index=['user_id', 'month'], aggfunc=np.sum)\n",
    "data_calls.head(10)"
   ]
  },
  {
   "cell_type": "markdown",
   "metadata": {},
   "source": [
    "# Интернет"
   ]
  },
  {
   "cell_type": "code",
   "execution_count": 9,
   "metadata": {},
   "outputs": [
    {
     "name": "stdout",
     "output_type": "stream",
     "text": [
      "Изначальное инфо о датасете:\n",
      "<class 'pandas.core.frame.DataFrame'>\n",
      "RangeIndex: 149396 entries, 0 to 149395\n",
      "Data columns (total 5 columns):\n",
      "Unnamed: 0      149396 non-null int64\n",
      "id              149396 non-null object\n",
      "mb_used         149396 non-null float64\n",
      "session_date    149396 non-null object\n",
      "user_id         149396 non-null int64\n",
      "dtypes: float64(1), int64(2), object(2)\n",
      "memory usage: 5.7+ MB\n",
      "Дубликатов: 0\n",
      "0.00       19598\n",
      "0.03           1\n",
      "0.04           1\n",
      "0.06           1\n",
      "0.07           2\n",
      "           ...  \n",
      "1623.92        1\n",
      "1651.25        1\n",
      "1651.55        1\n",
      "1702.75        1\n",
      "1724.83        1\n",
      "Name: mb_used, Length: 70003, dtype: int64\n"
     ]
    }
   ],
   "source": [
    "print('Изначальное инфо о датасете:')\n",
    "data_internet.info() # инфо о датасете в целом\n",
    "print('Дубликатов:', data_internet.duplicated().sum()) # количество дубликатов\n",
    "print(data_internet['mb_used'].value_counts().sort_index()) # количество уникальных значений столбца 'mb_used', в первую очередь для того, чтобы понять сколько нулевых значений"
   ]
  },
  {
   "cell_type": "code",
   "execution_count": 10,
   "metadata": {},
   "outputs": [],
   "source": [
    "# Приведение данных к нужным типам\n",
    "data_internet = data_internet.loc[~(data_internet['mb_used'] == 0.00)].reset_index() # удаление нулевых значений"
   ]
  },
  {
   "cell_type": "markdown",
   "metadata": {},
   "source": [
    "Удаляем нулевые значения согласно сделаным выводам."
   ]
  },
  {
   "cell_type": "code",
   "execution_count": 11,
   "metadata": {},
   "outputs": [],
   "source": [
    "# Удаление столбца 'Unnamed' и 'index'\n",
    "data_internet = data_internet.drop(['Unnamed: 0'], axis = 1)\n",
    "data_internet = data_internet.drop(['index'], axis = 1)"
   ]
  },
  {
   "cell_type": "markdown",
   "metadata": {},
   "source": [
    "Удаляем ненужные столбцы."
   ]
  },
  {
   "cell_type": "code",
   "execution_count": 12,
   "metadata": {},
   "outputs": [],
   "source": [
    "# Добавление столбика \"месяц\"\n",
    "data_internet['session_date'] = pd.to_datetime(data_internet['session_date'])\n",
    "data_internet['month'] = data_internet['session_date'].dt.month\n",
    "data_internet = data_internet.drop(['session_date'], axis = 1)"
   ]
  },
  {
   "cell_type": "markdown",
   "metadata": {},
   "source": [
    "Разделение звонков по месяцам относительно даты в датафрейме, дабы потом по месяцам будем группировать в сводную таблицу. \n",
    "\n",
    "Удаляем ненужные значения и столбцы."
   ]
  },
  {
   "cell_type": "code",
   "execution_count": 13,
   "metadata": {},
   "outputs": [
    {
     "name": "stdout",
     "output_type": "stream",
     "text": [
      "Датасет после предобработки:\n"
     ]
    },
    {
     "data": {
      "text/html": [
       "<div>\n",
       "<style scoped>\n",
       "    .dataframe tbody tr th:only-of-type {\n",
       "        vertical-align: middle;\n",
       "    }\n",
       "\n",
       "    .dataframe tbody tr th {\n",
       "        vertical-align: top;\n",
       "    }\n",
       "\n",
       "    .dataframe thead th {\n",
       "        text-align: right;\n",
       "    }\n",
       "</style>\n",
       "<table border=\"1\" class=\"dataframe\">\n",
       "  <thead>\n",
       "    <tr style=\"text-align: right;\">\n",
       "      <th></th>\n",
       "      <th>mb_used</th>\n",
       "      <th>user_id</th>\n",
       "      <th>month</th>\n",
       "    </tr>\n",
       "  </thead>\n",
       "  <tbody>\n",
       "    <tr>\n",
       "      <td>0</td>\n",
       "      <td>112.95</td>\n",
       "      <td>1000</td>\n",
       "      <td>11</td>\n",
       "    </tr>\n",
       "    <tr>\n",
       "      <td>1</td>\n",
       "      <td>1052.81</td>\n",
       "      <td>1000</td>\n",
       "      <td>9</td>\n",
       "    </tr>\n",
       "    <tr>\n",
       "      <td>2</td>\n",
       "      <td>1197.26</td>\n",
       "      <td>1000</td>\n",
       "      <td>6</td>\n",
       "    </tr>\n",
       "    <tr>\n",
       "      <td>3</td>\n",
       "      <td>550.27</td>\n",
       "      <td>1000</td>\n",
       "      <td>8</td>\n",
       "    </tr>\n",
       "    <tr>\n",
       "      <td>4</td>\n",
       "      <td>302.56</td>\n",
       "      <td>1000</td>\n",
       "      <td>9</td>\n",
       "    </tr>\n",
       "    <tr>\n",
       "      <td>5</td>\n",
       "      <td>399.97</td>\n",
       "      <td>1000</td>\n",
       "      <td>10</td>\n",
       "    </tr>\n",
       "    <tr>\n",
       "      <td>6</td>\n",
       "      <td>540.08</td>\n",
       "      <td>1000</td>\n",
       "      <td>9</td>\n",
       "    </tr>\n",
       "    <tr>\n",
       "      <td>7</td>\n",
       "      <td>415.70</td>\n",
       "      <td>1000</td>\n",
       "      <td>7</td>\n",
       "    </tr>\n",
       "    <tr>\n",
       "      <td>8</td>\n",
       "      <td>505.40</td>\n",
       "      <td>1000</td>\n",
       "      <td>10</td>\n",
       "    </tr>\n",
       "    <tr>\n",
       "      <td>9</td>\n",
       "      <td>345.54</td>\n",
       "      <td>1000</td>\n",
       "      <td>9</td>\n",
       "    </tr>\n",
       "  </tbody>\n",
       "</table>\n",
       "</div>"
      ],
      "text/plain": [
       "   mb_used  user_id  month\n",
       "0   112.95     1000     11\n",
       "1  1052.81     1000      9\n",
       "2  1197.26     1000      6\n",
       "3   550.27     1000      8\n",
       "4   302.56     1000      9\n",
       "5   399.97     1000     10\n",
       "6   540.08     1000      9\n",
       "7   415.70     1000      7\n",
       "8   505.40     1000     10\n",
       "9   345.54     1000      9"
      ]
     },
     "execution_count": 13,
     "metadata": {},
     "output_type": "execute_result"
    }
   ],
   "source": [
    "data_internet = data_internet.drop(['id'], axis = 1)\n",
    "\n",
    "print('Датасет после предобработки:')\n",
    "data_internet.head(10)"
   ]
  },
  {
   "cell_type": "markdown",
   "metadata": {},
   "source": [
    "**Вывод и первичная предобработка**\n",
    "\n",
    "Всего 149396 уникальных значений без дубликатов.\n",
    "\n",
    "Нули необходимо удалить, значения столбика \"mb_used\" округлить до потолка, согласно примечанию к заданию, переводим мегабайты в гигабайты, а далее в тип целочисленных значений. Лишний и ненужный столбец \"Unnamed: 0\" и \"index\" удаляем. Добавляем столбец \"month\", необходимый для дальнейшей подготовки данных и удаляем столбец с датой и с мегабайтами, чтобы не мешались."
   ]
  },
  {
   "cell_type": "markdown",
   "metadata": {},
   "source": [
    "**Построение сводной таблицы, сгруппированной по user_id и month**"
   ]
  },
  {
   "cell_type": "code",
   "execution_count": 14,
   "metadata": {},
   "outputs": [
    {
     "data": {
      "text/html": [
       "<div>\n",
       "<style scoped>\n",
       "    .dataframe tbody tr th:only-of-type {\n",
       "        vertical-align: middle;\n",
       "    }\n",
       "\n",
       "    .dataframe tbody tr th {\n",
       "        vertical-align: top;\n",
       "    }\n",
       "\n",
       "    .dataframe thead th {\n",
       "        text-align: right;\n",
       "    }\n",
       "</style>\n",
       "<table border=\"1\" class=\"dataframe\">\n",
       "  <thead>\n",
       "    <tr style=\"text-align: right;\">\n",
       "      <th></th>\n",
       "      <th></th>\n",
       "      <th>gb_used</th>\n",
       "    </tr>\n",
       "    <tr>\n",
       "      <th>user_id</th>\n",
       "      <th>month</th>\n",
       "      <th></th>\n",
       "    </tr>\n",
       "  </thead>\n",
       "  <tbody>\n",
       "    <tr>\n",
       "      <td rowspan=\"8\" valign=\"top\">1000</td>\n",
       "      <td>5</td>\n",
       "      <td>3</td>\n",
       "    </tr>\n",
       "    <tr>\n",
       "      <td>6</td>\n",
       "      <td>23</td>\n",
       "    </tr>\n",
       "    <tr>\n",
       "      <td>7</td>\n",
       "      <td>14</td>\n",
       "    </tr>\n",
       "    <tr>\n",
       "      <td>8</td>\n",
       "      <td>14</td>\n",
       "    </tr>\n",
       "    <tr>\n",
       "      <td>9</td>\n",
       "      <td>15</td>\n",
       "    </tr>\n",
       "    <tr>\n",
       "      <td>10</td>\n",
       "      <td>15</td>\n",
       "    </tr>\n",
       "    <tr>\n",
       "      <td>11</td>\n",
       "      <td>15</td>\n",
       "    </tr>\n",
       "    <tr>\n",
       "      <td>12</td>\n",
       "      <td>10</td>\n",
       "    </tr>\n",
       "    <tr>\n",
       "      <td rowspan=\"2\" valign=\"top\">1001</td>\n",
       "      <td>11</td>\n",
       "      <td>18</td>\n",
       "    </tr>\n",
       "    <tr>\n",
       "      <td>12</td>\n",
       "      <td>14</td>\n",
       "    </tr>\n",
       "  </tbody>\n",
       "</table>\n",
       "</div>"
      ],
      "text/plain": [
       "               gb_used\n",
       "user_id month         \n",
       "1000    5            3\n",
       "        6           23\n",
       "        7           14\n",
       "        8           14\n",
       "        9           15\n",
       "        10          15\n",
       "        11          15\n",
       "        12          10\n",
       "1001    11          18\n",
       "        12          14"
      ]
     },
     "execution_count": 14,
     "metadata": {},
     "output_type": "execute_result"
    }
   ],
   "source": [
    "data_internet = pd.pivot_table(data_internet, index=['user_id', 'month'], aggfunc=np.sum)\n",
    "data_internet['gb_used'] = (data_internet['mb_used'] / 1024).apply(np.ceil).astype('int64')\n",
    "data_internet = data_internet.drop(['mb_used'], axis = 1)\n",
    "data_internet.head(10)"
   ]
  },
  {
   "cell_type": "markdown",
   "metadata": {},
   "source": [
    "# Сообщения"
   ]
  },
  {
   "cell_type": "code",
   "execution_count": 15,
   "metadata": {},
   "outputs": [
    {
     "name": "stdout",
     "output_type": "stream",
     "text": [
      "Изначальное инфо о датасете:\n",
      "<class 'pandas.core.frame.DataFrame'>\n",
      "RangeIndex: 123036 entries, 0 to 123035\n",
      "Data columns (total 3 columns):\n",
      "id              123036 non-null object\n",
      "message_date    123036 non-null object\n",
      "user_id         123036 non-null int64\n",
      "dtypes: int64(1), object(2)\n",
      "memory usage: 2.8+ MB\n",
      "Дубликатов: 0\n"
     ]
    }
   ],
   "source": [
    "print('Изначальное инфо о датасете:')\n",
    "data_messages.info() # инфо о датасете в целом\n",
    "print('Дубликатов:', data_messages.duplicated().sum()) # количество дубликатов"
   ]
  },
  {
   "cell_type": "markdown",
   "metadata": {},
   "source": [
    "Информация о датасете и количестве дубликатов."
   ]
  },
  {
   "cell_type": "code",
   "execution_count": 16,
   "metadata": {},
   "outputs": [],
   "source": [
    "# Добавление столбика \"месяц\"\n",
    "data_messages['message_date'] = pd.to_datetime(data_messages['message_date'])\n",
    "data_messages['month'] = data_messages['message_date'].dt.month\n",
    "data_messages = data_messages.drop(['message_date'], axis = 1)"
   ]
  },
  {
   "cell_type": "markdown",
   "metadata": {},
   "source": [
    "Разделение звонков по месяцам относительно даты в датафрейме, дабы потом по месяцам будем группировать в сводную таблицу. \n",
    "\n",
    "Удаляем ненужные значения и столбцы."
   ]
  },
  {
   "cell_type": "code",
   "execution_count": 17,
   "metadata": {},
   "outputs": [
    {
     "name": "stdout",
     "output_type": "stream",
     "text": [
      "Датасет после предобработки:\n"
     ]
    },
    {
     "data": {
      "text/html": [
       "<div>\n",
       "<style scoped>\n",
       "    .dataframe tbody tr th:only-of-type {\n",
       "        vertical-align: middle;\n",
       "    }\n",
       "\n",
       "    .dataframe tbody tr th {\n",
       "        vertical-align: top;\n",
       "    }\n",
       "\n",
       "    .dataframe thead th {\n",
       "        text-align: right;\n",
       "    }\n",
       "</style>\n",
       "<table border=\"1\" class=\"dataframe\">\n",
       "  <thead>\n",
       "    <tr style=\"text-align: right;\">\n",
       "      <th></th>\n",
       "      <th>user_id</th>\n",
       "      <th>month</th>\n",
       "    </tr>\n",
       "  </thead>\n",
       "  <tbody>\n",
       "    <tr>\n",
       "      <td>0</td>\n",
       "      <td>1000</td>\n",
       "      <td>6</td>\n",
       "    </tr>\n",
       "    <tr>\n",
       "      <td>1</td>\n",
       "      <td>1000</td>\n",
       "      <td>10</td>\n",
       "    </tr>\n",
       "    <tr>\n",
       "      <td>2</td>\n",
       "      <td>1000</td>\n",
       "      <td>8</td>\n",
       "    </tr>\n",
       "    <tr>\n",
       "      <td>3</td>\n",
       "      <td>1000</td>\n",
       "      <td>6</td>\n",
       "    </tr>\n",
       "    <tr>\n",
       "      <td>4</td>\n",
       "      <td>1000</td>\n",
       "      <td>12</td>\n",
       "    </tr>\n",
       "    <tr>\n",
       "      <td>5</td>\n",
       "      <td>1000</td>\n",
       "      <td>6</td>\n",
       "    </tr>\n",
       "    <tr>\n",
       "      <td>6</td>\n",
       "      <td>1000</td>\n",
       "      <td>11</td>\n",
       "    </tr>\n",
       "    <tr>\n",
       "      <td>7</td>\n",
       "      <td>1000</td>\n",
       "      <td>10</td>\n",
       "    </tr>\n",
       "    <tr>\n",
       "      <td>8</td>\n",
       "      <td>1000</td>\n",
       "      <td>6</td>\n",
       "    </tr>\n",
       "    <tr>\n",
       "      <td>9</td>\n",
       "      <td>1000</td>\n",
       "      <td>12</td>\n",
       "    </tr>\n",
       "  </tbody>\n",
       "</table>\n",
       "</div>"
      ],
      "text/plain": [
       "   user_id  month\n",
       "0     1000      6\n",
       "1     1000     10\n",
       "2     1000      8\n",
       "3     1000      6\n",
       "4     1000     12\n",
       "5     1000      6\n",
       "6     1000     11\n",
       "7     1000     10\n",
       "8     1000      6\n",
       "9     1000     12"
      ]
     },
     "execution_count": 17,
     "metadata": {},
     "output_type": "execute_result"
    }
   ],
   "source": [
    "data_messages = data_messages.drop(['id'], axis = 1)\n",
    "\n",
    "print('Датасет после предобработки:')\n",
    "data_messages.head(10)"
   ]
  },
  {
   "cell_type": "markdown",
   "metadata": {},
   "source": [
    "**Вывод и первичная предобработка**\n",
    "\n",
    "Всего 123036 уникальных значений без дубликатов.\n",
    "\n",
    "Добавляем столбец \"month\", необходимый для дальнейшей подготовки данных и удаляем столбец с датой, чтобы не мешался."
   ]
  },
  {
   "cell_type": "markdown",
   "metadata": {},
   "source": [
    "**Построение сводной таблицы, сгруппированной по user_id и month**"
   ]
  },
  {
   "cell_type": "code",
   "execution_count": 18,
   "metadata": {},
   "outputs": [
    {
     "data": {
      "text/html": [
       "<div>\n",
       "<style scoped>\n",
       "    .dataframe tbody tr th:only-of-type {\n",
       "        vertical-align: middle;\n",
       "    }\n",
       "\n",
       "    .dataframe tbody tr th {\n",
       "        vertical-align: top;\n",
       "    }\n",
       "\n",
       "    .dataframe thead th {\n",
       "        text-align: right;\n",
       "    }\n",
       "</style>\n",
       "<table border=\"1\" class=\"dataframe\">\n",
       "  <thead>\n",
       "    <tr style=\"text-align: right;\">\n",
       "      <th></th>\n",
       "      <th></th>\n",
       "      <th>messages_quantity</th>\n",
       "    </tr>\n",
       "    <tr>\n",
       "      <th>user_id</th>\n",
       "      <th>month</th>\n",
       "      <th></th>\n",
       "    </tr>\n",
       "  </thead>\n",
       "  <tbody>\n",
       "    <tr>\n",
       "      <td rowspan=\"8\" valign=\"top\">1000</td>\n",
       "      <td>5</td>\n",
       "      <td>22</td>\n",
       "    </tr>\n",
       "    <tr>\n",
       "      <td>6</td>\n",
       "      <td>60</td>\n",
       "    </tr>\n",
       "    <tr>\n",
       "      <td>7</td>\n",
       "      <td>75</td>\n",
       "    </tr>\n",
       "    <tr>\n",
       "      <td>8</td>\n",
       "      <td>81</td>\n",
       "    </tr>\n",
       "    <tr>\n",
       "      <td>9</td>\n",
       "      <td>57</td>\n",
       "    </tr>\n",
       "    <tr>\n",
       "      <td>10</td>\n",
       "      <td>73</td>\n",
       "    </tr>\n",
       "    <tr>\n",
       "      <td>11</td>\n",
       "      <td>58</td>\n",
       "    </tr>\n",
       "    <tr>\n",
       "      <td>12</td>\n",
       "      <td>70</td>\n",
       "    </tr>\n",
       "    <tr>\n",
       "      <td rowspan=\"2\" valign=\"top\">1002</td>\n",
       "      <td>6</td>\n",
       "      <td>4</td>\n",
       "    </tr>\n",
       "    <tr>\n",
       "      <td>7</td>\n",
       "      <td>11</td>\n",
       "    </tr>\n",
       "  </tbody>\n",
       "</table>\n",
       "</div>"
      ],
      "text/plain": [
       "               messages_quantity\n",
       "user_id month                   \n",
       "1000    5                     22\n",
       "        6                     60\n",
       "        7                     75\n",
       "        8                     81\n",
       "        9                     57\n",
       "        10                    73\n",
       "        11                    58\n",
       "        12                    70\n",
       "1002    6                      4\n",
       "        7                     11"
      ]
     },
     "execution_count": 18,
     "metadata": {},
     "output_type": "execute_result"
    }
   ],
   "source": [
    "data_messages['messages_quantity'] = 1 # добавление нового столбца дабы посчитать количество сообщений\n",
    "data_messages = pd.pivot_table(data_messages, index=['user_id', 'month'], aggfunc=np.sum)\n",
    "data_messages.head(10)"
   ]
  },
  {
   "cell_type": "code",
   "execution_count": 19,
   "metadata": {},
   "outputs": [
    {
     "name": "stdout",
     "output_type": "stream",
     "text": [
      "Процент нулевых значений в датасете с сообщениями: 0.0368052999631947\n"
     ]
    }
   ],
   "source": [
    "print('Процент нулевых значений в датасете с сообщениями:', len(data_messages.isna().sum())/ len(data_messages['messages_quantity']) * 100)"
   ]
  },
  {
   "cell_type": "markdown",
   "metadata": {},
   "source": [
    "# Инфа о тарифах"
   ]
  },
  {
   "cell_type": "code",
   "execution_count": 20,
   "metadata": {},
   "outputs": [
    {
     "name": "stdout",
     "output_type": "stream",
     "text": [
      "<class 'pandas.core.frame.DataFrame'>\n",
      "RangeIndex: 2 entries, 0 to 1\n",
      "Data columns (total 8 columns):\n",
      "messages_included        2 non-null int64\n",
      "mb_per_month_included    2 non-null int64\n",
      "minutes_included         2 non-null int64\n",
      "rub_monthly_fee          2 non-null int64\n",
      "rub_per_gb               2 non-null int64\n",
      "rub_per_message          2 non-null int64\n",
      "rub_per_minute           2 non-null int64\n",
      "tariff_name              2 non-null object\n",
      "dtypes: int64(7), object(1)\n",
      "memory usage: 256.0+ bytes\n"
     ]
    },
    {
     "data": {
      "text/html": [
       "<div>\n",
       "<style scoped>\n",
       "    .dataframe tbody tr th:only-of-type {\n",
       "        vertical-align: middle;\n",
       "    }\n",
       "\n",
       "    .dataframe tbody tr th {\n",
       "        vertical-align: top;\n",
       "    }\n",
       "\n",
       "    .dataframe thead th {\n",
       "        text-align: right;\n",
       "    }\n",
       "</style>\n",
       "<table border=\"1\" class=\"dataframe\">\n",
       "  <thead>\n",
       "    <tr style=\"text-align: right;\">\n",
       "      <th></th>\n",
       "      <th>messages_included</th>\n",
       "      <th>mb_per_month_included</th>\n",
       "      <th>minutes_included</th>\n",
       "      <th>rub_monthly_fee</th>\n",
       "      <th>rub_per_gb</th>\n",
       "      <th>rub_per_message</th>\n",
       "      <th>rub_per_minute</th>\n",
       "      <th>tariff_name</th>\n",
       "    </tr>\n",
       "  </thead>\n",
       "  <tbody>\n",
       "    <tr>\n",
       "      <td>0</td>\n",
       "      <td>50</td>\n",
       "      <td>15360</td>\n",
       "      <td>500</td>\n",
       "      <td>550</td>\n",
       "      <td>200</td>\n",
       "      <td>3</td>\n",
       "      <td>3</td>\n",
       "      <td>smart</td>\n",
       "    </tr>\n",
       "    <tr>\n",
       "      <td>1</td>\n",
       "      <td>1000</td>\n",
       "      <td>30720</td>\n",
       "      <td>3000</td>\n",
       "      <td>1950</td>\n",
       "      <td>150</td>\n",
       "      <td>1</td>\n",
       "      <td>1</td>\n",
       "      <td>ultra</td>\n",
       "    </tr>\n",
       "  </tbody>\n",
       "</table>\n",
       "</div>"
      ],
      "text/plain": [
       "   messages_included  mb_per_month_included  minutes_included  \\\n",
       "0                 50                  15360               500   \n",
       "1               1000                  30720              3000   \n",
       "\n",
       "   rub_monthly_fee  rub_per_gb  rub_per_message  rub_per_minute tariff_name  \n",
       "0              550         200                3               3       smart  \n",
       "1             1950         150                1               1       ultra  "
      ]
     },
     "execution_count": 20,
     "metadata": {},
     "output_type": "execute_result"
    }
   ],
   "source": [
    "data_tariffs.info()\n",
    "data_tariffs"
   ]
  },
  {
   "cell_type": "markdown",
   "metadata": {},
   "source": [
    "# Данные о пользователях"
   ]
  },
  {
   "cell_type": "code",
   "execution_count": 21,
   "metadata": {},
   "outputs": [
    {
     "name": "stdout",
     "output_type": "stream",
     "text": [
      "Изначальное инфо о датасете:\n",
      "<class 'pandas.core.frame.DataFrame'>\n",
      "RangeIndex: 500 entries, 0 to 499\n",
      "Data columns (total 8 columns):\n",
      "user_id       500 non-null int64\n",
      "age           500 non-null int64\n",
      "churn_date    38 non-null object\n",
      "city          500 non-null object\n",
      "first_name    500 non-null object\n",
      "last_name     500 non-null object\n",
      "reg_date      500 non-null object\n",
      "tariff        500 non-null object\n",
      "dtypes: int64(2), object(6)\n",
      "memory usage: 31.4+ KB\n",
      "Дубликатов: 0\n",
      "smart    351\n",
      "ultra    149\n",
      "Name: tariff, dtype: int64\n",
      "Датасет после предобработки:\n"
     ]
    },
    {
     "data": {
      "text/html": [
       "<div>\n",
       "<style scoped>\n",
       "    .dataframe tbody tr th:only-of-type {\n",
       "        vertical-align: middle;\n",
       "    }\n",
       "\n",
       "    .dataframe tbody tr th {\n",
       "        vertical-align: top;\n",
       "    }\n",
       "\n",
       "    .dataframe thead th {\n",
       "        text-align: right;\n",
       "    }\n",
       "</style>\n",
       "<table border=\"1\" class=\"dataframe\">\n",
       "  <thead>\n",
       "    <tr style=\"text-align: right;\">\n",
       "      <th></th>\n",
       "      <th>user_id</th>\n",
       "      <th>age</th>\n",
       "      <th>churn_date</th>\n",
       "      <th>city</th>\n",
       "      <th>first_name</th>\n",
       "      <th>last_name</th>\n",
       "      <th>reg_date</th>\n",
       "      <th>tariff</th>\n",
       "    </tr>\n",
       "  </thead>\n",
       "  <tbody>\n",
       "    <tr>\n",
       "      <td>0</td>\n",
       "      <td>1000</td>\n",
       "      <td>52</td>\n",
       "      <td>NaN</td>\n",
       "      <td>Краснодар</td>\n",
       "      <td>Рафаил</td>\n",
       "      <td>Верещагин</td>\n",
       "      <td>2018-05-25</td>\n",
       "      <td>ultra</td>\n",
       "    </tr>\n",
       "    <tr>\n",
       "      <td>1</td>\n",
       "      <td>1001</td>\n",
       "      <td>41</td>\n",
       "      <td>NaN</td>\n",
       "      <td>Москва</td>\n",
       "      <td>Иван</td>\n",
       "      <td>Ежов</td>\n",
       "      <td>2018-11-01</td>\n",
       "      <td>smart</td>\n",
       "    </tr>\n",
       "    <tr>\n",
       "      <td>2</td>\n",
       "      <td>1002</td>\n",
       "      <td>59</td>\n",
       "      <td>NaN</td>\n",
       "      <td>Стерлитамак</td>\n",
       "      <td>Евгений</td>\n",
       "      <td>Абрамович</td>\n",
       "      <td>2018-06-17</td>\n",
       "      <td>smart</td>\n",
       "    </tr>\n",
       "    <tr>\n",
       "      <td>3</td>\n",
       "      <td>1003</td>\n",
       "      <td>23</td>\n",
       "      <td>NaN</td>\n",
       "      <td>Москва</td>\n",
       "      <td>Белла</td>\n",
       "      <td>Белякова</td>\n",
       "      <td>2018-08-17</td>\n",
       "      <td>ultra</td>\n",
       "    </tr>\n",
       "    <tr>\n",
       "      <td>4</td>\n",
       "      <td>1004</td>\n",
       "      <td>68</td>\n",
       "      <td>NaN</td>\n",
       "      <td>Новокузнецк</td>\n",
       "      <td>Татьяна</td>\n",
       "      <td>Авдеенко</td>\n",
       "      <td>2018-05-14</td>\n",
       "      <td>ultra</td>\n",
       "    </tr>\n",
       "    <tr>\n",
       "      <td>5</td>\n",
       "      <td>1005</td>\n",
       "      <td>67</td>\n",
       "      <td>NaN</td>\n",
       "      <td>Набережные Челны</td>\n",
       "      <td>Афанасий</td>\n",
       "      <td>Горлов</td>\n",
       "      <td>2018-01-25</td>\n",
       "      <td>smart</td>\n",
       "    </tr>\n",
       "    <tr>\n",
       "      <td>6</td>\n",
       "      <td>1006</td>\n",
       "      <td>21</td>\n",
       "      <td>NaN</td>\n",
       "      <td>Ульяновск</td>\n",
       "      <td>Леонид</td>\n",
       "      <td>Ермолаев</td>\n",
       "      <td>2018-02-26</td>\n",
       "      <td>smart</td>\n",
       "    </tr>\n",
       "    <tr>\n",
       "      <td>7</td>\n",
       "      <td>1007</td>\n",
       "      <td>65</td>\n",
       "      <td>NaN</td>\n",
       "      <td>Москва</td>\n",
       "      <td>Юна</td>\n",
       "      <td>Березина</td>\n",
       "      <td>2018-04-19</td>\n",
       "      <td>smart</td>\n",
       "    </tr>\n",
       "    <tr>\n",
       "      <td>8</td>\n",
       "      <td>1008</td>\n",
       "      <td>63</td>\n",
       "      <td>NaN</td>\n",
       "      <td>Челябинск</td>\n",
       "      <td>Рустэм</td>\n",
       "      <td>Пономарёв</td>\n",
       "      <td>2018-12-19</td>\n",
       "      <td>smart</td>\n",
       "    </tr>\n",
       "    <tr>\n",
       "      <td>9</td>\n",
       "      <td>1009</td>\n",
       "      <td>24</td>\n",
       "      <td>NaN</td>\n",
       "      <td>Пермь</td>\n",
       "      <td>Василиса</td>\n",
       "      <td>Блинова</td>\n",
       "      <td>2018-03-22</td>\n",
       "      <td>smart</td>\n",
       "    </tr>\n",
       "  </tbody>\n",
       "</table>\n",
       "</div>"
      ],
      "text/plain": [
       "   user_id  age churn_date              city first_name  last_name  \\\n",
       "0     1000   52        NaN         Краснодар     Рафаил  Верещагин   \n",
       "1     1001   41        NaN            Москва       Иван       Ежов   \n",
       "2     1002   59        NaN       Стерлитамак    Евгений  Абрамович   \n",
       "3     1003   23        NaN            Москва      Белла   Белякова   \n",
       "4     1004   68        NaN       Новокузнецк    Татьяна   Авдеенко   \n",
       "5     1005   67        NaN  Набережные Челны   Афанасий     Горлов   \n",
       "6     1006   21        NaN         Ульяновск     Леонид   Ермолаев   \n",
       "7     1007   65        NaN            Москва        Юна   Березина   \n",
       "8     1008   63        NaN         Челябинск     Рустэм  Пономарёв   \n",
       "9     1009   24        NaN             Пермь   Василиса    Блинова   \n",
       "\n",
       "     reg_date tariff  \n",
       "0  2018-05-25  ultra  \n",
       "1  2018-11-01  smart  \n",
       "2  2018-06-17  smart  \n",
       "3  2018-08-17  ultra  \n",
       "4  2018-05-14  ultra  \n",
       "5  2018-01-25  smart  \n",
       "6  2018-02-26  smart  \n",
       "7  2018-04-19  smart  \n",
       "8  2018-12-19  smart  \n",
       "9  2018-03-22  smart  "
      ]
     },
     "execution_count": 21,
     "metadata": {},
     "output_type": "execute_result"
    }
   ],
   "source": [
    "print('Изначальное инфо о датасете:')\n",
    "data_users.info() # инфо о датасете в целом\n",
    "print('Дубликатов:', data_users.duplicated().sum()) # количество дубликатов\n",
    "print(data_users['tariff'].value_counts()) # чтобы понять, сколько людей каким тарифом пользуются\n",
    "\n",
    "print('Датасет после предобработки:')\n",
    "data_users.head(10)"
   ]
  },
  {
   "cell_type": "markdown",
   "metadata": {},
   "source": [
    "**Для подготовки данных**"
   ]
  },
  {
   "cell_type": "code",
   "execution_count": 22,
   "metadata": {},
   "outputs": [],
   "source": [
    "ind = list(range(1000, 1500))\n",
    "data_users.index = ind\n",
    "data_users_ultra = list(data_users[data_users['tariff'] == 'ultra'].index)"
   ]
  },
  {
   "cell_type": "markdown",
   "metadata": {},
   "source": [
    "Создаем список из значений, равных id пользователей и внедряем его в индекс подготовленного датафрейма (в будущем). Это все делается для того, чтобы позднее можно было обратиться к id через индекс и получить его как столбец с помощью reset_index().\n",
    "\n",
    "После создаем список юзеров с тарифом ультра дабы с помощью него заполнить столбец tariff в итоговом датафрейме, чтобы облегчить последующий анализ и все остальное."
   ]
  },
  {
   "cell_type": "markdown",
   "metadata": {},
   "source": [
    "## Подготовка данных"
   ]
  },
  {
   "cell_type": "markdown",
   "metadata": {},
   "source": [
    "**Объединение таблиц в одну и добавление столбца с тарифами**"
   ]
  },
  {
   "cell_type": "code",
   "execution_count": 23,
   "metadata": {},
   "outputs": [
    {
     "name": "stderr",
     "output_type": "stream",
     "text": [
      "/opt/conda/lib/python3.7/site-packages/ipykernel_launcher.py:12: SettingWithCopyWarning: \n",
      "A value is trying to be set on a copy of a slice from a DataFrame\n",
      "\n",
      "See the caveats in the documentation: http://pandas.pydata.org/pandas-docs/stable/user_guide/indexing.html#returning-a-view-versus-a-copy\n",
      "  if sys.path[0] == '':\n"
     ]
    },
    {
     "data": {
      "text/html": [
       "<div>\n",
       "<style scoped>\n",
       "    .dataframe tbody tr th:only-of-type {\n",
       "        vertical-align: middle;\n",
       "    }\n",
       "\n",
       "    .dataframe tbody tr th {\n",
       "        vertical-align: top;\n",
       "    }\n",
       "\n",
       "    .dataframe thead th {\n",
       "        text-align: right;\n",
       "    }\n",
       "</style>\n",
       "<table border=\"1\" class=\"dataframe\">\n",
       "  <thead>\n",
       "    <tr style=\"text-align: right;\">\n",
       "      <th></th>\n",
       "      <th></th>\n",
       "      <th>calls_duration</th>\n",
       "      <th>calls_quantity</th>\n",
       "      <th>gb_used</th>\n",
       "      <th>messages_quantity</th>\n",
       "      <th>tariff</th>\n",
       "    </tr>\n",
       "    <tr>\n",
       "      <th>user_id</th>\n",
       "      <th>month</th>\n",
       "      <th></th>\n",
       "      <th></th>\n",
       "      <th></th>\n",
       "      <th></th>\n",
       "      <th></th>\n",
       "    </tr>\n",
       "  </thead>\n",
       "  <tbody>\n",
       "    <tr>\n",
       "      <td rowspan=\"8\" valign=\"top\">1000</td>\n",
       "      <td>5</td>\n",
       "      <td>159.0</td>\n",
       "      <td>17.0</td>\n",
       "      <td>3.0</td>\n",
       "      <td>22.0</td>\n",
       "      <td>ultra</td>\n",
       "    </tr>\n",
       "    <tr>\n",
       "      <td>6</td>\n",
       "      <td>172.0</td>\n",
       "      <td>28.0</td>\n",
       "      <td>23.0</td>\n",
       "      <td>60.0</td>\n",
       "      <td>ultra</td>\n",
       "    </tr>\n",
       "    <tr>\n",
       "      <td>7</td>\n",
       "      <td>340.0</td>\n",
       "      <td>41.0</td>\n",
       "      <td>14.0</td>\n",
       "      <td>75.0</td>\n",
       "      <td>ultra</td>\n",
       "    </tr>\n",
       "    <tr>\n",
       "      <td>8</td>\n",
       "      <td>408.0</td>\n",
       "      <td>42.0</td>\n",
       "      <td>14.0</td>\n",
       "      <td>81.0</td>\n",
       "      <td>ultra</td>\n",
       "    </tr>\n",
       "    <tr>\n",
       "      <td>9</td>\n",
       "      <td>466.0</td>\n",
       "      <td>46.0</td>\n",
       "      <td>15.0</td>\n",
       "      <td>57.0</td>\n",
       "      <td>ultra</td>\n",
       "    </tr>\n",
       "    <tr>\n",
       "      <td>10</td>\n",
       "      <td>350.0</td>\n",
       "      <td>44.0</td>\n",
       "      <td>15.0</td>\n",
       "      <td>73.0</td>\n",
       "      <td>ultra</td>\n",
       "    </tr>\n",
       "    <tr>\n",
       "      <td>11</td>\n",
       "      <td>338.0</td>\n",
       "      <td>37.0</td>\n",
       "      <td>15.0</td>\n",
       "      <td>58.0</td>\n",
       "      <td>ultra</td>\n",
       "    </tr>\n",
       "    <tr>\n",
       "      <td>12</td>\n",
       "      <td>333.0</td>\n",
       "      <td>38.0</td>\n",
       "      <td>10.0</td>\n",
       "      <td>70.0</td>\n",
       "      <td>ultra</td>\n",
       "    </tr>\n",
       "    <tr>\n",
       "      <td rowspan=\"2\" valign=\"top\">1001</td>\n",
       "      <td>11</td>\n",
       "      <td>430.0</td>\n",
       "      <td>45.0</td>\n",
       "      <td>18.0</td>\n",
       "      <td>NaN</td>\n",
       "      <td>smart</td>\n",
       "    </tr>\n",
       "    <tr>\n",
       "      <td>12</td>\n",
       "      <td>414.0</td>\n",
       "      <td>47.0</td>\n",
       "      <td>14.0</td>\n",
       "      <td>NaN</td>\n",
       "      <td>smart</td>\n",
       "    </tr>\n",
       "  </tbody>\n",
       "</table>\n",
       "</div>"
      ],
      "text/plain": [
       "               calls_duration  calls_quantity  gb_used  messages_quantity  \\\n",
       "user_id month                                                               \n",
       "1000    5               159.0            17.0      3.0               22.0   \n",
       "        6               172.0            28.0     23.0               60.0   \n",
       "        7               340.0            41.0     14.0               75.0   \n",
       "        8               408.0            42.0     14.0               81.0   \n",
       "        9               466.0            46.0     15.0               57.0   \n",
       "        10              350.0            44.0     15.0               73.0   \n",
       "        11              338.0            37.0     15.0               58.0   \n",
       "        12              333.0            38.0     10.0               70.0   \n",
       "1001    11              430.0            45.0     18.0                NaN   \n",
       "        12              414.0            47.0     14.0                NaN   \n",
       "\n",
       "              tariff  \n",
       "user_id month         \n",
       "1000    5      ultra  \n",
       "        6      ultra  \n",
       "        7      ultra  \n",
       "        8      ultra  \n",
       "        9      ultra  \n",
       "        10     ultra  \n",
       "        11     ultra  \n",
       "        12     ultra  \n",
       "1001    11     smart  \n",
       "        12     smart  "
      ]
     },
     "execution_count": 23,
     "metadata": {},
     "output_type": "execute_result"
    }
   ],
   "source": [
    "data = data_calls.join(data_internet, how='outer')\n",
    "data = data.join(data_messages, how='outer')\n",
    "data['id'] = data.index\n",
    "id = []\n",
    "for i in range(len(list(data['id']))):\n",
    "    id.append(list(data['id'])[i][0])\n",
    "data['id'] = id\n",
    "data.head(10)\n",
    "data['tariff'] = 'smart'\n",
    "for id in data['id']:\n",
    "    if id in data_users_ultra:\n",
    "        data['tariff'][id] = 'ultra'\n",
    "\n",
    "data = data.drop(['id'], axis=1)\n",
    "data.head(10)"
   ]
  },
  {
   "cell_type": "code",
   "execution_count": 24,
   "metadata": {},
   "outputs": [
    {
     "name": "stdout",
     "output_type": "stream",
     "text": [
      "<class 'pandas.core.frame.DataFrame'>\n",
      "MultiIndex: 3214 entries, (1000, 5) to (1499, 12)\n",
      "Data columns (total 5 columns):\n",
      "calls_duration       3168 non-null float64\n",
      "calls_quantity       3168 non-null float64\n",
      "gb_used              3201 non-null float64\n",
      "messages_quantity    2717 non-null float64\n",
      "tariff               3214 non-null object\n",
      "dtypes: float64(4), object(1)\n",
      "memory usage: 159.1+ KB\n"
     ]
    }
   ],
   "source": [
    "data.info()"
   ]
  },
  {
   "cell_type": "markdown",
   "metadata": {},
   "source": [
    "Для облегчения последующего рассчета столбца помесячной выручки с каждого пользователя создадим столбец с названием тарифа."
   ]
  },
  {
   "cell_type": "code",
   "execution_count": 25,
   "metadata": {
    "scrolled": true
   },
   "outputs": [
    {
     "name": "stdout",
     "output_type": "stream",
     "text": [
      "<class 'pandas.core.frame.DataFrame'>\n",
      "MultiIndex: 3214 entries, (1000, 5) to (1499, 12)\n",
      "Data columns (total 5 columns):\n",
      "calls_duration       3214 non-null float64\n",
      "calls_quantity       3214 non-null float64\n",
      "gb_used              3214 non-null float64\n",
      "messages_quantity    3214 non-null float64\n",
      "tariff               3214 non-null object\n",
      "dtypes: float64(4), object(1)\n",
      "memory usage: 159.1+ KB\n"
     ]
    }
   ],
   "source": [
    "data = data.fillna(0)\n",
    "data.info()"
   ]
  },
  {
   "cell_type": "markdown",
   "metadata": {},
   "source": [
    "Столбцы с отсутствующими данными заполним нулями, из рассчета, что, если данных нет, значит абонент тот или иной вид связи не использовал."
   ]
  },
  {
   "cell_type": "markdown",
   "metadata": {},
   "source": [
    "**Изменение типов данных в таблице**"
   ]
  },
  {
   "cell_type": "code",
   "execution_count": 26,
   "metadata": {},
   "outputs": [],
   "source": [
    "data['calls_duration'] = data['calls_duration'].astype('int64')\n",
    "data['calls_quantity'] = data['calls_quantity'].astype('int64')\n",
    "data['gb_used'] = data['gb_used'].astype('int64')\n",
    "data['messages_quantity'] = data['messages_quantity'].astype('int64')"
   ]
  },
  {
   "cell_type": "markdown",
   "metadata": {},
   "source": [
    "**Добавление столбца помесячной выручки с каждого пользователя**"
   ]
  },
  {
   "cell_type": "code",
   "execution_count": 27,
   "metadata": {},
   "outputs": [],
   "source": [
    "def month_income(row):\n",
    "    if row['tariff'] == 'smart':\n",
    "        result = 550\n",
    "    if row['tariff'] == 'ultra':\n",
    "        result = 1950\n",
    "    return result\n",
    "        \n",
    "data['month_income'] = data.apply(month_income, axis = 1)\n",
    "\n",
    "def month_income_smart(row):\n",
    "    calls_duration = row.calls_duration\n",
    "    messages_quantity = row.messages_quantity\n",
    "    gb_used = row.gb_used\n",
    "    a = 500\n",
    "    a1 = 3\n",
    "    b = 50 \n",
    "    b1 = 3\n",
    "    c = 15\n",
    "    c1 = 200\n",
    "    result = 550 \n",
    "    minutes = (calls_duration - a) * a1\n",
    "    messages = (messages_quantity - b) * b1\n",
    "    gb = (gb_used - c) * c1\n",
    "    if minutes >= 0:\n",
    "        result += minutes\n",
    "    if messages >= 0:\n",
    "        result += messages\n",
    "    if gb >= 0:\n",
    "        result += gb\n",
    "    return result\n",
    "\n",
    "def month_income_ultra(row):\n",
    "    calls_duration = row.calls_duration\n",
    "    messages_quantity = row.messages_quantity\n",
    "    gb_used = row.gb_used\n",
    "    a = 3000\n",
    "    a1 = 1\n",
    "    b = 1000\n",
    "    b1 = 1\n",
    "    c = 30\n",
    "    c1 = 150\n",
    "    result = 1950\n",
    "    minutes = (calls_duration - a) * a1\n",
    "    messages = (messages_quantity - b) * b1\n",
    "    gb = (gb_used - c) * c1\n",
    "    if minutes >= 0:\n",
    "        result += minutes\n",
    "    if messages >= 0:\n",
    "        result += messages\n",
    "    if gb >= 0:\n",
    "        result += gb\n",
    "    return result\n",
    "\n",
    "new_column = []\n",
    "for i in range(len(data)):\n",
    "    if data.iloc[i].month_income == data_tariffs['rub_monthly_fee'][0]:\n",
    "        k = month_income_smart(data.iloc[i])\n",
    "    if data.iloc[i].month_income == data_tariffs['rub_monthly_fee'][1]:\n",
    "        k = month_income_ultra(data.iloc[i])\n",
    "    new_column.append(k)\n",
    "\n",
    "data['month_income'] = new_column"
   ]
  },
  {
   "cell_type": "code",
   "execution_count": 28,
   "metadata": {
    "scrolled": false
   },
   "outputs": [
    {
     "data": {
      "text/html": [
       "<div>\n",
       "<style scoped>\n",
       "    .dataframe tbody tr th:only-of-type {\n",
       "        vertical-align: middle;\n",
       "    }\n",
       "\n",
       "    .dataframe tbody tr th {\n",
       "        vertical-align: top;\n",
       "    }\n",
       "\n",
       "    .dataframe thead th {\n",
       "        text-align: right;\n",
       "    }\n",
       "</style>\n",
       "<table border=\"1\" class=\"dataframe\">\n",
       "  <thead>\n",
       "    <tr style=\"text-align: right;\">\n",
       "      <th></th>\n",
       "      <th></th>\n",
       "      <th>calls_duration</th>\n",
       "      <th>calls_quantity</th>\n",
       "      <th>gb_used</th>\n",
       "      <th>messages_quantity</th>\n",
       "      <th>tariff</th>\n",
       "      <th>month_income</th>\n",
       "    </tr>\n",
       "    <tr>\n",
       "      <th>user_id</th>\n",
       "      <th>month</th>\n",
       "      <th></th>\n",
       "      <th></th>\n",
       "      <th></th>\n",
       "      <th></th>\n",
       "      <th></th>\n",
       "      <th></th>\n",
       "    </tr>\n",
       "  </thead>\n",
       "  <tbody>\n",
       "    <tr>\n",
       "      <td rowspan=\"8\" valign=\"top\">1000</td>\n",
       "      <td>5</td>\n",
       "      <td>159</td>\n",
       "      <td>17</td>\n",
       "      <td>3</td>\n",
       "      <td>22</td>\n",
       "      <td>ultra</td>\n",
       "      <td>1950</td>\n",
       "    </tr>\n",
       "    <tr>\n",
       "      <td>6</td>\n",
       "      <td>172</td>\n",
       "      <td>28</td>\n",
       "      <td>23</td>\n",
       "      <td>60</td>\n",
       "      <td>ultra</td>\n",
       "      <td>1950</td>\n",
       "    </tr>\n",
       "    <tr>\n",
       "      <td>7</td>\n",
       "      <td>340</td>\n",
       "      <td>41</td>\n",
       "      <td>14</td>\n",
       "      <td>75</td>\n",
       "      <td>ultra</td>\n",
       "      <td>1950</td>\n",
       "    </tr>\n",
       "    <tr>\n",
       "      <td>8</td>\n",
       "      <td>408</td>\n",
       "      <td>42</td>\n",
       "      <td>14</td>\n",
       "      <td>81</td>\n",
       "      <td>ultra</td>\n",
       "      <td>1950</td>\n",
       "    </tr>\n",
       "    <tr>\n",
       "      <td>9</td>\n",
       "      <td>466</td>\n",
       "      <td>46</td>\n",
       "      <td>15</td>\n",
       "      <td>57</td>\n",
       "      <td>ultra</td>\n",
       "      <td>1950</td>\n",
       "    </tr>\n",
       "    <tr>\n",
       "      <td>10</td>\n",
       "      <td>350</td>\n",
       "      <td>44</td>\n",
       "      <td>15</td>\n",
       "      <td>73</td>\n",
       "      <td>ultra</td>\n",
       "      <td>1950</td>\n",
       "    </tr>\n",
       "    <tr>\n",
       "      <td>11</td>\n",
       "      <td>338</td>\n",
       "      <td>37</td>\n",
       "      <td>15</td>\n",
       "      <td>58</td>\n",
       "      <td>ultra</td>\n",
       "      <td>1950</td>\n",
       "    </tr>\n",
       "    <tr>\n",
       "      <td>12</td>\n",
       "      <td>333</td>\n",
       "      <td>38</td>\n",
       "      <td>10</td>\n",
       "      <td>70</td>\n",
       "      <td>ultra</td>\n",
       "      <td>1950</td>\n",
       "    </tr>\n",
       "    <tr>\n",
       "      <td rowspan=\"2\" valign=\"top\">1001</td>\n",
       "      <td>11</td>\n",
       "      <td>430</td>\n",
       "      <td>45</td>\n",
       "      <td>18</td>\n",
       "      <td>0</td>\n",
       "      <td>smart</td>\n",
       "      <td>1150</td>\n",
       "    </tr>\n",
       "    <tr>\n",
       "      <td>12</td>\n",
       "      <td>414</td>\n",
       "      <td>47</td>\n",
       "      <td>14</td>\n",
       "      <td>0</td>\n",
       "      <td>smart</td>\n",
       "      <td>550</td>\n",
       "    </tr>\n",
       "  </tbody>\n",
       "</table>\n",
       "</div>"
      ],
      "text/plain": [
       "               calls_duration  calls_quantity  gb_used  messages_quantity  \\\n",
       "user_id month                                                               \n",
       "1000    5                 159              17        3                 22   \n",
       "        6                 172              28       23                 60   \n",
       "        7                 340              41       14                 75   \n",
       "        8                 408              42       14                 81   \n",
       "        9                 466              46       15                 57   \n",
       "        10                350              44       15                 73   \n",
       "        11                338              37       15                 58   \n",
       "        12                333              38       10                 70   \n",
       "1001    11                430              45       18                  0   \n",
       "        12                414              47       14                  0   \n",
       "\n",
       "              tariff  month_income  \n",
       "user_id month                       \n",
       "1000    5      ultra          1950  \n",
       "        6      ultra          1950  \n",
       "        7      ultra          1950  \n",
       "        8      ultra          1950  \n",
       "        9      ultra          1950  \n",
       "        10     ultra          1950  \n",
       "        11     ultra          1950  \n",
       "        12     ultra          1950  \n",
       "1001    11     smart          1150  \n",
       "        12     smart           550  "
      ]
     },
     "execution_count": 28,
     "metadata": {},
     "output_type": "execute_result"
    }
   ],
   "source": [
    "data.head(10)"
   ]
  },
  {
   "cell_type": "markdown",
   "metadata": {},
   "source": [
    "Путем заполнения столбика с помощью функций мы получили столбец со значениями выручки с каждого пользователя (месячный платеж + плата за услуги сверх тарифного плана, если они имеются)."
   ]
  },
  {
   "cell_type": "code",
   "execution_count": 29,
   "metadata": {},
   "outputs": [
    {
     "data": {
      "text/plain": [
       "count    3214.000000\n",
       "mean     1529.076229\n",
       "std       798.251091\n",
       "min       550.000000\n",
       "25%       750.000000\n",
       "50%      1653.500000\n",
       "75%      1950.000000\n",
       "max      6770.000000\n",
       "Name: month_income, dtype: float64"
      ]
     },
     "execution_count": 29,
     "metadata": {},
     "output_type": "execute_result"
    }
   ],
   "source": [
    "data['month_income'].describe()"
   ]
  },
  {
   "cell_type": "markdown",
   "metadata": {},
   "source": [
    "## Анализ данных"
   ]
  },
  {
   "cell_type": "markdown",
   "metadata": {},
   "source": [
    "Опишите поведение клиентов оператора, исходя из выборки. Сколько минут разговора, сколько сообщений и какой объём интернет-трафика требуется пользователям каждого тарифа в месяц? Посчитайте среднее количество, дисперсию и стандартное отклонение. Постройте гистограммы. Опишите распределения."
   ]
  },
  {
   "cell_type": "code",
   "execution_count": 30,
   "metadata": {},
   "outputs": [],
   "source": [
    "smart = data.query('tariff == \"smart\"')\n",
    "ultra = data.query('tariff == \"ultra\"')"
   ]
  },
  {
   "cell_type": "markdown",
   "metadata": {},
   "source": [
    "**Минуты разговора**"
   ]
  },
  {
   "cell_type": "markdown",
   "metadata": {},
   "source": [
    "Smart"
   ]
  },
  {
   "cell_type": "code",
   "execution_count": 31,
   "metadata": {},
   "outputs": [
    {
     "name": "stdout",
     "output_type": "stream",
     "text": [
      "Среднее количество = 417.9349484073576\n",
      "Дисперсия = 36203.06665209469\n",
      "Стандартное отклонение = 190.31372988921288\n"
     ]
    },
    {
     "data": {
      "text/plain": [
       "(array([ 30.,  29.,  34.,  41.,  43.,  53.,  66.,  83.,  84., 103., 105.,\n",
       "        108., 127., 119., 115., 136., 141., 122., 130., 105.,  83.,  86.,\n",
       "         62.,  51.,  41.,  40.,  25.,  14.,   7.,  12.,   9.,   4.,   3.,\n",
       "          3.,   2.,   2.,   0.,   1.,   0.,   1.,   0.,   0.,   0.,   0.,\n",
       "          0.,   0.,   0.,   0.,   0.,   1.]),\n",
       " array([   2.  ,   30.66,   59.32,   87.98,  116.64,  145.3 ,  173.96,\n",
       "         202.62,  231.28,  259.94,  288.6 ,  317.26,  345.92,  374.58,\n",
       "         403.24,  431.9 ,  460.56,  489.22,  517.88,  546.54,  575.2 ,\n",
       "         603.86,  632.52,  661.18,  689.84,  718.5 ,  747.16,  775.82,\n",
       "         804.48,  833.14,  861.8 ,  890.46,  919.12,  947.78,  976.44,\n",
       "        1005.1 , 1033.76, 1062.42, 1091.08, 1119.74, 1148.4 , 1177.06,\n",
       "        1205.72, 1234.38, 1263.04, 1291.7 , 1320.36, 1349.02, 1377.68,\n",
       "        1406.34, 1435.  ]),\n",
       " <a list of 50 Patch objects>)"
      ]
     },
     "execution_count": 31,
     "metadata": {},
     "output_type": "execute_result"
    },
    {
     "data": {
      "image/png": "[encoded data removed]",
      "text/plain": [
       "<Figure size 432x288 with 1 Axes>"
      ]
     },
     "metadata": {
      "needs_background": "light"
     },
     "output_type": "display_data"
    }
   ],
   "source": [
    "print('Среднее количество =', smart['calls_duration'].describe()[1])\n",
    "print('Дисперсия =', np.var(smart['calls_duration']))\n",
    "print('Стандартное отклонение =', smart['calls_duration'].describe()[2])\n",
    "\n",
    "plt.title(\"Минуты разговора. Тариф Smart.\")\n",
    "plt.xlabel(\"Минуты разговора\")\n",
    "plt.ylabel(\"Число значений данного количества минут\")\n",
    "plt.hist(smart['calls_duration'][smart['calls_duration'] > 0], bins=50)"
   ]
  },
  {
   "cell_type": "markdown",
   "metadata": {},
   "source": [
    "Датасет с отрицательной скошенностью"
   ]
  },
  {
   "cell_type": "markdown",
   "metadata": {},
   "source": [
    "Достаточно много пользователей не укладываются в лимит и переплачивают за звонки. Большинство, все же, старается войти в лимит, но само среднее значение (которое можно интерпретировать как число минут, необходимых пользователям данного тарифа в месяц) находится близко к \"границе дозволенного\".\n",
    "\n",
    "Пользователи не потребляют услуги хаотично, так как датасет напоминает датасет нормального распределения с отрицательной скошенностью."
   ]
  },
  {
   "cell_type": "markdown",
   "metadata": {},
   "source": [
    "Ultra"
   ]
  },
  {
   "cell_type": "code",
   "execution_count": 32,
   "metadata": {},
   "outputs": [
    {
     "name": "stdout",
     "output_type": "stream",
     "text": [
      "Среднее количество = 526.6233502538071\n",
      "Дисперсия = 100771.2236172022\n",
      "Стандартное отклонение = 317.6060978591264\n"
     ]
    },
    {
     "data": {
      "text/plain": [
       "(array([19., 21., 25., 22., 22., 20., 27., 33., 33., 38., 33., 38., 29.,\n",
       "        40., 36., 46., 43., 33., 38., 28., 36., 27., 37., 23., 38., 36.,\n",
       "        14., 15., 14.,  9., 11.,  9.,  8.,  7.,  5.,  6., 10.,  4.,  5.,\n",
       "         4.,  1.,  1.,  1.,  0.,  0.,  0.,  0.,  0.,  1.,  1.]),\n",
       " array([1.00000e+00, 3.44400e+01, 6.78800e+01, 1.01320e+02, 1.34760e+02,\n",
       "        1.68200e+02, 2.01640e+02, 2.35080e+02, 2.68520e+02, 3.01960e+02,\n",
       "        3.35400e+02, 3.68840e+02, 4.02280e+02, 4.35720e+02, 4.69160e+02,\n",
       "        5.02600e+02, 5.36040e+02, 5.69480e+02, 6.02920e+02, 6.36360e+02,\n",
       "        6.69800e+02, 7.03240e+02, 7.36680e+02, 7.70120e+02, 8.03560e+02,\n",
       "        8.37000e+02, 8.70440e+02, 9.03880e+02, 9.37320e+02, 9.70760e+02,\n",
       "        1.00420e+03, 1.03764e+03, 1.07108e+03, 1.10452e+03, 1.13796e+03,\n",
       "        1.17140e+03, 1.20484e+03, 1.23828e+03, 1.27172e+03, 1.30516e+03,\n",
       "        1.33860e+03, 1.37204e+03, 1.40548e+03, 1.43892e+03, 1.47236e+03,\n",
       "        1.50580e+03, 1.53924e+03, 1.57268e+03, 1.60612e+03, 1.63956e+03,\n",
       "        1.67300e+03]),\n",
       " <a list of 50 Patch objects>)"
      ]
     },
     "execution_count": 32,
     "metadata": {},
     "output_type": "execute_result"
    },
    {
     "data": {
      "image/png": "[encoded data removed]",
      "text/plain": [
       "<Figure size 432x288 with 1 Axes>"
      ]
     },
     "metadata": {
      "needs_background": "light"
     },
     "output_type": "display_data"
    }
   ],
   "source": [
    "print('Среднее количество =', ultra['calls_duration'].describe()[1])\n",
    "print('Дисперсия =', np.var(ultra['calls_duration']))\n",
    "print('Стандартное отклонение =', ultra['calls_duration'].describe()[2])\n",
    "\n",
    "plt.title(\"Минуты разговора. Тариф Ultra.\")\n",
    "plt.xlabel(\"Минуты разговора\")\n",
    "plt.ylabel(\"Число значений данного количества минут\")\n",
    "plt.hist(ultra['calls_duration'][ultra['calls_duration'] > 0], bins=50)"
   ]
  },
  {
   "cell_type": "markdown",
   "metadata": {},
   "source": [
    "Датасет с отрицательной скошенностью"
   ]
  },
  {
   "cell_type": "markdown",
   "metadata": {},
   "source": [
    "Почти все пользователи укладываются в лимит и не переплачивают за звонки. Само среднее значение близко к последнему предыдущего датафрейма (его также можно интерпретировать как число минут, необходимых пользователям данного тарифа в месяц).\n",
    "\n",
    "Пользователи не потребляют услуги хаотично, так как датасет напоминает датасет нормального распределения с отрицательной скошенностью."
   ]
  },
  {
   "cell_type": "markdown",
   "metadata": {},
   "source": [
    "**Сообщения**"
   ]
  },
  {
   "cell_type": "markdown",
   "metadata": {},
   "source": [
    "Smart"
   ]
  },
  {
   "cell_type": "code",
   "execution_count": 33,
   "metadata": {},
   "outputs": [
    {
     "name": "stdout",
     "output_type": "stream",
     "text": [
      "Среднее количество = 33.384028712427096\n",
      "Дисперсия = 796.455482917076\n",
      "Стандартное отклонение = 28.22787555676141\n"
     ]
    },
    {
     "data": {
      "text/plain": [
       "(array([78., 78., 78., 89., 99., 91., 67., 88., 93., 89., 84., 74., 41.,\n",
       "        78., 67., 65., 82., 58., 30., 56., 43., 43., 49., 32., 18., 35.,\n",
       "        26., 31., 20., 25.,  8., 17., 14., 12., 14., 13., 11.,  5.,  6.,\n",
       "         2.,  2.,  0.,  1.,  2.,  1.,  1.,  2.,  2.,  1.,  1.]),\n",
       " array([  1.  ,   3.84,   6.68,   9.52,  12.36,  15.2 ,  18.04,  20.88,\n",
       "         23.72,  26.56,  29.4 ,  32.24,  35.08,  37.92,  40.76,  43.6 ,\n",
       "         46.44,  49.28,  52.12,  54.96,  57.8 ,  60.64,  63.48,  66.32,\n",
       "         69.16,  72.  ,  74.84,  77.68,  80.52,  83.36,  86.2 ,  89.04,\n",
       "         91.88,  94.72,  97.56, 100.4 , 103.24, 106.08, 108.92, 111.76,\n",
       "        114.6 , 117.44, 120.28, 123.12, 125.96, 128.8 , 131.64, 134.48,\n",
       "        137.32, 140.16, 143.  ]),\n",
       " <a list of 50 Patch objects>)"
      ]
     },
     "execution_count": 33,
     "metadata": {},
     "output_type": "execute_result"
    },
    {
     "data": {
      "image/png": "[encoded data removed]",
      "text/plain": [
       "<Figure size 432x288 with 1 Axes>"
      ]
     },
     "metadata": {
      "needs_background": "light"
     },
     "output_type": "display_data"
    }
   ],
   "source": [
    "print('Среднее количество =', smart['messages_quantity'].describe()[1])\n",
    "print('Дисперсия =', np.var(smart['messages_quantity']))\n",
    "print('Стандартное отклонение =', smart['messages_quantity'].describe()[2])\n",
    "\n",
    "plt.title(\"Сообщения. Тариф Smart.\")\n",
    "plt.xlabel(\"Количество сообщений\")\n",
    "plt.ylabel(\"Число значений данного количества сообщений\")\n",
    "plt.hist(smart['messages_quantity'][smart['messages_quantity'] > 0], bins=50)"
   ]
  },
  {
   "cell_type": "markdown",
   "metadata": {},
   "source": [
    "Датасет линейно убывает в сторону более высоких значений"
   ]
  },
  {
   "cell_type": "markdown",
   "metadata": {},
   "source": [
    "Достаточно много пользователей не укладываются в лимит и переплачивают за сообщения. Большинство, все же, старается войти в лимит, но само среднее значение (которое можно интерпретировать как число сообщений, необходимое пользователям данного тарифа в месяц) находится достаточно близко к \"границе дозволенного\".\n",
    "\n",
    "Пользователи не потребляют услуги хаотично, так как датасет линейно убывает в сторону более высоких значений, что соответствует потребностям людей и \"правилам\" тарифного плана."
   ]
  },
  {
   "cell_type": "markdown",
   "metadata": {},
   "source": [
    "Ultra"
   ]
  },
  {
   "cell_type": "code",
   "execution_count": 34,
   "metadata": {},
   "outputs": [
    {
     "name": "stdout",
     "output_type": "stream",
     "text": [
      "Среднее количество = 49.36345177664975\n",
      "Дисперсия = 2282.9460753948824\n",
      "Стандартное отклонение = 47.80445735017472\n"
     ]
    },
    {
     "data": {
      "text/plain": [
       "(array([50., 29., 27., 38., 49., 34., 42., 21., 42., 27., 37., 27., 28.,\n",
       "        24., 19., 18., 27., 29., 23., 16., 18., 17., 15., 11.,  7.,  9.,\n",
       "        11.,  4., 15.,  8., 11.,  8., 10.,  5., 10.,  3.,  3.,  2.,  5.,\n",
       "         2.,  4.,  2.,  3.,  1.,  1.,  0.,  0.,  1.,  0.,  2.]),\n",
       " array([  1.  ,   5.46,   9.92,  14.38,  18.84,  23.3 ,  27.76,  32.22,\n",
       "         36.68,  41.14,  45.6 ,  50.06,  54.52,  58.98,  63.44,  67.9 ,\n",
       "         72.36,  76.82,  81.28,  85.74,  90.2 ,  94.66,  99.12, 103.58,\n",
       "        108.04, 112.5 , 116.96, 121.42, 125.88, 130.34, 134.8 , 139.26,\n",
       "        143.72, 148.18, 152.64, 157.1 , 161.56, 166.02, 170.48, 174.94,\n",
       "        179.4 , 183.86, 188.32, 192.78, 197.24, 201.7 , 206.16, 210.62,\n",
       "        215.08, 219.54, 224.  ]),\n",
       " <a list of 50 Patch objects>)"
      ]
     },
     "execution_count": 34,
     "metadata": {},
     "output_type": "execute_result"
    },
    {
     "data": {
      "image/png": "[encoded data removed]",
      "text/plain": [
       "<Figure size 432x288 with 1 Axes>"
      ]
     },
     "metadata": {
      "needs_background": "light"
     },
     "output_type": "display_data"
    }
   ],
   "source": [
    "print('Среднее количество =', ultra['messages_quantity'].describe()[1])\n",
    "print('Дисперсия =', np.var(ultra['messages_quantity']))\n",
    "print('Стандартное отклонение =', ultra['messages_quantity'].describe()[2])\n",
    "\n",
    "plt.title(\"Сообщения. Тариф Ultra.\")\n",
    "plt.xlabel(\"Количество сообщений\")\n",
    "plt.ylabel(\"Число значений данного количества сообщений\")\n",
    "plt.hist(ultra['messages_quantity'][ultra['messages_quantity'] > 0], bins=50)"
   ]
  },
  {
   "cell_type": "markdown",
   "metadata": {},
   "source": [
    "Датасет линейно убывает в сторону более высоких значений"
   ]
  },
  {
   "cell_type": "markdown",
   "metadata": {},
   "source": [
    "Почти все пользователи даже и близко не достигают порогового значения для тарифа количества сообщений. Число сообщений, необходимое пользователям данного тарифа в месяц не слишком сильно отличается от последнего у пользователей тарифа Smart.\n",
    "\n",
    "Пользователи не потребляют услуги хаотично, так как датасет линейно убывает в сторону более высоких значений, что соответствует потребностям людей, не смотря на то, что \"правила\" тарифного плана позволяют отправлять до 1000 смс в месяц."
   ]
  },
  {
   "cell_type": "markdown",
   "metadata": {},
   "source": [
    "**Интернет трафик**"
   ]
  },
  {
   "cell_type": "markdown",
   "metadata": {},
   "source": [
    "Smart"
   ]
  },
  {
   "cell_type": "code",
   "execution_count": 35,
   "metadata": {},
   "outputs": [
    {
     "name": "stdout",
     "output_type": "stream",
     "text": [
      "Среднее количество = 16.328847016599372\n",
      "Дисперсия = 33.013887454837445\n",
      "Стандартное отклонение = 5.7470605685090534\n"
     ]
    },
    {
     "data": {
      "text/plain": [
       "(array([ 17.,  16.,  25.,   0.,  16.,  26.,  25.,   0.,  36.,  34.,  71.,\n",
       "          0.,  49.,  83., 116.,   0., 119., 148., 142.,   0., 174., 183.,\n",
       "        150.,   0., 155., 140.,   0., 115., 114.,  72.,   0.,  50.,  53.,\n",
       "         28.,   0.,  22.,  18.,   7.,   0.,   5.,   7.,   3.,   0.,   0.,\n",
       "          1.,   3.,   0.,   2.,   1.,   1.]),\n",
       " array([ 1.  ,  1.74,  2.48,  3.22,  3.96,  4.7 ,  5.44,  6.18,  6.92,\n",
       "         7.66,  8.4 ,  9.14,  9.88, 10.62, 11.36, 12.1 , 12.84, 13.58,\n",
       "        14.32, 15.06, 15.8 , 16.54, 17.28, 18.02, 18.76, 19.5 , 20.24,\n",
       "        20.98, 21.72, 22.46, 23.2 , 23.94, 24.68, 25.42, 26.16, 26.9 ,\n",
       "        27.64, 28.38, 29.12, 29.86, 30.6 , 31.34, 32.08, 32.82, 33.56,\n",
       "        34.3 , 35.04, 35.78, 36.52, 37.26, 38.  ]),\n",
       " <a list of 50 Patch objects>)"
      ]
     },
     "execution_count": 35,
     "metadata": {},
     "output_type": "execute_result"
    },
    {
     "data": {
      "image/png": "[encoded data removed]",
      "text/plain": [
       "<Figure size 432x288 with 1 Axes>"
      ]
     },
     "metadata": {
      "needs_background": "light"
     },
     "output_type": "display_data"
    }
   ],
   "source": [
    "print('Среднее количество =', smart['gb_used'].describe()[1])\n",
    "print('Дисперсия =', np.var(smart['gb_used']))\n",
    "print('Стандартное отклонение =', smart['gb_used'].describe()[2])\n",
    "\n",
    "plt.title(\"Интернет трафик. Тариф Smart.\")\n",
    "plt.xlabel(\"Использовано гигабайт\")\n",
    "plt.ylabel(\"Количество значений использованных гигабайт\")\n",
    "plt.hist(smart['gb_used'][smart['gb_used'] > 0], bins=50)"
   ]
  },
  {
   "cell_type": "markdown",
   "metadata": {},
   "source": [
    "Датасет с нормальным распределением"
   ]
  },
  {
   "cell_type": "markdown",
   "metadata": {},
   "source": [
    "Большинство пользователей превышает \"пороговое\" значение и переплачивает за используемые гб интернета. Среднее число гб интернета можно интерпретировать как число гб, необходимое пользователям данного тарифа в месяц.\n",
    "\n",
    "Пользователи не потребляют услуги хаотично, так как датасет похож на датасет с нормальным распределением, что соответствует потребностям людей, не смотря на то, что \"правила\" тарифного плана позволяют использовать бесплатно только до 15 гб в месяц."
   ]
  },
  {
   "cell_type": "markdown",
   "metadata": {},
   "source": [
    "Ultra"
   ]
  },
  {
   "cell_type": "code",
   "execution_count": 36,
   "metadata": {},
   "outputs": [
    {
     "name": "stdout",
     "output_type": "stream",
     "text": [
      "Среднее количество = 19.494416243654822\n",
      "Дисперсия = 96.99311602978692\n",
      "Стандартное отклонение = 9.853511367510293\n"
     ]
    },
    {
     "data": {
      "text/plain": [
       "(array([ 9.,  8., 18., 18., 19., 17., 16., 27., 26., 32., 29., 31., 21.,\n",
       "        31., 37., 40., 40., 31., 44., 36., 43., 41., 33., 21.,  0., 32.,\n",
       "        20., 36., 37., 30., 17., 12., 21., 18., 13., 10.,  7., 10.,  9.,\n",
       "         9.,  4.,  2.,  9.,  6.,  1.,  1.,  0.,  0.,  1.,  1.]),\n",
       " array([ 1.  ,  1.96,  2.92,  3.88,  4.84,  5.8 ,  6.76,  7.72,  8.68,\n",
       "         9.64, 10.6 , 11.56, 12.52, 13.48, 14.44, 15.4 , 16.36, 17.32,\n",
       "        18.28, 19.24, 20.2 , 21.16, 22.12, 23.08, 24.04, 25.  , 25.96,\n",
       "        26.92, 27.88, 28.84, 29.8 , 30.76, 31.72, 32.68, 33.64, 34.6 ,\n",
       "        35.56, 36.52, 37.48, 38.44, 39.4 , 40.36, 41.32, 42.28, 43.24,\n",
       "        44.2 , 45.16, 46.12, 47.08, 48.04, 49.  ]),\n",
       " <a list of 50 Patch objects>)"
      ]
     },
     "execution_count": 36,
     "metadata": {},
     "output_type": "execute_result"
    },
    {
     "data": {
      "image/png": "[encoded data removed]",
      "text/plain": [
       "<Figure size 432x288 with 1 Axes>"
      ]
     },
     "metadata": {
      "needs_background": "light"
     },
     "output_type": "display_data"
    }
   ],
   "source": [
    "print('Среднее количество =', ultra['gb_used'].describe()[1])\n",
    "print('Дисперсия =', np.var(ultra['gb_used']))\n",
    "print('Стандартное отклонение =', ultra['gb_used'].describe()[2])\n",
    "\n",
    "plt.title(\"Интернет трафик. Тариф Ultra.\")\n",
    "plt.xlabel(\"Использовано гигабайт\")\n",
    "plt.ylabel(\"Количество значений использованных гигабайт\")\n",
    "plt.hist(ultra['gb_used'][ultra['gb_used'] > 0], bins=50)"
   ]
  },
  {
   "cell_type": "markdown",
   "metadata": {},
   "source": [
    "Датасет с еле заметной отрицательной скошенностью"
   ]
  },
  {
   "cell_type": "markdown",
   "metadata": {},
   "source": [
    "Большинство пользователей не превышает \"пороговое\" значение и не так много абонентов переплачивают за используемые гб интернета. Среднее число гб интернета можно интерпретировать как число гб, необходимое пользователям данного тарифа в месяц и оно не сильно отличается от последнего у пользователей тарифа Smart.\n",
    "\n",
    "Пользователи не потребляют услуги хаотично, так как датасет похож на датасет с нормальным распределением с тенденцией к отрицательной скошенности, что соответствует потребностям людей, не смотря на то, что \"правила\" тарифного плана позволяют использовать в два раза большее количество интернет трафика, чем пользователи тарифа Smart."
   ]
  },
  {
   "cell_type": "markdown",
   "metadata": {},
   "source": [
    "## Проверка гипотез"
   ]
  },
  {
   "cell_type": "markdown",
   "metadata": {},
   "source": [
    "**Средняя выручка пользователей тарифов «Ультра» и «Смарт» различается**"
   ]
  },
  {
   "cell_type": "markdown",
   "metadata": {},
   "source": [
    "Нулевая гипотеза H₀ - средняя выручка пользователей тарифов «Ультра» и «Смарт» НЕ различается.\n",
    "\n",
    "Альтернативная гипотеза H₁ - средняя выручка пользователей тарифов «Ультра» и «Смарт» различается."
   ]
  },
  {
   "cell_type": "code",
   "execution_count": 37,
   "metadata": {},
   "outputs": [
    {
     "name": "stdout",
     "output_type": "stream",
     "text": [
      "Дисперсия smart = 669485.2209234245\n",
      "Дисперсия ultra = 141373.07325620347\n",
      "p-значение:  4.2606313931076085e-250\n"
     ]
    },
    {
     "data": {
      "text/plain": [
       "(array([851.,  12.,   0.,  21.,  18.,   0.,  13.,  10.,   0.,   7.,   0.,\n",
       "         10.,   9.,   0.,   9.,   4.,   0.,   2.,   9.,   0.,   6.,   0.,\n",
       "          1.,   1.,   0.,   0.,   0.,   0.,   1.,   1.]),\n",
       " array([1950., 2045., 2140., 2235., 2330., 2425., 2520., 2615., 2710.,\n",
       "        2805., 2900., 2995., 3090., 3185., 3280., 3375., 3470., 3565.,\n",
       "        3660., 3755., 3850., 3945., 4040., 4135., 4230., 4325., 4420.,\n",
       "        4515., 4610., 4705., 4800.]),\n",
       " <a list of 30 Patch objects>)"
      ]
     },
     "execution_count": 37,
     "metadata": {},
     "output_type": "execute_result"
    },
    {
     "data": {
      "image/png": "[encoded data removed]",
      "text/plain": [
       "<Figure size 432x288 with 1 Axes>"
      ]
     },
     "metadata": {
      "needs_background": "light"
     },
     "output_type": "display_data"
    }
   ],
   "source": [
    "print('Дисперсия smart =', np.var(smart['month_income']))\n",
    "print('Дисперсия ultra =', np.var(ultra['month_income']))\n",
    "from scipy import stats as st\n",
    "results = st.ttest_ind(smart['month_income'], ultra['month_income'], equal_var = False)\n",
    "# equal_var - считать ли равными дисперсии выборок, по умолчанию имеет значение true\n",
    "print('p-значение: ', results.pvalue)\n",
    "\n",
    "plt.hist(smart['month_income'], bins=30)\n",
    "plt.hist(ultra['month_income'], bins=30)"
   ]
  },
  {
   "cell_type": "markdown",
   "metadata": {},
   "source": [
    "Р значение значительно меньше общепринятых пороговых значений 5% и 1%. Это есть вероятность получить результат, что средняя выручка пользователей тарифов «Ультра» и «Смарт» равна.\n",
    "\n",
    "Гипотезу можно отвергнуть.\n",
    "\n",
    "И действительно..."
   ]
  },
  {
   "cell_type": "code",
   "execution_count": 38,
   "metadata": {},
   "outputs": [
    {
     "name": "stdout",
     "output_type": "stream",
     "text": [
      "Средняя выручка пользователей тарифа «Смарт»: 1289.9735307312696\n",
      "Средняя выручка пользователей тарифа «Ультра»: 2070.1522842639592\n"
     ]
    }
   ],
   "source": [
    "print('Средняя выручка пользователей тарифа «Смарт»:', smart['month_income'].mean())\n",
    "print('Средняя выручка пользователей тарифа «Ультра»:', ultra['month_income'].mean())"
   ]
  },
  {
   "cell_type": "markdown",
   "metadata": {},
   "source": [
    "Средняя выручка пользователей тарифа «Смарт» больше средней выручки пользователей тарифа «Ультра»"
   ]
  },
  {
   "cell_type": "markdown",
   "metadata": {},
   "source": [
    "**Средняя выручка пользователей из Москвы отличается от выручки пользователей из других регионов**"
   ]
  },
  {
   "cell_type": "markdown",
   "metadata": {},
   "source": [
    "Добавим столбик с городом к основному датафрейму"
   ]
  },
  {
   "cell_type": "code",
   "execution_count": 39,
   "metadata": {},
   "outputs": [],
   "source": [
    "data_plus = data.reset_index()"
   ]
  },
  {
   "cell_type": "code",
   "execution_count": 40,
   "metadata": {},
   "outputs": [],
   "source": [
    "moscow = list(data_users.query('city == \"Москва\"')['user_id'])\n",
    "\n",
    "def cities(row):\n",
    "    userid = row['user_id']\n",
    "    if userid in moscow:\n",
    "        return 'Moscow'\n",
    "    else:\n",
    "        return 'Other'\n",
    "    \n",
    "data_plus['regions'] = data_plus.apply(cities, axis=1)"
   ]
  },
  {
   "cell_type": "code",
   "execution_count": 41,
   "metadata": {},
   "outputs": [],
   "source": [
    "msk = data_plus.query('regions == \"Moscow\"')\n",
    "oth = data_plus.query('regions == \"Other\"')"
   ]
  },
  {
   "cell_type": "markdown",
   "metadata": {},
   "source": [
    "Нулевая гипотеза H₀ - средняя выручка пользователей из Москвы НЕ отличается от выручки пользователей из других регионов.\n",
    "\n",
    "Альтернативная гипотеза H₁ - средняя выручка пользователей из Москвы отличается от выручки пользователей из других регионов.\n"
   ]
  },
  {
   "cell_type": "code",
   "execution_count": 42,
   "metadata": {},
   "outputs": [
    {
     "name": "stdout",
     "output_type": "stream",
     "text": [
      "Дисперсия msk = 564710.7117467273\n",
      "Дисперсия oth = 653886.3270894174\n",
      "p-значение:  0.5440152911670224\n"
     ]
    },
    {
     "data": {
      "text/plain": [
       "(array([699., 181., 164., 130., 128.,  97., 771.,  87.,  93.,  59.,  48.,\n",
       "         40.,  25.,  29.,  10.,  14.,  10.,   3.,   5.,   3.,   1.,   1.,\n",
       "          1.,   0.,   3.,   0.,   0.,   0.,   0.,   1.]),\n",
       " array([ 550.        ,  757.33333333,  964.66666667, 1172.        ,\n",
       "        1379.33333333, 1586.66666667, 1794.        , 2001.33333333,\n",
       "        2208.66666667, 2416.        , 2623.33333333, 2830.66666667,\n",
       "        3038.        , 3245.33333333, 3452.66666667, 3660.        ,\n",
       "        3867.33333333, 4074.66666667, 4282.        , 4489.33333333,\n",
       "        4696.66666667, 4904.        , 5111.33333333, 5318.66666667,\n",
       "        5526.        , 5733.33333333, 5940.66666667, 6148.        ,\n",
       "        6355.33333333, 6562.66666667, 6770.        ]),\n",
       " <a list of 30 Patch objects>)"
      ]
     },
     "execution_count": 42,
     "metadata": {},
     "output_type": "execute_result"
    },
    {
     "data": {
      "image/png": "[encoded data removed]",
      "text/plain": [
       "<Figure size 432x288 with 1 Axes>"
      ]
     },
     "metadata": {
      "needs_background": "light"
     },
     "output_type": "display_data"
    }
   ],
   "source": [
    "print('Дисперсия msk =', np.var(msk['month_income']))\n",
    "print('Дисперсия oth =', np.var(oth['month_income']))\n",
    "from scipy import stats as st\n",
    "results = st.ttest_ind(msk['month_income'], oth['month_income'], equal_var = True)\n",
    "# equal_var - считать ли равными дисперсии выборок, по умолчанию имеет значение true\n",
    "print('p-значение: ', results.pvalue)\n",
    "\n",
    "plt.hist(msk['month_income'], bins=30, color = 'blue')\n",
    "plt.hist(oth['month_income'], bins=30, color = 'orange')"
   ]
  },
  {
   "cell_type": "markdown",
   "metadata": {},
   "source": [
    "Р значение больше общепринятых пороговых значений 5% и 1%. Это есть вероятность получить результат, что средняя выручка пользователей тарифов «Ультра» и «Смарт» равна.\n",
    "\n"
   ]
  },
  {
   "cell_type": "markdown",
   "metadata": {},
   "source": [
    "## Общий вывод"
   ]
  },
  {
   "cell_type": "markdown",
   "metadata": {},
   "source": [
    "1) Средняя выручка пользователей тарифов «Ультра» больше средней выручки пользователей тарифов «Смарт».\n",
    "\n",
    "2) Средняя выручка пользователей из Москвы не отличается от выручки пользователей из других регионов.\n",
    "\n",
    "Какой тариф лучше и какой из них выбрать для продвижения?\n",
    "\n",
    "Ответ - тариф Ultra. Причины:\n",
    "\n",
    "- этим тарифом пользуется меньше людей\n",
    "\n",
    "- в итоге больше людей переплачивает за услуги связи, которыми они не пользуются именно в рамках абонентской платы, что надежнее, чем доход с дополнительных услуг от тарифа Smart\n",
    "\n",
    "- средняя выручка с этого тарифа больше последней тарифа Smart"
   ]
  }
 ],
 "metadata": {
  "ExecuteTimeLog": [
   {
    "duration": 1353,
    "start_time": "2021-07-04T19:10:38.058Z"
   },
   {
    "duration": 524,
    "start_time": "2021-07-04T19:12:54.655Z"
   },
   {
    "duration": 30,
    "start_time": "2021-07-04T19:13:27.522Z"
   },
   {
    "duration": 34,
    "start_time": "2021-07-04T19:14:08.340Z"
   },
   {
    "duration": 19,
    "start_time": "2021-07-04T19:15:22.139Z"
   },
   {
    "duration": 9,
    "start_time": "2021-07-04T19:15:56.108Z"
   },
   {
    "duration": 13,
    "start_time": "2021-07-04T19:16:29.173Z"
   },
   {
    "duration": 64,
    "start_time": "2021-07-04T19:18:32.087Z"
   },
   {
    "duration": 41,
    "start_time": "2021-07-04T19:18:49.222Z"
   },
   {
    "duration": 30,
    "start_time": "2021-07-04T19:19:35.685Z"
   },
   {
    "duration": 16,
    "start_time": "2021-07-04T19:20:11.008Z"
   },
   {
    "duration": 26,
    "start_time": "2021-07-04T19:20:43.389Z"
   },
   {
    "duration": 162,
    "start_time": "2021-07-04T21:53:12.084Z"
   },
   {
    "duration": 159,
    "start_time": "2021-07-04T21:53:20.934Z"
   },
   {
    "duration": 178,
    "start_time": "2021-07-04T21:54:25.700Z"
   },
   {
    "duration": 179,
    "start_time": "2021-07-04T21:54:39.369Z"
   },
   {
    "duration": 188,
    "start_time": "2021-07-04T21:55:09.491Z"
   },
   {
    "duration": 1728,
    "start_time": "2021-07-04T21:56:15.673Z"
   },
   {
    "duration": 45,
    "start_time": "2021-07-04T21:56:17.404Z"
   },
   {
    "duration": 41,
    "start_time": "2021-07-04T21:56:17.452Z"
   },
   {
    "duration": 32,
    "start_time": "2021-07-04T21:56:17.495Z"
   },
   {
    "duration": 18,
    "start_time": "2021-07-04T21:56:17.561Z"
   },
   {
    "duration": 30,
    "start_time": "2021-07-04T21:56:17.583Z"
   },
   {
    "duration": 168,
    "start_time": "2021-07-04T21:56:51.539Z"
   },
   {
    "duration": 271,
    "start_time": "2021-07-04T21:57:12.653Z"
   },
   {
    "duration": 190,
    "start_time": "2021-07-04T21:57:23.603Z"
   },
   {
    "duration": 243,
    "start_time": "2021-07-04T21:57:46.102Z"
   },
   {
    "duration": 198,
    "start_time": "2021-07-04T22:00:18.470Z"
   },
   {
    "duration": 193,
    "start_time": "2021-07-04T22:00:30.180Z"
   },
   {
    "duration": 189,
    "start_time": "2021-07-04T22:00:51.724Z"
   },
   {
    "duration": 170,
    "start_time": "2021-07-04T22:04:02.207Z"
   },
   {
    "duration": 86,
    "start_time": "2021-07-04T22:05:13.894Z"
   },
   {
    "duration": 35,
    "start_time": "2021-07-04T22:09:11.890Z"
   },
   {
    "duration": 570,
    "start_time": "2021-07-04T22:20:21.108Z"
   },
   {
    "duration": 209,
    "start_time": "2021-07-04T22:20:45.282Z"
   },
   {
    "duration": 142,
    "start_time": "2021-07-04T22:21:18.707Z"
   },
   {
    "duration": 142,
    "start_time": "2021-07-04T22:22:59.435Z"
   },
   {
    "duration": 1486,
    "start_time": "2021-07-04T22:23:17.876Z"
   },
   {
    "duration": 240,
    "start_time": "2021-07-04T22:23:19.365Z"
   },
   {
    "duration": 175,
    "start_time": "2021-07-04T22:23:19.609Z"
   },
   {
    "duration": 106,
    "start_time": "2021-07-04T22:23:19.787Z"
   },
   {
    "duration": 17,
    "start_time": "2021-07-04T22:23:19.896Z"
   },
   {
    "duration": 57,
    "start_time": "2021-07-04T22:23:19.916Z"
   },
   {
    "duration": 264,
    "start_time": "2021-07-04T22:26:25.136Z"
   },
   {
    "duration": 183,
    "start_time": "2021-07-04T22:27:15.518Z"
   },
   {
    "duration": 511,
    "start_time": "2021-07-04T22:27:31.479Z"
   },
   {
    "duration": 340,
    "start_time": "2021-07-04T22:27:51.445Z"
   },
   {
    "duration": 1938,
    "start_time": "2021-07-04T22:27:57.284Z"
   },
   {
    "duration": 345,
    "start_time": "2021-07-04T22:27:59.226Z"
   },
   {
    "duration": 195,
    "start_time": "2021-07-04T22:27:59.575Z"
   },
   {
    "duration": 102,
    "start_time": "2021-07-04T22:27:59.772Z"
   },
   {
    "duration": 25,
    "start_time": "2021-07-04T22:27:59.878Z"
   },
   {
    "duration": 78,
    "start_time": "2021-07-04T22:27:59.906Z"
   },
   {
    "duration": 162,
    "start_time": "2021-07-04T22:32:56.917Z"
   },
   {
    "duration": 158,
    "start_time": "2021-07-04T22:33:24.751Z"
   },
   {
    "duration": 1482,
    "start_time": "2021-07-04T22:34:24.312Z"
   },
   {
    "duration": 231,
    "start_time": "2021-07-04T22:34:25.797Z"
   },
   {
    "duration": 174,
    "start_time": "2021-07-04T22:34:26.031Z"
   },
   {
    "duration": 110,
    "start_time": "2021-07-04T22:34:26.208Z"
   },
   {
    "duration": 16,
    "start_time": "2021-07-04T22:34:26.320Z"
   },
   {
    "duration": 51,
    "start_time": "2021-07-04T22:34:26.338Z"
   },
   {
    "duration": 563,
    "start_time": "2021-07-04T22:39:51.148Z"
   },
   {
    "duration": 210,
    "start_time": "2021-07-04T22:41:31.063Z"
   },
   {
    "duration": 1718,
    "start_time": "2021-07-04T22:42:19.788Z"
   },
   {
    "duration": 443,
    "start_time": "2021-07-04T22:42:21.510Z"
   },
   {
    "duration": 260,
    "start_time": "2021-07-04T22:42:21.965Z"
   },
   {
    "duration": 157,
    "start_time": "2021-07-04T22:42:22.229Z"
   },
   {
    "duration": 29,
    "start_time": "2021-07-04T22:42:22.389Z"
   },
   {
    "duration": 82,
    "start_time": "2021-07-04T22:42:22.420Z"
   },
   {
    "duration": 1723,
    "start_time": "2021-07-04T22:45:36.311Z"
   },
   {
    "duration": 309,
    "start_time": "2021-07-04T22:45:38.036Z"
   },
   {
    "duration": 173,
    "start_time": "2021-07-04T22:45:38.363Z"
   },
   {
    "duration": 93,
    "start_time": "2021-07-04T22:45:38.538Z"
   },
   {
    "duration": 40,
    "start_time": "2021-07-04T22:45:38.634Z"
   },
   {
    "duration": 31,
    "start_time": "2021-07-04T22:45:38.676Z"
   },
   {
    "duration": 172,
    "start_time": "2021-07-04T22:49:35.665Z"
   },
   {
    "duration": 1445,
    "start_time": "2021-07-04T22:49:49.757Z"
   },
   {
    "duration": 297,
    "start_time": "2021-07-04T22:49:51.204Z"
   },
   {
    "duration": 264,
    "start_time": "2021-07-04T22:49:51.507Z"
   },
   {
    "duration": 145,
    "start_time": "2021-07-04T22:49:51.774Z"
   },
   {
    "duration": 40,
    "start_time": "2021-07-04T22:49:51.922Z"
   },
   {
    "duration": 47,
    "start_time": "2021-07-04T22:49:51.965Z"
   },
   {
    "duration": 732,
    "start_time": "2021-07-04T22:58:29.357Z"
   },
   {
    "duration": 1442,
    "start_time": "2021-07-04T22:58:36.054Z"
   },
   {
    "duration": 679,
    "start_time": "2021-07-04T22:58:37.498Z"
   },
   {
    "duration": 312,
    "start_time": "2021-07-04T22:58:37.871Z"
   },
   {
    "duration": 307,
    "start_time": "2021-07-04T22:58:37.877Z"
   },
   {
    "duration": 306,
    "start_time": "2021-07-04T22:58:37.879Z"
   },
   {
    "duration": 306,
    "start_time": "2021-07-04T22:58:37.881Z"
   },
   {
    "duration": 176,
    "start_time": "2021-07-04T22:59:05.521Z"
   },
   {
    "duration": 1964,
    "start_time": "2021-07-04T22:59:14.535Z"
   },
   {
    "duration": 426,
    "start_time": "2021-07-04T22:59:16.503Z"
   },
   {
    "duration": 236,
    "start_time": "2021-07-04T22:59:16.933Z"
   },
   {
    "duration": 118,
    "start_time": "2021-07-04T22:59:17.172Z"
   },
   {
    "duration": 18,
    "start_time": "2021-07-04T22:59:17.293Z"
   },
   {
    "duration": 83,
    "start_time": "2021-07-04T22:59:17.313Z"
   },
   {
    "duration": 249,
    "start_time": "2021-07-04T23:01:18.538Z"
   },
   {
    "duration": 178,
    "start_time": "2021-07-04T23:01:28.296Z"
   },
   {
    "duration": 1990,
    "start_time": "2021-07-04T23:11:05.907Z"
   },
   {
    "duration": 439,
    "start_time": "2021-07-04T23:11:07.901Z"
   },
   {
    "duration": 397,
    "start_time": "2021-07-04T23:11:08.344Z"
   },
   {
    "duration": 139,
    "start_time": "2021-07-04T23:11:08.745Z"
   },
   {
    "duration": 23,
    "start_time": "2021-07-04T23:11:08.887Z"
   },
   {
    "duration": 72,
    "start_time": "2021-07-04T23:11:08.913Z"
   },
   {
    "duration": 2120,
    "start_time": "2021-07-04T23:12:10.043Z"
   },
   {
    "duration": 481,
    "start_time": "2021-07-04T23:12:12.167Z"
   },
   {
    "duration": 419,
    "start_time": "2021-07-04T23:12:12.661Z"
   },
   {
    "duration": 107,
    "start_time": "2021-07-04T23:12:13.083Z"
   },
   {
    "duration": 17,
    "start_time": "2021-07-04T23:12:13.193Z"
   },
   {
    "duration": 62,
    "start_time": "2021-07-04T23:12:13.213Z"
   },
   {
    "duration": 2127,
    "start_time": "2021-07-04T23:16:01.319Z"
   },
   {
    "duration": 323,
    "start_time": "2021-07-04T23:16:03.450Z"
   },
   {
    "duration": 303,
    "start_time": "2021-07-04T23:16:03.776Z"
   },
   {
    "duration": 95,
    "start_time": "2021-07-04T23:16:04.081Z"
   },
   {
    "duration": 19,
    "start_time": "2021-07-04T23:16:04.179Z"
   },
   {
    "duration": 62,
    "start_time": "2021-07-04T23:16:04.200Z"
   },
   {
    "duration": 1418,
    "start_time": "2021-07-04T23:19:40.549Z"
   },
   {
    "duration": 317,
    "start_time": "2021-07-04T23:19:41.970Z"
   },
   {
    "duration": 296,
    "start_time": "2021-07-04T23:19:42.290Z"
   },
   {
    "duration": 96,
    "start_time": "2021-07-04T23:19:42.589Z"
   },
   {
    "duration": 17,
    "start_time": "2021-07-04T23:19:42.688Z"
   },
   {
    "duration": 59,
    "start_time": "2021-07-04T23:19:42.708Z"
   },
   {
    "duration": 7704,
    "start_time": "2021-07-04T23:22:31.208Z"
   },
   {
    "duration": 1396,
    "start_time": "2021-07-04T23:23:01.778Z"
   },
   {
    "duration": 318,
    "start_time": "2021-07-04T23:23:03.177Z"
   },
   {
    "duration": 294,
    "start_time": "2021-07-04T23:23:03.498Z"
   },
   {
    "duration": 96,
    "start_time": "2021-07-04T23:23:03.795Z"
   },
   {
    "duration": 16,
    "start_time": "2021-07-04T23:23:03.894Z"
   },
   {
    "duration": 53,
    "start_time": "2021-07-04T23:23:03.913Z"
   },
   {
    "duration": 130,
    "start_time": "2021-07-04T23:28:13.009Z"
   },
   {
    "duration": 1377,
    "start_time": "2021-07-04T23:32:35.687Z"
   },
   {
    "duration": 332,
    "start_time": "2021-07-04T23:32:37.066Z"
   },
   {
    "duration": 305,
    "start_time": "2021-07-04T23:32:37.401Z"
   },
   {
    "duration": 155,
    "start_time": "2021-07-04T23:32:37.708Z"
   },
   {
    "duration": 16,
    "start_time": "2021-07-04T23:32:37.866Z"
   },
   {
    "duration": 40,
    "start_time": "2021-07-04T23:32:37.885Z"
   },
   {
    "duration": 8748,
    "start_time": "2021-07-04T23:35:58.106Z"
   },
   {
    "duration": 8826,
    "start_time": "2021-07-04T23:36:59.977Z"
   },
   {
    "duration": 1445,
    "start_time": "2021-07-04T23:37:25.941Z"
   },
   {
    "duration": 349,
    "start_time": "2021-07-04T23:37:27.389Z"
   },
   {
    "duration": 294,
    "start_time": "2021-07-04T23:37:27.744Z"
   },
   {
    "duration": 150,
    "start_time": "2021-07-04T23:37:28.041Z"
   },
   {
    "duration": 17,
    "start_time": "2021-07-04T23:37:28.194Z"
   },
   {
    "duration": 66,
    "start_time": "2021-07-04T23:37:28.213Z"
   },
   {
    "duration": 29,
    "start_time": "2021-07-04T23:45:24.221Z"
   },
   {
    "duration": 29,
    "start_time": "2021-07-04T23:45:33.891Z"
   },
   {
    "duration": 29,
    "start_time": "2021-07-04T23:46:33.861Z"
   },
   {
    "duration": 440,
    "start_time": "2021-07-04T23:46:43.813Z"
   },
   {
    "duration": 29,
    "start_time": "2021-07-04T23:46:54.083Z"
   },
   {
    "duration": 30,
    "start_time": "2021-07-04T23:49:58.335Z"
   },
   {
    "duration": 31,
    "start_time": "2021-07-04T23:53:18.495Z"
   },
   {
    "duration": 48,
    "start_time": "2021-07-04T23:53:27.359Z"
   },
   {
    "duration": 1427,
    "start_time": "2021-07-04T23:53:36.052Z"
   },
   {
    "duration": 351,
    "start_time": "2021-07-04T23:53:37.483Z"
   },
   {
    "duration": 55,
    "start_time": "2021-07-04T23:53:37.837Z"
   },
   {
    "duration": 317,
    "start_time": "2021-07-04T23:53:37.895Z"
   },
   {
    "duration": 155,
    "start_time": "2021-07-04T23:53:38.215Z"
   },
   {
    "duration": 18,
    "start_time": "2021-07-04T23:53:38.372Z"
   },
   {
    "duration": 34,
    "start_time": "2021-07-04T23:53:38.392Z"
   },
   {
    "duration": 856,
    "start_time": "2021-07-04T23:55:22.063Z"
   },
   {
    "duration": 54,
    "start_time": "2021-07-04T23:55:45.598Z"
   },
   {
    "duration": 42,
    "start_time": "2021-07-04T23:55:51.229Z"
   },
   {
    "duration": 2045,
    "start_time": "2021-07-04T23:55:57.668Z"
   },
   {
    "duration": 475,
    "start_time": "2021-07-04T23:55:59.717Z"
   },
   {
    "duration": 90,
    "start_time": "2021-07-04T23:56:00.196Z"
   },
   {
    "duration": 309,
    "start_time": "2021-07-04T23:56:00.289Z"
   },
   {
    "duration": 167,
    "start_time": "2021-07-04T23:56:00.601Z"
   },
   {
    "duration": 24,
    "start_time": "2021-07-04T23:56:00.771Z"
   },
   {
    "duration": 79,
    "start_time": "2021-07-04T23:56:00.799Z"
   },
   {
    "duration": 44,
    "start_time": "2021-07-05T00:00:40.299Z"
   },
   {
    "duration": 1899,
    "start_time": "2021-07-05T00:00:53.103Z"
   },
   {
    "duration": 452,
    "start_time": "2021-07-05T00:00:55.005Z"
   },
   {
    "duration": 97,
    "start_time": "2021-07-05T00:00:55.469Z"
   },
   {
    "duration": 418,
    "start_time": "2021-07-05T00:00:55.569Z"
   },
   {
    "duration": 226,
    "start_time": "2021-07-05T00:00:55.990Z"
   },
   {
    "duration": 43,
    "start_time": "2021-07-05T00:00:56.219Z"
   },
   {
    "duration": 51,
    "start_time": "2021-07-05T00:00:56.268Z"
   },
   {
    "duration": 55,
    "start_time": "2021-07-05T00:02:15.426Z"
   },
   {
    "duration": 2043,
    "start_time": "2021-07-05T00:02:21.124Z"
   },
   {
    "duration": 498,
    "start_time": "2021-07-05T00:02:23.171Z"
   },
   {
    "duration": 97,
    "start_time": "2021-07-05T00:02:23.673Z"
   },
   {
    "duration": 423,
    "start_time": "2021-07-05T00:02:23.774Z"
   },
   {
    "duration": 227,
    "start_time": "2021-07-05T00:02:24.201Z"
   },
   {
    "duration": 43,
    "start_time": "2021-07-05T00:02:24.431Z"
   },
   {
    "duration": 36,
    "start_time": "2021-07-05T00:02:24.478Z"
   },
   {
    "duration": 9090,
    "start_time": "2021-07-05T00:03:44.555Z"
   },
   {
    "duration": 7956,
    "start_time": "2021-07-05T00:04:18.076Z"
   },
   {
    "duration": 7663,
    "start_time": "2021-07-05T00:04:46.914Z"
   },
   {
    "duration": 8160,
    "start_time": "2021-07-05T00:07:17.612Z"
   },
   {
    "duration": 8030,
    "start_time": "2021-07-05T00:07:51.166Z"
   },
   {
    "duration": 6186,
    "start_time": "2021-07-05T00:08:30.860Z"
   },
   {
    "duration": 1570,
    "start_time": "2021-07-05T00:08:44.121Z"
   },
   {
    "duration": 323,
    "start_time": "2021-07-05T00:08:45.694Z"
   },
   {
    "duration": 6271,
    "start_time": "2021-07-05T00:08:46.020Z"
   },
   {
    "duration": 329,
    "start_time": "2021-07-05T00:08:51.967Z"
   },
   {
    "duration": 329,
    "start_time": "2021-07-05T00:08:51.969Z"
   },
   {
    "duration": 324,
    "start_time": "2021-07-05T00:08:51.976Z"
   },
   {
    "duration": 324,
    "start_time": "2021-07-05T00:08:51.978Z"
   },
   {
    "duration": 325,
    "start_time": "2021-07-05T00:08:51.980Z"
   },
   {
    "duration": 1422,
    "start_time": "2021-07-05T00:10:24.753Z"
   },
   {
    "duration": 333,
    "start_time": "2021-07-05T00:10:26.178Z"
   },
   {
    "duration": 82,
    "start_time": "2021-07-05T00:10:26.518Z"
   },
   {
    "duration": 327,
    "start_time": "2021-07-05T00:10:26.602Z"
   },
   {
    "duration": 159,
    "start_time": "2021-07-05T00:10:26.932Z"
   },
   {
    "duration": 16,
    "start_time": "2021-07-05T00:10:27.094Z"
   },
   {
    "duration": 71,
    "start_time": "2021-07-05T00:10:27.113Z"
   },
   {
    "duration": 8042,
    "start_time": "2021-07-05T00:11:33.676Z"
   },
   {
    "duration": 7770,
    "start_time": "2021-07-05T00:13:03.606Z"
   },
   {
    "duration": 22,
    "start_time": "2021-07-05T00:14:01.438Z"
   },
   {
    "duration": 1935,
    "start_time": "2021-07-05T00:14:16.618Z"
   },
   {
    "duration": 473,
    "start_time": "2021-07-05T00:14:18.556Z"
   },
   {
    "duration": 31,
    "start_time": "2021-07-05T00:14:19.032Z"
   },
   {
    "duration": 57,
    "start_time": "2021-07-05T00:14:19.066Z"
   },
   {
    "duration": 336,
    "start_time": "2021-07-05T00:14:19.126Z"
   },
   {
    "duration": 210,
    "start_time": "2021-07-05T00:14:19.465Z"
   },
   {
    "duration": 24,
    "start_time": "2021-07-05T00:14:19.678Z"
   },
   {
    "duration": 88,
    "start_time": "2021-07-05T00:14:19.707Z"
   },
   {
    "duration": 32,
    "start_time": "2021-07-05T00:14:49.823Z"
   },
   {
    "duration": 1401,
    "start_time": "2021-07-05T00:15:02.904Z"
   },
   {
    "duration": 310,
    "start_time": "2021-07-05T00:15:04.308Z"
   },
   {
    "duration": 19,
    "start_time": "2021-07-05T00:15:04.621Z"
   },
   {
    "duration": 58,
    "start_time": "2021-07-05T00:15:04.662Z"
   },
   {
    "duration": 342,
    "start_time": "2021-07-05T00:15:04.722Z"
   },
   {
    "duration": 160,
    "start_time": "2021-07-05T00:15:05.066Z"
   },
   {
    "duration": 17,
    "start_time": "2021-07-05T00:15:05.228Z"
   },
   {
    "duration": 49,
    "start_time": "2021-07-05T00:15:05.247Z"
   },
   {
    "duration": 99,
    "start_time": "2021-07-05T00:15:32.037Z"
   },
   {
    "duration": 393,
    "start_time": "2021-07-05T00:15:35.605Z"
   },
   {
    "duration": 15,
    "start_time": "2021-07-05T00:16:43.413Z"
   },
   {
    "duration": 1949,
    "start_time": "2021-07-05T00:16:50.171Z"
   },
   {
    "duration": 464,
    "start_time": "2021-07-05T00:16:52.124Z"
   },
   {
    "duration": 27,
    "start_time": "2021-07-05T00:16:52.592Z"
   },
   {
    "duration": 110,
    "start_time": "2021-07-05T00:16:52.622Z"
   },
   {
    "duration": 450,
    "start_time": "2021-07-05T00:16:52.735Z"
   },
   {
    "duration": 233,
    "start_time": "2021-07-05T00:16:53.188Z"
   },
   {
    "duration": 39,
    "start_time": "2021-07-05T00:16:53.424Z"
   },
   {
    "duration": 45,
    "start_time": "2021-07-05T00:16:53.468Z"
   },
   {
    "duration": 18,
    "start_time": "2021-07-05T00:17:29.794Z"
   },
   {
    "duration": 52,
    "start_time": "2021-07-05T00:18:26.341Z"
   },
   {
    "duration": 2023,
    "start_time": "2021-07-05T00:18:37.388Z"
   },
   {
    "duration": 315,
    "start_time": "2021-07-05T00:18:39.413Z"
   },
   {
    "duration": 75,
    "start_time": "2021-07-05T00:18:39.731Z"
   },
   {
    "duration": 308,
    "start_time": "2021-07-05T00:18:39.808Z"
   },
   {
    "duration": 157,
    "start_time": "2021-07-05T00:18:40.118Z"
   },
   {
    "duration": 17,
    "start_time": "2021-07-05T00:18:40.277Z"
   },
   {
    "duration": 66,
    "start_time": "2021-07-05T00:18:40.296Z"
   },
   {
    "duration": 37,
    "start_time": "2021-07-05T00:20:58.383Z"
   },
   {
    "duration": 1496,
    "start_time": "2021-07-05T00:21:59.786Z"
   },
   {
    "duration": 322,
    "start_time": "2021-07-05T00:22:01.285Z"
   },
   {
    "duration": 82,
    "start_time": "2021-07-05T00:22:01.610Z"
   },
   {
    "duration": 319,
    "start_time": "2021-07-05T00:22:01.695Z"
   },
   {
    "duration": 48,
    "start_time": "2021-07-05T00:22:02.017Z"
   },
   {
    "duration": 153,
    "start_time": "2021-07-05T00:22:02.067Z"
   },
   {
    "duration": 40,
    "start_time": "2021-07-05T00:22:02.222Z"
   },
   {
    "duration": 35,
    "start_time": "2021-07-05T00:22:02.266Z"
   },
   {
    "duration": 17,
    "start_time": "2021-07-05T00:24:32.437Z"
   },
   {
    "duration": 2062,
    "start_time": "2021-07-05T00:24:39.719Z"
   },
   {
    "duration": 438,
    "start_time": "2021-07-05T00:24:41.785Z"
   },
   {
    "duration": 95,
    "start_time": "2021-07-05T00:24:42.227Z"
   },
   {
    "duration": 410,
    "start_time": "2021-07-05T00:24:42.326Z"
   },
   {
    "duration": 43,
    "start_time": "2021-07-05T00:24:42.739Z"
   },
   {
    "duration": 48,
    "start_time": "2021-07-05T00:24:42.785Z"
   },
   {
    "duration": 234,
    "start_time": "2021-07-05T00:24:42.836Z"
   },
   {
    "duration": 24,
    "start_time": "2021-07-05T00:24:43.074Z"
   },
   {
    "duration": 82,
    "start_time": "2021-07-05T00:24:43.101Z"
   },
   {
    "duration": 1953,
    "start_time": "2021-07-05T00:27:04.967Z"
   },
   {
    "duration": 444,
    "start_time": "2021-07-05T00:27:06.924Z"
   },
   {
    "duration": 92,
    "start_time": "2021-07-05T00:27:07.372Z"
   },
   {
    "duration": 409,
    "start_time": "2021-07-05T00:27:07.468Z"
   },
   {
    "duration": 30,
    "start_time": "2021-07-05T00:27:07.880Z"
   },
   {
    "duration": 70,
    "start_time": "2021-07-05T00:27:07.914Z"
   },
   {
    "duration": 151,
    "start_time": "2021-07-05T00:27:07.987Z"
   },
   {
    "duration": 26,
    "start_time": "2021-07-05T00:27:08.142Z"
   },
   {
    "duration": 48,
    "start_time": "2021-07-05T00:27:08.171Z"
   },
   {
    "duration": 1534,
    "start_time": "2021-07-05T00:29:17.985Z"
   },
   {
    "duration": 426,
    "start_time": "2021-07-05T00:29:19.522Z"
   },
   {
    "duration": 76,
    "start_time": "2021-07-05T00:29:19.964Z"
   },
   {
    "duration": 404,
    "start_time": "2021-07-05T00:29:20.044Z"
   },
   {
    "duration": 96,
    "start_time": "2021-07-05T00:29:20.451Z"
   },
   {
    "duration": 351,
    "start_time": "2021-07-05T00:29:20.200Z"
   },
   {
    "duration": 351,
    "start_time": "2021-07-05T00:29:20.202Z"
   },
   {
    "duration": 350,
    "start_time": "2021-07-05T00:29:20.205Z"
   },
   {
    "duration": 63,
    "start_time": "2021-07-05T00:31:22.609Z"
   },
   {
    "duration": 48,
    "start_time": "2021-07-05T00:32:41.939Z"
   },
   {
    "duration": 205,
    "start_time": "2021-07-05T00:32:55.041Z"
   },
   {
    "duration": 52,
    "start_time": "2021-07-05T00:34:28.625Z"
   },
   {
    "duration": 1462,
    "start_time": "2021-07-05T00:35:16.736Z"
   },
   {
    "duration": 323,
    "start_time": "2021-07-05T00:35:18.200Z"
   },
   {
    "duration": 70,
    "start_time": "2021-07-05T00:35:18.526Z"
   },
   {
    "duration": 304,
    "start_time": "2021-07-05T00:35:18.599Z"
   },
   {
    "duration": 57,
    "start_time": "2021-07-05T00:35:18.906Z"
   },
   {
    "duration": 153,
    "start_time": "2021-07-05T00:35:18.966Z"
   },
   {
    "duration": 52,
    "start_time": "2021-07-05T00:35:19.122Z"
   },
   {
    "duration": 17,
    "start_time": "2021-07-05T00:35:19.178Z"
   },
   {
    "duration": 44,
    "start_time": "2021-07-05T00:35:19.198Z"
   },
   {
    "duration": 12,
    "start_time": "2021-07-05T00:40:26.809Z"
   },
   {
    "duration": 23,
    "start_time": "2021-07-05T00:40:37.834Z"
   },
   {
    "duration": 29,
    "start_time": "2021-07-05T00:41:08.491Z"
   },
   {
    "duration": 37,
    "start_time": "2021-07-05T00:42:29.091Z"
   },
   {
    "duration": 18,
    "start_time": "2021-07-05T00:43:27.244Z"
   },
   {
    "duration": 38,
    "start_time": "2021-07-05T00:43:33.370Z"
   },
   {
    "duration": 1477,
    "start_time": "2021-07-08T20:20:12.693Z"
   },
   {
    "duration": 302,
    "start_time": "2021-07-08T20:20:14.173Z"
   },
   {
    "duration": 51,
    "start_time": "2021-07-08T20:20:14.478Z"
   },
   {
    "duration": 287,
    "start_time": "2021-07-08T20:20:14.532Z"
   },
   {
    "duration": 61,
    "start_time": "2021-07-08T20:20:14.822Z"
   },
   {
    "duration": 150,
    "start_time": "2021-07-08T20:20:14.886Z"
   },
   {
    "duration": 55,
    "start_time": "2021-07-08T20:20:15.039Z"
   },
   {
    "duration": 15,
    "start_time": "2021-07-08T20:20:15.097Z"
   },
   {
    "duration": 62,
    "start_time": "2021-07-08T20:20:15.115Z"
   },
   {
    "duration": 43,
    "start_time": "2021-07-08T20:20:15.179Z"
   },
   {
    "duration": 1015,
    "start_time": "2021-07-09T18:46:19.024Z"
   },
   {
    "duration": 211,
    "start_time": "2021-07-09T18:46:20.041Z"
   },
   {
    "duration": 36,
    "start_time": "2021-07-09T18:46:20.256Z"
   },
   {
    "duration": 167,
    "start_time": "2021-07-09T18:46:20.293Z"
   },
   {
    "duration": 28,
    "start_time": "2021-07-09T18:46:20.461Z"
   },
   {
    "duration": 95,
    "start_time": "2021-07-09T18:46:20.490Z"
   },
   {
    "duration": 23,
    "start_time": "2021-07-09T18:46:20.586Z"
   },
   {
    "duration": 30,
    "start_time": "2021-07-09T18:46:20.611Z"
   },
   {
    "duration": 20,
    "start_time": "2021-07-09T18:46:20.642Z"
   },
   {
    "duration": 27,
    "start_time": "2021-07-09T18:46:20.663Z"
   },
   {
    "duration": 81,
    "start_time": "2021-07-09T18:46:20.691Z"
   },
   {
    "duration": 10,
    "start_time": "2021-07-09T18:56:55.532Z"
   },
   {
    "duration": 12,
    "start_time": "2021-07-09T18:57:09.159Z"
   },
   {
    "duration": 13,
    "start_time": "2021-07-09T18:59:38.853Z"
   },
   {
    "duration": 4,
    "start_time": "2021-07-09T19:00:13.201Z"
   },
   {
    "duration": 12,
    "start_time": "2021-07-09T19:00:27.811Z"
   },
   {
    "duration": 308,
    "start_time": "2021-07-09T19:02:24.312Z"
   },
   {
    "duration": 19,
    "start_time": "2021-07-09T19:02:39.831Z"
   },
   {
    "duration": 266,
    "start_time": "2021-07-09T19:04:29.176Z"
   },
   {
    "duration": 28,
    "start_time": "2021-07-09T19:04:38.255Z"
   },
   {
    "duration": 7128,
    "start_time": "2021-07-09T19:05:49.738Z"
   },
   {
    "duration": 259,
    "start_time": "2021-07-09T19:07:08.204Z"
   },
   {
    "duration": 12,
    "start_time": "2021-07-09T19:07:24.114Z"
   },
   {
    "duration": 1071,
    "start_time": "2021-07-09T19:08:11.759Z"
   },
   {
    "duration": 244,
    "start_time": "2021-07-09T19:08:12.831Z"
   },
   {
    "duration": 36,
    "start_time": "2021-07-09T19:08:13.077Z"
   },
   {
    "duration": 191,
    "start_time": "2021-07-09T19:08:13.115Z"
   },
   {
    "duration": 40,
    "start_time": "2021-07-09T19:08:13.308Z"
   },
   {
    "duration": 113,
    "start_time": "2021-07-09T19:08:13.350Z"
   },
   {
    "duration": 24,
    "start_time": "2021-07-09T19:08:13.464Z"
   },
   {
    "duration": 12,
    "start_time": "2021-07-09T19:08:13.491Z"
   },
   {
    "duration": 48,
    "start_time": "2021-07-09T19:08:13.505Z"
   },
   {
    "duration": 13,
    "start_time": "2021-07-09T19:08:13.555Z"
   },
   {
    "duration": 27,
    "start_time": "2021-07-09T19:08:13.570Z"
   },
   {
    "duration": 87,
    "start_time": "2021-07-09T19:08:13.599Z"
   },
   {
    "duration": 327,
    "start_time": "2021-07-09T19:09:10.112Z"
   },
   {
    "duration": 24,
    "start_time": "2021-07-09T19:09:27.119Z"
   },
   {
    "duration": 30,
    "start_time": "2021-07-09T19:13:04.348Z"
   },
   {
    "duration": 25,
    "start_time": "2021-07-09T19:15:24.771Z"
   },
   {
    "duration": 83,
    "start_time": "2021-07-09T19:15:39.803Z"
   },
   {
    "duration": 3,
    "start_time": "2021-07-09T19:15:45.675Z"
   },
   {
    "duration": 2,
    "start_time": "2021-07-09T19:15:56.370Z"
   },
   {
    "duration": 9218,
    "start_time": "2021-07-09T19:16:07.544Z"
   },
   {
    "duration": 18,
    "start_time": "2021-07-09T19:17:38.781Z"
   },
   {
    "duration": 25,
    "start_time": "2021-07-09T19:17:59.052Z"
   },
   {
    "duration": 23,
    "start_time": "2021-07-09T19:20:47.866Z"
   },
   {
    "duration": 1027,
    "start_time": "2021-07-09T19:21:05.503Z"
   },
   {
    "duration": 213,
    "start_time": "2021-07-09T19:21:06.531Z"
   },
   {
    "duration": 39,
    "start_time": "2021-07-09T19:21:06.746Z"
   },
   {
    "duration": 182,
    "start_time": "2021-07-09T19:21:06.787Z"
   },
   {
    "duration": 31,
    "start_time": "2021-07-09T19:21:06.970Z"
   },
   {
    "duration": 102,
    "start_time": "2021-07-09T19:21:07.003Z"
   },
   {
    "duration": 35,
    "start_time": "2021-07-09T19:21:07.106Z"
   },
   {
    "duration": 15,
    "start_time": "2021-07-09T19:21:07.144Z"
   },
   {
    "duration": 20,
    "start_time": "2021-07-09T19:21:07.161Z"
   },
   {
    "duration": 8,
    "start_time": "2021-07-09T19:21:07.183Z"
   },
   {
    "duration": 4,
    "start_time": "2021-07-09T19:21:07.193Z"
   },
   {
    "duration": 64,
    "start_time": "2021-07-09T19:21:07.198Z"
   },
   {
    "duration": 82,
    "start_time": "2021-07-09T19:21:07.263Z"
   },
   {
    "duration": 22,
    "start_time": "2021-07-09T19:23:44.223Z"
   },
   {
    "duration": 16,
    "start_time": "2021-07-09T19:23:50.482Z"
   },
   {
    "duration": 14,
    "start_time": "2021-07-09T19:24:41.303Z"
   },
   {
    "duration": 14,
    "start_time": "2021-07-09T19:24:55.273Z"
   },
   {
    "duration": 14,
    "start_time": "2021-07-09T19:25:34.282Z"
   },
   {
    "duration": 14,
    "start_time": "2021-07-09T19:25:41.556Z"
   },
   {
    "duration": 15,
    "start_time": "2021-07-09T19:25:56.793Z"
   },
   {
    "duration": 14,
    "start_time": "2021-07-09T19:27:40.007Z"
   },
   {
    "duration": 358,
    "start_time": "2021-07-09T19:34:10.813Z"
   },
   {
    "duration": 266,
    "start_time": "2021-07-09T19:34:47.533Z"
   },
   {
    "duration": 4,
    "start_time": "2021-07-09T19:38:14.832Z"
   },
   {
    "duration": 7,
    "start_time": "2021-07-09T19:38:24.697Z"
   },
   {
    "duration": 252,
    "start_time": "2021-07-09T19:38:51.174Z"
   },
   {
    "duration": 249,
    "start_time": "2021-07-09T19:40:46.000Z"
   },
   {
    "duration": 328,
    "start_time": "2021-07-09T19:41:37.759Z"
   },
   {
    "duration": 277,
    "start_time": "2021-07-09T19:42:15.597Z"
   },
   {
    "duration": 17,
    "start_time": "2021-07-09T19:44:38.833Z"
   },
   {
    "duration": 13,
    "start_time": "2021-07-09T19:44:47.965Z"
   },
   {
    "duration": 270,
    "start_time": "2021-07-09T19:45:30.565Z"
   },
   {
    "duration": 284,
    "start_time": "2021-07-09T19:47:30.850Z"
   },
   {
    "duration": 10,
    "start_time": "2021-07-09T19:47:36.454Z"
   },
   {
    "duration": 19,
    "start_time": "2021-07-09T19:54:15.433Z"
   },
   {
    "duration": 27,
    "start_time": "2021-07-09T19:54:19.782Z"
   },
   {
    "duration": 343,
    "start_time": "2021-07-09T19:54:39.514Z"
   },
   {
    "duration": 27,
    "start_time": "2021-07-09T19:54:52.494Z"
   },
   {
    "duration": 271,
    "start_time": "2021-07-09T19:56:46.963Z"
   },
   {
    "duration": 260,
    "start_time": "2021-07-09T19:56:56.428Z"
   },
   {
    "duration": 44,
    "start_time": "2021-07-09T19:57:00.219Z"
   },
   {
    "duration": 38,
    "start_time": "2021-07-09T19:57:34.183Z"
   },
   {
    "duration": 30,
    "start_time": "2021-07-09T19:57:42.435Z"
   },
   {
    "duration": 16,
    "start_time": "2021-07-09T19:57:54.161Z"
   },
   {
    "duration": 87,
    "start_time": "2021-07-09T19:58:06.048Z"
   },
   {
    "duration": 16,
    "start_time": "2021-07-09T19:58:09.828Z"
   },
   {
    "duration": 107,
    "start_time": "2021-07-09T19:59:43.901Z"
   },
   {
    "duration": 334,
    "start_time": "2021-07-09T20:00:14.792Z"
   },
   {
    "duration": 5488,
    "start_time": "2021-07-09T20:00:31.413Z"
   },
   {
    "duration": 4237,
    "start_time": "2021-07-09T20:00:43.677Z"
   },
   {
    "duration": 4385,
    "start_time": "2021-07-09T20:01:23.235Z"
   },
   {
    "duration": 91,
    "start_time": "2021-07-09T20:01:37.587Z"
   },
   {
    "duration": 14,
    "start_time": "2021-07-09T20:01:41.793Z"
   },
   {
    "duration": 16,
    "start_time": "2021-07-09T20:01:45.311Z"
   },
   {
    "duration": 22,
    "start_time": "2021-07-09T20:02:02.437Z"
   },
   {
    "duration": 18,
    "start_time": "2021-07-09T20:02:15.435Z"
   },
   {
    "duration": 16,
    "start_time": "2021-07-09T20:02:31.314Z"
   },
   {
    "duration": 88,
    "start_time": "2021-07-09T20:02:55.790Z"
   },
   {
    "duration": 4539,
    "start_time": "2021-07-09T20:02:59.795Z"
   },
   {
    "duration": 290,
    "start_time": "2021-07-09T20:04:11.577Z"
   },
   {
    "duration": 270,
    "start_time": "2021-07-09T20:04:20.103Z"
   },
   {
    "duration": 14,
    "start_time": "2021-07-09T20:04:24.330Z"
   },
   {
    "duration": 27,
    "start_time": "2021-07-09T20:04:28.173Z"
   },
   {
    "duration": 21,
    "start_time": "2021-07-09T20:08:23.252Z"
   },
   {
    "duration": 21,
    "start_time": "2021-07-09T20:08:35.433Z"
   },
   {
    "duration": 16,
    "start_time": "2021-07-09T20:08:44.979Z"
   },
   {
    "duration": 18,
    "start_time": "2021-07-09T20:08:58.467Z"
   },
   {
    "duration": 42,
    "start_time": "2021-07-09T20:09:12.592Z"
   },
   {
    "duration": 15,
    "start_time": "2021-07-09T20:09:37.659Z"
   },
   {
    "duration": 20,
    "start_time": "2021-07-09T20:09:44.041Z"
   },
   {
    "duration": 621,
    "start_time": "2021-07-09T20:10:43.347Z"
   },
   {
    "duration": 1190,
    "start_time": "2021-07-09T20:10:57.910Z"
   },
   {
    "duration": 90,
    "start_time": "2021-07-09T20:11:54.985Z"
   },
   {
    "duration": 997,
    "start_time": "2021-07-09T20:12:00.810Z"
   },
   {
    "duration": 1072,
    "start_time": "2021-07-09T20:12:06.360Z"
   },
   {
    "duration": 6031,
    "start_time": "2021-07-09T20:12:25.723Z"
   },
   {
    "duration": 710,
    "start_time": "2021-07-09T20:12:43.353Z"
   },
   {
    "duration": 266,
    "start_time": "2021-07-09T20:12:56.905Z"
   },
   {
    "duration": 1511,
    "start_time": "2021-07-09T20:13:53.331Z"
   },
   {
    "duration": 1127,
    "start_time": "2021-07-09T20:13:57.037Z"
   },
   {
    "duration": 618,
    "start_time": "2021-07-09T20:14:32.579Z"
   },
   {
    "duration": 639,
    "start_time": "2021-07-09T20:14:43.956Z"
   },
   {
    "duration": 606,
    "start_time": "2021-07-09T20:15:12.465Z"
   },
   {
    "duration": 620,
    "start_time": "2021-07-09T20:15:19.931Z"
   },
   {
    "duration": 624,
    "start_time": "2021-07-09T20:16:48.541Z"
   },
   {
    "duration": 995,
    "start_time": "2021-07-09T20:25:28.899Z"
   },
   {
    "duration": 2285,
    "start_time": "2021-07-09T20:29:23.719Z"
   },
   {
    "duration": 1289,
    "start_time": "2021-07-09T20:30:40.230Z"
   },
   {
    "duration": 1226,
    "start_time": "2021-07-09T20:30:58.631Z"
   },
   {
    "duration": 6759,
    "start_time": "2021-07-09T20:31:47.236Z"
   },
   {
    "duration": 1181,
    "start_time": "2021-07-09T20:32:19.628Z"
   },
   {
    "duration": 1400,
    "start_time": "2021-07-09T20:33:01.607Z"
   },
   {
    "duration": 1375,
    "start_time": "2021-07-09T20:33:33.726Z"
   },
   {
    "duration": 799,
    "start_time": "2021-07-09T20:36:36.441Z"
   },
   {
    "duration": 973,
    "start_time": "2021-07-09T20:37:02.318Z"
   },
   {
    "duration": 966,
    "start_time": "2021-07-09T20:37:15.543Z"
   },
   {
    "duration": 1215,
    "start_time": "2021-07-09T20:37:37.674Z"
   },
   {
    "duration": 987,
    "start_time": "2021-07-09T20:38:31.209Z"
   },
   {
    "duration": 1123,
    "start_time": "2021-07-09T20:39:02.126Z"
   },
   {
    "duration": 665,
    "start_time": "2021-07-09T20:39:24.635Z"
   },
   {
    "duration": 7,
    "start_time": "2021-07-09T20:43:25.112Z"
   },
   {
    "duration": 279,
    "start_time": "2021-07-09T20:43:50.872Z"
   },
   {
    "duration": 21,
    "start_time": "2021-07-09T20:44:19.915Z"
   },
   {
    "duration": 245,
    "start_time": "2021-07-09T20:44:47.388Z"
   },
   {
    "duration": 13,
    "start_time": "2021-07-09T20:46:20.396Z"
   },
   {
    "duration": 4,
    "start_time": "2021-07-09T20:46:25.563Z"
   },
   {
    "duration": 78,
    "start_time": "2021-07-09T20:46:47.512Z"
   },
   {
    "duration": 80,
    "start_time": "2021-07-09T20:47:44.449Z"
   },
   {
    "duration": 82,
    "start_time": "2021-07-09T20:49:06.340Z"
   },
   {
    "duration": 3,
    "start_time": "2021-07-09T20:49:12.133Z"
   },
   {
    "duration": 13,
    "start_time": "2021-07-09T20:49:19.549Z"
   },
   {
    "duration": 13,
    "start_time": "2021-07-09T20:49:34.295Z"
   },
   {
    "duration": 13,
    "start_time": "2021-07-09T20:49:41.706Z"
   },
   {
    "duration": 4,
    "start_time": "2021-07-09T20:49:53.125Z"
   },
   {
    "duration": 6,
    "start_time": "2021-07-09T20:49:58.751Z"
   },
   {
    "duration": 12,
    "start_time": "2021-07-09T20:50:06.594Z"
   },
   {
    "duration": 4,
    "start_time": "2021-07-09T20:52:02.404Z"
   },
   {
    "duration": 14,
    "start_time": "2021-07-09T20:52:11.766Z"
   },
   {
    "duration": 13,
    "start_time": "2021-07-09T20:52:35.265Z"
   },
   {
    "duration": 12,
    "start_time": "2021-07-09T20:54:15.082Z"
   },
   {
    "duration": 21,
    "start_time": "2021-07-09T20:54:19.067Z"
   },
   {
    "duration": -471,
    "start_time": "2021-07-09T20:59:16.993Z"
   },
   {
    "duration": -471,
    "start_time": "2021-07-09T20:59:16.994Z"
   },
   {
    "duration": -476,
    "start_time": "2021-07-09T20:59:16.999Z"
   },
   {
    "duration": -476,
    "start_time": "2021-07-09T20:59:17.000Z"
   },
   {
    "duration": -465,
    "start_time": "2021-07-09T20:59:17.005Z"
   },
   {
    "duration": -466,
    "start_time": "2021-07-09T20:59:17.007Z"
   },
   {
    "duration": -490,
    "start_time": "2021-07-09T20:59:17.032Z"
   },
   {
    "duration": -489,
    "start_time": "2021-07-09T20:59:17.033Z"
   },
   {
    "duration": -489,
    "start_time": "2021-07-09T20:59:17.034Z"
   },
   {
    "duration": -489,
    "start_time": "2021-07-09T20:59:17.035Z"
   },
   {
    "duration": -494,
    "start_time": "2021-07-09T20:59:17.041Z"
   },
   {
    "duration": -493,
    "start_time": "2021-07-09T20:59:17.041Z"
   },
   {
    "duration": -494,
    "start_time": "2021-07-09T20:59:17.043Z"
   },
   {
    "duration": 1023,
    "start_time": "2021-07-09T20:59:21.756Z"
   },
   {
    "duration": 213,
    "start_time": "2021-07-09T20:59:22.781Z"
   },
   {
    "duration": 48,
    "start_time": "2021-07-09T20:59:22.996Z"
   },
   {
    "duration": 163,
    "start_time": "2021-07-09T20:59:23.046Z"
   },
   {
    "duration": 32,
    "start_time": "2021-07-09T20:59:23.211Z"
   },
   {
    "duration": 90,
    "start_time": "2021-07-09T20:59:23.252Z"
   },
   {
    "duration": 27,
    "start_time": "2021-07-09T20:59:23.349Z"
   },
   {
    "duration": 9,
    "start_time": "2021-07-09T20:59:23.379Z"
   },
   {
    "duration": 25,
    "start_time": "2021-07-09T20:59:23.390Z"
   },
   {
    "duration": 23,
    "start_time": "2021-07-09T20:59:23.417Z"
   },
   {
    "duration": 12,
    "start_time": "2021-07-09T20:59:23.442Z"
   },
   {
    "duration": 698,
    "start_time": "2021-07-09T20:59:23.456Z"
   },
   {
    "duration": 84,
    "start_time": "2021-07-09T20:59:24.155Z"
   },
   {
    "duration": 13,
    "start_time": "2021-07-09T21:00:02.397Z"
   },
   {
    "duration": 9362,
    "start_time": "2021-07-09T21:01:34.086Z"
   },
   {
    "duration": 894,
    "start_time": "2021-07-09T21:02:43.733Z"
   },
   {
    "duration": 968,
    "start_time": "2021-07-09T21:02:53.754Z"
   },
   {
    "duration": 6273,
    "start_time": "2021-07-09T21:03:27.945Z"
   },
   {
    "duration": 14,
    "start_time": "2021-07-09T21:03:43.417Z"
   },
   {
    "duration": 709,
    "start_time": "2021-07-09T21:04:50.725Z"
   },
   {
    "duration": 6,
    "start_time": "2021-07-09T21:05:12.766Z"
   },
   {
    "duration": 3,
    "start_time": "2021-07-09T21:05:37.727Z"
   },
   {
    "duration": 13,
    "start_time": "2021-07-09T21:05:44.766Z"
   },
   {
    "duration": 6,
    "start_time": "2021-07-09T21:05:55.425Z"
   },
   {
    "duration": 263,
    "start_time": "2021-07-09T21:06:00.965Z"
   },
   {
    "duration": 6,
    "start_time": "2021-07-09T21:07:10.053Z"
   },
   {
    "duration": 6,
    "start_time": "2021-07-09T21:07:38.776Z"
   },
   {
    "duration": 1180,
    "start_time": "2021-07-09T21:08:20.805Z"
   },
   {
    "duration": 880,
    "start_time": "2021-07-09T21:08:49.257Z"
   },
   {
    "duration": 1187,
    "start_time": "2021-07-09T21:08:59.706Z"
   },
   {
    "duration": 1275,
    "start_time": "2021-07-09T21:09:36.483Z"
   },
   {
    "duration": 5,
    "start_time": "2021-07-09T21:10:27.007Z"
   },
   {
    "duration": 1058,
    "start_time": "2021-07-09T21:11:05.917Z"
   },
   {
    "duration": 972,
    "start_time": "2021-07-09T21:11:31.385Z"
   },
   {
    "duration": 1226,
    "start_time": "2021-07-09T21:11:45.665Z"
   },
   {
    "duration": 1262,
    "start_time": "2021-07-09T21:11:50.845Z"
   },
   {
    "duration": 984,
    "start_time": "2021-07-09T21:12:01.477Z"
   },
   {
    "duration": 985,
    "start_time": "2021-07-09T21:12:08.403Z"
   },
   {
    "duration": 13,
    "start_time": "2021-07-09T21:13:06.477Z"
   },
   {
    "duration": 4086,
    "start_time": "2021-07-09T21:16:37.505Z"
   },
   {
    "duration": 3859,
    "start_time": "2021-07-09T21:17:21.285Z"
   },
   {
    "duration": 14,
    "start_time": "2021-07-09T21:19:18.005Z"
   },
   {
    "duration": 6,
    "start_time": "2021-07-09T21:19:40.185Z"
   },
   {
    "duration": 5,
    "start_time": "2021-07-09T21:19:54.885Z"
   },
   {
    "duration": 5,
    "start_time": "2021-07-09T21:20:08.637Z"
   },
   {
    "duration": 5,
    "start_time": "2021-07-09T21:20:35.089Z"
   },
   {
    "duration": 903,
    "start_time": "2021-07-09T21:21:06.565Z"
   },
   {
    "duration": 743,
    "start_time": "2021-07-09T21:21:58.546Z"
   },
   {
    "duration": 1023,
    "start_time": "2021-07-09T21:22:29.726Z"
   },
   {
    "duration": 711,
    "start_time": "2021-07-09T21:23:12.094Z"
   },
   {
    "duration": 711,
    "start_time": "2021-07-09T21:23:26.145Z"
   },
   {
    "duration": 722,
    "start_time": "2021-07-09T21:24:04.765Z"
   },
   {
    "duration": 5356,
    "start_time": "2021-07-09T21:24:33.705Z"
   },
   {
    "duration": 5239,
    "start_time": "2021-07-09T21:24:40.225Z"
   },
   {
    "duration": 712,
    "start_time": "2021-07-09T21:25:13.865Z"
   },
   {
    "duration": 1015,
    "start_time": "2021-07-09T21:26:34.913Z"
   },
   {
    "duration": 198,
    "start_time": "2021-07-09T21:26:35.930Z"
   },
   {
    "duration": 41,
    "start_time": "2021-07-09T21:26:36.130Z"
   },
   {
    "duration": 158,
    "start_time": "2021-07-09T21:26:36.173Z"
   },
   {
    "duration": 33,
    "start_time": "2021-07-09T21:26:36.332Z"
   },
   {
    "duration": 97,
    "start_time": "2021-07-09T21:26:36.367Z"
   },
   {
    "duration": 25,
    "start_time": "2021-07-09T21:26:36.466Z"
   },
   {
    "duration": 10,
    "start_time": "2021-07-09T21:26:36.494Z"
   },
   {
    "duration": 44,
    "start_time": "2021-07-09T21:26:36.506Z"
   },
   {
    "duration": 4,
    "start_time": "2021-07-09T21:26:36.552Z"
   },
   {
    "duration": 4,
    "start_time": "2021-07-09T21:26:36.558Z"
   },
   {
    "duration": 660,
    "start_time": "2021-07-09T21:26:36.564Z"
   },
   {
    "duration": 6,
    "start_time": "2021-07-09T21:26:37.225Z"
   },
   {
    "duration": 96,
    "start_time": "2021-07-09T21:26:37.232Z"
   },
   {
    "duration": 958,
    "start_time": "2021-07-09T21:27:48.876Z"
   },
   {
    "duration": 201,
    "start_time": "2021-07-09T21:27:49.835Z"
   },
   {
    "duration": 38,
    "start_time": "2021-07-09T21:27:50.041Z"
   },
   {
    "duration": 177,
    "start_time": "2021-07-09T21:27:50.081Z"
   },
   {
    "duration": 28,
    "start_time": "2021-07-09T21:27:50.260Z"
   },
   {
    "duration": 100,
    "start_time": "2021-07-09T21:27:50.289Z"
   },
   {
    "duration": 24,
    "start_time": "2021-07-09T21:27:50.390Z"
   },
   {
    "duration": 27,
    "start_time": "2021-07-09T21:27:50.417Z"
   },
   {
    "duration": 23,
    "start_time": "2021-07-09T21:27:50.446Z"
   },
   {
    "duration": 4,
    "start_time": "2021-07-09T21:27:50.471Z"
   },
   {
    "duration": 11,
    "start_time": "2021-07-09T21:27:50.477Z"
   },
   {
    "duration": 797,
    "start_time": "2021-07-09T21:27:50.490Z"
   },
   {
    "duration": 6,
    "start_time": "2021-07-09T21:27:51.288Z"
   },
   {
    "duration": 117,
    "start_time": "2021-07-09T21:27:51.295Z"
   },
   {
    "duration": 966,
    "start_time": "2021-07-10T07:33:52.798Z"
   },
   {
    "duration": 218,
    "start_time": "2021-07-10T07:33:53.765Z"
   },
   {
    "duration": 43,
    "start_time": "2021-07-10T07:33:53.986Z"
   },
   {
    "duration": 183,
    "start_time": "2021-07-10T07:33:54.031Z"
   },
   {
    "duration": 30,
    "start_time": "2021-07-10T07:33:54.216Z"
   },
   {
    "duration": 106,
    "start_time": "2021-07-10T07:33:54.248Z"
   },
   {
    "duration": 37,
    "start_time": "2021-07-10T07:33:54.355Z"
   },
   {
    "duration": 11,
    "start_time": "2021-07-10T07:33:54.395Z"
   },
   {
    "duration": 22,
    "start_time": "2021-07-10T07:33:54.407Z"
   },
   {
    "duration": 4,
    "start_time": "2021-07-10T07:33:54.430Z"
   },
   {
    "duration": 5,
    "start_time": "2021-07-10T07:33:54.435Z"
   },
   {
    "duration": 742,
    "start_time": "2021-07-10T07:33:54.441Z"
   },
   {
    "duration": 10,
    "start_time": "2021-07-10T07:33:55.184Z"
   },
   {
    "duration": 84,
    "start_time": "2021-07-10T07:33:55.195Z"
   },
   {
    "duration": 4,
    "start_time": "2021-07-10T08:03:55.600Z"
   },
   {
    "duration": 434,
    "start_time": "2021-07-10T08:05:02.297Z"
   },
   {
    "duration": 380,
    "start_time": "2021-07-10T08:06:37.854Z"
   },
   {
    "duration": 388,
    "start_time": "2021-07-10T08:09:26.159Z"
   },
   {
    "duration": 379,
    "start_time": "2021-07-10T08:31:22.636Z"
   },
   {
    "duration": 530,
    "start_time": "2021-07-10T08:31:32.663Z"
   },
   {
    "duration": 399,
    "start_time": "2021-07-10T08:31:54.624Z"
   },
   {
    "duration": 392,
    "start_time": "2021-07-10T08:32:26.856Z"
   },
   {
    "duration": 374,
    "start_time": "2021-07-10T08:33:05.333Z"
   },
   {
    "duration": 15,
    "start_time": "2021-07-10T08:33:19.336Z"
   },
   {
    "duration": 16,
    "start_time": "2021-07-10T08:42:15.136Z"
   },
   {
    "duration": 252,
    "start_time": "2021-07-10T08:42:22.524Z"
   },
   {
    "duration": 471,
    "start_time": "2021-07-10T08:42:45.175Z"
   },
   {
    "duration": 7817,
    "start_time": "2021-07-10T08:43:24.951Z"
   },
   {
    "duration": 1435,
    "start_time": "2021-07-11T14:34:25.363Z"
   },
   {
    "duration": 284,
    "start_time": "2021-07-11T14:34:26.801Z"
   },
   {
    "duration": 61,
    "start_time": "2021-07-11T14:34:27.089Z"
   },
   {
    "duration": 284,
    "start_time": "2021-07-11T14:34:27.153Z"
   },
   {
    "duration": 43,
    "start_time": "2021-07-11T14:34:27.441Z"
   },
   {
    "duration": 135,
    "start_time": "2021-07-11T14:34:27.501Z"
   },
   {
    "duration": 35,
    "start_time": "2021-07-11T14:34:27.638Z"
   },
   {
    "duration": 38,
    "start_time": "2021-07-11T14:34:27.676Z"
   },
   {
    "duration": 33,
    "start_time": "2021-07-11T14:34:27.717Z"
   },
   {
    "duration": 6,
    "start_time": "2021-07-11T14:34:27.752Z"
   },
   {
    "duration": 42,
    "start_time": "2021-07-11T14:34:27.760Z"
   },
   {
    "duration": 1349,
    "start_time": "2021-07-11T14:34:27.804Z"
   },
   {
    "duration": 375,
    "start_time": "2021-07-11T14:34:29.156Z"
   },
   {
    "duration": 1087,
    "start_time": "2021-07-11T14:35:05.136Z"
   },
   {
    "duration": 5,
    "start_time": "2021-07-11T14:35:25.990Z"
   },
   {
    "duration": 700,
    "start_time": "2021-07-11T14:35:29.477Z"
   },
   {
    "duration": 479,
    "start_time": "2021-07-11T14:35:45.433Z"
   },
   {
    "duration": 466,
    "start_time": "2021-07-11T14:38:35.745Z"
   },
   {
    "duration": 454,
    "start_time": "2021-07-11T14:39:55.129Z"
   },
   {
    "duration": 563,
    "start_time": "2021-07-11T14:40:00.628Z"
   },
   {
    "duration": 295,
    "start_time": "2021-07-11T14:40:09.254Z"
   },
   {
    "duration": 275,
    "start_time": "2021-07-11T14:40:23.898Z"
   },
   {
    "duration": 10,
    "start_time": "2021-07-11T14:41:32.032Z"
   },
   {
    "duration": 1363,
    "start_time": "2021-07-11T14:42:09.347Z"
   },
   {
    "duration": 9,
    "start_time": "2021-07-11T14:42:13.992Z"
   },
   {
    "duration": 10,
    "start_time": "2021-07-11T14:43:02.770Z"
   },
   {
    "duration": 12,
    "start_time": "2021-07-11T14:43:17.078Z"
   },
   {
    "duration": 11,
    "start_time": "2021-07-11T14:43:24.273Z"
   },
   {
    "duration": 280,
    "start_time": "2021-07-11T14:43:31.393Z"
   },
   {
    "duration": 268,
    "start_time": "2021-07-11T14:44:44.850Z"
   },
   {
    "duration": 11,
    "start_time": "2021-07-11T14:44:57.317Z"
   },
   {
    "duration": 11,
    "start_time": "2021-07-11T14:45:42.380Z"
   },
   {
    "duration": 12,
    "start_time": "2021-07-11T14:45:50.293Z"
   },
   {
    "duration": 11,
    "start_time": "2021-07-11T14:45:58.270Z"
   },
   {
    "duration": 274,
    "start_time": "2021-07-11T14:46:02.200Z"
   },
   {
    "duration": 11,
    "start_time": "2021-07-11T14:46:29.673Z"
   },
   {
    "duration": 11,
    "start_time": "2021-07-11T14:47:54.400Z"
   },
   {
    "duration": 276,
    "start_time": "2021-07-11T14:47:59.318Z"
   },
   {
    "duration": 11,
    "start_time": "2021-07-11T14:51:03.291Z"
   },
   {
    "duration": 10,
    "start_time": "2021-07-11T14:51:15.816Z"
   },
   {
    "duration": 311,
    "start_time": "2021-07-11T14:51:26.320Z"
   },
   {
    "duration": 11,
    "start_time": "2021-07-11T14:51:30.682Z"
   },
   {
    "duration": 25,
    "start_time": "2021-07-11T14:51:48.717Z"
   },
   {
    "duration": 781,
    "start_time": "2021-07-11T14:52:33.783Z"
   },
   {
    "duration": 13,
    "start_time": "2021-07-11T14:57:31.974Z"
   },
   {
    "duration": 1325,
    "start_time": "2021-07-11T14:57:52.038Z"
   },
   {
    "duration": 291,
    "start_time": "2021-07-11T14:57:53.366Z"
   },
   {
    "duration": 70,
    "start_time": "2021-07-11T14:57:53.660Z"
   },
   {
    "duration": 286,
    "start_time": "2021-07-11T14:57:53.734Z"
   },
   {
    "duration": 47,
    "start_time": "2021-07-11T14:57:54.024Z"
   },
   {
    "duration": 155,
    "start_time": "2021-07-11T14:57:54.074Z"
   },
   {
    "duration": 38,
    "start_time": "2021-07-11T14:57:54.231Z"
   },
   {
    "duration": 39,
    "start_time": "2021-07-11T14:57:54.272Z"
   },
   {
    "duration": 36,
    "start_time": "2021-07-11T14:57:54.314Z"
   },
   {
    "duration": 7,
    "start_time": "2021-07-11T14:57:54.352Z"
   },
   {
    "duration": 11,
    "start_time": "2021-07-11T14:57:54.361Z"
   },
   {
    "duration": 1346,
    "start_time": "2021-07-11T14:57:54.374Z"
   },
   {
    "duration": 10,
    "start_time": "2021-07-11T14:57:55.722Z"
   },
   {
    "duration": 3,
    "start_time": "2021-07-11T15:06:59.782Z"
   },
   {
    "duration": 377,
    "start_time": "2021-07-11T15:07:39.118Z"
   },
   {
    "duration": 500,
    "start_time": "2021-07-11T15:07:44.015Z"
   },
   {
    "duration": 488,
    "start_time": "2021-07-11T15:29:00.321Z"
   },
   {
    "duration": 1358,
    "start_time": "2021-07-11T16:17:25.121Z"
   },
   {
    "duration": 320,
    "start_time": "2021-07-11T16:17:26.482Z"
   },
   {
    "duration": 58,
    "start_time": "2021-07-11T16:17:26.807Z"
   },
   {
    "duration": 321,
    "start_time": "2021-07-11T16:17:26.870Z"
   },
   {
    "duration": 63,
    "start_time": "2021-07-11T16:17:27.193Z"
   },
   {
    "duration": 184,
    "start_time": "2021-07-11T16:17:27.259Z"
   },
   {
    "duration": 59,
    "start_time": "2021-07-11T16:17:27.445Z"
   },
   {
    "duration": 17,
    "start_time": "2021-07-11T16:17:27.507Z"
   },
   {
    "duration": 31,
    "start_time": "2021-07-11T16:17:27.527Z"
   },
   {
    "duration": 42,
    "start_time": "2021-07-11T16:17:27.560Z"
   },
   {
    "duration": 18,
    "start_time": "2021-07-11T16:17:27.605Z"
   },
   {
    "duration": 1395,
    "start_time": "2021-07-11T16:17:27.625Z"
   },
   {
    "duration": 11,
    "start_time": "2021-07-11T16:17:29.023Z"
   },
   {
    "duration": 543,
    "start_time": "2021-07-11T16:17:29.036Z"
   },
   {
    "duration": 430,
    "start_time": "2021-07-11T16:18:37.740Z"
   },
   {
    "duration": 468,
    "start_time": "2021-07-11T16:18:46.734Z"
   },
   {
    "duration": 6317,
    "start_time": "2021-07-11T16:26:54.028Z"
   },
   {
    "duration": 6634,
    "start_time": "2021-07-11T16:27:59.037Z"
   },
   {
    "duration": 6399,
    "start_time": "2021-07-11T16:28:22.861Z"
   },
   {
    "duration": 6312,
    "start_time": "2021-07-11T16:28:51.543Z"
   },
   {
    "duration": 304,
    "start_time": "2021-07-11T16:32:55.265Z"
   },
   {
    "duration": 11,
    "start_time": "2021-07-11T16:33:06.588Z"
   },
   {
    "duration": 9,
    "start_time": "2021-07-11T16:34:35.074Z"
   },
   {
    "duration": 6153,
    "start_time": "2021-07-11T16:37:08.696Z"
   },
   {
    "duration": 450,
    "start_time": "2021-07-11T16:46:08.495Z"
   },
   {
    "duration": 450,
    "start_time": "2021-07-11T16:47:10.476Z"
   },
   {
    "duration": 7957,
    "start_time": "2021-07-11T16:47:49.610Z"
   },
   {
    "duration": 474,
    "start_time": "2021-07-11T16:48:17.070Z"
   },
   {
    "duration": 560,
    "start_time": "2021-07-11T16:48:26.940Z"
   },
   {
    "duration": 463,
    "start_time": "2021-07-11T16:48:35.051Z"
   },
   {
    "duration": 58642,
    "start_time": "2021-07-11T16:49:40.429Z"
   },
   {
    "duration": 6559,
    "start_time": "2021-07-11T16:54:26.493Z"
   },
   {
    "duration": 473,
    "start_time": "2021-07-11T16:56:26.359Z"
   },
   {
    "duration": 481,
    "start_time": "2021-07-11T16:56:37.842Z"
   },
   {
    "duration": 444,
    "start_time": "2021-07-11T16:56:55.082Z"
   },
   {
    "duration": 95,
    "start_time": "2021-07-11T16:57:00.502Z"
   },
   {
    "duration": 478,
    "start_time": "2021-07-11T16:57:25.172Z"
   },
   {
    "duration": 9,
    "start_time": "2021-07-11T17:10:46.381Z"
   },
   {
    "duration": 5,
    "start_time": "2021-07-11T17:13:48.273Z"
   },
   {
    "duration": 8,
    "start_time": "2021-07-11T17:14:58.610Z"
   },
   {
    "duration": 1335,
    "start_time": "2021-07-11T17:15:04.208Z"
   },
   {
    "duration": 289,
    "start_time": "2021-07-11T17:15:05.546Z"
   },
   {
    "duration": 67,
    "start_time": "2021-07-11T17:15:05.838Z"
   },
   {
    "duration": 268,
    "start_time": "2021-07-11T17:15:05.908Z"
   },
   {
    "duration": 59,
    "start_time": "2021-07-11T17:15:06.179Z"
   },
   {
    "duration": 161,
    "start_time": "2021-07-11T17:15:06.241Z"
   },
   {
    "duration": 37,
    "start_time": "2021-07-11T17:15:06.405Z"
   },
   {
    "duration": 17,
    "start_time": "2021-07-11T17:15:06.446Z"
   },
   {
    "duration": 64,
    "start_time": "2021-07-11T17:15:06.466Z"
   },
   {
    "duration": 6,
    "start_time": "2021-07-11T17:15:06.532Z"
   },
   {
    "duration": 6,
    "start_time": "2021-07-11T17:15:06.540Z"
   },
   {
    "duration": 1352,
    "start_time": "2021-07-11T17:15:06.548Z"
   },
   {
    "duration": 11,
    "start_time": "2021-07-11T17:15:07.903Z"
   },
   {
    "duration": 13,
    "start_time": "2021-07-11T17:15:07.917Z"
   },
   {
    "duration": 560,
    "start_time": "2021-07-11T17:15:07.932Z"
   },
   {
    "duration": 83,
    "start_time": "2021-07-11T17:15:08.412Z"
   },
   {
    "duration": 78,
    "start_time": "2021-07-11T17:15:08.418Z"
   },
   {
    "duration": 10,
    "start_time": "2021-07-11T17:15:23.894Z"
   },
   {
    "duration": 8,
    "start_time": "2021-07-11T17:15:43.963Z"
   },
   {
    "duration": 94,
    "start_time": "2021-07-11T17:16:42.593Z"
   },
   {
    "duration": 438,
    "start_time": "2021-07-11T17:16:46.397Z"
   },
   {
    "duration": 299,
    "start_time": "2021-07-11T17:21:34.074Z"
   },
   {
    "duration": 286,
    "start_time": "2021-07-11T17:21:50.996Z"
   },
   {
    "duration": 278,
    "start_time": "2021-07-11T17:22:06.174Z"
   },
   {
    "duration": 8,
    "start_time": "2021-07-11T17:22:18.431Z"
   },
   {
    "duration": 5,
    "start_time": "2021-07-11T17:22:31.447Z"
   },
   {
    "duration": 8,
    "start_time": "2021-07-11T17:23:01.135Z"
   },
   {
    "duration": 8,
    "start_time": "2021-07-11T17:23:12.571Z"
   },
   {
    "duration": 1316,
    "start_time": "2021-07-11T17:23:24.559Z"
   },
   {
    "duration": 279,
    "start_time": "2021-07-11T17:23:25.877Z"
   },
   {
    "duration": 69,
    "start_time": "2021-07-11T17:23:26.160Z"
   },
   {
    "duration": 279,
    "start_time": "2021-07-11T17:23:26.232Z"
   },
   {
    "duration": 45,
    "start_time": "2021-07-11T17:23:26.514Z"
   },
   {
    "duration": 157,
    "start_time": "2021-07-11T17:23:26.561Z"
   },
   {
    "duration": 35,
    "start_time": "2021-07-11T17:23:26.721Z"
   },
   {
    "duration": 42,
    "start_time": "2021-07-11T17:23:26.760Z"
   },
   {
    "duration": 31,
    "start_time": "2021-07-11T17:23:26.805Z"
   },
   {
    "duration": 5,
    "start_time": "2021-07-11T17:23:26.839Z"
   },
   {
    "duration": 7,
    "start_time": "2021-07-11T17:23:26.847Z"
   },
   {
    "duration": 1520,
    "start_time": "2021-07-11T17:23:26.857Z"
   },
   {
    "duration": 24,
    "start_time": "2021-07-11T17:23:28.379Z"
   },
   {
    "duration": 9,
    "start_time": "2021-07-11T17:23:28.405Z"
   },
   {
    "duration": 10,
    "start_time": "2021-07-11T17:23:28.416Z"
   },
   {
    "duration": 9,
    "start_time": "2021-07-11T17:23:28.429Z"
   },
   {
    "duration": 62,
    "start_time": "2021-07-11T17:23:28.440Z"
   },
   {
    "duration": 4,
    "start_time": "2021-07-11T17:23:28.505Z"
   },
   {
    "duration": 13,
    "start_time": "2021-07-11T17:23:28.512Z"
   },
   {
    "duration": 4,
    "start_time": "2021-07-11T17:24:04.870Z"
   },
   {
    "duration": 8,
    "start_time": "2021-07-11T17:24:17.907Z"
   },
   {
    "duration": 6,
    "start_time": "2021-07-11T17:29:56.886Z"
   },
   {
    "duration": 571,
    "start_time": "2021-07-11T17:30:11.224Z"
   },
   {
    "duration": 143,
    "start_time": "2021-07-11T17:30:40.261Z"
   },
   {
    "duration": 442,
    "start_time": "2021-07-11T17:31:01.872Z"
   },
   {
    "duration": 4874,
    "start_time": "2021-07-11T17:33:19.498Z"
   },
   {
    "duration": 25,
    "start_time": "2021-07-11T17:33:33.796Z"
   },
   {
    "duration": 444,
    "start_time": "2021-07-11T17:34:25.474Z"
   },
   {
    "duration": 4687,
    "start_time": "2021-07-11T17:34:37.474Z"
   },
   {
    "duration": 38,
    "start_time": "2021-07-11T17:34:42.164Z"
   },
   {
    "duration": 5074,
    "start_time": "2021-07-11T17:34:46.960Z"
   },
   {
    "duration": 25,
    "start_time": "2021-07-11T17:34:52.037Z"
   },
   {
    "duration": 457,
    "start_time": "2021-07-11T17:35:58.367Z"
   },
   {
    "duration": 4890,
    "start_time": "2021-07-11T17:36:24.145Z"
   },
   {
    "duration": 4834,
    "start_time": "2021-07-11T17:38:46.401Z"
   },
   {
    "duration": 7283,
    "start_time": "2021-07-11T17:40:41.962Z"
   },
   {
    "duration": 23,
    "start_time": "2021-07-11T17:40:49.248Z"
   },
   {
    "duration": 4716,
    "start_time": "2021-07-11T17:41:40.392Z"
   },
   {
    "duration": 24,
    "start_time": "2021-07-11T17:41:45.111Z"
   },
   {
    "duration": 456,
    "start_time": "2021-07-11T17:43:05.337Z"
   },
   {
    "duration": 434,
    "start_time": "2021-07-11T17:44:05.930Z"
   },
   {
    "duration": 4820,
    "start_time": "2021-07-11T17:44:42.328Z"
   },
   {
    "duration": 7,
    "start_time": "2021-07-11T17:48:27.275Z"
   },
   {
    "duration": 8,
    "start_time": "2021-07-11T17:50:32.009Z"
   },
   {
    "duration": 278,
    "start_time": "2021-07-11T17:52:16.206Z"
   },
   {
    "duration": 6436,
    "start_time": "2021-07-11T17:52:55.906Z"
   },
   {
    "duration": 6612,
    "start_time": "2021-07-11T17:53:11.266Z"
   },
   {
    "duration": 25,
    "start_time": "2021-07-11T17:54:11.838Z"
   },
   {
    "duration": 250,
    "start_time": "2021-07-11T17:54:24.144Z"
   },
   {
    "duration": 22,
    "start_time": "2021-07-11T17:54:27.351Z"
   },
   {
    "duration": 275,
    "start_time": "2021-07-11T17:54:53.065Z"
   },
   {
    "duration": 1325,
    "start_time": "2021-07-11T17:55:15.750Z"
   },
   {
    "duration": 292,
    "start_time": "2021-07-11T17:55:17.078Z"
   },
   {
    "duration": 69,
    "start_time": "2021-07-11T17:55:17.377Z"
   },
   {
    "duration": 288,
    "start_time": "2021-07-11T17:55:17.449Z"
   },
   {
    "duration": 44,
    "start_time": "2021-07-11T17:55:17.740Z"
   },
   {
    "duration": 143,
    "start_time": "2021-07-11T17:55:17.800Z"
   },
   {
    "duration": 54,
    "start_time": "2021-07-11T17:55:17.945Z"
   },
   {
    "duration": 17,
    "start_time": "2021-07-11T17:55:18.003Z"
   },
   {
    "duration": 36,
    "start_time": "2021-07-11T17:55:18.023Z"
   },
   {
    "duration": 5,
    "start_time": "2021-07-11T17:55:18.062Z"
   },
   {
    "duration": 4,
    "start_time": "2021-07-11T17:55:18.101Z"
   },
   {
    "duration": 1357,
    "start_time": "2021-07-11T17:55:18.107Z"
   },
   {
    "duration": 11,
    "start_time": "2021-07-11T17:55:19.466Z"
   },
   {
    "duration": 25,
    "start_time": "2021-07-11T17:55:19.480Z"
   },
   {
    "duration": 4723,
    "start_time": "2021-07-11T17:55:19.507Z"
   },
   {
    "duration": 373,
    "start_time": "2021-07-11T17:55:24.233Z"
   },
   {
    "duration": 65,
    "start_time": "2021-07-11T17:55:24.544Z"
   },
   {
    "duration": 59,
    "start_time": "2021-07-11T17:55:24.552Z"
   },
   {
    "duration": 58,
    "start_time": "2021-07-11T17:55:24.556Z"
   },
   {
    "duration": 55,
    "start_time": "2021-07-11T17:55:24.561Z"
   },
   {
    "duration": 279,
    "start_time": "2021-07-11T17:55:54.986Z"
   },
   {
    "duration": 8,
    "start_time": "2021-07-11T17:56:02.600Z"
   },
   {
    "duration": 9,
    "start_time": "2021-07-11T17:56:15.123Z"
   },
   {
    "duration": 438,
    "start_time": "2021-07-11T17:56:48.759Z"
   },
   {
    "duration": 9,
    "start_time": "2021-07-11T17:56:58.344Z"
   },
   {
    "duration": 27,
    "start_time": "2021-07-11T17:58:20.637Z"
   },
   {
    "duration": 582,
    "start_time": "2021-07-11T17:58:57.483Z"
   },
   {
    "duration": 311,
    "start_time": "2021-07-11T18:03:21.244Z"
   },
   {
    "duration": 292,
    "start_time": "2021-07-11T18:04:05.019Z"
   },
   {
    "duration": 39,
    "start_time": "2021-07-11T18:04:11.153Z"
   },
   {
    "duration": 23,
    "start_time": "2021-07-11T18:04:25.928Z"
   },
   {
    "duration": 41,
    "start_time": "2021-07-11T18:04:56.841Z"
   },
   {
    "duration": 25,
    "start_time": "2021-07-11T18:05:00.612Z"
   },
   {
    "duration": 1349,
    "start_time": "2021-07-11T18:05:13.012Z"
   },
   {
    "duration": 293,
    "start_time": "2021-07-11T18:05:14.364Z"
   },
   {
    "duration": 73,
    "start_time": "2021-07-11T18:05:14.661Z"
   },
   {
    "duration": 264,
    "start_time": "2021-07-11T18:05:14.738Z"
   },
   {
    "duration": 45,
    "start_time": "2021-07-11T18:05:15.006Z"
   },
   {
    "duration": 155,
    "start_time": "2021-07-11T18:05:15.053Z"
   },
   {
    "duration": 39,
    "start_time": "2021-07-11T18:05:15.211Z"
   },
   {
    "duration": 48,
    "start_time": "2021-07-11T18:05:15.256Z"
   },
   {
    "duration": 42,
    "start_time": "2021-07-11T18:05:15.307Z"
   },
   {
    "duration": 5,
    "start_time": "2021-07-11T18:05:15.353Z"
   },
   {
    "duration": 19,
    "start_time": "2021-07-11T18:05:15.361Z"
   },
   {
    "duration": 1494,
    "start_time": "2021-07-11T18:05:15.383Z"
   },
   {
    "duration": 23,
    "start_time": "2021-07-11T18:05:16.879Z"
   },
   {
    "duration": 21,
    "start_time": "2021-07-11T18:05:16.905Z"
   },
   {
    "duration": 5227,
    "start_time": "2021-07-11T18:05:16.928Z"
   },
   {
    "duration": 9,
    "start_time": "2021-07-11T18:05:22.157Z"
   },
   {
    "duration": 49,
    "start_time": "2021-07-11T18:05:22.168Z"
   },
   {
    "duration": 26,
    "start_time": "2021-07-11T18:05:22.220Z"
   },
   {
    "duration": 54,
    "start_time": "2021-07-11T18:05:22.248Z"
   },
   {
    "duration": 8,
    "start_time": "2021-07-11T18:05:22.305Z"
   },
   {
    "duration": 12,
    "start_time": "2021-07-11T18:05:22.315Z"
   },
   {
    "duration": 614,
    "start_time": "2021-07-11T18:06:44.765Z"
   },
   {
    "duration": 23,
    "start_time": "2021-07-11T18:07:50.006Z"
   },
   {
    "duration": 483,
    "start_time": "2021-07-11T18:07:53.230Z"
   },
   {
    "duration": 23,
    "start_time": "2021-07-11T18:08:03.049Z"
   },
   {
    "duration": 12,
    "start_time": "2021-07-11T18:08:11.225Z"
   },
   {
    "duration": 545,
    "start_time": "2021-07-11T18:08:15.262Z"
   },
   {
    "duration": 9,
    "start_time": "2021-07-11T18:14:46.008Z"
   },
   {
    "duration": 8,
    "start_time": "2021-07-11T18:15:04.352Z"
   },
   {
    "duration": 289,
    "start_time": "2021-07-11T18:16:08.854Z"
   },
   {
    "duration": 36,
    "start_time": "2021-07-11T18:18:34.987Z"
   },
   {
    "duration": 488,
    "start_time": "2021-07-11T18:20:27.293Z"
   },
   {
    "duration": 481,
    "start_time": "2021-07-11T18:21:54.169Z"
   },
   {
    "duration": 317,
    "start_time": "2021-07-11T18:22:52.579Z"
   },
   {
    "duration": 1526,
    "start_time": "2021-07-11T18:26:08.009Z"
   },
   {
    "duration": 320,
    "start_time": "2021-07-11T18:26:09.538Z"
   },
   {
    "duration": 73,
    "start_time": "2021-07-11T18:26:09.862Z"
   },
   {
    "duration": 314,
    "start_time": "2021-07-11T18:26:09.938Z"
   },
   {
    "duration": 58,
    "start_time": "2021-07-11T18:26:10.255Z"
   },
   {
    "duration": 163,
    "start_time": "2021-07-11T18:26:10.316Z"
   },
   {
    "duration": 49,
    "start_time": "2021-07-11T18:26:10.482Z"
   },
   {
    "duration": 19,
    "start_time": "2021-07-11T18:26:10.535Z"
   },
   {
    "duration": 67,
    "start_time": "2021-07-11T18:26:10.558Z"
   },
   {
    "duration": 6,
    "start_time": "2021-07-11T18:26:10.628Z"
   },
   {
    "duration": 6,
    "start_time": "2021-07-11T18:26:10.636Z"
   },
   {
    "duration": 1759,
    "start_time": "2021-07-11T18:26:10.644Z"
   },
   {
    "duration": 15,
    "start_time": "2021-07-11T18:26:12.406Z"
   },
   {
    "duration": 10,
    "start_time": "2021-07-11T18:26:12.423Z"
   },
   {
    "duration": 31,
    "start_time": "2021-07-11T18:26:12.435Z"
   },
   {
    "duration": 7,
    "start_time": "2021-07-11T18:26:12.501Z"
   },
   {
    "duration": 12,
    "start_time": "2021-07-11T18:26:12.511Z"
   },
   {
    "duration": 7210,
    "start_time": "2021-07-11T18:26:12.526Z"
   },
   {
    "duration": -348,
    "start_time": "2021-07-11T18:26:20.086Z"
   },
   {
    "duration": -353,
    "start_time": "2021-07-11T18:26:20.092Z"
   },
   {
    "duration": -353,
    "start_time": "2021-07-11T18:26:20.094Z"
   },
   {
    "duration": -357,
    "start_time": "2021-07-11T18:26:20.099Z"
   },
   {
    "duration": 7179,
    "start_time": "2021-07-11T18:26:56.279Z"
   },
   {
    "duration": 10,
    "start_time": "2021-07-11T18:27:19.850Z"
   },
   {
    "duration": 548,
    "start_time": "2021-07-11T18:27:28.221Z"
   },
   {
    "duration": 7,
    "start_time": "2021-07-11T18:30:47.633Z"
   },
   {
    "duration": 1339,
    "start_time": "2021-07-11T18:32:25.073Z"
   },
   {
    "duration": 302,
    "start_time": "2021-07-11T18:32:26.415Z"
   },
   {
    "duration": 54,
    "start_time": "2021-07-11T18:32:26.719Z"
   },
   {
    "duration": 276,
    "start_time": "2021-07-11T18:32:26.776Z"
   },
   {
    "duration": 56,
    "start_time": "2021-07-11T18:32:27.055Z"
   },
   {
    "duration": 154,
    "start_time": "2021-07-11T18:32:27.113Z"
   },
   {
    "duration": 57,
    "start_time": "2021-07-11T18:32:27.269Z"
   },
   {
    "duration": 18,
    "start_time": "2021-07-11T18:32:27.330Z"
   },
   {
    "duration": 55,
    "start_time": "2021-07-11T18:32:27.351Z"
   },
   {
    "duration": 6,
    "start_time": "2021-07-11T18:32:27.408Z"
   },
   {
    "duration": 6,
    "start_time": "2021-07-11T18:32:27.417Z"
   },
   {
    "duration": 1355,
    "start_time": "2021-07-11T18:32:27.425Z"
   },
   {
    "duration": 22,
    "start_time": "2021-07-11T18:32:28.783Z"
   },
   {
    "duration": 7,
    "start_time": "2021-07-11T18:32:28.808Z"
   },
   {
    "duration": 21,
    "start_time": "2021-07-11T18:32:28.817Z"
   },
   {
    "duration": 7,
    "start_time": "2021-07-11T18:32:28.841Z"
   },
   {
    "duration": 10,
    "start_time": "2021-07-11T18:32:28.850Z"
   },
   {
    "duration": 605,
    "start_time": "2021-07-11T18:32:28.862Z"
   },
   {
    "duration": 38,
    "start_time": "2021-07-11T18:32:29.431Z"
   },
   {
    "duration": 34,
    "start_time": "2021-07-11T18:32:29.437Z"
   },
   {
    "duration": 29,
    "start_time": "2021-07-11T18:32:29.443Z"
   },
   {
    "duration": 30,
    "start_time": "2021-07-11T18:32:29.444Z"
   },
   {
    "duration": 7,
    "start_time": "2021-07-11T18:34:49.271Z"
   },
   {
    "duration": 436,
    "start_time": "2021-07-11T18:35:21.999Z"
   },
   {
    "duration": 424,
    "start_time": "2021-07-11T18:35:31.306Z"
   },
   {
    "duration": 7952,
    "start_time": "2021-07-11T18:35:44.940Z"
   },
   {
    "duration": 5,
    "start_time": "2021-07-11T18:36:23.429Z"
   },
   {
    "duration": 6524,
    "start_time": "2021-07-11T18:37:51.405Z"
   },
   {
    "duration": 6465,
    "start_time": "2021-07-11T18:38:24.816Z"
   },
   {
    "duration": 6,
    "start_time": "2021-07-11T18:38:51.710Z"
   },
   {
    "duration": 6,
    "start_time": "2021-07-11T18:38:56.796Z"
   },
   {
    "duration": 7,
    "start_time": "2021-07-11T18:39:24.345Z"
   },
   {
    "duration": 5,
    "start_time": "2021-07-11T18:39:37.653Z"
   },
   {
    "duration": 5,
    "start_time": "2021-07-11T18:40:16.366Z"
   },
   {
    "duration": 769,
    "start_time": "2021-07-11T18:40:45.826Z"
   },
   {
    "duration": 4671,
    "start_time": "2021-07-11T18:40:55.680Z"
   },
   {
    "duration": 1885,
    "start_time": "2021-07-11T18:41:47.843Z"
   },
   {
    "duration": 489,
    "start_time": "2021-07-11T18:43:08.912Z"
   },
   {
    "duration": 26,
    "start_time": "2021-07-11T18:43:24.156Z"
   },
   {
    "duration": 1965,
    "start_time": "2021-07-11T18:43:48.704Z"
   },
   {
    "duration": 518,
    "start_time": "2021-07-11T18:44:13.807Z"
   },
   {
    "duration": 8,
    "start_time": "2021-07-11T18:45:23.906Z"
   },
   {
    "duration": 97,
    "start_time": "2021-07-11T18:45:34.335Z"
   },
   {
    "duration": 3775,
    "start_time": "2021-07-11T18:45:37.586Z"
   },
   {
    "duration": 26,
    "start_time": "2021-07-11T18:45:51.994Z"
   },
   {
    "duration": 394,
    "start_time": "2021-07-11T18:46:09.063Z"
   },
   {
    "duration": 8,
    "start_time": "2021-07-11T18:46:34.520Z"
   },
   {
    "duration": 7629,
    "start_time": "2021-07-11T18:46:57.125Z"
   },
   {
    "duration": 3779,
    "start_time": "2021-07-11T18:47:35.482Z"
   },
   {
    "duration": 7691,
    "start_time": "2021-07-11T18:47:50.093Z"
   },
   {
    "duration": 9,
    "start_time": "2021-07-11T18:49:18.908Z"
   },
   {
    "duration": 263,
    "start_time": "2021-07-11T18:49:22.881Z"
   },
   {
    "duration": 4282,
    "start_time": "2021-07-11T18:49:36.447Z"
   },
   {
    "duration": 90,
    "start_time": "2021-07-11T18:50:11.034Z"
   },
   {
    "duration": 7,
    "start_time": "2021-07-11T18:50:24.715Z"
   },
   {
    "duration": 4269,
    "start_time": "2021-07-11T18:50:27.805Z"
   },
   {
    "duration": 101,
    "start_time": "2021-07-11T18:50:36.597Z"
   },
   {
    "duration": 8,
    "start_time": "2021-07-11T18:50:50.602Z"
   },
   {
    "duration": 4234,
    "start_time": "2021-07-11T18:50:55.108Z"
   },
   {
    "duration": 5582,
    "start_time": "2021-07-11T18:53:26.847Z"
   },
   {
    "duration": 26,
    "start_time": "2021-07-11T18:54:08.587Z"
   },
   {
    "duration": 30,
    "start_time": "2021-07-11T18:54:12.084Z"
   },
   {
    "duration": 27,
    "start_time": "2021-07-11T18:54:33.062Z"
   },
   {
    "duration": 1424,
    "start_time": "2021-07-11T18:54:38.727Z"
   },
   {
    "duration": 314,
    "start_time": "2021-07-11T18:54:40.154Z"
   },
   {
    "duration": 91,
    "start_time": "2021-07-11T18:54:40.472Z"
   },
   {
    "duration": 272,
    "start_time": "2021-07-11T18:54:40.566Z"
   },
   {
    "duration": 60,
    "start_time": "2021-07-11T18:54:40.841Z"
   },
   {
    "duration": 142,
    "start_time": "2021-07-11T18:54:40.904Z"
   },
   {
    "duration": 64,
    "start_time": "2021-07-11T18:54:41.049Z"
   },
   {
    "duration": 16,
    "start_time": "2021-07-11T18:54:41.116Z"
   },
   {
    "duration": 31,
    "start_time": "2021-07-11T18:54:41.135Z"
   },
   {
    "duration": 36,
    "start_time": "2021-07-11T18:54:41.168Z"
   },
   {
    "duration": 6,
    "start_time": "2021-07-11T18:54:41.207Z"
   },
   {
    "duration": 1347,
    "start_time": "2021-07-11T18:54:41.215Z"
   },
   {
    "duration": 10,
    "start_time": "2021-07-11T18:54:42.565Z"
   },
   {
    "duration": 22,
    "start_time": "2021-07-11T18:54:42.578Z"
   },
   {
    "duration": 38,
    "start_time": "2021-07-11T18:54:42.603Z"
   },
   {
    "duration": 470,
    "start_time": "2021-07-11T18:54:42.643Z"
   },
   {
    "duration": 7,
    "start_time": "2021-07-11T18:54:43.116Z"
   },
   {
    "duration": 5422,
    "start_time": "2021-07-11T18:54:43.126Z"
   },
   {
    "duration": 27,
    "start_time": "2021-07-11T18:54:48.550Z"
   },
   {
    "duration": 28,
    "start_time": "2021-07-11T18:54:48.580Z"
   },
   {
    "duration": 32,
    "start_time": "2021-07-11T18:54:48.611Z"
   },
   {
    "duration": 3,
    "start_time": "2021-07-11T18:54:48.646Z"
   },
   {
    "duration": 14,
    "start_time": "2021-07-11T18:54:48.653Z"
   },
   {
    "duration": 109,
    "start_time": "2021-07-11T18:56:12.097Z"
   },
   {
    "duration": 1418,
    "start_time": "2021-07-11T18:56:24.848Z"
   },
   {
    "duration": 365,
    "start_time": "2021-07-11T18:56:26.270Z"
   },
   {
    "duration": 71,
    "start_time": "2021-07-11T18:56:26.640Z"
   },
   {
    "duration": 319,
    "start_time": "2021-07-11T18:56:26.715Z"
   },
   {
    "duration": 59,
    "start_time": "2021-07-11T18:56:27.036Z"
   },
   {
    "duration": 157,
    "start_time": "2021-07-11T18:56:27.100Z"
   },
   {
    "duration": 62,
    "start_time": "2021-07-11T18:56:27.260Z"
   },
   {
    "duration": 19,
    "start_time": "2021-07-11T18:56:27.327Z"
   },
   {
    "duration": 76,
    "start_time": "2021-07-11T18:56:27.350Z"
   },
   {
    "duration": 6,
    "start_time": "2021-07-11T18:56:27.429Z"
   },
   {
    "duration": 11,
    "start_time": "2021-07-11T18:56:27.437Z"
   },
   {
    "duration": 1575,
    "start_time": "2021-07-11T18:56:27.451Z"
   },
   {
    "duration": 13,
    "start_time": "2021-07-11T18:56:29.029Z"
   },
   {
    "duration": 12,
    "start_time": "2021-07-11T18:56:29.045Z"
   },
   {
    "duration": 46,
    "start_time": "2021-07-11T18:56:29.060Z"
   },
   {
    "duration": 547,
    "start_time": "2021-07-11T18:56:29.109Z"
   },
   {
    "duration": 8,
    "start_time": "2021-07-11T18:56:29.659Z"
   },
   {
    "duration": 6403,
    "start_time": "2021-07-11T18:56:29.669Z"
   },
   {
    "duration": 40,
    "start_time": "2021-07-11T18:56:36.075Z"
   },
   {
    "duration": 15,
    "start_time": "2021-07-11T18:56:36.119Z"
   },
   {
    "duration": 64,
    "start_time": "2021-07-11T18:56:36.136Z"
   },
   {
    "duration": 4,
    "start_time": "2021-07-11T18:56:36.203Z"
   },
   {
    "duration": 11,
    "start_time": "2021-07-11T18:56:36.212Z"
   },
   {
    "duration": 1481,
    "start_time": "2021-07-11T18:57:44.722Z"
   },
   {
    "duration": 359,
    "start_time": "2021-07-11T18:57:46.206Z"
   },
   {
    "duration": 81,
    "start_time": "2021-07-11T18:57:46.569Z"
   },
   {
    "duration": 308,
    "start_time": "2021-07-11T18:57:46.653Z"
   },
   {
    "duration": 61,
    "start_time": "2021-07-11T18:57:46.963Z"
   },
   {
    "duration": 176,
    "start_time": "2021-07-11T18:57:47.028Z"
   },
   {
    "duration": 60,
    "start_time": "2021-07-11T18:57:47.207Z"
   },
   {
    "duration": 46,
    "start_time": "2021-07-11T18:57:47.270Z"
   },
   {
    "duration": 34,
    "start_time": "2021-07-11T18:57:47.323Z"
   },
   {
    "duration": 44,
    "start_time": "2021-07-11T18:57:47.361Z"
   },
   {
    "duration": 7,
    "start_time": "2021-07-11T18:57:47.407Z"
   },
   {
    "duration": 1495,
    "start_time": "2021-07-11T18:57:47.417Z"
   },
   {
    "duration": 11,
    "start_time": "2021-07-11T18:57:48.916Z"
   },
   {
    "duration": 8,
    "start_time": "2021-07-11T18:57:48.930Z"
   },
   {
    "duration": 22,
    "start_time": "2021-07-11T18:57:48.941Z"
   },
   {
    "duration": 559,
    "start_time": "2021-07-11T18:57:48.965Z"
   },
   {
    "duration": 9,
    "start_time": "2021-07-11T18:57:49.527Z"
   },
   {
    "duration": 6636,
    "start_time": "2021-07-11T18:57:49.539Z"
   },
   {
    "duration": 46,
    "start_time": "2021-07-11T18:57:56.177Z"
   },
   {
    "duration": 10,
    "start_time": "2021-07-11T18:57:56.226Z"
   },
   {
    "duration": 65,
    "start_time": "2021-07-11T18:57:56.239Z"
   },
   {
    "duration": 9,
    "start_time": "2021-07-11T18:57:56.307Z"
   },
   {
    "duration": 20,
    "start_time": "2021-07-11T18:57:56.319Z"
   },
   {
    "duration": 1516,
    "start_time": "2021-07-11T18:58:46.057Z"
   },
   {
    "duration": 335,
    "start_time": "2021-07-11T18:58:47.576Z"
   },
   {
    "duration": 56,
    "start_time": "2021-07-11T18:58:47.915Z"
   },
   {
    "duration": 314,
    "start_time": "2021-07-11T18:58:47.974Z"
   },
   {
    "duration": 51,
    "start_time": "2021-07-11T18:58:48.299Z"
   },
   {
    "duration": 166,
    "start_time": "2021-07-11T18:58:48.352Z"
   },
   {
    "duration": 35,
    "start_time": "2021-07-11T18:58:48.521Z"
   },
   {
    "duration": 16,
    "start_time": "2021-07-11T18:58:48.559Z"
   },
   {
    "duration": 48,
    "start_time": "2021-07-11T18:58:48.602Z"
   },
   {
    "duration": 6,
    "start_time": "2021-07-11T18:58:48.653Z"
   },
   {
    "duration": 6,
    "start_time": "2021-07-11T18:58:48.662Z"
   },
   {
    "duration": 1589,
    "start_time": "2021-07-11T18:58:48.702Z"
   },
   {
    "duration": 18,
    "start_time": "2021-07-11T18:58:50.301Z"
   },
   {
    "duration": 9,
    "start_time": "2021-07-11T18:58:50.322Z"
   },
   {
    "duration": 23,
    "start_time": "2021-07-11T18:58:50.334Z"
   },
   {
    "duration": 578,
    "start_time": "2021-07-11T18:58:50.360Z"
   },
   {
    "duration": 8,
    "start_time": "2021-07-11T18:58:50.941Z"
   },
   {
    "duration": 8252,
    "start_time": "2021-07-11T18:58:50.951Z"
   },
   {
    "duration": 33,
    "start_time": "2021-07-11T18:58:59.206Z"
   },
   {
    "duration": 10,
    "start_time": "2021-07-11T18:58:59.242Z"
   },
   {
    "duration": 79,
    "start_time": "2021-07-11T18:58:59.254Z"
   },
   {
    "duration": 7,
    "start_time": "2021-07-11T18:58:59.336Z"
   },
   {
    "duration": 10,
    "start_time": "2021-07-11T18:58:59.347Z"
   },
   {
    "duration": 6559,
    "start_time": "2021-07-11T19:02:10.197Z"
   },
   {
    "duration": 24,
    "start_time": "2021-07-11T19:05:16.878Z"
   },
   {
    "duration": 5,
    "start_time": "2021-07-11T19:05:41.404Z"
   },
   {
    "duration": 4266,
    "start_time": "2021-07-11T19:06:07.638Z"
   },
   {
    "duration": 5375,
    "start_time": "2021-07-11T19:06:26.104Z"
   },
   {
    "duration": 5463,
    "start_time": "2021-07-11T19:07:35.561Z"
   },
   {
    "duration": 1392,
    "start_time": "2021-07-11T19:08:35.567Z"
   },
   {
    "duration": 297,
    "start_time": "2021-07-11T19:08:36.961Z"
   },
   {
    "duration": 71,
    "start_time": "2021-07-11T19:08:37.261Z"
   },
   {
    "duration": 277,
    "start_time": "2021-07-11T19:08:37.336Z"
   },
   {
    "duration": 53,
    "start_time": "2021-07-11T19:08:37.615Z"
   },
   {
    "duration": 139,
    "start_time": "2021-07-11T19:08:37.670Z"
   },
   {
    "duration": 35,
    "start_time": "2021-07-11T19:08:37.812Z"
   },
   {
    "duration": 17,
    "start_time": "2021-07-11T19:08:37.850Z"
   },
   {
    "duration": 66,
    "start_time": "2021-07-11T19:08:37.870Z"
   },
   {
    "duration": 5,
    "start_time": "2021-07-11T19:08:37.939Z"
   },
   {
    "duration": 9,
    "start_time": "2021-07-11T19:08:37.947Z"
   },
   {
    "duration": 1428,
    "start_time": "2021-07-11T19:08:37.958Z"
   },
   {
    "duration": 21,
    "start_time": "2021-07-11T19:08:39.389Z"
   },
   {
    "duration": 11,
    "start_time": "2021-07-11T19:08:39.413Z"
   },
   {
    "duration": 22,
    "start_time": "2021-07-11T19:08:39.426Z"
   },
   {
    "duration": 507,
    "start_time": "2021-07-11T19:08:39.452Z"
   },
   {
    "duration": 10,
    "start_time": "2021-07-11T19:08:39.961Z"
   },
   {
    "duration": 4349,
    "start_time": "2021-07-11T19:08:39.974Z"
   },
   {
    "duration": 8,
    "start_time": "2021-07-11T19:08:44.325Z"
   },
   {
    "duration": 32,
    "start_time": "2021-07-11T19:08:44.336Z"
   },
   {
    "duration": 29,
    "start_time": "2021-07-11T19:08:44.371Z"
   },
   {
    "duration": 21,
    "start_time": "2021-07-11T19:08:44.403Z"
   },
   {
    "duration": 3094,
    "start_time": "2021-07-11T19:09:35.392Z"
   },
   {
    "duration": 5,
    "start_time": "2021-07-11T19:09:58.576Z"
   },
   {
    "duration": 3006,
    "start_time": "2021-07-11T19:11:14.285Z"
   },
   {
    "duration": 1316,
    "start_time": "2021-07-11T19:12:35.449Z"
   },
   {
    "duration": 286,
    "start_time": "2021-07-11T19:12:36.767Z"
   },
   {
    "duration": 68,
    "start_time": "2021-07-11T19:12:37.056Z"
   },
   {
    "duration": 252,
    "start_time": "2021-07-11T19:12:37.128Z"
   },
   {
    "duration": 54,
    "start_time": "2021-07-11T19:12:37.383Z"
   },
   {
    "duration": 150,
    "start_time": "2021-07-11T19:12:37.440Z"
   },
   {
    "duration": 42,
    "start_time": "2021-07-11T19:12:37.593Z"
   },
   {
    "duration": 19,
    "start_time": "2021-07-11T19:12:37.641Z"
   },
   {
    "duration": 34,
    "start_time": "2021-07-11T19:12:37.700Z"
   },
   {
    "duration": 7,
    "start_time": "2021-07-11T19:12:37.738Z"
   },
   {
    "duration": 6,
    "start_time": "2021-07-11T19:12:37.747Z"
   },
   {
    "duration": 1397,
    "start_time": "2021-07-11T19:12:37.755Z"
   },
   {
    "duration": 11,
    "start_time": "2021-07-11T19:12:39.155Z"
   },
   {
    "duration": 31,
    "start_time": "2021-07-11T19:12:39.169Z"
   },
   {
    "duration": 3711,
    "start_time": "2021-07-11T19:12:39.203Z"
   },
   {
    "duration": 26,
    "start_time": "2021-07-11T19:12:42.916Z"
   },
   {
    "duration": 9,
    "start_time": "2021-07-11T19:12:42.945Z"
   },
   {
    "duration": 67,
    "start_time": "2021-07-11T19:12:42.957Z"
   },
   {
    "duration": 3,
    "start_time": "2021-07-11T19:12:43.027Z"
   },
   {
    "duration": 15,
    "start_time": "2021-07-11T19:12:43.032Z"
   },
   {
    "duration": 10,
    "start_time": "2021-07-11T19:13:37.436Z"
   },
   {
    "duration": 11,
    "start_time": "2021-07-11T19:13:51.625Z"
   },
   {
    "duration": 9,
    "start_time": "2021-07-11T19:14:11.189Z"
   },
   {
    "duration": 357,
    "start_time": "2021-07-11T19:14:24.202Z"
   },
   {
    "duration": 11,
    "start_time": "2021-07-11T19:14:37.798Z"
   },
   {
    "duration": 11,
    "start_time": "2021-07-11T19:14:43.596Z"
   },
   {
    "duration": 10,
    "start_time": "2021-07-11T19:14:53.963Z"
   },
   {
    "duration": 310,
    "start_time": "2021-07-11T20:24:14.913Z"
   },
   {
    "duration": 79,
    "start_time": "2021-07-11T20:25:27.352Z"
   },
   {
    "duration": 83,
    "start_time": "2021-07-11T20:25:32.885Z"
   },
   {
    "duration": 295,
    "start_time": "2021-07-11T20:25:39.645Z"
   },
   {
    "duration": 27,
    "start_time": "2021-07-11T20:26:37.829Z"
   },
   {
    "duration": 13,
    "start_time": "2021-07-11T20:27:22.260Z"
   },
   {
    "duration": 7,
    "start_time": "2021-07-11T20:29:37.603Z"
   },
   {
    "duration": 11,
    "start_time": "2021-07-11T20:29:54.393Z"
   },
   {
    "duration": 11,
    "start_time": "2021-07-11T20:30:50.765Z"
   },
   {
    "duration": 9,
    "start_time": "2021-07-11T20:31:53.645Z"
   },
   {
    "duration": 10,
    "start_time": "2021-07-11T20:31:57.292Z"
   },
   {
    "duration": 8,
    "start_time": "2021-07-11T20:32:42.856Z"
   },
   {
    "duration": 10,
    "start_time": "2021-07-11T20:32:47.337Z"
   },
   {
    "duration": 14,
    "start_time": "2021-07-11T20:33:14.796Z"
   },
   {
    "duration": 13,
    "start_time": "2021-07-11T20:33:42.524Z"
   },
   {
    "duration": 14,
    "start_time": "2021-07-11T20:35:43.876Z"
   },
   {
    "duration": 275,
    "start_time": "2021-07-11T20:35:54.284Z"
   },
   {
    "duration": 15,
    "start_time": "2021-07-11T20:36:09.505Z"
   },
   {
    "duration": 14,
    "start_time": "2021-07-11T20:36:22.809Z"
   },
   {
    "duration": 15,
    "start_time": "2021-07-11T20:36:41.429Z"
   },
   {
    "duration": 16,
    "start_time": "2021-07-11T20:37:00.683Z"
   },
   {
    "duration": 15,
    "start_time": "2021-07-11T20:37:15.126Z"
   },
   {
    "duration": 337,
    "start_time": "2021-07-11T20:41:11.214Z"
   },
   {
    "duration": 301,
    "start_time": "2021-07-11T20:42:36.627Z"
   },
   {
    "duration": 595,
    "start_time": "2021-07-11T20:42:50.409Z"
   },
   {
    "duration": 585,
    "start_time": "2021-07-11T20:43:11.863Z"
   },
   {
    "duration": 85,
    "start_time": "2021-07-11T20:43:47.599Z"
   },
   {
    "duration": 246,
    "start_time": "2021-07-11T20:43:54.824Z"
   },
   {
    "duration": 548,
    "start_time": "2021-07-11T20:44:03.778Z"
   },
   {
    "duration": 554,
    "start_time": "2021-07-11T20:46:53.440Z"
   },
   {
    "duration": 278,
    "start_time": "2021-07-11T20:47:19.884Z"
   },
   {
    "duration": 649,
    "start_time": "2021-07-11T20:47:31.016Z"
   },
   {
    "duration": 613,
    "start_time": "2021-07-11T20:47:58.962Z"
   },
   {
    "duration": 349,
    "start_time": "2021-07-11T20:49:11.162Z"
   },
   {
    "duration": 411,
    "start_time": "2021-07-11T20:49:16.422Z"
   },
   {
    "duration": 415,
    "start_time": "2021-07-11T20:49:23.994Z"
   },
   {
    "duration": 389,
    "start_time": "2021-07-11T20:51:48.661Z"
   },
   {
    "duration": 388,
    "start_time": "2021-07-11T20:52:55.324Z"
   },
   {
    "duration": 426,
    "start_time": "2021-07-11T20:55:30.924Z"
   },
   {
    "duration": 394,
    "start_time": "2021-07-11T20:56:25.656Z"
   },
   {
    "duration": 5,
    "start_time": "2021-07-11T21:09:09.160Z"
   },
   {
    "duration": 6,
    "start_time": "2021-07-11T21:10:04.959Z"
   },
   {
    "duration": 5,
    "start_time": "2021-07-11T21:11:00.038Z"
   },
   {
    "duration": 6,
    "start_time": "2021-07-11T21:11:22.773Z"
   },
   {
    "duration": 1831,
    "start_time": "2021-07-11T21:14:45.457Z"
   },
   {
    "duration": 394,
    "start_time": "2021-07-11T21:14:47.292Z"
   },
   {
    "duration": 57,
    "start_time": "2021-07-11T21:14:47.702Z"
   },
   {
    "duration": 297,
    "start_time": "2021-07-11T21:14:47.763Z"
   },
   {
    "duration": 58,
    "start_time": "2021-07-11T21:14:48.063Z"
   },
   {
    "duration": 145,
    "start_time": "2021-07-11T21:14:48.123Z"
   },
   {
    "duration": 51,
    "start_time": "2021-07-11T21:14:48.271Z"
   },
   {
    "duration": 15,
    "start_time": "2021-07-11T21:14:48.326Z"
   },
   {
    "duration": 57,
    "start_time": "2021-07-11T21:14:48.344Z"
   },
   {
    "duration": 6,
    "start_time": "2021-07-11T21:14:48.403Z"
   },
   {
    "duration": 7,
    "start_time": "2021-07-11T21:14:48.411Z"
   },
   {
    "duration": 1361,
    "start_time": "2021-07-11T21:14:48.420Z"
   },
   {
    "duration": 21,
    "start_time": "2021-07-11T21:14:49.784Z"
   },
   {
    "duration": 12,
    "start_time": "2021-07-11T21:14:49.808Z"
   },
   {
    "duration": 3497,
    "start_time": "2021-07-11T21:14:49.822Z"
   },
   {
    "duration": 25,
    "start_time": "2021-07-11T21:14:53.322Z"
   },
   {
    "duration": 16,
    "start_time": "2021-07-11T21:14:53.349Z"
   },
   {
    "duration": 39,
    "start_time": "2021-07-11T21:14:53.368Z"
   },
   {
    "duration": 450,
    "start_time": "2021-07-11T21:14:53.409Z"
   },
   {
    "duration": 472,
    "start_time": "2021-07-11T21:14:53.862Z"
   },
   {
    "duration": 433,
    "start_time": "2021-07-11T21:14:54.337Z"
   },
   {
    "duration": 401,
    "start_time": "2021-07-11T21:14:54.773Z"
   },
   {
    "duration": 439,
    "start_time": "2021-07-11T21:14:55.178Z"
   },
   {
    "duration": 402,
    "start_time": "2021-07-11T21:14:55.620Z"
   },
   {
    "duration": 6,
    "start_time": "2021-07-11T21:14:56.025Z"
   },
   {
    "duration": 1016,
    "start_time": "2021-07-11T21:15:47.072Z"
   },
   {
    "duration": 1863,
    "start_time": "2021-07-11T21:15:50.889Z"
   },
   {
    "duration": 303,
    "start_time": "2021-07-11T21:15:52.756Z"
   },
   {
    "duration": 77,
    "start_time": "2021-07-11T21:15:53.063Z"
   },
   {
    "duration": 281,
    "start_time": "2021-07-11T21:15:53.143Z"
   },
   {
    "duration": 40,
    "start_time": "2021-07-11T21:15:53.426Z"
   },
   {
    "duration": 156,
    "start_time": "2021-07-11T21:15:53.470Z"
   },
   {
    "duration": 36,
    "start_time": "2021-07-11T21:15:53.629Z"
   },
   {
    "duration": 40,
    "start_time": "2021-07-11T21:15:53.668Z"
   },
   {
    "duration": 35,
    "start_time": "2021-07-11T21:15:53.710Z"
   },
   {
    "duration": 6,
    "start_time": "2021-07-11T21:15:53.747Z"
   },
   {
    "duration": 12,
    "start_time": "2021-07-11T21:15:53.755Z"
   },
   {
    "duration": 1480,
    "start_time": "2021-07-11T21:15:53.769Z"
   },
   {
    "duration": 10,
    "start_time": "2021-07-11T21:15:55.252Z"
   },
   {
    "duration": 8,
    "start_time": "2021-07-11T21:15:55.264Z"
   },
   {
    "duration": 3533,
    "start_time": "2021-07-11T21:15:55.300Z"
   },
   {
    "duration": 27,
    "start_time": "2021-07-11T21:15:58.835Z"
   },
   {
    "duration": 35,
    "start_time": "2021-07-11T21:15:58.865Z"
   },
   {
    "duration": 13,
    "start_time": "2021-07-11T21:15:58.904Z"
   },
   {
    "duration": 436,
    "start_time": "2021-07-11T21:15:58.919Z"
   },
   {
    "duration": 417,
    "start_time": "2021-07-11T21:15:59.358Z"
   },
   {
    "duration": 420,
    "start_time": "2021-07-11T21:15:59.777Z"
   },
   {
    "duration": 396,
    "start_time": "2021-07-11T21:16:00.199Z"
   },
   {
    "duration": 445,
    "start_time": "2021-07-11T21:16:00.602Z"
   },
   {
    "duration": 411,
    "start_time": "2021-07-11T21:16:01.050Z"
   },
   {
    "duration": 8,
    "start_time": "2021-07-11T21:16:01.464Z"
   },
   {
    "duration": 78,
    "start_time": "2021-07-11T21:16:48.558Z"
   },
   {
    "duration": 575,
    "start_time": "2021-07-11T21:22:29.181Z"
   },
   {
    "duration": 844,
    "start_time": "2021-07-11T21:22:50.210Z"
   },
   {
    "duration": 451,
    "start_time": "2021-07-11T21:23:25.270Z"
   },
   {
    "duration": 442,
    "start_time": "2021-07-11T21:24:25.365Z"
   },
   {
    "duration": 10,
    "start_time": "2021-07-11T21:26:34.309Z"
   },
   {
    "duration": 26,
    "start_time": "2021-07-11T21:41:21.185Z"
   },
   {
    "duration": 8,
    "start_time": "2021-07-11T21:44:16.114Z"
   },
   {
    "duration": 350,
    "start_time": "2021-07-11T21:44:43.269Z"
   },
   {
    "duration": 266,
    "start_time": "2021-07-11T21:45:21.285Z"
   },
   {
    "duration": 278,
    "start_time": "2021-07-11T21:45:40.797Z"
   },
   {
    "duration": 440,
    "start_time": "2021-07-11T21:46:26.249Z"
   },
   {
    "duration": 23,
    "start_time": "2021-07-11T21:48:00.563Z"
   },
   {
    "duration": 10,
    "start_time": "2021-07-11T21:48:17.625Z"
   },
   {
    "duration": 11,
    "start_time": "2021-07-11T21:48:28.978Z"
   },
   {
    "duration": 6,
    "start_time": "2021-07-11T21:48:48.665Z"
   },
   {
    "duration": 103,
    "start_time": "2021-07-11T21:51:11.541Z"
   },
   {
    "duration": 11,
    "start_time": "2021-07-11T21:51:38.734Z"
   },
   {
    "duration": 29,
    "start_time": "2021-07-11T21:51:48.582Z"
   },
   {
    "duration": 29,
    "start_time": "2021-07-11T21:52:00.546Z"
   },
   {
    "duration": 29,
    "start_time": "2021-07-11T21:52:49.470Z"
   },
   {
    "duration": 30,
    "start_time": "2021-07-11T21:53:02.427Z"
   },
   {
    "duration": 9,
    "start_time": "2021-07-11T21:53:16.832Z"
   },
   {
    "duration": 92,
    "start_time": "2021-07-11T21:53:27.492Z"
   },
   {
    "duration": 27,
    "start_time": "2021-07-11T21:53:32.209Z"
   },
   {
    "duration": 1760,
    "start_time": "2021-07-11T21:53:45.296Z"
   },
   {
    "duration": 299,
    "start_time": "2021-07-11T21:53:47.059Z"
   },
   {
    "duration": 66,
    "start_time": "2021-07-11T21:53:47.361Z"
   },
   {
    "duration": 245,
    "start_time": "2021-07-11T21:53:47.430Z"
   },
   {
    "duration": 52,
    "start_time": "2021-07-11T21:53:47.677Z"
   },
   {
    "duration": 158,
    "start_time": "2021-07-11T21:53:47.732Z"
   },
   {
    "duration": 41,
    "start_time": "2021-07-11T21:53:47.893Z"
   },
   {
    "duration": 15,
    "start_time": "2021-07-11T21:53:47.938Z"
   },
   {
    "duration": 67,
    "start_time": "2021-07-11T21:53:47.956Z"
   },
   {
    "duration": 5,
    "start_time": "2021-07-11T21:53:48.025Z"
   },
   {
    "duration": 5,
    "start_time": "2021-07-11T21:53:48.033Z"
   },
   {
    "duration": 1347,
    "start_time": "2021-07-11T21:53:48.040Z"
   },
   {
    "duration": 20,
    "start_time": "2021-07-11T21:53:49.390Z"
   },
   {
    "duration": 8,
    "start_time": "2021-07-11T21:53:49.413Z"
   },
   {
    "duration": 3434,
    "start_time": "2021-07-11T21:53:49.423Z"
   },
   {
    "duration": 26,
    "start_time": "2021-07-11T21:53:52.860Z"
   },
   {
    "duration": 20,
    "start_time": "2021-07-11T21:53:52.888Z"
   },
   {
    "duration": 11,
    "start_time": "2021-07-11T21:53:52.911Z"
   },
   {
    "duration": 437,
    "start_time": "2021-07-11T21:53:52.924Z"
   },
   {
    "duration": 402,
    "start_time": "2021-07-11T21:53:53.364Z"
   },
   {
    "duration": 410,
    "start_time": "2021-07-11T21:53:53.769Z"
   },
   {
    "duration": 378,
    "start_time": "2021-07-11T21:53:54.182Z"
   },
   {
    "duration": 418,
    "start_time": "2021-07-11T21:53:54.565Z"
   },
   {
    "duration": 400,
    "start_time": "2021-07-11T21:53:54.986Z"
   },
   {
    "duration": 18,
    "start_time": "2021-07-11T21:53:55.389Z"
   },
   {
    "duration": 6,
    "start_time": "2021-07-11T21:53:55.409Z"
   },
   {
    "duration": 28,
    "start_time": "2021-07-11T21:53:55.417Z"
   },
   {
    "duration": 25,
    "start_time": "2021-07-11T21:56:31.933Z"
   },
   {
    "duration": 586,
    "start_time": "2021-07-11T21:57:49.655Z"
   },
   {
    "duration": 269,
    "start_time": "2021-07-11T21:59:34.669Z"
   },
   {
    "duration": 1782,
    "start_time": "2021-07-11T21:59:48.338Z"
   },
   {
    "duration": 290,
    "start_time": "2021-07-11T21:59:50.124Z"
   },
   {
    "duration": 54,
    "start_time": "2021-07-11T21:59:50.418Z"
   },
   {
    "duration": 260,
    "start_time": "2021-07-11T21:59:50.476Z"
   },
   {
    "duration": 61,
    "start_time": "2021-07-11T21:59:50.739Z"
   },
   {
    "duration": 145,
    "start_time": "2021-07-11T21:59:50.803Z"
   },
   {
    "duration": 52,
    "start_time": "2021-07-11T21:59:50.950Z"
   },
   {
    "duration": 16,
    "start_time": "2021-07-11T21:59:51.004Z"
   },
   {
    "duration": 35,
    "start_time": "2021-07-11T21:59:51.028Z"
   },
   {
    "duration": 8,
    "start_time": "2021-07-11T21:59:51.103Z"
   },
   {
    "duration": 10,
    "start_time": "2021-07-11T21:59:51.114Z"
   },
   {
    "duration": 1329,
    "start_time": "2021-07-11T21:59:51.127Z"
   },
   {
    "duration": 10,
    "start_time": "2021-07-11T21:59:52.458Z"
   },
   {
    "duration": 31,
    "start_time": "2021-07-11T21:59:52.471Z"
   },
   {
    "duration": 3429,
    "start_time": "2021-07-11T21:59:52.505Z"
   },
   {
    "duration": 25,
    "start_time": "2021-07-11T21:59:55.936Z"
   },
   {
    "duration": 19,
    "start_time": "2021-07-11T21:59:55.963Z"
   },
   {
    "duration": 25,
    "start_time": "2021-07-11T21:59:55.985Z"
   },
   {
    "duration": 529,
    "start_time": "2021-07-11T21:59:56.012Z"
   },
   {
    "duration": 415,
    "start_time": "2021-07-11T21:59:56.544Z"
   },
   {
    "duration": 432,
    "start_time": "2021-07-11T21:59:56.961Z"
   },
   {
    "duration": 401,
    "start_time": "2021-07-11T21:59:57.400Z"
   },
   {
    "duration": 429,
    "start_time": "2021-07-11T21:59:57.805Z"
   },
   {
    "duration": 418,
    "start_time": "2021-07-11T21:59:58.238Z"
   },
   {
    "duration": 10,
    "start_time": "2021-07-11T21:59:58.660Z"
   },
   {
    "duration": 27,
    "start_time": "2021-07-11T21:59:58.673Z"
   },
   {
    "duration": 388,
    "start_time": "2021-07-11T21:59:58.707Z"
   },
   {
    "duration": 261,
    "start_time": "2021-07-11T22:00:26.585Z"
   },
   {
    "duration": 442,
    "start_time": "2021-07-11T22:00:32.878Z"
   },
   {
    "duration": 291,
    "start_time": "2021-07-11T22:02:37.256Z"
   },
   {
    "duration": 274,
    "start_time": "2021-07-11T22:04:13.226Z"
   },
   {
    "duration": 1795,
    "start_time": "2021-07-11T22:04:47.981Z"
   },
   {
    "duration": 294,
    "start_time": "2021-07-11T22:04:49.779Z"
   },
   {
    "duration": 59,
    "start_time": "2021-07-11T22:04:50.077Z"
   },
   {
    "duration": 263,
    "start_time": "2021-07-11T22:04:50.139Z"
   },
   {
    "duration": 41,
    "start_time": "2021-07-11T22:04:50.404Z"
   },
   {
    "duration": 152,
    "start_time": "2021-07-11T22:04:50.448Z"
   },
   {
    "duration": 36,
    "start_time": "2021-07-11T22:04:50.603Z"
   },
   {
    "duration": 17,
    "start_time": "2021-07-11T22:04:50.643Z"
   },
   {
    "duration": 65,
    "start_time": "2021-07-11T22:04:50.663Z"
   },
   {
    "duration": 6,
    "start_time": "2021-07-11T22:04:50.731Z"
   },
   {
    "duration": 8,
    "start_time": "2021-07-11T22:04:50.740Z"
   },
   {
    "duration": 1507,
    "start_time": "2021-07-11T22:04:50.750Z"
   },
   {
    "duration": 10,
    "start_time": "2021-07-11T22:04:52.260Z"
   },
   {
    "duration": 29,
    "start_time": "2021-07-11T22:04:52.273Z"
   },
   {
    "duration": 3716,
    "start_time": "2021-07-11T22:04:52.305Z"
   },
   {
    "duration": 25,
    "start_time": "2021-07-11T22:04:56.023Z"
   },
   {
    "duration": 13,
    "start_time": "2021-07-11T22:04:56.051Z"
   },
   {
    "duration": 39,
    "start_time": "2021-07-11T22:04:56.067Z"
   },
   {
    "duration": 433,
    "start_time": "2021-07-11T22:04:56.109Z"
   },
   {
    "duration": 419,
    "start_time": "2021-07-11T22:04:56.545Z"
   },
   {
    "duration": 427,
    "start_time": "2021-07-11T22:04:56.966Z"
   },
   {
    "duration": 392,
    "start_time": "2021-07-11T22:04:57.400Z"
   },
   {
    "duration": 429,
    "start_time": "2021-07-11T22:04:57.796Z"
   },
   {
    "duration": 397,
    "start_time": "2021-07-11T22:04:58.227Z"
   },
   {
    "duration": 10,
    "start_time": "2021-07-11T22:04:58.628Z"
   },
   {
    "duration": 10,
    "start_time": "2021-07-11T22:04:58.641Z"
   },
   {
    "duration": 12,
    "start_time": "2021-07-11T22:04:58.654Z"
   },
   {
    "duration": 111,
    "start_time": "2021-07-11T22:04:58.668Z"
   },
   {
    "duration": 88,
    "start_time": "2021-07-11T22:05:22.951Z"
   },
   {
    "duration": 465,
    "start_time": "2021-07-11T22:05:43.782Z"
   },
   {
    "duration": 177,
    "start_time": "2021-07-11T22:06:37.505Z"
   },
   {
    "duration": 1851,
    "start_time": "2021-07-11T22:07:04.924Z"
   },
   {
    "duration": 306,
    "start_time": "2021-07-11T22:07:06.778Z"
   },
   {
    "duration": 47,
    "start_time": "2021-07-11T22:07:07.100Z"
   },
   {
    "duration": 252,
    "start_time": "2021-07-11T22:07:07.149Z"
   },
   {
    "duration": 41,
    "start_time": "2021-07-11T22:07:07.404Z"
   },
   {
    "duration": 153,
    "start_time": "2021-07-11T22:07:07.448Z"
   },
   {
    "duration": 39,
    "start_time": "2021-07-11T22:07:07.603Z"
   },
   {
    "duration": 17,
    "start_time": "2021-07-11T22:07:07.645Z"
   },
   {
    "duration": 61,
    "start_time": "2021-07-11T22:07:07.665Z"
   },
   {
    "duration": 6,
    "start_time": "2021-07-11T22:07:07.729Z"
   },
   {
    "duration": 30,
    "start_time": "2021-07-11T22:07:07.737Z"
   },
   {
    "duration": 1279,
    "start_time": "2021-07-11T22:07:07.770Z"
   },
   {
    "duration": 14,
    "start_time": "2021-07-11T22:07:09.052Z"
   },
   {
    "duration": 31,
    "start_time": "2021-07-11T22:07:09.069Z"
   },
   {
    "duration": 3475,
    "start_time": "2021-07-11T22:07:09.104Z"
   },
   {
    "duration": 38,
    "start_time": "2021-07-11T22:07:12.581Z"
   },
   {
    "duration": 13,
    "start_time": "2021-07-11T22:07:12.622Z"
   },
   {
    "duration": 13,
    "start_time": "2021-07-11T22:07:12.638Z"
   },
   {
    "duration": 450,
    "start_time": "2021-07-11T22:07:12.653Z"
   },
   {
    "duration": 406,
    "start_time": "2021-07-11T22:07:13.106Z"
   },
   {
    "duration": 420,
    "start_time": "2021-07-11T22:07:13.516Z"
   },
   {
    "duration": 406,
    "start_time": "2021-07-11T22:07:13.939Z"
   },
   {
    "duration": 429,
    "start_time": "2021-07-11T22:07:14.352Z"
   },
   {
    "duration": 385,
    "start_time": "2021-07-11T22:07:14.784Z"
   },
   {
    "duration": 8,
    "start_time": "2021-07-11T22:07:15.172Z"
   },
   {
    "duration": 21,
    "start_time": "2021-07-11T22:07:15.183Z"
   },
   {
    "duration": 16,
    "start_time": "2021-07-11T22:07:15.206Z"
   },
   {
    "duration": 98,
    "start_time": "2021-07-11T22:07:15.224Z"
   },
   {
    "duration": 70,
    "start_time": "2021-07-11T22:07:51.766Z"
   },
   {
    "duration": 11,
    "start_time": "2021-07-11T22:08:40.681Z"
   },
   {
    "duration": 9,
    "start_time": "2021-07-11T22:14:06.166Z"
   },
   {
    "duration": 103,
    "start_time": "2021-07-11T22:19:56.033Z"
   },
   {
    "duration": 1829,
    "start_time": "2021-07-11T22:20:13.009Z"
   },
   {
    "duration": 290,
    "start_time": "2021-07-11T22:20:14.841Z"
   },
   {
    "duration": 50,
    "start_time": "2021-07-11T22:20:15.134Z"
   },
   {
    "duration": 242,
    "start_time": "2021-07-11T22:20:15.201Z"
   },
   {
    "duration": 39,
    "start_time": "2021-07-11T22:20:15.446Z"
   },
   {
    "duration": 136,
    "start_time": "2021-07-11T22:20:15.500Z"
   },
   {
    "duration": 34,
    "start_time": "2021-07-11T22:20:15.638Z"
   },
   {
    "duration": 38,
    "start_time": "2021-07-11T22:20:15.676Z"
   },
   {
    "duration": 34,
    "start_time": "2021-07-11T22:20:15.718Z"
   },
   {
    "duration": 5,
    "start_time": "2021-07-11T22:20:15.754Z"
   },
   {
    "duration": 8,
    "start_time": "2021-07-11T22:20:15.762Z"
   },
   {
    "duration": 1400,
    "start_time": "2021-07-11T22:20:15.773Z"
   },
   {
    "duration": 10,
    "start_time": "2021-07-11T22:20:17.176Z"
   },
   {
    "duration": 8,
    "start_time": "2021-07-11T22:20:17.201Z"
   },
   {
    "duration": 3458,
    "start_time": "2021-07-11T22:20:17.212Z"
   },
   {
    "duration": 37,
    "start_time": "2021-07-11T22:20:20.672Z"
   },
   {
    "duration": 11,
    "start_time": "2021-07-11T22:20:20.711Z"
   },
   {
    "duration": 11,
    "start_time": "2021-07-11T22:20:20.725Z"
   },
   {
    "duration": 422,
    "start_time": "2021-07-11T22:20:20.738Z"
   },
   {
    "duration": 411,
    "start_time": "2021-07-11T22:20:21.163Z"
   },
   {
    "duration": 405,
    "start_time": "2021-07-11T22:20:21.578Z"
   },
   {
    "duration": 407,
    "start_time": "2021-07-11T22:20:21.985Z"
   },
   {
    "duration": 423,
    "start_time": "2021-07-11T22:20:22.400Z"
   },
   {
    "duration": 405,
    "start_time": "2021-07-11T22:20:22.827Z"
   },
   {
    "duration": 10,
    "start_time": "2021-07-11T22:20:23.235Z"
   },
   {
    "duration": 8,
    "start_time": "2021-07-11T22:20:23.248Z"
   },
   {
    "duration": 42,
    "start_time": "2021-07-11T22:20:23.258Z"
   },
   {
    "duration": 74,
    "start_time": "2021-07-11T22:20:23.303Z"
   },
   {
    "duration": 22,
    "start_time": "2021-07-11T22:20:23.380Z"
   },
   {
    "duration": 12,
    "start_time": "2021-07-11T22:20:23.405Z"
   },
   {
    "duration": 470,
    "start_time": "2021-07-11T22:21:57.344Z"
   },
   {
    "duration": 506,
    "start_time": "2021-07-11T22:22:15.241Z"
   },
   {
    "duration": 805,
    "start_time": "2021-07-11T22:22:32.910Z"
   },
   {
    "duration": 621,
    "start_time": "2021-07-11T22:23:07.878Z"
   },
   {
    "duration": 424,
    "start_time": "2021-07-11T22:23:12.521Z"
   },
   {
    "duration": 1091,
    "start_time": "2021-07-11T22:23:35.323Z"
   },
   {
    "duration": 915,
    "start_time": "2021-07-11T22:23:45.157Z"
   },
   {
    "duration": 435,
    "start_time": "2021-07-11T22:24:10.443Z"
   },
   {
    "duration": 602,
    "start_time": "2021-07-11T22:24:33.141Z"
   },
   {
    "duration": 448,
    "start_time": "2021-07-11T22:24:50.044Z"
   },
   {
    "duration": 460,
    "start_time": "2021-07-11T22:25:03.934Z"
   },
   {
    "duration": 1847,
    "start_time": "2021-07-11T22:25:34.814Z"
   },
   {
    "duration": 301,
    "start_time": "2021-07-11T22:25:36.664Z"
   },
   {
    "duration": 65,
    "start_time": "2021-07-11T22:25:36.968Z"
   },
   {
    "duration": 252,
    "start_time": "2021-07-11T22:25:37.036Z"
   },
   {
    "duration": 40,
    "start_time": "2021-07-11T22:25:37.300Z"
   },
   {
    "duration": 147,
    "start_time": "2021-07-11T22:25:37.342Z"
   },
   {
    "duration": 41,
    "start_time": "2021-07-11T22:25:37.492Z"
   },
   {
    "duration": 17,
    "start_time": "2021-07-11T22:25:37.535Z"
   },
   {
    "duration": 71,
    "start_time": "2021-07-11T22:25:37.558Z"
   },
   {
    "duration": 6,
    "start_time": "2021-07-11T22:25:37.633Z"
   },
   {
    "duration": 6,
    "start_time": "2021-07-11T22:25:37.642Z"
   },
   {
    "duration": 1342,
    "start_time": "2021-07-11T22:25:37.650Z"
   },
   {
    "duration": 13,
    "start_time": "2021-07-11T22:25:38.999Z"
   },
   {
    "duration": 10,
    "start_time": "2021-07-11T22:25:39.015Z"
   },
   {
    "duration": 3359,
    "start_time": "2021-07-11T22:25:39.028Z"
   },
   {
    "duration": 34,
    "start_time": "2021-07-11T22:25:42.389Z"
   },
   {
    "duration": 12,
    "start_time": "2021-07-11T22:25:42.426Z"
   },
   {
    "duration": 15,
    "start_time": "2021-07-11T22:25:42.441Z"
   },
   {
    "duration": 455,
    "start_time": "2021-07-11T22:25:42.460Z"
   },
   {
    "duration": 397,
    "start_time": "2021-07-11T22:25:42.918Z"
   },
   {
    "duration": 432,
    "start_time": "2021-07-11T22:25:43.318Z"
   },
   {
    "duration": 403,
    "start_time": "2021-07-11T22:25:43.752Z"
   },
   {
    "duration": 411,
    "start_time": "2021-07-11T22:25:44.157Z"
   },
   {
    "duration": 395,
    "start_time": "2021-07-11T22:25:44.570Z"
   },
   {
    "duration": 514,
    "start_time": "2021-07-11T22:25:44.967Z"
   },
   {
    "duration": 5,
    "start_time": "2021-07-11T22:25:45.483Z"
   },
   {
    "duration": 8,
    "start_time": "2021-07-11T22:25:45.504Z"
   },
   {
    "duration": 88,
    "start_time": "2021-07-11T22:25:45.514Z"
   },
   {
    "duration": 10,
    "start_time": "2021-07-11T22:25:45.605Z"
   },
   {
    "duration": 554,
    "start_time": "2021-07-11T22:25:45.618Z"
   },
   {
    "duration": 1944,
    "start_time": "2021-07-12T20:55:54.987Z"
   },
   {
    "duration": 1407,
    "start_time": "2021-07-12T20:56:03.800Z"
   },
   {
    "duration": 13,
    "start_time": "2021-07-12T20:56:08.392Z"
   },
   {
    "duration": 9,
    "start_time": "2021-07-12T20:56:27.652Z"
   },
   {
    "duration": 9,
    "start_time": "2021-07-12T20:56:56.125Z"
   },
   {
    "duration": 9,
    "start_time": "2021-07-12T20:59:29.746Z"
   },
   {
    "duration": 1400,
    "start_time": "2021-07-12T21:04:37.389Z"
   },
   {
    "duration": 4207,
    "start_time": "2021-07-12T21:04:38.791Z"
   },
   {
    "duration": -575,
    "start_time": "2021-07-12T21:04:43.576Z"
   },
   {
    "duration": -581,
    "start_time": "2021-07-12T21:04:43.583Z"
   },
   {
    "duration": -587,
    "start_time": "2021-07-12T21:04:43.590Z"
   },
   {
    "duration": -590,
    "start_time": "2021-07-12T21:04:43.594Z"
   },
   {
    "duration": -594,
    "start_time": "2021-07-12T21:04:43.599Z"
   },
   {
    "duration": -597,
    "start_time": "2021-07-12T21:04:43.603Z"
   },
   {
    "duration": -602,
    "start_time": "2021-07-12T21:04:43.609Z"
   },
   {
    "duration": -605,
    "start_time": "2021-07-12T21:04:43.613Z"
   },
   {
    "duration": -611,
    "start_time": "2021-07-12T21:04:43.620Z"
   },
   {
    "duration": -616,
    "start_time": "2021-07-12T21:04:43.626Z"
   },
   {
    "duration": -620,
    "start_time": "2021-07-12T21:04:43.631Z"
   },
   {
    "duration": -625,
    "start_time": "2021-07-12T21:04:43.637Z"
   },
   {
    "duration": -627,
    "start_time": "2021-07-12T21:04:43.640Z"
   },
   {
    "duration": -631,
    "start_time": "2021-07-12T21:04:43.645Z"
   },
   {
    "duration": -636,
    "start_time": "2021-07-12T21:04:43.651Z"
   },
   {
    "duration": -638,
    "start_time": "2021-07-12T21:04:43.654Z"
   },
   {
    "duration": -642,
    "start_time": "2021-07-12T21:04:43.659Z"
   },
   {
    "duration": -647,
    "start_time": "2021-07-12T21:04:43.665Z"
   },
   {
    "duration": -648,
    "start_time": "2021-07-12T21:04:43.667Z"
   },
   {
    "duration": -652,
    "start_time": "2021-07-12T21:04:43.672Z"
   },
   {
    "duration": -654,
    "start_time": "2021-07-12T21:04:43.675Z"
   },
   {
    "duration": -657,
    "start_time": "2021-07-12T21:04:43.679Z"
   },
   {
    "duration": -661,
    "start_time": "2021-07-12T21:04:43.684Z"
   },
   {
    "duration": -663,
    "start_time": "2021-07-12T21:04:43.687Z"
   },
   {
    "duration": -667,
    "start_time": "2021-07-12T21:04:43.692Z"
   },
   {
    "duration": -668,
    "start_time": "2021-07-12T21:04:43.694Z"
   },
   {
    "duration": -672,
    "start_time": "2021-07-12T21:04:43.699Z"
   },
   {
    "duration": -674,
    "start_time": "2021-07-12T21:04:43.702Z"
   },
   {
    "duration": -685,
    "start_time": "2021-07-12T21:04:43.714Z"
   },
   {
    "duration": -687,
    "start_time": "2021-07-12T21:04:43.716Z"
   },
   {
    "duration": 1327,
    "start_time": "2021-07-12T21:05:34.632Z"
   },
   {
    "duration": 10,
    "start_time": "2021-07-12T21:05:35.960Z"
   },
   {
    "duration": 224,
    "start_time": "2021-07-12T21:05:35.972Z"
   },
   {
    "duration": 38,
    "start_time": "2021-07-12T21:05:36.198Z"
   },
   {
    "duration": 168,
    "start_time": "2021-07-12T21:05:36.237Z"
   },
   {
    "duration": 24,
    "start_time": "2021-07-12T21:05:36.407Z"
   },
   {
    "duration": 106,
    "start_time": "2021-07-12T21:05:36.433Z"
   },
   {
    "duration": 23,
    "start_time": "2021-07-12T21:05:36.541Z"
   },
   {
    "duration": 20,
    "start_time": "2021-07-12T21:05:36.566Z"
   },
   {
    "duration": 14,
    "start_time": "2021-07-12T21:05:36.587Z"
   },
   {
    "duration": 19,
    "start_time": "2021-07-12T21:05:36.603Z"
   },
   {
    "duration": 4,
    "start_time": "2021-07-12T21:05:36.623Z"
   },
   {
    "duration": 9,
    "start_time": "2021-07-12T21:05:36.628Z"
   },
   {
    "duration": 756,
    "start_time": "2021-07-12T21:05:36.638Z"
   },
   {
    "duration": 7,
    "start_time": "2021-07-12T21:05:37.396Z"
   },
   {
    "duration": 6,
    "start_time": "2021-07-12T21:05:37.404Z"
   },
   {
    "duration": 1710,
    "start_time": "2021-07-12T21:05:37.411Z"
   },
   {
    "duration": 18,
    "start_time": "2021-07-12T21:05:39.123Z"
   },
   {
    "duration": 7,
    "start_time": "2021-07-12T21:05:39.143Z"
   },
   {
    "duration": 39,
    "start_time": "2021-07-12T21:05:39.152Z"
   },
   {
    "duration": 269,
    "start_time": "2021-07-12T21:05:39.192Z"
   },
   {
    "duration": 256,
    "start_time": "2021-07-12T21:05:39.463Z"
   },
   {
    "duration": 266,
    "start_time": "2021-07-12T21:05:39.722Z"
   },
   {
    "duration": 256,
    "start_time": "2021-07-12T21:05:39.990Z"
   },
   {
    "duration": 260,
    "start_time": "2021-07-12T21:05:40.248Z"
   },
   {
    "duration": 242,
    "start_time": "2021-07-12T21:05:40.510Z"
   },
   {
    "duration": 344,
    "start_time": "2021-07-12T21:05:40.754Z"
   },
   {
    "duration": 4,
    "start_time": "2021-07-12T21:05:41.100Z"
   },
   {
    "duration": 6,
    "start_time": "2021-07-12T21:05:41.105Z"
   },
   {
    "duration": 41,
    "start_time": "2021-07-12T21:05:41.113Z"
   },
   {
    "duration": 32,
    "start_time": "2021-07-12T21:05:41.155Z"
   },
   {
    "duration": 282,
    "start_time": "2021-07-12T21:05:41.189Z"
   },
   {
    "duration": 8,
    "start_time": "2021-07-12T21:06:54.987Z"
   },
   {
    "duration": 1332,
    "start_time": "2021-07-12T21:06:59.234Z"
   },
   {
    "duration": 10,
    "start_time": "2021-07-12T21:07:00.568Z"
   },
   {
    "duration": 223,
    "start_time": "2021-07-12T21:07:00.580Z"
   },
   {
    "duration": 39,
    "start_time": "2021-07-12T21:07:00.804Z"
   },
   {
    "duration": 174,
    "start_time": "2021-07-12T21:07:00.845Z"
   },
   {
    "duration": 25,
    "start_time": "2021-07-12T21:07:01.021Z"
   },
   {
    "duration": 107,
    "start_time": "2021-07-12T21:07:01.048Z"
   },
   {
    "duration": 42,
    "start_time": "2021-07-12T21:07:01.158Z"
   },
   {
    "duration": 4,
    "start_time": "2021-07-12T21:07:01.202Z"
   },
   {
    "duration": 16,
    "start_time": "2021-07-12T21:07:01.208Z"
   },
   {
    "duration": 22,
    "start_time": "2021-07-12T21:07:01.225Z"
   },
   {
    "duration": 4,
    "start_time": "2021-07-12T21:07:01.249Z"
   },
   {
    "duration": 30,
    "start_time": "2021-07-12T21:07:01.255Z"
   },
   {
    "duration": 751,
    "start_time": "2021-07-12T21:07:01.287Z"
   },
   {
    "duration": 6,
    "start_time": "2021-07-12T21:07:02.039Z"
   },
   {
    "duration": 15,
    "start_time": "2021-07-12T21:07:02.046Z"
   },
   {
    "duration": 23,
    "start_time": "2021-07-12T21:07:02.062Z"
   },
   {
    "duration": 1722,
    "start_time": "2021-07-12T21:07:02.087Z"
   },
   {
    "duration": 15,
    "start_time": "2021-07-12T21:07:03.810Z"
   },
   {
    "duration": 7,
    "start_time": "2021-07-12T21:07:03.827Z"
   },
   {
    "duration": 8,
    "start_time": "2021-07-12T21:07:03.835Z"
   },
   {
    "duration": 305,
    "start_time": "2021-07-12T21:07:03.845Z"
   },
   {
    "duration": 272,
    "start_time": "2021-07-12T21:07:04.152Z"
   },
   {
    "duration": 265,
    "start_time": "2021-07-12T21:07:04.426Z"
   },
   {
    "duration": 261,
    "start_time": "2021-07-12T21:07:04.693Z"
   },
   {
    "duration": 280,
    "start_time": "2021-07-12T21:07:04.958Z"
   },
   {
    "duration": 254,
    "start_time": "2021-07-12T21:07:05.239Z"
   },
   {
    "duration": 369,
    "start_time": "2021-07-12T21:07:05.495Z"
   },
   {
    "duration": 4,
    "start_time": "2021-07-12T21:07:05.865Z"
   },
   {
    "duration": 18,
    "start_time": "2021-07-12T21:07:05.871Z"
   },
   {
    "duration": 45,
    "start_time": "2021-07-12T21:07:05.891Z"
   },
   {
    "duration": 8,
    "start_time": "2021-07-12T21:07:05.938Z"
   },
   {
    "duration": 313,
    "start_time": "2021-07-12T21:07:05.947Z"
   },
   {
    "duration": 5,
    "start_time": "2021-07-12T21:08:00.867Z"
   },
   {
    "duration": 4487,
    "start_time": "2021-07-12T21:08:08.402Z"
   },
   {
    "duration": 4,
    "start_time": "2021-07-12T21:09:07.897Z"
   },
   {
    "duration": 8,
    "start_time": "2021-07-12T21:09:29.579Z"
   },
   {
    "duration": 4,
    "start_time": "2021-07-12T21:09:48.832Z"
   },
   {
    "duration": 4,
    "start_time": "2021-07-12T21:10:04.608Z"
   },
   {
    "duration": 5,
    "start_time": "2021-07-12T21:10:46.538Z"
   },
   {
    "duration": 5,
    "start_time": "2021-07-12T21:10:58.321Z"
   },
   {
    "duration": 5,
    "start_time": "2021-07-12T21:11:40.193Z"
   },
   {
    "duration": 4,
    "start_time": "2021-07-12T21:12:02.355Z"
   },
   {
    "duration": 1477,
    "start_time": "2021-07-12T21:12:08.500Z"
   },
   {
    "duration": 10,
    "start_time": "2021-07-12T21:12:09.979Z"
   },
   {
    "duration": 239,
    "start_time": "2021-07-12T21:12:09.990Z"
   },
   {
    "duration": 35,
    "start_time": "2021-07-12T21:12:10.231Z"
   },
   {
    "duration": 153,
    "start_time": "2021-07-12T21:12:10.285Z"
   },
   {
    "duration": 24,
    "start_time": "2021-07-12T21:12:10.439Z"
   },
   {
    "duration": 120,
    "start_time": "2021-07-12T21:12:10.465Z"
   },
   {
    "duration": 23,
    "start_time": "2021-07-12T21:12:10.587Z"
   },
   {
    "duration": 4,
    "start_time": "2021-07-12T21:12:10.612Z"
   },
   {
    "duration": 11,
    "start_time": "2021-07-12T21:12:10.618Z"
   },
   {
    "duration": 55,
    "start_time": "2021-07-12T21:12:10.630Z"
   },
   {
    "duration": 4,
    "start_time": "2021-07-12T21:12:10.687Z"
   },
   {
    "duration": 6,
    "start_time": "2021-07-12T21:12:10.693Z"
   },
   {
    "duration": 730,
    "start_time": "2021-07-12T21:12:10.700Z"
   },
   {
    "duration": 6,
    "start_time": "2021-07-12T21:12:11.432Z"
   },
   {
    "duration": 7,
    "start_time": "2021-07-12T21:12:11.440Z"
   },
   {
    "duration": 5,
    "start_time": "2021-07-12T21:12:11.449Z"
   },
   {
    "duration": 1707,
    "start_time": "2021-07-12T21:12:11.455Z"
   },
   {
    "duration": 29,
    "start_time": "2021-07-12T21:12:13.163Z"
   },
   {
    "duration": 7,
    "start_time": "2021-07-12T21:12:13.193Z"
   },
   {
    "duration": 14,
    "start_time": "2021-07-12T21:12:13.202Z"
   },
   {
    "duration": 268,
    "start_time": "2021-07-12T21:12:13.218Z"
   },
   {
    "duration": 260,
    "start_time": "2021-07-12T21:12:13.489Z"
   },
   {
    "duration": 265,
    "start_time": "2021-07-12T21:12:13.751Z"
   },
   {
    "duration": 259,
    "start_time": "2021-07-12T21:12:14.017Z"
   },
   {
    "duration": 270,
    "start_time": "2021-07-12T21:12:14.278Z"
   },
   {
    "duration": 247,
    "start_time": "2021-07-12T21:12:14.549Z"
   },
   {
    "duration": 357,
    "start_time": "2021-07-12T21:12:14.798Z"
   },
   {
    "duration": 4,
    "start_time": "2021-07-12T21:12:15.157Z"
   },
   {
    "duration": 7,
    "start_time": "2021-07-12T21:12:15.162Z"
   },
   {
    "duration": 54,
    "start_time": "2021-07-12T21:12:15.170Z"
   },
   {
    "duration": 7,
    "start_time": "2021-07-12T21:12:15.225Z"
   },
   {
    "duration": 296,
    "start_time": "2021-07-12T21:12:15.234Z"
   },
   {
    "duration": 4859,
    "start_time": "2021-07-12T21:14:20.787Z"
   },
   {
    "duration": 374,
    "start_time": "2021-07-12T21:14:43.273Z"
   },
   {
    "duration": 9,
    "start_time": "2021-07-12T21:14:46.735Z"
   },
   {
    "duration": 14,
    "start_time": "2021-07-12T21:16:35.716Z"
   },
   {
    "duration": 187,
    "start_time": "2021-07-12T21:27:49.490Z"
   },
   {
    "duration": 4313,
    "start_time": "2021-07-12T21:27:57.449Z"
   },
   {
    "duration": 1330,
    "start_time": "2021-07-12T21:28:12.124Z"
   },
   {
    "duration": 16,
    "start_time": "2021-07-12T21:28:13.456Z"
   },
   {
    "duration": 218,
    "start_time": "2021-07-12T21:28:13.474Z"
   },
   {
    "duration": 37,
    "start_time": "2021-07-12T21:28:13.694Z"
   },
   {
    "duration": 180,
    "start_time": "2021-07-12T21:28:13.732Z"
   },
   {
    "duration": 25,
    "start_time": "2021-07-12T21:28:13.914Z"
   },
   {
    "duration": 118,
    "start_time": "2021-07-12T21:28:13.941Z"
   },
   {
    "duration": 35,
    "start_time": "2021-07-12T21:28:14.062Z"
   },
   {
    "duration": 4,
    "start_time": "2021-07-12T21:28:14.099Z"
   },
   {
    "duration": 18,
    "start_time": "2021-07-12T21:28:14.105Z"
   },
   {
    "duration": 19,
    "start_time": "2021-07-12T21:28:14.124Z"
   },
   {
    "duration": 4,
    "start_time": "2021-07-12T21:28:14.145Z"
   },
   {
    "duration": 5,
    "start_time": "2021-07-12T21:28:14.150Z"
   },
   {
    "duration": 736,
    "start_time": "2021-07-12T21:28:14.185Z"
   },
   {
    "duration": 5,
    "start_time": "2021-07-12T21:28:14.923Z"
   },
   {
    "duration": 10,
    "start_time": "2021-07-12T21:28:14.930Z"
   },
   {
    "duration": 5,
    "start_time": "2021-07-12T21:28:14.942Z"
   },
   {
    "duration": 1738,
    "start_time": "2021-07-12T21:28:14.948Z"
   },
   {
    "duration": 15,
    "start_time": "2021-07-12T21:28:16.688Z"
   },
   {
    "duration": 8,
    "start_time": "2021-07-12T21:28:16.705Z"
   },
   {
    "duration": 7,
    "start_time": "2021-07-12T21:28:16.715Z"
   },
   {
    "duration": 302,
    "start_time": "2021-07-12T21:28:16.724Z"
   },
   {
    "duration": 281,
    "start_time": "2021-07-12T21:28:17.029Z"
   },
   {
    "duration": 268,
    "start_time": "2021-07-12T21:28:17.311Z"
   },
   {
    "duration": 245,
    "start_time": "2021-07-12T21:28:17.580Z"
   },
   {
    "duration": 269,
    "start_time": "2021-07-12T21:28:17.827Z"
   },
   {
    "duration": 252,
    "start_time": "2021-07-12T21:28:18.097Z"
   },
   {
    "duration": 339,
    "start_time": "2021-07-12T21:28:18.351Z"
   },
   {
    "duration": 4,
    "start_time": "2021-07-12T21:28:18.691Z"
   },
   {
    "duration": 7,
    "start_time": "2021-07-12T21:28:18.697Z"
   },
   {
    "duration": 43,
    "start_time": "2021-07-12T21:28:18.705Z"
   },
   {
    "duration": 7,
    "start_time": "2021-07-12T21:28:18.749Z"
   },
   {
    "duration": 274,
    "start_time": "2021-07-12T21:28:18.785Z"
   },
   {
    "duration": 63,
    "start_time": "2021-07-12T21:30:16.695Z"
   },
   {
    "duration": 4563,
    "start_time": "2021-07-12T21:32:09.984Z"
   },
   {
    "duration": 1409,
    "start_time": "2021-07-12T21:32:57.026Z"
   },
   {
    "duration": 15,
    "start_time": "2021-07-12T21:32:58.436Z"
   },
   {
    "duration": 124,
    "start_time": "2021-07-12T21:32:58.453Z"
   },
   {
    "duration": 25,
    "start_time": "2021-07-12T21:32:58.578Z"
   },
   {
    "duration": 13,
    "start_time": "2021-07-12T21:32:58.605Z"
   },
   {
    "duration": 72,
    "start_time": "2021-07-12T21:32:58.619Z"
   },
   {
    "duration": 16,
    "start_time": "2021-07-12T21:32:58.693Z"
   },
   {
    "duration": 37,
    "start_time": "2021-07-12T21:32:58.712Z"
   },
   {
    "duration": 184,
    "start_time": "2021-07-12T21:32:58.751Z"
   },
   {
    "duration": 24,
    "start_time": "2021-07-12T21:32:58.936Z"
   },
   {
    "duration": 103,
    "start_time": "2021-07-12T21:32:58.962Z"
   },
   {
    "duration": 36,
    "start_time": "2021-07-12T21:32:59.067Z"
   },
   {
    "duration": 4,
    "start_time": "2021-07-12T21:32:59.105Z"
   },
   {
    "duration": 14,
    "start_time": "2021-07-12T21:32:59.111Z"
   },
   {
    "duration": 19,
    "start_time": "2021-07-12T21:32:59.127Z"
   },
   {
    "duration": 37,
    "start_time": "2021-07-12T21:32:59.148Z"
   },
   {
    "duration": 7,
    "start_time": "2021-07-12T21:32:59.187Z"
   },
   {
    "duration": 737,
    "start_time": "2021-07-12T21:32:59.196Z"
   },
   {
    "duration": 7,
    "start_time": "2021-07-12T21:32:59.934Z"
   },
   {
    "duration": 6,
    "start_time": "2021-07-12T21:32:59.943Z"
   },
   {
    "duration": 5,
    "start_time": "2021-07-12T21:32:59.951Z"
   },
   {
    "duration": 1740,
    "start_time": "2021-07-12T21:32:59.957Z"
   },
   {
    "duration": 17,
    "start_time": "2021-07-12T21:33:01.700Z"
   },
   {
    "duration": 9,
    "start_time": "2021-07-12T21:33:01.718Z"
   },
   {
    "duration": 15,
    "start_time": "2021-07-12T21:33:01.729Z"
   },
   {
    "duration": 300,
    "start_time": "2021-07-12T21:33:01.746Z"
   },
   {
    "duration": 263,
    "start_time": "2021-07-12T21:33:02.047Z"
   },
   {
    "duration": 266,
    "start_time": "2021-07-12T21:33:02.311Z"
   },
   {
    "duration": 255,
    "start_time": "2021-07-12T21:33:02.579Z"
   },
   {
    "duration": 270,
    "start_time": "2021-07-12T21:33:02.835Z"
   },
   {
    "duration": 249,
    "start_time": "2021-07-12T21:33:03.107Z"
   },
   {
    "duration": 344,
    "start_time": "2021-07-12T21:33:03.358Z"
   },
   {
    "duration": 5,
    "start_time": "2021-07-12T21:33:03.704Z"
   },
   {
    "duration": 6,
    "start_time": "2021-07-12T21:33:03.710Z"
   },
   {
    "duration": 43,
    "start_time": "2021-07-12T21:33:03.717Z"
   },
   {
    "duration": 28,
    "start_time": "2021-07-12T21:33:03.761Z"
   },
   {
    "duration": 295,
    "start_time": "2021-07-12T21:33:03.791Z"
   },
   {
    "duration": 281,
    "start_time": "2021-07-12T21:35:03.344Z"
   },
   {
    "duration": 264,
    "start_time": "2021-07-12T21:53:00.167Z"
   },
   {
    "duration": 1348,
    "start_time": "2021-07-12T21:57:47.176Z"
   },
   {
    "duration": 14,
    "start_time": "2021-07-12T21:57:48.526Z"
   },
   {
    "duration": 121,
    "start_time": "2021-07-12T21:57:48.542Z"
   },
   {
    "duration": 32,
    "start_time": "2021-07-12T21:57:48.665Z"
   },
   {
    "duration": 14,
    "start_time": "2021-07-12T21:57:48.698Z"
   },
   {
    "duration": 51,
    "start_time": "2021-07-12T21:57:48.713Z"
   },
   {
    "duration": 32,
    "start_time": "2021-07-12T21:57:48.766Z"
   },
   {
    "duration": 33,
    "start_time": "2021-07-12T21:57:48.801Z"
   },
   {
    "duration": 111,
    "start_time": "2021-07-12T21:57:48.835Z"
   },
   {
    "duration": 17,
    "start_time": "2021-07-12T21:57:48.948Z"
   },
   {
    "duration": 30,
    "start_time": "2021-07-12T21:57:48.966Z"
   },
   {
    "duration": 36,
    "start_time": "2021-07-12T21:57:48.997Z"
   },
   {
    "duration": 13,
    "start_time": "2021-07-12T21:57:49.035Z"
   },
   {
    "duration": 51,
    "start_time": "2021-07-12T21:57:49.049Z"
   },
   {
    "duration": 96,
    "start_time": "2021-07-12T21:57:49.102Z"
   },
   {
    "duration": 22,
    "start_time": "2021-07-12T21:57:49.199Z"
   },
   {
    "duration": 4,
    "start_time": "2021-07-12T21:57:49.223Z"
   },
   {
    "duration": 13,
    "start_time": "2021-07-12T21:57:49.228Z"
   },
   {
    "duration": 52,
    "start_time": "2021-07-12T21:57:49.242Z"
   },
   {
    "duration": 4,
    "start_time": "2021-07-12T21:57:49.296Z"
   },
   {
    "duration": 5,
    "start_time": "2021-07-12T21:57:49.301Z"
   },
   {
    "duration": 736,
    "start_time": "2021-07-12T21:57:49.308Z"
   },
   {
    "duration": 7,
    "start_time": "2021-07-12T21:57:50.047Z"
   },
   {
    "duration": 29,
    "start_time": "2021-07-12T21:57:50.056Z"
   },
   {
    "duration": 6,
    "start_time": "2021-07-12T21:57:50.087Z"
   },
   {
    "duration": 1703,
    "start_time": "2021-07-12T21:57:50.094Z"
   },
   {
    "duration": 16,
    "start_time": "2021-07-12T21:57:51.798Z"
   },
   {
    "duration": 9,
    "start_time": "2021-07-12T21:57:51.816Z"
   },
   {
    "duration": 7,
    "start_time": "2021-07-12T21:57:51.826Z"
   },
   {
    "duration": 290,
    "start_time": "2021-07-12T21:57:51.834Z"
   },
   {
    "duration": 267,
    "start_time": "2021-07-12T21:57:52.125Z"
   },
   {
    "duration": 247,
    "start_time": "2021-07-12T21:57:52.393Z"
   },
   {
    "duration": 246,
    "start_time": "2021-07-12T21:57:52.641Z"
   },
   {
    "duration": 267,
    "start_time": "2021-07-12T21:57:52.888Z"
   },
   {
    "duration": 259,
    "start_time": "2021-07-12T21:57:53.156Z"
   },
   {
    "duration": 337,
    "start_time": "2021-07-12T21:57:53.417Z"
   },
   {
    "duration": 3,
    "start_time": "2021-07-12T21:57:53.756Z"
   },
   {
    "duration": 7,
    "start_time": "2021-07-12T21:57:53.761Z"
   },
   {
    "duration": 43,
    "start_time": "2021-07-12T21:57:53.785Z"
   },
   {
    "duration": 7,
    "start_time": "2021-07-12T21:57:53.830Z"
   },
   {
    "duration": 291,
    "start_time": "2021-07-12T21:57:53.839Z"
   },
   {
    "duration": 60,
    "start_time": "2021-07-12T22:06:13.545Z"
   },
   {
    "duration": 57,
    "start_time": "2021-07-12T22:07:01.847Z"
   },
   {
    "duration": 1361,
    "start_time": "2021-07-12T22:11:17.011Z"
   },
   {
    "duration": 16,
    "start_time": "2021-07-12T22:11:18.375Z"
   },
   {
    "duration": 131,
    "start_time": "2021-07-12T22:11:18.395Z"
   },
   {
    "duration": 24,
    "start_time": "2021-07-12T22:11:18.528Z"
   },
   {
    "duration": 31,
    "start_time": "2021-07-12T22:11:18.554Z"
   },
   {
    "duration": 52,
    "start_time": "2021-07-12T22:11:18.586Z"
   },
   {
    "duration": 17,
    "start_time": "2021-07-12T22:11:18.640Z"
   },
   {
    "duration": 57,
    "start_time": "2021-07-12T22:11:18.659Z"
   },
   {
    "duration": 103,
    "start_time": "2021-07-12T22:11:18.718Z"
   },
   {
    "duration": 18,
    "start_time": "2021-07-12T22:11:18.823Z"
   },
   {
    "duration": 15,
    "start_time": "2021-07-12T22:11:18.843Z"
   },
   {
    "duration": 60,
    "start_time": "2021-07-12T22:11:18.860Z"
   },
   {
    "duration": 15,
    "start_time": "2021-07-12T22:11:18.922Z"
   },
   {
    "duration": 55,
    "start_time": "2021-07-12T22:11:18.939Z"
   },
   {
    "duration": 48,
    "start_time": "2021-07-12T22:11:18.996Z"
   },
   {
    "duration": 60,
    "start_time": "2021-07-12T22:11:19.047Z"
   },
   {
    "duration": 11,
    "start_time": "2021-07-12T22:11:19.109Z"
   },
   {
    "duration": 22,
    "start_time": "2021-07-12T22:11:19.122Z"
   },
   {
    "duration": 4,
    "start_time": "2021-07-12T22:11:19.145Z"
   },
   {
    "duration": 40,
    "start_time": "2021-07-12T22:11:19.151Z"
   },
   {
    "duration": 21,
    "start_time": "2021-07-12T22:11:19.193Z"
   },
   {
    "duration": 4,
    "start_time": "2021-07-12T22:11:19.217Z"
   },
   {
    "duration": 7,
    "start_time": "2021-07-12T22:11:19.223Z"
   },
   {
    "duration": 739,
    "start_time": "2021-07-12T22:11:19.231Z"
   },
   {
    "duration": 18,
    "start_time": "2021-07-12T22:11:19.972Z"
   },
   {
    "duration": 9,
    "start_time": "2021-07-12T22:11:19.993Z"
   },
   {
    "duration": 11,
    "start_time": "2021-07-12T22:11:20.004Z"
   },
   {
    "duration": 1711,
    "start_time": "2021-07-12T22:11:20.017Z"
   },
   {
    "duration": 17,
    "start_time": "2021-07-12T22:11:21.730Z"
   },
   {
    "duration": 37,
    "start_time": "2021-07-12T22:11:21.750Z"
   },
   {
    "duration": 10,
    "start_time": "2021-07-12T22:11:21.789Z"
   },
   {
    "duration": 276,
    "start_time": "2021-07-12T22:11:21.801Z"
   },
   {
    "duration": 258,
    "start_time": "2021-07-12T22:11:22.079Z"
   },
   {
    "duration": 262,
    "start_time": "2021-07-12T22:11:22.339Z"
   },
   {
    "duration": 249,
    "start_time": "2021-07-12T22:11:22.603Z"
   },
   {
    "duration": 276,
    "start_time": "2021-07-12T22:11:22.853Z"
   },
   {
    "duration": 278,
    "start_time": "2021-07-12T22:11:23.130Z"
   },
   {
    "duration": 346,
    "start_time": "2021-07-12T22:11:23.410Z"
   },
   {
    "duration": 4,
    "start_time": "2021-07-12T22:11:23.758Z"
   },
   {
    "duration": 22,
    "start_time": "2021-07-12T22:11:23.763Z"
   },
   {
    "duration": 46,
    "start_time": "2021-07-12T22:11:23.786Z"
   },
   {
    "duration": 10,
    "start_time": "2021-07-12T22:11:23.833Z"
   },
   {
    "duration": 314,
    "start_time": "2021-07-12T22:11:23.844Z"
   },
   {
    "duration": 5,
    "start_time": "2021-07-12T22:23:51.677Z"
   },
   {
    "duration": 1398,
    "start_time": "2021-07-12T22:25:30.849Z"
   },
   {
    "duration": 17,
    "start_time": "2021-07-12T22:25:32.250Z"
   },
   {
    "duration": 124,
    "start_time": "2021-07-12T22:25:32.269Z"
   },
   {
    "duration": 26,
    "start_time": "2021-07-12T22:25:32.396Z"
   },
   {
    "duration": 14,
    "start_time": "2021-07-12T22:25:32.423Z"
   },
   {
    "duration": 77,
    "start_time": "2021-07-12T22:25:32.439Z"
   },
   {
    "duration": 16,
    "start_time": "2021-07-12T22:25:32.518Z"
   },
   {
    "duration": 56,
    "start_time": "2021-07-12T22:25:32.536Z"
   },
   {
    "duration": 91,
    "start_time": "2021-07-12T22:25:32.594Z"
   },
   {
    "duration": 17,
    "start_time": "2021-07-12T22:25:32.687Z"
   },
   {
    "duration": 13,
    "start_time": "2021-07-12T22:25:32.706Z"
   },
   {
    "duration": 65,
    "start_time": "2021-07-12T22:25:32.721Z"
   },
   {
    "duration": 14,
    "start_time": "2021-07-12T22:25:32.788Z"
   },
   {
    "duration": 25,
    "start_time": "2021-07-12T22:25:32.803Z"
   },
   {
    "duration": 72,
    "start_time": "2021-07-12T22:25:32.829Z"
   },
   {
    "duration": 33,
    "start_time": "2021-07-12T22:25:32.903Z"
   },
   {
    "duration": 10,
    "start_time": "2021-07-12T22:25:32.938Z"
   },
   {
    "duration": 51,
    "start_time": "2021-07-12T22:25:32.949Z"
   },
   {
    "duration": 4,
    "start_time": "2021-07-12T22:25:33.002Z"
   },
   {
    "duration": 12,
    "start_time": "2021-07-12T22:25:33.007Z"
   },
   {
    "duration": 19,
    "start_time": "2021-07-12T22:25:33.021Z"
   },
   {
    "duration": 43,
    "start_time": "2021-07-12T22:25:33.042Z"
   },
   {
    "duration": 729,
    "start_time": "2021-07-12T22:25:33.090Z"
   },
   {
    "duration": 9,
    "start_time": "2021-07-12T22:25:33.821Z"
   },
   {
    "duration": 9,
    "start_time": "2021-07-12T22:25:33.832Z"
   },
   {
    "duration": 43,
    "start_time": "2021-07-12T22:25:33.843Z"
   },
   {
    "duration": 1804,
    "start_time": "2021-07-12T22:25:33.887Z"
   },
   {
    "duration": 12,
    "start_time": "2021-07-12T22:25:35.692Z"
   },
   {
    "duration": 10,
    "start_time": "2021-07-12T22:25:35.706Z"
   },
   {
    "duration": 12,
    "start_time": "2021-07-12T22:25:35.718Z"
   },
   {
    "duration": 308,
    "start_time": "2021-07-12T22:25:35.731Z"
   },
   {
    "duration": 280,
    "start_time": "2021-07-12T22:25:36.041Z"
   },
   {
    "duration": 265,
    "start_time": "2021-07-12T22:25:36.323Z"
   },
   {
    "duration": 242,
    "start_time": "2021-07-12T22:25:36.589Z"
   },
   {
    "duration": 260,
    "start_time": "2021-07-12T22:25:36.833Z"
   },
   {
    "duration": 251,
    "start_time": "2021-07-12T22:25:37.094Z"
   },
   {
    "duration": 343,
    "start_time": "2021-07-12T22:25:37.346Z"
   },
   {
    "duration": 4,
    "start_time": "2021-07-12T22:25:37.691Z"
   },
   {
    "duration": 7,
    "start_time": "2021-07-12T22:25:37.696Z"
   },
   {
    "duration": 44,
    "start_time": "2021-07-12T22:25:37.704Z"
   },
   {
    "duration": 36,
    "start_time": "2021-07-12T22:25:37.750Z"
   },
   {
    "duration": 275,
    "start_time": "2021-07-12T22:25:37.787Z"
   },
   {
    "duration": 262,
    "start_time": "2021-07-12T22:29:33.618Z"
   },
   {
    "duration": 305,
    "start_time": "2021-07-12T22:32:16.991Z"
   },
   {
    "duration": 266,
    "start_time": "2021-07-12T22:39:03.668Z"
   },
   {
    "duration": 265,
    "start_time": "2021-07-12T22:43:11.708Z"
   },
   {
    "duration": 259,
    "start_time": "2021-07-12T22:47:29.644Z"
   },
   {
    "duration": 269,
    "start_time": "2021-07-12T22:51:21.499Z"
   },
   {
    "duration": 273,
    "start_time": "2021-07-12T22:51:44.234Z"
   },
   {
    "duration": 346,
    "start_time": "2021-07-12T22:57:53.197Z"
   },
   {
    "duration": 258,
    "start_time": "2021-07-12T23:22:37.528Z"
   },
   {
    "duration": 1880,
    "start_time": "2021-07-13T19:14:02.404Z"
   },
   {
    "duration": 18,
    "start_time": "2021-07-13T19:14:04.287Z"
   },
   {
    "duration": 169,
    "start_time": "2021-07-13T19:14:04.308Z"
   },
   {
    "duration": 31,
    "start_time": "2021-07-13T19:14:04.480Z"
   },
   {
    "duration": 17,
    "start_time": "2021-07-13T19:14:04.514Z"
   },
   {
    "duration": 97,
    "start_time": "2021-07-13T19:14:04.533Z"
   },
   {
    "duration": 33,
    "start_time": "2021-07-13T19:14:04.632Z"
   },
   {
    "duration": 48,
    "start_time": "2021-07-13T19:14:04.669Z"
   },
   {
    "duration": 177,
    "start_time": "2021-07-13T19:14:04.720Z"
   },
   {
    "duration": 22,
    "start_time": "2021-07-13T19:14:04.900Z"
   },
   {
    "duration": 38,
    "start_time": "2021-07-13T19:14:04.924Z"
   },
   {
    "duration": 53,
    "start_time": "2021-07-13T19:14:04.965Z"
   },
   {
    "duration": 17,
    "start_time": "2021-07-13T19:14:05.020Z"
   },
   {
    "duration": 35,
    "start_time": "2021-07-13T19:14:05.063Z"
   },
   {
    "duration": 94,
    "start_time": "2021-07-13T19:14:05.101Z"
   },
   {
    "duration": 49,
    "start_time": "2021-07-13T19:14:05.198Z"
   },
   {
    "duration": 16,
    "start_time": "2021-07-13T19:14:05.262Z"
   },
   {
    "duration": 31,
    "start_time": "2021-07-13T19:14:05.280Z"
   },
   {
    "duration": 5,
    "start_time": "2021-07-13T19:14:05.313Z"
   },
   {
    "duration": 55,
    "start_time": "2021-07-13T19:14:05.320Z"
   },
   {
    "duration": 42,
    "start_time": "2021-07-13T19:14:05.378Z"
   },
   {
    "duration": 6,
    "start_time": "2021-07-13T19:14:05.423Z"
   },
   {
    "duration": 1472,
    "start_time": "2021-07-13T19:14:05.466Z"
   },
   {
    "duration": 24,
    "start_time": "2021-07-13T19:14:06.941Z"
   },
   {
    "duration": 33,
    "start_time": "2021-07-13T19:14:06.968Z"
   },
   {
    "duration": 20,
    "start_time": "2021-07-13T19:14:07.004Z"
   },
   {
    "duration": 3872,
    "start_time": "2021-07-13T19:14:07.027Z"
   },
   {
    "duration": 17,
    "start_time": "2021-07-13T19:14:10.901Z"
   },
   {
    "duration": 13,
    "start_time": "2021-07-13T19:14:10.921Z"
   },
   {
    "duration": 15,
    "start_time": "2021-07-13T19:14:10.963Z"
   },
   {
    "duration": 498,
    "start_time": "2021-07-13T19:14:10.981Z"
   },
   {
    "duration": 557,
    "start_time": "2021-07-13T19:14:11.482Z"
   },
   {
    "duration": 577,
    "start_time": "2021-07-13T19:14:12.042Z"
   },
   {
    "duration": 447,
    "start_time": "2021-07-13T19:14:12.621Z"
   },
   {
    "duration": 479,
    "start_time": "2021-07-13T19:14:13.071Z"
   },
   {
    "duration": 463,
    "start_time": "2021-07-13T19:14:13.552Z"
   },
   {
    "duration": 706,
    "start_time": "2021-07-13T19:14:14.018Z"
   },
   {
    "duration": 5,
    "start_time": "2021-07-13T19:14:14.727Z"
   },
   {
    "duration": 27,
    "start_time": "2021-07-13T19:14:14.735Z"
   },
   {
    "duration": 77,
    "start_time": "2021-07-13T19:14:14.765Z"
   },
   {
    "duration": 11,
    "start_time": "2021-07-13T19:14:14.863Z"
   },
   {
    "duration": 492,
    "start_time": "2021-07-13T19:14:14.877Z"
   },
   {
    "duration": 470,
    "start_time": "2021-07-13T19:27:46.626Z"
   },
   {
    "duration": 6,
    "start_time": "2021-07-13T19:28:04.691Z"
   },
   {
    "duration": 366,
    "start_time": "2021-07-13T19:28:20.183Z"
   },
   {
    "duration": 22,
    "start_time": "2021-07-13T19:28:28.486Z"
   },
   {
    "duration": 321,
    "start_time": "2021-07-13T19:47:52.156Z"
   },
   {
    "duration": 16,
    "start_time": "2021-07-13T19:47:56.741Z"
   }
  ],
  "kernelspec": {
   "display_name": "Python 3",
   "language": "python",
   "name": "python3"
  },
  "language_info": {
   "codemirror_mode": {
    "name": "ipython",
    "version": 3
   },
   "file_extension": ".py",
   "mimetype": "text/x-python",
   "name": "python",
   "nbconvert_exporter": "python",
   "pygments_lexer": "ipython3",
   "version": "3.8.8"
  },
  "toc": {
   "base_numbering": 1,
   "nav_menu": {},
   "number_sections": true,
   "sideBar": true,
   "skip_h1_title": true,
   "title_cell": "Table of Contents",
   "title_sidebar": "Contents",
   "toc_cell": false,
   "toc_position": {},
   "toc_section_display": true,
   "toc_window_display": false
  }
 },
 "nbformat": 4,
 "nbformat_minor": 2
}
